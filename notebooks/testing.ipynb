{
 "cells": [
  {
   "cell_type": "code",
   "execution_count": 1,
   "metadata": {},
   "outputs": [],
   "source": [
    "%load_ext autoreload\n",
    "%reload_ext autoreload"
   ]
  },
  {
   "cell_type": "code",
   "execution_count": 2,
   "metadata": {},
   "outputs": [
    {
     "name": "stdout",
     "output_type": "stream",
     "text": [
      "Team #93 (0-0) \n",
      " Lineup: \n",
      "\t Stanley Eisenberg (#9)\n",
      "\tMark Carwell (#74)\n",
      "\tJames Blankenship (#51)\n",
      "\tAlonzo Tanksley (#89)\n",
      "\tHarold Coleman (#12)\n",
      "\tJames Lewis (#83)\n",
      "\tPeter Hughes (#51)\n",
      "\tMatthew Floyd (#24)\n",
      "\tWilliam Gibson (#38)\n"
     ]
    }
   ],
   "source": [
    "import os, sys\n",
    "curPath = os.path.abspath('')\n",
    "for i in range(1):\n",
    "    curPath = os.path.join(curPath, \"..\")\n",
    "    sys.path.append(curPath)\n",
    "\n",
    "from src.util.generation import generate_team, generate_league, generate_pitch\n",
    "import plotly.express as px\n",
    "import pandas as pd\n",
    "from src.analysis.pitch_data import Pitch_Data\n",
    "from src.util.logic.pitch_logic import PitchLogic\n",
    "\n",
    "\n",
    "a = generate_team()\n",
    "\n",
    "print(str(a))"
   ]
  },
  {
   "cell_type": "code",
   "execution_count": 3,
   "metadata": {},
   "outputs": [],
   "source": [
    "pitch_dict = []\n",
    "pitch_hitability_dict = []\n",
    "for i in range(0, 1000):\n",
    "    pitch = generate_pitch()\n",
    "    hitability_obj = PitchLogic()\n",
    "    hitability = hitability_obj.calculate_hitability(pitch, hit_odds_calculator=.25)\n",
    "    pitch = hitability_obj.get_outcome(pitch)\n",
    "    pitch = pitch.__dict__\n",
    "    pitch[\"hitability\"] = hitability\n",
    "    pitch_dict.append(pitch)\n",
    "\n",
    "df = pd.DataFrame(pitch_dict)\n"
   ]
  },
  {
   "cell_type": "code",
   "execution_count": 4,
   "metadata": {},
   "outputs": [
    {
     "data": {
      "text/html": [
       "<div>\n",
       "<style scoped>\n",
       "    .dataframe tbody tr th:only-of-type {\n",
       "        vertical-align: middle;\n",
       "    }\n",
       "\n",
       "    .dataframe tbody tr th {\n",
       "        vertical-align: top;\n",
       "    }\n",
       "\n",
       "    .dataframe thead th {\n",
       "        text-align: right;\n",
       "    }\n",
       "</style>\n",
       "<table border=\"1\" class=\"dataframe\">\n",
       "  <thead>\n",
       "    <tr style=\"text-align: right;\">\n",
       "      <th></th>\n",
       "      <th>pitch_x</th>\n",
       "      <th>pitch_y</th>\n",
       "      <th>pitch_type</th>\n",
       "      <th>outcome</th>\n",
       "      <th>hitability</th>\n",
       "    </tr>\n",
       "  </thead>\n",
       "  <tbody>\n",
       "    <tr>\n",
       "      <th>0</th>\n",
       "      <td>1.475804</td>\n",
       "      <td>1.019047</td>\n",
       "      <td>fb</td>\n",
       "      <td>Ball</td>\n",
       "      <td>0.200242</td>\n",
       "    </tr>\n",
       "    <tr>\n",
       "      <th>1</th>\n",
       "      <td>1.442142</td>\n",
       "      <td>-0.306422</td>\n",
       "      <td>chcur</td>\n",
       "      <td>Ball</td>\n",
       "      <td>0.337283</td>\n",
       "    </tr>\n",
       "    <tr>\n",
       "      <th>2</th>\n",
       "      <td>-0.991491</td>\n",
       "      <td>-1.972582</td>\n",
       "      <td>fb</td>\n",
       "      <td>Ball</td>\n",
       "      <td>0.087417</td>\n",
       "    </tr>\n",
       "    <tr>\n",
       "      <th>3</th>\n",
       "      <td>-0.403254</td>\n",
       "      <td>0.213861</td>\n",
       "      <td>chcur</td>\n",
       "      <td>Strike</td>\n",
       "      <td>0.901067</td>\n",
       "    </tr>\n",
       "    <tr>\n",
       "      <th>4</th>\n",
       "      <td>0.547236</td>\n",
       "      <td>-0.790501</td>\n",
       "      <td>chcur</td>\n",
       "      <td>Strike</td>\n",
       "      <td>0.629909</td>\n",
       "    </tr>\n",
       "  </tbody>\n",
       "</table>\n",
       "</div>"
      ],
      "text/plain": [
       "    pitch_x   pitch_y pitch_type outcome  hitability\n",
       "0  1.475804  1.019047         fb    Ball    0.200242\n",
       "1  1.442142 -0.306422      chcur    Ball    0.337283\n",
       "2 -0.991491 -1.972582         fb    Ball    0.087417\n",
       "3 -0.403254  0.213861      chcur  Strike    0.901067\n",
       "4  0.547236 -0.790501      chcur  Strike    0.629909"
      ]
     },
     "execution_count": 4,
     "metadata": {},
     "output_type": "execute_result"
    }
   ],
   "source": [
    "pitch_data = Pitch_Data(df)\n",
    "df.head()"
   ]
  },
  {
   "cell_type": "code",
   "execution_count": 5,
   "metadata": {},
   "outputs": [
    {
     "data": {
      "application/vnd.plotly.v1+json": {
       "config": {
        "plotlyServerURL": "https://plot.ly"
       },
       "data": [
        {
         "alignmentgroup": "True",
         "bingroup": "x",
         "hovertemplate": "variable=outcome<br>value=%{x}<br>count=%{y}<extra></extra>",
         "legendgroup": "outcome",
         "marker": {
          "color": "#636efa",
          "pattern": {
           "shape": ""
          }
         },
         "name": "outcome",
         "offsetgroup": "outcome",
         "orientation": "v",
         "showlegend": true,
         "type": "histogram",
         "x": [
          "Ball",
          "Ball",
          "Ball",
          "Strike",
          "Strike",
          "Strike",
          "Ball",
          "Strike",
          "Strike",
          "Ball",
          "Strike",
          "Ball",
          "Ball",
          "Ball",
          "Ball",
          "Ball",
          "Strike",
          "Strike",
          "Ball",
          "Ball",
          "Strike",
          "Strike",
          "Strike",
          "Strike",
          "Ball",
          "Strike",
          "Strike",
          "Strike",
          "Ball",
          "Ball",
          "Ball",
          "Strike",
          "Strike",
          "Strike",
          "Strike",
          "Ball",
          "Ball",
          "Ball",
          "Ball",
          "Ball",
          "Ball",
          "Strike",
          "Strike",
          "Ball",
          "Strike",
          "Ball",
          "Strike",
          "Ball",
          "Ball",
          "Strike",
          "Ball",
          "Strike",
          "Ball",
          "Strike",
          "Ball",
          "Strike",
          "Ball",
          "Ball",
          "Ball",
          "Ball",
          "Strike",
          "Ball",
          "Ball",
          "Ball",
          "Strike",
          "Ball",
          "Ball",
          "Strike",
          "Strike",
          "Strike",
          "Ball",
          "Strike",
          "Ball",
          "Ball",
          "Ball",
          "Ball",
          "Strike",
          "Ball",
          "Strike",
          "Strike",
          "Ball",
          "Strike",
          "Ball",
          "Strike",
          "Ball",
          "Ball",
          "Ball",
          "Strike",
          "Strike",
          "Ball",
          "Ball",
          "Strike",
          "Ball",
          "Ball",
          "Ball",
          "Ball",
          "Strike",
          "Ball",
          "Ball",
          "Strike",
          "Strike",
          "Ball",
          "Ball",
          "Ball",
          "Strike",
          "Ball",
          "Ball",
          "Ball",
          "Strike",
          "Ball",
          "Strike",
          "Strike",
          "Ball",
          "Ball",
          "Strike",
          "Strike",
          "Ball",
          "Strike",
          "Ball",
          "Strike",
          "Strike",
          "Strike",
          "Strike",
          "Strike",
          "Strike",
          "Strike",
          "Strike",
          "Ball",
          "Strike",
          "Ball",
          "Strike",
          "Ball",
          "Strike",
          "Ball",
          "Strike",
          "Strike",
          "Strike",
          "Strike",
          "Strike",
          "Ball",
          "Ball",
          "Strike",
          "Strike",
          "Ball",
          "Ball",
          "Ball",
          "Ball",
          "Strike",
          "Strike",
          "Strike",
          "Strike",
          "Ball",
          "Ball",
          "Strike",
          "Strike",
          "Strike",
          "Strike",
          "Strike",
          "Ball",
          "Ball",
          "Strike",
          "Ball",
          "Strike",
          "Strike",
          "Ball",
          "Strike",
          "Ball",
          "Strike",
          "Ball",
          "Strike",
          "Ball",
          "Strike",
          "Ball",
          "Ball",
          "Strike",
          "Ball",
          "Ball",
          "Ball",
          "Ball",
          "Ball",
          "Ball",
          "Strike",
          "Ball",
          "Strike",
          "Strike",
          "Strike",
          "Ball",
          "Ball",
          "Strike",
          "Ball",
          "Strike",
          "Strike",
          "Ball",
          "Ball",
          "Strike",
          "Ball",
          "Ball",
          "Ball",
          "Ball",
          "Strike",
          "Strike",
          "Strike",
          "Strike",
          "Ball",
          "Strike",
          "Ball",
          "Strike",
          "Strike",
          "Strike",
          "Ball",
          "Ball",
          "Ball",
          "Ball",
          "Ball",
          "Ball",
          "Strike",
          "Ball",
          "Ball",
          "Ball",
          "Strike",
          "Ball",
          "Ball",
          "Strike",
          "Ball",
          "Strike",
          "Strike",
          "Strike",
          "Strike",
          "Strike",
          "Strike",
          "Ball",
          "Strike",
          "Ball",
          "Strike",
          "Ball",
          "Strike",
          "Ball",
          "Ball",
          "Strike",
          "Strike",
          "Ball",
          "Ball",
          "Ball",
          "Strike",
          "Strike",
          "Strike",
          "Strike",
          "Strike",
          "Ball",
          "Ball",
          "Ball",
          "Ball",
          "Ball",
          "Strike",
          "Strike",
          "Strike",
          "Ball",
          "Strike",
          "Strike",
          "Strike",
          "Strike",
          "Strike",
          "Strike",
          "Strike",
          "Strike",
          "Strike",
          "Ball",
          "Strike",
          "Strike",
          "Strike",
          "Strike",
          "Ball",
          "Ball",
          "Strike",
          "Strike",
          "Ball",
          "Strike",
          "Ball",
          "Strike",
          "Ball",
          "Strike",
          "Ball",
          "Strike",
          "Strike",
          "Strike",
          "Ball",
          "Strike",
          "Ball",
          "Strike",
          "Strike",
          "Strike",
          "Strike",
          "Ball",
          "Ball",
          "Strike",
          "Strike",
          "Ball",
          "Ball",
          "Ball",
          "Ball",
          "Ball",
          "Strike",
          "Ball",
          "Strike",
          "Strike",
          "Ball",
          "Strike",
          "Strike",
          "Ball",
          "Strike",
          "Strike",
          "Ball",
          "Strike",
          "Ball",
          "Strike",
          "Ball",
          "Ball",
          "Strike",
          "Ball",
          "Ball",
          "Ball",
          "Ball",
          "Strike",
          "Strike",
          "Strike",
          "Strike",
          "Ball",
          "Strike",
          "Strike",
          "Strike",
          "Strike",
          "Ball",
          "Ball",
          "Ball",
          "Strike",
          "Ball",
          "Ball",
          "Strike",
          "Ball",
          "Ball",
          "Strike",
          "Ball",
          "Strike",
          "Strike",
          "Ball",
          "Strike",
          "Strike",
          "Ball",
          "Strike",
          "Ball",
          "Ball",
          "Strike",
          "Strike",
          "Strike",
          "Strike",
          "Strike",
          "Ball",
          "Ball",
          "Ball",
          "Strike",
          "Strike",
          "Strike",
          "Strike",
          "Ball",
          "Strike",
          "Ball",
          "Strike",
          "Strike",
          "Ball",
          "Ball",
          "Ball",
          "Ball",
          "Strike",
          "Ball",
          "Ball",
          "Strike",
          "Strike",
          "Ball",
          "Ball",
          "Ball",
          "Strike",
          "Ball",
          "Strike",
          "Ball",
          "Strike",
          "Ball",
          "Strike",
          "Strike",
          "Strike",
          "Ball",
          "Strike",
          "Ball",
          "Strike",
          "Ball",
          "Ball",
          "Ball",
          "Ball",
          "Strike",
          "Ball",
          "Strike",
          "Ball",
          "Strike",
          "Strike",
          "Ball",
          "Strike",
          "Strike",
          "Strike",
          "Strike",
          "Strike",
          "Strike",
          "Strike",
          "Ball",
          "Ball",
          "Strike",
          "Ball",
          "Strike",
          "Strike",
          "Strike",
          "Ball",
          "Ball",
          "Ball",
          "Ball",
          "Strike",
          "Ball",
          "Ball",
          "Ball",
          "Ball",
          "Strike",
          "Ball",
          "Strike",
          "Ball",
          "Ball",
          "Strike",
          "Ball",
          "Ball",
          "Ball",
          "Ball",
          "Strike",
          "Ball",
          "Strike",
          "Strike",
          "Ball",
          "Ball",
          "Strike",
          "Strike",
          "Strike",
          "Strike",
          "Strike",
          "Strike",
          "Strike",
          "Ball",
          "Strike",
          "Strike",
          "Strike",
          "Strike",
          "Strike",
          "Strike",
          "Strike",
          "Strike",
          "Ball",
          "Ball",
          "Ball",
          "Ball",
          "Ball",
          "Strike",
          "Ball",
          "Strike",
          "Strike",
          "Ball",
          "Strike",
          "Strike",
          "Strike",
          "Ball",
          "Strike",
          "Strike",
          "Strike",
          "Ball",
          "Strike",
          "Ball",
          "Ball",
          "Strike",
          "Ball",
          "Strike",
          "Strike",
          "Ball",
          "Ball",
          "Strike",
          "Ball",
          "Strike",
          "Ball",
          "Ball",
          "Ball",
          "Strike",
          "Ball",
          "Strike",
          "Strike",
          "Strike",
          "Ball",
          "Ball",
          "Ball",
          "Strike",
          "Ball",
          "Ball",
          "Strike",
          "Strike",
          "Strike",
          "Strike",
          "Strike",
          "Ball",
          "Strike",
          "Ball",
          "Ball",
          "Ball",
          "Strike",
          "Strike",
          "Ball",
          "Strike",
          "Strike",
          "Strike",
          "Ball",
          "Ball",
          "Strike",
          "Strike",
          "Strike",
          "Strike",
          "Strike",
          "Strike",
          "Strike",
          "Strike",
          "Ball",
          "Ball",
          "Ball",
          "Ball",
          "Strike",
          "Strike",
          "Strike",
          "Strike",
          "Strike",
          "Strike",
          "Strike",
          "Strike",
          "Strike",
          "Strike",
          "Strike",
          "Strike",
          "Strike",
          "Ball",
          "Ball",
          "Strike",
          "Ball",
          "Ball",
          "Strike",
          "Strike",
          "Ball",
          "Strike",
          "Ball",
          "Strike",
          "Strike",
          "Ball",
          "Ball",
          "Strike",
          "Strike",
          "Strike",
          "Strike",
          "Strike",
          "Ball",
          "Ball",
          "Strike",
          "Ball",
          "Strike",
          "Ball",
          "Ball",
          "Ball",
          "Strike",
          "Ball",
          "Ball",
          "Strike",
          "Strike",
          "Strike",
          "Strike",
          "Ball",
          "Ball",
          "Strike",
          "Strike",
          "Ball",
          "Ball",
          "Ball",
          "Strike",
          "Ball",
          "Strike",
          "Strike",
          "Strike",
          "Strike",
          "Strike",
          "Strike",
          "Ball",
          "Ball",
          "Strike",
          "Strike",
          "Ball",
          "Strike",
          "Ball",
          "Strike",
          "Strike",
          "Strike",
          "Strike",
          "Strike",
          "Strike",
          "Strike",
          "Strike",
          "Ball",
          "Strike",
          "Ball",
          "Strike",
          "Strike",
          "Ball",
          "Ball",
          "Strike",
          "Strike",
          "Strike",
          "Strike",
          "Ball",
          "Ball",
          "Strike",
          "Strike",
          "Strike",
          "Strike",
          "Strike",
          "Ball",
          "Strike",
          "Strike",
          "Strike",
          "Strike",
          "Strike",
          "Strike",
          "Ball",
          "Strike",
          "Strike",
          "Strike",
          "Strike",
          "Ball",
          "Strike",
          "Ball",
          "Strike",
          "Strike",
          "Strike",
          "Strike",
          "Ball",
          "Ball",
          "Strike",
          "Ball",
          "Strike",
          "Strike",
          "Ball",
          "Ball",
          "Ball",
          "Strike",
          "Ball",
          "Strike",
          "Strike",
          "Strike",
          "Ball",
          "Ball",
          "Ball",
          "Ball",
          "Strike",
          "Ball",
          "Strike",
          "Strike",
          "Ball",
          "Strike",
          "Ball",
          "Strike",
          "Strike",
          "Ball",
          "Ball",
          "Ball",
          "Strike",
          "Strike",
          "Ball",
          "Ball",
          "Strike",
          "Strike",
          "Ball",
          "Strike",
          "Strike",
          "Strike",
          "Strike",
          "Strike",
          "Ball",
          "Strike",
          "Ball",
          "Ball",
          "Ball",
          "Ball",
          "Ball",
          "Ball",
          "Ball",
          "Strike",
          "Ball",
          "Ball",
          "Ball",
          "Strike",
          "Strike",
          "Strike",
          "Strike",
          "Strike",
          "Strike",
          "Ball",
          "Ball",
          "Ball",
          "Strike",
          "Strike",
          "Ball",
          "Ball",
          "Strike",
          "Strike",
          "Strike",
          "Ball",
          "Ball",
          "Strike",
          "Strike",
          "Ball",
          "Strike",
          "Strike",
          "Strike",
          "Strike",
          "Strike",
          "Ball",
          "Strike",
          "Ball",
          "Strike",
          "Ball",
          "Ball",
          "Strike",
          "Strike",
          "Strike",
          "Ball",
          "Strike",
          "Strike",
          "Strike",
          "Ball",
          "Ball",
          "Strike",
          "Ball",
          "Strike",
          "Strike",
          "Strike",
          "Strike",
          "Strike",
          "Strike",
          "Strike",
          "Strike",
          "Ball",
          "Strike",
          "Strike",
          "Strike",
          "Strike",
          "Ball",
          "Strike",
          "Ball",
          "Strike",
          "Strike",
          "Strike",
          "Ball",
          "Strike",
          "Strike",
          "Ball",
          "Strike",
          "Strike",
          "Ball",
          "Strike",
          "Ball",
          "Strike",
          "Strike",
          "Strike",
          "Strike",
          "Ball",
          "Ball",
          "Strike",
          "Ball",
          "Strike",
          "Ball",
          "Ball",
          "Ball",
          "Ball",
          "Strike",
          "Strike",
          "Ball",
          "Strike",
          "Strike",
          "Strike",
          "Strike",
          "Strike",
          "Strike",
          "Strike",
          "Strike",
          "Ball",
          "Strike",
          "Strike",
          "Ball",
          "Ball",
          "Ball",
          "Strike",
          "Strike",
          "Strike",
          "Strike",
          "Strike",
          "Ball",
          "Ball",
          "Ball",
          "Strike",
          "Strike",
          "Strike",
          "Ball",
          "Strike",
          "Ball",
          "Strike",
          "Strike",
          "Strike",
          "Ball",
          "Strike",
          "Strike",
          "Ball",
          "Ball",
          "Strike",
          "Ball",
          "Ball",
          "Strike",
          "Ball",
          "Ball",
          "Ball",
          "Strike",
          "Ball",
          "Strike",
          "Strike",
          "Ball",
          "Strike",
          "Strike",
          "Strike",
          "Strike",
          "Strike",
          "Strike",
          "Strike",
          "Strike",
          "Ball",
          "Ball",
          "Ball",
          "Ball",
          "Strike",
          "Ball",
          "Ball",
          "Ball",
          "Strike",
          "Strike",
          "Strike",
          "Strike",
          "Ball",
          "Strike",
          "Strike",
          "Strike",
          "Strike",
          "Strike",
          "Ball",
          "Strike",
          "Strike",
          "Strike",
          "Ball",
          "Strike",
          "Strike",
          "Ball",
          "Strike",
          "Strike",
          "Ball",
          "Strike",
          "Ball",
          "Strike",
          "Ball",
          "Strike",
          "Strike",
          "Strike",
          "Strike",
          "Strike",
          "Ball",
          "Strike",
          "Ball",
          "Ball",
          "Strike",
          "Ball",
          "Strike",
          "Strike",
          "Strike",
          "Strike",
          "Strike",
          "Strike",
          "Strike",
          "Ball",
          "Ball",
          "Ball",
          "Ball",
          "Strike",
          "Strike",
          "Ball",
          "Strike",
          "Ball",
          "Strike",
          "Strike",
          "Strike",
          "Ball",
          "Strike",
          "Ball",
          "Ball",
          "Strike",
          "Ball",
          "Strike",
          "Strike",
          "Strike",
          "Ball",
          "Strike",
          "Ball",
          "Strike",
          "Strike",
          "Ball",
          "Strike",
          "Strike",
          "Strike",
          "Ball",
          "Strike",
          "Ball",
          "Ball",
          "Strike",
          "Strike",
          "Ball",
          "Strike",
          "Strike",
          "Ball",
          "Strike",
          "Strike",
          "Strike",
          "Ball",
          "Ball",
          "Strike",
          "Strike",
          "Strike",
          "Strike",
          "Strike",
          "Strike",
          "Ball",
          "Ball",
          "Ball",
          "Ball",
          "Ball",
          "Ball",
          "Strike",
          "Strike",
          "Ball",
          "Strike",
          "Strike",
          "Strike",
          "Ball",
          "Ball",
          "Ball",
          "Strike",
          "Strike",
          "Ball",
          "Ball",
          "Ball",
          "Strike",
          "Strike",
          "Strike",
          "Strike",
          "Strike",
          "Strike",
          "Ball",
          "Strike",
          "Ball",
          "Strike",
          "Ball",
          "Ball",
          "Strike",
          "Ball",
          "Ball",
          "Strike",
          "Strike",
          "Ball",
          "Strike",
          "Strike",
          "Ball",
          "Strike",
          "Strike",
          "Ball",
          "Strike",
          "Ball",
          "Strike",
          "Ball",
          "Strike",
          "Strike",
          "Strike",
          "Strike",
          "Ball"
         ],
         "xaxis": "x",
         "yaxis": "y"
        }
       ],
       "layout": {
        "barmode": "relative",
        "legend": {
         "title": {
          "text": "variable"
         },
         "tracegroupgap": 0
        },
        "template": {
         "data": {
          "bar": [
           {
            "error_x": {
             "color": "#2a3f5f"
            },
            "error_y": {
             "color": "#2a3f5f"
            },
            "marker": {
             "line": {
              "color": "#E5ECF6",
              "width": 0.5
             },
             "pattern": {
              "fillmode": "overlay",
              "size": 10,
              "solidity": 0.2
             }
            },
            "type": "bar"
           }
          ],
          "barpolar": [
           {
            "marker": {
             "line": {
              "color": "#E5ECF6",
              "width": 0.5
             },
             "pattern": {
              "fillmode": "overlay",
              "size": 10,
              "solidity": 0.2
             }
            },
            "type": "barpolar"
           }
          ],
          "carpet": [
           {
            "aaxis": {
             "endlinecolor": "#2a3f5f",
             "gridcolor": "white",
             "linecolor": "white",
             "minorgridcolor": "white",
             "startlinecolor": "#2a3f5f"
            },
            "baxis": {
             "endlinecolor": "#2a3f5f",
             "gridcolor": "white",
             "linecolor": "white",
             "minorgridcolor": "white",
             "startlinecolor": "#2a3f5f"
            },
            "type": "carpet"
           }
          ],
          "choropleth": [
           {
            "colorbar": {
             "outlinewidth": 0,
             "ticks": ""
            },
            "type": "choropleth"
           }
          ],
          "contour": [
           {
            "colorbar": {
             "outlinewidth": 0,
             "ticks": ""
            },
            "colorscale": [
             [
              0,
              "#0d0887"
             ],
             [
              0.1111111111111111,
              "#46039f"
             ],
             [
              0.2222222222222222,
              "#7201a8"
             ],
             [
              0.3333333333333333,
              "#9c179e"
             ],
             [
              0.4444444444444444,
              "#bd3786"
             ],
             [
              0.5555555555555556,
              "#d8576b"
             ],
             [
              0.6666666666666666,
              "#ed7953"
             ],
             [
              0.7777777777777778,
              "#fb9f3a"
             ],
             [
              0.8888888888888888,
              "#fdca26"
             ],
             [
              1,
              "#f0f921"
             ]
            ],
            "type": "contour"
           }
          ],
          "contourcarpet": [
           {
            "colorbar": {
             "outlinewidth": 0,
             "ticks": ""
            },
            "type": "contourcarpet"
           }
          ],
          "heatmap": [
           {
            "colorbar": {
             "outlinewidth": 0,
             "ticks": ""
            },
            "colorscale": [
             [
              0,
              "#0d0887"
             ],
             [
              0.1111111111111111,
              "#46039f"
             ],
             [
              0.2222222222222222,
              "#7201a8"
             ],
             [
              0.3333333333333333,
              "#9c179e"
             ],
             [
              0.4444444444444444,
              "#bd3786"
             ],
             [
              0.5555555555555556,
              "#d8576b"
             ],
             [
              0.6666666666666666,
              "#ed7953"
             ],
             [
              0.7777777777777778,
              "#fb9f3a"
             ],
             [
              0.8888888888888888,
              "#fdca26"
             ],
             [
              1,
              "#f0f921"
             ]
            ],
            "type": "heatmap"
           }
          ],
          "heatmapgl": [
           {
            "colorbar": {
             "outlinewidth": 0,
             "ticks": ""
            },
            "colorscale": [
             [
              0,
              "#0d0887"
             ],
             [
              0.1111111111111111,
              "#46039f"
             ],
             [
              0.2222222222222222,
              "#7201a8"
             ],
             [
              0.3333333333333333,
              "#9c179e"
             ],
             [
              0.4444444444444444,
              "#bd3786"
             ],
             [
              0.5555555555555556,
              "#d8576b"
             ],
             [
              0.6666666666666666,
              "#ed7953"
             ],
             [
              0.7777777777777778,
              "#fb9f3a"
             ],
             [
              0.8888888888888888,
              "#fdca26"
             ],
             [
              1,
              "#f0f921"
             ]
            ],
            "type": "heatmapgl"
           }
          ],
          "histogram": [
           {
            "marker": {
             "pattern": {
              "fillmode": "overlay",
              "size": 10,
              "solidity": 0.2
             }
            },
            "type": "histogram"
           }
          ],
          "histogram2d": [
           {
            "colorbar": {
             "outlinewidth": 0,
             "ticks": ""
            },
            "colorscale": [
             [
              0,
              "#0d0887"
             ],
             [
              0.1111111111111111,
              "#46039f"
             ],
             [
              0.2222222222222222,
              "#7201a8"
             ],
             [
              0.3333333333333333,
              "#9c179e"
             ],
             [
              0.4444444444444444,
              "#bd3786"
             ],
             [
              0.5555555555555556,
              "#d8576b"
             ],
             [
              0.6666666666666666,
              "#ed7953"
             ],
             [
              0.7777777777777778,
              "#fb9f3a"
             ],
             [
              0.8888888888888888,
              "#fdca26"
             ],
             [
              1,
              "#f0f921"
             ]
            ],
            "type": "histogram2d"
           }
          ],
          "histogram2dcontour": [
           {
            "colorbar": {
             "outlinewidth": 0,
             "ticks": ""
            },
            "colorscale": [
             [
              0,
              "#0d0887"
             ],
             [
              0.1111111111111111,
              "#46039f"
             ],
             [
              0.2222222222222222,
              "#7201a8"
             ],
             [
              0.3333333333333333,
              "#9c179e"
             ],
             [
              0.4444444444444444,
              "#bd3786"
             ],
             [
              0.5555555555555556,
              "#d8576b"
             ],
             [
              0.6666666666666666,
              "#ed7953"
             ],
             [
              0.7777777777777778,
              "#fb9f3a"
             ],
             [
              0.8888888888888888,
              "#fdca26"
             ],
             [
              1,
              "#f0f921"
             ]
            ],
            "type": "histogram2dcontour"
           }
          ],
          "mesh3d": [
           {
            "colorbar": {
             "outlinewidth": 0,
             "ticks": ""
            },
            "type": "mesh3d"
           }
          ],
          "parcoords": [
           {
            "line": {
             "colorbar": {
              "outlinewidth": 0,
              "ticks": ""
             }
            },
            "type": "parcoords"
           }
          ],
          "pie": [
           {
            "automargin": true,
            "type": "pie"
           }
          ],
          "scatter": [
           {
            "fillpattern": {
             "fillmode": "overlay",
             "size": 10,
             "solidity": 0.2
            },
            "type": "scatter"
           }
          ],
          "scatter3d": [
           {
            "line": {
             "colorbar": {
              "outlinewidth": 0,
              "ticks": ""
             }
            },
            "marker": {
             "colorbar": {
              "outlinewidth": 0,
              "ticks": ""
             }
            },
            "type": "scatter3d"
           }
          ],
          "scattercarpet": [
           {
            "marker": {
             "colorbar": {
              "outlinewidth": 0,
              "ticks": ""
             }
            },
            "type": "scattercarpet"
           }
          ],
          "scattergeo": [
           {
            "marker": {
             "colorbar": {
              "outlinewidth": 0,
              "ticks": ""
             }
            },
            "type": "scattergeo"
           }
          ],
          "scattergl": [
           {
            "marker": {
             "colorbar": {
              "outlinewidth": 0,
              "ticks": ""
             }
            },
            "type": "scattergl"
           }
          ],
          "scattermapbox": [
           {
            "marker": {
             "colorbar": {
              "outlinewidth": 0,
              "ticks": ""
             }
            },
            "type": "scattermapbox"
           }
          ],
          "scatterpolar": [
           {
            "marker": {
             "colorbar": {
              "outlinewidth": 0,
              "ticks": ""
             }
            },
            "type": "scatterpolar"
           }
          ],
          "scatterpolargl": [
           {
            "marker": {
             "colorbar": {
              "outlinewidth": 0,
              "ticks": ""
             }
            },
            "type": "scatterpolargl"
           }
          ],
          "scatterternary": [
           {
            "marker": {
             "colorbar": {
              "outlinewidth": 0,
              "ticks": ""
             }
            },
            "type": "scatterternary"
           }
          ],
          "surface": [
           {
            "colorbar": {
             "outlinewidth": 0,
             "ticks": ""
            },
            "colorscale": [
             [
              0,
              "#0d0887"
             ],
             [
              0.1111111111111111,
              "#46039f"
             ],
             [
              0.2222222222222222,
              "#7201a8"
             ],
             [
              0.3333333333333333,
              "#9c179e"
             ],
             [
              0.4444444444444444,
              "#bd3786"
             ],
             [
              0.5555555555555556,
              "#d8576b"
             ],
             [
              0.6666666666666666,
              "#ed7953"
             ],
             [
              0.7777777777777778,
              "#fb9f3a"
             ],
             [
              0.8888888888888888,
              "#fdca26"
             ],
             [
              1,
              "#f0f921"
             ]
            ],
            "type": "surface"
           }
          ],
          "table": [
           {
            "cells": {
             "fill": {
              "color": "#EBF0F8"
             },
             "line": {
              "color": "white"
             }
            },
            "header": {
             "fill": {
              "color": "#C8D4E3"
             },
             "line": {
              "color": "white"
             }
            },
            "type": "table"
           }
          ]
         },
         "layout": {
          "annotationdefaults": {
           "arrowcolor": "#2a3f5f",
           "arrowhead": 0,
           "arrowwidth": 1
          },
          "autotypenumbers": "strict",
          "coloraxis": {
           "colorbar": {
            "outlinewidth": 0,
            "ticks": ""
           }
          },
          "colorscale": {
           "diverging": [
            [
             0,
             "#8e0152"
            ],
            [
             0.1,
             "#c51b7d"
            ],
            [
             0.2,
             "#de77ae"
            ],
            [
             0.3,
             "#f1b6da"
            ],
            [
             0.4,
             "#fde0ef"
            ],
            [
             0.5,
             "#f7f7f7"
            ],
            [
             0.6,
             "#e6f5d0"
            ],
            [
             0.7,
             "#b8e186"
            ],
            [
             0.8,
             "#7fbc41"
            ],
            [
             0.9,
             "#4d9221"
            ],
            [
             1,
             "#276419"
            ]
           ],
           "sequential": [
            [
             0,
             "#0d0887"
            ],
            [
             0.1111111111111111,
             "#46039f"
            ],
            [
             0.2222222222222222,
             "#7201a8"
            ],
            [
             0.3333333333333333,
             "#9c179e"
            ],
            [
             0.4444444444444444,
             "#bd3786"
            ],
            [
             0.5555555555555556,
             "#d8576b"
            ],
            [
             0.6666666666666666,
             "#ed7953"
            ],
            [
             0.7777777777777778,
             "#fb9f3a"
            ],
            [
             0.8888888888888888,
             "#fdca26"
            ],
            [
             1,
             "#f0f921"
            ]
           ],
           "sequentialminus": [
            [
             0,
             "#0d0887"
            ],
            [
             0.1111111111111111,
             "#46039f"
            ],
            [
             0.2222222222222222,
             "#7201a8"
            ],
            [
             0.3333333333333333,
             "#9c179e"
            ],
            [
             0.4444444444444444,
             "#bd3786"
            ],
            [
             0.5555555555555556,
             "#d8576b"
            ],
            [
             0.6666666666666666,
             "#ed7953"
            ],
            [
             0.7777777777777778,
             "#fb9f3a"
            ],
            [
             0.8888888888888888,
             "#fdca26"
            ],
            [
             1,
             "#f0f921"
            ]
           ]
          },
          "colorway": [
           "#636efa",
           "#EF553B",
           "#00cc96",
           "#ab63fa",
           "#FFA15A",
           "#19d3f3",
           "#FF6692",
           "#B6E880",
           "#FF97FF",
           "#FECB52"
          ],
          "font": {
           "color": "#2a3f5f"
          },
          "geo": {
           "bgcolor": "white",
           "lakecolor": "white",
           "landcolor": "#E5ECF6",
           "showlakes": true,
           "showland": true,
           "subunitcolor": "white"
          },
          "hoverlabel": {
           "align": "left"
          },
          "hovermode": "closest",
          "mapbox": {
           "style": "light"
          },
          "paper_bgcolor": "white",
          "plot_bgcolor": "#E5ECF6",
          "polar": {
           "angularaxis": {
            "gridcolor": "white",
            "linecolor": "white",
            "ticks": ""
           },
           "bgcolor": "#E5ECF6",
           "radialaxis": {
            "gridcolor": "white",
            "linecolor": "white",
            "ticks": ""
           }
          },
          "scene": {
           "xaxis": {
            "backgroundcolor": "#E5ECF6",
            "gridcolor": "white",
            "gridwidth": 2,
            "linecolor": "white",
            "showbackground": true,
            "ticks": "",
            "zerolinecolor": "white"
           },
           "yaxis": {
            "backgroundcolor": "#E5ECF6",
            "gridcolor": "white",
            "gridwidth": 2,
            "linecolor": "white",
            "showbackground": true,
            "ticks": "",
            "zerolinecolor": "white"
           },
           "zaxis": {
            "backgroundcolor": "#E5ECF6",
            "gridcolor": "white",
            "gridwidth": 2,
            "linecolor": "white",
            "showbackground": true,
            "ticks": "",
            "zerolinecolor": "white"
           }
          },
          "shapedefaults": {
           "line": {
            "color": "#2a3f5f"
           }
          },
          "ternary": {
           "aaxis": {
            "gridcolor": "white",
            "linecolor": "white",
            "ticks": ""
           },
           "baxis": {
            "gridcolor": "white",
            "linecolor": "white",
            "ticks": ""
           },
           "bgcolor": "#E5ECF6",
           "caxis": {
            "gridcolor": "white",
            "linecolor": "white",
            "ticks": ""
           }
          },
          "title": {
           "x": 0.05
          },
          "xaxis": {
           "automargin": true,
           "gridcolor": "white",
           "linecolor": "white",
           "ticks": "",
           "title": {
            "standoff": 15
           },
           "zerolinecolor": "white",
           "zerolinewidth": 2
          },
          "yaxis": {
           "automargin": true,
           "gridcolor": "white",
           "linecolor": "white",
           "ticks": "",
           "title": {
            "standoff": 15
           },
           "zerolinecolor": "white",
           "zerolinewidth": 2
          }
         }
        },
        "title": {
         "text": "Histogram of outcome"
        },
        "xaxis": {
         "anchor": "y",
         "domain": [
          0,
          1
         ],
         "title": {
          "text": "value"
         }
        },
        "yaxis": {
         "anchor": "x",
         "domain": [
          0,
          1
         ],
         "title": {
          "text": "count"
         }
        }
       }
      }
     },
     "metadata": {},
     "output_type": "display_data"
    },
    {
     "data": {
      "application/vnd.plotly.v1+json": {
       "config": {
        "plotlyServerURL": "https://plot.ly"
       },
       "data": [
        {
         "domain": {
          "x": [
           0,
           1
          ],
          "y": [
           0,
           1
          ]
         },
         "hovertemplate": "outcome=%{label}<br>counts=%{value}<extra></extra>",
         "labels": [
          "Ball",
          "Strike"
         ],
         "legendgroup": "",
         "name": "",
         "showlegend": true,
         "type": "pie",
         "values": [
          436,
          564
         ]
        }
       ],
       "layout": {
        "legend": {
         "tracegroupgap": 0
        },
        "template": {
         "data": {
          "bar": [
           {
            "error_x": {
             "color": "#2a3f5f"
            },
            "error_y": {
             "color": "#2a3f5f"
            },
            "marker": {
             "line": {
              "color": "#E5ECF6",
              "width": 0.5
             },
             "pattern": {
              "fillmode": "overlay",
              "size": 10,
              "solidity": 0.2
             }
            },
            "type": "bar"
           }
          ],
          "barpolar": [
           {
            "marker": {
             "line": {
              "color": "#E5ECF6",
              "width": 0.5
             },
             "pattern": {
              "fillmode": "overlay",
              "size": 10,
              "solidity": 0.2
             }
            },
            "type": "barpolar"
           }
          ],
          "carpet": [
           {
            "aaxis": {
             "endlinecolor": "#2a3f5f",
             "gridcolor": "white",
             "linecolor": "white",
             "minorgridcolor": "white",
             "startlinecolor": "#2a3f5f"
            },
            "baxis": {
             "endlinecolor": "#2a3f5f",
             "gridcolor": "white",
             "linecolor": "white",
             "minorgridcolor": "white",
             "startlinecolor": "#2a3f5f"
            },
            "type": "carpet"
           }
          ],
          "choropleth": [
           {
            "colorbar": {
             "outlinewidth": 0,
             "ticks": ""
            },
            "type": "choropleth"
           }
          ],
          "contour": [
           {
            "colorbar": {
             "outlinewidth": 0,
             "ticks": ""
            },
            "colorscale": [
             [
              0,
              "#0d0887"
             ],
             [
              0.1111111111111111,
              "#46039f"
             ],
             [
              0.2222222222222222,
              "#7201a8"
             ],
             [
              0.3333333333333333,
              "#9c179e"
             ],
             [
              0.4444444444444444,
              "#bd3786"
             ],
             [
              0.5555555555555556,
              "#d8576b"
             ],
             [
              0.6666666666666666,
              "#ed7953"
             ],
             [
              0.7777777777777778,
              "#fb9f3a"
             ],
             [
              0.8888888888888888,
              "#fdca26"
             ],
             [
              1,
              "#f0f921"
             ]
            ],
            "type": "contour"
           }
          ],
          "contourcarpet": [
           {
            "colorbar": {
             "outlinewidth": 0,
             "ticks": ""
            },
            "type": "contourcarpet"
           }
          ],
          "heatmap": [
           {
            "colorbar": {
             "outlinewidth": 0,
             "ticks": ""
            },
            "colorscale": [
             [
              0,
              "#0d0887"
             ],
             [
              0.1111111111111111,
              "#46039f"
             ],
             [
              0.2222222222222222,
              "#7201a8"
             ],
             [
              0.3333333333333333,
              "#9c179e"
             ],
             [
              0.4444444444444444,
              "#bd3786"
             ],
             [
              0.5555555555555556,
              "#d8576b"
             ],
             [
              0.6666666666666666,
              "#ed7953"
             ],
             [
              0.7777777777777778,
              "#fb9f3a"
             ],
             [
              0.8888888888888888,
              "#fdca26"
             ],
             [
              1,
              "#f0f921"
             ]
            ],
            "type": "heatmap"
           }
          ],
          "heatmapgl": [
           {
            "colorbar": {
             "outlinewidth": 0,
             "ticks": ""
            },
            "colorscale": [
             [
              0,
              "#0d0887"
             ],
             [
              0.1111111111111111,
              "#46039f"
             ],
             [
              0.2222222222222222,
              "#7201a8"
             ],
             [
              0.3333333333333333,
              "#9c179e"
             ],
             [
              0.4444444444444444,
              "#bd3786"
             ],
             [
              0.5555555555555556,
              "#d8576b"
             ],
             [
              0.6666666666666666,
              "#ed7953"
             ],
             [
              0.7777777777777778,
              "#fb9f3a"
             ],
             [
              0.8888888888888888,
              "#fdca26"
             ],
             [
              1,
              "#f0f921"
             ]
            ],
            "type": "heatmapgl"
           }
          ],
          "histogram": [
           {
            "marker": {
             "pattern": {
              "fillmode": "overlay",
              "size": 10,
              "solidity": 0.2
             }
            },
            "type": "histogram"
           }
          ],
          "histogram2d": [
           {
            "colorbar": {
             "outlinewidth": 0,
             "ticks": ""
            },
            "colorscale": [
             [
              0,
              "#0d0887"
             ],
             [
              0.1111111111111111,
              "#46039f"
             ],
             [
              0.2222222222222222,
              "#7201a8"
             ],
             [
              0.3333333333333333,
              "#9c179e"
             ],
             [
              0.4444444444444444,
              "#bd3786"
             ],
             [
              0.5555555555555556,
              "#d8576b"
             ],
             [
              0.6666666666666666,
              "#ed7953"
             ],
             [
              0.7777777777777778,
              "#fb9f3a"
             ],
             [
              0.8888888888888888,
              "#fdca26"
             ],
             [
              1,
              "#f0f921"
             ]
            ],
            "type": "histogram2d"
           }
          ],
          "histogram2dcontour": [
           {
            "colorbar": {
             "outlinewidth": 0,
             "ticks": ""
            },
            "colorscale": [
             [
              0,
              "#0d0887"
             ],
             [
              0.1111111111111111,
              "#46039f"
             ],
             [
              0.2222222222222222,
              "#7201a8"
             ],
             [
              0.3333333333333333,
              "#9c179e"
             ],
             [
              0.4444444444444444,
              "#bd3786"
             ],
             [
              0.5555555555555556,
              "#d8576b"
             ],
             [
              0.6666666666666666,
              "#ed7953"
             ],
             [
              0.7777777777777778,
              "#fb9f3a"
             ],
             [
              0.8888888888888888,
              "#fdca26"
             ],
             [
              1,
              "#f0f921"
             ]
            ],
            "type": "histogram2dcontour"
           }
          ],
          "mesh3d": [
           {
            "colorbar": {
             "outlinewidth": 0,
             "ticks": ""
            },
            "type": "mesh3d"
           }
          ],
          "parcoords": [
           {
            "line": {
             "colorbar": {
              "outlinewidth": 0,
              "ticks": ""
             }
            },
            "type": "parcoords"
           }
          ],
          "pie": [
           {
            "automargin": true,
            "type": "pie"
           }
          ],
          "scatter": [
           {
            "fillpattern": {
             "fillmode": "overlay",
             "size": 10,
             "solidity": 0.2
            },
            "type": "scatter"
           }
          ],
          "scatter3d": [
           {
            "line": {
             "colorbar": {
              "outlinewidth": 0,
              "ticks": ""
             }
            },
            "marker": {
             "colorbar": {
              "outlinewidth": 0,
              "ticks": ""
             }
            },
            "type": "scatter3d"
           }
          ],
          "scattercarpet": [
           {
            "marker": {
             "colorbar": {
              "outlinewidth": 0,
              "ticks": ""
             }
            },
            "type": "scattercarpet"
           }
          ],
          "scattergeo": [
           {
            "marker": {
             "colorbar": {
              "outlinewidth": 0,
              "ticks": ""
             }
            },
            "type": "scattergeo"
           }
          ],
          "scattergl": [
           {
            "marker": {
             "colorbar": {
              "outlinewidth": 0,
              "ticks": ""
             }
            },
            "type": "scattergl"
           }
          ],
          "scattermapbox": [
           {
            "marker": {
             "colorbar": {
              "outlinewidth": 0,
              "ticks": ""
             }
            },
            "type": "scattermapbox"
           }
          ],
          "scatterpolar": [
           {
            "marker": {
             "colorbar": {
              "outlinewidth": 0,
              "ticks": ""
             }
            },
            "type": "scatterpolar"
           }
          ],
          "scatterpolargl": [
           {
            "marker": {
             "colorbar": {
              "outlinewidth": 0,
              "ticks": ""
             }
            },
            "type": "scatterpolargl"
           }
          ],
          "scatterternary": [
           {
            "marker": {
             "colorbar": {
              "outlinewidth": 0,
              "ticks": ""
             }
            },
            "type": "scatterternary"
           }
          ],
          "surface": [
           {
            "colorbar": {
             "outlinewidth": 0,
             "ticks": ""
            },
            "colorscale": [
             [
              0,
              "#0d0887"
             ],
             [
              0.1111111111111111,
              "#46039f"
             ],
             [
              0.2222222222222222,
              "#7201a8"
             ],
             [
              0.3333333333333333,
              "#9c179e"
             ],
             [
              0.4444444444444444,
              "#bd3786"
             ],
             [
              0.5555555555555556,
              "#d8576b"
             ],
             [
              0.6666666666666666,
              "#ed7953"
             ],
             [
              0.7777777777777778,
              "#fb9f3a"
             ],
             [
              0.8888888888888888,
              "#fdca26"
             ],
             [
              1,
              "#f0f921"
             ]
            ],
            "type": "surface"
           }
          ],
          "table": [
           {
            "cells": {
             "fill": {
              "color": "#EBF0F8"
             },
             "line": {
              "color": "white"
             }
            },
            "header": {
             "fill": {
              "color": "#C8D4E3"
             },
             "line": {
              "color": "white"
             }
            },
            "type": "table"
           }
          ]
         },
         "layout": {
          "annotationdefaults": {
           "arrowcolor": "#2a3f5f",
           "arrowhead": 0,
           "arrowwidth": 1
          },
          "autotypenumbers": "strict",
          "coloraxis": {
           "colorbar": {
            "outlinewidth": 0,
            "ticks": ""
           }
          },
          "colorscale": {
           "diverging": [
            [
             0,
             "#8e0152"
            ],
            [
             0.1,
             "#c51b7d"
            ],
            [
             0.2,
             "#de77ae"
            ],
            [
             0.3,
             "#f1b6da"
            ],
            [
             0.4,
             "#fde0ef"
            ],
            [
             0.5,
             "#f7f7f7"
            ],
            [
             0.6,
             "#e6f5d0"
            ],
            [
             0.7,
             "#b8e186"
            ],
            [
             0.8,
             "#7fbc41"
            ],
            [
             0.9,
             "#4d9221"
            ],
            [
             1,
             "#276419"
            ]
           ],
           "sequential": [
            [
             0,
             "#0d0887"
            ],
            [
             0.1111111111111111,
             "#46039f"
            ],
            [
             0.2222222222222222,
             "#7201a8"
            ],
            [
             0.3333333333333333,
             "#9c179e"
            ],
            [
             0.4444444444444444,
             "#bd3786"
            ],
            [
             0.5555555555555556,
             "#d8576b"
            ],
            [
             0.6666666666666666,
             "#ed7953"
            ],
            [
             0.7777777777777778,
             "#fb9f3a"
            ],
            [
             0.8888888888888888,
             "#fdca26"
            ],
            [
             1,
             "#f0f921"
            ]
           ],
           "sequentialminus": [
            [
             0,
             "#0d0887"
            ],
            [
             0.1111111111111111,
             "#46039f"
            ],
            [
             0.2222222222222222,
             "#7201a8"
            ],
            [
             0.3333333333333333,
             "#9c179e"
            ],
            [
             0.4444444444444444,
             "#bd3786"
            ],
            [
             0.5555555555555556,
             "#d8576b"
            ],
            [
             0.6666666666666666,
             "#ed7953"
            ],
            [
             0.7777777777777778,
             "#fb9f3a"
            ],
            [
             0.8888888888888888,
             "#fdca26"
            ],
            [
             1,
             "#f0f921"
            ]
           ]
          },
          "colorway": [
           "#636efa",
           "#EF553B",
           "#00cc96",
           "#ab63fa",
           "#FFA15A",
           "#19d3f3",
           "#FF6692",
           "#B6E880",
           "#FF97FF",
           "#FECB52"
          ],
          "font": {
           "color": "#2a3f5f"
          },
          "geo": {
           "bgcolor": "white",
           "lakecolor": "white",
           "landcolor": "#E5ECF6",
           "showlakes": true,
           "showland": true,
           "subunitcolor": "white"
          },
          "hoverlabel": {
           "align": "left"
          },
          "hovermode": "closest",
          "mapbox": {
           "style": "light"
          },
          "paper_bgcolor": "white",
          "plot_bgcolor": "#E5ECF6",
          "polar": {
           "angularaxis": {
            "gridcolor": "white",
            "linecolor": "white",
            "ticks": ""
           },
           "bgcolor": "#E5ECF6",
           "radialaxis": {
            "gridcolor": "white",
            "linecolor": "white",
            "ticks": ""
           }
          },
          "scene": {
           "xaxis": {
            "backgroundcolor": "#E5ECF6",
            "gridcolor": "white",
            "gridwidth": 2,
            "linecolor": "white",
            "showbackground": true,
            "ticks": "",
            "zerolinecolor": "white"
           },
           "yaxis": {
            "backgroundcolor": "#E5ECF6",
            "gridcolor": "white",
            "gridwidth": 2,
            "linecolor": "white",
            "showbackground": true,
            "ticks": "",
            "zerolinecolor": "white"
           },
           "zaxis": {
            "backgroundcolor": "#E5ECF6",
            "gridcolor": "white",
            "gridwidth": 2,
            "linecolor": "white",
            "showbackground": true,
            "ticks": "",
            "zerolinecolor": "white"
           }
          },
          "shapedefaults": {
           "line": {
            "color": "#2a3f5f"
           }
          },
          "ternary": {
           "aaxis": {
            "gridcolor": "white",
            "linecolor": "white",
            "ticks": ""
           },
           "baxis": {
            "gridcolor": "white",
            "linecolor": "white",
            "ticks": ""
           },
           "bgcolor": "#E5ECF6",
           "caxis": {
            "gridcolor": "white",
            "linecolor": "white",
            "ticks": ""
           }
          },
          "title": {
           "x": 0.05
          },
          "xaxis": {
           "automargin": true,
           "gridcolor": "white",
           "linecolor": "white",
           "ticks": "",
           "title": {
            "standoff": 15
           },
           "zerolinecolor": "white",
           "zerolinewidth": 2
          },
          "yaxis": {
           "automargin": true,
           "gridcolor": "white",
           "linecolor": "white",
           "ticks": "",
           "title": {
            "standoff": 15
           },
           "zerolinecolor": "white",
           "zerolinewidth": 2
          }
         }
        },
        "title": {
         "text": "Pie of outcome"
        }
       }
      }
     },
     "metadata": {},
     "output_type": "display_data"
    }
   ],
   "source": [
    "pitch_data.show_histogram(\"outcome\")\n",
    "pitch_data.show_pie(\"outcome\")\n"
   ]
  },
  {
   "cell_type": "code",
   "execution_count": 6,
   "metadata": {},
   "outputs": [
    {
     "data": {
      "application/vnd.plotly.v1+json": {
       "config": {
        "plotlyServerURL": "https://plot.ly"
       },
       "data": [
        {
         "hovertemplate": "pitch_x=%{x}<br>pitch_y=%{y}<br>hitability=%{marker.color}<extra></extra>",
         "legendgroup": "",
         "marker": {
          "color": [
           0.2002423330500557,
           0.3372826304592932,
           0.08741683533321315,
           0.9010672969102442,
           0.6299090866469396,
           0.5718080808175622,
           0.18213469719170927,
           0.7664570094128268,
           0.9917182037697412,
           0.01962731012760093,
           0.9167015467006431,
           0.49135246839669583,
           0.03905938927196447,
           0.06746616926113949,
           0.42962475929576954,
           0.3360234197095861,
           0.8873502434476306,
           0.6953027102729592,
           0.2142963305779895,
           0.49951590712209737,
           0.760239859854312,
           0.594936949325021,
           0.8925181533443988,
           0.9358050363108626,
           0.5078099794322244,
           0.9448393398762318,
           0.9803992731628675,
           0.8314784898487985,
           0.6013502308096541,
           0.46488569232863286,
           0.2673568707687529,
           0.7562277695630693,
           0.9704061417743978,
           0.5937216466300569,
           0.7169203419354129,
           0.20959599402871665,
           0.16609375270302204,
           0.19863230650658914,
           0.13958898804785938,
           0.20055594930379012,
           0.42213565692655663,
           0.6106935612708885,
           0.9390980073458439,
           0.14698230110171903,
           0.559789949092056,
           0.06511813650050463,
           0.5725516581076713,
           0.22431176024289734,
           0.3657223626492555,
           0.9799205125945786,
           0.24505586256746037,
           0.738410038485935,
           0.37562317352526203,
           0.7344108000507089,
           0.5240371517519467,
           0.6099206127414296,
           0.3544065248807398,
           0.5282503343931939,
           0.5395941725168528,
           0.25547963610744207,
           0.9249746395734126,
           0.3642559291889452,
           0.35865917215010545,
           0.3567118969949415,
           0.8524378901602608,
           0.38431681912641186,
           0.3783183696511084,
           0.8027787042123776,
           0.7965953689581792,
           0.7474774097735851,
           0.059547844058590774,
           0.5897533925951275,
           0.4106233557872021,
           0.5890508862160682,
           0.251412180659314,
           0.34703196064177105,
           0.6713662119196645,
           0.2620914222854048,
           0.8003113154042667,
           0.40403136893012426,
           0.3609319384993882,
           0.6237923864884071,
           0.20874578808798624,
           0.7113500321920561,
           0.5505228678457854,
           0.17308391961131972,
           0.17618536418975178,
           0.7920736137547868,
           0.8503036183322993,
           0.5543028752919683,
           0.538638812816621,
           0.851663837038818,
           0.34242738213724205,
           0.5522903708232656,
           0.029203384281051285,
           0.3770501972358883,
           0.8476422253997965,
           0.41080417472431435,
           0.4958048074378401,
           0.6354248185720467,
           0.5943329205489479,
           0.15605182156799074,
           0.30398211684198695,
           0.30771312596991174,
           0.7075925192444534,
           0.05344951298980195,
           0.4994106874371511,
           0.12906836866115104,
           0.7004624826074932,
           0.5470695318119296,
           0.6995658637707793,
           0.7382156553509347,
           0.530069043214589,
           0.27819116059901355,
           0.7301014982395194,
           0.7720927547375047,
           0.21219403672389706,
           0.9476844311007688,
           0.2140603717934823,
           0.9022552395581169,
           0.9936630189716467,
           0.5958249632435408,
           0.7070199305221067,
           0.7043602026657242,
           0.8027319287293835,
           0.7362762002857506,
           0.9554214000538075,
           0.08105776134135431,
           0.8883322148032772,
           0.4965790584611035,
           0.8885660293848764,
           0.20844324553054355,
           0.6914245520879085,
           0.44522283745572766,
           0.8816569730216515,
           0.9949996749905488,
           0.7238762642139367,
           0.856465877203519,
           0.9247798643010442,
           0.21343543680289784,
           0.4614884328036504,
           0.8102377975490564,
           0.9202973266046914,
           0.400180117636732,
           0.15258822936492522,
           0.4084115443234251,
           0.2563977344844867,
           0.7691321272563749,
           0.5102902233182717,
           0.9406415200383569,
           0.8154871599392629,
           0.18256379374235532,
           0.46637379370834914,
           0.6402487249274549,
           0.6600522110292771,
           0.8492999913175685,
           0.6781793497359941,
           0.8111235031469496,
           0.35217496623583155,
           0.05242092254791297,
           0.7096784345417337,
           0.2605052431978984,
           0.9995083564237685,
           0.9324586287209906,
           0.39230056399203167,
           0.572985296047167,
           0.15654875929339337,
           0.6860164011506554,
           0.19850978820819962,
           0.6133808885834086,
           0.3814502812031203,
           0.6724543432254079,
           0.37316608464967266,
           0.28384844759140315,
           0.6010385625309764,
           0.05873804572469952,
           0.1505681223526779,
           0.21501768845739466,
           0.3687075695651817,
           0.07124388669012899,
           0.35613139818622763,
           0.6801204085020406,
           0.21664813463779806,
           0.7929801837441461,
           0.6032522263781857,
           0.9421027239293607,
           0.360740694295793,
           0.3896250421684446,
           0.7057521629397279,
           0.1594296649457383,
           0.5804036289455662,
           0.8215676268924933,
           0.47197920703003887,
           0.2656603427667069,
           0.8378452652368735,
           0.5280784928995732,
           0.45685677034750494,
           0.3340552698108214,
           0.09705949730209186,
           0.9529705380904898,
           0.6850648913558167,
           0.7846106170301956,
           0.6407870999605624,
           0.11498664618123507,
           0.8242485533119427,
           0.5453722995611314,
           0.756815955303613,
           0.6970835819188146,
           0.642562111829261,
           0.3144261489826809,
           0.4612499656897287,
           0.4736115537953678,
           0.17053079490957043,
           0.5852817050387874,
           0.18902344786647943,
           0.3842877099885792,
           0.39498100912442435,
           0.31042168643345025,
           0.46029896660638936,
           0.9174959324336665,
           0.31094164618004805,
           0.0018945406896686474,
           0.810750068526554,
           0.02983580515651685,
           0.6777195674298184,
           0.8748019939460309,
           0.6807493048550592,
           0.7700634770135085,
           0.6513351266207575,
           0.5725035650389585,
           0.02951136574080782,
           0.9339909786259387,
           0.2962400886361457,
           0.6648652955722849,
           0.3390084896962114,
           0.6950033177519988,
           0.47974459782121487,
           0.48636426601691585,
           0.6170097829063035,
           0.6315318890750279,
           0.10672161012141637,
           0.13662994463620737,
           0.13851686999397528,
           0.6437239387433077,
           0.8886803219773677,
           0.5226913392921674,
           0.7703425938344164,
           0.9475621531010341,
           0.049032818169242515,
           0.23224535281783804,
           0.0965013160616066,
           0.0371395839993908,
           0.4156702182115829,
           0.9426985804189751,
           0.577579511273966,
           0.6869482595542648,
           0.5090849428788086,
           0.7252142494749146,
           0.7862710675157886,
           0.9567613170712955,
           0.8235935396726441,
           0.9441453484931532,
           0.5054529717211921,
           0.7033201500183847,
           0.9230244800511338,
           0.8095359038462504,
           0.07116620683260233,
           0.7578645598605787,
           0.9314052520438595,
           0.8331058889249919,
           0.8562787521781147,
           0.3921054276453973,
           0.5504921704651213,
           0.7583478088521673,
           0.5982039814765695,
           0.12425579634575473,
           0.8032264370506611,
           0.459800630874215,
           0.8684375754643201,
           0.3544516796678052,
           0.7862889455643068,
           0.20264261987701,
           0.8001825781076273,
           0.5744427784723475,
           0.6386048191493647,
           0.3312826718625295,
           0.8739010127887427,
           0.21929811961028572,
           0.7807663755078096,
           0.7657413421458756,
           0.6319941638786598,
           0.73270854093531,
           0.15119735460252254,
           0.31683112905649713,
           0.6763929385430859,
           0.6402260958703772,
           0.22608557549961134,
           0.35357054443191166,
           0.5902986685930054,
           0.18056620468425297,
           0.27737049225417787,
           0.6754763657578154,
           0.4839631117783204,
           0.9477959478568758,
           0.7653385630452728,
           0.31989568099297777,
           0.917633163945655,
           0.6319335475428796,
           0.15976405336395408,
           0.5825998062580985,
           0.8189527062904007,
           0.2693675357990674,
           0.6864507845876098,
           0.3939574107234265,
           0.6344957819906613,
           0.2517384282633254,
           0.47868652606538914,
           0.9368225095566279,
           0.30841689850436926,
           0.35630961340365747,
           0.1835295757560048,
           0.3913951012837543,
           0.5205919341158038,
           0.9287454870000288,
           0.5751446751742317,
           0.9519520991559658,
           0.4654414879948735,
           0.9958572460398647,
           0.763796960820609,
           0.6005669408550731,
           0.6478359175506568,
           0.3991331322173631,
           0.22216226849713788,
           0.08894124580860875,
           0.7688664593823717,
           0.05123313773503087,
           0.21387730787395842,
           0.8137177690475472,
           0.3358024171966316,
           0.4750644740943506,
           0.9090398301160848,
           0.3261490452088222,
           0.817256515174916,
           0.8360972827655254,
           0.0979307887802653,
           0.7257198155780406,
           0.6711715699030663,
           0.366992505913056,
           0.6547854195012879,
           0.108425370900293,
           0.3588412987981989,
           0.8286119839490012,
           0.7131566617019462,
           0.6032536331848467,
           0.889673548550833,
           0.49519094174923745,
           0.1354212879469019,
           0.3375695957016274,
           0.21508585235110506,
           0.7003243041041264,
           0.922207324258537,
           0.9520313360937138,
           0.9198025943857038,
           0.43989739453929494,
           0.8558263582249466,
           0.036834108649851365,
           0.6620065224062729,
           0.5863805749648137,
           0.5096553787902661,
           0.469203496168612,
           0.37453247140129226,
           0.3756413919880508,
           0.5524089267245422,
           0.5829673089253626,
           0.2660995241111416,
           0.6290987463589988,
           0.6810510608114939,
           0.4542049501239104,
           0.5032891459972576,
           0.38870163673231545,
           0.720963087234297,
           0.46992316267736167,
           0.6486939084306764,
           0.05880427071044123,
           0.9436380860661948,
           0.40776917080849207,
           0.9510672926714913,
           0.6378099554668745,
           0.701693971230025,
           0.24036333602949217,
           0.8877002252879066,
           0.2957488904929522,
           0.6889639816858748,
           0.542104371366033,
           0.04179263928246663,
           0.08873286406102723,
           0.2740516928673566,
           0.7261333238930253,
           0.41582507390587614,
           0.9600599229220086,
           0.15330399293385136,
           0.6864946965891651,
           0.951731369198822,
           0.1722750189568631,
           0.6745080988510762,
           0.7160847589765453,
           0.9923789406992362,
           0.834947460905781,
           0.8356903210931595,
           0.7916668232810388,
           0.8679988267998222,
           0.31805296443200587,
           0.4417061402972733,
           0.7375283647792841,
           0.27784214351386377,
           0.7891279762961535,
           0.833605678386161,
           0.643456725999743,
           0.17788181896788505,
           0.5490126676909712,
           0.0024669265678277296,
           0.28042320848344077,
           0.9273591233791889,
           0.28033210454002394,
           0.5248327171691446,
           0.20651844209267695,
           0.22726908864194895,
           0.9812592268914381,
           0.40871204481921486,
           0.7908266828286284,
           0.3264512970501722,
           0.4826891368507049,
           0.7616292305134914,
           0.47328646489692744,
           0.346723894019005,
           0.21127195590861328,
           0.04504972017983254,
           0.9546076329460527,
           0.5017933282801594,
           0.4391842665618758,
           0.678574224378072,
           0.01016055011832558,
           0.13613016860101482,
           0.6404986104175437,
           0.9843228504519473,
           0.8827803754129954,
           0.8120060910014644,
           0.7109576951263734,
           0.7914856838507539,
           0.4689220964278744,
           0.114654085402133,
           0.8109068410541441,
           0.7423498116831079,
           0.9222151490077585,
           0.6724001263464181,
           0.7490071302913376,
           0.9427698227798683,
           0.5477654965056388,
           0.692251834535276,
           0.4047807950430774,
           0.4520497333661678,
           0.20560936101599606,
           0.444428020821973,
           0.4622630486130357,
           0.919864237715144,
           0.4261487002661362,
           0.6857911353719015,
           0.6019689771151302,
           0.301460671956251,
           0.739053863076469,
           0.9699547311617551,
           0.884080743607786,
           0.1838725543893192,
           0.9521647975688765,
           0.563259307618087,
           0.6906067129200982,
           0.5502507447430114,
           0.45663877530434893,
           0.09659037675879939,
           0.3267257311052451,
           0.7866142681658627,
           0.1142522617059866,
           0.6028559150838341,
           0.5889843788783873,
           0.46528331672758816,
           0.46605494563414335,
           0.9662461261347403,
           0.4401041338877447,
           0.7375493562959987,
           0.3776320014532332,
           0.49853308007367053,
           0.3942097011907023,
           0.8826319469659178,
           0.12567266321737686,
           0.9142504853448474,
           0.8866733187266743,
           0.6016979920566417,
           0.411250392381022,
           0.6048747338341823,
           0.5481610310354672,
           0.5769163070366509,
           0.38328474897125,
           0.1253195150019299,
           0.6307338075413773,
           0.8627459131147617,
           0.4239285855948938,
           0.8588202496503368,
           0.9790636505854382,
           0.1755936086345412,
           0.8204392996448191,
           0.2968323362832779,
           0.22430630095400655,
           0.21635651214256812,
           0.6224082797575533,
           0.8112542180562214,
           0.37262766218647364,
           0.6936145983442545,
           0.8472432568236954,
           0.8149041595471291,
           0.492696035401851,
           0.16620557674499017,
           0.8562185404570214,
           0.6714547665302236,
           0.5698562103121257,
           0.7495433568962349,
           0.966918428967946,
           0.911418383302265,
           0.489317293046964,
           0.7371279538223299,
           0.281571390015189,
           0.20282019244635194,
           0.08197337493835319,
           0.2680271848681679,
           0.47047947737107654,
           0.8488570289012334,
           0.7066639782918056,
           0.7956691532387239,
           0.9882418946428784,
           0.6931378777313966,
           0.876289120058402,
           0.6785768054579935,
           0.649193804585443,
           0.642349209783564,
           0.8894306785745528,
           0.6749992766540934,
           0.6969368259091439,
           0.1144935929060158,
           0.3016656069555437,
           0.9620410835670479,
           0.47996575620962745,
           0.18992083178110783,
           0.7940491607362958,
           0.9452459232035477,
           0.26895010443431405,
           0.6271163225687266,
           0.12566127816538505,
           0.8771397409949384,
           0.6884427997761271,
           0.5482182862955993,
           0.07017086005588376,
           0.6786002119817752,
           0.9320857638872049,
           0.7257195207181092,
           0.7848170441964679,
           0.9410446437613762,
           0.47899902408224193,
           0.5596836091027394,
           0.9742803917536671,
           0.14567102494326303,
           0.8696756482467495,
           0.041420811978437916,
           0.3700387958207153,
           0.4082303473282354,
           0.9461830621678513,
           0.38222251807175683,
           0.4336259674048796,
           0.7604495430850352,
           0.5811192186809608,
           0.9484767274902912,
           0.7436415833473415,
           0.5453595709338944,
           0.5299572919600999,
           0.7856894030506525,
           0.6752158686183057,
           0.5680341043326784,
           0.2301531571234451,
           0.5377500864344317,
           0.6401752232077003,
           0.531056589755894,
           0.5299344638046188,
           0.790083952193629,
           0.81528248637483,
           0.8337343882948958,
           0.6119385788140999,
           0.7457643059332675,
           0.2698252488005769,
           0.36433663741602557,
           0.6194809900590449,
           0.4902697931806969,
           0.3217902566873139,
           0.7655198056525996,
           0.23985840374020648,
           0.6162017657087077,
           0.6824406095349992,
           0.9592709682189741,
           0.8691989276433366,
           0.8644762266077197,
           0.679374461589084,
           0.7702261338973901,
           0.8278667658212637,
           0.4471707698530237,
           0.8078614818695906,
           0.3095289490257121,
           0.8347898233174931,
           0.8884532021540352,
           0.2048778684787937,
           0.07307483545580437,
           0.6865906887301673,
           0.8035029578235676,
           0.6942195497654148,
           0.7525081255734789,
           0.3021903430114111,
           0.08094412315714129,
           0.5852722705829722,
           0.8560902788976205,
           0.8503149413318312,
           0.8934790629385185,
           0.6206806814245015,
           0.5473108041083229,
           0.6843013726731194,
           0.8819372417180084,
           0.7422365138718411,
           0.9345872088469472,
           0.9787520971724036,
           0.6550699428859117,
           0.3212739987887987,
           0.421529960401336,
           0.7312974733377471,
           0.9429351299455944,
           0.6296890314869283,
           0.5998272487856627,
           0.9779249685568825,
           0.5518136791289341,
           0.8156647286552206,
           0.7701430308209186,
           0.6791205907785088,
           0.5810504120708571,
           0.2945485269786843,
           0.3563952927006906,
           0.7433996754697214,
           0.5664595989216471,
           0.7916279863679702,
           0.7756735773422239,
           0.5696426175848517,
           0.0315536580852233,
           0.5522134880185791,
           0.86385717947369,
           0.3090243870221392,
           0.7565927572165572,
           0.9548684668713864,
           0.729852599112136,
           0.35033171363707893,
           0.570694769962189,
           0.14467773062248188,
           0.4652593852200267,
           0.9059773345998913,
           0.42315153866433797,
           0.8870292403872717,
           0.7935470721226201,
           0.44216414543002186,
           0.6600505486219461,
           0.286076634602068,
           0.9091955763622399,
           0.7076756739348992,
           0.2985546084361968,
           0.2298168952752187,
           0.11020816708522803,
           0.585964136454122,
           0.655723299581466,
           0.23194824082794085,
           0.1343506265920107,
           0.4740499730468549,
           0.8696781380530575,
           0.45329392299439636,
           0.8415311169998602,
           0.6940421794810956,
           0.7930236187390809,
           0.9340398779165023,
           0.7886245861077017,
           0.06643508002609738,
           0.7502374393979763,
           0.07211213716959601,
           0.4821136590989348,
           0.12187817835135366,
           0.11032082905434838,
           0.2261512584339638,
           0.280001937536962,
           0.24620274196375966,
           0.9428515631598301,
           0.1326523484004561,
           0.3144464517547634,
           0.21702047871826902,
           0.7760201631815606,
           0.695837414325748,
           0.8615556697349306,
           0.45270624330694764,
           0.8282376306482466,
           0.7009865754241126,
           0.06866377611760685,
           0.29100566153992563,
           0.5610663229641705,
           0.5574088925696186,
           0.6223331107980374,
           0.5088655823196597,
           0.10699629772849126,
           0.7825192617113782,
           0.5239569604553873,
           0.963613846183875,
           0.33289566013575234,
           0.4708639292293531,
           0.8013159283518101,
           0.8440262133686283,
           0.2543195277704231,
           0.967821360073533,
           0.5612927215023018,
           0.5250690654674499,
           0.9232347254190565,
           0.470698592483221,
           0.5792018177980411,
           0.87167405421912,
           0.15756641993148235,
           0.6121497147430844,
           0.2944906655108192,
           0.06534197961647424,
           0.7649280728034449,
           0.7770435574746498,
           0.5370592829352341,
           0.3094794152263069,
           0.8697163959535632,
           0.7642412665717978,
           0.9863934218082474,
           0.37246205752776734,
           0.5863420038305068,
           0.5429353127784311,
           0.5219298287279164,
           0.637887368814065,
           0.6680242183863593,
           0.559828156953256,
           0.8778749044000113,
           0.9536731908913743,
           0.5736830179732523,
           0.6529958721723428,
           0.5229347986178826,
           0.219051117412995,
           0.7344540423011829,
           0.9913161919738602,
           0.8422199096685042,
           0.8698924329808984,
           0.23906427482564216,
           0.830678502582453,
           0.4003266413167074,
           0.6434767529711656,
           0.6073921585037917,
           0.5926215938170659,
           0.48136688089917384,
           0.9199061750532849,
           0.6089994971139078,
           0.5002421252996541,
           0.8735619864348412,
           0.9108183230691935,
           0.17094606618251443,
           0.9097981493485465,
           0.4658324770419754,
           0.7803109438175793,
           0.9697855279628137,
           0.8627505731231752,
           0.8542692637071857,
           0.3647295567748027,
           0.1882929169753419,
           0.5398141762267041,
           0.20552305299592818,
           0.7987928530105713,
           0.32528986277559013,
           0.34634482474474493,
           0.4442128368245383,
           0.3934961908895729,
           0.6506461987936548,
           0.7498134107416823,
           0.09976986959128568,
           0.9330954490215759,
           0.8218520765595305,
           0.5865736003653714,
           0.8790044285808688,
           0.5147089319688923,
           0.6800386260814502,
           0.5130774703020731,
           0.7187306868247165,
           0.2715609108422077,
           0.6041421346226479,
           0.748105100697326,
           0.2903420878626481,
           0.2998298266608092,
           0.4300268896891837,
           0.7319717300050242,
           0.7351141347109211,
           0.6467339068028761,
           0.8283991187531413,
           0.6484263945945554,
           0.10793533822018066,
           0.3776212026334457,
           0.18075143843344998,
           0.7132903840818766,
           0.6154069169386338,
           0.7996693876853213,
           0.443740167748786,
           0.9564199710127401,
           0.03240638819295885,
           0.911054539057968,
           0.9252786998248218,
           0.7286165740798455,
           0.07368208107548421,
           0.433745893641766,
           0.8859658798916756,
           0.2160777344629873,
           0.1094835617001044,
           0.5601696408505186,
           0.40141004883977416,
           0.1932451278237252,
           0.7528595646210787,
           0.46097935616768426,
           0.0034286488294016466,
           0.22408506681718754,
           0.5872897466049772,
           0.2647630218510712,
           0.7329835376422467,
           0.5789898412154542,
           0.4725332176646317,
           0.6869956552949841,
           0.8841255985573143,
           0.4078150160883324,
           0.9015608984590574,
           0.7743720799534014,
           0.7725235738924473,
           0.5105340251087229,
           0.9875665070968189,
           0.5424746106829689,
           0.563486204452691,
           0.3569241539291381,
           0.4143955338480088,
           0.9507351994296093,
           0.5060669380365684,
           0.10243104069207755,
           0.2973758162303946,
           0.9384711769702562,
           0.8940755098509626,
           0.5954355936680765,
           0.6933350066352758,
           0.10396549024599384,
           0.962815964650071,
           0.9453341736079489,
           0.6289333204504358,
           0.7884409834774028,
           0.8697578880646384,
           0.13248226249809542,
           0.6425213707604162,
           0.7944691006548114,
           0.7609654613053802,
           0.339688507372269,
           0.7863149300001071,
           0.7944464229145692,
           0.2981693710050412,
           0.8173463206542548,
           0.6220707656655011,
           0.015346341256037782,
           0.9041040030031962,
           0.08810450995106128,
           0.7138167501226553,
           0.3651492419004021,
           0.5447472963833854,
           0.812971783026836,
           0.9528703658262548,
           0.8519842792416299,
           0.8188867592123262,
           0.2408209021253886,
           0.6701576292368032,
           0.47869437486323585,
           0.14914073088573188,
           0.6634600947535164,
           0.38824749793337693,
           0.8249919744824274,
           0.5523240531901668,
           0.6217994844666173,
           0.7755317689840455,
           0.38366077162173856,
           0.9518081757252969,
           0.5484988774493703,
           0.37134672161372234,
           0.09911902462717836,
           0.35930598251142365,
           0.06580968151381884,
           0.726587760996423,
           0.9048564682422833,
           0.025461956061016932,
           0.8066232119865059,
           0.35582504953566585,
           0.8549274912906513,
           0.7921449529557085,
           0.6834471995205775,
           0.3623575162367068,
           0.9932624947203111,
           0.09991712476119706,
           0.4874799462619289,
           0.6208610722342358,
           0.28023869885566793,
           0.8132897782912982,
           0.5362735846856934,
           0.762242829171829,
           0.20816283740016023,
           0.8203160488662155,
           0.1949873835631708,
           0.8525583572686282,
           0.764587728623299,
           0.2113038836111623,
           0.8387743119021818,
           0.649835403409262,
           0.5741022211807871,
           0.4910980176867854,
           0.5908593110547528,
           0.39382759589224686,
           0.13933592342368695,
           0.725135764077427,
           0.6769960848094094,
           0.46280846814335885,
           0.8349548062988054,
           0.7126088931499226,
           0.3841190893424244,
           0.8434566271222903,
           0.8175815088883266,
           0.5685451510587756,
           0.1182338090476991,
           0.4726323096579603,
           0.8781671545710519,
           0.7627369818957062,
           0.6530769820798646,
           0.9749059895405816,
           0.6211878028763049,
           0.9708122722356266,
           0.12900485922665783,
           0.6025283492049022,
           0.38365941836290735,
           0.3516515685479967,
           0.3433170951736578,
           0.278031740524495,
           0.6169726515864167,
           0.9547116409118714,
           0.4215590434683855,
           0.8192526462137577,
           0.9136407323643001,
           0.9243400683105066,
           0.43998958823794326,
           0.3436841344279202,
           0.41867851572353165,
           0.7782506332676253,
           0.8508473124972868,
           0.3092947516262369,
           0.19464811617698494,
           0.02560576683469522,
           0.6477206097554135,
           0.9755535522814596,
           0.8722309753445785,
           0.8482179762149641,
           0.967610851256936,
           0.9703110829093726,
           0.595722814077164,
           0.9627748162059199,
           0.1356382202661796,
           0.614475657486845,
           0.3339466603123491,
           0.15323130678065777,
           0.9119029411186932,
           0.23017731300905936,
           0.471927314265202,
           0.6988932152494268,
           0.8366775530891528,
           0.36209723908082264,
           0.8998706536566692,
           0.718211204004242,
           0.3761289045768399,
           0.6332369388975729,
           0.8719985776562228,
           0.2765822189285274,
           0.6679394867129954,
           0.4892787744286404,
           0.8569334782732797,
           0.2941615674440845,
           0.723027035061818,
           0.9335410287667589,
           0.5872486755078014,
           0.7149187604334515,
           0.36900416645813267
          ],
          "coloraxis": "coloraxis",
          "symbol": "circle"
         },
         "mode": "markers",
         "name": "",
         "orientation": "v",
         "showlegend": false,
         "type": "scatter",
         "x": [
          1.4758039743597673,
          1.4421420621290812,
          -0.9914910521380152,
          -0.40325429488785475,
          0.5472362750474364,
          0.7288417382024945,
          0.1311920091953646,
          0.5034079568745728,
          0.12855109826734404,
          -2.497334230719176,
          -0.3364353300490454,
          -0.5545611093489784,
          1.1125181111893352,
          -2.2935357625926,
          0.42276452239624773,
          -0.5416848028790341,
          -0.32761438989070324,
          0.8514053559619794,
          1.3280705242074335,
          -0.465397897973074,
          -0.7316393325558612,
          0.6817383111933484,
          0.23940821745851174,
          0.36271706816607313,
          -1.1147492231613796,
          -0.17232084311176316,
          0.09767806676217888,
          0.20808068968268165,
          -0.07060981435225455,
          0.26662244352622505,
          -0.8815363122704523,
          -0.44105391603363886,
          -0.049704845874671715,
          0.8262298121629849,
          -0.6527519699394626,
          -1.4825505200220659,
          -1.8405236779708967,
          -1.766931248362351,
          1.810872977778833,
          -1.6169272225001345,
          1.206431911393904,
          -0.33790137577719365,
          -0.22597740022379642,
          -1.7570117471704902,
          0.43104805829051596,
          0.31781828333920636,
          -0.7801822104592218,
          1.6370942008858274,
          1.1176463316282728,
          0.15001642412516922,
          0.3307632738617637,
          -0.20597615489408652,
          0.6255012523548436,
          -0.7813216753168114,
          0.5073984690482023,
          -0.7096430305683107,
          -0.7734305936452381,
          -0.43236040965848616,
          1.0027992937463077,
          0.38936846752569654,
          0.3781639384271159,
          -0.289890003235563,
          0.8892955868407476,
          1.029890946931515,
          -0.5559657261453579,
          -1.1435378707748525,
          -1.3561202247493755,
          -0.6437512075584447,
          -0.47357240284815727,
          0.5299591220431109,
          1.0235204155451465,
          -0.47834491992009787,
          -0.009619170825339347,
          1.0230158386574641,
          -1.6600852054087105,
          -0.3354565988114506,
          -0.3712961106878797,
          1.495554713930134,
          0.0689691086762065,
          -0.9255865223401236,
          1.3476696545357605,
          -0.7166834764664002,
          1.732508221923882,
          0.7372159496953762,
          -1.0226502690630253,
          -1.8728094241256852,
          1.5505285957124093,
          0.6008059078270443,
          -0.4496535969450382,
          1.0634883540298412,
          -1.0033917257191403,
          -0.06587076458306212,
          -0.16698409244729542,
          0.0027969217659074043,
          -1.3098233778760557,
          -0.7878729981765902,
          0.1942376115386768,
          0.6209505420787585,
          0.594648975883689,
          0.36850237536799973,
          0.8410313556590594,
          0.7094810385225382,
          1.0614818582805203,
          -0.3123321833447328,
          0.5433366678639712,
          2.055123580493092,
          -1.0699613972103317,
          -0.10517115432516014,
          0.5924684798579979,
          -1.0308763864804427,
          -0.4734676952777637,
          -0.6890096258660342,
          0.19694452254622544,
          -1.4803618397710432,
          -0.03218075986337064,
          0.2647946236104973,
          -0.1646364380784422,
          0.25428356103195293,
          1.6860588061718977,
          -0.1743862961822586,
          -0.10830306638282,
          0.9154627566283849,
          -0.38649687719645,
          -0.5713384175027121,
          -0.45708466995686553,
          -0.007116601739571197,
          0.22831203161828215,
          0.07557084052969991,
          -0.2096443447414461,
          -1.1440479667441912,
          0.3949334616299457,
          -0.7270213105952386,
          -0.8450898315922395,
          1.2124915048512104,
          -0.4077696339784472,
          0.07574654497079862,
          0.7499728315834724,
          0.48507589189820716,
          -0.11514883328859227,
          -1.2294029857974953,
          0.0201286972357387,
          0.3097884867550331,
          0.24356499782996785,
          0.3347874289570257,
          -1.9248000006551842,
          1.2216562608049486,
          -1.0943397095263232,
          -0.530449802498616,
          -0.5923370998377279,
          -0.14190708029676885,
          0.37584460937050607,
          -1.6255829450408346,
          1.0377036581139625,
          0.866831177287035,
          0.8416893304004183,
          0.4055924482137639,
          0.7475218551699593,
          -0.175880247869899,
          0.7679420093770476,
          -2.1088544412699175,
          0.44460703980308525,
          -0.3171436368760055,
          0.022232833160131485,
          -0.35279847665986797,
          1.0278382751069362,
          0.9389369771266641,
          -1.8248813481283501,
          0.6805281455822564,
          1.7883628751216858,
          0.9281196120746824,
          0.224339508181116,
          0.8852957437922906,
          -1.388886612662065,
          -0.9815697194163334,
          -0.623998803039206,
          -2.2979320265439074,
          -1.9362201006348552,
          -1.6096979738630472,
          0.8685999923446363,
          1.339626449836657,
          -1.1270772952931425,
          -0.5710866081695153,
          -1.416150624848844,
          -0.46421741079861273,
          -0.8177742284474672,
          -0.14062485703210292,
          -0.11790192867345672,
          0.22160498433725762,
          0.2889814568664524,
          -1.803809205321258,
          0.7035250399872384,
          -0.38844645885561124,
          -0.468535013441253,
          0.4180656109810546,
          -0.24585328934975617,
          1.0107906277038734,
          0.533657481714122,
          0.8101454143247281,
          1.5112529700539068,
          -0.3080645558641689,
          0.8310710821529481,
          0.6868427610450512,
          -0.16958839446132148,
          -1.0973794633974407,
          0.22175818851069562,
          -1.094648834435139,
          -0.03973195632708967,
          -0.048848492606313874,
          -0.9262069155141655,
          -1.5085350121535295,
          1.1986425115596893,
          0.34513781233579666,
          0.5038919364576641,
          -1.0288048822499372,
          -0.9587195767752824,
          0.974621526267522,
          0.6345884907954328,
          -1.369962234016624,
          1.1877793623880486,
          -0.31372450221500164,
          -1.3849451523503238,
          3.2960376705536856,
          -0.009276866309214269,
          -1.0865537051628817,
          -0.43443812716296737,
          0.03183453147946127,
          -0.645592974588631,
          0.4922049309994439,
          -0.5365769608875667,
          -0.8863870174717707,
          2.1987151279985353,
          0.06886752677373274,
          -0.2502946884627499,
          0.510546732609871,
          1.3806905257734792,
          0.7919965803045736,
          -0.6038719297481325,
          0.41367394420088965,
          -0.5298742392067778,
          -0.30376633368955597,
          1.362447542258264,
          -1.4870610502837398,
          -0.6854558942953923,
          0.9087699219161725,
          0.2882646832639745,
          -0.9602419228473459,
          -0.023296475189188048,
          -0.20938918320964806,
          -0.6997810545167288,
          1.7087684107117997,
          0.5240477080760326,
          0.278222238598926,
          0.020618736531258394,
          -0.10348579996213622,
          0.6169001400463939,
          0.6567852539758301,
          -1.1603069794397434,
          0.7898799956254797,
          -0.06084821002900314,
          -0.1755763873611746,
          -0.2552762660878413,
          -0.06284045049961062,
          0.6769987990945769,
          -0.5121217872991874,
          -0.26093707833756535,
          -0.45077468346775484,
          1.508701947547246,
          -0.07973389599825235,
          -0.13865964228083097,
          -0.603090858536063,
          -0.3169144116135452,
          0.11236341504953411,
          1.090562676423817,
          0.42037015794730015,
          0.9470607006233186,
          1.991736910385998,
          0.6619205731772524,
          0.4061527152670885,
          0.02159348224361882,
          1.2790903273335872,
          0.6618601528332227,
          1.7326607948332693,
          -0.2826767064045886,
          -0.8224191321208021,
          -0.701117387010359,
          -0.4183525940833169,
          0.20796029528256532,
          -0.813314603011273,
          0.701247790165466,
          -0.07615514179415597,
          -0.9337340848689943,
          -0.749436082801681,
          -0.4367342333636749,
          0.694354878222611,
          -0.8493010434964549,
          -0.7681839079057492,
          -1.7170741900500106,
          1.390535121349456,
          -1.0236437574805186,
          -0.8945444994699476,
          1.5137966428362555,
          -0.5803101403136061,
          -1.1890033937226816,
          -0.32612931677703316,
          -0.7213504781020567,
          1.4987743502748077,
          0.16797697360525063,
          -0.6165547339980822,
          -0.497678092470198,
          -0.7513595721837639,
          -0.6277264807430163,
          -0.6268468453890071,
          0.7875000019571472,
          -0.8453260628399119,
          -0.3863212572443832,
          -1.2378648681928788,
          -0.4035198872865241,
          -0.060573857310397265,
          -1.5297749764351583,
          1.3996109661280558,
          -0.5568317403672147,
          -0.8988243626959068,
          0.8137511854949222,
          -0.35438410778826096,
          0.6017254806983402,
          0.18140859950787097,
          -1.1794540238760272,
          -0.08978454084959543,
          0.32344838228793293,
          0.899165847090961,
          0.92373264151345,
          -0.5787524162484832,
          1.4778350376321703,
          0.29256867824009825,
          -0.41647803888647106,
          2.334429913022755,
          -1.6587036537806163,
          0.4931458417372223,
          1.1570626463931577,
          0.4228864768306847,
          0.3922639856280976,
          0.16675781437011614,
          0.36750145405458745,
          -0.5920895560461005,
          0.36139486052206055,
          -0.7129584206885632,
          -0.5721963583202538,
          -0.18130883490812422,
          -0.215137814937486,
          -0.6149790663413808,
          -1.4316197474848262,
          -0.22014227858281737,
          0.003810166273744788,
          -0.14302729823630297,
          -0.3837308733841223,
          0.8638247966334546,
          1.4169421424229474,
          1.4601656506126937,
          0.802629880464949,
          -0.8406537642074213,
          0.39484486157245335,
          -0.2937623720110856,
          -0.39992930324605974,
          -0.7712411626562232,
          0.47174722757000676,
          -2.565568469377959,
          -0.18831846896896326,
          0.8797381634403585,
          -0.4587950534148048,
          1.141305633358121,
          1.1278183679449698,
          0.9633377843325738,
          0.6015339735652759,
          0.2688647666822032,
          -0.9103529259078615,
          0.38388305034199965,
          0.10925055040427716,
          -0.4620324025966478,
          -0.4734579000655451,
          -0.014878079611313814,
          0.15577320003887266,
          -1.0950745972828237,
          0.8526771050388803,
          0.10214275547473609,
          0.34052342972723626,
          -1.3370732412590136,
          0.30893437274808555,
          -0.9480190621355113,
          0.21758843569725872,
          -1.6773877657440535,
          -0.48649100176473964,
          1.480395557029675,
          0.849544139156421,
          1.1055617282148504,
          -2.3674078427514385,
          -0.1984825851937006,
          0.9568324802542746,
          -0.6589919841279207,
          1.2067338756573445,
          -0.05113973840040865,
          0.04800796295740639,
          0.28706343422046143,
          -0.22970673829682306,
          1.8225705314349214,
          0.881231695465486,
          0.018146147278421638,
          -0.10491708331166089,
          -0.5645179850477751,
          0.4618371047282354,
          0.5818551604507594,
          0.49996104843000405,
          0.10250787506954351,
          -0.5009234584184219,
          -0.1705042806032469,
          0.8433145732117011,
          -0.6715891941037503,
          -0.5160354128376661,
          -0.501524980462366,
          -1.084952873365154,
          -0.36662986471191195,
          0.22934435805663744,
          1.0826299947527924,
          -0.03313516037419325,
          1.441193414003509,
          -1.0363563136440017,
          0.3263640839480677,
          -1.074517313330537,
          0.01997289831388839,
          -0.02858302948360938,
          -0.608771649852922,
          -1.143637584490682,
          -0.4038701154779662,
          0.6917923337063577,
          0.45088121653181534,
          0.9333267195421963,
          0.49097278175727577,
          2.291229339174806,
          0.07722170901727135,
          1.1680828753639032,
          -0.9433021375334864,
          -0.8800630393077059,
          2.9420591481654474,
          -0.6384928360502158,
          -0.3726490405109382,
          0.17065446937319848,
          -0.4261903133331695,
          0.11635224502046482,
          0.17707425183044492,
          0.04433984809547953,
          0.8832977553898682,
          0.7214117635141071,
          -0.08889742437495153,
          -0.05390217295928656,
          -0.19244986822949678,
          -0.8843146519267159,
          0.7385298052910827,
          0.06347088505301755,
          -0.47538921001559453,
          0.8286168424085708,
          1.319606430785647,
          1.2527711699719286,
          -0.16401675604361962,
          0.5663490517555685,
          -1.229523220031341,
          0.304223901237032,
          0.09941589164319335,
          -0.4833146886336445,
          -0.9549589644843038,
          -0.9212723473100409,
          -0.773302147834483,
          0.245905151318756,
          0.492103469838743,
          -0.5032787645352143,
          -0.11881400628298285,
          -0.985566809795629,
          0.4249442407465223,
          1.08503739822528,
          -0.9199969980360053,
          1.5081876883803167,
          1.4877866068889616,
          0.583825010601403,
          -0.3050912864666283,
          -0.6762257896346905,
          -0.9590250947738693,
          1.076703519093059,
          -1.217667129960465,
          0.24087676810703496,
          -0.7545056610453083,
          -0.2445861573524717,
          1.0635263991477453,
          -1.1518502829562636,
          1.0332680607191675,
          -0.344734676917973,
          -1.2191649794351862,
          0.42247479734877924,
          0.2707683149065444,
          0.4809438233863132,
          -1.3130554539358037,
          0.02005304456301268,
          1.0485241511304146,
          0.5753958548897904,
          0.35598362236147657,
          0.1830642061582891,
          0.09842094173928122,
          -0.487292205559624,
          0.8728733268939433,
          -0.32122333309119644,
          -0.1585863220980465,
          -0.82714608766896,
          -0.4401691717591687,
          -1.346426502073601,
          -0.2924142748356517,
          0.7499211187464623,
          -0.7298175015811079,
          -0.5892428962769748,
          -0.802336509231363,
          -0.6998591288117452,
          -0.03084198029521418,
          0.5377441367314338,
          1.1781271823968362,
          -0.07410458384636817,
          -0.5468592390382772,
          -0.590069326575466,
          0.8263799733196046,
          0.1312257927484832,
          -0.0546915159411317,
          -0.1945128860628704,
          -0.9726520071569258,
          0.6785218051314698,
          1.525208205187427,
          -0.5342078287055514,
          0.9476468541565444,
          -1.4174538808698574,
          -0.8166690965169069,
          -0.5194974894592654,
          -0.11626009546813562,
          0.6572206283578328,
          0.05553926893848226,
          -0.4211182855647876,
          0.5081054451539181,
          -0.5526264399736851,
          0.8152095508216274,
          0.4977309657140873,
          -0.35561961845120377,
          -0.7768210789376688,
          -0.7547010177044539,
          -1.499257172505897,
          1.5466285613403252,
          -0.13850647340123562,
          1.037455407429086,
          1.3093857118742716,
          -0.6779131137286534,
          -0.03661713991628194,
          0.26755951468340217,
          0.9602971009083059,
          1.1088901188374964,
          -0.47199413958556125,
          -0.47259280565798384,
          -1.0611293423037862,
          -2.034779982830944,
          0.7463116144174176,
          0.17230182671038205,
          0.7736297170615131,
          0.1607317225917808,
          -0.044759516655794085,
          1.1225757185120444,
          0.16761966674302078,
          -0.2019026473023873,
          1.7215005563240142,
          0.17327470799282782,
          -0.4994305524131073,
          -1.065036040064281,
          -0.5431120008913977,
          0.3262917177574209,
          0.7592203796759035,
          -0.7992780790602171,
          0.13887644209546018,
          -0.9445641337487216,
          0.2954240133363584,
          0.5571329470228316,
          0.11851884249357675,
          0.05986204839289102,
          -0.26565742936737297,
          0.8817755795354707,
          -0.04311317114172281,
          -1.293763090567526,
          -0.4321302351024871,
          -0.3217990742581107,
          -1.0945499248500912,
          0.9731674658776751,
          0.6848779479288791,
          -0.598009025618026,
          -0.5529511223985987,
          0.43872636984100616,
          0.4656180503489726,
          -1.0962758105259423,
          1.4082431513076448,
          -0.19604673041346696,
          -0.6801154936740088,
          -1.0054104380985485,
          0.556318063547264,
          1.0832207624382109,
          0.08730665151961885,
          0.8108418255493113,
          -0.27844802120087386,
          0.1310625557695009,
          -0.5388790325004839,
          0.708768740486133,
          -0.3506909525277381,
          -0.35754530611018365,
          -1.2239730520793646,
          0.36052577906410116,
          -0.32320985974714694,
          0.4839612518575856,
          0.48190901827599314,
          -0.6156691288492226,
          -0.7984213742517922,
          -0.25155291371133504,
          -0.46668149433296735,
          -0.19406166704198502,
          0.6566254931516912,
          0.948827339790811,
          -2.1136087739748755,
          -0.49013376831730254,
          -0.07502511904362297,
          -0.560765136233772,
          0.4004990663693128,
          -0.8050449011970637,
          -0.37180013513851684,
          -0.6091862937553654,
          -0.4971418721257571,
          0.662713179989761,
          -0.006388717803573811,
          -0.06663647325601554,
          -0.2788814367636368,
          1.3000984165937808,
          -0.9151294540440459,
          0.6849292528727712,
          -0.3407665553702177,
          0.9462712712974221,
          -0.13877064245094317,
          -0.2112003329893246,
          -1.0889123562199086,
          0.6382771351023757,
          0.6431658271347116,
          -0.7895556650350359,
          0.6326817265609684,
          0.010651950901965603,
          -0.3964095965971338,
          -0.4129282483335869,
          -1.0526695590252697,
          0.6519328038244094,
          -0.12888058846617068,
          -0.3471192679236359,
          2.0818338082449674,
          -0.22405490236983128,
          -0.5267840562871611,
          0.24496501800585674,
          -0.7438295088600193,
          -0.2944046612281808,
          -0.010774221600973148,
          -1.4186799263209906,
          -0.15831197401903674,
          0.5930242063550066,
          1.0160021826379484,
          0.1345795923066671,
          0.22574082897284586,
          0.48493753914647075,
          0.44041130228661096,
          0.3095885401798567,
          0.884101410328543,
          -1.226812413477938,
          -0.048194839763048544,
          0.7980991008700885,
          1.5249513022076082,
          1.6622123391462615,
          -2.066399869170273,
          0.7762217461197815,
          0.8630183663331654,
          1.6732974538086365,
          1.7532802258048406,
          -0.7606765343943076,
          0.18432864512030891,
          1.2570884273374108,
          -0.3394499453286132,
          0.3435802407031306,
          -0.6810294210113514,
          0.2570186791130873,
          -0.64284666744604,
          1.294327261946818,
          -0.5938462110508747,
          -2.1499755992096925,
          -1.1979054015933326,
          1.7613154290414166,
          2.0320704454890555,
          -0.0007434807500617376,
          1.1019410552255882,
          0.2092276034162982,
          0.3342457804733153,
          1.2794031335284564,
          -0.21494155185470706,
          -1.6768415267947454,
          0.13565232197423993,
          -0.04853799084135414,
          -0.38337569260995413,
          -0.8205235835756308,
          -0.3352136853133,
          -0.6057373529486153,
          -2.21303058668174,
          -1.5086594461289908,
          -0.1777458403200317,
          0.6129052578661068,
          -0.9482790258312997,
          0.07615173000050114,
          1.9977804465298723,
          0.5663855519278542,
          -0.9416413801487579,
          -0.26292834331556103,
          0.6764597798197115,
          -0.5454347028585207,
          -0.45846698000106395,
          -0.5475916361187425,
          -1.4855117327898695,
          -0.22184125960178397,
          -0.8891132732941379,
          -0.9620288695720772,
          0.21879126378951383,
          0.8943150572405267,
          0.12090429802700539,
          0.35077303308333874,
          0.2344506249238218,
          -0.9878283010695608,
          -1.3094806563738888,
          0.42956467795113484,
          0.1865860646197044,
          -0.7055420285902573,
          0.5698101685356634,
          0.5585006361254499,
          -0.27079109318468897,
          -0.17848788434271706,
          0.152744644519552,
          -1.1585658427697534,
          -1.017565266412744,
          0.9710604627243666,
          -1.140092770466488,
          -0.9307275861145472,
          0.8956550878894012,
          -0.9273567764497139,
          -0.49657705788180406,
          -0.21748921665425391,
          -0.9579801628172868,
          0.7786952662829393,
          0.9999936449950129,
          -1.6180346809503694,
          0.6616224888850399,
          0.025475810587319275,
          0.5444315248922688,
          -0.29597129414177636,
          -0.4087979780227095,
          -0.3254175692227712,
          1.1766434938323769,
          -0.5400299428844726,
          0.515074829801539,
          -0.8002045027950503,
          -1.1603924360956803,
          0.38487422272050953,
          -0.9959110200282425,
          -0.15150269737021932,
          -0.424686289306483,
          -0.1171331955914407,
          -0.9314043882391309,
          0.3500765375339211,
          1.1955506790898478,
          -0.047642946000542245,
          -0.22139566769096666,
          0.5432336863837467,
          0.5153788532906413,
          0.3799875813315067,
          -1.687252016218416,
          -0.8454517192695804,
          1.2338781682636528,
          0.6068810941069489,
          1.0295633786889231,
          -1.357108283262538,
          0.7131734858414424,
          1.2487161046850197,
          0.6273555476599383,
          0.3689151513784555,
          -1.979417142544278,
          0.36829052766052534,
          -0.5289178755390608,
          0.6647557440201101,
          0.04055636572419915,
          -0.7085634612240582,
          -0.15178906415065208,
          -0.942510473070703,
          -0.7391958793976577,
          -1.165794864596477,
          0.8886676073957469,
          -0.7429642283943901,
          -0.38203680647668453,
          -0.46099019294087656,
          0.3505419871244471,
          0.23463750709626477,
          -0.46208054342891947,
          -0.591529215794869,
          0.025401547148962405,
          -0.7813719193636125,
          -2.078695783243171,
          -0.6529088265755305,
          -1.3116145829683694,
          0.81461968272774,
          0.35394215571403886,
          -0.06736083727421818,
          -0.5869427242795815,
          -0.15171365189594926,
          -2.183031891321048,
          0.24996762263533046,
          0.3763989372024095,
          -0.5586845551018669,
          -1.9925982573408214,
          -0.9856006285427854,
          -0.41724287852400144,
          -1.4230107592425987,
          1.3479326309576354,
          -0.6908431019885822,
          1.314627538452045,
          1.7699064160453568,
          -0.058812746603509596,
          -0.6453160359652322,
          -2.1181384549451012,
          1.2486622194405108,
          -0.5126934331645339,
          0.18798827237730806,
          0.34434982656579566,
          0.3183394345430168,
          -0.03461452125484552,
          -0.6543295349560795,
          0.4378991666109068,
          0.9909678657276851,
          -0.09760266495910225,
          0.6158162810812621,
          -0.6650942678307644,
          0.8578599370746427,
          -0.008709200310227844,
          0.2117292651169935,
          -0.2537371425740111,
          -0.19742999837390893,
          0.44994964647870406,
          0.293465820177471,
          -0.39192158893381224,
          2.082701961301355,
          1.318972708805498,
          -0.3251466121704501,
          0.15122677786939667,
          -0.8904745858076565,
          0.48330917783220484,
          2.0906064676940748,
          -0.09302123433693973,
          -0.2587034604142709,
          -0.6390764928520807,
          0.17419353043650132,
          -0.09105512750283726,
          1.9496524816915028,
          0.428419010123731,
          -0.672451588280851,
          0.6418048242520288,
          -1.4034480077234257,
          0.1454308220275865,
          0.5495965397075324,
          -1.4709009216717772,
          0.30444185822728026,
          -0.3890269243128389,
          -2.763403883250663,
          -0.4377606408069548,
          -1.9297886554504908,
          -0.13020821214919776,
          -1.2575805029067169,
          0.653164681780447,
          -0.12105057694508461,
          0.2728573291240546,
          0.2454828659927329,
          -0.5774733906066507,
          -0.71547340429879,
          -0.2818272340067779,
          0.13288417221724255,
          -0.5153707027903462,
          0.6583531319845438,
          -0.10692137847217953,
          -0.606955957435471,
          0.7580693859584728,
          -0.8322021361568009,
          -0.45044053219255775,
          -0.9753446183508647,
          0.14982164575468662,
          0.47806267496315913,
          -1.2358490676331786,
          -0.6555295334058797,
          -0.81337887209704,
          -0.5704337167018113,
          -0.775476605503869,
          -0.42173861988970174,
          2.5515907510798526,
          -0.6203626078118712,
          0.3819866224003812,
          0.5466716288474003,
          0.05316998183885663,
          -0.15665382898411995,
          -0.9070278088873773,
          -0.006550295399122011,
          1.9490888875174706,
          -1.1772829853407227,
          -0.18949034342677148,
          1.3157040983866248,
          -0.6229939694647455,
          0.877407743033553,
          -0.2635642985969623,
          -1.2955729497595843,
          -0.4846183838479534,
          1.0987306248529356,
          -0.3399497073232563,
          0.6525504383459492,
          -0.5800038419795687,
          0.15158690944844633,
          -0.8867252178558251,
          0.4099816251546198,
          1.1341208791084105,
          -0.9386996719855603,
          -0.3262257723066295,
          1.866849735789574,
          -0.656489159954413,
          0.8383404883020362,
          -1.0689146753442982,
          0.125160822950612,
          0.456851008245455,
          -1.1674176419916076,
          -0.4984650049529524,
          -0.6344019802816987,
          0.8891955552638617,
          0.5437486078151187,
          1.1999583485996317,
          0.4662001993418581,
          -0.6605654103818746,
          0.888135227530701,
          -0.02268969019346842,
          0.9651069365169846,
          0.17879438740125858,
          -1.9682589123262317,
          -1.0015928607478721,
          -1.2927299914537436,
          -1.4295156245147804,
          0.07652341489789943,
          0.35938361079616066,
          0.8481234352215969,
          0.027406215391935107,
          -0.0771314537039171,
          0.13283647608800708,
          -0.22124214163198627,
          -0.15178917784934323,
          -0.49315809763263885,
          -0.6690416958765746,
          -1.0189764429434989,
          0.13590819947079016,
          -0.21706010036765347,
          0.774589630303888,
          1.4150429391252584,
          1.6963733088214132,
          -0.21712973894024934,
          -0.1779832207070302,
          -0.4566225575320539,
          0.11231125110350369,
          0.15947270756260423,
          -0.1423888704558072,
          1.0083363680144275,
          0.27330723295296216,
          1.774087052810372,
          -0.6460124457121208,
          -1.3222512272362463,
          -1.1262153744471413,
          -0.19051075783047644,
          0.7605624455512704,
          0.24008181400751333,
          -0.5670799340589388,
          0.5970244523214739,
          1.022956070405111,
          -0.45849714133785,
          0.5395037895569226,
          -0.4271558671076748,
          -0.07235757642567665,
          -0.27622501755662243,
          1.3470722163460447,
          -0.31602821814751275,
          -0.3043071379325123,
          0.2501339121430106,
          1.5441193514010436,
          -0.7968646829493607,
          0.20683739846489543,
          -0.952441835036584,
          -0.13275551667919067,
          -0.5981894938604055
         ],
         "xaxis": "x",
         "y": [
          1.0190469030321379,
          -0.3064218346703411,
          -1.972582133998773,
          0.21386126173754283,
          -0.7905011151864689,
          0.7659591729015238,
          -1.8408710435779556,
          -0.5277629839096325,
          -0.010352622863370017,
          1.2747503118431929,
          -0.2464912214046881,
          -1.0552957296243302,
          2.2907744172799247,
          -0.3632515814971021,
          1.2292096512635398,
          -1.3739455644939478,
          0.36290471866955076,
          0.04387331338417217,
          1.1476147793077256,
          1.082421575534636,
          -0.1137825465676386,
          0.7575173715474196,
          -0.4124324874696104,
          0.03365361707294614,
          -0.3356040594106949,
          -0.2894585986612299,
          0.17334858714855605,
          -0.5707907901636161,
          -1.006066493294545,
          -1.2086521111282795,
          -1.364271075310289,
          0.6035700245438359,
          0.2400221089998775,
          -0.6000280436182511,
          0.489383237429206,
          -0.962907489811414,
          0.450420181932343,
          0.3324961688481843,
          0.8116926796751296,
          0.7738671731436945,
          0.5190174877167228,
          0.9338857661699796,
          -0.2731392990556213,
          -0.864751941626235,
          0.9872106586196919,
          -2.31561997895929,
          -0.7117726805145707,
          0.556200857027326,
          0.8732859143918387,
          0.13439759261830683,
          -1.6441209884193697,
          -0.7510564729465844,
          -1.2518329983275651,
          -0.08312585244858953,
          1.0173161688366084,
          0.696605854000481,
          -1.2150828842218497,
          -1.0437597688600833,
          0.4777755593853531,
          -1.6054959812385832,
          0.11388570024014279,
          -1.391316246760985,
          -1.1224610481009014,
          1.0004890333674388,
          -0.10105428512863342,
          0.7777513559029101,
          -0.3240004880019571,
          -0.15791377828252903,
          0.4801520829726667,
          -0.5488585604585029,
          -2.1434449688309307,
          0.9095536013951475,
          1.3341908631817208,
          -0.10919708545118814,
          -0.07375754986923135,
          1.4156785177700357,
          0.8118006154356955,
          0.6644094293227623,
          -0.6638917287932867,
          -0.9776579698440402,
          0.47108200041799797,
          -0.6559269429062704,
          -0.3628931599295285,
          -0.37107137423266245,
          -0.3846556827531981,
          -0.02328725377987331,
          -1.0335851870952657,
          -0.32439813620599167,
          0.34947851612653363,
          -0.2215413990321272,
          -0.48023444517313496,
          0.5628390687645914,
          -1.4544784791475163,
          1.0896581349457057,
          -2.3132885837147374,
          1.1532606128737708,
          -0.5411700497224896,
          1.1805497454153435,
          -1.0244698734891986,
          -0.8781395080768781,
          -0.5773192768649741,
          -1.792141437133474,
          -1.1201915351890355,
          -1.5032043393043963,
          0.6297293409734455,
          -1.2784766619011907,
          -0.49379713456103036,
          -2.020832768708481,
          -0.6008411151810692,
          0.3790153234559806,
          0.7002992242125072,
          0.3637365774230569,
          1.1093731907917292,
          0.606153751485857,
          -0.7925325421302486,
          -0.6687189113587344,
          -1.753112419084954,
          0.20689923162559748,
          -0.49010211920938274,
          0.4186944903263229,
          -0.031380498061266936,
          0.4444599228211277,
          -0.7375723763399465,
          -0.6119666796518175,
          0.48014843583084765,
          -0.7824635908624704,
          -0.19768453320779697,
          -2.240418621373226,
          0.43916765487301296,
          -0.30195927382393534,
          -0.2834081827334637,
          -1.614811744729434,
          0.15435562645637005,
          0.3850001017086958,
          -0.2926232420819214,
          -0.06548433291644053,
          0.2895002000955014,
          -0.27309885159133435,
          -0.37833828098165206,
          1.2559498756210683,
          1.243459454485425,
          -0.5699877962149165,
          0.3267920622499857,
          -1.3113346085881037,
          -0.2348819948754433,
          0.5463660240383822,
          -1.234694852921576,
          0.49356663333646916,
          -0.9973404933802791,
          -0.31976353340701197,
          0.516410721935206,
          -0.871086283537023,
          0.6698557948392629,
          -0.3747009486750338,
          0.3499024864599836,
          0.40271625593015337,
          -0.4667955364191668,
          0.622684543971965,
          -1.2237317506921288,
          -1.2040066070008477,
          -0.6987211328076425,
          1.6092496682284265,
          -0.0221185459467089,
          0.12407346101770475,
          0.9027748647645504,
          -0.4818586938875867,
          -0.6152914580480552,
          -0.5390630105921954,
          0.18865832948131162,
          0.3407819747589573,
          -1.3701172605185794,
          -0.09946641581067989,
          -0.20605183749277112,
          1.2470567440649196,
          0.7929803647797519,
          -0.6235732906089292,
          0.19424478338186657,
          0.6949405712927722,
          1.1140183752380899,
          -1.8678044607526731,
          -0.8914077691134484,
          -0.666956472560917,
          1.0263911970878534,
          0.49841377265996295,
          -0.584880397154897,
          -0.31544662428444137,
          -1.4231271515267085,
          -1.3550026185397583,
          0.7832445415164447,
          0.6469754269525504,
          -0.7701399412528745,
          -0.4921294503721466,
          1.132305451597935,
          1.5736246474240938,
          -0.5416639609503016,
          0.5052949613901865,
          1.1322457296219721,
          -1.2395814011546666,
          1.5430413763208712,
          -0.037931660290866566,
          -0.2565234550872788,
          0.1156825338920456,
          -0.928092563067202,
          -1.7668154596229346,
          0.5808524857533848,
          -0.11965419935972191,
          0.7454473350956105,
          -0.848123659764706,
          -0.16347580618720203,
          -0.19579126320944795,
          0.3329961644036009,
          -1.1728663566452526,
          1.8121180102016647,
          -0.11350997939706722,
          1.553262756513496,
          -0.9812443145763474,
          -1.2062887855549425,
          0.6803313394376871,
          -0.3754175444692804,
          -0.2716453597358827,
          -0.646704692669539,
          -1.293713018481425,
          0.6476919316280407,
          -2.4173318408078335,
          0.7676632735760032,
          -0.5162383018886006,
          0.5935756466624943,
          0.5294326827883625,
          0.7546834625425621,
          -0.5742740531481371,
          -1.4871487507597672,
          0.363089882912521,
          -1.5396501730176577,
          -0.7454419344319668,
          -0.507103469882207,
          -0.31688915436722215,
          -1.0508765396494388,
          -1.127150700857444,
          0.8276316148059821,
          0.9093622472670755,
          1.6182706552868331,
          -1.3302660321950415,
          1.8664609635615592,
          -0.23475061592868568,
          0.39107400106617823,
          -0.6127509891935908,
          0.7220091040275013,
          0.25274822339210895,
          2.353898334411847,
          0.005686855169704771,
          -2.0980398626414187,
          -2.551222497930283,
          -1.3248777389968682,
          -0.32757909289660386,
          -0.8469076370055406,
          -0.5653545228962834,
          -0.06299605071504277,
          -0.1366231863344583,
          -0.6908001506397595,
          0.23994912871691942,
          -0.5683223765720753,
          0.33316870416665684,
          -0.9519838139949812,
          -0.6645430353141013,
          -0.3034977533351369,
          0.4683913878493343,
          1.7347313412194991,
          -0.7403672644604063,
          -0.3505640066540431,
          0.03834672116753873,
          -0.4581308516988813,
          -1.3637534665444004,
          -0.06751399713452406,
          0.6136083653354103,
          0.36155633506911783,
          0.45145321867601856,
          -0.009919005392569912,
          -1.1785434065254867,
          -0.5307097755100295,
          -0.6620380882589117,
          0.20688889738638863,
          0.4364736639713691,
          0.6049170100875433,
          -0.6575228886141835,
          -0.6366893388727624,
          1.4263757064809954,
          0.47574031826725605,
          1.5405082773992904,
          0.056658227284726824,
          0.7266512738501455,
          0.21422160779929164,
          -0.2456829663790011,
          -1.8940965741529368,
          -1.3478293768149772,
          -0.24627208747614057,
          0.5493280113650304,
          -0.15918424331307482,
          -0.38178080564959427,
          -0.08004225257690518,
          1.6196004771165509,
          0.522706440327337,
          0.6692640442961598,
          0.1943299017756305,
          0.029525553055088593,
          -0.12052983744945285,
          0.1821980060978317,
          -0.3790763509866268,
          -0.7333500755419988,
          -1.8494407137034465,
          0.7183093534791357,
          -0.07360265159046388,
          -1.4934591015836816,
          -0.36371037965382225,
          1.0716570289782323,
          0.8721268058249397,
          -1.1074384837788296,
          -1.144810185306116,
          0.3561652502921266,
          0.11132929010615156,
          0.324036409298373,
          -1.7551915309462383,
          -1.0335328949701725,
          -0.8021138124146949,
          0.14917435607290674,
          0.8626666607369663,
          -0.25607038673615584,
          0.37205642060791966,
          0.015538793473061871,
          -0.6590050913633715,
          0.45963367629407204,
          -0.12228517368462014,
          -1.2255472845908986,
          -0.9081288737980523,
          2.180358259993735,
          -0.5934829416559114,
          -0.7022638044197825,
          -0.5774146699463943,
          0.41120623429538977,
          0.91851548947541,
          -1.1444546850618762,
          0.19199401576482944,
          -1.487613339465515,
          -0.5182154030374028,
          -0.08631667896415536,
          2.1251781874207807,
          0.364517250037877,
          -0.6856035962650043,
          -1.4042630837443655,
          0.8947687535084441,
          -2.0162309106087086,
          0.014663026150528159,
          -0.5723145553724797,
          0.8222492348887035,
          -0.9951775196310902,
          -0.2941971832982593,
          -0.8120532128443049,
          -1.411029546625019,
          0.19970837151660586,
          -1.558595941731053,
          -0.07566219676645768,
          -0.07789717231735743,
          0.10962812652671157,
          0.0851408184740793,
          -1.0235304665763945,
          0.29804379744833076,
          0.14324951702228955,
          0.8885358154163583,
          -0.5418793902047341,
          -1.0665590082259995,
          -0.45919372060892566,
          -0.8319731224446171,
          -1.0149980217196064,
          -0.9083447990808226,
          -1.0034740023605604,
          1.3487132123095142,
          -0.8829314208831182,
          0.8696552823922978,
          -1.1683062785844707,
          -1.0719227952956096,
          -1.3746509023900477,
          0.7937691033371427,
          0.5578384972392321,
          -0.37219668591872224,
          2.3783709653193843,
          -0.008302608589757676,
          0.07964416182246968,
          -0.0700033670697845,
          0.026261925621421118,
          0.8131242767858807,
          0.19384912677071695,
          0.039608830341953484,
          -0.49489195790030166,
          -0.15299453170165186,
          -0.048236117970849784,
          -0.8633945815421015,
          2.1919978476080084,
          -1.2935797869892143,
          0.4536219168405812,
          0.5466027428451725,
          0.2808983457980037,
          -1.9360682140124506,
          -0.818479164621356,
          -0.2148947017100533,
          0.44222496689580704,
          -0.10475634269883399,
          0.8170582589243939,
          -0.06552023781226544,
          -0.20516432175510532,
          -0.38170776304876153,
          0.3587114145974581,
          -0.18212298571127106,
          -1.5101545768744395,
          1.1761363044891113,
          0.7614655290137143,
          1.3602297018950105,
          0.1504044403736922,
          -0.31256526509314714,
          -0.7938977882031837,
          -1.5086911671152334,
          1.0319157279265858,
          -3.4578845528354147,
          1.1708215109729754,
          -0.3869506820002404,
          -0.6830242495441071,
          0.4640226216764492,
          1.7459145482916882,
          -1.3448619428805793,
          0.19348978471606565,
          -1.3374123694704605,
          0.31424508224892145,
          0.9649052241857863,
          -1.1373890332260195,
          -0.25693228428100673,
          1.1370202320718101,
          1.1168501488849576,
          -1.693565439324442,
          0.9748051743028894,
          -0.2948670287019974,
          -0.12131066609832045,
          0.8693983563791683,
          0.031809882218790324,
          -0.7230306731268463,
          1.8922511345407313,
          0.8672654420400763,
          -0.04979682181865895,
          0.2602296800619396,
          -0.6347889651760048,
          0.806801965966818,
          -0.6824375079447087,
          -0.856984442906688,
          1.952238802174843,
          -0.6413278797383616,
          0.7700415319552444,
          0.35343530220657887,
          -0.10858625822731051,
          -0.18051946770624794,
          -0.3373983991964741,
          -0.9888483798900546,
          0.22137087011561687,
          -0.25972693015674736,
          -0.13597995054514417,
          -1.7710598341516397,
          1.1406941271326492,
          0.1775246818850257,
          0.2729582256947982,
          -1.3023249764996534,
          0.7216448168998896,
          -0.3211730253556999,
          1.2447845947286003,
          -0.08229663821750594,
          -0.023289729779143595,
          0.06517620852947612,
          -1.7702359408457014,
          -0.28968523758556725,
          0.4203432090030139,
          0.748192448217032,
          0.1321221203262163,
          -0.8493119432476349,
          -1.5491682352211842,
          -0.15414090310336673,
          0.3730722680953107,
          2.060488343452185,
          -0.7448978430855241,
          0.37280303353947947,
          -0.609037834019624,
          0.2102147617461664,
          0.10320735978223652,
          1.0354752685311848,
          0.74096028912763,
          -0.9036491552017691,
          0.2557568977904277,
          -0.8911238209093346,
          0.36173467525389713,
          1.6314981090334977,
          -0.028573200334492267,
          0.40895213265286345,
          -0.8858285988291137,
          -0.230198654339004,
          -1.0025296320858,
          -0.3208885638157231,
          0.8769468359550084,
          1.338368354710096,
          -2.0298435561365884,
          0.9550162539535483,
          0.24045044088241485,
          0.976971182518103,
          -0.44856085292499887,
          -0.13102527898863134,
          -1.6718239563830195,
          0.4495350954460817,
          0.7850549804171998,
          -1.704106623513022,
          -1.5809091501780148,
          -0.6447359311330901,
          -0.26672163810964505,
          -1.1535195235233486,
          0.4918076990808382,
          0.5749640224402789,
          0.3466998413883729,
          -0.16655946200221797,
          -1.8930314831126718,
          -0.10679061280844603,
          -0.6696532267323587,
          -0.6647093837694127,
          -0.747905088913312,
          0.25355693982755084,
          -0.3842801023572382,
          -0.695295872814784,
          -0.38677607844765616,
          0.4565944003852236,
          -1.704550639799624,
          -2.0260027148157262,
          0.7900368540059483,
          -0.91709185261907,
          0.2405231194041089,
          -0.8251567116570568,
          0.15875981231935601,
          -0.14342575340073913,
          -0.7454609803307337,
          0.07711841638099311,
          0.6856524135862572,
          0.4466333634297076,
          0.7984423906406662,
          0.32845411071918973,
          0.42735972059333066,
          0.39057315937855597,
          -1.4445417128286844,
          0.06937122507524195,
          0.2412720507255121,
          -0.6259131851193492,
          -1.2679925057040047,
          -0.040664714041220525,
          -0.3335857961062027,
          -1.59839629317033,
          0.10524231194502323,
          1.7084183402284143,
          -0.1984929500644762,
          0.7233962451763566,
          -0.275985500134614,
          1.0831965322895596,
          0.46740261305184805,
          0.33312606457069555,
          -0.20659237325059468,
          0.6773290334213429,
          0.34572529691794684,
          -0.46036636950036636,
          -1.0642701370629422,
          0.10652512126668875,
          0.9429977420665684,
          -0.4992452157800628,
          2.4735627670748825,
          0.9241174621802304,
          1.2234691367995096,
          -0.06459217146635046,
          -1.1606416668969413,
          1.016021868751291,
          0.7269142775149331,
          0.4397695899751046,
          -0.13609079469299845,
          0.5310320945252459,
          -1.094793661538532,
          -1.1253151776024988,
          0.6417270311806106,
          0.08898030729808526,
          -1.062680052001838,
          -1.1243654422634946,
          1.0266382810473804,
          0.8879594942814886,
          -0.2602572664842496,
          -0.5682859754720345,
          -0.046629792794112036,
          -0.2254471973085157,
          -0.2406779372126196,
          0.8886877394499044,
          0.608186793810794,
          -1.1908571953158222,
          -0.19027676719419495,
          -0.9588077013381504,
          0.9813469301989326,
          1.1210978975133676,
          0.47424739845990294,
          1.2969370871994004,
          0.9801730476237365,
          0.32664213346003956,
          0.07503387057258058,
          0.5130196245106723,
          0.029535334391051542,
          0.5203964832144728,
          -0.6317896086062571,
          0.4999674497956604,
          -0.3339452223102495,
          0.5447481065634661,
          1.4969778553446889,
          -0.35627530862307183,
          0.06565291230124898,
          1.6708183640302916,
          -2.143610447013623,
          0.829912676455194,
          -0.4687826875229027,
          0.8320301065085951,
          -0.37085028026081823,
          -1.2219341429942778,
          0.7487658849219608,
          -0.911660643882437,
          -0.5523858400717649,
          0.09919384962293391,
          -0.25468657684777013,
          -0.5529735679543784,
          -1.033073830895147,
          -0.6225799303282359,
          0.06417724692329528,
          0.39621447548120003,
          -0.3677769084228945,
          -0.19624820605823423,
          -0.8764996727097915,
          0.762014428665474,
          -0.9435395750116985,
          0.39590635513755523,
          0.03733275332493876,
          -0.17213089688096442,
          -1.0014838374232236,
          -0.006251532609491593,
          -0.05796149979867008,
          -0.01029850452818871,
          -0.329690419863191,
          0.3879626078390635,
          0.8279790753011731,
          1.5634927437753305,
          -1.3806842559007306,
          -0.6500255203172022,
          -0.16907346216503655,
          -0.20569648197600307,
          0.7010255230862515,
          -1.0024970906723047,
          -1.6056461306846566,
          -1.0665085599095172,
          0.12326479138658844,
          -1.5128325437890016,
          0.06766048340759952,
          0.07542714014838123,
          -0.7935422387334009,
          0.2917137412305356,
          -1.0472530020708017,
          -1.8747840957590116,
          -0.7057336518506317,
          -0.42352132630432227,
          1.2919330135305407,
          -0.06775135853765026,
          -0.5181917811748058,
          1.239476957420822,
          -0.2219063144700934,
          -0.9989606618575667,
          -0.4336673405811836,
          -0.23361631150402962,
          0.30352654906716087,
          0.4218944522384967,
          0.37518012707174037,
          -0.6829884220007997,
          0.315011200196944,
          0.3500824120821832,
          0.9698520556810365,
          -0.9561674952499495,
          0.4952647117231699,
          -0.04645148431514611,
          0.47941454989990584,
          -0.782558434969694,
          0.0018641969565745915,
          0.2653557804764701,
          -0.24835040646565942,
          -1.9359176211052218,
          0.4712512610079744,
          0.7979165022266119,
          -0.1554780363090307,
          -1.0522521094625175,
          0.5285969784521619,
          -1.7242685069868886,
          -1.1539685537016364,
          -1.6611513074603275,
          0.07728255972886097,
          -1.550217601357189,
          1.5058828285575219,
          0.4936897911222709,
          0.699108002280891,
          0.8502485257449123,
          -0.3886570331755429,
          0.954863715684697,
          0.5143365917848988,
          -0.5861871243210094,
          -0.677910475397593,
          0.43905784206439336,
          1.0603012457024943,
          -0.890651203156907,
          0.22209559326995162,
          -1.1598895087059464,
          -0.6919504166031056,
          0.41192340197877225,
          -0.6371836315627959,
          0.07069628366059633,
          -1.3199448883718692,
          1.099487714133916,
          -0.4825018266954916,
          0.19820911382299733,
          0.7290970649856984,
          -0.127286934788157,
          0.6037408681860215,
          -0.6024544776603267,
          0.3344755931055022,
          0.8409965636539973,
          1.0380706862361397,
          -0.3894068710598618,
          1.9081009658812484,
          0.07584218162989899,
          0.8545620840435995,
          2.2960216331018843,
          0.707907186430558,
          -0.08202554000004492,
          -0.9584414222640445,
          -1.4261151556327414,
          -0.45370517754500206,
          0.7112563297395884,
          -0.06378922837243897,
          -0.795591225843984,
          0.17962460665833715,
          0.5277989850936091,
          0.025154133856552952,
          -0.18147522890841664,
          0.06829103604727152,
          0.5479600524030339,
          0.11795580693634473,
          0.21809838946115304,
          0.4400347089037551,
          -0.495986516326163,
          -0.544618849670767,
          0.6471971093544352,
          -0.42368784847483054,
          0.12959339129589184,
          -0.2168468621568251,
          0.43723268805398274,
          1.6416241576340496,
          -0.5149060923512543,
          0.6681758840790643,
          0.7681838437659877,
          -0.8554876927741997,
          0.6372371336465159,
          0.340206556648243,
          0.13725533956907815,
          0.006075709483487503,
          1.167207362482686,
          -0.2999898880701526,
          0.41605705061942444,
          -1.632574719548952,
          0.25789814622214774,
          -0.3138741393588305,
          -0.7027486999844178,
          0.11110640205565611,
          0.012508692587135634,
          -0.22226631143132916,
          1.3685056517176166,
          -0.7019213297059465,
          -0.7199111222043841,
          -1.2813816014364148,
          -0.2846095340841602,
          -1.0890713781142918,
          0.5281078500559906,
          1.0555977062652517,
          -0.5532412424955159,
          -0.68264451415679,
          -0.6631465820217036,
          -0.8316765441587929,
          0.05345696660771107,
          -0.3356122647079633,
          0.7905783052158822,
          0.506246844347267,
          0.9089803402111656,
          0.8649690391758492,
          0.6680799878080894,
          -0.3378262384040032,
          -1.1171660416287301,
          0.46707757019811136,
          -0.16860533554806656,
          -1.525594557625207,
          1.482082474587753,
          -1.2509737772793144,
          -0.7543023347572851,
          -0.6339878424639608,
          0.7223114769084779,
          -0.613086607187571,
          0.5058374135887667,
          -0.3625875665531339,
          1.2334656276809013,
          1.3041978781682235,
          0.1101277161689127,
          0.9196021439919811,
          0.6652640993261146,
          -1.1316052446250429,
          0.25709782607596754,
          -1.446779589230426,
          -0.351882395378387,
          -0.1168093299279054,
          -0.5666452695765597,
          -1.1160391884462206,
          -0.8361723690510648,
          0.26088706199953454,
          1.0194481289469288,
          -1.6146328831378254,
          0.8256918496075674,
          -0.31192635677754255,
          0.39372945745036786,
          -0.7511951812431316,
          1.0641293383781403,
          -2.6200510550535325,
          1.1967880911112645,
          0.8953320020323738,
          1.6194136685680152,
          -0.7090044212809787,
          0.9957914934030442,
          -1.2239674424124405,
          -0.5680734825569569,
          0.2335735711147345,
          -0.9010360080253161,
          -0.44466739513828674,
          -0.3635600402313956,
          0.271726192184535,
          0.7801745410148129,
          0.15794625941043128,
          -1.0855407448765817,
          -1.0405970968009197,
          1.4217894862637621,
          1.248765008562929,
          0.12213603683238153,
          -1.0993498659644407,
          0.468490663192028,
          -0.8281474051050042,
          -0.14589705637901515,
          -0.44839775932199927,
          0.4939424199250604,
          -0.7063258466927446,
          -0.3959256447423381,
          -0.2591004311487611,
          -0.21332159251941704,
          0.7204452163291913,
          -0.6671222210808929,
          -0.5203746295157655,
          -0.4913941610824393,
          0.8373574825178448,
          -0.08928175661254224,
          0.3666349461421219,
          -0.43564453604800973,
          0.6779717258164126,
          -0.39769725174353954,
          -0.5065941850570693,
          -0.5574046256164832,
          0.8933425408294982,
          0.8469683312060886,
          -0.09993686324534659,
          1.0650722310956628,
          -0.8107427616909968,
          0.6583232737866901,
          0.8878301835915496,
          0.63203205009134,
          0.14866641192100982,
          -0.5100123237126377,
          0.2571836441125131,
          1.5282347138701384,
          0.8491513785381444,
          1.2065353968284198,
          -1.8815214245723995,
          0.6222092049676493,
          1.3714198269383897,
          0.1279363393384039,
          0.7826694769935904,
          0.5076562079680543,
          0.5527350086175786,
          -0.9821893522031269,
          0.27629150480022824,
          -0.9862029053447521,
          -0.6737323418287411,
          2.0477179480822354,
          1.1771052117386673,
          2.2619862967890563,
          0.1934632818175715,
          0.14864195056833232,
          -0.9113310918815509,
          -0.21200819230948642,
          -1.3858998614369435,
          -0.12094365842194918,
          0.6805841006385484,
          0.8582955958027079,
          -1.0988850873180978,
          0.11609351014428815,
          -0.8988219437298417,
          0.22586948212152336,
          0.957804409219152,
          0.9017481974613124,
          -0.15878954048293475,
          0.6902009202740276,
          0.6881235802670811,
          1.2084535567201746,
          -0.4015920779916866,
          1.4361169375734628,
          0.45106699311458737,
          -0.33318904532716814,
          -1.6650860317506342,
          -0.573278832129406,
          0.275301172147642,
          -0.9704693156972226,
          -0.3687721741291345,
          0.4137603296183064,
          -1.325617148400402,
          -0.6757271315024261,
          -0.46023335883723215,
          0.27814529322079823,
          0.6311144026504084,
          -0.58744372324208,
          -0.6847862792995534,
          0.7421194924832419,
          -0.30335826299771196,
          -0.01853320404594423,
          0.5819625070522775,
          1.9936197772427746,
          0.24284781909517036,
          -0.2061407745865773,
          0.3245572127139937,
          0.2516671436707515,
          0.22430703331181068,
          -0.14426450167056926,
          0.1651571818787025,
          -0.470921721585186,
          -0.10026397908989568,
          -0.4948224649211809,
          0.21613419597398204,
          -1.4602553657781403,
          -1.559129056496563,
          0.4965357997012982,
          0.3032173493208198,
          1.3121134107783068,
          -0.6173167690488128,
          -0.362887900033868,
          -0.36648399282131644,
          1.1827102441554038,
          1.2994028335254248,
          -0.838445494350449,
          0.6949404817851073,
          0.5252904800073201,
          1.3217155672094953,
          1.127287561529886,
          -2.110022030427303,
          -0.9063367714308308,
          -0.1335006347154109,
          -0.25475058446172255,
          0.5626912479073026,
          0.2010448381340048,
          0.20000629817149482,
          0.13862670464334984,
          -0.03427268449358667,
          -0.9209469554173696,
          0.7460830038025663,
          -0.6672328595903104,
          -1.575833846176699,
          -0.3849014012929854,
          -1.536019351539582,
          1.2017575976438295,
          0.628438526024452,
          -0.013958912124381441,
          0.9925955127770331,
          -0.02808664586727258,
          -0.6090310792092617,
          -1.3316097743872524,
          0.9531975727908152,
          0.4445612579624869,
          -0.8694197699792026,
          0.8409765525496595,
          1.1563057069762037,
          0.49620862147527683,
          -0.25089371365241625,
          0.11672191879187951,
          -0.307829533085673,
          0.3968228478711571,
          -0.8084235905892269,
          1.2790871811635198
         ],
         "yaxis": "y"
        }
       ],
       "layout": {
        "coloraxis": {
         "colorbar": {
          "title": {
           "text": "hitability"
          }
         },
         "colorscale": [
          [
           0,
           "#0d0887"
          ],
          [
           0.1111111111111111,
           "#46039f"
          ],
          [
           0.2222222222222222,
           "#7201a8"
          ],
          [
           0.3333333333333333,
           "#9c179e"
          ],
          [
           0.4444444444444444,
           "#bd3786"
          ],
          [
           0.5555555555555556,
           "#d8576b"
          ],
          [
           0.6666666666666666,
           "#ed7953"
          ],
          [
           0.7777777777777778,
           "#fb9f3a"
          ],
          [
           0.8888888888888888,
           "#fdca26"
          ],
          [
           1,
           "#f0f921"
          ]
         ]
        },
        "legend": {
         "tracegroupgap": 0
        },
        "template": {
         "data": {
          "bar": [
           {
            "error_x": {
             "color": "#2a3f5f"
            },
            "error_y": {
             "color": "#2a3f5f"
            },
            "marker": {
             "line": {
              "color": "#E5ECF6",
              "width": 0.5
             },
             "pattern": {
              "fillmode": "overlay",
              "size": 10,
              "solidity": 0.2
             }
            },
            "type": "bar"
           }
          ],
          "barpolar": [
           {
            "marker": {
             "line": {
              "color": "#E5ECF6",
              "width": 0.5
             },
             "pattern": {
              "fillmode": "overlay",
              "size": 10,
              "solidity": 0.2
             }
            },
            "type": "barpolar"
           }
          ],
          "carpet": [
           {
            "aaxis": {
             "endlinecolor": "#2a3f5f",
             "gridcolor": "white",
             "linecolor": "white",
             "minorgridcolor": "white",
             "startlinecolor": "#2a3f5f"
            },
            "baxis": {
             "endlinecolor": "#2a3f5f",
             "gridcolor": "white",
             "linecolor": "white",
             "minorgridcolor": "white",
             "startlinecolor": "#2a3f5f"
            },
            "type": "carpet"
           }
          ],
          "choropleth": [
           {
            "colorbar": {
             "outlinewidth": 0,
             "ticks": ""
            },
            "type": "choropleth"
           }
          ],
          "contour": [
           {
            "colorbar": {
             "outlinewidth": 0,
             "ticks": ""
            },
            "colorscale": [
             [
              0,
              "#0d0887"
             ],
             [
              0.1111111111111111,
              "#46039f"
             ],
             [
              0.2222222222222222,
              "#7201a8"
             ],
             [
              0.3333333333333333,
              "#9c179e"
             ],
             [
              0.4444444444444444,
              "#bd3786"
             ],
             [
              0.5555555555555556,
              "#d8576b"
             ],
             [
              0.6666666666666666,
              "#ed7953"
             ],
             [
              0.7777777777777778,
              "#fb9f3a"
             ],
             [
              0.8888888888888888,
              "#fdca26"
             ],
             [
              1,
              "#f0f921"
             ]
            ],
            "type": "contour"
           }
          ],
          "contourcarpet": [
           {
            "colorbar": {
             "outlinewidth": 0,
             "ticks": ""
            },
            "type": "contourcarpet"
           }
          ],
          "heatmap": [
           {
            "colorbar": {
             "outlinewidth": 0,
             "ticks": ""
            },
            "colorscale": [
             [
              0,
              "#0d0887"
             ],
             [
              0.1111111111111111,
              "#46039f"
             ],
             [
              0.2222222222222222,
              "#7201a8"
             ],
             [
              0.3333333333333333,
              "#9c179e"
             ],
             [
              0.4444444444444444,
              "#bd3786"
             ],
             [
              0.5555555555555556,
              "#d8576b"
             ],
             [
              0.6666666666666666,
              "#ed7953"
             ],
             [
              0.7777777777777778,
              "#fb9f3a"
             ],
             [
              0.8888888888888888,
              "#fdca26"
             ],
             [
              1,
              "#f0f921"
             ]
            ],
            "type": "heatmap"
           }
          ],
          "heatmapgl": [
           {
            "colorbar": {
             "outlinewidth": 0,
             "ticks": ""
            },
            "colorscale": [
             [
              0,
              "#0d0887"
             ],
             [
              0.1111111111111111,
              "#46039f"
             ],
             [
              0.2222222222222222,
              "#7201a8"
             ],
             [
              0.3333333333333333,
              "#9c179e"
             ],
             [
              0.4444444444444444,
              "#bd3786"
             ],
             [
              0.5555555555555556,
              "#d8576b"
             ],
             [
              0.6666666666666666,
              "#ed7953"
             ],
             [
              0.7777777777777778,
              "#fb9f3a"
             ],
             [
              0.8888888888888888,
              "#fdca26"
             ],
             [
              1,
              "#f0f921"
             ]
            ],
            "type": "heatmapgl"
           }
          ],
          "histogram": [
           {
            "marker": {
             "pattern": {
              "fillmode": "overlay",
              "size": 10,
              "solidity": 0.2
             }
            },
            "type": "histogram"
           }
          ],
          "histogram2d": [
           {
            "colorbar": {
             "outlinewidth": 0,
             "ticks": ""
            },
            "colorscale": [
             [
              0,
              "#0d0887"
             ],
             [
              0.1111111111111111,
              "#46039f"
             ],
             [
              0.2222222222222222,
              "#7201a8"
             ],
             [
              0.3333333333333333,
              "#9c179e"
             ],
             [
              0.4444444444444444,
              "#bd3786"
             ],
             [
              0.5555555555555556,
              "#d8576b"
             ],
             [
              0.6666666666666666,
              "#ed7953"
             ],
             [
              0.7777777777777778,
              "#fb9f3a"
             ],
             [
              0.8888888888888888,
              "#fdca26"
             ],
             [
              1,
              "#f0f921"
             ]
            ],
            "type": "histogram2d"
           }
          ],
          "histogram2dcontour": [
           {
            "colorbar": {
             "outlinewidth": 0,
             "ticks": ""
            },
            "colorscale": [
             [
              0,
              "#0d0887"
             ],
             [
              0.1111111111111111,
              "#46039f"
             ],
             [
              0.2222222222222222,
              "#7201a8"
             ],
             [
              0.3333333333333333,
              "#9c179e"
             ],
             [
              0.4444444444444444,
              "#bd3786"
             ],
             [
              0.5555555555555556,
              "#d8576b"
             ],
             [
              0.6666666666666666,
              "#ed7953"
             ],
             [
              0.7777777777777778,
              "#fb9f3a"
             ],
             [
              0.8888888888888888,
              "#fdca26"
             ],
             [
              1,
              "#f0f921"
             ]
            ],
            "type": "histogram2dcontour"
           }
          ],
          "mesh3d": [
           {
            "colorbar": {
             "outlinewidth": 0,
             "ticks": ""
            },
            "type": "mesh3d"
           }
          ],
          "parcoords": [
           {
            "line": {
             "colorbar": {
              "outlinewidth": 0,
              "ticks": ""
             }
            },
            "type": "parcoords"
           }
          ],
          "pie": [
           {
            "automargin": true,
            "type": "pie"
           }
          ],
          "scatter": [
           {
            "fillpattern": {
             "fillmode": "overlay",
             "size": 10,
             "solidity": 0.2
            },
            "type": "scatter"
           }
          ],
          "scatter3d": [
           {
            "line": {
             "colorbar": {
              "outlinewidth": 0,
              "ticks": ""
             }
            },
            "marker": {
             "colorbar": {
              "outlinewidth": 0,
              "ticks": ""
             }
            },
            "type": "scatter3d"
           }
          ],
          "scattercarpet": [
           {
            "marker": {
             "colorbar": {
              "outlinewidth": 0,
              "ticks": ""
             }
            },
            "type": "scattercarpet"
           }
          ],
          "scattergeo": [
           {
            "marker": {
             "colorbar": {
              "outlinewidth": 0,
              "ticks": ""
             }
            },
            "type": "scattergeo"
           }
          ],
          "scattergl": [
           {
            "marker": {
             "colorbar": {
              "outlinewidth": 0,
              "ticks": ""
             }
            },
            "type": "scattergl"
           }
          ],
          "scattermapbox": [
           {
            "marker": {
             "colorbar": {
              "outlinewidth": 0,
              "ticks": ""
             }
            },
            "type": "scattermapbox"
           }
          ],
          "scatterpolar": [
           {
            "marker": {
             "colorbar": {
              "outlinewidth": 0,
              "ticks": ""
             }
            },
            "type": "scatterpolar"
           }
          ],
          "scatterpolargl": [
           {
            "marker": {
             "colorbar": {
              "outlinewidth": 0,
              "ticks": ""
             }
            },
            "type": "scatterpolargl"
           }
          ],
          "scatterternary": [
           {
            "marker": {
             "colorbar": {
              "outlinewidth": 0,
              "ticks": ""
             }
            },
            "type": "scatterternary"
           }
          ],
          "surface": [
           {
            "colorbar": {
             "outlinewidth": 0,
             "ticks": ""
            },
            "colorscale": [
             [
              0,
              "#0d0887"
             ],
             [
              0.1111111111111111,
              "#46039f"
             ],
             [
              0.2222222222222222,
              "#7201a8"
             ],
             [
              0.3333333333333333,
              "#9c179e"
             ],
             [
              0.4444444444444444,
              "#bd3786"
             ],
             [
              0.5555555555555556,
              "#d8576b"
             ],
             [
              0.6666666666666666,
              "#ed7953"
             ],
             [
              0.7777777777777778,
              "#fb9f3a"
             ],
             [
              0.8888888888888888,
              "#fdca26"
             ],
             [
              1,
              "#f0f921"
             ]
            ],
            "type": "surface"
           }
          ],
          "table": [
           {
            "cells": {
             "fill": {
              "color": "#EBF0F8"
             },
             "line": {
              "color": "white"
             }
            },
            "header": {
             "fill": {
              "color": "#C8D4E3"
             },
             "line": {
              "color": "white"
             }
            },
            "type": "table"
           }
          ]
         },
         "layout": {
          "annotationdefaults": {
           "arrowcolor": "#2a3f5f",
           "arrowhead": 0,
           "arrowwidth": 1
          },
          "autotypenumbers": "strict",
          "coloraxis": {
           "colorbar": {
            "outlinewidth": 0,
            "ticks": ""
           }
          },
          "colorscale": {
           "diverging": [
            [
             0,
             "#8e0152"
            ],
            [
             0.1,
             "#c51b7d"
            ],
            [
             0.2,
             "#de77ae"
            ],
            [
             0.3,
             "#f1b6da"
            ],
            [
             0.4,
             "#fde0ef"
            ],
            [
             0.5,
             "#f7f7f7"
            ],
            [
             0.6,
             "#e6f5d0"
            ],
            [
             0.7,
             "#b8e186"
            ],
            [
             0.8,
             "#7fbc41"
            ],
            [
             0.9,
             "#4d9221"
            ],
            [
             1,
             "#276419"
            ]
           ],
           "sequential": [
            [
             0,
             "#0d0887"
            ],
            [
             0.1111111111111111,
             "#46039f"
            ],
            [
             0.2222222222222222,
             "#7201a8"
            ],
            [
             0.3333333333333333,
             "#9c179e"
            ],
            [
             0.4444444444444444,
             "#bd3786"
            ],
            [
             0.5555555555555556,
             "#d8576b"
            ],
            [
             0.6666666666666666,
             "#ed7953"
            ],
            [
             0.7777777777777778,
             "#fb9f3a"
            ],
            [
             0.8888888888888888,
             "#fdca26"
            ],
            [
             1,
             "#f0f921"
            ]
           ],
           "sequentialminus": [
            [
             0,
             "#0d0887"
            ],
            [
             0.1111111111111111,
             "#46039f"
            ],
            [
             0.2222222222222222,
             "#7201a8"
            ],
            [
             0.3333333333333333,
             "#9c179e"
            ],
            [
             0.4444444444444444,
             "#bd3786"
            ],
            [
             0.5555555555555556,
             "#d8576b"
            ],
            [
             0.6666666666666666,
             "#ed7953"
            ],
            [
             0.7777777777777778,
             "#fb9f3a"
            ],
            [
             0.8888888888888888,
             "#fdca26"
            ],
            [
             1,
             "#f0f921"
            ]
           ]
          },
          "colorway": [
           "#636efa",
           "#EF553B",
           "#00cc96",
           "#ab63fa",
           "#FFA15A",
           "#19d3f3",
           "#FF6692",
           "#B6E880",
           "#FF97FF",
           "#FECB52"
          ],
          "font": {
           "color": "#2a3f5f"
          },
          "geo": {
           "bgcolor": "white",
           "lakecolor": "white",
           "landcolor": "#E5ECF6",
           "showlakes": true,
           "showland": true,
           "subunitcolor": "white"
          },
          "hoverlabel": {
           "align": "left"
          },
          "hovermode": "closest",
          "mapbox": {
           "style": "light"
          },
          "paper_bgcolor": "white",
          "plot_bgcolor": "#E5ECF6",
          "polar": {
           "angularaxis": {
            "gridcolor": "white",
            "linecolor": "white",
            "ticks": ""
           },
           "bgcolor": "#E5ECF6",
           "radialaxis": {
            "gridcolor": "white",
            "linecolor": "white",
            "ticks": ""
           }
          },
          "scene": {
           "xaxis": {
            "backgroundcolor": "#E5ECF6",
            "gridcolor": "white",
            "gridwidth": 2,
            "linecolor": "white",
            "showbackground": true,
            "ticks": "",
            "zerolinecolor": "white"
           },
           "yaxis": {
            "backgroundcolor": "#E5ECF6",
            "gridcolor": "white",
            "gridwidth": 2,
            "linecolor": "white",
            "showbackground": true,
            "ticks": "",
            "zerolinecolor": "white"
           },
           "zaxis": {
            "backgroundcolor": "#E5ECF6",
            "gridcolor": "white",
            "gridwidth": 2,
            "linecolor": "white",
            "showbackground": true,
            "ticks": "",
            "zerolinecolor": "white"
           }
          },
          "shapedefaults": {
           "line": {
            "color": "#2a3f5f"
           }
          },
          "ternary": {
           "aaxis": {
            "gridcolor": "white",
            "linecolor": "white",
            "ticks": ""
           },
           "baxis": {
            "gridcolor": "white",
            "linecolor": "white",
            "ticks": ""
           },
           "bgcolor": "#E5ECF6",
           "caxis": {
            "gridcolor": "white",
            "linecolor": "white",
            "ticks": ""
           }
          },
          "title": {
           "x": 0.05
          },
          "xaxis": {
           "automargin": true,
           "gridcolor": "white",
           "linecolor": "white",
           "ticks": "",
           "title": {
            "standoff": 15
           },
           "zerolinecolor": "white",
           "zerolinewidth": 2
          },
          "yaxis": {
           "automargin": true,
           "gridcolor": "white",
           "linecolor": "white",
           "ticks": "",
           "title": {
            "standoff": 15
           },
           "zerolinecolor": "white",
           "zerolinewidth": 2
          }
         }
        },
        "title": {
         "text": "Location"
        },
        "xaxis": {
         "anchor": "y",
         "domain": [
          0,
          1
         ],
         "title": {
          "text": "pitch_x"
         }
        },
        "yaxis": {
         "anchor": "x",
         "domain": [
          0,
          1
         ],
         "title": {
          "text": "pitch_y"
         }
        }
       }
      }
     },
     "metadata": {},
     "output_type": "display_data"
    }
   ],
   "source": [
    "\n",
    "pitch_data.show_scatter(\"pitch_x\", \"pitch_y\", \"Location\", color='hitability')"
   ]
  },
  {
   "cell_type": "code",
   "execution_count": 7,
   "metadata": {},
   "outputs": [
    {
     "data": {
      "application/vnd.plotly.v1+json": {
       "config": {
        "plotlyServerURL": "https://plot.ly"
       },
       "data": [
        {
         "alignmentgroup": "True",
         "bingroup": "x",
         "hovertemplate": "variable=pitch_x<br>value=%{x}<br>count=%{y}<extra></extra>",
         "legendgroup": "pitch_x",
         "marker": {
          "color": "#636efa",
          "pattern": {
           "shape": ""
          }
         },
         "name": "pitch_x",
         "offsetgroup": "pitch_x",
         "orientation": "v",
         "showlegend": true,
         "type": "histogram",
         "x": [
          1.4758039743597673,
          1.4421420621290812,
          -0.9914910521380152,
          -0.40325429488785475,
          0.5472362750474364,
          0.7288417382024945,
          0.1311920091953646,
          0.5034079568745728,
          0.12855109826734404,
          -2.497334230719176,
          -0.3364353300490454,
          -0.5545611093489784,
          1.1125181111893352,
          -2.2935357625926,
          0.42276452239624773,
          -0.5416848028790341,
          -0.32761438989070324,
          0.8514053559619794,
          1.3280705242074335,
          -0.465397897973074,
          -0.7316393325558612,
          0.6817383111933484,
          0.23940821745851174,
          0.36271706816607313,
          -1.1147492231613796,
          -0.17232084311176316,
          0.09767806676217888,
          0.20808068968268165,
          -0.07060981435225455,
          0.26662244352622505,
          -0.8815363122704523,
          -0.44105391603363886,
          -0.049704845874671715,
          0.8262298121629849,
          -0.6527519699394626,
          -1.4825505200220659,
          -1.8405236779708967,
          -1.766931248362351,
          1.810872977778833,
          -1.6169272225001345,
          1.206431911393904,
          -0.33790137577719365,
          -0.22597740022379642,
          -1.7570117471704902,
          0.43104805829051596,
          0.31781828333920636,
          -0.7801822104592218,
          1.6370942008858274,
          1.1176463316282728,
          0.15001642412516922,
          0.3307632738617637,
          -0.20597615489408652,
          0.6255012523548436,
          -0.7813216753168114,
          0.5073984690482023,
          -0.7096430305683107,
          -0.7734305936452381,
          -0.43236040965848616,
          1.0027992937463077,
          0.38936846752569654,
          0.3781639384271159,
          -0.289890003235563,
          0.8892955868407476,
          1.029890946931515,
          -0.5559657261453579,
          -1.1435378707748525,
          -1.3561202247493755,
          -0.6437512075584447,
          -0.47357240284815727,
          0.5299591220431109,
          1.0235204155451465,
          -0.47834491992009787,
          -0.009619170825339347,
          1.0230158386574641,
          -1.6600852054087105,
          -0.3354565988114506,
          -0.3712961106878797,
          1.495554713930134,
          0.0689691086762065,
          -0.9255865223401236,
          1.3476696545357605,
          -0.7166834764664002,
          1.732508221923882,
          0.7372159496953762,
          -1.0226502690630253,
          -1.8728094241256852,
          1.5505285957124093,
          0.6008059078270443,
          -0.4496535969450382,
          1.0634883540298412,
          -1.0033917257191403,
          -0.06587076458306212,
          -0.16698409244729542,
          0.0027969217659074043,
          -1.3098233778760557,
          -0.7878729981765902,
          0.1942376115386768,
          0.6209505420787585,
          0.594648975883689,
          0.36850237536799973,
          0.8410313556590594,
          0.7094810385225382,
          1.0614818582805203,
          -0.3123321833447328,
          0.5433366678639712,
          2.055123580493092,
          -1.0699613972103317,
          -0.10517115432516014,
          0.5924684798579979,
          -1.0308763864804427,
          -0.4734676952777637,
          -0.6890096258660342,
          0.19694452254622544,
          -1.4803618397710432,
          -0.03218075986337064,
          0.2647946236104973,
          -0.1646364380784422,
          0.25428356103195293,
          1.6860588061718977,
          -0.1743862961822586,
          -0.10830306638282,
          0.9154627566283849,
          -0.38649687719645,
          -0.5713384175027121,
          -0.45708466995686553,
          -0.007116601739571197,
          0.22831203161828215,
          0.07557084052969991,
          -0.2096443447414461,
          -1.1440479667441912,
          0.3949334616299457,
          -0.7270213105952386,
          -0.8450898315922395,
          1.2124915048512104,
          -0.4077696339784472,
          0.07574654497079862,
          0.7499728315834724,
          0.48507589189820716,
          -0.11514883328859227,
          -1.2294029857974953,
          0.0201286972357387,
          0.3097884867550331,
          0.24356499782996785,
          0.3347874289570257,
          -1.9248000006551842,
          1.2216562608049486,
          -1.0943397095263232,
          -0.530449802498616,
          -0.5923370998377279,
          -0.14190708029676885,
          0.37584460937050607,
          -1.6255829450408346,
          1.0377036581139625,
          0.866831177287035,
          0.8416893304004183,
          0.4055924482137639,
          0.7475218551699593,
          -0.175880247869899,
          0.7679420093770476,
          -2.1088544412699175,
          0.44460703980308525,
          -0.3171436368760055,
          0.022232833160131485,
          -0.35279847665986797,
          1.0278382751069362,
          0.9389369771266641,
          -1.8248813481283501,
          0.6805281455822564,
          1.7883628751216858,
          0.9281196120746824,
          0.224339508181116,
          0.8852957437922906,
          -1.388886612662065,
          -0.9815697194163334,
          -0.623998803039206,
          -2.2979320265439074,
          -1.9362201006348552,
          -1.6096979738630472,
          0.8685999923446363,
          1.339626449836657,
          -1.1270772952931425,
          -0.5710866081695153,
          -1.416150624848844,
          -0.46421741079861273,
          -0.8177742284474672,
          -0.14062485703210292,
          -0.11790192867345672,
          0.22160498433725762,
          0.2889814568664524,
          -1.803809205321258,
          0.7035250399872384,
          -0.38844645885561124,
          -0.468535013441253,
          0.4180656109810546,
          -0.24585328934975617,
          1.0107906277038734,
          0.533657481714122,
          0.8101454143247281,
          1.5112529700539068,
          -0.3080645558641689,
          0.8310710821529481,
          0.6868427610450512,
          -0.16958839446132148,
          -1.0973794633974407,
          0.22175818851069562,
          -1.094648834435139,
          -0.03973195632708967,
          -0.048848492606313874,
          -0.9262069155141655,
          -1.5085350121535295,
          1.1986425115596893,
          0.34513781233579666,
          0.5038919364576641,
          -1.0288048822499372,
          -0.9587195767752824,
          0.974621526267522,
          0.6345884907954328,
          -1.369962234016624,
          1.1877793623880486,
          -0.31372450221500164,
          -1.3849451523503238,
          3.2960376705536856,
          -0.009276866309214269,
          -1.0865537051628817,
          -0.43443812716296737,
          0.03183453147946127,
          -0.645592974588631,
          0.4922049309994439,
          -0.5365769608875667,
          -0.8863870174717707,
          2.1987151279985353,
          0.06886752677373274,
          -0.2502946884627499,
          0.510546732609871,
          1.3806905257734792,
          0.7919965803045736,
          -0.6038719297481325,
          0.41367394420088965,
          -0.5298742392067778,
          -0.30376633368955597,
          1.362447542258264,
          -1.4870610502837398,
          -0.6854558942953923,
          0.9087699219161725,
          0.2882646832639745,
          -0.9602419228473459,
          -0.023296475189188048,
          -0.20938918320964806,
          -0.6997810545167288,
          1.7087684107117997,
          0.5240477080760326,
          0.278222238598926,
          0.020618736531258394,
          -0.10348579996213622,
          0.6169001400463939,
          0.6567852539758301,
          -1.1603069794397434,
          0.7898799956254797,
          -0.06084821002900314,
          -0.1755763873611746,
          -0.2552762660878413,
          -0.06284045049961062,
          0.6769987990945769,
          -0.5121217872991874,
          -0.26093707833756535,
          -0.45077468346775484,
          1.508701947547246,
          -0.07973389599825235,
          -0.13865964228083097,
          -0.603090858536063,
          -0.3169144116135452,
          0.11236341504953411,
          1.090562676423817,
          0.42037015794730015,
          0.9470607006233186,
          1.991736910385998,
          0.6619205731772524,
          0.4061527152670885,
          0.02159348224361882,
          1.2790903273335872,
          0.6618601528332227,
          1.7326607948332693,
          -0.2826767064045886,
          -0.8224191321208021,
          -0.701117387010359,
          -0.4183525940833169,
          0.20796029528256532,
          -0.813314603011273,
          0.701247790165466,
          -0.07615514179415597,
          -0.9337340848689943,
          -0.749436082801681,
          -0.4367342333636749,
          0.694354878222611,
          -0.8493010434964549,
          -0.7681839079057492,
          -1.7170741900500106,
          1.390535121349456,
          -1.0236437574805186,
          -0.8945444994699476,
          1.5137966428362555,
          -0.5803101403136061,
          -1.1890033937226816,
          -0.32612931677703316,
          -0.7213504781020567,
          1.4987743502748077,
          0.16797697360525063,
          -0.6165547339980822,
          -0.497678092470198,
          -0.7513595721837639,
          -0.6277264807430163,
          -0.6268468453890071,
          0.7875000019571472,
          -0.8453260628399119,
          -0.3863212572443832,
          -1.2378648681928788,
          -0.4035198872865241,
          -0.060573857310397265,
          -1.5297749764351583,
          1.3996109661280558,
          -0.5568317403672147,
          -0.8988243626959068,
          0.8137511854949222,
          -0.35438410778826096,
          0.6017254806983402,
          0.18140859950787097,
          -1.1794540238760272,
          -0.08978454084959543,
          0.32344838228793293,
          0.899165847090961,
          0.92373264151345,
          -0.5787524162484832,
          1.4778350376321703,
          0.29256867824009825,
          -0.41647803888647106,
          2.334429913022755,
          -1.6587036537806163,
          0.4931458417372223,
          1.1570626463931577,
          0.4228864768306847,
          0.3922639856280976,
          0.16675781437011614,
          0.36750145405458745,
          -0.5920895560461005,
          0.36139486052206055,
          -0.7129584206885632,
          -0.5721963583202538,
          -0.18130883490812422,
          -0.215137814937486,
          -0.6149790663413808,
          -1.4316197474848262,
          -0.22014227858281737,
          0.003810166273744788,
          -0.14302729823630297,
          -0.3837308733841223,
          0.8638247966334546,
          1.4169421424229474,
          1.4601656506126937,
          0.802629880464949,
          -0.8406537642074213,
          0.39484486157245335,
          -0.2937623720110856,
          -0.39992930324605974,
          -0.7712411626562232,
          0.47174722757000676,
          -2.565568469377959,
          -0.18831846896896326,
          0.8797381634403585,
          -0.4587950534148048,
          1.141305633358121,
          1.1278183679449698,
          0.9633377843325738,
          0.6015339735652759,
          0.2688647666822032,
          -0.9103529259078615,
          0.38388305034199965,
          0.10925055040427716,
          -0.4620324025966478,
          -0.4734579000655451,
          -0.014878079611313814,
          0.15577320003887266,
          -1.0950745972828237,
          0.8526771050388803,
          0.10214275547473609,
          0.34052342972723626,
          -1.3370732412590136,
          0.30893437274808555,
          -0.9480190621355113,
          0.21758843569725872,
          -1.6773877657440535,
          -0.48649100176473964,
          1.480395557029675,
          0.849544139156421,
          1.1055617282148504,
          -2.3674078427514385,
          -0.1984825851937006,
          0.9568324802542746,
          -0.6589919841279207,
          1.2067338756573445,
          -0.05113973840040865,
          0.04800796295740639,
          0.28706343422046143,
          -0.22970673829682306,
          1.8225705314349214,
          0.881231695465486,
          0.018146147278421638,
          -0.10491708331166089,
          -0.5645179850477751,
          0.4618371047282354,
          0.5818551604507594,
          0.49996104843000405,
          0.10250787506954351,
          -0.5009234584184219,
          -0.1705042806032469,
          0.8433145732117011,
          -0.6715891941037503,
          -0.5160354128376661,
          -0.501524980462366,
          -1.084952873365154,
          -0.36662986471191195,
          0.22934435805663744,
          1.0826299947527924,
          -0.03313516037419325,
          1.441193414003509,
          -1.0363563136440017,
          0.3263640839480677,
          -1.074517313330537,
          0.01997289831388839,
          -0.02858302948360938,
          -0.608771649852922,
          -1.143637584490682,
          -0.4038701154779662,
          0.6917923337063577,
          0.45088121653181534,
          0.9333267195421963,
          0.49097278175727577,
          2.291229339174806,
          0.07722170901727135,
          1.1680828753639032,
          -0.9433021375334864,
          -0.8800630393077059,
          2.9420591481654474,
          -0.6384928360502158,
          -0.3726490405109382,
          0.17065446937319848,
          -0.4261903133331695,
          0.11635224502046482,
          0.17707425183044492,
          0.04433984809547953,
          0.8832977553898682,
          0.7214117635141071,
          -0.08889742437495153,
          -0.05390217295928656,
          -0.19244986822949678,
          -0.8843146519267159,
          0.7385298052910827,
          0.06347088505301755,
          -0.47538921001559453,
          0.8286168424085708,
          1.319606430785647,
          1.2527711699719286,
          -0.16401675604361962,
          0.5663490517555685,
          -1.229523220031341,
          0.304223901237032,
          0.09941589164319335,
          -0.4833146886336445,
          -0.9549589644843038,
          -0.9212723473100409,
          -0.773302147834483,
          0.245905151318756,
          0.492103469838743,
          -0.5032787645352143,
          -0.11881400628298285,
          -0.985566809795629,
          0.4249442407465223,
          1.08503739822528,
          -0.9199969980360053,
          1.5081876883803167,
          1.4877866068889616,
          0.583825010601403,
          -0.3050912864666283,
          -0.6762257896346905,
          -0.9590250947738693,
          1.076703519093059,
          -1.217667129960465,
          0.24087676810703496,
          -0.7545056610453083,
          -0.2445861573524717,
          1.0635263991477453,
          -1.1518502829562636,
          1.0332680607191675,
          -0.344734676917973,
          -1.2191649794351862,
          0.42247479734877924,
          0.2707683149065444,
          0.4809438233863132,
          -1.3130554539358037,
          0.02005304456301268,
          1.0485241511304146,
          0.5753958548897904,
          0.35598362236147657,
          0.1830642061582891,
          0.09842094173928122,
          -0.487292205559624,
          0.8728733268939433,
          -0.32122333309119644,
          -0.1585863220980465,
          -0.82714608766896,
          -0.4401691717591687,
          -1.346426502073601,
          -0.2924142748356517,
          0.7499211187464623,
          -0.7298175015811079,
          -0.5892428962769748,
          -0.802336509231363,
          -0.6998591288117452,
          -0.03084198029521418,
          0.5377441367314338,
          1.1781271823968362,
          -0.07410458384636817,
          -0.5468592390382772,
          -0.590069326575466,
          0.8263799733196046,
          0.1312257927484832,
          -0.0546915159411317,
          -0.1945128860628704,
          -0.9726520071569258,
          0.6785218051314698,
          1.525208205187427,
          -0.5342078287055514,
          0.9476468541565444,
          -1.4174538808698574,
          -0.8166690965169069,
          -0.5194974894592654,
          -0.11626009546813562,
          0.6572206283578328,
          0.05553926893848226,
          -0.4211182855647876,
          0.5081054451539181,
          -0.5526264399736851,
          0.8152095508216274,
          0.4977309657140873,
          -0.35561961845120377,
          -0.7768210789376688,
          -0.7547010177044539,
          -1.499257172505897,
          1.5466285613403252,
          -0.13850647340123562,
          1.037455407429086,
          1.3093857118742716,
          -0.6779131137286534,
          -0.03661713991628194,
          0.26755951468340217,
          0.9602971009083059,
          1.1088901188374964,
          -0.47199413958556125,
          -0.47259280565798384,
          -1.0611293423037862,
          -2.034779982830944,
          0.7463116144174176,
          0.17230182671038205,
          0.7736297170615131,
          0.1607317225917808,
          -0.044759516655794085,
          1.1225757185120444,
          0.16761966674302078,
          -0.2019026473023873,
          1.7215005563240142,
          0.17327470799282782,
          -0.4994305524131073,
          -1.065036040064281,
          -0.5431120008913977,
          0.3262917177574209,
          0.7592203796759035,
          -0.7992780790602171,
          0.13887644209546018,
          -0.9445641337487216,
          0.2954240133363584,
          0.5571329470228316,
          0.11851884249357675,
          0.05986204839289102,
          -0.26565742936737297,
          0.8817755795354707,
          -0.04311317114172281,
          -1.293763090567526,
          -0.4321302351024871,
          -0.3217990742581107,
          -1.0945499248500912,
          0.9731674658776751,
          0.6848779479288791,
          -0.598009025618026,
          -0.5529511223985987,
          0.43872636984100616,
          0.4656180503489726,
          -1.0962758105259423,
          1.4082431513076448,
          -0.19604673041346696,
          -0.6801154936740088,
          -1.0054104380985485,
          0.556318063547264,
          1.0832207624382109,
          0.08730665151961885,
          0.8108418255493113,
          -0.27844802120087386,
          0.1310625557695009,
          -0.5388790325004839,
          0.708768740486133,
          -0.3506909525277381,
          -0.35754530611018365,
          -1.2239730520793646,
          0.36052577906410116,
          -0.32320985974714694,
          0.4839612518575856,
          0.48190901827599314,
          -0.6156691288492226,
          -0.7984213742517922,
          -0.25155291371133504,
          -0.46668149433296735,
          -0.19406166704198502,
          0.6566254931516912,
          0.948827339790811,
          -2.1136087739748755,
          -0.49013376831730254,
          -0.07502511904362297,
          -0.560765136233772,
          0.4004990663693128,
          -0.8050449011970637,
          -0.37180013513851684,
          -0.6091862937553654,
          -0.4971418721257571,
          0.662713179989761,
          -0.006388717803573811,
          -0.06663647325601554,
          -0.2788814367636368,
          1.3000984165937808,
          -0.9151294540440459,
          0.6849292528727712,
          -0.3407665553702177,
          0.9462712712974221,
          -0.13877064245094317,
          -0.2112003329893246,
          -1.0889123562199086,
          0.6382771351023757,
          0.6431658271347116,
          -0.7895556650350359,
          0.6326817265609684,
          0.010651950901965603,
          -0.3964095965971338,
          -0.4129282483335869,
          -1.0526695590252697,
          0.6519328038244094,
          -0.12888058846617068,
          -0.3471192679236359,
          2.0818338082449674,
          -0.22405490236983128,
          -0.5267840562871611,
          0.24496501800585674,
          -0.7438295088600193,
          -0.2944046612281808,
          -0.010774221600973148,
          -1.4186799263209906,
          -0.15831197401903674,
          0.5930242063550066,
          1.0160021826379484,
          0.1345795923066671,
          0.22574082897284586,
          0.48493753914647075,
          0.44041130228661096,
          0.3095885401798567,
          0.884101410328543,
          -1.226812413477938,
          -0.048194839763048544,
          0.7980991008700885,
          1.5249513022076082,
          1.6622123391462615,
          -2.066399869170273,
          0.7762217461197815,
          0.8630183663331654,
          1.6732974538086365,
          1.7532802258048406,
          -0.7606765343943076,
          0.18432864512030891,
          1.2570884273374108,
          -0.3394499453286132,
          0.3435802407031306,
          -0.6810294210113514,
          0.2570186791130873,
          -0.64284666744604,
          1.294327261946818,
          -0.5938462110508747,
          -2.1499755992096925,
          -1.1979054015933326,
          1.7613154290414166,
          2.0320704454890555,
          -0.0007434807500617376,
          1.1019410552255882,
          0.2092276034162982,
          0.3342457804733153,
          1.2794031335284564,
          -0.21494155185470706,
          -1.6768415267947454,
          0.13565232197423993,
          -0.04853799084135414,
          -0.38337569260995413,
          -0.8205235835756308,
          -0.3352136853133,
          -0.6057373529486153,
          -2.21303058668174,
          -1.5086594461289908,
          -0.1777458403200317,
          0.6129052578661068,
          -0.9482790258312997,
          0.07615173000050114,
          1.9977804465298723,
          0.5663855519278542,
          -0.9416413801487579,
          -0.26292834331556103,
          0.6764597798197115,
          -0.5454347028585207,
          -0.45846698000106395,
          -0.5475916361187425,
          -1.4855117327898695,
          -0.22184125960178397,
          -0.8891132732941379,
          -0.9620288695720772,
          0.21879126378951383,
          0.8943150572405267,
          0.12090429802700539,
          0.35077303308333874,
          0.2344506249238218,
          -0.9878283010695608,
          -1.3094806563738888,
          0.42956467795113484,
          0.1865860646197044,
          -0.7055420285902573,
          0.5698101685356634,
          0.5585006361254499,
          -0.27079109318468897,
          -0.17848788434271706,
          0.152744644519552,
          -1.1585658427697534,
          -1.017565266412744,
          0.9710604627243666,
          -1.140092770466488,
          -0.9307275861145472,
          0.8956550878894012,
          -0.9273567764497139,
          -0.49657705788180406,
          -0.21748921665425391,
          -0.9579801628172868,
          0.7786952662829393,
          0.9999936449950129,
          -1.6180346809503694,
          0.6616224888850399,
          0.025475810587319275,
          0.5444315248922688,
          -0.29597129414177636,
          -0.4087979780227095,
          -0.3254175692227712,
          1.1766434938323769,
          -0.5400299428844726,
          0.515074829801539,
          -0.8002045027950503,
          -1.1603924360956803,
          0.38487422272050953,
          -0.9959110200282425,
          -0.15150269737021932,
          -0.424686289306483,
          -0.1171331955914407,
          -0.9314043882391309,
          0.3500765375339211,
          1.1955506790898478,
          -0.047642946000542245,
          -0.22139566769096666,
          0.5432336863837467,
          0.5153788532906413,
          0.3799875813315067,
          -1.687252016218416,
          -0.8454517192695804,
          1.2338781682636528,
          0.6068810941069489,
          1.0295633786889231,
          -1.357108283262538,
          0.7131734858414424,
          1.2487161046850197,
          0.6273555476599383,
          0.3689151513784555,
          -1.979417142544278,
          0.36829052766052534,
          -0.5289178755390608,
          0.6647557440201101,
          0.04055636572419915,
          -0.7085634612240582,
          -0.15178906415065208,
          -0.942510473070703,
          -0.7391958793976577,
          -1.165794864596477,
          0.8886676073957469,
          -0.7429642283943901,
          -0.38203680647668453,
          -0.46099019294087656,
          0.3505419871244471,
          0.23463750709626477,
          -0.46208054342891947,
          -0.591529215794869,
          0.025401547148962405,
          -0.7813719193636125,
          -2.078695783243171,
          -0.6529088265755305,
          -1.3116145829683694,
          0.81461968272774,
          0.35394215571403886,
          -0.06736083727421818,
          -0.5869427242795815,
          -0.15171365189594926,
          -2.183031891321048,
          0.24996762263533046,
          0.3763989372024095,
          -0.5586845551018669,
          -1.9925982573408214,
          -0.9856006285427854,
          -0.41724287852400144,
          -1.4230107592425987,
          1.3479326309576354,
          -0.6908431019885822,
          1.314627538452045,
          1.7699064160453568,
          -0.058812746603509596,
          -0.6453160359652322,
          -2.1181384549451012,
          1.2486622194405108,
          -0.5126934331645339,
          0.18798827237730806,
          0.34434982656579566,
          0.3183394345430168,
          -0.03461452125484552,
          -0.6543295349560795,
          0.4378991666109068,
          0.9909678657276851,
          -0.09760266495910225,
          0.6158162810812621,
          -0.6650942678307644,
          0.8578599370746427,
          -0.008709200310227844,
          0.2117292651169935,
          -0.2537371425740111,
          -0.19742999837390893,
          0.44994964647870406,
          0.293465820177471,
          -0.39192158893381224,
          2.082701961301355,
          1.318972708805498,
          -0.3251466121704501,
          0.15122677786939667,
          -0.8904745858076565,
          0.48330917783220484,
          2.0906064676940748,
          -0.09302123433693973,
          -0.2587034604142709,
          -0.6390764928520807,
          0.17419353043650132,
          -0.09105512750283726,
          1.9496524816915028,
          0.428419010123731,
          -0.672451588280851,
          0.6418048242520288,
          -1.4034480077234257,
          0.1454308220275865,
          0.5495965397075324,
          -1.4709009216717772,
          0.30444185822728026,
          -0.3890269243128389,
          -2.763403883250663,
          -0.4377606408069548,
          -1.9297886554504908,
          -0.13020821214919776,
          -1.2575805029067169,
          0.653164681780447,
          -0.12105057694508461,
          0.2728573291240546,
          0.2454828659927329,
          -0.5774733906066507,
          -0.71547340429879,
          -0.2818272340067779,
          0.13288417221724255,
          -0.5153707027903462,
          0.6583531319845438,
          -0.10692137847217953,
          -0.606955957435471,
          0.7580693859584728,
          -0.8322021361568009,
          -0.45044053219255775,
          -0.9753446183508647,
          0.14982164575468662,
          0.47806267496315913,
          -1.2358490676331786,
          -0.6555295334058797,
          -0.81337887209704,
          -0.5704337167018113,
          -0.775476605503869,
          -0.42173861988970174,
          2.5515907510798526,
          -0.6203626078118712,
          0.3819866224003812,
          0.5466716288474003,
          0.05316998183885663,
          -0.15665382898411995,
          -0.9070278088873773,
          -0.006550295399122011,
          1.9490888875174706,
          -1.1772829853407227,
          -0.18949034342677148,
          1.3157040983866248,
          -0.6229939694647455,
          0.877407743033553,
          -0.2635642985969623,
          -1.2955729497595843,
          -0.4846183838479534,
          1.0987306248529356,
          -0.3399497073232563,
          0.6525504383459492,
          -0.5800038419795687,
          0.15158690944844633,
          -0.8867252178558251,
          0.4099816251546198,
          1.1341208791084105,
          -0.9386996719855603,
          -0.3262257723066295,
          1.866849735789574,
          -0.656489159954413,
          0.8383404883020362,
          -1.0689146753442982,
          0.125160822950612,
          0.456851008245455,
          -1.1674176419916076,
          -0.4984650049529524,
          -0.6344019802816987,
          0.8891955552638617,
          0.5437486078151187,
          1.1999583485996317,
          0.4662001993418581,
          -0.6605654103818746,
          0.888135227530701,
          -0.02268969019346842,
          0.9651069365169846,
          0.17879438740125858,
          -1.9682589123262317,
          -1.0015928607478721,
          -1.2927299914537436,
          -1.4295156245147804,
          0.07652341489789943,
          0.35938361079616066,
          0.8481234352215969,
          0.027406215391935107,
          -0.0771314537039171,
          0.13283647608800708,
          -0.22124214163198627,
          -0.15178917784934323,
          -0.49315809763263885,
          -0.6690416958765746,
          -1.0189764429434989,
          0.13590819947079016,
          -0.21706010036765347,
          0.774589630303888,
          1.4150429391252584,
          1.6963733088214132,
          -0.21712973894024934,
          -0.1779832207070302,
          -0.4566225575320539,
          0.11231125110350369,
          0.15947270756260423,
          -0.1423888704558072,
          1.0083363680144275,
          0.27330723295296216,
          1.774087052810372,
          -0.6460124457121208,
          -1.3222512272362463,
          -1.1262153744471413,
          -0.19051075783047644,
          0.7605624455512704,
          0.24008181400751333,
          -0.5670799340589388,
          0.5970244523214739,
          1.022956070405111,
          -0.45849714133785,
          0.5395037895569226,
          -0.4271558671076748,
          -0.07235757642567665,
          -0.27622501755662243,
          1.3470722163460447,
          -0.31602821814751275,
          -0.3043071379325123,
          0.2501339121430106,
          1.5441193514010436,
          -0.7968646829493607,
          0.20683739846489543,
          -0.952441835036584,
          -0.13275551667919067,
          -0.5981894938604055
         ],
         "xaxis": "x",
         "yaxis": "y"
        }
       ],
       "layout": {
        "barmode": "relative",
        "legend": {
         "title": {
          "text": "variable"
         },
         "tracegroupgap": 0
        },
        "template": {
         "data": {
          "bar": [
           {
            "error_x": {
             "color": "#2a3f5f"
            },
            "error_y": {
             "color": "#2a3f5f"
            },
            "marker": {
             "line": {
              "color": "#E5ECF6",
              "width": 0.5
             },
             "pattern": {
              "fillmode": "overlay",
              "size": 10,
              "solidity": 0.2
             }
            },
            "type": "bar"
           }
          ],
          "barpolar": [
           {
            "marker": {
             "line": {
              "color": "#E5ECF6",
              "width": 0.5
             },
             "pattern": {
              "fillmode": "overlay",
              "size": 10,
              "solidity": 0.2
             }
            },
            "type": "barpolar"
           }
          ],
          "carpet": [
           {
            "aaxis": {
             "endlinecolor": "#2a3f5f",
             "gridcolor": "white",
             "linecolor": "white",
             "minorgridcolor": "white",
             "startlinecolor": "#2a3f5f"
            },
            "baxis": {
             "endlinecolor": "#2a3f5f",
             "gridcolor": "white",
             "linecolor": "white",
             "minorgridcolor": "white",
             "startlinecolor": "#2a3f5f"
            },
            "type": "carpet"
           }
          ],
          "choropleth": [
           {
            "colorbar": {
             "outlinewidth": 0,
             "ticks": ""
            },
            "type": "choropleth"
           }
          ],
          "contour": [
           {
            "colorbar": {
             "outlinewidth": 0,
             "ticks": ""
            },
            "colorscale": [
             [
              0,
              "#0d0887"
             ],
             [
              0.1111111111111111,
              "#46039f"
             ],
             [
              0.2222222222222222,
              "#7201a8"
             ],
             [
              0.3333333333333333,
              "#9c179e"
             ],
             [
              0.4444444444444444,
              "#bd3786"
             ],
             [
              0.5555555555555556,
              "#d8576b"
             ],
             [
              0.6666666666666666,
              "#ed7953"
             ],
             [
              0.7777777777777778,
              "#fb9f3a"
             ],
             [
              0.8888888888888888,
              "#fdca26"
             ],
             [
              1,
              "#f0f921"
             ]
            ],
            "type": "contour"
           }
          ],
          "contourcarpet": [
           {
            "colorbar": {
             "outlinewidth": 0,
             "ticks": ""
            },
            "type": "contourcarpet"
           }
          ],
          "heatmap": [
           {
            "colorbar": {
             "outlinewidth": 0,
             "ticks": ""
            },
            "colorscale": [
             [
              0,
              "#0d0887"
             ],
             [
              0.1111111111111111,
              "#46039f"
             ],
             [
              0.2222222222222222,
              "#7201a8"
             ],
             [
              0.3333333333333333,
              "#9c179e"
             ],
             [
              0.4444444444444444,
              "#bd3786"
             ],
             [
              0.5555555555555556,
              "#d8576b"
             ],
             [
              0.6666666666666666,
              "#ed7953"
             ],
             [
              0.7777777777777778,
              "#fb9f3a"
             ],
             [
              0.8888888888888888,
              "#fdca26"
             ],
             [
              1,
              "#f0f921"
             ]
            ],
            "type": "heatmap"
           }
          ],
          "heatmapgl": [
           {
            "colorbar": {
             "outlinewidth": 0,
             "ticks": ""
            },
            "colorscale": [
             [
              0,
              "#0d0887"
             ],
             [
              0.1111111111111111,
              "#46039f"
             ],
             [
              0.2222222222222222,
              "#7201a8"
             ],
             [
              0.3333333333333333,
              "#9c179e"
             ],
             [
              0.4444444444444444,
              "#bd3786"
             ],
             [
              0.5555555555555556,
              "#d8576b"
             ],
             [
              0.6666666666666666,
              "#ed7953"
             ],
             [
              0.7777777777777778,
              "#fb9f3a"
             ],
             [
              0.8888888888888888,
              "#fdca26"
             ],
             [
              1,
              "#f0f921"
             ]
            ],
            "type": "heatmapgl"
           }
          ],
          "histogram": [
           {
            "marker": {
             "pattern": {
              "fillmode": "overlay",
              "size": 10,
              "solidity": 0.2
             }
            },
            "type": "histogram"
           }
          ],
          "histogram2d": [
           {
            "colorbar": {
             "outlinewidth": 0,
             "ticks": ""
            },
            "colorscale": [
             [
              0,
              "#0d0887"
             ],
             [
              0.1111111111111111,
              "#46039f"
             ],
             [
              0.2222222222222222,
              "#7201a8"
             ],
             [
              0.3333333333333333,
              "#9c179e"
             ],
             [
              0.4444444444444444,
              "#bd3786"
             ],
             [
              0.5555555555555556,
              "#d8576b"
             ],
             [
              0.6666666666666666,
              "#ed7953"
             ],
             [
              0.7777777777777778,
              "#fb9f3a"
             ],
             [
              0.8888888888888888,
              "#fdca26"
             ],
             [
              1,
              "#f0f921"
             ]
            ],
            "type": "histogram2d"
           }
          ],
          "histogram2dcontour": [
           {
            "colorbar": {
             "outlinewidth": 0,
             "ticks": ""
            },
            "colorscale": [
             [
              0,
              "#0d0887"
             ],
             [
              0.1111111111111111,
              "#46039f"
             ],
             [
              0.2222222222222222,
              "#7201a8"
             ],
             [
              0.3333333333333333,
              "#9c179e"
             ],
             [
              0.4444444444444444,
              "#bd3786"
             ],
             [
              0.5555555555555556,
              "#d8576b"
             ],
             [
              0.6666666666666666,
              "#ed7953"
             ],
             [
              0.7777777777777778,
              "#fb9f3a"
             ],
             [
              0.8888888888888888,
              "#fdca26"
             ],
             [
              1,
              "#f0f921"
             ]
            ],
            "type": "histogram2dcontour"
           }
          ],
          "mesh3d": [
           {
            "colorbar": {
             "outlinewidth": 0,
             "ticks": ""
            },
            "type": "mesh3d"
           }
          ],
          "parcoords": [
           {
            "line": {
             "colorbar": {
              "outlinewidth": 0,
              "ticks": ""
             }
            },
            "type": "parcoords"
           }
          ],
          "pie": [
           {
            "automargin": true,
            "type": "pie"
           }
          ],
          "scatter": [
           {
            "fillpattern": {
             "fillmode": "overlay",
             "size": 10,
             "solidity": 0.2
            },
            "type": "scatter"
           }
          ],
          "scatter3d": [
           {
            "line": {
             "colorbar": {
              "outlinewidth": 0,
              "ticks": ""
             }
            },
            "marker": {
             "colorbar": {
              "outlinewidth": 0,
              "ticks": ""
             }
            },
            "type": "scatter3d"
           }
          ],
          "scattercarpet": [
           {
            "marker": {
             "colorbar": {
              "outlinewidth": 0,
              "ticks": ""
             }
            },
            "type": "scattercarpet"
           }
          ],
          "scattergeo": [
           {
            "marker": {
             "colorbar": {
              "outlinewidth": 0,
              "ticks": ""
             }
            },
            "type": "scattergeo"
           }
          ],
          "scattergl": [
           {
            "marker": {
             "colorbar": {
              "outlinewidth": 0,
              "ticks": ""
             }
            },
            "type": "scattergl"
           }
          ],
          "scattermapbox": [
           {
            "marker": {
             "colorbar": {
              "outlinewidth": 0,
              "ticks": ""
             }
            },
            "type": "scattermapbox"
           }
          ],
          "scatterpolar": [
           {
            "marker": {
             "colorbar": {
              "outlinewidth": 0,
              "ticks": ""
             }
            },
            "type": "scatterpolar"
           }
          ],
          "scatterpolargl": [
           {
            "marker": {
             "colorbar": {
              "outlinewidth": 0,
              "ticks": ""
             }
            },
            "type": "scatterpolargl"
           }
          ],
          "scatterternary": [
           {
            "marker": {
             "colorbar": {
              "outlinewidth": 0,
              "ticks": ""
             }
            },
            "type": "scatterternary"
           }
          ],
          "surface": [
           {
            "colorbar": {
             "outlinewidth": 0,
             "ticks": ""
            },
            "colorscale": [
             [
              0,
              "#0d0887"
             ],
             [
              0.1111111111111111,
              "#46039f"
             ],
             [
              0.2222222222222222,
              "#7201a8"
             ],
             [
              0.3333333333333333,
              "#9c179e"
             ],
             [
              0.4444444444444444,
              "#bd3786"
             ],
             [
              0.5555555555555556,
              "#d8576b"
             ],
             [
              0.6666666666666666,
              "#ed7953"
             ],
             [
              0.7777777777777778,
              "#fb9f3a"
             ],
             [
              0.8888888888888888,
              "#fdca26"
             ],
             [
              1,
              "#f0f921"
             ]
            ],
            "type": "surface"
           }
          ],
          "table": [
           {
            "cells": {
             "fill": {
              "color": "#EBF0F8"
             },
             "line": {
              "color": "white"
             }
            },
            "header": {
             "fill": {
              "color": "#C8D4E3"
             },
             "line": {
              "color": "white"
             }
            },
            "type": "table"
           }
          ]
         },
         "layout": {
          "annotationdefaults": {
           "arrowcolor": "#2a3f5f",
           "arrowhead": 0,
           "arrowwidth": 1
          },
          "autotypenumbers": "strict",
          "coloraxis": {
           "colorbar": {
            "outlinewidth": 0,
            "ticks": ""
           }
          },
          "colorscale": {
           "diverging": [
            [
             0,
             "#8e0152"
            ],
            [
             0.1,
             "#c51b7d"
            ],
            [
             0.2,
             "#de77ae"
            ],
            [
             0.3,
             "#f1b6da"
            ],
            [
             0.4,
             "#fde0ef"
            ],
            [
             0.5,
             "#f7f7f7"
            ],
            [
             0.6,
             "#e6f5d0"
            ],
            [
             0.7,
             "#b8e186"
            ],
            [
             0.8,
             "#7fbc41"
            ],
            [
             0.9,
             "#4d9221"
            ],
            [
             1,
             "#276419"
            ]
           ],
           "sequential": [
            [
             0,
             "#0d0887"
            ],
            [
             0.1111111111111111,
             "#46039f"
            ],
            [
             0.2222222222222222,
             "#7201a8"
            ],
            [
             0.3333333333333333,
             "#9c179e"
            ],
            [
             0.4444444444444444,
             "#bd3786"
            ],
            [
             0.5555555555555556,
             "#d8576b"
            ],
            [
             0.6666666666666666,
             "#ed7953"
            ],
            [
             0.7777777777777778,
             "#fb9f3a"
            ],
            [
             0.8888888888888888,
             "#fdca26"
            ],
            [
             1,
             "#f0f921"
            ]
           ],
           "sequentialminus": [
            [
             0,
             "#0d0887"
            ],
            [
             0.1111111111111111,
             "#46039f"
            ],
            [
             0.2222222222222222,
             "#7201a8"
            ],
            [
             0.3333333333333333,
             "#9c179e"
            ],
            [
             0.4444444444444444,
             "#bd3786"
            ],
            [
             0.5555555555555556,
             "#d8576b"
            ],
            [
             0.6666666666666666,
             "#ed7953"
            ],
            [
             0.7777777777777778,
             "#fb9f3a"
            ],
            [
             0.8888888888888888,
             "#fdca26"
            ],
            [
             1,
             "#f0f921"
            ]
           ]
          },
          "colorway": [
           "#636efa",
           "#EF553B",
           "#00cc96",
           "#ab63fa",
           "#FFA15A",
           "#19d3f3",
           "#FF6692",
           "#B6E880",
           "#FF97FF",
           "#FECB52"
          ],
          "font": {
           "color": "#2a3f5f"
          },
          "geo": {
           "bgcolor": "white",
           "lakecolor": "white",
           "landcolor": "#E5ECF6",
           "showlakes": true,
           "showland": true,
           "subunitcolor": "white"
          },
          "hoverlabel": {
           "align": "left"
          },
          "hovermode": "closest",
          "mapbox": {
           "style": "light"
          },
          "paper_bgcolor": "white",
          "plot_bgcolor": "#E5ECF6",
          "polar": {
           "angularaxis": {
            "gridcolor": "white",
            "linecolor": "white",
            "ticks": ""
           },
           "bgcolor": "#E5ECF6",
           "radialaxis": {
            "gridcolor": "white",
            "linecolor": "white",
            "ticks": ""
           }
          },
          "scene": {
           "xaxis": {
            "backgroundcolor": "#E5ECF6",
            "gridcolor": "white",
            "gridwidth": 2,
            "linecolor": "white",
            "showbackground": true,
            "ticks": "",
            "zerolinecolor": "white"
           },
           "yaxis": {
            "backgroundcolor": "#E5ECF6",
            "gridcolor": "white",
            "gridwidth": 2,
            "linecolor": "white",
            "showbackground": true,
            "ticks": "",
            "zerolinecolor": "white"
           },
           "zaxis": {
            "backgroundcolor": "#E5ECF6",
            "gridcolor": "white",
            "gridwidth": 2,
            "linecolor": "white",
            "showbackground": true,
            "ticks": "",
            "zerolinecolor": "white"
           }
          },
          "shapedefaults": {
           "line": {
            "color": "#2a3f5f"
           }
          },
          "ternary": {
           "aaxis": {
            "gridcolor": "white",
            "linecolor": "white",
            "ticks": ""
           },
           "baxis": {
            "gridcolor": "white",
            "linecolor": "white",
            "ticks": ""
           },
           "bgcolor": "#E5ECF6",
           "caxis": {
            "gridcolor": "white",
            "linecolor": "white",
            "ticks": ""
           }
          },
          "title": {
           "x": 0.05
          },
          "xaxis": {
           "automargin": true,
           "gridcolor": "white",
           "linecolor": "white",
           "ticks": "",
           "title": {
            "standoff": 15
           },
           "zerolinecolor": "white",
           "zerolinewidth": 2
          },
          "yaxis": {
           "automargin": true,
           "gridcolor": "white",
           "linecolor": "white",
           "ticks": "",
           "title": {
            "standoff": 15
           },
           "zerolinecolor": "white",
           "zerolinewidth": 2
          }
         }
        },
        "title": {
         "text": "Histogram of pitch_x"
        },
        "xaxis": {
         "anchor": "y",
         "domain": [
          0,
          1
         ],
         "title": {
          "text": "value"
         }
        },
        "yaxis": {
         "anchor": "x",
         "domain": [
          0,
          1
         ],
         "title": {
          "text": "count"
         }
        }
       }
      }
     },
     "metadata": {},
     "output_type": "display_data"
    }
   ],
   "source": [
    "pitch_data.show_x_location_hist('pitch_x')"
   ]
  },
  {
   "cell_type": "code",
   "execution_count": 8,
   "metadata": {},
   "outputs": [
    {
     "data": {
      "application/vnd.plotly.v1+json": {
       "config": {
        "plotlyServerURL": "https://plot.ly"
       },
       "data": [
        {
         "alignmentgroup": "True",
         "bingroup": "x",
         "hovertemplate": "variable=pitch_y<br>value=%{x}<br>count=%{y}<extra></extra>",
         "legendgroup": "pitch_y",
         "marker": {
          "color": "#636efa",
          "pattern": {
           "shape": ""
          }
         },
         "name": "pitch_y",
         "offsetgroup": "pitch_y",
         "orientation": "v",
         "showlegend": true,
         "type": "histogram",
         "x": [
          1.0190469030321379,
          -0.3064218346703411,
          -1.972582133998773,
          0.21386126173754283,
          -0.7905011151864689,
          0.7659591729015238,
          -1.8408710435779556,
          -0.5277629839096325,
          -0.010352622863370017,
          1.2747503118431929,
          -0.2464912214046881,
          -1.0552957296243302,
          2.2907744172799247,
          -0.3632515814971021,
          1.2292096512635398,
          -1.3739455644939478,
          0.36290471866955076,
          0.04387331338417217,
          1.1476147793077256,
          1.082421575534636,
          -0.1137825465676386,
          0.7575173715474196,
          -0.4124324874696104,
          0.03365361707294614,
          -0.3356040594106949,
          -0.2894585986612299,
          0.17334858714855605,
          -0.5707907901636161,
          -1.006066493294545,
          -1.2086521111282795,
          -1.364271075310289,
          0.6035700245438359,
          0.2400221089998775,
          -0.6000280436182511,
          0.489383237429206,
          -0.962907489811414,
          0.450420181932343,
          0.3324961688481843,
          0.8116926796751296,
          0.7738671731436945,
          0.5190174877167228,
          0.9338857661699796,
          -0.2731392990556213,
          -0.864751941626235,
          0.9872106586196919,
          -2.31561997895929,
          -0.7117726805145707,
          0.556200857027326,
          0.8732859143918387,
          0.13439759261830683,
          -1.6441209884193697,
          -0.7510564729465844,
          -1.2518329983275651,
          -0.08312585244858953,
          1.0173161688366084,
          0.696605854000481,
          -1.2150828842218497,
          -1.0437597688600833,
          0.4777755593853531,
          -1.6054959812385832,
          0.11388570024014279,
          -1.391316246760985,
          -1.1224610481009014,
          1.0004890333674388,
          -0.10105428512863342,
          0.7777513559029101,
          -0.3240004880019571,
          -0.15791377828252903,
          0.4801520829726667,
          -0.5488585604585029,
          -2.1434449688309307,
          0.9095536013951475,
          1.3341908631817208,
          -0.10919708545118814,
          -0.07375754986923135,
          1.4156785177700357,
          0.8118006154356955,
          0.6644094293227623,
          -0.6638917287932867,
          -0.9776579698440402,
          0.47108200041799797,
          -0.6559269429062704,
          -0.3628931599295285,
          -0.37107137423266245,
          -0.3846556827531981,
          -0.02328725377987331,
          -1.0335851870952657,
          -0.32439813620599167,
          0.34947851612653363,
          -0.2215413990321272,
          -0.48023444517313496,
          0.5628390687645914,
          -1.4544784791475163,
          1.0896581349457057,
          -2.3132885837147374,
          1.1532606128737708,
          -0.5411700497224896,
          1.1805497454153435,
          -1.0244698734891986,
          -0.8781395080768781,
          -0.5773192768649741,
          -1.792141437133474,
          -1.1201915351890355,
          -1.5032043393043963,
          0.6297293409734455,
          -1.2784766619011907,
          -0.49379713456103036,
          -2.020832768708481,
          -0.6008411151810692,
          0.3790153234559806,
          0.7002992242125072,
          0.3637365774230569,
          1.1093731907917292,
          0.606153751485857,
          -0.7925325421302486,
          -0.6687189113587344,
          -1.753112419084954,
          0.20689923162559748,
          -0.49010211920938274,
          0.4186944903263229,
          -0.031380498061266936,
          0.4444599228211277,
          -0.7375723763399465,
          -0.6119666796518175,
          0.48014843583084765,
          -0.7824635908624704,
          -0.19768453320779697,
          -2.240418621373226,
          0.43916765487301296,
          -0.30195927382393534,
          -0.2834081827334637,
          -1.614811744729434,
          0.15435562645637005,
          0.3850001017086958,
          -0.2926232420819214,
          -0.06548433291644053,
          0.2895002000955014,
          -0.27309885159133435,
          -0.37833828098165206,
          1.2559498756210683,
          1.243459454485425,
          -0.5699877962149165,
          0.3267920622499857,
          -1.3113346085881037,
          -0.2348819948754433,
          0.5463660240383822,
          -1.234694852921576,
          0.49356663333646916,
          -0.9973404933802791,
          -0.31976353340701197,
          0.516410721935206,
          -0.871086283537023,
          0.6698557948392629,
          -0.3747009486750338,
          0.3499024864599836,
          0.40271625593015337,
          -0.4667955364191668,
          0.622684543971965,
          -1.2237317506921288,
          -1.2040066070008477,
          -0.6987211328076425,
          1.6092496682284265,
          -0.0221185459467089,
          0.12407346101770475,
          0.9027748647645504,
          -0.4818586938875867,
          -0.6152914580480552,
          -0.5390630105921954,
          0.18865832948131162,
          0.3407819747589573,
          -1.3701172605185794,
          -0.09946641581067989,
          -0.20605183749277112,
          1.2470567440649196,
          0.7929803647797519,
          -0.6235732906089292,
          0.19424478338186657,
          0.6949405712927722,
          1.1140183752380899,
          -1.8678044607526731,
          -0.8914077691134484,
          -0.666956472560917,
          1.0263911970878534,
          0.49841377265996295,
          -0.584880397154897,
          -0.31544662428444137,
          -1.4231271515267085,
          -1.3550026185397583,
          0.7832445415164447,
          0.6469754269525504,
          -0.7701399412528745,
          -0.4921294503721466,
          1.132305451597935,
          1.5736246474240938,
          -0.5416639609503016,
          0.5052949613901865,
          1.1322457296219721,
          -1.2395814011546666,
          1.5430413763208712,
          -0.037931660290866566,
          -0.2565234550872788,
          0.1156825338920456,
          -0.928092563067202,
          -1.7668154596229346,
          0.5808524857533848,
          -0.11965419935972191,
          0.7454473350956105,
          -0.848123659764706,
          -0.16347580618720203,
          -0.19579126320944795,
          0.3329961644036009,
          -1.1728663566452526,
          1.8121180102016647,
          -0.11350997939706722,
          1.553262756513496,
          -0.9812443145763474,
          -1.2062887855549425,
          0.6803313394376871,
          -0.3754175444692804,
          -0.2716453597358827,
          -0.646704692669539,
          -1.293713018481425,
          0.6476919316280407,
          -2.4173318408078335,
          0.7676632735760032,
          -0.5162383018886006,
          0.5935756466624943,
          0.5294326827883625,
          0.7546834625425621,
          -0.5742740531481371,
          -1.4871487507597672,
          0.363089882912521,
          -1.5396501730176577,
          -0.7454419344319668,
          -0.507103469882207,
          -0.31688915436722215,
          -1.0508765396494388,
          -1.127150700857444,
          0.8276316148059821,
          0.9093622472670755,
          1.6182706552868331,
          -1.3302660321950415,
          1.8664609635615592,
          -0.23475061592868568,
          0.39107400106617823,
          -0.6127509891935908,
          0.7220091040275013,
          0.25274822339210895,
          2.353898334411847,
          0.005686855169704771,
          -2.0980398626414187,
          -2.551222497930283,
          -1.3248777389968682,
          -0.32757909289660386,
          -0.8469076370055406,
          -0.5653545228962834,
          -0.06299605071504277,
          -0.1366231863344583,
          -0.6908001506397595,
          0.23994912871691942,
          -0.5683223765720753,
          0.33316870416665684,
          -0.9519838139949812,
          -0.6645430353141013,
          -0.3034977533351369,
          0.4683913878493343,
          1.7347313412194991,
          -0.7403672644604063,
          -0.3505640066540431,
          0.03834672116753873,
          -0.4581308516988813,
          -1.3637534665444004,
          -0.06751399713452406,
          0.6136083653354103,
          0.36155633506911783,
          0.45145321867601856,
          -0.009919005392569912,
          -1.1785434065254867,
          -0.5307097755100295,
          -0.6620380882589117,
          0.20688889738638863,
          0.4364736639713691,
          0.6049170100875433,
          -0.6575228886141835,
          -0.6366893388727624,
          1.4263757064809954,
          0.47574031826725605,
          1.5405082773992904,
          0.056658227284726824,
          0.7266512738501455,
          0.21422160779929164,
          -0.2456829663790011,
          -1.8940965741529368,
          -1.3478293768149772,
          -0.24627208747614057,
          0.5493280113650304,
          -0.15918424331307482,
          -0.38178080564959427,
          -0.08004225257690518,
          1.6196004771165509,
          0.522706440327337,
          0.6692640442961598,
          0.1943299017756305,
          0.029525553055088593,
          -0.12052983744945285,
          0.1821980060978317,
          -0.3790763509866268,
          -0.7333500755419988,
          -1.8494407137034465,
          0.7183093534791357,
          -0.07360265159046388,
          -1.4934591015836816,
          -0.36371037965382225,
          1.0716570289782323,
          0.8721268058249397,
          -1.1074384837788296,
          -1.144810185306116,
          0.3561652502921266,
          0.11132929010615156,
          0.324036409298373,
          -1.7551915309462383,
          -1.0335328949701725,
          -0.8021138124146949,
          0.14917435607290674,
          0.8626666607369663,
          -0.25607038673615584,
          0.37205642060791966,
          0.015538793473061871,
          -0.6590050913633715,
          0.45963367629407204,
          -0.12228517368462014,
          -1.2255472845908986,
          -0.9081288737980523,
          2.180358259993735,
          -0.5934829416559114,
          -0.7022638044197825,
          -0.5774146699463943,
          0.41120623429538977,
          0.91851548947541,
          -1.1444546850618762,
          0.19199401576482944,
          -1.487613339465515,
          -0.5182154030374028,
          -0.08631667896415536,
          2.1251781874207807,
          0.364517250037877,
          -0.6856035962650043,
          -1.4042630837443655,
          0.8947687535084441,
          -2.0162309106087086,
          0.014663026150528159,
          -0.5723145553724797,
          0.8222492348887035,
          -0.9951775196310902,
          -0.2941971832982593,
          -0.8120532128443049,
          -1.411029546625019,
          0.19970837151660586,
          -1.558595941731053,
          -0.07566219676645768,
          -0.07789717231735743,
          0.10962812652671157,
          0.0851408184740793,
          -1.0235304665763945,
          0.29804379744833076,
          0.14324951702228955,
          0.8885358154163583,
          -0.5418793902047341,
          -1.0665590082259995,
          -0.45919372060892566,
          -0.8319731224446171,
          -1.0149980217196064,
          -0.9083447990808226,
          -1.0034740023605604,
          1.3487132123095142,
          -0.8829314208831182,
          0.8696552823922978,
          -1.1683062785844707,
          -1.0719227952956096,
          -1.3746509023900477,
          0.7937691033371427,
          0.5578384972392321,
          -0.37219668591872224,
          2.3783709653193843,
          -0.008302608589757676,
          0.07964416182246968,
          -0.0700033670697845,
          0.026261925621421118,
          0.8131242767858807,
          0.19384912677071695,
          0.039608830341953484,
          -0.49489195790030166,
          -0.15299453170165186,
          -0.048236117970849784,
          -0.8633945815421015,
          2.1919978476080084,
          -1.2935797869892143,
          0.4536219168405812,
          0.5466027428451725,
          0.2808983457980037,
          -1.9360682140124506,
          -0.818479164621356,
          -0.2148947017100533,
          0.44222496689580704,
          -0.10475634269883399,
          0.8170582589243939,
          -0.06552023781226544,
          -0.20516432175510532,
          -0.38170776304876153,
          0.3587114145974581,
          -0.18212298571127106,
          -1.5101545768744395,
          1.1761363044891113,
          0.7614655290137143,
          1.3602297018950105,
          0.1504044403736922,
          -0.31256526509314714,
          -0.7938977882031837,
          -1.5086911671152334,
          1.0319157279265858,
          -3.4578845528354147,
          1.1708215109729754,
          -0.3869506820002404,
          -0.6830242495441071,
          0.4640226216764492,
          1.7459145482916882,
          -1.3448619428805793,
          0.19348978471606565,
          -1.3374123694704605,
          0.31424508224892145,
          0.9649052241857863,
          -1.1373890332260195,
          -0.25693228428100673,
          1.1370202320718101,
          1.1168501488849576,
          -1.693565439324442,
          0.9748051743028894,
          -0.2948670287019974,
          -0.12131066609832045,
          0.8693983563791683,
          0.031809882218790324,
          -0.7230306731268463,
          1.8922511345407313,
          0.8672654420400763,
          -0.04979682181865895,
          0.2602296800619396,
          -0.6347889651760048,
          0.806801965966818,
          -0.6824375079447087,
          -0.856984442906688,
          1.952238802174843,
          -0.6413278797383616,
          0.7700415319552444,
          0.35343530220657887,
          -0.10858625822731051,
          -0.18051946770624794,
          -0.3373983991964741,
          -0.9888483798900546,
          0.22137087011561687,
          -0.25972693015674736,
          -0.13597995054514417,
          -1.7710598341516397,
          1.1406941271326492,
          0.1775246818850257,
          0.2729582256947982,
          -1.3023249764996534,
          0.7216448168998896,
          -0.3211730253556999,
          1.2447845947286003,
          -0.08229663821750594,
          -0.023289729779143595,
          0.06517620852947612,
          -1.7702359408457014,
          -0.28968523758556725,
          0.4203432090030139,
          0.748192448217032,
          0.1321221203262163,
          -0.8493119432476349,
          -1.5491682352211842,
          -0.15414090310336673,
          0.3730722680953107,
          2.060488343452185,
          -0.7448978430855241,
          0.37280303353947947,
          -0.609037834019624,
          0.2102147617461664,
          0.10320735978223652,
          1.0354752685311848,
          0.74096028912763,
          -0.9036491552017691,
          0.2557568977904277,
          -0.8911238209093346,
          0.36173467525389713,
          1.6314981090334977,
          -0.028573200334492267,
          0.40895213265286345,
          -0.8858285988291137,
          -0.230198654339004,
          -1.0025296320858,
          -0.3208885638157231,
          0.8769468359550084,
          1.338368354710096,
          -2.0298435561365884,
          0.9550162539535483,
          0.24045044088241485,
          0.976971182518103,
          -0.44856085292499887,
          -0.13102527898863134,
          -1.6718239563830195,
          0.4495350954460817,
          0.7850549804171998,
          -1.704106623513022,
          -1.5809091501780148,
          -0.6447359311330901,
          -0.26672163810964505,
          -1.1535195235233486,
          0.4918076990808382,
          0.5749640224402789,
          0.3466998413883729,
          -0.16655946200221797,
          -1.8930314831126718,
          -0.10679061280844603,
          -0.6696532267323587,
          -0.6647093837694127,
          -0.747905088913312,
          0.25355693982755084,
          -0.3842801023572382,
          -0.695295872814784,
          -0.38677607844765616,
          0.4565944003852236,
          -1.704550639799624,
          -2.0260027148157262,
          0.7900368540059483,
          -0.91709185261907,
          0.2405231194041089,
          -0.8251567116570568,
          0.15875981231935601,
          -0.14342575340073913,
          -0.7454609803307337,
          0.07711841638099311,
          0.6856524135862572,
          0.4466333634297076,
          0.7984423906406662,
          0.32845411071918973,
          0.42735972059333066,
          0.39057315937855597,
          -1.4445417128286844,
          0.06937122507524195,
          0.2412720507255121,
          -0.6259131851193492,
          -1.2679925057040047,
          -0.040664714041220525,
          -0.3335857961062027,
          -1.59839629317033,
          0.10524231194502323,
          1.7084183402284143,
          -0.1984929500644762,
          0.7233962451763566,
          -0.275985500134614,
          1.0831965322895596,
          0.46740261305184805,
          0.33312606457069555,
          -0.20659237325059468,
          0.6773290334213429,
          0.34572529691794684,
          -0.46036636950036636,
          -1.0642701370629422,
          0.10652512126668875,
          0.9429977420665684,
          -0.4992452157800628,
          2.4735627670748825,
          0.9241174621802304,
          1.2234691367995096,
          -0.06459217146635046,
          -1.1606416668969413,
          1.016021868751291,
          0.7269142775149331,
          0.4397695899751046,
          -0.13609079469299845,
          0.5310320945252459,
          -1.094793661538532,
          -1.1253151776024988,
          0.6417270311806106,
          0.08898030729808526,
          -1.062680052001838,
          -1.1243654422634946,
          1.0266382810473804,
          0.8879594942814886,
          -0.2602572664842496,
          -0.5682859754720345,
          -0.046629792794112036,
          -0.2254471973085157,
          -0.2406779372126196,
          0.8886877394499044,
          0.608186793810794,
          -1.1908571953158222,
          -0.19027676719419495,
          -0.9588077013381504,
          0.9813469301989326,
          1.1210978975133676,
          0.47424739845990294,
          1.2969370871994004,
          0.9801730476237365,
          0.32664213346003956,
          0.07503387057258058,
          0.5130196245106723,
          0.029535334391051542,
          0.5203964832144728,
          -0.6317896086062571,
          0.4999674497956604,
          -0.3339452223102495,
          0.5447481065634661,
          1.4969778553446889,
          -0.35627530862307183,
          0.06565291230124898,
          1.6708183640302916,
          -2.143610447013623,
          0.829912676455194,
          -0.4687826875229027,
          0.8320301065085951,
          -0.37085028026081823,
          -1.2219341429942778,
          0.7487658849219608,
          -0.911660643882437,
          -0.5523858400717649,
          0.09919384962293391,
          -0.25468657684777013,
          -0.5529735679543784,
          -1.033073830895147,
          -0.6225799303282359,
          0.06417724692329528,
          0.39621447548120003,
          -0.3677769084228945,
          -0.19624820605823423,
          -0.8764996727097915,
          0.762014428665474,
          -0.9435395750116985,
          0.39590635513755523,
          0.03733275332493876,
          -0.17213089688096442,
          -1.0014838374232236,
          -0.006251532609491593,
          -0.05796149979867008,
          -0.01029850452818871,
          -0.329690419863191,
          0.3879626078390635,
          0.8279790753011731,
          1.5634927437753305,
          -1.3806842559007306,
          -0.6500255203172022,
          -0.16907346216503655,
          -0.20569648197600307,
          0.7010255230862515,
          -1.0024970906723047,
          -1.6056461306846566,
          -1.0665085599095172,
          0.12326479138658844,
          -1.5128325437890016,
          0.06766048340759952,
          0.07542714014838123,
          -0.7935422387334009,
          0.2917137412305356,
          -1.0472530020708017,
          -1.8747840957590116,
          -0.7057336518506317,
          -0.42352132630432227,
          1.2919330135305407,
          -0.06775135853765026,
          -0.5181917811748058,
          1.239476957420822,
          -0.2219063144700934,
          -0.9989606618575667,
          -0.4336673405811836,
          -0.23361631150402962,
          0.30352654906716087,
          0.4218944522384967,
          0.37518012707174037,
          -0.6829884220007997,
          0.315011200196944,
          0.3500824120821832,
          0.9698520556810365,
          -0.9561674952499495,
          0.4952647117231699,
          -0.04645148431514611,
          0.47941454989990584,
          -0.782558434969694,
          0.0018641969565745915,
          0.2653557804764701,
          -0.24835040646565942,
          -1.9359176211052218,
          0.4712512610079744,
          0.7979165022266119,
          -0.1554780363090307,
          -1.0522521094625175,
          0.5285969784521619,
          -1.7242685069868886,
          -1.1539685537016364,
          -1.6611513074603275,
          0.07728255972886097,
          -1.550217601357189,
          1.5058828285575219,
          0.4936897911222709,
          0.699108002280891,
          0.8502485257449123,
          -0.3886570331755429,
          0.954863715684697,
          0.5143365917848988,
          -0.5861871243210094,
          -0.677910475397593,
          0.43905784206439336,
          1.0603012457024943,
          -0.890651203156907,
          0.22209559326995162,
          -1.1598895087059464,
          -0.6919504166031056,
          0.41192340197877225,
          -0.6371836315627959,
          0.07069628366059633,
          -1.3199448883718692,
          1.099487714133916,
          -0.4825018266954916,
          0.19820911382299733,
          0.7290970649856984,
          -0.127286934788157,
          0.6037408681860215,
          -0.6024544776603267,
          0.3344755931055022,
          0.8409965636539973,
          1.0380706862361397,
          -0.3894068710598618,
          1.9081009658812484,
          0.07584218162989899,
          0.8545620840435995,
          2.2960216331018843,
          0.707907186430558,
          -0.08202554000004492,
          -0.9584414222640445,
          -1.4261151556327414,
          -0.45370517754500206,
          0.7112563297395884,
          -0.06378922837243897,
          -0.795591225843984,
          0.17962460665833715,
          0.5277989850936091,
          0.025154133856552952,
          -0.18147522890841664,
          0.06829103604727152,
          0.5479600524030339,
          0.11795580693634473,
          0.21809838946115304,
          0.4400347089037551,
          -0.495986516326163,
          -0.544618849670767,
          0.6471971093544352,
          -0.42368784847483054,
          0.12959339129589184,
          -0.2168468621568251,
          0.43723268805398274,
          1.6416241576340496,
          -0.5149060923512543,
          0.6681758840790643,
          0.7681838437659877,
          -0.8554876927741997,
          0.6372371336465159,
          0.340206556648243,
          0.13725533956907815,
          0.006075709483487503,
          1.167207362482686,
          -0.2999898880701526,
          0.41605705061942444,
          -1.632574719548952,
          0.25789814622214774,
          -0.3138741393588305,
          -0.7027486999844178,
          0.11110640205565611,
          0.012508692587135634,
          -0.22226631143132916,
          1.3685056517176166,
          -0.7019213297059465,
          -0.7199111222043841,
          -1.2813816014364148,
          -0.2846095340841602,
          -1.0890713781142918,
          0.5281078500559906,
          1.0555977062652517,
          -0.5532412424955159,
          -0.68264451415679,
          -0.6631465820217036,
          -0.8316765441587929,
          0.05345696660771107,
          -0.3356122647079633,
          0.7905783052158822,
          0.506246844347267,
          0.9089803402111656,
          0.8649690391758492,
          0.6680799878080894,
          -0.3378262384040032,
          -1.1171660416287301,
          0.46707757019811136,
          -0.16860533554806656,
          -1.525594557625207,
          1.482082474587753,
          -1.2509737772793144,
          -0.7543023347572851,
          -0.6339878424639608,
          0.7223114769084779,
          -0.613086607187571,
          0.5058374135887667,
          -0.3625875665531339,
          1.2334656276809013,
          1.3041978781682235,
          0.1101277161689127,
          0.9196021439919811,
          0.6652640993261146,
          -1.1316052446250429,
          0.25709782607596754,
          -1.446779589230426,
          -0.351882395378387,
          -0.1168093299279054,
          -0.5666452695765597,
          -1.1160391884462206,
          -0.8361723690510648,
          0.26088706199953454,
          1.0194481289469288,
          -1.6146328831378254,
          0.8256918496075674,
          -0.31192635677754255,
          0.39372945745036786,
          -0.7511951812431316,
          1.0641293383781403,
          -2.6200510550535325,
          1.1967880911112645,
          0.8953320020323738,
          1.6194136685680152,
          -0.7090044212809787,
          0.9957914934030442,
          -1.2239674424124405,
          -0.5680734825569569,
          0.2335735711147345,
          -0.9010360080253161,
          -0.44466739513828674,
          -0.3635600402313956,
          0.271726192184535,
          0.7801745410148129,
          0.15794625941043128,
          -1.0855407448765817,
          -1.0405970968009197,
          1.4217894862637621,
          1.248765008562929,
          0.12213603683238153,
          -1.0993498659644407,
          0.468490663192028,
          -0.8281474051050042,
          -0.14589705637901515,
          -0.44839775932199927,
          0.4939424199250604,
          -0.7063258466927446,
          -0.3959256447423381,
          -0.2591004311487611,
          -0.21332159251941704,
          0.7204452163291913,
          -0.6671222210808929,
          -0.5203746295157655,
          -0.4913941610824393,
          0.8373574825178448,
          -0.08928175661254224,
          0.3666349461421219,
          -0.43564453604800973,
          0.6779717258164126,
          -0.39769725174353954,
          -0.5065941850570693,
          -0.5574046256164832,
          0.8933425408294982,
          0.8469683312060886,
          -0.09993686324534659,
          1.0650722310956628,
          -0.8107427616909968,
          0.6583232737866901,
          0.8878301835915496,
          0.63203205009134,
          0.14866641192100982,
          -0.5100123237126377,
          0.2571836441125131,
          1.5282347138701384,
          0.8491513785381444,
          1.2065353968284198,
          -1.8815214245723995,
          0.6222092049676493,
          1.3714198269383897,
          0.1279363393384039,
          0.7826694769935904,
          0.5076562079680543,
          0.5527350086175786,
          -0.9821893522031269,
          0.27629150480022824,
          -0.9862029053447521,
          -0.6737323418287411,
          2.0477179480822354,
          1.1771052117386673,
          2.2619862967890563,
          0.1934632818175715,
          0.14864195056833232,
          -0.9113310918815509,
          -0.21200819230948642,
          -1.3858998614369435,
          -0.12094365842194918,
          0.6805841006385484,
          0.8582955958027079,
          -1.0988850873180978,
          0.11609351014428815,
          -0.8988219437298417,
          0.22586948212152336,
          0.957804409219152,
          0.9017481974613124,
          -0.15878954048293475,
          0.6902009202740276,
          0.6881235802670811,
          1.2084535567201746,
          -0.4015920779916866,
          1.4361169375734628,
          0.45106699311458737,
          -0.33318904532716814,
          -1.6650860317506342,
          -0.573278832129406,
          0.275301172147642,
          -0.9704693156972226,
          -0.3687721741291345,
          0.4137603296183064,
          -1.325617148400402,
          -0.6757271315024261,
          -0.46023335883723215,
          0.27814529322079823,
          0.6311144026504084,
          -0.58744372324208,
          -0.6847862792995534,
          0.7421194924832419,
          -0.30335826299771196,
          -0.01853320404594423,
          0.5819625070522775,
          1.9936197772427746,
          0.24284781909517036,
          -0.2061407745865773,
          0.3245572127139937,
          0.2516671436707515,
          0.22430703331181068,
          -0.14426450167056926,
          0.1651571818787025,
          -0.470921721585186,
          -0.10026397908989568,
          -0.4948224649211809,
          0.21613419597398204,
          -1.4602553657781403,
          -1.559129056496563,
          0.4965357997012982,
          0.3032173493208198,
          1.3121134107783068,
          -0.6173167690488128,
          -0.362887900033868,
          -0.36648399282131644,
          1.1827102441554038,
          1.2994028335254248,
          -0.838445494350449,
          0.6949404817851073,
          0.5252904800073201,
          1.3217155672094953,
          1.127287561529886,
          -2.110022030427303,
          -0.9063367714308308,
          -0.1335006347154109,
          -0.25475058446172255,
          0.5626912479073026,
          0.2010448381340048,
          0.20000629817149482,
          0.13862670464334984,
          -0.03427268449358667,
          -0.9209469554173696,
          0.7460830038025663,
          -0.6672328595903104,
          -1.575833846176699,
          -0.3849014012929854,
          -1.536019351539582,
          1.2017575976438295,
          0.628438526024452,
          -0.013958912124381441,
          0.9925955127770331,
          -0.02808664586727258,
          -0.6090310792092617,
          -1.3316097743872524,
          0.9531975727908152,
          0.4445612579624869,
          -0.8694197699792026,
          0.8409765525496595,
          1.1563057069762037,
          0.49620862147527683,
          -0.25089371365241625,
          0.11672191879187951,
          -0.307829533085673,
          0.3968228478711571,
          -0.8084235905892269,
          1.2790871811635198
         ],
         "xaxis": "x",
         "yaxis": "y"
        }
       ],
       "layout": {
        "barmode": "relative",
        "legend": {
         "title": {
          "text": "variable"
         },
         "tracegroupgap": 0
        },
        "template": {
         "data": {
          "bar": [
           {
            "error_x": {
             "color": "#2a3f5f"
            },
            "error_y": {
             "color": "#2a3f5f"
            },
            "marker": {
             "line": {
              "color": "#E5ECF6",
              "width": 0.5
             },
             "pattern": {
              "fillmode": "overlay",
              "size": 10,
              "solidity": 0.2
             }
            },
            "type": "bar"
           }
          ],
          "barpolar": [
           {
            "marker": {
             "line": {
              "color": "#E5ECF6",
              "width": 0.5
             },
             "pattern": {
              "fillmode": "overlay",
              "size": 10,
              "solidity": 0.2
             }
            },
            "type": "barpolar"
           }
          ],
          "carpet": [
           {
            "aaxis": {
             "endlinecolor": "#2a3f5f",
             "gridcolor": "white",
             "linecolor": "white",
             "minorgridcolor": "white",
             "startlinecolor": "#2a3f5f"
            },
            "baxis": {
             "endlinecolor": "#2a3f5f",
             "gridcolor": "white",
             "linecolor": "white",
             "minorgridcolor": "white",
             "startlinecolor": "#2a3f5f"
            },
            "type": "carpet"
           }
          ],
          "choropleth": [
           {
            "colorbar": {
             "outlinewidth": 0,
             "ticks": ""
            },
            "type": "choropleth"
           }
          ],
          "contour": [
           {
            "colorbar": {
             "outlinewidth": 0,
             "ticks": ""
            },
            "colorscale": [
             [
              0,
              "#0d0887"
             ],
             [
              0.1111111111111111,
              "#46039f"
             ],
             [
              0.2222222222222222,
              "#7201a8"
             ],
             [
              0.3333333333333333,
              "#9c179e"
             ],
             [
              0.4444444444444444,
              "#bd3786"
             ],
             [
              0.5555555555555556,
              "#d8576b"
             ],
             [
              0.6666666666666666,
              "#ed7953"
             ],
             [
              0.7777777777777778,
              "#fb9f3a"
             ],
             [
              0.8888888888888888,
              "#fdca26"
             ],
             [
              1,
              "#f0f921"
             ]
            ],
            "type": "contour"
           }
          ],
          "contourcarpet": [
           {
            "colorbar": {
             "outlinewidth": 0,
             "ticks": ""
            },
            "type": "contourcarpet"
           }
          ],
          "heatmap": [
           {
            "colorbar": {
             "outlinewidth": 0,
             "ticks": ""
            },
            "colorscale": [
             [
              0,
              "#0d0887"
             ],
             [
              0.1111111111111111,
              "#46039f"
             ],
             [
              0.2222222222222222,
              "#7201a8"
             ],
             [
              0.3333333333333333,
              "#9c179e"
             ],
             [
              0.4444444444444444,
              "#bd3786"
             ],
             [
              0.5555555555555556,
              "#d8576b"
             ],
             [
              0.6666666666666666,
              "#ed7953"
             ],
             [
              0.7777777777777778,
              "#fb9f3a"
             ],
             [
              0.8888888888888888,
              "#fdca26"
             ],
             [
              1,
              "#f0f921"
             ]
            ],
            "type": "heatmap"
           }
          ],
          "heatmapgl": [
           {
            "colorbar": {
             "outlinewidth": 0,
             "ticks": ""
            },
            "colorscale": [
             [
              0,
              "#0d0887"
             ],
             [
              0.1111111111111111,
              "#46039f"
             ],
             [
              0.2222222222222222,
              "#7201a8"
             ],
             [
              0.3333333333333333,
              "#9c179e"
             ],
             [
              0.4444444444444444,
              "#bd3786"
             ],
             [
              0.5555555555555556,
              "#d8576b"
             ],
             [
              0.6666666666666666,
              "#ed7953"
             ],
             [
              0.7777777777777778,
              "#fb9f3a"
             ],
             [
              0.8888888888888888,
              "#fdca26"
             ],
             [
              1,
              "#f0f921"
             ]
            ],
            "type": "heatmapgl"
           }
          ],
          "histogram": [
           {
            "marker": {
             "pattern": {
              "fillmode": "overlay",
              "size": 10,
              "solidity": 0.2
             }
            },
            "type": "histogram"
           }
          ],
          "histogram2d": [
           {
            "colorbar": {
             "outlinewidth": 0,
             "ticks": ""
            },
            "colorscale": [
             [
              0,
              "#0d0887"
             ],
             [
              0.1111111111111111,
              "#46039f"
             ],
             [
              0.2222222222222222,
              "#7201a8"
             ],
             [
              0.3333333333333333,
              "#9c179e"
             ],
             [
              0.4444444444444444,
              "#bd3786"
             ],
             [
              0.5555555555555556,
              "#d8576b"
             ],
             [
              0.6666666666666666,
              "#ed7953"
             ],
             [
              0.7777777777777778,
              "#fb9f3a"
             ],
             [
              0.8888888888888888,
              "#fdca26"
             ],
             [
              1,
              "#f0f921"
             ]
            ],
            "type": "histogram2d"
           }
          ],
          "histogram2dcontour": [
           {
            "colorbar": {
             "outlinewidth": 0,
             "ticks": ""
            },
            "colorscale": [
             [
              0,
              "#0d0887"
             ],
             [
              0.1111111111111111,
              "#46039f"
             ],
             [
              0.2222222222222222,
              "#7201a8"
             ],
             [
              0.3333333333333333,
              "#9c179e"
             ],
             [
              0.4444444444444444,
              "#bd3786"
             ],
             [
              0.5555555555555556,
              "#d8576b"
             ],
             [
              0.6666666666666666,
              "#ed7953"
             ],
             [
              0.7777777777777778,
              "#fb9f3a"
             ],
             [
              0.8888888888888888,
              "#fdca26"
             ],
             [
              1,
              "#f0f921"
             ]
            ],
            "type": "histogram2dcontour"
           }
          ],
          "mesh3d": [
           {
            "colorbar": {
             "outlinewidth": 0,
             "ticks": ""
            },
            "type": "mesh3d"
           }
          ],
          "parcoords": [
           {
            "line": {
             "colorbar": {
              "outlinewidth": 0,
              "ticks": ""
             }
            },
            "type": "parcoords"
           }
          ],
          "pie": [
           {
            "automargin": true,
            "type": "pie"
           }
          ],
          "scatter": [
           {
            "fillpattern": {
             "fillmode": "overlay",
             "size": 10,
             "solidity": 0.2
            },
            "type": "scatter"
           }
          ],
          "scatter3d": [
           {
            "line": {
             "colorbar": {
              "outlinewidth": 0,
              "ticks": ""
             }
            },
            "marker": {
             "colorbar": {
              "outlinewidth": 0,
              "ticks": ""
             }
            },
            "type": "scatter3d"
           }
          ],
          "scattercarpet": [
           {
            "marker": {
             "colorbar": {
              "outlinewidth": 0,
              "ticks": ""
             }
            },
            "type": "scattercarpet"
           }
          ],
          "scattergeo": [
           {
            "marker": {
             "colorbar": {
              "outlinewidth": 0,
              "ticks": ""
             }
            },
            "type": "scattergeo"
           }
          ],
          "scattergl": [
           {
            "marker": {
             "colorbar": {
              "outlinewidth": 0,
              "ticks": ""
             }
            },
            "type": "scattergl"
           }
          ],
          "scattermapbox": [
           {
            "marker": {
             "colorbar": {
              "outlinewidth": 0,
              "ticks": ""
             }
            },
            "type": "scattermapbox"
           }
          ],
          "scatterpolar": [
           {
            "marker": {
             "colorbar": {
              "outlinewidth": 0,
              "ticks": ""
             }
            },
            "type": "scatterpolar"
           }
          ],
          "scatterpolargl": [
           {
            "marker": {
             "colorbar": {
              "outlinewidth": 0,
              "ticks": ""
             }
            },
            "type": "scatterpolargl"
           }
          ],
          "scatterternary": [
           {
            "marker": {
             "colorbar": {
              "outlinewidth": 0,
              "ticks": ""
             }
            },
            "type": "scatterternary"
           }
          ],
          "surface": [
           {
            "colorbar": {
             "outlinewidth": 0,
             "ticks": ""
            },
            "colorscale": [
             [
              0,
              "#0d0887"
             ],
             [
              0.1111111111111111,
              "#46039f"
             ],
             [
              0.2222222222222222,
              "#7201a8"
             ],
             [
              0.3333333333333333,
              "#9c179e"
             ],
             [
              0.4444444444444444,
              "#bd3786"
             ],
             [
              0.5555555555555556,
              "#d8576b"
             ],
             [
              0.6666666666666666,
              "#ed7953"
             ],
             [
              0.7777777777777778,
              "#fb9f3a"
             ],
             [
              0.8888888888888888,
              "#fdca26"
             ],
             [
              1,
              "#f0f921"
             ]
            ],
            "type": "surface"
           }
          ],
          "table": [
           {
            "cells": {
             "fill": {
              "color": "#EBF0F8"
             },
             "line": {
              "color": "white"
             }
            },
            "header": {
             "fill": {
              "color": "#C8D4E3"
             },
             "line": {
              "color": "white"
             }
            },
            "type": "table"
           }
          ]
         },
         "layout": {
          "annotationdefaults": {
           "arrowcolor": "#2a3f5f",
           "arrowhead": 0,
           "arrowwidth": 1
          },
          "autotypenumbers": "strict",
          "coloraxis": {
           "colorbar": {
            "outlinewidth": 0,
            "ticks": ""
           }
          },
          "colorscale": {
           "diverging": [
            [
             0,
             "#8e0152"
            ],
            [
             0.1,
             "#c51b7d"
            ],
            [
             0.2,
             "#de77ae"
            ],
            [
             0.3,
             "#f1b6da"
            ],
            [
             0.4,
             "#fde0ef"
            ],
            [
             0.5,
             "#f7f7f7"
            ],
            [
             0.6,
             "#e6f5d0"
            ],
            [
             0.7,
             "#b8e186"
            ],
            [
             0.8,
             "#7fbc41"
            ],
            [
             0.9,
             "#4d9221"
            ],
            [
             1,
             "#276419"
            ]
           ],
           "sequential": [
            [
             0,
             "#0d0887"
            ],
            [
             0.1111111111111111,
             "#46039f"
            ],
            [
             0.2222222222222222,
             "#7201a8"
            ],
            [
             0.3333333333333333,
             "#9c179e"
            ],
            [
             0.4444444444444444,
             "#bd3786"
            ],
            [
             0.5555555555555556,
             "#d8576b"
            ],
            [
             0.6666666666666666,
             "#ed7953"
            ],
            [
             0.7777777777777778,
             "#fb9f3a"
            ],
            [
             0.8888888888888888,
             "#fdca26"
            ],
            [
             1,
             "#f0f921"
            ]
           ],
           "sequentialminus": [
            [
             0,
             "#0d0887"
            ],
            [
             0.1111111111111111,
             "#46039f"
            ],
            [
             0.2222222222222222,
             "#7201a8"
            ],
            [
             0.3333333333333333,
             "#9c179e"
            ],
            [
             0.4444444444444444,
             "#bd3786"
            ],
            [
             0.5555555555555556,
             "#d8576b"
            ],
            [
             0.6666666666666666,
             "#ed7953"
            ],
            [
             0.7777777777777778,
             "#fb9f3a"
            ],
            [
             0.8888888888888888,
             "#fdca26"
            ],
            [
             1,
             "#f0f921"
            ]
           ]
          },
          "colorway": [
           "#636efa",
           "#EF553B",
           "#00cc96",
           "#ab63fa",
           "#FFA15A",
           "#19d3f3",
           "#FF6692",
           "#B6E880",
           "#FF97FF",
           "#FECB52"
          ],
          "font": {
           "color": "#2a3f5f"
          },
          "geo": {
           "bgcolor": "white",
           "lakecolor": "white",
           "landcolor": "#E5ECF6",
           "showlakes": true,
           "showland": true,
           "subunitcolor": "white"
          },
          "hoverlabel": {
           "align": "left"
          },
          "hovermode": "closest",
          "mapbox": {
           "style": "light"
          },
          "paper_bgcolor": "white",
          "plot_bgcolor": "#E5ECF6",
          "polar": {
           "angularaxis": {
            "gridcolor": "white",
            "linecolor": "white",
            "ticks": ""
           },
           "bgcolor": "#E5ECF6",
           "radialaxis": {
            "gridcolor": "white",
            "linecolor": "white",
            "ticks": ""
           }
          },
          "scene": {
           "xaxis": {
            "backgroundcolor": "#E5ECF6",
            "gridcolor": "white",
            "gridwidth": 2,
            "linecolor": "white",
            "showbackground": true,
            "ticks": "",
            "zerolinecolor": "white"
           },
           "yaxis": {
            "backgroundcolor": "#E5ECF6",
            "gridcolor": "white",
            "gridwidth": 2,
            "linecolor": "white",
            "showbackground": true,
            "ticks": "",
            "zerolinecolor": "white"
           },
           "zaxis": {
            "backgroundcolor": "#E5ECF6",
            "gridcolor": "white",
            "gridwidth": 2,
            "linecolor": "white",
            "showbackground": true,
            "ticks": "",
            "zerolinecolor": "white"
           }
          },
          "shapedefaults": {
           "line": {
            "color": "#2a3f5f"
           }
          },
          "ternary": {
           "aaxis": {
            "gridcolor": "white",
            "linecolor": "white",
            "ticks": ""
           },
           "baxis": {
            "gridcolor": "white",
            "linecolor": "white",
            "ticks": ""
           },
           "bgcolor": "#E5ECF6",
           "caxis": {
            "gridcolor": "white",
            "linecolor": "white",
            "ticks": ""
           }
          },
          "title": {
           "x": 0.05
          },
          "xaxis": {
           "automargin": true,
           "gridcolor": "white",
           "linecolor": "white",
           "ticks": "",
           "title": {
            "standoff": 15
           },
           "zerolinecolor": "white",
           "zerolinewidth": 2
          },
          "yaxis": {
           "automargin": true,
           "gridcolor": "white",
           "linecolor": "white",
           "ticks": "",
           "title": {
            "standoff": 15
           },
           "zerolinecolor": "white",
           "zerolinewidth": 2
          }
         }
        },
        "title": {
         "text": "Histogram of pitch_y"
        },
        "xaxis": {
         "anchor": "y",
         "domain": [
          0,
          1
         ],
         "title": {
          "text": "value"
         }
        },
        "yaxis": {
         "anchor": "x",
         "domain": [
          0,
          1
         ],
         "title": {
          "text": "count"
         }
        }
       }
      }
     },
     "metadata": {},
     "output_type": "display_data"
    }
   ],
   "source": [
    "pitch_data.show_y_location_hist(\"pitch_y\")"
   ]
  }
 ],
 "metadata": {
  "kernelspec": {
   "display_name": "Python 3",
   "language": "python",
   "name": "python3"
  },
  "language_info": {
   "codemirror_mode": {
    "name": "ipython",
    "version": 3
   },
   "file_extension": ".py",
   "mimetype": "text/x-python",
   "name": "python",
   "nbconvert_exporter": "python",
   "pygments_lexer": "ipython3",
   "version": "3.11.7"
  }
 },
 "nbformat": 4,
 "nbformat_minor": 2
}
