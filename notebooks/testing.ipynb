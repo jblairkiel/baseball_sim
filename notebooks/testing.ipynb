{
 "cells": [
  {
   "cell_type": "code",
   "execution_count": 22,
   "metadata": {},
   "outputs": [
    {
     "name": "stdout",
     "output_type": "stream",
     "text": [
      "The autoreload extension is already loaded. To reload it, use:\n",
      "  %reload_ext autoreload\n"
     ]
    }
   ],
   "source": [
    "%load_ext autoreload\n",
    "%reload_ext autoreload"
   ]
  },
  {
   "cell_type": "code",
   "execution_count": 23,
   "metadata": {},
   "outputs": [
    {
     "name": "stdout",
     "output_type": "stream",
     "text": [
      "Team #94 (0-0) \n",
      " Lineup: \n",
      "\t Michael Fierro (#89)\n",
      "\tKenneth Pollard (#78)\n",
      "\tRobert Phelps (#68)\n",
      "\tMichael Signs (#11)\n",
      "\tJoseph Torres (#6)\n",
      "\tZachariah Stanier (#43)\n",
      "\tRussell Lilly (#40)\n",
      "\tDaniel Walczak (#46)\n",
      "\tDelbert Blackmon (#27)\n"
     ]
    }
   ],
   "source": [
    "import os, sys\n",
    "curPath = os.path.abspath('')\n",
    "for i in range(1):\n",
    "    curPath = os.path.join(curPath, \"..\")\n",
    "    sys.path.append(curPath)\n",
    "\n",
    "from src.util.generation import generate_team, generate_league, generate_pitch\n",
    "import plotly.express as px\n",
    "import pandas as pd\n",
    "from src.analysis.pitch_data import Pitch_Data\n",
    "from src.util.logic.pitch_logic import Pitch_Logic\n",
    "\n",
    "\n",
    "a = generate_team()\n",
    "\n",
    "print(str(a))"
   ]
  },
  {
   "cell_type": "code",
   "execution_count": 24,
   "metadata": {},
   "outputs": [],
   "source": [
    "pitch_dict = []\n",
    "pitch_hitability_dict = []\n",
    "for i in range(0, 1000):\n",
    "    pitch = generate_pitch()\n",
    "    hitability_obj = Pitch_Logic(pitch[\"x\"], pitch[\"y\"], pitch['pitch_type'])\n",
    "    hitability = hitability_obj.calculate_hitability(flat_odds_calculator=.25)\n",
    "    pitch[\"hitability\"] = hitability\n",
    "    pitch_dict.append(pitch)\n",
    "\n",
    "df = pd.DataFrame(pitch_dict)\n"
   ]
  },
  {
   "cell_type": "code",
   "execution_count": 25,
   "metadata": {},
   "outputs": [],
   "source": [
    "pitch_data = Pitch_Data(df)"
   ]
  },
  {
   "cell_type": "code",
   "execution_count": 26,
   "metadata": {},
   "outputs": [
    {
     "data": {
      "application/vnd.plotly.v1+json": {
       "config": {
        "plotlyServerURL": "https://plot.ly"
       },
       "data": [
        {
         "alignmentgroup": "True",
         "bingroup": "x",
         "hovertemplate": "variable=outcome<br>value=%{x}<br>count=%{y}<extra></extra>",
         "legendgroup": "outcome",
         "marker": {
          "color": "#636efa",
          "pattern": {
           "shape": ""
          }
         },
         "name": "outcome",
         "offsetgroup": "outcome",
         "orientation": "v",
         "showlegend": true,
         "type": "histogram",
         "x": [
          "Strike",
          "Ball",
          "Ball",
          "Strike",
          "Ball",
          "Strike",
          "Ball",
          "Strike",
          "Ball",
          "Strike",
          "Strike",
          "Strike",
          "Ball",
          "Strike",
          "Strike",
          "Ball",
          "Ball",
          "Strike",
          "Ball",
          "Ball",
          "Ball",
          "Ball",
          "Strike",
          "Strike",
          "Strike",
          "Strike",
          "Ball",
          "Strike",
          "Ball",
          "Ball",
          "Strike",
          "Ball",
          "Strike",
          "Strike",
          "Ball",
          "Ball",
          "Strike",
          "Strike",
          "Strike",
          "Strike",
          "Strike",
          "Strike",
          "Strike",
          "Ball",
          "Strike",
          "Ball",
          "Ball",
          "Ball",
          "Ball",
          "Strike",
          "Ball",
          "Strike",
          "Strike",
          "Ball",
          "Strike",
          "Ball",
          "Ball",
          "Ball",
          "Strike",
          "Ball",
          "Ball",
          "Strike",
          "Ball",
          "Strike",
          "Ball",
          "Ball",
          "Strike",
          "Strike",
          "Ball",
          "Ball",
          "Ball",
          "Strike",
          "Ball",
          "Ball",
          "Strike",
          "Ball",
          "Strike",
          "Strike",
          "Strike",
          "Ball",
          "Strike",
          "Strike",
          "Strike",
          "Strike",
          "Ball",
          "Ball",
          "Strike",
          "Strike",
          "Ball",
          "Strike",
          "Ball",
          "Ball",
          "Strike",
          "Ball",
          "Strike",
          "Strike",
          "Strike",
          "Strike",
          "Ball",
          "Strike",
          "Strike",
          "Ball",
          "Strike",
          "Strike",
          "Strike",
          "Strike",
          "Ball",
          "Ball",
          "Ball",
          "Ball",
          "Ball",
          "Ball",
          "Strike",
          "Ball",
          "Strike",
          "Strike",
          "Ball",
          "Strike",
          "Strike",
          "Strike",
          "Strike",
          "Ball",
          "Ball",
          "Ball",
          "Ball",
          "Strike",
          "Strike",
          "Ball",
          "Ball",
          "Ball",
          "Ball",
          "Ball",
          "Ball",
          "Strike",
          "Strike",
          "Ball",
          "Strike",
          "Ball",
          "Ball",
          "Strike",
          "Ball",
          "Strike",
          "Ball",
          "Strike",
          "Ball",
          "Ball",
          "Strike",
          "Ball",
          "Ball",
          "Ball",
          "Strike",
          "Ball",
          "Strike",
          "Strike",
          "Strike",
          "Ball",
          "Ball",
          "Strike",
          "Ball",
          "Strike",
          "Strike",
          "Strike",
          "Ball",
          "Ball",
          "Ball",
          "Ball",
          "Strike",
          "Ball",
          "Strike",
          "Ball",
          "Ball",
          "Ball",
          "Ball",
          "Strike",
          "Strike",
          "Ball",
          "Ball",
          "Strike",
          "Ball",
          "Strike",
          "Strike",
          "Strike",
          "Ball",
          "Ball",
          "Strike",
          "Strike",
          "Strike",
          "Ball",
          "Strike",
          "Strike",
          "Ball",
          "Strike",
          "Ball",
          "Strike",
          "Ball",
          "Strike",
          "Ball",
          "Ball",
          "Strike",
          "Strike",
          "Ball",
          "Ball",
          "Strike",
          "Ball",
          "Strike",
          "Strike",
          "Ball",
          "Ball",
          "Strike",
          "Strike",
          "Strike",
          "Ball",
          "Strike",
          "Ball",
          "Strike",
          "Strike",
          "Strike",
          "Ball",
          "Ball",
          "Ball",
          "Strike",
          "Strike",
          "Ball",
          "Ball",
          "Ball",
          "Strike",
          "Ball",
          "Ball",
          "Strike",
          "Ball",
          "Strike",
          "Ball",
          "Ball",
          "Strike",
          "Strike",
          "Strike",
          "Ball",
          "Strike",
          "Strike",
          "Strike",
          "Strike",
          "Strike",
          "Strike",
          "Strike",
          "Strike",
          "Ball",
          "Strike",
          "Strike",
          "Ball",
          "Ball",
          "Strike",
          "Ball",
          "Strike",
          "Strike",
          "Ball",
          "Ball",
          "Strike",
          "Ball",
          "Strike",
          "Ball",
          "Strike",
          "Strike",
          "Strike",
          "Strike",
          "Strike",
          "Ball",
          "Strike",
          "Ball",
          "Strike",
          "Ball",
          "Ball",
          "Strike",
          "Strike",
          "Ball",
          "Ball",
          "Strike",
          "Ball",
          "Ball",
          "Strike",
          "Strike",
          "Strike",
          "Ball",
          "Ball",
          "Ball",
          "Ball",
          "Strike",
          "Strike",
          "Ball",
          "Strike",
          "Ball",
          "Ball",
          "Ball",
          "Strike",
          "Ball",
          "Ball",
          "Ball",
          "Strike",
          "Ball",
          "Strike",
          "Ball",
          "Ball",
          "Strike",
          "Strike",
          "Strike",
          "Strike",
          "Strike",
          "Strike",
          "Strike",
          "Strike",
          "Strike",
          "Strike",
          "Strike",
          "Strike",
          "Ball",
          "Strike",
          "Strike",
          "Ball",
          "Strike",
          "Ball",
          "Strike",
          "Strike",
          "Strike",
          "Strike",
          "Strike",
          "Ball",
          "Strike",
          "Ball",
          "Ball",
          "Strike",
          "Ball",
          "Strike",
          "Ball",
          "Strike",
          "Strike",
          "Ball",
          "Ball",
          "Ball",
          "Ball",
          "Ball",
          "Ball",
          "Ball",
          "Ball",
          "Strike",
          "Ball",
          "Strike",
          "Strike",
          "Strike",
          "Ball",
          "Ball",
          "Ball",
          "Strike",
          "Ball",
          "Ball",
          "Strike",
          "Strike",
          "Strike",
          "Strike",
          "Strike",
          "Ball",
          "Strike",
          "Ball",
          "Strike",
          "Strike",
          "Ball",
          "Strike",
          "Strike",
          "Ball",
          "Strike",
          "Ball",
          "Strike",
          "Strike",
          "Ball",
          "Strike",
          "Strike",
          "Ball",
          "Ball",
          "Strike",
          "Ball",
          "Ball",
          "Ball",
          "Ball",
          "Strike",
          "Ball",
          "Strike",
          "Ball",
          "Strike",
          "Strike",
          "Strike",
          "Ball",
          "Ball",
          "Ball",
          "Ball",
          "Ball",
          "Ball",
          "Ball",
          "Ball",
          "Strike",
          "Strike",
          "Strike",
          "Ball",
          "Strike",
          "Strike",
          "Strike",
          "Ball",
          "Strike",
          "Strike",
          "Strike",
          "Strike",
          "Strike",
          "Ball",
          "Ball",
          "Strike",
          "Strike",
          "Strike",
          "Ball",
          "Ball",
          "Strike",
          "Ball",
          "Strike",
          "Ball",
          "Ball",
          "Ball",
          "Strike",
          "Ball",
          "Strike",
          "Ball",
          "Strike",
          "Ball",
          "Strike",
          "Strike",
          "Ball",
          "Ball",
          "Strike",
          "Strike",
          "Ball",
          "Ball",
          "Strike",
          "Strike",
          "Ball",
          "Ball",
          "Strike",
          "Ball",
          "Ball",
          "Ball",
          "Ball",
          "Ball",
          "Ball",
          "Strike",
          "Ball",
          "Strike",
          "Strike",
          "Strike",
          "Strike",
          "Strike",
          "Ball",
          "Strike",
          "Ball",
          "Strike",
          "Strike",
          "Ball",
          "Ball",
          "Strike",
          "Strike",
          "Ball",
          "Ball",
          "Ball",
          "Strike",
          "Ball",
          "Ball",
          "Strike",
          "Ball",
          "Strike",
          "Ball",
          "Strike",
          "Ball",
          "Strike",
          "Strike",
          "Strike",
          "Strike",
          "Strike",
          "Ball",
          "Ball",
          "Ball",
          "Ball",
          "Ball",
          "Strike",
          "Strike",
          "Strike",
          "Strike",
          "Strike",
          "Ball",
          "Ball",
          "Strike",
          "Ball",
          "Strike",
          "Strike",
          "Ball",
          "Ball",
          "Strike",
          "Strike",
          "Ball",
          "Ball",
          "Strike",
          "Strike",
          "Strike",
          "Strike",
          "Strike",
          "Strike",
          "Ball",
          "Ball",
          "Strike",
          "Strike",
          "Ball",
          "Strike",
          "Strike",
          "Strike",
          "Strike",
          "Strike",
          "Ball",
          "Strike",
          "Ball",
          "Ball",
          "Strike",
          "Strike",
          "Strike",
          "Ball",
          "Ball",
          "Strike",
          "Strike",
          "Strike",
          "Strike",
          "Strike",
          "Strike",
          "Ball",
          "Ball",
          "Ball",
          "Ball",
          "Strike",
          "Ball",
          "Ball",
          "Strike",
          "Ball",
          "Ball",
          "Ball",
          "Strike",
          "Strike",
          "Ball",
          "Ball",
          "Strike",
          "Ball",
          "Ball",
          "Ball",
          "Ball",
          "Ball",
          "Ball",
          "Strike",
          "Strike",
          "Ball",
          "Strike",
          "Strike",
          "Ball",
          "Ball",
          "Ball",
          "Strike",
          "Strike",
          "Ball",
          "Strike",
          "Strike",
          "Strike",
          "Strike",
          "Ball",
          "Ball",
          "Ball",
          "Strike",
          "Ball",
          "Ball",
          "Ball",
          "Strike",
          "Strike",
          "Ball",
          "Strike",
          "Ball",
          "Ball",
          "Ball",
          "Strike",
          "Strike",
          "Strike",
          "Strike",
          "Strike",
          "Ball",
          "Strike",
          "Strike",
          "Strike",
          "Ball",
          "Strike",
          "Strike",
          "Strike",
          "Strike",
          "Strike",
          "Strike",
          "Ball",
          "Ball",
          "Strike",
          "Ball",
          "Ball",
          "Ball",
          "Ball",
          "Ball",
          "Ball",
          "Strike",
          "Strike",
          "Ball",
          "Strike",
          "Strike",
          "Ball",
          "Ball",
          "Ball",
          "Ball",
          "Ball",
          "Ball",
          "Strike",
          "Ball",
          "Strike",
          "Ball",
          "Ball",
          "Ball",
          "Ball",
          "Ball",
          "Ball",
          "Ball",
          "Ball",
          "Strike",
          "Strike",
          "Strike",
          "Ball",
          "Ball",
          "Ball",
          "Ball",
          "Ball",
          "Strike",
          "Strike",
          "Strike",
          "Ball",
          "Strike",
          "Strike",
          "Strike",
          "Ball",
          "Strike",
          "Strike",
          "Ball",
          "Strike",
          "Strike",
          "Strike",
          "Ball",
          "Strike",
          "Ball",
          "Strike",
          "Strike",
          "Strike",
          "Ball",
          "Strike",
          "Strike",
          "Strike",
          "Strike",
          "Strike",
          "Strike",
          "Ball",
          "Strike",
          "Strike",
          "Ball",
          "Strike",
          "Ball",
          "Ball",
          "Strike",
          "Strike",
          "Strike",
          "Ball",
          "Ball",
          "Ball",
          "Strike",
          "Strike",
          "Ball",
          "Strike",
          "Strike",
          "Ball",
          "Strike",
          "Ball",
          "Ball",
          "Ball",
          "Strike",
          "Ball",
          "Ball",
          "Ball",
          "Strike",
          "Strike",
          "Ball",
          "Ball",
          "Ball",
          "Strike",
          "Strike",
          "Ball",
          "Strike",
          "Strike",
          "Strike",
          "Ball",
          "Ball",
          "Strike",
          "Ball",
          "Strike",
          "Strike",
          "Strike",
          "Strike",
          "Strike",
          "Strike",
          "Ball",
          "Strike",
          "Strike",
          "Ball",
          "Ball",
          "Strike",
          "Ball",
          "Strike",
          "Ball",
          "Ball",
          "Ball",
          "Strike",
          "Strike",
          "Ball",
          "Ball",
          "Strike",
          "Ball",
          "Ball",
          "Ball",
          "Ball",
          "Strike",
          "Ball",
          "Ball",
          "Strike",
          "Ball",
          "Ball",
          "Strike",
          "Ball",
          "Ball",
          "Ball",
          "Strike",
          "Strike",
          "Ball",
          "Ball",
          "Ball",
          "Strike",
          "Strike",
          "Ball",
          "Ball",
          "Strike",
          "Ball",
          "Strike",
          "Ball",
          "Ball",
          "Strike",
          "Strike",
          "Ball",
          "Strike",
          "Ball",
          "Ball",
          "Strike",
          "Ball",
          "Ball",
          "Ball",
          "Strike",
          "Ball",
          "Strike",
          "Strike",
          "Ball",
          "Ball",
          "Ball",
          "Strike",
          "Ball",
          "Strike",
          "Ball",
          "Strike",
          "Strike",
          "Ball",
          "Strike",
          "Strike",
          "Strike",
          "Strike",
          "Ball",
          "Strike",
          "Ball",
          "Ball",
          "Ball",
          "Strike",
          "Ball",
          "Ball",
          "Strike",
          "Ball",
          "Strike",
          "Strike",
          "Ball",
          "Ball",
          "Ball",
          "Strike",
          "Ball",
          "Ball",
          "Ball",
          "Strike",
          "Strike",
          "Strike",
          "Strike",
          "Strike",
          "Strike",
          "Strike",
          "Ball",
          "Strike",
          "Strike",
          "Ball",
          "Strike",
          "Strike",
          "Ball",
          "Strike",
          "Strike",
          "Ball",
          "Ball",
          "Strike",
          "Ball",
          "Ball",
          "Ball",
          "Strike",
          "Ball",
          "Ball",
          "Ball",
          "Ball",
          "Ball",
          "Ball",
          "Strike",
          "Strike",
          "Ball",
          "Strike",
          "Strike",
          "Strike",
          "Strike",
          "Ball",
          "Ball",
          "Strike",
          "Ball",
          "Ball",
          "Ball",
          "Ball",
          "Strike",
          "Ball",
          "Ball",
          "Strike",
          "Strike",
          "Strike",
          "Ball",
          "Strike",
          "Strike",
          "Strike",
          "Ball",
          "Ball",
          "Strike",
          "Strike",
          "Strike",
          "Ball",
          "Strike",
          "Ball",
          "Ball",
          "Ball",
          "Ball",
          "Strike",
          "Strike",
          "Strike",
          "Strike",
          "Ball",
          "Strike",
          "Ball",
          "Strike",
          "Ball",
          "Strike",
          "Ball",
          "Ball",
          "Strike",
          "Ball",
          "Ball",
          "Ball",
          "Strike",
          "Strike",
          "Strike",
          "Strike",
          "Strike",
          "Ball",
          "Strike",
          "Strike",
          "Strike",
          "Ball",
          "Strike",
          "Ball",
          "Strike",
          "Strike",
          "Ball",
          "Strike",
          "Strike",
          "Ball",
          "Ball",
          "Ball",
          "Ball",
          "Strike",
          "Strike",
          "Strike",
          "Ball",
          "Ball",
          "Strike",
          "Strike",
          "Strike",
          "Ball",
          "Strike",
          "Strike",
          "Strike",
          "Strike",
          "Strike",
          "Strike",
          "Strike",
          "Strike",
          "Strike",
          "Strike",
          "Ball",
          "Strike",
          "Ball",
          "Strike",
          "Strike",
          "Ball",
          "Strike",
          "Strike",
          "Ball",
          "Ball",
          "Ball",
          "Ball",
          "Ball",
          "Strike",
          "Strike",
          "Ball",
          "Ball",
          "Strike",
          "Ball",
          "Ball",
          "Strike",
          "Ball",
          "Ball",
          "Strike",
          "Strike",
          "Ball",
          "Strike",
          "Ball",
          "Ball",
          "Strike",
          "Strike",
          "Ball",
          "Strike",
          "Ball",
          "Ball",
          "Strike",
          "Ball",
          "Ball",
          "Ball",
          "Strike",
          "Ball",
          "Strike",
          "Strike",
          "Strike",
          "Ball",
          "Strike",
          "Ball",
          "Ball",
          "Ball",
          "Strike",
          "Ball",
          "Strike",
          "Strike",
          "Strike",
          "Strike",
          "Ball",
          "Ball",
          "Strike",
          "Strike",
          "Ball",
          "Strike",
          "Strike",
          "Ball",
          "Strike",
          "Strike",
          "Strike",
          "Strike",
          "Strike",
          "Ball",
          "Strike",
          "Ball",
          "Ball",
          "Strike",
          "Strike",
          "Strike"
         ],
         "xaxis": "x",
         "yaxis": "y"
        }
       ],
       "layout": {
        "barmode": "relative",
        "legend": {
         "title": {
          "text": "variable"
         },
         "tracegroupgap": 0
        },
        "template": {
         "data": {
          "bar": [
           {
            "error_x": {
             "color": "#2a3f5f"
            },
            "error_y": {
             "color": "#2a3f5f"
            },
            "marker": {
             "line": {
              "color": "#E5ECF6",
              "width": 0.5
             },
             "pattern": {
              "fillmode": "overlay",
              "size": 10,
              "solidity": 0.2
             }
            },
            "type": "bar"
           }
          ],
          "barpolar": [
           {
            "marker": {
             "line": {
              "color": "#E5ECF6",
              "width": 0.5
             },
             "pattern": {
              "fillmode": "overlay",
              "size": 10,
              "solidity": 0.2
             }
            },
            "type": "barpolar"
           }
          ],
          "carpet": [
           {
            "aaxis": {
             "endlinecolor": "#2a3f5f",
             "gridcolor": "white",
             "linecolor": "white",
             "minorgridcolor": "white",
             "startlinecolor": "#2a3f5f"
            },
            "baxis": {
             "endlinecolor": "#2a3f5f",
             "gridcolor": "white",
             "linecolor": "white",
             "minorgridcolor": "white",
             "startlinecolor": "#2a3f5f"
            },
            "type": "carpet"
           }
          ],
          "choropleth": [
           {
            "colorbar": {
             "outlinewidth": 0,
             "ticks": ""
            },
            "type": "choropleth"
           }
          ],
          "contour": [
           {
            "colorbar": {
             "outlinewidth": 0,
             "ticks": ""
            },
            "colorscale": [
             [
              0,
              "#0d0887"
             ],
             [
              0.1111111111111111,
              "#46039f"
             ],
             [
              0.2222222222222222,
              "#7201a8"
             ],
             [
              0.3333333333333333,
              "#9c179e"
             ],
             [
              0.4444444444444444,
              "#bd3786"
             ],
             [
              0.5555555555555556,
              "#d8576b"
             ],
             [
              0.6666666666666666,
              "#ed7953"
             ],
             [
              0.7777777777777778,
              "#fb9f3a"
             ],
             [
              0.8888888888888888,
              "#fdca26"
             ],
             [
              1,
              "#f0f921"
             ]
            ],
            "type": "contour"
           }
          ],
          "contourcarpet": [
           {
            "colorbar": {
             "outlinewidth": 0,
             "ticks": ""
            },
            "type": "contourcarpet"
           }
          ],
          "heatmap": [
           {
            "colorbar": {
             "outlinewidth": 0,
             "ticks": ""
            },
            "colorscale": [
             [
              0,
              "#0d0887"
             ],
             [
              0.1111111111111111,
              "#46039f"
             ],
             [
              0.2222222222222222,
              "#7201a8"
             ],
             [
              0.3333333333333333,
              "#9c179e"
             ],
             [
              0.4444444444444444,
              "#bd3786"
             ],
             [
              0.5555555555555556,
              "#d8576b"
             ],
             [
              0.6666666666666666,
              "#ed7953"
             ],
             [
              0.7777777777777778,
              "#fb9f3a"
             ],
             [
              0.8888888888888888,
              "#fdca26"
             ],
             [
              1,
              "#f0f921"
             ]
            ],
            "type": "heatmap"
           }
          ],
          "heatmapgl": [
           {
            "colorbar": {
             "outlinewidth": 0,
             "ticks": ""
            },
            "colorscale": [
             [
              0,
              "#0d0887"
             ],
             [
              0.1111111111111111,
              "#46039f"
             ],
             [
              0.2222222222222222,
              "#7201a8"
             ],
             [
              0.3333333333333333,
              "#9c179e"
             ],
             [
              0.4444444444444444,
              "#bd3786"
             ],
             [
              0.5555555555555556,
              "#d8576b"
             ],
             [
              0.6666666666666666,
              "#ed7953"
             ],
             [
              0.7777777777777778,
              "#fb9f3a"
             ],
             [
              0.8888888888888888,
              "#fdca26"
             ],
             [
              1,
              "#f0f921"
             ]
            ],
            "type": "heatmapgl"
           }
          ],
          "histogram": [
           {
            "marker": {
             "pattern": {
              "fillmode": "overlay",
              "size": 10,
              "solidity": 0.2
             }
            },
            "type": "histogram"
           }
          ],
          "histogram2d": [
           {
            "colorbar": {
             "outlinewidth": 0,
             "ticks": ""
            },
            "colorscale": [
             [
              0,
              "#0d0887"
             ],
             [
              0.1111111111111111,
              "#46039f"
             ],
             [
              0.2222222222222222,
              "#7201a8"
             ],
             [
              0.3333333333333333,
              "#9c179e"
             ],
             [
              0.4444444444444444,
              "#bd3786"
             ],
             [
              0.5555555555555556,
              "#d8576b"
             ],
             [
              0.6666666666666666,
              "#ed7953"
             ],
             [
              0.7777777777777778,
              "#fb9f3a"
             ],
             [
              0.8888888888888888,
              "#fdca26"
             ],
             [
              1,
              "#f0f921"
             ]
            ],
            "type": "histogram2d"
           }
          ],
          "histogram2dcontour": [
           {
            "colorbar": {
             "outlinewidth": 0,
             "ticks": ""
            },
            "colorscale": [
             [
              0,
              "#0d0887"
             ],
             [
              0.1111111111111111,
              "#46039f"
             ],
             [
              0.2222222222222222,
              "#7201a8"
             ],
             [
              0.3333333333333333,
              "#9c179e"
             ],
             [
              0.4444444444444444,
              "#bd3786"
             ],
             [
              0.5555555555555556,
              "#d8576b"
             ],
             [
              0.6666666666666666,
              "#ed7953"
             ],
             [
              0.7777777777777778,
              "#fb9f3a"
             ],
             [
              0.8888888888888888,
              "#fdca26"
             ],
             [
              1,
              "#f0f921"
             ]
            ],
            "type": "histogram2dcontour"
           }
          ],
          "mesh3d": [
           {
            "colorbar": {
             "outlinewidth": 0,
             "ticks": ""
            },
            "type": "mesh3d"
           }
          ],
          "parcoords": [
           {
            "line": {
             "colorbar": {
              "outlinewidth": 0,
              "ticks": ""
             }
            },
            "type": "parcoords"
           }
          ],
          "pie": [
           {
            "automargin": true,
            "type": "pie"
           }
          ],
          "scatter": [
           {
            "fillpattern": {
             "fillmode": "overlay",
             "size": 10,
             "solidity": 0.2
            },
            "type": "scatter"
           }
          ],
          "scatter3d": [
           {
            "line": {
             "colorbar": {
              "outlinewidth": 0,
              "ticks": ""
             }
            },
            "marker": {
             "colorbar": {
              "outlinewidth": 0,
              "ticks": ""
             }
            },
            "type": "scatter3d"
           }
          ],
          "scattercarpet": [
           {
            "marker": {
             "colorbar": {
              "outlinewidth": 0,
              "ticks": ""
             }
            },
            "type": "scattercarpet"
           }
          ],
          "scattergeo": [
           {
            "marker": {
             "colorbar": {
              "outlinewidth": 0,
              "ticks": ""
             }
            },
            "type": "scattergeo"
           }
          ],
          "scattergl": [
           {
            "marker": {
             "colorbar": {
              "outlinewidth": 0,
              "ticks": ""
             }
            },
            "type": "scattergl"
           }
          ],
          "scattermapbox": [
           {
            "marker": {
             "colorbar": {
              "outlinewidth": 0,
              "ticks": ""
             }
            },
            "type": "scattermapbox"
           }
          ],
          "scatterpolar": [
           {
            "marker": {
             "colorbar": {
              "outlinewidth": 0,
              "ticks": ""
             }
            },
            "type": "scatterpolar"
           }
          ],
          "scatterpolargl": [
           {
            "marker": {
             "colorbar": {
              "outlinewidth": 0,
              "ticks": ""
             }
            },
            "type": "scatterpolargl"
           }
          ],
          "scatterternary": [
           {
            "marker": {
             "colorbar": {
              "outlinewidth": 0,
              "ticks": ""
             }
            },
            "type": "scatterternary"
           }
          ],
          "surface": [
           {
            "colorbar": {
             "outlinewidth": 0,
             "ticks": ""
            },
            "colorscale": [
             [
              0,
              "#0d0887"
             ],
             [
              0.1111111111111111,
              "#46039f"
             ],
             [
              0.2222222222222222,
              "#7201a8"
             ],
             [
              0.3333333333333333,
              "#9c179e"
             ],
             [
              0.4444444444444444,
              "#bd3786"
             ],
             [
              0.5555555555555556,
              "#d8576b"
             ],
             [
              0.6666666666666666,
              "#ed7953"
             ],
             [
              0.7777777777777778,
              "#fb9f3a"
             ],
             [
              0.8888888888888888,
              "#fdca26"
             ],
             [
              1,
              "#f0f921"
             ]
            ],
            "type": "surface"
           }
          ],
          "table": [
           {
            "cells": {
             "fill": {
              "color": "#EBF0F8"
             },
             "line": {
              "color": "white"
             }
            },
            "header": {
             "fill": {
              "color": "#C8D4E3"
             },
             "line": {
              "color": "white"
             }
            },
            "type": "table"
           }
          ]
         },
         "layout": {
          "annotationdefaults": {
           "arrowcolor": "#2a3f5f",
           "arrowhead": 0,
           "arrowwidth": 1
          },
          "autotypenumbers": "strict",
          "coloraxis": {
           "colorbar": {
            "outlinewidth": 0,
            "ticks": ""
           }
          },
          "colorscale": {
           "diverging": [
            [
             0,
             "#8e0152"
            ],
            [
             0.1,
             "#c51b7d"
            ],
            [
             0.2,
             "#de77ae"
            ],
            [
             0.3,
             "#f1b6da"
            ],
            [
             0.4,
             "#fde0ef"
            ],
            [
             0.5,
             "#f7f7f7"
            ],
            [
             0.6,
             "#e6f5d0"
            ],
            [
             0.7,
             "#b8e186"
            ],
            [
             0.8,
             "#7fbc41"
            ],
            [
             0.9,
             "#4d9221"
            ],
            [
             1,
             "#276419"
            ]
           ],
           "sequential": [
            [
             0,
             "#0d0887"
            ],
            [
             0.1111111111111111,
             "#46039f"
            ],
            [
             0.2222222222222222,
             "#7201a8"
            ],
            [
             0.3333333333333333,
             "#9c179e"
            ],
            [
             0.4444444444444444,
             "#bd3786"
            ],
            [
             0.5555555555555556,
             "#d8576b"
            ],
            [
             0.6666666666666666,
             "#ed7953"
            ],
            [
             0.7777777777777778,
             "#fb9f3a"
            ],
            [
             0.8888888888888888,
             "#fdca26"
            ],
            [
             1,
             "#f0f921"
            ]
           ],
           "sequentialminus": [
            [
             0,
             "#0d0887"
            ],
            [
             0.1111111111111111,
             "#46039f"
            ],
            [
             0.2222222222222222,
             "#7201a8"
            ],
            [
             0.3333333333333333,
             "#9c179e"
            ],
            [
             0.4444444444444444,
             "#bd3786"
            ],
            [
             0.5555555555555556,
             "#d8576b"
            ],
            [
             0.6666666666666666,
             "#ed7953"
            ],
            [
             0.7777777777777778,
             "#fb9f3a"
            ],
            [
             0.8888888888888888,
             "#fdca26"
            ],
            [
             1,
             "#f0f921"
            ]
           ]
          },
          "colorway": [
           "#636efa",
           "#EF553B",
           "#00cc96",
           "#ab63fa",
           "#FFA15A",
           "#19d3f3",
           "#FF6692",
           "#B6E880",
           "#FF97FF",
           "#FECB52"
          ],
          "font": {
           "color": "#2a3f5f"
          },
          "geo": {
           "bgcolor": "white",
           "lakecolor": "white",
           "landcolor": "#E5ECF6",
           "showlakes": true,
           "showland": true,
           "subunitcolor": "white"
          },
          "hoverlabel": {
           "align": "left"
          },
          "hovermode": "closest",
          "mapbox": {
           "style": "light"
          },
          "paper_bgcolor": "white",
          "plot_bgcolor": "#E5ECF6",
          "polar": {
           "angularaxis": {
            "gridcolor": "white",
            "linecolor": "white",
            "ticks": ""
           },
           "bgcolor": "#E5ECF6",
           "radialaxis": {
            "gridcolor": "white",
            "linecolor": "white",
            "ticks": ""
           }
          },
          "scene": {
           "xaxis": {
            "backgroundcolor": "#E5ECF6",
            "gridcolor": "white",
            "gridwidth": 2,
            "linecolor": "white",
            "showbackground": true,
            "ticks": "",
            "zerolinecolor": "white"
           },
           "yaxis": {
            "backgroundcolor": "#E5ECF6",
            "gridcolor": "white",
            "gridwidth": 2,
            "linecolor": "white",
            "showbackground": true,
            "ticks": "",
            "zerolinecolor": "white"
           },
           "zaxis": {
            "backgroundcolor": "#E5ECF6",
            "gridcolor": "white",
            "gridwidth": 2,
            "linecolor": "white",
            "showbackground": true,
            "ticks": "",
            "zerolinecolor": "white"
           }
          },
          "shapedefaults": {
           "line": {
            "color": "#2a3f5f"
           }
          },
          "ternary": {
           "aaxis": {
            "gridcolor": "white",
            "linecolor": "white",
            "ticks": ""
           },
           "baxis": {
            "gridcolor": "white",
            "linecolor": "white",
            "ticks": ""
           },
           "bgcolor": "#E5ECF6",
           "caxis": {
            "gridcolor": "white",
            "linecolor": "white",
            "ticks": ""
           }
          },
          "title": {
           "x": 0.05
          },
          "xaxis": {
           "automargin": true,
           "gridcolor": "white",
           "linecolor": "white",
           "ticks": "",
           "title": {
            "standoff": 15
           },
           "zerolinecolor": "white",
           "zerolinewidth": 2
          },
          "yaxis": {
           "automargin": true,
           "gridcolor": "white",
           "linecolor": "white",
           "ticks": "",
           "title": {
            "standoff": 15
           },
           "zerolinecolor": "white",
           "zerolinewidth": 2
          }
         }
        },
        "title": {
         "text": "Histogram of outcome"
        },
        "xaxis": {
         "anchor": "y",
         "domain": [
          0,
          1
         ],
         "title": {
          "text": "value"
         }
        },
        "yaxis": {
         "anchor": "x",
         "domain": [
          0,
          1
         ],
         "title": {
          "text": "count"
         }
        }
       }
      }
     },
     "metadata": {},
     "output_type": "display_data"
    },
    {
     "data": {
      "application/vnd.plotly.v1+json": {
       "config": {
        "plotlyServerURL": "https://plot.ly"
       },
       "data": [
        {
         "domain": {
          "x": [
           0,
           1
          ],
          "y": [
           0,
           1
          ]
         },
         "hovertemplate": "outcome=%{label}<br>counts=%{value}<extra></extra>",
         "labels": [
          "Ball",
          "Strike"
         ],
         "legendgroup": "",
         "name": "",
         "showlegend": true,
         "type": "pie",
         "values": [
          482,
          518
         ]
        }
       ],
       "layout": {
        "legend": {
         "tracegroupgap": 0
        },
        "template": {
         "data": {
          "bar": [
           {
            "error_x": {
             "color": "#2a3f5f"
            },
            "error_y": {
             "color": "#2a3f5f"
            },
            "marker": {
             "line": {
              "color": "#E5ECF6",
              "width": 0.5
             },
             "pattern": {
              "fillmode": "overlay",
              "size": 10,
              "solidity": 0.2
             }
            },
            "type": "bar"
           }
          ],
          "barpolar": [
           {
            "marker": {
             "line": {
              "color": "#E5ECF6",
              "width": 0.5
             },
             "pattern": {
              "fillmode": "overlay",
              "size": 10,
              "solidity": 0.2
             }
            },
            "type": "barpolar"
           }
          ],
          "carpet": [
           {
            "aaxis": {
             "endlinecolor": "#2a3f5f",
             "gridcolor": "white",
             "linecolor": "white",
             "minorgridcolor": "white",
             "startlinecolor": "#2a3f5f"
            },
            "baxis": {
             "endlinecolor": "#2a3f5f",
             "gridcolor": "white",
             "linecolor": "white",
             "minorgridcolor": "white",
             "startlinecolor": "#2a3f5f"
            },
            "type": "carpet"
           }
          ],
          "choropleth": [
           {
            "colorbar": {
             "outlinewidth": 0,
             "ticks": ""
            },
            "type": "choropleth"
           }
          ],
          "contour": [
           {
            "colorbar": {
             "outlinewidth": 0,
             "ticks": ""
            },
            "colorscale": [
             [
              0,
              "#0d0887"
             ],
             [
              0.1111111111111111,
              "#46039f"
             ],
             [
              0.2222222222222222,
              "#7201a8"
             ],
             [
              0.3333333333333333,
              "#9c179e"
             ],
             [
              0.4444444444444444,
              "#bd3786"
             ],
             [
              0.5555555555555556,
              "#d8576b"
             ],
             [
              0.6666666666666666,
              "#ed7953"
             ],
             [
              0.7777777777777778,
              "#fb9f3a"
             ],
             [
              0.8888888888888888,
              "#fdca26"
             ],
             [
              1,
              "#f0f921"
             ]
            ],
            "type": "contour"
           }
          ],
          "contourcarpet": [
           {
            "colorbar": {
             "outlinewidth": 0,
             "ticks": ""
            },
            "type": "contourcarpet"
           }
          ],
          "heatmap": [
           {
            "colorbar": {
             "outlinewidth": 0,
             "ticks": ""
            },
            "colorscale": [
             [
              0,
              "#0d0887"
             ],
             [
              0.1111111111111111,
              "#46039f"
             ],
             [
              0.2222222222222222,
              "#7201a8"
             ],
             [
              0.3333333333333333,
              "#9c179e"
             ],
             [
              0.4444444444444444,
              "#bd3786"
             ],
             [
              0.5555555555555556,
              "#d8576b"
             ],
             [
              0.6666666666666666,
              "#ed7953"
             ],
             [
              0.7777777777777778,
              "#fb9f3a"
             ],
             [
              0.8888888888888888,
              "#fdca26"
             ],
             [
              1,
              "#f0f921"
             ]
            ],
            "type": "heatmap"
           }
          ],
          "heatmapgl": [
           {
            "colorbar": {
             "outlinewidth": 0,
             "ticks": ""
            },
            "colorscale": [
             [
              0,
              "#0d0887"
             ],
             [
              0.1111111111111111,
              "#46039f"
             ],
             [
              0.2222222222222222,
              "#7201a8"
             ],
             [
              0.3333333333333333,
              "#9c179e"
             ],
             [
              0.4444444444444444,
              "#bd3786"
             ],
             [
              0.5555555555555556,
              "#d8576b"
             ],
             [
              0.6666666666666666,
              "#ed7953"
             ],
             [
              0.7777777777777778,
              "#fb9f3a"
             ],
             [
              0.8888888888888888,
              "#fdca26"
             ],
             [
              1,
              "#f0f921"
             ]
            ],
            "type": "heatmapgl"
           }
          ],
          "histogram": [
           {
            "marker": {
             "pattern": {
              "fillmode": "overlay",
              "size": 10,
              "solidity": 0.2
             }
            },
            "type": "histogram"
           }
          ],
          "histogram2d": [
           {
            "colorbar": {
             "outlinewidth": 0,
             "ticks": ""
            },
            "colorscale": [
             [
              0,
              "#0d0887"
             ],
             [
              0.1111111111111111,
              "#46039f"
             ],
             [
              0.2222222222222222,
              "#7201a8"
             ],
             [
              0.3333333333333333,
              "#9c179e"
             ],
             [
              0.4444444444444444,
              "#bd3786"
             ],
             [
              0.5555555555555556,
              "#d8576b"
             ],
             [
              0.6666666666666666,
              "#ed7953"
             ],
             [
              0.7777777777777778,
              "#fb9f3a"
             ],
             [
              0.8888888888888888,
              "#fdca26"
             ],
             [
              1,
              "#f0f921"
             ]
            ],
            "type": "histogram2d"
           }
          ],
          "histogram2dcontour": [
           {
            "colorbar": {
             "outlinewidth": 0,
             "ticks": ""
            },
            "colorscale": [
             [
              0,
              "#0d0887"
             ],
             [
              0.1111111111111111,
              "#46039f"
             ],
             [
              0.2222222222222222,
              "#7201a8"
             ],
             [
              0.3333333333333333,
              "#9c179e"
             ],
             [
              0.4444444444444444,
              "#bd3786"
             ],
             [
              0.5555555555555556,
              "#d8576b"
             ],
             [
              0.6666666666666666,
              "#ed7953"
             ],
             [
              0.7777777777777778,
              "#fb9f3a"
             ],
             [
              0.8888888888888888,
              "#fdca26"
             ],
             [
              1,
              "#f0f921"
             ]
            ],
            "type": "histogram2dcontour"
           }
          ],
          "mesh3d": [
           {
            "colorbar": {
             "outlinewidth": 0,
             "ticks": ""
            },
            "type": "mesh3d"
           }
          ],
          "parcoords": [
           {
            "line": {
             "colorbar": {
              "outlinewidth": 0,
              "ticks": ""
             }
            },
            "type": "parcoords"
           }
          ],
          "pie": [
           {
            "automargin": true,
            "type": "pie"
           }
          ],
          "scatter": [
           {
            "fillpattern": {
             "fillmode": "overlay",
             "size": 10,
             "solidity": 0.2
            },
            "type": "scatter"
           }
          ],
          "scatter3d": [
           {
            "line": {
             "colorbar": {
              "outlinewidth": 0,
              "ticks": ""
             }
            },
            "marker": {
             "colorbar": {
              "outlinewidth": 0,
              "ticks": ""
             }
            },
            "type": "scatter3d"
           }
          ],
          "scattercarpet": [
           {
            "marker": {
             "colorbar": {
              "outlinewidth": 0,
              "ticks": ""
             }
            },
            "type": "scattercarpet"
           }
          ],
          "scattergeo": [
           {
            "marker": {
             "colorbar": {
              "outlinewidth": 0,
              "ticks": ""
             }
            },
            "type": "scattergeo"
           }
          ],
          "scattergl": [
           {
            "marker": {
             "colorbar": {
              "outlinewidth": 0,
              "ticks": ""
             }
            },
            "type": "scattergl"
           }
          ],
          "scattermapbox": [
           {
            "marker": {
             "colorbar": {
              "outlinewidth": 0,
              "ticks": ""
             }
            },
            "type": "scattermapbox"
           }
          ],
          "scatterpolar": [
           {
            "marker": {
             "colorbar": {
              "outlinewidth": 0,
              "ticks": ""
             }
            },
            "type": "scatterpolar"
           }
          ],
          "scatterpolargl": [
           {
            "marker": {
             "colorbar": {
              "outlinewidth": 0,
              "ticks": ""
             }
            },
            "type": "scatterpolargl"
           }
          ],
          "scatterternary": [
           {
            "marker": {
             "colorbar": {
              "outlinewidth": 0,
              "ticks": ""
             }
            },
            "type": "scatterternary"
           }
          ],
          "surface": [
           {
            "colorbar": {
             "outlinewidth": 0,
             "ticks": ""
            },
            "colorscale": [
             [
              0,
              "#0d0887"
             ],
             [
              0.1111111111111111,
              "#46039f"
             ],
             [
              0.2222222222222222,
              "#7201a8"
             ],
             [
              0.3333333333333333,
              "#9c179e"
             ],
             [
              0.4444444444444444,
              "#bd3786"
             ],
             [
              0.5555555555555556,
              "#d8576b"
             ],
             [
              0.6666666666666666,
              "#ed7953"
             ],
             [
              0.7777777777777778,
              "#fb9f3a"
             ],
             [
              0.8888888888888888,
              "#fdca26"
             ],
             [
              1,
              "#f0f921"
             ]
            ],
            "type": "surface"
           }
          ],
          "table": [
           {
            "cells": {
             "fill": {
              "color": "#EBF0F8"
             },
             "line": {
              "color": "white"
             }
            },
            "header": {
             "fill": {
              "color": "#C8D4E3"
             },
             "line": {
              "color": "white"
             }
            },
            "type": "table"
           }
          ]
         },
         "layout": {
          "annotationdefaults": {
           "arrowcolor": "#2a3f5f",
           "arrowhead": 0,
           "arrowwidth": 1
          },
          "autotypenumbers": "strict",
          "coloraxis": {
           "colorbar": {
            "outlinewidth": 0,
            "ticks": ""
           }
          },
          "colorscale": {
           "diverging": [
            [
             0,
             "#8e0152"
            ],
            [
             0.1,
             "#c51b7d"
            ],
            [
             0.2,
             "#de77ae"
            ],
            [
             0.3,
             "#f1b6da"
            ],
            [
             0.4,
             "#fde0ef"
            ],
            [
             0.5,
             "#f7f7f7"
            ],
            [
             0.6,
             "#e6f5d0"
            ],
            [
             0.7,
             "#b8e186"
            ],
            [
             0.8,
             "#7fbc41"
            ],
            [
             0.9,
             "#4d9221"
            ],
            [
             1,
             "#276419"
            ]
           ],
           "sequential": [
            [
             0,
             "#0d0887"
            ],
            [
             0.1111111111111111,
             "#46039f"
            ],
            [
             0.2222222222222222,
             "#7201a8"
            ],
            [
             0.3333333333333333,
             "#9c179e"
            ],
            [
             0.4444444444444444,
             "#bd3786"
            ],
            [
             0.5555555555555556,
             "#d8576b"
            ],
            [
             0.6666666666666666,
             "#ed7953"
            ],
            [
             0.7777777777777778,
             "#fb9f3a"
            ],
            [
             0.8888888888888888,
             "#fdca26"
            ],
            [
             1,
             "#f0f921"
            ]
           ],
           "sequentialminus": [
            [
             0,
             "#0d0887"
            ],
            [
             0.1111111111111111,
             "#46039f"
            ],
            [
             0.2222222222222222,
             "#7201a8"
            ],
            [
             0.3333333333333333,
             "#9c179e"
            ],
            [
             0.4444444444444444,
             "#bd3786"
            ],
            [
             0.5555555555555556,
             "#d8576b"
            ],
            [
             0.6666666666666666,
             "#ed7953"
            ],
            [
             0.7777777777777778,
             "#fb9f3a"
            ],
            [
             0.8888888888888888,
             "#fdca26"
            ],
            [
             1,
             "#f0f921"
            ]
           ]
          },
          "colorway": [
           "#636efa",
           "#EF553B",
           "#00cc96",
           "#ab63fa",
           "#FFA15A",
           "#19d3f3",
           "#FF6692",
           "#B6E880",
           "#FF97FF",
           "#FECB52"
          ],
          "font": {
           "color": "#2a3f5f"
          },
          "geo": {
           "bgcolor": "white",
           "lakecolor": "white",
           "landcolor": "#E5ECF6",
           "showlakes": true,
           "showland": true,
           "subunitcolor": "white"
          },
          "hoverlabel": {
           "align": "left"
          },
          "hovermode": "closest",
          "mapbox": {
           "style": "light"
          },
          "paper_bgcolor": "white",
          "plot_bgcolor": "#E5ECF6",
          "polar": {
           "angularaxis": {
            "gridcolor": "white",
            "linecolor": "white",
            "ticks": ""
           },
           "bgcolor": "#E5ECF6",
           "radialaxis": {
            "gridcolor": "white",
            "linecolor": "white",
            "ticks": ""
           }
          },
          "scene": {
           "xaxis": {
            "backgroundcolor": "#E5ECF6",
            "gridcolor": "white",
            "gridwidth": 2,
            "linecolor": "white",
            "showbackground": true,
            "ticks": "",
            "zerolinecolor": "white"
           },
           "yaxis": {
            "backgroundcolor": "#E5ECF6",
            "gridcolor": "white",
            "gridwidth": 2,
            "linecolor": "white",
            "showbackground": true,
            "ticks": "",
            "zerolinecolor": "white"
           },
           "zaxis": {
            "backgroundcolor": "#E5ECF6",
            "gridcolor": "white",
            "gridwidth": 2,
            "linecolor": "white",
            "showbackground": true,
            "ticks": "",
            "zerolinecolor": "white"
           }
          },
          "shapedefaults": {
           "line": {
            "color": "#2a3f5f"
           }
          },
          "ternary": {
           "aaxis": {
            "gridcolor": "white",
            "linecolor": "white",
            "ticks": ""
           },
           "baxis": {
            "gridcolor": "white",
            "linecolor": "white",
            "ticks": ""
           },
           "bgcolor": "#E5ECF6",
           "caxis": {
            "gridcolor": "white",
            "linecolor": "white",
            "ticks": ""
           }
          },
          "title": {
           "x": 0.05
          },
          "xaxis": {
           "automargin": true,
           "gridcolor": "white",
           "linecolor": "white",
           "ticks": "",
           "title": {
            "standoff": 15
           },
           "zerolinecolor": "white",
           "zerolinewidth": 2
          },
          "yaxis": {
           "automargin": true,
           "gridcolor": "white",
           "linecolor": "white",
           "ticks": "",
           "title": {
            "standoff": 15
           },
           "zerolinecolor": "white",
           "zerolinewidth": 2
          }
         }
        },
        "title": {
         "text": "Pie of outcome"
        }
       }
      }
     },
     "metadata": {},
     "output_type": "display_data"
    }
   ],
   "source": [
    "pitch_data.show_histogram(\"outcome\")\n",
    "pitch_data.show_pie(\"outcome\")\n"
   ]
  },
  {
   "cell_type": "code",
   "execution_count": 27,
   "metadata": {},
   "outputs": [
    {
     "data": {
      "application/vnd.plotly.v1+json": {
       "config": {
        "plotlyServerURL": "https://plot.ly"
       },
       "data": [
        {
         "hovertemplate": "x=%{x}<br>y=%{y}<br>hitability=%{marker.color}<extra></extra>",
         "legendgroup": "",
         "marker": {
          "color": [
           -246.901485937353,
           -38.72523114101779,
           -58.858594996705776,
           -474.32678018119566,
           -54.51179261784087,
           -325.22240391939533,
           -95.73094779593117,
           -153.6091560922184,
           -48.606969982686905,
           -1188.926528748645,
           -1361.4196511268701,
           -522.7843298715604,
           -63.237848328057986,
           -1335.343773324865,
           -731.0524975474372,
           -196.29025056764146,
           -120.47030298774648,
           -233.71171698709125,
           -45.08338392077508,
           -67.88823490810366,
           -28.132749060301474,
           -318.3107422931579,
           -585.5209562261073,
           -201.53165794961788,
           -2254.7632511765573,
           -3016.4223555166473,
           -140.9041956442949,
           -1660.4499419138508,
           -72.45940052981898,
           -94.63524410008716,
           -4707.396151075648,
           -20.294118045232352,
           -175.73812186320583,
           -474.00786271005006,
           -63.22824707975042,
           -28.169461927287212,
           -212.671938220749,
           -7655.99203199849,
           -952.0488372663077,
           -161.79205488082408,
           -433.3814193967808,
           -7464.144074527687,
           -469.87018350643996,
           -169.4471468924256,
           -1039.8315788522618,
           -31.916235651589005,
           -325.30614513847024,
           -184.2028516083654,
           -45.409898559728624,
           -4527.87382870482,
           -80.9654250147493,
           -132.64021927697766,
           -1004.4915899590271,
           -42.47846180842395,
           -705.1099405529991,
           -70.07523840218082,
           -48.84097673014935,
           -31.7307911149269,
           -288.2962828830853,
           -113.12124371804943,
           -62.05334908422324,
           -171.0038083068072,
           -26.390556194825876,
           -3253.973705608953,
           -559.6333926173482,
           -58.78244482451094,
           -153.14560661627925,
           -104.81688838654642,
           -144.44298218154853,
           -68.44783933236916,
           -1062.8753569849057,
           -1736.8495345033184,
           -135.68036948399927,
           -487.9019565846492,
           -362.8844415635013,
           -26.853470402764447,
           -24963.888333984374,
           -493.6548707092635,
           -171.9352654968164,
           -213.3137146034781,
           -85.4437015560904,
           -686.7399739848242,
           -905.740035452502,
           -165.70035634799916,
           -72.97207747273782,
           -69.10478835375994,
           -514.0104253345713,
           -638.3545275052528,
           -86.30590583519789,
           -241.46439066724258,
           -134.2500020844505,
           -27.38312180280332,
           -235.57515799674275,
           -28.956372857859023,
           -191.12538498696404,
           -1056.802760620177,
           -244.6053107038045,
           -113.6447526499565,
           -24.072705803249026,
           -595.799398591316,
           -177.4238958010799,
           -45.13568067437544,
           -846.5429092245549,
           -1532.6530873818106,
           -1215.8364673628553,
           -1011.8230922425206,
           -362.4675175916378,
           -106.00404394244559,
           -41.74642052410868,
           -172.18316008688325,
           -334.8268938171103,
           -926.796735257081,
           -442.9372176244953,
           -60.00568913085605,
           -734.1860597985681,
           -887.4010361721216,
           -1917.1262125010799,
           -2267.0107461089447,
           -206.7086933218723,
           -302.49982657257414,
           -593.2043295398387,
           -159.53669014794872,
           -62.46694370174815,
           -64.22074007374458,
           -91.81007478262175,
           -5933.239279265332,
           -5857.210326213097,
           -101.06844088822034,
           -74.04599516931337,
           -96.128334527601,
           -48.75645184731613,
           -61.12689772159995,
           -1231.8267629944553,
           -235.34139087772573,
           -274.92832122579017,
           -78.96790491121806,
           -139.2851337473625,
           -182.63178613691525,
           -107.32630504991319,
           -1964.44068981175,
           -88.5887450981242,
           -1766.1125938791768,
           -238.15012664813793,
           -677.330162582065,
           -966.8454930713835,
           -267.35352472063505,
           -116.54930078554007,
           -509.76796050246514,
           -115.37071860454252,
           -84.50209701908545,
           -1266.2634054117818,
           -253.32922284752115,
           -487.8621138572163,
           -188.9611470244025,
           -5889.815108714175,
           -76.20342395689039,
           -99.95386828601133,
           -3078.0715405127985,
           -143.6801765280561,
           -2875.4900542086007,
           -679.2666097297061,
           -960.6320224649232,
           -45.282924205228774,
           -213.47915669617154,
           -347.8883559330616,
           -26.23618471844991,
           -1230.4633742266021,
           -28.075614849192313,
           -540.2021537161207,
           -1296.6077332627356,
           -287.94598598726344,
           -138.65316179090706,
           -84.3420373795191,
           -628.1596462423305,
           -924.8680727332143,
           -85.24795278476462,
           -101.64794284175332,
           -10657.69304399177,
           -102.3752275859998,
           -2126.6745272644052,
           -635.4176628577484,
           -137.4111285883371,
           -78.70228777304239,
           -503.8142368123198,
           -623.3795468604791,
           -295.2006616717256,
           -191.92846348003692,
           -208.6171401022477,
           -164.59203593977597,
           -203.84851720732405,
           -44.91744705338222,
           -110.41556467363633,
           -104.38045957421095,
           -2509.034812732196,
           -68.27999415927847,
           -4136.208753759919,
           -83.11779139603934,
           -69.30734642977717,
           -149.96613961680953,
           -89.00696084891972,
           -83.17405301219823,
           -230.3710547452932,
           -484.0923788059257,
           -30.910103077767307,
           -2982.623759924075,
           -258.84618296857275,
           -71.55404694812025,
           -233.89078640574408,
           -11671.022459639938,
           -400.1553851956293,
           -258.82115790991645,
           -123.4037604784473,
           -1727.095254037725,
           -62.958682177738424,
           -504.496417365848,
           -353.9579641477845,
           -975.0733857582672,
           -661.3959536124646,
           -80.78956407043069,
           -115.17763418239963,
           -1352.812795759302,
           -466.7090576844081,
           -53.29156596107249,
           -84.37984540424752,
           -102.22814672239448,
           -157.40021881742499,
           -467.1380470040105,
           -289.50031339737507,
           -307.0461939448268,
           -42.9962698945256,
           -1964.5936356300151,
           -2852.407309914286,
           -139.37678525843197,
           -1107.778972187569,
           -85.22592108169545,
           -308.07806104299493,
           -102.53104681579245,
           -632.5890910328804,
           -3984.776998541079,
           -229.86465665216127,
           -441.1353861503586,
           -98.00748985047606,
           -2168.9323254498913,
           -98.91369580884322,
           -4078.9515441837652,
           -218.09309441098893,
           -4646.75763751426,
           -950.6728526816921,
           -70.71205781034033,
           -258.39291368584094,
           -91.67085614764153,
           -272.5781388743617,
           -297.8382981210584,
           -1135.9766010780072,
           -65.70068291995219,
           -21.85588242060999,
           -34426.29049948158,
           -95.56664759915655,
           -427.1587181016126,
           -44.09695880228092,
           -1774.0210869115435,
           -2253.676376734567,
           -349.46326560891833,
           -724.0146224680549,
           -710.7800183742594,
           -97.02749346058738,
           -443.02641327878865,
           -1645.1882712547347,
           -292.2869091216253,
           -40.268405560958485,
           -28.95355429772312,
           -625.5494491164908,
           -2456.8616882815313,
           -390.60961386825363,
           -51.48091155176948,
           -180.27068991773262,
           -169.82781101486725,
           -32.49263982900396,
           -418.4475548595564,
           -9559.941700539726,
           -907.3993922883096,
           -266.4994454692794,
           -100.08693969906896,
           -87.82607555834956,
           -50.69064271511727,
           -2132.923023998505,
           -130.02655985165353,
           -18.500412681773952,
           -431.524015265523,
           -33.45864517227998,
           -123.8224159380943,
           -50.73565396298857,
           -1238.3593351825436,
           -300.5274029542988,
           -32.6919822499142,
           -1033.14974506801,
           -993.1361291907697,
           -170.39445167949214,
           -931.1424403811773,
           -98.63152636778592,
           -221.9944219312083,
           -671.934124530418,
           -988.4069690070364,
           -400.342321134882,
           -634.2350056728874,
           -444.0914746823388,
           -443.3578484368807,
           -97.52826858485987,
           -1238.460154444265,
           -2510.5341084108227,
           -2617.939989125461,
           -250.33286599301394,
           -4641.755043759594,
           -62.823399662098105,
           -1561.5510776987148,
           -1705.1143246613672,
           -220.32533580011432,
           -1044.6103734815713,
           -325.45399549670043,
           -388.6121599038964,
           -210.2194525802588,
           -162.8532520252052,
           -6906.568659074402,
           -2312.149967450248,
           -71.47564055448034,
           -241.2497119844869,
           -208.37233122648337,
           -75.40092175620018,
           -112.25570327157564,
           -59.990849288724014,
           -412.67439430344706,
           -353.1067940505665,
           -518.0736160714262,
           -464.7959395500089,
           -46.78073299518707,
           -196.90756402222573,
           -22.821447550005946,
           -248.8484125561432,
           -44.79360668970115,
           -33.7025538082376,
           -213.90404663621237,
           -108.22745677677473,
           -452.0819917339097,
           -51.47817277848293,
           -124.38482009129933,
           -3994.861249000423,
           -933.1881095977587,
           -396.7366839535383,
           -195.16794712599346,
           -44.16675074888165,
           -320.1427581067786,
           -41.010552585854505,
           -81.16045522923912,
           -8121.660019019662,
           -110.3424991863947,
           -137.98260281233902,
           -626.4819205521561,
           -1054.112390319558,
           -42.92609666891081,
           -896.5795899185797,
           -128.8568775228608,
           -7391.422046309076,
           -192.04772161763668,
           -16.218790764959625,
           -109978.23951682118,
           -1376.448358535883,
           -226.08044183031112,
           -2226.837467733708,
           -67.36947142701608,
           -185.81292894236282,
           -33425.73528207219,
           -1060.0194474236557,
           -881.16024841894,
           -333.0831074798195,
           -138.1368372808132,
           -62.19981107529655,
           -1351.2689942558138,
           -236.9100431958097,
           -110.98327175650267,
           -914.6941987138797,
           -107.16089006436913,
           -447.8451384012081,
           -55.51367007234287,
           -894.900168682924,
           -168.4823938968137,
           -956.4657672131198,
           -8397.610926305097,
           -2123.1889684133516,
           -197.53252059841657,
           -149.2909464140892,
           -62.73199710611079,
           -100.07822287880174,
           -135.34054177709228,
           -2526.812043272511,
           -71.48677451430366,
           -344.07398168467506,
           -775.2939611651607,
           -903.1734112393672,
           -833.9769391811221,
           -78.67614644516286,
           -371.77662877420096,
           -5499.694002487281,
           -601.7784884190213,
           -182.849739448442,
           -6404.262927456252,
           -1350.70545682555,
           -227.620401805023,
           -1590.2236872236795,
           -194.32428208201299,
           -50.93563883500951,
           -58.668773945656596,
           -271.57555249532624,
           -2149.7680263704624,
           -677.1813981307448,
           -446.0134344287281,
           -76.74347957960879,
           -234.21811404603204,
           -111.6393369084115,
           -2272.362977739941,
           -92.33800955542678,
           -355.61052133573344,
           -53.762177630297955,
           -338.4824924670551,
           -89.9684189607355,
           -167.11585835907908,
           -14.600976939433531,
           -9195.46052311337,
           -27.46813429085046,
           -805.8843682652694,
           -1283.3065031903968,
           -213.10286470107283,
           -115.01561115258176,
           -441.667525477219,
           -185.704377132463,
           -317.420221862657,
           -145.79211568319516,
           -1523.6061613867578,
           -1971.5100956430842,
           -34.19139489354989,
           -37.13632984864379,
           -1353.7381452020186,
           -32.60529903779181,
           -193.16046641997227,
           -64.4412553917267,
           -722.922624523053,
           -84.86204694781303,
           -99.24053446911877,
           -1097.997950552083,
           -371.5879983507627,
           -140.9154171993097,
           -2503.2258427374154,
           -133.0655097151663,
           -290.2424093462279,
           -167.6705619913213,
           -206.46294998351578,
           -847.796381999736,
           -32.60134457567772,
           -180.91260071287326,
           -728.4055018381135,
           -176.05142518288343,
           -35.456001752574025,
           -327.3209314636267,
           -219.8467770083888,
           -199.8177884989032,
           -42.211125889641465,
           -55.142960811001366,
           -91.33806858142533,
           -71.43919478583983,
           -234.60394206669125,
           -765.5629870203636,
           -99.19916108319464,
           -643.1176273125526,
           -73.65381171308847,
           -208.3941291115233,
           -157.92396201937152,
           -138.8490465742472,
           -742.5389771559842,
           -7138.506604609791,
           -630.9389933525791,
           -603.0252506720764,
           -220.66186742178323,
           -636.1992540133886,
           -162.2961509115405,
           -625.3578550450635,
           -376.83524023537905,
           -12876.60333094621,
           -871.0802260574441,
           -150.546453959343,
           -246.0085950506733,
           -983.6924864994367,
           -44.76356949041362,
           -118.34404235258485,
           -2302.8043551868404,
           -100.84805744301741,
           -143.77746372185635,
           -118.83431686292315,
           -298.4050604630311,
           -69.76628274635512,
           -641.7588884351366,
           -5201.979002786807,
           -104.00671265487014,
           -71.30809862734111,
           -262.77655692312567,
           -470.8472420318056,
           -172.64588092548757,
           -450.73104551236236,
           -136.08462828050375,
           -839.5157459493163,
           -81.72137697092784,
           -125.41609477837653,
           -1723.5254454117162,
           -5846.556107213008,
           -78.12541886250756,
           -943.2446803748791,
           -771.9797819850228,
           -406.45062128678677,
           -6066.503384986382,
           -169.77236374421938,
           -49.36199307584892,
           -846.6162112243982,
           -302.0119610070742,
           -503.4495846972293,
           -167.78530160212665,
           -2369.8505407687744,
           -7912.975571820809,
           -117.35245604223559,
           -610.6235620229595,
           -2496.127789974927,
           -152.5736202245113,
           -244.95557104107192,
           -162.70444120111873,
           -924.2791428420863,
           -7560.889637392283,
           -26.056111967686714,
           -36.33769111447831,
           -372.0059808235277,
           -48.225820050826115,
           -506.8089886185134,
           -277.76838309292805,
           -63.784530715749185,
           -159.14633921674914,
           -33.781424873549355,
           -42.19218683937718,
           -64.45343222852028,
           -13961.349722805911,
           -746.6884132089199,
           -109.50363357225346,
           -50.611595717996956,
           -4677.821928148847,
           -199.19994046471462,
           -33.330769486396804,
           -749.2092724652769,
           -834.3352753130541,
           -44.24466290250316,
           -83.34403430160752,
           -2622.657281152322,
           -3837.058076659789,
           -67.80786510874066,
           -871.5869242170023,
           -171.0593861594804,
           -150.5032153776333,
           -566.8620561666471,
           -265.75876950580925,
           -973.8791847567292,
           -2393.4941221939557,
           -93.67119137027791,
           -317.62451575502837,
           -1730.797755329173,
           -344.1537161408597,
           -240.57749363495859,
           -186.50254504544486,
           -32.6675551161123,
           -33.97967740893488,
           -799.8386177502912,
           -60.22409719571744,
           -17.363102993631465,
           -46.46437546076718,
           -181.96573302448536,
           -452.8360537959575,
           -64.08658180510099,
           -163.27310904726028,
           -47.67127217861289,
           -62.65647852039969,
           -36.78941264685354,
           -183.69618869796352,
           -779.7477180739038,
           -6989.04276945411,
           -218.60986151354592,
           -4468.287860620464,
           -33.82162877401029,
           -299.8534583868082,
           -173.48186505595578,
           -233.80701491545173,
           -36.66501181983854,
           -351.6556702236399,
           -251.97677598028756,
           -383.17499666011537,
           -511.39488962687847,
           -850.4452830942337,
           -1157.1335999140333,
           -22.756033269680287,
           -329.90516127399354,
           -401.42616820901395,
           -66.14171044882492,
           -38.24985741835331,
           -147.8449715622082,
           -23.069120431909674,
           -66.0772903810168,
           -33.09055682667054,
           -1101.5571733277698,
           -83.5760870735992,
           -60.6125690639114,
           -81.45799848189351,
           -249.6848813748679,
           -76.67344591231081,
           -98.70195253713743,
           -54.00911439936504,
           -69.58357438178676,
           -69.81617945152092,
           -36.89396895045225,
           -1316.1296552797232,
           -67.97646016553162,
           -260.78222613347083,
           -89.41657202005844,
           -93.48384314885536,
           -90.1171106922227,
           -104.22772419478005,
           -36.38359440560509,
           -29.481663752798738,
           -4403.355177402944,
           -85.53804408454995,
           -537.0702613359609,
           -215.73414520717026,
           -223.48207750785897,
           -90.02164242115299,
           -211.29526718933596,
           -43.50638040950983,
           -72.56909117376888,
           -92.57480977659161,
           -1363.0452722916802,
           -123.3794362508279,
           -307.9476671133207,
           -98.08587110703631,
           -133.46428316353513,
           -222.02544029267412,
           -337.8385519358725,
           -1346.2121864773417,
           -56863.359039756666,
           -879.846774706385,
           -46.01153527404375,
           -289.63073518036475,
           -1865.7202405454289,
           -622.9130461693799,
           -84.70864327776414,
           -20474.761543428813,
           -154.08953877305288,
           -268.1906673196043,
           -1592.3434325595672,
           -276.43459209752564,
           -7.100720934423538,
           -5589.6699015775,
           -101.28968488178518,
           -124.79660224717554,
           -113.69207381322441,
           -286.86082660292254,
           -2096.4056348728764,
           -25.484223690787918,
           -272.4435802793846,
           -283.11203045932245,
           -245.05135136474726,
           -926.8165275268998,
           -514.2978025401976,
           -52.457625784448574,
           -570.0142186437621,
           -35890.1870527073,
           -157.92410172211345,
           -580.2313179852378,
           -345.7064428165368,
           -70.2764390722939,
           -319.00756543150146,
           -145.99356921163266,
           -373.0862680423951,
           -1118.3827882786272,
           -351.28148035992206,
           -358.39229431585113,
           -131.0052956217121,
           -25.528144796502676,
           -224.41323117085594,
           -23.898290874240146,
           -115.16053830662779,
           -148.2775689213928,
           -1236.3365297109744,
           -1122.6619391536003,
           -203.86995261354272,
           -8985.763953644759,
           -98.63713925407531,
           -68.50561294405202,
           -216.5371067553474,
           -2758.337800015442,
           -203.70669455247236,
           -430.4377917157744,
           -240.8767551112547,
           -212.3033445072592,
           -218.3544789773876,
           -258.54789885946013,
           -66.30240728757717,
           -1460.1642446628744,
           -1373.7722402702782,
           -162.78005245493245,
           -114.03007748360108,
           -210.43538572608657,
           -535.9666380540817,
           -4149.990035921046,
           -1216.182687993669,
           -362.1267127436261,
           -701.0342448125451,
           -328.2934983667112,
           -197.3111532062639,
           -148.48683801164233,
           -2121.7406955223587,
           -29.632375396038274,
           -6670.7303537314865,
           -17.995285472097294,
           -24.912583019440557,
           -77.86440889120914,
           -179.585123361149,
           -6568.852912340291,
           -1199.3300999221644,
           -140.30139230538978,
           -216.82898451457413,
           -100.47533321073631,
           -99.66817857635392,
           -145.90438974990093,
           -296.27046766324423,
           -430.10157477741296,
           -92.0036857206793,
           -69.83167135604657,
           -202.35297520900326,
           -336.478493296653,
           -203.83370109507393,
           -2021.4051582664842,
           -18.845441511498134,
           -78.74094547081556,
           -172.81367644223425,
           -1967.9127412644082,
           -1150.9156479159549,
           -81.49450310326992,
           -110.52745170753604,
           -112.87909630258979,
           -905.5111495665717,
           -1758.7355569910776,
           -99.82564748034186,
           -222.61460794279054,
           -2052.312766492918,
           -68.57636158961857,
           -136.73097189179575,
           -61.459758069267195,
           -119.54476146999986,
           -538.2764215932801,
           -182.0389341781982,
           -65.75590153039775,
           -80.42854925691337,
           -55.444001125581806,
           -37.24279580867331,
           -589.1120848601315,
           -73.4157735795338,
           -97.2209903492386,
           -361.2811017552886,
           -752.9351733536947,
           -558.7956010963219,
           -204.66210824399042,
           -773.7681029974682,
           -100.3807480086924,
           -27.107472877598358,
           -84.35913412069497,
           -215.77131306816398,
           -101.39995049559369,
           -827.6187729690452,
           -370.4174982747155,
           -130.39674826613728,
           -915.0559991954822,
           -49.213339789389956,
           -146.85937507161296,
           -107.59730739455644,
           -127.21907896866287,
           -3330.5069037479325,
           -80.8852420822679,
           -1178.7264375563745,
           -112.61352544744996,
           -92.94735683693003,
           -24.74900052346299,
           -2458.981143647915,
           -31.616938796397896,
           -112.35107754496939,
           -97.2695581181044,
           -98.19145198507222,
           -240.0217875480811,
           -318.7566671429725,
           -933.0056999419747,
           -1979.5760959755323,
           -576.361057235322,
           -312.0782150806943,
           -69.4852319134484,
           -63.837124773860666,
           -50.04712491330499,
           -3583.1577108040365,
           -437.4030287383818,
           -1572.1594631228538,
           -1405.8913774909147,
           -439.92350743274017,
           -4689.828483053287,
           -2293.066024203241,
           -39.45875397196384,
           -456.95061963485574,
           -120.9073162442208,
           -197.48339914571807,
           -393.1198028745888,
           -189.09507184817733,
           -71.95120280329682,
           -531.9155692167802,
           -304.9519597077519,
           -50.5338442301645,
           -112.78670948612428,
           -1538.599113754435,
           -98.47469042560319,
           -153.68873956940308,
           -324.3379000906093,
           -504.394710720766,
           -75.72508269032417,
           -1585.9143838942575,
           -29.32688254984476,
           -31.288812161879985,
           -32.98064489014994,
           -94.54558554190638,
           -259.3151571480988,
           -615.6011505666048,
           -117.30168370114548,
           -2216.594483014491,
           -1514.667183619154,
           -1191.6224807983372,
           -5633.81103712358,
           -294.86281343860435,
           -84.23987065840518,
           -480.99334760350024,
           -63.708129688792155,
           -1129.529791328003,
           -122.28770010651282,
           -179.99080708072492,
           -96506.14979083705,
           -172.72885870013934,
           -38.36023835403993,
           -1384.0095527777019,
           -121.13717932272247,
           -564.934798587364,
           -56.81437905598254,
           -205.85156581773094,
           -8777.613503140592,
           -312.69082804601317,
           -372.24066516780425,
           -432.11916702255945,
           -268.80786008376896,
           -366.1275851298774,
           -129.86332865160972,
           -36.05256361629273,
           -208.86327610234704,
           -803.79971728315,
           -90.17632652638179,
           -104.16815877352123,
           -181.0773719525889,
           -310.7188376162764,
           -459.59269043938525,
           -8160.484868416538,
           -161.02151325644792,
           -68.59007429270929,
           -215.5300702444111,
           -44.41439016772824,
           -561.6316363515351,
           -40.494125250487976,
           -389.8614713652355,
           -731.3418185231147,
           -180.20728570725745,
           -874.2638677587182,
           -739.4770209414783,
           -41.508996119238866,
           -38.91793676338571,
           -1385.4290931743114,
           -229.59678534931436,
           -523.7409968154905,
           -489.7809681190101,
           -443.2035762035723,
           -144.99745878248163,
           -221.0370684615298,
           -198.0980940341616,
           -107.85258414423662,
           -143.69274821187423,
           -260.86147463725524,
           -23.89913680299869,
           -20052.62439171336,
           -1010.4124116509951,
           -233.03181460552227,
           -131.15414555103646,
           -84.51601817300013,
           -1126.715854395175,
           -141.28147618823493,
           -121.55064021205133,
           -83.65511658131382,
           -451.9027452765455,
           -505.2540806257551,
           -6407.509632382067,
           -42.86374052744049,
           -88.3343103480135,
           -273.25585673566883,
           -19556.896430533463,
           -354.41801812092086,
           -173.92525216445645,
           -235.6667047345469,
           -81.22675702485934,
           -759.7312216328122,
           -192.154149555498,
           -5538.001248456993,
           -3954.607270560767,
           -5938.075327478233,
           -217.76752160970108,
           -2052.7288955158883,
           -351.37131461072397,
           -99.2914579689846,
           -973.3726354780423,
           -79.16931084132052,
           -172.55198647339296,
           -129.51088476797622,
           -36.07232029702088,
           -389.8029094044603,
           -3678.255312054268,
           -67.10016036291438,
           -177.95690250544854,
           -1008.5498298788602,
           -386.0274587852831,
           -203.1702448359102,
           -164.7069181701611,
           -336.6063595699798,
           -55.07045802808832,
           -296.43572338380073,
           -1296.4902997500635,
           -84.6329887000382,
           -308.33989478442834,
           -167.6350562902477,
           -480.66904910324905,
           -37.482505619396186,
           -16546.274995459553,
           -378.62444050256306,
           -106.33618366435809,
           -177.34840774545376,
           -62.0115960945433,
           -132.33305934283482,
           -541.5817603694608,
           -419.7191343858128,
           -25.28337719083397,
           -4315.83329651391,
           -176.53118629281988,
           -102.88116028499037,
           -548.4655380314315,
           -35.9449549062136,
           -101.87529346745995,
           -71.36809327200612,
           -491.40275176675726,
           -45.53942771984553,
           -301.41732032120086,
           -208.15262394240486,
           -132.5980356254299,
           -53.511316440579684,
           -119.43944685354347,
           -56.034925903037674,
           -46.67877834677209,
           -37.50800694166985,
           -695.4895948232892,
           -93.85646449829271,
           -699.1668701744661,
           -1132.7424249370508,
           -8950.638437926458,
           -359.2849445569472,
           -16.285954906785992,
           -327.62066830007444,
           -142.87687322133556,
           -20226.263113051347,
           -26.807436996944823,
           -316.2241125483454,
           -629.5982179421497,
           -176.7135572907869,
           -193.9593975501603,
           -4471.273884359976,
           -1561.8733003949062,
           -192.22670878845895,
           -844.1131068680164,
           -493.50038790052133,
           -1303.8150578713798,
           -78.31741658356634,
           -342.6713719236493,
           -320.94693102055265,
           -470.9084455036267,
           -111.39816127082757
          ],
          "coloraxis": "coloraxis",
          "symbol": "circle"
         },
         "mode": "markers",
         "name": "",
         "orientation": "v",
         "showlegend": false,
         "type": "scatter",
         "x": [
          -0.6615526378544084,
          -1.731638811427463,
          1.1499364273028367,
          0.8684018335500702,
          -2.2864509810965505,
          0.48932063366584294,
          0.4730652418714393,
          0.6773119695912603,
          0.7827674130177469,
          -0.059857082168576284,
          -0.21554639556252944,
          0.8704204723160155,
          -1.2749648717157058,
          -0.4553331107350362,
          -0.3582430517518164,
          0.28023231938404886,
          1.4857705670836763,
          -0.35662227260978413,
          -1.1936095134412554,
          0.8662807761813895,
          -2.294389540006629,
          -1.3153276239921214,
          -0.6985947782063421,
          0.607112421464847,
          0.027629524329054037,
          -0.761366316266105,
          -1.5191354347734671,
          -0.1542882612536261,
          1.0297621382751123,
          -0.6812777137291975,
          -0.08376149874335903,
          2.0800436627447816,
          -0.6288541097655573,
          -0.7601393674454003,
          1.9540347151094473,
          1.5719776483051229,
          -0.3442433589345042,
          0.024847588133717978,
          0.15130635813742374,
          -0.5874049008601,
          -0.5560028807332122,
          -0.028938454076169188,
          0.39898982587312803,
          0.3769690921912932,
          -0.36103032457926104,
          1.015918630031641,
          0.1328413428371124,
          -2.3027671261497926,
          -0.9559015314188113,
          -0.1031840250289218,
          1.3994052697803279,
          0.6958688430450947,
          -0.41736232730547884,
          -1.6978181152756864,
          -0.4203308106744605,
          -0.9384073689586184,
          -1.2917132447337354,
          -1.369421159379622,
          -0.8763438001769756,
          0.6117823654587344,
          1.4100511808591978,
          0.5679820864724096,
          -1.8121800296676995,
          0.9623267777616864,
          0.11002106352343327,
          0.814926205117354,
          -0.7949711404726629,
          0.6841518171006712,
          -1.2541143877660834,
          -0.5641790007191526,
          1.1811221689417999,
          0.35730250226874793,
          0.487417903373617,
          -1.1563889332212092,
          0.2154465839328981,
          1.253179448092144,
          0.02879333444724715,
          0.32438664098635833,
          0.5043325590223632,
          -0.3221398654571022,
          -0.9884962597228067,
          -0.3219522760643784,
          0.4029237031341402,
          -0.4994387022692943,
          0.4335582334727841,
          -1.4778844013870305,
          -0.2867811082330584,
          -0.46531652535199786,
          1.042104136656969,
          -0.4520008284860607,
          -0.5022050123567531,
          1.9849097709110681,
          0.4327509554686958,
          -1.5729396874060586,
          0.5910891842073152,
          -0.44744501166083916,
          0.35435512747645603,
          0.7289937124980358,
          -1.3329450342140294,
          -0.718745681449158,
          0.9254873722083984,
          -0.5461852962701814,
          -0.16611977630456246,
          0.6636269312150194,
          -0.21713134957544492,
          -0.44604935144624763,
          -0.111364128070137,
          -0.4698339628428397,
          1.3074840274868593,
          0.3093370504561974,
          -0.16571797582882242,
          -1.5432389177303352,
          -0.762431033263986,
          0.9191351502724814,
          0.09237321696909712,
          0.9420211090499475,
          0.021145881329199756,
          0.1702905441674917,
          0.4420371773293523,
          0.8862224364034159,
          -0.3986807240635306,
          1.3824020134931616,
          -0.6804827360769385,
          0.9007063354121096,
          -0.5878071234871384,
          -0.6360857291320604,
          -0.2608621774385828,
          1.016001797004603,
          0.6585078163197641,
          -1.459531877567658,
          -0.47829900143629933,
          -0.7937151678736676,
          0.03210867161729338,
          -0.4704211323868275,
          0.6423855913076386,
          -0.5468537016223739,
          -0.9903932606921239,
          -1.1011783801767565,
          1.8773877102099703,
          0.2000316959759167,
          0.6629912089621872,
          0.13127100453929424,
          1.2408413455476075,
          0.13458365654672008,
          1.0831956044909767,
          1.5055905223000263,
          -0.7290429531353902,
          1.6934700550732977,
          1.2772639702880446,
          0.4633501990939597,
          -0.2239015223362301,
          -1.0508065012624166,
          -0.808893015159896,
          -0.4290293058886198,
          0.010200268604727879,
          0.8665560826417286,
          -0.660074901071553,
          -0.20366823776697052,
          1.5176794058844798,
          0.019475084718381292,
          0.17950444927691137,
          0.07289012848554388,
          1.2733363918853335,
          1.8772236945434824,
          1.1713195881102432,
          -2.7639811161931935,
          0.2696010913610395,
          1.2051958455539866,
          -0.23266819320807172,
          -1.6354079659043812,
          1.4352192347799688,
          1.220677678818982,
          -1.0149904353583914,
          0.5527875993291402,
          0.16763071809172866,
          0.37228640711452154,
          1.1416123987895048,
          0.013671908476273205,
          0.4024595897146048,
          0.9341138466525017,
          0.33803859551154203,
          0.5480586747004645,
          -1.3886962599293275,
          -1.0512127192437972,
          0.46909129143679495,
          0.7495583711810802,
          0.7841273318231856,
          -0.2663219984999958,
          0.9477043579402191,
          0.404710491166929,
          -1.4057738183923048,
          -0.8444579494177442,
          0.4195103717942025,
          -0.3038821587783743,
          -1.8241875429942338,
          0.6604364592227788,
          -0.6820521184045999,
          0.7253059357851794,
          0.7458290559114595,
          -0.9120686253578975,
          1.133639871137432,
          1.22191291991683,
          -0.2302428611875512,
          -2.282159699475964,
          0.058332983167315854,
          0.42373520297730716,
          0.7836449287650092,
          0.2639527822857526,
          0.056402238327194765,
          0.8536298515243727,
          -0.784691065125506,
          0.4896879789649234,
          0.07786753789480659,
          1.1634199817033146,
          0.14146656263265953,
          -0.59684559697032,
          -0.3600787965590342,
          -1.214686711934432,
          0.4686216067435674,
          0.59632504853326,
          -0.1731726898738242,
          0.2864717317272873,
          1.0576782665113282,
          -0.7718013018048154,
          -1.1083242196827392,
          -0.7002818989831677,
          0.1322125492436331,
          1.0420086383317702,
          0.4059785792855757,
          -1.5108524781563044,
          -0.09300066554782863,
          1.2528447117683204,
          1.2110270139915484,
          0.1460686398222831,
          0.9253012142792365,
          0.967401742205511,
          0.47204734479566435,
          -0.3863004086698623,
          -0.14862536197046256,
          0.530298672534324,
          -0.6438189947817476,
          0.8588124170922218,
          0.0456097937352869,
          -0.9296447499430884,
          0.06117380164895638,
          -0.22545780480588445,
          -0.748232172492775,
          -0.19095650757243499,
          0.8606383069707884,
          0.16282973859141714,
          -0.8538164459691361,
          -0.1289933290258713,
          0.4958207083994589,
          -0.7778255417003977,
          0.9467321439334611,
          1.1858799671076163,
          0.02416408327992649,
          -1.8476067806441756,
          0.5740758566031867,
          -1.121598840717672,
          -0.7764128756032206,
          -0.22062572408922096,
          0.8984606694338159,
          -0.17104636722478442,
          0.4271182713679654,
          2.220601292195093,
          -0.19491017788881368,
          1.2218857049309224,
          -0.356303692855804,
          -2.062987789335152,
          1.8685269113766085,
          0.8654852249631578,
          -0.8324088483287863,
          0.10627048538177017,
          -0.9254596887308439,
          0.6543242512810139,
          -1.077833824631805,
          -1.1028982414459512,
          0.3723993508232301,
          -0.40144985018104873,
          0.13692417793452583,
          1.3808499751896235,
          0.3134276099545953,
          -2.05245265365245,
          1.2618335175169928,
          -0.2096057990188418,
          0.6812108077494992,
          -0.842269386897017,
          0.7836980947858663,
          -2.743682113219002,
          0.4018756685257004,
          0.7344867056464985,
          -0.04904286935296135,
          -1.0176439400138275,
          -1.474771346090849,
          -0.053384060719178235,
          0.1519946775923096,
          1.290999802232126,
          0.18589112383639778,
          -0.4189341060331615,
          1.263703387925381,
          -0.2931973374218389,
          0.3979895082376522,
          -0.46504141568657115,
          -0.36091315286389253,
          0.30685643130646206,
          -0.5706087017450965,
          0.9364321869803902,
          -0.1283836096180022,
          0.08539631958484543,
          0.6110751476790648,
          -0.4801778752263531,
          0.13447610011176037,
          -1.173496417636019,
          -0.2219358427177532,
          -0.05950572734028726,
          0.1940796961524911,
          0.4985688028908504,
          -0.17840984013241884,
          -0.3706756991784696,
          0.3862112107468781,
          -0.9843495964728909,
          -0.0277212852192629,
          -0.7550470679637419,
          1.5258331649571621,
          -0.8734333671422292,
          -1.8109365391963856,
          -0.396026629823582,
          0.7595509650154347,
          -1.6826222845706205,
          0.4777707498954953,
          0.19106133014310842,
          -0.7855109866739695,
          0.6193403228459405,
          -0.5988812390114555,
          -0.16294052366132045,
          -1.4260178931411198,
          -0.1641635427631215,
          -1.159335137342596,
          0.9034719040366522,
          1.2657401259019194,
          1.001711689082415,
          -0.9926433381294999,
          -1.1491458200355515,
          0.6166248655522889,
          -0.018217023931920488,
          0.08046428254241648,
          -0.11123897592989841,
          0.3474273591227724,
          -1.4221664609083153,
          -0.46858997843352884,
          -1.0814443833631604,
          0.6086407472059495,
          0.40627746884058424,
          0.6958770840986688,
          -0.7663198996174782,
          -0.34956036453948697,
          0.21230146842228312,
          0.571325606127521,
          0.18522261008991525,
          1.0529541966267189,
          0.23463433125600566,
          -0.45612242436656547,
          1.5599550103238544,
          0.0019802743186760475,
          -0.22662573037476536,
          -0.15954800207189784,
          -0.21893971797916284,
          -0.395338195019062,
          0.5004629863127124,
          0.05111087011376832,
          1.4334383310518723,
          -0.24236075881679608,
          -0.6624994867502988,
          -2.1582199167781275,
          1.2407408384685819,
          0.12370219532193605,
          -1.4588868302399467,
          0.3598670965263478,
          1.4739545728191454,
          -1.1045706601231395,
          -0.39182038573424205,
          0.566038822099324,
          0.4805701366099245,
          -0.3580581956459441,
          -0.25400152009143867,
          0.7372853333859776,
          0.5470858219555167,
          -1.0742326978940437,
          -1.8239242905226194,
          -1.14071977883968,
          0.6971641034255666,
          -0.421167385790007,
          1.289004191217077,
          0.6727734164333173,
          1.061131501929905,
          -0.1567099290605653,
          0.14333432306071994,
          0.5238617442187861,
          0.7296976851276736,
          -0.24614133176776068,
          -0.5717131981095137,
          0.8203399629647902,
          -1.2408011233221585,
          0.17318659833728564,
          0.05734739242001124,
          0.7686771588625623,
          -0.10131965932753846,
          0.4309756703596371,
          1.2637263494617164,
          -1.1036347311562287,
          -0.2590209138259151,
          0.11711496608521632,
          -0.16918911846957455,
          0.12719449009848882,
          0.5878017250755514,
          -0.6225349646944159,
          1.0480440260935597,
          0.3701416016197454,
          1.1252371837262172,
          1.0823501148739936,
          1.0324949704373325,
          -0.3678512400480167,
          1.9678905743143937,
          -0.5177855137794986,
          2.6203702148244217,
          0.006487116442968488,
          1.0056281553162338,
          0.23892275130905868,
          0.1421698411042437,
          0.14353894889428526,
          0.41619120055643094,
          0.5579570317946039,
          -0.8269642800065585,
          -1.2211016682816835,
          0.256592398530185,
          0.14061026300410445,
          -0.06798317455099948,
          -1.8791130869941313,
          -0.7162959038646487,
          -0.19306017514687232,
          0.9812522297283343,
          0.15685299525055618,
          -1.536396044906972,
          -0.040274479462487654,
          -1.4702375656512372,
          -0.5004537409981767,
          -0.07105512443824319,
          1.3068616178773071,
          0.9141532030726793,
          -0.062226268793802476,
          -0.8255967927662761,
          0.9388794665421856,
          -0.7579174655382968,
          -1.0636004539488408,
          -0.5336312681372851,
          1.4495721033914348,
          -0.9619174095213002,
          0.35583016133761003,
          0.2823827248010252,
          -1.1015695930605813,
          -0.29012564052254325,
          0.34566368397973984,
          0.3359080518346964,
          -1.7873949681565318,
          1.1818371580137272,
          0.9349091556984113,
          -0.669439774222871,
          -1.2980837568061996,
          -0.35100485284356786,
          0.6537311116445513,
          0.18731663478966679,
          0.8106440628579058,
          -0.866057895143172,
          0.4300011065370488,
          0.6343418264869136,
          0.12364219141803597,
          0.039079300445857286,
          0.31306043233981196,
          -0.3085437809027904,
          -1.3186682198174637,
          -1.6280212424809608,
          -1.3551402370969212,
          -0.06035085352584488,
          -1.190700501248673,
          -0.04085952989129411,
          0.910960613956993,
          -0.6846505846029194,
          -0.6480660542733897,
          -0.12444511681430444,
          -0.94336540177961,
          2.4895778797950046,
          -0.07162031179888766,
          -1.3063680051503408,
          0.8851428437046897,
          -0.6640335978392196,
          1.4209048932543566,
          1.0836524392244253,
          0.11559268736667759,
          -0.21989522607974332,
          0.34870032368160336,
          -0.8028033341168697,
          0.5193452985317137,
          0.28420795031424456,
          -0.6770643303077797,
          0.2688619413383947,
          -0.6075292450925442,
          -0.21768577105308864,
          -1.6829640888512363,
          -2.1413023182800206,
          0.10288632755776539,
          0.5218127967095896,
          1.4232406169175191,
          0.2520761980714573,
          0.24275396080160389,
          -0.3702235639469103,
          0.4464997149568682,
          -0.9085788918958033,
          0.6448788957826505,
          -0.5304544726483503,
          -1.3871580682341782,
          -1.1100939431176962,
          0.4220845930029522,
          0.342654352554914,
          0.21700672224857054,
          1.5590088554198007,
          1.0483971223948507,
          -0.17914680458871274,
          0.7579824633054402,
          -0.6223712016887682,
          0.9864624995231573,
          0.586524765243883,
          0.05426593183317821,
          -0.7788925520207056,
          2.2648637782460623,
          -0.17149886489823776,
          0.8645792120242202,
          -0.2087001723555879,
          -0.18553891442393372,
          0.8207196935834152,
          0.9240480164012762,
          1.1404306021434423,
          -0.7277833919798534,
          -1.178982411077903,
          -0.20284731419867394,
          0.08861230335432854,
          -0.45725093806637496,
          -1.087110093441903,
          -0.06680657426442174,
          0.29051686416519573,
          -1.977945755456107,
          0.08481674213032642,
          -1.5892490870318792,
          -1.1185808106847268,
          -1.2837685784104396,
          0.03025698700817673,
          -0.3992799221883483,
          -0.5731359457661714,
          0.10468148207076346,
          -0.6424649098782954,
          -1.235668858158301,
          -1.4325012652754878,
          0.22373177349048093,
          -0.47725641025740556,
          -0.03393710942565016,
          1.9082760027786012,
          -0.31535590294366556,
          0.671580113286627,
          0.8932526615834907,
          0.47587626031140945,
          -0.37008252292707156,
          -2.509229600108762,
          1.5557585428467475,
          -0.16427801595098332,
          0.7607652291242091,
          1.6128530777829477,
          -0.9273200384116035,
          -0.7505173362128982,
          -0.4255650539650913,
          -1.5562941009865645,
          -0.7616820001981578,
          1.8584842615545334,
          0.7789464470041594,
          -2.361364739063004,
          0.5762838207738377,
          -0.14388664585224353,
          -0.40252322900619575,
          0.38194502266989694,
          0.043718379935182274,
          -1.9960283706613293,
          -0.5734326951899669,
          0.6547533965620176,
          -0.4076794407615211,
          1.329917004478406,
          0.24635378661956936,
          0.9187713369479065,
          -0.529179247978139,
          0.24243596411625334,
          -0.5985004537926597,
          -0.08087024583237279,
          -2.1561366096198507,
          -0.16020060022788724,
          -0.1874619434917849,
          1.6012427474874076,
          -1.6828007736477748,
          -0.4048313025135309,
          1.7415503852793883,
          1.6937365681308516,
          -1.5550870718811778,
          -0.6862299662153336,
          -0.9713838526106376,
          1.8877323552027223,
          -0.9553018700951976,
          -0.5546358561713776,
          1.7885776329346157,
          -1.453023596541686,
          1.778035455731083,
          -1.6772256492356494,
          0.8041002459724128,
          -2.4584896699060605,
          -0.16952944608030449,
          -1.023728426869321,
          0.35016025239798587,
          -1.2626489271413217,
          -1.7638745054273126,
          -1.0115401425000994,
          0.5356017612557534,
          0.9514163378380139,
          -1.5389130449425321,
          -1.0306192579451463,
          0.6935364904860254,
          0.5946350137611707,
          0.4198607404625424,
          -0.7922860216650349,
          -0.6197662435474769,
          0.28242318808890815,
          1.1971174141482577,
          -1.8616563073611867,
          0.4113991852502104,
          0.17915861393844937,
          0.5719979288116075,
          -0.38278037921236174,
          -1.2726770389221747,
          -0.7714121040681521,
          -0.5823075811862574,
          -0.7177323485566597,
          -0.04233929002299536,
          0.022393325419580865,
          0.20447088330294755,
          1.0344774648365946,
          -0.27548979287886327,
          0.8333673200955868,
          -0.4922945342386793,
          -1.2889118359536538,
          0.01817411276230132,
          0.4159607760596724,
          0.2625595896153602,
          -0.07538343048537215,
          0.2688442155537969,
          1.8567969152904906,
          0.07406611132151553,
          0.7617345987459953,
          -0.8867776076003765,
          0.8090947698383424,
          0.2739923460189608,
          -0.5353693404882698,
          1.6801443701004217,
          0.6755497864328276,
          -0.8604865471445295,
          -0.18439385891569227,
          0.18621132817403568,
          1.2727068275424682,
          -1.6983133534199444,
          0.3549721749731419,
          0.01725281073163585,
          0.5615442074496625,
          -1.045330291125775,
          -1.0076516844551326,
          1.8760062285578516,
          0.8428254496272116,
          -0.4860996895481606,
          -1.0611010455274055,
          -0.2121200201321463,
          0.7400303452746303,
          0.18781575895017225,
          0.5393724752174656,
          -2.0551058917871967,
          -0.1867989461236247,
          1.1404818400858152,
          -0.942864097181592,
          -0.3187019814000416,
          0.011271577684364303,
          -1.1549990908030425,
          0.5598302572303392,
          -0.033133265808021006,
          0.53050389082396,
          -1.073621259724136,
          -1.3519179296275083,
          -0.027649581773429386,
          -0.8805616746661028,
          0.14992386009054157,
          0.6594198193178517,
          0.8841019013770808,
          0.7813594637169954,
          -0.26431391984166036,
          0.6075524932914326,
          -0.34740971204518406,
          -2.375772776254626,
          -0.9096408989347304,
          0.8475017993757535,
          -0.615275058381863,
          0.14703617695963692,
          -0.03534831904329411,
          0.18791091543467342,
          -0.13553592396300435,
          -0.9950436884499803,
          0.220105051464231,
          -1.3229826779823737,
          -0.436601637562721,
          -0.03262399675426362,
          -1.3120934734287906,
          0.10354709321002649,
          1.8482343740193181,
          -1.6088133074094586,
          0.6082976202186748,
          0.39247843799307264,
          -0.01687146514055367,
          0.0470304174054304,
          -0.4165561429362057,
          -0.4017473997661045,
          -0.6456557021289574,
          -0.5817071339328351,
          -1.2174087583574071,
          0.16724977288119916,
          -0.5359465601940991,
          1.6649622050525723,
          0.9696470284704993,
          -0.7199720541199418,
          -1.0441824482776507,
          1.2789976844554964,
          -0.2344752249870216,
          -1.3708844289189395,
          0.868205795507355,
          1.3285057910364417,
          -0.3152027132063099,
          -0.16536154894208052,
          -2.1579408408362584,
          0.32024503597395165,
          -0.5773496197915403,
          0.1022492033592679,
          -0.2978615699714313,
          0.4710135339628463,
          -0.25055250334685664,
          -0.10973497436394336,
          0.8016842104342725,
          0.6142659804441118,
          -1.4269135065724259,
          -1.4412672681357785,
          -0.48671468207684315,
          0.7838631934706095,
          1.1990842835528779,
          0.9301940583967386,
          -1.129685056088196,
          -0.9940241338621342,
          0.7750112124560213,
          1.7184340208939781,
          -1.5041840304625549,
          1.2435615018027149,
          0.1560528171749707,
          -0.10536757217154857,
          -0.6998331979751454,
          0.1804622755077889,
          -1.0057709110863553,
          1.2580583180029796,
          0.6260395998400171,
          0.8131452782950926,
          -1.0867924843816168,
          -0.6994460268640406,
          1.3148297161843894,
          0.677363608650784,
          -0.8787398175847358,
          -0.7718433684939426,
          -0.7512438141047741,
          -0.6871057341205052,
          0.7446491833862422,
          0.01769360125981662,
          1.741503803565978,
          0.7785205959181745,
          -0.3545474354016637,
          -0.6666133677976893,
          1.8641627418447493,
          -0.31858312473140954,
          -1.277694607953176,
          1.4692954320666924,
          -0.809359171644313,
          0.35952863392465473,
          -0.5028471724505961,
          0.8803403329463231,
          1.1321211124243948,
          -1.1004811847244906,
          -1.0621763371820119,
          -0.4224075702183996,
          -0.8988610304002476,
          1.751046018529863,
          -0.8418452705193255,
          -0.15244234863349537,
          0.23904246956577926,
          0.6726807569115533,
          0.6477346799043981,
          0.6620116003674382,
          0.15686774196070635,
          -0.037817230250253395,
          0.9374163161489265,
          -0.6237068156780774,
          -0.6555122852642211,
          -1.1676479781113704,
          0.7189591251473552,
          0.8772196179242371,
          0.6703715789719532,
          0.692579900348675,
          -0.8303612831009265,
          0.6063456506318714,
          0.4078860648088144,
          -0.7601007286304228,
          -0.69642050009424,
          0.2888582426743909,
          1.1698686415475603,
          -0.6491670359266021,
          -0.8162215439991038,
          -0.03174052137076514,
          -1.1161567299779203,
          0.7754262154176166,
          -1.439161484427706,
          -0.5664278381615856,
          -0.44331510631659743,
          0.2671981325950341,
          0.5696600631284193,
          0.3292216151172087,
          0.1863520771248716,
          0.4509223947869603,
          -0.05520798771359541,
          -1.0697522389974843,
          -1.4921767891562177,
          0.23735381127378768,
          1.0903827727013804,
          -1.1769934678515457,
          -0.48476568320137214,
          -0.33583842846268636,
          0.012798208297050976,
          0.349252489018348,
          0.6245251009768225,
          -0.04624310675472009,
          -0.9655981924061147,
          -0.19807091709367572,
          -0.7613377253262704,
          0.5649563081405886,
          -0.4143598374831167,
          -0.36019739024603004,
          -1.0439255216353946,
          -1.6877787113267324,
          -0.6487963844557345,
          -0.4016512859555945,
          -0.9735291544120697,
          1.2994916582742142,
          0.4138179640441493,
          1.1850257765581438,
          -0.598655986197944,
          -1.7651063234338813,
          -1.6727888433039853,
          0.826614179575335,
          -0.1587500566253446,
          0.0453544709652387,
          -0.591966541629601,
          1.6253563418415253,
          0.8846610118798773,
          -0.8171668244821597,
          -0.4202475162741814,
          0.6246704403083206,
          0.5666679744726393,
          1.0500820007321257,
          -0.31605754343429393,
          -0.24621348812624536,
          -0.08596295354752348,
          1.9396180206717824,
          -0.6251808400100481,
          -0.07400696604118465,
          -0.5496338849329978,
          0.2795584419080646,
          -0.26917097859859146,
          -0.7574129559081276,
          -0.3394772815553577,
          -0.8001232604087858,
          0.4175571640810689,
          0.7545402853577167,
          -0.2795289945907645,
          -0.8147401323974122,
          2.3852381155642455,
          -0.0002925255199520837,
          -0.4518035528780104,
          -2.1347202844892843,
          0.5814570568100407,
          -0.8806715959639867,
          0.02886548916777764,
          0.2830060714724781,
          -1.4467580162771798,
          -1.4354457811362922,
          0.41734220815977296,
          0.24556258600664405,
          0.017742867157311413,
          -1.5985167248499585,
          1.2532214047126464,
          -0.34560195310221564,
          -0.003256887262213433,
          0.864399181773591,
          -0.19466887719859882,
          0.4029941387902117,
          -0.944328208909871,
          -0.4620087900041603,
          -0.4647913898067105,
          0.1587587362540361,
          0.21120057422728178,
          -0.057890611172434346,
          -0.4433505659743959,
          -0.20967111013636133,
          0.20914205542782532,
          -0.6192298140360203,
          0.46284991686941096,
          -0.8248166625165433,
          0.8565326652650699,
          0.6140430049915576,
          -1.6582726643078796,
          0.21862563988414585,
          0.5675088180690252,
          -0.7483627192699406,
          0.36966340581307916,
          1.604633493054844,
          0.14183558519795025,
          -1.7564954635566719,
          0.6244881474385975,
          0.7929647914061375,
          -1.7547418140532096,
          -1.3992320222112322,
          -0.4031411365844132,
          -0.3204258052568336,
          -0.15897666525955037,
          -0.6425556621115427,
          0.06742658115628501,
          -0.892589799196115,
          -0.15996486372219004,
          -0.3427600418159291,
          0.6509333809296532,
          0.6345383504541158,
          0.8946751996308189,
          -1.038051946621135,
          -0.1314829629943421,
          0.6695223662075241,
          -0.3963088955138858,
          -0.04164104656522401,
          0.33274791225740835,
          1.2689967429233113,
          0.6775395125680099,
          -2.1388182821491273,
          -1.1299105959644267,
          -1.2991146582734499,
          -0.34036494810711476,
          1.6052169357853707,
          -0.5450351039272496,
          0.5814058999751053,
          0.7584845827859931,
          -1.011384298944386,
          0.660750720429868,
          0.999083522494063,
          1.1733174757998435,
          -1.0690173432716166,
          0.6434275673982279,
          1.312506137723442,
          0.43418936118762036,
          -0.4453501318108907,
          0.009881503088683281,
          -0.42497899038496123,
          -1.942068008814358,
          -0.17183947817138506,
          -0.6887839098137031,
          -0.005376361417913148,
          1.6187707732079253,
          0.33748554959875654,
          -0.7270687692757055,
          1.1022146265928257,
          -0.6284872647100296,
          -0.256500063940165,
          -0.9357787021337414,
          0.5422329425435333,
          0.16727443000220932,
          -1.4603565119473263,
          0.6048434435220226,
          -1.1445020542924107,
          -0.17957261673917763,
          0.355934631503386,
          -0.8248102199474819,
          0.7515254882317396
         ],
         "xaxis": "x",
         "y": [
          -0.4379311331341668,
          0.9471258557166484,
          1.0034324676189792,
          -0.16713349601032162,
          0.4664932644487519,
          0.4508753133379252,
          -1.4789050757057551,
          0.68488933182865,
          -1.6950393471412712,
          -0.8788574944074865,
          -0.23715289774746948,
          -0.150358957002533,
          -0.8410948027435613,
          -0.1115539629871497,
          0.27076832936620676,
          1.240623505451085,
          0.37309951604321767,
          -0.8489879861405666,
          1.2321901479169983,
          -1.164000670132767,
          0.8867906703425005,
          0.15788304841449982,
          -0.16984198022229144,
          0.5851894421727605,
          -0.8613182784320328,
          -0.02198700340038855,
          -0.3095549729743238,
          -0.268283851182561,
          -0.9245563702807467,
          1.0791230321882814,
          -0.16243892369474583,
          1.3618931303490227,
          0.646545874007641,
          0.19356975035039922,
          -0.503968099319885,
          1.4062901086699777,
          0.9592201386945355,
          -0.2747829645806902,
          -0.4811291564386419,
          -0.7496746736037705,
          0.29568783798162734,
          0.2515423811315096,
          0.38165590065090027,
          -1.0900324103525316,
          0.18620729994852422,
          -1.8966132073990973,
          -1.4836435200852043,
          0.13067561229213515,
          -1.5092450233013845,
          0.13853330452888976,
          0.5961588774341838,
          -0.768826526995555,
          -0.16607398188438824,
          0.8886062710851271,
          0.2387740553807937,
          -1.0467203424889902,
          -1.0572222976150885,
          -1.4603826158843136,
          -0.278062691420778,
          1.0127167329716709,
          -0.766438366112105,
          0.7342929840248407,
          1.2743838386237254,
          0.013188070209019959,
          -1.071540329495781,
          1.3984618373006852,
          -0.5839944797396346,
          0.9777356826946396,
          0.3785926062620452,
          -1.6849537833993167,
          0.046808991278718765,
          -0.1087855463325057,
          -1.0576845319434014,
          0.11662663549766782,
          -0.8899908144675783,
          1.8143790521920848,
          -0.06868339723868201,
          0.4459707114685968,
          -0.8196393905060021,
          1.0163686926874425,
          0.8242736492691752,
          -0.3214873517683388,
          -0.19211851026438972,
          0.8570411856952341,
          1.9637666933388653,
          0.6541074831384996,
          0.4831704287882673,
          0.23837945992951062,
          -0.7729346020065577,
          -0.6556337805163192,
          -1.0390068964503656,
          1.1053750559675575,
          -0.700647130797213,
          1.3724567770938843,
          -0.6332826373891941,
          0.14622695097408503,
          -0.8176836791353175,
          0.8517480305361947,
          -1.8693559266273887,
          -0.16166992591003895,
          -0.4298979786768736,
          -2.3325041377261084,
          0.4954928172064452,
          0.06249050881811285,
          0.26465220056654826,
          0.15366428834839807,
          -1.553374283463935,
          -1.3634285437392235,
          1.2041485622711199,
          -1.2794280792630817,
          1.2077550241777628,
          0.03786589744057721,
          -0.20712274597765357,
          -1.2294033864453207,
          0.9654791279369246,
          0.07695723367793672,
          -1.1931391531986986,
          0.176008240577174,
          0.7791888650175861,
          0.26141533502249403,
          0.30116385952073726,
          -0.3054293118090967,
          1.554591048846686,
          1.1792820769630337,
          -1.2698505349974225,
          0.009556024922402106,
          0.03790319065809061,
          0.6809540623857222,
          1.3852581996065267,
          0.4785284285716481,
          2.416478628348845,
          1.3845244647589816,
          -1.351209478834622,
          0.6466253022271865,
          0.40498505905974375,
          -1.5385404965609224,
          -0.509669187639808,
          -0.345399072780532,
          -0.3115717542992671,
          0.17418272251782105,
          -1.1753209349467562,
          -0.29416507618621546,
          -0.22942933014110348,
          0.749937508078303,
          -0.05868413048759393,
          0.1607318554446208,
          0.8314105696075849,
          -0.06762444183790207,
          -0.46512752852763917,
          1.6670944676552977,
          0.24614935914752656,
          -0.2601908030855162,
          -0.17547792024751122,
          0.8735675313558043,
          0.6205940756185169,
          1.0470769402812417,
          -1.0571629230095463,
          -0.1056312383093908,
          0.3037873872383617,
          -0.8622098594817911,
          0.5733773373054879,
          0.9145839838458472,
          1.1498232998232505,
          -0.15219702122643142,
          -0.1649840288486422,
          -0.7009544011324498,
          -0.2104609906928676,
          1.8134083654430528,
          -0.5626147845618223,
          0.021879056439018284,
          -0.15776792766576545,
          -0.4069122308558083,
          -0.8121661165091388,
          -0.20254356376654784,
          -0.4495528587993973,
          1.9568925873824483,
          0.597768866823616,
          -0.2910497501877516,
          -1.59831431548547,
          -0.026620288277312824,
          -0.3314629126089829,
          -0.9367900049066319,
          0.6184780835623235,
          0.12609716536552878,
          0.24228617048321044,
          0.3207503017653066,
          -0.47310152653318116,
          -1.2280055873707614,
          0.4520171144416911,
          0.8587198662226693,
          1.044008127768921,
          0.7562072331190127,
          -1.5203937213900058,
          0.08637931453430234,
          -0.5113364903943979,
          0.01699819555585983,
          -1.2125852425424855,
          1.3463175213963026,
          -0.6363522470683484,
          0.8603467427381791,
          0.7329675815330133,
          0.2417582577391721,
          0.6332346823977824,
          0.8170304903214776,
          -0.36189486350343647,
          -0.6521954245782527,
          -1.2198206973901782,
          -1.116324107253709,
          -0.08830095856115946,
          -0.20366202601296599,
          0.3494752933531183,
          -1.1485808596585358,
          -0.48724120538685983,
          0.9308375374167043,
          -0.9501795879689183,
          -0.33803252678794277,
          -0.199736653012178,
          0.07847075797658641,
          -1.7124600595403794,
          -1.020198407505219,
          -0.2960774828453248,
          -0.5326082502508805,
          1.1948594490974926,
          -1.0655151406498882,
          -0.6137892048958343,
          0.6467394779671983,
          1.0821933036517615,
          -0.22874724801611312,
          -0.574704249051664,
          1.0047244905315773,
          0.3644589918017585,
          0.009820044350127982,
          -0.40842429453718265,
          0.4271551299602524,
          0.8836718707940265,
          0.2329791383757191,
          -1.397525440955111,
          -0.2910996500256205,
          0.11040544331509435,
          0.5880736233841164,
          -0.24912842645572336,
          0.8337571397601173,
          -0.6122304242808875,
          0.7625664269264834,
          -0.2518017337020018,
          -1.3604946615237852,
          -0.011141627601514242,
          -0.38590635057815237,
          -1.1287911321294288,
          -1.5333039314229722,
          -0.8937130476205541,
          1.7519563578086026,
          0.4859833193959149,
          0.07305658503761342,
          -1.10103922360717,
          -2.2022202036925016,
          0.05479326075852181,
          -0.35835228124744767,
          0.29033172152036424,
          1.3350154879630556,
          0.0432932447337088,
          -0.13622820991934637,
          0.221749484813333,
          0.5632325601815744,
          -0.23292795676120454,
          0.2714584784695161,
          -0.8061537169032158,
          -0.02534186438101423,
          0.684647726852711,
          0.7300738579511957,
          -1.1314104126446514,
          -0.12485890139598961,
          0.0257920435784848,
          1.5127541953774832,
          1.397073298806294,
          -0.6059588598089852,
          -0.38082074401485444,
          1.7469161100408914,
          -0.45950233704260235,
          0.009249120058991934,
          -0.554091049243368,
          0.17955859821856748,
          -1.9690227600274335,
          0.33779580528461034,
          -1.0468812827404084,
          -0.15226036356742523,
          -0.8003435574860679,
          -2.9931099740422193,
          0.2066012402231412,
          -0.5594849863435605,
          1.3631877999188016,
          -1.7262760417765228,
          -0.9909472825675242,
          -0.225949550940367,
          -1.3209553217522285,
          -1.097186486120767,
          -0.45920099516795243,
          -0.3094090864348742,
          0.4044471595347076,
          1.5950837352448204,
          -0.24156434442010782,
          -0.36078414884227705,
          0.17752621840953922,
          -0.3847979400630593,
          0.3109651849325746,
          -0.523501880077502,
          0.2811962565651615,
          0.7672774322352433,
          0.4310291015450636,
          0.30690550430618196,
          -0.036162117723171905,
          0.5963408247739665,
          0.10351254182880036,
          -0.9243669182480483,
          0.19965846078836708,
          -0.6228658343345512,
          1.5240048047838246,
          0.13190557844929263,
          -1.1634560699533714,
          0.4971162870284545,
          -0.8714476482894663,
          -0.4386302067014922,
          -0.28158753286463006,
          -0.032090246441924215,
          0.609526931673535,
          0.33494847998767574,
          0.1641611424557318,
          -2.046522282081165,
          -0.8276046363279138,
          0.6436507118621606,
          -0.3630701095794768,
          1.0170635384966542,
          -0.1700869891526884,
          0.24584505159611014,
          -2.1403046428318597,
          -1.9007050190533803,
          1.8343246795480743,
          -1.5717711405455388,
          -1.2753164001139172,
          1.9982767697163406,
          -0.25055640555838565,
          0.6463990500384632,
          -0.15129162123649936,
          1.135786137408195,
          0.9196696821434547,
          -0.6543891333406556,
          -0.8652323337466158,
          1.4411730441350765,
          -1.0304407485114697,
          1.0472043447640635,
          0.47835443896826607,
          -1.4702974752376616,
          1.3714511716332731,
          -0.012391560418061982,
          0.9165547359486681,
          0.6717653932496295,
          0.3251833030742654,
          0.31332759043086605,
          -2.339721148802611,
          -0.42165167523147584,
          -0.515696048677187,
          -0.03205306262297562,
          0.8115843397150226,
          -2.1740255320891437,
          0.04784210044557055,
          -0.22302378961671823,
          -1.735428204537234,
          -0.13908013943549488,
          -2.2155084654618533,
          -0.7663333810740287,
          0.027307354184155218,
          0.03568748522686055,
          -0.33037350918838443,
          -0.32274439415462114,
          -0.19647422312288748,
          -0.8797978060806302,
          0.4087044476688823,
          0.18992627926054303,
          1.6372916207655996,
          0.04123401405620531,
          -0.5880524687688464,
          0.4079904228473011,
          1.9732842516626574,
          0.1617831985636541,
          1.1475157271770842,
          -0.28998459222377326,
          0.0018780203736848522,
          0.05364497300441372,
          0.3277569971972788,
          0.23056648488557735,
          0.953300957476169,
          1.002617393722775,
          1.2098892724138992,
          0.01166538945922939,
          -1.401166804857692,
          -0.18710232425854173,
          -0.5712510883983836,
          -0.5334949712931297,
          -0.15908976498660715,
          -1.1969873748050575,
          -0.7691855676753632,
          -0.01350688704570818,
          0.13825269192330725,
          -0.3013568743637501,
          -0.054876637079922505,
          -0.805717236227117,
          -0.4068410940481281,
          0.41729209113920696,
          0.8469600261685607,
          -1.0406006402767887,
          -1.0494605009606859,
          0.9891293820974909,
          -0.26791937731129906,
          0.6079192818684084,
          1.1663604164704355,
          -1.482562664644957,
          0.4913266074215086,
          0.5975662002109737,
          0.0777139651282302,
          -0.6673031890272861,
          0.17667506898521,
          1.2135291028896875,
          0.5746298347239548,
          -0.34972170317966433,
          0.8212472652632513,
          -1.3236910342314092,
          -0.48785745839178335,
          -2.1305686651582136,
          -0.3669396949310521,
          0.37767868814745725,
          1.9583391523402245,
          1.4099399087744784,
          0.288942649617099,
          -0.46257698030388683,
          0.17307134782622094,
          1.714174744389389,
          0.32046106955600606,
          -0.48096125176295096,
          0.9637665741804239,
          2.211732042453258,
          0.2660196061973197,
          1.9193499598575503,
          -1.9798845535150955,
          -0.6693246630978527,
          1.8104541211736453,
          0.5372733110894757,
          1.3667899647622956,
          -0.8227345437911933,
          -0.13491761933094198,
          0.5484763602101569,
          -0.40860754264920596,
          -0.6451873139073588,
          -0.2561418592947245,
          0.5606984798383408,
          0.3167566769800367,
          0.15328776818319223,
          -1.3478709918435146,
          0.4044153020905963,
          0.27364892795638746,
          -1.3562582964990013,
          1.6311386954834215,
          -0.7456846555806181,
          0.9262364314054211,
          1.0395773036905502,
          0.8400114593476524,
          -1.0364519542219974,
          0.818588180627487,
          1.4080918639101963,
          -0.22100189196470235,
          -0.26358793435695216,
          -1.0742626639310782,
          0.5814756921623643,
          1.1514068038537206,
          -0.39221977271850705,
          1.0316391956079052,
          0.8058272837917482,
          -0.7404801856753219,
          0.2071418629616073,
          0.3604181817804498,
          0.3828373255831944,
          0.23118420534220632,
          -0.05532603245696757,
          0.307270991124953,
          -1.553773498755045,
          0.14866001530242196,
          0.10631633337907885,
          -0.08179097595553271,
          0.6910031684736253,
          0.44892016180866223,
          0.5586005558919594,
          -1.5453669081937689,
          0.18321323237740583,
          0.39285307142371456,
          -0.518659477831105,
          -0.5561326253128897,
          0.8941327828393678,
          0.1538085905000576,
          0.9094395307316654,
          0.9038402279465941,
          0.05359563143504553,
          1.7670521982544494,
          -1.19637460008996,
          -0.5257679993108673,
          0.5320204727409328,
          0.6109451072438156,
          0.586100469503047,
          0.8566853701313684,
          -0.3855213654678739,
          0.4735117466687333,
          -0.2199309870958631,
          -0.3792486416698088,
          0.014241065765342696,
          0.6056415505577467,
          0.2963891811556066,
          -0.37737747596720744,
          0.475854264636293,
          0.01729743939754717,
          -0.45830599460536553,
          -1.9519480302012142,
          -0.15449670893220765,
          0.15644252764104286,
          0.1183555959229717,
          -0.9920274608314196,
          0.08073188908501062,
          -0.032345364586952585,
          0.3613662578585825,
          0.10264417686177585,
          0.15105870581521458,
          0.6154533493647005,
          0.4698850030597388,
          0.4380200198351676,
          0.12620825502916017,
          -0.1466934990216525,
          2.6128958591340425,
          -0.7067106818419829,
          -1.0656910288970927,
          -1.5681807893528792,
          -0.6640799239140979,
          -1.2962425366746138,
          1.294250245444106,
          0.48030328174439685,
          1.6447915817578715,
          -1.999646743869881,
          0.8978683857731161,
          -0.015604258391579862,
          -0.9842341626646368,
          1.357031423972149,
          -1.2183411785072014,
          -0.20173371779577243,
          1.186581663407696,
          -0.9251583329491431,
          -1.017695205494995,
          0.04130960060288944,
          1.334566936534588,
          0.638772686468955,
          -0.6976148051824378,
          0.03821302907586881,
          -1.6762060508267391,
          0.7354384799333621,
          -0.6498463412533345,
          0.3693229126045568,
          0.07548192553937395,
          -1.1491327395752855,
          -0.14897264211289185,
          0.7003030266898084,
          -0.3501487656588815,
          -0.7094736401036534,
          0.053418005392511236,
          0.22675153646762902,
          0.625683834962296,
          1.0145928530742443,
          0.6688948041632116,
          1.2062506380412954,
          -0.5298980292785969,
          -1.4559915472279654,
          2.014024381726225,
          1.5210707353979755,
          0.5221389086791834,
          0.3713724481030625,
          0.6628044351127723,
          -0.5727448770171929,
          0.7113462300993172,
          -1.378325574863201,
          0.6556973575054249,
          -0.6751413975033927,
          -0.614865454601522,
          -0.016260132649958153,
          0.8483729515914308,
          -0.3062808218751579,
          0.9017848443247045,
          -0.41675559447519966,
          -0.6288902702614685,
          -0.7475331056112348,
          -1.3276196794277615,
          -0.8108451260078015,
          0.30334137985662246,
          -0.3528220128155388,
          -0.571124494593681,
          0.13502170654098716,
          -0.7002278229238198,
          1.1759747860118814,
          1.259173179984815,
          -0.9174057370926605,
          -0.6211055973945719,
          0.9909914290021644,
          1.1574954817487146,
          1.4954201187942235,
          -0.5804588533913525,
          1.2357212940976618,
          -0.08744703304026762,
          0.8570218338156449,
          -0.5504436573047006,
          -0.8931753716474851,
          -0.5179727134629857,
          -0.4671382954278718,
          -0.4684931581272689,
          -0.6661782338767294,
          -0.5582207258356259,
          -1.2174133246042886,
          0.6136375095646857,
          0.3108914839708772,
          0.9874792636482788,
          0.7775621735741053,
          -0.6071767939102907,
          0.38949620831012755,
          -0.7647083849242988,
          1.233133200993562,
          1.8110743500589324,
          -1.3825403004157417,
          0.005920041095402962,
          -1.1636505335348069,
          0.22085764614707848,
          0.7854835750394746,
          -0.4015115562739375,
          1.2320940631968986,
          -1.1533731308504633,
          -1.2680685754242882,
          0.468459333540039,
          -1.7033090783545453,
          0.2842237421480048,
          0.9952130771543665,
          -0.6069240625159402,
          0.5491655746823992,
          -0.6893352726301897,
          -0.5543722484899105,
          0.2924440179906541,
          1.0256705990033694,
          -0.03137545476462024,
          -0.390671539594433,
          1.3887895475769747,
          -0.8800243707118726,
          0.03707414879059884,
          -0.2306472874025583,
          -0.6258603004423613,
          -0.12204064184823539,
          -1.0877667166274831,
          0.9885735070526236,
          0.5437016939725507,
          0.9405073030798198,
          3.0650104272627527,
          0.15200222762861265,
          -0.9100271917557309,
          0.6383429019661355,
          -0.7675822409190269,
          0.8925531582567598,
          0.05587629510978687,
          -1.4283077517334775,
          0.388015362266844,
          -0.28894692186670257,
          -1.4519295974660922,
          0.4056830263740121,
          0.09794234792138373,
          0.7254401159608976,
          0.3525926933239362,
          0.06790740968756709,
          0.801770138663383,
          0.10891416767374332,
          -0.19740904940564952,
          -0.47888124243800645,
          -0.2613119426758741,
          -0.9907093008295629,
          -0.17182278148589877,
          0.29513497820407764,
          -0.2719790361096624,
          -1.0184504072955503,
          -0.9944810286234614,
          -1.1276658294980608,
          -1.547063957716994,
          -2.1338433303988085,
          -0.6480705499372821,
          1.4204667976777587,
          2.281867291062765,
          0.045132963991115195,
          0.6272903032461152,
          -0.18635261864460392,
          1.3057913681766256,
          -0.9340951283620862,
          0.22886870483052468,
          0.7089373667548027,
          -0.3943200695434259,
          1.0471396314120096,
          -0.45044086804796535,
          -0.376529784164266,
          0.4170706910576345,
          -1.0167184670031477,
          -1.6275002136017416,
          -0.13520690577744934,
          -0.007982402337066917,
          0.47745958051159415,
          -0.7303070752574484,
          -0.5531769212324527,
          -0.867178973684259,
          0.3924162941695671,
          0.3049709245387865,
          1.3317107507301762,
          -0.09380727445766533,
          -0.9593938733936582,
          -0.2585707738355331,
          -1.0768354547142585,
          -0.8103263513195105,
          1.6102499410517148,
          -0.09054319950571192,
          1.7198657215681834,
          1.5233719518801274,
          -1.4219132737961846,
          -0.995741187332861,
          -0.4186930774338005,
          -1.0542052093481418,
          -1.1829459954320838,
          -0.8151650480754559,
          -1.0741560995751485,
          1.1913575095853153,
          -0.3876344733780871,
          -1.3354010282079367,
          -0.30951120897730794,
          0.426048191232273,
          -1.0167057260378332,
          0.49013961301592945,
          0.1950738055981398,
          -0.26016914358873217,
          -0.14374169958298397,
          -2.178169970103951,
          1.013913714537222,
          -0.2949278239842925,
          0.10854761876222604,
          -0.36513621932203094,
          0.3389165704710153,
          -1.7984097759205149,
          1.0712550240826035,
          -0.7235964774013514,
          0.13014939011086216,
          -1.4325664767501984,
          1.2216218914651404,
          -0.2988599783018691,
          -1.2404809019078604,
          -0.8437698650314504,
          0.7632720636329745,
          -0.38997696619830857,
          -0.2714393348956837,
          0.49899825291304906,
          -0.8653963482038732,
          -0.928499627746831,
          -1.079770895628213,
          1.7144270369995038,
          -0.15064019641233703,
          -0.5134274213574673,
          -0.4564636344529738,
          -0.14764484206478884,
          0.5903398623096346,
          1.1126374552108749,
          -0.49894426459158214,
          -0.5011659774632877,
          0.6928319458834934,
          -1.7951687524797715,
          1.2932792853840944,
          -0.40479559008428817,
          -0.6319160554536156,
          0.11715630369065841,
          0.13437188553126195,
          -0.8026180919703971,
          0.08076567237340443,
          -1.6979918618034144,
          -0.6448184980215191,
          0.9501142158249427,
          -0.7483001659208229,
          0.7951875826847496,
          0.4581683904505766,
          0.06997175004004723,
          1.637374951451184,
          1.1195946599828972,
          -1.3052338063332871,
          0.083907912193056,
          -1.5652159844016265,
          -0.40581231955271085,
          -0.8908653186062088,
          -1.8051414380333355,
          0.5939534812998826,
          0.2494524487856948,
          0.05781511069589033,
          -0.022976032164831947,
          -0.10765716505882528,
          -0.5438927252233641,
          -1.1000593202375937,
          -0.5761088005862247,
          -1.5564321230278189,
          -0.12073544305047308,
          -0.675080979829309,
          0.05969813033357736,
          0.07100118712085238,
          -0.24259479193874658,
          -0.08725952322047036,
          -0.6723168923699513,
          -1.7210110707039628,
          0.24837357651501538,
          0.8906597383916488,
          -0.2985274798517321,
          -0.2497059524573901,
          -0.4268300583236545,
          1.3977787077675048,
          0.18967013277488123,
          0.2781673348451508,
          2.008626692431537,
          -1.4582530124453261,
          -0.052811484830953416,
          1.018816153555699,
          -1.4946908293770957,
          -0.17791243263779483,
          -0.21487493013352357,
          -1.1154802155267483,
          -1.0864656770210421,
          1.8715058729313956,
          -2.3454322868519646,
          -1.3442613924440698,
          1.2789428841907022,
          -0.622976032512834,
          0.43191844776901334,
          -1.0469671069334532,
          -0.09087601788815106,
          -0.24525921382254695,
          -0.12751826728436938,
          -0.19710422190515112,
          0.21786569707231332,
          -0.5318386241147701,
          -0.619137248683806,
          -0.9841739642476491,
          -0.04366556656524984,
          -1.1686811886894808,
          -1.1442247246275277,
          -0.02464100244878945,
          -1.1470802512688094,
          2.373099255257339,
          0.9344854522581401,
          -0.6013846189818123,
          0.6269821797949657,
          1.5280711779578835,
          0.6157493072939183,
          0.010318197690792065,
          -0.6341778253465452,
          0.17547786988523956,
          0.0819509704240117,
          -0.4100888891309946,
          -0.48746254833514374,
          -0.5565498997515461,
          1.378445718726155,
          -0.8215414969837758,
          0.0648373690148418,
          -1.269220025408297,
          0.34865067317202303,
          -0.2115233449538978,
          0.2741847017089709,
          0.9368286685279439,
          0.15853425595331813,
          0.7474617913212795,
          0.5884907635107974,
          -0.37055928161472107,
          1.7569463113103132,
          -0.30195040731472433,
          2.291543073379089,
          -0.3231307033619164,
          -0.08390168452178794,
          1.2059001911880234,
          0.3278961907906771,
          -1.0186878209362027,
          0.7697231796366837,
          -2.3498271537612263,
          0.6340195816309347,
          -0.5681358322763258,
          -0.486106494356002,
          0.539149972772829,
          -0.20847481670079618,
          1.3730523013187175,
          0.4018213936737247,
          -0.8568182718914439,
          -0.8654527416284514,
          1.6223976991016857,
          0.3331431829354263,
          0.9766041994062549,
          -0.3573549571204486,
          0.1518203034506923,
          0.11449083812167539,
          -0.9253260900061655,
          0.9357719191690077,
          -1.5599436723492903,
          1.6288707932058197,
          0.3817244786796671,
          -0.5604627253121568,
          0.37952635040809657,
          -0.570959253470165,
          0.4157257013714289,
          -0.9454044950928784,
          -0.6196448874236333,
          0.7525502470466332,
          0.2830086509619925,
          0.22797676600431518,
          -1.8372811430471376,
          -0.7500803056145324,
          -0.9060737201206953,
          -0.2003316574006289,
          -0.7966734588285362,
          0.07144757594443824,
          0.07694514066531315,
          -0.17877913428553807,
          0.7388007755225953,
          0.15853542595249598,
          -0.9425000125436988,
          1.1289022310205488,
          0.15398165645697795,
          -1.0602409129233803,
          -0.47990012997148696,
          -0.8887771805989299,
          1.0641728885488353,
          -0.8202434969460689,
          0.02540919594359612,
          -1.346409585244959,
          -1.0606755950150402,
          0.03195131341838385,
          -1.2121976973618982,
          -0.17574695213767363,
          -0.6936634844926505,
          0.2640016221188946,
          0.6645082264896135,
          0.15787110190392598,
          -0.13124241009799092,
          -2.1834433911515525,
          -1.3447203070475398,
          0.6627584826953175,
          1.7773088120405902,
          1.8643456857469622,
          0.01707232402285675,
          -0.5508468937170851,
          1.0115428964162476,
          -0.6350476423349212,
          1.224646221044783,
          0.509973207742667,
          -0.9478342732534352,
          0.25167165827179494,
          3.576320186182812,
          -0.330414698949393,
          -1.1740685774322157,
          -0.5254158677948545,
          0.1880540026571725,
          0.7752440368277849,
          0.6031658812598799,
          0.7334662182423248,
          0.4272722988287671,
          0.8885984962433793,
          -0.43653509039019145,
          -0.5918666462019453,
          -0.7056582092435242,
          1.243051244223383,
          0.8941180389314931,
          -1.2070650362316828,
          1.215025945345764,
          1.6001912806220007,
          -0.1547229413450875,
          0.5541245807702645,
          -0.2329708780478617,
          -0.13645213130945363,
          -0.41528430282692286,
          -0.46970495791907885,
          -1.766081419711794,
          1.1942091431975004,
          0.7227334359142964,
          0.23451061977875426,
          -1.4228746469158724,
          -0.6678334712082574,
          -0.15056353278522908,
          0.35680253125168,
          -0.5870211415785144,
          -0.05378029150544089,
          -0.039766398933488614,
          -0.6857812184947507,
          -0.4936748776577445,
          -0.08598198473982956,
          0.08363379474417681,
          0.7690417389943454,
          1.1039922519245957,
          -0.6252895012439883,
          -0.1782810452343958,
          0.8424944603903814
         ],
         "yaxis": "y"
        }
       ],
       "layout": {
        "coloraxis": {
         "colorbar": {
          "title": {
           "text": "hitability"
          }
         },
         "colorscale": [
          [
           0,
           "#0d0887"
          ],
          [
           0.1111111111111111,
           "#46039f"
          ],
          [
           0.2222222222222222,
           "#7201a8"
          ],
          [
           0.3333333333333333,
           "#9c179e"
          ],
          [
           0.4444444444444444,
           "#bd3786"
          ],
          [
           0.5555555555555556,
           "#d8576b"
          ],
          [
           0.6666666666666666,
           "#ed7953"
          ],
          [
           0.7777777777777778,
           "#fb9f3a"
          ],
          [
           0.8888888888888888,
           "#fdca26"
          ],
          [
           1,
           "#f0f921"
          ]
         ]
        },
        "legend": {
         "tracegroupgap": 0
        },
        "template": {
         "data": {
          "bar": [
           {
            "error_x": {
             "color": "#2a3f5f"
            },
            "error_y": {
             "color": "#2a3f5f"
            },
            "marker": {
             "line": {
              "color": "#E5ECF6",
              "width": 0.5
             },
             "pattern": {
              "fillmode": "overlay",
              "size": 10,
              "solidity": 0.2
             }
            },
            "type": "bar"
           }
          ],
          "barpolar": [
           {
            "marker": {
             "line": {
              "color": "#E5ECF6",
              "width": 0.5
             },
             "pattern": {
              "fillmode": "overlay",
              "size": 10,
              "solidity": 0.2
             }
            },
            "type": "barpolar"
           }
          ],
          "carpet": [
           {
            "aaxis": {
             "endlinecolor": "#2a3f5f",
             "gridcolor": "white",
             "linecolor": "white",
             "minorgridcolor": "white",
             "startlinecolor": "#2a3f5f"
            },
            "baxis": {
             "endlinecolor": "#2a3f5f",
             "gridcolor": "white",
             "linecolor": "white",
             "minorgridcolor": "white",
             "startlinecolor": "#2a3f5f"
            },
            "type": "carpet"
           }
          ],
          "choropleth": [
           {
            "colorbar": {
             "outlinewidth": 0,
             "ticks": ""
            },
            "type": "choropleth"
           }
          ],
          "contour": [
           {
            "colorbar": {
             "outlinewidth": 0,
             "ticks": ""
            },
            "colorscale": [
             [
              0,
              "#0d0887"
             ],
             [
              0.1111111111111111,
              "#46039f"
             ],
             [
              0.2222222222222222,
              "#7201a8"
             ],
             [
              0.3333333333333333,
              "#9c179e"
             ],
             [
              0.4444444444444444,
              "#bd3786"
             ],
             [
              0.5555555555555556,
              "#d8576b"
             ],
             [
              0.6666666666666666,
              "#ed7953"
             ],
             [
              0.7777777777777778,
              "#fb9f3a"
             ],
             [
              0.8888888888888888,
              "#fdca26"
             ],
             [
              1,
              "#f0f921"
             ]
            ],
            "type": "contour"
           }
          ],
          "contourcarpet": [
           {
            "colorbar": {
             "outlinewidth": 0,
             "ticks": ""
            },
            "type": "contourcarpet"
           }
          ],
          "heatmap": [
           {
            "colorbar": {
             "outlinewidth": 0,
             "ticks": ""
            },
            "colorscale": [
             [
              0,
              "#0d0887"
             ],
             [
              0.1111111111111111,
              "#46039f"
             ],
             [
              0.2222222222222222,
              "#7201a8"
             ],
             [
              0.3333333333333333,
              "#9c179e"
             ],
             [
              0.4444444444444444,
              "#bd3786"
             ],
             [
              0.5555555555555556,
              "#d8576b"
             ],
             [
              0.6666666666666666,
              "#ed7953"
             ],
             [
              0.7777777777777778,
              "#fb9f3a"
             ],
             [
              0.8888888888888888,
              "#fdca26"
             ],
             [
              1,
              "#f0f921"
             ]
            ],
            "type": "heatmap"
           }
          ],
          "heatmapgl": [
           {
            "colorbar": {
             "outlinewidth": 0,
             "ticks": ""
            },
            "colorscale": [
             [
              0,
              "#0d0887"
             ],
             [
              0.1111111111111111,
              "#46039f"
             ],
             [
              0.2222222222222222,
              "#7201a8"
             ],
             [
              0.3333333333333333,
              "#9c179e"
             ],
             [
              0.4444444444444444,
              "#bd3786"
             ],
             [
              0.5555555555555556,
              "#d8576b"
             ],
             [
              0.6666666666666666,
              "#ed7953"
             ],
             [
              0.7777777777777778,
              "#fb9f3a"
             ],
             [
              0.8888888888888888,
              "#fdca26"
             ],
             [
              1,
              "#f0f921"
             ]
            ],
            "type": "heatmapgl"
           }
          ],
          "histogram": [
           {
            "marker": {
             "pattern": {
              "fillmode": "overlay",
              "size": 10,
              "solidity": 0.2
             }
            },
            "type": "histogram"
           }
          ],
          "histogram2d": [
           {
            "colorbar": {
             "outlinewidth": 0,
             "ticks": ""
            },
            "colorscale": [
             [
              0,
              "#0d0887"
             ],
             [
              0.1111111111111111,
              "#46039f"
             ],
             [
              0.2222222222222222,
              "#7201a8"
             ],
             [
              0.3333333333333333,
              "#9c179e"
             ],
             [
              0.4444444444444444,
              "#bd3786"
             ],
             [
              0.5555555555555556,
              "#d8576b"
             ],
             [
              0.6666666666666666,
              "#ed7953"
             ],
             [
              0.7777777777777778,
              "#fb9f3a"
             ],
             [
              0.8888888888888888,
              "#fdca26"
             ],
             [
              1,
              "#f0f921"
             ]
            ],
            "type": "histogram2d"
           }
          ],
          "histogram2dcontour": [
           {
            "colorbar": {
             "outlinewidth": 0,
             "ticks": ""
            },
            "colorscale": [
             [
              0,
              "#0d0887"
             ],
             [
              0.1111111111111111,
              "#46039f"
             ],
             [
              0.2222222222222222,
              "#7201a8"
             ],
             [
              0.3333333333333333,
              "#9c179e"
             ],
             [
              0.4444444444444444,
              "#bd3786"
             ],
             [
              0.5555555555555556,
              "#d8576b"
             ],
             [
              0.6666666666666666,
              "#ed7953"
             ],
             [
              0.7777777777777778,
              "#fb9f3a"
             ],
             [
              0.8888888888888888,
              "#fdca26"
             ],
             [
              1,
              "#f0f921"
             ]
            ],
            "type": "histogram2dcontour"
           }
          ],
          "mesh3d": [
           {
            "colorbar": {
             "outlinewidth": 0,
             "ticks": ""
            },
            "type": "mesh3d"
           }
          ],
          "parcoords": [
           {
            "line": {
             "colorbar": {
              "outlinewidth": 0,
              "ticks": ""
             }
            },
            "type": "parcoords"
           }
          ],
          "pie": [
           {
            "automargin": true,
            "type": "pie"
           }
          ],
          "scatter": [
           {
            "fillpattern": {
             "fillmode": "overlay",
             "size": 10,
             "solidity": 0.2
            },
            "type": "scatter"
           }
          ],
          "scatter3d": [
           {
            "line": {
             "colorbar": {
              "outlinewidth": 0,
              "ticks": ""
             }
            },
            "marker": {
             "colorbar": {
              "outlinewidth": 0,
              "ticks": ""
             }
            },
            "type": "scatter3d"
           }
          ],
          "scattercarpet": [
           {
            "marker": {
             "colorbar": {
              "outlinewidth": 0,
              "ticks": ""
             }
            },
            "type": "scattercarpet"
           }
          ],
          "scattergeo": [
           {
            "marker": {
             "colorbar": {
              "outlinewidth": 0,
              "ticks": ""
             }
            },
            "type": "scattergeo"
           }
          ],
          "scattergl": [
           {
            "marker": {
             "colorbar": {
              "outlinewidth": 0,
              "ticks": ""
             }
            },
            "type": "scattergl"
           }
          ],
          "scattermapbox": [
           {
            "marker": {
             "colorbar": {
              "outlinewidth": 0,
              "ticks": ""
             }
            },
            "type": "scattermapbox"
           }
          ],
          "scatterpolar": [
           {
            "marker": {
             "colorbar": {
              "outlinewidth": 0,
              "ticks": ""
             }
            },
            "type": "scatterpolar"
           }
          ],
          "scatterpolargl": [
           {
            "marker": {
             "colorbar": {
              "outlinewidth": 0,
              "ticks": ""
             }
            },
            "type": "scatterpolargl"
           }
          ],
          "scatterternary": [
           {
            "marker": {
             "colorbar": {
              "outlinewidth": 0,
              "ticks": ""
             }
            },
            "type": "scatterternary"
           }
          ],
          "surface": [
           {
            "colorbar": {
             "outlinewidth": 0,
             "ticks": ""
            },
            "colorscale": [
             [
              0,
              "#0d0887"
             ],
             [
              0.1111111111111111,
              "#46039f"
             ],
             [
              0.2222222222222222,
              "#7201a8"
             ],
             [
              0.3333333333333333,
              "#9c179e"
             ],
             [
              0.4444444444444444,
              "#bd3786"
             ],
             [
              0.5555555555555556,
              "#d8576b"
             ],
             [
              0.6666666666666666,
              "#ed7953"
             ],
             [
              0.7777777777777778,
              "#fb9f3a"
             ],
             [
              0.8888888888888888,
              "#fdca26"
             ],
             [
              1,
              "#f0f921"
             ]
            ],
            "type": "surface"
           }
          ],
          "table": [
           {
            "cells": {
             "fill": {
              "color": "#EBF0F8"
             },
             "line": {
              "color": "white"
             }
            },
            "header": {
             "fill": {
              "color": "#C8D4E3"
             },
             "line": {
              "color": "white"
             }
            },
            "type": "table"
           }
          ]
         },
         "layout": {
          "annotationdefaults": {
           "arrowcolor": "#2a3f5f",
           "arrowhead": 0,
           "arrowwidth": 1
          },
          "autotypenumbers": "strict",
          "coloraxis": {
           "colorbar": {
            "outlinewidth": 0,
            "ticks": ""
           }
          },
          "colorscale": {
           "diverging": [
            [
             0,
             "#8e0152"
            ],
            [
             0.1,
             "#c51b7d"
            ],
            [
             0.2,
             "#de77ae"
            ],
            [
             0.3,
             "#f1b6da"
            ],
            [
             0.4,
             "#fde0ef"
            ],
            [
             0.5,
             "#f7f7f7"
            ],
            [
             0.6,
             "#e6f5d0"
            ],
            [
             0.7,
             "#b8e186"
            ],
            [
             0.8,
             "#7fbc41"
            ],
            [
             0.9,
             "#4d9221"
            ],
            [
             1,
             "#276419"
            ]
           ],
           "sequential": [
            [
             0,
             "#0d0887"
            ],
            [
             0.1111111111111111,
             "#46039f"
            ],
            [
             0.2222222222222222,
             "#7201a8"
            ],
            [
             0.3333333333333333,
             "#9c179e"
            ],
            [
             0.4444444444444444,
             "#bd3786"
            ],
            [
             0.5555555555555556,
             "#d8576b"
            ],
            [
             0.6666666666666666,
             "#ed7953"
            ],
            [
             0.7777777777777778,
             "#fb9f3a"
            ],
            [
             0.8888888888888888,
             "#fdca26"
            ],
            [
             1,
             "#f0f921"
            ]
           ],
           "sequentialminus": [
            [
             0,
             "#0d0887"
            ],
            [
             0.1111111111111111,
             "#46039f"
            ],
            [
             0.2222222222222222,
             "#7201a8"
            ],
            [
             0.3333333333333333,
             "#9c179e"
            ],
            [
             0.4444444444444444,
             "#bd3786"
            ],
            [
             0.5555555555555556,
             "#d8576b"
            ],
            [
             0.6666666666666666,
             "#ed7953"
            ],
            [
             0.7777777777777778,
             "#fb9f3a"
            ],
            [
             0.8888888888888888,
             "#fdca26"
            ],
            [
             1,
             "#f0f921"
            ]
           ]
          },
          "colorway": [
           "#636efa",
           "#EF553B",
           "#00cc96",
           "#ab63fa",
           "#FFA15A",
           "#19d3f3",
           "#FF6692",
           "#B6E880",
           "#FF97FF",
           "#FECB52"
          ],
          "font": {
           "color": "#2a3f5f"
          },
          "geo": {
           "bgcolor": "white",
           "lakecolor": "white",
           "landcolor": "#E5ECF6",
           "showlakes": true,
           "showland": true,
           "subunitcolor": "white"
          },
          "hoverlabel": {
           "align": "left"
          },
          "hovermode": "closest",
          "mapbox": {
           "style": "light"
          },
          "paper_bgcolor": "white",
          "plot_bgcolor": "#E5ECF6",
          "polar": {
           "angularaxis": {
            "gridcolor": "white",
            "linecolor": "white",
            "ticks": ""
           },
           "bgcolor": "#E5ECF6",
           "radialaxis": {
            "gridcolor": "white",
            "linecolor": "white",
            "ticks": ""
           }
          },
          "scene": {
           "xaxis": {
            "backgroundcolor": "#E5ECF6",
            "gridcolor": "white",
            "gridwidth": 2,
            "linecolor": "white",
            "showbackground": true,
            "ticks": "",
            "zerolinecolor": "white"
           },
           "yaxis": {
            "backgroundcolor": "#E5ECF6",
            "gridcolor": "white",
            "gridwidth": 2,
            "linecolor": "white",
            "showbackground": true,
            "ticks": "",
            "zerolinecolor": "white"
           },
           "zaxis": {
            "backgroundcolor": "#E5ECF6",
            "gridcolor": "white",
            "gridwidth": 2,
            "linecolor": "white",
            "showbackground": true,
            "ticks": "",
            "zerolinecolor": "white"
           }
          },
          "shapedefaults": {
           "line": {
            "color": "#2a3f5f"
           }
          },
          "ternary": {
           "aaxis": {
            "gridcolor": "white",
            "linecolor": "white",
            "ticks": ""
           },
           "baxis": {
            "gridcolor": "white",
            "linecolor": "white",
            "ticks": ""
           },
           "bgcolor": "#E5ECF6",
           "caxis": {
            "gridcolor": "white",
            "linecolor": "white",
            "ticks": ""
           }
          },
          "title": {
           "x": 0.05
          },
          "xaxis": {
           "automargin": true,
           "gridcolor": "white",
           "linecolor": "white",
           "ticks": "",
           "title": {
            "standoff": 15
           },
           "zerolinecolor": "white",
           "zerolinewidth": 2
          },
          "yaxis": {
           "automargin": true,
           "gridcolor": "white",
           "linecolor": "white",
           "ticks": "",
           "title": {
            "standoff": 15
           },
           "zerolinecolor": "white",
           "zerolinewidth": 2
          }
         }
        },
        "title": {
         "text": "Location"
        },
        "xaxis": {
         "anchor": "y",
         "domain": [
          0,
          1
         ],
         "title": {
          "text": "x"
         }
        },
        "yaxis": {
         "anchor": "x",
         "domain": [
          0,
          1
         ],
         "title": {
          "text": "y"
         }
        }
       }
      }
     },
     "metadata": {},
     "output_type": "display_data"
    }
   ],
   "source": [
    "\n",
    "pitch_data.show_scatter(\"x\", \"y\", \"Location\", color='hitability')"
   ]
  },
  {
   "cell_type": "code",
   "execution_count": 28,
   "metadata": {},
   "outputs": [
    {
     "data": {
      "application/vnd.plotly.v1+json": {
       "config": {
        "plotlyServerURL": "https://plot.ly"
       },
       "data": [
        {
         "alignmentgroup": "True",
         "bingroup": "x",
         "hovertemplate": "variable=x<br>value=%{x}<br>count=%{y}<extra></extra>",
         "legendgroup": "x",
         "marker": {
          "color": "#636efa",
          "pattern": {
           "shape": ""
          }
         },
         "name": "x",
         "offsetgroup": "x",
         "orientation": "v",
         "showlegend": true,
         "type": "histogram",
         "x": [
          -0.6615526378544084,
          -1.731638811427463,
          1.1499364273028367,
          0.8684018335500702,
          -2.2864509810965505,
          0.48932063366584294,
          0.4730652418714393,
          0.6773119695912603,
          0.7827674130177469,
          -0.059857082168576284,
          -0.21554639556252944,
          0.8704204723160155,
          -1.2749648717157058,
          -0.4553331107350362,
          -0.3582430517518164,
          0.28023231938404886,
          1.4857705670836763,
          -0.35662227260978413,
          -1.1936095134412554,
          0.8662807761813895,
          -2.294389540006629,
          -1.3153276239921214,
          -0.6985947782063421,
          0.607112421464847,
          0.027629524329054037,
          -0.761366316266105,
          -1.5191354347734671,
          -0.1542882612536261,
          1.0297621382751123,
          -0.6812777137291975,
          -0.08376149874335903,
          2.0800436627447816,
          -0.6288541097655573,
          -0.7601393674454003,
          1.9540347151094473,
          1.5719776483051229,
          -0.3442433589345042,
          0.024847588133717978,
          0.15130635813742374,
          -0.5874049008601,
          -0.5560028807332122,
          -0.028938454076169188,
          0.39898982587312803,
          0.3769690921912932,
          -0.36103032457926104,
          1.015918630031641,
          0.1328413428371124,
          -2.3027671261497926,
          -0.9559015314188113,
          -0.1031840250289218,
          1.3994052697803279,
          0.6958688430450947,
          -0.41736232730547884,
          -1.6978181152756864,
          -0.4203308106744605,
          -0.9384073689586184,
          -1.2917132447337354,
          -1.369421159379622,
          -0.8763438001769756,
          0.6117823654587344,
          1.4100511808591978,
          0.5679820864724096,
          -1.8121800296676995,
          0.9623267777616864,
          0.11002106352343327,
          0.814926205117354,
          -0.7949711404726629,
          0.6841518171006712,
          -1.2541143877660834,
          -0.5641790007191526,
          1.1811221689417999,
          0.35730250226874793,
          0.487417903373617,
          -1.1563889332212092,
          0.2154465839328981,
          1.253179448092144,
          0.02879333444724715,
          0.32438664098635833,
          0.5043325590223632,
          -0.3221398654571022,
          -0.9884962597228067,
          -0.3219522760643784,
          0.4029237031341402,
          -0.4994387022692943,
          0.4335582334727841,
          -1.4778844013870305,
          -0.2867811082330584,
          -0.46531652535199786,
          1.042104136656969,
          -0.4520008284860607,
          -0.5022050123567531,
          1.9849097709110681,
          0.4327509554686958,
          -1.5729396874060586,
          0.5910891842073152,
          -0.44744501166083916,
          0.35435512747645603,
          0.7289937124980358,
          -1.3329450342140294,
          -0.718745681449158,
          0.9254873722083984,
          -0.5461852962701814,
          -0.16611977630456246,
          0.6636269312150194,
          -0.21713134957544492,
          -0.44604935144624763,
          -0.111364128070137,
          -0.4698339628428397,
          1.3074840274868593,
          0.3093370504561974,
          -0.16571797582882242,
          -1.5432389177303352,
          -0.762431033263986,
          0.9191351502724814,
          0.09237321696909712,
          0.9420211090499475,
          0.021145881329199756,
          0.1702905441674917,
          0.4420371773293523,
          0.8862224364034159,
          -0.3986807240635306,
          1.3824020134931616,
          -0.6804827360769385,
          0.9007063354121096,
          -0.5878071234871384,
          -0.6360857291320604,
          -0.2608621774385828,
          1.016001797004603,
          0.6585078163197641,
          -1.459531877567658,
          -0.47829900143629933,
          -0.7937151678736676,
          0.03210867161729338,
          -0.4704211323868275,
          0.6423855913076386,
          -0.5468537016223739,
          -0.9903932606921239,
          -1.1011783801767565,
          1.8773877102099703,
          0.2000316959759167,
          0.6629912089621872,
          0.13127100453929424,
          1.2408413455476075,
          0.13458365654672008,
          1.0831956044909767,
          1.5055905223000263,
          -0.7290429531353902,
          1.6934700550732977,
          1.2772639702880446,
          0.4633501990939597,
          -0.2239015223362301,
          -1.0508065012624166,
          -0.808893015159896,
          -0.4290293058886198,
          0.010200268604727879,
          0.8665560826417286,
          -0.660074901071553,
          -0.20366823776697052,
          1.5176794058844798,
          0.019475084718381292,
          0.17950444927691137,
          0.07289012848554388,
          1.2733363918853335,
          1.8772236945434824,
          1.1713195881102432,
          -2.7639811161931935,
          0.2696010913610395,
          1.2051958455539866,
          -0.23266819320807172,
          -1.6354079659043812,
          1.4352192347799688,
          1.220677678818982,
          -1.0149904353583914,
          0.5527875993291402,
          0.16763071809172866,
          0.37228640711452154,
          1.1416123987895048,
          0.013671908476273205,
          0.4024595897146048,
          0.9341138466525017,
          0.33803859551154203,
          0.5480586747004645,
          -1.3886962599293275,
          -1.0512127192437972,
          0.46909129143679495,
          0.7495583711810802,
          0.7841273318231856,
          -0.2663219984999958,
          0.9477043579402191,
          0.404710491166929,
          -1.4057738183923048,
          -0.8444579494177442,
          0.4195103717942025,
          -0.3038821587783743,
          -1.8241875429942338,
          0.6604364592227788,
          -0.6820521184045999,
          0.7253059357851794,
          0.7458290559114595,
          -0.9120686253578975,
          1.133639871137432,
          1.22191291991683,
          -0.2302428611875512,
          -2.282159699475964,
          0.058332983167315854,
          0.42373520297730716,
          0.7836449287650092,
          0.2639527822857526,
          0.056402238327194765,
          0.8536298515243727,
          -0.784691065125506,
          0.4896879789649234,
          0.07786753789480659,
          1.1634199817033146,
          0.14146656263265953,
          -0.59684559697032,
          -0.3600787965590342,
          -1.214686711934432,
          0.4686216067435674,
          0.59632504853326,
          -0.1731726898738242,
          0.2864717317272873,
          1.0576782665113282,
          -0.7718013018048154,
          -1.1083242196827392,
          -0.7002818989831677,
          0.1322125492436331,
          1.0420086383317702,
          0.4059785792855757,
          -1.5108524781563044,
          -0.09300066554782863,
          1.2528447117683204,
          1.2110270139915484,
          0.1460686398222831,
          0.9253012142792365,
          0.967401742205511,
          0.47204734479566435,
          -0.3863004086698623,
          -0.14862536197046256,
          0.530298672534324,
          -0.6438189947817476,
          0.8588124170922218,
          0.0456097937352869,
          -0.9296447499430884,
          0.06117380164895638,
          -0.22545780480588445,
          -0.748232172492775,
          -0.19095650757243499,
          0.8606383069707884,
          0.16282973859141714,
          -0.8538164459691361,
          -0.1289933290258713,
          0.4958207083994589,
          -0.7778255417003977,
          0.9467321439334611,
          1.1858799671076163,
          0.02416408327992649,
          -1.8476067806441756,
          0.5740758566031867,
          -1.121598840717672,
          -0.7764128756032206,
          -0.22062572408922096,
          0.8984606694338159,
          -0.17104636722478442,
          0.4271182713679654,
          2.220601292195093,
          -0.19491017788881368,
          1.2218857049309224,
          -0.356303692855804,
          -2.062987789335152,
          1.8685269113766085,
          0.8654852249631578,
          -0.8324088483287863,
          0.10627048538177017,
          -0.9254596887308439,
          0.6543242512810139,
          -1.077833824631805,
          -1.1028982414459512,
          0.3723993508232301,
          -0.40144985018104873,
          0.13692417793452583,
          1.3808499751896235,
          0.3134276099545953,
          -2.05245265365245,
          1.2618335175169928,
          -0.2096057990188418,
          0.6812108077494992,
          -0.842269386897017,
          0.7836980947858663,
          -2.743682113219002,
          0.4018756685257004,
          0.7344867056464985,
          -0.04904286935296135,
          -1.0176439400138275,
          -1.474771346090849,
          -0.053384060719178235,
          0.1519946775923096,
          1.290999802232126,
          0.18589112383639778,
          -0.4189341060331615,
          1.263703387925381,
          -0.2931973374218389,
          0.3979895082376522,
          -0.46504141568657115,
          -0.36091315286389253,
          0.30685643130646206,
          -0.5706087017450965,
          0.9364321869803902,
          -0.1283836096180022,
          0.08539631958484543,
          0.6110751476790648,
          -0.4801778752263531,
          0.13447610011176037,
          -1.173496417636019,
          -0.2219358427177532,
          -0.05950572734028726,
          0.1940796961524911,
          0.4985688028908504,
          -0.17840984013241884,
          -0.3706756991784696,
          0.3862112107468781,
          -0.9843495964728909,
          -0.0277212852192629,
          -0.7550470679637419,
          1.5258331649571621,
          -0.8734333671422292,
          -1.8109365391963856,
          -0.396026629823582,
          0.7595509650154347,
          -1.6826222845706205,
          0.4777707498954953,
          0.19106133014310842,
          -0.7855109866739695,
          0.6193403228459405,
          -0.5988812390114555,
          -0.16294052366132045,
          -1.4260178931411198,
          -0.1641635427631215,
          -1.159335137342596,
          0.9034719040366522,
          1.2657401259019194,
          1.001711689082415,
          -0.9926433381294999,
          -1.1491458200355515,
          0.6166248655522889,
          -0.018217023931920488,
          0.08046428254241648,
          -0.11123897592989841,
          0.3474273591227724,
          -1.4221664609083153,
          -0.46858997843352884,
          -1.0814443833631604,
          0.6086407472059495,
          0.40627746884058424,
          0.6958770840986688,
          -0.7663198996174782,
          -0.34956036453948697,
          0.21230146842228312,
          0.571325606127521,
          0.18522261008991525,
          1.0529541966267189,
          0.23463433125600566,
          -0.45612242436656547,
          1.5599550103238544,
          0.0019802743186760475,
          -0.22662573037476536,
          -0.15954800207189784,
          -0.21893971797916284,
          -0.395338195019062,
          0.5004629863127124,
          0.05111087011376832,
          1.4334383310518723,
          -0.24236075881679608,
          -0.6624994867502988,
          -2.1582199167781275,
          1.2407408384685819,
          0.12370219532193605,
          -1.4588868302399467,
          0.3598670965263478,
          1.4739545728191454,
          -1.1045706601231395,
          -0.39182038573424205,
          0.566038822099324,
          0.4805701366099245,
          -0.3580581956459441,
          -0.25400152009143867,
          0.7372853333859776,
          0.5470858219555167,
          -1.0742326978940437,
          -1.8239242905226194,
          -1.14071977883968,
          0.6971641034255666,
          -0.421167385790007,
          1.289004191217077,
          0.6727734164333173,
          1.061131501929905,
          -0.1567099290605653,
          0.14333432306071994,
          0.5238617442187861,
          0.7296976851276736,
          -0.24614133176776068,
          -0.5717131981095137,
          0.8203399629647902,
          -1.2408011233221585,
          0.17318659833728564,
          0.05734739242001124,
          0.7686771588625623,
          -0.10131965932753846,
          0.4309756703596371,
          1.2637263494617164,
          -1.1036347311562287,
          -0.2590209138259151,
          0.11711496608521632,
          -0.16918911846957455,
          0.12719449009848882,
          0.5878017250755514,
          -0.6225349646944159,
          1.0480440260935597,
          0.3701416016197454,
          1.1252371837262172,
          1.0823501148739936,
          1.0324949704373325,
          -0.3678512400480167,
          1.9678905743143937,
          -0.5177855137794986,
          2.6203702148244217,
          0.006487116442968488,
          1.0056281553162338,
          0.23892275130905868,
          0.1421698411042437,
          0.14353894889428526,
          0.41619120055643094,
          0.5579570317946039,
          -0.8269642800065585,
          -1.2211016682816835,
          0.256592398530185,
          0.14061026300410445,
          -0.06798317455099948,
          -1.8791130869941313,
          -0.7162959038646487,
          -0.19306017514687232,
          0.9812522297283343,
          0.15685299525055618,
          -1.536396044906972,
          -0.040274479462487654,
          -1.4702375656512372,
          -0.5004537409981767,
          -0.07105512443824319,
          1.3068616178773071,
          0.9141532030726793,
          -0.062226268793802476,
          -0.8255967927662761,
          0.9388794665421856,
          -0.7579174655382968,
          -1.0636004539488408,
          -0.5336312681372851,
          1.4495721033914348,
          -0.9619174095213002,
          0.35583016133761003,
          0.2823827248010252,
          -1.1015695930605813,
          -0.29012564052254325,
          0.34566368397973984,
          0.3359080518346964,
          -1.7873949681565318,
          1.1818371580137272,
          0.9349091556984113,
          -0.669439774222871,
          -1.2980837568061996,
          -0.35100485284356786,
          0.6537311116445513,
          0.18731663478966679,
          0.8106440628579058,
          -0.866057895143172,
          0.4300011065370488,
          0.6343418264869136,
          0.12364219141803597,
          0.039079300445857286,
          0.31306043233981196,
          -0.3085437809027904,
          -1.3186682198174637,
          -1.6280212424809608,
          -1.3551402370969212,
          -0.06035085352584488,
          -1.190700501248673,
          -0.04085952989129411,
          0.910960613956993,
          -0.6846505846029194,
          -0.6480660542733897,
          -0.12444511681430444,
          -0.94336540177961,
          2.4895778797950046,
          -0.07162031179888766,
          -1.3063680051503408,
          0.8851428437046897,
          -0.6640335978392196,
          1.4209048932543566,
          1.0836524392244253,
          0.11559268736667759,
          -0.21989522607974332,
          0.34870032368160336,
          -0.8028033341168697,
          0.5193452985317137,
          0.28420795031424456,
          -0.6770643303077797,
          0.2688619413383947,
          -0.6075292450925442,
          -0.21768577105308864,
          -1.6829640888512363,
          -2.1413023182800206,
          0.10288632755776539,
          0.5218127967095896,
          1.4232406169175191,
          0.2520761980714573,
          0.24275396080160389,
          -0.3702235639469103,
          0.4464997149568682,
          -0.9085788918958033,
          0.6448788957826505,
          -0.5304544726483503,
          -1.3871580682341782,
          -1.1100939431176962,
          0.4220845930029522,
          0.342654352554914,
          0.21700672224857054,
          1.5590088554198007,
          1.0483971223948507,
          -0.17914680458871274,
          0.7579824633054402,
          -0.6223712016887682,
          0.9864624995231573,
          0.586524765243883,
          0.05426593183317821,
          -0.7788925520207056,
          2.2648637782460623,
          -0.17149886489823776,
          0.8645792120242202,
          -0.2087001723555879,
          -0.18553891442393372,
          0.8207196935834152,
          0.9240480164012762,
          1.1404306021434423,
          -0.7277833919798534,
          -1.178982411077903,
          -0.20284731419867394,
          0.08861230335432854,
          -0.45725093806637496,
          -1.087110093441903,
          -0.06680657426442174,
          0.29051686416519573,
          -1.977945755456107,
          0.08481674213032642,
          -1.5892490870318792,
          -1.1185808106847268,
          -1.2837685784104396,
          0.03025698700817673,
          -0.3992799221883483,
          -0.5731359457661714,
          0.10468148207076346,
          -0.6424649098782954,
          -1.235668858158301,
          -1.4325012652754878,
          0.22373177349048093,
          -0.47725641025740556,
          -0.03393710942565016,
          1.9082760027786012,
          -0.31535590294366556,
          0.671580113286627,
          0.8932526615834907,
          0.47587626031140945,
          -0.37008252292707156,
          -2.509229600108762,
          1.5557585428467475,
          -0.16427801595098332,
          0.7607652291242091,
          1.6128530777829477,
          -0.9273200384116035,
          -0.7505173362128982,
          -0.4255650539650913,
          -1.5562941009865645,
          -0.7616820001981578,
          1.8584842615545334,
          0.7789464470041594,
          -2.361364739063004,
          0.5762838207738377,
          -0.14388664585224353,
          -0.40252322900619575,
          0.38194502266989694,
          0.043718379935182274,
          -1.9960283706613293,
          -0.5734326951899669,
          0.6547533965620176,
          -0.4076794407615211,
          1.329917004478406,
          0.24635378661956936,
          0.9187713369479065,
          -0.529179247978139,
          0.24243596411625334,
          -0.5985004537926597,
          -0.08087024583237279,
          -2.1561366096198507,
          -0.16020060022788724,
          -0.1874619434917849,
          1.6012427474874076,
          -1.6828007736477748,
          -0.4048313025135309,
          1.7415503852793883,
          1.6937365681308516,
          -1.5550870718811778,
          -0.6862299662153336,
          -0.9713838526106376,
          1.8877323552027223,
          -0.9553018700951976,
          -0.5546358561713776,
          1.7885776329346157,
          -1.453023596541686,
          1.778035455731083,
          -1.6772256492356494,
          0.8041002459724128,
          -2.4584896699060605,
          -0.16952944608030449,
          -1.023728426869321,
          0.35016025239798587,
          -1.2626489271413217,
          -1.7638745054273126,
          -1.0115401425000994,
          0.5356017612557534,
          0.9514163378380139,
          -1.5389130449425321,
          -1.0306192579451463,
          0.6935364904860254,
          0.5946350137611707,
          0.4198607404625424,
          -0.7922860216650349,
          -0.6197662435474769,
          0.28242318808890815,
          1.1971174141482577,
          -1.8616563073611867,
          0.4113991852502104,
          0.17915861393844937,
          0.5719979288116075,
          -0.38278037921236174,
          -1.2726770389221747,
          -0.7714121040681521,
          -0.5823075811862574,
          -0.7177323485566597,
          -0.04233929002299536,
          0.022393325419580865,
          0.20447088330294755,
          1.0344774648365946,
          -0.27548979287886327,
          0.8333673200955868,
          -0.4922945342386793,
          -1.2889118359536538,
          0.01817411276230132,
          0.4159607760596724,
          0.2625595896153602,
          -0.07538343048537215,
          0.2688442155537969,
          1.8567969152904906,
          0.07406611132151553,
          0.7617345987459953,
          -0.8867776076003765,
          0.8090947698383424,
          0.2739923460189608,
          -0.5353693404882698,
          1.6801443701004217,
          0.6755497864328276,
          -0.8604865471445295,
          -0.18439385891569227,
          0.18621132817403568,
          1.2727068275424682,
          -1.6983133534199444,
          0.3549721749731419,
          0.01725281073163585,
          0.5615442074496625,
          -1.045330291125775,
          -1.0076516844551326,
          1.8760062285578516,
          0.8428254496272116,
          -0.4860996895481606,
          -1.0611010455274055,
          -0.2121200201321463,
          0.7400303452746303,
          0.18781575895017225,
          0.5393724752174656,
          -2.0551058917871967,
          -0.1867989461236247,
          1.1404818400858152,
          -0.942864097181592,
          -0.3187019814000416,
          0.011271577684364303,
          -1.1549990908030425,
          0.5598302572303392,
          -0.033133265808021006,
          0.53050389082396,
          -1.073621259724136,
          -1.3519179296275083,
          -0.027649581773429386,
          -0.8805616746661028,
          0.14992386009054157,
          0.6594198193178517,
          0.8841019013770808,
          0.7813594637169954,
          -0.26431391984166036,
          0.6075524932914326,
          -0.34740971204518406,
          -2.375772776254626,
          -0.9096408989347304,
          0.8475017993757535,
          -0.615275058381863,
          0.14703617695963692,
          -0.03534831904329411,
          0.18791091543467342,
          -0.13553592396300435,
          -0.9950436884499803,
          0.220105051464231,
          -1.3229826779823737,
          -0.436601637562721,
          -0.03262399675426362,
          -1.3120934734287906,
          0.10354709321002649,
          1.8482343740193181,
          -1.6088133074094586,
          0.6082976202186748,
          0.39247843799307264,
          -0.01687146514055367,
          0.0470304174054304,
          -0.4165561429362057,
          -0.4017473997661045,
          -0.6456557021289574,
          -0.5817071339328351,
          -1.2174087583574071,
          0.16724977288119916,
          -0.5359465601940991,
          1.6649622050525723,
          0.9696470284704993,
          -0.7199720541199418,
          -1.0441824482776507,
          1.2789976844554964,
          -0.2344752249870216,
          -1.3708844289189395,
          0.868205795507355,
          1.3285057910364417,
          -0.3152027132063099,
          -0.16536154894208052,
          -2.1579408408362584,
          0.32024503597395165,
          -0.5773496197915403,
          0.1022492033592679,
          -0.2978615699714313,
          0.4710135339628463,
          -0.25055250334685664,
          -0.10973497436394336,
          0.8016842104342725,
          0.6142659804441118,
          -1.4269135065724259,
          -1.4412672681357785,
          -0.48671468207684315,
          0.7838631934706095,
          1.1990842835528779,
          0.9301940583967386,
          -1.129685056088196,
          -0.9940241338621342,
          0.7750112124560213,
          1.7184340208939781,
          -1.5041840304625549,
          1.2435615018027149,
          0.1560528171749707,
          -0.10536757217154857,
          -0.6998331979751454,
          0.1804622755077889,
          -1.0057709110863553,
          1.2580583180029796,
          0.6260395998400171,
          0.8131452782950926,
          -1.0867924843816168,
          -0.6994460268640406,
          1.3148297161843894,
          0.677363608650784,
          -0.8787398175847358,
          -0.7718433684939426,
          -0.7512438141047741,
          -0.6871057341205052,
          0.7446491833862422,
          0.01769360125981662,
          1.741503803565978,
          0.7785205959181745,
          -0.3545474354016637,
          -0.6666133677976893,
          1.8641627418447493,
          -0.31858312473140954,
          -1.277694607953176,
          1.4692954320666924,
          -0.809359171644313,
          0.35952863392465473,
          -0.5028471724505961,
          0.8803403329463231,
          1.1321211124243948,
          -1.1004811847244906,
          -1.0621763371820119,
          -0.4224075702183996,
          -0.8988610304002476,
          1.751046018529863,
          -0.8418452705193255,
          -0.15244234863349537,
          0.23904246956577926,
          0.6726807569115533,
          0.6477346799043981,
          0.6620116003674382,
          0.15686774196070635,
          -0.037817230250253395,
          0.9374163161489265,
          -0.6237068156780774,
          -0.6555122852642211,
          -1.1676479781113704,
          0.7189591251473552,
          0.8772196179242371,
          0.6703715789719532,
          0.692579900348675,
          -0.8303612831009265,
          0.6063456506318714,
          0.4078860648088144,
          -0.7601007286304228,
          -0.69642050009424,
          0.2888582426743909,
          1.1698686415475603,
          -0.6491670359266021,
          -0.8162215439991038,
          -0.03174052137076514,
          -1.1161567299779203,
          0.7754262154176166,
          -1.439161484427706,
          -0.5664278381615856,
          -0.44331510631659743,
          0.2671981325950341,
          0.5696600631284193,
          0.3292216151172087,
          0.1863520771248716,
          0.4509223947869603,
          -0.05520798771359541,
          -1.0697522389974843,
          -1.4921767891562177,
          0.23735381127378768,
          1.0903827727013804,
          -1.1769934678515457,
          -0.48476568320137214,
          -0.33583842846268636,
          0.012798208297050976,
          0.349252489018348,
          0.6245251009768225,
          -0.04624310675472009,
          -0.9655981924061147,
          -0.19807091709367572,
          -0.7613377253262704,
          0.5649563081405886,
          -0.4143598374831167,
          -0.36019739024603004,
          -1.0439255216353946,
          -1.6877787113267324,
          -0.6487963844557345,
          -0.4016512859555945,
          -0.9735291544120697,
          1.2994916582742142,
          0.4138179640441493,
          1.1850257765581438,
          -0.598655986197944,
          -1.7651063234338813,
          -1.6727888433039853,
          0.826614179575335,
          -0.1587500566253446,
          0.0453544709652387,
          -0.591966541629601,
          1.6253563418415253,
          0.8846610118798773,
          -0.8171668244821597,
          -0.4202475162741814,
          0.6246704403083206,
          0.5666679744726393,
          1.0500820007321257,
          -0.31605754343429393,
          -0.24621348812624536,
          -0.08596295354752348,
          1.9396180206717824,
          -0.6251808400100481,
          -0.07400696604118465,
          -0.5496338849329978,
          0.2795584419080646,
          -0.26917097859859146,
          -0.7574129559081276,
          -0.3394772815553577,
          -0.8001232604087858,
          0.4175571640810689,
          0.7545402853577167,
          -0.2795289945907645,
          -0.8147401323974122,
          2.3852381155642455,
          -0.0002925255199520837,
          -0.4518035528780104,
          -2.1347202844892843,
          0.5814570568100407,
          -0.8806715959639867,
          0.02886548916777764,
          0.2830060714724781,
          -1.4467580162771798,
          -1.4354457811362922,
          0.41734220815977296,
          0.24556258600664405,
          0.017742867157311413,
          -1.5985167248499585,
          1.2532214047126464,
          -0.34560195310221564,
          -0.003256887262213433,
          0.864399181773591,
          -0.19466887719859882,
          0.4029941387902117,
          -0.944328208909871,
          -0.4620087900041603,
          -0.4647913898067105,
          0.1587587362540361,
          0.21120057422728178,
          -0.057890611172434346,
          -0.4433505659743959,
          -0.20967111013636133,
          0.20914205542782532,
          -0.6192298140360203,
          0.46284991686941096,
          -0.8248166625165433,
          0.8565326652650699,
          0.6140430049915576,
          -1.6582726643078796,
          0.21862563988414585,
          0.5675088180690252,
          -0.7483627192699406,
          0.36966340581307916,
          1.604633493054844,
          0.14183558519795025,
          -1.7564954635566719,
          0.6244881474385975,
          0.7929647914061375,
          -1.7547418140532096,
          -1.3992320222112322,
          -0.4031411365844132,
          -0.3204258052568336,
          -0.15897666525955037,
          -0.6425556621115427,
          0.06742658115628501,
          -0.892589799196115,
          -0.15996486372219004,
          -0.3427600418159291,
          0.6509333809296532,
          0.6345383504541158,
          0.8946751996308189,
          -1.038051946621135,
          -0.1314829629943421,
          0.6695223662075241,
          -0.3963088955138858,
          -0.04164104656522401,
          0.33274791225740835,
          1.2689967429233113,
          0.6775395125680099,
          -2.1388182821491273,
          -1.1299105959644267,
          -1.2991146582734499,
          -0.34036494810711476,
          1.6052169357853707,
          -0.5450351039272496,
          0.5814058999751053,
          0.7584845827859931,
          -1.011384298944386,
          0.660750720429868,
          0.999083522494063,
          1.1733174757998435,
          -1.0690173432716166,
          0.6434275673982279,
          1.312506137723442,
          0.43418936118762036,
          -0.4453501318108907,
          0.009881503088683281,
          -0.42497899038496123,
          -1.942068008814358,
          -0.17183947817138506,
          -0.6887839098137031,
          -0.005376361417913148,
          1.6187707732079253,
          0.33748554959875654,
          -0.7270687692757055,
          1.1022146265928257,
          -0.6284872647100296,
          -0.256500063940165,
          -0.9357787021337414,
          0.5422329425435333,
          0.16727443000220932,
          -1.4603565119473263,
          0.6048434435220226,
          -1.1445020542924107,
          -0.17957261673917763,
          0.355934631503386,
          -0.8248102199474819,
          0.7515254882317396
         ],
         "xaxis": "x",
         "yaxis": "y"
        }
       ],
       "layout": {
        "barmode": "relative",
        "legend": {
         "title": {
          "text": "variable"
         },
         "tracegroupgap": 0
        },
        "template": {
         "data": {
          "bar": [
           {
            "error_x": {
             "color": "#2a3f5f"
            },
            "error_y": {
             "color": "#2a3f5f"
            },
            "marker": {
             "line": {
              "color": "#E5ECF6",
              "width": 0.5
             },
             "pattern": {
              "fillmode": "overlay",
              "size": 10,
              "solidity": 0.2
             }
            },
            "type": "bar"
           }
          ],
          "barpolar": [
           {
            "marker": {
             "line": {
              "color": "#E5ECF6",
              "width": 0.5
             },
             "pattern": {
              "fillmode": "overlay",
              "size": 10,
              "solidity": 0.2
             }
            },
            "type": "barpolar"
           }
          ],
          "carpet": [
           {
            "aaxis": {
             "endlinecolor": "#2a3f5f",
             "gridcolor": "white",
             "linecolor": "white",
             "minorgridcolor": "white",
             "startlinecolor": "#2a3f5f"
            },
            "baxis": {
             "endlinecolor": "#2a3f5f",
             "gridcolor": "white",
             "linecolor": "white",
             "minorgridcolor": "white",
             "startlinecolor": "#2a3f5f"
            },
            "type": "carpet"
           }
          ],
          "choropleth": [
           {
            "colorbar": {
             "outlinewidth": 0,
             "ticks": ""
            },
            "type": "choropleth"
           }
          ],
          "contour": [
           {
            "colorbar": {
             "outlinewidth": 0,
             "ticks": ""
            },
            "colorscale": [
             [
              0,
              "#0d0887"
             ],
             [
              0.1111111111111111,
              "#46039f"
             ],
             [
              0.2222222222222222,
              "#7201a8"
             ],
             [
              0.3333333333333333,
              "#9c179e"
             ],
             [
              0.4444444444444444,
              "#bd3786"
             ],
             [
              0.5555555555555556,
              "#d8576b"
             ],
             [
              0.6666666666666666,
              "#ed7953"
             ],
             [
              0.7777777777777778,
              "#fb9f3a"
             ],
             [
              0.8888888888888888,
              "#fdca26"
             ],
             [
              1,
              "#f0f921"
             ]
            ],
            "type": "contour"
           }
          ],
          "contourcarpet": [
           {
            "colorbar": {
             "outlinewidth": 0,
             "ticks": ""
            },
            "type": "contourcarpet"
           }
          ],
          "heatmap": [
           {
            "colorbar": {
             "outlinewidth": 0,
             "ticks": ""
            },
            "colorscale": [
             [
              0,
              "#0d0887"
             ],
             [
              0.1111111111111111,
              "#46039f"
             ],
             [
              0.2222222222222222,
              "#7201a8"
             ],
             [
              0.3333333333333333,
              "#9c179e"
             ],
             [
              0.4444444444444444,
              "#bd3786"
             ],
             [
              0.5555555555555556,
              "#d8576b"
             ],
             [
              0.6666666666666666,
              "#ed7953"
             ],
             [
              0.7777777777777778,
              "#fb9f3a"
             ],
             [
              0.8888888888888888,
              "#fdca26"
             ],
             [
              1,
              "#f0f921"
             ]
            ],
            "type": "heatmap"
           }
          ],
          "heatmapgl": [
           {
            "colorbar": {
             "outlinewidth": 0,
             "ticks": ""
            },
            "colorscale": [
             [
              0,
              "#0d0887"
             ],
             [
              0.1111111111111111,
              "#46039f"
             ],
             [
              0.2222222222222222,
              "#7201a8"
             ],
             [
              0.3333333333333333,
              "#9c179e"
             ],
             [
              0.4444444444444444,
              "#bd3786"
             ],
             [
              0.5555555555555556,
              "#d8576b"
             ],
             [
              0.6666666666666666,
              "#ed7953"
             ],
             [
              0.7777777777777778,
              "#fb9f3a"
             ],
             [
              0.8888888888888888,
              "#fdca26"
             ],
             [
              1,
              "#f0f921"
             ]
            ],
            "type": "heatmapgl"
           }
          ],
          "histogram": [
           {
            "marker": {
             "pattern": {
              "fillmode": "overlay",
              "size": 10,
              "solidity": 0.2
             }
            },
            "type": "histogram"
           }
          ],
          "histogram2d": [
           {
            "colorbar": {
             "outlinewidth": 0,
             "ticks": ""
            },
            "colorscale": [
             [
              0,
              "#0d0887"
             ],
             [
              0.1111111111111111,
              "#46039f"
             ],
             [
              0.2222222222222222,
              "#7201a8"
             ],
             [
              0.3333333333333333,
              "#9c179e"
             ],
             [
              0.4444444444444444,
              "#bd3786"
             ],
             [
              0.5555555555555556,
              "#d8576b"
             ],
             [
              0.6666666666666666,
              "#ed7953"
             ],
             [
              0.7777777777777778,
              "#fb9f3a"
             ],
             [
              0.8888888888888888,
              "#fdca26"
             ],
             [
              1,
              "#f0f921"
             ]
            ],
            "type": "histogram2d"
           }
          ],
          "histogram2dcontour": [
           {
            "colorbar": {
             "outlinewidth": 0,
             "ticks": ""
            },
            "colorscale": [
             [
              0,
              "#0d0887"
             ],
             [
              0.1111111111111111,
              "#46039f"
             ],
             [
              0.2222222222222222,
              "#7201a8"
             ],
             [
              0.3333333333333333,
              "#9c179e"
             ],
             [
              0.4444444444444444,
              "#bd3786"
             ],
             [
              0.5555555555555556,
              "#d8576b"
             ],
             [
              0.6666666666666666,
              "#ed7953"
             ],
             [
              0.7777777777777778,
              "#fb9f3a"
             ],
             [
              0.8888888888888888,
              "#fdca26"
             ],
             [
              1,
              "#f0f921"
             ]
            ],
            "type": "histogram2dcontour"
           }
          ],
          "mesh3d": [
           {
            "colorbar": {
             "outlinewidth": 0,
             "ticks": ""
            },
            "type": "mesh3d"
           }
          ],
          "parcoords": [
           {
            "line": {
             "colorbar": {
              "outlinewidth": 0,
              "ticks": ""
             }
            },
            "type": "parcoords"
           }
          ],
          "pie": [
           {
            "automargin": true,
            "type": "pie"
           }
          ],
          "scatter": [
           {
            "fillpattern": {
             "fillmode": "overlay",
             "size": 10,
             "solidity": 0.2
            },
            "type": "scatter"
           }
          ],
          "scatter3d": [
           {
            "line": {
             "colorbar": {
              "outlinewidth": 0,
              "ticks": ""
             }
            },
            "marker": {
             "colorbar": {
              "outlinewidth": 0,
              "ticks": ""
             }
            },
            "type": "scatter3d"
           }
          ],
          "scattercarpet": [
           {
            "marker": {
             "colorbar": {
              "outlinewidth": 0,
              "ticks": ""
             }
            },
            "type": "scattercarpet"
           }
          ],
          "scattergeo": [
           {
            "marker": {
             "colorbar": {
              "outlinewidth": 0,
              "ticks": ""
             }
            },
            "type": "scattergeo"
           }
          ],
          "scattergl": [
           {
            "marker": {
             "colorbar": {
              "outlinewidth": 0,
              "ticks": ""
             }
            },
            "type": "scattergl"
           }
          ],
          "scattermapbox": [
           {
            "marker": {
             "colorbar": {
              "outlinewidth": 0,
              "ticks": ""
             }
            },
            "type": "scattermapbox"
           }
          ],
          "scatterpolar": [
           {
            "marker": {
             "colorbar": {
              "outlinewidth": 0,
              "ticks": ""
             }
            },
            "type": "scatterpolar"
           }
          ],
          "scatterpolargl": [
           {
            "marker": {
             "colorbar": {
              "outlinewidth": 0,
              "ticks": ""
             }
            },
            "type": "scatterpolargl"
           }
          ],
          "scatterternary": [
           {
            "marker": {
             "colorbar": {
              "outlinewidth": 0,
              "ticks": ""
             }
            },
            "type": "scatterternary"
           }
          ],
          "surface": [
           {
            "colorbar": {
             "outlinewidth": 0,
             "ticks": ""
            },
            "colorscale": [
             [
              0,
              "#0d0887"
             ],
             [
              0.1111111111111111,
              "#46039f"
             ],
             [
              0.2222222222222222,
              "#7201a8"
             ],
             [
              0.3333333333333333,
              "#9c179e"
             ],
             [
              0.4444444444444444,
              "#bd3786"
             ],
             [
              0.5555555555555556,
              "#d8576b"
             ],
             [
              0.6666666666666666,
              "#ed7953"
             ],
             [
              0.7777777777777778,
              "#fb9f3a"
             ],
             [
              0.8888888888888888,
              "#fdca26"
             ],
             [
              1,
              "#f0f921"
             ]
            ],
            "type": "surface"
           }
          ],
          "table": [
           {
            "cells": {
             "fill": {
              "color": "#EBF0F8"
             },
             "line": {
              "color": "white"
             }
            },
            "header": {
             "fill": {
              "color": "#C8D4E3"
             },
             "line": {
              "color": "white"
             }
            },
            "type": "table"
           }
          ]
         },
         "layout": {
          "annotationdefaults": {
           "arrowcolor": "#2a3f5f",
           "arrowhead": 0,
           "arrowwidth": 1
          },
          "autotypenumbers": "strict",
          "coloraxis": {
           "colorbar": {
            "outlinewidth": 0,
            "ticks": ""
           }
          },
          "colorscale": {
           "diverging": [
            [
             0,
             "#8e0152"
            ],
            [
             0.1,
             "#c51b7d"
            ],
            [
             0.2,
             "#de77ae"
            ],
            [
             0.3,
             "#f1b6da"
            ],
            [
             0.4,
             "#fde0ef"
            ],
            [
             0.5,
             "#f7f7f7"
            ],
            [
             0.6,
             "#e6f5d0"
            ],
            [
             0.7,
             "#b8e186"
            ],
            [
             0.8,
             "#7fbc41"
            ],
            [
             0.9,
             "#4d9221"
            ],
            [
             1,
             "#276419"
            ]
           ],
           "sequential": [
            [
             0,
             "#0d0887"
            ],
            [
             0.1111111111111111,
             "#46039f"
            ],
            [
             0.2222222222222222,
             "#7201a8"
            ],
            [
             0.3333333333333333,
             "#9c179e"
            ],
            [
             0.4444444444444444,
             "#bd3786"
            ],
            [
             0.5555555555555556,
             "#d8576b"
            ],
            [
             0.6666666666666666,
             "#ed7953"
            ],
            [
             0.7777777777777778,
             "#fb9f3a"
            ],
            [
             0.8888888888888888,
             "#fdca26"
            ],
            [
             1,
             "#f0f921"
            ]
           ],
           "sequentialminus": [
            [
             0,
             "#0d0887"
            ],
            [
             0.1111111111111111,
             "#46039f"
            ],
            [
             0.2222222222222222,
             "#7201a8"
            ],
            [
             0.3333333333333333,
             "#9c179e"
            ],
            [
             0.4444444444444444,
             "#bd3786"
            ],
            [
             0.5555555555555556,
             "#d8576b"
            ],
            [
             0.6666666666666666,
             "#ed7953"
            ],
            [
             0.7777777777777778,
             "#fb9f3a"
            ],
            [
             0.8888888888888888,
             "#fdca26"
            ],
            [
             1,
             "#f0f921"
            ]
           ]
          },
          "colorway": [
           "#636efa",
           "#EF553B",
           "#00cc96",
           "#ab63fa",
           "#FFA15A",
           "#19d3f3",
           "#FF6692",
           "#B6E880",
           "#FF97FF",
           "#FECB52"
          ],
          "font": {
           "color": "#2a3f5f"
          },
          "geo": {
           "bgcolor": "white",
           "lakecolor": "white",
           "landcolor": "#E5ECF6",
           "showlakes": true,
           "showland": true,
           "subunitcolor": "white"
          },
          "hoverlabel": {
           "align": "left"
          },
          "hovermode": "closest",
          "mapbox": {
           "style": "light"
          },
          "paper_bgcolor": "white",
          "plot_bgcolor": "#E5ECF6",
          "polar": {
           "angularaxis": {
            "gridcolor": "white",
            "linecolor": "white",
            "ticks": ""
           },
           "bgcolor": "#E5ECF6",
           "radialaxis": {
            "gridcolor": "white",
            "linecolor": "white",
            "ticks": ""
           }
          },
          "scene": {
           "xaxis": {
            "backgroundcolor": "#E5ECF6",
            "gridcolor": "white",
            "gridwidth": 2,
            "linecolor": "white",
            "showbackground": true,
            "ticks": "",
            "zerolinecolor": "white"
           },
           "yaxis": {
            "backgroundcolor": "#E5ECF6",
            "gridcolor": "white",
            "gridwidth": 2,
            "linecolor": "white",
            "showbackground": true,
            "ticks": "",
            "zerolinecolor": "white"
           },
           "zaxis": {
            "backgroundcolor": "#E5ECF6",
            "gridcolor": "white",
            "gridwidth": 2,
            "linecolor": "white",
            "showbackground": true,
            "ticks": "",
            "zerolinecolor": "white"
           }
          },
          "shapedefaults": {
           "line": {
            "color": "#2a3f5f"
           }
          },
          "ternary": {
           "aaxis": {
            "gridcolor": "white",
            "linecolor": "white",
            "ticks": ""
           },
           "baxis": {
            "gridcolor": "white",
            "linecolor": "white",
            "ticks": ""
           },
           "bgcolor": "#E5ECF6",
           "caxis": {
            "gridcolor": "white",
            "linecolor": "white",
            "ticks": ""
           }
          },
          "title": {
           "x": 0.05
          },
          "xaxis": {
           "automargin": true,
           "gridcolor": "white",
           "linecolor": "white",
           "ticks": "",
           "title": {
            "standoff": 15
           },
           "zerolinecolor": "white",
           "zerolinewidth": 2
          },
          "yaxis": {
           "automargin": true,
           "gridcolor": "white",
           "linecolor": "white",
           "ticks": "",
           "title": {
            "standoff": 15
           },
           "zerolinecolor": "white",
           "zerolinewidth": 2
          }
         }
        },
        "title": {
         "text": "Histogram of x"
        },
        "xaxis": {
         "anchor": "y",
         "domain": [
          0,
          1
         ],
         "title": {
          "text": "value"
         }
        },
        "yaxis": {
         "anchor": "x",
         "domain": [
          0,
          1
         ],
         "title": {
          "text": "count"
         }
        }
       }
      }
     },
     "metadata": {},
     "output_type": "display_data"
    }
   ],
   "source": [
    "pitch_data.show_x_location_hist()"
   ]
  },
  {
   "cell_type": "code",
   "execution_count": 29,
   "metadata": {},
   "outputs": [
    {
     "data": {
      "application/vnd.plotly.v1+json": {
       "config": {
        "plotlyServerURL": "https://plot.ly"
       },
       "data": [
        {
         "alignmentgroup": "True",
         "bingroup": "x",
         "hovertemplate": "variable=y<br>value=%{x}<br>count=%{y}<extra></extra>",
         "legendgroup": "y",
         "marker": {
          "color": "#636efa",
          "pattern": {
           "shape": ""
          }
         },
         "name": "y",
         "offsetgroup": "y",
         "orientation": "v",
         "showlegend": true,
         "type": "histogram",
         "x": [
          -0.4379311331341668,
          0.9471258557166484,
          1.0034324676189792,
          -0.16713349601032162,
          0.4664932644487519,
          0.4508753133379252,
          -1.4789050757057551,
          0.68488933182865,
          -1.6950393471412712,
          -0.8788574944074865,
          -0.23715289774746948,
          -0.150358957002533,
          -0.8410948027435613,
          -0.1115539629871497,
          0.27076832936620676,
          1.240623505451085,
          0.37309951604321767,
          -0.8489879861405666,
          1.2321901479169983,
          -1.164000670132767,
          0.8867906703425005,
          0.15788304841449982,
          -0.16984198022229144,
          0.5851894421727605,
          -0.8613182784320328,
          -0.02198700340038855,
          -0.3095549729743238,
          -0.268283851182561,
          -0.9245563702807467,
          1.0791230321882814,
          -0.16243892369474583,
          1.3618931303490227,
          0.646545874007641,
          0.19356975035039922,
          -0.503968099319885,
          1.4062901086699777,
          0.9592201386945355,
          -0.2747829645806902,
          -0.4811291564386419,
          -0.7496746736037705,
          0.29568783798162734,
          0.2515423811315096,
          0.38165590065090027,
          -1.0900324103525316,
          0.18620729994852422,
          -1.8966132073990973,
          -1.4836435200852043,
          0.13067561229213515,
          -1.5092450233013845,
          0.13853330452888976,
          0.5961588774341838,
          -0.768826526995555,
          -0.16607398188438824,
          0.8886062710851271,
          0.2387740553807937,
          -1.0467203424889902,
          -1.0572222976150885,
          -1.4603826158843136,
          -0.278062691420778,
          1.0127167329716709,
          -0.766438366112105,
          0.7342929840248407,
          1.2743838386237254,
          0.013188070209019959,
          -1.071540329495781,
          1.3984618373006852,
          -0.5839944797396346,
          0.9777356826946396,
          0.3785926062620452,
          -1.6849537833993167,
          0.046808991278718765,
          -0.1087855463325057,
          -1.0576845319434014,
          0.11662663549766782,
          -0.8899908144675783,
          1.8143790521920848,
          -0.06868339723868201,
          0.4459707114685968,
          -0.8196393905060021,
          1.0163686926874425,
          0.8242736492691752,
          -0.3214873517683388,
          -0.19211851026438972,
          0.8570411856952341,
          1.9637666933388653,
          0.6541074831384996,
          0.4831704287882673,
          0.23837945992951062,
          -0.7729346020065577,
          -0.6556337805163192,
          -1.0390068964503656,
          1.1053750559675575,
          -0.700647130797213,
          1.3724567770938843,
          -0.6332826373891941,
          0.14622695097408503,
          -0.8176836791353175,
          0.8517480305361947,
          -1.8693559266273887,
          -0.16166992591003895,
          -0.4298979786768736,
          -2.3325041377261084,
          0.4954928172064452,
          0.06249050881811285,
          0.26465220056654826,
          0.15366428834839807,
          -1.553374283463935,
          -1.3634285437392235,
          1.2041485622711199,
          -1.2794280792630817,
          1.2077550241777628,
          0.03786589744057721,
          -0.20712274597765357,
          -1.2294033864453207,
          0.9654791279369246,
          0.07695723367793672,
          -1.1931391531986986,
          0.176008240577174,
          0.7791888650175861,
          0.26141533502249403,
          0.30116385952073726,
          -0.3054293118090967,
          1.554591048846686,
          1.1792820769630337,
          -1.2698505349974225,
          0.009556024922402106,
          0.03790319065809061,
          0.6809540623857222,
          1.3852581996065267,
          0.4785284285716481,
          2.416478628348845,
          1.3845244647589816,
          -1.351209478834622,
          0.6466253022271865,
          0.40498505905974375,
          -1.5385404965609224,
          -0.509669187639808,
          -0.345399072780532,
          -0.3115717542992671,
          0.17418272251782105,
          -1.1753209349467562,
          -0.29416507618621546,
          -0.22942933014110348,
          0.749937508078303,
          -0.05868413048759393,
          0.1607318554446208,
          0.8314105696075849,
          -0.06762444183790207,
          -0.46512752852763917,
          1.6670944676552977,
          0.24614935914752656,
          -0.2601908030855162,
          -0.17547792024751122,
          0.8735675313558043,
          0.6205940756185169,
          1.0470769402812417,
          -1.0571629230095463,
          -0.1056312383093908,
          0.3037873872383617,
          -0.8622098594817911,
          0.5733773373054879,
          0.9145839838458472,
          1.1498232998232505,
          -0.15219702122643142,
          -0.1649840288486422,
          -0.7009544011324498,
          -0.2104609906928676,
          1.8134083654430528,
          -0.5626147845618223,
          0.021879056439018284,
          -0.15776792766576545,
          -0.4069122308558083,
          -0.8121661165091388,
          -0.20254356376654784,
          -0.4495528587993973,
          1.9568925873824483,
          0.597768866823616,
          -0.2910497501877516,
          -1.59831431548547,
          -0.026620288277312824,
          -0.3314629126089829,
          -0.9367900049066319,
          0.6184780835623235,
          0.12609716536552878,
          0.24228617048321044,
          0.3207503017653066,
          -0.47310152653318116,
          -1.2280055873707614,
          0.4520171144416911,
          0.8587198662226693,
          1.044008127768921,
          0.7562072331190127,
          -1.5203937213900058,
          0.08637931453430234,
          -0.5113364903943979,
          0.01699819555585983,
          -1.2125852425424855,
          1.3463175213963026,
          -0.6363522470683484,
          0.8603467427381791,
          0.7329675815330133,
          0.2417582577391721,
          0.6332346823977824,
          0.8170304903214776,
          -0.36189486350343647,
          -0.6521954245782527,
          -1.2198206973901782,
          -1.116324107253709,
          -0.08830095856115946,
          -0.20366202601296599,
          0.3494752933531183,
          -1.1485808596585358,
          -0.48724120538685983,
          0.9308375374167043,
          -0.9501795879689183,
          -0.33803252678794277,
          -0.199736653012178,
          0.07847075797658641,
          -1.7124600595403794,
          -1.020198407505219,
          -0.2960774828453248,
          -0.5326082502508805,
          1.1948594490974926,
          -1.0655151406498882,
          -0.6137892048958343,
          0.6467394779671983,
          1.0821933036517615,
          -0.22874724801611312,
          -0.574704249051664,
          1.0047244905315773,
          0.3644589918017585,
          0.009820044350127982,
          -0.40842429453718265,
          0.4271551299602524,
          0.8836718707940265,
          0.2329791383757191,
          -1.397525440955111,
          -0.2910996500256205,
          0.11040544331509435,
          0.5880736233841164,
          -0.24912842645572336,
          0.8337571397601173,
          -0.6122304242808875,
          0.7625664269264834,
          -0.2518017337020018,
          -1.3604946615237852,
          -0.011141627601514242,
          -0.38590635057815237,
          -1.1287911321294288,
          -1.5333039314229722,
          -0.8937130476205541,
          1.7519563578086026,
          0.4859833193959149,
          0.07305658503761342,
          -1.10103922360717,
          -2.2022202036925016,
          0.05479326075852181,
          -0.35835228124744767,
          0.29033172152036424,
          1.3350154879630556,
          0.0432932447337088,
          -0.13622820991934637,
          0.221749484813333,
          0.5632325601815744,
          -0.23292795676120454,
          0.2714584784695161,
          -0.8061537169032158,
          -0.02534186438101423,
          0.684647726852711,
          0.7300738579511957,
          -1.1314104126446514,
          -0.12485890139598961,
          0.0257920435784848,
          1.5127541953774832,
          1.397073298806294,
          -0.6059588598089852,
          -0.38082074401485444,
          1.7469161100408914,
          -0.45950233704260235,
          0.009249120058991934,
          -0.554091049243368,
          0.17955859821856748,
          -1.9690227600274335,
          0.33779580528461034,
          -1.0468812827404084,
          -0.15226036356742523,
          -0.8003435574860679,
          -2.9931099740422193,
          0.2066012402231412,
          -0.5594849863435605,
          1.3631877999188016,
          -1.7262760417765228,
          -0.9909472825675242,
          -0.225949550940367,
          -1.3209553217522285,
          -1.097186486120767,
          -0.45920099516795243,
          -0.3094090864348742,
          0.4044471595347076,
          1.5950837352448204,
          -0.24156434442010782,
          -0.36078414884227705,
          0.17752621840953922,
          -0.3847979400630593,
          0.3109651849325746,
          -0.523501880077502,
          0.2811962565651615,
          0.7672774322352433,
          0.4310291015450636,
          0.30690550430618196,
          -0.036162117723171905,
          0.5963408247739665,
          0.10351254182880036,
          -0.9243669182480483,
          0.19965846078836708,
          -0.6228658343345512,
          1.5240048047838246,
          0.13190557844929263,
          -1.1634560699533714,
          0.4971162870284545,
          -0.8714476482894663,
          -0.4386302067014922,
          -0.28158753286463006,
          -0.032090246441924215,
          0.609526931673535,
          0.33494847998767574,
          0.1641611424557318,
          -2.046522282081165,
          -0.8276046363279138,
          0.6436507118621606,
          -0.3630701095794768,
          1.0170635384966542,
          -0.1700869891526884,
          0.24584505159611014,
          -2.1403046428318597,
          -1.9007050190533803,
          1.8343246795480743,
          -1.5717711405455388,
          -1.2753164001139172,
          1.9982767697163406,
          -0.25055640555838565,
          0.6463990500384632,
          -0.15129162123649936,
          1.135786137408195,
          0.9196696821434547,
          -0.6543891333406556,
          -0.8652323337466158,
          1.4411730441350765,
          -1.0304407485114697,
          1.0472043447640635,
          0.47835443896826607,
          -1.4702974752376616,
          1.3714511716332731,
          -0.012391560418061982,
          0.9165547359486681,
          0.6717653932496295,
          0.3251833030742654,
          0.31332759043086605,
          -2.339721148802611,
          -0.42165167523147584,
          -0.515696048677187,
          -0.03205306262297562,
          0.8115843397150226,
          -2.1740255320891437,
          0.04784210044557055,
          -0.22302378961671823,
          -1.735428204537234,
          -0.13908013943549488,
          -2.2155084654618533,
          -0.7663333810740287,
          0.027307354184155218,
          0.03568748522686055,
          -0.33037350918838443,
          -0.32274439415462114,
          -0.19647422312288748,
          -0.8797978060806302,
          0.4087044476688823,
          0.18992627926054303,
          1.6372916207655996,
          0.04123401405620531,
          -0.5880524687688464,
          0.4079904228473011,
          1.9732842516626574,
          0.1617831985636541,
          1.1475157271770842,
          -0.28998459222377326,
          0.0018780203736848522,
          0.05364497300441372,
          0.3277569971972788,
          0.23056648488557735,
          0.953300957476169,
          1.002617393722775,
          1.2098892724138992,
          0.01166538945922939,
          -1.401166804857692,
          -0.18710232425854173,
          -0.5712510883983836,
          -0.5334949712931297,
          -0.15908976498660715,
          -1.1969873748050575,
          -0.7691855676753632,
          -0.01350688704570818,
          0.13825269192330725,
          -0.3013568743637501,
          -0.054876637079922505,
          -0.805717236227117,
          -0.4068410940481281,
          0.41729209113920696,
          0.8469600261685607,
          -1.0406006402767887,
          -1.0494605009606859,
          0.9891293820974909,
          -0.26791937731129906,
          0.6079192818684084,
          1.1663604164704355,
          -1.482562664644957,
          0.4913266074215086,
          0.5975662002109737,
          0.0777139651282302,
          -0.6673031890272861,
          0.17667506898521,
          1.2135291028896875,
          0.5746298347239548,
          -0.34972170317966433,
          0.8212472652632513,
          -1.3236910342314092,
          -0.48785745839178335,
          -2.1305686651582136,
          -0.3669396949310521,
          0.37767868814745725,
          1.9583391523402245,
          1.4099399087744784,
          0.288942649617099,
          -0.46257698030388683,
          0.17307134782622094,
          1.714174744389389,
          0.32046106955600606,
          -0.48096125176295096,
          0.9637665741804239,
          2.211732042453258,
          0.2660196061973197,
          1.9193499598575503,
          -1.9798845535150955,
          -0.6693246630978527,
          1.8104541211736453,
          0.5372733110894757,
          1.3667899647622956,
          -0.8227345437911933,
          -0.13491761933094198,
          0.5484763602101569,
          -0.40860754264920596,
          -0.6451873139073588,
          -0.2561418592947245,
          0.5606984798383408,
          0.3167566769800367,
          0.15328776818319223,
          -1.3478709918435146,
          0.4044153020905963,
          0.27364892795638746,
          -1.3562582964990013,
          1.6311386954834215,
          -0.7456846555806181,
          0.9262364314054211,
          1.0395773036905502,
          0.8400114593476524,
          -1.0364519542219974,
          0.818588180627487,
          1.4080918639101963,
          -0.22100189196470235,
          -0.26358793435695216,
          -1.0742626639310782,
          0.5814756921623643,
          1.1514068038537206,
          -0.39221977271850705,
          1.0316391956079052,
          0.8058272837917482,
          -0.7404801856753219,
          0.2071418629616073,
          0.3604181817804498,
          0.3828373255831944,
          0.23118420534220632,
          -0.05532603245696757,
          0.307270991124953,
          -1.553773498755045,
          0.14866001530242196,
          0.10631633337907885,
          -0.08179097595553271,
          0.6910031684736253,
          0.44892016180866223,
          0.5586005558919594,
          -1.5453669081937689,
          0.18321323237740583,
          0.39285307142371456,
          -0.518659477831105,
          -0.5561326253128897,
          0.8941327828393678,
          0.1538085905000576,
          0.9094395307316654,
          0.9038402279465941,
          0.05359563143504553,
          1.7670521982544494,
          -1.19637460008996,
          -0.5257679993108673,
          0.5320204727409328,
          0.6109451072438156,
          0.586100469503047,
          0.8566853701313684,
          -0.3855213654678739,
          0.4735117466687333,
          -0.2199309870958631,
          -0.3792486416698088,
          0.014241065765342696,
          0.6056415505577467,
          0.2963891811556066,
          -0.37737747596720744,
          0.475854264636293,
          0.01729743939754717,
          -0.45830599460536553,
          -1.9519480302012142,
          -0.15449670893220765,
          0.15644252764104286,
          0.1183555959229717,
          -0.9920274608314196,
          0.08073188908501062,
          -0.032345364586952585,
          0.3613662578585825,
          0.10264417686177585,
          0.15105870581521458,
          0.6154533493647005,
          0.4698850030597388,
          0.4380200198351676,
          0.12620825502916017,
          -0.1466934990216525,
          2.6128958591340425,
          -0.7067106818419829,
          -1.0656910288970927,
          -1.5681807893528792,
          -0.6640799239140979,
          -1.2962425366746138,
          1.294250245444106,
          0.48030328174439685,
          1.6447915817578715,
          -1.999646743869881,
          0.8978683857731161,
          -0.015604258391579862,
          -0.9842341626646368,
          1.357031423972149,
          -1.2183411785072014,
          -0.20173371779577243,
          1.186581663407696,
          -0.9251583329491431,
          -1.017695205494995,
          0.04130960060288944,
          1.334566936534588,
          0.638772686468955,
          -0.6976148051824378,
          0.03821302907586881,
          -1.6762060508267391,
          0.7354384799333621,
          -0.6498463412533345,
          0.3693229126045568,
          0.07548192553937395,
          -1.1491327395752855,
          -0.14897264211289185,
          0.7003030266898084,
          -0.3501487656588815,
          -0.7094736401036534,
          0.053418005392511236,
          0.22675153646762902,
          0.625683834962296,
          1.0145928530742443,
          0.6688948041632116,
          1.2062506380412954,
          -0.5298980292785969,
          -1.4559915472279654,
          2.014024381726225,
          1.5210707353979755,
          0.5221389086791834,
          0.3713724481030625,
          0.6628044351127723,
          -0.5727448770171929,
          0.7113462300993172,
          -1.378325574863201,
          0.6556973575054249,
          -0.6751413975033927,
          -0.614865454601522,
          -0.016260132649958153,
          0.8483729515914308,
          -0.3062808218751579,
          0.9017848443247045,
          -0.41675559447519966,
          -0.6288902702614685,
          -0.7475331056112348,
          -1.3276196794277615,
          -0.8108451260078015,
          0.30334137985662246,
          -0.3528220128155388,
          -0.571124494593681,
          0.13502170654098716,
          -0.7002278229238198,
          1.1759747860118814,
          1.259173179984815,
          -0.9174057370926605,
          -0.6211055973945719,
          0.9909914290021644,
          1.1574954817487146,
          1.4954201187942235,
          -0.5804588533913525,
          1.2357212940976618,
          -0.08744703304026762,
          0.8570218338156449,
          -0.5504436573047006,
          -0.8931753716474851,
          -0.5179727134629857,
          -0.4671382954278718,
          -0.4684931581272689,
          -0.6661782338767294,
          -0.5582207258356259,
          -1.2174133246042886,
          0.6136375095646857,
          0.3108914839708772,
          0.9874792636482788,
          0.7775621735741053,
          -0.6071767939102907,
          0.38949620831012755,
          -0.7647083849242988,
          1.233133200993562,
          1.8110743500589324,
          -1.3825403004157417,
          0.005920041095402962,
          -1.1636505335348069,
          0.22085764614707848,
          0.7854835750394746,
          -0.4015115562739375,
          1.2320940631968986,
          -1.1533731308504633,
          -1.2680685754242882,
          0.468459333540039,
          -1.7033090783545453,
          0.2842237421480048,
          0.9952130771543665,
          -0.6069240625159402,
          0.5491655746823992,
          -0.6893352726301897,
          -0.5543722484899105,
          0.2924440179906541,
          1.0256705990033694,
          -0.03137545476462024,
          -0.390671539594433,
          1.3887895475769747,
          -0.8800243707118726,
          0.03707414879059884,
          -0.2306472874025583,
          -0.6258603004423613,
          -0.12204064184823539,
          -1.0877667166274831,
          0.9885735070526236,
          0.5437016939725507,
          0.9405073030798198,
          3.0650104272627527,
          0.15200222762861265,
          -0.9100271917557309,
          0.6383429019661355,
          -0.7675822409190269,
          0.8925531582567598,
          0.05587629510978687,
          -1.4283077517334775,
          0.388015362266844,
          -0.28894692186670257,
          -1.4519295974660922,
          0.4056830263740121,
          0.09794234792138373,
          0.7254401159608976,
          0.3525926933239362,
          0.06790740968756709,
          0.801770138663383,
          0.10891416767374332,
          -0.19740904940564952,
          -0.47888124243800645,
          -0.2613119426758741,
          -0.9907093008295629,
          -0.17182278148589877,
          0.29513497820407764,
          -0.2719790361096624,
          -1.0184504072955503,
          -0.9944810286234614,
          -1.1276658294980608,
          -1.547063957716994,
          -2.1338433303988085,
          -0.6480705499372821,
          1.4204667976777587,
          2.281867291062765,
          0.045132963991115195,
          0.6272903032461152,
          -0.18635261864460392,
          1.3057913681766256,
          -0.9340951283620862,
          0.22886870483052468,
          0.7089373667548027,
          -0.3943200695434259,
          1.0471396314120096,
          -0.45044086804796535,
          -0.376529784164266,
          0.4170706910576345,
          -1.0167184670031477,
          -1.6275002136017416,
          -0.13520690577744934,
          -0.007982402337066917,
          0.47745958051159415,
          -0.7303070752574484,
          -0.5531769212324527,
          -0.867178973684259,
          0.3924162941695671,
          0.3049709245387865,
          1.3317107507301762,
          -0.09380727445766533,
          -0.9593938733936582,
          -0.2585707738355331,
          -1.0768354547142585,
          -0.8103263513195105,
          1.6102499410517148,
          -0.09054319950571192,
          1.7198657215681834,
          1.5233719518801274,
          -1.4219132737961846,
          -0.995741187332861,
          -0.4186930774338005,
          -1.0542052093481418,
          -1.1829459954320838,
          -0.8151650480754559,
          -1.0741560995751485,
          1.1913575095853153,
          -0.3876344733780871,
          -1.3354010282079367,
          -0.30951120897730794,
          0.426048191232273,
          -1.0167057260378332,
          0.49013961301592945,
          0.1950738055981398,
          -0.26016914358873217,
          -0.14374169958298397,
          -2.178169970103951,
          1.013913714537222,
          -0.2949278239842925,
          0.10854761876222604,
          -0.36513621932203094,
          0.3389165704710153,
          -1.7984097759205149,
          1.0712550240826035,
          -0.7235964774013514,
          0.13014939011086216,
          -1.4325664767501984,
          1.2216218914651404,
          -0.2988599783018691,
          -1.2404809019078604,
          -0.8437698650314504,
          0.7632720636329745,
          -0.38997696619830857,
          -0.2714393348956837,
          0.49899825291304906,
          -0.8653963482038732,
          -0.928499627746831,
          -1.079770895628213,
          1.7144270369995038,
          -0.15064019641233703,
          -0.5134274213574673,
          -0.4564636344529738,
          -0.14764484206478884,
          0.5903398623096346,
          1.1126374552108749,
          -0.49894426459158214,
          -0.5011659774632877,
          0.6928319458834934,
          -1.7951687524797715,
          1.2932792853840944,
          -0.40479559008428817,
          -0.6319160554536156,
          0.11715630369065841,
          0.13437188553126195,
          -0.8026180919703971,
          0.08076567237340443,
          -1.6979918618034144,
          -0.6448184980215191,
          0.9501142158249427,
          -0.7483001659208229,
          0.7951875826847496,
          0.4581683904505766,
          0.06997175004004723,
          1.637374951451184,
          1.1195946599828972,
          -1.3052338063332871,
          0.083907912193056,
          -1.5652159844016265,
          -0.40581231955271085,
          -0.8908653186062088,
          -1.8051414380333355,
          0.5939534812998826,
          0.2494524487856948,
          0.05781511069589033,
          -0.022976032164831947,
          -0.10765716505882528,
          -0.5438927252233641,
          -1.1000593202375937,
          -0.5761088005862247,
          -1.5564321230278189,
          -0.12073544305047308,
          -0.675080979829309,
          0.05969813033357736,
          0.07100118712085238,
          -0.24259479193874658,
          -0.08725952322047036,
          -0.6723168923699513,
          -1.7210110707039628,
          0.24837357651501538,
          0.8906597383916488,
          -0.2985274798517321,
          -0.2497059524573901,
          -0.4268300583236545,
          1.3977787077675048,
          0.18967013277488123,
          0.2781673348451508,
          2.008626692431537,
          -1.4582530124453261,
          -0.052811484830953416,
          1.018816153555699,
          -1.4946908293770957,
          -0.17791243263779483,
          -0.21487493013352357,
          -1.1154802155267483,
          -1.0864656770210421,
          1.8715058729313956,
          -2.3454322868519646,
          -1.3442613924440698,
          1.2789428841907022,
          -0.622976032512834,
          0.43191844776901334,
          -1.0469671069334532,
          -0.09087601788815106,
          -0.24525921382254695,
          -0.12751826728436938,
          -0.19710422190515112,
          0.21786569707231332,
          -0.5318386241147701,
          -0.619137248683806,
          -0.9841739642476491,
          -0.04366556656524984,
          -1.1686811886894808,
          -1.1442247246275277,
          -0.02464100244878945,
          -1.1470802512688094,
          2.373099255257339,
          0.9344854522581401,
          -0.6013846189818123,
          0.6269821797949657,
          1.5280711779578835,
          0.6157493072939183,
          0.010318197690792065,
          -0.6341778253465452,
          0.17547786988523956,
          0.0819509704240117,
          -0.4100888891309946,
          -0.48746254833514374,
          -0.5565498997515461,
          1.378445718726155,
          -0.8215414969837758,
          0.0648373690148418,
          -1.269220025408297,
          0.34865067317202303,
          -0.2115233449538978,
          0.2741847017089709,
          0.9368286685279439,
          0.15853425595331813,
          0.7474617913212795,
          0.5884907635107974,
          -0.37055928161472107,
          1.7569463113103132,
          -0.30195040731472433,
          2.291543073379089,
          -0.3231307033619164,
          -0.08390168452178794,
          1.2059001911880234,
          0.3278961907906771,
          -1.0186878209362027,
          0.7697231796366837,
          -2.3498271537612263,
          0.6340195816309347,
          -0.5681358322763258,
          -0.486106494356002,
          0.539149972772829,
          -0.20847481670079618,
          1.3730523013187175,
          0.4018213936737247,
          -0.8568182718914439,
          -0.8654527416284514,
          1.6223976991016857,
          0.3331431829354263,
          0.9766041994062549,
          -0.3573549571204486,
          0.1518203034506923,
          0.11449083812167539,
          -0.9253260900061655,
          0.9357719191690077,
          -1.5599436723492903,
          1.6288707932058197,
          0.3817244786796671,
          -0.5604627253121568,
          0.37952635040809657,
          -0.570959253470165,
          0.4157257013714289,
          -0.9454044950928784,
          -0.6196448874236333,
          0.7525502470466332,
          0.2830086509619925,
          0.22797676600431518,
          -1.8372811430471376,
          -0.7500803056145324,
          -0.9060737201206953,
          -0.2003316574006289,
          -0.7966734588285362,
          0.07144757594443824,
          0.07694514066531315,
          -0.17877913428553807,
          0.7388007755225953,
          0.15853542595249598,
          -0.9425000125436988,
          1.1289022310205488,
          0.15398165645697795,
          -1.0602409129233803,
          -0.47990012997148696,
          -0.8887771805989299,
          1.0641728885488353,
          -0.8202434969460689,
          0.02540919594359612,
          -1.346409585244959,
          -1.0606755950150402,
          0.03195131341838385,
          -1.2121976973618982,
          -0.17574695213767363,
          -0.6936634844926505,
          0.2640016221188946,
          0.6645082264896135,
          0.15787110190392598,
          -0.13124241009799092,
          -2.1834433911515525,
          -1.3447203070475398,
          0.6627584826953175,
          1.7773088120405902,
          1.8643456857469622,
          0.01707232402285675,
          -0.5508468937170851,
          1.0115428964162476,
          -0.6350476423349212,
          1.224646221044783,
          0.509973207742667,
          -0.9478342732534352,
          0.25167165827179494,
          3.576320186182812,
          -0.330414698949393,
          -1.1740685774322157,
          -0.5254158677948545,
          0.1880540026571725,
          0.7752440368277849,
          0.6031658812598799,
          0.7334662182423248,
          0.4272722988287671,
          0.8885984962433793,
          -0.43653509039019145,
          -0.5918666462019453,
          -0.7056582092435242,
          1.243051244223383,
          0.8941180389314931,
          -1.2070650362316828,
          1.215025945345764,
          1.6001912806220007,
          -0.1547229413450875,
          0.5541245807702645,
          -0.2329708780478617,
          -0.13645213130945363,
          -0.41528430282692286,
          -0.46970495791907885,
          -1.766081419711794,
          1.1942091431975004,
          0.7227334359142964,
          0.23451061977875426,
          -1.4228746469158724,
          -0.6678334712082574,
          -0.15056353278522908,
          0.35680253125168,
          -0.5870211415785144,
          -0.05378029150544089,
          -0.039766398933488614,
          -0.6857812184947507,
          -0.4936748776577445,
          -0.08598198473982956,
          0.08363379474417681,
          0.7690417389943454,
          1.1039922519245957,
          -0.6252895012439883,
          -0.1782810452343958,
          0.8424944603903814
         ],
         "xaxis": "x",
         "yaxis": "y"
        }
       ],
       "layout": {
        "barmode": "relative",
        "legend": {
         "title": {
          "text": "variable"
         },
         "tracegroupgap": 0
        },
        "template": {
         "data": {
          "bar": [
           {
            "error_x": {
             "color": "#2a3f5f"
            },
            "error_y": {
             "color": "#2a3f5f"
            },
            "marker": {
             "line": {
              "color": "#E5ECF6",
              "width": 0.5
             },
             "pattern": {
              "fillmode": "overlay",
              "size": 10,
              "solidity": 0.2
             }
            },
            "type": "bar"
           }
          ],
          "barpolar": [
           {
            "marker": {
             "line": {
              "color": "#E5ECF6",
              "width": 0.5
             },
             "pattern": {
              "fillmode": "overlay",
              "size": 10,
              "solidity": 0.2
             }
            },
            "type": "barpolar"
           }
          ],
          "carpet": [
           {
            "aaxis": {
             "endlinecolor": "#2a3f5f",
             "gridcolor": "white",
             "linecolor": "white",
             "minorgridcolor": "white",
             "startlinecolor": "#2a3f5f"
            },
            "baxis": {
             "endlinecolor": "#2a3f5f",
             "gridcolor": "white",
             "linecolor": "white",
             "minorgridcolor": "white",
             "startlinecolor": "#2a3f5f"
            },
            "type": "carpet"
           }
          ],
          "choropleth": [
           {
            "colorbar": {
             "outlinewidth": 0,
             "ticks": ""
            },
            "type": "choropleth"
           }
          ],
          "contour": [
           {
            "colorbar": {
             "outlinewidth": 0,
             "ticks": ""
            },
            "colorscale": [
             [
              0,
              "#0d0887"
             ],
             [
              0.1111111111111111,
              "#46039f"
             ],
             [
              0.2222222222222222,
              "#7201a8"
             ],
             [
              0.3333333333333333,
              "#9c179e"
             ],
             [
              0.4444444444444444,
              "#bd3786"
             ],
             [
              0.5555555555555556,
              "#d8576b"
             ],
             [
              0.6666666666666666,
              "#ed7953"
             ],
             [
              0.7777777777777778,
              "#fb9f3a"
             ],
             [
              0.8888888888888888,
              "#fdca26"
             ],
             [
              1,
              "#f0f921"
             ]
            ],
            "type": "contour"
           }
          ],
          "contourcarpet": [
           {
            "colorbar": {
             "outlinewidth": 0,
             "ticks": ""
            },
            "type": "contourcarpet"
           }
          ],
          "heatmap": [
           {
            "colorbar": {
             "outlinewidth": 0,
             "ticks": ""
            },
            "colorscale": [
             [
              0,
              "#0d0887"
             ],
             [
              0.1111111111111111,
              "#46039f"
             ],
             [
              0.2222222222222222,
              "#7201a8"
             ],
             [
              0.3333333333333333,
              "#9c179e"
             ],
             [
              0.4444444444444444,
              "#bd3786"
             ],
             [
              0.5555555555555556,
              "#d8576b"
             ],
             [
              0.6666666666666666,
              "#ed7953"
             ],
             [
              0.7777777777777778,
              "#fb9f3a"
             ],
             [
              0.8888888888888888,
              "#fdca26"
             ],
             [
              1,
              "#f0f921"
             ]
            ],
            "type": "heatmap"
           }
          ],
          "heatmapgl": [
           {
            "colorbar": {
             "outlinewidth": 0,
             "ticks": ""
            },
            "colorscale": [
             [
              0,
              "#0d0887"
             ],
             [
              0.1111111111111111,
              "#46039f"
             ],
             [
              0.2222222222222222,
              "#7201a8"
             ],
             [
              0.3333333333333333,
              "#9c179e"
             ],
             [
              0.4444444444444444,
              "#bd3786"
             ],
             [
              0.5555555555555556,
              "#d8576b"
             ],
             [
              0.6666666666666666,
              "#ed7953"
             ],
             [
              0.7777777777777778,
              "#fb9f3a"
             ],
             [
              0.8888888888888888,
              "#fdca26"
             ],
             [
              1,
              "#f0f921"
             ]
            ],
            "type": "heatmapgl"
           }
          ],
          "histogram": [
           {
            "marker": {
             "pattern": {
              "fillmode": "overlay",
              "size": 10,
              "solidity": 0.2
             }
            },
            "type": "histogram"
           }
          ],
          "histogram2d": [
           {
            "colorbar": {
             "outlinewidth": 0,
             "ticks": ""
            },
            "colorscale": [
             [
              0,
              "#0d0887"
             ],
             [
              0.1111111111111111,
              "#46039f"
             ],
             [
              0.2222222222222222,
              "#7201a8"
             ],
             [
              0.3333333333333333,
              "#9c179e"
             ],
             [
              0.4444444444444444,
              "#bd3786"
             ],
             [
              0.5555555555555556,
              "#d8576b"
             ],
             [
              0.6666666666666666,
              "#ed7953"
             ],
             [
              0.7777777777777778,
              "#fb9f3a"
             ],
             [
              0.8888888888888888,
              "#fdca26"
             ],
             [
              1,
              "#f0f921"
             ]
            ],
            "type": "histogram2d"
           }
          ],
          "histogram2dcontour": [
           {
            "colorbar": {
             "outlinewidth": 0,
             "ticks": ""
            },
            "colorscale": [
             [
              0,
              "#0d0887"
             ],
             [
              0.1111111111111111,
              "#46039f"
             ],
             [
              0.2222222222222222,
              "#7201a8"
             ],
             [
              0.3333333333333333,
              "#9c179e"
             ],
             [
              0.4444444444444444,
              "#bd3786"
             ],
             [
              0.5555555555555556,
              "#d8576b"
             ],
             [
              0.6666666666666666,
              "#ed7953"
             ],
             [
              0.7777777777777778,
              "#fb9f3a"
             ],
             [
              0.8888888888888888,
              "#fdca26"
             ],
             [
              1,
              "#f0f921"
             ]
            ],
            "type": "histogram2dcontour"
           }
          ],
          "mesh3d": [
           {
            "colorbar": {
             "outlinewidth": 0,
             "ticks": ""
            },
            "type": "mesh3d"
           }
          ],
          "parcoords": [
           {
            "line": {
             "colorbar": {
              "outlinewidth": 0,
              "ticks": ""
             }
            },
            "type": "parcoords"
           }
          ],
          "pie": [
           {
            "automargin": true,
            "type": "pie"
           }
          ],
          "scatter": [
           {
            "fillpattern": {
             "fillmode": "overlay",
             "size": 10,
             "solidity": 0.2
            },
            "type": "scatter"
           }
          ],
          "scatter3d": [
           {
            "line": {
             "colorbar": {
              "outlinewidth": 0,
              "ticks": ""
             }
            },
            "marker": {
             "colorbar": {
              "outlinewidth": 0,
              "ticks": ""
             }
            },
            "type": "scatter3d"
           }
          ],
          "scattercarpet": [
           {
            "marker": {
             "colorbar": {
              "outlinewidth": 0,
              "ticks": ""
             }
            },
            "type": "scattercarpet"
           }
          ],
          "scattergeo": [
           {
            "marker": {
             "colorbar": {
              "outlinewidth": 0,
              "ticks": ""
             }
            },
            "type": "scattergeo"
           }
          ],
          "scattergl": [
           {
            "marker": {
             "colorbar": {
              "outlinewidth": 0,
              "ticks": ""
             }
            },
            "type": "scattergl"
           }
          ],
          "scattermapbox": [
           {
            "marker": {
             "colorbar": {
              "outlinewidth": 0,
              "ticks": ""
             }
            },
            "type": "scattermapbox"
           }
          ],
          "scatterpolar": [
           {
            "marker": {
             "colorbar": {
              "outlinewidth": 0,
              "ticks": ""
             }
            },
            "type": "scatterpolar"
           }
          ],
          "scatterpolargl": [
           {
            "marker": {
             "colorbar": {
              "outlinewidth": 0,
              "ticks": ""
             }
            },
            "type": "scatterpolargl"
           }
          ],
          "scatterternary": [
           {
            "marker": {
             "colorbar": {
              "outlinewidth": 0,
              "ticks": ""
             }
            },
            "type": "scatterternary"
           }
          ],
          "surface": [
           {
            "colorbar": {
             "outlinewidth": 0,
             "ticks": ""
            },
            "colorscale": [
             [
              0,
              "#0d0887"
             ],
             [
              0.1111111111111111,
              "#46039f"
             ],
             [
              0.2222222222222222,
              "#7201a8"
             ],
             [
              0.3333333333333333,
              "#9c179e"
             ],
             [
              0.4444444444444444,
              "#bd3786"
             ],
             [
              0.5555555555555556,
              "#d8576b"
             ],
             [
              0.6666666666666666,
              "#ed7953"
             ],
             [
              0.7777777777777778,
              "#fb9f3a"
             ],
             [
              0.8888888888888888,
              "#fdca26"
             ],
             [
              1,
              "#f0f921"
             ]
            ],
            "type": "surface"
           }
          ],
          "table": [
           {
            "cells": {
             "fill": {
              "color": "#EBF0F8"
             },
             "line": {
              "color": "white"
             }
            },
            "header": {
             "fill": {
              "color": "#C8D4E3"
             },
             "line": {
              "color": "white"
             }
            },
            "type": "table"
           }
          ]
         },
         "layout": {
          "annotationdefaults": {
           "arrowcolor": "#2a3f5f",
           "arrowhead": 0,
           "arrowwidth": 1
          },
          "autotypenumbers": "strict",
          "coloraxis": {
           "colorbar": {
            "outlinewidth": 0,
            "ticks": ""
           }
          },
          "colorscale": {
           "diverging": [
            [
             0,
             "#8e0152"
            ],
            [
             0.1,
             "#c51b7d"
            ],
            [
             0.2,
             "#de77ae"
            ],
            [
             0.3,
             "#f1b6da"
            ],
            [
             0.4,
             "#fde0ef"
            ],
            [
             0.5,
             "#f7f7f7"
            ],
            [
             0.6,
             "#e6f5d0"
            ],
            [
             0.7,
             "#b8e186"
            ],
            [
             0.8,
             "#7fbc41"
            ],
            [
             0.9,
             "#4d9221"
            ],
            [
             1,
             "#276419"
            ]
           ],
           "sequential": [
            [
             0,
             "#0d0887"
            ],
            [
             0.1111111111111111,
             "#46039f"
            ],
            [
             0.2222222222222222,
             "#7201a8"
            ],
            [
             0.3333333333333333,
             "#9c179e"
            ],
            [
             0.4444444444444444,
             "#bd3786"
            ],
            [
             0.5555555555555556,
             "#d8576b"
            ],
            [
             0.6666666666666666,
             "#ed7953"
            ],
            [
             0.7777777777777778,
             "#fb9f3a"
            ],
            [
             0.8888888888888888,
             "#fdca26"
            ],
            [
             1,
             "#f0f921"
            ]
           ],
           "sequentialminus": [
            [
             0,
             "#0d0887"
            ],
            [
             0.1111111111111111,
             "#46039f"
            ],
            [
             0.2222222222222222,
             "#7201a8"
            ],
            [
             0.3333333333333333,
             "#9c179e"
            ],
            [
             0.4444444444444444,
             "#bd3786"
            ],
            [
             0.5555555555555556,
             "#d8576b"
            ],
            [
             0.6666666666666666,
             "#ed7953"
            ],
            [
             0.7777777777777778,
             "#fb9f3a"
            ],
            [
             0.8888888888888888,
             "#fdca26"
            ],
            [
             1,
             "#f0f921"
            ]
           ]
          },
          "colorway": [
           "#636efa",
           "#EF553B",
           "#00cc96",
           "#ab63fa",
           "#FFA15A",
           "#19d3f3",
           "#FF6692",
           "#B6E880",
           "#FF97FF",
           "#FECB52"
          ],
          "font": {
           "color": "#2a3f5f"
          },
          "geo": {
           "bgcolor": "white",
           "lakecolor": "white",
           "landcolor": "#E5ECF6",
           "showlakes": true,
           "showland": true,
           "subunitcolor": "white"
          },
          "hoverlabel": {
           "align": "left"
          },
          "hovermode": "closest",
          "mapbox": {
           "style": "light"
          },
          "paper_bgcolor": "white",
          "plot_bgcolor": "#E5ECF6",
          "polar": {
           "angularaxis": {
            "gridcolor": "white",
            "linecolor": "white",
            "ticks": ""
           },
           "bgcolor": "#E5ECF6",
           "radialaxis": {
            "gridcolor": "white",
            "linecolor": "white",
            "ticks": ""
           }
          },
          "scene": {
           "xaxis": {
            "backgroundcolor": "#E5ECF6",
            "gridcolor": "white",
            "gridwidth": 2,
            "linecolor": "white",
            "showbackground": true,
            "ticks": "",
            "zerolinecolor": "white"
           },
           "yaxis": {
            "backgroundcolor": "#E5ECF6",
            "gridcolor": "white",
            "gridwidth": 2,
            "linecolor": "white",
            "showbackground": true,
            "ticks": "",
            "zerolinecolor": "white"
           },
           "zaxis": {
            "backgroundcolor": "#E5ECF6",
            "gridcolor": "white",
            "gridwidth": 2,
            "linecolor": "white",
            "showbackground": true,
            "ticks": "",
            "zerolinecolor": "white"
           }
          },
          "shapedefaults": {
           "line": {
            "color": "#2a3f5f"
           }
          },
          "ternary": {
           "aaxis": {
            "gridcolor": "white",
            "linecolor": "white",
            "ticks": ""
           },
           "baxis": {
            "gridcolor": "white",
            "linecolor": "white",
            "ticks": ""
           },
           "bgcolor": "#E5ECF6",
           "caxis": {
            "gridcolor": "white",
            "linecolor": "white",
            "ticks": ""
           }
          },
          "title": {
           "x": 0.05
          },
          "xaxis": {
           "automargin": true,
           "gridcolor": "white",
           "linecolor": "white",
           "ticks": "",
           "title": {
            "standoff": 15
           },
           "zerolinecolor": "white",
           "zerolinewidth": 2
          },
          "yaxis": {
           "automargin": true,
           "gridcolor": "white",
           "linecolor": "white",
           "ticks": "",
           "title": {
            "standoff": 15
           },
           "zerolinecolor": "white",
           "zerolinewidth": 2
          }
         }
        },
        "title": {
         "text": "Histogram of y"
        },
        "xaxis": {
         "anchor": "y",
         "domain": [
          0,
          1
         ],
         "title": {
          "text": "value"
         }
        },
        "yaxis": {
         "anchor": "x",
         "domain": [
          0,
          1
         ],
         "title": {
          "text": "count"
         }
        }
       }
      }
     },
     "metadata": {},
     "output_type": "display_data"
    }
   ],
   "source": [
    "pitch_data.show_y_location_hist()"
   ]
  }
 ],
 "metadata": {
  "kernelspec": {
   "display_name": "Python 3",
   "language": "python",
   "name": "python3"
  },
  "language_info": {
   "codemirror_mode": {
    "name": "ipython",
    "version": 3
   },
   "file_extension": ".py",
   "mimetype": "text/x-python",
   "name": "python",
   "nbconvert_exporter": "python",
   "pygments_lexer": "ipython3",
   "version": "3.11.7"
  }
 },
 "nbformat": 4,
 "nbformat_minor": 2
}
