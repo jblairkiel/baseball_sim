{
 "cells": [
  {
   "cell_type": "code",
   "execution_count": 1,
   "metadata": {},
   "outputs": [],
   "source": [
    "%load_ext autoreload\n",
    "%reload_ext autoreload"
   ]
  },
  {
   "cell_type": "code",
   "execution_count": 2,
   "metadata": {},
   "outputs": [
    {
     "name": "stdout",
     "output_type": "stream",
     "text": [
      "Team #24 (0-0) \n",
      " Lineup: \n",
      "\t Donald Rowe (#1)\n",
      "\tLarry March (#84)\n",
      "\tMaurice Huff (#46)\n",
      "\tMarvin Edwards (#81)\n",
      "\tKevin Williams (#43)\n",
      "\tScott Swager (#76)\n",
      "\tHoward Wilson (#2)\n",
      "\tJamal Jacobs (#15)\n",
      "\tRobert Bridges (#69)\n"
     ]
    }
   ],
   "source": [
    "import os, sys\n",
    "curPath = os.path.abspath('')\n",
    "for i in range(1):\n",
    "    curPath = os.path.join(curPath, \"..\")\n",
    "    sys.path.append(curPath)\n",
    "\n",
    "from src.util.generation import generate_team, generate_league, generate_pitch\n",
    "import plotly.express as px\n",
    "import pandas as pd\n",
    "from src.analysis.pitch_data import Pitch_Data\n",
    "from src.util.logic.pitch_logic import Pitch_Logic\n",
    "\n",
    "\n",
    "a = generate_team()\n",
    "\n",
    "print(str(a))"
   ]
  },
  {
   "cell_type": "code",
   "execution_count": 3,
   "metadata": {},
   "outputs": [],
   "source": [
    "pitch_dict = []\n",
    "pitch_hitability_dict = []\n",
    "for i in range(0, 1000):\n",
    "    pitch = generate_pitch()\n",
    "    hitability_obj = Pitch_Logic(pitch[\"x\"], pitch[\"y\"], pitch['pitch_type'])\n",
    "    hitability = hitability_obj.calculate_hitability()\n",
    "    pitch[\"hitability\"] = hitability\n",
    "    pitch_dict.append(pitch)\n",
    "\n",
    "df = pd.DataFrame(pitch_dict)\n"
   ]
  },
  {
   "cell_type": "code",
   "execution_count": 4,
   "metadata": {},
   "outputs": [],
   "source": [
    "pitch_data = Pitch_Data(df)"
   ]
  },
  {
   "cell_type": "code",
   "execution_count": 5,
   "metadata": {},
   "outputs": [
    {
     "data": {
      "application/vnd.plotly.v1+json": {
       "config": {
        "plotlyServerURL": "https://plot.ly"
       },
       "data": [
        {
         "alignmentgroup": "True",
         "bingroup": "x",
         "hovertemplate": "variable=outcome<br>value=%{x}<br>count=%{y}<extra></extra>",
         "legendgroup": "outcome",
         "marker": {
          "color": "#636efa",
          "pattern": {
           "shape": ""
          }
         },
         "name": "outcome",
         "offsetgroup": "outcome",
         "orientation": "v",
         "showlegend": true,
         "type": "histogram",
         "x": [
          "Ball",
          "Ball",
          "Strike",
          "Strike",
          "Strike",
          "Strike",
          "Strike",
          "Strike",
          "Strike",
          "Strike",
          "Strike",
          "Strike",
          "Strike",
          "Strike",
          "Strike",
          "Ball",
          "Ball",
          "Ball",
          "Strike",
          "Strike",
          "Ball",
          "Strike",
          "Strike",
          "Strike",
          "Ball",
          "Ball",
          "Ball",
          "Strike",
          "Strike",
          "Strike",
          "Strike",
          "Ball",
          "Strike",
          "Strike",
          "Strike",
          "Ball",
          "Strike",
          "Ball",
          "Strike",
          "Ball",
          "Ball",
          "Ball",
          "Strike",
          "Strike",
          "Strike",
          "Ball",
          "Ball",
          "Ball",
          "Strike",
          "Strike",
          "Ball",
          "Strike",
          "Ball",
          "Strike",
          "Ball",
          "Strike",
          "Strike",
          "Strike",
          "Ball",
          "Strike",
          "Strike",
          "Ball",
          "Strike",
          "Strike",
          "Ball",
          "Strike",
          "Strike",
          "Strike",
          "Ball",
          "Ball",
          "Ball",
          "Strike",
          "Ball",
          "Strike",
          "Strike",
          "Strike",
          "Ball",
          "Strike",
          "Ball",
          "Ball",
          "Ball",
          "Strike",
          "Ball",
          "Ball",
          "Ball",
          "Ball",
          "Strike",
          "Strike",
          "Ball",
          "Ball",
          "Strike",
          "Strike",
          "Ball",
          "Strike",
          "Ball",
          "Strike",
          "Strike",
          "Strike",
          "Strike",
          "Ball",
          "Strike",
          "Ball",
          "Ball",
          "Strike",
          "Ball",
          "Ball",
          "Ball",
          "Ball",
          "Strike",
          "Ball",
          "Strike",
          "Strike",
          "Strike",
          "Strike",
          "Strike",
          "Ball",
          "Ball",
          "Ball",
          "Ball",
          "Ball",
          "Strike",
          "Ball",
          "Strike",
          "Ball",
          "Ball",
          "Strike",
          "Strike",
          "Ball",
          "Strike",
          "Strike",
          "Ball",
          "Strike",
          "Ball",
          "Strike",
          "Ball",
          "Ball",
          "Strike",
          "Strike",
          "Strike",
          "Strike",
          "Ball",
          "Strike",
          "Strike",
          "Strike",
          "Strike",
          "Ball",
          "Strike",
          "Ball",
          "Ball",
          "Strike",
          "Ball",
          "Strike",
          "Strike",
          "Ball",
          "Strike",
          "Ball",
          "Ball",
          "Strike",
          "Ball",
          "Strike",
          "Ball",
          "Ball",
          "Ball",
          "Ball",
          "Strike",
          "Strike",
          "Ball",
          "Ball",
          "Strike",
          "Strike",
          "Strike",
          "Strike",
          "Strike",
          "Ball",
          "Ball",
          "Strike",
          "Ball",
          "Strike",
          "Strike",
          "Strike",
          "Strike",
          "Strike",
          "Ball",
          "Strike",
          "Strike",
          "Ball",
          "Ball",
          "Ball",
          "Ball",
          "Strike",
          "Strike",
          "Ball",
          "Strike",
          "Strike",
          "Strike",
          "Ball",
          "Ball",
          "Ball",
          "Strike",
          "Strike",
          "Strike",
          "Strike",
          "Strike",
          "Strike",
          "Ball",
          "Strike",
          "Ball",
          "Ball",
          "Strike",
          "Strike",
          "Strike",
          "Strike",
          "Ball",
          "Strike",
          "Ball",
          "Strike",
          "Strike",
          "Ball",
          "Strike",
          "Ball",
          "Ball",
          "Ball",
          "Ball",
          "Strike",
          "Ball",
          "Strike",
          "Strike",
          "Strike",
          "Ball",
          "Ball",
          "Strike",
          "Ball",
          "Strike",
          "Ball",
          "Strike",
          "Strike",
          "Ball",
          "Strike",
          "Ball",
          "Ball",
          "Ball",
          "Strike",
          "Ball",
          "Strike",
          "Strike",
          "Ball",
          "Strike",
          "Strike",
          "Strike",
          "Ball",
          "Strike",
          "Ball",
          "Ball",
          "Strike",
          "Strike",
          "Ball",
          "Strike",
          "Strike",
          "Ball",
          "Strike",
          "Ball",
          "Strike",
          "Strike",
          "Strike",
          "Ball",
          "Strike",
          "Strike",
          "Strike",
          "Strike",
          "Strike",
          "Ball",
          "Ball",
          "Strike",
          "Strike",
          "Strike",
          "Ball",
          "Ball",
          "Ball",
          "Strike",
          "Ball",
          "Strike",
          "Ball",
          "Strike",
          "Ball",
          "Strike",
          "Strike",
          "Ball",
          "Ball",
          "Strike",
          "Strike",
          "Strike",
          "Ball",
          "Ball",
          "Strike",
          "Ball",
          "Strike",
          "Ball",
          "Ball",
          "Strike",
          "Strike",
          "Strike",
          "Strike",
          "Strike",
          "Strike",
          "Ball",
          "Strike",
          "Strike",
          "Ball",
          "Strike",
          "Strike",
          "Strike",
          "Strike",
          "Ball",
          "Strike",
          "Ball",
          "Ball",
          "Ball",
          "Strike",
          "Ball",
          "Ball",
          "Ball",
          "Strike",
          "Ball",
          "Strike",
          "Ball",
          "Strike",
          "Ball",
          "Strike",
          "Strike",
          "Strike",
          "Strike",
          "Ball",
          "Strike",
          "Strike",
          "Ball",
          "Strike",
          "Ball",
          "Strike",
          "Strike",
          "Ball",
          "Ball",
          "Ball",
          "Ball",
          "Ball",
          "Ball",
          "Strike",
          "Strike",
          "Ball",
          "Ball",
          "Ball",
          "Strike",
          "Strike",
          "Ball",
          "Ball",
          "Ball",
          "Strike",
          "Ball",
          "Ball",
          "Strike",
          "Ball",
          "Ball",
          "Strike",
          "Strike",
          "Strike",
          "Strike",
          "Ball",
          "Ball",
          "Strike",
          "Ball",
          "Strike",
          "Ball",
          "Strike",
          "Strike",
          "Ball",
          "Ball",
          "Strike",
          "Strike",
          "Ball",
          "Strike",
          "Strike",
          "Strike",
          "Strike",
          "Ball",
          "Strike",
          "Strike",
          "Strike",
          "Ball",
          "Ball",
          "Strike",
          "Ball",
          "Strike",
          "Ball",
          "Ball",
          "Ball",
          "Strike",
          "Strike",
          "Strike",
          "Strike",
          "Strike",
          "Strike",
          "Strike",
          "Strike",
          "Strike",
          "Ball",
          "Strike",
          "Ball",
          "Ball",
          "Strike",
          "Ball",
          "Strike",
          "Strike",
          "Strike",
          "Ball",
          "Strike",
          "Strike",
          "Ball",
          "Ball",
          "Strike",
          "Strike",
          "Strike",
          "Ball",
          "Ball",
          "Ball",
          "Strike",
          "Strike",
          "Ball",
          "Ball",
          "Strike",
          "Ball",
          "Strike",
          "Strike",
          "Ball",
          "Strike",
          "Ball",
          "Strike",
          "Strike",
          "Ball",
          "Ball",
          "Strike",
          "Ball",
          "Strike",
          "Strike",
          "Ball",
          "Ball",
          "Strike",
          "Strike",
          "Strike",
          "Ball",
          "Ball",
          "Strike",
          "Strike",
          "Strike",
          "Strike",
          "Ball",
          "Strike",
          "Ball",
          "Ball",
          "Strike",
          "Strike",
          "Ball",
          "Strike",
          "Strike",
          "Ball",
          "Ball",
          "Strike",
          "Strike",
          "Ball",
          "Ball",
          "Ball",
          "Ball",
          "Ball",
          "Strike",
          "Ball",
          "Strike",
          "Strike",
          "Ball",
          "Ball",
          "Ball",
          "Ball",
          "Strike",
          "Ball",
          "Ball",
          "Ball",
          "Strike",
          "Ball",
          "Ball",
          "Strike",
          "Ball",
          "Strike",
          "Strike",
          "Strike",
          "Ball",
          "Strike",
          "Ball",
          "Strike",
          "Ball",
          "Strike",
          "Strike",
          "Ball",
          "Ball",
          "Strike",
          "Strike",
          "Strike",
          "Strike",
          "Strike",
          "Strike",
          "Ball",
          "Strike",
          "Ball",
          "Strike",
          "Strike",
          "Strike",
          "Ball",
          "Ball",
          "Strike",
          "Strike",
          "Ball",
          "Strike",
          "Ball",
          "Strike",
          "Strike",
          "Strike",
          "Ball",
          "Strike",
          "Strike",
          "Strike",
          "Ball",
          "Strike",
          "Strike",
          "Strike",
          "Strike",
          "Strike",
          "Strike",
          "Strike",
          "Ball",
          "Strike",
          "Strike",
          "Strike",
          "Strike",
          "Strike",
          "Strike",
          "Strike",
          "Strike",
          "Ball",
          "Ball",
          "Strike",
          "Ball",
          "Ball",
          "Strike",
          "Ball",
          "Strike",
          "Ball",
          "Strike",
          "Strike",
          "Strike",
          "Strike",
          "Strike",
          "Ball",
          "Ball",
          "Strike",
          "Ball",
          "Ball",
          "Ball",
          "Ball",
          "Strike",
          "Strike",
          "Ball",
          "Strike",
          "Ball",
          "Strike",
          "Strike",
          "Strike",
          "Ball",
          "Ball",
          "Strike",
          "Ball",
          "Ball",
          "Ball",
          "Strike",
          "Ball",
          "Strike",
          "Strike",
          "Ball",
          "Ball",
          "Ball",
          "Strike",
          "Strike",
          "Strike",
          "Ball",
          "Strike",
          "Strike",
          "Strike",
          "Strike",
          "Ball",
          "Ball",
          "Ball",
          "Strike",
          "Ball",
          "Ball",
          "Strike",
          "Strike",
          "Ball",
          "Strike",
          "Strike",
          "Ball",
          "Strike",
          "Ball",
          "Strike",
          "Strike",
          "Ball",
          "Strike",
          "Strike",
          "Ball",
          "Strike",
          "Ball",
          "Strike",
          "Ball",
          "Strike",
          "Strike",
          "Strike",
          "Strike",
          "Strike",
          "Strike",
          "Ball",
          "Strike",
          "Strike",
          "Strike",
          "Strike",
          "Strike",
          "Ball",
          "Ball",
          "Strike",
          "Strike",
          "Strike",
          "Ball",
          "Ball",
          "Strike",
          "Strike",
          "Strike",
          "Ball",
          "Ball",
          "Strike",
          "Strike",
          "Strike",
          "Ball",
          "Ball",
          "Strike",
          "Ball",
          "Ball",
          "Strike",
          "Ball",
          "Strike",
          "Ball",
          "Strike",
          "Strike",
          "Strike",
          "Ball",
          "Strike",
          "Ball",
          "Ball",
          "Ball",
          "Ball",
          "Ball",
          "Strike",
          "Strike",
          "Ball",
          "Ball",
          "Strike",
          "Strike",
          "Strike",
          "Ball",
          "Strike",
          "Ball",
          "Strike",
          "Ball",
          "Strike",
          "Strike",
          "Strike",
          "Ball",
          "Ball",
          "Strike",
          "Strike",
          "Ball",
          "Strike",
          "Strike",
          "Strike",
          "Ball",
          "Ball",
          "Ball",
          "Ball",
          "Ball",
          "Strike",
          "Ball",
          "Strike",
          "Ball",
          "Ball",
          "Ball",
          "Strike",
          "Ball",
          "Ball",
          "Ball",
          "Strike",
          "Strike",
          "Strike",
          "Strike",
          "Strike",
          "Strike",
          "Strike",
          "Strike",
          "Strike",
          "Strike",
          "Ball",
          "Ball",
          "Ball",
          "Strike",
          "Ball",
          "Ball",
          "Strike",
          "Ball",
          "Ball",
          "Strike",
          "Ball",
          "Ball",
          "Strike",
          "Strike",
          "Ball",
          "Ball",
          "Strike",
          "Ball",
          "Strike",
          "Ball",
          "Strike",
          "Ball",
          "Strike",
          "Ball",
          "Strike",
          "Ball",
          "Strike",
          "Ball",
          "Strike",
          "Ball",
          "Ball",
          "Strike",
          "Strike",
          "Strike",
          "Strike",
          "Strike",
          "Strike",
          "Strike",
          "Strike",
          "Ball",
          "Strike",
          "Strike",
          "Ball",
          "Ball",
          "Strike",
          "Strike",
          "Strike",
          "Strike",
          "Strike",
          "Strike",
          "Strike",
          "Strike",
          "Ball",
          "Strike",
          "Strike",
          "Ball",
          "Strike",
          "Strike",
          "Strike",
          "Strike",
          "Ball",
          "Strike",
          "Strike",
          "Ball",
          "Strike",
          "Strike",
          "Strike",
          "Ball",
          "Ball",
          "Ball",
          "Ball",
          "Ball",
          "Strike",
          "Ball",
          "Ball",
          "Strike",
          "Strike",
          "Ball",
          "Strike",
          "Ball",
          "Ball",
          "Ball",
          "Strike",
          "Ball",
          "Strike",
          "Strike",
          "Ball",
          "Ball",
          "Ball",
          "Strike",
          "Strike",
          "Ball",
          "Strike",
          "Ball",
          "Ball",
          "Ball",
          "Ball",
          "Ball",
          "Strike",
          "Ball",
          "Strike",
          "Ball",
          "Ball",
          "Ball",
          "Strike",
          "Ball",
          "Strike",
          "Strike",
          "Ball",
          "Strike",
          "Strike",
          "Strike",
          "Ball",
          "Ball",
          "Ball",
          "Strike",
          "Ball",
          "Ball",
          "Ball",
          "Strike",
          "Ball",
          "Ball",
          "Strike",
          "Strike",
          "Ball",
          "Ball",
          "Strike",
          "Strike",
          "Strike",
          "Strike",
          "Strike",
          "Ball",
          "Ball",
          "Strike",
          "Ball",
          "Ball",
          "Ball",
          "Strike",
          "Strike",
          "Strike",
          "Strike",
          "Strike",
          "Strike",
          "Ball",
          "Strike",
          "Ball",
          "Strike",
          "Ball",
          "Ball",
          "Ball",
          "Strike",
          "Strike",
          "Strike",
          "Strike",
          "Ball",
          "Strike",
          "Ball",
          "Ball",
          "Ball",
          "Ball",
          "Strike",
          "Strike",
          "Ball",
          "Strike",
          "Strike",
          "Strike",
          "Ball",
          "Strike",
          "Strike",
          "Ball",
          "Strike",
          "Strike",
          "Strike",
          "Strike",
          "Strike",
          "Strike",
          "Strike",
          "Strike",
          "Ball",
          "Strike",
          "Strike",
          "Ball",
          "Strike",
          "Ball",
          "Strike",
          "Ball",
          "Ball",
          "Strike",
          "Ball",
          "Ball",
          "Strike",
          "Strike",
          "Strike",
          "Ball",
          "Strike",
          "Strike",
          "Strike",
          "Ball",
          "Ball",
          "Strike",
          "Ball",
          "Strike",
          "Strike",
          "Strike",
          "Strike",
          "Ball",
          "Ball",
          "Ball",
          "Ball",
          "Strike",
          "Ball",
          "Strike",
          "Ball",
          "Ball",
          "Strike",
          "Ball",
          "Strike",
          "Strike",
          "Strike",
          "Ball",
          "Strike",
          "Ball",
          "Strike",
          "Ball",
          "Ball",
          "Strike",
          "Strike",
          "Strike",
          "Ball",
          "Strike",
          "Ball",
          "Ball",
          "Strike",
          "Ball",
          "Strike",
          "Strike",
          "Ball",
          "Ball",
          "Strike",
          "Strike",
          "Ball",
          "Ball",
          "Strike",
          "Strike",
          "Ball",
          "Ball",
          "Ball",
          "Ball",
          "Strike",
          "Ball",
          "Ball",
          "Ball",
          "Strike",
          "Ball",
          "Ball",
          "Strike",
          "Ball",
          "Ball",
          "Strike",
          "Strike",
          "Strike",
          "Ball",
          "Strike",
          "Strike",
          "Strike",
          "Strike",
          "Strike",
          "Strike",
          "Ball",
          "Ball",
          "Ball",
          "Ball",
          "Strike",
          "Strike",
          "Strike",
          "Strike",
          "Strike",
          "Ball",
          "Ball",
          "Ball",
          "Strike",
          "Ball",
          "Strike",
          "Strike",
          "Strike",
          "Strike",
          "Strike",
          "Ball",
          "Strike"
         ],
         "xaxis": "x",
         "yaxis": "y"
        }
       ],
       "layout": {
        "barmode": "relative",
        "legend": {
         "title": {
          "text": "variable"
         },
         "tracegroupgap": 0
        },
        "template": {
         "data": {
          "bar": [
           {
            "error_x": {
             "color": "#2a3f5f"
            },
            "error_y": {
             "color": "#2a3f5f"
            },
            "marker": {
             "line": {
              "color": "#E5ECF6",
              "width": 0.5
             },
             "pattern": {
              "fillmode": "overlay",
              "size": 10,
              "solidity": 0.2
             }
            },
            "type": "bar"
           }
          ],
          "barpolar": [
           {
            "marker": {
             "line": {
              "color": "#E5ECF6",
              "width": 0.5
             },
             "pattern": {
              "fillmode": "overlay",
              "size": 10,
              "solidity": 0.2
             }
            },
            "type": "barpolar"
           }
          ],
          "carpet": [
           {
            "aaxis": {
             "endlinecolor": "#2a3f5f",
             "gridcolor": "white",
             "linecolor": "white",
             "minorgridcolor": "white",
             "startlinecolor": "#2a3f5f"
            },
            "baxis": {
             "endlinecolor": "#2a3f5f",
             "gridcolor": "white",
             "linecolor": "white",
             "minorgridcolor": "white",
             "startlinecolor": "#2a3f5f"
            },
            "type": "carpet"
           }
          ],
          "choropleth": [
           {
            "colorbar": {
             "outlinewidth": 0,
             "ticks": ""
            },
            "type": "choropleth"
           }
          ],
          "contour": [
           {
            "colorbar": {
             "outlinewidth": 0,
             "ticks": ""
            },
            "colorscale": [
             [
              0,
              "#0d0887"
             ],
             [
              0.1111111111111111,
              "#46039f"
             ],
             [
              0.2222222222222222,
              "#7201a8"
             ],
             [
              0.3333333333333333,
              "#9c179e"
             ],
             [
              0.4444444444444444,
              "#bd3786"
             ],
             [
              0.5555555555555556,
              "#d8576b"
             ],
             [
              0.6666666666666666,
              "#ed7953"
             ],
             [
              0.7777777777777778,
              "#fb9f3a"
             ],
             [
              0.8888888888888888,
              "#fdca26"
             ],
             [
              1,
              "#f0f921"
             ]
            ],
            "type": "contour"
           }
          ],
          "contourcarpet": [
           {
            "colorbar": {
             "outlinewidth": 0,
             "ticks": ""
            },
            "type": "contourcarpet"
           }
          ],
          "heatmap": [
           {
            "colorbar": {
             "outlinewidth": 0,
             "ticks": ""
            },
            "colorscale": [
             [
              0,
              "#0d0887"
             ],
             [
              0.1111111111111111,
              "#46039f"
             ],
             [
              0.2222222222222222,
              "#7201a8"
             ],
             [
              0.3333333333333333,
              "#9c179e"
             ],
             [
              0.4444444444444444,
              "#bd3786"
             ],
             [
              0.5555555555555556,
              "#d8576b"
             ],
             [
              0.6666666666666666,
              "#ed7953"
             ],
             [
              0.7777777777777778,
              "#fb9f3a"
             ],
             [
              0.8888888888888888,
              "#fdca26"
             ],
             [
              1,
              "#f0f921"
             ]
            ],
            "type": "heatmap"
           }
          ],
          "heatmapgl": [
           {
            "colorbar": {
             "outlinewidth": 0,
             "ticks": ""
            },
            "colorscale": [
             [
              0,
              "#0d0887"
             ],
             [
              0.1111111111111111,
              "#46039f"
             ],
             [
              0.2222222222222222,
              "#7201a8"
             ],
             [
              0.3333333333333333,
              "#9c179e"
             ],
             [
              0.4444444444444444,
              "#bd3786"
             ],
             [
              0.5555555555555556,
              "#d8576b"
             ],
             [
              0.6666666666666666,
              "#ed7953"
             ],
             [
              0.7777777777777778,
              "#fb9f3a"
             ],
             [
              0.8888888888888888,
              "#fdca26"
             ],
             [
              1,
              "#f0f921"
             ]
            ],
            "type": "heatmapgl"
           }
          ],
          "histogram": [
           {
            "marker": {
             "pattern": {
              "fillmode": "overlay",
              "size": 10,
              "solidity": 0.2
             }
            },
            "type": "histogram"
           }
          ],
          "histogram2d": [
           {
            "colorbar": {
             "outlinewidth": 0,
             "ticks": ""
            },
            "colorscale": [
             [
              0,
              "#0d0887"
             ],
             [
              0.1111111111111111,
              "#46039f"
             ],
             [
              0.2222222222222222,
              "#7201a8"
             ],
             [
              0.3333333333333333,
              "#9c179e"
             ],
             [
              0.4444444444444444,
              "#bd3786"
             ],
             [
              0.5555555555555556,
              "#d8576b"
             ],
             [
              0.6666666666666666,
              "#ed7953"
             ],
             [
              0.7777777777777778,
              "#fb9f3a"
             ],
             [
              0.8888888888888888,
              "#fdca26"
             ],
             [
              1,
              "#f0f921"
             ]
            ],
            "type": "histogram2d"
           }
          ],
          "histogram2dcontour": [
           {
            "colorbar": {
             "outlinewidth": 0,
             "ticks": ""
            },
            "colorscale": [
             [
              0,
              "#0d0887"
             ],
             [
              0.1111111111111111,
              "#46039f"
             ],
             [
              0.2222222222222222,
              "#7201a8"
             ],
             [
              0.3333333333333333,
              "#9c179e"
             ],
             [
              0.4444444444444444,
              "#bd3786"
             ],
             [
              0.5555555555555556,
              "#d8576b"
             ],
             [
              0.6666666666666666,
              "#ed7953"
             ],
             [
              0.7777777777777778,
              "#fb9f3a"
             ],
             [
              0.8888888888888888,
              "#fdca26"
             ],
             [
              1,
              "#f0f921"
             ]
            ],
            "type": "histogram2dcontour"
           }
          ],
          "mesh3d": [
           {
            "colorbar": {
             "outlinewidth": 0,
             "ticks": ""
            },
            "type": "mesh3d"
           }
          ],
          "parcoords": [
           {
            "line": {
             "colorbar": {
              "outlinewidth": 0,
              "ticks": ""
             }
            },
            "type": "parcoords"
           }
          ],
          "pie": [
           {
            "automargin": true,
            "type": "pie"
           }
          ],
          "scatter": [
           {
            "fillpattern": {
             "fillmode": "overlay",
             "size": 10,
             "solidity": 0.2
            },
            "type": "scatter"
           }
          ],
          "scatter3d": [
           {
            "line": {
             "colorbar": {
              "outlinewidth": 0,
              "ticks": ""
             }
            },
            "marker": {
             "colorbar": {
              "outlinewidth": 0,
              "ticks": ""
             }
            },
            "type": "scatter3d"
           }
          ],
          "scattercarpet": [
           {
            "marker": {
             "colorbar": {
              "outlinewidth": 0,
              "ticks": ""
             }
            },
            "type": "scattercarpet"
           }
          ],
          "scattergeo": [
           {
            "marker": {
             "colorbar": {
              "outlinewidth": 0,
              "ticks": ""
             }
            },
            "type": "scattergeo"
           }
          ],
          "scattergl": [
           {
            "marker": {
             "colorbar": {
              "outlinewidth": 0,
              "ticks": ""
             }
            },
            "type": "scattergl"
           }
          ],
          "scattermapbox": [
           {
            "marker": {
             "colorbar": {
              "outlinewidth": 0,
              "ticks": ""
             }
            },
            "type": "scattermapbox"
           }
          ],
          "scatterpolar": [
           {
            "marker": {
             "colorbar": {
              "outlinewidth": 0,
              "ticks": ""
             }
            },
            "type": "scatterpolar"
           }
          ],
          "scatterpolargl": [
           {
            "marker": {
             "colorbar": {
              "outlinewidth": 0,
              "ticks": ""
             }
            },
            "type": "scatterpolargl"
           }
          ],
          "scatterternary": [
           {
            "marker": {
             "colorbar": {
              "outlinewidth": 0,
              "ticks": ""
             }
            },
            "type": "scatterternary"
           }
          ],
          "surface": [
           {
            "colorbar": {
             "outlinewidth": 0,
             "ticks": ""
            },
            "colorscale": [
             [
              0,
              "#0d0887"
             ],
             [
              0.1111111111111111,
              "#46039f"
             ],
             [
              0.2222222222222222,
              "#7201a8"
             ],
             [
              0.3333333333333333,
              "#9c179e"
             ],
             [
              0.4444444444444444,
              "#bd3786"
             ],
             [
              0.5555555555555556,
              "#d8576b"
             ],
             [
              0.6666666666666666,
              "#ed7953"
             ],
             [
              0.7777777777777778,
              "#fb9f3a"
             ],
             [
              0.8888888888888888,
              "#fdca26"
             ],
             [
              1,
              "#f0f921"
             ]
            ],
            "type": "surface"
           }
          ],
          "table": [
           {
            "cells": {
             "fill": {
              "color": "#EBF0F8"
             },
             "line": {
              "color": "white"
             }
            },
            "header": {
             "fill": {
              "color": "#C8D4E3"
             },
             "line": {
              "color": "white"
             }
            },
            "type": "table"
           }
          ]
         },
         "layout": {
          "annotationdefaults": {
           "arrowcolor": "#2a3f5f",
           "arrowhead": 0,
           "arrowwidth": 1
          },
          "autotypenumbers": "strict",
          "coloraxis": {
           "colorbar": {
            "outlinewidth": 0,
            "ticks": ""
           }
          },
          "colorscale": {
           "diverging": [
            [
             0,
             "#8e0152"
            ],
            [
             0.1,
             "#c51b7d"
            ],
            [
             0.2,
             "#de77ae"
            ],
            [
             0.3,
             "#f1b6da"
            ],
            [
             0.4,
             "#fde0ef"
            ],
            [
             0.5,
             "#f7f7f7"
            ],
            [
             0.6,
             "#e6f5d0"
            ],
            [
             0.7,
             "#b8e186"
            ],
            [
             0.8,
             "#7fbc41"
            ],
            [
             0.9,
             "#4d9221"
            ],
            [
             1,
             "#276419"
            ]
           ],
           "sequential": [
            [
             0,
             "#0d0887"
            ],
            [
             0.1111111111111111,
             "#46039f"
            ],
            [
             0.2222222222222222,
             "#7201a8"
            ],
            [
             0.3333333333333333,
             "#9c179e"
            ],
            [
             0.4444444444444444,
             "#bd3786"
            ],
            [
             0.5555555555555556,
             "#d8576b"
            ],
            [
             0.6666666666666666,
             "#ed7953"
            ],
            [
             0.7777777777777778,
             "#fb9f3a"
            ],
            [
             0.8888888888888888,
             "#fdca26"
            ],
            [
             1,
             "#f0f921"
            ]
           ],
           "sequentialminus": [
            [
             0,
             "#0d0887"
            ],
            [
             0.1111111111111111,
             "#46039f"
            ],
            [
             0.2222222222222222,
             "#7201a8"
            ],
            [
             0.3333333333333333,
             "#9c179e"
            ],
            [
             0.4444444444444444,
             "#bd3786"
            ],
            [
             0.5555555555555556,
             "#d8576b"
            ],
            [
             0.6666666666666666,
             "#ed7953"
            ],
            [
             0.7777777777777778,
             "#fb9f3a"
            ],
            [
             0.8888888888888888,
             "#fdca26"
            ],
            [
             1,
             "#f0f921"
            ]
           ]
          },
          "colorway": [
           "#636efa",
           "#EF553B",
           "#00cc96",
           "#ab63fa",
           "#FFA15A",
           "#19d3f3",
           "#FF6692",
           "#B6E880",
           "#FF97FF",
           "#FECB52"
          ],
          "font": {
           "color": "#2a3f5f"
          },
          "geo": {
           "bgcolor": "white",
           "lakecolor": "white",
           "landcolor": "#E5ECF6",
           "showlakes": true,
           "showland": true,
           "subunitcolor": "white"
          },
          "hoverlabel": {
           "align": "left"
          },
          "hovermode": "closest",
          "mapbox": {
           "style": "light"
          },
          "paper_bgcolor": "white",
          "plot_bgcolor": "#E5ECF6",
          "polar": {
           "angularaxis": {
            "gridcolor": "white",
            "linecolor": "white",
            "ticks": ""
           },
           "bgcolor": "#E5ECF6",
           "radialaxis": {
            "gridcolor": "white",
            "linecolor": "white",
            "ticks": ""
           }
          },
          "scene": {
           "xaxis": {
            "backgroundcolor": "#E5ECF6",
            "gridcolor": "white",
            "gridwidth": 2,
            "linecolor": "white",
            "showbackground": true,
            "ticks": "",
            "zerolinecolor": "white"
           },
           "yaxis": {
            "backgroundcolor": "#E5ECF6",
            "gridcolor": "white",
            "gridwidth": 2,
            "linecolor": "white",
            "showbackground": true,
            "ticks": "",
            "zerolinecolor": "white"
           },
           "zaxis": {
            "backgroundcolor": "#E5ECF6",
            "gridcolor": "white",
            "gridwidth": 2,
            "linecolor": "white",
            "showbackground": true,
            "ticks": "",
            "zerolinecolor": "white"
           }
          },
          "shapedefaults": {
           "line": {
            "color": "#2a3f5f"
           }
          },
          "ternary": {
           "aaxis": {
            "gridcolor": "white",
            "linecolor": "white",
            "ticks": ""
           },
           "baxis": {
            "gridcolor": "white",
            "linecolor": "white",
            "ticks": ""
           },
           "bgcolor": "#E5ECF6",
           "caxis": {
            "gridcolor": "white",
            "linecolor": "white",
            "ticks": ""
           }
          },
          "title": {
           "x": 0.05
          },
          "xaxis": {
           "automargin": true,
           "gridcolor": "white",
           "linecolor": "white",
           "ticks": "",
           "title": {
            "standoff": 15
           },
           "zerolinecolor": "white",
           "zerolinewidth": 2
          },
          "yaxis": {
           "automargin": true,
           "gridcolor": "white",
           "linecolor": "white",
           "ticks": "",
           "title": {
            "standoff": 15
           },
           "zerolinecolor": "white",
           "zerolinewidth": 2
          }
         }
        },
        "title": {
         "text": "Histogram of outcome"
        },
        "xaxis": {
         "anchor": "y",
         "domain": [
          0,
          1
         ],
         "title": {
          "text": "value"
         }
        },
        "yaxis": {
         "anchor": "x",
         "domain": [
          0,
          1
         ],
         "title": {
          "text": "count"
         }
        }
       }
      }
     },
     "metadata": {},
     "output_type": "display_data"
    },
    {
     "data": {
      "application/vnd.plotly.v1+json": {
       "config": {
        "plotlyServerURL": "https://plot.ly"
       },
       "data": [
        {
         "domain": {
          "x": [
           0,
           1
          ],
          "y": [
           0,
           1
          ]
         },
         "hovertemplate": "outcome=%{label}<br>counts=%{value}<extra></extra>",
         "labels": [
          "Ball",
          "Strike"
         ],
         "legendgroup": "",
         "name": "",
         "showlegend": true,
         "type": "pie",
         "values": [
          442,
          558
         ]
        }
       ],
       "layout": {
        "legend": {
         "tracegroupgap": 0
        },
        "template": {
         "data": {
          "bar": [
           {
            "error_x": {
             "color": "#2a3f5f"
            },
            "error_y": {
             "color": "#2a3f5f"
            },
            "marker": {
             "line": {
              "color": "#E5ECF6",
              "width": 0.5
             },
             "pattern": {
              "fillmode": "overlay",
              "size": 10,
              "solidity": 0.2
             }
            },
            "type": "bar"
           }
          ],
          "barpolar": [
           {
            "marker": {
             "line": {
              "color": "#E5ECF6",
              "width": 0.5
             },
             "pattern": {
              "fillmode": "overlay",
              "size": 10,
              "solidity": 0.2
             }
            },
            "type": "barpolar"
           }
          ],
          "carpet": [
           {
            "aaxis": {
             "endlinecolor": "#2a3f5f",
             "gridcolor": "white",
             "linecolor": "white",
             "minorgridcolor": "white",
             "startlinecolor": "#2a3f5f"
            },
            "baxis": {
             "endlinecolor": "#2a3f5f",
             "gridcolor": "white",
             "linecolor": "white",
             "minorgridcolor": "white",
             "startlinecolor": "#2a3f5f"
            },
            "type": "carpet"
           }
          ],
          "choropleth": [
           {
            "colorbar": {
             "outlinewidth": 0,
             "ticks": ""
            },
            "type": "choropleth"
           }
          ],
          "contour": [
           {
            "colorbar": {
             "outlinewidth": 0,
             "ticks": ""
            },
            "colorscale": [
             [
              0,
              "#0d0887"
             ],
             [
              0.1111111111111111,
              "#46039f"
             ],
             [
              0.2222222222222222,
              "#7201a8"
             ],
             [
              0.3333333333333333,
              "#9c179e"
             ],
             [
              0.4444444444444444,
              "#bd3786"
             ],
             [
              0.5555555555555556,
              "#d8576b"
             ],
             [
              0.6666666666666666,
              "#ed7953"
             ],
             [
              0.7777777777777778,
              "#fb9f3a"
             ],
             [
              0.8888888888888888,
              "#fdca26"
             ],
             [
              1,
              "#f0f921"
             ]
            ],
            "type": "contour"
           }
          ],
          "contourcarpet": [
           {
            "colorbar": {
             "outlinewidth": 0,
             "ticks": ""
            },
            "type": "contourcarpet"
           }
          ],
          "heatmap": [
           {
            "colorbar": {
             "outlinewidth": 0,
             "ticks": ""
            },
            "colorscale": [
             [
              0,
              "#0d0887"
             ],
             [
              0.1111111111111111,
              "#46039f"
             ],
             [
              0.2222222222222222,
              "#7201a8"
             ],
             [
              0.3333333333333333,
              "#9c179e"
             ],
             [
              0.4444444444444444,
              "#bd3786"
             ],
             [
              0.5555555555555556,
              "#d8576b"
             ],
             [
              0.6666666666666666,
              "#ed7953"
             ],
             [
              0.7777777777777778,
              "#fb9f3a"
             ],
             [
              0.8888888888888888,
              "#fdca26"
             ],
             [
              1,
              "#f0f921"
             ]
            ],
            "type": "heatmap"
           }
          ],
          "heatmapgl": [
           {
            "colorbar": {
             "outlinewidth": 0,
             "ticks": ""
            },
            "colorscale": [
             [
              0,
              "#0d0887"
             ],
             [
              0.1111111111111111,
              "#46039f"
             ],
             [
              0.2222222222222222,
              "#7201a8"
             ],
             [
              0.3333333333333333,
              "#9c179e"
             ],
             [
              0.4444444444444444,
              "#bd3786"
             ],
             [
              0.5555555555555556,
              "#d8576b"
             ],
             [
              0.6666666666666666,
              "#ed7953"
             ],
             [
              0.7777777777777778,
              "#fb9f3a"
             ],
             [
              0.8888888888888888,
              "#fdca26"
             ],
             [
              1,
              "#f0f921"
             ]
            ],
            "type": "heatmapgl"
           }
          ],
          "histogram": [
           {
            "marker": {
             "pattern": {
              "fillmode": "overlay",
              "size": 10,
              "solidity": 0.2
             }
            },
            "type": "histogram"
           }
          ],
          "histogram2d": [
           {
            "colorbar": {
             "outlinewidth": 0,
             "ticks": ""
            },
            "colorscale": [
             [
              0,
              "#0d0887"
             ],
             [
              0.1111111111111111,
              "#46039f"
             ],
             [
              0.2222222222222222,
              "#7201a8"
             ],
             [
              0.3333333333333333,
              "#9c179e"
             ],
             [
              0.4444444444444444,
              "#bd3786"
             ],
             [
              0.5555555555555556,
              "#d8576b"
             ],
             [
              0.6666666666666666,
              "#ed7953"
             ],
             [
              0.7777777777777778,
              "#fb9f3a"
             ],
             [
              0.8888888888888888,
              "#fdca26"
             ],
             [
              1,
              "#f0f921"
             ]
            ],
            "type": "histogram2d"
           }
          ],
          "histogram2dcontour": [
           {
            "colorbar": {
             "outlinewidth": 0,
             "ticks": ""
            },
            "colorscale": [
             [
              0,
              "#0d0887"
             ],
             [
              0.1111111111111111,
              "#46039f"
             ],
             [
              0.2222222222222222,
              "#7201a8"
             ],
             [
              0.3333333333333333,
              "#9c179e"
             ],
             [
              0.4444444444444444,
              "#bd3786"
             ],
             [
              0.5555555555555556,
              "#d8576b"
             ],
             [
              0.6666666666666666,
              "#ed7953"
             ],
             [
              0.7777777777777778,
              "#fb9f3a"
             ],
             [
              0.8888888888888888,
              "#fdca26"
             ],
             [
              1,
              "#f0f921"
             ]
            ],
            "type": "histogram2dcontour"
           }
          ],
          "mesh3d": [
           {
            "colorbar": {
             "outlinewidth": 0,
             "ticks": ""
            },
            "type": "mesh3d"
           }
          ],
          "parcoords": [
           {
            "line": {
             "colorbar": {
              "outlinewidth": 0,
              "ticks": ""
             }
            },
            "type": "parcoords"
           }
          ],
          "pie": [
           {
            "automargin": true,
            "type": "pie"
           }
          ],
          "scatter": [
           {
            "fillpattern": {
             "fillmode": "overlay",
             "size": 10,
             "solidity": 0.2
            },
            "type": "scatter"
           }
          ],
          "scatter3d": [
           {
            "line": {
             "colorbar": {
              "outlinewidth": 0,
              "ticks": ""
             }
            },
            "marker": {
             "colorbar": {
              "outlinewidth": 0,
              "ticks": ""
             }
            },
            "type": "scatter3d"
           }
          ],
          "scattercarpet": [
           {
            "marker": {
             "colorbar": {
              "outlinewidth": 0,
              "ticks": ""
             }
            },
            "type": "scattercarpet"
           }
          ],
          "scattergeo": [
           {
            "marker": {
             "colorbar": {
              "outlinewidth": 0,
              "ticks": ""
             }
            },
            "type": "scattergeo"
           }
          ],
          "scattergl": [
           {
            "marker": {
             "colorbar": {
              "outlinewidth": 0,
              "ticks": ""
             }
            },
            "type": "scattergl"
           }
          ],
          "scattermapbox": [
           {
            "marker": {
             "colorbar": {
              "outlinewidth": 0,
              "ticks": ""
             }
            },
            "type": "scattermapbox"
           }
          ],
          "scatterpolar": [
           {
            "marker": {
             "colorbar": {
              "outlinewidth": 0,
              "ticks": ""
             }
            },
            "type": "scatterpolar"
           }
          ],
          "scatterpolargl": [
           {
            "marker": {
             "colorbar": {
              "outlinewidth": 0,
              "ticks": ""
             }
            },
            "type": "scatterpolargl"
           }
          ],
          "scatterternary": [
           {
            "marker": {
             "colorbar": {
              "outlinewidth": 0,
              "ticks": ""
             }
            },
            "type": "scatterternary"
           }
          ],
          "surface": [
           {
            "colorbar": {
             "outlinewidth": 0,
             "ticks": ""
            },
            "colorscale": [
             [
              0,
              "#0d0887"
             ],
             [
              0.1111111111111111,
              "#46039f"
             ],
             [
              0.2222222222222222,
              "#7201a8"
             ],
             [
              0.3333333333333333,
              "#9c179e"
             ],
             [
              0.4444444444444444,
              "#bd3786"
             ],
             [
              0.5555555555555556,
              "#d8576b"
             ],
             [
              0.6666666666666666,
              "#ed7953"
             ],
             [
              0.7777777777777778,
              "#fb9f3a"
             ],
             [
              0.8888888888888888,
              "#fdca26"
             ],
             [
              1,
              "#f0f921"
             ]
            ],
            "type": "surface"
           }
          ],
          "table": [
           {
            "cells": {
             "fill": {
              "color": "#EBF0F8"
             },
             "line": {
              "color": "white"
             }
            },
            "header": {
             "fill": {
              "color": "#C8D4E3"
             },
             "line": {
              "color": "white"
             }
            },
            "type": "table"
           }
          ]
         },
         "layout": {
          "annotationdefaults": {
           "arrowcolor": "#2a3f5f",
           "arrowhead": 0,
           "arrowwidth": 1
          },
          "autotypenumbers": "strict",
          "coloraxis": {
           "colorbar": {
            "outlinewidth": 0,
            "ticks": ""
           }
          },
          "colorscale": {
           "diverging": [
            [
             0,
             "#8e0152"
            ],
            [
             0.1,
             "#c51b7d"
            ],
            [
             0.2,
             "#de77ae"
            ],
            [
             0.3,
             "#f1b6da"
            ],
            [
             0.4,
             "#fde0ef"
            ],
            [
             0.5,
             "#f7f7f7"
            ],
            [
             0.6,
             "#e6f5d0"
            ],
            [
             0.7,
             "#b8e186"
            ],
            [
             0.8,
             "#7fbc41"
            ],
            [
             0.9,
             "#4d9221"
            ],
            [
             1,
             "#276419"
            ]
           ],
           "sequential": [
            [
             0,
             "#0d0887"
            ],
            [
             0.1111111111111111,
             "#46039f"
            ],
            [
             0.2222222222222222,
             "#7201a8"
            ],
            [
             0.3333333333333333,
             "#9c179e"
            ],
            [
             0.4444444444444444,
             "#bd3786"
            ],
            [
             0.5555555555555556,
             "#d8576b"
            ],
            [
             0.6666666666666666,
             "#ed7953"
            ],
            [
             0.7777777777777778,
             "#fb9f3a"
            ],
            [
             0.8888888888888888,
             "#fdca26"
            ],
            [
             1,
             "#f0f921"
            ]
           ],
           "sequentialminus": [
            [
             0,
             "#0d0887"
            ],
            [
             0.1111111111111111,
             "#46039f"
            ],
            [
             0.2222222222222222,
             "#7201a8"
            ],
            [
             0.3333333333333333,
             "#9c179e"
            ],
            [
             0.4444444444444444,
             "#bd3786"
            ],
            [
             0.5555555555555556,
             "#d8576b"
            ],
            [
             0.6666666666666666,
             "#ed7953"
            ],
            [
             0.7777777777777778,
             "#fb9f3a"
            ],
            [
             0.8888888888888888,
             "#fdca26"
            ],
            [
             1,
             "#f0f921"
            ]
           ]
          },
          "colorway": [
           "#636efa",
           "#EF553B",
           "#00cc96",
           "#ab63fa",
           "#FFA15A",
           "#19d3f3",
           "#FF6692",
           "#B6E880",
           "#FF97FF",
           "#FECB52"
          ],
          "font": {
           "color": "#2a3f5f"
          },
          "geo": {
           "bgcolor": "white",
           "lakecolor": "white",
           "landcolor": "#E5ECF6",
           "showlakes": true,
           "showland": true,
           "subunitcolor": "white"
          },
          "hoverlabel": {
           "align": "left"
          },
          "hovermode": "closest",
          "mapbox": {
           "style": "light"
          },
          "paper_bgcolor": "white",
          "plot_bgcolor": "#E5ECF6",
          "polar": {
           "angularaxis": {
            "gridcolor": "white",
            "linecolor": "white",
            "ticks": ""
           },
           "bgcolor": "#E5ECF6",
           "radialaxis": {
            "gridcolor": "white",
            "linecolor": "white",
            "ticks": ""
           }
          },
          "scene": {
           "xaxis": {
            "backgroundcolor": "#E5ECF6",
            "gridcolor": "white",
            "gridwidth": 2,
            "linecolor": "white",
            "showbackground": true,
            "ticks": "",
            "zerolinecolor": "white"
           },
           "yaxis": {
            "backgroundcolor": "#E5ECF6",
            "gridcolor": "white",
            "gridwidth": 2,
            "linecolor": "white",
            "showbackground": true,
            "ticks": "",
            "zerolinecolor": "white"
           },
           "zaxis": {
            "backgroundcolor": "#E5ECF6",
            "gridcolor": "white",
            "gridwidth": 2,
            "linecolor": "white",
            "showbackground": true,
            "ticks": "",
            "zerolinecolor": "white"
           }
          },
          "shapedefaults": {
           "line": {
            "color": "#2a3f5f"
           }
          },
          "ternary": {
           "aaxis": {
            "gridcolor": "white",
            "linecolor": "white",
            "ticks": ""
           },
           "baxis": {
            "gridcolor": "white",
            "linecolor": "white",
            "ticks": ""
           },
           "bgcolor": "#E5ECF6",
           "caxis": {
            "gridcolor": "white",
            "linecolor": "white",
            "ticks": ""
           }
          },
          "title": {
           "x": 0.05
          },
          "xaxis": {
           "automargin": true,
           "gridcolor": "white",
           "linecolor": "white",
           "ticks": "",
           "title": {
            "standoff": 15
           },
           "zerolinecolor": "white",
           "zerolinewidth": 2
          },
          "yaxis": {
           "automargin": true,
           "gridcolor": "white",
           "linecolor": "white",
           "ticks": "",
           "title": {
            "standoff": 15
           },
           "zerolinecolor": "white",
           "zerolinewidth": 2
          }
         }
        },
        "title": {
         "text": "Pie of outcome"
        }
       }
      }
     },
     "metadata": {},
     "output_type": "display_data"
    }
   ],
   "source": [
    "pitch_data.show_histogram(\"outcome\")\n",
    "pitch_data.show_pie(\"outcome\")\n"
   ]
  },
  {
   "cell_type": "code",
   "execution_count": 6,
   "metadata": {},
   "outputs": [
    {
     "data": {
      "application/vnd.plotly.v1+json": {
       "config": {
        "plotlyServerURL": "https://plot.ly"
       },
       "data": [
        {
         "hovertemplate": "x=%{x}<br>y=%{y}<br>hitability=%{marker.color}<extra></extra>",
         "legendgroup": "",
         "marker": {
          "color": [
           -0.11248017035408593,
           0.11856140093466813,
           -0.015550004916689895,
           0.2034676081273586,
           -0.08233706507962797,
           -0.3670162059507946,
           -0.06746018522508175,
           -0.010652813102480937,
           -0.009196846009121296,
           -0.058475174934737695,
           -0.6046384035465543,
           -0.02559400239487838,
           -0.03719765256191742,
           -0.0413829600071309,
           -0.027073778449674773,
           -0.03443779218681184,
           0.01902542333359767,
           -0.15355318763732195,
           -0.018074430092952027,
           -0.040082303880653175,
           -0.09103082022274739,
           0.008889712594749058,
           -0.028734050622532252,
           -0.032199521742096095,
           0.027269031799877604,
           0.0272148810911196,
           0.04300684425203902,
           -0.1000461906260368,
           0.018701004005618485,
           -0.14434382050780623,
           0.04048398400700324,
           0.27881946748000863,
           -0.027606726358608787,
           -0.015894508160481265,
           -0.022801915245650468,
           0.15199367569960986,
           -0.022625621301110965,
           -0.04996853480451814,
           -0.03166798131188296,
           -0.1275497387171554,
           0.005828077583225721,
           0.07086164586409015,
           -0.025612364838724182,
           -0.03540425119391345,
           -0.07495512758056694,
           0.17094177771075672,
           -0.5049423680363416,
           0.15579884247713524,
           -0.019652265076110186,
           0.008346292019359087,
           -0.4859916514289743,
           -0.06600919573422842,
           0.010980629608870923,
           -0.02342079793860167,
           0.12671004840461172,
           0.019038889852420828,
           -0.06128229268500599,
           -0.05733566371743628,
           -0.009715945783019377,
           -0.04935714257747954,
           -0.02766573335299944,
           -0.04161109669442944,
           -0.031571898818839296,
           -0.024353984452624922,
           -0.21163779967144447,
           -0.07963408121631683,
           0.004788377492063655,
           -0.004260947469152619,
           -0.12479617308082988,
           0.022703264995437084,
           0.024992241312305236,
           -0.11887663143695465,
           0.15103782584906186,
           0.021036672200535445,
           -0.026959858371393298,
           -0.04661893972620148,
           -0.06944109337885714,
           0.029058995371982015,
           0.03434687135293576,
           -0.10541248713556439,
           0.007106882685266026,
           0.005120246046227374,
           -0.06339000287713846,
           0.12171767400483643,
           0.11724087082573616,
           0.03328028305730876,
           -0.01682638228046889,
           -0.06953944766975682,
           0.3052996009414175,
           0.13203309563738477,
           0.06880355897756628,
           -0.08614986343223757,
           0.09421698565847503,
           0.03433301396917559,
           -0.22726133017597766,
           -0.021345550100787192,
           0.005366448343520895,
           -0.01390217696710097,
           -0.021180294181245028,
           -0.3307888832697871,
           -0.03729414029142443,
           0.36013521219706696,
           0.251437650701601,
           -0.03602925519459317,
           0.18072537961217153,
           -0.020262721404853894,
           0.13317064434497883,
           0.07409945303425522,
           -0.04150226712606194,
           -0.010162486667314988,
           -0.06888981480338258,
           -0.07026754978073366,
           -0.10823270071889486,
           -0.007275075103223123,
           -0.05215747685482225,
           0.09342848761386263,
           0.3561643169961279,
           0.017499827584393852,
           0.0976698105140962,
           -0.08251423323096305,
           -0.018709274682485212,
           0.1274056643578231,
           0.06174559538390632,
           0.04127732692637381,
           -0.0014557547923478254,
           -0.02698042271476058,
           -0.05157646410394639,
           -1.3270875285034478,
           -0.030618862697604013,
           -0.024242705547973028,
           -0.06730458821812094,
           0.03773765194385861,
           0.09407258222381153,
           -0.027526599683130655,
           -0.01728627964757538,
           0.10647109305419017,
           0.06642148153308587,
           0.02647817357363014,
           -0.04897835343033021,
           -0.0606950307308749,
           0.09267242956572945,
           -0.10263381717369707,
           -0.025616730763548232,
           0.026024307257406672,
           -0.027848271757540562,
           -0.06361627493846843,
           -0.02851066162895766,
           0.04816493745031949,
           0.05589774961178365,
           -0.057115791887824015,
           0.013384069470761902,
           0.019722178769779816,
           -0.06356532297386089,
           -0.2423732724491565,
           -0.02498772061094483,
           -0.19765123712182642,
           0.1343241902306092,
           0.00023269866549401942,
           0.2530360889623025,
           0.003962196488478401,
           -0.05865598550234175,
           0.03898156283139926,
           -0.00031056057155564573,
           0.08342626601621236,
           -0.02794378229779775,
           -0.016513643124580722,
           0.06825379218100812,
           -0.2793792746964589,
           -0.00028621145755516674,
           0.037214961170683986,
           -0.004232124083254306,
           -0.01929766081139739,
           -0.03916095471310765,
           0.20605444229302974,
           -0.15501964524224898,
           -0.006718525253321452,
           0.03485732683827443,
           -0.0064734210205502065,
           -0.03572924438285564,
           -0.015057197150334828,
           -0.15206233056120355,
           -0.03398746403021051,
           0.2523689420919717,
           -0.049432570013014585,
           -0.24917005110398346,
           0.22332128476136054,
           -0.061065897764559514,
           -0.03170736358599235,
           0.03954582267716059,
           -0.025031822513180316,
           -0.011496646878782685,
           -0.004941423983502831,
           0.0014637151100392065,
           0.4157821147771078,
           -0.025544587746962697,
           -0.014541675768488558,
           0.034107547712865456,
           -0.09347720655482435,
           -0.03389138135397333,
           -0.19949819344502637,
           -0.011198893015214036,
           0.03197920216778684,
           -0.018758816577772,
           -0.012076995618654395,
           0.022295962214230962,
           -0.05172620943110184,
           -0.03065166437068753,
           0.05440718137169431,
           -0.031272443604562536,
           -0.0934759133808498,
           -0.022295353300626975,
           -0.05831256977715745,
           -0.03104088742681374,
           -0.05698973537351443,
           -0.16356083780938366,
           0.03538442137986201,
           0.029606200192858194,
           0.05796006091195714,
           -0.021652783440744734,
           -0.1664802883852919,
           0.06070095616690193,
           -0.3347512027746773,
           0.10869756506341076,
           -0.04497782913400262,
           -0.03618770387791206,
           0.023207747730538773,
           -0.029071651003773243,
           -0.0464249080329751,
           0.014711222351564442,
           -0.1393907369547674,
           -0.005739418743281592,
           -0.10519164641267134,
           0.043977313208182635,
           0.1719289276971016,
           -0.02514997664656314,
           0.03430222732899268,
           -0.29283804137406466,
           -0.016220376374120077,
           -0.02095157417975076,
           0.04305885982584961,
           -0.20996030709484348,
           -0.06007682775222823,
           -0.17219306199490414,
           -0.023186416754543925,
           -0.06677908184359711,
           -0.0167656130220675,
           0.03505795935225787,
           -0.021637350839863876,
           -0.07727514162467386,
           0.03589330182679146,
           -0.029186184620842857,
           0.020401676616692076,
           -0.007486266554346055,
           0.005826335063054358,
           0.008509729788694596,
           0.18922440871546556,
           0.07468256234751888,
           0.0008389512252401102,
           -0.17545158091717958,
           -0.032028494300024954,
           0.11067936441601016,
           0.01115373420049498,
           -0.05791454382819637,
           0.006751906323582292,
           -0.02486253582205416,
           -0.019515110667924874,
           -0.10808770943745376,
           0.07404807716936862,
           -0.12100711472012125,
           -0.024950962207108927,
           -0.006676993237798892,
           0.08779705845886017,
           -0.0654144510003452,
           0.014682831359229735,
           -0.04201925397199439,
           0.20686504043224538,
           -0.10628512246418681,
           -0.0385050059945916,
           -0.6225784013447118,
           0.04196935532961473,
           -0.7464195547921482,
           0.06556864285465658,
           -0.03260764945218536,
           0.0009344430282877581,
           1.1739119461045675,
           0.20272169769332507,
           0.07170424177279991,
           -0.007845238225829942,
           -0.02504948345807256,
           -0.0003902626210074038,
           0.01331184808810437,
           0.0793832122754001,
           0.22094875788880922,
           -0.037310693837612874,
           -0.10983312911546936,
           0.34486981460622895,
           -0.35951498273955357,
           0.06825558171114261,
           -0.030624546664809425,
           -0.03277076667094016,
           -0.0025733748331759885,
           -0.026401286060432894,
           0.1497282628952528,
           0.018951598643404805,
           -0.07222834968020114,
           -0.00404034874688809,
           -0.024563360577177232,
           0.05988045082293347,
           -0.2297319903131234,
           -0.0165657294568766,
           -0.035744784773731574,
           -0.09148159573201337,
           -0.15521025987126516,
           -0.07407135698736007,
           -0.7311636973766693,
           0.021871253394770546,
           -0.027396998999100225,
           -0.025944352476746063,
           0.04661385069293052,
           -0.036307948062200564,
           0.10672057707957365,
           0.06448729457982087,
           -0.263250054284972,
           -0.01698335430062595,
           0.0651341575669174,
           -0.08058635424400044,
           0.44983641335441593,
           0.008356612994338947,
           -0.03729292273283805,
           -0.0063283547877471475,
           -0.050663607875432407,
           -0.014646513761360374,
           -0.004280288941082744,
           -0.03432109184060855,
           0.1225979709289755,
           -0.026339293523030133,
           0.07104492570272934,
           -0.023253547081450405,
           -0.031309084454940045,
           -0.0824463570783604,
           0.16052373589629138,
           -0.18925488226679926,
           0.05210097368208325,
           0.08909898561691369,
           0.0196680208338404,
           -0.02215407520432795,
           -0.030109228103883275,
           0.19243833118455209,
           -0.036601131912166456,
           0.17760565578071036,
           0.003517092775425042,
           -0.018582267593727275,
           -0.04021214812332911,
           0.07832297498649635,
           0.06728286452574408,
           -0.05373412981821236,
           0.12990686637241577,
           -0.03412046154155987,
           -0.008781501808081564,
           0.1024655490297898,
           0.12151300518592949,
           -0.018334281312395877,
           -0.03310971827293405,
           -0.008165808494179855,
           0.2308880040010067,
           0.07803716631044375,
           -0.017861131369796352,
           -0.017313732492875156,
           0.013125682557349458,
           -0.08439988705242522,
           -0.01886126203306053,
           0.002614388738453638,
           0.015722025211180872,
           -0.07147213991861613,
           -0.18153406254774804,
           -0.05218248276145456,
           0.00799873455504511,
           0.1229196143734003,
           -0.026213351524284167,
           -0.21860238735907153,
           0.04483390681304787,
           0.07044544382812878,
           0.043705747445330005,
           -0.07502810031501089,
           -0.030381326530245122,
           -0.04091876078020751,
           -0.04990264696102759,
           -0.05704109051309079,
           -0.03869850171422765,
           0.2661382635787905,
           -0.021123421638313475,
           0.25197091307121455,
           0.10426802458189004,
           0.33120745107425936,
           -0.04769948929137299,
           -0.011020637194902285,
           -0.03535408733823218,
           -0.047280734577196934,
           0.030429897625946438,
           -0.003035333896048321,
           -0.02954191858765323,
           -0.008120939278452107,
           0.36026323226830553,
           0.1790290669024988,
           -0.03481786927887332,
           0.07494222671809357,
           0.07587861056771436,
           -0.023032621796514115,
           0.03838733059821332,
           -0.029422681006111475,
           0.008113892172472294,
           -0.05319374931627478,
           -0.43770432336963205,
           -0.0142557041583516,
           -0.04146033054397174,
           0.30027219515258297,
           0.07110180065600688,
           -0.03670437572228712,
           -0.03038605803238083,
           -0.030924233641569505,
           0.0923714262618383,
           -0.15206164513975037,
           0.051391324599768376,
           -0.010379329425535813,
           -0.005793846504067703,
           0.08391092149790175,
           -0.004661287472331203,
           -0.041219013915731906,
           0.002752443527190922,
           -0.005606702980872738,
           -0.04468271696170651,
           0.035917969987015935,
           -0.03612793009033055,
           0.03517352910815753,
           -0.040339074363811026,
           -0.027645164026433543,
           0.10732661078074514,
           0.08743010600173486,
           -0.03376268351767605,
           0.06437873273314323,
           -0.8188244390897812,
           -0.03448064646058729,
           -0.175920910801807,
           0.03133282633658395,
           -0.10155777793113761,
           0.1681765761054957,
           -0.060744627197267136,
           -0.18448001358119534,
           0.003888624549713777,
           -0.03816052708983275,
           0.04508223193591283,
           0.4823634178740436,
           0.037791448443383606,
           0.19452667778992913,
           -0.0057963811387158936,
           0.14035459147673526,
           0.002516372171584391,
           -0.0558696075289202,
           0.05913455537844899,
           -0.11563564666421261,
           -0.03316508736042944,
           -0.00786456108705301,
           0.309022471035809,
           0.1026218899076251,
           -0.5264557366524397,
           -0.0028588729233284312,
           0.16258370782895754,
           0.14530008979386733,
           0.06969821859661036,
           -0.006522941535435214,
           -0.06428658341877708,
           -0.015178170681122162,
           0.11195073403810521,
           -0.02601965528052045,
           0.006943194672120072,
           0.05503828925329695,
           -0.05043522199434154,
           0.03067241186924066,
           0.08633752676979041,
           -0.024654866519622603,
           -0.03456172952112325,
           0.02187582603444856,
           0.06866093609777153,
           -0.010483264522922055,
           0.16025148017211074,
           0.0007678797495752443,
           -0.05731747859311325,
           -0.03778672418391054,
           0.007201864811154561,
           -0.023276797923826066,
           -0.023475480174674303,
           -0.02175302058362472,
           -0.025989771887335575,
           0.3094509294176778,
           -0.09131547840986556,
           0.07417193507170297,
           -0.0036680063390273953,
           -0.11553289458775008,
           -0.45095308811504986,
           -0.0866157489512046,
           -0.01634423182118243,
           -0.01662878116420813,
           0.013556287189139097,
           -0.09848718594305908,
           -0.02772497387124521,
           -0.02536277492527744,
           0.07803645833533873,
           0.019364132653790573,
           0.2843205848507876,
           -0.03562899441941036,
           0.006444703171372683,
           -0.03895270916195552,
           -0.07446633990159703,
           0.0571932672508269,
           -0.016731244186900942,
           -0.011235041376483292,
           -0.06411792888269627,
           -0.09869779026746393,
           0.14794183001531408,
           0.0026959904672475728,
           -0.02062449601868078,
           0.00848431508567095,
           -0.062129072775829235,
           0.003580677435071775,
           0.14485122414441545,
           -0.025365719587296224,
           -0.09152849591525118,
           -0.06714957900632952,
           -0.0046117746484083955,
           -0.09056548837607677,
           0.032285205306039295,
           0.017525016191866218,
           -0.005797493855150865,
           -0.04430931017129214,
           0.10914444703096404,
           0.01784940901298209,
           -0.026477934680084123,
           -0.02552960698316467,
           -0.015116772743847338,
           -0.026546623971530788,
           -0.022328085351200646,
           -0.026361678178372976,
           -0.041424600368141655,
           0.10657405030967086,
           -0.020703107251499465,
           0.21456813363689342,
           -0.05112930420872169,
           0.02567491640225335,
           -0.018047111358742388,
           0.12581246581410174,
           -0.08103843673401777,
           0.10757183201782958,
           -0.007405977040988959,
           -0.03888864740543053,
           -0.025212667164324368,
           -0.026439502983211394,
           -0.027507604783672677,
           0.03866283872352435,
           -0.06041924364716101,
           -0.09889466531987079,
           0.05977088800157113,
           0.08077330818252944,
           -0.023328995661716784,
           -0.025081778019644747,
           -0.05082229310374627,
           -0.05031035911562992,
           0.27423667532786045,
           -0.02800367839653566,
           0.04952053867074331,
           0.016147000590173474,
           -0.08152817915654946,
           -0.027142595464058655,
           0.23510770441509482,
           0.13261931570722577,
           -0.01674341279516833,
           0.08975215957730061,
           0.12122405201306725,
           -0.09638114267837965,
           0.006278395100031907,
           0.004112198517659563,
           -0.00686876182659961,
           -0.01625205444009054,
           0.026228653365147975,
           0.3102093511243705,
           0.04100569972836813,
           -0.031393023105418846,
           -0.02725140213722103,
           -0.16268424383377778,
           0.0673004317799317,
           -0.032012480821810234,
           0.013259199658640428,
           0.04089999940936776,
           -0.1076423327957093,
           0.06465578658930883,
           0.06917165125185365,
           -0.13092466192715874,
           -0.027388047085253206,
           -0.17526620621441996,
           -0.4703398083547249,
           -0.04983932498727094,
           -0.1395214141831414,
           -0.2522132125526692,
           -0.06514292422264163,
           -0.0032459253047502534,
           -0.8674177507395072,
           0.004327440381223139,
           0.0728518471039278,
           -0.027179250365352264,
           -0.05040001456037167,
           0.0198605153810932,
           0.001974841029301284,
           -0.05037556928289134,
           0.01529001770025761,
           -0.0354164254825641,
           -0.020999643817543122,
           0.032201363046561265,
           -0.04316617217046735,
           -0.1378734016197133,
           -0.005629377173125738,
           -0.04020828330727743,
           -0.02079070758393572,
           -0.025344929479933564,
           -0.003006770851256664,
           -1.6617897333749032,
           -0.04817107172332856,
           -0.13708385687208288,
           -0.025217893624903155,
           -0.04870733521347918,
           -0.030762933121636447,
           0.0542404154165964,
           0.05428030708094395,
           0.04812434800073751,
           -0.1654542307364383,
           -0.08650642196045133,
           -0.0753051788399075,
           0.13341738204558604,
           -0.03423826139508167,
           -0.049602179172413004,
           -0.02616144486603653,
           -0.044749743856603186,
           0.004228138978112066,
           -0.007405058727171026,
           -0.038764742631743204,
           -0.16045641125394344,
           0.10557940950562025,
           -0.027715602168348244,
           -0.029404472485511122,
           -0.09541163522386084,
           -0.13212373850002065,
           0.01683862520284548,
           -0.012554272021207059,
           -0.026981388573782805,
           -0.0127374846953457,
           -0.00921008449529063,
           -0.0241142280400935,
           -0.021659373074489428,
           0.3269185630871943,
           -0.025649036176523327,
           0.129426171303674,
           0.10543034755077076,
           -0.10069963055865797,
           0.31026421981441066,
           -0.08948422169166632,
           -0.057451074962115614,
           -0.024569183767635876,
           0.07021710893509014,
           0.40912509580144946,
           -0.017497119339493616,
           -0.009628171801597595,
           0.03335359996547273,
           0.026775191903268897,
           -0.06708592490625433,
           -0.041850091655745984,
           -0.030504764621120048,
           0.03737152502817324,
           -0.058938070024277596,
           -0.04883528180331945,
           -0.03295376303501699,
           -0.03221801498091186,
           0.19604535726562286,
           -0.14126138393388102,
           0.012381133743351144,
           0.02644835580539449,
           -0.09483854197864255,
           -0.022781239862091282,
           0.05849559591955675,
           0.23504520173835347,
           0.009380041778345023,
           0.05088253682157486,
           -0.5589128136939447,
           -0.025207253202459243,
           -0.09992104838927567,
           -0.01976303861960031,
           -0.060298266260290424,
           0.006210411786593468,
           0.006858702099320541,
           0.17105645546697537,
           -0.04561218234024031,
           -0.017287696295263454,
           0.11686961687421327,
           0.03172853798969606,
           -0.0827940689791739,
           -0.0314431579656128,
           0.0003442913801210388,
           -0.01942052674685849,
           -0.014608554438409681,
           -0.04314886052329389,
           -0.03049570669550635,
           -0.0270982450398195,
           0.005382180749019637,
           -0.05196227079774641,
           0.0640745186323409,
           -0.20032497838242336,
           0.05608530785437044,
           -0.08797479639819976,
           -0.06667250361761419,
           0.11879222291042153,
           -0.02823983815724038,
           -0.004676010278020116,
           -0.024521433044349977,
           -0.022053061362927902,
           0.08853571813589307,
           -0.37586155266337357,
           -0.01060544442125887,
           0.0065188952655266565,
           0.11921037297928158,
           0.029550448990937866,
           -0.021044766022770306,
           -1.1331034491185084,
           -0.005451101242212138,
           -0.14478684581904347,
           -0.10807011536056389,
           -0.11548011913051004,
           -0.026816113533691486,
           0.07044601312768219,
           -0.03227723431990102,
           0.3401165790062283,
           -0.009992478742075829,
           -0.036244696886606476,
           -0.08896605328196333,
           0.14097103779210843,
           0.04053168850336784,
           -0.005576787110753114,
           -0.025474559797970985,
           -0.02448275831657403,
           -0.03045058769903557,
           -0.026606320040539956,
           0.1005877477459267,
           -0.043085754936166835,
           -0.05793249414133626,
           0.17987623259250796,
           -0.008648401952845509,
           -0.009831503081632671,
           -0.01366057017541533,
           0.04811886900816693,
           -0.051223281833685366,
           0.0371994716253196,
           -0.007554187600998344,
           0.00398856106857966,
           -0.006004915805231919,
           0.01760540884367041,
           0.042612083428045414,
           -0.04406799505445658,
           0.08968968616499699,
           -0.007786676977627404,
           -0.06664914823177648,
           0.06410661536291432,
           -0.01966201699531571,
           -0.03077912975034412,
           0.027120430552589957,
           -0.0305766415165197,
           0.012113017773734592,
           -0.05114621038564786,
           -0.006800634353976115,
           0.10469542682620615,
           0.001843161139477329,
           -0.039159097339764505,
           -0.037694366870691685,
           0.051787154714572646,
           -0.1966649009747379,
           0.10418794412565015,
           -0.2833302206894252,
           0.09566748086812528,
           -0.02433230240275456,
           0.2267017560603585,
           -0.013214513988364861,
           -0.08783965255232319,
           -0.047632112716711854,
           0.07123863021276271,
           -0.08116723000265795,
           0.10406194610769162,
           0.14739495626995094,
           -0.6422560827615886,
           -0.012753301055686022,
           0.17536206283151923,
           -0.15464297081581563,
           0.10322379479400233,
           -0.04692280495366254,
           0.1299223651608942,
           0.06088438808997025,
           0.006826982477252856,
           -0.06227314036086029,
           -0.14875778916439797,
           -0.006484530758351961,
           0.15759184169193766,
           0.2564413675485444,
           -0.22287988784020799,
           -0.16183186979184788,
           -0.10802001430471828,
           -0.048437291974906836,
           0.07652463863898552,
           -0.025627691670427995,
           -0.14158628366581139,
           0.10351062283386726,
           0.06448988401368078,
           -0.04403511099123997,
           -0.28707830071417434,
           -0.014818537088357717,
           -0.013610179708317375,
           0.041410707202487095,
           -0.02873413951933337,
           0.010673870036604659,
           0.02237363225205069,
           0.024387821776749627,
           -0.2662054520025039,
           0.1870972192783414,
           -0.02575987440018201,
           -0.0724668620857934,
           0.00605267993517702,
           0.012067906258478112,
           -0.03535131003055612,
           -0.07258721422726243,
           -0.10740020083039246,
           0.05783288522542448,
           -0.18200175000780883,
           -0.017935476770688793,
           -0.21227273696408072,
           -0.035438696935964846,
           -0.06950249110583509,
           -0.03669759659866091,
           0.06634072696705388,
           0.061794858653906076,
           0.35064734230744815,
           -0.04986070401094044,
           -0.1267991131492776,
           -0.0075818429306471645,
           0.01066280629244322,
           0.051566604890496304,
           -0.03927014413122968,
           -0.03093028899603306,
           -0.005757090581628998,
           -0.10198593848865407,
           0.07213844293224447,
           -0.0802105420029602,
           0.4164828850292001,
           -0.02952408463529152,
           -0.04405077670290693,
           -0.10206626334116078,
           0.010702627738245648,
           -0.0063886635691443395,
           -0.7790543713544126,
           0.01396684276557097,
           -0.02073287707189401,
           0.214274711899569,
           0.16167955931199635,
           0.06764813718657599,
           -0.021997801321644604,
           0.10187394118242865,
           0.01058515669369176,
           0.008249889027821604,
           -0.3435897566549377,
           -0.10375840881762861,
           -0.015696851996301053,
           0.02016443329891318,
           -0.018324765719376728,
           0.024366369523571758,
           0.017607569573433665,
           -0.05003482384435611,
           -0.030293149521502253,
           0.0014019016672145838,
           -0.06795577750798168,
           -0.02038381810511522,
           -0.09040393500552686,
           -0.08415133274432424,
           0.03966331266986459,
           -0.1070014272078849,
           -0.04407063536837349,
           -0.017853989793039312,
           -0.03747520189321615,
           0.05893984821792261,
           -0.055402480911419645,
           -0.01171741480898553,
           0.040489914923777355,
           -0.014966427414388613,
           0.042664648765803954,
           0.018259878862216136,
           -1.4809340055981468,
           0.3375586636954742,
           -0.01959843007533927,
           0.09802241934156108,
           -0.027226543479914846,
           -0.018421271271387294,
           0.005721118008583371,
           -0.08140923840697856,
           -0.0436675739491661,
           0.030518865254453284,
           -0.024898638180846172,
           -0.06275601264730919,
           0.02319914920354391,
           -0.08577687444686079,
           -0.025593191821393572,
           0.19134329727944113,
           -0.014129976197878473,
           -0.22098511622458927,
           -0.012683164872530035,
           -0.025320799411174953,
           0.014219170331689738,
           -0.33349970541722673,
           -0.06240718649272479,
           0.08953655431914996,
           -0.02107178980902504,
           0.16105845697880863,
           -0.2850946687058104,
           0.24798478792499065,
           -0.06654103806827902,
           -0.01304697176922512,
           0.34391653036543235,
           -0.015620302901497763,
           -0.02442735906768533,
           -0.02171558799304691,
           0.03000199835459759,
           -0.03448280145392316,
           0.0883560893547439,
           -0.014673699648466914,
           0.4355007877135531,
           0.03506348633389642,
           -0.032209090570999487,
           -0.017476472946354946,
           -0.011377020827964997,
           0.11873100887529263,
           -0.009318145695027681,
           -0.2182471315208222,
           -0.16112878902480807,
           -0.01957952292815497,
           0.2779372356906836,
           0.01591872905346858,
           0.0036369939149955973,
           0.047593755849616386,
           0.012421381587279668,
           -0.010640192723542698,
           -0.05895785654677291,
           0.40293564929310016,
           -0.081196587165101,
           -0.017757486220317524,
           -0.03883896497278502,
           0.07969744263328106,
           0.0036186627237240906,
           0.12410159645963359,
           0.10673326297633051,
           -0.08254300279175064,
           -0.20838061569839514,
           0.00399031886431111,
           -0.018902198924023367,
           -0.04635101028516429,
           0.028696706470776615,
           -0.15697402570648858,
           -0.004407942057081012,
           0.15912189310986613,
           -0.20704825568515817,
           -0.020881121471650707,
           -0.042446777757844265,
           -0.16446081899179837,
           -0.09914403861227243,
           -0.01946205354868519,
           -0.019289299688234375,
           -0.0006141680236258631,
           -0.06854978749461783,
           -0.10334248178037503,
           0.003989820295331843,
           0.04268402853234636,
           0.07791568683178407,
           0.11217520254244091,
           -0.0017460053265632629,
           -0.02220001124220739,
           -0.02452077756857778,
           -0.05118438340224323,
           -0.0326176578301973,
           -0.02772351404015991,
           -0.015276253590706513,
           -0.024393416159741107,
           0.07088867309611942,
           -0.024499233476048002,
           -0.04400455927720624,
           0.009610769058855035,
           -0.012445475497549588,
           -0.09616521638584594,
           -0.027103789951737334,
           -0.03694135122242751,
           0.09227249898566059,
           -0.0033378892985609075
          ],
          "coloraxis": "coloraxis",
          "symbol": "circle"
         },
         "mode": "markers",
         "name": "",
         "orientation": "v",
         "showlegend": false,
         "type": "scatter",
         "x": [
          0.18750150948910416,
          -0.9558459142365802,
          0.5824499156011821,
          0.11409133802625056,
          -0.794112638015835,
          0.020447127647705305,
          0.14157671329140203,
          0.04802411512412716,
          0.6637783317678708,
          -0.18785971489753542,
          -0.001990781323067616,
          0.3567793865744791,
          -0.09390529961183457,
          0.9549992937962468,
          0.3020249222396123,
          -0.28428039376868736,
          1.0090290068650989,
          -1.975387508680779,
          0.34655775703993846,
          -0.45097673133083865,
          1.4449037691489623,
          0.9791818841278886,
          0.12509278432559687,
          -0.3432870504865767,
          -1.1383895243592888,
          -1.1226391633229111,
          -1.452272271623968,
          -0.09608722255424698,
          0.7264392559673462,
          -0.04550690364747314,
          0.9013240525381513,
          1.5668070740139548,
          -0.30109230946708904,
          0.44612487995841416,
          0.28373142385142863,
          1.9386512545654975,
          -0.5998679872400563,
          1.3288913927854618,
          0.5573695446822519,
          -1.7246540884173758,
          1.77771194946453,
          -1.5701831562511408,
          -0.3103151451918057,
          0.19759482584934862,
          0.8265219643076507,
          -1.4046735435318014,
          -1.4644121282623515,
          2.230752474360937,
          -0.42849818545057144,
          -0.5621861279813143,
          -0.024939479254506985,
          0.3659696473921173,
          1.1613159568379,
          0.254712698229132,
          0.9131806477519477,
          -0.13629657150691707,
          0.4493531788343218,
          -0.08300597658001983,
          -0.36855519732606573,
          -0.7165631751209923,
          -0.2779562103316217,
          -0.2624463110016937,
          -0.2802431322850738,
          0.3215945720275554,
          -2.0432524714702103,
          -0.798042888019618,
          -0.8064279161768807,
          -0.7764334553990971,
          -2.382586479502891,
          -1.1582037852898184,
          -0.48609103026345457,
          -0.564292616532431,
          2.0811820402825396,
          0.1492009302489077,
          0.23279967674240637,
          0.18776892807928894,
          0.20244776355675329,
          -0.645190081263369,
          0.6547562516525708,
          1.2078012109918248,
          0.44808277238963834,
          -0.48576029333545434,
          -0.2133096627321567,
          1.151659217049487,
          1.9317868584146805,
          -0.5092322233422764,
          -0.3955485704693938,
          -0.08784183011076578,
          -1.9406373746402097,
          -1.7071401400065134,
          -0.9907265000202555,
          0.5205101495694333,
          0.7386964250819124,
          -0.7620959072194512,
          0.0718145356332694,
          -0.11906697721351997,
          0.9485927415676261,
          -0.3901934884606692,
          -0.4989096346082022,
          0.08461542766604425,
          -0.38521284489266466,
          1.3419578638148582,
          0.86338805515807,
          -0.41806883195547995,
          -0.7910096224431705,
          -2.1080583832037227,
          0.6956536485743936,
          -1.291004968258452,
          0.5533001938930665,
          -1.0002278578824644,
          -0.003608009332702728,
          -0.7862734198761142,
          0.06907618064457216,
          -0.8959034937166785,
          -0.18726796168688173,
          -1.0604178651045546,
          -2.197085682357622,
          1.196770411717965,
          -0.6725408861730057,
          -1.0860329263988175,
          -0.36401522565004046,
          1.3365697234265537,
          0.23989070191202053,
          0.5883286847475513,
          -0.38970691846050876,
          0.4918430618737944,
          -0.5270557235923361,
          1.8604354303192516,
          0.279219843020386,
          -0.48349386828840746,
          1.2685861792859365,
          0.7835076392446719,
          -1.5164822735655328,
          0.25779632780042216,
          1.008364703261361,
          1.1931058912881245,
          0.11874163007938986,
          -0.9187256988633776,
          0.18123875044208834,
          -0.14765708314526624,
          0.7367784483572147,
          0.44103480850724736,
          0.27856778424974526,
          -0.6404127298569025,
          -0.3610736284277398,
          1.6073467618953667,
          -0.18082607874685816,
          0.6524903045643684,
          1.2875714860959078,
          -0.6922516830014942,
          1.4750303578441823,
          0.7038120077927381,
          -0.9742626913113646,
          -1.0724236028461511,
          0.3050218697161333,
          -0.07515876150196621,
          1.4929746413814093,
          -0.5534639810310525,
          1.977374266411132,
          -0.2093533996106099,
          0.2217153851446946,
          0.6879574446989182,
          0.4227686605116565,
          1.8729522568821941,
          0.29399101334786587,
          -0.6619466548665796,
          1.870359393867149,
          -0.0751839714339823,
          0.08791421529003964,
          -0.9129538585091426,
          -0.9296465014853275,
          0.10370305894194956,
          0.45458106370107937,
          -1.2129311648418581,
          1.3659905602303664,
          0.6541490519079843,
          -0.4414254578576657,
          0.9316882136988105,
          0.2524350498474667,
          0.7873060906231011,
          0.054976573407366704,
          0.4640255781527659,
          1.0603637289619139,
          0.1254384700583534,
          -0.02380621817972928,
          -1.002622078960282,
          -1.237218954938983,
          -1.7290493839224303,
          -0.44398207976084425,
          -0.387163422000963,
          0.468948099265516,
          1.9036626359432631,
          0.46434771319101126,
          -0.006341854019044343,
          -0.2300944817740893,
          1.5985445565385283,
          -0.5617654479679162,
          1.0389091019348076,
          -0.26274651655501274,
          -0.0017507934469141754,
          0.46890819254454924,
          -0.9239129537416809,
          0.4832213222588706,
          0.7395429590024178,
          0.41854386581660014,
          0.18368316705653853,
          -1.6917430699745055,
          -1.873924562683784,
          -0.20901182904225069,
          0.37023001682680245,
          -0.4387436818945317,
          0.0606730800587911,
          -0.2932783296332623,
          0.1857347896346858,
          -0.14178141758848334,
          0.9223501791593642,
          -0.9743835378569834,
          -1.0087138478346451,
          0.5439192087540913,
          0.10873370795066316,
          1.0693566724136065,
          1.689192095967141,
          -1.3503230227401735,
          -0.7265487313885777,
          -0.27719155013956503,
          0.8576479230198041,
          -0.23726797777924188,
          -0.4281276581331855,
          1.4149077050546468,
          0.10078357780379564,
          0.6110805146042474,
          0.12289828035761613,
          0.860759439768098,
          -1.2289048206282087,
          0.47074165676571783,
          -0.9471406653338326,
          1.2884611862931268,
          0.7775015869469114,
          0.32019657137869284,
          1.0125901055034707,
          0.06636933609050591,
          0.13532636568265707,
          1.207211593579695,
          -0.456997935917991,
          -0.5303393111208881,
          1.588119015683634,
          0.70801656201001,
          0.3740730739451262,
          0.6176158613272423,
          -1.4217310461098942,
          0.7754611912952732,
          -1.140726665784195,
          -1.0540039494169093,
          -0.8947505281842668,
          0.5035351339814573,
          1.3591532068181478,
          -0.0865895918826269,
          -0.22720767599373498,
          -0.10926927822475396,
          -0.270334678460546,
          -1.002570753865019,
          -0.6785957516240941,
          -0.18901547526657073,
          0.5270353221059898,
          1.434580150334902,
          -0.7514002464940835,
          -0.9715591870350712,
          -0.03161961230397246,
          -0.081726817843295,
          -0.37952897827720683,
          1.4941542855999743,
          0.8988303331636986,
          -0.08794171073419957,
          -0.6833469107288136,
          0.20281670324712117,
          -2.1073418702452376,
          0.12724019772388465,
          1.1737954416917569,
          -0.0060853283942440654,
          0.4377462554682232,
          -0.8441596008372912,
          -0.8824616948782271,
          0.5751503772835105,
          0.44485601157866067,
          0.009290820592710244,
          -0.07362693647791642,
          -0.8853053761014295,
          1.2857046184334255,
          -0.6237868766697127,
          0.20877997186588465,
          -0.559493105603747,
          0.9689674612273254,
          -1.2065597940816026,
          0.6877089464722758,
          -0.16127111636193028,
          -0.005195468577801488,
          0.04574150871244651,
          0.8073208973206476,
          -0.27140401715139667,
          -0.4976902376214444,
          0.2268558747099902,
          -0.17200150910041218,
          0.2483520301536625,
          0.9923382998454077,
          0.18239769666689068,
          -0.5205462437371655,
          -0.4158922234042999,
          1.2973841493802538,
          0.7279412587702375,
          -0.3569287685798699,
          -0.4492943095119611,
          0.8930328887614796,
          1.1315261179255158,
          0.9706617860614312,
          1.6718302380167993,
          1.047517610745555,
          1.5548426708386751,
          -0.46622476506174876,
          -1.2536502692682416,
          0.2854511413792511,
          0.9824831883064059,
          0.9010870262852578,
          -0.08135314269805057,
          -0.3895867345175514,
          0.7729557483325167,
          0.8856405839139468,
          1.6675527486793222,
          0.6376842932915989,
          -0.24871871786060015,
          -0.5020674005262846,
          0.12784466205434258,
          1.1208932354713526,
          0.4377236671717533,
          -0.4262824001168948,
          1.08371711735757,
          0.6418300540851539,
          -1.5391425402389052,
          0.7626079226322184,
          0.2840656641450728,
          -0.1806769062004008,
          -1.0864274235091327,
          -1.709723808567156,
          0.7760852387923934,
          -1.118117096235961,
          0.4718334831240445,
          0.9055318659482356,
          -0.3370832041480974,
          -1.622257301737618,
          1.1294533930523136,
          -1.495943235596852,
          0.6990117775368904,
          -0.2529027202253904,
          -0.27683253244930417,
          -1.0701906245931223,
          1.0066872730376462,
          -0.15330501718877595,
          1.1650584664726038,
          0.2770068770499518,
          0.8050067482944053,
          -1.6167700122801107,
          -1.2801525732406505,
          -0.16749081167746882,
          -0.4675282799207701,
          -0.6651979338692754,
          0.02705483390345709,
          -0.8473941577997905,
          1.8161775999439715,
          0.3632099497227159,
          1.1170268114021353,
          -0.6850568882396326,
          0.3324339055335609,
          -0.4706312731006156,
          -0.9847160445855394,
          -0.1790615419630906,
          0.12075392332186455,
          0.18830595335558734,
          0.9293284398796646,
          1.8477396543900877,
          -0.29490322810729186,
          -0.7361338929569755,
          -0.9745474322943362,
          0.07204598648192422,
          0.6679065461933208,
          -0.5886839297173436,
          -0.14030513487585153,
          -0.4370099764124449,
          -0.2258859158049,
          -1.0193499979485623,
          -0.11268486908941033,
          2.370657083920581,
          0.8084883338941984,
          -1.3804290930840515,
          0.7176790102688368,
          2.8274967158429667,
          0.0512173688842961,
          -0.38329289282379114,
          0.6579935299732269,
          -0.22113073836836317,
          -0.7228274280786603,
          -0.9324118531944534,
          -0.6419231340898525,
          -0.5550404888105112,
          0.00890995871041225,
          -1.6123615055642238,
          0.2564649686714308,
          0.5562203575650374,
          0.8641917071584483,
          -0.5272751817195935,
          -1.307567216275512,
          -0.27500768227409533,
          -0.6220511467117122,
          0.9770559751016805,
          0.019686247192181643,
          0.4172178764578297,
          -0.8910140562618173,
          1.057453819016275,
          -0.7659272719501307,
          0.5742984106823154,
          0.23321655024373086,
          -0.697606359794346,
          1.8610554937962003,
          0.13008876362311966,
          -1.1722922564643794,
          0.7151574927826723,
          0.06248368255660353,
          -1.6330033325537754,
          -0.3690788062039093,
          -0.5928189704818522,
          -1.52891518801809,
          -0.4878848670178972,
          -0.4526909549158258,
          0.45347279458561474,
          0.346676174231807,
          0.4491481678444897,
          0.9443525411819692,
          -0.29765750554658316,
          -1.8217655629099465,
          0.8041621213525807,
          0.6068440881917229,
          -1.1310943581512325,
          0.003678555440225055,
          -0.26023074664800533,
          0.09718229554035804,
          -0.5443044998840664,
          0.9969085064016932,
          -0.14542832131563202,
          -0.16204045514487062,
          3.0192259147423393,
          2.5288993407958995,
          0.4986279099391061,
          -0.062364756816021875,
          0.04168369850130107,
          -0.993045263338541,
          -0.9434020775486167,
          0.7953620878770105,
          1.0113979297825515,
          1.214030890501738,
          0.4912763969691421,
          0.8987448429954281,
          -0.12583120290552324,
          -0.41817391334049603,
          0.6737482812669515,
          1.2316220859836837,
          -1.1012941502499847,
          0.9991106067970243,
          0.5600983128139951,
          -1.5881297094830638,
          1.5896509482164656,
          1.6743457992706794,
          0.38755212310938447,
          -0.18392192371219537,
          0.5956638183120598,
          -0.8917899510954831,
          0.2548138144458227,
          0.60910389832714,
          -1.2477416433458512,
          1.4604897727753887,
          -1.6664214474690913,
          1.0730822529453232,
          0.3192737785663303,
          -0.28727799646194624,
          -1.2046841877782895,
          -1.56761648427594,
          0.8464792627489612,
          1.21085827542136,
          1.1036354442690695,
          -0.19097976864891236,
          -0.2767829601648973,
          -0.2042950636384898,
          -0.3559479316987677,
          -0.32381832609872246,
          1.4752830523306844,
          0.29155722452778343,
          -1.9646782758035692,
          0.8533897704025977,
          -1.2428398862221584,
          0.8676937150521922,
          -0.045453977397373245,
          0.0517208019595326,
          -0.1728816917006166,
          0.4636111515773852,
          0.4380883105063351,
          0.8142372128784693,
          -0.7397808563757576,
          0.2974038162314176,
          0.3178659784711431,
          0.808447403092485,
          -0.6528844944513629,
          1.7495143274868408,
          0.26883143008920307,
          0.9036161592783648,
          0.6143892836486718,
          3.145364577578479,
          0.781858792071714,
          0.5936937796073178,
          0.4196445517030057,
          -0.2149232064001799,
          0.9920452394178354,
          -0.9390047093145133,
          0.9710926167757247,
          -0.8476309332496,
          -0.20736850222485362,
          0.20619602436338552,
          -0.5174677917113785,
          0.08883780929752566,
          -0.20947485197739785,
          0.16816784653589478,
          -0.4097968721247469,
          0.7579420902401156,
          -0.02713682632694675,
          0.9622267841839915,
          -0.7961160911719377,
          0.8336963586070062,
          0.2093225942346635,
          0.7108533121962618,
          0.9388573069911805,
          -0.287460960351968,
          -0.7229860410273058,
          -0.4477717289379396,
          -0.30057805120890907,
          0.3702507919726901,
          0.43159514034112806,
          -0.411593432729139,
          0.981545128923365,
          1.3753929938940992,
          0.1700658766341649,
          0.2405794435663584,
          -1.8371221421375286,
          0.46903535255929096,
          2.0139589826074777,
          -0.12955503535867965,
          1.5690892559592466,
          0.5108627403851885,
          0.24495246573379453,
          -0.1776848263924029,
          0.3235647225038665,
          0.8109057377702978,
          -0.5311623745531798,
          -1.7479716065464974,
          -0.11956996176064938,
          0.780448812543878,
          0.8660844312033663,
          -1.8528567830232145,
          -0.3124376331212713,
          -0.6377629474311458,
          0.19235941411958538,
          -1.3771889489647806,
          -0.20233714495504956,
          1.102351035249749,
          0.8990792235178856,
          -0.08199388629038704,
          -0.4261625233597797,
          2.362733673115811,
          -1.279541251530912,
          0.48158527297420856,
          0.7895474126113072,
          1.7491603713089976,
          -1.1401599063832768,
          0.8006644721675376,
          -1.1387829977036663,
          0.22466425521074074,
          0.5292098449153547,
          0.4618479543867674,
          1.3193437126666894,
          0.4646701595010028,
          0.2620527478657364,
          0.3739563836504081,
          -0.041587175525440966,
          -1.7641453298505572,
          0.25072048492042426,
          0.6470431176729702,
          -0.7931437874144234,
          0.06773083516921735,
          -1.3591744923059985,
          -1.1372070049469962,
          -0.12884426293794204,
          -0.32973048596633386,
          -1.041315537666464,
          1.5923225160964078,
          -0.6590352498525687,
          0.3932141858710022,
          0.06578203246118204,
          0.648164140533522,
          0.5318280343135389,
          1.4502478529376066,
          0.7322424208912388,
          0.5639271370449699,
          0.2433232505969404,
          0.7664566968179357,
          -0.561670564452418,
          -0.7305415424511652,
          -0.9772787030451182,
          0.5098062691752636,
          0.7881270321532253,
          1.6667851538448943,
          -0.8960099750003394,
          1.226398488044208,
          0.05144348713150572,
          -0.43818803905496867,
          0.6322337050546587,
          -0.8605477558685379,
          0.30298209860909525,
          -0.5433426881757311,
          0.00032472425844484954,
          0.4027593844840792,
          0.07244387090997483,
          0.31482640383165283,
          0.3972839412278454,
          0.28076662665893876,
          -1.152481740937696,
          1.033911566843479,
          -0.8577370188458174,
          -0.03582752965088892,
          0.11842871984294628,
          -0.1710426386351666,
          1.1935747331876374,
          0.23117550778920298,
          -0.1754551859750114,
          -0.14546725129807614,
          -1.2397461294428025,
          -1.0903284960568644,
          0.24449561403716963,
          0.24872460961973816,
          0.027591977002935995,
          -0.9804261804917908,
          -1.32466198662193,
          -0.3285097739169876,
          0.20986713869247303,
          -0.14187220110906973,
          -0.04855456001075573,
          0.34510745763173434,
          -0.2976744693498111,
          -1.4180308004459377,
          -0.29169263968575326,
          0.5827434930320649,
          0.1831853994850478,
          1.3615615738720164,
          0.31113263623741294,
          -1.7692824174200659,
          1.7969475490646722,
          1.798950735857151,
          1.7144413304584778,
          0.18383410344369894,
          -0.15880440274961663,
          0.32820595045639456,
          -0.7665241432308573,
          -2.156559566783062,
          -0.5168311454924268,
          0.4278278994060036,
          -0.7378132656380156,
          -1.013641971966844,
          0.07950700588138893,
          -0.25961035120201553,
          -0.25959795419056203,
          -1.1522635627631939,
          0.4131833420661137,
          -0.4356554029661369,
          0.26654838589100355,
          0.28778389013404876,
          2.0141342232777726,
          -0.9000331871105516,
          0.7435941005549845,
          -0.504802393305324,
          0.8850020515165742,
          -0.5922850564151865,
          0.19850931719902523,
          1.8262533441167932,
          -1.0751158973175439,
          1.015646759940109,
          -0.0313052543351628,
          1.1643545134702507,
          -0.06063445011924718,
          0.3295976700310581,
          -0.5050434366946022,
          1.6782342170030096,
          0.45504251481228764,
          -1.4514142279798403,
          0.21503961455384546,
          -1.1793902984673084,
          -0.9252652476147902,
          -1.4617697518624135,
          0.6163150884677436,
          0.28532297266487544,
          -0.7594700693102199,
          0.004788561623511631,
          -0.4957971981094864,
          -0.6924106709018003,
          -0.36288444070389925,
          -0.2512532922616234,
          -0.48477088348490854,
          0.07514191229342616,
          1.0537445062871038,
          -2.3994048764479547,
          -1.1438212158030447,
          0.6986140208491283,
          1.3545201037724137,
          -0.9189684610326316,
          -0.24534255008408162,
          0.37721675030036883,
          0.31369938221197075,
          0.33896037191018746,
          -1.4292066269793315,
          -1.6703116926359567,
          -0.21337750668902067,
          -0.49941732157289653,
          1.1854458848120009,
          1.5926724790354907,
          -0.11931349822758339,
          1.8066443665902636,
          -0.4320772556527668,
          1.005241948013166,
          -0.035511091872875294,
          -1.049120246884286,
          -0.2980785400251722,
          1.4987323094667553,
          -0.5904180088814365,
          -1.8594102569725106,
          -0.07512874992020906,
          1.4691355554596817,
          -0.03848101880913401,
          0.7832824714784057,
          0.5998107110094836,
          0.5730974624444961,
          -0.2878491506788825,
          0.32052301126192834,
          -0.9858255314994526,
          -0.3012812181410461,
          -0.024860717215971644,
          0.21294432020276804,
          -0.03617441087021684,
          -2.4717212205213297,
          0.49287348529135744,
          -0.18739961813544295,
          -0.35819335893505677,
          -0.6868317697248758,
          -0.09737330044509629,
          0.8849580054708243,
          -0.10722333516551762,
          -0.7404756445295457,
          -0.45225966929898326,
          -0.8887408164165931,
          0.9515416883539293,
          0.09337354968543778,
          -0.8486693915475287,
          0.4785682222194003,
          -0.8233177709477456,
          -0.8244153315876517,
          -0.36666252754216966,
          0.8742218240249909,
          0.6481523458354889,
          0.45539490510447767,
          1.0482068789072554,
          0.21454943440606444,
          -0.5080297214118553,
          -1.2565102205310685,
          -0.6893999541252489,
          0.8725231707149605,
          -0.2409322825298918,
          1.0006571512915434,
          1.2739367829252748,
          1.5093669762180488,
          0.03437176989130834,
          -1.1060370058886297,
          0.27142495293211855,
          -1.6242494070579785,
          1.083775239238159,
          0.7900286833781075,
          -0.8687871153648565,
          1.1450416495288245,
          -0.7268254593889155,
          -0.6755681320963136,
          -2.2186094208286318,
          2.570470402566096,
          0.667313868482801,
          1.7080108536719436,
          0.9249059805821795,
          -0.04262456832507912,
          -1.4765366146049497,
          1.367732276515287,
          0.6055179146707302,
          0.6177253261480915,
          -0.6570640687642372,
          0.08003276044544815,
          0.5120275696147419,
          -1.3260009498973562,
          2.449395937757831,
          0.06944027121519572,
          1.2856106098993119,
          -1.3622288807585277,
          0.17207631109094138,
          2.915063142498501,
          0.28540855489781675,
          -0.10923182134029379,
          -1.8302829949670247,
          -1.0361195108920676,
          -0.6169435395482483,
          0.06462534524543358,
          -0.6681400598279698,
          0.7040885486754801,
          0.5395990623481088,
          -0.3149872921937734,
          0.717806340502044,
          0.989453747628775,
          0.49647878019784336,
          1.060871592423339,
          1.2593897647718193,
          -0.38398811938696553,
          0.1901805746904245,
          0.4266098645944573,
          -0.4956554431751392,
          -0.130376662613347,
          -1.1532606480764682,
          1.1930588329685212,
          0.9642610884830018,
          -0.8385526938494118,
          -1.0486779548489435,
          1.5526683595689517,
          -0.1284593556262421,
          0.14537992869138772,
          0.25118783357835256,
          0.09052463665443361,
          0.9641994759687387,
          -1.543159468020655,
          1.133727896977074,
          0.07895177384426863,
          -1.2403714382999522,
          -1.7323003160402388,
          1.151735454359095,
          0.15703463628236958,
          -0.2017788099867743,
          -0.47441890487282246,
          -0.9243975397116685,
          0.9514609017088516,
          0.07751780708827764,
          -1.6530698291427954,
          0.6636178190593636,
          -1.4532401444125493,
          -0.41679304496012826,
          -0.4760948800207707,
          1.0158682568470054,
          0.007764900485658186,
          -0.5555942628523863,
          0.3772415784592388,
          -0.0636342396488518,
          -0.055815701699960786,
          -0.8441204867459378,
          -0.9970634466373478,
          0.8772227718868487,
          -0.5012826279575608,
          1.7045884920691348,
          -0.04250095821429401,
          0.020908789707795267,
          0.09030904913812395,
          1.0915290673301652,
          -0.7738000141207769,
          -0.6577721904091984,
          0.5591908396731167,
          -1.7314751799488906,
          0.28451028049373095,
          -0.13361507964843042,
          -1.2762328844501796,
          0.4154773628275091,
          -0.5824481609492056,
          -0.12927436750646376,
          -0.9731751640733837,
          -0.49641596388606124,
          -0.09422925039469707,
          -0.5245786221681971,
          0.2464678788530247,
          1.4407889224708337,
          -0.9905340313801511,
          0.41442993890291163,
          1.5235913520851097,
          0.4313348010144225,
          -1.332928553284043,
          0.9002207046344516,
          0.0027912727509030737,
          2.261163889542346,
          -0.2545004155080404,
          0.9611302201662578,
          -1.7184105270441379,
          -0.2220603145327625,
          0.7085082368019747,
          -0.0372612243973018,
          0.27939029607638355,
          -0.7918899361637982,
          -0.30447590213168524,
          -0.12304894527034256,
          1.4471173197963125,
          -1.0474607890353547,
          -0.24158797661482515,
          -0.981220382487351,
          -0.43225023547745334,
          0.9736157897907797,
          -0.6562053783705495,
          -0.3128572818976878,
          1.0287270447574162,
          -0.06368483915937836,
          0.18930410194167266,
          0.8566579384357185,
          0.37108456270270324,
          0.9444821990827466,
          0.5875778547062601,
          -1.8017974669706278,
          1.2292920639442662,
          0.3865111895795039,
          1.973199937194273,
          0.1329039639484769,
          -0.3321909521254802,
          -0.6589623454584317,
          -0.46330449425323667,
          0.15174315578629421,
          1.1597284156382768,
          0.8612109615590736,
          -2.0813142087965333,
          -1.6026789140875455,
          -0.5419404923020714,
          0.38036104075739585,
          -0.5177191035997885,
          -1.8458776509218269,
          0.4371097313395622,
          -1.291960790197198,
          -1.9643083910809995,
          -0.3511971406592635,
          1.19622932988501,
          0.052613753717319175,
          0.6200881950479027,
          -1.260495175159406,
          1.356789209440353,
          -0.2935601389564417,
          0.5595590573646528,
          -1.3537930153492885,
          0.19633507247317067,
          -0.3699902074894311,
          -0.6128622438257204,
          -1.1412761722869624,
          -1.2806012757431329,
          1.58781037965415,
          -0.7725268969803146,
          -0.49793258794625855,
          1.342530512704039,
          -1.1284688186613716,
          0.3298457060771636,
          -0.1269818271549754,
          0.42040369506291503,
          1.1183678222743512,
          0.6893155505538616,
          -1.7034345994317126,
          2.059725790658185,
          -0.35678040507324377,
          0.16831740183260727,
          0.9192005239297256,
          -0.17369869099091986,
          0.7587154984303472,
          0.2660613732278975,
          -0.4742108093888738,
          -0.17140403656084205,
          0.6908162803833438,
          -0.558660531287959,
          0.5269914489750537,
          -0.9334875616629686,
          -1.1364041466807893,
          -1.3180746685875653,
          0.2713400309650082,
          -0.47990706225196805,
          -0.09019990695863811,
          0.5333779591733158,
          -0.3967258473616423,
          1.6022108378991593,
          1.387426060321449,
          -1.499825151656068,
          -0.3102271719079329,
          -1.9196722136084703,
          0.8280961214775205,
          -0.3903310398870268,
          -0.024491236826006846,
          -0.33404384128015424,
          -0.35235996804988595,
          1.3420251690091325,
          0.6229648422210509
         ],
         "xaxis": "x",
         "y": [
          2.170377127017507,
          1.3910579464393884,
          -0.42184294644500625,
          0.028290702146353312,
          0.11841816101602853,
          0.9229853563865463,
          -0.7594787969576984,
          0.27774754782290056,
          -0.46113578063646754,
          0.9146581382573336,
          0.6854469353370568,
          0.313488955037644,
          -0.36819959612102376,
          -0.24615938707249896,
          0.7388510583477262,
          -1.31128336027738,
          0.5584083753553922,
          0.14155187741028596,
          0.9926409277507218,
          -0.1487278640476182,
          -0.17371082419444722,
          -0.5020338579448674,
          -0.33179379629030314,
          0.0958046826358454,
          -0.5661284034668098,
          -0.5707699777334899,
          -0.561805056538876,
          0.8078453501853007,
          0.7221540876029944,
          -0.6735428824111022,
          0.77840401556302,
          1.6402247570819322,
          -0.8672235903990986,
          0.5227684440070494,
          -0.16880638320799182,
          0.8503614743075282,
          -0.33981957127078477,
          -0.2433757639900809,
          0.25459197807745737,
          -0.1496265245679418,
          0.3915787828931457,
          -0.6508390978998685,
          0.2563579828075097,
          -0.47445572656930934,
          0.1368573982654389,
          1.230086410502161,
          -0.026983617515642114,
          -0.774792052922235,
          -0.45029344651992254,
          -0.8067181844320198,
          -1.3397026578194264,
          -0.02154027428441269,
          -0.47266873468857457,
          -0.24754701947537164,
          1.5409318258450366,
          0.12181400754495653,
          0.06880999402898938,
          -0.4613291606949423,
          -1.2681250266257038,
          -0.18730319443078167,
          0.44676046224998145,
          1.2690831173355974,
          0.837496578354223,
          -0.6523785866292392,
          0.10949379127554566,
          -0.12364902261775262,
          -0.5316514057345463,
          0.46664592428476204,
          0.18428973080084096,
          -0.5350355753831192,
          -1.456312491329775,
          0.04245551219012551,
          0.8010404517870698,
          0.105512163671178,
          -0.3417452749484507,
          0.663285695030915,
          -1.3472396575316798,
          0.9684114150037079,
          1.0244548060902259,
          0.13533245813015532,
          -1.194648510186655,
          -0.9489807656765021,
          1.3302354450999259,
          1.1638534871395716,
          -0.7281845749159546,
          1.516936905043845,
          0.6202108427719443,
          -0.5462833118853286,
          1.4354244531718945,
          0.8607125719294322,
          -0.9330167326822387,
          -0.05760653864287332,
          1.6067932900196051,
          0.8551024775958991,
          1.4361131637226576,
          0.28634678882466447,
          -0.48748167804812986,
          0.7792576385860075,
          0.3748773560747826,
          2.488007185967531,
          -0.11464528766464023,
          2.414336620361342,
          2.9200134430731564,
          -0.1575539491463164,
          -2.4568350870493174,
          0.32176985833306493,
          -2.2798847815225542,
          0.7691131583256591,
          -0.184611308914378,
          0.3862980536018293,
          -0.3354257223843009,
          -0.13996544453934098,
          0.683127921276012,
          0.4167170458708046,
          0.7745019914315894,
          -1.0543906505270402,
          -1.4523914666499418,
          0.49867750307631503,
          1.8813338635481898,
          -0.15610319392849917,
          0.7002359775394408,
          1.040860503304359,
          0.013441250178591102,
          -1.314726429630648,
          1.4219030295616235,
          -0.2936350056813054,
          0.1285040549242448,
          0.007775825628507586,
          -0.7204381644823694,
          0.33158620035883135,
          0.2009786635159625,
          -0.8660364788606836,
          -0.7715036316176382,
          -0.38218502724082676,
          -0.3496483014092507,
          1.024985442438145,
          0.07569013239979396,
          -0.6522405681049586,
          -0.678100021301513,
          0.7022632399046422,
          1.593130945834138,
          0.026174836960187617,
          -0.3098543534553822,
          -0.9339974939432031,
          -0.22951937878883588,
          0.2281854200414367,
          0.3460646917386999,
          1.2285654937951827,
          -0.6720250092429291,
          0.15598284041166144,
          -0.4389696937048606,
          0.7579011706576074,
          -0.18196236997286216,
          0.04645262171880086,
          -0.16407108777065202,
          -1.2971870939060781,
          0.9761224842697054,
          -0.681391736727826,
          1.2099506192570824,
          -0.08763277467769101,
          1.3032991509487408,
          1.0222857169534643,
          1.1192258086510645,
          0.6249612114685256,
          0.6624037741444978,
          0.38922827984021335,
          -0.5742042704183788,
          1.8549105310611895,
          -0.22100662055148076,
          0.7422687633840332,
          0.43007976586618596,
          -0.28047960409136685,
          -0.15725781634060795,
          1.6576382197900452,
          -0.10318960026578469,
          0.492211501814406,
          -2.1912965454919524,
          0.41590581018603867,
          0.7443855852413922,
          -0.38068578970678046,
          -0.7895337083738402,
          -0.20590762650685993,
          -2.286175105674142,
          -0.49917453988603394,
          -0.7294399544809411,
          -2.1938143956163447,
          0.21188101619864233,
          -0.2972064366221402,
          -2.315846272824007,
          0.32958083925907516,
          0.5905805143683299,
          0.35854498009429897,
          -0.9392350779863756,
          -0.1335194543284503,
          0.30922417226375426,
          -0.34113821452612797,
          -1.282040899312486,
          0.13394494796953907,
          -0.750840007932201,
          -0.4020642473795642,
          -0.5976625759780348,
          -0.6925550803462011,
          0.4225713682037656,
          -0.4116903781582183,
          -2.0671363998770436,
          -0.7442730418048041,
          0.2993377302040124,
          -0.5285786517530779,
          -0.4135269132673846,
          0.01022436792401718,
          0.3783632073672042,
          -0.4204731089633773,
          1.2357426293645335,
          -0.8661350988060076,
          2.1273443175260347,
          0.7208134495046463,
          0.6461392419969727,
          0.8345530560581923,
          -0.3576236844364299,
          1.5613433758976785,
          0.8112873734067501,
          0.05518670176418597,
          -0.927353681706972,
          0.20652947593532237,
          1.2386061416671064,
          0.662034191509253,
          0.40250740836753884,
          0.0997896392542335,
          -0.45098650787653893,
          -1.1898097949056679,
          -0.5300685911433313,
          1.0775550220658026,
          -0.844958508146788,
          -1.4124550128558744,
          -0.318755672681317,
          0.6964165514289117,
          0.04659424766511919,
          0.37362741162393825,
          -2.154824195459705,
          0.722319355772952,
          1.2367830624880236,
          0.6397997888099342,
          0.08114230749770109,
          -0.35374889028892065,
          0.088268696688105,
          0.3351273987442488,
          0.9379435102573774,
          0.47910085553918214,
          -0.09290971889293152,
          0.5376381293009587,
          -0.2903174652594839,
          -0.5270072575547152,
          -0.3946385726311663,
          0.5065654777404558,
          0.9651467670033056,
          1.3752971446263107,
          -0.09832510071238561,
          0.07769178692425593,
          1.6623350900284688,
          -0.7147471166295004,
          -1.255481436029156,
          -0.6824900805935361,
          -0.9115928323674204,
          -0.8567063238032944,
          -0.31353393832949117,
          -0.35273979986992693,
          -0.10800108439611976,
          0.18496725954409748,
          -0.8534276856907653,
          -0.33428517957142034,
          0.3680936239599952,
          -1.2040931912151418,
          -0.5208587125818652,
          0.7203316604585184,
          0.633691433517463,
          -0.9812021472710187,
          1.1333768197421972,
          0.2678259985696739,
          -0.8640894255544141,
          2.4994919641993,
          0.0029277994232985486,
          1.0204891992295024,
          0.2500789958517321,
          1.0184875987250575,
          0.04399045054371626,
          0.051036696558637254,
          -1.0737624303831343,
          -0.37475927680065124,
          0.3163349039167287,
          -0.10173753697292352,
          -0.9011867314670781,
          1.0402659839933694,
          -1.7669377285549892,
          0.23724776888815796,
          1.6154740114104085,
          -0.1575046582339485,
          1.553566714397727,
          1.1550665825999433,
          0.6213768852587677,
          -0.23063593427246587,
          0.0890008475429175,
          0.3193444646285974,
          0.00014085321349269184,
          -0.5639246866244118,
          1.1624277803637302,
          0.6572590019484392,
          -0.33569217131682094,
          0.6893628746753795,
          -0.026846860108477883,
          -0.9436132115696346,
          -0.18159813578910636,
          0.11896000712086,
          0.08495988303619385,
          0.15852520562321215,
          0.019136089907745544,
          0.5633147820886053,
          0.3066347487919047,
          -0.30661132965052396,
          0.6349084501221468,
          1.6303868391842369,
          1.2502576389493856,
          -0.9885285093523549,
          -1.881881914384232,
          0.6388101323897641,
          -1.1812898827122558,
          -0.13516248558645755,
          2.348896167439541,
          0.6912960491837504,
          -0.7852768255916628,
          -0.6439484051523481,
          -0.5165207506720033,
          0.3561629081504031,
          0.888514110662322,
          -0.18073561097802202,
          1.2449383612229503,
          0.30565262156897427,
          -0.6605595287872087,
          -0.3265466283751231,
          0.8995076301598433,
          1.3617856099730403,
          1.5242353882003588,
          -0.10405560018650767,
          -1.0306213625008227,
          0.9712589521192245,
          1.4077281604938796,
          0.3290752641159459,
          -0.11147600297871088,
          1.1741521376933526,
          0.2722404927511332,
          -1.1921589282986549,
          0.5777489079485216,
          -0.1591714771313485,
          -1.6433532898447178,
          0.9352769164536153,
          0.9070065601235099,
          -0.63289715010769,
          1.205703762728158,
          1.0229195929038004,
          0.42344445448254264,
          -0.7705791401908025,
          -1.0488424043900566,
          -0.2462672838723784,
          -0.21626464922082778,
          0.4713505746006994,
          0.10684997200865078,
          1.1899747900086173,
          0.3292335104512723,
          -0.8045806028671287,
          -0.4929041522166058,
          0.09605190475625483,
          -1.3806542539968207,
          0.9441643537869177,
          -0.5450543386957089,
          -1.1109760668074304,
          -1.9393237029084365,
          0.7815443956312804,
          -0.5108616894459825,
          -0.7735691062290142,
          -0.38692728293574724,
          -0.02953747748394416,
          0.759622663848635,
          0.1193788040608208,
          -1.1273393673772698,
          0.08967392673383712,
          -0.3489874820647326,
          0.1343042522087183,
          -1.0498802918108048,
          0.2032814828514828,
          0.39308480776297294,
          -1.0699354765222957,
          -0.3383832262999524,
          1.7128825214923318,
          -1.801485932198693,
          -1.087917002688908,
          0.3711212230268917,
          -0.9843861804642913,
          -0.24425456609551244,
          -0.9070158875104491,
          -0.8607142623915998,
          0.43706907660496164,
          0.28116512956160095,
          -0.5424711953108388,
          0.13234720099496405,
          1.118115922303997,
          0.736400592407769,
          -2.1138063338234407,
          -1.1428285527653268,
          0.34295790051991487,
          -0.5761018372074792,
          0.563270870987881,
          0.7070856638168441,
          0.2097202228317936,
          -1.0537589641961087,
          0.6389792086214268,
          0.24069836207860631,
          2.6749234368932617,
          -1.263065100458352,
          -0.2202543072834442,
          -0.433485424829618,
          -0.27580720999233327,
          0.6587640158348961,
          1.7461759182723542,
          -0.6943713759387232,
          -0.4323065320667367,
          0.2569992263708446,
          0.6870018766881932,
          -1.615835831273039,
          -0.19744565288755922,
          -0.39698984211036703,
          -0.687739892131972,
          -0.12315587339680413,
          2.068059382737958,
          -0.0668954938550374,
          -2.0977835916920036,
          0.24922033452081052,
          0.7098677575047648,
          -0.7232714549927014,
          1.3670664415295652,
          -0.24686520878373672,
          -0.7968489326107699,
          -0.9507774658269452,
          0.7580221613801892,
          1.4700221999695988,
          -1.2976809036377213,
          -0.11850024973863554,
          -0.022693998890883235,
          0.7797604998811991,
          0.1630338180638252,
          0.3616157817846353,
          0.18624298208268988,
          0.1623050241419034,
          -0.03694894821479776,
          -0.6955703823972162,
          2.0955301327335767,
          0.44864816246547273,
          -1.4843001435096392,
          -0.42424499443431724,
          0.10011040453761458,
          0.9433000092817073,
          1.2306440600965234,
          0.1877674723331251,
          0.4708311655577704,
          2.310845076895113,
          1.0809282466879382,
          0.01297107722847815,
          -0.6205293717363416,
          1.056166021235477,
          0.9746563819570061,
          -0.6193604176235361,
          1.18038197640584,
          1.0069559720716228,
          0.4213673389283872,
          -1.4431489837124174,
          -0.32370957414520607,
          0.7072651993607089,
          -0.6829795516817179,
          0.24828485094309197,
          0.47820372781971815,
          0.9905213260622788,
          -0.6462481340414379,
          -1.4838630258896568,
          -0.519192694481405,
          0.6422959761861988,
          -0.40372673142313165,
          1.35747424292649,
          0.4302970113310002,
          0.9141157717987912,
          1.3888661179414394,
          0.08427460953250009,
          0.4435228739099967,
          -0.8173013257620771,
          -0.3223903935494305,
          0.3475744933819989,
          -1.4347673180205227,
          0.11372388168380072,
          -0.7938187767901477,
          -0.446458036707174,
          0.5709924887224267,
          2.1611241632965896,
          1.3457003782058292,
          -0.4880201664496524,
          -0.516877872537594,
          -0.6040820191305621,
          0.08759982773998289,
          0.7196385248382217,
          0.40797393680083976,
          1.2572935759054549,
          -0.8197601786369836,
          -1.4947814519427292,
          -0.9695593889282329,
          -0.5081356173809868,
          0.2152888608059931,
          -0.25501945334578874,
          1.077513376964915,
          0.403938511049165,
          -0.73539003132523,
          -1.3787348138760267,
          -0.12154389056037433,
          1.6832143481495156,
          0.4648796272904617,
          0.33958179242251413,
          -0.07835672619265656,
          -1.1933414787489023,
          0.81619206786416,
          0.05677022671216086,
          0.30686660713902925,
          1.3793324292046003,
          0.041847084427036864,
          0.4697486742056935,
          0.4216491188496735,
          0.67232108552731,
          0.6520356181665035,
          0.43909391635337114,
          -0.7262418334690155,
          -1.8901959868941354,
          -0.5772811838224295,
          -0.3863174543391429,
          0.31202068963804724,
          0.5398365268186646,
          -0.5190588157786235,
          0.45565527443646814,
          -0.2976470372785825,
          0.11222678337932801,
          -1.2503293023167976,
          -0.3266228604416002,
          0.010519233079976712,
          -1.3290286583735,
          0.4445089560151347,
          -0.4465866496453976,
          -0.7354703689885433,
          0.8521009903805292,
          -0.8117480954689871,
          0.6078904242428683,
          0.8218277080022174,
          0.3065236281239097,
          -0.20441037961402875,
          0.3007125377720583,
          1.5136857908563253,
          -0.239841756248565,
          -0.977341910101219,
          -1.1081996171690311,
          1.1873698848578091,
          0.31639790330290035,
          1.9475497079271678,
          -0.16502317931163285,
          0.7663604835698258,
          1.8461102559933324,
          -0.3479644500483491,
          0.7166651974228672,
          0.5819935813333541,
          0.5981650419864197,
          0.2824512059401431,
          -0.977680342280864,
          -1.1158103653176001,
          0.46156149120249274,
          -1.4242717787862123,
          -0.8003196348804098,
          0.1405107419849704,
          -0.5470926390914747,
          -0.44193179833457585,
          0.10957088856029673,
          0.4368373377575027,
          1.6781200988373595,
          -2.151869732473956,
          2.094175987622692,
          -0.591440768592718,
          0.2598782670662358,
          0.7036490124516179,
          -0.5909090757143564,
          0.5520552311532331,
          0.7455225949636562,
          -0.8876432136324732,
          -0.6715322898027241,
          -0.6903965435883557,
          0.8241755717431397,
          1.4567963570949818,
          -0.17009687104428592,
          -0.06690281875661412,
          0.033465298896392305,
          -0.17376541216853633,
          -0.006330329033531117,
          -1.4767933569571692,
          0.12420620189963176,
          0.6536904099879839,
          -0.010996129721621976,
          0.5650944446615159,
          -2.020674312215301,
          -0.3539760523514053,
          0.1920565494071921,
          1.015229942683829,
          0.542659291604541,
          0.21812144326275518,
          -1.0961825846476312,
          0.25804212642790153,
          -0.3229087364904764,
          0.7126533774135674,
          -0.2562523254011042,
          0.6969028793110276,
          0.8430085718914515,
          0.21200242683784984,
          -0.338050412037914,
          -0.24793441749553874,
          0.6405724963940158,
          1.3891531535290118,
          -0.07543785539421384,
          0.8751435973454267,
          -0.6298333387724386,
          0.06966586169778073,
          0.7621287304414759,
          0.7210385401958349,
          -0.7895740297901261,
          0.8864638681208739,
          0.6578465336306613,
          0.837131353962738,
          1.105552393835029,
          -1.1998692060693745,
          -0.5455288341372874,
          0.6624941549444704,
          0.3154356068964853,
          -0.2524725856410426,
          0.4503394846614141,
          0.08578281231437018,
          -0.858115410411744,
          0.5714339673971084,
          1.2435767196234653,
          -0.30475715877779713,
          -0.09213832285259242,
          2.2656384056276666,
          1.6674417494059801,
          -0.2252987522596601,
          1.6670698032705555,
          0.5583021243441106,
          0.35138067795476136,
          -0.020832297107702288,
          -0.3262027686300906,
          0.26750058416067596,
          2.179654917997523,
          0.45205211458944694,
          -0.8257109410207061,
          -0.7233754550633568,
          0.1828300263654009,
          1.6422544684425358,
          1.5631755797906002,
          -0.7109401933433059,
          0.46676608990393254,
          1.2516621518169855,
          -1.6665319935227105,
          -0.4244331990901311,
          -0.7567193972834128,
          0.8747622776902038,
          0.6081385905219411,
          -0.5055035741370606,
          1.2174623042724386,
          0.5269992630770928,
          0.619760789558466,
          0.05561899600361369,
          0.09510393145537359,
          0.7344188131990671,
          -1.1540012716821397,
          -0.9810049121490139,
          0.07238961467299812,
          -0.6394482301550043,
          1.3802322064644195,
          -0.11326474696605691,
          -0.3389255577463507,
          0.03224754216980179,
          -1.2283742092398662,
          -0.4813999896714281,
          -0.7771383562907401,
          1.7959792165609332,
          0.3128635173386712,
          0.5933090850080941,
          -1.377136346124391,
          0.0938051349030359,
          -0.3983446188783177,
          1.1429389904809464,
          1.192525206415536,
          0.8023683799149463,
          0.34287366861957946,
          1.4278795460901466,
          -0.5124518282654503,
          -0.08429357543717364,
          0.9530941169512501,
          -0.5131301576262137,
          -0.3076406689160522,
          0.48905956296180103,
          0.2087887462404016,
          0.16655585715985013,
          -0.3580942236945857,
          0.9592647591517656,
          0.41955042889847904,
          -0.8459656864305208,
          -0.1310598232582761,
          0.736890623854586,
          0.09355417293079994,
          -0.2082969353685118,
          -1.4567500370458248,
          0.3891189758290671,
          1.4434035795736455,
          1.8833015563486697,
          0.6792282696840395,
          0.7813383685527762,
          -0.04736433715075104,
          0.14492382312527632,
          0.9335489580418146,
          -1.114391643638149,
          -0.4838202570204331,
          -0.28461190406314835,
          0.0102353336777863,
          -0.8776087543748743,
          0.0804662844343888,
          0.49531517748189724,
          0.10867120964315195,
          0.5306534764550805,
          -0.670224454518605,
          -0.2550986582884475,
          1.6403494424834708,
          -0.2597319121930416,
          -0.28266934965133356,
          -0.45778886338538616,
          2.0264731839001016,
          -1.2628612123494165,
          0.5639312219207231,
          -0.2977874376136183,
          0.6534247717048772,
          0.2904567252509076,
          0.5542307140761286,
          0.18002172968205546,
          -0.7154012103229228,
          -0.37680493783174573,
          0.7850726371580333,
          -0.6116594699906078,
          -0.169808512191896,
          -1.1642686414475527,
          -1.1454469967104535,
          0.45453834968781154,
          -0.7632403066439145,
          0.22909457463213354,
          0.5569750238557374,
          0.7763496512754338,
          0.598270057717402,
          0.7582970422840247,
          -0.40526362292392354,
          -1.304647165055013,
          0.6581388516469285,
          -0.1542042182244922,
          1.0848906261508995,
          0.6197494910638547,
          0.28561864085653244,
          0.9351639764922828,
          -0.23997757553745833,
          0.5035127096106752,
          -0.964614301132786,
          0.624213499608715,
          -0.9658147601270521,
          0.5659541896852351,
          -0.24828582193352625,
          0.7314830855002007,
          -0.7941286624891983,
          0.07407592293054736,
          -0.8217405841060142,
          -1.00426785829655,
          1.027310719726371,
          0.2552902924912691,
          1.3336676347983205,
          0.36461490838412836,
          0.10922672248873624,
          -0.2157578880480337,
          -0.8326020696708217,
          0.10883113908381925,
          1.9606486133847107,
          -0.7521165183368013,
          0.04151320009842921,
          0.4239037856063136,
          -1.0450881151203522,
          0.06708540161142361,
          -0.13738845528457855,
          0.2568924558583845,
          -1.032774203247444,
          -1.5859483547075544,
          -0.6944056758880138,
          0.1334937871430153,
          -1.0280639765336328,
          0.623990474863237,
          1.2233983221218245,
          1.011352415565407,
          -1.3661790581847522,
          -0.09288564057387154,
          -0.14535057667230172,
          0.628165922907105,
          -0.48049162950447943,
          -0.3102741001670238,
          1.3152253369629814,
          -0.7067556715540877,
          0.8621358500092543,
          0.18896228735407333,
          -1.6588002062750442,
          -0.4037928107331342,
          0.40647802732120847,
          1.5273859917192392,
          -0.020005589024758352,
          0.641517874484634,
          0.5882430652827346,
          1.3770345251216298,
          0.04050605034325737,
          1.4729407674744082,
          -0.30767032695256047,
          1.2593823377734448,
          -1.3260872666214187,
          1.0791811811024816,
          0.3839675378195527,
          -0.18085799122875218,
          -0.13160974461249494,
          -0.8693823745417341,
          0.047480148651919074,
          -0.34481990260172374,
          0.08415954855120146,
          -0.3830959930816052,
          -0.8088310446417951,
          -0.7813110876342657,
          -0.10171467752369591,
          -0.9013256736327133,
          2.033715270074073,
          -0.23224700547285312,
          -0.8686799720172643,
          0.37867526594045436,
          0.4081912739293974,
          -0.7049796559783644,
          -0.455521021920253,
          0.397791506312001,
          -0.7164058563129775,
          0.10934793102295012,
          0.9990689193188744,
          0.571571802149393,
          -2.2099526359636865,
          0.2827711941008042,
          0.26283493150425175,
          -0.02042249921471593,
          -1.1357551771974361,
          -0.40466894981594653,
          -1.1329141375740748,
          0.9228060700013903,
          -0.512928288492071,
          -0.056566566890148495,
          0.0825216163049969,
          -1.0916205433471888,
          0.3277394503196285,
          1.3732755256313776,
          -1.0212958949616646,
          -0.40281455575865843,
          -1.402534211833954,
          0.42137433698921434,
          0.2706990025968912,
          -0.5391243119891335,
          0.3591798449585166,
          0.8801408396397216,
          -0.9805771765389306,
          0.25861740633844305,
          0.7850907273615148,
          0.17264424479744694,
          0.20024418259622231,
          -0.44636875122494046,
          -0.06759303434579068,
          0.8867097911724504,
          0.7212548896854568,
          0.03631523728598108,
          0.40633813437256844,
          -0.41516283886101873,
          0.7714650593671644,
          0.6357587185745964,
          -0.20482862363539156,
          0.7405705844012112,
          0.5366319811333313,
          0.5770079064659402,
          -0.5900213424323045,
          0.5977872937035111,
          1.5179400472409554,
          -1.3512203122516295,
          0.17101661041165267,
          -1.2062283177424786,
          0.3075065720514218,
          -0.20202322191614644,
          0.5949683788591235,
          -0.43432718224662775,
          2.170987093206997,
          -0.7827102032196094,
          0.15993912509026123,
          -0.6194458137728562,
          -0.48030888419127005,
          0.14654536549864855,
          0.31005392633043133,
          -1.972968481448262,
          -0.5996111343786198,
          -0.045765920337283876,
          -0.4280105939736929,
          0.908674157872273,
          -0.52155743136608,
          -1.9086316029306871,
          1.0153794317358404,
          -1.2889365001425335,
          0.5175163936333729,
          -1.7897918367519356,
          0.010719195970867639,
          1.2983906529197933,
          0.1995244846500912,
          -0.8479442253368301,
          1.5627429235179644,
          -0.24868576500154668,
          0.45293563756056,
          0.3432130057448532,
          -1.7780469012639908,
          0.39484078731239236,
          -0.9336946839387885,
          0.3746097791957332,
          -1.8233718317062622,
          -0.5024656678143161,
          -0.24703874073289023,
          -0.6616799326544619,
          0.525659049427324,
          -0.7585260886735057,
          0.7313630186095164,
          0.06674189072119276,
          -0.13542001376304505,
          0.7650215169814572,
          2.1726939384194957,
          -0.22170196384253274,
          0.6471422505068111,
          0.6377446607501376,
          0.449103555202524,
          -0.020460159932521406,
          -0.11612006245136595,
          -2.6483023595431634,
          1.5664282183887503,
          0.7137884298560522,
          -0.21562294237967872,
          -0.8903099198174816,
          0.421464083477349,
          0.8783518509259893,
          -1.6612952548242197,
          -0.05537500177594205,
          -0.07353417673432626,
          0.4428996681325055,
          -1.5411786697287686,
          0.4743387486735334,
          2.2970203760917713,
          0.08279830332170292,
          -0.4994449430228985,
          -0.977324788687783,
          0.11254590961235689,
          -0.6041060387779001,
          -0.5219710484773574,
          0.06164240987737818,
          1.6085034466227937,
          0.35251734926125,
          -0.14214393424960928,
          -0.8460543540983112,
          -0.9819176776062084,
          -0.07471480934655246,
          0.7375244899198031,
          -1.6250801606875456,
          1.0688201213052664,
          -1.1135837765503107,
          -0.3961723454292718,
          -0.18741385196969998,
          -0.3277556746172451,
          -0.4411353949867279,
          0.24163298540469438,
          -0.26114045496296023,
          0.3390129435111258,
          -0.31504505618257755,
          -0.6718632306056619,
          0.012962469526561618,
          -0.2746383171518798,
          -0.5625868821925336,
          -0.8488079460667448,
          -0.4225408271787639,
          -0.20409264363974788,
          0.07160378014515505,
          -0.8425897712023078,
          -0.5520536400475636
         ],
         "yaxis": "y"
        }
       ],
       "layout": {
        "coloraxis": {
         "colorbar": {
          "title": {
           "text": "hitability"
          }
         },
         "colorscale": [
          [
           0,
           "#0d0887"
          ],
          [
           0.1111111111111111,
           "#46039f"
          ],
          [
           0.2222222222222222,
           "#7201a8"
          ],
          [
           0.3333333333333333,
           "#9c179e"
          ],
          [
           0.4444444444444444,
           "#bd3786"
          ],
          [
           0.5555555555555556,
           "#d8576b"
          ],
          [
           0.6666666666666666,
           "#ed7953"
          ],
          [
           0.7777777777777778,
           "#fb9f3a"
          ],
          [
           0.8888888888888888,
           "#fdca26"
          ],
          [
           1,
           "#f0f921"
          ]
         ]
        },
        "legend": {
         "tracegroupgap": 0
        },
        "template": {
         "data": {
          "bar": [
           {
            "error_x": {
             "color": "#2a3f5f"
            },
            "error_y": {
             "color": "#2a3f5f"
            },
            "marker": {
             "line": {
              "color": "#E5ECF6",
              "width": 0.5
             },
             "pattern": {
              "fillmode": "overlay",
              "size": 10,
              "solidity": 0.2
             }
            },
            "type": "bar"
           }
          ],
          "barpolar": [
           {
            "marker": {
             "line": {
              "color": "#E5ECF6",
              "width": 0.5
             },
             "pattern": {
              "fillmode": "overlay",
              "size": 10,
              "solidity": 0.2
             }
            },
            "type": "barpolar"
           }
          ],
          "carpet": [
           {
            "aaxis": {
             "endlinecolor": "#2a3f5f",
             "gridcolor": "white",
             "linecolor": "white",
             "minorgridcolor": "white",
             "startlinecolor": "#2a3f5f"
            },
            "baxis": {
             "endlinecolor": "#2a3f5f",
             "gridcolor": "white",
             "linecolor": "white",
             "minorgridcolor": "white",
             "startlinecolor": "#2a3f5f"
            },
            "type": "carpet"
           }
          ],
          "choropleth": [
           {
            "colorbar": {
             "outlinewidth": 0,
             "ticks": ""
            },
            "type": "choropleth"
           }
          ],
          "contour": [
           {
            "colorbar": {
             "outlinewidth": 0,
             "ticks": ""
            },
            "colorscale": [
             [
              0,
              "#0d0887"
             ],
             [
              0.1111111111111111,
              "#46039f"
             ],
             [
              0.2222222222222222,
              "#7201a8"
             ],
             [
              0.3333333333333333,
              "#9c179e"
             ],
             [
              0.4444444444444444,
              "#bd3786"
             ],
             [
              0.5555555555555556,
              "#d8576b"
             ],
             [
              0.6666666666666666,
              "#ed7953"
             ],
             [
              0.7777777777777778,
              "#fb9f3a"
             ],
             [
              0.8888888888888888,
              "#fdca26"
             ],
             [
              1,
              "#f0f921"
             ]
            ],
            "type": "contour"
           }
          ],
          "contourcarpet": [
           {
            "colorbar": {
             "outlinewidth": 0,
             "ticks": ""
            },
            "type": "contourcarpet"
           }
          ],
          "heatmap": [
           {
            "colorbar": {
             "outlinewidth": 0,
             "ticks": ""
            },
            "colorscale": [
             [
              0,
              "#0d0887"
             ],
             [
              0.1111111111111111,
              "#46039f"
             ],
             [
              0.2222222222222222,
              "#7201a8"
             ],
             [
              0.3333333333333333,
              "#9c179e"
             ],
             [
              0.4444444444444444,
              "#bd3786"
             ],
             [
              0.5555555555555556,
              "#d8576b"
             ],
             [
              0.6666666666666666,
              "#ed7953"
             ],
             [
              0.7777777777777778,
              "#fb9f3a"
             ],
             [
              0.8888888888888888,
              "#fdca26"
             ],
             [
              1,
              "#f0f921"
             ]
            ],
            "type": "heatmap"
           }
          ],
          "heatmapgl": [
           {
            "colorbar": {
             "outlinewidth": 0,
             "ticks": ""
            },
            "colorscale": [
             [
              0,
              "#0d0887"
             ],
             [
              0.1111111111111111,
              "#46039f"
             ],
             [
              0.2222222222222222,
              "#7201a8"
             ],
             [
              0.3333333333333333,
              "#9c179e"
             ],
             [
              0.4444444444444444,
              "#bd3786"
             ],
             [
              0.5555555555555556,
              "#d8576b"
             ],
             [
              0.6666666666666666,
              "#ed7953"
             ],
             [
              0.7777777777777778,
              "#fb9f3a"
             ],
             [
              0.8888888888888888,
              "#fdca26"
             ],
             [
              1,
              "#f0f921"
             ]
            ],
            "type": "heatmapgl"
           }
          ],
          "histogram": [
           {
            "marker": {
             "pattern": {
              "fillmode": "overlay",
              "size": 10,
              "solidity": 0.2
             }
            },
            "type": "histogram"
           }
          ],
          "histogram2d": [
           {
            "colorbar": {
             "outlinewidth": 0,
             "ticks": ""
            },
            "colorscale": [
             [
              0,
              "#0d0887"
             ],
             [
              0.1111111111111111,
              "#46039f"
             ],
             [
              0.2222222222222222,
              "#7201a8"
             ],
             [
              0.3333333333333333,
              "#9c179e"
             ],
             [
              0.4444444444444444,
              "#bd3786"
             ],
             [
              0.5555555555555556,
              "#d8576b"
             ],
             [
              0.6666666666666666,
              "#ed7953"
             ],
             [
              0.7777777777777778,
              "#fb9f3a"
             ],
             [
              0.8888888888888888,
              "#fdca26"
             ],
             [
              1,
              "#f0f921"
             ]
            ],
            "type": "histogram2d"
           }
          ],
          "histogram2dcontour": [
           {
            "colorbar": {
             "outlinewidth": 0,
             "ticks": ""
            },
            "colorscale": [
             [
              0,
              "#0d0887"
             ],
             [
              0.1111111111111111,
              "#46039f"
             ],
             [
              0.2222222222222222,
              "#7201a8"
             ],
             [
              0.3333333333333333,
              "#9c179e"
             ],
             [
              0.4444444444444444,
              "#bd3786"
             ],
             [
              0.5555555555555556,
              "#d8576b"
             ],
             [
              0.6666666666666666,
              "#ed7953"
             ],
             [
              0.7777777777777778,
              "#fb9f3a"
             ],
             [
              0.8888888888888888,
              "#fdca26"
             ],
             [
              1,
              "#f0f921"
             ]
            ],
            "type": "histogram2dcontour"
           }
          ],
          "mesh3d": [
           {
            "colorbar": {
             "outlinewidth": 0,
             "ticks": ""
            },
            "type": "mesh3d"
           }
          ],
          "parcoords": [
           {
            "line": {
             "colorbar": {
              "outlinewidth": 0,
              "ticks": ""
             }
            },
            "type": "parcoords"
           }
          ],
          "pie": [
           {
            "automargin": true,
            "type": "pie"
           }
          ],
          "scatter": [
           {
            "fillpattern": {
             "fillmode": "overlay",
             "size": 10,
             "solidity": 0.2
            },
            "type": "scatter"
           }
          ],
          "scatter3d": [
           {
            "line": {
             "colorbar": {
              "outlinewidth": 0,
              "ticks": ""
             }
            },
            "marker": {
             "colorbar": {
              "outlinewidth": 0,
              "ticks": ""
             }
            },
            "type": "scatter3d"
           }
          ],
          "scattercarpet": [
           {
            "marker": {
             "colorbar": {
              "outlinewidth": 0,
              "ticks": ""
             }
            },
            "type": "scattercarpet"
           }
          ],
          "scattergeo": [
           {
            "marker": {
             "colorbar": {
              "outlinewidth": 0,
              "ticks": ""
             }
            },
            "type": "scattergeo"
           }
          ],
          "scattergl": [
           {
            "marker": {
             "colorbar": {
              "outlinewidth": 0,
              "ticks": ""
             }
            },
            "type": "scattergl"
           }
          ],
          "scattermapbox": [
           {
            "marker": {
             "colorbar": {
              "outlinewidth": 0,
              "ticks": ""
             }
            },
            "type": "scattermapbox"
           }
          ],
          "scatterpolar": [
           {
            "marker": {
             "colorbar": {
              "outlinewidth": 0,
              "ticks": ""
             }
            },
            "type": "scatterpolar"
           }
          ],
          "scatterpolargl": [
           {
            "marker": {
             "colorbar": {
              "outlinewidth": 0,
              "ticks": ""
             }
            },
            "type": "scatterpolargl"
           }
          ],
          "scatterternary": [
           {
            "marker": {
             "colorbar": {
              "outlinewidth": 0,
              "ticks": ""
             }
            },
            "type": "scatterternary"
           }
          ],
          "surface": [
           {
            "colorbar": {
             "outlinewidth": 0,
             "ticks": ""
            },
            "colorscale": [
             [
              0,
              "#0d0887"
             ],
             [
              0.1111111111111111,
              "#46039f"
             ],
             [
              0.2222222222222222,
              "#7201a8"
             ],
             [
              0.3333333333333333,
              "#9c179e"
             ],
             [
              0.4444444444444444,
              "#bd3786"
             ],
             [
              0.5555555555555556,
              "#d8576b"
             ],
             [
              0.6666666666666666,
              "#ed7953"
             ],
             [
              0.7777777777777778,
              "#fb9f3a"
             ],
             [
              0.8888888888888888,
              "#fdca26"
             ],
             [
              1,
              "#f0f921"
             ]
            ],
            "type": "surface"
           }
          ],
          "table": [
           {
            "cells": {
             "fill": {
              "color": "#EBF0F8"
             },
             "line": {
              "color": "white"
             }
            },
            "header": {
             "fill": {
              "color": "#C8D4E3"
             },
             "line": {
              "color": "white"
             }
            },
            "type": "table"
           }
          ]
         },
         "layout": {
          "annotationdefaults": {
           "arrowcolor": "#2a3f5f",
           "arrowhead": 0,
           "arrowwidth": 1
          },
          "autotypenumbers": "strict",
          "coloraxis": {
           "colorbar": {
            "outlinewidth": 0,
            "ticks": ""
           }
          },
          "colorscale": {
           "diverging": [
            [
             0,
             "#8e0152"
            ],
            [
             0.1,
             "#c51b7d"
            ],
            [
             0.2,
             "#de77ae"
            ],
            [
             0.3,
             "#f1b6da"
            ],
            [
             0.4,
             "#fde0ef"
            ],
            [
             0.5,
             "#f7f7f7"
            ],
            [
             0.6,
             "#e6f5d0"
            ],
            [
             0.7,
             "#b8e186"
            ],
            [
             0.8,
             "#7fbc41"
            ],
            [
             0.9,
             "#4d9221"
            ],
            [
             1,
             "#276419"
            ]
           ],
           "sequential": [
            [
             0,
             "#0d0887"
            ],
            [
             0.1111111111111111,
             "#46039f"
            ],
            [
             0.2222222222222222,
             "#7201a8"
            ],
            [
             0.3333333333333333,
             "#9c179e"
            ],
            [
             0.4444444444444444,
             "#bd3786"
            ],
            [
             0.5555555555555556,
             "#d8576b"
            ],
            [
             0.6666666666666666,
             "#ed7953"
            ],
            [
             0.7777777777777778,
             "#fb9f3a"
            ],
            [
             0.8888888888888888,
             "#fdca26"
            ],
            [
             1,
             "#f0f921"
            ]
           ],
           "sequentialminus": [
            [
             0,
             "#0d0887"
            ],
            [
             0.1111111111111111,
             "#46039f"
            ],
            [
             0.2222222222222222,
             "#7201a8"
            ],
            [
             0.3333333333333333,
             "#9c179e"
            ],
            [
             0.4444444444444444,
             "#bd3786"
            ],
            [
             0.5555555555555556,
             "#d8576b"
            ],
            [
             0.6666666666666666,
             "#ed7953"
            ],
            [
             0.7777777777777778,
             "#fb9f3a"
            ],
            [
             0.8888888888888888,
             "#fdca26"
            ],
            [
             1,
             "#f0f921"
            ]
           ]
          },
          "colorway": [
           "#636efa",
           "#EF553B",
           "#00cc96",
           "#ab63fa",
           "#FFA15A",
           "#19d3f3",
           "#FF6692",
           "#B6E880",
           "#FF97FF",
           "#FECB52"
          ],
          "font": {
           "color": "#2a3f5f"
          },
          "geo": {
           "bgcolor": "white",
           "lakecolor": "white",
           "landcolor": "#E5ECF6",
           "showlakes": true,
           "showland": true,
           "subunitcolor": "white"
          },
          "hoverlabel": {
           "align": "left"
          },
          "hovermode": "closest",
          "mapbox": {
           "style": "light"
          },
          "paper_bgcolor": "white",
          "plot_bgcolor": "#E5ECF6",
          "polar": {
           "angularaxis": {
            "gridcolor": "white",
            "linecolor": "white",
            "ticks": ""
           },
           "bgcolor": "#E5ECF6",
           "radialaxis": {
            "gridcolor": "white",
            "linecolor": "white",
            "ticks": ""
           }
          },
          "scene": {
           "xaxis": {
            "backgroundcolor": "#E5ECF6",
            "gridcolor": "white",
            "gridwidth": 2,
            "linecolor": "white",
            "showbackground": true,
            "ticks": "",
            "zerolinecolor": "white"
           },
           "yaxis": {
            "backgroundcolor": "#E5ECF6",
            "gridcolor": "white",
            "gridwidth": 2,
            "linecolor": "white",
            "showbackground": true,
            "ticks": "",
            "zerolinecolor": "white"
           },
           "zaxis": {
            "backgroundcolor": "#E5ECF6",
            "gridcolor": "white",
            "gridwidth": 2,
            "linecolor": "white",
            "showbackground": true,
            "ticks": "",
            "zerolinecolor": "white"
           }
          },
          "shapedefaults": {
           "line": {
            "color": "#2a3f5f"
           }
          },
          "ternary": {
           "aaxis": {
            "gridcolor": "white",
            "linecolor": "white",
            "ticks": ""
           },
           "baxis": {
            "gridcolor": "white",
            "linecolor": "white",
            "ticks": ""
           },
           "bgcolor": "#E5ECF6",
           "caxis": {
            "gridcolor": "white",
            "linecolor": "white",
            "ticks": ""
           }
          },
          "title": {
           "x": 0.05
          },
          "xaxis": {
           "automargin": true,
           "gridcolor": "white",
           "linecolor": "white",
           "ticks": "",
           "title": {
            "standoff": 15
           },
           "zerolinecolor": "white",
           "zerolinewidth": 2
          },
          "yaxis": {
           "automargin": true,
           "gridcolor": "white",
           "linecolor": "white",
           "ticks": "",
           "title": {
            "standoff": 15
           },
           "zerolinecolor": "white",
           "zerolinewidth": 2
          }
         }
        },
        "title": {
         "text": "Location"
        },
        "xaxis": {
         "anchor": "y",
         "domain": [
          0,
          1
         ],
         "title": {
          "text": "x"
         }
        },
        "yaxis": {
         "anchor": "x",
         "domain": [
          0,
          1
         ],
         "title": {
          "text": "y"
         }
        }
       }
      }
     },
     "metadata": {},
     "output_type": "display_data"
    }
   ],
   "source": [
    "\n",
    "pitch_data.show_scatter(\"x\", \"y\", \"Location\", color='hitability')"
   ]
  },
  {
   "cell_type": "code",
   "execution_count": 7,
   "metadata": {},
   "outputs": [
    {
     "data": {
      "application/vnd.plotly.v1+json": {
       "config": {
        "plotlyServerURL": "https://plot.ly"
       },
       "data": [
        {
         "alignmentgroup": "True",
         "bingroup": "x",
         "hovertemplate": "variable=x<br>value=%{x}<br>count=%{y}<extra></extra>",
         "legendgroup": "x",
         "marker": {
          "color": "#636efa",
          "pattern": {
           "shape": ""
          }
         },
         "name": "x",
         "offsetgroup": "x",
         "orientation": "v",
         "showlegend": true,
         "type": "histogram",
         "x": [
          0.18750150948910416,
          -0.9558459142365802,
          0.5824499156011821,
          0.11409133802625056,
          -0.794112638015835,
          0.020447127647705305,
          0.14157671329140203,
          0.04802411512412716,
          0.6637783317678708,
          -0.18785971489753542,
          -0.001990781323067616,
          0.3567793865744791,
          -0.09390529961183457,
          0.9549992937962468,
          0.3020249222396123,
          -0.28428039376868736,
          1.0090290068650989,
          -1.975387508680779,
          0.34655775703993846,
          -0.45097673133083865,
          1.4449037691489623,
          0.9791818841278886,
          0.12509278432559687,
          -0.3432870504865767,
          -1.1383895243592888,
          -1.1226391633229111,
          -1.452272271623968,
          -0.09608722255424698,
          0.7264392559673462,
          -0.04550690364747314,
          0.9013240525381513,
          1.5668070740139548,
          -0.30109230946708904,
          0.44612487995841416,
          0.28373142385142863,
          1.9386512545654975,
          -0.5998679872400563,
          1.3288913927854618,
          0.5573695446822519,
          -1.7246540884173758,
          1.77771194946453,
          -1.5701831562511408,
          -0.3103151451918057,
          0.19759482584934862,
          0.8265219643076507,
          -1.4046735435318014,
          -1.4644121282623515,
          2.230752474360937,
          -0.42849818545057144,
          -0.5621861279813143,
          -0.024939479254506985,
          0.3659696473921173,
          1.1613159568379,
          0.254712698229132,
          0.9131806477519477,
          -0.13629657150691707,
          0.4493531788343218,
          -0.08300597658001983,
          -0.36855519732606573,
          -0.7165631751209923,
          -0.2779562103316217,
          -0.2624463110016937,
          -0.2802431322850738,
          0.3215945720275554,
          -2.0432524714702103,
          -0.798042888019618,
          -0.8064279161768807,
          -0.7764334553990971,
          -2.382586479502891,
          -1.1582037852898184,
          -0.48609103026345457,
          -0.564292616532431,
          2.0811820402825396,
          0.1492009302489077,
          0.23279967674240637,
          0.18776892807928894,
          0.20244776355675329,
          -0.645190081263369,
          0.6547562516525708,
          1.2078012109918248,
          0.44808277238963834,
          -0.48576029333545434,
          -0.2133096627321567,
          1.151659217049487,
          1.9317868584146805,
          -0.5092322233422764,
          -0.3955485704693938,
          -0.08784183011076578,
          -1.9406373746402097,
          -1.7071401400065134,
          -0.9907265000202555,
          0.5205101495694333,
          0.7386964250819124,
          -0.7620959072194512,
          0.0718145356332694,
          -0.11906697721351997,
          0.9485927415676261,
          -0.3901934884606692,
          -0.4989096346082022,
          0.08461542766604425,
          -0.38521284489266466,
          1.3419578638148582,
          0.86338805515807,
          -0.41806883195547995,
          -0.7910096224431705,
          -2.1080583832037227,
          0.6956536485743936,
          -1.291004968258452,
          0.5533001938930665,
          -1.0002278578824644,
          -0.003608009332702728,
          -0.7862734198761142,
          0.06907618064457216,
          -0.8959034937166785,
          -0.18726796168688173,
          -1.0604178651045546,
          -2.197085682357622,
          1.196770411717965,
          -0.6725408861730057,
          -1.0860329263988175,
          -0.36401522565004046,
          1.3365697234265537,
          0.23989070191202053,
          0.5883286847475513,
          -0.38970691846050876,
          0.4918430618737944,
          -0.5270557235923361,
          1.8604354303192516,
          0.279219843020386,
          -0.48349386828840746,
          1.2685861792859365,
          0.7835076392446719,
          -1.5164822735655328,
          0.25779632780042216,
          1.008364703261361,
          1.1931058912881245,
          0.11874163007938986,
          -0.9187256988633776,
          0.18123875044208834,
          -0.14765708314526624,
          0.7367784483572147,
          0.44103480850724736,
          0.27856778424974526,
          -0.6404127298569025,
          -0.3610736284277398,
          1.6073467618953667,
          -0.18082607874685816,
          0.6524903045643684,
          1.2875714860959078,
          -0.6922516830014942,
          1.4750303578441823,
          0.7038120077927381,
          -0.9742626913113646,
          -1.0724236028461511,
          0.3050218697161333,
          -0.07515876150196621,
          1.4929746413814093,
          -0.5534639810310525,
          1.977374266411132,
          -0.2093533996106099,
          0.2217153851446946,
          0.6879574446989182,
          0.4227686605116565,
          1.8729522568821941,
          0.29399101334786587,
          -0.6619466548665796,
          1.870359393867149,
          -0.0751839714339823,
          0.08791421529003964,
          -0.9129538585091426,
          -0.9296465014853275,
          0.10370305894194956,
          0.45458106370107937,
          -1.2129311648418581,
          1.3659905602303664,
          0.6541490519079843,
          -0.4414254578576657,
          0.9316882136988105,
          0.2524350498474667,
          0.7873060906231011,
          0.054976573407366704,
          0.4640255781527659,
          1.0603637289619139,
          0.1254384700583534,
          -0.02380621817972928,
          -1.002622078960282,
          -1.237218954938983,
          -1.7290493839224303,
          -0.44398207976084425,
          -0.387163422000963,
          0.468948099265516,
          1.9036626359432631,
          0.46434771319101126,
          -0.006341854019044343,
          -0.2300944817740893,
          1.5985445565385283,
          -0.5617654479679162,
          1.0389091019348076,
          -0.26274651655501274,
          -0.0017507934469141754,
          0.46890819254454924,
          -0.9239129537416809,
          0.4832213222588706,
          0.7395429590024178,
          0.41854386581660014,
          0.18368316705653853,
          -1.6917430699745055,
          -1.873924562683784,
          -0.20901182904225069,
          0.37023001682680245,
          -0.4387436818945317,
          0.0606730800587911,
          -0.2932783296332623,
          0.1857347896346858,
          -0.14178141758848334,
          0.9223501791593642,
          -0.9743835378569834,
          -1.0087138478346451,
          0.5439192087540913,
          0.10873370795066316,
          1.0693566724136065,
          1.689192095967141,
          -1.3503230227401735,
          -0.7265487313885777,
          -0.27719155013956503,
          0.8576479230198041,
          -0.23726797777924188,
          -0.4281276581331855,
          1.4149077050546468,
          0.10078357780379564,
          0.6110805146042474,
          0.12289828035761613,
          0.860759439768098,
          -1.2289048206282087,
          0.47074165676571783,
          -0.9471406653338326,
          1.2884611862931268,
          0.7775015869469114,
          0.32019657137869284,
          1.0125901055034707,
          0.06636933609050591,
          0.13532636568265707,
          1.207211593579695,
          -0.456997935917991,
          -0.5303393111208881,
          1.588119015683634,
          0.70801656201001,
          0.3740730739451262,
          0.6176158613272423,
          -1.4217310461098942,
          0.7754611912952732,
          -1.140726665784195,
          -1.0540039494169093,
          -0.8947505281842668,
          0.5035351339814573,
          1.3591532068181478,
          -0.0865895918826269,
          -0.22720767599373498,
          -0.10926927822475396,
          -0.270334678460546,
          -1.002570753865019,
          -0.6785957516240941,
          -0.18901547526657073,
          0.5270353221059898,
          1.434580150334902,
          -0.7514002464940835,
          -0.9715591870350712,
          -0.03161961230397246,
          -0.081726817843295,
          -0.37952897827720683,
          1.4941542855999743,
          0.8988303331636986,
          -0.08794171073419957,
          -0.6833469107288136,
          0.20281670324712117,
          -2.1073418702452376,
          0.12724019772388465,
          1.1737954416917569,
          -0.0060853283942440654,
          0.4377462554682232,
          -0.8441596008372912,
          -0.8824616948782271,
          0.5751503772835105,
          0.44485601157866067,
          0.009290820592710244,
          -0.07362693647791642,
          -0.8853053761014295,
          1.2857046184334255,
          -0.6237868766697127,
          0.20877997186588465,
          -0.559493105603747,
          0.9689674612273254,
          -1.2065597940816026,
          0.6877089464722758,
          -0.16127111636193028,
          -0.005195468577801488,
          0.04574150871244651,
          0.8073208973206476,
          -0.27140401715139667,
          -0.4976902376214444,
          0.2268558747099902,
          -0.17200150910041218,
          0.2483520301536625,
          0.9923382998454077,
          0.18239769666689068,
          -0.5205462437371655,
          -0.4158922234042999,
          1.2973841493802538,
          0.7279412587702375,
          -0.3569287685798699,
          -0.4492943095119611,
          0.8930328887614796,
          1.1315261179255158,
          0.9706617860614312,
          1.6718302380167993,
          1.047517610745555,
          1.5548426708386751,
          -0.46622476506174876,
          -1.2536502692682416,
          0.2854511413792511,
          0.9824831883064059,
          0.9010870262852578,
          -0.08135314269805057,
          -0.3895867345175514,
          0.7729557483325167,
          0.8856405839139468,
          1.6675527486793222,
          0.6376842932915989,
          -0.24871871786060015,
          -0.5020674005262846,
          0.12784466205434258,
          1.1208932354713526,
          0.4377236671717533,
          -0.4262824001168948,
          1.08371711735757,
          0.6418300540851539,
          -1.5391425402389052,
          0.7626079226322184,
          0.2840656641450728,
          -0.1806769062004008,
          -1.0864274235091327,
          -1.709723808567156,
          0.7760852387923934,
          -1.118117096235961,
          0.4718334831240445,
          0.9055318659482356,
          -0.3370832041480974,
          -1.622257301737618,
          1.1294533930523136,
          -1.495943235596852,
          0.6990117775368904,
          -0.2529027202253904,
          -0.27683253244930417,
          -1.0701906245931223,
          1.0066872730376462,
          -0.15330501718877595,
          1.1650584664726038,
          0.2770068770499518,
          0.8050067482944053,
          -1.6167700122801107,
          -1.2801525732406505,
          -0.16749081167746882,
          -0.4675282799207701,
          -0.6651979338692754,
          0.02705483390345709,
          -0.8473941577997905,
          1.8161775999439715,
          0.3632099497227159,
          1.1170268114021353,
          -0.6850568882396326,
          0.3324339055335609,
          -0.4706312731006156,
          -0.9847160445855394,
          -0.1790615419630906,
          0.12075392332186455,
          0.18830595335558734,
          0.9293284398796646,
          1.8477396543900877,
          -0.29490322810729186,
          -0.7361338929569755,
          -0.9745474322943362,
          0.07204598648192422,
          0.6679065461933208,
          -0.5886839297173436,
          -0.14030513487585153,
          -0.4370099764124449,
          -0.2258859158049,
          -1.0193499979485623,
          -0.11268486908941033,
          2.370657083920581,
          0.8084883338941984,
          -1.3804290930840515,
          0.7176790102688368,
          2.8274967158429667,
          0.0512173688842961,
          -0.38329289282379114,
          0.6579935299732269,
          -0.22113073836836317,
          -0.7228274280786603,
          -0.9324118531944534,
          -0.6419231340898525,
          -0.5550404888105112,
          0.00890995871041225,
          -1.6123615055642238,
          0.2564649686714308,
          0.5562203575650374,
          0.8641917071584483,
          -0.5272751817195935,
          -1.307567216275512,
          -0.27500768227409533,
          -0.6220511467117122,
          0.9770559751016805,
          0.019686247192181643,
          0.4172178764578297,
          -0.8910140562618173,
          1.057453819016275,
          -0.7659272719501307,
          0.5742984106823154,
          0.23321655024373086,
          -0.697606359794346,
          1.8610554937962003,
          0.13008876362311966,
          -1.1722922564643794,
          0.7151574927826723,
          0.06248368255660353,
          -1.6330033325537754,
          -0.3690788062039093,
          -0.5928189704818522,
          -1.52891518801809,
          -0.4878848670178972,
          -0.4526909549158258,
          0.45347279458561474,
          0.346676174231807,
          0.4491481678444897,
          0.9443525411819692,
          -0.29765750554658316,
          -1.8217655629099465,
          0.8041621213525807,
          0.6068440881917229,
          -1.1310943581512325,
          0.003678555440225055,
          -0.26023074664800533,
          0.09718229554035804,
          -0.5443044998840664,
          0.9969085064016932,
          -0.14542832131563202,
          -0.16204045514487062,
          3.0192259147423393,
          2.5288993407958995,
          0.4986279099391061,
          -0.062364756816021875,
          0.04168369850130107,
          -0.993045263338541,
          -0.9434020775486167,
          0.7953620878770105,
          1.0113979297825515,
          1.214030890501738,
          0.4912763969691421,
          0.8987448429954281,
          -0.12583120290552324,
          -0.41817391334049603,
          0.6737482812669515,
          1.2316220859836837,
          -1.1012941502499847,
          0.9991106067970243,
          0.5600983128139951,
          -1.5881297094830638,
          1.5896509482164656,
          1.6743457992706794,
          0.38755212310938447,
          -0.18392192371219537,
          0.5956638183120598,
          -0.8917899510954831,
          0.2548138144458227,
          0.60910389832714,
          -1.2477416433458512,
          1.4604897727753887,
          -1.6664214474690913,
          1.0730822529453232,
          0.3192737785663303,
          -0.28727799646194624,
          -1.2046841877782895,
          -1.56761648427594,
          0.8464792627489612,
          1.21085827542136,
          1.1036354442690695,
          -0.19097976864891236,
          -0.2767829601648973,
          -0.2042950636384898,
          -0.3559479316987677,
          -0.32381832609872246,
          1.4752830523306844,
          0.29155722452778343,
          -1.9646782758035692,
          0.8533897704025977,
          -1.2428398862221584,
          0.8676937150521922,
          -0.045453977397373245,
          0.0517208019595326,
          -0.1728816917006166,
          0.4636111515773852,
          0.4380883105063351,
          0.8142372128784693,
          -0.7397808563757576,
          0.2974038162314176,
          0.3178659784711431,
          0.808447403092485,
          -0.6528844944513629,
          1.7495143274868408,
          0.26883143008920307,
          0.9036161592783648,
          0.6143892836486718,
          3.145364577578479,
          0.781858792071714,
          0.5936937796073178,
          0.4196445517030057,
          -0.2149232064001799,
          0.9920452394178354,
          -0.9390047093145133,
          0.9710926167757247,
          -0.8476309332496,
          -0.20736850222485362,
          0.20619602436338552,
          -0.5174677917113785,
          0.08883780929752566,
          -0.20947485197739785,
          0.16816784653589478,
          -0.4097968721247469,
          0.7579420902401156,
          -0.02713682632694675,
          0.9622267841839915,
          -0.7961160911719377,
          0.8336963586070062,
          0.2093225942346635,
          0.7108533121962618,
          0.9388573069911805,
          -0.287460960351968,
          -0.7229860410273058,
          -0.4477717289379396,
          -0.30057805120890907,
          0.3702507919726901,
          0.43159514034112806,
          -0.411593432729139,
          0.981545128923365,
          1.3753929938940992,
          0.1700658766341649,
          0.2405794435663584,
          -1.8371221421375286,
          0.46903535255929096,
          2.0139589826074777,
          -0.12955503535867965,
          1.5690892559592466,
          0.5108627403851885,
          0.24495246573379453,
          -0.1776848263924029,
          0.3235647225038665,
          0.8109057377702978,
          -0.5311623745531798,
          -1.7479716065464974,
          -0.11956996176064938,
          0.780448812543878,
          0.8660844312033663,
          -1.8528567830232145,
          -0.3124376331212713,
          -0.6377629474311458,
          0.19235941411958538,
          -1.3771889489647806,
          -0.20233714495504956,
          1.102351035249749,
          0.8990792235178856,
          -0.08199388629038704,
          -0.4261625233597797,
          2.362733673115811,
          -1.279541251530912,
          0.48158527297420856,
          0.7895474126113072,
          1.7491603713089976,
          -1.1401599063832768,
          0.8006644721675376,
          -1.1387829977036663,
          0.22466425521074074,
          0.5292098449153547,
          0.4618479543867674,
          1.3193437126666894,
          0.4646701595010028,
          0.2620527478657364,
          0.3739563836504081,
          -0.041587175525440966,
          -1.7641453298505572,
          0.25072048492042426,
          0.6470431176729702,
          -0.7931437874144234,
          0.06773083516921735,
          -1.3591744923059985,
          -1.1372070049469962,
          -0.12884426293794204,
          -0.32973048596633386,
          -1.041315537666464,
          1.5923225160964078,
          -0.6590352498525687,
          0.3932141858710022,
          0.06578203246118204,
          0.648164140533522,
          0.5318280343135389,
          1.4502478529376066,
          0.7322424208912388,
          0.5639271370449699,
          0.2433232505969404,
          0.7664566968179357,
          -0.561670564452418,
          -0.7305415424511652,
          -0.9772787030451182,
          0.5098062691752636,
          0.7881270321532253,
          1.6667851538448943,
          -0.8960099750003394,
          1.226398488044208,
          0.05144348713150572,
          -0.43818803905496867,
          0.6322337050546587,
          -0.8605477558685379,
          0.30298209860909525,
          -0.5433426881757311,
          0.00032472425844484954,
          0.4027593844840792,
          0.07244387090997483,
          0.31482640383165283,
          0.3972839412278454,
          0.28076662665893876,
          -1.152481740937696,
          1.033911566843479,
          -0.8577370188458174,
          -0.03582752965088892,
          0.11842871984294628,
          -0.1710426386351666,
          1.1935747331876374,
          0.23117550778920298,
          -0.1754551859750114,
          -0.14546725129807614,
          -1.2397461294428025,
          -1.0903284960568644,
          0.24449561403716963,
          0.24872460961973816,
          0.027591977002935995,
          -0.9804261804917908,
          -1.32466198662193,
          -0.3285097739169876,
          0.20986713869247303,
          -0.14187220110906973,
          -0.04855456001075573,
          0.34510745763173434,
          -0.2976744693498111,
          -1.4180308004459377,
          -0.29169263968575326,
          0.5827434930320649,
          0.1831853994850478,
          1.3615615738720164,
          0.31113263623741294,
          -1.7692824174200659,
          1.7969475490646722,
          1.798950735857151,
          1.7144413304584778,
          0.18383410344369894,
          -0.15880440274961663,
          0.32820595045639456,
          -0.7665241432308573,
          -2.156559566783062,
          -0.5168311454924268,
          0.4278278994060036,
          -0.7378132656380156,
          -1.013641971966844,
          0.07950700588138893,
          -0.25961035120201553,
          -0.25959795419056203,
          -1.1522635627631939,
          0.4131833420661137,
          -0.4356554029661369,
          0.26654838589100355,
          0.28778389013404876,
          2.0141342232777726,
          -0.9000331871105516,
          0.7435941005549845,
          -0.504802393305324,
          0.8850020515165742,
          -0.5922850564151865,
          0.19850931719902523,
          1.8262533441167932,
          -1.0751158973175439,
          1.015646759940109,
          -0.0313052543351628,
          1.1643545134702507,
          -0.06063445011924718,
          0.3295976700310581,
          -0.5050434366946022,
          1.6782342170030096,
          0.45504251481228764,
          -1.4514142279798403,
          0.21503961455384546,
          -1.1793902984673084,
          -0.9252652476147902,
          -1.4617697518624135,
          0.6163150884677436,
          0.28532297266487544,
          -0.7594700693102199,
          0.004788561623511631,
          -0.4957971981094864,
          -0.6924106709018003,
          -0.36288444070389925,
          -0.2512532922616234,
          -0.48477088348490854,
          0.07514191229342616,
          1.0537445062871038,
          -2.3994048764479547,
          -1.1438212158030447,
          0.6986140208491283,
          1.3545201037724137,
          -0.9189684610326316,
          -0.24534255008408162,
          0.37721675030036883,
          0.31369938221197075,
          0.33896037191018746,
          -1.4292066269793315,
          -1.6703116926359567,
          -0.21337750668902067,
          -0.49941732157289653,
          1.1854458848120009,
          1.5926724790354907,
          -0.11931349822758339,
          1.8066443665902636,
          -0.4320772556527668,
          1.005241948013166,
          -0.035511091872875294,
          -1.049120246884286,
          -0.2980785400251722,
          1.4987323094667553,
          -0.5904180088814365,
          -1.8594102569725106,
          -0.07512874992020906,
          1.4691355554596817,
          -0.03848101880913401,
          0.7832824714784057,
          0.5998107110094836,
          0.5730974624444961,
          -0.2878491506788825,
          0.32052301126192834,
          -0.9858255314994526,
          -0.3012812181410461,
          -0.024860717215971644,
          0.21294432020276804,
          -0.03617441087021684,
          -2.4717212205213297,
          0.49287348529135744,
          -0.18739961813544295,
          -0.35819335893505677,
          -0.6868317697248758,
          -0.09737330044509629,
          0.8849580054708243,
          -0.10722333516551762,
          -0.7404756445295457,
          -0.45225966929898326,
          -0.8887408164165931,
          0.9515416883539293,
          0.09337354968543778,
          -0.8486693915475287,
          0.4785682222194003,
          -0.8233177709477456,
          -0.8244153315876517,
          -0.36666252754216966,
          0.8742218240249909,
          0.6481523458354889,
          0.45539490510447767,
          1.0482068789072554,
          0.21454943440606444,
          -0.5080297214118553,
          -1.2565102205310685,
          -0.6893999541252489,
          0.8725231707149605,
          -0.2409322825298918,
          1.0006571512915434,
          1.2739367829252748,
          1.5093669762180488,
          0.03437176989130834,
          -1.1060370058886297,
          0.27142495293211855,
          -1.6242494070579785,
          1.083775239238159,
          0.7900286833781075,
          -0.8687871153648565,
          1.1450416495288245,
          -0.7268254593889155,
          -0.6755681320963136,
          -2.2186094208286318,
          2.570470402566096,
          0.667313868482801,
          1.7080108536719436,
          0.9249059805821795,
          -0.04262456832507912,
          -1.4765366146049497,
          1.367732276515287,
          0.6055179146707302,
          0.6177253261480915,
          -0.6570640687642372,
          0.08003276044544815,
          0.5120275696147419,
          -1.3260009498973562,
          2.449395937757831,
          0.06944027121519572,
          1.2856106098993119,
          -1.3622288807585277,
          0.17207631109094138,
          2.915063142498501,
          0.28540855489781675,
          -0.10923182134029379,
          -1.8302829949670247,
          -1.0361195108920676,
          -0.6169435395482483,
          0.06462534524543358,
          -0.6681400598279698,
          0.7040885486754801,
          0.5395990623481088,
          -0.3149872921937734,
          0.717806340502044,
          0.989453747628775,
          0.49647878019784336,
          1.060871592423339,
          1.2593897647718193,
          -0.38398811938696553,
          0.1901805746904245,
          0.4266098645944573,
          -0.4956554431751392,
          -0.130376662613347,
          -1.1532606480764682,
          1.1930588329685212,
          0.9642610884830018,
          -0.8385526938494118,
          -1.0486779548489435,
          1.5526683595689517,
          -0.1284593556262421,
          0.14537992869138772,
          0.25118783357835256,
          0.09052463665443361,
          0.9641994759687387,
          -1.543159468020655,
          1.133727896977074,
          0.07895177384426863,
          -1.2403714382999522,
          -1.7323003160402388,
          1.151735454359095,
          0.15703463628236958,
          -0.2017788099867743,
          -0.47441890487282246,
          -0.9243975397116685,
          0.9514609017088516,
          0.07751780708827764,
          -1.6530698291427954,
          0.6636178190593636,
          -1.4532401444125493,
          -0.41679304496012826,
          -0.4760948800207707,
          1.0158682568470054,
          0.007764900485658186,
          -0.5555942628523863,
          0.3772415784592388,
          -0.0636342396488518,
          -0.055815701699960786,
          -0.8441204867459378,
          -0.9970634466373478,
          0.8772227718868487,
          -0.5012826279575608,
          1.7045884920691348,
          -0.04250095821429401,
          0.020908789707795267,
          0.09030904913812395,
          1.0915290673301652,
          -0.7738000141207769,
          -0.6577721904091984,
          0.5591908396731167,
          -1.7314751799488906,
          0.28451028049373095,
          -0.13361507964843042,
          -1.2762328844501796,
          0.4154773628275091,
          -0.5824481609492056,
          -0.12927436750646376,
          -0.9731751640733837,
          -0.49641596388606124,
          -0.09422925039469707,
          -0.5245786221681971,
          0.2464678788530247,
          1.4407889224708337,
          -0.9905340313801511,
          0.41442993890291163,
          1.5235913520851097,
          0.4313348010144225,
          -1.332928553284043,
          0.9002207046344516,
          0.0027912727509030737,
          2.261163889542346,
          -0.2545004155080404,
          0.9611302201662578,
          -1.7184105270441379,
          -0.2220603145327625,
          0.7085082368019747,
          -0.0372612243973018,
          0.27939029607638355,
          -0.7918899361637982,
          -0.30447590213168524,
          -0.12304894527034256,
          1.4471173197963125,
          -1.0474607890353547,
          -0.24158797661482515,
          -0.981220382487351,
          -0.43225023547745334,
          0.9736157897907797,
          -0.6562053783705495,
          -0.3128572818976878,
          1.0287270447574162,
          -0.06368483915937836,
          0.18930410194167266,
          0.8566579384357185,
          0.37108456270270324,
          0.9444821990827466,
          0.5875778547062601,
          -1.8017974669706278,
          1.2292920639442662,
          0.3865111895795039,
          1.973199937194273,
          0.1329039639484769,
          -0.3321909521254802,
          -0.6589623454584317,
          -0.46330449425323667,
          0.15174315578629421,
          1.1597284156382768,
          0.8612109615590736,
          -2.0813142087965333,
          -1.6026789140875455,
          -0.5419404923020714,
          0.38036104075739585,
          -0.5177191035997885,
          -1.8458776509218269,
          0.4371097313395622,
          -1.291960790197198,
          -1.9643083910809995,
          -0.3511971406592635,
          1.19622932988501,
          0.052613753717319175,
          0.6200881950479027,
          -1.260495175159406,
          1.356789209440353,
          -0.2935601389564417,
          0.5595590573646528,
          -1.3537930153492885,
          0.19633507247317067,
          -0.3699902074894311,
          -0.6128622438257204,
          -1.1412761722869624,
          -1.2806012757431329,
          1.58781037965415,
          -0.7725268969803146,
          -0.49793258794625855,
          1.342530512704039,
          -1.1284688186613716,
          0.3298457060771636,
          -0.1269818271549754,
          0.42040369506291503,
          1.1183678222743512,
          0.6893155505538616,
          -1.7034345994317126,
          2.059725790658185,
          -0.35678040507324377,
          0.16831740183260727,
          0.9192005239297256,
          -0.17369869099091986,
          0.7587154984303472,
          0.2660613732278975,
          -0.4742108093888738,
          -0.17140403656084205,
          0.6908162803833438,
          -0.558660531287959,
          0.5269914489750537,
          -0.9334875616629686,
          -1.1364041466807893,
          -1.3180746685875653,
          0.2713400309650082,
          -0.47990706225196805,
          -0.09019990695863811,
          0.5333779591733158,
          -0.3967258473616423,
          1.6022108378991593,
          1.387426060321449,
          -1.499825151656068,
          -0.3102271719079329,
          -1.9196722136084703,
          0.8280961214775205,
          -0.3903310398870268,
          -0.024491236826006846,
          -0.33404384128015424,
          -0.35235996804988595,
          1.3420251690091325,
          0.6229648422210509
         ],
         "xaxis": "x",
         "yaxis": "y"
        }
       ],
       "layout": {
        "barmode": "relative",
        "legend": {
         "title": {
          "text": "variable"
         },
         "tracegroupgap": 0
        },
        "template": {
         "data": {
          "bar": [
           {
            "error_x": {
             "color": "#2a3f5f"
            },
            "error_y": {
             "color": "#2a3f5f"
            },
            "marker": {
             "line": {
              "color": "#E5ECF6",
              "width": 0.5
             },
             "pattern": {
              "fillmode": "overlay",
              "size": 10,
              "solidity": 0.2
             }
            },
            "type": "bar"
           }
          ],
          "barpolar": [
           {
            "marker": {
             "line": {
              "color": "#E5ECF6",
              "width": 0.5
             },
             "pattern": {
              "fillmode": "overlay",
              "size": 10,
              "solidity": 0.2
             }
            },
            "type": "barpolar"
           }
          ],
          "carpet": [
           {
            "aaxis": {
             "endlinecolor": "#2a3f5f",
             "gridcolor": "white",
             "linecolor": "white",
             "minorgridcolor": "white",
             "startlinecolor": "#2a3f5f"
            },
            "baxis": {
             "endlinecolor": "#2a3f5f",
             "gridcolor": "white",
             "linecolor": "white",
             "minorgridcolor": "white",
             "startlinecolor": "#2a3f5f"
            },
            "type": "carpet"
           }
          ],
          "choropleth": [
           {
            "colorbar": {
             "outlinewidth": 0,
             "ticks": ""
            },
            "type": "choropleth"
           }
          ],
          "contour": [
           {
            "colorbar": {
             "outlinewidth": 0,
             "ticks": ""
            },
            "colorscale": [
             [
              0,
              "#0d0887"
             ],
             [
              0.1111111111111111,
              "#46039f"
             ],
             [
              0.2222222222222222,
              "#7201a8"
             ],
             [
              0.3333333333333333,
              "#9c179e"
             ],
             [
              0.4444444444444444,
              "#bd3786"
             ],
             [
              0.5555555555555556,
              "#d8576b"
             ],
             [
              0.6666666666666666,
              "#ed7953"
             ],
             [
              0.7777777777777778,
              "#fb9f3a"
             ],
             [
              0.8888888888888888,
              "#fdca26"
             ],
             [
              1,
              "#f0f921"
             ]
            ],
            "type": "contour"
           }
          ],
          "contourcarpet": [
           {
            "colorbar": {
             "outlinewidth": 0,
             "ticks": ""
            },
            "type": "contourcarpet"
           }
          ],
          "heatmap": [
           {
            "colorbar": {
             "outlinewidth": 0,
             "ticks": ""
            },
            "colorscale": [
             [
              0,
              "#0d0887"
             ],
             [
              0.1111111111111111,
              "#46039f"
             ],
             [
              0.2222222222222222,
              "#7201a8"
             ],
             [
              0.3333333333333333,
              "#9c179e"
             ],
             [
              0.4444444444444444,
              "#bd3786"
             ],
             [
              0.5555555555555556,
              "#d8576b"
             ],
             [
              0.6666666666666666,
              "#ed7953"
             ],
             [
              0.7777777777777778,
              "#fb9f3a"
             ],
             [
              0.8888888888888888,
              "#fdca26"
             ],
             [
              1,
              "#f0f921"
             ]
            ],
            "type": "heatmap"
           }
          ],
          "heatmapgl": [
           {
            "colorbar": {
             "outlinewidth": 0,
             "ticks": ""
            },
            "colorscale": [
             [
              0,
              "#0d0887"
             ],
             [
              0.1111111111111111,
              "#46039f"
             ],
             [
              0.2222222222222222,
              "#7201a8"
             ],
             [
              0.3333333333333333,
              "#9c179e"
             ],
             [
              0.4444444444444444,
              "#bd3786"
             ],
             [
              0.5555555555555556,
              "#d8576b"
             ],
             [
              0.6666666666666666,
              "#ed7953"
             ],
             [
              0.7777777777777778,
              "#fb9f3a"
             ],
             [
              0.8888888888888888,
              "#fdca26"
             ],
             [
              1,
              "#f0f921"
             ]
            ],
            "type": "heatmapgl"
           }
          ],
          "histogram": [
           {
            "marker": {
             "pattern": {
              "fillmode": "overlay",
              "size": 10,
              "solidity": 0.2
             }
            },
            "type": "histogram"
           }
          ],
          "histogram2d": [
           {
            "colorbar": {
             "outlinewidth": 0,
             "ticks": ""
            },
            "colorscale": [
             [
              0,
              "#0d0887"
             ],
             [
              0.1111111111111111,
              "#46039f"
             ],
             [
              0.2222222222222222,
              "#7201a8"
             ],
             [
              0.3333333333333333,
              "#9c179e"
             ],
             [
              0.4444444444444444,
              "#bd3786"
             ],
             [
              0.5555555555555556,
              "#d8576b"
             ],
             [
              0.6666666666666666,
              "#ed7953"
             ],
             [
              0.7777777777777778,
              "#fb9f3a"
             ],
             [
              0.8888888888888888,
              "#fdca26"
             ],
             [
              1,
              "#f0f921"
             ]
            ],
            "type": "histogram2d"
           }
          ],
          "histogram2dcontour": [
           {
            "colorbar": {
             "outlinewidth": 0,
             "ticks": ""
            },
            "colorscale": [
             [
              0,
              "#0d0887"
             ],
             [
              0.1111111111111111,
              "#46039f"
             ],
             [
              0.2222222222222222,
              "#7201a8"
             ],
             [
              0.3333333333333333,
              "#9c179e"
             ],
             [
              0.4444444444444444,
              "#bd3786"
             ],
             [
              0.5555555555555556,
              "#d8576b"
             ],
             [
              0.6666666666666666,
              "#ed7953"
             ],
             [
              0.7777777777777778,
              "#fb9f3a"
             ],
             [
              0.8888888888888888,
              "#fdca26"
             ],
             [
              1,
              "#f0f921"
             ]
            ],
            "type": "histogram2dcontour"
           }
          ],
          "mesh3d": [
           {
            "colorbar": {
             "outlinewidth": 0,
             "ticks": ""
            },
            "type": "mesh3d"
           }
          ],
          "parcoords": [
           {
            "line": {
             "colorbar": {
              "outlinewidth": 0,
              "ticks": ""
             }
            },
            "type": "parcoords"
           }
          ],
          "pie": [
           {
            "automargin": true,
            "type": "pie"
           }
          ],
          "scatter": [
           {
            "fillpattern": {
             "fillmode": "overlay",
             "size": 10,
             "solidity": 0.2
            },
            "type": "scatter"
           }
          ],
          "scatter3d": [
           {
            "line": {
             "colorbar": {
              "outlinewidth": 0,
              "ticks": ""
             }
            },
            "marker": {
             "colorbar": {
              "outlinewidth": 0,
              "ticks": ""
             }
            },
            "type": "scatter3d"
           }
          ],
          "scattercarpet": [
           {
            "marker": {
             "colorbar": {
              "outlinewidth": 0,
              "ticks": ""
             }
            },
            "type": "scattercarpet"
           }
          ],
          "scattergeo": [
           {
            "marker": {
             "colorbar": {
              "outlinewidth": 0,
              "ticks": ""
             }
            },
            "type": "scattergeo"
           }
          ],
          "scattergl": [
           {
            "marker": {
             "colorbar": {
              "outlinewidth": 0,
              "ticks": ""
             }
            },
            "type": "scattergl"
           }
          ],
          "scattermapbox": [
           {
            "marker": {
             "colorbar": {
              "outlinewidth": 0,
              "ticks": ""
             }
            },
            "type": "scattermapbox"
           }
          ],
          "scatterpolar": [
           {
            "marker": {
             "colorbar": {
              "outlinewidth": 0,
              "ticks": ""
             }
            },
            "type": "scatterpolar"
           }
          ],
          "scatterpolargl": [
           {
            "marker": {
             "colorbar": {
              "outlinewidth": 0,
              "ticks": ""
             }
            },
            "type": "scatterpolargl"
           }
          ],
          "scatterternary": [
           {
            "marker": {
             "colorbar": {
              "outlinewidth": 0,
              "ticks": ""
             }
            },
            "type": "scatterternary"
           }
          ],
          "surface": [
           {
            "colorbar": {
             "outlinewidth": 0,
             "ticks": ""
            },
            "colorscale": [
             [
              0,
              "#0d0887"
             ],
             [
              0.1111111111111111,
              "#46039f"
             ],
             [
              0.2222222222222222,
              "#7201a8"
             ],
             [
              0.3333333333333333,
              "#9c179e"
             ],
             [
              0.4444444444444444,
              "#bd3786"
             ],
             [
              0.5555555555555556,
              "#d8576b"
             ],
             [
              0.6666666666666666,
              "#ed7953"
             ],
             [
              0.7777777777777778,
              "#fb9f3a"
             ],
             [
              0.8888888888888888,
              "#fdca26"
             ],
             [
              1,
              "#f0f921"
             ]
            ],
            "type": "surface"
           }
          ],
          "table": [
           {
            "cells": {
             "fill": {
              "color": "#EBF0F8"
             },
             "line": {
              "color": "white"
             }
            },
            "header": {
             "fill": {
              "color": "#C8D4E3"
             },
             "line": {
              "color": "white"
             }
            },
            "type": "table"
           }
          ]
         },
         "layout": {
          "annotationdefaults": {
           "arrowcolor": "#2a3f5f",
           "arrowhead": 0,
           "arrowwidth": 1
          },
          "autotypenumbers": "strict",
          "coloraxis": {
           "colorbar": {
            "outlinewidth": 0,
            "ticks": ""
           }
          },
          "colorscale": {
           "diverging": [
            [
             0,
             "#8e0152"
            ],
            [
             0.1,
             "#c51b7d"
            ],
            [
             0.2,
             "#de77ae"
            ],
            [
             0.3,
             "#f1b6da"
            ],
            [
             0.4,
             "#fde0ef"
            ],
            [
             0.5,
             "#f7f7f7"
            ],
            [
             0.6,
             "#e6f5d0"
            ],
            [
             0.7,
             "#b8e186"
            ],
            [
             0.8,
             "#7fbc41"
            ],
            [
             0.9,
             "#4d9221"
            ],
            [
             1,
             "#276419"
            ]
           ],
           "sequential": [
            [
             0,
             "#0d0887"
            ],
            [
             0.1111111111111111,
             "#46039f"
            ],
            [
             0.2222222222222222,
             "#7201a8"
            ],
            [
             0.3333333333333333,
             "#9c179e"
            ],
            [
             0.4444444444444444,
             "#bd3786"
            ],
            [
             0.5555555555555556,
             "#d8576b"
            ],
            [
             0.6666666666666666,
             "#ed7953"
            ],
            [
             0.7777777777777778,
             "#fb9f3a"
            ],
            [
             0.8888888888888888,
             "#fdca26"
            ],
            [
             1,
             "#f0f921"
            ]
           ],
           "sequentialminus": [
            [
             0,
             "#0d0887"
            ],
            [
             0.1111111111111111,
             "#46039f"
            ],
            [
             0.2222222222222222,
             "#7201a8"
            ],
            [
             0.3333333333333333,
             "#9c179e"
            ],
            [
             0.4444444444444444,
             "#bd3786"
            ],
            [
             0.5555555555555556,
             "#d8576b"
            ],
            [
             0.6666666666666666,
             "#ed7953"
            ],
            [
             0.7777777777777778,
             "#fb9f3a"
            ],
            [
             0.8888888888888888,
             "#fdca26"
            ],
            [
             1,
             "#f0f921"
            ]
           ]
          },
          "colorway": [
           "#636efa",
           "#EF553B",
           "#00cc96",
           "#ab63fa",
           "#FFA15A",
           "#19d3f3",
           "#FF6692",
           "#B6E880",
           "#FF97FF",
           "#FECB52"
          ],
          "font": {
           "color": "#2a3f5f"
          },
          "geo": {
           "bgcolor": "white",
           "lakecolor": "white",
           "landcolor": "#E5ECF6",
           "showlakes": true,
           "showland": true,
           "subunitcolor": "white"
          },
          "hoverlabel": {
           "align": "left"
          },
          "hovermode": "closest",
          "mapbox": {
           "style": "light"
          },
          "paper_bgcolor": "white",
          "plot_bgcolor": "#E5ECF6",
          "polar": {
           "angularaxis": {
            "gridcolor": "white",
            "linecolor": "white",
            "ticks": ""
           },
           "bgcolor": "#E5ECF6",
           "radialaxis": {
            "gridcolor": "white",
            "linecolor": "white",
            "ticks": ""
           }
          },
          "scene": {
           "xaxis": {
            "backgroundcolor": "#E5ECF6",
            "gridcolor": "white",
            "gridwidth": 2,
            "linecolor": "white",
            "showbackground": true,
            "ticks": "",
            "zerolinecolor": "white"
           },
           "yaxis": {
            "backgroundcolor": "#E5ECF6",
            "gridcolor": "white",
            "gridwidth": 2,
            "linecolor": "white",
            "showbackground": true,
            "ticks": "",
            "zerolinecolor": "white"
           },
           "zaxis": {
            "backgroundcolor": "#E5ECF6",
            "gridcolor": "white",
            "gridwidth": 2,
            "linecolor": "white",
            "showbackground": true,
            "ticks": "",
            "zerolinecolor": "white"
           }
          },
          "shapedefaults": {
           "line": {
            "color": "#2a3f5f"
           }
          },
          "ternary": {
           "aaxis": {
            "gridcolor": "white",
            "linecolor": "white",
            "ticks": ""
           },
           "baxis": {
            "gridcolor": "white",
            "linecolor": "white",
            "ticks": ""
           },
           "bgcolor": "#E5ECF6",
           "caxis": {
            "gridcolor": "white",
            "linecolor": "white",
            "ticks": ""
           }
          },
          "title": {
           "x": 0.05
          },
          "xaxis": {
           "automargin": true,
           "gridcolor": "white",
           "linecolor": "white",
           "ticks": "",
           "title": {
            "standoff": 15
           },
           "zerolinecolor": "white",
           "zerolinewidth": 2
          },
          "yaxis": {
           "automargin": true,
           "gridcolor": "white",
           "linecolor": "white",
           "ticks": "",
           "title": {
            "standoff": 15
           },
           "zerolinecolor": "white",
           "zerolinewidth": 2
          }
         }
        },
        "title": {
         "text": "Histogram of x"
        },
        "xaxis": {
         "anchor": "y",
         "domain": [
          0,
          1
         ],
         "title": {
          "text": "value"
         }
        },
        "yaxis": {
         "anchor": "x",
         "domain": [
          0,
          1
         ],
         "title": {
          "text": "count"
         }
        }
       }
      }
     },
     "metadata": {},
     "output_type": "display_data"
    }
   ],
   "source": [
    "pitch_data.show_x_location_hist()"
   ]
  },
  {
   "cell_type": "code",
   "execution_count": 8,
   "metadata": {},
   "outputs": [
    {
     "data": {
      "application/vnd.plotly.v1+json": {
       "config": {
        "plotlyServerURL": "https://plot.ly"
       },
       "data": [
        {
         "alignmentgroup": "True",
         "bingroup": "x",
         "hovertemplate": "variable=y<br>value=%{x}<br>count=%{y}<extra></extra>",
         "legendgroup": "y",
         "marker": {
          "color": "#636efa",
          "pattern": {
           "shape": ""
          }
         },
         "name": "y",
         "offsetgroup": "y",
         "orientation": "v",
         "showlegend": true,
         "type": "histogram",
         "x": [
          2.170377127017507,
          1.3910579464393884,
          -0.42184294644500625,
          0.028290702146353312,
          0.11841816101602853,
          0.9229853563865463,
          -0.7594787969576984,
          0.27774754782290056,
          -0.46113578063646754,
          0.9146581382573336,
          0.6854469353370568,
          0.313488955037644,
          -0.36819959612102376,
          -0.24615938707249896,
          0.7388510583477262,
          -1.31128336027738,
          0.5584083753553922,
          0.14155187741028596,
          0.9926409277507218,
          -0.1487278640476182,
          -0.17371082419444722,
          -0.5020338579448674,
          -0.33179379629030314,
          0.0958046826358454,
          -0.5661284034668098,
          -0.5707699777334899,
          -0.561805056538876,
          0.8078453501853007,
          0.7221540876029944,
          -0.6735428824111022,
          0.77840401556302,
          1.6402247570819322,
          -0.8672235903990986,
          0.5227684440070494,
          -0.16880638320799182,
          0.8503614743075282,
          -0.33981957127078477,
          -0.2433757639900809,
          0.25459197807745737,
          -0.1496265245679418,
          0.3915787828931457,
          -0.6508390978998685,
          0.2563579828075097,
          -0.47445572656930934,
          0.1368573982654389,
          1.230086410502161,
          -0.026983617515642114,
          -0.774792052922235,
          -0.45029344651992254,
          -0.8067181844320198,
          -1.3397026578194264,
          -0.02154027428441269,
          -0.47266873468857457,
          -0.24754701947537164,
          1.5409318258450366,
          0.12181400754495653,
          0.06880999402898938,
          -0.4613291606949423,
          -1.2681250266257038,
          -0.18730319443078167,
          0.44676046224998145,
          1.2690831173355974,
          0.837496578354223,
          -0.6523785866292392,
          0.10949379127554566,
          -0.12364902261775262,
          -0.5316514057345463,
          0.46664592428476204,
          0.18428973080084096,
          -0.5350355753831192,
          -1.456312491329775,
          0.04245551219012551,
          0.8010404517870698,
          0.105512163671178,
          -0.3417452749484507,
          0.663285695030915,
          -1.3472396575316798,
          0.9684114150037079,
          1.0244548060902259,
          0.13533245813015532,
          -1.194648510186655,
          -0.9489807656765021,
          1.3302354450999259,
          1.1638534871395716,
          -0.7281845749159546,
          1.516936905043845,
          0.6202108427719443,
          -0.5462833118853286,
          1.4354244531718945,
          0.8607125719294322,
          -0.9330167326822387,
          -0.05760653864287332,
          1.6067932900196051,
          0.8551024775958991,
          1.4361131637226576,
          0.28634678882466447,
          -0.48748167804812986,
          0.7792576385860075,
          0.3748773560747826,
          2.488007185967531,
          -0.11464528766464023,
          2.414336620361342,
          2.9200134430731564,
          -0.1575539491463164,
          -2.4568350870493174,
          0.32176985833306493,
          -2.2798847815225542,
          0.7691131583256591,
          -0.184611308914378,
          0.3862980536018293,
          -0.3354257223843009,
          -0.13996544453934098,
          0.683127921276012,
          0.4167170458708046,
          0.7745019914315894,
          -1.0543906505270402,
          -1.4523914666499418,
          0.49867750307631503,
          1.8813338635481898,
          -0.15610319392849917,
          0.7002359775394408,
          1.040860503304359,
          0.013441250178591102,
          -1.314726429630648,
          1.4219030295616235,
          -0.2936350056813054,
          0.1285040549242448,
          0.007775825628507586,
          -0.7204381644823694,
          0.33158620035883135,
          0.2009786635159625,
          -0.8660364788606836,
          -0.7715036316176382,
          -0.38218502724082676,
          -0.3496483014092507,
          1.024985442438145,
          0.07569013239979396,
          -0.6522405681049586,
          -0.678100021301513,
          0.7022632399046422,
          1.593130945834138,
          0.026174836960187617,
          -0.3098543534553822,
          -0.9339974939432031,
          -0.22951937878883588,
          0.2281854200414367,
          0.3460646917386999,
          1.2285654937951827,
          -0.6720250092429291,
          0.15598284041166144,
          -0.4389696937048606,
          0.7579011706576074,
          -0.18196236997286216,
          0.04645262171880086,
          -0.16407108777065202,
          -1.2971870939060781,
          0.9761224842697054,
          -0.681391736727826,
          1.2099506192570824,
          -0.08763277467769101,
          1.3032991509487408,
          1.0222857169534643,
          1.1192258086510645,
          0.6249612114685256,
          0.6624037741444978,
          0.38922827984021335,
          -0.5742042704183788,
          1.8549105310611895,
          -0.22100662055148076,
          0.7422687633840332,
          0.43007976586618596,
          -0.28047960409136685,
          -0.15725781634060795,
          1.6576382197900452,
          -0.10318960026578469,
          0.492211501814406,
          -2.1912965454919524,
          0.41590581018603867,
          0.7443855852413922,
          -0.38068578970678046,
          -0.7895337083738402,
          -0.20590762650685993,
          -2.286175105674142,
          -0.49917453988603394,
          -0.7294399544809411,
          -2.1938143956163447,
          0.21188101619864233,
          -0.2972064366221402,
          -2.315846272824007,
          0.32958083925907516,
          0.5905805143683299,
          0.35854498009429897,
          -0.9392350779863756,
          -0.1335194543284503,
          0.30922417226375426,
          -0.34113821452612797,
          -1.282040899312486,
          0.13394494796953907,
          -0.750840007932201,
          -0.4020642473795642,
          -0.5976625759780348,
          -0.6925550803462011,
          0.4225713682037656,
          -0.4116903781582183,
          -2.0671363998770436,
          -0.7442730418048041,
          0.2993377302040124,
          -0.5285786517530779,
          -0.4135269132673846,
          0.01022436792401718,
          0.3783632073672042,
          -0.4204731089633773,
          1.2357426293645335,
          -0.8661350988060076,
          2.1273443175260347,
          0.7208134495046463,
          0.6461392419969727,
          0.8345530560581923,
          -0.3576236844364299,
          1.5613433758976785,
          0.8112873734067501,
          0.05518670176418597,
          -0.927353681706972,
          0.20652947593532237,
          1.2386061416671064,
          0.662034191509253,
          0.40250740836753884,
          0.0997896392542335,
          -0.45098650787653893,
          -1.1898097949056679,
          -0.5300685911433313,
          1.0775550220658026,
          -0.844958508146788,
          -1.4124550128558744,
          -0.318755672681317,
          0.6964165514289117,
          0.04659424766511919,
          0.37362741162393825,
          -2.154824195459705,
          0.722319355772952,
          1.2367830624880236,
          0.6397997888099342,
          0.08114230749770109,
          -0.35374889028892065,
          0.088268696688105,
          0.3351273987442488,
          0.9379435102573774,
          0.47910085553918214,
          -0.09290971889293152,
          0.5376381293009587,
          -0.2903174652594839,
          -0.5270072575547152,
          -0.3946385726311663,
          0.5065654777404558,
          0.9651467670033056,
          1.3752971446263107,
          -0.09832510071238561,
          0.07769178692425593,
          1.6623350900284688,
          -0.7147471166295004,
          -1.255481436029156,
          -0.6824900805935361,
          -0.9115928323674204,
          -0.8567063238032944,
          -0.31353393832949117,
          -0.35273979986992693,
          -0.10800108439611976,
          0.18496725954409748,
          -0.8534276856907653,
          -0.33428517957142034,
          0.3680936239599952,
          -1.2040931912151418,
          -0.5208587125818652,
          0.7203316604585184,
          0.633691433517463,
          -0.9812021472710187,
          1.1333768197421972,
          0.2678259985696739,
          -0.8640894255544141,
          2.4994919641993,
          0.0029277994232985486,
          1.0204891992295024,
          0.2500789958517321,
          1.0184875987250575,
          0.04399045054371626,
          0.051036696558637254,
          -1.0737624303831343,
          -0.37475927680065124,
          0.3163349039167287,
          -0.10173753697292352,
          -0.9011867314670781,
          1.0402659839933694,
          -1.7669377285549892,
          0.23724776888815796,
          1.6154740114104085,
          -0.1575046582339485,
          1.553566714397727,
          1.1550665825999433,
          0.6213768852587677,
          -0.23063593427246587,
          0.0890008475429175,
          0.3193444646285974,
          0.00014085321349269184,
          -0.5639246866244118,
          1.1624277803637302,
          0.6572590019484392,
          -0.33569217131682094,
          0.6893628746753795,
          -0.026846860108477883,
          -0.9436132115696346,
          -0.18159813578910636,
          0.11896000712086,
          0.08495988303619385,
          0.15852520562321215,
          0.019136089907745544,
          0.5633147820886053,
          0.3066347487919047,
          -0.30661132965052396,
          0.6349084501221468,
          1.6303868391842369,
          1.2502576389493856,
          -0.9885285093523549,
          -1.881881914384232,
          0.6388101323897641,
          -1.1812898827122558,
          -0.13516248558645755,
          2.348896167439541,
          0.6912960491837504,
          -0.7852768255916628,
          -0.6439484051523481,
          -0.5165207506720033,
          0.3561629081504031,
          0.888514110662322,
          -0.18073561097802202,
          1.2449383612229503,
          0.30565262156897427,
          -0.6605595287872087,
          -0.3265466283751231,
          0.8995076301598433,
          1.3617856099730403,
          1.5242353882003588,
          -0.10405560018650767,
          -1.0306213625008227,
          0.9712589521192245,
          1.4077281604938796,
          0.3290752641159459,
          -0.11147600297871088,
          1.1741521376933526,
          0.2722404927511332,
          -1.1921589282986549,
          0.5777489079485216,
          -0.1591714771313485,
          -1.6433532898447178,
          0.9352769164536153,
          0.9070065601235099,
          -0.63289715010769,
          1.205703762728158,
          1.0229195929038004,
          0.42344445448254264,
          -0.7705791401908025,
          -1.0488424043900566,
          -0.2462672838723784,
          -0.21626464922082778,
          0.4713505746006994,
          0.10684997200865078,
          1.1899747900086173,
          0.3292335104512723,
          -0.8045806028671287,
          -0.4929041522166058,
          0.09605190475625483,
          -1.3806542539968207,
          0.9441643537869177,
          -0.5450543386957089,
          -1.1109760668074304,
          -1.9393237029084365,
          0.7815443956312804,
          -0.5108616894459825,
          -0.7735691062290142,
          -0.38692728293574724,
          -0.02953747748394416,
          0.759622663848635,
          0.1193788040608208,
          -1.1273393673772698,
          0.08967392673383712,
          -0.3489874820647326,
          0.1343042522087183,
          -1.0498802918108048,
          0.2032814828514828,
          0.39308480776297294,
          -1.0699354765222957,
          -0.3383832262999524,
          1.7128825214923318,
          -1.801485932198693,
          -1.087917002688908,
          0.3711212230268917,
          -0.9843861804642913,
          -0.24425456609551244,
          -0.9070158875104491,
          -0.8607142623915998,
          0.43706907660496164,
          0.28116512956160095,
          -0.5424711953108388,
          0.13234720099496405,
          1.118115922303997,
          0.736400592407769,
          -2.1138063338234407,
          -1.1428285527653268,
          0.34295790051991487,
          -0.5761018372074792,
          0.563270870987881,
          0.7070856638168441,
          0.2097202228317936,
          -1.0537589641961087,
          0.6389792086214268,
          0.24069836207860631,
          2.6749234368932617,
          -1.263065100458352,
          -0.2202543072834442,
          -0.433485424829618,
          -0.27580720999233327,
          0.6587640158348961,
          1.7461759182723542,
          -0.6943713759387232,
          -0.4323065320667367,
          0.2569992263708446,
          0.6870018766881932,
          -1.615835831273039,
          -0.19744565288755922,
          -0.39698984211036703,
          -0.687739892131972,
          -0.12315587339680413,
          2.068059382737958,
          -0.0668954938550374,
          -2.0977835916920036,
          0.24922033452081052,
          0.7098677575047648,
          -0.7232714549927014,
          1.3670664415295652,
          -0.24686520878373672,
          -0.7968489326107699,
          -0.9507774658269452,
          0.7580221613801892,
          1.4700221999695988,
          -1.2976809036377213,
          -0.11850024973863554,
          -0.022693998890883235,
          0.7797604998811991,
          0.1630338180638252,
          0.3616157817846353,
          0.18624298208268988,
          0.1623050241419034,
          -0.03694894821479776,
          -0.6955703823972162,
          2.0955301327335767,
          0.44864816246547273,
          -1.4843001435096392,
          -0.42424499443431724,
          0.10011040453761458,
          0.9433000092817073,
          1.2306440600965234,
          0.1877674723331251,
          0.4708311655577704,
          2.310845076895113,
          1.0809282466879382,
          0.01297107722847815,
          -0.6205293717363416,
          1.056166021235477,
          0.9746563819570061,
          -0.6193604176235361,
          1.18038197640584,
          1.0069559720716228,
          0.4213673389283872,
          -1.4431489837124174,
          -0.32370957414520607,
          0.7072651993607089,
          -0.6829795516817179,
          0.24828485094309197,
          0.47820372781971815,
          0.9905213260622788,
          -0.6462481340414379,
          -1.4838630258896568,
          -0.519192694481405,
          0.6422959761861988,
          -0.40372673142313165,
          1.35747424292649,
          0.4302970113310002,
          0.9141157717987912,
          1.3888661179414394,
          0.08427460953250009,
          0.4435228739099967,
          -0.8173013257620771,
          -0.3223903935494305,
          0.3475744933819989,
          -1.4347673180205227,
          0.11372388168380072,
          -0.7938187767901477,
          -0.446458036707174,
          0.5709924887224267,
          2.1611241632965896,
          1.3457003782058292,
          -0.4880201664496524,
          -0.516877872537594,
          -0.6040820191305621,
          0.08759982773998289,
          0.7196385248382217,
          0.40797393680083976,
          1.2572935759054549,
          -0.8197601786369836,
          -1.4947814519427292,
          -0.9695593889282329,
          -0.5081356173809868,
          0.2152888608059931,
          -0.25501945334578874,
          1.077513376964915,
          0.403938511049165,
          -0.73539003132523,
          -1.3787348138760267,
          -0.12154389056037433,
          1.6832143481495156,
          0.4648796272904617,
          0.33958179242251413,
          -0.07835672619265656,
          -1.1933414787489023,
          0.81619206786416,
          0.05677022671216086,
          0.30686660713902925,
          1.3793324292046003,
          0.041847084427036864,
          0.4697486742056935,
          0.4216491188496735,
          0.67232108552731,
          0.6520356181665035,
          0.43909391635337114,
          -0.7262418334690155,
          -1.8901959868941354,
          -0.5772811838224295,
          -0.3863174543391429,
          0.31202068963804724,
          0.5398365268186646,
          -0.5190588157786235,
          0.45565527443646814,
          -0.2976470372785825,
          0.11222678337932801,
          -1.2503293023167976,
          -0.3266228604416002,
          0.010519233079976712,
          -1.3290286583735,
          0.4445089560151347,
          -0.4465866496453976,
          -0.7354703689885433,
          0.8521009903805292,
          -0.8117480954689871,
          0.6078904242428683,
          0.8218277080022174,
          0.3065236281239097,
          -0.20441037961402875,
          0.3007125377720583,
          1.5136857908563253,
          -0.239841756248565,
          -0.977341910101219,
          -1.1081996171690311,
          1.1873698848578091,
          0.31639790330290035,
          1.9475497079271678,
          -0.16502317931163285,
          0.7663604835698258,
          1.8461102559933324,
          -0.3479644500483491,
          0.7166651974228672,
          0.5819935813333541,
          0.5981650419864197,
          0.2824512059401431,
          -0.977680342280864,
          -1.1158103653176001,
          0.46156149120249274,
          -1.4242717787862123,
          -0.8003196348804098,
          0.1405107419849704,
          -0.5470926390914747,
          -0.44193179833457585,
          0.10957088856029673,
          0.4368373377575027,
          1.6781200988373595,
          -2.151869732473956,
          2.094175987622692,
          -0.591440768592718,
          0.2598782670662358,
          0.7036490124516179,
          -0.5909090757143564,
          0.5520552311532331,
          0.7455225949636562,
          -0.8876432136324732,
          -0.6715322898027241,
          -0.6903965435883557,
          0.8241755717431397,
          1.4567963570949818,
          -0.17009687104428592,
          -0.06690281875661412,
          0.033465298896392305,
          -0.17376541216853633,
          -0.006330329033531117,
          -1.4767933569571692,
          0.12420620189963176,
          0.6536904099879839,
          -0.010996129721621976,
          0.5650944446615159,
          -2.020674312215301,
          -0.3539760523514053,
          0.1920565494071921,
          1.015229942683829,
          0.542659291604541,
          0.21812144326275518,
          -1.0961825846476312,
          0.25804212642790153,
          -0.3229087364904764,
          0.7126533774135674,
          -0.2562523254011042,
          0.6969028793110276,
          0.8430085718914515,
          0.21200242683784984,
          -0.338050412037914,
          -0.24793441749553874,
          0.6405724963940158,
          1.3891531535290118,
          -0.07543785539421384,
          0.8751435973454267,
          -0.6298333387724386,
          0.06966586169778073,
          0.7621287304414759,
          0.7210385401958349,
          -0.7895740297901261,
          0.8864638681208739,
          0.6578465336306613,
          0.837131353962738,
          1.105552393835029,
          -1.1998692060693745,
          -0.5455288341372874,
          0.6624941549444704,
          0.3154356068964853,
          -0.2524725856410426,
          0.4503394846614141,
          0.08578281231437018,
          -0.858115410411744,
          0.5714339673971084,
          1.2435767196234653,
          -0.30475715877779713,
          -0.09213832285259242,
          2.2656384056276666,
          1.6674417494059801,
          -0.2252987522596601,
          1.6670698032705555,
          0.5583021243441106,
          0.35138067795476136,
          -0.020832297107702288,
          -0.3262027686300906,
          0.26750058416067596,
          2.179654917997523,
          0.45205211458944694,
          -0.8257109410207061,
          -0.7233754550633568,
          0.1828300263654009,
          1.6422544684425358,
          1.5631755797906002,
          -0.7109401933433059,
          0.46676608990393254,
          1.2516621518169855,
          -1.6665319935227105,
          -0.4244331990901311,
          -0.7567193972834128,
          0.8747622776902038,
          0.6081385905219411,
          -0.5055035741370606,
          1.2174623042724386,
          0.5269992630770928,
          0.619760789558466,
          0.05561899600361369,
          0.09510393145537359,
          0.7344188131990671,
          -1.1540012716821397,
          -0.9810049121490139,
          0.07238961467299812,
          -0.6394482301550043,
          1.3802322064644195,
          -0.11326474696605691,
          -0.3389255577463507,
          0.03224754216980179,
          -1.2283742092398662,
          -0.4813999896714281,
          -0.7771383562907401,
          1.7959792165609332,
          0.3128635173386712,
          0.5933090850080941,
          -1.377136346124391,
          0.0938051349030359,
          -0.3983446188783177,
          1.1429389904809464,
          1.192525206415536,
          0.8023683799149463,
          0.34287366861957946,
          1.4278795460901466,
          -0.5124518282654503,
          -0.08429357543717364,
          0.9530941169512501,
          -0.5131301576262137,
          -0.3076406689160522,
          0.48905956296180103,
          0.2087887462404016,
          0.16655585715985013,
          -0.3580942236945857,
          0.9592647591517656,
          0.41955042889847904,
          -0.8459656864305208,
          -0.1310598232582761,
          0.736890623854586,
          0.09355417293079994,
          -0.2082969353685118,
          -1.4567500370458248,
          0.3891189758290671,
          1.4434035795736455,
          1.8833015563486697,
          0.6792282696840395,
          0.7813383685527762,
          -0.04736433715075104,
          0.14492382312527632,
          0.9335489580418146,
          -1.114391643638149,
          -0.4838202570204331,
          -0.28461190406314835,
          0.0102353336777863,
          -0.8776087543748743,
          0.0804662844343888,
          0.49531517748189724,
          0.10867120964315195,
          0.5306534764550805,
          -0.670224454518605,
          -0.2550986582884475,
          1.6403494424834708,
          -0.2597319121930416,
          -0.28266934965133356,
          -0.45778886338538616,
          2.0264731839001016,
          -1.2628612123494165,
          0.5639312219207231,
          -0.2977874376136183,
          0.6534247717048772,
          0.2904567252509076,
          0.5542307140761286,
          0.18002172968205546,
          -0.7154012103229228,
          -0.37680493783174573,
          0.7850726371580333,
          -0.6116594699906078,
          -0.169808512191896,
          -1.1642686414475527,
          -1.1454469967104535,
          0.45453834968781154,
          -0.7632403066439145,
          0.22909457463213354,
          0.5569750238557374,
          0.7763496512754338,
          0.598270057717402,
          0.7582970422840247,
          -0.40526362292392354,
          -1.304647165055013,
          0.6581388516469285,
          -0.1542042182244922,
          1.0848906261508995,
          0.6197494910638547,
          0.28561864085653244,
          0.9351639764922828,
          -0.23997757553745833,
          0.5035127096106752,
          -0.964614301132786,
          0.624213499608715,
          -0.9658147601270521,
          0.5659541896852351,
          -0.24828582193352625,
          0.7314830855002007,
          -0.7941286624891983,
          0.07407592293054736,
          -0.8217405841060142,
          -1.00426785829655,
          1.027310719726371,
          0.2552902924912691,
          1.3336676347983205,
          0.36461490838412836,
          0.10922672248873624,
          -0.2157578880480337,
          -0.8326020696708217,
          0.10883113908381925,
          1.9606486133847107,
          -0.7521165183368013,
          0.04151320009842921,
          0.4239037856063136,
          -1.0450881151203522,
          0.06708540161142361,
          -0.13738845528457855,
          0.2568924558583845,
          -1.032774203247444,
          -1.5859483547075544,
          -0.6944056758880138,
          0.1334937871430153,
          -1.0280639765336328,
          0.623990474863237,
          1.2233983221218245,
          1.011352415565407,
          -1.3661790581847522,
          -0.09288564057387154,
          -0.14535057667230172,
          0.628165922907105,
          -0.48049162950447943,
          -0.3102741001670238,
          1.3152253369629814,
          -0.7067556715540877,
          0.8621358500092543,
          0.18896228735407333,
          -1.6588002062750442,
          -0.4037928107331342,
          0.40647802732120847,
          1.5273859917192392,
          -0.020005589024758352,
          0.641517874484634,
          0.5882430652827346,
          1.3770345251216298,
          0.04050605034325737,
          1.4729407674744082,
          -0.30767032695256047,
          1.2593823377734448,
          -1.3260872666214187,
          1.0791811811024816,
          0.3839675378195527,
          -0.18085799122875218,
          -0.13160974461249494,
          -0.8693823745417341,
          0.047480148651919074,
          -0.34481990260172374,
          0.08415954855120146,
          -0.3830959930816052,
          -0.8088310446417951,
          -0.7813110876342657,
          -0.10171467752369591,
          -0.9013256736327133,
          2.033715270074073,
          -0.23224700547285312,
          -0.8686799720172643,
          0.37867526594045436,
          0.4081912739293974,
          -0.7049796559783644,
          -0.455521021920253,
          0.397791506312001,
          -0.7164058563129775,
          0.10934793102295012,
          0.9990689193188744,
          0.571571802149393,
          -2.2099526359636865,
          0.2827711941008042,
          0.26283493150425175,
          -0.02042249921471593,
          -1.1357551771974361,
          -0.40466894981594653,
          -1.1329141375740748,
          0.9228060700013903,
          -0.512928288492071,
          -0.056566566890148495,
          0.0825216163049969,
          -1.0916205433471888,
          0.3277394503196285,
          1.3732755256313776,
          -1.0212958949616646,
          -0.40281455575865843,
          -1.402534211833954,
          0.42137433698921434,
          0.2706990025968912,
          -0.5391243119891335,
          0.3591798449585166,
          0.8801408396397216,
          -0.9805771765389306,
          0.25861740633844305,
          0.7850907273615148,
          0.17264424479744694,
          0.20024418259622231,
          -0.44636875122494046,
          -0.06759303434579068,
          0.8867097911724504,
          0.7212548896854568,
          0.03631523728598108,
          0.40633813437256844,
          -0.41516283886101873,
          0.7714650593671644,
          0.6357587185745964,
          -0.20482862363539156,
          0.7405705844012112,
          0.5366319811333313,
          0.5770079064659402,
          -0.5900213424323045,
          0.5977872937035111,
          1.5179400472409554,
          -1.3512203122516295,
          0.17101661041165267,
          -1.2062283177424786,
          0.3075065720514218,
          -0.20202322191614644,
          0.5949683788591235,
          -0.43432718224662775,
          2.170987093206997,
          -0.7827102032196094,
          0.15993912509026123,
          -0.6194458137728562,
          -0.48030888419127005,
          0.14654536549864855,
          0.31005392633043133,
          -1.972968481448262,
          -0.5996111343786198,
          -0.045765920337283876,
          -0.4280105939736929,
          0.908674157872273,
          -0.52155743136608,
          -1.9086316029306871,
          1.0153794317358404,
          -1.2889365001425335,
          0.5175163936333729,
          -1.7897918367519356,
          0.010719195970867639,
          1.2983906529197933,
          0.1995244846500912,
          -0.8479442253368301,
          1.5627429235179644,
          -0.24868576500154668,
          0.45293563756056,
          0.3432130057448532,
          -1.7780469012639908,
          0.39484078731239236,
          -0.9336946839387885,
          0.3746097791957332,
          -1.8233718317062622,
          -0.5024656678143161,
          -0.24703874073289023,
          -0.6616799326544619,
          0.525659049427324,
          -0.7585260886735057,
          0.7313630186095164,
          0.06674189072119276,
          -0.13542001376304505,
          0.7650215169814572,
          2.1726939384194957,
          -0.22170196384253274,
          0.6471422505068111,
          0.6377446607501376,
          0.449103555202524,
          -0.020460159932521406,
          -0.11612006245136595,
          -2.6483023595431634,
          1.5664282183887503,
          0.7137884298560522,
          -0.21562294237967872,
          -0.8903099198174816,
          0.421464083477349,
          0.8783518509259893,
          -1.6612952548242197,
          -0.05537500177594205,
          -0.07353417673432626,
          0.4428996681325055,
          -1.5411786697287686,
          0.4743387486735334,
          2.2970203760917713,
          0.08279830332170292,
          -0.4994449430228985,
          -0.977324788687783,
          0.11254590961235689,
          -0.6041060387779001,
          -0.5219710484773574,
          0.06164240987737818,
          1.6085034466227937,
          0.35251734926125,
          -0.14214393424960928,
          -0.8460543540983112,
          -0.9819176776062084,
          -0.07471480934655246,
          0.7375244899198031,
          -1.6250801606875456,
          1.0688201213052664,
          -1.1135837765503107,
          -0.3961723454292718,
          -0.18741385196969998,
          -0.3277556746172451,
          -0.4411353949867279,
          0.24163298540469438,
          -0.26114045496296023,
          0.3390129435111258,
          -0.31504505618257755,
          -0.6718632306056619,
          0.012962469526561618,
          -0.2746383171518798,
          -0.5625868821925336,
          -0.8488079460667448,
          -0.4225408271787639,
          -0.20409264363974788,
          0.07160378014515505,
          -0.8425897712023078,
          -0.5520536400475636
         ],
         "xaxis": "x",
         "yaxis": "y"
        }
       ],
       "layout": {
        "barmode": "relative",
        "legend": {
         "title": {
          "text": "variable"
         },
         "tracegroupgap": 0
        },
        "template": {
         "data": {
          "bar": [
           {
            "error_x": {
             "color": "#2a3f5f"
            },
            "error_y": {
             "color": "#2a3f5f"
            },
            "marker": {
             "line": {
              "color": "#E5ECF6",
              "width": 0.5
             },
             "pattern": {
              "fillmode": "overlay",
              "size": 10,
              "solidity": 0.2
             }
            },
            "type": "bar"
           }
          ],
          "barpolar": [
           {
            "marker": {
             "line": {
              "color": "#E5ECF6",
              "width": 0.5
             },
             "pattern": {
              "fillmode": "overlay",
              "size": 10,
              "solidity": 0.2
             }
            },
            "type": "barpolar"
           }
          ],
          "carpet": [
           {
            "aaxis": {
             "endlinecolor": "#2a3f5f",
             "gridcolor": "white",
             "linecolor": "white",
             "minorgridcolor": "white",
             "startlinecolor": "#2a3f5f"
            },
            "baxis": {
             "endlinecolor": "#2a3f5f",
             "gridcolor": "white",
             "linecolor": "white",
             "minorgridcolor": "white",
             "startlinecolor": "#2a3f5f"
            },
            "type": "carpet"
           }
          ],
          "choropleth": [
           {
            "colorbar": {
             "outlinewidth": 0,
             "ticks": ""
            },
            "type": "choropleth"
           }
          ],
          "contour": [
           {
            "colorbar": {
             "outlinewidth": 0,
             "ticks": ""
            },
            "colorscale": [
             [
              0,
              "#0d0887"
             ],
             [
              0.1111111111111111,
              "#46039f"
             ],
             [
              0.2222222222222222,
              "#7201a8"
             ],
             [
              0.3333333333333333,
              "#9c179e"
             ],
             [
              0.4444444444444444,
              "#bd3786"
             ],
             [
              0.5555555555555556,
              "#d8576b"
             ],
             [
              0.6666666666666666,
              "#ed7953"
             ],
             [
              0.7777777777777778,
              "#fb9f3a"
             ],
             [
              0.8888888888888888,
              "#fdca26"
             ],
             [
              1,
              "#f0f921"
             ]
            ],
            "type": "contour"
           }
          ],
          "contourcarpet": [
           {
            "colorbar": {
             "outlinewidth": 0,
             "ticks": ""
            },
            "type": "contourcarpet"
           }
          ],
          "heatmap": [
           {
            "colorbar": {
             "outlinewidth": 0,
             "ticks": ""
            },
            "colorscale": [
             [
              0,
              "#0d0887"
             ],
             [
              0.1111111111111111,
              "#46039f"
             ],
             [
              0.2222222222222222,
              "#7201a8"
             ],
             [
              0.3333333333333333,
              "#9c179e"
             ],
             [
              0.4444444444444444,
              "#bd3786"
             ],
             [
              0.5555555555555556,
              "#d8576b"
             ],
             [
              0.6666666666666666,
              "#ed7953"
             ],
             [
              0.7777777777777778,
              "#fb9f3a"
             ],
             [
              0.8888888888888888,
              "#fdca26"
             ],
             [
              1,
              "#f0f921"
             ]
            ],
            "type": "heatmap"
           }
          ],
          "heatmapgl": [
           {
            "colorbar": {
             "outlinewidth": 0,
             "ticks": ""
            },
            "colorscale": [
             [
              0,
              "#0d0887"
             ],
             [
              0.1111111111111111,
              "#46039f"
             ],
             [
              0.2222222222222222,
              "#7201a8"
             ],
             [
              0.3333333333333333,
              "#9c179e"
             ],
             [
              0.4444444444444444,
              "#bd3786"
             ],
             [
              0.5555555555555556,
              "#d8576b"
             ],
             [
              0.6666666666666666,
              "#ed7953"
             ],
             [
              0.7777777777777778,
              "#fb9f3a"
             ],
             [
              0.8888888888888888,
              "#fdca26"
             ],
             [
              1,
              "#f0f921"
             ]
            ],
            "type": "heatmapgl"
           }
          ],
          "histogram": [
           {
            "marker": {
             "pattern": {
              "fillmode": "overlay",
              "size": 10,
              "solidity": 0.2
             }
            },
            "type": "histogram"
           }
          ],
          "histogram2d": [
           {
            "colorbar": {
             "outlinewidth": 0,
             "ticks": ""
            },
            "colorscale": [
             [
              0,
              "#0d0887"
             ],
             [
              0.1111111111111111,
              "#46039f"
             ],
             [
              0.2222222222222222,
              "#7201a8"
             ],
             [
              0.3333333333333333,
              "#9c179e"
             ],
             [
              0.4444444444444444,
              "#bd3786"
             ],
             [
              0.5555555555555556,
              "#d8576b"
             ],
             [
              0.6666666666666666,
              "#ed7953"
             ],
             [
              0.7777777777777778,
              "#fb9f3a"
             ],
             [
              0.8888888888888888,
              "#fdca26"
             ],
             [
              1,
              "#f0f921"
             ]
            ],
            "type": "histogram2d"
           }
          ],
          "histogram2dcontour": [
           {
            "colorbar": {
             "outlinewidth": 0,
             "ticks": ""
            },
            "colorscale": [
             [
              0,
              "#0d0887"
             ],
             [
              0.1111111111111111,
              "#46039f"
             ],
             [
              0.2222222222222222,
              "#7201a8"
             ],
             [
              0.3333333333333333,
              "#9c179e"
             ],
             [
              0.4444444444444444,
              "#bd3786"
             ],
             [
              0.5555555555555556,
              "#d8576b"
             ],
             [
              0.6666666666666666,
              "#ed7953"
             ],
             [
              0.7777777777777778,
              "#fb9f3a"
             ],
             [
              0.8888888888888888,
              "#fdca26"
             ],
             [
              1,
              "#f0f921"
             ]
            ],
            "type": "histogram2dcontour"
           }
          ],
          "mesh3d": [
           {
            "colorbar": {
             "outlinewidth": 0,
             "ticks": ""
            },
            "type": "mesh3d"
           }
          ],
          "parcoords": [
           {
            "line": {
             "colorbar": {
              "outlinewidth": 0,
              "ticks": ""
             }
            },
            "type": "parcoords"
           }
          ],
          "pie": [
           {
            "automargin": true,
            "type": "pie"
           }
          ],
          "scatter": [
           {
            "fillpattern": {
             "fillmode": "overlay",
             "size": 10,
             "solidity": 0.2
            },
            "type": "scatter"
           }
          ],
          "scatter3d": [
           {
            "line": {
             "colorbar": {
              "outlinewidth": 0,
              "ticks": ""
             }
            },
            "marker": {
             "colorbar": {
              "outlinewidth": 0,
              "ticks": ""
             }
            },
            "type": "scatter3d"
           }
          ],
          "scattercarpet": [
           {
            "marker": {
             "colorbar": {
              "outlinewidth": 0,
              "ticks": ""
             }
            },
            "type": "scattercarpet"
           }
          ],
          "scattergeo": [
           {
            "marker": {
             "colorbar": {
              "outlinewidth": 0,
              "ticks": ""
             }
            },
            "type": "scattergeo"
           }
          ],
          "scattergl": [
           {
            "marker": {
             "colorbar": {
              "outlinewidth": 0,
              "ticks": ""
             }
            },
            "type": "scattergl"
           }
          ],
          "scattermapbox": [
           {
            "marker": {
             "colorbar": {
              "outlinewidth": 0,
              "ticks": ""
             }
            },
            "type": "scattermapbox"
           }
          ],
          "scatterpolar": [
           {
            "marker": {
             "colorbar": {
              "outlinewidth": 0,
              "ticks": ""
             }
            },
            "type": "scatterpolar"
           }
          ],
          "scatterpolargl": [
           {
            "marker": {
             "colorbar": {
              "outlinewidth": 0,
              "ticks": ""
             }
            },
            "type": "scatterpolargl"
           }
          ],
          "scatterternary": [
           {
            "marker": {
             "colorbar": {
              "outlinewidth": 0,
              "ticks": ""
             }
            },
            "type": "scatterternary"
           }
          ],
          "surface": [
           {
            "colorbar": {
             "outlinewidth": 0,
             "ticks": ""
            },
            "colorscale": [
             [
              0,
              "#0d0887"
             ],
             [
              0.1111111111111111,
              "#46039f"
             ],
             [
              0.2222222222222222,
              "#7201a8"
             ],
             [
              0.3333333333333333,
              "#9c179e"
             ],
             [
              0.4444444444444444,
              "#bd3786"
             ],
             [
              0.5555555555555556,
              "#d8576b"
             ],
             [
              0.6666666666666666,
              "#ed7953"
             ],
             [
              0.7777777777777778,
              "#fb9f3a"
             ],
             [
              0.8888888888888888,
              "#fdca26"
             ],
             [
              1,
              "#f0f921"
             ]
            ],
            "type": "surface"
           }
          ],
          "table": [
           {
            "cells": {
             "fill": {
              "color": "#EBF0F8"
             },
             "line": {
              "color": "white"
             }
            },
            "header": {
             "fill": {
              "color": "#C8D4E3"
             },
             "line": {
              "color": "white"
             }
            },
            "type": "table"
           }
          ]
         },
         "layout": {
          "annotationdefaults": {
           "arrowcolor": "#2a3f5f",
           "arrowhead": 0,
           "arrowwidth": 1
          },
          "autotypenumbers": "strict",
          "coloraxis": {
           "colorbar": {
            "outlinewidth": 0,
            "ticks": ""
           }
          },
          "colorscale": {
           "diverging": [
            [
             0,
             "#8e0152"
            ],
            [
             0.1,
             "#c51b7d"
            ],
            [
             0.2,
             "#de77ae"
            ],
            [
             0.3,
             "#f1b6da"
            ],
            [
             0.4,
             "#fde0ef"
            ],
            [
             0.5,
             "#f7f7f7"
            ],
            [
             0.6,
             "#e6f5d0"
            ],
            [
             0.7,
             "#b8e186"
            ],
            [
             0.8,
             "#7fbc41"
            ],
            [
             0.9,
             "#4d9221"
            ],
            [
             1,
             "#276419"
            ]
           ],
           "sequential": [
            [
             0,
             "#0d0887"
            ],
            [
             0.1111111111111111,
             "#46039f"
            ],
            [
             0.2222222222222222,
             "#7201a8"
            ],
            [
             0.3333333333333333,
             "#9c179e"
            ],
            [
             0.4444444444444444,
             "#bd3786"
            ],
            [
             0.5555555555555556,
             "#d8576b"
            ],
            [
             0.6666666666666666,
             "#ed7953"
            ],
            [
             0.7777777777777778,
             "#fb9f3a"
            ],
            [
             0.8888888888888888,
             "#fdca26"
            ],
            [
             1,
             "#f0f921"
            ]
           ],
           "sequentialminus": [
            [
             0,
             "#0d0887"
            ],
            [
             0.1111111111111111,
             "#46039f"
            ],
            [
             0.2222222222222222,
             "#7201a8"
            ],
            [
             0.3333333333333333,
             "#9c179e"
            ],
            [
             0.4444444444444444,
             "#bd3786"
            ],
            [
             0.5555555555555556,
             "#d8576b"
            ],
            [
             0.6666666666666666,
             "#ed7953"
            ],
            [
             0.7777777777777778,
             "#fb9f3a"
            ],
            [
             0.8888888888888888,
             "#fdca26"
            ],
            [
             1,
             "#f0f921"
            ]
           ]
          },
          "colorway": [
           "#636efa",
           "#EF553B",
           "#00cc96",
           "#ab63fa",
           "#FFA15A",
           "#19d3f3",
           "#FF6692",
           "#B6E880",
           "#FF97FF",
           "#FECB52"
          ],
          "font": {
           "color": "#2a3f5f"
          },
          "geo": {
           "bgcolor": "white",
           "lakecolor": "white",
           "landcolor": "#E5ECF6",
           "showlakes": true,
           "showland": true,
           "subunitcolor": "white"
          },
          "hoverlabel": {
           "align": "left"
          },
          "hovermode": "closest",
          "mapbox": {
           "style": "light"
          },
          "paper_bgcolor": "white",
          "plot_bgcolor": "#E5ECF6",
          "polar": {
           "angularaxis": {
            "gridcolor": "white",
            "linecolor": "white",
            "ticks": ""
           },
           "bgcolor": "#E5ECF6",
           "radialaxis": {
            "gridcolor": "white",
            "linecolor": "white",
            "ticks": ""
           }
          },
          "scene": {
           "xaxis": {
            "backgroundcolor": "#E5ECF6",
            "gridcolor": "white",
            "gridwidth": 2,
            "linecolor": "white",
            "showbackground": true,
            "ticks": "",
            "zerolinecolor": "white"
           },
           "yaxis": {
            "backgroundcolor": "#E5ECF6",
            "gridcolor": "white",
            "gridwidth": 2,
            "linecolor": "white",
            "showbackground": true,
            "ticks": "",
            "zerolinecolor": "white"
           },
           "zaxis": {
            "backgroundcolor": "#E5ECF6",
            "gridcolor": "white",
            "gridwidth": 2,
            "linecolor": "white",
            "showbackground": true,
            "ticks": "",
            "zerolinecolor": "white"
           }
          },
          "shapedefaults": {
           "line": {
            "color": "#2a3f5f"
           }
          },
          "ternary": {
           "aaxis": {
            "gridcolor": "white",
            "linecolor": "white",
            "ticks": ""
           },
           "baxis": {
            "gridcolor": "white",
            "linecolor": "white",
            "ticks": ""
           },
           "bgcolor": "#E5ECF6",
           "caxis": {
            "gridcolor": "white",
            "linecolor": "white",
            "ticks": ""
           }
          },
          "title": {
           "x": 0.05
          },
          "xaxis": {
           "automargin": true,
           "gridcolor": "white",
           "linecolor": "white",
           "ticks": "",
           "title": {
            "standoff": 15
           },
           "zerolinecolor": "white",
           "zerolinewidth": 2
          },
          "yaxis": {
           "automargin": true,
           "gridcolor": "white",
           "linecolor": "white",
           "ticks": "",
           "title": {
            "standoff": 15
           },
           "zerolinecolor": "white",
           "zerolinewidth": 2
          }
         }
        },
        "title": {
         "text": "Histogram of y"
        },
        "xaxis": {
         "anchor": "y",
         "domain": [
          0,
          1
         ],
         "title": {
          "text": "value"
         }
        },
        "yaxis": {
         "anchor": "x",
         "domain": [
          0,
          1
         ],
         "title": {
          "text": "count"
         }
        }
       }
      }
     },
     "metadata": {},
     "output_type": "display_data"
    }
   ],
   "source": [
    "pitch_data.show_y_location_hist()"
   ]
  }
 ],
 "metadata": {
  "kernelspec": {
   "display_name": "Python 3",
   "language": "python",
   "name": "python3"
  },
  "language_info": {
   "codemirror_mode": {
    "name": "ipython",
    "version": 3
   },
   "file_extension": ".py",
   "mimetype": "text/x-python",
   "name": "python",
   "nbconvert_exporter": "python",
   "pygments_lexer": "ipython3",
   "version": "3.11.7"
  }
 },
 "nbformat": 4,
 "nbformat_minor": 2
}
