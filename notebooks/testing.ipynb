{
 "cells": [
  {
   "cell_type": "code",
   "execution_count": 1,
   "metadata": {},
   "outputs": [],
   "source": [
    "%load_ext autoreload\n",
    "%reload_ext autoreload"
   ]
  },
  {
   "cell_type": "code",
   "execution_count": 2,
   "metadata": {},
   "outputs": [
    {
     "name": "stdout",
     "output_type": "stream",
     "text": [
      "Team #79 (0-0) \n",
      " Lineup: \n",
      "\t Patrick Daniels (#2)\n",
      "\tEdward Fitzwater (#38)\n",
      "\tStanley Murgia (#58)\n",
      "\tRichard Hinzman (#15)\n",
      "\tJoseph Vargas (#38)\n",
      "\tDonald Figueroa (#96)\n",
      "\tJames Rogers (#1)\n",
      "\tMurray Herrera (#34)\n",
      "\tRuss Brown (#95)\n"
     ]
    }
   ],
   "source": [
    "import os, sys\n",
    "curPath = os.path.abspath('')\n",
    "for i in range(1):\n",
    "    curPath = os.path.join(curPath, \"..\")\n",
    "    sys.path.append(curPath)\n",
    "\n",
    "from src.player import Player\n",
    "from src.team import Team\n",
    "from src.pitch import Pitch\n",
    "from src.league import League\n",
    "from src.util.logic.pitcher_hitter_logic import PitcherHitterLogic\n",
    "from src.util.generation import generate_team, generate_league, generate_pitch, generate_player\n",
    "import plotly.express as px\n",
    "import pandas as pd\n",
    "from src.analysis.pitch_data import Pitch_Data\n",
    "\n",
    "\n",
    "a = generate_team()\n",
    "\n",
    "print(str(a))"
   ]
  },
  {
   "cell_type": "code",
   "execution_count": 3,
   "metadata": {},
   "outputs": [
    {
     "ename": "TypeError",
     "evalue": "PitcherHitterLogic.determine_hitability_from_value() missing 1 required positional argument: 'ump_outcome'",
     "output_type": "error",
     "traceback": [
      "\u001b[1;31m---------------------------------------------------------------------------\u001b[0m",
      "\u001b[1;31mTypeError\u001b[0m                                 Traceback (most recent call last)",
      "Cell \u001b[1;32mIn[3], line 13\u001b[0m\n\u001b[0;32m     11\u001b[0m pitch\u001b[38;5;241m.\u001b[39mhitability \u001b[38;5;241m=\u001b[39m ph_obj\u001b[38;5;241m.\u001b[39mcalculate_hitability_value(pitch\u001b[38;5;241m.\u001b[39mpitch_x, pitch\u001b[38;5;241m.\u001b[39mpitch_y, hit_odds_calculator\u001b[38;5;241m=\u001b[39m\u001b[38;5;241m.30\u001b[39m)\n\u001b[0;32m     12\u001b[0m pitch\u001b[38;5;241m.\u001b[39moutcome \u001b[38;5;241m=\u001b[39m ph_obj\u001b[38;5;241m.\u001b[39mget_ump_call_outcome(pitch\u001b[38;5;241m.\u001b[39mpitch_x, pitch\u001b[38;5;241m.\u001b[39mpitch_y)\n\u001b[1;32m---> 13\u001b[0m pitch\u001b[38;5;241m.\u001b[39moutcome \u001b[38;5;241m=\u001b[39m \u001b[43mph_obj\u001b[49m\u001b[38;5;241;43m.\u001b[39;49m\u001b[43mdetermine_hitability_from_value\u001b[49m\u001b[43m(\u001b[49m\u001b[43mpitch\u001b[49m\u001b[38;5;241;43m.\u001b[39;49m\u001b[43mpitch_x\u001b[49m\u001b[43m,\u001b[49m\u001b[43m \u001b[49m\u001b[43mpitch\u001b[49m\u001b[38;5;241;43m.\u001b[39;49m\u001b[43mpitch_y\u001b[49m\u001b[43m,\u001b[49m\u001b[43m \u001b[49m\u001b[43mpitch\u001b[49m\u001b[38;5;241;43m.\u001b[39;49m\u001b[43moutcome\u001b[49m\u001b[43m)\u001b[49m\n\u001b[0;32m     14\u001b[0m p_dict \u001b[38;5;241m=\u001b[39m pitch\u001b[38;5;241m.\u001b[39m\u001b[38;5;18m__dict__\u001b[39m\n\u001b[0;32m     15\u001b[0m player_hitability_dict\u001b[38;5;241m.\u001b[39mappend(p_dict)\n",
      "\u001b[1;31mTypeError\u001b[0m: PitcherHitterLogic.determine_hitability_from_value() missing 1 required positional argument: 'ump_outcome'"
     ]
    }
   ],
   "source": [
    "pitch_dict = []\n",
    "pitch_hitability_dict = []\n",
    "\n",
    "player_dict = []\n",
    "player_hitability_dict = []\n",
    "for i in range(0, 1000):\n",
    "    pos_choice = (i % 9)\n",
    "    player = generate_player(pos_choice)\n",
    "    pitch = generate_pitch()\n",
    "    ph_obj = PitcherHitterLogic(player.get_slugging_percentage())\n",
    "    pitch.hitability = ph_obj.calculate_hitability_value(pitch.pitch_x, pitch.pitch_y, hit_odds_calculator=.30)\n",
    "    pitch.outcome = ph_obj.get_ump_call_outcome(pitch.pitch_x, pitch.pitch_y)\n",
    "    pitch.outcome = ph_obj.determine_hitability_from_value(pitch.pitch_x, pitch.pitch_y, pitch.hitability, pitch.outcome)\n",
    "    p_dict = pitch.__dict__\n",
    "    player_hitability_dict.append(p_dict)\n",
    "\n",
    "df = pd.DataFrame(player_hitability_dict)\n"
   ]
  },
  {
   "cell_type": "code",
   "execution_count": null,
   "metadata": {},
   "outputs": [
    {
     "data": {
      "text/html": [
       "<div>\n",
       "<style scoped>\n",
       "    .dataframe tbody tr th:only-of-type {\n",
       "        vertical-align: middle;\n",
       "    }\n",
       "\n",
       "    .dataframe tbody tr th {\n",
       "        vertical-align: top;\n",
       "    }\n",
       "\n",
       "    .dataframe thead th {\n",
       "        text-align: right;\n",
       "    }\n",
       "</style>\n",
       "<table border=\"1\" class=\"dataframe\">\n",
       "  <thead>\n",
       "    <tr style=\"text-align: right;\">\n",
       "      <th></th>\n",
       "      <th>pitch_x</th>\n",
       "      <th>pitch_y</th>\n",
       "      <th>pitch_type</th>\n",
       "      <th>hitability</th>\n",
       "      <th>outcome</th>\n",
       "    </tr>\n",
       "  </thead>\n",
       "  <tbody>\n",
       "    <tr>\n",
       "      <th>0</th>\n",
       "      <td>-0.143603</td>\n",
       "      <td>-1.258667</td>\n",
       "      <td>fb</td>\n",
       "      <td>0.134471</td>\n",
       "      <td>Strike</td>\n",
       "    </tr>\n",
       "    <tr>\n",
       "      <th>1</th>\n",
       "      <td>0.429598</td>\n",
       "      <td>-0.203816</td>\n",
       "      <td>chcur</td>\n",
       "      <td>0.267932</td>\n",
       "      <td>Strike</td>\n",
       "    </tr>\n",
       "    <tr>\n",
       "      <th>2</th>\n",
       "      <td>-1.729209</td>\n",
       "      <td>-0.681233</td>\n",
       "      <td>chcur</td>\n",
       "      <td>0.053339</td>\n",
       "      <td>Strike</td>\n",
       "    </tr>\n",
       "    <tr>\n",
       "      <th>3</th>\n",
       "      <td>-0.869573</td>\n",
       "      <td>-2.063286</td>\n",
       "      <td>fb</td>\n",
       "      <td>0.024462</td>\n",
       "      <td>Strike</td>\n",
       "    </tr>\n",
       "    <tr>\n",
       "      <th>4</th>\n",
       "      <td>-0.990855</td>\n",
       "      <td>0.350554</td>\n",
       "      <td>fb</td>\n",
       "      <td>0.172680</td>\n",
       "      <td>Strike</td>\n",
       "    </tr>\n",
       "  </tbody>\n",
       "</table>\n",
       "</div>"
      ],
      "text/plain": [
       "    pitch_x   pitch_y pitch_type  hitability outcome\n",
       "0 -0.143603 -1.258667         fb    0.134471  Strike\n",
       "1  0.429598 -0.203816      chcur    0.267932  Strike\n",
       "2 -1.729209 -0.681233      chcur    0.053339  Strike\n",
       "3 -0.869573 -2.063286         fb    0.024462  Strike\n",
       "4 -0.990855  0.350554         fb    0.172680  Strike"
      ]
     },
     "execution_count": 4,
     "metadata": {},
     "output_type": "execute_result"
    }
   ],
   "source": [
    "pitch_data = Pitch_Data(df)\n",
    "df.head()"
   ]
  },
  {
   "cell_type": "code",
   "execution_count": null,
   "metadata": {},
   "outputs": [
    {
     "data": {
      "application/vnd.plotly.v1+json": {
       "config": {
        "plotlyServerURL": "https://plot.ly"
       },
       "data": [
        {
         "alignmentgroup": "True",
         "bingroup": "x",
         "hovertemplate": "variable=outcome<br>value=%{x}<br>count=%{y}<extra></extra>",
         "legendgroup": "outcome",
         "marker": {
          "color": "#636efa",
          "pattern": {
           "shape": ""
          }
         },
         "name": "outcome",
         "offsetgroup": "outcome",
         "orientation": "v",
         "showlegend": true,
         "type": "histogram",
         "x": [
          "Strike",
          "Strike",
          "Strike",
          "Strike",
          "Strike",
          "Strike",
          "Strike",
          "Strike",
          "Strike",
          "Strike",
          "Strike",
          "Strike",
          "Strike",
          "Strike",
          "Strike",
          "Strike",
          "Strike",
          "Strike",
          "Strike",
          "Strike",
          "Strike",
          "Strike",
          "Strike",
          "Strike",
          "Strike",
          "Strike",
          "Strike",
          "Strike",
          "Strike",
          "Strike",
          "Strike",
          "Strike",
          "Strike",
          "Strike",
          "Strike",
          "Strike",
          "Strike",
          "Strike",
          "Strike",
          "Strike",
          "Strike",
          "Strike",
          "Strike",
          "Strike",
          "Strike",
          "Strike",
          "Strike",
          "Strike",
          "Strike",
          "Strike",
          "Strike",
          "Strike",
          "Strike",
          "Strike",
          "Strike",
          "Strike",
          "Strike",
          "Strike",
          "Strike",
          "Strike",
          "Strike",
          "Strike",
          "Strike",
          "Strike",
          "Strike",
          "Strike",
          "Strike",
          "Strike",
          "Strike",
          "Strike",
          "Strike",
          "Strike",
          "Strike",
          "Strike",
          "Strike",
          "Strike",
          "Strike",
          "Strike",
          "Strike",
          "Strike",
          "Strike",
          "Strike",
          "Strike",
          "Strike",
          "Strike",
          "Strike",
          "Strike",
          "Strike",
          "Strike",
          "Strike",
          "Strike",
          "Strike",
          "Strike",
          "Strike",
          "Strike",
          "Strike",
          "Strike",
          "Strike",
          "Strike",
          "Strike",
          "Strike",
          "Strike",
          "Strike",
          "Strike",
          "Strike",
          "Strike",
          "Strike",
          "Strike",
          "Strike",
          "Strike",
          "Strike",
          "Strike",
          "Strike",
          "Strike",
          "Strike",
          "Strike",
          "Strike",
          "Strike",
          "Strike",
          "Strike",
          "Strike",
          "Strike",
          "Strike",
          "Strike",
          "Strike",
          "Strike",
          "Strike",
          "Strike",
          "Strike",
          "Strike",
          "Strike",
          "Strike",
          "Strike",
          "Strike",
          "Strike",
          "Strike",
          "Strike",
          "Strike",
          "Strike",
          "Strike",
          "Strike",
          "Strike",
          "Strike",
          "Strike",
          "Strike",
          "Strike",
          "Strike",
          "Strike",
          "Strike",
          "Strike",
          "Strike",
          "Strike",
          "Strike",
          "Strike",
          "Strike",
          "Strike",
          "Strike",
          "Strike",
          "Strike",
          "Strike",
          "Strike",
          "Strike",
          "Strike",
          "Strike",
          "Strike",
          "Strike",
          "Strike",
          "Strike",
          "Strike",
          "Strike",
          "Strike",
          "Strike",
          "Strike",
          "Strike",
          "Strike",
          "Strike",
          "Strike",
          "Strike",
          "Strike",
          "Strike",
          "Strike",
          "Strike",
          "Strike",
          "Strike",
          "Strike",
          "Strike",
          "Strike",
          "Strike",
          "Strike",
          "Strike",
          "Strike",
          "Strike",
          "Strike",
          "Strike",
          "Strike",
          "Strike",
          "Strike",
          "Strike",
          "Strike",
          "Strike",
          "Strike",
          "Strike",
          "Strike",
          "Strike",
          "Strike",
          "Strike",
          "Strike",
          "Strike",
          "Strike",
          "Strike",
          "Strike",
          "Strike",
          "Strike",
          "Strike",
          "Strike",
          "Strike",
          "Strike",
          "Strike",
          "Strike",
          "Strike",
          "Strike",
          "Strike",
          "Strike",
          "Strike",
          "Strike",
          "Strike",
          "Strike",
          "Strike",
          "Strike",
          "Strike",
          "Strike",
          "Strike",
          "Strike",
          "Strike",
          "Strike",
          "Strike",
          "Strike",
          "Strike",
          "Strike",
          "Strike",
          "Strike",
          "Strike",
          "Strike",
          "Strike",
          "Strike",
          "Strike",
          "Strike",
          "Strike",
          "Strike",
          "Strike",
          "Strike",
          "Strike",
          "Strike",
          "Strike",
          "Strike",
          "Strike",
          "Strike",
          "Strike",
          "Strike",
          "Strike",
          "Strike",
          "Strike",
          "Strike",
          "Strike",
          "Strike",
          "Strike",
          "Strike",
          "Strike",
          "Strike",
          "Strike",
          "Strike",
          "Strike",
          "Strike",
          "Strike",
          "Strike",
          "Strike",
          "Strike",
          "Strike",
          "Strike",
          "Strike",
          "Strike",
          "Strike",
          "Strike",
          "Strike",
          "Strike",
          "Strike",
          "Strike",
          "Strike",
          "Strike",
          "Strike",
          "Strike",
          "Strike",
          "Strike",
          "Strike",
          "Strike",
          "Strike",
          "Strike",
          "Strike",
          "Strike",
          "Strike",
          "Strike",
          "Strike",
          "Strike",
          "Strike",
          "Strike",
          "Strike",
          "Strike",
          "Strike",
          "Strike",
          "Strike",
          "Strike",
          "Strike",
          "Strike",
          "Strike",
          "Strike",
          "Strike",
          "Strike",
          "Strike",
          "Strike",
          "Strike",
          "Strike",
          "Strike",
          "Strike",
          "Strike",
          "Strike",
          "Strike",
          "Strike",
          "Strike",
          "Strike",
          "Strike",
          "Strike",
          "Strike",
          "Strike",
          "Strike",
          "Strike",
          "Strike",
          "Strike",
          "Strike",
          "Strike",
          "Strike",
          "Strike",
          "Strike",
          "Strike",
          "Strike",
          "Strike",
          "Strike",
          "Strike",
          "Strike",
          "Strike",
          "Strike",
          "Strike",
          "Strike",
          "Strike",
          "Strike",
          "Strike",
          "Strike",
          "Strike",
          "Strike",
          "Strike",
          "Strike",
          "Strike",
          "Strike",
          "Strike",
          "Strike",
          "Strike",
          "Strike",
          "Strike",
          "Strike",
          "Strike",
          "Strike",
          "Strike",
          "Strike",
          "Strike",
          "Strike",
          "Strike",
          "Strike",
          "Strike",
          "Strike",
          "Strike",
          "Strike",
          "Strike",
          "Strike",
          "Strike",
          "Strike",
          "Strike",
          "Strike",
          "Strike",
          "Strike",
          "Strike",
          "Strike",
          "Strike",
          "Strike",
          "Strike",
          "Strike",
          "Strike",
          "Strike",
          "Strike",
          "Strike",
          "Strike",
          "Strike",
          "Strike",
          "Strike",
          "Strike",
          "Strike",
          "Strike",
          "Strike",
          "Strike",
          "Strike",
          "Strike",
          "Strike",
          "Strike",
          "Strike",
          "Strike",
          "Strike",
          "Strike",
          "Strike",
          "Strike",
          "Strike",
          "Strike",
          "Strike",
          "Strike",
          "Strike",
          "Strike",
          "Strike",
          "Strike",
          "Strike",
          "Strike",
          "Strike",
          "Strike",
          "Strike",
          "Strike",
          "Strike",
          "Strike",
          "Strike",
          "Strike",
          "Strike",
          "Strike",
          "Strike",
          "Strike",
          "Strike",
          "Strike",
          "Strike",
          "Strike",
          "Strike",
          "Strike",
          "Strike",
          "Strike",
          "Strike",
          "Strike",
          "Strike",
          "Strike",
          "Strike",
          "Strike",
          "Strike",
          "Strike",
          "Strike",
          "Strike",
          "Strike",
          "Strike",
          "Strike",
          "Strike",
          "Strike",
          "Strike",
          "Strike",
          "Strike",
          "Strike",
          "Strike",
          "Strike",
          "Strike",
          "Strike",
          "Strike",
          "Strike",
          "Strike",
          "Strike",
          "Strike",
          "Strike",
          "Strike",
          "Strike",
          "Strike",
          "Strike",
          "Strike",
          "Strike",
          "Strike",
          "Strike",
          "Strike",
          "Strike",
          "Strike",
          "Strike",
          "Strike",
          "Strike",
          "Strike",
          "Strike",
          "Strike",
          "Strike",
          "Strike",
          "Strike",
          "Strike",
          "Strike",
          "Strike",
          "Strike",
          "Strike",
          "Strike",
          "Strike",
          "Strike",
          "Strike",
          "Strike",
          "Strike",
          "Strike",
          "Strike",
          "Strike",
          "Strike",
          "Strike",
          "Strike",
          "Strike",
          "Strike",
          "Strike",
          "Strike",
          "Strike",
          "Strike",
          "Strike",
          "Strike",
          "Strike",
          "Strike",
          "Strike",
          "Strike",
          "Strike",
          "Strike",
          "Strike",
          "Strike",
          "Strike",
          "Strike",
          "Strike",
          "Strike",
          "Strike",
          "Strike",
          "Strike",
          "Strike",
          "Strike",
          "Strike",
          "Strike",
          "Strike",
          "Strike",
          "Strike",
          "Strike",
          "Strike",
          "Strike",
          "Strike",
          "Strike",
          "Strike",
          "Strike",
          "Strike",
          "Strike",
          "Strike",
          "Strike",
          "Strike",
          "Strike",
          "Strike",
          "Strike",
          "Strike",
          "Strike",
          "Strike",
          "Strike",
          "Strike",
          "Strike",
          "Strike",
          "Strike",
          "Strike",
          "Strike",
          "Strike",
          "Strike",
          "Strike",
          "Strike",
          "Strike",
          "Strike",
          "Strike",
          "Strike",
          "Strike",
          "Strike",
          "Strike",
          "Strike",
          "Strike",
          "Strike",
          "Strike",
          "Strike",
          "Strike",
          "Strike",
          "Strike",
          "Strike",
          "Strike",
          "Strike",
          "Strike",
          "Strike",
          "Strike",
          "Strike",
          "Strike",
          "Strike",
          "Strike",
          "Strike",
          "Strike",
          "Strike",
          "Strike",
          "Strike",
          "Strike",
          "Strike",
          "Strike",
          "Strike",
          "Strike",
          "Strike",
          "Strike",
          "Strike",
          "Strike",
          "Strike",
          "Strike",
          "Strike",
          "Strike",
          "Strike",
          "Strike",
          "Strike",
          "Strike",
          "Strike",
          "Strike",
          "Strike",
          "Strike",
          "Strike",
          "Strike",
          "Strike",
          "Strike",
          "Strike",
          "Strike",
          "Strike",
          "Strike",
          "Strike",
          "Strike",
          "Strike",
          "Strike",
          "Strike",
          "Strike",
          "Strike",
          "Strike",
          "Strike",
          "Strike",
          "Strike",
          "Strike",
          "Strike",
          "Strike",
          "Strike",
          "Strike",
          "Strike",
          "Strike",
          "Strike",
          "Strike",
          "Strike",
          "Strike",
          "Strike",
          "Strike",
          "Strike",
          "Strike",
          "Strike",
          "Strike",
          "Strike",
          "Strike",
          "Strike",
          "Strike",
          "Strike",
          "Strike",
          "Strike",
          "Strike",
          "Strike",
          "Strike",
          "Strike",
          "Strike",
          "Strike",
          "Strike",
          "Strike",
          "Strike",
          "Strike",
          "Strike",
          "Strike",
          "Strike",
          "Strike",
          "Strike",
          "Strike",
          "Strike",
          "Strike",
          "Strike",
          "Strike",
          "Strike",
          "Strike",
          "Strike",
          "Strike",
          "Strike",
          "Strike",
          "Strike",
          "Strike",
          "Strike",
          "Strike",
          "Strike",
          "Strike",
          "Strike",
          "Strike",
          "Strike",
          "Strike",
          "Strike",
          "Strike",
          "Strike",
          "Strike",
          "Strike",
          "Strike",
          "Strike",
          "Strike",
          "Strike",
          "Strike",
          "Strike",
          "Strike",
          "Strike",
          "Strike",
          "Strike",
          "Strike",
          "Strike",
          "Strike",
          "Strike",
          "Strike",
          "Strike",
          "Strike",
          "Strike",
          "Strike",
          "Strike",
          "Strike",
          "Strike",
          "Strike",
          "Strike",
          "Strike",
          "Strike",
          "Strike",
          "Strike",
          "Strike",
          "Strike",
          "Strike",
          "Strike",
          "Strike",
          "Strike",
          "Strike",
          "Strike",
          "Strike",
          "Strike",
          "Strike",
          "Strike",
          "Strike",
          "Strike",
          "Strike",
          "Strike",
          "Strike",
          "Strike",
          "Strike",
          "Strike",
          "Strike",
          "Strike",
          "Strike",
          "Strike",
          "Strike",
          "Strike",
          "Strike",
          "Strike",
          "Strike",
          "Strike",
          "Strike",
          "Strike",
          "Strike",
          "Strike",
          "Strike",
          "Strike",
          "Strike",
          "Strike",
          "Strike",
          "Strike",
          "Strike",
          "Strike",
          "Strike",
          "Strike",
          "Strike",
          "Strike",
          "Strike",
          "Strike",
          "Strike",
          "Strike",
          "Strike",
          "Strike",
          "Strike",
          "Strike",
          "Strike",
          "Strike",
          "Strike",
          "Strike",
          "Strike",
          "Strike",
          "Strike",
          "Strike",
          "Strike",
          "Strike",
          "Strike",
          "Strike",
          "Strike",
          "Strike",
          "Strike",
          "Strike",
          "Strike",
          "Strike",
          "Strike",
          "Strike",
          "Strike",
          "Strike",
          "Strike",
          "Strike",
          "Strike",
          "Strike",
          "Strike",
          "Strike",
          "Strike",
          "Strike",
          "Strike",
          "Strike",
          "Strike",
          "Strike",
          "Strike",
          "Strike",
          "Strike",
          "Strike",
          "Strike",
          "Strike",
          "Strike",
          "Strike",
          "Strike",
          "Strike",
          "Strike",
          "Strike",
          "Strike",
          "Strike",
          "Strike",
          "Strike",
          "Strike",
          "Strike",
          "Strike",
          "Strike",
          "Strike",
          "Strike",
          "Strike",
          "Strike",
          "Strike",
          "Strike",
          "Strike",
          "Strike",
          "Strike",
          "Strike",
          "Strike",
          "Strike",
          "Strike",
          "Strike",
          "Strike",
          "Strike",
          "Strike",
          "Strike",
          "Strike",
          "Strike",
          "Strike",
          "Strike",
          "Strike",
          "Strike",
          "Strike",
          "Strike",
          "Strike",
          "Strike",
          "Strike",
          "Strike",
          "Strike",
          "Strike",
          "Strike",
          "Strike",
          "Strike",
          "Strike",
          "Strike",
          "Strike",
          "Strike",
          "Strike",
          "Strike",
          "Strike",
          "Strike",
          "Strike",
          "Strike",
          "Strike",
          "Strike",
          "Strike",
          "Strike",
          "Strike",
          "Strike",
          "Strike",
          "Strike",
          "Strike",
          "Strike",
          "Strike",
          "Strike",
          "Strike",
          "Strike",
          "Strike",
          "Strike",
          "Strike",
          "Strike",
          "Strike",
          "Strike",
          "Strike",
          "Strike",
          "Strike",
          "Strike",
          "Strike",
          "Strike",
          "Strike",
          "Strike",
          "Strike",
          "Strike",
          "Strike",
          "Strike",
          "Strike",
          "Strike",
          "Strike",
          "Strike",
          "Strike",
          "Strike",
          "Strike",
          "Strike",
          "Strike",
          "Strike",
          "Strike",
          "Strike",
          "Strike",
          "Strike",
          "Strike",
          "Strike",
          "Strike",
          "Strike",
          "Strike",
          "Strike",
          "Strike",
          "Strike",
          "Strike",
          "Strike",
          "Strike",
          "Strike",
          "Strike",
          "Strike",
          "Strike",
          "Strike",
          "Strike",
          "Strike",
          "Strike",
          "Strike",
          "Strike",
          "Strike",
          "Strike",
          "Strike",
          "Strike",
          "Strike",
          "Strike",
          "Strike",
          "Strike",
          "Strike",
          "Strike",
          "Strike",
          "Strike",
          "Strike",
          "Strike",
          "Strike",
          "Strike",
          "Strike",
          "Strike",
          "Strike",
          "Strike",
          "Strike",
          "Strike",
          "Strike",
          "Strike",
          "Strike",
          "Strike",
          "Strike",
          "Strike",
          "Strike",
          "Strike",
          "Strike",
          "Strike",
          "Strike",
          "Strike",
          "Strike",
          "Strike",
          "Strike",
          "Strike",
          "Strike",
          "Strike",
          "Strike",
          "Strike",
          "Strike",
          "Strike",
          "Strike"
         ],
         "xaxis": "x",
         "yaxis": "y"
        }
       ],
       "layout": {
        "barmode": "relative",
        "legend": {
         "title": {
          "text": "variable"
         },
         "tracegroupgap": 0
        },
        "template": {
         "data": {
          "bar": [
           {
            "error_x": {
             "color": "#2a3f5f"
            },
            "error_y": {
             "color": "#2a3f5f"
            },
            "marker": {
             "line": {
              "color": "#E5ECF6",
              "width": 0.5
             },
             "pattern": {
              "fillmode": "overlay",
              "size": 10,
              "solidity": 0.2
             }
            },
            "type": "bar"
           }
          ],
          "barpolar": [
           {
            "marker": {
             "line": {
              "color": "#E5ECF6",
              "width": 0.5
             },
             "pattern": {
              "fillmode": "overlay",
              "size": 10,
              "solidity": 0.2
             }
            },
            "type": "barpolar"
           }
          ],
          "carpet": [
           {
            "aaxis": {
             "endlinecolor": "#2a3f5f",
             "gridcolor": "white",
             "linecolor": "white",
             "minorgridcolor": "white",
             "startlinecolor": "#2a3f5f"
            },
            "baxis": {
             "endlinecolor": "#2a3f5f",
             "gridcolor": "white",
             "linecolor": "white",
             "minorgridcolor": "white",
             "startlinecolor": "#2a3f5f"
            },
            "type": "carpet"
           }
          ],
          "choropleth": [
           {
            "colorbar": {
             "outlinewidth": 0,
             "ticks": ""
            },
            "type": "choropleth"
           }
          ],
          "contour": [
           {
            "colorbar": {
             "outlinewidth": 0,
             "ticks": ""
            },
            "colorscale": [
             [
              0,
              "#0d0887"
             ],
             [
              0.1111111111111111,
              "#46039f"
             ],
             [
              0.2222222222222222,
              "#7201a8"
             ],
             [
              0.3333333333333333,
              "#9c179e"
             ],
             [
              0.4444444444444444,
              "#bd3786"
             ],
             [
              0.5555555555555556,
              "#d8576b"
             ],
             [
              0.6666666666666666,
              "#ed7953"
             ],
             [
              0.7777777777777778,
              "#fb9f3a"
             ],
             [
              0.8888888888888888,
              "#fdca26"
             ],
             [
              1,
              "#f0f921"
             ]
            ],
            "type": "contour"
           }
          ],
          "contourcarpet": [
           {
            "colorbar": {
             "outlinewidth": 0,
             "ticks": ""
            },
            "type": "contourcarpet"
           }
          ],
          "heatmap": [
           {
            "colorbar": {
             "outlinewidth": 0,
             "ticks": ""
            },
            "colorscale": [
             [
              0,
              "#0d0887"
             ],
             [
              0.1111111111111111,
              "#46039f"
             ],
             [
              0.2222222222222222,
              "#7201a8"
             ],
             [
              0.3333333333333333,
              "#9c179e"
             ],
             [
              0.4444444444444444,
              "#bd3786"
             ],
             [
              0.5555555555555556,
              "#d8576b"
             ],
             [
              0.6666666666666666,
              "#ed7953"
             ],
             [
              0.7777777777777778,
              "#fb9f3a"
             ],
             [
              0.8888888888888888,
              "#fdca26"
             ],
             [
              1,
              "#f0f921"
             ]
            ],
            "type": "heatmap"
           }
          ],
          "heatmapgl": [
           {
            "colorbar": {
             "outlinewidth": 0,
             "ticks": ""
            },
            "colorscale": [
             [
              0,
              "#0d0887"
             ],
             [
              0.1111111111111111,
              "#46039f"
             ],
             [
              0.2222222222222222,
              "#7201a8"
             ],
             [
              0.3333333333333333,
              "#9c179e"
             ],
             [
              0.4444444444444444,
              "#bd3786"
             ],
             [
              0.5555555555555556,
              "#d8576b"
             ],
             [
              0.6666666666666666,
              "#ed7953"
             ],
             [
              0.7777777777777778,
              "#fb9f3a"
             ],
             [
              0.8888888888888888,
              "#fdca26"
             ],
             [
              1,
              "#f0f921"
             ]
            ],
            "type": "heatmapgl"
           }
          ],
          "histogram": [
           {
            "marker": {
             "pattern": {
              "fillmode": "overlay",
              "size": 10,
              "solidity": 0.2
             }
            },
            "type": "histogram"
           }
          ],
          "histogram2d": [
           {
            "colorbar": {
             "outlinewidth": 0,
             "ticks": ""
            },
            "colorscale": [
             [
              0,
              "#0d0887"
             ],
             [
              0.1111111111111111,
              "#46039f"
             ],
             [
              0.2222222222222222,
              "#7201a8"
             ],
             [
              0.3333333333333333,
              "#9c179e"
             ],
             [
              0.4444444444444444,
              "#bd3786"
             ],
             [
              0.5555555555555556,
              "#d8576b"
             ],
             [
              0.6666666666666666,
              "#ed7953"
             ],
             [
              0.7777777777777778,
              "#fb9f3a"
             ],
             [
              0.8888888888888888,
              "#fdca26"
             ],
             [
              1,
              "#f0f921"
             ]
            ],
            "type": "histogram2d"
           }
          ],
          "histogram2dcontour": [
           {
            "colorbar": {
             "outlinewidth": 0,
             "ticks": ""
            },
            "colorscale": [
             [
              0,
              "#0d0887"
             ],
             [
              0.1111111111111111,
              "#46039f"
             ],
             [
              0.2222222222222222,
              "#7201a8"
             ],
             [
              0.3333333333333333,
              "#9c179e"
             ],
             [
              0.4444444444444444,
              "#bd3786"
             ],
             [
              0.5555555555555556,
              "#d8576b"
             ],
             [
              0.6666666666666666,
              "#ed7953"
             ],
             [
              0.7777777777777778,
              "#fb9f3a"
             ],
             [
              0.8888888888888888,
              "#fdca26"
             ],
             [
              1,
              "#f0f921"
             ]
            ],
            "type": "histogram2dcontour"
           }
          ],
          "mesh3d": [
           {
            "colorbar": {
             "outlinewidth": 0,
             "ticks": ""
            },
            "type": "mesh3d"
           }
          ],
          "parcoords": [
           {
            "line": {
             "colorbar": {
              "outlinewidth": 0,
              "ticks": ""
             }
            },
            "type": "parcoords"
           }
          ],
          "pie": [
           {
            "automargin": true,
            "type": "pie"
           }
          ],
          "scatter": [
           {
            "fillpattern": {
             "fillmode": "overlay",
             "size": 10,
             "solidity": 0.2
            },
            "type": "scatter"
           }
          ],
          "scatter3d": [
           {
            "line": {
             "colorbar": {
              "outlinewidth": 0,
              "ticks": ""
             }
            },
            "marker": {
             "colorbar": {
              "outlinewidth": 0,
              "ticks": ""
             }
            },
            "type": "scatter3d"
           }
          ],
          "scattercarpet": [
           {
            "marker": {
             "colorbar": {
              "outlinewidth": 0,
              "ticks": ""
             }
            },
            "type": "scattercarpet"
           }
          ],
          "scattergeo": [
           {
            "marker": {
             "colorbar": {
              "outlinewidth": 0,
              "ticks": ""
             }
            },
            "type": "scattergeo"
           }
          ],
          "scattergl": [
           {
            "marker": {
             "colorbar": {
              "outlinewidth": 0,
              "ticks": ""
             }
            },
            "type": "scattergl"
           }
          ],
          "scattermapbox": [
           {
            "marker": {
             "colorbar": {
              "outlinewidth": 0,
              "ticks": ""
             }
            },
            "type": "scattermapbox"
           }
          ],
          "scatterpolar": [
           {
            "marker": {
             "colorbar": {
              "outlinewidth": 0,
              "ticks": ""
             }
            },
            "type": "scatterpolar"
           }
          ],
          "scatterpolargl": [
           {
            "marker": {
             "colorbar": {
              "outlinewidth": 0,
              "ticks": ""
             }
            },
            "type": "scatterpolargl"
           }
          ],
          "scatterternary": [
           {
            "marker": {
             "colorbar": {
              "outlinewidth": 0,
              "ticks": ""
             }
            },
            "type": "scatterternary"
           }
          ],
          "surface": [
           {
            "colorbar": {
             "outlinewidth": 0,
             "ticks": ""
            },
            "colorscale": [
             [
              0,
              "#0d0887"
             ],
             [
              0.1111111111111111,
              "#46039f"
             ],
             [
              0.2222222222222222,
              "#7201a8"
             ],
             [
              0.3333333333333333,
              "#9c179e"
             ],
             [
              0.4444444444444444,
              "#bd3786"
             ],
             [
              0.5555555555555556,
              "#d8576b"
             ],
             [
              0.6666666666666666,
              "#ed7953"
             ],
             [
              0.7777777777777778,
              "#fb9f3a"
             ],
             [
              0.8888888888888888,
              "#fdca26"
             ],
             [
              1,
              "#f0f921"
             ]
            ],
            "type": "surface"
           }
          ],
          "table": [
           {
            "cells": {
             "fill": {
              "color": "#EBF0F8"
             },
             "line": {
              "color": "white"
             }
            },
            "header": {
             "fill": {
              "color": "#C8D4E3"
             },
             "line": {
              "color": "white"
             }
            },
            "type": "table"
           }
          ]
         },
         "layout": {
          "annotationdefaults": {
           "arrowcolor": "#2a3f5f",
           "arrowhead": 0,
           "arrowwidth": 1
          },
          "autotypenumbers": "strict",
          "coloraxis": {
           "colorbar": {
            "outlinewidth": 0,
            "ticks": ""
           }
          },
          "colorscale": {
           "diverging": [
            [
             0,
             "#8e0152"
            ],
            [
             0.1,
             "#c51b7d"
            ],
            [
             0.2,
             "#de77ae"
            ],
            [
             0.3,
             "#f1b6da"
            ],
            [
             0.4,
             "#fde0ef"
            ],
            [
             0.5,
             "#f7f7f7"
            ],
            [
             0.6,
             "#e6f5d0"
            ],
            [
             0.7,
             "#b8e186"
            ],
            [
             0.8,
             "#7fbc41"
            ],
            [
             0.9,
             "#4d9221"
            ],
            [
             1,
             "#276419"
            ]
           ],
           "sequential": [
            [
             0,
             "#0d0887"
            ],
            [
             0.1111111111111111,
             "#46039f"
            ],
            [
             0.2222222222222222,
             "#7201a8"
            ],
            [
             0.3333333333333333,
             "#9c179e"
            ],
            [
             0.4444444444444444,
             "#bd3786"
            ],
            [
             0.5555555555555556,
             "#d8576b"
            ],
            [
             0.6666666666666666,
             "#ed7953"
            ],
            [
             0.7777777777777778,
             "#fb9f3a"
            ],
            [
             0.8888888888888888,
             "#fdca26"
            ],
            [
             1,
             "#f0f921"
            ]
           ],
           "sequentialminus": [
            [
             0,
             "#0d0887"
            ],
            [
             0.1111111111111111,
             "#46039f"
            ],
            [
             0.2222222222222222,
             "#7201a8"
            ],
            [
             0.3333333333333333,
             "#9c179e"
            ],
            [
             0.4444444444444444,
             "#bd3786"
            ],
            [
             0.5555555555555556,
             "#d8576b"
            ],
            [
             0.6666666666666666,
             "#ed7953"
            ],
            [
             0.7777777777777778,
             "#fb9f3a"
            ],
            [
             0.8888888888888888,
             "#fdca26"
            ],
            [
             1,
             "#f0f921"
            ]
           ]
          },
          "colorway": [
           "#636efa",
           "#EF553B",
           "#00cc96",
           "#ab63fa",
           "#FFA15A",
           "#19d3f3",
           "#FF6692",
           "#B6E880",
           "#FF97FF",
           "#FECB52"
          ],
          "font": {
           "color": "#2a3f5f"
          },
          "geo": {
           "bgcolor": "white",
           "lakecolor": "white",
           "landcolor": "#E5ECF6",
           "showlakes": true,
           "showland": true,
           "subunitcolor": "white"
          },
          "hoverlabel": {
           "align": "left"
          },
          "hovermode": "closest",
          "mapbox": {
           "style": "light"
          },
          "paper_bgcolor": "white",
          "plot_bgcolor": "#E5ECF6",
          "polar": {
           "angularaxis": {
            "gridcolor": "white",
            "linecolor": "white",
            "ticks": ""
           },
           "bgcolor": "#E5ECF6",
           "radialaxis": {
            "gridcolor": "white",
            "linecolor": "white",
            "ticks": ""
           }
          },
          "scene": {
           "xaxis": {
            "backgroundcolor": "#E5ECF6",
            "gridcolor": "white",
            "gridwidth": 2,
            "linecolor": "white",
            "showbackground": true,
            "ticks": "",
            "zerolinecolor": "white"
           },
           "yaxis": {
            "backgroundcolor": "#E5ECF6",
            "gridcolor": "white",
            "gridwidth": 2,
            "linecolor": "white",
            "showbackground": true,
            "ticks": "",
            "zerolinecolor": "white"
           },
           "zaxis": {
            "backgroundcolor": "#E5ECF6",
            "gridcolor": "white",
            "gridwidth": 2,
            "linecolor": "white",
            "showbackground": true,
            "ticks": "",
            "zerolinecolor": "white"
           }
          },
          "shapedefaults": {
           "line": {
            "color": "#2a3f5f"
           }
          },
          "ternary": {
           "aaxis": {
            "gridcolor": "white",
            "linecolor": "white",
            "ticks": ""
           },
           "baxis": {
            "gridcolor": "white",
            "linecolor": "white",
            "ticks": ""
           },
           "bgcolor": "#E5ECF6",
           "caxis": {
            "gridcolor": "white",
            "linecolor": "white",
            "ticks": ""
           }
          },
          "title": {
           "x": 0.05
          },
          "xaxis": {
           "automargin": true,
           "gridcolor": "white",
           "linecolor": "white",
           "ticks": "",
           "title": {
            "standoff": 15
           },
           "zerolinecolor": "white",
           "zerolinewidth": 2
          },
          "yaxis": {
           "automargin": true,
           "gridcolor": "white",
           "linecolor": "white",
           "ticks": "",
           "title": {
            "standoff": 15
           },
           "zerolinecolor": "white",
           "zerolinewidth": 2
          }
         }
        },
        "title": {
         "text": "Histogram of outcome"
        },
        "xaxis": {
         "anchor": "y",
         "domain": [
          0,
          1
         ],
         "title": {
          "text": "value"
         }
        },
        "yaxis": {
         "anchor": "x",
         "domain": [
          0,
          1
         ],
         "title": {
          "text": "count"
         }
        }
       }
      }
     },
     "metadata": {},
     "output_type": "display_data"
    },
    {
     "data": {
      "application/vnd.plotly.v1+json": {
       "config": {
        "plotlyServerURL": "https://plot.ly"
       },
       "data": [
        {
         "domain": {
          "x": [
           0,
           1
          ],
          "y": [
           0,
           1
          ]
         },
         "hovertemplate": "outcome=%{label}<br>counts=%{value}<extra></extra>",
         "labels": [
          "Strike"
         ],
         "legendgroup": "",
         "name": "",
         "showlegend": true,
         "type": "pie",
         "values": [
          1000
         ]
        }
       ],
       "layout": {
        "legend": {
         "tracegroupgap": 0
        },
        "template": {
         "data": {
          "bar": [
           {
            "error_x": {
             "color": "#2a3f5f"
            },
            "error_y": {
             "color": "#2a3f5f"
            },
            "marker": {
             "line": {
              "color": "#E5ECF6",
              "width": 0.5
             },
             "pattern": {
              "fillmode": "overlay",
              "size": 10,
              "solidity": 0.2
             }
            },
            "type": "bar"
           }
          ],
          "barpolar": [
           {
            "marker": {
             "line": {
              "color": "#E5ECF6",
              "width": 0.5
             },
             "pattern": {
              "fillmode": "overlay",
              "size": 10,
              "solidity": 0.2
             }
            },
            "type": "barpolar"
           }
          ],
          "carpet": [
           {
            "aaxis": {
             "endlinecolor": "#2a3f5f",
             "gridcolor": "white",
             "linecolor": "white",
             "minorgridcolor": "white",
             "startlinecolor": "#2a3f5f"
            },
            "baxis": {
             "endlinecolor": "#2a3f5f",
             "gridcolor": "white",
             "linecolor": "white",
             "minorgridcolor": "white",
             "startlinecolor": "#2a3f5f"
            },
            "type": "carpet"
           }
          ],
          "choropleth": [
           {
            "colorbar": {
             "outlinewidth": 0,
             "ticks": ""
            },
            "type": "choropleth"
           }
          ],
          "contour": [
           {
            "colorbar": {
             "outlinewidth": 0,
             "ticks": ""
            },
            "colorscale": [
             [
              0,
              "#0d0887"
             ],
             [
              0.1111111111111111,
              "#46039f"
             ],
             [
              0.2222222222222222,
              "#7201a8"
             ],
             [
              0.3333333333333333,
              "#9c179e"
             ],
             [
              0.4444444444444444,
              "#bd3786"
             ],
             [
              0.5555555555555556,
              "#d8576b"
             ],
             [
              0.6666666666666666,
              "#ed7953"
             ],
             [
              0.7777777777777778,
              "#fb9f3a"
             ],
             [
              0.8888888888888888,
              "#fdca26"
             ],
             [
              1,
              "#f0f921"
             ]
            ],
            "type": "contour"
           }
          ],
          "contourcarpet": [
           {
            "colorbar": {
             "outlinewidth": 0,
             "ticks": ""
            },
            "type": "contourcarpet"
           }
          ],
          "heatmap": [
           {
            "colorbar": {
             "outlinewidth": 0,
             "ticks": ""
            },
            "colorscale": [
             [
              0,
              "#0d0887"
             ],
             [
              0.1111111111111111,
              "#46039f"
             ],
             [
              0.2222222222222222,
              "#7201a8"
             ],
             [
              0.3333333333333333,
              "#9c179e"
             ],
             [
              0.4444444444444444,
              "#bd3786"
             ],
             [
              0.5555555555555556,
              "#d8576b"
             ],
             [
              0.6666666666666666,
              "#ed7953"
             ],
             [
              0.7777777777777778,
              "#fb9f3a"
             ],
             [
              0.8888888888888888,
              "#fdca26"
             ],
             [
              1,
              "#f0f921"
             ]
            ],
            "type": "heatmap"
           }
          ],
          "heatmapgl": [
           {
            "colorbar": {
             "outlinewidth": 0,
             "ticks": ""
            },
            "colorscale": [
             [
              0,
              "#0d0887"
             ],
             [
              0.1111111111111111,
              "#46039f"
             ],
             [
              0.2222222222222222,
              "#7201a8"
             ],
             [
              0.3333333333333333,
              "#9c179e"
             ],
             [
              0.4444444444444444,
              "#bd3786"
             ],
             [
              0.5555555555555556,
              "#d8576b"
             ],
             [
              0.6666666666666666,
              "#ed7953"
             ],
             [
              0.7777777777777778,
              "#fb9f3a"
             ],
             [
              0.8888888888888888,
              "#fdca26"
             ],
             [
              1,
              "#f0f921"
             ]
            ],
            "type": "heatmapgl"
           }
          ],
          "histogram": [
           {
            "marker": {
             "pattern": {
              "fillmode": "overlay",
              "size": 10,
              "solidity": 0.2
             }
            },
            "type": "histogram"
           }
          ],
          "histogram2d": [
           {
            "colorbar": {
             "outlinewidth": 0,
             "ticks": ""
            },
            "colorscale": [
             [
              0,
              "#0d0887"
             ],
             [
              0.1111111111111111,
              "#46039f"
             ],
             [
              0.2222222222222222,
              "#7201a8"
             ],
             [
              0.3333333333333333,
              "#9c179e"
             ],
             [
              0.4444444444444444,
              "#bd3786"
             ],
             [
              0.5555555555555556,
              "#d8576b"
             ],
             [
              0.6666666666666666,
              "#ed7953"
             ],
             [
              0.7777777777777778,
              "#fb9f3a"
             ],
             [
              0.8888888888888888,
              "#fdca26"
             ],
             [
              1,
              "#f0f921"
             ]
            ],
            "type": "histogram2d"
           }
          ],
          "histogram2dcontour": [
           {
            "colorbar": {
             "outlinewidth": 0,
             "ticks": ""
            },
            "colorscale": [
             [
              0,
              "#0d0887"
             ],
             [
              0.1111111111111111,
              "#46039f"
             ],
             [
              0.2222222222222222,
              "#7201a8"
             ],
             [
              0.3333333333333333,
              "#9c179e"
             ],
             [
              0.4444444444444444,
              "#bd3786"
             ],
             [
              0.5555555555555556,
              "#d8576b"
             ],
             [
              0.6666666666666666,
              "#ed7953"
             ],
             [
              0.7777777777777778,
              "#fb9f3a"
             ],
             [
              0.8888888888888888,
              "#fdca26"
             ],
             [
              1,
              "#f0f921"
             ]
            ],
            "type": "histogram2dcontour"
           }
          ],
          "mesh3d": [
           {
            "colorbar": {
             "outlinewidth": 0,
             "ticks": ""
            },
            "type": "mesh3d"
           }
          ],
          "parcoords": [
           {
            "line": {
             "colorbar": {
              "outlinewidth": 0,
              "ticks": ""
             }
            },
            "type": "parcoords"
           }
          ],
          "pie": [
           {
            "automargin": true,
            "type": "pie"
           }
          ],
          "scatter": [
           {
            "fillpattern": {
             "fillmode": "overlay",
             "size": 10,
             "solidity": 0.2
            },
            "type": "scatter"
           }
          ],
          "scatter3d": [
           {
            "line": {
             "colorbar": {
              "outlinewidth": 0,
              "ticks": ""
             }
            },
            "marker": {
             "colorbar": {
              "outlinewidth": 0,
              "ticks": ""
             }
            },
            "type": "scatter3d"
           }
          ],
          "scattercarpet": [
           {
            "marker": {
             "colorbar": {
              "outlinewidth": 0,
              "ticks": ""
             }
            },
            "type": "scattercarpet"
           }
          ],
          "scattergeo": [
           {
            "marker": {
             "colorbar": {
              "outlinewidth": 0,
              "ticks": ""
             }
            },
            "type": "scattergeo"
           }
          ],
          "scattergl": [
           {
            "marker": {
             "colorbar": {
              "outlinewidth": 0,
              "ticks": ""
             }
            },
            "type": "scattergl"
           }
          ],
          "scattermapbox": [
           {
            "marker": {
             "colorbar": {
              "outlinewidth": 0,
              "ticks": ""
             }
            },
            "type": "scattermapbox"
           }
          ],
          "scatterpolar": [
           {
            "marker": {
             "colorbar": {
              "outlinewidth": 0,
              "ticks": ""
             }
            },
            "type": "scatterpolar"
           }
          ],
          "scatterpolargl": [
           {
            "marker": {
             "colorbar": {
              "outlinewidth": 0,
              "ticks": ""
             }
            },
            "type": "scatterpolargl"
           }
          ],
          "scatterternary": [
           {
            "marker": {
             "colorbar": {
              "outlinewidth": 0,
              "ticks": ""
             }
            },
            "type": "scatterternary"
           }
          ],
          "surface": [
           {
            "colorbar": {
             "outlinewidth": 0,
             "ticks": ""
            },
            "colorscale": [
             [
              0,
              "#0d0887"
             ],
             [
              0.1111111111111111,
              "#46039f"
             ],
             [
              0.2222222222222222,
              "#7201a8"
             ],
             [
              0.3333333333333333,
              "#9c179e"
             ],
             [
              0.4444444444444444,
              "#bd3786"
             ],
             [
              0.5555555555555556,
              "#d8576b"
             ],
             [
              0.6666666666666666,
              "#ed7953"
             ],
             [
              0.7777777777777778,
              "#fb9f3a"
             ],
             [
              0.8888888888888888,
              "#fdca26"
             ],
             [
              1,
              "#f0f921"
             ]
            ],
            "type": "surface"
           }
          ],
          "table": [
           {
            "cells": {
             "fill": {
              "color": "#EBF0F8"
             },
             "line": {
              "color": "white"
             }
            },
            "header": {
             "fill": {
              "color": "#C8D4E3"
             },
             "line": {
              "color": "white"
             }
            },
            "type": "table"
           }
          ]
         },
         "layout": {
          "annotationdefaults": {
           "arrowcolor": "#2a3f5f",
           "arrowhead": 0,
           "arrowwidth": 1
          },
          "autotypenumbers": "strict",
          "coloraxis": {
           "colorbar": {
            "outlinewidth": 0,
            "ticks": ""
           }
          },
          "colorscale": {
           "diverging": [
            [
             0,
             "#8e0152"
            ],
            [
             0.1,
             "#c51b7d"
            ],
            [
             0.2,
             "#de77ae"
            ],
            [
             0.3,
             "#f1b6da"
            ],
            [
             0.4,
             "#fde0ef"
            ],
            [
             0.5,
             "#f7f7f7"
            ],
            [
             0.6,
             "#e6f5d0"
            ],
            [
             0.7,
             "#b8e186"
            ],
            [
             0.8,
             "#7fbc41"
            ],
            [
             0.9,
             "#4d9221"
            ],
            [
             1,
             "#276419"
            ]
           ],
           "sequential": [
            [
             0,
             "#0d0887"
            ],
            [
             0.1111111111111111,
             "#46039f"
            ],
            [
             0.2222222222222222,
             "#7201a8"
            ],
            [
             0.3333333333333333,
             "#9c179e"
            ],
            [
             0.4444444444444444,
             "#bd3786"
            ],
            [
             0.5555555555555556,
             "#d8576b"
            ],
            [
             0.6666666666666666,
             "#ed7953"
            ],
            [
             0.7777777777777778,
             "#fb9f3a"
            ],
            [
             0.8888888888888888,
             "#fdca26"
            ],
            [
             1,
             "#f0f921"
            ]
           ],
           "sequentialminus": [
            [
             0,
             "#0d0887"
            ],
            [
             0.1111111111111111,
             "#46039f"
            ],
            [
             0.2222222222222222,
             "#7201a8"
            ],
            [
             0.3333333333333333,
             "#9c179e"
            ],
            [
             0.4444444444444444,
             "#bd3786"
            ],
            [
             0.5555555555555556,
             "#d8576b"
            ],
            [
             0.6666666666666666,
             "#ed7953"
            ],
            [
             0.7777777777777778,
             "#fb9f3a"
            ],
            [
             0.8888888888888888,
             "#fdca26"
            ],
            [
             1,
             "#f0f921"
            ]
           ]
          },
          "colorway": [
           "#636efa",
           "#EF553B",
           "#00cc96",
           "#ab63fa",
           "#FFA15A",
           "#19d3f3",
           "#FF6692",
           "#B6E880",
           "#FF97FF",
           "#FECB52"
          ],
          "font": {
           "color": "#2a3f5f"
          },
          "geo": {
           "bgcolor": "white",
           "lakecolor": "white",
           "landcolor": "#E5ECF6",
           "showlakes": true,
           "showland": true,
           "subunitcolor": "white"
          },
          "hoverlabel": {
           "align": "left"
          },
          "hovermode": "closest",
          "mapbox": {
           "style": "light"
          },
          "paper_bgcolor": "white",
          "plot_bgcolor": "#E5ECF6",
          "polar": {
           "angularaxis": {
            "gridcolor": "white",
            "linecolor": "white",
            "ticks": ""
           },
           "bgcolor": "#E5ECF6",
           "radialaxis": {
            "gridcolor": "white",
            "linecolor": "white",
            "ticks": ""
           }
          },
          "scene": {
           "xaxis": {
            "backgroundcolor": "#E5ECF6",
            "gridcolor": "white",
            "gridwidth": 2,
            "linecolor": "white",
            "showbackground": true,
            "ticks": "",
            "zerolinecolor": "white"
           },
           "yaxis": {
            "backgroundcolor": "#E5ECF6",
            "gridcolor": "white",
            "gridwidth": 2,
            "linecolor": "white",
            "showbackground": true,
            "ticks": "",
            "zerolinecolor": "white"
           },
           "zaxis": {
            "backgroundcolor": "#E5ECF6",
            "gridcolor": "white",
            "gridwidth": 2,
            "linecolor": "white",
            "showbackground": true,
            "ticks": "",
            "zerolinecolor": "white"
           }
          },
          "shapedefaults": {
           "line": {
            "color": "#2a3f5f"
           }
          },
          "ternary": {
           "aaxis": {
            "gridcolor": "white",
            "linecolor": "white",
            "ticks": ""
           },
           "baxis": {
            "gridcolor": "white",
            "linecolor": "white",
            "ticks": ""
           },
           "bgcolor": "#E5ECF6",
           "caxis": {
            "gridcolor": "white",
            "linecolor": "white",
            "ticks": ""
           }
          },
          "title": {
           "x": 0.05
          },
          "xaxis": {
           "automargin": true,
           "gridcolor": "white",
           "linecolor": "white",
           "ticks": "",
           "title": {
            "standoff": 15
           },
           "zerolinecolor": "white",
           "zerolinewidth": 2
          },
          "yaxis": {
           "automargin": true,
           "gridcolor": "white",
           "linecolor": "white",
           "ticks": "",
           "title": {
            "standoff": 15
           },
           "zerolinecolor": "white",
           "zerolinewidth": 2
          }
         }
        },
        "title": {
         "text": "Pie of outcome"
        }
       }
      }
     },
     "metadata": {},
     "output_type": "display_data"
    }
   ],
   "source": [
    "pitch_data.show_histogram(\"outcome\")\n",
    "pitch_data.show_pie(\"outcome\")\n"
   ]
  },
  {
   "cell_type": "code",
   "execution_count": null,
   "metadata": {},
   "outputs": [
    {
     "data": {
      "application/vnd.plotly.v1+json": {
       "config": {
        "plotlyServerURL": "https://plot.ly"
       },
       "data": [
        {
         "hovertemplate": "pitch_x=%{x}<br>pitch_y=%{y}<br>hitability=%{marker.color}<extra></extra>",
         "legendgroup": "",
         "marker": {
          "color": [
           0.1344712283284954,
           0.26793237654082197,
           0.053338657499852456,
           0.024462235292162734,
           0.17268025681510354,
           0.27768758401592153,
           0.21526144893485294,
           0.10686623949681055,
           0.25121768486988766,
           0.19145265908763295,
           0.2274438391090469,
           0.2808316147801746,
           0.029590265668148163,
           0.28232093229945726,
           0.1428886244672501,
           0.032263732887312865,
           0.22676873173440437,
           0.06268374413325875,
           0.21073775367288985,
           0.20765769467192444,
           0.21359245354088618,
           0.09761048683248603,
           0.17897808347309427,
           0.2546316637615368,
           0.10403011565014285,
           0.13161436469142765,
           0.10438114967460778,
           0.17265030920289326,
           0.25868057765288655,
           0.23671072660394601,
           0.2542765891006244,
           0.234639834739376,
           0.15130664742770816,
           0.29814460069795634,
           0.2664380866943706,
           0.17998510067015816,
           0.05251262139794253,
           0.13966234992472015,
           0.1321148431736756,
           0.23159991228793694,
           0.1236544378064776,
           0.29401386218691017,
           0.12902846528568832,
           0.2669389403209491,
           0.117894128040376,
           0.14335312390726204,
           0.18022330527755584,
           0.036805942075644214,
           0.15296570053856862,
           0.20954587505418615,
           0.2108486384932489,
           0.2045639539929165,
           0.26615715949256696,
           0.22899878546302277,
           0.06947638403601898,
           0.07411955434735548,
           0.2767893458348667,
           0.09729047613607847,
           0.08687707695518768,
           0.2546694372330538,
           0.06363486866902023,
           0.18980815310917112,
           0.26870773668729625,
           0.26260213547008315,
           0.09736405943808879,
           0.21578192789249065,
           0.28079451176724585,
           0.23570965733077653,
           0.052148167322131386,
           0.24334413627190637,
           0.11815322318367012,
           0.154655945335312,
           0.1270821852549584,
           0.25037665540982873,
           0.14652408715206708,
           0.18848619705019962,
           0.28004139800899736,
           0.08942356655106867,
           0.24238128289798608,
           0.23815231112192553,
           0.24532352007257296,
           0.23259012129842732,
           0.10300276991186051,
           0.0162024242023914,
           0.20935687445288417,
           0.2021790344496311,
           0.19036778205296834,
           0.176468778298146,
           0.11726095916969656,
           0.2939768725353472,
           0.23972860414471034,
           0.13726423899746015,
           0.19699378205142118,
           0.11804927382543703,
           0.15340469734193216,
           0.2779168267245789,
           0.25365694977610254,
           0.2212609237174128,
           0.2981286342661083,
           0.12426105255233495,
           0.2794467710659015,
           0.03694316240008917,
           0.24440466836135474,
           0.24776541135502891,
           0.24585158070635305,
           0.2736556346769327,
           0.2759170611582662,
           0.2909556492816802,
           0.14059556022310826,
           0.21341380014609618,
           0.1341669167809354,
           0.2907907637660782,
           0.0623160450635895,
           0.19139556328777654,
           0.16768448525967092,
           0.29385090228341104,
           0.16226282153767768,
           0.14821004058863826,
           0.2954844105583453,
           0.15018972396360206,
           0.16555714995063633,
           0.2352763484909,
           0.2507352051839583,
           0.2122246174793819,
           0.2392985187374214,
           0.12846611974057134,
           0.23721652317585176,
           0.2079004408475384,
           0.25203374942199436,
           0.09328118443493374,
           0.1818025846507294,
           0.2508372002210412,
           0.20453380990472836,
           0.17822525294480235,
           0.20338606974640708,
           0.1848036818594403,
           0.2419368805932737,
           0.20983304238644615,
           0.24613751298384404,
           0.153367429842191,
           0.0853099654346029,
           0.029354809151628945,
           0.13992204995832627,
           0.2570120209007064,
           0.07355454073445483,
           0.27405539119400213,
           0.2546634561489852,
           0.25479089392150667,
           0.07502339578545865,
           0.24891013199567952,
           0.19976250284099367,
           0.06263141648905547,
           0.2906288687032169,
           0.2516162129579986,
           0.1526624974204104,
           0.04905542571133907,
           0.21851593356451338,
           0.20712757766562442,
           0.24020597430582613,
           0.17747034336670447,
           0.17684791490024565,
           0.07494995702509605,
           0.0971409640942256,
           0.23610928327778188,
           0.28261107607313285,
           0.23830605462569732,
           0.08630617121430852,
           0.044453045141339353,
           0.21198098409145746,
           0.2947234636707622,
           0.068601905268857,
           0.20800512982635702,
           0.07897933734781064,
           0.19530748436874482,
           0.24641561783124835,
           0.2819629067911094,
           0.25508069746529105,
           0.21099980633937437,
           0.038507720199448495,
           0.23741537712089264,
           0.16799866145008693,
           0.07827248280694771,
           0.05044105982044019,
           0.2690808245516894,
           0.1728707798159399,
           0.2619411686206008,
           0.15790290249792946,
           0.2109934505043338,
           0.20765983362457482,
           0.037727843217508765,
           0.21898393666078972,
           0.29591956154819693,
           0.22568893047692096,
           0.07347296051652626,
           0.1199311312361857,
           0.12046948958169665,
           0.16764607115862648,
           0.03126073572125131,
           0.2925767767738821,
           0.20604201143719317,
           0.19232445312268945,
           0.25704384186497037,
           0.12023569935695717,
           0.0662000101134389,
           0.28647053263378225,
           0.24768601786253888,
           0.0967225494588367,
           0.2960391009103714,
           0.19370063863304,
           0.29712916251262683,
           0.07710164781453216,
           0.1985824248839092,
           0.2176660039222599,
           0.2899963214565288,
           0.1097204575557416,
           0.2800205438840071,
           0.09154168976407472,
           0.1688071966336982,
           0.16634106536875257,
           0.10764510851154858,
           0.17193022915545816,
           0.19916546503584234,
           0.17027616820767053,
           0.00816195270715947,
           0.2332388548971301,
           0.26236645837723727,
           0.20522817318764394,
           0.28789811861188264,
           0.24712583711300512,
           0.16705369116772698,
           0.15028323318598258,
           0.19939890326042833,
           0.15567015668023923,
           0.28170528151346363,
           0.07022642711287638,
           0.2569421525223403,
           0.252185052428443,
           0.19884263796920168,
           0.09684448414733965,
           0.2693401215419329,
           0.19652988985248815,
           0.2828340180127974,
           0.13990180816454897,
           0.02249688789555652,
           0.25685778352303085,
           0.28622468910600984,
           0.10049867202040673,
           0.055681620282804656,
           0.18455738591072648,
           0.19360144816137895,
           0.18018334084998006,
           0.11716492014609105,
           0.16229081736759052,
           0.09974318232349644,
           0.2262287351246678,
           0.2241925402492151,
           0.12497937281849619,
           0.1875244376148436,
           0.21367225256721709,
           0.09062576944356972,
           0.19655376671446803,
           0.13569659827638209,
           0.2804338175821199,
           0.11766650008713042,
           0.09552604925683449,
           0.19798459556325756,
           0.10014487625412112,
           0.0936680463257575,
           0.199581320999668,
           0.2525376256246772,
           0.15534026121836633,
           0.22936133802503,
           0.16838369216948795,
           0.18049708975096884,
           0.014744405822422122,
           0.13271250762540307,
           0.17632745037200906,
           0.22589667464905522,
           0.06021186075028753,
           0.2579280027104544,
           0.2906818895244547,
           0.08409037152452692,
           0.06915470083323173,
           0.17618258459526612,
           0.09475609585566722,
           0.23417568392794721,
           0.2357771415269288,
           0.2700845452358241,
           0.1828344848621368,
           0.27586782236290636,
           0.28410932117681653,
           0.2953653418260308,
           0.20387495689432486,
           0.10341993636089669,
           0.2536486059310104,
           0.18881938532246875,
           0.2910101315354242,
           0.09636864545246061,
           0.11439735055432126,
           0.21035866692449326,
           0.2214329440417312,
           0.29590733964060767,
           0.2764126129025841,
           0.2086790831112619,
           0.2482007425835623,
           0.16237323627882172,
           0.25812959365909177,
           0.03287927536647247,
           0.14626674963439595,
           0.2790464383408343,
           0.2827015001227507,
           0.2770969058407426,
           0.20580897254664818,
           0.1794795945657997,
           0.18561570368104924,
           0.1614852532954606,
           0.17657901567336856,
           0.2473257415293762,
           0.19422869754687463,
           0.21462548670595322,
           0.05719052215592388,
           0.2559942061219096,
           0.2606262118830591,
           0.23022580878367574,
           0.05528019729441966,
           0.12006945766550481,
           0.1724912705311985,
           0.23888377540387293,
           0.23097154686838972,
           0.05664604145280161,
           0.07264333130673463,
           0.27941943846825656,
           0.21792263191773778,
           0.2507991174961035,
           0.19363495142819853,
           0.23673993492302398,
           0.15841723351330317,
           0.23715175496069682,
           0.24117427929180174,
           0.2505903721179792,
           0.27790913020129004,
           0.13494288610035968,
           0.1662167159612715,
           0.23060930230962545,
           0.2725089155674512,
           0.09636194664099318,
           0.28477695804533515,
           0.257442845654408,
           0.2847792959963022,
           0.23338287135203178,
           0.22496064188687334,
           0.17216372058667403,
           0.25259937469679844,
           0.167358724006599,
           0.28888280717292564,
           0.17651184080467855,
           0.22839725328307298,
           0.14934814489912912,
           0.19472363316388006,
           0.1321612855295478,
           0.08905340015418142,
           0.08651379421748899,
           0.18937190157087466,
           0.09288320923297007,
           0.2615283869265296,
           0.29396772503073165,
           0.1587540945903433,
           0.2977564632305163,
           0.25373479846286806,
           0.04064076689516122,
           0.16658585919719485,
           0.15357905542244482,
           0.19687230041649476,
           0.21181056837875778,
           0.07598914101796629,
           0.28086119750410216,
           0.2115896401961394,
           0.1635345911076619,
           0.2635887638282688,
           0.17293153331497385,
           0.1708112309056517,
           0.27737925383813616,
           0.19384480285509406,
           0.2965222055696069,
           0.056784007934854136,
           0.2890368535599867,
           0.24342154294304938,
           0.2820520704854686,
           0.12811238426116095,
           0.09526542482082427,
           0.2984359100912279,
           0.2382872717182014,
           0.2665004447955004,
           0.13261490491666228,
           0.2677769004214841,
           0.29584105182404374,
           0.12276848086479222,
           0.0549408367122339,
           0.058362444721587914,
           0.23749457490687487,
           0.047734638486639475,
           0.29971846875573316,
           0.27033696262846196,
           0.2356067122505765,
           0.1335337501785983,
           0.0953316849773569,
           0.01859499496755177,
           0.21893749436633395,
           0.0234078137809012,
           0.216129774786379,
           0.08031377446706774,
           0.23457649330710614,
           0.26364500153072323,
           0.26426826085064226,
           0.2494804735504486,
           0.26038527899210057,
           0.183459690090103,
           0.2699301091067849,
           0.18892926217849468,
           0.23136238716051602,
           0.14320367591899338,
           0.18383660503747504,
           0.008710842990689978,
           0.07821747583660117,
           0.0846311909694812,
           0.2987836280220979,
           0.031075863146211666,
           0.22070768611062444,
           0.2434573691021286,
           0.15796651966483,
           0.12203446192362274,
           0.2500532326622378,
           0.08170062591129962,
           0.05566172232444801,
           0.25177941480376714,
           0.13861205326638637,
           0.06596540077698566,
           0.14932258258978334,
           0.05580279698643172,
           0.17937807930557678,
           0.2062719002431175,
           0.1145088876573834,
           0.25875996284827185,
           0.13021625357862338,
           0.11541878101694864,
           0.17083204711495173,
           0.04013293998693327,
           0.26557803378489464,
           0.1265580923241823,
           0.29996647801276055,
           0.27545380548130405,
           0.18536375062386617,
           0.2786543837791844,
           0.2747150212450195,
           0.2173529612701093,
           0.10678388919205743,
           0.2476960384289198,
           0.2728710147110739,
           0.17600999464548514,
           0.1691261506739468,
           0.2809755042038003,
           0.18632546556041243,
           0.2500318286639299,
           0.19461183066019702,
           0.2232931457917713,
           0.2504658352152365,
           0.24078183997365527,
           0.2715350028806739,
           0.1281432465495778,
           0.25607462264387665,
           0.22083629589561146,
           0.053395087913014797,
           0.0842277655127811,
           0.20210790764378866,
           0.29217541367023814,
           0.04338973433990639,
           0.05500207581478691,
           0.28972755189354543,
           0.2456668936137326,
           0.1368126800922943,
           0.09835285053006913,
           0.07994834331430749,
           0.07282722421945087,
           0.2915190459370698,
           0.22389390349162536,
           0.1244861626991014,
           0.10280431038853181,
           0.13064385763046524,
           0.18838232839777752,
           0.08283767574555198,
           0.2266718633134981,
           0.2715983798253889,
           0.2174884823914675,
           0.06838218164662543,
           0.24647052366084532,
           0.11789386362667222,
           0.1776668424917812,
           0.12523215026271978,
           0.2854069052650724,
           0.18283485035908065,
           0.09943970656122227,
           0.14322516208776584,
           0.23334006776813165,
           0.19886082955580905,
           0.16725850786671806,
           0.23129528716888442,
           0.11673811659567244,
           0.2196002970875532,
           0.14770552632972014,
           0.2675515355189909,
           0.14809199317395838,
           0.22585613171441407,
           0.29616449554165913,
           0.2350797786663451,
           0.24785370441604287,
           0.22806328038263612,
           0.29578101392757933,
           0.06993670768894797,
           0.19383877913084116,
           0.21576008988970014,
           0.2174229480438508,
           0.20683418634439546,
           0.2888604243906521,
           0.06701590598946455,
           0.1508075375518904,
           0.24984580192936784,
           0.16046032102834454,
           0.1838068496766284,
           0.2790525645467352,
           0.10272512736891344,
           0.06719235063621096,
           0.1801426855469199,
           0.02017912950278942,
           0.1903270829578292,
           0.1588238811676741,
           0.296518938605427,
           0.21881505754780015,
           0.23260005902317177,
           0.13729265164224996,
           0.09614355288879593,
           0.29940062005787504,
           0.2458825093338825,
           0.2562943225758188,
           0.21333469556464094,
           0.2871128117776329,
           0.13755891714443072,
           0.23047800149136563,
           0.14383101732678544,
           0.2521023137234892,
           0.28769457310932495,
           0.2143570100934566,
           0.2120114956434239,
           0.24327538354905928,
           0.05510360260707458,
           0.13603782205436757,
           0.07747403548797725,
           0.24374354502078188,
           0.09228641201335382,
           0.2324678685909278,
           0.18411895366917672,
           0.1444817232132914,
           0.25280360994599055,
           0.08969794216852216,
           0.043041525632807484,
           0.2504003686426688,
           0.2093493470735295,
           0.19271177166805148,
           0.2220843941303852,
           0.29414996608705046,
           0.06377989101762921,
           0.17006831574319342,
           0.23261340288984825,
           0.10392747354635937,
           0.22082149958891922,
           0.26016470382337537,
           0.2854444906753885,
           0.12928534548977333,
           0.22095320467334437,
           0.25503805564268667,
           0.21035031021972986,
           0.23803622000445748,
           0.17081333786517108,
           0.09594046549064612,
           0.2766195254579932,
           0.1116584677232615,
           0.07310772512748612,
           0.2618919824205838,
           0.09541873047662511,
           0.1340010461205276,
           0.15792799467141283,
           0.2243785101151249,
           0.16155618589664578,
           0.2278037054553233,
           0.12021731634948062,
           0.10685416597110298,
           0.22473721727951085,
           0.28845991776322505,
           0.24336553646939196,
           0.03550929513263923,
           0.11343185759234935,
           0.18167981980867598,
           0.09515461346372368,
           0.21392879227743036,
           0.24932347959828002,
           0.12987871477633953,
           0.10588887982628852,
           0.150646330834848,
           0.22248348698819823,
           0.14823995203093832,
           0.2841069159592294,
           0.05977474402318648,
           0.2958588411396791,
           0.19537871912569127,
           0.16096571994219558,
           0.28798523660823516,
           0.25913112420172496,
           0.1841659335868074,
           0.22343239020821684,
           0.24890830392860522,
           0.16362785782656186,
           0.2805646175919568,
           0.2058146207302092,
           0.2852909653496212,
           0.2354413394534637,
           0.2681123345632047,
           0.13937642469209863,
           0.23869423081316085,
           0.23658134909158873,
           0.2085638795450764,
           0.1831255060658924,
           0.18857319340171072,
           0.15527409149514562,
           0.020472510852589356,
           0.22259536893776144,
           0.2884251377262434,
           0.12116357903857045,
           0.2901074640055961,
           0.22596568969961017,
           0.29495297223988154,
           0.05205870490896109,
           0.2106053719215361,
           0.28598582506812825,
           0.285361334234418,
           0.11313939441228678,
           0.11371786356814303,
           0.22893243454919038,
           0.29812267667254966,
           0.12861613104839642,
           0.01783681973000937,
           0.023566338887010513,
           0.2992752049456431,
           0.20941430075882736,
           0.09780635251086772,
           0.08902239960637576,
           0.13264592255769833,
           0.13764599354570548,
           0.07296955255900325,
           0.2635145779847733,
           0.28086302246670786,
           0.07721533807721684,
           0.24706927978691828,
           0.18215936590676277,
           0.07597743434272615,
           0.25943177906102804,
           0.2480000945213526,
           0.09461843782779604,
           0.22996268130477043,
           0.1737896990021546,
           0.14807698182738152,
           0.23790614271769397,
           0.12558223179904715,
           0.20131514860784852,
           0.1005571923075121,
           0.21678306989111248,
           0.2893404091498918,
           0.16895493211461984,
           0.26993129140637057,
           0.10302043761811955,
           0.10892792739645758,
           0.1650143726525092,
           0.23601863695269615,
           0.2216587492900138,
           0.2073661809954697,
           0.22159853439635094,
           0.17258962410510592,
           0.20680603171828604,
           0.29744479970252974,
           0.19117573830647952,
           0.08698391074553985,
           0.19005529521775924,
           0.15022458508379147,
           0.09805883175098577,
           0.15255321215867146,
           0.1612721966178298,
           0.17099676529728605,
           0.27838829679312765,
           0.040669168466498325,
           0.1251903883181864,
           0.10184288053493437,
           0.08008685525983632,
           0.16116496895728957,
           0.23918455949525358,
           0.03336905296272733,
           0.26236727762644513,
           0.28782267732106376,
           0.1270233836112167,
           0.10244414739485617,
           0.21407586198890574,
           0.03722727157243468,
           0.2514696100035203,
           0.24934927476903002,
           0.28534507377147367,
           0.13317139058117805,
           0.22410388767592815,
           0.23099864201149362,
           0.2845346291306179,
           0.18799051864250355,
           0.08141060942425589,
           0.2904958187343285,
           0.022024000664889687,
           0.23871783990154646,
           0.18249696961498552,
           0.24431843368215422,
           0.2332194609391837,
           0.08257792447063617,
           0.2778295729629646,
           0.29550093096850394,
           0.2728828280285806,
           0.13788029131438612,
           0.19643154032363355,
           0.1711070611326511,
           0.24004696017195196,
           0.23888604838294247,
           0.01630272192629126,
           0.23584588473401027,
           0.20596879653164288,
           0.18272051065740424,
           0.27972823605209746,
           0.25763626083173347,
           0.2587212140484605,
           0.2385480467671069,
           0.14146397891345439,
           0.17394488830712065,
           0.016341449069217927,
           0.12421690818056667,
           0.29943131440119225,
           0.07017187015195767,
           0.0918329161069723,
           0.22691176145688335,
           0.06776682483952969,
           0.2668491710767014,
           0.28353417692598265,
           0.23906148956091466,
           0.13444488597429632,
           0.08890765673565346,
           0.10263376814929465,
           0.1467104860823682,
           0.13704978759914632,
           0.2197010223444126,
           0.05641885740690434,
           0.18804381639649692,
           0.14097285087768316,
           0.2009728171089115,
           0.2715335415545121,
           0.281656728111165,
           0.03295295908544925,
           0.2856879133932725,
           0.11429674815445319,
           0.0960377191552399,
           0.23745505870665998,
           0.1746898580326274,
           0.2026242803695569,
           0.1521941380773876,
           0.23806263935978209,
           0.10101341260370851,
           0.22170539692237487,
           0.262484133462764,
           0.29002693453027084,
           0.09898418802101314,
           0.19647537211816063,
           0.13962169869723035,
           0.11878277412658177,
           0.10986949221838598,
           0.21890837903671975,
           0.13148099725980125,
           0.22928953909022184,
           0.06857252752996731,
           0.1454870193494239,
           0.05060151598322645,
           0.2827775249268799,
           0.27504744102320056,
           0.14782954972232415,
           0.18013406472755508,
           0.23435591468074668,
           0.07768901534245316,
           0.22481719964641309,
           0.08321979278932934,
           0.11980407131361803,
           0.056460484075918096,
           0.17699567681602335,
           0.22121334012251315,
           0.17161791457723125,
           0.2700099249384573,
           0.24339943118925653,
           0.2638732649540606,
           0.19467071516527806,
           0.22375637723195904,
           0.2584884801855544,
           0.06355824974337597,
           0.07531985814304896,
           0.24395591714741977,
           0.14227008554811135,
           0.1829576258159697,
           0.16086216367470166,
           0.24616268105571232,
           0.10808939462932904,
           0.28690820129624817,
           0.09538496129380135,
           0.26866603954481033,
           0.2703861801623934,
           0.23272196583653743,
           0.28659407933782627,
           0.13848008719216007,
           0.1761607363494826,
           0.2257981165949583,
           0.10127186015292054,
           0.10251559521507048,
           0.23792202502266166,
           0.18555809134160636,
           0.02857550749648466,
           0.2249092733504209,
           0.2226458365503525,
           0.23496132298553765,
           0.29063999032132903,
           0.2462374123765046,
           0.26568607900167435,
           0.16537078191704643,
           0.1353349875783406,
           0.21511924426742637,
           0.26166108364744056,
           0.297998090962412,
           0.1088961639014288,
           0.26857924183435034,
           0.11499314738716418,
           0.2024020488860416,
           0.20221652057068581,
           0.1382988226546133,
           0.25809116294014783,
           0.23137776959937828,
           0.28870107974806347,
           0.20188538986052307,
           0.046973478676004855,
           0.25175109482405894,
           0.2223808700870943,
           0.1840527896807633,
           0.2960517617869122,
           0.19957455213396044,
           0.12725065480535402,
           0.15797635579638572,
           0.29659199884362275,
           0.13234632188195466,
           0.04804821108203689,
           0.29818105220957475,
           0.268844009974705,
           0.2453876198095271,
           0.16026482526139582,
           0.09470261819749957,
           0.11464472813809848,
           0.10678931654371708,
           0.07982095587856101,
           0.0967944002783878,
           0.09055345205699586,
           0.2371606660476042,
           0.25805861812096237,
           0.20419156862530025,
           0.01902752038984586,
           0.20997123785094898,
           0.2381164100663063,
           0.16532001411309546,
           0.22499946964002293,
           0.2885413591590098,
           0.10104102512406593,
           0.1983697503966594,
           0.17162626523975275,
           0.2680693122470609,
           0.15260693190991745,
           0.2954723199348939,
           0.15346696766427204,
           0.04447459908668041,
           0.23779884485542999,
           0.11134379213003177,
           0.0601100848425796,
           0.12556070252902257,
           0.09966075764765812,
           0.254797562261755,
           0.16692629128212666,
           0.24616380281495295,
           0.19906317075800875,
           0.1444983755107206,
           0.027156408140134123,
           0.0017995734201297305,
           0.22474302270851765,
           0.18042350997003428,
           0.27470923140224734,
           0.2626428522156076,
           0.21512257287409903,
           0.2705628697384514,
           0.06999299994813403,
           0.26207905793509595,
           0.07387606432133054,
           0.16141866909631924,
           0.20299947124165715,
           0.2886879647877901,
           0.25203603447559453,
           0.2717719246012126,
           0.06765675033002293,
           0.22483342934099984,
           0.11856051699575035,
           0.20870758708283735,
           0.25385376224930656,
           0.13769937572372237,
           0.05425472077934914,
           0.1983645122684804,
           0.08347063019778646,
           0.08727496827688845,
           0.26129917090148447,
           0.10282070046803923,
           0.2662006625322197,
           0.2505649904531795,
           0.2657030269948232,
           0.2065900952143771,
           0.08407587603676454,
           0.22844546591755135,
           0.19047272047740585,
           0.28599809071092347,
           0.13177201926745058,
           0.057302263642061785,
           0.28015338766739123,
           0.2735547620800837,
           0.27224338367591516,
           0.2959969073482891,
           0.08223221475270485,
           0.2033692257806105,
           0.24612387772106636,
           0.29263125912109333,
           0.17615033941134342,
           0.14796355933098285,
           0.2902316520149001,
           0.22722771467457142,
           0.1350962972112447,
           0.17386967091650118,
           0.03910621674195951,
           0.25246543336315747,
           0.29096031255040705,
           0.1400821481116311,
           0.07130728042251566,
           0.06435147475375752,
           0.2984411127689501,
           0.23630970786144692,
           0.1719104248999264,
           0.22316495200432193,
           0.13561854291255385,
           0.13355203662590315,
           0.1166730012390354,
           0.27065741550648603,
           0.2532483308236146,
           0.1421970297292469,
           0.12298503666005202,
           0.22671658306988035,
           0.18608211083717255,
           0.22558831388155254,
           0.2002577134272304,
           0.05820798531362491,
           0.07539775628949445,
           0.2411467946880045,
           0.16298765541348023,
           0.2823265892555812,
           0.2878559595897295,
           0.11725628767302583,
           0.2800446201563808,
           0.07619285752714261,
           0.17505564971725257,
           0.07547584273227567,
           0.09654245598617323,
           0.2830254182281374,
           0.12624328555451245,
           0.22014245255703982,
           0.12031963785119844,
           0.07462230646648586,
           0.09460171175610758,
           0.13373633167454269,
           0.11515923142514531,
           0.28626639244281615,
           0.2888329343704858,
           0.27812791822325605,
           0.2507860973677128,
           0.16141720617525043,
           0.2623822002448161,
           0.29894433421515454,
           0.20753262918457774
          ],
          "coloraxis": "coloraxis",
          "symbol": "circle"
         },
         "mode": "markers",
         "name": "",
         "orientation": "v",
         "showlegend": false,
         "type": "scatter",
         "x": [
          -0.14360323081147924,
          0.4295982740620281,
          -1.7292091807790835,
          -0.8695725423819806,
          -0.9908547722044126,
          -0.17948339742222547,
          -0.8137366546821028,
          1.3886275846088711,
          -0.20388741543446348,
          0.1597253173617746,
          -0.730144867964402,
          0.3529119459713095,
          -0.3170556093510758,
          -0.3402418436897245,
          -1.1931168471310358,
          -2.0677367052729325,
          -0.012304948776107402,
          1.7656652332669958,
          -0.1807497628016337,
          -0.8111768798184009,
          -0.1730691790605143,
          -1.3696115881218032,
          -1.006749582938239,
          -0.49514839753508083,
          -0.4572277663798866,
          -1.002343163146043,
          -1.452881593623003,
          -0.7672826244620048,
          -0.4712716733854897,
          0.10992506413234067,
          0.5289296101800638,
          -0.53641629238144,
          1.1557122246350506,
          0.07008003174100678,
          0.24930492457093173,
          0.02816886180795066,
          -0.7190814259474184,
          0.4794126246477086,
          -0.5690379308210761,
          0.71709804687617,
          -0.9423971423278604,
          0.14691715583668621,
          0.7773798650699375,
          -0.4236321601658901,
          0.4402675808419947,
          0.45035739534553143,
          -0.7347316478126498,
          0.9864631065286559,
          0.542106531004374,
          -0.5996638668558433,
          -0.36077812578453905,
          0.7625104886415249,
          0.1376974746093903,
          0.37284715879452407,
          -1.5263599010797289,
          1.2413469736080764,
          -0.21023243595716581,
          -0.30946958918453465,
          -1.5271035695110153,
          -0.5385417176425745,
          0.2034945450787499,
          -0.700331232535073,
          0.4515743686176036,
          -0.3816958868101503,
          1.4910016096524008,
          -0.0314545267568907,
          -0.35796542158262307,
          0.45982400689525044,
          -1.7076721377376205,
          -0.35947164737077136,
          1.2982503968449193,
          1.006115457895109,
          -0.1466397586048765,
          -0.5941786362079162,
          -0.662552899543545,
          -0.6035622475414579,
          0.15813240311745613,
          -1.5532175439689613,
          -0.5764317134832616,
          0.4495773419011115,
          0.40958588436353116,
          0.34512335759295504,
          0.8513875056016666,
          -1.500754302752393,
          0.49482382499105365,
          -0.29915125111588214,
          0.26781719759462613,
          -0.4621154261487267,
          0.7584751856247873,
          0.2011693209609463,
          0.24008379530139387,
          -0.5254727500733667,
          0.707956582515463,
          -0.1415390366960397,
          -1.1521972658238107,
          -0.29067347012015265,
          -0.10835801843551372,
          0.40128019534428405,
          -0.08048039441853938,
          1.3265660573342082,
          -0.1849841845211226,
          -1.0484259964481788,
          0.14472193688409632,
          0.29364269589003317,
          0.29159672732102077,
          0.27677050371024275,
          0.4021382968507036,
          0.23627871076246612,
          -1.1800078987397047,
          0.8143955775219959,
          0.9455860888850243,
          -0.24965002550261634,
          -0.32424055760494197,
          -0.8137909264297665,
          0.18019487798557027,
          0.1963346116098369,
          -0.3506664807523777,
          -0.35481538669987733,
          -0.08290766706840168,
          1.0611361720951857,
          0.771859702225679,
          0.25897960254121516,
          -0.2593428366392152,
          -0.054456814540627396,
          -0.6377933993331544,
          -0.6588568994763307,
          -0.685280372572537,
          -0.007906083127370542,
          -0.32878146783747086,
          -1.1844377959340349,
          -0.92962393795509,
          0.21387394123605225,
          -0.44563061010591365,
          -1.0108161851995607,
          -0.8491761102027657,
          -0.3818563554992109,
          0.519503021702464,
          0.4978627706678207,
          0.5500250519089904,
          -0.26640134307572017,
          -1.416342496168977,
          -0.12933641578938085,
          -1.086704767752365,
          0.10855329813274628,
          0.18641251753426527,
          0.3423686663630379,
          -0.5081143164053926,
          0.5715142824425401,
          -1.009803243461293,
          0.5889869050545881,
          -0.4931440858720467,
          1.6414882832876614,
          -0.24890956216739432,
          -0.5660284850271832,
          1.1618612488396347,
          1.8508167985022357,
          0.7811379214271794,
          0.7929934217051869,
          -0.6666449653674975,
          -0.33021658492221617,
          0.8173434793053134,
          1.6511734149820154,
          -1.485953718891125,
          0.01444860573030915,
          -0.2842093121278845,
          0.06055206764112943,
          -1.1017731078987,
          -0.4055750870519469,
          0.5854522147144632,
          0.059280897459571456,
          -1.6226807213053287,
          -0.5349177423303296,
          -0.39147756868276634,
          -0.03582830919454885,
          -0.5166094917183334,
          -0.15628804669604046,
          0.17564386110421853,
          0.5856940216680631,
          1.47416256636534,
          -0.34515781902332177,
          -0.9286517663045507,
          1.6205974062445345,
          1.0103056795756058,
          -0.17800861815820013,
          0.9772877707273773,
          0.3072872161400007,
          0.9069747848913375,
          -0.8109445889295412,
          -0.8559472933138076,
          1.8192911080874106,
          0.05447312089509865,
          -0.16262383331918595,
          -0.3354269944872799,
          -0.21901378942558067,
          -0.5781223066927236,
          -0.4669199033906948,
          0.3902482506285036,
          2.0615671665114577,
          -0.22359791241743526,
          -0.6189414691341535,
          0.8795383526172746,
          0.5347251701955502,
          0.2936174107072519,
          -0.36753175087597956,
          0.2611958880247761,
          -0.08194467898213151,
          -1.3812270081314526,
          -0.03961897110062717,
          -0.19427728296115618,
          0.1291435776180481,
          1.585306200000126,
          0.03376287045282913,
          -0.06951689708831624,
          0.09742425371096221,
          0.9829780278966583,
          0.08052921072848408,
          1.5387924052629076,
          -1.0089141934895671,
          1.0807870724504558,
          1.4073189944413873,
          -0.41494599434214796,
          -0.4947373292255643,
          -1.0622674440576356,
          2.421505866472129,
          -0.05008978615106617,
          0.40973766404647605,
          0.5032626289544212,
          -0.016571042477006734,
          -0.4402657332320051,
          -0.06638167582174555,
          -0.7213609730871885,
          0.5879216081268894,
          -0.09850079623606843,
          0.09358493438065496,
          1.2506238969192733,
          -0.5067056699957032,
          0.5739739820266967,
          -0.6997979140715281,
          -1.0435810665181888,
          0.20464578492671953,
          -0.5802016994763125,
          0.23608456387720497,
          -1.2343869727803494,
          -2.1410672599178735,
          0.09997592423670162,
          0.2971623258791733,
          1.4241329707496873,
          1.1302578582052059,
          -0.06182844936784597,
          0.7641427797882195,
          -0.8604778116857444,
          -0.751805828728083,
          0.9554787064149242,
          1.283880330943204,
          0.3735349020568934,
          0.2557904103975599,
          0.46474562808705056,
          0.967595415124857,
          0.8014785213476945,
          1.304642997029949,
          0.9180719378634603,
          1.1481559413503686,
          0.0779457199590984,
          0.1795492550349347,
          1.4287661362596424,
          -0.06855800923389281,
          -0.26579804073053087,
          1.4419044968413481,
          0.8449730684422043,
          -0.18003105093716318,
          0.36247802108014865,
          0.7288151117491909,
          -0.42843515093530526,
          0.8256718062565686,
          -2.259837650486543,
          -0.0074860732510108555,
          -0.46931430167024735,
          -0.13246912991200674,
          1.440966774815198,
          0.030071266199167595,
          -0.2315435589988043,
          -0.4957654829589092,
          -0.3321513590654572,
          -0.7380696156559963,
          -1.01338521866428,
          -0.6386061766188877,
          -0.5758776798159663,
          0.43308258691500534,
          0.2198925251187106,
          -0.00817168266688576,
          0.2902515241477967,
          -0.051643150066248894,
          0.8778223804401859,
          1.2321915405293336,
          -0.24675229814518024,
          0.13374321773800613,
          0.2465578812656281,
          -1.3010614702521945,
          0.16481688862873817,
          0.6193276561609787,
          0.6775531792921861,
          0.026683051942356,
          -0.2938289526695673,
          -0.2348121289714038,
          -0.07677340513588628,
          -0.9891247952196791,
          0.22454250378823917,
          0.9844947728370892,
          0.9297767415579484,
          -0.0049591334461900624,
          0.21258605436632563,
          0.10903873542769194,
          -0.7194034289502738,
          -0.8383673091563566,
          0.9532142551371626,
          0.9487276926607147,
          0.912316266811434,
          -0.5883661543200094,
          0.8665962841073757,
          -0.8158010113586427,
          1.3950133431285405,
          -0.3626122164944486,
          0.4724787987660039,
          -0.6304362602151067,
          1.7541556592420051,
          -1.3166182266972317,
          -0.4500883062189465,
          0.6089031171054162,
          -0.06932747414168502,
          1.339170524333308,
          -0.865847892432019,
          0.36761128638565893,
          -0.2664827689653275,
          0.5524238211599113,
          0.4148983602186848,
          0.53160169482982,
          -0.9241912567946042,
          -0.3845549148816049,
          -0.5733447262794197,
          -0.4657412445842162,
          0.2860846046057515,
          0.739345285034497,
          0.9983897811560244,
          0.7219753845139635,
          0.2926979904518716,
          0.45414198089054997,
          0.3091842561927609,
          0.5523396982281227,
          -0.03431698360317311,
          -0.5694443196911397,
          -0.7265820991792444,
          -0.12542650294312369,
          -0.5831939383309164,
          0.8219721913734875,
          -0.26788862813996733,
          -0.16761699195949228,
          0.31517672769921606,
          0.5585028566992849,
          0.8972995002513524,
          0.3978173504831873,
          -1.5370920992118609,
          1.4998660603165617,
          0.8749080011371804,
          1.5307162882521304,
          0.07219754579503797,
          0.017127549221005497,
          0.5710666939618874,
          -0.09962104274879811,
          -0.2866696268889265,
          -1.5013292180056221,
          -1.0630527527059321,
          1.1311477738133782,
          0.6011041141011977,
          -0.6870364638455562,
          1.6409022465750676,
          -0.016648976499218,
          0.5526432915687853,
          0.3642720450488421,
          0.4150551737789303,
          0.4584351225046668,
          -0.5996997355578437,
          0.003489367887465438,
          -0.539937422173684,
          -0.15069502126564846,
          1.6954307999619551,
          0.18897630298280196,
          -0.07510787434179601,
          -0.3137124938035088,
          -0.8419827040276828,
          1.3940510203055874,
          -0.07896576127474055,
          -0.6690346190082171,
          -0.08190439382127314,
          -0.6284886490228679,
          0.47669682975972605,
          -0.0640269123868941,
          0.8631064127161122,
          -1.6234695795097387,
          -0.5638175408674643,
          -0.6802921247825898,
          1.5998947150801957,
          -0.03749566842786551,
          -0.4562759935562718,
          0.2672960233969435,
          0.18514562106063914,
          1.0767247673905587,
          -1.635458801743772,
          0.01923426046307868,
          -2.253121013265878,
          0.23953473151800933,
          1.4985015599128142,
          -0.43201673635148624,
          -0.4619662154832048,
          0.443681184194,
          0.48931235709811904,
          0.02808027262792789,
          -0.8496918440030997,
          -0.3954589041642457,
          -0.29732161335443574,
          -0.34051505573319807,
          -0.09813822501334375,
          -0.6358577096333087,
          2.5985199403051005,
          0.17554170500985145,
          -1.3665147998761766,
          -0.019586790657980822,
          0.9563724946176837,
          0.7559126193401469,
          0.5555732180535815,
          1.1115986884462696,
          -1.2654076798023584,
          0.5819117949899847,
          -1.1143136992299683,
          -1.8298983478340998,
          0.347309753161971,
          -0.08150134552575757,
          -0.5072721888238829,
          0.5346686262690985,
          -1.1301320390762566,
          0.8780355736076324,
          -0.6789038705608469,
          1.3397211098191357,
          -0.5421006635667068,
          0.951219795831631,
          -0.7555426717905832,
          0.5266261556927767,
          0.6190488705054493,
          0.4171405643083799,
          -0.0860528798968585,
          0.013230381178686983,
          0.20225663849428827,
          0.1693486129452796,
          -0.18243774690899633,
          -0.41949853580468743,
          0.5151216926474522,
          -1.2834442676732614,
          -0.5149579578556726,
          -0.16709659716693587,
          -0.5992882430882513,
          -1.0598138292191652,
          -0.3409916309418933,
          -0.034080411721369226,
          0.3548438541912914,
          0.9076382274855389,
          -0.16535411707322817,
          0.5959375148273297,
          0.6523035226354926,
          0.3059178877866529,
          -0.7207523392842906,
          -0.5604381990172124,
          -0.060533806062301534,
          1.4386609656917675,
          1.3017153780050243,
          0.4555310504534492,
          0.1973877840689504,
          1.1716117676730555,
          -1.755758209054867,
          0.25463356475412063,
          -0.4177392068111912,
          -0.35229860498409765,
          -0.3450098992153369,
          0.6699839418792616,
          0.3000853088539492,
          0.23901599493737347,
          -0.7591797125721245,
          1.1547898018244942,
          -0.36911244936821547,
          -0.7098139681873337,
          -0.9637813662367456,
          1.1622752976316275,
          0.5164933681536485,
          0.02564910446062505,
          -0.3138000501562743,
          1.484331630453186,
          -0.6257710722605861,
          -1.2723647728311793,
          -0.4515020304838523,
          -0.5792028761894705,
          -0.07917303602332461,
          0.9803209003257658,
          1.4449092557297336,
          0.5213045814668296,
          0.7079507439393599,
          0.13865750362873483,
          -1.0788139583182725,
          -0.255800682101895,
          1.3488903737860969,
          0.759712186534683,
          0.7791357475988362,
          -0.35948756074643695,
          0.2813728791146611,
          0.7482878012791465,
          -0.03444205006361834,
          0.49695624202174254,
          -0.15750247337241044,
          -0.0074161825606900095,
          0.16830032737512376,
          -1.3448857104010554,
          -0.6628826606491739,
          0.043891464552211955,
          0.1494093606564909,
          0.8613591062422736,
          0.2683341795782892,
          1.436220451678888,
          0.81197063319024,
          -0.4986457256452106,
          0.9069981999590844,
          -0.2084518577782019,
          -0.2553632767185992,
          -1.4196461073553903,
          -1.5024343762382726,
          -0.5507623275889278,
          -2.069130229160743,
          0.7002509595731474,
          -0.6845215194246088,
          0.02881479252250782,
          0.7925881961722507,
          -0.30476547249143554,
          1.2430214800806132,
          1.064194601796426,
          -0.020040284850689073,
          0.6052192491445922,
          0.10214114584938362,
          -0.6532165316788496,
          -0.12332867596918402,
          -0.5271956254652753,
          0.20220706483537662,
          0.8443421174961573,
          -0.5809487673382507,
          -0.21211742404106346,
          0.780198592182238,
          -0.6018099787602925,
          -0.052233898549936014,
          -0.6592009561327521,
          0.8597609818350184,
          1.6105743096289695,
          0.5405180932940001,
          0.9248430265870661,
          -0.5271444387104381,
          -0.9840800251258107,
          -0.78070535112028,
          -0.5828157197194234,
          0.6598248238670644,
          -1.895796120711097,
          0.5295884436067585,
          0.15549424830608966,
          0.7981195981511484,
          -0.6398963005192877,
          -0.009038761872872217,
          1.7362907516692554,
          0.11103535032524521,
          -0.48782564175902043,
          -0.4166353926868285,
          -0.4591208174689605,
          0.3033887856408069,
          -0.035410996903468904,
          -0.15588638731056592,
          -0.31768764280890444,
          -0.5009920229175785,
          -0.4019604524747285,
          0.21959225904113502,
          -1.050765863573587,
          -1.0666106040351349,
          0.06377900938416085,
          0.14517926226514125,
          1.656151888035923,
          -0.19430077882599148,
          -1.2488376066177884,
          1.1608321312664156,
          0.3285416324289947,
          -0.06040489960168563,
          -0.0899416761042841,
          0.7338110893192344,
          -0.9727728867440476,
          -0.6907241227256898,
          0.3574231075920557,
          -0.034231970389303895,
          -0.6325889815137186,
          0.6844820162040967,
          0.719750368798315,
          -0.8198102470118062,
          1.313082407474391,
          0.05023237412441482,
          0.1777027359431071,
          1.2125841547549612,
          -1.3285933582488156,
          1.101726214685274,
          0.49330809137449017,
          -0.9156315628595714,
          0.20640959948259377,
          0.9959812157082002,
          0.08112851823887245,
          -0.5049375500749888,
          0.8596660938727662,
          -0.16038129547942273,
          -0.5146309653328783,
          -0.3467084321383526,
          0.4722279161146718,
          -0.09657825074494175,
          -0.7980181810739163,
          -0.322103277595118,
          0.45452713641525466,
          0.07244269897750225,
          0.6765738117851497,
          0.2615038487963832,
          1.2382138124399722,
          -0.5990044011652625,
          -0.2897276994462737,
          0.5172490049237066,
          -0.7156545695011044,
          -0.05112216478048646,
          -0.8170732541053216,
          -1.8649710585988808,
          0.7078842000335286,
          0.27975546985125727,
          0.862964202744346,
          0.24054890868645543,
          0.7176760579128013,
          0.16325270043109044,
          1.598061969989777,
          -0.7333616376199725,
          0.29264483031751554,
          0.26649771582010606,
          -1.3388508054050838,
          -1.2923570521194048,
          -0.4758246866409914,
          -0.07253116359642328,
          1.0799476691382406,
          0.5425804527305957,
          1.9367014944229552,
          -0.010760840679773218,
          0.010254611452996604,
          -1.3195546479999876,
          1.5113909825292828,
          -0.07947879028978766,
          1.1135925057510014,
          1.68043894971799,
          0.5088866434296837,
          -0.0019291213673222488,
          -1.4864603777220404,
          0.5104395861353453,
          0.9722533278155774,
          1.369891571634806,
          0.34001765079971397,
          0.501445342963237,
          0.4470813099847417,
          0.5895534669385154,
          -1.0157228736956783,
          1.1698694493213828,
          -0.4133856726766254,
          0.5233902367862394,
          -0.5161536437178396,
          1.20687548058157,
          -0.7912041452163809,
          -0.12619017019611364,
          0.7766546548080902,
          -0.45959516358152364,
          -1.2643164138887562,
          -0.8891787962038171,
          -0.0709553665431455,
          0.536640710332886,
          0.21674349790014352,
          0.18772155532177393,
          -0.7764131863509054,
          -0.951206591657155,
          -0.8585091316375398,
          -0.1213174267192077,
          -0.10115482180369696,
          1.3824561635943389,
          -0.5134918029715763,
          -0.4209519934842995,
          0.6335301924942879,
          -0.9869286829532702,
          -1.1104430415176407,
          -0.5572828670051625,
          -0.005986263037921176,
          -1.8041186911915554,
          0.20110719522419118,
          -0.10678595638786863,
          0.8841578577012185,
          -0.5332485939980351,
          0.03563345071133169,
          -1.945626474052319,
          -0.24979911179965458,
          -0.05272996389429283,
          1.3020644407725404,
          0.9920132873695212,
          0.4529283342137822,
          -1.403913046021709,
          -0.3681040173445486,
          -0.539329565059892,
          0.30252406085452327,
          1.2408191396155641,
          -0.3833289660590646,
          -0.3820291693279637,
          -0.0302428197642696,
          -0.8666331973550033,
          -0.5490248150391418,
          -0.226799825440088,
          1.293277956757119,
          -0.5648061806819951,
          -0.009166010794132476,
          -0.09457689129654591,
          0.42602807596207304,
          0.4858273800237993,
          0.1953231693993205,
          -0.17382545164046734,
          0.3969973495748647,
          -1.0378412377382464,
          0.7305933307072202,
          0.8946772302946833,
          0.08734095827822148,
          -0.6249289181405284,
          -2.3944688880486926,
          0.6259737418025402,
          -0.6813215650930999,
          0.12843478050158866,
          0.329892501648682,
          0.5318908989864896,
          -0.5437057285543532,
          -0.6134323757226021,
          -0.8388855463069547,
          0.9965174374940141,
          -0.9805768703345558,
          -0.27386456946095267,
          -0.013346679280216326,
          -0.5043084693590276,
          0.2531888358673787,
          0.6169866633652784,
          -1.695504835472946,
          -0.1576969982540151,
          -0.097914241050805,
          0.1511159187738256,
          -0.8216714787278625,
          1.118973714246269,
          1.4463312466152956,
          0.9731469912063639,
          -1.24880809526538,
          0.3501127707063936,
          1.7956907938997,
          0.9664848071168984,
          1.0340778658976253,
          -0.8602940583166898,
          0.4305149219418476,
          0.1880441930755414,
          -2.0526070247594967,
          0.2835815209928931,
          1.0768939394771733,
          0.9483385050761652,
          0.5603983226929811,
          0.04737086625167637,
          -0.21756047065136894,
          1.164028670309738,
          -0.4164381469130811,
          1.3891299907695287,
          0.6552529513696645,
          -0.23400433515154345,
          -0.05614338350233657,
          -0.2099441742828256,
          -0.7109266094327027,
          1.2259805850059964,
          -1.2624870525823892,
          0.1800285935278298,
          0.1736853025008978,
          -0.28385477869695874,
          0.7329600274844482,
          1.231171726810433,
          -1.0153473960799535,
          0.6510667216966144,
          -0.2661168577399036,
          0.18476511151244993,
          0.03856380049334199,
          -1.0099976708341807,
          0.11348698424593265,
          1.417508375199758,
          -0.24872653554593235,
          0.5612207227289157,
          -1.208881085530638,
          1.6725246311715134,
          -1.0253475295123295,
          -0.6606553237435016,
          -0.9283341329843716,
          0.15490361111859777,
          -0.14050514523971377,
          0.27022347680938874,
          -0.7333914885220132,
          0.7312950485092748,
          -0.33406446112100996,
          -0.28645113554267027,
          0.012901664017194111,
          -0.6145254094205058,
          0.26054069425345966,
          -0.8706302018588277,
          0.14752031196706705,
          -0.5564305621960391,
          0.624894820287551,
          0.07754400859876627,
          -1.5115362724550623,
          0.4254397428918813,
          -0.0939726582874909,
          0.13334075380105553,
          0.0985121037481993,
          1.0708071063624913,
          -0.9724664467177593,
          0.5366344968821257,
          -1.0465478611495342,
          -1.385772246757034,
          -0.6725480570652725,
          -0.2700702907584554,
          -2.130965229264217,
          0.5107655279187944,
          -0.009709746486538093,
          0.3647494836453259,
          -0.17703613394672116,
          -0.45969243293941464,
          -0.2982695217530807,
          -0.5269932529163875,
          -0.7157477236639723,
          0.8138134392588539,
          -0.25477565384775674,
          0.016249581179264727,
          0.48257003511931207,
          -0.2812455269613789,
          0.5717151107820762,
          -0.8406374521060552,
          0.877374327156535,
          -0.9971238014756876,
          0.3213540665560888,
          -0.6961460951116947,
          -0.04443453160979535,
          0.0878735940193308,
          1.1276443863730072,
          -0.3769125948920183,
          0.7502017040834381,
          0.8270472840725122,
          0.0861647333093953,
          0.1285824782060166,
          0.38696074389651886,
          1.0203304828449817,
          0.1254548600246143,
          -1.159280266790966,
          1.0036362485690595,
          0.02927481731725292,
          -0.2223680584556568,
          -0.025708307125350698,
          1.1107429092843448,
          0.060627131934992695,
          -1.3297578642619594,
          -1.1388591505849102,
          0.32091475538492714,
          1.501777876032821,
          -1.424906332738471,
          0.6650841481680875,
          -0.26652995608946506,
          0.25294740434134727,
          0.34511797185803206,
          0.30343691340457757,
          -0.4941921105774346,
          0.8919925228006644,
          0.6058925233243296,
          0.25437708144579174,
          1.4752476178466267,
          0.3167246624615472,
          1.0527405413724413,
          -0.4159570549686236,
          1.0537958178948983,
          0.018675419647004633,
          -0.9305272192983397,
          1.9425862496228676,
          0.4111631225449719,
          1.0505241842859032,
          -1.5710104937024434,
          -0.166337161227416,
          0.6176056153160244,
          -0.08290835052195827,
          0.943352371009083,
          0.5840645485718751,
          -0.18339644810493513,
          0.027168005326510213,
          1.5115728848070649,
          -3.166162214227087,
          -0.12314574992290316,
          -0.9212244017892266,
          0.41920741906239173,
          -0.47367583969914406,
          -0.6293660070349105,
          0.16367638665265524,
          -0.462447182210428,
          -0.38411215054403075,
          0.31472378434851267,
          1.044913534995313,
          -0.19823913238497104,
          0.23029959350679458,
          -0.46427166534042225,
          0.3811517419710551,
          -0.5241178501517904,
          0.15021180114987223,
          -1.2892066431836442,
          0.16774780014094356,
          -0.5220996791729815,
          0.6852448560012073,
          1.4720734052971318,
          0.5598861462082639,
          1.4716689409357846,
          -0.5902369290427986,
          0.17297643273906382,
          -0.8527429517404409,
          0.48777765022770747,
          0.13201745231063447,
          0.47238100835881874,
          -0.2667564006011674,
          0.5371452271209459,
          -0.6899548956309297,
          0.8331317664964516,
          -0.14902714771069056,
          0.8070505236673946,
          0.40672594972185594,
          0.0888926020325686,
          0.21623378438762647,
          0.2389736392484267,
          0.011160757977718913,
          1.492160797065221,
          0.8675839942312202,
          0.0393096917787751,
          -0.15481698342146888,
          0.9817081919985302,
          0.30102770242369475,
          -0.2430383751956778,
          0.31458695238794065,
          0.7153207352353723,
          -0.6286780305561596,
          1.7191159357643278,
          -0.3227741007130686,
          -0.16135098797009098,
          -1.0618785816424965,
          1.597433218790321,
          -0.27378607645876896,
          0.09978800520628882,
          -0.325709741839067,
          0.47945596283723024,
          -0.6294622848087895,
          -0.7672283173247068,
          -0.7465602103087261,
          -1.1888881969219312,
          -0.44957302597721044,
          0.07119938398164455,
          0.3920470317963984,
          0.06696995921187028,
          -0.7475483660327439,
          0.6672871613169798,
          -0.7502002194564681,
          -0.23375194614483105,
          1.7717574220344945,
          1.1094428113027448,
          -0.532728274865687,
          -0.017156317581444525,
          -0.031208968927490165,
          0.05868639323461815,
          -1.3084374254231625,
          0.1952029126352127,
          -0.7916889866247726,
          -0.6662988523534853,
          1.235644272947161,
          -1.4418441669138264,
          0.008957803529084426,
          0.49232404593946816,
          -0.14115200497373312,
          0.9336838827106474,
          0.6086368105392508,
          0.60351698523243,
          -0.7798418617280867,
          0.44435182299803677,
          -0.163125532782262,
          -0.13892245372160883,
          -0.2972079885965227,
          0.34950262416852595,
          -1.0425556433147467,
          -0.2443592272741101,
          0.05533628089784818,
          -0.17052300947931676
         ],
         "xaxis": "x",
         "y": [
          -1.258666969711266,
          -0.20381616121726587,
          -0.6812326027215828,
          -2.063285612669484,
          0.3505544948751491,
          -0.3497960732465683,
          -0.04112109347144521,
          0.3689477903745236,
          -0.559781389297388,
          -0.9342224779191107,
          -0.14368969129454057,
          0.08664640545357644,
          2.128884637675517,
          -0.07557429347033706,
          0.24475739940952362,
          0.4291180604982599,
          -0.7480321832076682,
          -0.11741777438323392,
          -0.8207712828795317,
          -0.27888163841035024,
          -0.8058985391334328,
          0.6080782660089924,
          0.13961915080900517,
          0.28767503115885745,
          -1.3817188054736198,
          -0.80194812697441,
          0.024532086679404982,
          -0.7185442881241718,
          0.2725434641794981,
          -0.6795614497672501,
          0.22572815671072488,
          -0.45135248960602337,
          -0.18242009938828657,
          -0.08658248292168894,
          0.4184832264961339,
          1.0104569845954363,
          -1.7228986492540705,
          1.139856586596975,
          1.147352450576377,
          0.0575552475944686,
          0.9404630820339865,
          0.1368446768703576,
          -1.0407590558810154,
          -0.23250989992744767,
          -1.2938915731697902,
          1.1287697715878178,
          -0.6923445827498061,
          1.795309690720889,
          1.026283598625082,
          0.5984002149956228,
          -0.7583686751063179,
          -0.4293965345887128,
          0.4695001979255002,
          0.6333376238000924,
          0.7718915779573232,
          1.1203855866593893,
          0.3418388613665656,
          1.4684656334950181,
          0.38279395933722926,
          -0.19392010833782586,
          -1.749237485359081,
          -0.6519765570215618,
          -0.12805046835189482,
          0.34726504514697376,
          -0.16602669496643838,
          -0.8111960014916122,
          0.06464868381612832,
          0.5205048201841539,
          0.7637033079108739,
          0.5379514883288854,
          0.42207379568996445,
          -0.5593663828756729,
          1.3024568016644484,
          -0.0926492645129358,
          -0.9971002657176551,
          -0.7518164700489918,
          0.33568468516066086,
          0.09116852324053752,
          -0.30702989774643175,
          0.5095334136264834,
          0.48440550526331183,
          -0.6244191545227484,
          1.1887777354011,
          -1.8934042689691453,
          0.688936625114576,
          0.8365203226656772,
          -0.9153813990461521,
          -0.920720559000355,
          -1.1416989968421345,
          -0.009677541999331971,
          -0.6252277870499013,
          1.134736840981624,
          0.5831107068878244,
          1.3584282926267148,
          -0.11767493344770301,
          0.26159150237832157,
          0.5690851990015927,
          0.6692188306751581,
          -0.07770296950039593,
          -0.054938279122929416,
          0.32821050973366106,
          1.7577277146571555,
          -0.6236744771410391,
          0.5444025747339268,
          0.5595357460801139,
          -0.3274477381194141,
          0.07516052490380586,
          -0.07345491796920034,
          0.3512428009075884,
          0.13363675811434134,
          0.8457319628762556,
          0.005643287901489466,
          1.7429845479876884,
          0.4864408293943943,
          1.0634502601726028,
          0.05359722355603649,
          1.0517429424415952,
          -1.133318167602506,
          0.1531636687995679,
          0.5076970858506409,
          -0.7701718283149792,
          -0.647281211081487,
          -0.5399179536822517,
          0.830246315425031,
          -0.21298103026365872,
          1.1234509848657377,
          -0.003018670157979964,
          -0.8563783115428524,
          -0.49024655641353515,
          0.966144511225952,
          0.3708388949492943,
          -0.5587617010614938,
          0.7533337413120693,
          0.14042491430364223,
          0.23717692681490637,
          0.9072830363758574,
          -0.4004095696552463,
          -0.6834275780127169,
          -0.30537950216345794,
          1.1273518459017897,
          0.7134117544344675,
          2.152190573498949,
          -0.5869128844962996,
          -0.5454680699259845,
          -1.666361593091575,
          0.25236512914143816,
          0.2636266364160443,
          -0.007071381839954144,
          -1.323730464033864,
          0.1627130717203968,
          0.7550599377636571,
          0.6622289173802623,
          -0.03892047448361359,
          0.17710668849737762,
          -0.03441244771104208,
          0.44287756326968347,
          0.1538526187065575,
          0.33474847446166145,
          0.012485045503569717,
          0.9700076936245818,
          -0.6236460016853609,
          -0.21805962632750947,
          0.21720997055100308,
          -0.6919296654600675,
          -0.19658761486413445,
          0.6758600548176396,
          1.1304241501513146,
          -1.9115979871863487,
          0.5931420636441758,
          0.1788175430144338,
          -0.5637655630908142,
          -0.668058735595001,
          1.5861707761577815,
          0.9258136758736872,
          0.35586564173404617,
          0.31557557510504575,
          0.5418064893315413,
          -0.6006771437212692,
          1.3902130000596473,
          0.5906001380237018,
          0.5452144739703975,
          -0.24665112902497208,
          1.5953796847028736,
          -0.43110820706083985,
          -0.38390728914330785,
          0.42059440499771755,
          -0.6789706053652804,
          -0.2151270265153264,
          -0.05582588122169135,
          0.9148486628151112,
          -0.7915812474543367,
          -0.0307100377051563,
          0.6758242419669113,
          -1.663058327463589,
          -1.224542446988842,
          -1.2675794682674515,
          -1.0057639765295632,
          -0.522283492697444,
          0.01070929611322873,
          -0.6068906269450554,
          0.34001415252600864,
          0.1521204100398437,
          1.3200173522144583,
          -1.6991539453453228,
          0.15514606515664237,
          0.6136173439817956,
          0.5967275517890297,
          -0.1581524577776757,
          0.9149828150188704,
          0.050527377848396775,
          -0.4517962992401801,
          0.9077535527842494,
          -0.7980029816105787,
          -0.24153051063260011,
          -1.0224712580008832,
          -0.3624279963630993,
          0.07806339803486434,
          0.363514330955217,
          0.10669428740377809,
          0.2633222916336527,
          -0.9701583741569474,
          0.757976253407803,
          0.06564717036348004,
          -1.1597014281969158,
          -0.7077639783480296,
          -0.31653680795090644,
          0.7113697177933748,
          0.28649088014007185,
          0.44038130713007423,
          1.0800592080714508,
          -0.9285256194874079,
          -0.686511775122305,
          1.1412202966033853,
          -0.342175338858669,
          1.1576076313617985,
          -0.23046120955935095,
          0.133388572085689,
          -0.5769058267254564,
          -1.082723711533809,
          0.41681543333203847,
          -0.7136538904376971,
          -0.24921595941945962,
          -0.04440876243228458,
          0.7724260288458189,
          0.5482012800417854,
          0.07553306657829441,
          -0.3988999919365853,
          -1.4459536272850722,
          0.9837790872089089,
          0.5404141480717454,
          -0.5283872626533084,
          -1.146816425084838,
          0.5620014246812223,
          0.7443244141699766,
          -0.65187686469959,
          0.7191145531792045,
          -1.2390637747991784,
          -0.059209122731407736,
          0.19055316105603023,
          -0.8318620032865526,
          0.05326194273175738,
          0.5181311480140218,
          -0.35890654591834875,
          -1.3563252962253014,
          0.49738749725997194,
          -0.9091129158237361,
          1.4572853360565636,
          -0.4989610719022196,
          -0.3180281563874383,
          0.5585993824133693,
          1.088548916853893,
          -0.07613259233709169,
          -0.9856560029821998,
          0.5782747693840445,
          0.958629883540268,
          1.277160336224148,
          0.9179452465981519,
          0.7415264480198639,
          -1.0655707355751787,
          -0.5489077288857551,
          0.09743468286632696,
          1.5159147044587573,
          1.6806392688240614,
          0.7209552359309104,
          1.1304879440772073,
          0.29597949446732774,
          0.3874993684799367,
          -0.15011442719073775,
          0.9705924212398224,
          -0.4094563222954244,
          0.15684644214472027,
          -0.16873606737654664,
          0.04448728686020792,
          -0.7820955526768861,
          -0.5241932055502154,
          -0.9529406335906626,
          0.007615433112793463,
          0.7605538848781047,
          -1.3787837046326434,
          0.5712881763649397,
          0.38502859977795123,
          -0.1635855645475072,
          0.2782805214255995,
          -0.8190439821039589,
          0.610896934263605,
          -0.499401504782347,
          0.5002220443713512,
          1.858130762121919,
          0.7564496984152582,
          0.38050483444244715,
          -0.27127288217931833,
          0.38332875226540664,
          0.4859288158438705,
          0.5697211246881755,
          -0.22713581590989154,
          -0.5819390511315421,
          0.4771866139126548,
          0.1999442396195749,
          0.34424292802061723,
          0.06514971481631174,
          1.169925786382253,
          0.43100777949715957,
          0.24115192124984056,
          -0.3633095950943664,
          0.5528773603177759,
          -0.3129546548860041,
          -0.9509427988938288,
          0.291286228220888,
          0.7198399768217878,
          1.2411861425826065,
          -1.4445584754519547,
          -0.0836591791753205,
          0.7538379683208242,
          -0.2304089649589862,
          -0.8387341142643825,
          -0.43708140213347957,
          -0.6503621517179831,
          0.5676988301316416,
          0.3283308220327307,
          0.37816768450135446,
          0.26670614422038363,
          -1.0252952027658169,
          -0.4291828103494528,
          -0.06976102238464582,
          0.3264202401877429,
          -1.437044624189672,
          0.09250677804771593,
          0.02983845482469187,
          -0.32087121005567465,
          0.4218263348960506,
          -0.2186149092642343,
          -1.0463944599257133,
          -0.06197024056515381,
          -0.7011758358023953,
          -0.06130614577361081,
          1.0162153175624036,
          -0.6678739971148,
          -1.0407109404294532,
          -0.2434255147440168,
          -1.2170703477517528,
          -0.257760440684734,
          -0.48719503951763204,
          0.39328781990141404,
          -0.042270742554953,
          0.5189092406597556,
          0.20082736705703166,
          -0.9730030421788721,
          0.07133559663599694,
          0.5027984012303723,
          -1.3206181058076791,
          -0.21555068905653552,
          -0.24421047506414312,
          0.6936340524308315,
          -0.4734566368535731,
          -0.23199971772990702,
          0.3627210835099613,
          -0.6267797561953288,
          1.0396257777548212,
          -0.2941322836316759,
          -0.9442513848597058,
          -0.8756752301309817,
          0.39595623400154384,
          0.7628347279759855,
          -0.02473345898259651,
          -0.674217977044151,
          -0.19683623731691519,
          0.6421326860260982,
          -0.15800638763966565,
          -0.9964006794193847,
          0.5923283038597527,
          0.06495345582028454,
          0.11403371528447886,
          0.47969239552407245,
          -1.1125052873070675,
          -0.004091013540027546,
          -0.15434007183730397,
          1.020789716381366,
          -0.8714342508124192,
          -1.7193980061760104,
          -0.06691795602321433,
          -1.0566869138052215,
          -0.02172167183220755,
          -0.006227823330670315,
          -0.6417085805796567,
          -1.2588000380850792,
          -1.0646615713409764,
          1.699133468455672,
          0.7934875185440048,
          -0.15770501299141904,
          0.7735825675229769,
          -0.6246404858978534,
          0.5525966200496212,
          0.21200271444455399,
          0.2382907939496783,
          0.35969023741457234,
          -0.531461846895462,
          0.5114672793912156,
          -0.23420303962702432,
          -0.9145597115100143,
          -0.6353297823969075,
          -1.212187275159546,
          -0.7583898920973445,
          0.5710708610288413,
          -1.6302649666859448,
          -0.8146143127514466,
          -0.08798856907519588,
          1.9026438905843184,
          -0.20611352165632854,
          -0.3301812311679891,
          -0.21713379682198544,
          -0.44463624903115534,
          -0.15998737598500462,
          1.1660817309097877,
          -0.14300904634494666,
          -0.4794102131503721,
          -1.239985639123604,
          1.6649261629041396,
          1.053316908749569,
          -1.4445478659061204,
          0.507569674368089,
          0.5369022990270074,
          0.36250160596864733,
          0.0434755640953405,
          -0.8742726888205403,
          -1.1574048749352237,
          -0.9213403578411447,
          1.9078649215553067,
          -0.2640857413851704,
          1.3110137260708203,
          0.006960561438869841,
          0.36030171084457485,
          0.9665638976454858,
          -0.33813743599268326,
          -0.01083419735948512,
          0.6157673485417667,
          0.6470870353501283,
          0.3434800795771451,
          -0.4020513109429707,
          -0.8410332862854756,
          0.151887512304567,
          0.12146881565281611,
          0.9754043038791264,
          0.48833834543970156,
          -0.2043131713629158,
          0.7505011916454466,
          -0.07601564325561067,
          -0.11950930203025613,
          -0.3252646384230275,
          -1.0870986666508369,
          -0.05036051015416279,
          -0.7804211931250596,
          -1.1757474494687723,
          -0.9198112723971834,
          0.7631860253791759,
          -0.11787410536490237,
          -1.579381227190413,
          -0.5568987407368299,
          -0.0696037835110385,
          0.47445321135169505,
          1.202591060579826,
          1.4530691872267751,
          1.4818653892476215,
          1.6556974566661906,
          -0.01502067845506584,
          0.09416222323810923,
          0.6524081003612004,
          1.4162155150437625,
          1.0764660356970224,
          0.041752946578036784,
          1.1058549289412216,
          -0.5420264557390788,
          0.4452619588656484,
          0.7381075047884972,
          0.8683893039699542,
          -0.03860959346474511,
          0.4990824744832558,
          -0.9186351917476755,
          -1.1881710919110684,
          -0.3057201009004315,
          -0.17137475030326374,
          0.3474179031778953,
          -1.0986221273329733,
          -0.03710630436553081,
          0.8961744159478984,
          0.06814879972869552,
          -0.6743445507294148,
          -0.2611388446364086,
          -0.21629659719642305,
          0.9000395694822433,
          0.31576769171173896,
          -1.1544379324500462,
          -0.08850928373059717,
          -0.15668005044859942,
          -0.49066237107573074,
          0.597562196830746,
          0.740448295008684,
          0.0011062073342975275,
          -1.0505551203740882,
          0.6588611167880498,
          -0.8107430528541275,
          0.7883861620227534,
          -0.04231499941988917,
          -0.06061761835966088,
          -0.9669414539698292,
          -0.8463213124859387,
          0.342387965673375,
          -0.6548479461569235,
          -0.9676475700505679,
          -0.28205356100918066,
          -0.3578496469776937,
          -0.8574013482299272,
          -0.8465975071499187,
          1.0568667320704215,
          -0.6478621614459065,
          0.8963277265435139,
          0.15004158253090447,
          0.05399191321417118,
          -0.6450131536740041,
          0.13502950635614497,
          1.069284791121469,
          -0.05998541760765584,
          0.17767097331502835,
          0.5517963141835103,
          0.5051223275652208,
          0.2694523430041258,
          1.1320446521639393,
          -0.6973997511537818,
          -0.870271853223941,
          0.10194829638687526,
          -0.19690691458187837,
          -0.2521295562488781,
          -0.5762887322400686,
          0.6453281603394728,
          1.718891751846544,
          0.917883490754485,
          -0.33723824508439976,
          0.3509585232070315,
          -1.2257391627323595,
          -0.4818502446953351,
          0.08937215082830667,
          -0.9229074010131659,
          0.0516226899681481,
          1.4068761480841774,
          -0.5377650916903499,
          -0.2845677543759868,
          -0.8338931231218496,
          -0.49817540399133947,
          -0.4381583585290549,
          0.19825185511864352,
          0.28632755589686193,
          -1.0596394070674575,
          -0.5204184581633245,
          1.395203686432278,
          -0.6340849014922695,
          0.43919287410430424,
          -0.3133940764291292,
          1.2881073322565757,
          0.7146591074380421,
          -0.27156288150131447,
          0.740570168404143,
          0.6438155753872368,
          -0.14937640897657298,
          1.068855028879619,
          0.3977576798593151,
          1.3984270795953033,
          0.28435504730190614,
          0.4836815903411829,
          0.8552308406377839,
          0.5141385987764188,
          -1.0841341921680094,
          -0.7597679851388157,
          1.1089497190203987,
          -0.11007997189122672,
          -0.9395082283102268,
          -1.2599742837270163,
          -0.6707831829844508,
          0.27799430818460097,
          0.13515536627852193,
          -1.9492204403155202,
          -1.1946211909841506,
          -0.5753123466651227,
          -0.7565536219743303,
          -0.8208259446055125,
          0.5817940791684,
          -0.4516663741286137,
          0.5635815435812846,
          0.4048388293490964,
          -0.5954043249417009,
          0.7559889375081604,
          -0.25740777500135226,
          1.4947976134836356,
          0.14566471010656282,
          -0.7763526074224271,
          -0.7114466325435792,
          0.2366946456568761,
          -0.16748584883360715,
          0.9250318286486474,
          -0.605266897572569,
          -0.603380848339143,
          -0.7586452085235201,
          -0.17379959584578486,
          -0.7396068570776362,
          0.3087034558094459,
          0.16397939017129784,
          0.39543467648215347,
          -0.005897089012065092,
          -0.3136749097099993,
          0.6253307687399192,
          0.677884705652561,
          0.6892459647542792,
          0.9622780381578965,
          -0.8059605894605031,
          -1.3752388139393827,
          0.30944085093984985,
          0.020753258811609266,
          1.033718860768299,
          -0.09590793550558589,
          -0.22746358102726735,
          -0.0853325853523393,
          -0.9741759823853271,
          -0.4120357310130178,
          0.10019709983515548,
          0.17038627720329488,
          -0.3972432447264977,
          -0.5195548089312095,
          -0.5606264247513009,
          0.0854051676369209,
          0.7263700859003202,
          2.313145415147118,
          -1.1563362485729405,
          0.0687169391902772,
          -0.8478387889763691,
          0.7073622991039569,
          -0.3814265449191335,
          -1.2751005402267181,
          -0.5640092466548521,
          -0.06004459811643399,
          0.01954358483831295,
          -0.36307995799432,
          0.7104957851165752,
          0.3573217229402281,
          -0.2291823167311433,
          -0.9327857588785881,
          0.4182886538671817,
          0.3595264423294789,
          -1.4518879196951953,
          0.42913585006345706,
          -0.24531634584645973,
          -0.20858055715637325,
          0.5412252394452524,
          1.2114891887391812,
          -0.7289768158059919,
          0.8541447400987566,
          -0.15416419392533626,
          -0.23755678836332106,
          -0.7383146250175208,
          0.0015278228595681123,
          0.7343120391478658,
          1.111554372816872,
          -1.0910843831195396,
          0.4379042740525215,
          -0.7472008683801243,
          -0.8386615082724436,
          -0.05488926252080349,
          -0.4482606899422616,
          0.08345299249847316,
          -0.04888466205331976,
          0.9438995972091285,
          0.751620628952311,
          -0.8057673380258115,
          1.09822654857359,
          1.3546472601510813,
          -0.6152314924733052,
          0.09107140915023856,
          -0.9020595743007793,
          0.38664626414323305,
          0.8612665961965019,
          1.3066941015962854,
          1.466048850249657,
          1.363673846271851,
          0.9789555157003926,
          -0.6721787468576093,
          -0.77900240555379,
          -0.4535136853547883,
          0.2830111776725611,
          -0.15313639842332957,
          1.0792771163121728,
          0.6853903839577234,
          1.4840855465826501,
          -0.4662832692709565,
          0.2810326005302457,
          0.09298212662389546,
          0.2909620471059484,
          0.6606091097439564,
          0.6138362970387191,
          -0.3239450421269699,
          -0.4286359678603476,
          1.5189224795684082,
          0.11379113673195415,
          -1.8843384727323467,
          -0.37147596283810497,
          -0.9970024059589547,
          -0.6337785890205332,
          -0.5675431458418394,
          -1.5310296969578752,
          0.33970288665055604,
          -0.0023847475228159507,
          -0.17853025054754992,
          0.6911431151703693,
          -0.5596162826674491,
          -0.5679249111744556,
          -0.6620176456484574,
          0.25505977757093284,
          -0.30235662230240334,
          -0.29893929491796534,
          -0.5365785179388841,
          0.9874988678651438,
          0.17634850164542587,
          -0.14683161799603212,
          -0.021138906699139152,
          0.2865731699739376,
          0.8942850508217434,
          -0.3115139093675977,
          2.204228757417049,
          1.2994247007811033,
          -0.06013901724556787,
          -1.6282944683825626,
          -1.5177347493797986,
          0.4216277443625549,
          -0.31730548389855356,
          0.4575253142257341,
          -0.3214224818624445,
          -0.6567247016279317,
          -0.9644232678894405,
          -1.0864005907103467,
          0.23099105757164065,
          -0.6954333599189476,
          -0.08575980776571707,
          0.7074254247693587,
          0.3427136040508899,
          0.011048244131149508,
          0.6641635843896779,
          -0.24722411136159786,
          0.11853482415145025,
          -0.3013738944479989,
          0.4518929372522068,
          -0.13170597578585808,
          -0.8776492191201308,
          1.1741963144077041,
          0.39186976292339326,
          1.0388920187742445,
          0.8587930681484577,
          0.04783663704795053,
          -0.5376584044237995,
          0.4973692852350806,
          0.41893865859651747,
          -0.4608965696723052,
          -0.2539001321087194,
          -1.4743025985729914,
          -0.5840155168040588,
          0.16328909459562008,
          -0.5090172849843724,
          -1.4059047623283294,
          -0.7746559246367454,
          -1.2527037744942575,
          -0.0190633654507174,
          -1.198330991847093,
          -0.6453378010849873,
          1.7707947371834907,
          0.21777477443322799,
          -0.3735500122888799,
          -1.1890996361188675,
          -0.008179169599403182,
          0.693544323235433,
          -0.8323504106804185,
          0.7177219572209169,
          -1.4998752689531578,
          0.6119282079158146,
          0.7369832523804161,
          -0.06306170010984882,
          0.41574552424096256,
          -0.505192566287794,
          0.4320328527630941,
          -0.6312016842883568,
          -0.4284931272654224,
          0.5719116118984907,
          0.22728128970489428,
          -0.4315827005054375,
          1.7382741693514008,
          -1.6625013851374875,
          -0.18960059969426438,
          1.1934106468471888,
          -0.48068581703878704,
          1.106664792409852,
          -0.29319743147675525,
          -1.284972446124412,
          -0.28849135008629634,
          0.0835535227777545,
          0.1990671625603248,
          -0.4461296009178814,
          -0.7000687608727705,
          0.2858786471914828,
          0.6320474739021351,
          -0.34508006807336805,
          -0.5294390850428992,
          -1.0376344986458086,
          0.47662391729833975,
          -0.1065742566467278,
          -0.9422796822461686,
          -0.40181115168582365,
          -0.5615063153149408,
          0.7722085249487164,
          -0.5963899130398104,
          -0.17903197302766594,
          0.42855045610156123,
          0.3923892534981088,
          0.9557524934910864,
          -1.0391169119468031,
          -0.053736743798652904,
          -0.45667727171813155,
          0.11457198517498242,
          1.3393660827588563,
          -0.37705955274035674,
          -1.2613333041332133,
          0.283516318393478,
          0.13820718014994132,
          -0.7446311990091312,
          -0.44460182044343505,
          -0.18666033745258304,
          -0.27350844286696807,
          -0.8856877902956105,
          -1.5610306753193344,
          -0.4567494764498636,
          -0.18968201480338828,
          -0.5413986566486585,
          -0.13810129677453792,
          0.8936754291967123,
          -1.2512029130098992,
          -0.49152813261180484,
          0.08432746428598416,
          0.5411006721980713,
          -1.6296838408444154,
          0.10633068630038363,
          0.4121343837001895,
          -0.6334239246322969,
          -0.1419856650521291,
          1.5173681181586316,
          -0.39450338363451376,
          0.8768403538391525,
          -1.5953076565783237,
          0.08396351517042938,
          -0.6044222684526148,
          0.1665904277999555,
          0.4797428577379624,
          -0.8399198353230168,
          2.323076793672082,
          0.7883843424691384,
          0.4667116487934747,
          0.6294030017058657,
          -0.4563585316389976,
          0.11480583519354216,
          -0.012496716308003591,
          -0.8526341575176326,
          -0.09307969437706173,
          0.22815242276653322,
          0.49127206020956987,
          0.17339508938362932,
          0.6889944444312929,
          -0.20996945913792356,
          -0.5437458806676299,
          0.9373999174176675,
          -0.8643701296194864,
          1.3093197637931429,
          -1.3500312081373622,
          -0.5654665701389985,
          -0.531551091233079,
          0.23332208109381944,
          -0.8869533592265935,
          -1.2084247258729348,
          1.5872889691693863,
          -0.45594131915741054,
          0.7499898780687424,
          -0.4102398199861964,
          -0.020092119115161896,
          0.20397520032154828,
          -0.5186978256764837,
          0.42398821475700926,
          1.6422293020044487,
          -0.3503289781624436,
          -1.6443041456856253,
          -0.3843407549548345,
          -0.8613126302735074,
          -0.15438345169613077,
          0.3645169784733811,
          -0.22882721603955816,
          1.6443756149035087,
          0.7445009980613834,
          0.4412075885070134,
          0.8351989523379689,
          0.2479115774577669,
          1.0430046463852387,
          -1.1194573790509745,
          0.7168541233208462,
          0.6267103046433471,
          -1.4563852299077682,
          0.49629840211040116,
          1.1892943324631775,
          -0.033721263800202565,
          -0.5854055705177703,
          0.14022354223009514,
          0.8215429049492461,
          -1.5018657062926455,
          -0.26254932868262315,
          0.4630749826203252,
          -0.27089774571661446,
          -0.997039515925657,
          1.7735441057555776,
          0.3591497209685214,
          0.37121993776671636,
          -0.3702210566533741,
          -0.16353095899600387,
          -0.6016035575911656,
          0.15753290436735484,
          0.6279727248311899,
          0.16053043532155897,
          -0.318022502099908,
          -1.1502239896061517,
          0.08448958026155766,
          -0.6757918856265827,
          -1.0411078337037123,
          -0.8340964461797797,
          -1.058131583543299,
          0.4907475376162427,
          -0.18750215526517858,
          0.6289044296694533,
          0.5672523221436605,
          -1.7331723603548603,
          -0.02149490403155588,
          -0.6092549393489102,
          -0.9400743681369633,
          -0.442176203680532,
          -0.9996166424222499,
          1.030160387022565,
          0.689463184789608,
          0.06116616821135354,
          0.5777148889057625,
          -1.1573404062029582,
          1.333774562762403,
          0.03653738342687866,
          0.7140845389910282,
          0.08568047511690313,
          0.8681674772748676,
          -0.37469385733394484,
          1.2373950717076123,
          -0.39109311573014105,
          -1.1045006480401267,
          0.34707623376135194,
          0.2814257044768091,
          0.4084512074519392,
          -0.3155358551133163,
          1.4540488463768704,
          -0.7958661603251775,
          1.1104606690720054,
          -0.43437841527159193,
          0.3411909813101303,
          1.2201476210168725,
          -0.7740099249648925,
          -0.9774945809800873,
          1.5531410845603162,
          1.3942672113742134,
          -1.0038282946180803,
          -1.3105284518908658,
          0.2590547645918567,
          0.2378415917641908,
          0.2511375521893732,
          -0.4860165808419641,
          -0.39071468875388216,
          -0.4563431567208857,
          0.06315124384452285,
          0.8413736980492617
         ],
         "yaxis": "y"
        }
       ],
       "layout": {
        "coloraxis": {
         "colorbar": {
          "title": {
           "text": "hitability"
          }
         },
         "colorscale": [
          [
           0,
           "#0d0887"
          ],
          [
           0.1111111111111111,
           "#46039f"
          ],
          [
           0.2222222222222222,
           "#7201a8"
          ],
          [
           0.3333333333333333,
           "#9c179e"
          ],
          [
           0.4444444444444444,
           "#bd3786"
          ],
          [
           0.5555555555555556,
           "#d8576b"
          ],
          [
           0.6666666666666666,
           "#ed7953"
          ],
          [
           0.7777777777777778,
           "#fb9f3a"
          ],
          [
           0.8888888888888888,
           "#fdca26"
          ],
          [
           1,
           "#f0f921"
          ]
         ]
        },
        "legend": {
         "tracegroupgap": 0
        },
        "template": {
         "data": {
          "bar": [
           {
            "error_x": {
             "color": "#2a3f5f"
            },
            "error_y": {
             "color": "#2a3f5f"
            },
            "marker": {
             "line": {
              "color": "#E5ECF6",
              "width": 0.5
             },
             "pattern": {
              "fillmode": "overlay",
              "size": 10,
              "solidity": 0.2
             }
            },
            "type": "bar"
           }
          ],
          "barpolar": [
           {
            "marker": {
             "line": {
              "color": "#E5ECF6",
              "width": 0.5
             },
             "pattern": {
              "fillmode": "overlay",
              "size": 10,
              "solidity": 0.2
             }
            },
            "type": "barpolar"
           }
          ],
          "carpet": [
           {
            "aaxis": {
             "endlinecolor": "#2a3f5f",
             "gridcolor": "white",
             "linecolor": "white",
             "minorgridcolor": "white",
             "startlinecolor": "#2a3f5f"
            },
            "baxis": {
             "endlinecolor": "#2a3f5f",
             "gridcolor": "white",
             "linecolor": "white",
             "minorgridcolor": "white",
             "startlinecolor": "#2a3f5f"
            },
            "type": "carpet"
           }
          ],
          "choropleth": [
           {
            "colorbar": {
             "outlinewidth": 0,
             "ticks": ""
            },
            "type": "choropleth"
           }
          ],
          "contour": [
           {
            "colorbar": {
             "outlinewidth": 0,
             "ticks": ""
            },
            "colorscale": [
             [
              0,
              "#0d0887"
             ],
             [
              0.1111111111111111,
              "#46039f"
             ],
             [
              0.2222222222222222,
              "#7201a8"
             ],
             [
              0.3333333333333333,
              "#9c179e"
             ],
             [
              0.4444444444444444,
              "#bd3786"
             ],
             [
              0.5555555555555556,
              "#d8576b"
             ],
             [
              0.6666666666666666,
              "#ed7953"
             ],
             [
              0.7777777777777778,
              "#fb9f3a"
             ],
             [
              0.8888888888888888,
              "#fdca26"
             ],
             [
              1,
              "#f0f921"
             ]
            ],
            "type": "contour"
           }
          ],
          "contourcarpet": [
           {
            "colorbar": {
             "outlinewidth": 0,
             "ticks": ""
            },
            "type": "contourcarpet"
           }
          ],
          "heatmap": [
           {
            "colorbar": {
             "outlinewidth": 0,
             "ticks": ""
            },
            "colorscale": [
             [
              0,
              "#0d0887"
             ],
             [
              0.1111111111111111,
              "#46039f"
             ],
             [
              0.2222222222222222,
              "#7201a8"
             ],
             [
              0.3333333333333333,
              "#9c179e"
             ],
             [
              0.4444444444444444,
              "#bd3786"
             ],
             [
              0.5555555555555556,
              "#d8576b"
             ],
             [
              0.6666666666666666,
              "#ed7953"
             ],
             [
              0.7777777777777778,
              "#fb9f3a"
             ],
             [
              0.8888888888888888,
              "#fdca26"
             ],
             [
              1,
              "#f0f921"
             ]
            ],
            "type": "heatmap"
           }
          ],
          "heatmapgl": [
           {
            "colorbar": {
             "outlinewidth": 0,
             "ticks": ""
            },
            "colorscale": [
             [
              0,
              "#0d0887"
             ],
             [
              0.1111111111111111,
              "#46039f"
             ],
             [
              0.2222222222222222,
              "#7201a8"
             ],
             [
              0.3333333333333333,
              "#9c179e"
             ],
             [
              0.4444444444444444,
              "#bd3786"
             ],
             [
              0.5555555555555556,
              "#d8576b"
             ],
             [
              0.6666666666666666,
              "#ed7953"
             ],
             [
              0.7777777777777778,
              "#fb9f3a"
             ],
             [
              0.8888888888888888,
              "#fdca26"
             ],
             [
              1,
              "#f0f921"
             ]
            ],
            "type": "heatmapgl"
           }
          ],
          "histogram": [
           {
            "marker": {
             "pattern": {
              "fillmode": "overlay",
              "size": 10,
              "solidity": 0.2
             }
            },
            "type": "histogram"
           }
          ],
          "histogram2d": [
           {
            "colorbar": {
             "outlinewidth": 0,
             "ticks": ""
            },
            "colorscale": [
             [
              0,
              "#0d0887"
             ],
             [
              0.1111111111111111,
              "#46039f"
             ],
             [
              0.2222222222222222,
              "#7201a8"
             ],
             [
              0.3333333333333333,
              "#9c179e"
             ],
             [
              0.4444444444444444,
              "#bd3786"
             ],
             [
              0.5555555555555556,
              "#d8576b"
             ],
             [
              0.6666666666666666,
              "#ed7953"
             ],
             [
              0.7777777777777778,
              "#fb9f3a"
             ],
             [
              0.8888888888888888,
              "#fdca26"
             ],
             [
              1,
              "#f0f921"
             ]
            ],
            "type": "histogram2d"
           }
          ],
          "histogram2dcontour": [
           {
            "colorbar": {
             "outlinewidth": 0,
             "ticks": ""
            },
            "colorscale": [
             [
              0,
              "#0d0887"
             ],
             [
              0.1111111111111111,
              "#46039f"
             ],
             [
              0.2222222222222222,
              "#7201a8"
             ],
             [
              0.3333333333333333,
              "#9c179e"
             ],
             [
              0.4444444444444444,
              "#bd3786"
             ],
             [
              0.5555555555555556,
              "#d8576b"
             ],
             [
              0.6666666666666666,
              "#ed7953"
             ],
             [
              0.7777777777777778,
              "#fb9f3a"
             ],
             [
              0.8888888888888888,
              "#fdca26"
             ],
             [
              1,
              "#f0f921"
             ]
            ],
            "type": "histogram2dcontour"
           }
          ],
          "mesh3d": [
           {
            "colorbar": {
             "outlinewidth": 0,
             "ticks": ""
            },
            "type": "mesh3d"
           }
          ],
          "parcoords": [
           {
            "line": {
             "colorbar": {
              "outlinewidth": 0,
              "ticks": ""
             }
            },
            "type": "parcoords"
           }
          ],
          "pie": [
           {
            "automargin": true,
            "type": "pie"
           }
          ],
          "scatter": [
           {
            "fillpattern": {
             "fillmode": "overlay",
             "size": 10,
             "solidity": 0.2
            },
            "type": "scatter"
           }
          ],
          "scatter3d": [
           {
            "line": {
             "colorbar": {
              "outlinewidth": 0,
              "ticks": ""
             }
            },
            "marker": {
             "colorbar": {
              "outlinewidth": 0,
              "ticks": ""
             }
            },
            "type": "scatter3d"
           }
          ],
          "scattercarpet": [
           {
            "marker": {
             "colorbar": {
              "outlinewidth": 0,
              "ticks": ""
             }
            },
            "type": "scattercarpet"
           }
          ],
          "scattergeo": [
           {
            "marker": {
             "colorbar": {
              "outlinewidth": 0,
              "ticks": ""
             }
            },
            "type": "scattergeo"
           }
          ],
          "scattergl": [
           {
            "marker": {
             "colorbar": {
              "outlinewidth": 0,
              "ticks": ""
             }
            },
            "type": "scattergl"
           }
          ],
          "scattermapbox": [
           {
            "marker": {
             "colorbar": {
              "outlinewidth": 0,
              "ticks": ""
             }
            },
            "type": "scattermapbox"
           }
          ],
          "scatterpolar": [
           {
            "marker": {
             "colorbar": {
              "outlinewidth": 0,
              "ticks": ""
             }
            },
            "type": "scatterpolar"
           }
          ],
          "scatterpolargl": [
           {
            "marker": {
             "colorbar": {
              "outlinewidth": 0,
              "ticks": ""
             }
            },
            "type": "scatterpolargl"
           }
          ],
          "scatterternary": [
           {
            "marker": {
             "colorbar": {
              "outlinewidth": 0,
              "ticks": ""
             }
            },
            "type": "scatterternary"
           }
          ],
          "surface": [
           {
            "colorbar": {
             "outlinewidth": 0,
             "ticks": ""
            },
            "colorscale": [
             [
              0,
              "#0d0887"
             ],
             [
              0.1111111111111111,
              "#46039f"
             ],
             [
              0.2222222222222222,
              "#7201a8"
             ],
             [
              0.3333333333333333,
              "#9c179e"
             ],
             [
              0.4444444444444444,
              "#bd3786"
             ],
             [
              0.5555555555555556,
              "#d8576b"
             ],
             [
              0.6666666666666666,
              "#ed7953"
             ],
             [
              0.7777777777777778,
              "#fb9f3a"
             ],
             [
              0.8888888888888888,
              "#fdca26"
             ],
             [
              1,
              "#f0f921"
             ]
            ],
            "type": "surface"
           }
          ],
          "table": [
           {
            "cells": {
             "fill": {
              "color": "#EBF0F8"
             },
             "line": {
              "color": "white"
             }
            },
            "header": {
             "fill": {
              "color": "#C8D4E3"
             },
             "line": {
              "color": "white"
             }
            },
            "type": "table"
           }
          ]
         },
         "layout": {
          "annotationdefaults": {
           "arrowcolor": "#2a3f5f",
           "arrowhead": 0,
           "arrowwidth": 1
          },
          "autotypenumbers": "strict",
          "coloraxis": {
           "colorbar": {
            "outlinewidth": 0,
            "ticks": ""
           }
          },
          "colorscale": {
           "diverging": [
            [
             0,
             "#8e0152"
            ],
            [
             0.1,
             "#c51b7d"
            ],
            [
             0.2,
             "#de77ae"
            ],
            [
             0.3,
             "#f1b6da"
            ],
            [
             0.4,
             "#fde0ef"
            ],
            [
             0.5,
             "#f7f7f7"
            ],
            [
             0.6,
             "#e6f5d0"
            ],
            [
             0.7,
             "#b8e186"
            ],
            [
             0.8,
             "#7fbc41"
            ],
            [
             0.9,
             "#4d9221"
            ],
            [
             1,
             "#276419"
            ]
           ],
           "sequential": [
            [
             0,
             "#0d0887"
            ],
            [
             0.1111111111111111,
             "#46039f"
            ],
            [
             0.2222222222222222,
             "#7201a8"
            ],
            [
             0.3333333333333333,
             "#9c179e"
            ],
            [
             0.4444444444444444,
             "#bd3786"
            ],
            [
             0.5555555555555556,
             "#d8576b"
            ],
            [
             0.6666666666666666,
             "#ed7953"
            ],
            [
             0.7777777777777778,
             "#fb9f3a"
            ],
            [
             0.8888888888888888,
             "#fdca26"
            ],
            [
             1,
             "#f0f921"
            ]
           ],
           "sequentialminus": [
            [
             0,
             "#0d0887"
            ],
            [
             0.1111111111111111,
             "#46039f"
            ],
            [
             0.2222222222222222,
             "#7201a8"
            ],
            [
             0.3333333333333333,
             "#9c179e"
            ],
            [
             0.4444444444444444,
             "#bd3786"
            ],
            [
             0.5555555555555556,
             "#d8576b"
            ],
            [
             0.6666666666666666,
             "#ed7953"
            ],
            [
             0.7777777777777778,
             "#fb9f3a"
            ],
            [
             0.8888888888888888,
             "#fdca26"
            ],
            [
             1,
             "#f0f921"
            ]
           ]
          },
          "colorway": [
           "#636efa",
           "#EF553B",
           "#00cc96",
           "#ab63fa",
           "#FFA15A",
           "#19d3f3",
           "#FF6692",
           "#B6E880",
           "#FF97FF",
           "#FECB52"
          ],
          "font": {
           "color": "#2a3f5f"
          },
          "geo": {
           "bgcolor": "white",
           "lakecolor": "white",
           "landcolor": "#E5ECF6",
           "showlakes": true,
           "showland": true,
           "subunitcolor": "white"
          },
          "hoverlabel": {
           "align": "left"
          },
          "hovermode": "closest",
          "mapbox": {
           "style": "light"
          },
          "paper_bgcolor": "white",
          "plot_bgcolor": "#E5ECF6",
          "polar": {
           "angularaxis": {
            "gridcolor": "white",
            "linecolor": "white",
            "ticks": ""
           },
           "bgcolor": "#E5ECF6",
           "radialaxis": {
            "gridcolor": "white",
            "linecolor": "white",
            "ticks": ""
           }
          },
          "scene": {
           "xaxis": {
            "backgroundcolor": "#E5ECF6",
            "gridcolor": "white",
            "gridwidth": 2,
            "linecolor": "white",
            "showbackground": true,
            "ticks": "",
            "zerolinecolor": "white"
           },
           "yaxis": {
            "backgroundcolor": "#E5ECF6",
            "gridcolor": "white",
            "gridwidth": 2,
            "linecolor": "white",
            "showbackground": true,
            "ticks": "",
            "zerolinecolor": "white"
           },
           "zaxis": {
            "backgroundcolor": "#E5ECF6",
            "gridcolor": "white",
            "gridwidth": 2,
            "linecolor": "white",
            "showbackground": true,
            "ticks": "",
            "zerolinecolor": "white"
           }
          },
          "shapedefaults": {
           "line": {
            "color": "#2a3f5f"
           }
          },
          "ternary": {
           "aaxis": {
            "gridcolor": "white",
            "linecolor": "white",
            "ticks": ""
           },
           "baxis": {
            "gridcolor": "white",
            "linecolor": "white",
            "ticks": ""
           },
           "bgcolor": "#E5ECF6",
           "caxis": {
            "gridcolor": "white",
            "linecolor": "white",
            "ticks": ""
           }
          },
          "title": {
           "x": 0.05
          },
          "xaxis": {
           "automargin": true,
           "gridcolor": "white",
           "linecolor": "white",
           "ticks": "",
           "title": {
            "standoff": 15
           },
           "zerolinecolor": "white",
           "zerolinewidth": 2
          },
          "yaxis": {
           "automargin": true,
           "gridcolor": "white",
           "linecolor": "white",
           "ticks": "",
           "title": {
            "standoff": 15
           },
           "zerolinecolor": "white",
           "zerolinewidth": 2
          }
         }
        },
        "title": {
         "text": "Location"
        },
        "xaxis": {
         "anchor": "y",
         "domain": [
          0,
          1
         ],
         "title": {
          "text": "pitch_x"
         }
        },
        "yaxis": {
         "anchor": "x",
         "domain": [
          0,
          1
         ],
         "title": {
          "text": "pitch_y"
         }
        }
       }
      }
     },
     "metadata": {},
     "output_type": "display_data"
    }
   ],
   "source": [
    "\n",
    "pitch_data.show_scatter(\"pitch_x\", \"pitch_y\", \"Location\", color='hitability')"
   ]
  },
  {
   "cell_type": "code",
   "execution_count": null,
   "metadata": {},
   "outputs": [
    {
     "data": {
      "application/vnd.plotly.v1+json": {
       "config": {
        "plotlyServerURL": "https://plot.ly"
       },
       "data": [
        {
         "alignmentgroup": "True",
         "bingroup": "x",
         "hovertemplate": "variable=pitch_x<br>value=%{x}<br>count=%{y}<extra></extra>",
         "legendgroup": "pitch_x",
         "marker": {
          "color": "#636efa",
          "pattern": {
           "shape": ""
          }
         },
         "name": "pitch_x",
         "offsetgroup": "pitch_x",
         "orientation": "v",
         "showlegend": true,
         "type": "histogram",
         "x": [
          -0.14360323081147924,
          0.4295982740620281,
          -1.7292091807790835,
          -0.8695725423819806,
          -0.9908547722044126,
          -0.17948339742222547,
          -0.8137366546821028,
          1.3886275846088711,
          -0.20388741543446348,
          0.1597253173617746,
          -0.730144867964402,
          0.3529119459713095,
          -0.3170556093510758,
          -0.3402418436897245,
          -1.1931168471310358,
          -2.0677367052729325,
          -0.012304948776107402,
          1.7656652332669958,
          -0.1807497628016337,
          -0.8111768798184009,
          -0.1730691790605143,
          -1.3696115881218032,
          -1.006749582938239,
          -0.49514839753508083,
          -0.4572277663798866,
          -1.002343163146043,
          -1.452881593623003,
          -0.7672826244620048,
          -0.4712716733854897,
          0.10992506413234067,
          0.5289296101800638,
          -0.53641629238144,
          1.1557122246350506,
          0.07008003174100678,
          0.24930492457093173,
          0.02816886180795066,
          -0.7190814259474184,
          0.4794126246477086,
          -0.5690379308210761,
          0.71709804687617,
          -0.9423971423278604,
          0.14691715583668621,
          0.7773798650699375,
          -0.4236321601658901,
          0.4402675808419947,
          0.45035739534553143,
          -0.7347316478126498,
          0.9864631065286559,
          0.542106531004374,
          -0.5996638668558433,
          -0.36077812578453905,
          0.7625104886415249,
          0.1376974746093903,
          0.37284715879452407,
          -1.5263599010797289,
          1.2413469736080764,
          -0.21023243595716581,
          -0.30946958918453465,
          -1.5271035695110153,
          -0.5385417176425745,
          0.2034945450787499,
          -0.700331232535073,
          0.4515743686176036,
          -0.3816958868101503,
          1.4910016096524008,
          -0.0314545267568907,
          -0.35796542158262307,
          0.45982400689525044,
          -1.7076721377376205,
          -0.35947164737077136,
          1.2982503968449193,
          1.006115457895109,
          -0.1466397586048765,
          -0.5941786362079162,
          -0.662552899543545,
          -0.6035622475414579,
          0.15813240311745613,
          -1.5532175439689613,
          -0.5764317134832616,
          0.4495773419011115,
          0.40958588436353116,
          0.34512335759295504,
          0.8513875056016666,
          -1.500754302752393,
          0.49482382499105365,
          -0.29915125111588214,
          0.26781719759462613,
          -0.4621154261487267,
          0.7584751856247873,
          0.2011693209609463,
          0.24008379530139387,
          -0.5254727500733667,
          0.707956582515463,
          -0.1415390366960397,
          -1.1521972658238107,
          -0.29067347012015265,
          -0.10835801843551372,
          0.40128019534428405,
          -0.08048039441853938,
          1.3265660573342082,
          -0.1849841845211226,
          -1.0484259964481788,
          0.14472193688409632,
          0.29364269589003317,
          0.29159672732102077,
          0.27677050371024275,
          0.4021382968507036,
          0.23627871076246612,
          -1.1800078987397047,
          0.8143955775219959,
          0.9455860888850243,
          -0.24965002550261634,
          -0.32424055760494197,
          -0.8137909264297665,
          0.18019487798557027,
          0.1963346116098369,
          -0.3506664807523777,
          -0.35481538669987733,
          -0.08290766706840168,
          1.0611361720951857,
          0.771859702225679,
          0.25897960254121516,
          -0.2593428366392152,
          -0.054456814540627396,
          -0.6377933993331544,
          -0.6588568994763307,
          -0.685280372572537,
          -0.007906083127370542,
          -0.32878146783747086,
          -1.1844377959340349,
          -0.92962393795509,
          0.21387394123605225,
          -0.44563061010591365,
          -1.0108161851995607,
          -0.8491761102027657,
          -0.3818563554992109,
          0.519503021702464,
          0.4978627706678207,
          0.5500250519089904,
          -0.26640134307572017,
          -1.416342496168977,
          -0.12933641578938085,
          -1.086704767752365,
          0.10855329813274628,
          0.18641251753426527,
          0.3423686663630379,
          -0.5081143164053926,
          0.5715142824425401,
          -1.009803243461293,
          0.5889869050545881,
          -0.4931440858720467,
          1.6414882832876614,
          -0.24890956216739432,
          -0.5660284850271832,
          1.1618612488396347,
          1.8508167985022357,
          0.7811379214271794,
          0.7929934217051869,
          -0.6666449653674975,
          -0.33021658492221617,
          0.8173434793053134,
          1.6511734149820154,
          -1.485953718891125,
          0.01444860573030915,
          -0.2842093121278845,
          0.06055206764112943,
          -1.1017731078987,
          -0.4055750870519469,
          0.5854522147144632,
          0.059280897459571456,
          -1.6226807213053287,
          -0.5349177423303296,
          -0.39147756868276634,
          -0.03582830919454885,
          -0.5166094917183334,
          -0.15628804669604046,
          0.17564386110421853,
          0.5856940216680631,
          1.47416256636534,
          -0.34515781902332177,
          -0.9286517663045507,
          1.6205974062445345,
          1.0103056795756058,
          -0.17800861815820013,
          0.9772877707273773,
          0.3072872161400007,
          0.9069747848913375,
          -0.8109445889295412,
          -0.8559472933138076,
          1.8192911080874106,
          0.05447312089509865,
          -0.16262383331918595,
          -0.3354269944872799,
          -0.21901378942558067,
          -0.5781223066927236,
          -0.4669199033906948,
          0.3902482506285036,
          2.0615671665114577,
          -0.22359791241743526,
          -0.6189414691341535,
          0.8795383526172746,
          0.5347251701955502,
          0.2936174107072519,
          -0.36753175087597956,
          0.2611958880247761,
          -0.08194467898213151,
          -1.3812270081314526,
          -0.03961897110062717,
          -0.19427728296115618,
          0.1291435776180481,
          1.585306200000126,
          0.03376287045282913,
          -0.06951689708831624,
          0.09742425371096221,
          0.9829780278966583,
          0.08052921072848408,
          1.5387924052629076,
          -1.0089141934895671,
          1.0807870724504558,
          1.4073189944413873,
          -0.41494599434214796,
          -0.4947373292255643,
          -1.0622674440576356,
          2.421505866472129,
          -0.05008978615106617,
          0.40973766404647605,
          0.5032626289544212,
          -0.016571042477006734,
          -0.4402657332320051,
          -0.06638167582174555,
          -0.7213609730871885,
          0.5879216081268894,
          -0.09850079623606843,
          0.09358493438065496,
          1.2506238969192733,
          -0.5067056699957032,
          0.5739739820266967,
          -0.6997979140715281,
          -1.0435810665181888,
          0.20464578492671953,
          -0.5802016994763125,
          0.23608456387720497,
          -1.2343869727803494,
          -2.1410672599178735,
          0.09997592423670162,
          0.2971623258791733,
          1.4241329707496873,
          1.1302578582052059,
          -0.06182844936784597,
          0.7641427797882195,
          -0.8604778116857444,
          -0.751805828728083,
          0.9554787064149242,
          1.283880330943204,
          0.3735349020568934,
          0.2557904103975599,
          0.46474562808705056,
          0.967595415124857,
          0.8014785213476945,
          1.304642997029949,
          0.9180719378634603,
          1.1481559413503686,
          0.0779457199590984,
          0.1795492550349347,
          1.4287661362596424,
          -0.06855800923389281,
          -0.26579804073053087,
          1.4419044968413481,
          0.8449730684422043,
          -0.18003105093716318,
          0.36247802108014865,
          0.7288151117491909,
          -0.42843515093530526,
          0.8256718062565686,
          -2.259837650486543,
          -0.0074860732510108555,
          -0.46931430167024735,
          -0.13246912991200674,
          1.440966774815198,
          0.030071266199167595,
          -0.2315435589988043,
          -0.4957654829589092,
          -0.3321513590654572,
          -0.7380696156559963,
          -1.01338521866428,
          -0.6386061766188877,
          -0.5758776798159663,
          0.43308258691500534,
          0.2198925251187106,
          -0.00817168266688576,
          0.2902515241477967,
          -0.051643150066248894,
          0.8778223804401859,
          1.2321915405293336,
          -0.24675229814518024,
          0.13374321773800613,
          0.2465578812656281,
          -1.3010614702521945,
          0.16481688862873817,
          0.6193276561609787,
          0.6775531792921861,
          0.026683051942356,
          -0.2938289526695673,
          -0.2348121289714038,
          -0.07677340513588628,
          -0.9891247952196791,
          0.22454250378823917,
          0.9844947728370892,
          0.9297767415579484,
          -0.0049591334461900624,
          0.21258605436632563,
          0.10903873542769194,
          -0.7194034289502738,
          -0.8383673091563566,
          0.9532142551371626,
          0.9487276926607147,
          0.912316266811434,
          -0.5883661543200094,
          0.8665962841073757,
          -0.8158010113586427,
          1.3950133431285405,
          -0.3626122164944486,
          0.4724787987660039,
          -0.6304362602151067,
          1.7541556592420051,
          -1.3166182266972317,
          -0.4500883062189465,
          0.6089031171054162,
          -0.06932747414168502,
          1.339170524333308,
          -0.865847892432019,
          0.36761128638565893,
          -0.2664827689653275,
          0.5524238211599113,
          0.4148983602186848,
          0.53160169482982,
          -0.9241912567946042,
          -0.3845549148816049,
          -0.5733447262794197,
          -0.4657412445842162,
          0.2860846046057515,
          0.739345285034497,
          0.9983897811560244,
          0.7219753845139635,
          0.2926979904518716,
          0.45414198089054997,
          0.3091842561927609,
          0.5523396982281227,
          -0.03431698360317311,
          -0.5694443196911397,
          -0.7265820991792444,
          -0.12542650294312369,
          -0.5831939383309164,
          0.8219721913734875,
          -0.26788862813996733,
          -0.16761699195949228,
          0.31517672769921606,
          0.5585028566992849,
          0.8972995002513524,
          0.3978173504831873,
          -1.5370920992118609,
          1.4998660603165617,
          0.8749080011371804,
          1.5307162882521304,
          0.07219754579503797,
          0.017127549221005497,
          0.5710666939618874,
          -0.09962104274879811,
          -0.2866696268889265,
          -1.5013292180056221,
          -1.0630527527059321,
          1.1311477738133782,
          0.6011041141011977,
          -0.6870364638455562,
          1.6409022465750676,
          -0.016648976499218,
          0.5526432915687853,
          0.3642720450488421,
          0.4150551737789303,
          0.4584351225046668,
          -0.5996997355578437,
          0.003489367887465438,
          -0.539937422173684,
          -0.15069502126564846,
          1.6954307999619551,
          0.18897630298280196,
          -0.07510787434179601,
          -0.3137124938035088,
          -0.8419827040276828,
          1.3940510203055874,
          -0.07896576127474055,
          -0.6690346190082171,
          -0.08190439382127314,
          -0.6284886490228679,
          0.47669682975972605,
          -0.0640269123868941,
          0.8631064127161122,
          -1.6234695795097387,
          -0.5638175408674643,
          -0.6802921247825898,
          1.5998947150801957,
          -0.03749566842786551,
          -0.4562759935562718,
          0.2672960233969435,
          0.18514562106063914,
          1.0767247673905587,
          -1.635458801743772,
          0.01923426046307868,
          -2.253121013265878,
          0.23953473151800933,
          1.4985015599128142,
          -0.43201673635148624,
          -0.4619662154832048,
          0.443681184194,
          0.48931235709811904,
          0.02808027262792789,
          -0.8496918440030997,
          -0.3954589041642457,
          -0.29732161335443574,
          -0.34051505573319807,
          -0.09813822501334375,
          -0.6358577096333087,
          2.5985199403051005,
          0.17554170500985145,
          -1.3665147998761766,
          -0.019586790657980822,
          0.9563724946176837,
          0.7559126193401469,
          0.5555732180535815,
          1.1115986884462696,
          -1.2654076798023584,
          0.5819117949899847,
          -1.1143136992299683,
          -1.8298983478340998,
          0.347309753161971,
          -0.08150134552575757,
          -0.5072721888238829,
          0.5346686262690985,
          -1.1301320390762566,
          0.8780355736076324,
          -0.6789038705608469,
          1.3397211098191357,
          -0.5421006635667068,
          0.951219795831631,
          -0.7555426717905832,
          0.5266261556927767,
          0.6190488705054493,
          0.4171405643083799,
          -0.0860528798968585,
          0.013230381178686983,
          0.20225663849428827,
          0.1693486129452796,
          -0.18243774690899633,
          -0.41949853580468743,
          0.5151216926474522,
          -1.2834442676732614,
          -0.5149579578556726,
          -0.16709659716693587,
          -0.5992882430882513,
          -1.0598138292191652,
          -0.3409916309418933,
          -0.034080411721369226,
          0.3548438541912914,
          0.9076382274855389,
          -0.16535411707322817,
          0.5959375148273297,
          0.6523035226354926,
          0.3059178877866529,
          -0.7207523392842906,
          -0.5604381990172124,
          -0.060533806062301534,
          1.4386609656917675,
          1.3017153780050243,
          0.4555310504534492,
          0.1973877840689504,
          1.1716117676730555,
          -1.755758209054867,
          0.25463356475412063,
          -0.4177392068111912,
          -0.35229860498409765,
          -0.3450098992153369,
          0.6699839418792616,
          0.3000853088539492,
          0.23901599493737347,
          -0.7591797125721245,
          1.1547898018244942,
          -0.36911244936821547,
          -0.7098139681873337,
          -0.9637813662367456,
          1.1622752976316275,
          0.5164933681536485,
          0.02564910446062505,
          -0.3138000501562743,
          1.484331630453186,
          -0.6257710722605861,
          -1.2723647728311793,
          -0.4515020304838523,
          -0.5792028761894705,
          -0.07917303602332461,
          0.9803209003257658,
          1.4449092557297336,
          0.5213045814668296,
          0.7079507439393599,
          0.13865750362873483,
          -1.0788139583182725,
          -0.255800682101895,
          1.3488903737860969,
          0.759712186534683,
          0.7791357475988362,
          -0.35948756074643695,
          0.2813728791146611,
          0.7482878012791465,
          -0.03444205006361834,
          0.49695624202174254,
          -0.15750247337241044,
          -0.0074161825606900095,
          0.16830032737512376,
          -1.3448857104010554,
          -0.6628826606491739,
          0.043891464552211955,
          0.1494093606564909,
          0.8613591062422736,
          0.2683341795782892,
          1.436220451678888,
          0.81197063319024,
          -0.4986457256452106,
          0.9069981999590844,
          -0.2084518577782019,
          -0.2553632767185992,
          -1.4196461073553903,
          -1.5024343762382726,
          -0.5507623275889278,
          -2.069130229160743,
          0.7002509595731474,
          -0.6845215194246088,
          0.02881479252250782,
          0.7925881961722507,
          -0.30476547249143554,
          1.2430214800806132,
          1.064194601796426,
          -0.020040284850689073,
          0.6052192491445922,
          0.10214114584938362,
          -0.6532165316788496,
          -0.12332867596918402,
          -0.5271956254652753,
          0.20220706483537662,
          0.8443421174961573,
          -0.5809487673382507,
          -0.21211742404106346,
          0.780198592182238,
          -0.6018099787602925,
          -0.052233898549936014,
          -0.6592009561327521,
          0.8597609818350184,
          1.6105743096289695,
          0.5405180932940001,
          0.9248430265870661,
          -0.5271444387104381,
          -0.9840800251258107,
          -0.78070535112028,
          -0.5828157197194234,
          0.6598248238670644,
          -1.895796120711097,
          0.5295884436067585,
          0.15549424830608966,
          0.7981195981511484,
          -0.6398963005192877,
          -0.009038761872872217,
          1.7362907516692554,
          0.11103535032524521,
          -0.48782564175902043,
          -0.4166353926868285,
          -0.4591208174689605,
          0.3033887856408069,
          -0.035410996903468904,
          -0.15588638731056592,
          -0.31768764280890444,
          -0.5009920229175785,
          -0.4019604524747285,
          0.21959225904113502,
          -1.050765863573587,
          -1.0666106040351349,
          0.06377900938416085,
          0.14517926226514125,
          1.656151888035923,
          -0.19430077882599148,
          -1.2488376066177884,
          1.1608321312664156,
          0.3285416324289947,
          -0.06040489960168563,
          -0.0899416761042841,
          0.7338110893192344,
          -0.9727728867440476,
          -0.6907241227256898,
          0.3574231075920557,
          -0.034231970389303895,
          -0.6325889815137186,
          0.6844820162040967,
          0.719750368798315,
          -0.8198102470118062,
          1.313082407474391,
          0.05023237412441482,
          0.1777027359431071,
          1.2125841547549612,
          -1.3285933582488156,
          1.101726214685274,
          0.49330809137449017,
          -0.9156315628595714,
          0.20640959948259377,
          0.9959812157082002,
          0.08112851823887245,
          -0.5049375500749888,
          0.8596660938727662,
          -0.16038129547942273,
          -0.5146309653328783,
          -0.3467084321383526,
          0.4722279161146718,
          -0.09657825074494175,
          -0.7980181810739163,
          -0.322103277595118,
          0.45452713641525466,
          0.07244269897750225,
          0.6765738117851497,
          0.2615038487963832,
          1.2382138124399722,
          -0.5990044011652625,
          -0.2897276994462737,
          0.5172490049237066,
          -0.7156545695011044,
          -0.05112216478048646,
          -0.8170732541053216,
          -1.8649710585988808,
          0.7078842000335286,
          0.27975546985125727,
          0.862964202744346,
          0.24054890868645543,
          0.7176760579128013,
          0.16325270043109044,
          1.598061969989777,
          -0.7333616376199725,
          0.29264483031751554,
          0.26649771582010606,
          -1.3388508054050838,
          -1.2923570521194048,
          -0.4758246866409914,
          -0.07253116359642328,
          1.0799476691382406,
          0.5425804527305957,
          1.9367014944229552,
          -0.010760840679773218,
          0.010254611452996604,
          -1.3195546479999876,
          1.5113909825292828,
          -0.07947879028978766,
          1.1135925057510014,
          1.68043894971799,
          0.5088866434296837,
          -0.0019291213673222488,
          -1.4864603777220404,
          0.5104395861353453,
          0.9722533278155774,
          1.369891571634806,
          0.34001765079971397,
          0.501445342963237,
          0.4470813099847417,
          0.5895534669385154,
          -1.0157228736956783,
          1.1698694493213828,
          -0.4133856726766254,
          0.5233902367862394,
          -0.5161536437178396,
          1.20687548058157,
          -0.7912041452163809,
          -0.12619017019611364,
          0.7766546548080902,
          -0.45959516358152364,
          -1.2643164138887562,
          -0.8891787962038171,
          -0.0709553665431455,
          0.536640710332886,
          0.21674349790014352,
          0.18772155532177393,
          -0.7764131863509054,
          -0.951206591657155,
          -0.8585091316375398,
          -0.1213174267192077,
          -0.10115482180369696,
          1.3824561635943389,
          -0.5134918029715763,
          -0.4209519934842995,
          0.6335301924942879,
          -0.9869286829532702,
          -1.1104430415176407,
          -0.5572828670051625,
          -0.005986263037921176,
          -1.8041186911915554,
          0.20110719522419118,
          -0.10678595638786863,
          0.8841578577012185,
          -0.5332485939980351,
          0.03563345071133169,
          -1.945626474052319,
          -0.24979911179965458,
          -0.05272996389429283,
          1.3020644407725404,
          0.9920132873695212,
          0.4529283342137822,
          -1.403913046021709,
          -0.3681040173445486,
          -0.539329565059892,
          0.30252406085452327,
          1.2408191396155641,
          -0.3833289660590646,
          -0.3820291693279637,
          -0.0302428197642696,
          -0.8666331973550033,
          -0.5490248150391418,
          -0.226799825440088,
          1.293277956757119,
          -0.5648061806819951,
          -0.009166010794132476,
          -0.09457689129654591,
          0.42602807596207304,
          0.4858273800237993,
          0.1953231693993205,
          -0.17382545164046734,
          0.3969973495748647,
          -1.0378412377382464,
          0.7305933307072202,
          0.8946772302946833,
          0.08734095827822148,
          -0.6249289181405284,
          -2.3944688880486926,
          0.6259737418025402,
          -0.6813215650930999,
          0.12843478050158866,
          0.329892501648682,
          0.5318908989864896,
          -0.5437057285543532,
          -0.6134323757226021,
          -0.8388855463069547,
          0.9965174374940141,
          -0.9805768703345558,
          -0.27386456946095267,
          -0.013346679280216326,
          -0.5043084693590276,
          0.2531888358673787,
          0.6169866633652784,
          -1.695504835472946,
          -0.1576969982540151,
          -0.097914241050805,
          0.1511159187738256,
          -0.8216714787278625,
          1.118973714246269,
          1.4463312466152956,
          0.9731469912063639,
          -1.24880809526538,
          0.3501127707063936,
          1.7956907938997,
          0.9664848071168984,
          1.0340778658976253,
          -0.8602940583166898,
          0.4305149219418476,
          0.1880441930755414,
          -2.0526070247594967,
          0.2835815209928931,
          1.0768939394771733,
          0.9483385050761652,
          0.5603983226929811,
          0.04737086625167637,
          -0.21756047065136894,
          1.164028670309738,
          -0.4164381469130811,
          1.3891299907695287,
          0.6552529513696645,
          -0.23400433515154345,
          -0.05614338350233657,
          -0.2099441742828256,
          -0.7109266094327027,
          1.2259805850059964,
          -1.2624870525823892,
          0.1800285935278298,
          0.1736853025008978,
          -0.28385477869695874,
          0.7329600274844482,
          1.231171726810433,
          -1.0153473960799535,
          0.6510667216966144,
          -0.2661168577399036,
          0.18476511151244993,
          0.03856380049334199,
          -1.0099976708341807,
          0.11348698424593265,
          1.417508375199758,
          -0.24872653554593235,
          0.5612207227289157,
          -1.208881085530638,
          1.6725246311715134,
          -1.0253475295123295,
          -0.6606553237435016,
          -0.9283341329843716,
          0.15490361111859777,
          -0.14050514523971377,
          0.27022347680938874,
          -0.7333914885220132,
          0.7312950485092748,
          -0.33406446112100996,
          -0.28645113554267027,
          0.012901664017194111,
          -0.6145254094205058,
          0.26054069425345966,
          -0.8706302018588277,
          0.14752031196706705,
          -0.5564305621960391,
          0.624894820287551,
          0.07754400859876627,
          -1.5115362724550623,
          0.4254397428918813,
          -0.0939726582874909,
          0.13334075380105553,
          0.0985121037481993,
          1.0708071063624913,
          -0.9724664467177593,
          0.5366344968821257,
          -1.0465478611495342,
          -1.385772246757034,
          -0.6725480570652725,
          -0.2700702907584554,
          -2.130965229264217,
          0.5107655279187944,
          -0.009709746486538093,
          0.3647494836453259,
          -0.17703613394672116,
          -0.45969243293941464,
          -0.2982695217530807,
          -0.5269932529163875,
          -0.7157477236639723,
          0.8138134392588539,
          -0.25477565384775674,
          0.016249581179264727,
          0.48257003511931207,
          -0.2812455269613789,
          0.5717151107820762,
          -0.8406374521060552,
          0.877374327156535,
          -0.9971238014756876,
          0.3213540665560888,
          -0.6961460951116947,
          -0.04443453160979535,
          0.0878735940193308,
          1.1276443863730072,
          -0.3769125948920183,
          0.7502017040834381,
          0.8270472840725122,
          0.0861647333093953,
          0.1285824782060166,
          0.38696074389651886,
          1.0203304828449817,
          0.1254548600246143,
          -1.159280266790966,
          1.0036362485690595,
          0.02927481731725292,
          -0.2223680584556568,
          -0.025708307125350698,
          1.1107429092843448,
          0.060627131934992695,
          -1.3297578642619594,
          -1.1388591505849102,
          0.32091475538492714,
          1.501777876032821,
          -1.424906332738471,
          0.6650841481680875,
          -0.26652995608946506,
          0.25294740434134727,
          0.34511797185803206,
          0.30343691340457757,
          -0.4941921105774346,
          0.8919925228006644,
          0.6058925233243296,
          0.25437708144579174,
          1.4752476178466267,
          0.3167246624615472,
          1.0527405413724413,
          -0.4159570549686236,
          1.0537958178948983,
          0.018675419647004633,
          -0.9305272192983397,
          1.9425862496228676,
          0.4111631225449719,
          1.0505241842859032,
          -1.5710104937024434,
          -0.166337161227416,
          0.6176056153160244,
          -0.08290835052195827,
          0.943352371009083,
          0.5840645485718751,
          -0.18339644810493513,
          0.027168005326510213,
          1.5115728848070649,
          -3.166162214227087,
          -0.12314574992290316,
          -0.9212244017892266,
          0.41920741906239173,
          -0.47367583969914406,
          -0.6293660070349105,
          0.16367638665265524,
          -0.462447182210428,
          -0.38411215054403075,
          0.31472378434851267,
          1.044913534995313,
          -0.19823913238497104,
          0.23029959350679458,
          -0.46427166534042225,
          0.3811517419710551,
          -0.5241178501517904,
          0.15021180114987223,
          -1.2892066431836442,
          0.16774780014094356,
          -0.5220996791729815,
          0.6852448560012073,
          1.4720734052971318,
          0.5598861462082639,
          1.4716689409357846,
          -0.5902369290427986,
          0.17297643273906382,
          -0.8527429517404409,
          0.48777765022770747,
          0.13201745231063447,
          0.47238100835881874,
          -0.2667564006011674,
          0.5371452271209459,
          -0.6899548956309297,
          0.8331317664964516,
          -0.14902714771069056,
          0.8070505236673946,
          0.40672594972185594,
          0.0888926020325686,
          0.21623378438762647,
          0.2389736392484267,
          0.011160757977718913,
          1.492160797065221,
          0.8675839942312202,
          0.0393096917787751,
          -0.15481698342146888,
          0.9817081919985302,
          0.30102770242369475,
          -0.2430383751956778,
          0.31458695238794065,
          0.7153207352353723,
          -0.6286780305561596,
          1.7191159357643278,
          -0.3227741007130686,
          -0.16135098797009098,
          -1.0618785816424965,
          1.597433218790321,
          -0.27378607645876896,
          0.09978800520628882,
          -0.325709741839067,
          0.47945596283723024,
          -0.6294622848087895,
          -0.7672283173247068,
          -0.7465602103087261,
          -1.1888881969219312,
          -0.44957302597721044,
          0.07119938398164455,
          0.3920470317963984,
          0.06696995921187028,
          -0.7475483660327439,
          0.6672871613169798,
          -0.7502002194564681,
          -0.23375194614483105,
          1.7717574220344945,
          1.1094428113027448,
          -0.532728274865687,
          -0.017156317581444525,
          -0.031208968927490165,
          0.05868639323461815,
          -1.3084374254231625,
          0.1952029126352127,
          -0.7916889866247726,
          -0.6662988523534853,
          1.235644272947161,
          -1.4418441669138264,
          0.008957803529084426,
          0.49232404593946816,
          -0.14115200497373312,
          0.9336838827106474,
          0.6086368105392508,
          0.60351698523243,
          -0.7798418617280867,
          0.44435182299803677,
          -0.163125532782262,
          -0.13892245372160883,
          -0.2972079885965227,
          0.34950262416852595,
          -1.0425556433147467,
          -0.2443592272741101,
          0.05533628089784818,
          -0.17052300947931676
         ],
         "xaxis": "x",
         "yaxis": "y"
        }
       ],
       "layout": {
        "barmode": "relative",
        "legend": {
         "title": {
          "text": "variable"
         },
         "tracegroupgap": 0
        },
        "template": {
         "data": {
          "bar": [
           {
            "error_x": {
             "color": "#2a3f5f"
            },
            "error_y": {
             "color": "#2a3f5f"
            },
            "marker": {
             "line": {
              "color": "#E5ECF6",
              "width": 0.5
             },
             "pattern": {
              "fillmode": "overlay",
              "size": 10,
              "solidity": 0.2
             }
            },
            "type": "bar"
           }
          ],
          "barpolar": [
           {
            "marker": {
             "line": {
              "color": "#E5ECF6",
              "width": 0.5
             },
             "pattern": {
              "fillmode": "overlay",
              "size": 10,
              "solidity": 0.2
             }
            },
            "type": "barpolar"
           }
          ],
          "carpet": [
           {
            "aaxis": {
             "endlinecolor": "#2a3f5f",
             "gridcolor": "white",
             "linecolor": "white",
             "minorgridcolor": "white",
             "startlinecolor": "#2a3f5f"
            },
            "baxis": {
             "endlinecolor": "#2a3f5f",
             "gridcolor": "white",
             "linecolor": "white",
             "minorgridcolor": "white",
             "startlinecolor": "#2a3f5f"
            },
            "type": "carpet"
           }
          ],
          "choropleth": [
           {
            "colorbar": {
             "outlinewidth": 0,
             "ticks": ""
            },
            "type": "choropleth"
           }
          ],
          "contour": [
           {
            "colorbar": {
             "outlinewidth": 0,
             "ticks": ""
            },
            "colorscale": [
             [
              0,
              "#0d0887"
             ],
             [
              0.1111111111111111,
              "#46039f"
             ],
             [
              0.2222222222222222,
              "#7201a8"
             ],
             [
              0.3333333333333333,
              "#9c179e"
             ],
             [
              0.4444444444444444,
              "#bd3786"
             ],
             [
              0.5555555555555556,
              "#d8576b"
             ],
             [
              0.6666666666666666,
              "#ed7953"
             ],
             [
              0.7777777777777778,
              "#fb9f3a"
             ],
             [
              0.8888888888888888,
              "#fdca26"
             ],
             [
              1,
              "#f0f921"
             ]
            ],
            "type": "contour"
           }
          ],
          "contourcarpet": [
           {
            "colorbar": {
             "outlinewidth": 0,
             "ticks": ""
            },
            "type": "contourcarpet"
           }
          ],
          "heatmap": [
           {
            "colorbar": {
             "outlinewidth": 0,
             "ticks": ""
            },
            "colorscale": [
             [
              0,
              "#0d0887"
             ],
             [
              0.1111111111111111,
              "#46039f"
             ],
             [
              0.2222222222222222,
              "#7201a8"
             ],
             [
              0.3333333333333333,
              "#9c179e"
             ],
             [
              0.4444444444444444,
              "#bd3786"
             ],
             [
              0.5555555555555556,
              "#d8576b"
             ],
             [
              0.6666666666666666,
              "#ed7953"
             ],
             [
              0.7777777777777778,
              "#fb9f3a"
             ],
             [
              0.8888888888888888,
              "#fdca26"
             ],
             [
              1,
              "#f0f921"
             ]
            ],
            "type": "heatmap"
           }
          ],
          "heatmapgl": [
           {
            "colorbar": {
             "outlinewidth": 0,
             "ticks": ""
            },
            "colorscale": [
             [
              0,
              "#0d0887"
             ],
             [
              0.1111111111111111,
              "#46039f"
             ],
             [
              0.2222222222222222,
              "#7201a8"
             ],
             [
              0.3333333333333333,
              "#9c179e"
             ],
             [
              0.4444444444444444,
              "#bd3786"
             ],
             [
              0.5555555555555556,
              "#d8576b"
             ],
             [
              0.6666666666666666,
              "#ed7953"
             ],
             [
              0.7777777777777778,
              "#fb9f3a"
             ],
             [
              0.8888888888888888,
              "#fdca26"
             ],
             [
              1,
              "#f0f921"
             ]
            ],
            "type": "heatmapgl"
           }
          ],
          "histogram": [
           {
            "marker": {
             "pattern": {
              "fillmode": "overlay",
              "size": 10,
              "solidity": 0.2
             }
            },
            "type": "histogram"
           }
          ],
          "histogram2d": [
           {
            "colorbar": {
             "outlinewidth": 0,
             "ticks": ""
            },
            "colorscale": [
             [
              0,
              "#0d0887"
             ],
             [
              0.1111111111111111,
              "#46039f"
             ],
             [
              0.2222222222222222,
              "#7201a8"
             ],
             [
              0.3333333333333333,
              "#9c179e"
             ],
             [
              0.4444444444444444,
              "#bd3786"
             ],
             [
              0.5555555555555556,
              "#d8576b"
             ],
             [
              0.6666666666666666,
              "#ed7953"
             ],
             [
              0.7777777777777778,
              "#fb9f3a"
             ],
             [
              0.8888888888888888,
              "#fdca26"
             ],
             [
              1,
              "#f0f921"
             ]
            ],
            "type": "histogram2d"
           }
          ],
          "histogram2dcontour": [
           {
            "colorbar": {
             "outlinewidth": 0,
             "ticks": ""
            },
            "colorscale": [
             [
              0,
              "#0d0887"
             ],
             [
              0.1111111111111111,
              "#46039f"
             ],
             [
              0.2222222222222222,
              "#7201a8"
             ],
             [
              0.3333333333333333,
              "#9c179e"
             ],
             [
              0.4444444444444444,
              "#bd3786"
             ],
             [
              0.5555555555555556,
              "#d8576b"
             ],
             [
              0.6666666666666666,
              "#ed7953"
             ],
             [
              0.7777777777777778,
              "#fb9f3a"
             ],
             [
              0.8888888888888888,
              "#fdca26"
             ],
             [
              1,
              "#f0f921"
             ]
            ],
            "type": "histogram2dcontour"
           }
          ],
          "mesh3d": [
           {
            "colorbar": {
             "outlinewidth": 0,
             "ticks": ""
            },
            "type": "mesh3d"
           }
          ],
          "parcoords": [
           {
            "line": {
             "colorbar": {
              "outlinewidth": 0,
              "ticks": ""
             }
            },
            "type": "parcoords"
           }
          ],
          "pie": [
           {
            "automargin": true,
            "type": "pie"
           }
          ],
          "scatter": [
           {
            "fillpattern": {
             "fillmode": "overlay",
             "size": 10,
             "solidity": 0.2
            },
            "type": "scatter"
           }
          ],
          "scatter3d": [
           {
            "line": {
             "colorbar": {
              "outlinewidth": 0,
              "ticks": ""
             }
            },
            "marker": {
             "colorbar": {
              "outlinewidth": 0,
              "ticks": ""
             }
            },
            "type": "scatter3d"
           }
          ],
          "scattercarpet": [
           {
            "marker": {
             "colorbar": {
              "outlinewidth": 0,
              "ticks": ""
             }
            },
            "type": "scattercarpet"
           }
          ],
          "scattergeo": [
           {
            "marker": {
             "colorbar": {
              "outlinewidth": 0,
              "ticks": ""
             }
            },
            "type": "scattergeo"
           }
          ],
          "scattergl": [
           {
            "marker": {
             "colorbar": {
              "outlinewidth": 0,
              "ticks": ""
             }
            },
            "type": "scattergl"
           }
          ],
          "scattermapbox": [
           {
            "marker": {
             "colorbar": {
              "outlinewidth": 0,
              "ticks": ""
             }
            },
            "type": "scattermapbox"
           }
          ],
          "scatterpolar": [
           {
            "marker": {
             "colorbar": {
              "outlinewidth": 0,
              "ticks": ""
             }
            },
            "type": "scatterpolar"
           }
          ],
          "scatterpolargl": [
           {
            "marker": {
             "colorbar": {
              "outlinewidth": 0,
              "ticks": ""
             }
            },
            "type": "scatterpolargl"
           }
          ],
          "scatterternary": [
           {
            "marker": {
             "colorbar": {
              "outlinewidth": 0,
              "ticks": ""
             }
            },
            "type": "scatterternary"
           }
          ],
          "surface": [
           {
            "colorbar": {
             "outlinewidth": 0,
             "ticks": ""
            },
            "colorscale": [
             [
              0,
              "#0d0887"
             ],
             [
              0.1111111111111111,
              "#46039f"
             ],
             [
              0.2222222222222222,
              "#7201a8"
             ],
             [
              0.3333333333333333,
              "#9c179e"
             ],
             [
              0.4444444444444444,
              "#bd3786"
             ],
             [
              0.5555555555555556,
              "#d8576b"
             ],
             [
              0.6666666666666666,
              "#ed7953"
             ],
             [
              0.7777777777777778,
              "#fb9f3a"
             ],
             [
              0.8888888888888888,
              "#fdca26"
             ],
             [
              1,
              "#f0f921"
             ]
            ],
            "type": "surface"
           }
          ],
          "table": [
           {
            "cells": {
             "fill": {
              "color": "#EBF0F8"
             },
             "line": {
              "color": "white"
             }
            },
            "header": {
             "fill": {
              "color": "#C8D4E3"
             },
             "line": {
              "color": "white"
             }
            },
            "type": "table"
           }
          ]
         },
         "layout": {
          "annotationdefaults": {
           "arrowcolor": "#2a3f5f",
           "arrowhead": 0,
           "arrowwidth": 1
          },
          "autotypenumbers": "strict",
          "coloraxis": {
           "colorbar": {
            "outlinewidth": 0,
            "ticks": ""
           }
          },
          "colorscale": {
           "diverging": [
            [
             0,
             "#8e0152"
            ],
            [
             0.1,
             "#c51b7d"
            ],
            [
             0.2,
             "#de77ae"
            ],
            [
             0.3,
             "#f1b6da"
            ],
            [
             0.4,
             "#fde0ef"
            ],
            [
             0.5,
             "#f7f7f7"
            ],
            [
             0.6,
             "#e6f5d0"
            ],
            [
             0.7,
             "#b8e186"
            ],
            [
             0.8,
             "#7fbc41"
            ],
            [
             0.9,
             "#4d9221"
            ],
            [
             1,
             "#276419"
            ]
           ],
           "sequential": [
            [
             0,
             "#0d0887"
            ],
            [
             0.1111111111111111,
             "#46039f"
            ],
            [
             0.2222222222222222,
             "#7201a8"
            ],
            [
             0.3333333333333333,
             "#9c179e"
            ],
            [
             0.4444444444444444,
             "#bd3786"
            ],
            [
             0.5555555555555556,
             "#d8576b"
            ],
            [
             0.6666666666666666,
             "#ed7953"
            ],
            [
             0.7777777777777778,
             "#fb9f3a"
            ],
            [
             0.8888888888888888,
             "#fdca26"
            ],
            [
             1,
             "#f0f921"
            ]
           ],
           "sequentialminus": [
            [
             0,
             "#0d0887"
            ],
            [
             0.1111111111111111,
             "#46039f"
            ],
            [
             0.2222222222222222,
             "#7201a8"
            ],
            [
             0.3333333333333333,
             "#9c179e"
            ],
            [
             0.4444444444444444,
             "#bd3786"
            ],
            [
             0.5555555555555556,
             "#d8576b"
            ],
            [
             0.6666666666666666,
             "#ed7953"
            ],
            [
             0.7777777777777778,
             "#fb9f3a"
            ],
            [
             0.8888888888888888,
             "#fdca26"
            ],
            [
             1,
             "#f0f921"
            ]
           ]
          },
          "colorway": [
           "#636efa",
           "#EF553B",
           "#00cc96",
           "#ab63fa",
           "#FFA15A",
           "#19d3f3",
           "#FF6692",
           "#B6E880",
           "#FF97FF",
           "#FECB52"
          ],
          "font": {
           "color": "#2a3f5f"
          },
          "geo": {
           "bgcolor": "white",
           "lakecolor": "white",
           "landcolor": "#E5ECF6",
           "showlakes": true,
           "showland": true,
           "subunitcolor": "white"
          },
          "hoverlabel": {
           "align": "left"
          },
          "hovermode": "closest",
          "mapbox": {
           "style": "light"
          },
          "paper_bgcolor": "white",
          "plot_bgcolor": "#E5ECF6",
          "polar": {
           "angularaxis": {
            "gridcolor": "white",
            "linecolor": "white",
            "ticks": ""
           },
           "bgcolor": "#E5ECF6",
           "radialaxis": {
            "gridcolor": "white",
            "linecolor": "white",
            "ticks": ""
           }
          },
          "scene": {
           "xaxis": {
            "backgroundcolor": "#E5ECF6",
            "gridcolor": "white",
            "gridwidth": 2,
            "linecolor": "white",
            "showbackground": true,
            "ticks": "",
            "zerolinecolor": "white"
           },
           "yaxis": {
            "backgroundcolor": "#E5ECF6",
            "gridcolor": "white",
            "gridwidth": 2,
            "linecolor": "white",
            "showbackground": true,
            "ticks": "",
            "zerolinecolor": "white"
           },
           "zaxis": {
            "backgroundcolor": "#E5ECF6",
            "gridcolor": "white",
            "gridwidth": 2,
            "linecolor": "white",
            "showbackground": true,
            "ticks": "",
            "zerolinecolor": "white"
           }
          },
          "shapedefaults": {
           "line": {
            "color": "#2a3f5f"
           }
          },
          "ternary": {
           "aaxis": {
            "gridcolor": "white",
            "linecolor": "white",
            "ticks": ""
           },
           "baxis": {
            "gridcolor": "white",
            "linecolor": "white",
            "ticks": ""
           },
           "bgcolor": "#E5ECF6",
           "caxis": {
            "gridcolor": "white",
            "linecolor": "white",
            "ticks": ""
           }
          },
          "title": {
           "x": 0.05
          },
          "xaxis": {
           "automargin": true,
           "gridcolor": "white",
           "linecolor": "white",
           "ticks": "",
           "title": {
            "standoff": 15
           },
           "zerolinecolor": "white",
           "zerolinewidth": 2
          },
          "yaxis": {
           "automargin": true,
           "gridcolor": "white",
           "linecolor": "white",
           "ticks": "",
           "title": {
            "standoff": 15
           },
           "zerolinecolor": "white",
           "zerolinewidth": 2
          }
         }
        },
        "title": {
         "text": "Histogram of pitch_x"
        },
        "xaxis": {
         "anchor": "y",
         "domain": [
          0,
          1
         ],
         "title": {
          "text": "value"
         }
        },
        "yaxis": {
         "anchor": "x",
         "domain": [
          0,
          1
         ],
         "title": {
          "text": "count"
         }
        }
       }
      }
     },
     "metadata": {},
     "output_type": "display_data"
    }
   ],
   "source": [
    "pitch_data.show_x_location_hist('pitch_x')"
   ]
  },
  {
   "cell_type": "code",
   "execution_count": null,
   "metadata": {},
   "outputs": [
    {
     "data": {
      "application/vnd.plotly.v1+json": {
       "config": {
        "plotlyServerURL": "https://plot.ly"
       },
       "data": [
        {
         "alignmentgroup": "True",
         "bingroup": "x",
         "hovertemplate": "variable=pitch_y<br>value=%{x}<br>count=%{y}<extra></extra>",
         "legendgroup": "pitch_y",
         "marker": {
          "color": "#636efa",
          "pattern": {
           "shape": ""
          }
         },
         "name": "pitch_y",
         "offsetgroup": "pitch_y",
         "orientation": "v",
         "showlegend": true,
         "type": "histogram",
         "x": [
          -1.258666969711266,
          -0.20381616121726587,
          -0.6812326027215828,
          -2.063285612669484,
          0.3505544948751491,
          -0.3497960732465683,
          -0.04112109347144521,
          0.3689477903745236,
          -0.559781389297388,
          -0.9342224779191107,
          -0.14368969129454057,
          0.08664640545357644,
          2.128884637675517,
          -0.07557429347033706,
          0.24475739940952362,
          0.4291180604982599,
          -0.7480321832076682,
          -0.11741777438323392,
          -0.8207712828795317,
          -0.27888163841035024,
          -0.8058985391334328,
          0.6080782660089924,
          0.13961915080900517,
          0.28767503115885745,
          -1.3817188054736198,
          -0.80194812697441,
          0.024532086679404982,
          -0.7185442881241718,
          0.2725434641794981,
          -0.6795614497672501,
          0.22572815671072488,
          -0.45135248960602337,
          -0.18242009938828657,
          -0.08658248292168894,
          0.4184832264961339,
          1.0104569845954363,
          -1.7228986492540705,
          1.139856586596975,
          1.147352450576377,
          0.0575552475944686,
          0.9404630820339865,
          0.1368446768703576,
          -1.0407590558810154,
          -0.23250989992744767,
          -1.2938915731697902,
          1.1287697715878178,
          -0.6923445827498061,
          1.795309690720889,
          1.026283598625082,
          0.5984002149956228,
          -0.7583686751063179,
          -0.4293965345887128,
          0.4695001979255002,
          0.6333376238000924,
          0.7718915779573232,
          1.1203855866593893,
          0.3418388613665656,
          1.4684656334950181,
          0.38279395933722926,
          -0.19392010833782586,
          -1.749237485359081,
          -0.6519765570215618,
          -0.12805046835189482,
          0.34726504514697376,
          -0.16602669496643838,
          -0.8111960014916122,
          0.06464868381612832,
          0.5205048201841539,
          0.7637033079108739,
          0.5379514883288854,
          0.42207379568996445,
          -0.5593663828756729,
          1.3024568016644484,
          -0.0926492645129358,
          -0.9971002657176551,
          -0.7518164700489918,
          0.33568468516066086,
          0.09116852324053752,
          -0.30702989774643175,
          0.5095334136264834,
          0.48440550526331183,
          -0.6244191545227484,
          1.1887777354011,
          -1.8934042689691453,
          0.688936625114576,
          0.8365203226656772,
          -0.9153813990461521,
          -0.920720559000355,
          -1.1416989968421345,
          -0.009677541999331971,
          -0.6252277870499013,
          1.134736840981624,
          0.5831107068878244,
          1.3584282926267148,
          -0.11767493344770301,
          0.26159150237832157,
          0.5690851990015927,
          0.6692188306751581,
          -0.07770296950039593,
          -0.054938279122929416,
          0.32821050973366106,
          1.7577277146571555,
          -0.6236744771410391,
          0.5444025747339268,
          0.5595357460801139,
          -0.3274477381194141,
          0.07516052490380586,
          -0.07345491796920034,
          0.3512428009075884,
          0.13363675811434134,
          0.8457319628762556,
          0.005643287901489466,
          1.7429845479876884,
          0.4864408293943943,
          1.0634502601726028,
          0.05359722355603649,
          1.0517429424415952,
          -1.133318167602506,
          0.1531636687995679,
          0.5076970858506409,
          -0.7701718283149792,
          -0.647281211081487,
          -0.5399179536822517,
          0.830246315425031,
          -0.21298103026365872,
          1.1234509848657377,
          -0.003018670157979964,
          -0.8563783115428524,
          -0.49024655641353515,
          0.966144511225952,
          0.3708388949492943,
          -0.5587617010614938,
          0.7533337413120693,
          0.14042491430364223,
          0.23717692681490637,
          0.9072830363758574,
          -0.4004095696552463,
          -0.6834275780127169,
          -0.30537950216345794,
          1.1273518459017897,
          0.7134117544344675,
          2.152190573498949,
          -0.5869128844962996,
          -0.5454680699259845,
          -1.666361593091575,
          0.25236512914143816,
          0.2636266364160443,
          -0.007071381839954144,
          -1.323730464033864,
          0.1627130717203968,
          0.7550599377636571,
          0.6622289173802623,
          -0.03892047448361359,
          0.17710668849737762,
          -0.03441244771104208,
          0.44287756326968347,
          0.1538526187065575,
          0.33474847446166145,
          0.012485045503569717,
          0.9700076936245818,
          -0.6236460016853609,
          -0.21805962632750947,
          0.21720997055100308,
          -0.6919296654600675,
          -0.19658761486413445,
          0.6758600548176396,
          1.1304241501513146,
          -1.9115979871863487,
          0.5931420636441758,
          0.1788175430144338,
          -0.5637655630908142,
          -0.668058735595001,
          1.5861707761577815,
          0.9258136758736872,
          0.35586564173404617,
          0.31557557510504575,
          0.5418064893315413,
          -0.6006771437212692,
          1.3902130000596473,
          0.5906001380237018,
          0.5452144739703975,
          -0.24665112902497208,
          1.5953796847028736,
          -0.43110820706083985,
          -0.38390728914330785,
          0.42059440499771755,
          -0.6789706053652804,
          -0.2151270265153264,
          -0.05582588122169135,
          0.9148486628151112,
          -0.7915812474543367,
          -0.0307100377051563,
          0.6758242419669113,
          -1.663058327463589,
          -1.224542446988842,
          -1.2675794682674515,
          -1.0057639765295632,
          -0.522283492697444,
          0.01070929611322873,
          -0.6068906269450554,
          0.34001415252600864,
          0.1521204100398437,
          1.3200173522144583,
          -1.6991539453453228,
          0.15514606515664237,
          0.6136173439817956,
          0.5967275517890297,
          -0.1581524577776757,
          0.9149828150188704,
          0.050527377848396775,
          -0.4517962992401801,
          0.9077535527842494,
          -0.7980029816105787,
          -0.24153051063260011,
          -1.0224712580008832,
          -0.3624279963630993,
          0.07806339803486434,
          0.363514330955217,
          0.10669428740377809,
          0.2633222916336527,
          -0.9701583741569474,
          0.757976253407803,
          0.06564717036348004,
          -1.1597014281969158,
          -0.7077639783480296,
          -0.31653680795090644,
          0.7113697177933748,
          0.28649088014007185,
          0.44038130713007423,
          1.0800592080714508,
          -0.9285256194874079,
          -0.686511775122305,
          1.1412202966033853,
          -0.342175338858669,
          1.1576076313617985,
          -0.23046120955935095,
          0.133388572085689,
          -0.5769058267254564,
          -1.082723711533809,
          0.41681543333203847,
          -0.7136538904376971,
          -0.24921595941945962,
          -0.04440876243228458,
          0.7724260288458189,
          0.5482012800417854,
          0.07553306657829441,
          -0.3988999919365853,
          -1.4459536272850722,
          0.9837790872089089,
          0.5404141480717454,
          -0.5283872626533084,
          -1.146816425084838,
          0.5620014246812223,
          0.7443244141699766,
          -0.65187686469959,
          0.7191145531792045,
          -1.2390637747991784,
          -0.059209122731407736,
          0.19055316105603023,
          -0.8318620032865526,
          0.05326194273175738,
          0.5181311480140218,
          -0.35890654591834875,
          -1.3563252962253014,
          0.49738749725997194,
          -0.9091129158237361,
          1.4572853360565636,
          -0.4989610719022196,
          -0.3180281563874383,
          0.5585993824133693,
          1.088548916853893,
          -0.07613259233709169,
          -0.9856560029821998,
          0.5782747693840445,
          0.958629883540268,
          1.277160336224148,
          0.9179452465981519,
          0.7415264480198639,
          -1.0655707355751787,
          -0.5489077288857551,
          0.09743468286632696,
          1.5159147044587573,
          1.6806392688240614,
          0.7209552359309104,
          1.1304879440772073,
          0.29597949446732774,
          0.3874993684799367,
          -0.15011442719073775,
          0.9705924212398224,
          -0.4094563222954244,
          0.15684644214472027,
          -0.16873606737654664,
          0.04448728686020792,
          -0.7820955526768861,
          -0.5241932055502154,
          -0.9529406335906626,
          0.007615433112793463,
          0.7605538848781047,
          -1.3787837046326434,
          0.5712881763649397,
          0.38502859977795123,
          -0.1635855645475072,
          0.2782805214255995,
          -0.8190439821039589,
          0.610896934263605,
          -0.499401504782347,
          0.5002220443713512,
          1.858130762121919,
          0.7564496984152582,
          0.38050483444244715,
          -0.27127288217931833,
          0.38332875226540664,
          0.4859288158438705,
          0.5697211246881755,
          -0.22713581590989154,
          -0.5819390511315421,
          0.4771866139126548,
          0.1999442396195749,
          0.34424292802061723,
          0.06514971481631174,
          1.169925786382253,
          0.43100777949715957,
          0.24115192124984056,
          -0.3633095950943664,
          0.5528773603177759,
          -0.3129546548860041,
          -0.9509427988938288,
          0.291286228220888,
          0.7198399768217878,
          1.2411861425826065,
          -1.4445584754519547,
          -0.0836591791753205,
          0.7538379683208242,
          -0.2304089649589862,
          -0.8387341142643825,
          -0.43708140213347957,
          -0.6503621517179831,
          0.5676988301316416,
          0.3283308220327307,
          0.37816768450135446,
          0.26670614422038363,
          -1.0252952027658169,
          -0.4291828103494528,
          -0.06976102238464582,
          0.3264202401877429,
          -1.437044624189672,
          0.09250677804771593,
          0.02983845482469187,
          -0.32087121005567465,
          0.4218263348960506,
          -0.2186149092642343,
          -1.0463944599257133,
          -0.06197024056515381,
          -0.7011758358023953,
          -0.06130614577361081,
          1.0162153175624036,
          -0.6678739971148,
          -1.0407109404294532,
          -0.2434255147440168,
          -1.2170703477517528,
          -0.257760440684734,
          -0.48719503951763204,
          0.39328781990141404,
          -0.042270742554953,
          0.5189092406597556,
          0.20082736705703166,
          -0.9730030421788721,
          0.07133559663599694,
          0.5027984012303723,
          -1.3206181058076791,
          -0.21555068905653552,
          -0.24421047506414312,
          0.6936340524308315,
          -0.4734566368535731,
          -0.23199971772990702,
          0.3627210835099613,
          -0.6267797561953288,
          1.0396257777548212,
          -0.2941322836316759,
          -0.9442513848597058,
          -0.8756752301309817,
          0.39595623400154384,
          0.7628347279759855,
          -0.02473345898259651,
          -0.674217977044151,
          -0.19683623731691519,
          0.6421326860260982,
          -0.15800638763966565,
          -0.9964006794193847,
          0.5923283038597527,
          0.06495345582028454,
          0.11403371528447886,
          0.47969239552407245,
          -1.1125052873070675,
          -0.004091013540027546,
          -0.15434007183730397,
          1.020789716381366,
          -0.8714342508124192,
          -1.7193980061760104,
          -0.06691795602321433,
          -1.0566869138052215,
          -0.02172167183220755,
          -0.006227823330670315,
          -0.6417085805796567,
          -1.2588000380850792,
          -1.0646615713409764,
          1.699133468455672,
          0.7934875185440048,
          -0.15770501299141904,
          0.7735825675229769,
          -0.6246404858978534,
          0.5525966200496212,
          0.21200271444455399,
          0.2382907939496783,
          0.35969023741457234,
          -0.531461846895462,
          0.5114672793912156,
          -0.23420303962702432,
          -0.9145597115100143,
          -0.6353297823969075,
          -1.212187275159546,
          -0.7583898920973445,
          0.5710708610288413,
          -1.6302649666859448,
          -0.8146143127514466,
          -0.08798856907519588,
          1.9026438905843184,
          -0.20611352165632854,
          -0.3301812311679891,
          -0.21713379682198544,
          -0.44463624903115534,
          -0.15998737598500462,
          1.1660817309097877,
          -0.14300904634494666,
          -0.4794102131503721,
          -1.239985639123604,
          1.6649261629041396,
          1.053316908749569,
          -1.4445478659061204,
          0.507569674368089,
          0.5369022990270074,
          0.36250160596864733,
          0.0434755640953405,
          -0.8742726888205403,
          -1.1574048749352237,
          -0.9213403578411447,
          1.9078649215553067,
          -0.2640857413851704,
          1.3110137260708203,
          0.006960561438869841,
          0.36030171084457485,
          0.9665638976454858,
          -0.33813743599268326,
          -0.01083419735948512,
          0.6157673485417667,
          0.6470870353501283,
          0.3434800795771451,
          -0.4020513109429707,
          -0.8410332862854756,
          0.151887512304567,
          0.12146881565281611,
          0.9754043038791264,
          0.48833834543970156,
          -0.2043131713629158,
          0.7505011916454466,
          -0.07601564325561067,
          -0.11950930203025613,
          -0.3252646384230275,
          -1.0870986666508369,
          -0.05036051015416279,
          -0.7804211931250596,
          -1.1757474494687723,
          -0.9198112723971834,
          0.7631860253791759,
          -0.11787410536490237,
          -1.579381227190413,
          -0.5568987407368299,
          -0.0696037835110385,
          0.47445321135169505,
          1.202591060579826,
          1.4530691872267751,
          1.4818653892476215,
          1.6556974566661906,
          -0.01502067845506584,
          0.09416222323810923,
          0.6524081003612004,
          1.4162155150437625,
          1.0764660356970224,
          0.041752946578036784,
          1.1058549289412216,
          -0.5420264557390788,
          0.4452619588656484,
          0.7381075047884972,
          0.8683893039699542,
          -0.03860959346474511,
          0.4990824744832558,
          -0.9186351917476755,
          -1.1881710919110684,
          -0.3057201009004315,
          -0.17137475030326374,
          0.3474179031778953,
          -1.0986221273329733,
          -0.03710630436553081,
          0.8961744159478984,
          0.06814879972869552,
          -0.6743445507294148,
          -0.2611388446364086,
          -0.21629659719642305,
          0.9000395694822433,
          0.31576769171173896,
          -1.1544379324500462,
          -0.08850928373059717,
          -0.15668005044859942,
          -0.49066237107573074,
          0.597562196830746,
          0.740448295008684,
          0.0011062073342975275,
          -1.0505551203740882,
          0.6588611167880498,
          -0.8107430528541275,
          0.7883861620227534,
          -0.04231499941988917,
          -0.06061761835966088,
          -0.9669414539698292,
          -0.8463213124859387,
          0.342387965673375,
          -0.6548479461569235,
          -0.9676475700505679,
          -0.28205356100918066,
          -0.3578496469776937,
          -0.8574013482299272,
          -0.8465975071499187,
          1.0568667320704215,
          -0.6478621614459065,
          0.8963277265435139,
          0.15004158253090447,
          0.05399191321417118,
          -0.6450131536740041,
          0.13502950635614497,
          1.069284791121469,
          -0.05998541760765584,
          0.17767097331502835,
          0.5517963141835103,
          0.5051223275652208,
          0.2694523430041258,
          1.1320446521639393,
          -0.6973997511537818,
          -0.870271853223941,
          0.10194829638687526,
          -0.19690691458187837,
          -0.2521295562488781,
          -0.5762887322400686,
          0.6453281603394728,
          1.718891751846544,
          0.917883490754485,
          -0.33723824508439976,
          0.3509585232070315,
          -1.2257391627323595,
          -0.4818502446953351,
          0.08937215082830667,
          -0.9229074010131659,
          0.0516226899681481,
          1.4068761480841774,
          -0.5377650916903499,
          -0.2845677543759868,
          -0.8338931231218496,
          -0.49817540399133947,
          -0.4381583585290549,
          0.19825185511864352,
          0.28632755589686193,
          -1.0596394070674575,
          -0.5204184581633245,
          1.395203686432278,
          -0.6340849014922695,
          0.43919287410430424,
          -0.3133940764291292,
          1.2881073322565757,
          0.7146591074380421,
          -0.27156288150131447,
          0.740570168404143,
          0.6438155753872368,
          -0.14937640897657298,
          1.068855028879619,
          0.3977576798593151,
          1.3984270795953033,
          0.28435504730190614,
          0.4836815903411829,
          0.8552308406377839,
          0.5141385987764188,
          -1.0841341921680094,
          -0.7597679851388157,
          1.1089497190203987,
          -0.11007997189122672,
          -0.9395082283102268,
          -1.2599742837270163,
          -0.6707831829844508,
          0.27799430818460097,
          0.13515536627852193,
          -1.9492204403155202,
          -1.1946211909841506,
          -0.5753123466651227,
          -0.7565536219743303,
          -0.8208259446055125,
          0.5817940791684,
          -0.4516663741286137,
          0.5635815435812846,
          0.4048388293490964,
          -0.5954043249417009,
          0.7559889375081604,
          -0.25740777500135226,
          1.4947976134836356,
          0.14566471010656282,
          -0.7763526074224271,
          -0.7114466325435792,
          0.2366946456568761,
          -0.16748584883360715,
          0.9250318286486474,
          -0.605266897572569,
          -0.603380848339143,
          -0.7586452085235201,
          -0.17379959584578486,
          -0.7396068570776362,
          0.3087034558094459,
          0.16397939017129784,
          0.39543467648215347,
          -0.005897089012065092,
          -0.3136749097099993,
          0.6253307687399192,
          0.677884705652561,
          0.6892459647542792,
          0.9622780381578965,
          -0.8059605894605031,
          -1.3752388139393827,
          0.30944085093984985,
          0.020753258811609266,
          1.033718860768299,
          -0.09590793550558589,
          -0.22746358102726735,
          -0.0853325853523393,
          -0.9741759823853271,
          -0.4120357310130178,
          0.10019709983515548,
          0.17038627720329488,
          -0.3972432447264977,
          -0.5195548089312095,
          -0.5606264247513009,
          0.0854051676369209,
          0.7263700859003202,
          2.313145415147118,
          -1.1563362485729405,
          0.0687169391902772,
          -0.8478387889763691,
          0.7073622991039569,
          -0.3814265449191335,
          -1.2751005402267181,
          -0.5640092466548521,
          -0.06004459811643399,
          0.01954358483831295,
          -0.36307995799432,
          0.7104957851165752,
          0.3573217229402281,
          -0.2291823167311433,
          -0.9327857588785881,
          0.4182886538671817,
          0.3595264423294789,
          -1.4518879196951953,
          0.42913585006345706,
          -0.24531634584645973,
          -0.20858055715637325,
          0.5412252394452524,
          1.2114891887391812,
          -0.7289768158059919,
          0.8541447400987566,
          -0.15416419392533626,
          -0.23755678836332106,
          -0.7383146250175208,
          0.0015278228595681123,
          0.7343120391478658,
          1.111554372816872,
          -1.0910843831195396,
          0.4379042740525215,
          -0.7472008683801243,
          -0.8386615082724436,
          -0.05488926252080349,
          -0.4482606899422616,
          0.08345299249847316,
          -0.04888466205331976,
          0.9438995972091285,
          0.751620628952311,
          -0.8057673380258115,
          1.09822654857359,
          1.3546472601510813,
          -0.6152314924733052,
          0.09107140915023856,
          -0.9020595743007793,
          0.38664626414323305,
          0.8612665961965019,
          1.3066941015962854,
          1.466048850249657,
          1.363673846271851,
          0.9789555157003926,
          -0.6721787468576093,
          -0.77900240555379,
          -0.4535136853547883,
          0.2830111776725611,
          -0.15313639842332957,
          1.0792771163121728,
          0.6853903839577234,
          1.4840855465826501,
          -0.4662832692709565,
          0.2810326005302457,
          0.09298212662389546,
          0.2909620471059484,
          0.6606091097439564,
          0.6138362970387191,
          -0.3239450421269699,
          -0.4286359678603476,
          1.5189224795684082,
          0.11379113673195415,
          -1.8843384727323467,
          -0.37147596283810497,
          -0.9970024059589547,
          -0.6337785890205332,
          -0.5675431458418394,
          -1.5310296969578752,
          0.33970288665055604,
          -0.0023847475228159507,
          -0.17853025054754992,
          0.6911431151703693,
          -0.5596162826674491,
          -0.5679249111744556,
          -0.6620176456484574,
          0.25505977757093284,
          -0.30235662230240334,
          -0.29893929491796534,
          -0.5365785179388841,
          0.9874988678651438,
          0.17634850164542587,
          -0.14683161799603212,
          -0.021138906699139152,
          0.2865731699739376,
          0.8942850508217434,
          -0.3115139093675977,
          2.204228757417049,
          1.2994247007811033,
          -0.06013901724556787,
          -1.6282944683825626,
          -1.5177347493797986,
          0.4216277443625549,
          -0.31730548389855356,
          0.4575253142257341,
          -0.3214224818624445,
          -0.6567247016279317,
          -0.9644232678894405,
          -1.0864005907103467,
          0.23099105757164065,
          -0.6954333599189476,
          -0.08575980776571707,
          0.7074254247693587,
          0.3427136040508899,
          0.011048244131149508,
          0.6641635843896779,
          -0.24722411136159786,
          0.11853482415145025,
          -0.3013738944479989,
          0.4518929372522068,
          -0.13170597578585808,
          -0.8776492191201308,
          1.1741963144077041,
          0.39186976292339326,
          1.0388920187742445,
          0.8587930681484577,
          0.04783663704795053,
          -0.5376584044237995,
          0.4973692852350806,
          0.41893865859651747,
          -0.4608965696723052,
          -0.2539001321087194,
          -1.4743025985729914,
          -0.5840155168040588,
          0.16328909459562008,
          -0.5090172849843724,
          -1.4059047623283294,
          -0.7746559246367454,
          -1.2527037744942575,
          -0.0190633654507174,
          -1.198330991847093,
          -0.6453378010849873,
          1.7707947371834907,
          0.21777477443322799,
          -0.3735500122888799,
          -1.1890996361188675,
          -0.008179169599403182,
          0.693544323235433,
          -0.8323504106804185,
          0.7177219572209169,
          -1.4998752689531578,
          0.6119282079158146,
          0.7369832523804161,
          -0.06306170010984882,
          0.41574552424096256,
          -0.505192566287794,
          0.4320328527630941,
          -0.6312016842883568,
          -0.4284931272654224,
          0.5719116118984907,
          0.22728128970489428,
          -0.4315827005054375,
          1.7382741693514008,
          -1.6625013851374875,
          -0.18960059969426438,
          1.1934106468471888,
          -0.48068581703878704,
          1.106664792409852,
          -0.29319743147675525,
          -1.284972446124412,
          -0.28849135008629634,
          0.0835535227777545,
          0.1990671625603248,
          -0.4461296009178814,
          -0.7000687608727705,
          0.2858786471914828,
          0.6320474739021351,
          -0.34508006807336805,
          -0.5294390850428992,
          -1.0376344986458086,
          0.47662391729833975,
          -0.1065742566467278,
          -0.9422796822461686,
          -0.40181115168582365,
          -0.5615063153149408,
          0.7722085249487164,
          -0.5963899130398104,
          -0.17903197302766594,
          0.42855045610156123,
          0.3923892534981088,
          0.9557524934910864,
          -1.0391169119468031,
          -0.053736743798652904,
          -0.45667727171813155,
          0.11457198517498242,
          1.3393660827588563,
          -0.37705955274035674,
          -1.2613333041332133,
          0.283516318393478,
          0.13820718014994132,
          -0.7446311990091312,
          -0.44460182044343505,
          -0.18666033745258304,
          -0.27350844286696807,
          -0.8856877902956105,
          -1.5610306753193344,
          -0.4567494764498636,
          -0.18968201480338828,
          -0.5413986566486585,
          -0.13810129677453792,
          0.8936754291967123,
          -1.2512029130098992,
          -0.49152813261180484,
          0.08432746428598416,
          0.5411006721980713,
          -1.6296838408444154,
          0.10633068630038363,
          0.4121343837001895,
          -0.6334239246322969,
          -0.1419856650521291,
          1.5173681181586316,
          -0.39450338363451376,
          0.8768403538391525,
          -1.5953076565783237,
          0.08396351517042938,
          -0.6044222684526148,
          0.1665904277999555,
          0.4797428577379624,
          -0.8399198353230168,
          2.323076793672082,
          0.7883843424691384,
          0.4667116487934747,
          0.6294030017058657,
          -0.4563585316389976,
          0.11480583519354216,
          -0.012496716308003591,
          -0.8526341575176326,
          -0.09307969437706173,
          0.22815242276653322,
          0.49127206020956987,
          0.17339508938362932,
          0.6889944444312929,
          -0.20996945913792356,
          -0.5437458806676299,
          0.9373999174176675,
          -0.8643701296194864,
          1.3093197637931429,
          -1.3500312081373622,
          -0.5654665701389985,
          -0.531551091233079,
          0.23332208109381944,
          -0.8869533592265935,
          -1.2084247258729348,
          1.5872889691693863,
          -0.45594131915741054,
          0.7499898780687424,
          -0.4102398199861964,
          -0.020092119115161896,
          0.20397520032154828,
          -0.5186978256764837,
          0.42398821475700926,
          1.6422293020044487,
          -0.3503289781624436,
          -1.6443041456856253,
          -0.3843407549548345,
          -0.8613126302735074,
          -0.15438345169613077,
          0.3645169784733811,
          -0.22882721603955816,
          1.6443756149035087,
          0.7445009980613834,
          0.4412075885070134,
          0.8351989523379689,
          0.2479115774577669,
          1.0430046463852387,
          -1.1194573790509745,
          0.7168541233208462,
          0.6267103046433471,
          -1.4563852299077682,
          0.49629840211040116,
          1.1892943324631775,
          -0.033721263800202565,
          -0.5854055705177703,
          0.14022354223009514,
          0.8215429049492461,
          -1.5018657062926455,
          -0.26254932868262315,
          0.4630749826203252,
          -0.27089774571661446,
          -0.997039515925657,
          1.7735441057555776,
          0.3591497209685214,
          0.37121993776671636,
          -0.3702210566533741,
          -0.16353095899600387,
          -0.6016035575911656,
          0.15753290436735484,
          0.6279727248311899,
          0.16053043532155897,
          -0.318022502099908,
          -1.1502239896061517,
          0.08448958026155766,
          -0.6757918856265827,
          -1.0411078337037123,
          -0.8340964461797797,
          -1.058131583543299,
          0.4907475376162427,
          -0.18750215526517858,
          0.6289044296694533,
          0.5672523221436605,
          -1.7331723603548603,
          -0.02149490403155588,
          -0.6092549393489102,
          -0.9400743681369633,
          -0.442176203680532,
          -0.9996166424222499,
          1.030160387022565,
          0.689463184789608,
          0.06116616821135354,
          0.5777148889057625,
          -1.1573404062029582,
          1.333774562762403,
          0.03653738342687866,
          0.7140845389910282,
          0.08568047511690313,
          0.8681674772748676,
          -0.37469385733394484,
          1.2373950717076123,
          -0.39109311573014105,
          -1.1045006480401267,
          0.34707623376135194,
          0.2814257044768091,
          0.4084512074519392,
          -0.3155358551133163,
          1.4540488463768704,
          -0.7958661603251775,
          1.1104606690720054,
          -0.43437841527159193,
          0.3411909813101303,
          1.2201476210168725,
          -0.7740099249648925,
          -0.9774945809800873,
          1.5531410845603162,
          1.3942672113742134,
          -1.0038282946180803,
          -1.3105284518908658,
          0.2590547645918567,
          0.2378415917641908,
          0.2511375521893732,
          -0.4860165808419641,
          -0.39071468875388216,
          -0.4563431567208857,
          0.06315124384452285,
          0.8413736980492617
         ],
         "xaxis": "x",
         "yaxis": "y"
        }
       ],
       "layout": {
        "barmode": "relative",
        "legend": {
         "title": {
          "text": "variable"
         },
         "tracegroupgap": 0
        },
        "template": {
         "data": {
          "bar": [
           {
            "error_x": {
             "color": "#2a3f5f"
            },
            "error_y": {
             "color": "#2a3f5f"
            },
            "marker": {
             "line": {
              "color": "#E5ECF6",
              "width": 0.5
             },
             "pattern": {
              "fillmode": "overlay",
              "size": 10,
              "solidity": 0.2
             }
            },
            "type": "bar"
           }
          ],
          "barpolar": [
           {
            "marker": {
             "line": {
              "color": "#E5ECF6",
              "width": 0.5
             },
             "pattern": {
              "fillmode": "overlay",
              "size": 10,
              "solidity": 0.2
             }
            },
            "type": "barpolar"
           }
          ],
          "carpet": [
           {
            "aaxis": {
             "endlinecolor": "#2a3f5f",
             "gridcolor": "white",
             "linecolor": "white",
             "minorgridcolor": "white",
             "startlinecolor": "#2a3f5f"
            },
            "baxis": {
             "endlinecolor": "#2a3f5f",
             "gridcolor": "white",
             "linecolor": "white",
             "minorgridcolor": "white",
             "startlinecolor": "#2a3f5f"
            },
            "type": "carpet"
           }
          ],
          "choropleth": [
           {
            "colorbar": {
             "outlinewidth": 0,
             "ticks": ""
            },
            "type": "choropleth"
           }
          ],
          "contour": [
           {
            "colorbar": {
             "outlinewidth": 0,
             "ticks": ""
            },
            "colorscale": [
             [
              0,
              "#0d0887"
             ],
             [
              0.1111111111111111,
              "#46039f"
             ],
             [
              0.2222222222222222,
              "#7201a8"
             ],
             [
              0.3333333333333333,
              "#9c179e"
             ],
             [
              0.4444444444444444,
              "#bd3786"
             ],
             [
              0.5555555555555556,
              "#d8576b"
             ],
             [
              0.6666666666666666,
              "#ed7953"
             ],
             [
              0.7777777777777778,
              "#fb9f3a"
             ],
             [
              0.8888888888888888,
              "#fdca26"
             ],
             [
              1,
              "#f0f921"
             ]
            ],
            "type": "contour"
           }
          ],
          "contourcarpet": [
           {
            "colorbar": {
             "outlinewidth": 0,
             "ticks": ""
            },
            "type": "contourcarpet"
           }
          ],
          "heatmap": [
           {
            "colorbar": {
             "outlinewidth": 0,
             "ticks": ""
            },
            "colorscale": [
             [
              0,
              "#0d0887"
             ],
             [
              0.1111111111111111,
              "#46039f"
             ],
             [
              0.2222222222222222,
              "#7201a8"
             ],
             [
              0.3333333333333333,
              "#9c179e"
             ],
             [
              0.4444444444444444,
              "#bd3786"
             ],
             [
              0.5555555555555556,
              "#d8576b"
             ],
             [
              0.6666666666666666,
              "#ed7953"
             ],
             [
              0.7777777777777778,
              "#fb9f3a"
             ],
             [
              0.8888888888888888,
              "#fdca26"
             ],
             [
              1,
              "#f0f921"
             ]
            ],
            "type": "heatmap"
           }
          ],
          "heatmapgl": [
           {
            "colorbar": {
             "outlinewidth": 0,
             "ticks": ""
            },
            "colorscale": [
             [
              0,
              "#0d0887"
             ],
             [
              0.1111111111111111,
              "#46039f"
             ],
             [
              0.2222222222222222,
              "#7201a8"
             ],
             [
              0.3333333333333333,
              "#9c179e"
             ],
             [
              0.4444444444444444,
              "#bd3786"
             ],
             [
              0.5555555555555556,
              "#d8576b"
             ],
             [
              0.6666666666666666,
              "#ed7953"
             ],
             [
              0.7777777777777778,
              "#fb9f3a"
             ],
             [
              0.8888888888888888,
              "#fdca26"
             ],
             [
              1,
              "#f0f921"
             ]
            ],
            "type": "heatmapgl"
           }
          ],
          "histogram": [
           {
            "marker": {
             "pattern": {
              "fillmode": "overlay",
              "size": 10,
              "solidity": 0.2
             }
            },
            "type": "histogram"
           }
          ],
          "histogram2d": [
           {
            "colorbar": {
             "outlinewidth": 0,
             "ticks": ""
            },
            "colorscale": [
             [
              0,
              "#0d0887"
             ],
             [
              0.1111111111111111,
              "#46039f"
             ],
             [
              0.2222222222222222,
              "#7201a8"
             ],
             [
              0.3333333333333333,
              "#9c179e"
             ],
             [
              0.4444444444444444,
              "#bd3786"
             ],
             [
              0.5555555555555556,
              "#d8576b"
             ],
             [
              0.6666666666666666,
              "#ed7953"
             ],
             [
              0.7777777777777778,
              "#fb9f3a"
             ],
             [
              0.8888888888888888,
              "#fdca26"
             ],
             [
              1,
              "#f0f921"
             ]
            ],
            "type": "histogram2d"
           }
          ],
          "histogram2dcontour": [
           {
            "colorbar": {
             "outlinewidth": 0,
             "ticks": ""
            },
            "colorscale": [
             [
              0,
              "#0d0887"
             ],
             [
              0.1111111111111111,
              "#46039f"
             ],
             [
              0.2222222222222222,
              "#7201a8"
             ],
             [
              0.3333333333333333,
              "#9c179e"
             ],
             [
              0.4444444444444444,
              "#bd3786"
             ],
             [
              0.5555555555555556,
              "#d8576b"
             ],
             [
              0.6666666666666666,
              "#ed7953"
             ],
             [
              0.7777777777777778,
              "#fb9f3a"
             ],
             [
              0.8888888888888888,
              "#fdca26"
             ],
             [
              1,
              "#f0f921"
             ]
            ],
            "type": "histogram2dcontour"
           }
          ],
          "mesh3d": [
           {
            "colorbar": {
             "outlinewidth": 0,
             "ticks": ""
            },
            "type": "mesh3d"
           }
          ],
          "parcoords": [
           {
            "line": {
             "colorbar": {
              "outlinewidth": 0,
              "ticks": ""
             }
            },
            "type": "parcoords"
           }
          ],
          "pie": [
           {
            "automargin": true,
            "type": "pie"
           }
          ],
          "scatter": [
           {
            "fillpattern": {
             "fillmode": "overlay",
             "size": 10,
             "solidity": 0.2
            },
            "type": "scatter"
           }
          ],
          "scatter3d": [
           {
            "line": {
             "colorbar": {
              "outlinewidth": 0,
              "ticks": ""
             }
            },
            "marker": {
             "colorbar": {
              "outlinewidth": 0,
              "ticks": ""
             }
            },
            "type": "scatter3d"
           }
          ],
          "scattercarpet": [
           {
            "marker": {
             "colorbar": {
              "outlinewidth": 0,
              "ticks": ""
             }
            },
            "type": "scattercarpet"
           }
          ],
          "scattergeo": [
           {
            "marker": {
             "colorbar": {
              "outlinewidth": 0,
              "ticks": ""
             }
            },
            "type": "scattergeo"
           }
          ],
          "scattergl": [
           {
            "marker": {
             "colorbar": {
              "outlinewidth": 0,
              "ticks": ""
             }
            },
            "type": "scattergl"
           }
          ],
          "scattermapbox": [
           {
            "marker": {
             "colorbar": {
              "outlinewidth": 0,
              "ticks": ""
             }
            },
            "type": "scattermapbox"
           }
          ],
          "scatterpolar": [
           {
            "marker": {
             "colorbar": {
              "outlinewidth": 0,
              "ticks": ""
             }
            },
            "type": "scatterpolar"
           }
          ],
          "scatterpolargl": [
           {
            "marker": {
             "colorbar": {
              "outlinewidth": 0,
              "ticks": ""
             }
            },
            "type": "scatterpolargl"
           }
          ],
          "scatterternary": [
           {
            "marker": {
             "colorbar": {
              "outlinewidth": 0,
              "ticks": ""
             }
            },
            "type": "scatterternary"
           }
          ],
          "surface": [
           {
            "colorbar": {
             "outlinewidth": 0,
             "ticks": ""
            },
            "colorscale": [
             [
              0,
              "#0d0887"
             ],
             [
              0.1111111111111111,
              "#46039f"
             ],
             [
              0.2222222222222222,
              "#7201a8"
             ],
             [
              0.3333333333333333,
              "#9c179e"
             ],
             [
              0.4444444444444444,
              "#bd3786"
             ],
             [
              0.5555555555555556,
              "#d8576b"
             ],
             [
              0.6666666666666666,
              "#ed7953"
             ],
             [
              0.7777777777777778,
              "#fb9f3a"
             ],
             [
              0.8888888888888888,
              "#fdca26"
             ],
             [
              1,
              "#f0f921"
             ]
            ],
            "type": "surface"
           }
          ],
          "table": [
           {
            "cells": {
             "fill": {
              "color": "#EBF0F8"
             },
             "line": {
              "color": "white"
             }
            },
            "header": {
             "fill": {
              "color": "#C8D4E3"
             },
             "line": {
              "color": "white"
             }
            },
            "type": "table"
           }
          ]
         },
         "layout": {
          "annotationdefaults": {
           "arrowcolor": "#2a3f5f",
           "arrowhead": 0,
           "arrowwidth": 1
          },
          "autotypenumbers": "strict",
          "coloraxis": {
           "colorbar": {
            "outlinewidth": 0,
            "ticks": ""
           }
          },
          "colorscale": {
           "diverging": [
            [
             0,
             "#8e0152"
            ],
            [
             0.1,
             "#c51b7d"
            ],
            [
             0.2,
             "#de77ae"
            ],
            [
             0.3,
             "#f1b6da"
            ],
            [
             0.4,
             "#fde0ef"
            ],
            [
             0.5,
             "#f7f7f7"
            ],
            [
             0.6,
             "#e6f5d0"
            ],
            [
             0.7,
             "#b8e186"
            ],
            [
             0.8,
             "#7fbc41"
            ],
            [
             0.9,
             "#4d9221"
            ],
            [
             1,
             "#276419"
            ]
           ],
           "sequential": [
            [
             0,
             "#0d0887"
            ],
            [
             0.1111111111111111,
             "#46039f"
            ],
            [
             0.2222222222222222,
             "#7201a8"
            ],
            [
             0.3333333333333333,
             "#9c179e"
            ],
            [
             0.4444444444444444,
             "#bd3786"
            ],
            [
             0.5555555555555556,
             "#d8576b"
            ],
            [
             0.6666666666666666,
             "#ed7953"
            ],
            [
             0.7777777777777778,
             "#fb9f3a"
            ],
            [
             0.8888888888888888,
             "#fdca26"
            ],
            [
             1,
             "#f0f921"
            ]
           ],
           "sequentialminus": [
            [
             0,
             "#0d0887"
            ],
            [
             0.1111111111111111,
             "#46039f"
            ],
            [
             0.2222222222222222,
             "#7201a8"
            ],
            [
             0.3333333333333333,
             "#9c179e"
            ],
            [
             0.4444444444444444,
             "#bd3786"
            ],
            [
             0.5555555555555556,
             "#d8576b"
            ],
            [
             0.6666666666666666,
             "#ed7953"
            ],
            [
             0.7777777777777778,
             "#fb9f3a"
            ],
            [
             0.8888888888888888,
             "#fdca26"
            ],
            [
             1,
             "#f0f921"
            ]
           ]
          },
          "colorway": [
           "#636efa",
           "#EF553B",
           "#00cc96",
           "#ab63fa",
           "#FFA15A",
           "#19d3f3",
           "#FF6692",
           "#B6E880",
           "#FF97FF",
           "#FECB52"
          ],
          "font": {
           "color": "#2a3f5f"
          },
          "geo": {
           "bgcolor": "white",
           "lakecolor": "white",
           "landcolor": "#E5ECF6",
           "showlakes": true,
           "showland": true,
           "subunitcolor": "white"
          },
          "hoverlabel": {
           "align": "left"
          },
          "hovermode": "closest",
          "mapbox": {
           "style": "light"
          },
          "paper_bgcolor": "white",
          "plot_bgcolor": "#E5ECF6",
          "polar": {
           "angularaxis": {
            "gridcolor": "white",
            "linecolor": "white",
            "ticks": ""
           },
           "bgcolor": "#E5ECF6",
           "radialaxis": {
            "gridcolor": "white",
            "linecolor": "white",
            "ticks": ""
           }
          },
          "scene": {
           "xaxis": {
            "backgroundcolor": "#E5ECF6",
            "gridcolor": "white",
            "gridwidth": 2,
            "linecolor": "white",
            "showbackground": true,
            "ticks": "",
            "zerolinecolor": "white"
           },
           "yaxis": {
            "backgroundcolor": "#E5ECF6",
            "gridcolor": "white",
            "gridwidth": 2,
            "linecolor": "white",
            "showbackground": true,
            "ticks": "",
            "zerolinecolor": "white"
           },
           "zaxis": {
            "backgroundcolor": "#E5ECF6",
            "gridcolor": "white",
            "gridwidth": 2,
            "linecolor": "white",
            "showbackground": true,
            "ticks": "",
            "zerolinecolor": "white"
           }
          },
          "shapedefaults": {
           "line": {
            "color": "#2a3f5f"
           }
          },
          "ternary": {
           "aaxis": {
            "gridcolor": "white",
            "linecolor": "white",
            "ticks": ""
           },
           "baxis": {
            "gridcolor": "white",
            "linecolor": "white",
            "ticks": ""
           },
           "bgcolor": "#E5ECF6",
           "caxis": {
            "gridcolor": "white",
            "linecolor": "white",
            "ticks": ""
           }
          },
          "title": {
           "x": 0.05
          },
          "xaxis": {
           "automargin": true,
           "gridcolor": "white",
           "linecolor": "white",
           "ticks": "",
           "title": {
            "standoff": 15
           },
           "zerolinecolor": "white",
           "zerolinewidth": 2
          },
          "yaxis": {
           "automargin": true,
           "gridcolor": "white",
           "linecolor": "white",
           "ticks": "",
           "title": {
            "standoff": 15
           },
           "zerolinecolor": "white",
           "zerolinewidth": 2
          }
         }
        },
        "title": {
         "text": "Histogram of pitch_y"
        },
        "xaxis": {
         "anchor": "y",
         "domain": [
          0,
          1
         ],
         "title": {
          "text": "value"
         }
        },
        "yaxis": {
         "anchor": "x",
         "domain": [
          0,
          1
         ],
         "title": {
          "text": "count"
         }
        }
       }
      }
     },
     "metadata": {},
     "output_type": "display_data"
    }
   ],
   "source": [
    "pitch_data.show_y_location_hist(\"pitch_y\")"
   ]
  },
  {
   "cell_type": "markdown",
   "metadata": {},
   "source": [
    "# Hitter"
   ]
  },
  {
   "cell_type": "code",
   "execution_count": null,
   "metadata": {},
   "outputs": [],
   "source": []
  },
  {
   "cell_type": "code",
   "execution_count": null,
   "metadata": {},
   "outputs": [
    {
     "data": {
      "application/vnd.plotly.v1+json": {
       "config": {
        "plotlyServerURL": "https://plot.ly"
       },
       "data": [
        {
         "hovertemplate": "outcome=Strike<br>pitch_x=%{x}<br>pitch_y=%{y}<extra></extra>",
         "legendgroup": "Strike",
         "marker": {
          "color": "#636efa",
          "symbol": "circle"
         },
         "mode": "markers",
         "name": "Strike",
         "orientation": "v",
         "showlegend": true,
         "type": "scatter",
         "x": [
          -0.14360323081147924,
          0.4295982740620281,
          -1.7292091807790835,
          -0.8695725423819806,
          -0.9908547722044126,
          -0.17948339742222547,
          -0.8137366546821028,
          1.3886275846088711,
          -0.20388741543446348,
          0.1597253173617746,
          -0.730144867964402,
          0.3529119459713095,
          -0.3170556093510758,
          -0.3402418436897245,
          -1.1931168471310358,
          -2.0677367052729325,
          -0.012304948776107402,
          1.7656652332669958,
          -0.1807497628016337,
          -0.8111768798184009,
          -0.1730691790605143,
          -1.3696115881218032,
          -1.006749582938239,
          -0.49514839753508083,
          -0.4572277663798866,
          -1.002343163146043,
          -1.452881593623003,
          -0.7672826244620048,
          -0.4712716733854897,
          0.10992506413234067,
          0.5289296101800638,
          -0.53641629238144,
          1.1557122246350506,
          0.07008003174100678,
          0.24930492457093173,
          0.02816886180795066,
          -0.7190814259474184,
          0.4794126246477086,
          -0.5690379308210761,
          0.71709804687617,
          -0.9423971423278604,
          0.14691715583668621,
          0.7773798650699375,
          -0.4236321601658901,
          0.4402675808419947,
          0.45035739534553143,
          -0.7347316478126498,
          0.9864631065286559,
          0.542106531004374,
          -0.5996638668558433,
          -0.36077812578453905,
          0.7625104886415249,
          0.1376974746093903,
          0.37284715879452407,
          -1.5263599010797289,
          1.2413469736080764,
          -0.21023243595716581,
          -0.30946958918453465,
          -1.5271035695110153,
          -0.5385417176425745,
          0.2034945450787499,
          -0.700331232535073,
          0.4515743686176036,
          -0.3816958868101503,
          1.4910016096524008,
          -0.0314545267568907,
          -0.35796542158262307,
          0.45982400689525044,
          -1.7076721377376205,
          -0.35947164737077136,
          1.2982503968449193,
          1.006115457895109,
          -0.1466397586048765,
          -0.5941786362079162,
          -0.662552899543545,
          -0.6035622475414579,
          0.15813240311745613,
          -1.5532175439689613,
          -0.5764317134832616,
          0.4495773419011115,
          0.40958588436353116,
          0.34512335759295504,
          0.8513875056016666,
          -1.500754302752393,
          0.49482382499105365,
          -0.29915125111588214,
          0.26781719759462613,
          -0.4621154261487267,
          0.7584751856247873,
          0.2011693209609463,
          0.24008379530139387,
          -0.5254727500733667,
          0.707956582515463,
          -0.1415390366960397,
          -1.1521972658238107,
          -0.29067347012015265,
          -0.10835801843551372,
          0.40128019534428405,
          -0.08048039441853938,
          1.3265660573342082,
          -0.1849841845211226,
          -1.0484259964481788,
          0.14472193688409632,
          0.29364269589003317,
          0.29159672732102077,
          0.27677050371024275,
          0.4021382968507036,
          0.23627871076246612,
          -1.1800078987397047,
          0.8143955775219959,
          0.9455860888850243,
          -0.24965002550261634,
          -0.32424055760494197,
          -0.8137909264297665,
          0.18019487798557027,
          0.1963346116098369,
          -0.3506664807523777,
          -0.35481538669987733,
          -0.08290766706840168,
          1.0611361720951857,
          0.771859702225679,
          0.25897960254121516,
          -0.2593428366392152,
          -0.054456814540627396,
          -0.6377933993331544,
          -0.6588568994763307,
          -0.685280372572537,
          -0.007906083127370542,
          -0.32878146783747086,
          -1.1844377959340349,
          -0.92962393795509,
          0.21387394123605225,
          -0.44563061010591365,
          -1.0108161851995607,
          -0.8491761102027657,
          -0.3818563554992109,
          0.519503021702464,
          0.4978627706678207,
          0.5500250519089904,
          -0.26640134307572017,
          -1.416342496168977,
          -0.12933641578938085,
          -1.086704767752365,
          0.10855329813274628,
          0.18641251753426527,
          0.3423686663630379,
          -0.5081143164053926,
          0.5715142824425401,
          -1.009803243461293,
          0.5889869050545881,
          -0.4931440858720467,
          1.6414882832876614,
          -0.24890956216739432,
          -0.5660284850271832,
          1.1618612488396347,
          1.8508167985022357,
          0.7811379214271794,
          0.7929934217051869,
          -0.6666449653674975,
          -0.33021658492221617,
          0.8173434793053134,
          1.6511734149820154,
          -1.485953718891125,
          0.01444860573030915,
          -0.2842093121278845,
          0.06055206764112943,
          -1.1017731078987,
          -0.4055750870519469,
          0.5854522147144632,
          0.059280897459571456,
          -1.6226807213053287,
          -0.5349177423303296,
          -0.39147756868276634,
          -0.03582830919454885,
          -0.5166094917183334,
          -0.15628804669604046,
          0.17564386110421853,
          0.5856940216680631,
          1.47416256636534,
          -0.34515781902332177,
          -0.9286517663045507,
          1.6205974062445345,
          1.0103056795756058,
          -0.17800861815820013,
          0.9772877707273773,
          0.3072872161400007,
          0.9069747848913375,
          -0.8109445889295412,
          -0.8559472933138076,
          1.8192911080874106,
          0.05447312089509865,
          -0.16262383331918595,
          -0.3354269944872799,
          -0.21901378942558067,
          -0.5781223066927236,
          -0.4669199033906948,
          0.3902482506285036,
          2.0615671665114577,
          -0.22359791241743526,
          -0.6189414691341535,
          0.8795383526172746,
          0.5347251701955502,
          0.2936174107072519,
          -0.36753175087597956,
          0.2611958880247761,
          -0.08194467898213151,
          -1.3812270081314526,
          -0.03961897110062717,
          -0.19427728296115618,
          0.1291435776180481,
          1.585306200000126,
          0.03376287045282913,
          -0.06951689708831624,
          0.09742425371096221,
          0.9829780278966583,
          0.08052921072848408,
          1.5387924052629076,
          -1.0089141934895671,
          1.0807870724504558,
          1.4073189944413873,
          -0.41494599434214796,
          -0.4947373292255643,
          -1.0622674440576356,
          2.421505866472129,
          -0.05008978615106617,
          0.40973766404647605,
          0.5032626289544212,
          -0.016571042477006734,
          -0.4402657332320051,
          -0.06638167582174555,
          -0.7213609730871885,
          0.5879216081268894,
          -0.09850079623606843,
          0.09358493438065496,
          1.2506238969192733,
          -0.5067056699957032,
          0.5739739820266967,
          -0.6997979140715281,
          -1.0435810665181888,
          0.20464578492671953,
          -0.5802016994763125,
          0.23608456387720497,
          -1.2343869727803494,
          -2.1410672599178735,
          0.09997592423670162,
          0.2971623258791733,
          1.4241329707496873,
          1.1302578582052059,
          -0.06182844936784597,
          0.7641427797882195,
          -0.8604778116857444,
          -0.751805828728083,
          0.9554787064149242,
          1.283880330943204,
          0.3735349020568934,
          0.2557904103975599,
          0.46474562808705056,
          0.967595415124857,
          0.8014785213476945,
          1.304642997029949,
          0.9180719378634603,
          1.1481559413503686,
          0.0779457199590984,
          0.1795492550349347,
          1.4287661362596424,
          -0.06855800923389281,
          -0.26579804073053087,
          1.4419044968413481,
          0.8449730684422043,
          -0.18003105093716318,
          0.36247802108014865,
          0.7288151117491909,
          -0.42843515093530526,
          0.8256718062565686,
          -2.259837650486543,
          -0.0074860732510108555,
          -0.46931430167024735,
          -0.13246912991200674,
          1.440966774815198,
          0.030071266199167595,
          -0.2315435589988043,
          -0.4957654829589092,
          -0.3321513590654572,
          -0.7380696156559963,
          -1.01338521866428,
          -0.6386061766188877,
          -0.5758776798159663,
          0.43308258691500534,
          0.2198925251187106,
          -0.00817168266688576,
          0.2902515241477967,
          -0.051643150066248894,
          0.8778223804401859,
          1.2321915405293336,
          -0.24675229814518024,
          0.13374321773800613,
          0.2465578812656281,
          -1.3010614702521945,
          0.16481688862873817,
          0.6193276561609787,
          0.6775531792921861,
          0.026683051942356,
          -0.2938289526695673,
          -0.2348121289714038,
          -0.07677340513588628,
          -0.9891247952196791,
          0.22454250378823917,
          0.9844947728370892,
          0.9297767415579484,
          -0.0049591334461900624,
          0.21258605436632563,
          0.10903873542769194,
          -0.7194034289502738,
          -0.8383673091563566,
          0.9532142551371626,
          0.9487276926607147,
          0.912316266811434,
          -0.5883661543200094,
          0.8665962841073757,
          -0.8158010113586427,
          1.3950133431285405,
          -0.3626122164944486,
          0.4724787987660039,
          -0.6304362602151067,
          1.7541556592420051,
          -1.3166182266972317,
          -0.4500883062189465,
          0.6089031171054162,
          -0.06932747414168502,
          1.339170524333308,
          -0.865847892432019,
          0.36761128638565893,
          -0.2664827689653275,
          0.5524238211599113,
          0.4148983602186848,
          0.53160169482982,
          -0.9241912567946042,
          -0.3845549148816049,
          -0.5733447262794197,
          -0.4657412445842162,
          0.2860846046057515,
          0.739345285034497,
          0.9983897811560244,
          0.7219753845139635,
          0.2926979904518716,
          0.45414198089054997,
          0.3091842561927609,
          0.5523396982281227,
          -0.03431698360317311,
          -0.5694443196911397,
          -0.7265820991792444,
          -0.12542650294312369,
          -0.5831939383309164,
          0.8219721913734875,
          -0.26788862813996733,
          -0.16761699195949228,
          0.31517672769921606,
          0.5585028566992849,
          0.8972995002513524,
          0.3978173504831873,
          -1.5370920992118609,
          1.4998660603165617,
          0.8749080011371804,
          1.5307162882521304,
          0.07219754579503797,
          0.017127549221005497,
          0.5710666939618874,
          -0.09962104274879811,
          -0.2866696268889265,
          -1.5013292180056221,
          -1.0630527527059321,
          1.1311477738133782,
          0.6011041141011977,
          -0.6870364638455562,
          1.6409022465750676,
          -0.016648976499218,
          0.5526432915687853,
          0.3642720450488421,
          0.4150551737789303,
          0.4584351225046668,
          -0.5996997355578437,
          0.003489367887465438,
          -0.539937422173684,
          -0.15069502126564846,
          1.6954307999619551,
          0.18897630298280196,
          -0.07510787434179601,
          -0.3137124938035088,
          -0.8419827040276828,
          1.3940510203055874,
          -0.07896576127474055,
          -0.6690346190082171,
          -0.08190439382127314,
          -0.6284886490228679,
          0.47669682975972605,
          -0.0640269123868941,
          0.8631064127161122,
          -1.6234695795097387,
          -0.5638175408674643,
          -0.6802921247825898,
          1.5998947150801957,
          -0.03749566842786551,
          -0.4562759935562718,
          0.2672960233969435,
          0.18514562106063914,
          1.0767247673905587,
          -1.635458801743772,
          0.01923426046307868,
          -2.253121013265878,
          0.23953473151800933,
          1.4985015599128142,
          -0.43201673635148624,
          -0.4619662154832048,
          0.443681184194,
          0.48931235709811904,
          0.02808027262792789,
          -0.8496918440030997,
          -0.3954589041642457,
          -0.29732161335443574,
          -0.34051505573319807,
          -0.09813822501334375,
          -0.6358577096333087,
          2.5985199403051005,
          0.17554170500985145,
          -1.3665147998761766,
          -0.019586790657980822,
          0.9563724946176837,
          0.7559126193401469,
          0.5555732180535815,
          1.1115986884462696,
          -1.2654076798023584,
          0.5819117949899847,
          -1.1143136992299683,
          -1.8298983478340998,
          0.347309753161971,
          -0.08150134552575757,
          -0.5072721888238829,
          0.5346686262690985,
          -1.1301320390762566,
          0.8780355736076324,
          -0.6789038705608469,
          1.3397211098191357,
          -0.5421006635667068,
          0.951219795831631,
          -0.7555426717905832,
          0.5266261556927767,
          0.6190488705054493,
          0.4171405643083799,
          -0.0860528798968585,
          0.013230381178686983,
          0.20225663849428827,
          0.1693486129452796,
          -0.18243774690899633,
          -0.41949853580468743,
          0.5151216926474522,
          -1.2834442676732614,
          -0.5149579578556726,
          -0.16709659716693587,
          -0.5992882430882513,
          -1.0598138292191652,
          -0.3409916309418933,
          -0.034080411721369226,
          0.3548438541912914,
          0.9076382274855389,
          -0.16535411707322817,
          0.5959375148273297,
          0.6523035226354926,
          0.3059178877866529,
          -0.7207523392842906,
          -0.5604381990172124,
          -0.060533806062301534,
          1.4386609656917675,
          1.3017153780050243,
          0.4555310504534492,
          0.1973877840689504,
          1.1716117676730555,
          -1.755758209054867,
          0.25463356475412063,
          -0.4177392068111912,
          -0.35229860498409765,
          -0.3450098992153369,
          0.6699839418792616,
          0.3000853088539492,
          0.23901599493737347,
          -0.7591797125721245,
          1.1547898018244942,
          -0.36911244936821547,
          -0.7098139681873337,
          -0.9637813662367456,
          1.1622752976316275,
          0.5164933681536485,
          0.02564910446062505,
          -0.3138000501562743,
          1.484331630453186,
          -0.6257710722605861,
          -1.2723647728311793,
          -0.4515020304838523,
          -0.5792028761894705,
          -0.07917303602332461,
          0.9803209003257658,
          1.4449092557297336,
          0.5213045814668296,
          0.7079507439393599,
          0.13865750362873483,
          -1.0788139583182725,
          -0.255800682101895,
          1.3488903737860969,
          0.759712186534683,
          0.7791357475988362,
          -0.35948756074643695,
          0.2813728791146611,
          0.7482878012791465,
          -0.03444205006361834,
          0.49695624202174254,
          -0.15750247337241044,
          -0.0074161825606900095,
          0.16830032737512376,
          -1.3448857104010554,
          -0.6628826606491739,
          0.043891464552211955,
          0.1494093606564909,
          0.8613591062422736,
          0.2683341795782892,
          1.436220451678888,
          0.81197063319024,
          -0.4986457256452106,
          0.9069981999590844,
          -0.2084518577782019,
          -0.2553632767185992,
          -1.4196461073553903,
          -1.5024343762382726,
          -0.5507623275889278,
          -2.069130229160743,
          0.7002509595731474,
          -0.6845215194246088,
          0.02881479252250782,
          0.7925881961722507,
          -0.30476547249143554,
          1.2430214800806132,
          1.064194601796426,
          -0.020040284850689073,
          0.6052192491445922,
          0.10214114584938362,
          -0.6532165316788496,
          -0.12332867596918402,
          -0.5271956254652753,
          0.20220706483537662,
          0.8443421174961573,
          -0.5809487673382507,
          -0.21211742404106346,
          0.780198592182238,
          -0.6018099787602925,
          -0.052233898549936014,
          -0.6592009561327521,
          0.8597609818350184,
          1.6105743096289695,
          0.5405180932940001,
          0.9248430265870661,
          -0.5271444387104381,
          -0.9840800251258107,
          -0.78070535112028,
          -0.5828157197194234,
          0.6598248238670644,
          -1.895796120711097,
          0.5295884436067585,
          0.15549424830608966,
          0.7981195981511484,
          -0.6398963005192877,
          -0.009038761872872217,
          1.7362907516692554,
          0.11103535032524521,
          -0.48782564175902043,
          -0.4166353926868285,
          -0.4591208174689605,
          0.3033887856408069,
          -0.035410996903468904,
          -0.15588638731056592,
          -0.31768764280890444,
          -0.5009920229175785,
          -0.4019604524747285,
          0.21959225904113502,
          -1.050765863573587,
          -1.0666106040351349,
          0.06377900938416085,
          0.14517926226514125,
          1.656151888035923,
          -0.19430077882599148,
          -1.2488376066177884,
          1.1608321312664156,
          0.3285416324289947,
          -0.06040489960168563,
          -0.0899416761042841,
          0.7338110893192344,
          -0.9727728867440476,
          -0.6907241227256898,
          0.3574231075920557,
          -0.034231970389303895,
          -0.6325889815137186,
          0.6844820162040967,
          0.719750368798315,
          -0.8198102470118062,
          1.313082407474391,
          0.05023237412441482,
          0.1777027359431071,
          1.2125841547549612,
          -1.3285933582488156,
          1.101726214685274,
          0.49330809137449017,
          -0.9156315628595714,
          0.20640959948259377,
          0.9959812157082002,
          0.08112851823887245,
          -0.5049375500749888,
          0.8596660938727662,
          -0.16038129547942273,
          -0.5146309653328783,
          -0.3467084321383526,
          0.4722279161146718,
          -0.09657825074494175,
          -0.7980181810739163,
          -0.322103277595118,
          0.45452713641525466,
          0.07244269897750225,
          0.6765738117851497,
          0.2615038487963832,
          1.2382138124399722,
          -0.5990044011652625,
          -0.2897276994462737,
          0.5172490049237066,
          -0.7156545695011044,
          -0.05112216478048646,
          -0.8170732541053216,
          -1.8649710585988808,
          0.7078842000335286,
          0.27975546985125727,
          0.862964202744346,
          0.24054890868645543,
          0.7176760579128013,
          0.16325270043109044,
          1.598061969989777,
          -0.7333616376199725,
          0.29264483031751554,
          0.26649771582010606,
          -1.3388508054050838,
          -1.2923570521194048,
          -0.4758246866409914,
          -0.07253116359642328,
          1.0799476691382406,
          0.5425804527305957,
          1.9367014944229552,
          -0.010760840679773218,
          0.010254611452996604,
          -1.3195546479999876,
          1.5113909825292828,
          -0.07947879028978766,
          1.1135925057510014,
          1.68043894971799,
          0.5088866434296837,
          -0.0019291213673222488,
          -1.4864603777220404,
          0.5104395861353453,
          0.9722533278155774,
          1.369891571634806,
          0.34001765079971397,
          0.501445342963237,
          0.4470813099847417,
          0.5895534669385154,
          -1.0157228736956783,
          1.1698694493213828,
          -0.4133856726766254,
          0.5233902367862394,
          -0.5161536437178396,
          1.20687548058157,
          -0.7912041452163809,
          -0.12619017019611364,
          0.7766546548080902,
          -0.45959516358152364,
          -1.2643164138887562,
          -0.8891787962038171,
          -0.0709553665431455,
          0.536640710332886,
          0.21674349790014352,
          0.18772155532177393,
          -0.7764131863509054,
          -0.951206591657155,
          -0.8585091316375398,
          -0.1213174267192077,
          -0.10115482180369696,
          1.3824561635943389,
          -0.5134918029715763,
          -0.4209519934842995,
          0.6335301924942879,
          -0.9869286829532702,
          -1.1104430415176407,
          -0.5572828670051625,
          -0.005986263037921176,
          -1.8041186911915554,
          0.20110719522419118,
          -0.10678595638786863,
          0.8841578577012185,
          -0.5332485939980351,
          0.03563345071133169,
          -1.945626474052319,
          -0.24979911179965458,
          -0.05272996389429283,
          1.3020644407725404,
          0.9920132873695212,
          0.4529283342137822,
          -1.403913046021709,
          -0.3681040173445486,
          -0.539329565059892,
          0.30252406085452327,
          1.2408191396155641,
          -0.3833289660590646,
          -0.3820291693279637,
          -0.0302428197642696,
          -0.8666331973550033,
          -0.5490248150391418,
          -0.226799825440088,
          1.293277956757119,
          -0.5648061806819951,
          -0.009166010794132476,
          -0.09457689129654591,
          0.42602807596207304,
          0.4858273800237993,
          0.1953231693993205,
          -0.17382545164046734,
          0.3969973495748647,
          -1.0378412377382464,
          0.7305933307072202,
          0.8946772302946833,
          0.08734095827822148,
          -0.6249289181405284,
          -2.3944688880486926,
          0.6259737418025402,
          -0.6813215650930999,
          0.12843478050158866,
          0.329892501648682,
          0.5318908989864896,
          -0.5437057285543532,
          -0.6134323757226021,
          -0.8388855463069547,
          0.9965174374940141,
          -0.9805768703345558,
          -0.27386456946095267,
          -0.013346679280216326,
          -0.5043084693590276,
          0.2531888358673787,
          0.6169866633652784,
          -1.695504835472946,
          -0.1576969982540151,
          -0.097914241050805,
          0.1511159187738256,
          -0.8216714787278625,
          1.118973714246269,
          1.4463312466152956,
          0.9731469912063639,
          -1.24880809526538,
          0.3501127707063936,
          1.7956907938997,
          0.9664848071168984,
          1.0340778658976253,
          -0.8602940583166898,
          0.4305149219418476,
          0.1880441930755414,
          -2.0526070247594967,
          0.2835815209928931,
          1.0768939394771733,
          0.9483385050761652,
          0.5603983226929811,
          0.04737086625167637,
          -0.21756047065136894,
          1.164028670309738,
          -0.4164381469130811,
          1.3891299907695287,
          0.6552529513696645,
          -0.23400433515154345,
          -0.05614338350233657,
          -0.2099441742828256,
          -0.7109266094327027,
          1.2259805850059964,
          -1.2624870525823892,
          0.1800285935278298,
          0.1736853025008978,
          -0.28385477869695874,
          0.7329600274844482,
          1.231171726810433,
          -1.0153473960799535,
          0.6510667216966144,
          -0.2661168577399036,
          0.18476511151244993,
          0.03856380049334199,
          -1.0099976708341807,
          0.11348698424593265,
          1.417508375199758,
          -0.24872653554593235,
          0.5612207227289157,
          -1.208881085530638,
          1.6725246311715134,
          -1.0253475295123295,
          -0.6606553237435016,
          -0.9283341329843716,
          0.15490361111859777,
          -0.14050514523971377,
          0.27022347680938874,
          -0.7333914885220132,
          0.7312950485092748,
          -0.33406446112100996,
          -0.28645113554267027,
          0.012901664017194111,
          -0.6145254094205058,
          0.26054069425345966,
          -0.8706302018588277,
          0.14752031196706705,
          -0.5564305621960391,
          0.624894820287551,
          0.07754400859876627,
          -1.5115362724550623,
          0.4254397428918813,
          -0.0939726582874909,
          0.13334075380105553,
          0.0985121037481993,
          1.0708071063624913,
          -0.9724664467177593,
          0.5366344968821257,
          -1.0465478611495342,
          -1.385772246757034,
          -0.6725480570652725,
          -0.2700702907584554,
          -2.130965229264217,
          0.5107655279187944,
          -0.009709746486538093,
          0.3647494836453259,
          -0.17703613394672116,
          -0.45969243293941464,
          -0.2982695217530807,
          -0.5269932529163875,
          -0.7157477236639723,
          0.8138134392588539,
          -0.25477565384775674,
          0.016249581179264727,
          0.48257003511931207,
          -0.2812455269613789,
          0.5717151107820762,
          -0.8406374521060552,
          0.877374327156535,
          -0.9971238014756876,
          0.3213540665560888,
          -0.6961460951116947,
          -0.04443453160979535,
          0.0878735940193308,
          1.1276443863730072,
          -0.3769125948920183,
          0.7502017040834381,
          0.8270472840725122,
          0.0861647333093953,
          0.1285824782060166,
          0.38696074389651886,
          1.0203304828449817,
          0.1254548600246143,
          -1.159280266790966,
          1.0036362485690595,
          0.02927481731725292,
          -0.2223680584556568,
          -0.025708307125350698,
          1.1107429092843448,
          0.060627131934992695,
          -1.3297578642619594,
          -1.1388591505849102,
          0.32091475538492714,
          1.501777876032821,
          -1.424906332738471,
          0.6650841481680875,
          -0.26652995608946506,
          0.25294740434134727,
          0.34511797185803206,
          0.30343691340457757,
          -0.4941921105774346,
          0.8919925228006644,
          0.6058925233243296,
          0.25437708144579174,
          1.4752476178466267,
          0.3167246624615472,
          1.0527405413724413,
          -0.4159570549686236,
          1.0537958178948983,
          0.018675419647004633,
          -0.9305272192983397,
          1.9425862496228676,
          0.4111631225449719,
          1.0505241842859032,
          -1.5710104937024434,
          -0.166337161227416,
          0.6176056153160244,
          -0.08290835052195827,
          0.943352371009083,
          0.5840645485718751,
          -0.18339644810493513,
          0.027168005326510213,
          1.5115728848070649,
          -3.166162214227087,
          -0.12314574992290316,
          -0.9212244017892266,
          0.41920741906239173,
          -0.47367583969914406,
          -0.6293660070349105,
          0.16367638665265524,
          -0.462447182210428,
          -0.38411215054403075,
          0.31472378434851267,
          1.044913534995313,
          -0.19823913238497104,
          0.23029959350679458,
          -0.46427166534042225,
          0.3811517419710551,
          -0.5241178501517904,
          0.15021180114987223,
          -1.2892066431836442,
          0.16774780014094356,
          -0.5220996791729815,
          0.6852448560012073,
          1.4720734052971318,
          0.5598861462082639,
          1.4716689409357846,
          -0.5902369290427986,
          0.17297643273906382,
          -0.8527429517404409,
          0.48777765022770747,
          0.13201745231063447,
          0.47238100835881874,
          -0.2667564006011674,
          0.5371452271209459,
          -0.6899548956309297,
          0.8331317664964516,
          -0.14902714771069056,
          0.8070505236673946,
          0.40672594972185594,
          0.0888926020325686,
          0.21623378438762647,
          0.2389736392484267,
          0.011160757977718913,
          1.492160797065221,
          0.8675839942312202,
          0.0393096917787751,
          -0.15481698342146888,
          0.9817081919985302,
          0.30102770242369475,
          -0.2430383751956778,
          0.31458695238794065,
          0.7153207352353723,
          -0.6286780305561596,
          1.7191159357643278,
          -0.3227741007130686,
          -0.16135098797009098,
          -1.0618785816424965,
          1.597433218790321,
          -0.27378607645876896,
          0.09978800520628882,
          -0.325709741839067,
          0.47945596283723024,
          -0.6294622848087895,
          -0.7672283173247068,
          -0.7465602103087261,
          -1.1888881969219312,
          -0.44957302597721044,
          0.07119938398164455,
          0.3920470317963984,
          0.06696995921187028,
          -0.7475483660327439,
          0.6672871613169798,
          -0.7502002194564681,
          -0.23375194614483105,
          1.7717574220344945,
          1.1094428113027448,
          -0.532728274865687,
          -0.017156317581444525,
          -0.031208968927490165,
          0.05868639323461815,
          -1.3084374254231625,
          0.1952029126352127,
          -0.7916889866247726,
          -0.6662988523534853,
          1.235644272947161,
          -1.4418441669138264,
          0.008957803529084426,
          0.49232404593946816,
          -0.14115200497373312,
          0.9336838827106474,
          0.6086368105392508,
          0.60351698523243,
          -0.7798418617280867,
          0.44435182299803677,
          -0.163125532782262,
          -0.13892245372160883,
          -0.2972079885965227,
          0.34950262416852595,
          -1.0425556433147467,
          -0.2443592272741101,
          0.05533628089784818,
          -0.17052300947931676
         ],
         "xaxis": "x",
         "y": [
          -1.258666969711266,
          -0.20381616121726587,
          -0.6812326027215828,
          -2.063285612669484,
          0.3505544948751491,
          -0.3497960732465683,
          -0.04112109347144521,
          0.3689477903745236,
          -0.559781389297388,
          -0.9342224779191107,
          -0.14368969129454057,
          0.08664640545357644,
          2.128884637675517,
          -0.07557429347033706,
          0.24475739940952362,
          0.4291180604982599,
          -0.7480321832076682,
          -0.11741777438323392,
          -0.8207712828795317,
          -0.27888163841035024,
          -0.8058985391334328,
          0.6080782660089924,
          0.13961915080900517,
          0.28767503115885745,
          -1.3817188054736198,
          -0.80194812697441,
          0.024532086679404982,
          -0.7185442881241718,
          0.2725434641794981,
          -0.6795614497672501,
          0.22572815671072488,
          -0.45135248960602337,
          -0.18242009938828657,
          -0.08658248292168894,
          0.4184832264961339,
          1.0104569845954363,
          -1.7228986492540705,
          1.139856586596975,
          1.147352450576377,
          0.0575552475944686,
          0.9404630820339865,
          0.1368446768703576,
          -1.0407590558810154,
          -0.23250989992744767,
          -1.2938915731697902,
          1.1287697715878178,
          -0.6923445827498061,
          1.795309690720889,
          1.026283598625082,
          0.5984002149956228,
          -0.7583686751063179,
          -0.4293965345887128,
          0.4695001979255002,
          0.6333376238000924,
          0.7718915779573232,
          1.1203855866593893,
          0.3418388613665656,
          1.4684656334950181,
          0.38279395933722926,
          -0.19392010833782586,
          -1.749237485359081,
          -0.6519765570215618,
          -0.12805046835189482,
          0.34726504514697376,
          -0.16602669496643838,
          -0.8111960014916122,
          0.06464868381612832,
          0.5205048201841539,
          0.7637033079108739,
          0.5379514883288854,
          0.42207379568996445,
          -0.5593663828756729,
          1.3024568016644484,
          -0.0926492645129358,
          -0.9971002657176551,
          -0.7518164700489918,
          0.33568468516066086,
          0.09116852324053752,
          -0.30702989774643175,
          0.5095334136264834,
          0.48440550526331183,
          -0.6244191545227484,
          1.1887777354011,
          -1.8934042689691453,
          0.688936625114576,
          0.8365203226656772,
          -0.9153813990461521,
          -0.920720559000355,
          -1.1416989968421345,
          -0.009677541999331971,
          -0.6252277870499013,
          1.134736840981624,
          0.5831107068878244,
          1.3584282926267148,
          -0.11767493344770301,
          0.26159150237832157,
          0.5690851990015927,
          0.6692188306751581,
          -0.07770296950039593,
          -0.054938279122929416,
          0.32821050973366106,
          1.7577277146571555,
          -0.6236744771410391,
          0.5444025747339268,
          0.5595357460801139,
          -0.3274477381194141,
          0.07516052490380586,
          -0.07345491796920034,
          0.3512428009075884,
          0.13363675811434134,
          0.8457319628762556,
          0.005643287901489466,
          1.7429845479876884,
          0.4864408293943943,
          1.0634502601726028,
          0.05359722355603649,
          1.0517429424415952,
          -1.133318167602506,
          0.1531636687995679,
          0.5076970858506409,
          -0.7701718283149792,
          -0.647281211081487,
          -0.5399179536822517,
          0.830246315425031,
          -0.21298103026365872,
          1.1234509848657377,
          -0.003018670157979964,
          -0.8563783115428524,
          -0.49024655641353515,
          0.966144511225952,
          0.3708388949492943,
          -0.5587617010614938,
          0.7533337413120693,
          0.14042491430364223,
          0.23717692681490637,
          0.9072830363758574,
          -0.4004095696552463,
          -0.6834275780127169,
          -0.30537950216345794,
          1.1273518459017897,
          0.7134117544344675,
          2.152190573498949,
          -0.5869128844962996,
          -0.5454680699259845,
          -1.666361593091575,
          0.25236512914143816,
          0.2636266364160443,
          -0.007071381839954144,
          -1.323730464033864,
          0.1627130717203968,
          0.7550599377636571,
          0.6622289173802623,
          -0.03892047448361359,
          0.17710668849737762,
          -0.03441244771104208,
          0.44287756326968347,
          0.1538526187065575,
          0.33474847446166145,
          0.012485045503569717,
          0.9700076936245818,
          -0.6236460016853609,
          -0.21805962632750947,
          0.21720997055100308,
          -0.6919296654600675,
          -0.19658761486413445,
          0.6758600548176396,
          1.1304241501513146,
          -1.9115979871863487,
          0.5931420636441758,
          0.1788175430144338,
          -0.5637655630908142,
          -0.668058735595001,
          1.5861707761577815,
          0.9258136758736872,
          0.35586564173404617,
          0.31557557510504575,
          0.5418064893315413,
          -0.6006771437212692,
          1.3902130000596473,
          0.5906001380237018,
          0.5452144739703975,
          -0.24665112902497208,
          1.5953796847028736,
          -0.43110820706083985,
          -0.38390728914330785,
          0.42059440499771755,
          -0.6789706053652804,
          -0.2151270265153264,
          -0.05582588122169135,
          0.9148486628151112,
          -0.7915812474543367,
          -0.0307100377051563,
          0.6758242419669113,
          -1.663058327463589,
          -1.224542446988842,
          -1.2675794682674515,
          -1.0057639765295632,
          -0.522283492697444,
          0.01070929611322873,
          -0.6068906269450554,
          0.34001415252600864,
          0.1521204100398437,
          1.3200173522144583,
          -1.6991539453453228,
          0.15514606515664237,
          0.6136173439817956,
          0.5967275517890297,
          -0.1581524577776757,
          0.9149828150188704,
          0.050527377848396775,
          -0.4517962992401801,
          0.9077535527842494,
          -0.7980029816105787,
          -0.24153051063260011,
          -1.0224712580008832,
          -0.3624279963630993,
          0.07806339803486434,
          0.363514330955217,
          0.10669428740377809,
          0.2633222916336527,
          -0.9701583741569474,
          0.757976253407803,
          0.06564717036348004,
          -1.1597014281969158,
          -0.7077639783480296,
          -0.31653680795090644,
          0.7113697177933748,
          0.28649088014007185,
          0.44038130713007423,
          1.0800592080714508,
          -0.9285256194874079,
          -0.686511775122305,
          1.1412202966033853,
          -0.342175338858669,
          1.1576076313617985,
          -0.23046120955935095,
          0.133388572085689,
          -0.5769058267254564,
          -1.082723711533809,
          0.41681543333203847,
          -0.7136538904376971,
          -0.24921595941945962,
          -0.04440876243228458,
          0.7724260288458189,
          0.5482012800417854,
          0.07553306657829441,
          -0.3988999919365853,
          -1.4459536272850722,
          0.9837790872089089,
          0.5404141480717454,
          -0.5283872626533084,
          -1.146816425084838,
          0.5620014246812223,
          0.7443244141699766,
          -0.65187686469959,
          0.7191145531792045,
          -1.2390637747991784,
          -0.059209122731407736,
          0.19055316105603023,
          -0.8318620032865526,
          0.05326194273175738,
          0.5181311480140218,
          -0.35890654591834875,
          -1.3563252962253014,
          0.49738749725997194,
          -0.9091129158237361,
          1.4572853360565636,
          -0.4989610719022196,
          -0.3180281563874383,
          0.5585993824133693,
          1.088548916853893,
          -0.07613259233709169,
          -0.9856560029821998,
          0.5782747693840445,
          0.958629883540268,
          1.277160336224148,
          0.9179452465981519,
          0.7415264480198639,
          -1.0655707355751787,
          -0.5489077288857551,
          0.09743468286632696,
          1.5159147044587573,
          1.6806392688240614,
          0.7209552359309104,
          1.1304879440772073,
          0.29597949446732774,
          0.3874993684799367,
          -0.15011442719073775,
          0.9705924212398224,
          -0.4094563222954244,
          0.15684644214472027,
          -0.16873606737654664,
          0.04448728686020792,
          -0.7820955526768861,
          -0.5241932055502154,
          -0.9529406335906626,
          0.007615433112793463,
          0.7605538848781047,
          -1.3787837046326434,
          0.5712881763649397,
          0.38502859977795123,
          -0.1635855645475072,
          0.2782805214255995,
          -0.8190439821039589,
          0.610896934263605,
          -0.499401504782347,
          0.5002220443713512,
          1.858130762121919,
          0.7564496984152582,
          0.38050483444244715,
          -0.27127288217931833,
          0.38332875226540664,
          0.4859288158438705,
          0.5697211246881755,
          -0.22713581590989154,
          -0.5819390511315421,
          0.4771866139126548,
          0.1999442396195749,
          0.34424292802061723,
          0.06514971481631174,
          1.169925786382253,
          0.43100777949715957,
          0.24115192124984056,
          -0.3633095950943664,
          0.5528773603177759,
          -0.3129546548860041,
          -0.9509427988938288,
          0.291286228220888,
          0.7198399768217878,
          1.2411861425826065,
          -1.4445584754519547,
          -0.0836591791753205,
          0.7538379683208242,
          -0.2304089649589862,
          -0.8387341142643825,
          -0.43708140213347957,
          -0.6503621517179831,
          0.5676988301316416,
          0.3283308220327307,
          0.37816768450135446,
          0.26670614422038363,
          -1.0252952027658169,
          -0.4291828103494528,
          -0.06976102238464582,
          0.3264202401877429,
          -1.437044624189672,
          0.09250677804771593,
          0.02983845482469187,
          -0.32087121005567465,
          0.4218263348960506,
          -0.2186149092642343,
          -1.0463944599257133,
          -0.06197024056515381,
          -0.7011758358023953,
          -0.06130614577361081,
          1.0162153175624036,
          -0.6678739971148,
          -1.0407109404294532,
          -0.2434255147440168,
          -1.2170703477517528,
          -0.257760440684734,
          -0.48719503951763204,
          0.39328781990141404,
          -0.042270742554953,
          0.5189092406597556,
          0.20082736705703166,
          -0.9730030421788721,
          0.07133559663599694,
          0.5027984012303723,
          -1.3206181058076791,
          -0.21555068905653552,
          -0.24421047506414312,
          0.6936340524308315,
          -0.4734566368535731,
          -0.23199971772990702,
          0.3627210835099613,
          -0.6267797561953288,
          1.0396257777548212,
          -0.2941322836316759,
          -0.9442513848597058,
          -0.8756752301309817,
          0.39595623400154384,
          0.7628347279759855,
          -0.02473345898259651,
          -0.674217977044151,
          -0.19683623731691519,
          0.6421326860260982,
          -0.15800638763966565,
          -0.9964006794193847,
          0.5923283038597527,
          0.06495345582028454,
          0.11403371528447886,
          0.47969239552407245,
          -1.1125052873070675,
          -0.004091013540027546,
          -0.15434007183730397,
          1.020789716381366,
          -0.8714342508124192,
          -1.7193980061760104,
          -0.06691795602321433,
          -1.0566869138052215,
          -0.02172167183220755,
          -0.006227823330670315,
          -0.6417085805796567,
          -1.2588000380850792,
          -1.0646615713409764,
          1.699133468455672,
          0.7934875185440048,
          -0.15770501299141904,
          0.7735825675229769,
          -0.6246404858978534,
          0.5525966200496212,
          0.21200271444455399,
          0.2382907939496783,
          0.35969023741457234,
          -0.531461846895462,
          0.5114672793912156,
          -0.23420303962702432,
          -0.9145597115100143,
          -0.6353297823969075,
          -1.212187275159546,
          -0.7583898920973445,
          0.5710708610288413,
          -1.6302649666859448,
          -0.8146143127514466,
          -0.08798856907519588,
          1.9026438905843184,
          -0.20611352165632854,
          -0.3301812311679891,
          -0.21713379682198544,
          -0.44463624903115534,
          -0.15998737598500462,
          1.1660817309097877,
          -0.14300904634494666,
          -0.4794102131503721,
          -1.239985639123604,
          1.6649261629041396,
          1.053316908749569,
          -1.4445478659061204,
          0.507569674368089,
          0.5369022990270074,
          0.36250160596864733,
          0.0434755640953405,
          -0.8742726888205403,
          -1.1574048749352237,
          -0.9213403578411447,
          1.9078649215553067,
          -0.2640857413851704,
          1.3110137260708203,
          0.006960561438869841,
          0.36030171084457485,
          0.9665638976454858,
          -0.33813743599268326,
          -0.01083419735948512,
          0.6157673485417667,
          0.6470870353501283,
          0.3434800795771451,
          -0.4020513109429707,
          -0.8410332862854756,
          0.151887512304567,
          0.12146881565281611,
          0.9754043038791264,
          0.48833834543970156,
          -0.2043131713629158,
          0.7505011916454466,
          -0.07601564325561067,
          -0.11950930203025613,
          -0.3252646384230275,
          -1.0870986666508369,
          -0.05036051015416279,
          -0.7804211931250596,
          -1.1757474494687723,
          -0.9198112723971834,
          0.7631860253791759,
          -0.11787410536490237,
          -1.579381227190413,
          -0.5568987407368299,
          -0.0696037835110385,
          0.47445321135169505,
          1.202591060579826,
          1.4530691872267751,
          1.4818653892476215,
          1.6556974566661906,
          -0.01502067845506584,
          0.09416222323810923,
          0.6524081003612004,
          1.4162155150437625,
          1.0764660356970224,
          0.041752946578036784,
          1.1058549289412216,
          -0.5420264557390788,
          0.4452619588656484,
          0.7381075047884972,
          0.8683893039699542,
          -0.03860959346474511,
          0.4990824744832558,
          -0.9186351917476755,
          -1.1881710919110684,
          -0.3057201009004315,
          -0.17137475030326374,
          0.3474179031778953,
          -1.0986221273329733,
          -0.03710630436553081,
          0.8961744159478984,
          0.06814879972869552,
          -0.6743445507294148,
          -0.2611388446364086,
          -0.21629659719642305,
          0.9000395694822433,
          0.31576769171173896,
          -1.1544379324500462,
          -0.08850928373059717,
          -0.15668005044859942,
          -0.49066237107573074,
          0.597562196830746,
          0.740448295008684,
          0.0011062073342975275,
          -1.0505551203740882,
          0.6588611167880498,
          -0.8107430528541275,
          0.7883861620227534,
          -0.04231499941988917,
          -0.06061761835966088,
          -0.9669414539698292,
          -0.8463213124859387,
          0.342387965673375,
          -0.6548479461569235,
          -0.9676475700505679,
          -0.28205356100918066,
          -0.3578496469776937,
          -0.8574013482299272,
          -0.8465975071499187,
          1.0568667320704215,
          -0.6478621614459065,
          0.8963277265435139,
          0.15004158253090447,
          0.05399191321417118,
          -0.6450131536740041,
          0.13502950635614497,
          1.069284791121469,
          -0.05998541760765584,
          0.17767097331502835,
          0.5517963141835103,
          0.5051223275652208,
          0.2694523430041258,
          1.1320446521639393,
          -0.6973997511537818,
          -0.870271853223941,
          0.10194829638687526,
          -0.19690691458187837,
          -0.2521295562488781,
          -0.5762887322400686,
          0.6453281603394728,
          1.718891751846544,
          0.917883490754485,
          -0.33723824508439976,
          0.3509585232070315,
          -1.2257391627323595,
          -0.4818502446953351,
          0.08937215082830667,
          -0.9229074010131659,
          0.0516226899681481,
          1.4068761480841774,
          -0.5377650916903499,
          -0.2845677543759868,
          -0.8338931231218496,
          -0.49817540399133947,
          -0.4381583585290549,
          0.19825185511864352,
          0.28632755589686193,
          -1.0596394070674575,
          -0.5204184581633245,
          1.395203686432278,
          -0.6340849014922695,
          0.43919287410430424,
          -0.3133940764291292,
          1.2881073322565757,
          0.7146591074380421,
          -0.27156288150131447,
          0.740570168404143,
          0.6438155753872368,
          -0.14937640897657298,
          1.068855028879619,
          0.3977576798593151,
          1.3984270795953033,
          0.28435504730190614,
          0.4836815903411829,
          0.8552308406377839,
          0.5141385987764188,
          -1.0841341921680094,
          -0.7597679851388157,
          1.1089497190203987,
          -0.11007997189122672,
          -0.9395082283102268,
          -1.2599742837270163,
          -0.6707831829844508,
          0.27799430818460097,
          0.13515536627852193,
          -1.9492204403155202,
          -1.1946211909841506,
          -0.5753123466651227,
          -0.7565536219743303,
          -0.8208259446055125,
          0.5817940791684,
          -0.4516663741286137,
          0.5635815435812846,
          0.4048388293490964,
          -0.5954043249417009,
          0.7559889375081604,
          -0.25740777500135226,
          1.4947976134836356,
          0.14566471010656282,
          -0.7763526074224271,
          -0.7114466325435792,
          0.2366946456568761,
          -0.16748584883360715,
          0.9250318286486474,
          -0.605266897572569,
          -0.603380848339143,
          -0.7586452085235201,
          -0.17379959584578486,
          -0.7396068570776362,
          0.3087034558094459,
          0.16397939017129784,
          0.39543467648215347,
          -0.005897089012065092,
          -0.3136749097099993,
          0.6253307687399192,
          0.677884705652561,
          0.6892459647542792,
          0.9622780381578965,
          -0.8059605894605031,
          -1.3752388139393827,
          0.30944085093984985,
          0.020753258811609266,
          1.033718860768299,
          -0.09590793550558589,
          -0.22746358102726735,
          -0.0853325853523393,
          -0.9741759823853271,
          -0.4120357310130178,
          0.10019709983515548,
          0.17038627720329488,
          -0.3972432447264977,
          -0.5195548089312095,
          -0.5606264247513009,
          0.0854051676369209,
          0.7263700859003202,
          2.313145415147118,
          -1.1563362485729405,
          0.0687169391902772,
          -0.8478387889763691,
          0.7073622991039569,
          -0.3814265449191335,
          -1.2751005402267181,
          -0.5640092466548521,
          -0.06004459811643399,
          0.01954358483831295,
          -0.36307995799432,
          0.7104957851165752,
          0.3573217229402281,
          -0.2291823167311433,
          -0.9327857588785881,
          0.4182886538671817,
          0.3595264423294789,
          -1.4518879196951953,
          0.42913585006345706,
          -0.24531634584645973,
          -0.20858055715637325,
          0.5412252394452524,
          1.2114891887391812,
          -0.7289768158059919,
          0.8541447400987566,
          -0.15416419392533626,
          -0.23755678836332106,
          -0.7383146250175208,
          0.0015278228595681123,
          0.7343120391478658,
          1.111554372816872,
          -1.0910843831195396,
          0.4379042740525215,
          -0.7472008683801243,
          -0.8386615082724436,
          -0.05488926252080349,
          -0.4482606899422616,
          0.08345299249847316,
          -0.04888466205331976,
          0.9438995972091285,
          0.751620628952311,
          -0.8057673380258115,
          1.09822654857359,
          1.3546472601510813,
          -0.6152314924733052,
          0.09107140915023856,
          -0.9020595743007793,
          0.38664626414323305,
          0.8612665961965019,
          1.3066941015962854,
          1.466048850249657,
          1.363673846271851,
          0.9789555157003926,
          -0.6721787468576093,
          -0.77900240555379,
          -0.4535136853547883,
          0.2830111776725611,
          -0.15313639842332957,
          1.0792771163121728,
          0.6853903839577234,
          1.4840855465826501,
          -0.4662832692709565,
          0.2810326005302457,
          0.09298212662389546,
          0.2909620471059484,
          0.6606091097439564,
          0.6138362970387191,
          -0.3239450421269699,
          -0.4286359678603476,
          1.5189224795684082,
          0.11379113673195415,
          -1.8843384727323467,
          -0.37147596283810497,
          -0.9970024059589547,
          -0.6337785890205332,
          -0.5675431458418394,
          -1.5310296969578752,
          0.33970288665055604,
          -0.0023847475228159507,
          -0.17853025054754992,
          0.6911431151703693,
          -0.5596162826674491,
          -0.5679249111744556,
          -0.6620176456484574,
          0.25505977757093284,
          -0.30235662230240334,
          -0.29893929491796534,
          -0.5365785179388841,
          0.9874988678651438,
          0.17634850164542587,
          -0.14683161799603212,
          -0.021138906699139152,
          0.2865731699739376,
          0.8942850508217434,
          -0.3115139093675977,
          2.204228757417049,
          1.2994247007811033,
          -0.06013901724556787,
          -1.6282944683825626,
          -1.5177347493797986,
          0.4216277443625549,
          -0.31730548389855356,
          0.4575253142257341,
          -0.3214224818624445,
          -0.6567247016279317,
          -0.9644232678894405,
          -1.0864005907103467,
          0.23099105757164065,
          -0.6954333599189476,
          -0.08575980776571707,
          0.7074254247693587,
          0.3427136040508899,
          0.011048244131149508,
          0.6641635843896779,
          -0.24722411136159786,
          0.11853482415145025,
          -0.3013738944479989,
          0.4518929372522068,
          -0.13170597578585808,
          -0.8776492191201308,
          1.1741963144077041,
          0.39186976292339326,
          1.0388920187742445,
          0.8587930681484577,
          0.04783663704795053,
          -0.5376584044237995,
          0.4973692852350806,
          0.41893865859651747,
          -0.4608965696723052,
          -0.2539001321087194,
          -1.4743025985729914,
          -0.5840155168040588,
          0.16328909459562008,
          -0.5090172849843724,
          -1.4059047623283294,
          -0.7746559246367454,
          -1.2527037744942575,
          -0.0190633654507174,
          -1.198330991847093,
          -0.6453378010849873,
          1.7707947371834907,
          0.21777477443322799,
          -0.3735500122888799,
          -1.1890996361188675,
          -0.008179169599403182,
          0.693544323235433,
          -0.8323504106804185,
          0.7177219572209169,
          -1.4998752689531578,
          0.6119282079158146,
          0.7369832523804161,
          -0.06306170010984882,
          0.41574552424096256,
          -0.505192566287794,
          0.4320328527630941,
          -0.6312016842883568,
          -0.4284931272654224,
          0.5719116118984907,
          0.22728128970489428,
          -0.4315827005054375,
          1.7382741693514008,
          -1.6625013851374875,
          -0.18960059969426438,
          1.1934106468471888,
          -0.48068581703878704,
          1.106664792409852,
          -0.29319743147675525,
          -1.284972446124412,
          -0.28849135008629634,
          0.0835535227777545,
          0.1990671625603248,
          -0.4461296009178814,
          -0.7000687608727705,
          0.2858786471914828,
          0.6320474739021351,
          -0.34508006807336805,
          -0.5294390850428992,
          -1.0376344986458086,
          0.47662391729833975,
          -0.1065742566467278,
          -0.9422796822461686,
          -0.40181115168582365,
          -0.5615063153149408,
          0.7722085249487164,
          -0.5963899130398104,
          -0.17903197302766594,
          0.42855045610156123,
          0.3923892534981088,
          0.9557524934910864,
          -1.0391169119468031,
          -0.053736743798652904,
          -0.45667727171813155,
          0.11457198517498242,
          1.3393660827588563,
          -0.37705955274035674,
          -1.2613333041332133,
          0.283516318393478,
          0.13820718014994132,
          -0.7446311990091312,
          -0.44460182044343505,
          -0.18666033745258304,
          -0.27350844286696807,
          -0.8856877902956105,
          -1.5610306753193344,
          -0.4567494764498636,
          -0.18968201480338828,
          -0.5413986566486585,
          -0.13810129677453792,
          0.8936754291967123,
          -1.2512029130098992,
          -0.49152813261180484,
          0.08432746428598416,
          0.5411006721980713,
          -1.6296838408444154,
          0.10633068630038363,
          0.4121343837001895,
          -0.6334239246322969,
          -0.1419856650521291,
          1.5173681181586316,
          -0.39450338363451376,
          0.8768403538391525,
          -1.5953076565783237,
          0.08396351517042938,
          -0.6044222684526148,
          0.1665904277999555,
          0.4797428577379624,
          -0.8399198353230168,
          2.323076793672082,
          0.7883843424691384,
          0.4667116487934747,
          0.6294030017058657,
          -0.4563585316389976,
          0.11480583519354216,
          -0.012496716308003591,
          -0.8526341575176326,
          -0.09307969437706173,
          0.22815242276653322,
          0.49127206020956987,
          0.17339508938362932,
          0.6889944444312929,
          -0.20996945913792356,
          -0.5437458806676299,
          0.9373999174176675,
          -0.8643701296194864,
          1.3093197637931429,
          -1.3500312081373622,
          -0.5654665701389985,
          -0.531551091233079,
          0.23332208109381944,
          -0.8869533592265935,
          -1.2084247258729348,
          1.5872889691693863,
          -0.45594131915741054,
          0.7499898780687424,
          -0.4102398199861964,
          -0.020092119115161896,
          0.20397520032154828,
          -0.5186978256764837,
          0.42398821475700926,
          1.6422293020044487,
          -0.3503289781624436,
          -1.6443041456856253,
          -0.3843407549548345,
          -0.8613126302735074,
          -0.15438345169613077,
          0.3645169784733811,
          -0.22882721603955816,
          1.6443756149035087,
          0.7445009980613834,
          0.4412075885070134,
          0.8351989523379689,
          0.2479115774577669,
          1.0430046463852387,
          -1.1194573790509745,
          0.7168541233208462,
          0.6267103046433471,
          -1.4563852299077682,
          0.49629840211040116,
          1.1892943324631775,
          -0.033721263800202565,
          -0.5854055705177703,
          0.14022354223009514,
          0.8215429049492461,
          -1.5018657062926455,
          -0.26254932868262315,
          0.4630749826203252,
          -0.27089774571661446,
          -0.997039515925657,
          1.7735441057555776,
          0.3591497209685214,
          0.37121993776671636,
          -0.3702210566533741,
          -0.16353095899600387,
          -0.6016035575911656,
          0.15753290436735484,
          0.6279727248311899,
          0.16053043532155897,
          -0.318022502099908,
          -1.1502239896061517,
          0.08448958026155766,
          -0.6757918856265827,
          -1.0411078337037123,
          -0.8340964461797797,
          -1.058131583543299,
          0.4907475376162427,
          -0.18750215526517858,
          0.6289044296694533,
          0.5672523221436605,
          -1.7331723603548603,
          -0.02149490403155588,
          -0.6092549393489102,
          -0.9400743681369633,
          -0.442176203680532,
          -0.9996166424222499,
          1.030160387022565,
          0.689463184789608,
          0.06116616821135354,
          0.5777148889057625,
          -1.1573404062029582,
          1.333774562762403,
          0.03653738342687866,
          0.7140845389910282,
          0.08568047511690313,
          0.8681674772748676,
          -0.37469385733394484,
          1.2373950717076123,
          -0.39109311573014105,
          -1.1045006480401267,
          0.34707623376135194,
          0.2814257044768091,
          0.4084512074519392,
          -0.3155358551133163,
          1.4540488463768704,
          -0.7958661603251775,
          1.1104606690720054,
          -0.43437841527159193,
          0.3411909813101303,
          1.2201476210168725,
          -0.7740099249648925,
          -0.9774945809800873,
          1.5531410845603162,
          1.3942672113742134,
          -1.0038282946180803,
          -1.3105284518908658,
          0.2590547645918567,
          0.2378415917641908,
          0.2511375521893732,
          -0.4860165808419641,
          -0.39071468875388216,
          -0.4563431567208857,
          0.06315124384452285,
          0.8413736980492617
         ],
         "yaxis": "y"
        }
       ],
       "layout": {
        "legend": {
         "title": {
          "text": "outcome"
         },
         "tracegroupgap": 0
        },
        "template": {
         "data": {
          "bar": [
           {
            "error_x": {
             "color": "#2a3f5f"
            },
            "error_y": {
             "color": "#2a3f5f"
            },
            "marker": {
             "line": {
              "color": "#E5ECF6",
              "width": 0.5
             },
             "pattern": {
              "fillmode": "overlay",
              "size": 10,
              "solidity": 0.2
             }
            },
            "type": "bar"
           }
          ],
          "barpolar": [
           {
            "marker": {
             "line": {
              "color": "#E5ECF6",
              "width": 0.5
             },
             "pattern": {
              "fillmode": "overlay",
              "size": 10,
              "solidity": 0.2
             }
            },
            "type": "barpolar"
           }
          ],
          "carpet": [
           {
            "aaxis": {
             "endlinecolor": "#2a3f5f",
             "gridcolor": "white",
             "linecolor": "white",
             "minorgridcolor": "white",
             "startlinecolor": "#2a3f5f"
            },
            "baxis": {
             "endlinecolor": "#2a3f5f",
             "gridcolor": "white",
             "linecolor": "white",
             "minorgridcolor": "white",
             "startlinecolor": "#2a3f5f"
            },
            "type": "carpet"
           }
          ],
          "choropleth": [
           {
            "colorbar": {
             "outlinewidth": 0,
             "ticks": ""
            },
            "type": "choropleth"
           }
          ],
          "contour": [
           {
            "colorbar": {
             "outlinewidth": 0,
             "ticks": ""
            },
            "colorscale": [
             [
              0,
              "#0d0887"
             ],
             [
              0.1111111111111111,
              "#46039f"
             ],
             [
              0.2222222222222222,
              "#7201a8"
             ],
             [
              0.3333333333333333,
              "#9c179e"
             ],
             [
              0.4444444444444444,
              "#bd3786"
             ],
             [
              0.5555555555555556,
              "#d8576b"
             ],
             [
              0.6666666666666666,
              "#ed7953"
             ],
             [
              0.7777777777777778,
              "#fb9f3a"
             ],
             [
              0.8888888888888888,
              "#fdca26"
             ],
             [
              1,
              "#f0f921"
             ]
            ],
            "type": "contour"
           }
          ],
          "contourcarpet": [
           {
            "colorbar": {
             "outlinewidth": 0,
             "ticks": ""
            },
            "type": "contourcarpet"
           }
          ],
          "heatmap": [
           {
            "colorbar": {
             "outlinewidth": 0,
             "ticks": ""
            },
            "colorscale": [
             [
              0,
              "#0d0887"
             ],
             [
              0.1111111111111111,
              "#46039f"
             ],
             [
              0.2222222222222222,
              "#7201a8"
             ],
             [
              0.3333333333333333,
              "#9c179e"
             ],
             [
              0.4444444444444444,
              "#bd3786"
             ],
             [
              0.5555555555555556,
              "#d8576b"
             ],
             [
              0.6666666666666666,
              "#ed7953"
             ],
             [
              0.7777777777777778,
              "#fb9f3a"
             ],
             [
              0.8888888888888888,
              "#fdca26"
             ],
             [
              1,
              "#f0f921"
             ]
            ],
            "type": "heatmap"
           }
          ],
          "heatmapgl": [
           {
            "colorbar": {
             "outlinewidth": 0,
             "ticks": ""
            },
            "colorscale": [
             [
              0,
              "#0d0887"
             ],
             [
              0.1111111111111111,
              "#46039f"
             ],
             [
              0.2222222222222222,
              "#7201a8"
             ],
             [
              0.3333333333333333,
              "#9c179e"
             ],
             [
              0.4444444444444444,
              "#bd3786"
             ],
             [
              0.5555555555555556,
              "#d8576b"
             ],
             [
              0.6666666666666666,
              "#ed7953"
             ],
             [
              0.7777777777777778,
              "#fb9f3a"
             ],
             [
              0.8888888888888888,
              "#fdca26"
             ],
             [
              1,
              "#f0f921"
             ]
            ],
            "type": "heatmapgl"
           }
          ],
          "histogram": [
           {
            "marker": {
             "pattern": {
              "fillmode": "overlay",
              "size": 10,
              "solidity": 0.2
             }
            },
            "type": "histogram"
           }
          ],
          "histogram2d": [
           {
            "colorbar": {
             "outlinewidth": 0,
             "ticks": ""
            },
            "colorscale": [
             [
              0,
              "#0d0887"
             ],
             [
              0.1111111111111111,
              "#46039f"
             ],
             [
              0.2222222222222222,
              "#7201a8"
             ],
             [
              0.3333333333333333,
              "#9c179e"
             ],
             [
              0.4444444444444444,
              "#bd3786"
             ],
             [
              0.5555555555555556,
              "#d8576b"
             ],
             [
              0.6666666666666666,
              "#ed7953"
             ],
             [
              0.7777777777777778,
              "#fb9f3a"
             ],
             [
              0.8888888888888888,
              "#fdca26"
             ],
             [
              1,
              "#f0f921"
             ]
            ],
            "type": "histogram2d"
           }
          ],
          "histogram2dcontour": [
           {
            "colorbar": {
             "outlinewidth": 0,
             "ticks": ""
            },
            "colorscale": [
             [
              0,
              "#0d0887"
             ],
             [
              0.1111111111111111,
              "#46039f"
             ],
             [
              0.2222222222222222,
              "#7201a8"
             ],
             [
              0.3333333333333333,
              "#9c179e"
             ],
             [
              0.4444444444444444,
              "#bd3786"
             ],
             [
              0.5555555555555556,
              "#d8576b"
             ],
             [
              0.6666666666666666,
              "#ed7953"
             ],
             [
              0.7777777777777778,
              "#fb9f3a"
             ],
             [
              0.8888888888888888,
              "#fdca26"
             ],
             [
              1,
              "#f0f921"
             ]
            ],
            "type": "histogram2dcontour"
           }
          ],
          "mesh3d": [
           {
            "colorbar": {
             "outlinewidth": 0,
             "ticks": ""
            },
            "type": "mesh3d"
           }
          ],
          "parcoords": [
           {
            "line": {
             "colorbar": {
              "outlinewidth": 0,
              "ticks": ""
             }
            },
            "type": "parcoords"
           }
          ],
          "pie": [
           {
            "automargin": true,
            "type": "pie"
           }
          ],
          "scatter": [
           {
            "fillpattern": {
             "fillmode": "overlay",
             "size": 10,
             "solidity": 0.2
            },
            "type": "scatter"
           }
          ],
          "scatter3d": [
           {
            "line": {
             "colorbar": {
              "outlinewidth": 0,
              "ticks": ""
             }
            },
            "marker": {
             "colorbar": {
              "outlinewidth": 0,
              "ticks": ""
             }
            },
            "type": "scatter3d"
           }
          ],
          "scattercarpet": [
           {
            "marker": {
             "colorbar": {
              "outlinewidth": 0,
              "ticks": ""
             }
            },
            "type": "scattercarpet"
           }
          ],
          "scattergeo": [
           {
            "marker": {
             "colorbar": {
              "outlinewidth": 0,
              "ticks": ""
             }
            },
            "type": "scattergeo"
           }
          ],
          "scattergl": [
           {
            "marker": {
             "colorbar": {
              "outlinewidth": 0,
              "ticks": ""
             }
            },
            "type": "scattergl"
           }
          ],
          "scattermapbox": [
           {
            "marker": {
             "colorbar": {
              "outlinewidth": 0,
              "ticks": ""
             }
            },
            "type": "scattermapbox"
           }
          ],
          "scatterpolar": [
           {
            "marker": {
             "colorbar": {
              "outlinewidth": 0,
              "ticks": ""
             }
            },
            "type": "scatterpolar"
           }
          ],
          "scatterpolargl": [
           {
            "marker": {
             "colorbar": {
              "outlinewidth": 0,
              "ticks": ""
             }
            },
            "type": "scatterpolargl"
           }
          ],
          "scatterternary": [
           {
            "marker": {
             "colorbar": {
              "outlinewidth": 0,
              "ticks": ""
             }
            },
            "type": "scatterternary"
           }
          ],
          "surface": [
           {
            "colorbar": {
             "outlinewidth": 0,
             "ticks": ""
            },
            "colorscale": [
             [
              0,
              "#0d0887"
             ],
             [
              0.1111111111111111,
              "#46039f"
             ],
             [
              0.2222222222222222,
              "#7201a8"
             ],
             [
              0.3333333333333333,
              "#9c179e"
             ],
             [
              0.4444444444444444,
              "#bd3786"
             ],
             [
              0.5555555555555556,
              "#d8576b"
             ],
             [
              0.6666666666666666,
              "#ed7953"
             ],
             [
              0.7777777777777778,
              "#fb9f3a"
             ],
             [
              0.8888888888888888,
              "#fdca26"
             ],
             [
              1,
              "#f0f921"
             ]
            ],
            "type": "surface"
           }
          ],
          "table": [
           {
            "cells": {
             "fill": {
              "color": "#EBF0F8"
             },
             "line": {
              "color": "white"
             }
            },
            "header": {
             "fill": {
              "color": "#C8D4E3"
             },
             "line": {
              "color": "white"
             }
            },
            "type": "table"
           }
          ]
         },
         "layout": {
          "annotationdefaults": {
           "arrowcolor": "#2a3f5f",
           "arrowhead": 0,
           "arrowwidth": 1
          },
          "autotypenumbers": "strict",
          "coloraxis": {
           "colorbar": {
            "outlinewidth": 0,
            "ticks": ""
           }
          },
          "colorscale": {
           "diverging": [
            [
             0,
             "#8e0152"
            ],
            [
             0.1,
             "#c51b7d"
            ],
            [
             0.2,
             "#de77ae"
            ],
            [
             0.3,
             "#f1b6da"
            ],
            [
             0.4,
             "#fde0ef"
            ],
            [
             0.5,
             "#f7f7f7"
            ],
            [
             0.6,
             "#e6f5d0"
            ],
            [
             0.7,
             "#b8e186"
            ],
            [
             0.8,
             "#7fbc41"
            ],
            [
             0.9,
             "#4d9221"
            ],
            [
             1,
             "#276419"
            ]
           ],
           "sequential": [
            [
             0,
             "#0d0887"
            ],
            [
             0.1111111111111111,
             "#46039f"
            ],
            [
             0.2222222222222222,
             "#7201a8"
            ],
            [
             0.3333333333333333,
             "#9c179e"
            ],
            [
             0.4444444444444444,
             "#bd3786"
            ],
            [
             0.5555555555555556,
             "#d8576b"
            ],
            [
             0.6666666666666666,
             "#ed7953"
            ],
            [
             0.7777777777777778,
             "#fb9f3a"
            ],
            [
             0.8888888888888888,
             "#fdca26"
            ],
            [
             1,
             "#f0f921"
            ]
           ],
           "sequentialminus": [
            [
             0,
             "#0d0887"
            ],
            [
             0.1111111111111111,
             "#46039f"
            ],
            [
             0.2222222222222222,
             "#7201a8"
            ],
            [
             0.3333333333333333,
             "#9c179e"
            ],
            [
             0.4444444444444444,
             "#bd3786"
            ],
            [
             0.5555555555555556,
             "#d8576b"
            ],
            [
             0.6666666666666666,
             "#ed7953"
            ],
            [
             0.7777777777777778,
             "#fb9f3a"
            ],
            [
             0.8888888888888888,
             "#fdca26"
            ],
            [
             1,
             "#f0f921"
            ]
           ]
          },
          "colorway": [
           "#636efa",
           "#EF553B",
           "#00cc96",
           "#ab63fa",
           "#FFA15A",
           "#19d3f3",
           "#FF6692",
           "#B6E880",
           "#FF97FF",
           "#FECB52"
          ],
          "font": {
           "color": "#2a3f5f"
          },
          "geo": {
           "bgcolor": "white",
           "lakecolor": "white",
           "landcolor": "#E5ECF6",
           "showlakes": true,
           "showland": true,
           "subunitcolor": "white"
          },
          "hoverlabel": {
           "align": "left"
          },
          "hovermode": "closest",
          "mapbox": {
           "style": "light"
          },
          "paper_bgcolor": "white",
          "plot_bgcolor": "#E5ECF6",
          "polar": {
           "angularaxis": {
            "gridcolor": "white",
            "linecolor": "white",
            "ticks": ""
           },
           "bgcolor": "#E5ECF6",
           "radialaxis": {
            "gridcolor": "white",
            "linecolor": "white",
            "ticks": ""
           }
          },
          "scene": {
           "xaxis": {
            "backgroundcolor": "#E5ECF6",
            "gridcolor": "white",
            "gridwidth": 2,
            "linecolor": "white",
            "showbackground": true,
            "ticks": "",
            "zerolinecolor": "white"
           },
           "yaxis": {
            "backgroundcolor": "#E5ECF6",
            "gridcolor": "white",
            "gridwidth": 2,
            "linecolor": "white",
            "showbackground": true,
            "ticks": "",
            "zerolinecolor": "white"
           },
           "zaxis": {
            "backgroundcolor": "#E5ECF6",
            "gridcolor": "white",
            "gridwidth": 2,
            "linecolor": "white",
            "showbackground": true,
            "ticks": "",
            "zerolinecolor": "white"
           }
          },
          "shapedefaults": {
           "line": {
            "color": "#2a3f5f"
           }
          },
          "ternary": {
           "aaxis": {
            "gridcolor": "white",
            "linecolor": "white",
            "ticks": ""
           },
           "baxis": {
            "gridcolor": "white",
            "linecolor": "white",
            "ticks": ""
           },
           "bgcolor": "#E5ECF6",
           "caxis": {
            "gridcolor": "white",
            "linecolor": "white",
            "ticks": ""
           }
          },
          "title": {
           "x": 0.05
          },
          "xaxis": {
           "automargin": true,
           "gridcolor": "white",
           "linecolor": "white",
           "ticks": "",
           "title": {
            "standoff": 15
           },
           "zerolinecolor": "white",
           "zerolinewidth": 2
          },
          "yaxis": {
           "automargin": true,
           "gridcolor": "white",
           "linecolor": "white",
           "ticks": "",
           "title": {
            "standoff": 15
           },
           "zerolinecolor": "white",
           "zerolinewidth": 2
          }
         }
        },
        "title": {
         "text": "Hitter outcome"
        },
        "xaxis": {
         "anchor": "y",
         "domain": [
          0,
          1
         ],
         "title": {
          "text": "pitch_x"
         }
        },
        "yaxis": {
         "anchor": "x",
         "domain": [
          0,
          1
         ],
         "title": {
          "text": "pitch_y"
         }
        }
       }
      }
     },
     "metadata": {},
     "output_type": "display_data"
    }
   ],
   "source": [
    "\n",
    "pitch_data.show_scatter(\"pitch_x\", \"pitch_y\", \"Hitter outcome\", color='outcome')"
   ]
  }
 ],
 "metadata": {
  "kernelspec": {
   "display_name": "Python 3",
   "language": "python",
   "name": "python3"
  },
  "language_info": {
   "codemirror_mode": {
    "name": "ipython",
    "version": 3
   },
   "file_extension": ".py",
   "mimetype": "text/x-python",
   "name": "python",
   "nbconvert_exporter": "python",
   "pygments_lexer": "ipython3",
   "version": "3.11.7"
  }
 },
 "nbformat": 4,
 "nbformat_minor": 2
}
