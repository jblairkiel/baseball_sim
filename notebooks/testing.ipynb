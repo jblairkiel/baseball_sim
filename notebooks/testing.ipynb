{
 "cells": [
  {
   "cell_type": "code",
   "execution_count": 4,
   "metadata": {},
   "outputs": [
    {
     "name": "stdout",
     "output_type": "stream",
     "text": [
      "The autoreload extension is already loaded. To reload it, use:\n",
      "  %reload_ext autoreload\n"
     ]
    }
   ],
   "source": [
    "%load_ext autoreload\n",
    "%reload_ext autoreload"
   ]
  },
  {
   "cell_type": "code",
   "execution_count": 5,
   "metadata": {},
   "outputs": [
    {
     "name": "stdout",
     "output_type": "stream",
     "text": [
      "Team #34 (0-0) \n",
      " Lineup: \n",
      "\t Timothy Fontaine (#9)\n",
      "\tJohn Birdsong (#27)\n",
      "\tJose Lewis (#87)\n",
      "\tHerbert Gray (#69)\n",
      "\tRick Grant (#64)\n",
      "\tWilliam Russo (#79)\n",
      "\tMichael Jarvis (#50)\n",
      "\tWilliam Lewis (#61)\n",
      "\tJohn Bilder (#85)\n"
     ]
    }
   ],
   "source": [
    "import os, sys\n",
    "curPath = os.path.abspath('')\n",
    "for i in range(1):\n",
    "    curPath = os.path.join(curPath, \"..\")\n",
    "    sys.path.append(curPath)\n",
    "\n",
    "from src.player import Player\n",
    "from src.team import Team\n",
    "from src.pitch import Pitch\n",
    "from src.league import League\n",
    "from src.util.logic.pitcher_hitter_logic import PitcherHitterLogic\n",
    "from src.util.generation import generate_team, generate_league, generate_pitch, generate_player\n",
    "import plotly.express as px\n",
    "import pandas as pd\n",
    "from src.analysis.pitch_data import Pitch_Data\n",
    "\n",
    "\n",
    "a = generate_team()\n",
    "\n",
    "print(str(a))"
   ]
  },
  {
   "cell_type": "code",
   "execution_count": 6,
   "metadata": {},
   "outputs": [],
   "source": [
    "pitch_dict = []\n",
    "pitch_hitability_dict = []\n",
    "\n",
    "player_dict = []\n",
    "player_hitability_dict = []\n",
    "for i in range(0, 1000):\n",
    "    pos_choice = (i % 9)\n",
    "    player = generate_player(pos_choice)\n",
    "    pitch = generate_pitch()\n",
    "    ph_obj = PitcherHitterLogic(player.get_slugging_percentage())\n",
    "    pitch.hitability = ph_obj.calculate_hitability_value(pitch.pitch_x, pitch.pitch_y, hit_odds_calculator=.20)\n",
    "    pitch.outcome = ph_obj.get_ump_call_outcome(pitch.pitch_x, pitch.pitch_y)\n",
    "    pitch.outcome = ph_obj.determine_hitability_from_value(pitch.pitch_x, pitch.pitch_y, pitch.hitability, pitch.outcome)\n",
    "    p_dict = pitch.__dict__\n",
    "    player_hitability_dict.append(p_dict)\n",
    "\n",
    "df = pd.DataFrame(player_hitability_dict)\n"
   ]
  },
  {
   "cell_type": "code",
   "execution_count": 7,
   "metadata": {},
   "outputs": [
    {
     "data": {
      "text/html": [
       "<div>\n",
       "<style scoped>\n",
       "    .dataframe tbody tr th:only-of-type {\n",
       "        vertical-align: middle;\n",
       "    }\n",
       "\n",
       "    .dataframe tbody tr th {\n",
       "        vertical-align: top;\n",
       "    }\n",
       "\n",
       "    .dataframe thead th {\n",
       "        text-align: right;\n",
       "    }\n",
       "</style>\n",
       "<table border=\"1\" class=\"dataframe\">\n",
       "  <thead>\n",
       "    <tr style=\"text-align: right;\">\n",
       "      <th></th>\n",
       "      <th>pitch_x</th>\n",
       "      <th>pitch_y</th>\n",
       "      <th>pitch_type</th>\n",
       "      <th>hitability</th>\n",
       "      <th>outcome</th>\n",
       "    </tr>\n",
       "  </thead>\n",
       "  <tbody>\n",
       "    <tr>\n",
       "      <th>0</th>\n",
       "      <td>-0.295068</td>\n",
       "      <td>0.986130</td>\n",
       "      <td>fb</td>\n",
       "      <td>0.176624</td>\n",
       "      <td>Hit</td>\n",
       "    </tr>\n",
       "    <tr>\n",
       "      <th>1</th>\n",
       "      <td>-0.319283</td>\n",
       "      <td>1.196367</td>\n",
       "      <td>chcur</td>\n",
       "      <td>0.139375</td>\n",
       "      <td>Strike</td>\n",
       "    </tr>\n",
       "    <tr>\n",
       "      <th>2</th>\n",
       "      <td>0.623529</td>\n",
       "      <td>0.268596</td>\n",
       "      <td>chcur</td>\n",
       "      <td>0.238249</td>\n",
       "      <td>Hit</td>\n",
       "    </tr>\n",
       "    <tr>\n",
       "      <th>3</th>\n",
       "      <td>1.031737</td>\n",
       "      <td>0.082323</td>\n",
       "      <td>chcur</td>\n",
       "      <td>0.175590</td>\n",
       "      <td>Strike</td>\n",
       "    </tr>\n",
       "    <tr>\n",
       "      <th>4</th>\n",
       "      <td>-0.422351</td>\n",
       "      <td>-0.742800</td>\n",
       "      <td>chcur</td>\n",
       "      <td>0.208245</td>\n",
       "      <td>Hit</td>\n",
       "    </tr>\n",
       "  </tbody>\n",
       "</table>\n",
       "</div>"
      ],
      "text/plain": [
       "    pitch_x   pitch_y pitch_type  hitability outcome\n",
       "0 -0.295068  0.986130         fb    0.176624     Hit\n",
       "1 -0.319283  1.196367      chcur    0.139375  Strike\n",
       "2  0.623529  0.268596      chcur    0.238249     Hit\n",
       "3  1.031737  0.082323      chcur    0.175590  Strike\n",
       "4 -0.422351 -0.742800      chcur    0.208245     Hit"
      ]
     },
     "execution_count": 7,
     "metadata": {},
     "output_type": "execute_result"
    }
   ],
   "source": [
    "pitch_data = Pitch_Data(df)\n",
    "df.head()"
   ]
  },
  {
   "cell_type": "code",
   "execution_count": 8,
   "metadata": {},
   "outputs": [
    {
     "data": {
      "application/vnd.plotly.v1+json": {
       "config": {
        "plotlyServerURL": "https://plot.ly"
       },
       "data": [
        {
         "alignmentgroup": "True",
         "bingroup": "x",
         "hovertemplate": "variable=outcome<br>value=%{x}<br>count=%{y}<extra></extra>",
         "legendgroup": "outcome",
         "marker": {
          "color": "#636efa",
          "pattern": {
           "shape": ""
          }
         },
         "name": "outcome",
         "offsetgroup": "outcome",
         "orientation": "v",
         "showlegend": true,
         "type": "histogram",
         "x": [
          "Hit",
          "Strike",
          "Hit",
          "Strike",
          "Hit",
          "Hit",
          "Hit",
          "Hit",
          "Hit",
          "Hit",
          "Hit",
          "Strike",
          "Strike",
          "Strike",
          "Strike",
          "Strike",
          "Strike",
          "Strike",
          "Strike",
          "Strike",
          "Hit",
          "Hit",
          "Hit",
          "Strike",
          "Hit",
          "Hit",
          "Hit",
          "Hit",
          "Strike",
          "Strike",
          "Strike",
          "Hit",
          "Hit",
          "Hit",
          "Hit",
          "Hit",
          "Strike",
          "Strike",
          "Hit",
          "Hit",
          "Hit",
          "Hit",
          "Hit",
          "Hit",
          "Hit",
          "Strike",
          "Hit",
          "Strike",
          "Strike",
          "Hit",
          "Strike",
          "Strike",
          "Hit",
          "Hit",
          "Hit",
          "Hit",
          "Strike",
          "Hit",
          "Strike",
          "Strike",
          "Hit",
          "Hit",
          "Strike",
          "Strike",
          "Hit",
          "Strike",
          "Strike",
          "Hit",
          "Strike",
          "Strike",
          "Strike",
          "Hit",
          "Hit",
          "Ball",
          "Hit",
          "Strike",
          "Hit",
          "Strike",
          "Hit",
          "Hit",
          "Hit",
          "Hit",
          "Hit",
          "Hit",
          "Hit",
          "Hit",
          "Strike",
          "Hit",
          "Hit",
          "Hit",
          "Hit",
          "Hit",
          "Hit",
          "Hit",
          "Hit",
          "Strike",
          "Strike",
          "Strike",
          "Hit",
          "Strike",
          "Hit",
          "Strike",
          "Hit",
          "Hit",
          "Strike",
          "Strike",
          "Hit",
          "Hit",
          "Hit",
          "Hit",
          "Hit",
          "Strike",
          "Hit",
          "Hit",
          "Hit",
          "Strike",
          "Hit",
          "Hit",
          "Hit",
          "Hit",
          "Hit",
          "Hit",
          "Strike",
          "Hit",
          "Strike",
          "Hit",
          "Strike",
          "Hit",
          "Ball",
          "Hit",
          "Hit",
          "Strike",
          "Hit",
          "Hit",
          "Strike",
          "Hit",
          "Hit",
          "Strike",
          "Hit",
          "Hit",
          "Hit",
          "Hit",
          "Hit",
          "Hit",
          "Hit",
          "Strike",
          "Strike",
          "Strike",
          "Strike",
          "Hit",
          "Hit",
          "Hit",
          "Hit",
          "Strike",
          "Strike",
          "Hit",
          "Strike",
          "Hit",
          "Strike",
          "Hit",
          "Strike",
          "Hit",
          "Hit",
          "Strike",
          "Hit",
          "Hit",
          "Strike",
          "Hit",
          "Strike",
          "Hit",
          "Hit",
          "Hit",
          "Strike",
          "Hit",
          "Hit",
          "Hit",
          "Strike",
          "Hit",
          "Hit",
          "Strike",
          "Hit",
          "Strike",
          "Strike",
          "Hit",
          "Strike",
          "Strike",
          "Hit",
          "Strike",
          "Hit",
          "Strike",
          "Strike",
          "Strike",
          "Hit",
          "Hit",
          "Strike",
          "Strike",
          "Hit",
          "Hit",
          "Strike",
          "Strike",
          "Hit",
          "Hit",
          "Strike",
          "Hit",
          "Hit",
          "Strike",
          "Hit",
          "Hit",
          "Strike",
          "Strike",
          "Strike",
          "Hit",
          "Hit",
          "Strike",
          "Hit",
          "Hit",
          "Hit",
          "Strike",
          "Strike",
          "Strike",
          "Hit",
          "Hit",
          "Strike",
          "Hit",
          "Hit",
          "Hit",
          "Hit",
          "Hit",
          "Strike",
          "Hit",
          "Hit",
          "Hit",
          "Hit",
          "Hit",
          "Strike",
          "Hit",
          "Strike",
          "Hit",
          "Hit",
          "Hit",
          "Hit",
          "Hit",
          "Hit",
          "Hit",
          "Hit",
          "Hit",
          "Hit",
          "Strike",
          "Strike",
          "Strike",
          "Hit",
          "Hit",
          "Hit",
          "Strike",
          "Strike",
          "Strike",
          "Strike",
          "Hit",
          "Hit",
          "Hit",
          "Strike",
          "Strike",
          "Strike",
          "Hit",
          "Hit",
          "Hit",
          "Hit",
          "Strike",
          "Ball",
          "Hit",
          "Hit",
          "Hit",
          "Strike",
          "Hit",
          "Strike",
          "Hit",
          "Strike",
          "Strike",
          "Hit",
          "Hit",
          "Hit",
          "Strike",
          "Hit",
          "Strike",
          "Hit",
          "Hit",
          "Hit",
          "Hit",
          "Strike",
          "Hit",
          "Strike",
          "Hit",
          "Hit",
          "Hit",
          "Hit",
          "Hit",
          "Hit",
          "Hit",
          "Strike",
          "Strike",
          "Strike",
          "Ball",
          "Hit",
          "Strike",
          "Hit",
          "Hit",
          "Hit",
          "Strike",
          "Hit",
          "Hit",
          "Hit",
          "Strike",
          "Hit",
          "Hit",
          "Strike",
          "Hit",
          "Strike",
          "Hit",
          "Hit",
          "Hit",
          "Hit",
          "Hit",
          "Hit",
          "Hit",
          "Strike",
          "Hit",
          "Hit",
          "Hit",
          "Hit",
          "Strike",
          "Hit",
          "Hit",
          "Hit",
          "Hit",
          "Hit",
          "Strike",
          "Strike",
          "Hit",
          "Strike",
          "Hit",
          "Hit",
          "Hit",
          "Hit",
          "Strike",
          "Hit",
          "Hit",
          "Strike",
          "Hit",
          "Hit",
          "Hit",
          "Strike",
          "Strike",
          "Hit",
          "Hit",
          "Hit",
          "Hit",
          "Strike",
          "Hit",
          "Hit",
          "Hit",
          "Strike",
          "Hit",
          "Hit",
          "Ball",
          "Strike",
          "Strike",
          "Hit",
          "Strike",
          "Hit",
          "Hit",
          "Hit",
          "Hit",
          "Strike",
          "Strike",
          "Hit",
          "Strike",
          "Hit",
          "Strike",
          "Hit",
          "Hit",
          "Strike",
          "Hit",
          "Hit",
          "Strike",
          "Strike",
          "Strike",
          "Hit",
          "Hit",
          "Hit",
          "Hit",
          "Hit",
          "Hit",
          "Hit",
          "Hit",
          "Hit",
          "Hit",
          "Hit",
          "Strike",
          "Hit",
          "Hit",
          "Hit",
          "Ball",
          "Strike",
          "Hit",
          "Strike",
          "Strike",
          "Hit",
          "Strike",
          "Strike",
          "Strike",
          "Strike",
          "Hit",
          "Hit",
          "Strike",
          "Strike",
          "Strike",
          "Hit",
          "Strike",
          "Hit",
          "Hit",
          "Hit",
          "Hit",
          "Hit",
          "Hit",
          "Hit",
          "Hit",
          "Ball",
          "Hit",
          "Hit",
          "Hit",
          "Strike",
          "Hit",
          "Strike",
          "Hit",
          "Strike",
          "Strike",
          "Hit",
          "Strike",
          "Hit",
          "Hit",
          "Hit",
          "Hit",
          "Hit",
          "Strike",
          "Hit",
          "Hit",
          "Hit",
          "Hit",
          "Strike",
          "Strike",
          "Strike",
          "Hit",
          "Hit",
          "Strike",
          "Hit",
          "Strike",
          "Hit",
          "Strike",
          "Hit",
          "Hit",
          "Hit",
          "Strike",
          "Strike",
          "Hit",
          "Hit",
          "Hit",
          "Strike",
          "Strike",
          "Hit",
          "Hit",
          "Hit",
          "Strike",
          "Hit",
          "Hit",
          "Hit",
          "Hit",
          "Strike",
          "Strike",
          "Hit",
          "Hit",
          "Hit",
          "Strike",
          "Hit",
          "Strike",
          "Hit",
          "Strike",
          "Strike",
          "Hit",
          "Hit",
          "Hit",
          "Hit",
          "Strike",
          "Hit",
          "Strike",
          "Hit",
          "Hit",
          "Strike",
          "Strike",
          "Hit",
          "Strike",
          "Strike",
          "Hit",
          "Strike",
          "Ball",
          "Hit",
          "Strike",
          "Hit",
          "Strike",
          "Strike",
          "Strike",
          "Strike",
          "Hit",
          "Hit",
          "Strike",
          "Hit",
          "Strike",
          "Hit",
          "Hit",
          "Hit",
          "Hit",
          "Strike",
          "Hit",
          "Hit",
          "Strike",
          "Hit",
          "Hit",
          "Hit",
          "Hit",
          "Strike",
          "Hit",
          "Hit",
          "Hit",
          "Hit",
          "Hit",
          "Hit",
          "Hit",
          "Strike",
          "Strike",
          "Hit",
          "Hit",
          "Strike",
          "Strike",
          "Hit",
          "Hit",
          "Strike",
          "Hit",
          "Hit",
          "Strike",
          "Strike",
          "Hit",
          "Hit",
          "Strike",
          "Hit",
          "Strike",
          "Hit",
          "Hit",
          "Strike",
          "Strike",
          "Hit",
          "Strike",
          "Strike",
          "Strike",
          "Hit",
          "Hit",
          "Hit",
          "Strike",
          "Hit",
          "Hit",
          "Hit",
          "Hit",
          "Strike",
          "Hit",
          "Hit",
          "Hit",
          "Hit",
          "Strike",
          "Hit",
          "Hit",
          "Strike",
          "Hit",
          "Hit",
          "Hit",
          "Hit",
          "Hit",
          "Hit",
          "Hit",
          "Hit",
          "Hit",
          "Hit",
          "Hit",
          "Strike",
          "Hit",
          "Hit",
          "Hit",
          "Hit",
          "Hit",
          "Hit",
          "Hit",
          "Strike",
          "Hit",
          "Strike",
          "Hit",
          "Strike",
          "Hit",
          "Hit",
          "Strike",
          "Hit",
          "Hit",
          "Hit",
          "Hit",
          "Hit",
          "Strike",
          "Hit",
          "Hit",
          "Hit",
          "Hit",
          "Hit",
          "Hit",
          "Strike",
          "Strike",
          "Hit",
          "Hit",
          "Hit",
          "Hit",
          "Strike",
          "Strike",
          "Hit",
          "Hit",
          "Hit",
          "Strike",
          "Hit",
          "Strike",
          "Hit",
          "Strike",
          "Strike",
          "Hit",
          "Hit",
          "Hit",
          "Strike",
          "Hit",
          "Hit",
          "Ball",
          "Strike",
          "Hit",
          "Strike",
          "Hit",
          "Hit",
          "Strike",
          "Strike",
          "Hit",
          "Hit",
          "Strike",
          "Strike",
          "Hit",
          "Strike",
          "Hit",
          "Hit",
          "Strike",
          "Hit",
          "Strike",
          "Strike",
          "Strike",
          "Hit",
          "Strike",
          "Hit",
          "Strike",
          "Strike",
          "Strike",
          "Hit",
          "Hit",
          "Hit",
          "Hit",
          "Strike",
          "Hit",
          "Hit",
          "Ball",
          "Hit",
          "Hit",
          "Strike",
          "Hit",
          "Strike",
          "Hit",
          "Strike",
          "Hit",
          "Hit",
          "Hit",
          "Hit",
          "Hit",
          "Hit",
          "Hit",
          "Strike",
          "Hit",
          "Hit",
          "Hit",
          "Strike",
          "Hit",
          "Hit",
          "Strike",
          "Strike",
          "Strike",
          "Hit",
          "Hit",
          "Hit",
          "Hit",
          "Hit",
          "Hit",
          "Strike",
          "Hit",
          "Hit",
          "Hit",
          "Hit",
          "Strike",
          "Strike",
          "Hit",
          "Hit",
          "Hit",
          "Hit",
          "Strike",
          "Strike",
          "Ball",
          "Hit",
          "Hit",
          "Strike",
          "Hit",
          "Hit",
          "Hit",
          "Strike",
          "Hit",
          "Ball",
          "Hit",
          "Hit",
          "Hit",
          "Hit",
          "Strike",
          "Hit",
          "Hit",
          "Hit",
          "Strike",
          "Hit",
          "Hit",
          "Strike",
          "Hit",
          "Hit",
          "Hit",
          "Hit",
          "Hit",
          "Hit",
          "Strike",
          "Hit",
          "Strike",
          "Hit",
          "Hit",
          "Strike",
          "Hit",
          "Hit",
          "Hit",
          "Strike",
          "Hit",
          "Ball",
          "Hit",
          "Hit",
          "Hit",
          "Strike",
          "Hit",
          "Hit",
          "Hit",
          "Hit",
          "Hit",
          "Hit",
          "Hit",
          "Ball",
          "Hit",
          "Strike",
          "Strike",
          "Hit",
          "Hit",
          "Hit",
          "Hit",
          "Strike",
          "Hit",
          "Hit",
          "Hit",
          "Hit",
          "Strike",
          "Hit",
          "Strike",
          "Hit",
          "Ball",
          "Strike",
          "Hit",
          "Strike",
          "Hit",
          "Strike",
          "Strike",
          "Hit",
          "Hit",
          "Hit",
          "Strike",
          "Hit",
          "Strike",
          "Strike",
          "Hit",
          "Hit",
          "Hit",
          "Strike",
          "Hit",
          "Hit",
          "Hit",
          "Hit",
          "Strike",
          "Hit",
          "Hit",
          "Strike",
          "Hit",
          "Strike",
          "Strike",
          "Hit",
          "Hit",
          "Hit",
          "Hit",
          "Ball",
          "Hit",
          "Hit",
          "Strike",
          "Strike",
          "Hit",
          "Hit",
          "Hit",
          "Hit",
          "Hit",
          "Hit",
          "Hit",
          "Hit",
          "Hit",
          "Strike",
          "Strike",
          "Hit",
          "Strike",
          "Hit",
          "Strike",
          "Hit",
          "Strike",
          "Hit",
          "Hit",
          "Strike",
          "Hit",
          "Hit",
          "Hit",
          "Strike",
          "Strike",
          "Strike",
          "Strike",
          "Strike",
          "Strike",
          "Hit",
          "Strike",
          "Hit",
          "Hit",
          "Strike",
          "Hit",
          "Hit",
          "Hit",
          "Hit",
          "Hit",
          "Hit",
          "Hit",
          "Hit",
          "Strike",
          "Hit",
          "Hit",
          "Hit",
          "Hit",
          "Hit",
          "Hit",
          "Hit",
          "Strike",
          "Strike",
          "Strike",
          "Hit",
          "Hit",
          "Strike",
          "Strike",
          "Hit",
          "Strike",
          "Hit",
          "Strike",
          "Hit",
          "Ball",
          "Hit",
          "Hit",
          "Strike",
          "Strike",
          "Hit",
          "Hit",
          "Hit",
          "Hit",
          "Hit",
          "Strike",
          "Strike",
          "Strike",
          "Strike",
          "Strike",
          "Hit",
          "Strike",
          "Hit",
          "Strike",
          "Hit",
          "Strike",
          "Hit",
          "Hit",
          "Hit",
          "Strike",
          "Ball",
          "Strike",
          "Hit",
          "Hit",
          "Hit",
          "Strike",
          "Strike",
          "Hit",
          "Strike",
          "Hit",
          "Strike",
          "Hit",
          "Strike",
          "Strike",
          "Strike",
          "Strike",
          "Strike",
          "Hit",
          "Strike",
          "Strike",
          "Hit",
          "Strike",
          "Hit",
          "Strike",
          "Hit",
          "Hit",
          "Hit",
          "Strike",
          "Strike",
          "Strike",
          "Hit",
          "Hit",
          "Hit",
          "Hit",
          "Hit",
          "Hit",
          "Hit",
          "Hit",
          "Hit",
          "Strike",
          "Strike",
          "Hit",
          "Strike",
          "Strike",
          "Ball",
          "Strike",
          "Hit",
          "Hit",
          "Hit",
          "Strike",
          "Hit",
          "Hit",
          "Strike",
          "Hit",
          "Hit",
          "Hit",
          "Hit",
          "Hit",
          "Hit",
          "Hit",
          "Hit",
          "Hit",
          "Hit",
          "Hit",
          "Hit",
          "Hit",
          "Strike",
          "Hit",
          "Hit",
          "Hit",
          "Hit",
          "Strike",
          "Strike",
          "Hit",
          "Strike",
          "Hit",
          "Hit",
          "Strike",
          "Strike",
          "Strike",
          "Hit",
          "Hit",
          "Hit",
          "Hit",
          "Hit",
          "Hit",
          "Hit",
          "Hit"
         ],
         "xaxis": "x",
         "yaxis": "y"
        }
       ],
       "layout": {
        "barmode": "relative",
        "legend": {
         "title": {
          "text": "variable"
         },
         "tracegroupgap": 0
        },
        "template": {
         "data": {
          "bar": [
           {
            "error_x": {
             "color": "#2a3f5f"
            },
            "error_y": {
             "color": "#2a3f5f"
            },
            "marker": {
             "line": {
              "color": "#E5ECF6",
              "width": 0.5
             },
             "pattern": {
              "fillmode": "overlay",
              "size": 10,
              "solidity": 0.2
             }
            },
            "type": "bar"
           }
          ],
          "barpolar": [
           {
            "marker": {
             "line": {
              "color": "#E5ECF6",
              "width": 0.5
             },
             "pattern": {
              "fillmode": "overlay",
              "size": 10,
              "solidity": 0.2
             }
            },
            "type": "barpolar"
           }
          ],
          "carpet": [
           {
            "aaxis": {
             "endlinecolor": "#2a3f5f",
             "gridcolor": "white",
             "linecolor": "white",
             "minorgridcolor": "white",
             "startlinecolor": "#2a3f5f"
            },
            "baxis": {
             "endlinecolor": "#2a3f5f",
             "gridcolor": "white",
             "linecolor": "white",
             "minorgridcolor": "white",
             "startlinecolor": "#2a3f5f"
            },
            "type": "carpet"
           }
          ],
          "choropleth": [
           {
            "colorbar": {
             "outlinewidth": 0,
             "ticks": ""
            },
            "type": "choropleth"
           }
          ],
          "contour": [
           {
            "colorbar": {
             "outlinewidth": 0,
             "ticks": ""
            },
            "colorscale": [
             [
              0,
              "#0d0887"
             ],
             [
              0.1111111111111111,
              "#46039f"
             ],
             [
              0.2222222222222222,
              "#7201a8"
             ],
             [
              0.3333333333333333,
              "#9c179e"
             ],
             [
              0.4444444444444444,
              "#bd3786"
             ],
             [
              0.5555555555555556,
              "#d8576b"
             ],
             [
              0.6666666666666666,
              "#ed7953"
             ],
             [
              0.7777777777777778,
              "#fb9f3a"
             ],
             [
              0.8888888888888888,
              "#fdca26"
             ],
             [
              1,
              "#f0f921"
             ]
            ],
            "type": "contour"
           }
          ],
          "contourcarpet": [
           {
            "colorbar": {
             "outlinewidth": 0,
             "ticks": ""
            },
            "type": "contourcarpet"
           }
          ],
          "heatmap": [
           {
            "colorbar": {
             "outlinewidth": 0,
             "ticks": ""
            },
            "colorscale": [
             [
              0,
              "#0d0887"
             ],
             [
              0.1111111111111111,
              "#46039f"
             ],
             [
              0.2222222222222222,
              "#7201a8"
             ],
             [
              0.3333333333333333,
              "#9c179e"
             ],
             [
              0.4444444444444444,
              "#bd3786"
             ],
             [
              0.5555555555555556,
              "#d8576b"
             ],
             [
              0.6666666666666666,
              "#ed7953"
             ],
             [
              0.7777777777777778,
              "#fb9f3a"
             ],
             [
              0.8888888888888888,
              "#fdca26"
             ],
             [
              1,
              "#f0f921"
             ]
            ],
            "type": "heatmap"
           }
          ],
          "heatmapgl": [
           {
            "colorbar": {
             "outlinewidth": 0,
             "ticks": ""
            },
            "colorscale": [
             [
              0,
              "#0d0887"
             ],
             [
              0.1111111111111111,
              "#46039f"
             ],
             [
              0.2222222222222222,
              "#7201a8"
             ],
             [
              0.3333333333333333,
              "#9c179e"
             ],
             [
              0.4444444444444444,
              "#bd3786"
             ],
             [
              0.5555555555555556,
              "#d8576b"
             ],
             [
              0.6666666666666666,
              "#ed7953"
             ],
             [
              0.7777777777777778,
              "#fb9f3a"
             ],
             [
              0.8888888888888888,
              "#fdca26"
             ],
             [
              1,
              "#f0f921"
             ]
            ],
            "type": "heatmapgl"
           }
          ],
          "histogram": [
           {
            "marker": {
             "pattern": {
              "fillmode": "overlay",
              "size": 10,
              "solidity": 0.2
             }
            },
            "type": "histogram"
           }
          ],
          "histogram2d": [
           {
            "colorbar": {
             "outlinewidth": 0,
             "ticks": ""
            },
            "colorscale": [
             [
              0,
              "#0d0887"
             ],
             [
              0.1111111111111111,
              "#46039f"
             ],
             [
              0.2222222222222222,
              "#7201a8"
             ],
             [
              0.3333333333333333,
              "#9c179e"
             ],
             [
              0.4444444444444444,
              "#bd3786"
             ],
             [
              0.5555555555555556,
              "#d8576b"
             ],
             [
              0.6666666666666666,
              "#ed7953"
             ],
             [
              0.7777777777777778,
              "#fb9f3a"
             ],
             [
              0.8888888888888888,
              "#fdca26"
             ],
             [
              1,
              "#f0f921"
             ]
            ],
            "type": "histogram2d"
           }
          ],
          "histogram2dcontour": [
           {
            "colorbar": {
             "outlinewidth": 0,
             "ticks": ""
            },
            "colorscale": [
             [
              0,
              "#0d0887"
             ],
             [
              0.1111111111111111,
              "#46039f"
             ],
             [
              0.2222222222222222,
              "#7201a8"
             ],
             [
              0.3333333333333333,
              "#9c179e"
             ],
             [
              0.4444444444444444,
              "#bd3786"
             ],
             [
              0.5555555555555556,
              "#d8576b"
             ],
             [
              0.6666666666666666,
              "#ed7953"
             ],
             [
              0.7777777777777778,
              "#fb9f3a"
             ],
             [
              0.8888888888888888,
              "#fdca26"
             ],
             [
              1,
              "#f0f921"
             ]
            ],
            "type": "histogram2dcontour"
           }
          ],
          "mesh3d": [
           {
            "colorbar": {
             "outlinewidth": 0,
             "ticks": ""
            },
            "type": "mesh3d"
           }
          ],
          "parcoords": [
           {
            "line": {
             "colorbar": {
              "outlinewidth": 0,
              "ticks": ""
             }
            },
            "type": "parcoords"
           }
          ],
          "pie": [
           {
            "automargin": true,
            "type": "pie"
           }
          ],
          "scatter": [
           {
            "fillpattern": {
             "fillmode": "overlay",
             "size": 10,
             "solidity": 0.2
            },
            "type": "scatter"
           }
          ],
          "scatter3d": [
           {
            "line": {
             "colorbar": {
              "outlinewidth": 0,
              "ticks": ""
             }
            },
            "marker": {
             "colorbar": {
              "outlinewidth": 0,
              "ticks": ""
             }
            },
            "type": "scatter3d"
           }
          ],
          "scattercarpet": [
           {
            "marker": {
             "colorbar": {
              "outlinewidth": 0,
              "ticks": ""
             }
            },
            "type": "scattercarpet"
           }
          ],
          "scattergeo": [
           {
            "marker": {
             "colorbar": {
              "outlinewidth": 0,
              "ticks": ""
             }
            },
            "type": "scattergeo"
           }
          ],
          "scattergl": [
           {
            "marker": {
             "colorbar": {
              "outlinewidth": 0,
              "ticks": ""
             }
            },
            "type": "scattergl"
           }
          ],
          "scattermapbox": [
           {
            "marker": {
             "colorbar": {
              "outlinewidth": 0,
              "ticks": ""
             }
            },
            "type": "scattermapbox"
           }
          ],
          "scatterpolar": [
           {
            "marker": {
             "colorbar": {
              "outlinewidth": 0,
              "ticks": ""
             }
            },
            "type": "scatterpolar"
           }
          ],
          "scatterpolargl": [
           {
            "marker": {
             "colorbar": {
              "outlinewidth": 0,
              "ticks": ""
             }
            },
            "type": "scatterpolargl"
           }
          ],
          "scatterternary": [
           {
            "marker": {
             "colorbar": {
              "outlinewidth": 0,
              "ticks": ""
             }
            },
            "type": "scatterternary"
           }
          ],
          "surface": [
           {
            "colorbar": {
             "outlinewidth": 0,
             "ticks": ""
            },
            "colorscale": [
             [
              0,
              "#0d0887"
             ],
             [
              0.1111111111111111,
              "#46039f"
             ],
             [
              0.2222222222222222,
              "#7201a8"
             ],
             [
              0.3333333333333333,
              "#9c179e"
             ],
             [
              0.4444444444444444,
              "#bd3786"
             ],
             [
              0.5555555555555556,
              "#d8576b"
             ],
             [
              0.6666666666666666,
              "#ed7953"
             ],
             [
              0.7777777777777778,
              "#fb9f3a"
             ],
             [
              0.8888888888888888,
              "#fdca26"
             ],
             [
              1,
              "#f0f921"
             ]
            ],
            "type": "surface"
           }
          ],
          "table": [
           {
            "cells": {
             "fill": {
              "color": "#EBF0F8"
             },
             "line": {
              "color": "white"
             }
            },
            "header": {
             "fill": {
              "color": "#C8D4E3"
             },
             "line": {
              "color": "white"
             }
            },
            "type": "table"
           }
          ]
         },
         "layout": {
          "annotationdefaults": {
           "arrowcolor": "#2a3f5f",
           "arrowhead": 0,
           "arrowwidth": 1
          },
          "autotypenumbers": "strict",
          "coloraxis": {
           "colorbar": {
            "outlinewidth": 0,
            "ticks": ""
           }
          },
          "colorscale": {
           "diverging": [
            [
             0,
             "#8e0152"
            ],
            [
             0.1,
             "#c51b7d"
            ],
            [
             0.2,
             "#de77ae"
            ],
            [
             0.3,
             "#f1b6da"
            ],
            [
             0.4,
             "#fde0ef"
            ],
            [
             0.5,
             "#f7f7f7"
            ],
            [
             0.6,
             "#e6f5d0"
            ],
            [
             0.7,
             "#b8e186"
            ],
            [
             0.8,
             "#7fbc41"
            ],
            [
             0.9,
             "#4d9221"
            ],
            [
             1,
             "#276419"
            ]
           ],
           "sequential": [
            [
             0,
             "#0d0887"
            ],
            [
             0.1111111111111111,
             "#46039f"
            ],
            [
             0.2222222222222222,
             "#7201a8"
            ],
            [
             0.3333333333333333,
             "#9c179e"
            ],
            [
             0.4444444444444444,
             "#bd3786"
            ],
            [
             0.5555555555555556,
             "#d8576b"
            ],
            [
             0.6666666666666666,
             "#ed7953"
            ],
            [
             0.7777777777777778,
             "#fb9f3a"
            ],
            [
             0.8888888888888888,
             "#fdca26"
            ],
            [
             1,
             "#f0f921"
            ]
           ],
           "sequentialminus": [
            [
             0,
             "#0d0887"
            ],
            [
             0.1111111111111111,
             "#46039f"
            ],
            [
             0.2222222222222222,
             "#7201a8"
            ],
            [
             0.3333333333333333,
             "#9c179e"
            ],
            [
             0.4444444444444444,
             "#bd3786"
            ],
            [
             0.5555555555555556,
             "#d8576b"
            ],
            [
             0.6666666666666666,
             "#ed7953"
            ],
            [
             0.7777777777777778,
             "#fb9f3a"
            ],
            [
             0.8888888888888888,
             "#fdca26"
            ],
            [
             1,
             "#f0f921"
            ]
           ]
          },
          "colorway": [
           "#636efa",
           "#EF553B",
           "#00cc96",
           "#ab63fa",
           "#FFA15A",
           "#19d3f3",
           "#FF6692",
           "#B6E880",
           "#FF97FF",
           "#FECB52"
          ],
          "font": {
           "color": "#2a3f5f"
          },
          "geo": {
           "bgcolor": "white",
           "lakecolor": "white",
           "landcolor": "#E5ECF6",
           "showlakes": true,
           "showland": true,
           "subunitcolor": "white"
          },
          "hoverlabel": {
           "align": "left"
          },
          "hovermode": "closest",
          "mapbox": {
           "style": "light"
          },
          "paper_bgcolor": "white",
          "plot_bgcolor": "#E5ECF6",
          "polar": {
           "angularaxis": {
            "gridcolor": "white",
            "linecolor": "white",
            "ticks": ""
           },
           "bgcolor": "#E5ECF6",
           "radialaxis": {
            "gridcolor": "white",
            "linecolor": "white",
            "ticks": ""
           }
          },
          "scene": {
           "xaxis": {
            "backgroundcolor": "#E5ECF6",
            "gridcolor": "white",
            "gridwidth": 2,
            "linecolor": "white",
            "showbackground": true,
            "ticks": "",
            "zerolinecolor": "white"
           },
           "yaxis": {
            "backgroundcolor": "#E5ECF6",
            "gridcolor": "white",
            "gridwidth": 2,
            "linecolor": "white",
            "showbackground": true,
            "ticks": "",
            "zerolinecolor": "white"
           },
           "zaxis": {
            "backgroundcolor": "#E5ECF6",
            "gridcolor": "white",
            "gridwidth": 2,
            "linecolor": "white",
            "showbackground": true,
            "ticks": "",
            "zerolinecolor": "white"
           }
          },
          "shapedefaults": {
           "line": {
            "color": "#2a3f5f"
           }
          },
          "ternary": {
           "aaxis": {
            "gridcolor": "white",
            "linecolor": "white",
            "ticks": ""
           },
           "baxis": {
            "gridcolor": "white",
            "linecolor": "white",
            "ticks": ""
           },
           "bgcolor": "#E5ECF6",
           "caxis": {
            "gridcolor": "white",
            "linecolor": "white",
            "ticks": ""
           }
          },
          "title": {
           "x": 0.05
          },
          "xaxis": {
           "automargin": true,
           "gridcolor": "white",
           "linecolor": "white",
           "ticks": "",
           "title": {
            "standoff": 15
           },
           "zerolinecolor": "white",
           "zerolinewidth": 2
          },
          "yaxis": {
           "automargin": true,
           "gridcolor": "white",
           "linecolor": "white",
           "ticks": "",
           "title": {
            "standoff": 15
           },
           "zerolinecolor": "white",
           "zerolinewidth": 2
          }
         }
        },
        "title": {
         "text": "Histogram of outcome"
        },
        "xaxis": {
         "anchor": "y",
         "domain": [
          0,
          1
         ],
         "title": {
          "text": "value"
         }
        },
        "yaxis": {
         "anchor": "x",
         "domain": [
          0,
          1
         ],
         "title": {
          "text": "count"
         }
        }
       }
      }
     },
     "metadata": {},
     "output_type": "display_data"
    },
    {
     "data": {
      "application/vnd.plotly.v1+json": {
       "config": {
        "plotlyServerURL": "https://plot.ly"
       },
       "data": [
        {
         "domain": {
          "x": [
           0,
           1
          ],
          "y": [
           0,
           1
          ]
         },
         "hovertemplate": "outcome=%{label}<br>counts=%{value}<extra></extra>",
         "labels": [
          "Ball",
          "Hit",
          "Strike"
         ],
         "legendgroup": "",
         "name": "",
         "showlegend": true,
         "type": "pie",
         "values": [
          19,
          635,
          346
         ]
        }
       ],
       "layout": {
        "legend": {
         "tracegroupgap": 0
        },
        "template": {
         "data": {
          "bar": [
           {
            "error_x": {
             "color": "#2a3f5f"
            },
            "error_y": {
             "color": "#2a3f5f"
            },
            "marker": {
             "line": {
              "color": "#E5ECF6",
              "width": 0.5
             },
             "pattern": {
              "fillmode": "overlay",
              "size": 10,
              "solidity": 0.2
             }
            },
            "type": "bar"
           }
          ],
          "barpolar": [
           {
            "marker": {
             "line": {
              "color": "#E5ECF6",
              "width": 0.5
             },
             "pattern": {
              "fillmode": "overlay",
              "size": 10,
              "solidity": 0.2
             }
            },
            "type": "barpolar"
           }
          ],
          "carpet": [
           {
            "aaxis": {
             "endlinecolor": "#2a3f5f",
             "gridcolor": "white",
             "linecolor": "white",
             "minorgridcolor": "white",
             "startlinecolor": "#2a3f5f"
            },
            "baxis": {
             "endlinecolor": "#2a3f5f",
             "gridcolor": "white",
             "linecolor": "white",
             "minorgridcolor": "white",
             "startlinecolor": "#2a3f5f"
            },
            "type": "carpet"
           }
          ],
          "choropleth": [
           {
            "colorbar": {
             "outlinewidth": 0,
             "ticks": ""
            },
            "type": "choropleth"
           }
          ],
          "contour": [
           {
            "colorbar": {
             "outlinewidth": 0,
             "ticks": ""
            },
            "colorscale": [
             [
              0,
              "#0d0887"
             ],
             [
              0.1111111111111111,
              "#46039f"
             ],
             [
              0.2222222222222222,
              "#7201a8"
             ],
             [
              0.3333333333333333,
              "#9c179e"
             ],
             [
              0.4444444444444444,
              "#bd3786"
             ],
             [
              0.5555555555555556,
              "#d8576b"
             ],
             [
              0.6666666666666666,
              "#ed7953"
             ],
             [
              0.7777777777777778,
              "#fb9f3a"
             ],
             [
              0.8888888888888888,
              "#fdca26"
             ],
             [
              1,
              "#f0f921"
             ]
            ],
            "type": "contour"
           }
          ],
          "contourcarpet": [
           {
            "colorbar": {
             "outlinewidth": 0,
             "ticks": ""
            },
            "type": "contourcarpet"
           }
          ],
          "heatmap": [
           {
            "colorbar": {
             "outlinewidth": 0,
             "ticks": ""
            },
            "colorscale": [
             [
              0,
              "#0d0887"
             ],
             [
              0.1111111111111111,
              "#46039f"
             ],
             [
              0.2222222222222222,
              "#7201a8"
             ],
             [
              0.3333333333333333,
              "#9c179e"
             ],
             [
              0.4444444444444444,
              "#bd3786"
             ],
             [
              0.5555555555555556,
              "#d8576b"
             ],
             [
              0.6666666666666666,
              "#ed7953"
             ],
             [
              0.7777777777777778,
              "#fb9f3a"
             ],
             [
              0.8888888888888888,
              "#fdca26"
             ],
             [
              1,
              "#f0f921"
             ]
            ],
            "type": "heatmap"
           }
          ],
          "heatmapgl": [
           {
            "colorbar": {
             "outlinewidth": 0,
             "ticks": ""
            },
            "colorscale": [
             [
              0,
              "#0d0887"
             ],
             [
              0.1111111111111111,
              "#46039f"
             ],
             [
              0.2222222222222222,
              "#7201a8"
             ],
             [
              0.3333333333333333,
              "#9c179e"
             ],
             [
              0.4444444444444444,
              "#bd3786"
             ],
             [
              0.5555555555555556,
              "#d8576b"
             ],
             [
              0.6666666666666666,
              "#ed7953"
             ],
             [
              0.7777777777777778,
              "#fb9f3a"
             ],
             [
              0.8888888888888888,
              "#fdca26"
             ],
             [
              1,
              "#f0f921"
             ]
            ],
            "type": "heatmapgl"
           }
          ],
          "histogram": [
           {
            "marker": {
             "pattern": {
              "fillmode": "overlay",
              "size": 10,
              "solidity": 0.2
             }
            },
            "type": "histogram"
           }
          ],
          "histogram2d": [
           {
            "colorbar": {
             "outlinewidth": 0,
             "ticks": ""
            },
            "colorscale": [
             [
              0,
              "#0d0887"
             ],
             [
              0.1111111111111111,
              "#46039f"
             ],
             [
              0.2222222222222222,
              "#7201a8"
             ],
             [
              0.3333333333333333,
              "#9c179e"
             ],
             [
              0.4444444444444444,
              "#bd3786"
             ],
             [
              0.5555555555555556,
              "#d8576b"
             ],
             [
              0.6666666666666666,
              "#ed7953"
             ],
             [
              0.7777777777777778,
              "#fb9f3a"
             ],
             [
              0.8888888888888888,
              "#fdca26"
             ],
             [
              1,
              "#f0f921"
             ]
            ],
            "type": "histogram2d"
           }
          ],
          "histogram2dcontour": [
           {
            "colorbar": {
             "outlinewidth": 0,
             "ticks": ""
            },
            "colorscale": [
             [
              0,
              "#0d0887"
             ],
             [
              0.1111111111111111,
              "#46039f"
             ],
             [
              0.2222222222222222,
              "#7201a8"
             ],
             [
              0.3333333333333333,
              "#9c179e"
             ],
             [
              0.4444444444444444,
              "#bd3786"
             ],
             [
              0.5555555555555556,
              "#d8576b"
             ],
             [
              0.6666666666666666,
              "#ed7953"
             ],
             [
              0.7777777777777778,
              "#fb9f3a"
             ],
             [
              0.8888888888888888,
              "#fdca26"
             ],
             [
              1,
              "#f0f921"
             ]
            ],
            "type": "histogram2dcontour"
           }
          ],
          "mesh3d": [
           {
            "colorbar": {
             "outlinewidth": 0,
             "ticks": ""
            },
            "type": "mesh3d"
           }
          ],
          "parcoords": [
           {
            "line": {
             "colorbar": {
              "outlinewidth": 0,
              "ticks": ""
             }
            },
            "type": "parcoords"
           }
          ],
          "pie": [
           {
            "automargin": true,
            "type": "pie"
           }
          ],
          "scatter": [
           {
            "fillpattern": {
             "fillmode": "overlay",
             "size": 10,
             "solidity": 0.2
            },
            "type": "scatter"
           }
          ],
          "scatter3d": [
           {
            "line": {
             "colorbar": {
              "outlinewidth": 0,
              "ticks": ""
             }
            },
            "marker": {
             "colorbar": {
              "outlinewidth": 0,
              "ticks": ""
             }
            },
            "type": "scatter3d"
           }
          ],
          "scattercarpet": [
           {
            "marker": {
             "colorbar": {
              "outlinewidth": 0,
              "ticks": ""
             }
            },
            "type": "scattercarpet"
           }
          ],
          "scattergeo": [
           {
            "marker": {
             "colorbar": {
              "outlinewidth": 0,
              "ticks": ""
             }
            },
            "type": "scattergeo"
           }
          ],
          "scattergl": [
           {
            "marker": {
             "colorbar": {
              "outlinewidth": 0,
              "ticks": ""
             }
            },
            "type": "scattergl"
           }
          ],
          "scattermapbox": [
           {
            "marker": {
             "colorbar": {
              "outlinewidth": 0,
              "ticks": ""
             }
            },
            "type": "scattermapbox"
           }
          ],
          "scatterpolar": [
           {
            "marker": {
             "colorbar": {
              "outlinewidth": 0,
              "ticks": ""
             }
            },
            "type": "scatterpolar"
           }
          ],
          "scatterpolargl": [
           {
            "marker": {
             "colorbar": {
              "outlinewidth": 0,
              "ticks": ""
             }
            },
            "type": "scatterpolargl"
           }
          ],
          "scatterternary": [
           {
            "marker": {
             "colorbar": {
              "outlinewidth": 0,
              "ticks": ""
             }
            },
            "type": "scatterternary"
           }
          ],
          "surface": [
           {
            "colorbar": {
             "outlinewidth": 0,
             "ticks": ""
            },
            "colorscale": [
             [
              0,
              "#0d0887"
             ],
             [
              0.1111111111111111,
              "#46039f"
             ],
             [
              0.2222222222222222,
              "#7201a8"
             ],
             [
              0.3333333333333333,
              "#9c179e"
             ],
             [
              0.4444444444444444,
              "#bd3786"
             ],
             [
              0.5555555555555556,
              "#d8576b"
             ],
             [
              0.6666666666666666,
              "#ed7953"
             ],
             [
              0.7777777777777778,
              "#fb9f3a"
             ],
             [
              0.8888888888888888,
              "#fdca26"
             ],
             [
              1,
              "#f0f921"
             ]
            ],
            "type": "surface"
           }
          ],
          "table": [
           {
            "cells": {
             "fill": {
              "color": "#EBF0F8"
             },
             "line": {
              "color": "white"
             }
            },
            "header": {
             "fill": {
              "color": "#C8D4E3"
             },
             "line": {
              "color": "white"
             }
            },
            "type": "table"
           }
          ]
         },
         "layout": {
          "annotationdefaults": {
           "arrowcolor": "#2a3f5f",
           "arrowhead": 0,
           "arrowwidth": 1
          },
          "autotypenumbers": "strict",
          "coloraxis": {
           "colorbar": {
            "outlinewidth": 0,
            "ticks": ""
           }
          },
          "colorscale": {
           "diverging": [
            [
             0,
             "#8e0152"
            ],
            [
             0.1,
             "#c51b7d"
            ],
            [
             0.2,
             "#de77ae"
            ],
            [
             0.3,
             "#f1b6da"
            ],
            [
             0.4,
             "#fde0ef"
            ],
            [
             0.5,
             "#f7f7f7"
            ],
            [
             0.6,
             "#e6f5d0"
            ],
            [
             0.7,
             "#b8e186"
            ],
            [
             0.8,
             "#7fbc41"
            ],
            [
             0.9,
             "#4d9221"
            ],
            [
             1,
             "#276419"
            ]
           ],
           "sequential": [
            [
             0,
             "#0d0887"
            ],
            [
             0.1111111111111111,
             "#46039f"
            ],
            [
             0.2222222222222222,
             "#7201a8"
            ],
            [
             0.3333333333333333,
             "#9c179e"
            ],
            [
             0.4444444444444444,
             "#bd3786"
            ],
            [
             0.5555555555555556,
             "#d8576b"
            ],
            [
             0.6666666666666666,
             "#ed7953"
            ],
            [
             0.7777777777777778,
             "#fb9f3a"
            ],
            [
             0.8888888888888888,
             "#fdca26"
            ],
            [
             1,
             "#f0f921"
            ]
           ],
           "sequentialminus": [
            [
             0,
             "#0d0887"
            ],
            [
             0.1111111111111111,
             "#46039f"
            ],
            [
             0.2222222222222222,
             "#7201a8"
            ],
            [
             0.3333333333333333,
             "#9c179e"
            ],
            [
             0.4444444444444444,
             "#bd3786"
            ],
            [
             0.5555555555555556,
             "#d8576b"
            ],
            [
             0.6666666666666666,
             "#ed7953"
            ],
            [
             0.7777777777777778,
             "#fb9f3a"
            ],
            [
             0.8888888888888888,
             "#fdca26"
            ],
            [
             1,
             "#f0f921"
            ]
           ]
          },
          "colorway": [
           "#636efa",
           "#EF553B",
           "#00cc96",
           "#ab63fa",
           "#FFA15A",
           "#19d3f3",
           "#FF6692",
           "#B6E880",
           "#FF97FF",
           "#FECB52"
          ],
          "font": {
           "color": "#2a3f5f"
          },
          "geo": {
           "bgcolor": "white",
           "lakecolor": "white",
           "landcolor": "#E5ECF6",
           "showlakes": true,
           "showland": true,
           "subunitcolor": "white"
          },
          "hoverlabel": {
           "align": "left"
          },
          "hovermode": "closest",
          "mapbox": {
           "style": "light"
          },
          "paper_bgcolor": "white",
          "plot_bgcolor": "#E5ECF6",
          "polar": {
           "angularaxis": {
            "gridcolor": "white",
            "linecolor": "white",
            "ticks": ""
           },
           "bgcolor": "#E5ECF6",
           "radialaxis": {
            "gridcolor": "white",
            "linecolor": "white",
            "ticks": ""
           }
          },
          "scene": {
           "xaxis": {
            "backgroundcolor": "#E5ECF6",
            "gridcolor": "white",
            "gridwidth": 2,
            "linecolor": "white",
            "showbackground": true,
            "ticks": "",
            "zerolinecolor": "white"
           },
           "yaxis": {
            "backgroundcolor": "#E5ECF6",
            "gridcolor": "white",
            "gridwidth": 2,
            "linecolor": "white",
            "showbackground": true,
            "ticks": "",
            "zerolinecolor": "white"
           },
           "zaxis": {
            "backgroundcolor": "#E5ECF6",
            "gridcolor": "white",
            "gridwidth": 2,
            "linecolor": "white",
            "showbackground": true,
            "ticks": "",
            "zerolinecolor": "white"
           }
          },
          "shapedefaults": {
           "line": {
            "color": "#2a3f5f"
           }
          },
          "ternary": {
           "aaxis": {
            "gridcolor": "white",
            "linecolor": "white",
            "ticks": ""
           },
           "baxis": {
            "gridcolor": "white",
            "linecolor": "white",
            "ticks": ""
           },
           "bgcolor": "#E5ECF6",
           "caxis": {
            "gridcolor": "white",
            "linecolor": "white",
            "ticks": ""
           }
          },
          "title": {
           "x": 0.05
          },
          "xaxis": {
           "automargin": true,
           "gridcolor": "white",
           "linecolor": "white",
           "ticks": "",
           "title": {
            "standoff": 15
           },
           "zerolinecolor": "white",
           "zerolinewidth": 2
          },
          "yaxis": {
           "automargin": true,
           "gridcolor": "white",
           "linecolor": "white",
           "ticks": "",
           "title": {
            "standoff": 15
           },
           "zerolinecolor": "white",
           "zerolinewidth": 2
          }
         }
        },
        "title": {
         "text": "Pie of outcome"
        }
       }
      }
     },
     "metadata": {},
     "output_type": "display_data"
    }
   ],
   "source": [
    "pitch_data.show_histogram(\"outcome\")\n",
    "pitch_data.show_pie(\"outcome\")\n"
   ]
  },
  {
   "cell_type": "code",
   "execution_count": 9,
   "metadata": {},
   "outputs": [
    {
     "data": {
      "application/vnd.plotly.v1+json": {
       "config": {
        "plotlyServerURL": "https://plot.ly"
       },
       "data": [
        {
         "hovertemplate": "pitch_x=%{x}<br>pitch_y=%{y}<br>hitability=%{marker.color}<extra></extra>",
         "legendgroup": "",
         "marker": {
          "color": [
           0.17662413397912685,
           0.13937454036702193,
           0.23824906624659736,
           0.17559027451354353,
           0.2082452259395809,
           0.22095346550775075,
           0.2165895374088572,
           0.2089780069959488,
           0.23180608897751423,
           0.24655202929358938,
           0.18219897991570105,
           0.1348931474212316,
           0.09999985736810102,
           0.13422448767252806,
           0.14572829042786362,
           0.07264595086215056,
           0.10078383260880867,
           0.10172489820050172,
           0.0992857639162947,
           0.11952415550168405,
           0.14686077004166834,
           0.27220470902880656,
           0.21569416540629738,
           0.08228175034996953,
           0.24853128232752136,
           0.25358720367725446,
           0.16215939898469606,
           0.15379469584211503,
           0.11666382364231423,
           0.141882637347643,
           0.0985969249666931,
           0.19253892230478004,
           0.29059755331385234,
           0.1908982749296401,
           0.24743828053956346,
           0.26691460085882135,
           0.09905055023082855,
           0.11447732895592387,
           0.24461837881011902,
           0.23425435931699795,
           0.23566388944991915,
           0.1806479905939063,
           0.2390073043068649,
           0.14932117774688936,
           0.26757843828017497,
           0.0482911802063456,
           0.23234594351186327,
           0.14125622368609655,
           0.12783765721660906,
           0.20616212606674622,
           0.07911816425021324,
           0.11130344051048244,
           0.13945009692030141,
           0.15394195707754124,
           0.18763602558346434,
           0.19170679524371928,
           0.0765093315484303,
           0.23963358592581774,
           0.039918562987454956,
           0.11545605137025992,
           0.1924978603365405,
           0.29878777711846516,
           0.13076691387098277,
           0.1414963618424549,
           0.25031084865448067,
           0.05134951526514583,
           0.1288946020241644,
           0.18995289301272947,
           0.11932288034792342,
           0.10082958367863032,
           0.13123328107032245,
           0.27449476439229314,
           0.2503385189198085,
           0.011672873396511343,
           0.19448837538784644,
           0.0532891660491785,
           0.1823043815936782,
           0.16479018939828022,
           0.23670420182927876,
           0.29973801743907896,
           0.23175757907962347,
           0.2662353666060164,
           0.1882042002252024,
           0.242818568599668,
           0.24194330405336628,
           0.2954718661249679,
           0.052830473794396905,
           0.29216520387213085,
           0.2771013231055459,
           0.24614183022441416,
           0.17943147567933995,
           0.22126386002295,
           0.294811688619221,
           0.21751060347890058,
           0.2971115688387962,
           0.13147357405255974,
           0.05215295578216617,
           0.07130799689243408,
           0.29062153844978594,
           0.14944846862786693,
           0.24463654458115047,
           0.1257794973624453,
           0.1262330055793758,
           0.17335278540751176,
           0.07925769351667987,
           0.11433232835425108,
           0.2382700115382213,
           0.25125489248109584,
           0.19415110051351045,
           0.23454892128125188,
           0.2501016052415661,
           0.04898187524959133,
           0.24766925503744214,
           0.25634477281274515,
           0.2014930173904131,
           0.17873241527277733,
           0.21177746581680126,
           0.1859707976278081,
           0.2482509573993801,
           0.2716690358398539,
           0.2704088683533295,
           0.2365973067435336,
           0.13519521032354254,
           0.1796803751277534,
           0.12202748082691037,
           0.296218326375358,
           0.07706796292816913,
           0.21744101942734037,
           0.009662563492437786,
           0.16978781783499627,
           0.23646769710491647,
           0.10829879667896342,
           0.2857486188228288,
           0.2560055819212888,
           0.10182929027418396,
           0.29147045894942736,
           0.20175241580724354,
           0.11775732472334086,
           0.29060872572895835,
           0.2502113631465772,
           0.19566476633575422,
           0.26239222863277994,
           0.2772280387538415,
           0.17148668142378906,
           0.2767283270683201,
           0.1380582892765344,
           0.1256957923607359,
           0.13882161132690815,
           0.10113557143894143,
           0.2352802561244228,
           0.27837046009617994,
           0.18291394228431046,
           0.17494740839412665,
           0.13777602720855084,
           0.060314383977553655,
           0.20553299194833582,
           0.09812559120117943,
           0.23716629715486442,
           0.05845039537058748,
           0.19739303037663836,
           0.05714769406078092,
           0.20340014504035817,
           0.15748035609306002,
           0.055711554465807285,
           0.23775906338061084,
           0.22514989468263985,
           0.09181842689952839,
           0.23515557407111531,
           0.15562974430757132,
           0.18024716250800246,
           0.1486860987201355,
           0.26853940367065543,
           0.14632678017591244,
           0.23425899640126852,
           0.22674630748483157,
           0.2723851397558533,
           0.06990324341632777,
           0.22531408145990237,
           0.25915599680440704,
           0.07329704716501824,
           0.26609245820938443,
           0.1602379492301817,
           0.15363789838284916,
           0.18533078759524105,
           0.0984704299600347,
           0.12338101247987282,
           0.2686987222374364,
           0.04439191227574248,
           0.21778709714488217,
           0.10404170644041492,
           0.042927121493349464,
           0.06294695012893145,
           0.26362233432458526,
           0.2247168745335304,
           0.08551020904381736,
           0.16241167615862126,
           0.1349014961559897,
           0.24959188895040957,
           0.09895560823044164,
           0.09122678152150254,
           0.23850945778558352,
           0.2537795719368464,
           0.14200096611953603,
           0.268748148050473,
           0.2853526570664259,
           0.14255760365804035,
           0.29621217347724044,
           0.18751476952659943,
           0.08160502979206434,
           0.08499980012050751,
           0.10308051572293112,
           0.15140355231092356,
           0.2969299296824002,
           0.036923697944692226,
           0.17205857446163392,
           0.18065205498200612,
           0.24695593794581625,
           0.09688002488299051,
           0.04710864444786179,
           0.15125948635385492,
           0.19661119392913612,
           0.2896888090737543,
           0.1219544497490423,
           0.2914324534669637,
           0.25093337020571704,
           0.2202936351566857,
           0.29960180203132664,
           0.2761361243408697,
           0.12909089848717442,
           0.29222324253054394,
           0.29658844282480695,
           0.24292252297089134,
           0.2520239119502116,
           0.2489816329509359,
           0.03807633212121551,
           0.17302176025102123,
           0.1652870151910379,
           0.20173908669828863,
           0.23010475257174703,
           0.2978997341190125,
           0.20769884915620337,
           0.21848146775878496,
           0.2956677917851318,
           0.2104928101598378,
           0.21373915243420188,
           0.18957884073906064,
           0.21590716446426123,
           0.13747286460985833,
           0.10376826707699872,
           0.10361660186915515,
           0.2573847954085556,
           0.18231045912792146,
           0.280764580543471,
           0.10699542533374407,
           0.1690741572827518,
           0.13679809066609888,
           0.027701418417131092,
           0.21098378176722102,
           0.2459548933657319,
           0.1433461779334038,
           0.06163850391895735,
           0.054508671530495205,
           0.17907497034463785,
           0.17944845406694188,
           0.23270047211138262,
           0.2712077288907624,
           0.229382761694771,
           0.12435542168624963,
           0.019797029953900643,
           0.23078459704015492,
           0.28531444239299614,
           0.25372662677810875,
           0.058058791327059316,
           0.128871946187038,
           0.08018265099619216,
           0.2239041342713836,
           0.12822139479523564,
           0.023661115727992534,
           0.2194676663808427,
           0.18096375171844586,
           0.2867240549144284,
           0.1425454143884561,
           0.26007579262581115,
           0.11242523328622861,
           0.29329400375811066,
           0.2341013990627909,
           0.2451868661331942,
           0.2910141685441336,
           0.06866670360259489,
           0.2805799123448329,
           0.1351044471603212,
           0.16402229133367574,
           0.2852536339692433,
           0.26257437238887466,
           0.2986846069617992,
           0.22819270149677506,
           0.29626513699596263,
           0.25563952659434286,
           0.09842772888960327,
           0.17273393754626218,
           0.036513978942133284,
           0.01202787910717875,
           0.20793792814978962,
           0.12192986494797937,
           0.21122316392055715,
           0.22298780004762858,
           0.19501263454018467,
           0.15245316836483544,
           0.29568670841971234,
           0.2787999657163412,
           0.21512083697045,
           0.13554483370637951,
           0.272530426778135,
           0.23844285218109057,
           0.12630469589987423,
           0.18875639359135513,
           0.09239692549535757,
           0.25369475501058186,
           0.23109707006969032,
           0.2450768499090279,
           0.22711918254112853,
           0.29485047516517604,
           0.2734482979389518,
           0.2764520316372178,
           0.10750700434299885,
           0.18618700555760495,
           0.27990224908324973,
           0.29494491790471267,
           0.1717945380634384,
           0.10381893940906028,
           0.26914495337741384,
           0.18767622632155037,
           0.26715593552232636,
           0.2798227704440976,
           0.2380230732441989,
           0.09382404963221919,
           0.047924193886081635,
           0.28777293565256323,
           0.16009684908962915,
           0.17456326517086465,
           0.28147098444003077,
           0.14092468856924492,
           0.2469455540790767,
           0.08492078868337004,
           0.2413973736773783,
           0.2998065237094839,
           0.15838789573689027,
           0.2463331173053071,
           0.2939307236852581,
           0.29261441802276095,
           0.15198478864854836,
           0.03495124909714925,
           0.24030962515450768,
           0.2764445813836062,
           0.21093284460840883,
           0.22634585016926775,
           0.14044192880336737,
           0.28490255544838783,
           0.258942864401231,
           0.2999475422188067,
           0.10546412395557583,
           0.29024097906765367,
           0.19148361246917114,
           0.01440730192037205,
           0.04456193161321501,
           0.14985143820348545,
           0.2725147786932573,
           0.114403513238672,
           0.2910064264923718,
           0.19299006872370822,
           0.2198140790187977,
           0.20676056402429546,
           0.07890463086090092,
           0.1379798124067848,
           0.20892945282786932,
           0.17121319223570536,
           0.29394629300291064,
           0.1429455904932916,
           0.19989417621338257,
           0.2820979074464191,
           0.0822850758699979,
           0.22622421787844443,
           0.11867955633989215,
           0.12204581907454273,
           0.054048215986654886,
           0.1713564635637285,
           0.17031731584052434,
           0.22866928520781618,
           0.21760433298190665,
           0.2771987540981277,
           0.25795501579921315,
           0.21146744327632536,
           0.20946588328340476,
           0.26322422900026926,
           0.2152985112508574,
           0.27999912953865574,
           0.23539884839237105,
           0.15818229723558783,
           0.21016605531922378,
           0.20628624785085536,
           0.1875961114306168,
           0.0060446004273154485,
           0.10755075134250287,
           0.25271050187178157,
           0.13470993963467207,
           0.13472278078436173,
           0.29868780216627455,
           0.04004768677516042,
           0.16290593352302818,
           0.07825833944853747,
           0.13585852706391624,
           0.19337134349255522,
           0.27317468324794675,
           0.17227101758294985,
           0.04844446318957336,
           0.1346466460333941,
           0.2213215199490164,
           0.09428630938169269,
           0.2553911982671046,
           0.19899987212948636,
           0.19563384686711205,
           0.28105052540619035,
           0.26805560701022246,
           0.2496430665626565,
           0.23926056028956136,
           0.2444437314690654,
           0.013836254462646635,
           0.247351797536175,
           0.18808358099842884,
           0.2571211581378554,
           0.13985595499064615,
           0.2742389458946796,
           0.09916905979397823,
           0.2010679901776012,
           0.09784751579930626,
           0.07932111400533857,
           0.205581340927763,
           0.14420054990644704,
           0.25623749057343476,
           0.1785204159102168,
           0.23014794296875316,
           0.2001310506173165,
           0.19268240403968628,
           0.1613322645650427,
           0.16911275477039348,
           0.26919021576595414,
           0.2716361642354423,
           0.2841851668402037,
           0.04767233610709661,
           0.17466670138459528,
           0.12479614101021902,
           0.27313358704617396,
           0.19973933696028653,
           0.1424929054252023,
           0.2483058800448107,
           0.12377372460522483,
           0.2757452816766022,
           0.15757191255588532,
           0.1720571771793742,
           0.1574347156069942,
           0.2984613406448988,
           0.08939832646282989,
           0.12060250520838496,
           0.218383639411246,
           0.25257661923380775,
           0.26470491155820214,
           0.08731439384100934,
           0.14402500210946212,
           0.22044916572921833,
           0.29780635800202326,
           0.2902786290988657,
           0.06690313196334312,
           0.23338739082896948,
           0.2231061321017808,
           0.29579785732321945,
           0.21469534181863803,
           0.06940278065624746,
           0.06434913068639217,
           0.2174621784922462,
           0.26317961660290146,
           0.29787685610958514,
           0.08624944602277763,
           0.28783266181542666,
           0.119691888874256,
           0.2905706195447499,
           0.052827210794767196,
           0.09861458331049462,
           0.2731584991350281,
           0.21113265794714817,
           0.2013180392130339,
           0.19141263070793071,
           0.15621396904094112,
           0.19953657896594715,
           0.1059052688926047,
           0.28923352760732446,
           0.269693321204661,
           0.07633260981351933,
           0.1439735834297655,
           0.15323291908801145,
           0.10900853845232282,
           0.026620102138265402,
           0.22807461178109467,
           0.14752466496465286,
           0.0177254560821149,
           0.22347693331818674,
           0.1269924290969988,
           0.20674317744084506,
           0.0866614671599781,
           0.139985584310287,
           0.09671433762945328,
           0.14613090662133102,
           0.20464886338746252,
           0.19093514445725665,
           0.07828179890299408,
           0.2715782466914282,
           0.1108435324604328,
           0.1790865669385599,
           0.15437407179590693,
           0.29509282357153427,
           0.2350587755533861,
           0.16071472093651962,
           0.15652752115355753,
           0.19732472105662732,
           0.0260642655623725,
           0.19344315847770105,
           0.29206797161795367,
           0.2982595170260194,
           0.27610910938350003,
           0.08969920619291043,
           0.298742540479858,
           0.22279855496307074,
           0.28310181549240504,
           0.21743654028558582,
           0.18932710677405573,
           0.27479293573350894,
           0.18991874461293293,
           0.13870417139339664,
           0.12012200522160235,
           0.26097710486616593,
           0.29190027042948163,
           0.15277800282480805,
           0.03624400711819642,
           0.26494872023640015,
           0.2730392667694286,
           0.030295754071684753,
           0.280357094713219,
           0.2888332095139193,
           0.14088418741785905,
           0.16368354326178872,
           0.27081572405171456,
           0.26994743174027847,
           0.11509751732848428,
           0.2188652462138276,
           0.05302109550527051,
           0.22366162914374985,
           0.2455105030670846,
           0.05807745216418109,
           0.11944434284650127,
           0.21288009495272875,
           0.09091678911245461,
           0.17959054070872485,
           0.09095720748229905,
           0.1970861033968919,
           0.19506593507925868,
           0.23810206299395,
           0.11033343266801733,
           0.20059150809637524,
           0.23492813710904334,
           0.24644301747470407,
           0.16633267198011287,
           0.12572146770249748,
           0.24134495990564195,
           0.26716725172373984,
           0.23552403891804546,
           0.2137561037658596,
           0.1704464776090456,
           0.20979560672319233,
           0.24806927646774504,
           0.07613975620008645,
           0.1933304445694605,
           0.22790778740332052,
           0.2666182165531645,
           0.14451962086737366,
           0.2678459821042354,
           0.21936865190602148,
           0.2120477394669598,
           0.23174780016446678,
           0.2673892270006428,
           0.22620159752642827,
           0.15871935405843898,
           0.1105699014457845,
           0.21654837783555456,
           0.19318038192574247,
           0.25579499798737887,
           0.233463406188922,
           0.21001747790840564,
           0.19845074573467722,
           0.21313173297006568,
           0.08641009291434047,
           0.20232946763873852,
           0.06973597544680361,
           0.26461889203353806,
           0.14477041967146947,
           0.28447341773362295,
           0.24138780118338574,
           0.1519485557825067,
           0.2028590221248653,
           0.2865213533534383,
           0.18315903740364775,
           0.23738083967268242,
           0.24041446162432606,
           0.1712725057682629,
           0.2550172218162814,
           0.24671637752900363,
           0.1596230777959817,
           0.13962417579320055,
           0.17093382793182102,
           0.2473434018198006,
           0.13479905232624467,
           0.17450078217730994,
           0.29882361081542785,
           0.21380424419643607,
           0.2999954449752383,
           0.19235813667245377,
           0.12410395049881426,
           0.10737132911856091,
           0.22609924076549168,
           0.17311796158235554,
           0.26933096550268,
           0.16643894958391306,
           0.17288201937835385,
           0.07501984345238309,
           0.21924941646029358,
           0.08748445684238382,
           0.1720528737402167,
           0.23477411346705082,
           0.1871063576420746,
           0.25239554288228827,
           0.114948219189728,
           0.29968943099784845,
           0.20645422204869954,
           0.013865627418182798,
           0.07968285799446816,
           0.19589283855067666,
           0.10242951976912511,
           0.19937605138226994,
           0.2844821177176229,
           0.1414644226579288,
           0.128357583996715,
           0.27213726314213527,
           0.2836533855078028,
           0.11976426300367346,
           0.08073027955127311,
           0.23013054873780942,
           0.17243530426289574,
           0.23113008112722433,
           0.2731144445828448,
           0.03943675532582725,
           0.2761112315470681,
           0.17707709914486205,
           0.10211712595984043,
           0.08287307617536827,
           0.27697353614456866,
           0.1671804172451162,
           0.14118439737656893,
           0.06365627598991283,
           0.14568169510144824,
           0.048970041874409086,
           0.2711249881826934,
           0.25809872821918217,
           0.282911285544041,
           0.21608289144034892,
           0.15667445091658005,
           0.2236261399658403,
           0.16903711668376462,
           0.020872740647775747,
           0.29750546420833823,
           0.26973534076539785,
           0.16435719940296822,
           0.14414309288688545,
           0.11472866554005492,
           0.2722833088816761,
           0.14027837195031695,
           0.2710922092386225,
           0.2763709901859116,
           0.25145573279118766,
           0.2523050312012275,
           0.20821911556676706,
           0.2995405309972112,
           0.21035365066680048,
           0.07460569108872309,
           0.2513231265623729,
           0.2722090748608735,
           0.17923950733793845,
           0.04848482769247794,
           0.28708297032269914,
           0.2713687956694024,
           0.12981877488416915,
           0.14365708256704948,
           0.025012816947543585,
           0.25715681366540905,
           0.23976034851782813,
           0.28627913781723424,
           0.13435888552472708,
           0.23617744316493977,
           0.1852246052157723,
           0.09973449600913455,
           0.1927851548095186,
           0.2439084794995373,
           0.2773510098560128,
           0.20048709324056457,
           0.15297660679089317,
           0.1377910232598959,
           0.24222102005592172,
           0.2171391536035966,
           0.24776194396526055,
           0.28150611969959616,
           0.16191173506831774,
           0.07406035756987682,
           0.02680951885085677,
           0.16797925847101203,
           0.27644897849816025,
           0.13656836046278167,
           0.2554639979223457,
           0.19909269999151022,
           0.19796064320922088,
           0.1101965022043127,
           0.21171867494109078,
           0.01916226879386326,
           0.29810034470345576,
           0.14304468240627885,
           0.2962655312399545,
           0.2440089635275947,
           0.09964504661035888,
           0.18399168855766948,
           0.2903809117761106,
           0.29710868588125644,
           0.11667006924797999,
           0.20070788739426806,
           0.2518464821558133,
           0.1441141126557486,
           0.2347270622889829,
           0.26249543812300447,
           0.1890275359062554,
           0.18492061829417583,
           0.279867896584645,
           0.23110263286131388,
           0.08392103673778538,
           0.24943064233964396,
           0.10839906165077598,
           0.2195524069675115,
           0.17940091973449565,
           0.0870670373596391,
           0.20726971680013653,
           0.2522855152314763,
           0.29507138896734275,
           0.1315702072074572,
           0.2222226747796563,
           0.01942925378395052,
           0.20743535982717534,
           0.22608781629702696,
           0.25528241317397943,
           0.11446139952560545,
           0.27904485765468096,
           0.21640293059845997,
           0.21970206244047719,
           0.29438310502496257,
           0.22651346085511015,
           0.12679507088142483,
           0.1836063834876912,
           0.0031461864563090535,
           0.28317928821425686,
           0.06312834946040166,
           0.05314741350922671,
           0.22408436914202676,
           0.19211016139833145,
           0.2161076912151845,
           0.2459930282697583,
           0.14045279686488413,
           0.2513324320513346,
           0.23084077650182167,
           0.19506339051933488,
           0.28602158216828094,
           0.09427878910696817,
           0.2359237629361175,
           0.16704851075857358,
           0.18775179343252377,
           0.013819123416035788,
           0.08072195420541743,
           0.22273150776354875,
           0.045404581315656285,
           0.2667160235151417,
           0.12452263443684061,
           0.1088683253261757,
           0.2959528602074356,
           0.18923649100541776,
           0.2659599662585401,
           0.14792100323483615,
           0.17831602339901012,
           0.14356620147093846,
           0.17791760293880896,
           0.2556179416705576,
           0.26114312438288284,
           0.2595388860316689,
           0.06407067162277827,
           0.269531460394207,
           0.201059397588877,
           0.22778363074841185,
           0.28999763605012446,
           0.12134523516402672,
           0.2886982801561233,
           0.27801030639537677,
           0.06997967206331279,
           0.15746900415574894,
           0.11539313745103305,
           0.11506272558673336,
           0.23362327235140268,
           0.22750636351198852,
           0.16672961330171193,
           0.29671261168927415,
           0.017665183384606015,
           0.23792245404580636,
           0.2735616334771369,
           0.1488752595896475,
           0.1733274850429811,
           0.22619673622694098,
           0.28715564646676994,
           0.2073347385790251,
           0.2031592945643044,
           0.28317126825738115,
           0.12901592001720694,
           0.19727443406361334,
           0.2967286716448271,
           0.20620603730051426,
           0.05887414796140644,
           0.08026954176467985,
           0.28913301658924356,
           0.12223166279814729,
           0.2077491758210259,
           0.03568906106468066,
           0.2246070803911087,
           0.08134077317725909,
           0.1993742280414916,
           0.297915877453196,
           0.061775581559327164,
           0.28901458459836976,
           0.23147238041852142,
           0.29939637715341516,
           0.07037994314581994,
           0.06637414066437135,
           0.14352285843871526,
           0.0596653518802207,
           0.1578806827185484,
           0.174319338728517,
           0.154284583549168,
           0.12851492259145958,
           0.21262233292037808,
           0.2603749343062563,
           0.1448710021378462,
           0.26970558595693506,
           0.2741071423042994,
           0.28445565629085284,
           0.20385841234032812,
           0.29999696132790027,
           0.26991804761674576,
           0.17953251340136625,
           0.2782101648927743,
           0.1252362028352131,
           0.21839423411375164,
           0.15466695572930403,
           0.23796978460322757,
           0.2612099212701796,
           0.2294133912411372,
           0.26369130026428544,
           0.2700124205522144,
           0.14272765543246954,
           0.11580690262641452,
           0.09559826604080728,
           0.2838664678423153,
           0.20604154361479257,
           0.05844568333097809,
           0.11463734264055649,
           0.2037785331899873,
           0.10716352349036365,
           0.15161665241892477,
           0.05537376232022232,
           0.29414455904958375,
           0.018160428374671366,
           0.23618945203217223,
           0.19415445421669134,
           0.037284910412507886,
           0.07331864493881544,
           0.15588836136213674,
           0.19689021012168886,
           0.19297813643767564,
           0.18331180861152,
           0.25624691785167586,
           0.11444404134966425,
           0.1587771605049591,
           0.10028741313114393,
           0.03303042353583592,
           0.139582039999371,
           0.2999727404472216,
           0.14625244561988607,
           0.21461203229778386,
           0.04221001980416412,
           0.29666169759000205,
           0.12031648752220617,
           0.2049009031214272,
           0.2876345021873057,
           0.18248433409474965,
           0.03816452978045259,
           0.022852059879810916,
           0.07788342538279432,
           0.278105815602179,
           0.26332263958497004,
           0.2171181122716493,
           0.14907416144279273,
           0.05321753886286061,
           0.18841697219162892,
           0.12489926404447407,
           0.18098258686309024,
           0.1540181503321971,
           0.21202615159496568,
           0.08754538683909026,
           0.14109156923817712,
           0.09308391520451781,
           0.11083116447978777,
           0.13516628321360213,
           0.22233124027877957,
           0.11629509129264184,
           0.09036712280513289,
           0.27964563753170407,
           0.09144400369159886,
           0.22060680410460495,
           0.15125496614840486,
           0.2531881974921317,
           0.27327772896797065,
           0.2025069866923311,
           0.14555431931562704,
           0.08281058265659633,
           0.11273190626090719,
           0.29514517214854913,
           0.2107780655457342,
           0.29333909794638763,
           0.28666287805052454,
           0.2912854377926416,
           0.2975341429242776,
           0.29365676531296764,
           0.2674522176659997,
           0.2379079470145939,
           0.05746967481971607,
           0.1180224267909023,
           0.25830687625304993,
           0.1281018035021063,
           0.12421103488318802,
           0.012804049097581047,
           0.1000911327764777,
           0.19456446026669447,
           0.1754874199292595,
           0.26451818971459573,
           0.10340472283011229,
           0.2701401793940428,
           0.201702774463298,
           0.11386081591585225,
           0.24485593184355892,
           0.26385848143459306,
           0.2810670593078775,
           0.2743478303656768,
           0.27612436438166854,
           0.22092372105576438,
           0.17672537250527054,
           0.22718380837974073,
           0.2623719051521695,
           0.2529045193586199,
           0.19740877223410327,
           0.28533728711012585,
           0.24821940651764707,
           0.16757561308716307,
           0.21540916627912768,
           0.17565590754671212,
           0.2190165431657007,
           0.2921881473701238,
           0.1258038626352756,
           0.13032304326728836,
           0.17360607359792893,
           0.15290432454997657,
           0.254251786744071,
           0.19126255619790697,
           0.13502059656009666,
           0.13206874531127097,
           0.07726545817773427,
           0.27056142332935257,
           0.2344688476560293,
           0.23678531025466176,
           0.1746963517860647,
           0.21278717894473068,
           0.22024090236905086,
           0.1787666526492839,
           0.2761208521464108
          ],
          "coloraxis": "coloraxis",
          "symbol": "circle"
         },
         "mode": "markers",
         "name": "",
         "orientation": "v",
         "showlegend": false,
         "type": "scatter",
         "x": [
          -0.2950684565819036,
          -0.31928250286436954,
          0.6235285859575643,
          1.0317370602345999,
          -0.4223508707942331,
          -0.0031265618657961795,
          0.8032082221280705,
          0.8157315693046165,
          0.14779035630085086,
          -0.008664661931201162,
          0.4091583536222282,
          -0.1054648702586758,
          -0.18464501180204512,
          -0.5118356761214621,
          -0.41837206157285806,
          -0.6368383873365555,
          0.8121675927537576,
          -1.0938479542097264,
          0.3884609033051883,
          0.014688766258641133,
          -0.9293855109460623,
          0.17146300287047517,
          -0.6760817547362414,
          -1.6055857791216535,
          -0.6103949058789372,
          -0.29960295841593904,
          0.7906594497612667,
          0.7546967109717359,
          1.235075932466985,
          0.5978332750840768,
          1.491674014411689,
          0.7725128588749867,
          0.06192579990294249,
          0.6260500643354489,
          0.36736619646224544,
          -0.2801424228917909,
          1.4270629766573675,
          -1.3563238562963718,
          0.3769701065045833,
          -0.4105667871349179,
          -0.08277927291051969,
          -0.9352157678914997,
          0.37846516915908057,
          0.63443673222658,
          0.16166322928874874,
          -0.3676210507288087,
          0.4250727708787348,
          0.4638561705394671,
          -0.5581727464515651,
          -0.67127345016026,
          -1.0529512589854533,
          1.109460594056382,
          0.817734879324224,
          -0.6461868276680988,
          0.32826947521190913,
          -0.9278423479995404,
          1.2714241685818484,
          0.49209961912919287,
          2.0057710628461063,
          -1.3400222373501045,
          0.1953852601120032,
          -0.08868228193042597,
          0.20594200199924426,
          0.7007910019700792,
          0.5175571224007546,
          -1.5576440510141145,
          -0.2909714461495764,
          -0.19666165602306654,
          -1.2849501245667108,
          -0.8931327979285896,
          -0.4952513812632399,
          -0.41596858384530727,
          0.5295811165305879,
          -2.116618823187927,
          0.9293621859122551,
          0.20694294000901478,
          0.20482913263434338,
          1.0554088229384044,
          -0.5501659309251173,
          -0.009916588977332113,
          -0.6629101646283015,
          -0.3917517112451638,
          0.4766461008375374,
          0.19694652809337057,
          -0.45793203010437866,
          -0.16609353599975682,
          0.596574251186579,
          -0.010239049421261437,
          -0.3983397628583478,
          -0.5551245981422505,
          0.26364195780444116,
          -0.23121941020185732,
          0.13809819047678004,
          0.45274515064940885,
          0.1308014754080074,
          -1.09920259795604,
          -0.7254681976946398,
          -1.3669995422333192,
          -0.24441434442210916,
          -1.0738810452693897,
          -0.63235453983433,
          0.5317526026600178,
          0.9487899036587872,
          0.4711507097594036,
          1.4761331726452533,
          -0.6989281127602393,
          -0.03890960327613936,
          0.1413344970656787,
          -0.28189023889627385,
          -0.5073559031859863,
          0.5184115025474565,
          -1.8317416198892242,
          -0.12385803029365999,
          0.5579996783832782,
          -0.8637228466176996,
          0.07177061738855196,
          0.18393205895414177,
          0.9585932102368561,
          0.13933673927814538,
          0.3435968154884377,
          0.2624811885459251,
          0.582754419465467,
          1.1816042288239774,
          -0.25055869695956073,
          1.1216458247042709,
          0.006750569890691462,
          -0.2899776744045223,
          0.6683069746716797,
          1.0904263115901773,
          0.8661478761775675,
          0.01343613152003805,
          1.4164812991321716,
          0.29893988431179613,
          0.22792588288802879,
          -0.3068646427196263,
          0.10648237225593671,
          -0.015248198432086732,
          -0.7391612696994506,
          -0.04832741591692671,
          0.41092464540766543,
          -0.03125674395174343,
          -0.2651726400582333,
          -0.231574482281029,
          0.671363861431169,
          -0.07960997481167134,
          -1.2187096949071696,
          0.14985721723864331,
          -1.19855516532481,
          -1.4728095934642027,
          0.6969796364143581,
          -0.3076194777204757,
          -0.9737550656701985,
          0.947714573737995,
          0.6577302182345027,
          -0.9844557966303267,
          0.21780661789458758,
          0.01786151907305184,
          -0.25210211237502217,
          1.0883107208488618,
          -0.45184753023592944,
          -1.49009998028643,
          0.7081622239230023,
          0.8864469797772234,
          1.832047247964639,
          -0.0593105232892717,
          0.7564298433089983,
          -0.3671861662105422,
          -0.6338911773143192,
          -1.1205964232849945,
          -0.905748839997527,
          0.8549811439668102,
          0.37634329584751897,
          -1.0029049632441969,
          0.7004089288425319,
          0.6917895349715748,
          -0.3919760898750126,
          -1.0526705864234518,
          0.1660838618045176,
          0.31725739334638575,
          1.4684044717568685,
          -0.3527505509350108,
          1.1152573726232733,
          -1.1530246666031292,
          0.9652709852940209,
          1.4677501271757658,
          -1.3307665987343236,
          -0.429841400286681,
          -1.8103387576446033,
          -0.12088136554891386,
          -1.4224927551713642,
          1.9049886195337462,
          0.9607383597913384,
          -0.43078881581270595,
          -0.6057080509081286,
          -1.5020032296547978,
          0.2832401781844103,
          -0.9134761170006511,
          -0.49146353456463526,
          1.3631952553674371,
          1.2343083559217587,
          0.6258030243215023,
          -0.550056652776136,
          0.5477588370780754,
          0.23742614942845655,
          -0.31623836451809495,
          -0.06435477664984182,
          0.1421066580668221,
          0.9493080804592205,
          1.5580582662462161,
          -0.5311313311642679,
          -1.4532388128883973,
          0.9534829295885103,
          0.12640680361233592,
          2.0437591433588858,
          0.9498242681055079,
          0.9454389476259264,
          -0.6006812289017316,
          1.4073247796053219,
          -0.0475447103802,
          1.0566825240701239,
          0.7142023040436425,
          0.2600657595504723,
          0.19795280948684565,
          -0.2398499978243223,
          0.043297687589249165,
          -0.07394155095632333,
          -0.0014252101747725505,
          -0.07519948009046472,
          -0.5840609606021426,
          0.058195916270747584,
          -0.010451317603404918,
          -0.32935017465282773,
          -0.005271750066435993,
          -0.2486381159733574,
          0.43642040669240617,
          -0.9998040236659367,
          0.03696348294337079,
          0.8741664623008601,
          0.5771516994259883,
          -0.06721749865854883,
          -0.022542466457846577,
          0.6629954339253488,
          0.12813249324154308,
          -0.8128170939912609,
          0.52133262968502,
          0.9316502550463236,
          0.6388651504373338,
          1.2189950251142694,
          0.7648577054612992,
          1.4170173193613231,
          0.5385315752412941,
          -0.9980074510217021,
          -0.2457390826514709,
          1.1118745659053983,
          1.0087414912194206,
          0.7254795757875403,
          -0.7140734849633467,
          0.8383020284472308,
          0.48519821118927237,
          -0.9862459683182292,
          -0.9422398311029619,
          -1.5839392260902614,
          1.0128401239225786,
          -0.3648703706208475,
          -0.5966057959437647,
          -0.23741333741212697,
          0.06092145405355299,
          -0.6965272984567956,
          1.8258592525809947,
          0.5058341067280567,
          0.3121628075368562,
          0.3792821119576526,
          0.5524961246847028,
          0.9571940040472328,
          1.61707651838605,
          0.6773534198956652,
          1.1135734203490435,
          1.824973208998527,
          0.7642961972183593,
          0.7297549918485122,
          0.22306844273903126,
          0.5307324248373243,
          0.38816057994833414,
          -1.1218913529382328,
          0.21069831665213729,
          0.3193255753647682,
          -0.2544239813471692,
          0.24598283434631696,
          -1.2776561934034762,
          -0.05815606346299419,
          1.1550431697126153,
          0.6233459456048814,
          -0.015146186985154698,
          0.3957456311764678,
          -0.09057854007296429,
          -0.682590717781525,
          -0.0057815849306735575,
          -0.43328657439639723,
          1.48100361224242,
          -0.2369993489969191,
          -0.0514569609420094,
          1.8361571747693703,
          0.2491261368717397,
          1.246687852767407,
          -0.6726891791687769,
          -0.6230425270360874,
          -0.9278710071050942,
          -1.1112566224664608,
          0.16616399508611257,
          0.15920727297889586,
          0.5184212328907055,
          -0.6788090206339735,
          0.4364587158003795,
          0.6180622234404979,
          -1.0253394898870323,
          0.4757738402729897,
          0.4877215355569055,
          -0.19298557128621002,
          -0.7204046104124188,
          -0.6357306700091094,
          -0.5806862442171408,
          0.16080413220946976,
          -0.4295060020528726,
          -0.2217713129358018,
          -1.4288871671584238,
          0.972841459746756,
          0.0818140358324059,
          -0.1512472727993371,
          -0.7867183600904216,
          0.8955566908689666,
          -0.27834129201540136,
          -0.7221340773494066,
          0.32588223085581497,
          -0.07715942536106916,
          -0.05936029457715938,
          0.4435640149909341,
          0.27836100853647966,
          0.12845359719362298,
          -1.120613514896139,
          -0.7611847051048939,
          -0.13371956875453986,
          -0.9294422852303124,
          0.09454149523260248,
          -1.5546007515653357,
          -0.03911543662501862,
          0.013599820602953854,
          0.44668698973671395,
          0.5314452508319354,
          0.1991332923481206,
          0.027514449455455593,
          -0.4045124048435273,
          -0.8857227044943531,
          -0.5953240495455386,
          -0.28029102522454713,
          -0.3254952470589539,
          0.735554211346975,
          -1.2118153216420202,
          0.3191622870833727,
          -0.27112223348795195,
          0.007436338886448245,
          1.3373758770040216,
          0.2491727933677853,
          0.9240710729689046,
          2.2727016679473935,
          -1.5369261500070535,
          -0.16990128619936773,
          0.13986193254273627,
          1.3777909762919087,
          0.18517132244859258,
          -0.889544422063628,
          0.09947614939339586,
          0.8592494551242906,
          -0.9152975083453082,
          1.2339619427388366,
          -0.2558196562484617,
          -0.3486020593069801,
          -0.18628512595266078,
          0.08430370162347402,
          -0.8598275691929671,
          0.34846897166656826,
          1.0656537255523133,
          -0.0664048583083259,
          0.9269576015768994,
          0.4291632296367305,
          1.11581073460893,
          1.0259319409056522,
          -0.736618584970207,
          0.09843945855841169,
          -0.5463968362204371,
          -0.07183451793637637,
          0.15749732493144905,
          -0.07618659288962078,
          -0.6966672211792481,
          -0.36763227154795947,
          0.12635678321544888,
          0.3477751576354612,
          0.693229580141034,
          1.109341041941571,
          -0.25987864779720393,
          -0.8629746387046469,
          0.5246524396022579,
          -1.7485766388292892,
          -1.4321975268456837,
          0.4000886067769265,
          1.0948018284106547,
          1.1845208058299554,
          0.016570114143068315,
          1.9469264056112094,
          1.0913670591368365,
          -1.1633139331195959,
          1.0455432511903688,
          0.9097853265849273,
          0.329458634796074,
          -1.0203560510763832,
          1.817857938573262,
          0.03942724516480363,
          0.40322939860755935,
          -0.22427901553931906,
          0.36665854992601504,
          -0.895129609795981,
          -0.9236700293609873,
          -0.15589020804600334,
          -0.29666645603004066,
          -0.41890255608039684,
          -0.6057959739422966,
          0.17166650447755,
          2.2290574529658467,
          -0.5765934947852516,
          -0.0420545059783371,
          -0.5133466438901154,
          -0.21005718441094703,
          -0.0471804374095217,
          1.1280506666835386,
          0.5711676303289838,
          -1.318651778842462,
          0.8490750067641786,
          0.8629585939840759,
          1.2045034362040923,
          -0.5615312589262585,
          -0.6617269828283783,
          0.7225958785616903,
          -0.5458691221651368,
          0.7245568774240134,
          1.0091868258536403,
          0.8327941979504463,
          0.22934482120811073,
          0.3976115292607999,
          -0.00831673213467499,
          -1.2627597344172612,
          -0.2612727631439352,
          -1.31437661013722,
          0.39373384650297344,
          -0.6168942559192209,
          -1.2149117265503733,
          0.3517277731065718,
          1.3048349131774324,
          0.09514287958301723,
          1.125685393430279,
          -0.4330303141725951,
          -0.9615934529050729,
          0.07921021913752078,
          -0.28089163245366405,
          -1.003728413334613,
          0.17308670967716883,
          -0.5487564328885607,
          -0.461105809596249,
          -1.4776557743110132,
          -0.07777029851641058,
          0.23274041119553657,
          0.12084595841233114,
          0.18484606135006293,
          -0.35950072488451223,
          0.42854858739627877,
          0.7071731497639082,
          0.08433801452614328,
          -0.6163691909795657,
          -1.7105822776056079,
          -1.6883258877574054,
          -0.6347270763827061,
          -0.49387659128160827,
          -0.08909321506132513,
          -1.382173302349555,
          -0.2868182955878856,
          -1.3528128619657955,
          0.12327225688893892,
          0.25885794937888595,
          -1.2315373640450806,
          -0.15939942773640478,
          0.34944589733499815,
          -0.8604764472947978,
          0.8392078392799733,
          1.1395065739173906,
          0.8766388765976417,
          -1.4193537921999293,
          -0.18892108356609666,
          -0.4501680825182176,
          1.212321924797301,
          -0.5743263941658823,
          0.9784933098062419,
          0.9230287770112685,
          1.0372545552391452,
          0.7379813579070277,
          0.3788471810673845,
          1.5684711782885934,
          0.16360544090552023,
          0.3326307900705137,
          -0.8454077337174518,
          -1.3355395147557834,
          -1.0483014282676733,
          -1.4540759838401274,
          0.26569415995893464,
          0.48516632927120895,
          -0.8186116176055445,
          -0.7413313620353383,
          0.04304806209402349,
          -0.9718489895338782,
          0.8666965425054075,
          -0.849605217315903,
          -0.1023445216494829,
          0.6738240367972222,
          -1.0459802356581613,
          0.9787983962222013,
          0.497134857471852,
          2.2069310068966463,
          0.27662740343386955,
          0.002646525590334759,
          0.050927532439623426,
          0.14196177965716852,
          -0.926072234300028,
          0.08740815013038858,
          -0.273761159097564,
          -0.3341985056191212,
          -0.770651926787424,
          0.31537380627625045,
          -0.4176459485456708,
          0.6666277738542368,
          -1.0245193659728142,
          0.18064015139389125,
          -0.4593100729274697,
          0.07615069354353081,
          -0.3919357283319997,
          -1.68364725705297,
          0.2795838889623474,
          0.39269405692027254,
          1.128879828274922,
          0.04750488507663249,
          0.18508432594140284,
          0.5719084341858331,
          -1.0494617262242818,
          -0.0761291405782162,
          -0.18222460868274176,
          1.2454874021624094,
          -0.4755203839485952,
          1.7958644332928,
          0.6180526612494879,
          0.4379209206695108,
          0.1528626682628884,
          -0.3849467266810185,
          0.22417320960677933,
          0.7337543865342463,
          1.0047161928098391,
          -0.9993490721086733,
          -0.45018095786068896,
          0.7415358289033527,
          0.023266075708767767,
          1.4135974205680422,
          0.82914107229196,
          0.695645992694687,
          -0.42645764903344535,
          -0.49747952401977014,
          0.727971681896376,
          -0.33334317201240415,
          -0.4578931796201223,
          0.0935293229764791,
          -0.4346704646621546,
          1.0017523682356015,
          -0.6077988699823021,
          -0.4399502783003855,
          -0.23724655627109337,
          -0.927380617344897,
          0.15173325064071838,
          0.48048659211549766,
          0.9693355618423578,
          0.2600370998771975,
          -0.7126580028949794,
          0.3050997146572072,
          -0.308252765688365,
          0.10646511775371599,
          -0.6742227961538998,
          0.6872820489061818,
          1.3952244087273484,
          0.6125233580464658,
          -0.2204592754826332,
          -0.5626466808666539,
          -0.42243235565209675,
          0.20718057027230205,
          0.19634841950120796,
          -0.3863939443436412,
          0.03671300584020343,
          0.8875494199881732,
          -0.9716910741102353,
          -0.4231692084155047,
          1.08146690941953,
          -0.27271330654260983,
          -0.5072945318729515,
          0.43104350482318654,
          -0.5685513295041671,
          -0.1511852118399816,
          0.9934031993618949,
          0.4227103556972549,
          -0.6642717550833824,
          1.02837029836694,
          -0.039161746694246435,
          -0.5786047665825603,
          0.6223080886315184,
          -0.8062383284315009,
          0.6063855214433235,
          -0.35533982325605246,
          1.2591347843670406,
          0.2691413537992546,
          0.08849625314035663,
          -0.11910069074102178,
          -0.0035416447579214626,
          0.6428327323651543,
          1.0550793387512727,
          0.2237313897328967,
          -0.7416168618752129,
          -0.8492848174302848,
          0.4463298409937083,
          1.0155659491870472,
          0.8788863344533352,
          -0.6061476272481721,
          -0.4184808724254943,
          1.4811246411678296,
          1.05115519233161,
          0.02846779126827239,
          -0.9414074809093385,
          -0.044344409897999176,
          1.373084803071606,
          0.01803018871396016,
          -0.34563795886909965,
          1.9030299788070935,
          -1.0788134328830845,
          0.7907866122875913,
          -1.0568126805712683,
          0.7018519943818177,
          -0.12184052852087199,
          0.3814777412521761,
          -0.21095313104920174,
          -0.07921525902652087,
          0.22217401456253943,
          0.5453787657520506,
          1.435612385991968,
          0.7194839632577246,
          -1.0106966196493623,
          0.4037149522257576,
          -0.39816822457749007,
          1.794511842096991,
          -0.19054903292838082,
          1.0168348468022235,
          1.4607831617756895,
          1.5139934329904896,
          0.16007125625565857,
          -0.24105650908599938,
          -0.9215809353618045,
          -1.381490406259403,
          1.1990195730102813,
          1.9031351559849607,
          0.25589475923769706,
          0.41212125497553587,
          -0.025105449375757843,
          0.7050810175508087,
          -0.43627178461462207,
          -0.7665517037579602,
          0.9303231596550051,
          -1.7444269212219279,
          -0.12504856195616545,
          -0.4268053994636122,
          -1.0962203318082706,
          0.9196299178057604,
          0.6962290501745456,
          0.2283541786652585,
          -0.34485399106939485,
          -0.4466702265603689,
          0.26644578769738797,
          -0.5123378982789263,
          -0.22166943571544226,
          -0.7599344469510302,
          -0.0026065506082353154,
          0.2309618231480791,
          1.349758706967328,
          0.19336642286429662,
          0.09982941452740803,
          -0.9186312805858965,
          1.1618043410675707,
          0.25641699855695693,
          -0.2716364582424266,
          0.6583551320287176,
          -1.212480998281433,
          -0.7348210732445309,
          0.3123006072776454,
          -0.2548832897859008,
          0.11839825739131826,
          0.7913051258455941,
          -0.22634534498118747,
          0.21203946120756492,
          1.2727630357859625,
          0.8723267545434487,
          -0.6401799921509761,
          -0.3922396487076743,
          -0.718969900258229,
          0.1829682276203943,
          1.1912074079571615,
          0.48225991597053597,
          0.1449104248114641,
          0.07366658358073767,
          0.1782463845023727,
          1.1084537643630321,
          1.6051995824201406,
          2.002585024503378,
          -0.8071936601969674,
          -0.38334841449731827,
          1.0849738081146327,
          0.5140880272295404,
          0.9031438176310717,
          0.7700962243566025,
          0.38793294288584895,
          -0.316061826761201,
          -0.7822579390040577,
          -0.0525718881646439,
          0.9639284403058289,
          0.051842964592354976,
          -0.4316419247836278,
          0.9308655200276122,
          -0.011119293584121807,
          -0.25398555090569325,
          0.13165674366973795,
          -0.6509147543028874,
          -0.042460762482434786,
          -0.15868102120144975,
          -1.001031709830054,
          0.46257142892085007,
          0.49166489705435595,
          -0.167544328713671,
          -0.9667475112138719,
          0.19829567649083488,
          0.7218012356742528,
          1.5125977311006447,
          -0.5867896023128881,
          1.4067345167532992,
          -0.745807549017563,
          -0.9615888522530808,
          1.3931486595147666,
          -0.0025643430605715215,
          0.4839956609998683,
          0.17729456913376831,
          -1.0683914452601435,
          0.5872865229053964,
          -0.7391556685308751,
          -0.7998755893351325,
          -0.6925600229713094,
          -0.2951165128835837,
          1.3558963691491186,
          -0.3529431954753676,
          0.7844749292016792,
          -0.2708585352640653,
          0.11351321735849013,
          -0.6326394792414943,
          -0.9688971947821666,
          -0.9391233539463797,
          -2.982961217925239,
          -0.3095593920105189,
          0.20841142951832026,
          -1.8064071575595044,
          0.6099746607235524,
          0.052874091805618896,
          0.8071371041805725,
          0.4280612287301159,
          -1.1589962633258601,
          -0.5565023540889542,
          0.7175673179811115,
          -0.3373936935511879,
          -0.23683810905580469,
          -1.4129967332245197,
          -0.5687150184712707,
          -1.0706131836342163,
          0.6413784652531818,
          -1.1930064769159041,
          1.6189075033721347,
          0.2830164465901804,
          1.7201232239059598,
          0.44374900408029483,
          -0.011327908139759554,
          -0.8403500027105812,
          -0.16415227631596796,
          0.33663548597428733,
          -0.28624002762053363,
          0.25805474845111837,
          0.9529610307129721,
          -1.2035947986426219,
          0.18483568208969287,
          0.3462163951365977,
          0.44162519679840534,
          -0.08485425756273127,
          -1.7487222025300668,
          -0.4397585411813813,
          -0.5982290421539584,
          -0.12690263808304358,
          0.07938332733757542,
          -1.336878993754994,
          0.2657532800734249,
          0.2597575803878054,
          -0.6250473465340242,
          -0.5990675178779399,
          0.7190817624772357,
          -1.36318715714904,
          -0.28062594341553404,
          0.6954330815937505,
          -0.988409179736884,
          0.12015070266086474,
          -0.16944908971874703,
          -0.13225635980866252,
          -0.3819703311166201,
          0.3344469669111526,
          -0.0006690419348448775,
          -0.30096583718424774,
          0.2785054968033275,
          0.8439716180955908,
          -0.20465544626146415,
          0.201367754656789,
          0.9255240298496165,
          -0.9155659354228363,
          0.1462815320473105,
          0.6612751704646544,
          1.5750055316678147,
          0.6880270257340144,
          -0.2709784223418221,
          0.757481313369171,
          0.8345341016797747,
          -1.1659469626815242,
          -0.76079581136137,
          -0.0025624214630881486,
          0.7993085966500739,
          0.09057039517363225,
          1.636263770823304,
          -0.10153996904952577,
          -0.5771636852594889,
          0.054026288935304013,
          -1.600007908147823,
          -1.3619113978173165,
          -1.1750186272285779,
          1.1159636839981253,
          -0.09945404137568789,
          -0.18588563968752925,
          -0.9712393431476943,
          -0.4518973849651813,
          -0.040466128768048275,
          -0.06994447590948964,
          -1.0717579350170958,
          0.287021923882898,
          -0.3941315920039783,
          0.31170262003641463,
          0.21252529361081013,
          -0.003960403730713018,
          0.16942932852241108,
          0.9696030637358753,
          -0.15162079986475893,
          -0.6172446850925112,
          -0.5715114624943414,
          -0.8060636655991881,
          -0.2328929706374155,
          -0.5157998752923175,
          0.3088635098085536,
          -0.3153680624007049,
          -0.2925503170354505,
          0.2621542161033371,
          1.0234203559704729,
          -0.6901226999118529,
          -0.25878974170463537,
          0.09192315868046481,
          1.7981159026587288,
          1.0756930631724688,
          0.45305386089735944,
          1.336483859928622,
          -0.8407083620303374,
          -1.2955567039991918,
          -0.04568352616604973,
          -1.26114688937183,
          0.568504040561341,
          -0.7742375282655863,
          1.785396568689898,
          -1.132604109445968,
          0.8822035828122451,
          -0.46931646996992615,
          0.8847074919757689,
          0.7127366073570798,
          0.14475611721224316,
          1.383121372089376,
          0.4258618460858343,
          -0.3131478144766832,
          -2.0603353071121253,
          -1.204888431645184,
          -0.012704328783105881,
          1.025143750222319,
          -0.40736751769633667,
          -1.5844458828919408,
          0.04770993695708308,
          -0.612685378315349,
          0.4310296889346626,
          -0.2831371316929262,
          0.4779826789740981,
          -0.4539387267146528,
          -1.3258965437129822,
          -1.2489333588971656,
          0.32543805852969354,
          -0.5044865464980228,
          -0.2845100367857882,
          0.5324745367624893,
          1.0368558487994546,
          -0.20879191723690135,
          -0.22333506064966055,
          0.7994429532751938,
          0.20407994156336448,
          -0.46286170060199167,
          0.3814797344846391,
          1.2269309194759643,
          0.2183720238439816,
          -0.8511680809552548,
          -1.1261591588894877,
          -0.6783416257847362,
          -0.7148289124952931,
          -1.2467847359349367,
          0.37339508720023323,
          -1.501019084822236,
          0.33356676162987325,
          1.1491553380959556,
          -0.045141620669273456,
          -0.2790553992820177,
          -0.8086615183094298,
          -1.069001321567484,
          -1.2544097907632072,
          1.3445450584835035,
          -0.1778013907416779,
          -0.6473572781104531,
          0.2094657650424705,
          0.19388870534509606,
          -0.23874372019762916,
          0.08570318367925947,
          -0.11638042724910067,
          -0.4576793681015588,
          -0.21945343573426368,
          -0.3812845609445078,
          -0.5259098169347164,
          -0.13913358116821958,
          -0.5720742278189529,
          -1.1403372758946126,
          1.3083021777142352,
          0.6120657983288077,
          0.7237641858210808,
          -0.5926946738455462,
          0.09378851978484608,
          1.4550891578200034,
          0.3912823134502069,
          0.890430564091333,
          1.3010787837055733,
          -0.38780086438060235,
          0.2987147723259545,
          -0.31437419725252136,
          0.09685246843536487,
          0.04915812475220513,
          -0.5398672804756043,
          0.8964858873882737,
          -0.7061527341189703,
          0.14403963310141274,
          -0.5469107162482827,
          0.5112251831193271,
          -0.22540931824417298,
          -0.5978478956249865,
          0.08066203844216109,
          0.17975137743541314,
          -0.3020968072704942,
          0.2997148453413259,
          0.22773610806370886,
          1.0103276013015061,
          -1.1000815973277533,
          0.9775629565931586,
          0.08179115095832162,
          -0.41428589312210884,
          -0.5695267606976069,
          -0.18021530280875978,
          1.0933774369344285,
          -1.6462619647652394,
          -0.44358871190613924,
          -0.07111803543084715,
          0.6300703801355145,
          -0.9988213891468108,
          -0.07496984522937385,
          -0.6764902434991225,
          -0.9584311390082056,
          -0.02722195355076766
         ],
         "xaxis": "x",
         "y": [
          0.9861296464360708,
          1.1963669770974763,
          0.2685959887758937,
          0.08232251912343173,
          -0.7428000935670044,
          -0.7820811606589304,
          0.08008396785617612,
          0.24018518410922432,
          0.7027948223344012,
          0.6263735196796207,
          -0.9110190002222244,
          1.2599508647355033,
          1.4707595485302334,
          1.160414508363122,
          1.1265176610419605,
          -1.5591043937236304,
          1.2336907418869787,
          0.9831161762852813,
          1.4354994542473056,
          -1.3565810743890538,
          -0.7515567381054638,
          -0.4062715939526015,
          -0.4502836920432676,
          0.09675008989514443,
          -0.06201260941213051,
          0.4963743460460587,
          0.7779864987021161,
          0.8756487226919785,
          0.602958868312495,
          1.067782696942861,
          0.019835213574184066,
          0.5386948839781276,
          0.24464562386410502,
          0.715642982151389,
          -0.500284587312989,
          -0.39398940553463724,
          -0.4240230577985521,
          -0.2952912801698841,
          -0.5158098203808542,
          0.5711259067561143,
          0.6898545904721435,
          -0.37394618347577013,
          -0.5579792453218705,
          0.9964215469765801,
          0.4501160388948539,
          1.8756123888617826,
          0.5748245776421185,
          -1.1363324959113608,
          -1.1808834923633544,
          0.547385738246336,
          1.2477874921690595,
          0.8672610909370163,
          0.9292260210873851,
          0.9575261221042749,
          -0.9114801131295227,
          0.18638490594168108,
          -1.0565131821331302,
          0.45517123301546303,
          0.10375203991921804,
          -0.33782458888053907,
          -0.921531047974481,
          -0.01527450390354565,
          1.272132041569466,
          -1.0059368320556519,
          -0.30707082921393514,
          -1.05071355118153,
          1.26685062386032,
          0.9355944220364889,
          0.4390921641251738,
          -1.1760166460005503,
          -1.1867341726756369,
          0.06834260409871754,
          -0.28544813033391936,
          1.4187862534910791,
          -0.055732283740351767,
          1.847504661727882,
          0.9768595307415125,
          -0.2903979942594598,
          0.4138355490058639,
          -0.04060756977516222,
          0.2770040572754625,
          -0.29211990214769634,
          -0.8398323370187142,
          -0.6197966989209783,
          -0.4695278151952162,
          0.05320373466330845,
          -1.7656408902422167,
          0.22982883466460471,
          0.011132352050981531,
          -0.29594898041188344,
          0.9790153724491906,
          0.7452453833894626,
          -0.1257784616030969,
          0.6618848660762342,
          0.0473337248261731,
          -0.6646102998474493,
          -1.7242097108027659,
          -1.0024271753229954,
          -0.06150484885409606,
          -0.4903480049988375,
          0.09025214740312419,
          -1.2065419234285635,
          0.9116489282516801,
          -0.9353739774947277,
          0.6951164159246765,
          1.2003523255263155,
          -0.6776739085594278,
          -0.5784925632720332,
          0.8892858896157017,
          0.48458906868151097,
          0.30835037022051703,
          0.5190249643728096,
          -0.6066594791166443,
          -0.0561666612609886,
          0.22369250829887574,
          1.0152016186526824,
          0.8140404654339111,
          0.1936096274157625,
          -0.5993912773612019,
          0.2834379771014431,
          -0.37255642979362597,
          0.3677541288330064,
          0.4449010260463278,
          0.9810331957712467,
          0.7355154989130617,
          -0.15914093134348978,
          -1.622991855086661,
          0.4439318185293054,
          2.383698269179477,
          -0.623100113702953,
          0.6897544469334251,
          0.1770807517093213,
          -0.08930261242200063,
          -0.5149914989379385,
          -1.4376381559583182,
          -0.21528849347712192,
          -0.890645765204878,
          1.1506318669879811,
          -0.24753556435248164,
          -0.44056084551322344,
          0.9240034238087783,
          0.4444857028027952,
          0.3228891206846811,
          -0.817205180091843,
          -0.39389679967945773,
          -0.25876565609319446,
          -1.3104878789997316,
          0.323498053588492,
          0.07397995820537805,
          0.015151569476195432,
          0.23458382836602307,
          -0.2033087760246794,
          0.4247719687628895,
          -1.0600458284706773,
          1.4964192269225904,
          0.8419691769248384,
          1.494907861147173,
          -0.6375628067720286,
          -1.4445718465695798,
          -0.7956161889997012,
          1.0468471316265164,
          -0.5250912497209778,
          0.7093484664249111,
          -0.10388790892729642,
          -0.679361146072071,
          -0.04296607382120319,
          1.4943604840143803,
          0.29197996467731624,
          -0.23847243216708683,
          0.44556247601696636,
          0.8203032764736163,
          -0.28272841556694905,
          -0.6557910505624983,
          0.06432441753811217,
          0.28518166128485584,
          0.19870997648615377,
          -1.3435867995232313,
          -0.7382346560051158,
          0.43823775097197015,
          0.8138259082627342,
          0.33977099176696995,
          -0.10220643716952854,
          -0.09435050837756197,
          -0.17757346445752448,
          0.27159144716805955,
          0.07791501220815154,
          0.1887320836313957,
          -0.7376475703844966,
          0.791148981422277,
          0.3074014091711679,
          -0.5094856731242029,
          1.4832269323713188,
          -0.2700942265661437,
          0.45934753457404826,
          -0.5042615410153779,
          -1.071014148100484,
          -0.874091885886482,
          -0.35549158070994646,
          -0.599934120830423,
          -0.925932400233998,
          0.2590706359417069,
          -0.17908238777826102,
          1.0935526888273996,
          0.40452984561548405,
          0.010326133401254198,
          -1.2181671082354306,
          0.07224020612880493,
          -0.19663135928369865,
          -0.4198066089714836,
          -1.4967186270103856,
          -0.1569749158884502,
          -0.6771540774974675,
          0.06777832521086431,
          -0.11360625854508945,
          -0.4579616500971142,
          -0.3472239617154756,
          -0.16830670484149446,
          0.5292024204827364,
          1.9236401466005393,
          -0.5029844563791918,
          -0.5788123451150202,
          -0.04812692269413682,
          -1.3270585555739853,
          -0.020503927127988868,
          0.5960833553068031,
          -0.7824160485247652,
          0.05152072647768598,
          -0.40015258461669323,
          1.1599155798170195,
          0.22168018829845743,
          -0.15088005977155053,
          0.5600074086890485,
          0.5903297506999411,
          -0.5576609862703304,
          -1.9844184054929483,
          -0.31799705470705286,
          -1.0912523781117678,
          0.17160279867501474,
          -0.44428770268322193,
          -0.09763617559069145,
          -0.8572504923148506,
          -0.4411344619590548,
          -0.1125789300767433,
          -0.21906694860323925,
          -0.6373888320103948,
          -0.22356829684261104,
          0.49971914769256814,
          0.27342819785304473,
          -1.2402569153443848,
          -0.3438484150964945,
          -0.12807905659994873,
          0.011134209020995723,
          -0.2685967228209523,
          0.90869562543775,
          0.3596257983917804,
          1.0218768215806422,
          -2.062691632510995,
          -0.03538537402334546,
          -0.40230750370248286,
          -0.7101822162669341,
          -1.5090313357314469,
          0.9497272650806268,
          0.07817121522625843,
          0.9458639207214825,
          0.390028556984779,
          0.38135252390857405,
          -0.7301160266513212,
          -1.1296579715988313,
          1.4500824427718737,
          -0.518389058035812,
          0.05418093273977884,
          0.4372587324146882,
          1.7260940588703326,
          -0.879605647819195,
          0.15496497520485505,
          -0.35541710338105986,
          0.6782347333502597,
          -1.3226381619450767,
          -0.20250047028267615,
          -0.6916857033818831,
          -0.201903132602971,
          1.0984383231397583,
          0.3673555719171807,
          0.839254387017511,
          0.028637479590843073,
          -0.6277638286638576,
          -0.5820585104273568,
          0.017705486063076467,
          1.1474453210169766,
          -0.36120031537612723,
          -0.5112180566783554,
          0.9049862422725856,
          -0.31714048278602724,
          0.33148395758827937,
          0.024168088052631605,
          -0.2850507907822816,
          0.15818327854110234,
          -0.36371828093940367,
          -0.1885421061693017,
          -1.0236656207354247,
          2.0517131345570743,
          1.7497535113846558,
          -0.8191592590115279,
          0.49642959538091996,
          -0.4992231671281174,
          -0.4529335884022684,
          -0.022173081180569314,
          0.344903980763258,
          0.03679026286861285,
          0.34817938150843586,
          0.6296066782253005,
          1.0621573986514328,
          0.03960059559427324,
          0.2780372295721386,
          0.8239232133014154,
          -0.8368331258082681,
          1.4551650231495556,
          -0.545946823207298,
          -0.053911674006652005,
          0.016364461702508538,
          -0.4684214013560447,
          -0.09364962567276114,
          -0.029400897228854885,
          -0.3380943514947193,
          0.10360699104805632,
          -0.08741449422768992,
          0.36330503609928644,
          0.10541333836848982,
          -0.7043015958704085,
          -1.1490197271587508,
          0.37361863611941265,
          0.6454849093525052,
          0.3545429293237821,
          0.36510066045143735,
          -0.6777212361928533,
          -1.4587575131885244,
          1.8949509654083145,
          -0.258304316813086,
          -0.015245383073297824,
          -0.7096395845135066,
          -0.33109710258010216,
          0.8045189491965642,
          0.6166774586369602,
          0.32763333808263145,
          -0.6581383394206264,
          -0.033246096286756906,
          -1.0382396453595368,
          0.3343073197971598,
          -0.03496669119084788,
          0.22157702624861111,
          1.0937887279197802,
          -1.87487381572209,
          0.2988274284274349,
          -0.29151525985462545,
          0.7736524877598389,
          -0.14965517510039963,
          -0.2224419140548957,
          -0.03749615477911824,
          0.46993915630492367,
          -0.01715954499932078,
          -0.5497718047875038,
          -0.06367721655519022,
          0.20988840045024218,
          -0.9523244017095266,
          1.2048498131285428,
          1.1659372708620552,
          -0.41547309948895506,
          0.17260764107126034,
          0.16305161289391612,
          0.3016590958454535,
          0.7823715598336591,
          -0.0783100676609867,
          1.3539998458996056,
          -0.17518018748376765,
          0.8112508584766547,
          -1.0001112524007003,
          0.07790156340174666,
          -1.214713831160796,
          -0.26960208716524797,
          -0.04032275637745576,
          1.2048101843678853,
          -0.7483996928037563,
          0.9977276381545318,
          1.2706654913149882,
          -1.4774228508479528,
          0.2598781712690355,
          -0.767874656232166,
          0.7302883277407904,
          -0.5862240117158988,
          0.39106931089635955,
          -0.5264875281024349,
          -0.832837585667543,
          0.48280221273656304,
          0.3555263152791364,
          -0.8047036308400984,
          0.13055420443719176,
          0.0665964951284711,
          -0.22233107331965563,
          0.8026407178841458,
          -0.06565217747740777,
          -0.814691444769602,
          -2.179842637230512,
          -0.02120165239444198,
          -0.42779073350312685,
          0.6346070931109411,
          0.44501351314112125,
          -0.09215532898436614,
          -0.4867244534637306,
          0.17360015264438083,
          1.1550908388497356,
          0.7008395357994228,
          -0.22501290896957013,
          -0.2807116766358912,
          0.26134390684997283,
          0.5849114108748634,
          1.2651887690408625,
          0.6676361509773439,
          1.5048560985564732,
          -0.43305137818828704,
          0.14035514476183455,
          -0.043692773146717385,
          -0.3258746301486896,
          0.37035802612432134,
          0.4382023162443616,
          0.29235227084314025,
          -0.6165429992919493,
          1.0882477917223679,
          -0.23126106770392862,
          0.9654136316700143,
          -0.21200320757339067,
          1.2174624957535238,
          -0.42111681550380403,
          0.9702651729820756,
          0.6885101789169618,
          -0.7084502975647846,
          -1.3927052402449864,
          0.10575378925142775,
          0.1196927098919987,
          -0.006178235011965165,
          0.7747750708793926,
          0.08930554698168208,
          0.7152950724553945,
          0.6004129942125054,
          -0.4713543390872556,
          -0.6729691020301445,
          0.4051288674809024,
          0.20135278083294847,
          0.3290041611259043,
          1.443710585536192,
          1.0067483815294545,
          0.1631441323095671,
          -0.18060065544491913,
          0.6580121759779112,
          -0.11388600460011174,
          -0.5045094409894443,
          -0.26088427425655514,
          -0.39944672679824766,
          0.14364352019763044,
          -0.9614551483310738,
          -0.6040540076329322,
          0.06332350085775945,
          -1.5305100180762308,
          -0.9028256241811915,
          0.7778812765180345,
          -0.2073693233905885,
          0.19420363840987545,
          -0.5339173228511794,
          1.2089428892429857,
          0.7497083402987883,
          0.008617644207756552,
          -0.1780853151978431,
          -1.6946482274655275,
          0.564368380142686,
          -0.3036048610717156,
          0.14525644719535297,
          -0.5377861590745298,
          -0.04024118845186467,
          0.47798932669333527,
          0.4905472464328614,
          0.13407967044933858,
          0.07916448196415189,
          -0.7633312817194631,
          -0.023273650674034852,
          -0.08729612543543308,
          -0.22062550491082503,
          -1.8456718786146364,
          0.8416901813698305,
          0.4025572661144187,
          0.7618918696294819,
          -0.239527344050962,
          0.4409446856481534,
          -0.08146403831177033,
          0.21696562833533553,
          -0.2605949964949427,
          -0.19340357251696397,
          -0.10169913817177242,
          -1.1258952114370027,
          1.0669838206791435,
          0.6214479627627459,
          -1.082926774509338,
          1.9412198837920918,
          -0.060023533243874105,
          -1.1296233880859192,
          -1.7881441513480671,
          0.7497878398745079,
          1.268332276757594,
          -0.1729047267090831,
          0.8365885854820178,
          0.6523420641148383,
          0.38691686605790854,
          1.169600735858094,
          0.7277274794010334,
          0.4832932274476994,
          1.4619721323325596,
          -0.4440846935833722,
          -1.0231497016896218,
          0.5297767891136467,
          0.7790882713851198,
          -0.15003540302028787,
          -0.18399710195192107,
          -0.3927194274121255,
          0.5857089309487767,
          0.768583423487705,
          -0.12605553847693515,
          -0.8950278205873053,
          -0.23148398611772864,
          0.09509677016513651,
          0.3818632995299799,
          1.247810613544579,
          0.02757710908284418,
          0.721168310884467,
          -0.0652924050470927,
          0.22326324987144666,
          -0.9061742802111562,
          -0.03318289944744433,
          -0.68555066838755,
          -0.7023092014584766,
          1.3408647255007264,
          -0.26025725908866565,
          -0.22122751315034556,
          -1.0936084868783333,
          -1.179978292011226,
          0.4127047381685931,
          -0.18472977195841003,
          1.8196648418125319,
          -0.3649383200636607,
          0.20398519064997916,
          1.0883975919379012,
          0.33215227769365646,
          0.4459731989651971,
          0.4217874532681993,
          0.6039590952706462,
          0.6360289781761657,
          -0.4909747050755364,
          0.4531083822323979,
          0.4572862989552568,
          1.8057250483527427,
          1.3014145925317073,
          -0.7974040230590963,
          1.3598823786941858,
          -0.12942700481473352,
          -1.1781715004407352,
          -0.7985115164053372,
          -0.5576865640478997,
          0.6794297633459613,
          0.04788849371165254,
          -0.34285411960262024,
          0.07129001666645911,
          -0.45982303360790516,
          -0.9654529561223518,
          1.0997656146633095,
          -0.5692035848987612,
          0.14882553173261265,
          -0.6893411683568589,
          -0.6992533234707954,
          0.35667138348253363,
          -0.5881139108136724,
          0.4319636633225053,
          -1.6389441488171077,
          0.13685172314645142,
          -0.725713275403824,
          -0.07114854162785043,
          0.7218884623626882,
          0.3989002540226605,
          0.3437676642447855,
          -0.7751491743244368,
          -0.6490344809892397,
          -0.4677813337586154,
          0.3318664162619502,
          0.8949487062908963,
          -0.22275091953439186,
          -0.5260723636416853,
          -0.9119835029076584,
          0.047339124330401744,
          0.5683882140843665,
          0.8186938682041759,
          -0.8876544223035995,
          0.7310566262011513,
          1.5773421107239567,
          -0.005116944646680077,
          -1.40497286186037,
          0.2681631502825459,
          0.53637293280983,
          0.1786414660913886,
          -0.4211978866486141,
          -1.0838276693006277,
          -0.6777107082270807,
          0.262834264754646,
          -0.0023169481137648306,
          0.5380979137221765,
          0.03974003010869732,
          0.25200734244277095,
          0.5686555619032581,
          -0.23728181115132266,
          -0.9352363592017204,
          0.9378891183623878,
          -0.8702347544164131,
          0.5096501110043127,
          -0.12072368302803191,
          1.0056189302811043,
          -0.005140489500458445,
          0.8144067015301414,
          -0.004221825990232741,
          0.6896471330500792,
          0.8075478242592387,
          -1.4159529759476406,
          -0.12498534656510783,
          -0.6150884539677393,
          -0.12834588276662076,
          0.38331919614564336,
          0.5743735496553397,
          -1.55069168034167,
          0.6723234112256485,
          0.520492520256664,
          -0.08386918901359944,
          0.6996476749033789,
          -0.24075398016458713,
          -0.5861770888484777,
          -0.1823171818359496,
          -0.0417904863654765,
          0.7924278800237362,
          1.5897219848454838,
          1.2196792874638411,
          0.47653535848955075,
          1.0160521676486123,
          0.5697220668561701,
          0.3022896656941801,
          -1.1653081872454134,
          1.2858552554082374,
          -0.4343693431030517,
          -0.2503949243497372,
          -1.240595131288758,
          0.7512353786338449,
          -0.11231328379482453,
          -0.29327982473668185,
          -0.5988470915680741,
          0.17101221510655668,
          0.9153664197552523,
          0.36006724455371186,
          -0.14297339401967396,
          -0.14641245554447563,
          0.5298758013358724,
          -0.3661942295488704,
          1.0541866839590204,
          0.8112458883192267,
          1.0918119633439574,
          0.08407657565194271,
          -0.056781033207937724,
          -0.3700310397593613,
          -0.3619898645421143,
          -0.34156686902113115,
          -0.3988753270491151,
          -1.053039266245624,
          -0.0034865185897168514,
          -0.5308739357027954,
          -1.5124984631243819,
          -0.032597893449907676,
          0.1746985476115415,
          -0.042210478766264575,
          -0.7875485699418532,
          1.1990372129897628,
          -0.37647458930745714,
          -1.1838002513838246,
          -0.05596982239484595,
          0.3050956089233158,
          0.30090015739688175,
          -0.5451146824261358,
          -0.39100211604910373,
          0.055305340277926655,
          -0.8103340393838142,
          -0.9804503034694072,
          0.5627569988722553,
          -0.4294859486571351,
          0.43155027174899957,
          -1.515016101086597,
          -0.14924052332408871,
          0.35611943661726475,
          1.1143852979968152,
          -0.05095685467604325,
          2.10447765415485,
          0.4589783682955873,
          0.6191281811250067,
          -0.2821561971328982,
          -0.990137468786175,
          -0.6535793245417808,
          -0.9588878319988612,
          -0.763292849193271,
          0.35136621913334837,
          -0.06440795863373106,
          -0.05608236912797634,
          -0.5377243608168585,
          -1.1460879334378713,
          0.3702883121687504,
          -0.4419152543588654,
          0.7908786887760152,
          -0.6141672574977375,
          0.3090061517538846,
          0.0692280188643238,
          0.4702535940762488,
          0.9053751476780385,
          0.7129672668866653,
          -0.1286716246834181,
          -0.629877915148252,
          0.23898842397901518,
          -0.0659932061764374,
          -0.4882420260604914,
          1.361081433850173,
          0.7727568143498449,
          -2.211278161840088,
          0.09970372034454839,
          0.7430294877167865,
          0.1495493962928005,
          -0.4762775213117929,
          -1.1566441362136466,
          -0.9887669792269325,
          0.025868692661462418,
          -0.04511558467565032,
          1.2104440801613774,
          0.8955785415333011,
          0.5698647862971968,
          0.6813879920591966,
          -0.5260663630075263,
          0.15925819198287564,
          0.9464187514424587,
          -0.1819640445038916,
          0.3156079627420966,
          0.029053495287779018,
          -0.5097650609780241,
          -0.15773754171701437,
          0.23879715967200224,
          0.26106345756027494,
          0.32197154511160614,
          -0.7303047509101245,
          0.859951465948822,
          -0.334948150070362,
          -0.04119390661687136,
          -0.7120557987172048,
          -0.5052718594000721,
          2.2198320054449114,
          -0.31324821856032264,
          -0.2933915147437565,
          0.48552067225825957,
          -0.29771579941800597,
          -0.14230583978240693,
          -0.194627480052726,
          0.741387799624976,
          -0.15784709065106917,
          0.4021485952421914,
          0.8852450729093769,
          0.31626536850876963,
          -0.46596693061563754,
          -0.13991956086853216,
          1.753222670246182,
          0.4453304965881314,
          -0.45983758523485946,
          0.9426724511611505,
          -0.06738647199274038,
          -0.4623009230388835,
          0.41779142763883415,
          0.21051625244696923,
          -0.09594637139705964,
          0.8643386339959419,
          -0.19833839570819586,
          -0.5643515858087933,
          -0.3963719821269644,
          -0.15742888141420947,
          -0.7252288796996049,
          -2.1753605953948165,
          -0.06842714353244776,
          0.7180059541921903,
          0.904165374202281,
          -0.19565978273615428,
          -1.326069991982768,
          1.149390519953525,
          0.014785409080350111,
          0.8990252959949304,
          -0.3986728064027546,
          1.1608686219563273,
          0.3637519021611734,
          0.15916024557930147,
          1.0053654277813682,
          0.4475838785219646,
          -0.28704508749082536,
          -0.5315558501800921,
          0.1719365325280626,
          -0.14424678639528463,
          -0.6651963716393483,
          0.7312101537112938,
          0.24802760705456978,
          -0.15178989765715425,
          -0.07858679623172758,
          0.2911607391240649,
          -1.587599181891792,
          -0.9644821297264968,
          -1.1805916307361835,
          -0.2415178767650054,
          0.6491488948052769,
          -0.26378278824681595,
          -0.44482064498142254,
          -0.08718194826576757,
          2.3739546396911804,
          0.6679697673678223,
          0.19649356393179873,
          -1.1355582912990492,
          1.0474726427417007,
          -0.6886031109532039,
          0.09975397577447634,
          -0.16311864896642103,
          -0.8588948424607434,
          0.2737008789503625,
          -0.9116460958161352,
          -0.010597921379249522,
          0.023029267609983403,
          -0.559042393933512,
          0.8809758021935996,
          -1.4708512073853954,
          0.019024969440466968,
          1.1054188211364995,
          -0.19609908037735513,
          -1.702481768293273,
          -0.0070391914094218655,
          1.6156310133949434,
          0.4222600068143739,
          -0.075760414291392,
          0.6951183277945946,
          -0.253574996486359,
          -0.4307271886097527,
          -0.03330715093841619,
          0.582857611278399,
          -1.0780293262260414,
          0.3064433804775956,
          1.4087892115231682,
          1.1287137337785746,
          1.025296875973395,
          0.6218210379668864,
          -1.221173062819344,
          0.8287897366816969,
          -0.5276622262855559,
          0.5542675039962679,
          0.36127756804940336,
          -0.15870449574665488,
          -0.09618562241120748,
          0.8529633974845928,
          -0.0021384851843263275,
          -0.42734281413212677,
          -0.2944863303185911,
          0.3575226546176659,
          1.1688330908438254,
          -0.5552800299502986,
          -0.8217530354805349,
          -0.6395610941993188,
          0.10424335831255327,
          0.6641664892912235,
          0.3981830370173335,
          0.3536146791972245,
          1.1903627608686729,
          0.9253795876434718,
          -1.3457288894461479,
          -0.20877004341635402,
          -0.8619509552347089,
          0.19531636953383222,
          -0.8757295111657221,
          -0.7538166775903585,
          -0.5221723775657588,
          -0.8112113017389648,
          1.3041802105371845,
          -0.19322338591409088,
          2.004640503712087,
          -0.3938268826702314,
          0.5203971589338394,
          0.9913357884129903,
          1.2390088772529946,
          0.7286985318007708,
          -0.7886789407700131,
          -0.3157590907499011,
          0.6907925359045073,
          -0.5425196870835851,
          0.11986766033540915,
          -1.0446067257554439,
          -1.4468666164641997,
          -0.40954272965611854,
          -0.28018522283630054,
          0.004509838024465682,
          -0.6212703311552128,
          0.7098963731491198,
          -1.1881838812014618,
          -0.14178809112757618,
          1.204960680919416,
          0.759424407599689,
          0.06338095064346468,
          0.8750821963624382,
          -1.979315915348959,
          1.8415973453234016,
          -1.0664446022240615,
          -0.21366252247465284,
          0.07936107433833267,
          -0.7521542295201682,
          -1.0560056804600508,
          -1.5439296805050888,
          0.9416241270027802,
          1.3048644950663875,
          -0.6096345387590916,
          -1.1365629842760139,
          -0.6927515775079479,
          1.5224071171212854,
          0.05820012474991955,
          1.5142244905677638,
          1.1256384153046328,
          0.5712433826107121,
          0.3729355195079507,
          -1.1765725105055802,
          0.9194192409467373,
          0.033084971852486315,
          -0.3507891809167886,
          0.7096014831595521,
          -0.2215244849131581,
          -0.5807417944224434,
          0.3297208408080581,
          0.3634318668559114,
          0.5510920364661324,
          1.0004545466820574,
          0.38696066628696485,
          0.03188928062293084,
          -0.5356136555951382,
          -0.03210142030461327,
          -0.23099426502280673,
          0.044261052555248426,
          0.09571804717229963,
          -0.17087218810620786,
          -0.1421713601983643,
          0.6446995390476998,
          -1.7775466813598217,
          1.2606484386418058,
          -0.5290653589409594,
          -1.1724527503692401,
          -0.6806113575535561,
          2.1439187129645605,
          1.349362149438334,
          0.5849814576754556,
          -0.8492015396027378,
          -0.49289818890554676,
          -0.11392637695212057,
          0.23786779116259713,
          0.03328602292276823,
          0.4947781007636794,
          -0.5058017697780077,
          -0.40927817632497293,
          0.17761543075335628,
          0.41157142547341913,
          -0.40428419268238597,
          -0.5661036054423669,
          0.5046623457992777,
          0.2395713435748664,
          0.4972841926833893,
          0.20598439370738694,
          -0.758723026987582,
          0.2222874274832203,
          0.14668580544189622,
          1.0761920103888085,
          -0.7938361006019726,
          0.9895698293089799,
          0.7344667642096171,
          -0.030088938810203487,
          0.8469681166519445,
          -0.6762786378107906,
          0.3719651054257346,
          -1.1581236396992558,
          -0.399101519976047,
          -0.7588873239248326,
          -1.2506928984046373,
          0.6674170810319963,
          0.05378186906128127,
          -0.09897329109752695,
          -0.6984709785372455,
          0.27616757958185695,
          -0.2895204889516578,
          -0.8254450066198127,
          0.4006020265741773,
          -0.3417777395816307,
          -0.4063823748710934
         ],
         "yaxis": "y"
        }
       ],
       "layout": {
        "coloraxis": {
         "colorbar": {
          "title": {
           "text": "hitability"
          }
         },
         "colorscale": [
          [
           0,
           "#0d0887"
          ],
          [
           0.1111111111111111,
           "#46039f"
          ],
          [
           0.2222222222222222,
           "#7201a8"
          ],
          [
           0.3333333333333333,
           "#9c179e"
          ],
          [
           0.4444444444444444,
           "#bd3786"
          ],
          [
           0.5555555555555556,
           "#d8576b"
          ],
          [
           0.6666666666666666,
           "#ed7953"
          ],
          [
           0.7777777777777778,
           "#fb9f3a"
          ],
          [
           0.8888888888888888,
           "#fdca26"
          ],
          [
           1,
           "#f0f921"
          ]
         ]
        },
        "legend": {
         "tracegroupgap": 0
        },
        "template": {
         "data": {
          "bar": [
           {
            "error_x": {
             "color": "#2a3f5f"
            },
            "error_y": {
             "color": "#2a3f5f"
            },
            "marker": {
             "line": {
              "color": "#E5ECF6",
              "width": 0.5
             },
             "pattern": {
              "fillmode": "overlay",
              "size": 10,
              "solidity": 0.2
             }
            },
            "type": "bar"
           }
          ],
          "barpolar": [
           {
            "marker": {
             "line": {
              "color": "#E5ECF6",
              "width": 0.5
             },
             "pattern": {
              "fillmode": "overlay",
              "size": 10,
              "solidity": 0.2
             }
            },
            "type": "barpolar"
           }
          ],
          "carpet": [
           {
            "aaxis": {
             "endlinecolor": "#2a3f5f",
             "gridcolor": "white",
             "linecolor": "white",
             "minorgridcolor": "white",
             "startlinecolor": "#2a3f5f"
            },
            "baxis": {
             "endlinecolor": "#2a3f5f",
             "gridcolor": "white",
             "linecolor": "white",
             "minorgridcolor": "white",
             "startlinecolor": "#2a3f5f"
            },
            "type": "carpet"
           }
          ],
          "choropleth": [
           {
            "colorbar": {
             "outlinewidth": 0,
             "ticks": ""
            },
            "type": "choropleth"
           }
          ],
          "contour": [
           {
            "colorbar": {
             "outlinewidth": 0,
             "ticks": ""
            },
            "colorscale": [
             [
              0,
              "#0d0887"
             ],
             [
              0.1111111111111111,
              "#46039f"
             ],
             [
              0.2222222222222222,
              "#7201a8"
             ],
             [
              0.3333333333333333,
              "#9c179e"
             ],
             [
              0.4444444444444444,
              "#bd3786"
             ],
             [
              0.5555555555555556,
              "#d8576b"
             ],
             [
              0.6666666666666666,
              "#ed7953"
             ],
             [
              0.7777777777777778,
              "#fb9f3a"
             ],
             [
              0.8888888888888888,
              "#fdca26"
             ],
             [
              1,
              "#f0f921"
             ]
            ],
            "type": "contour"
           }
          ],
          "contourcarpet": [
           {
            "colorbar": {
             "outlinewidth": 0,
             "ticks": ""
            },
            "type": "contourcarpet"
           }
          ],
          "heatmap": [
           {
            "colorbar": {
             "outlinewidth": 0,
             "ticks": ""
            },
            "colorscale": [
             [
              0,
              "#0d0887"
             ],
             [
              0.1111111111111111,
              "#46039f"
             ],
             [
              0.2222222222222222,
              "#7201a8"
             ],
             [
              0.3333333333333333,
              "#9c179e"
             ],
             [
              0.4444444444444444,
              "#bd3786"
             ],
             [
              0.5555555555555556,
              "#d8576b"
             ],
             [
              0.6666666666666666,
              "#ed7953"
             ],
             [
              0.7777777777777778,
              "#fb9f3a"
             ],
             [
              0.8888888888888888,
              "#fdca26"
             ],
             [
              1,
              "#f0f921"
             ]
            ],
            "type": "heatmap"
           }
          ],
          "heatmapgl": [
           {
            "colorbar": {
             "outlinewidth": 0,
             "ticks": ""
            },
            "colorscale": [
             [
              0,
              "#0d0887"
             ],
             [
              0.1111111111111111,
              "#46039f"
             ],
             [
              0.2222222222222222,
              "#7201a8"
             ],
             [
              0.3333333333333333,
              "#9c179e"
             ],
             [
              0.4444444444444444,
              "#bd3786"
             ],
             [
              0.5555555555555556,
              "#d8576b"
             ],
             [
              0.6666666666666666,
              "#ed7953"
             ],
             [
              0.7777777777777778,
              "#fb9f3a"
             ],
             [
              0.8888888888888888,
              "#fdca26"
             ],
             [
              1,
              "#f0f921"
             ]
            ],
            "type": "heatmapgl"
           }
          ],
          "histogram": [
           {
            "marker": {
             "pattern": {
              "fillmode": "overlay",
              "size": 10,
              "solidity": 0.2
             }
            },
            "type": "histogram"
           }
          ],
          "histogram2d": [
           {
            "colorbar": {
             "outlinewidth": 0,
             "ticks": ""
            },
            "colorscale": [
             [
              0,
              "#0d0887"
             ],
             [
              0.1111111111111111,
              "#46039f"
             ],
             [
              0.2222222222222222,
              "#7201a8"
             ],
             [
              0.3333333333333333,
              "#9c179e"
             ],
             [
              0.4444444444444444,
              "#bd3786"
             ],
             [
              0.5555555555555556,
              "#d8576b"
             ],
             [
              0.6666666666666666,
              "#ed7953"
             ],
             [
              0.7777777777777778,
              "#fb9f3a"
             ],
             [
              0.8888888888888888,
              "#fdca26"
             ],
             [
              1,
              "#f0f921"
             ]
            ],
            "type": "histogram2d"
           }
          ],
          "histogram2dcontour": [
           {
            "colorbar": {
             "outlinewidth": 0,
             "ticks": ""
            },
            "colorscale": [
             [
              0,
              "#0d0887"
             ],
             [
              0.1111111111111111,
              "#46039f"
             ],
             [
              0.2222222222222222,
              "#7201a8"
             ],
             [
              0.3333333333333333,
              "#9c179e"
             ],
             [
              0.4444444444444444,
              "#bd3786"
             ],
             [
              0.5555555555555556,
              "#d8576b"
             ],
             [
              0.6666666666666666,
              "#ed7953"
             ],
             [
              0.7777777777777778,
              "#fb9f3a"
             ],
             [
              0.8888888888888888,
              "#fdca26"
             ],
             [
              1,
              "#f0f921"
             ]
            ],
            "type": "histogram2dcontour"
           }
          ],
          "mesh3d": [
           {
            "colorbar": {
             "outlinewidth": 0,
             "ticks": ""
            },
            "type": "mesh3d"
           }
          ],
          "parcoords": [
           {
            "line": {
             "colorbar": {
              "outlinewidth": 0,
              "ticks": ""
             }
            },
            "type": "parcoords"
           }
          ],
          "pie": [
           {
            "automargin": true,
            "type": "pie"
           }
          ],
          "scatter": [
           {
            "fillpattern": {
             "fillmode": "overlay",
             "size": 10,
             "solidity": 0.2
            },
            "type": "scatter"
           }
          ],
          "scatter3d": [
           {
            "line": {
             "colorbar": {
              "outlinewidth": 0,
              "ticks": ""
             }
            },
            "marker": {
             "colorbar": {
              "outlinewidth": 0,
              "ticks": ""
             }
            },
            "type": "scatter3d"
           }
          ],
          "scattercarpet": [
           {
            "marker": {
             "colorbar": {
              "outlinewidth": 0,
              "ticks": ""
             }
            },
            "type": "scattercarpet"
           }
          ],
          "scattergeo": [
           {
            "marker": {
             "colorbar": {
              "outlinewidth": 0,
              "ticks": ""
             }
            },
            "type": "scattergeo"
           }
          ],
          "scattergl": [
           {
            "marker": {
             "colorbar": {
              "outlinewidth": 0,
              "ticks": ""
             }
            },
            "type": "scattergl"
           }
          ],
          "scattermapbox": [
           {
            "marker": {
             "colorbar": {
              "outlinewidth": 0,
              "ticks": ""
             }
            },
            "type": "scattermapbox"
           }
          ],
          "scatterpolar": [
           {
            "marker": {
             "colorbar": {
              "outlinewidth": 0,
              "ticks": ""
             }
            },
            "type": "scatterpolar"
           }
          ],
          "scatterpolargl": [
           {
            "marker": {
             "colorbar": {
              "outlinewidth": 0,
              "ticks": ""
             }
            },
            "type": "scatterpolargl"
           }
          ],
          "scatterternary": [
           {
            "marker": {
             "colorbar": {
              "outlinewidth": 0,
              "ticks": ""
             }
            },
            "type": "scatterternary"
           }
          ],
          "surface": [
           {
            "colorbar": {
             "outlinewidth": 0,
             "ticks": ""
            },
            "colorscale": [
             [
              0,
              "#0d0887"
             ],
             [
              0.1111111111111111,
              "#46039f"
             ],
             [
              0.2222222222222222,
              "#7201a8"
             ],
             [
              0.3333333333333333,
              "#9c179e"
             ],
             [
              0.4444444444444444,
              "#bd3786"
             ],
             [
              0.5555555555555556,
              "#d8576b"
             ],
             [
              0.6666666666666666,
              "#ed7953"
             ],
             [
              0.7777777777777778,
              "#fb9f3a"
             ],
             [
              0.8888888888888888,
              "#fdca26"
             ],
             [
              1,
              "#f0f921"
             ]
            ],
            "type": "surface"
           }
          ],
          "table": [
           {
            "cells": {
             "fill": {
              "color": "#EBF0F8"
             },
             "line": {
              "color": "white"
             }
            },
            "header": {
             "fill": {
              "color": "#C8D4E3"
             },
             "line": {
              "color": "white"
             }
            },
            "type": "table"
           }
          ]
         },
         "layout": {
          "annotationdefaults": {
           "arrowcolor": "#2a3f5f",
           "arrowhead": 0,
           "arrowwidth": 1
          },
          "autotypenumbers": "strict",
          "coloraxis": {
           "colorbar": {
            "outlinewidth": 0,
            "ticks": ""
           }
          },
          "colorscale": {
           "diverging": [
            [
             0,
             "#8e0152"
            ],
            [
             0.1,
             "#c51b7d"
            ],
            [
             0.2,
             "#de77ae"
            ],
            [
             0.3,
             "#f1b6da"
            ],
            [
             0.4,
             "#fde0ef"
            ],
            [
             0.5,
             "#f7f7f7"
            ],
            [
             0.6,
             "#e6f5d0"
            ],
            [
             0.7,
             "#b8e186"
            ],
            [
             0.8,
             "#7fbc41"
            ],
            [
             0.9,
             "#4d9221"
            ],
            [
             1,
             "#276419"
            ]
           ],
           "sequential": [
            [
             0,
             "#0d0887"
            ],
            [
             0.1111111111111111,
             "#46039f"
            ],
            [
             0.2222222222222222,
             "#7201a8"
            ],
            [
             0.3333333333333333,
             "#9c179e"
            ],
            [
             0.4444444444444444,
             "#bd3786"
            ],
            [
             0.5555555555555556,
             "#d8576b"
            ],
            [
             0.6666666666666666,
             "#ed7953"
            ],
            [
             0.7777777777777778,
             "#fb9f3a"
            ],
            [
             0.8888888888888888,
             "#fdca26"
            ],
            [
             1,
             "#f0f921"
            ]
           ],
           "sequentialminus": [
            [
             0,
             "#0d0887"
            ],
            [
             0.1111111111111111,
             "#46039f"
            ],
            [
             0.2222222222222222,
             "#7201a8"
            ],
            [
             0.3333333333333333,
             "#9c179e"
            ],
            [
             0.4444444444444444,
             "#bd3786"
            ],
            [
             0.5555555555555556,
             "#d8576b"
            ],
            [
             0.6666666666666666,
             "#ed7953"
            ],
            [
             0.7777777777777778,
             "#fb9f3a"
            ],
            [
             0.8888888888888888,
             "#fdca26"
            ],
            [
             1,
             "#f0f921"
            ]
           ]
          },
          "colorway": [
           "#636efa",
           "#EF553B",
           "#00cc96",
           "#ab63fa",
           "#FFA15A",
           "#19d3f3",
           "#FF6692",
           "#B6E880",
           "#FF97FF",
           "#FECB52"
          ],
          "font": {
           "color": "#2a3f5f"
          },
          "geo": {
           "bgcolor": "white",
           "lakecolor": "white",
           "landcolor": "#E5ECF6",
           "showlakes": true,
           "showland": true,
           "subunitcolor": "white"
          },
          "hoverlabel": {
           "align": "left"
          },
          "hovermode": "closest",
          "mapbox": {
           "style": "light"
          },
          "paper_bgcolor": "white",
          "plot_bgcolor": "#E5ECF6",
          "polar": {
           "angularaxis": {
            "gridcolor": "white",
            "linecolor": "white",
            "ticks": ""
           },
           "bgcolor": "#E5ECF6",
           "radialaxis": {
            "gridcolor": "white",
            "linecolor": "white",
            "ticks": ""
           }
          },
          "scene": {
           "xaxis": {
            "backgroundcolor": "#E5ECF6",
            "gridcolor": "white",
            "gridwidth": 2,
            "linecolor": "white",
            "showbackground": true,
            "ticks": "",
            "zerolinecolor": "white"
           },
           "yaxis": {
            "backgroundcolor": "#E5ECF6",
            "gridcolor": "white",
            "gridwidth": 2,
            "linecolor": "white",
            "showbackground": true,
            "ticks": "",
            "zerolinecolor": "white"
           },
           "zaxis": {
            "backgroundcolor": "#E5ECF6",
            "gridcolor": "white",
            "gridwidth": 2,
            "linecolor": "white",
            "showbackground": true,
            "ticks": "",
            "zerolinecolor": "white"
           }
          },
          "shapedefaults": {
           "line": {
            "color": "#2a3f5f"
           }
          },
          "ternary": {
           "aaxis": {
            "gridcolor": "white",
            "linecolor": "white",
            "ticks": ""
           },
           "baxis": {
            "gridcolor": "white",
            "linecolor": "white",
            "ticks": ""
           },
           "bgcolor": "#E5ECF6",
           "caxis": {
            "gridcolor": "white",
            "linecolor": "white",
            "ticks": ""
           }
          },
          "title": {
           "x": 0.05
          },
          "xaxis": {
           "automargin": true,
           "gridcolor": "white",
           "linecolor": "white",
           "ticks": "",
           "title": {
            "standoff": 15
           },
           "zerolinecolor": "white",
           "zerolinewidth": 2
          },
          "yaxis": {
           "automargin": true,
           "gridcolor": "white",
           "linecolor": "white",
           "ticks": "",
           "title": {
            "standoff": 15
           },
           "zerolinecolor": "white",
           "zerolinewidth": 2
          }
         }
        },
        "title": {
         "text": "Location"
        },
        "xaxis": {
         "anchor": "y",
         "domain": [
          0,
          1
         ],
         "title": {
          "text": "pitch_x"
         }
        },
        "yaxis": {
         "anchor": "x",
         "domain": [
          0,
          1
         ],
         "title": {
          "text": "pitch_y"
         }
        }
       }
      }
     },
     "metadata": {},
     "output_type": "display_data"
    }
   ],
   "source": [
    "\n",
    "pitch_data.show_scatter(\"pitch_x\", \"pitch_y\", \"Location\", color='hitability')"
   ]
  },
  {
   "cell_type": "code",
   "execution_count": 10,
   "metadata": {},
   "outputs": [
    {
     "data": {
      "application/vnd.plotly.v1+json": {
       "config": {
        "plotlyServerURL": "https://plot.ly"
       },
       "data": [
        {
         "alignmentgroup": "True",
         "bingroup": "x",
         "hovertemplate": "variable=pitch_x<br>value=%{x}<br>count=%{y}<extra></extra>",
         "legendgroup": "pitch_x",
         "marker": {
          "color": "#636efa",
          "pattern": {
           "shape": ""
          }
         },
         "name": "pitch_x",
         "offsetgroup": "pitch_x",
         "orientation": "v",
         "showlegend": true,
         "type": "histogram",
         "x": [
          -0.2950684565819036,
          -0.31928250286436954,
          0.6235285859575643,
          1.0317370602345999,
          -0.4223508707942331,
          -0.0031265618657961795,
          0.8032082221280705,
          0.8157315693046165,
          0.14779035630085086,
          -0.008664661931201162,
          0.4091583536222282,
          -0.1054648702586758,
          -0.18464501180204512,
          -0.5118356761214621,
          -0.41837206157285806,
          -0.6368383873365555,
          0.8121675927537576,
          -1.0938479542097264,
          0.3884609033051883,
          0.014688766258641133,
          -0.9293855109460623,
          0.17146300287047517,
          -0.6760817547362414,
          -1.6055857791216535,
          -0.6103949058789372,
          -0.29960295841593904,
          0.7906594497612667,
          0.7546967109717359,
          1.235075932466985,
          0.5978332750840768,
          1.491674014411689,
          0.7725128588749867,
          0.06192579990294249,
          0.6260500643354489,
          0.36736619646224544,
          -0.2801424228917909,
          1.4270629766573675,
          -1.3563238562963718,
          0.3769701065045833,
          -0.4105667871349179,
          -0.08277927291051969,
          -0.9352157678914997,
          0.37846516915908057,
          0.63443673222658,
          0.16166322928874874,
          -0.3676210507288087,
          0.4250727708787348,
          0.4638561705394671,
          -0.5581727464515651,
          -0.67127345016026,
          -1.0529512589854533,
          1.109460594056382,
          0.817734879324224,
          -0.6461868276680988,
          0.32826947521190913,
          -0.9278423479995404,
          1.2714241685818484,
          0.49209961912919287,
          2.0057710628461063,
          -1.3400222373501045,
          0.1953852601120032,
          -0.08868228193042597,
          0.20594200199924426,
          0.7007910019700792,
          0.5175571224007546,
          -1.5576440510141145,
          -0.2909714461495764,
          -0.19666165602306654,
          -1.2849501245667108,
          -0.8931327979285896,
          -0.4952513812632399,
          -0.41596858384530727,
          0.5295811165305879,
          -2.116618823187927,
          0.9293621859122551,
          0.20694294000901478,
          0.20482913263434338,
          1.0554088229384044,
          -0.5501659309251173,
          -0.009916588977332113,
          -0.6629101646283015,
          -0.3917517112451638,
          0.4766461008375374,
          0.19694652809337057,
          -0.45793203010437866,
          -0.16609353599975682,
          0.596574251186579,
          -0.010239049421261437,
          -0.3983397628583478,
          -0.5551245981422505,
          0.26364195780444116,
          -0.23121941020185732,
          0.13809819047678004,
          0.45274515064940885,
          0.1308014754080074,
          -1.09920259795604,
          -0.7254681976946398,
          -1.3669995422333192,
          -0.24441434442210916,
          -1.0738810452693897,
          -0.63235453983433,
          0.5317526026600178,
          0.9487899036587872,
          0.4711507097594036,
          1.4761331726452533,
          -0.6989281127602393,
          -0.03890960327613936,
          0.1413344970656787,
          -0.28189023889627385,
          -0.5073559031859863,
          0.5184115025474565,
          -1.8317416198892242,
          -0.12385803029365999,
          0.5579996783832782,
          -0.8637228466176996,
          0.07177061738855196,
          0.18393205895414177,
          0.9585932102368561,
          0.13933673927814538,
          0.3435968154884377,
          0.2624811885459251,
          0.582754419465467,
          1.1816042288239774,
          -0.25055869695956073,
          1.1216458247042709,
          0.006750569890691462,
          -0.2899776744045223,
          0.6683069746716797,
          1.0904263115901773,
          0.8661478761775675,
          0.01343613152003805,
          1.4164812991321716,
          0.29893988431179613,
          0.22792588288802879,
          -0.3068646427196263,
          0.10648237225593671,
          -0.015248198432086732,
          -0.7391612696994506,
          -0.04832741591692671,
          0.41092464540766543,
          -0.03125674395174343,
          -0.2651726400582333,
          -0.231574482281029,
          0.671363861431169,
          -0.07960997481167134,
          -1.2187096949071696,
          0.14985721723864331,
          -1.19855516532481,
          -1.4728095934642027,
          0.6969796364143581,
          -0.3076194777204757,
          -0.9737550656701985,
          0.947714573737995,
          0.6577302182345027,
          -0.9844557966303267,
          0.21780661789458758,
          0.01786151907305184,
          -0.25210211237502217,
          1.0883107208488618,
          -0.45184753023592944,
          -1.49009998028643,
          0.7081622239230023,
          0.8864469797772234,
          1.832047247964639,
          -0.0593105232892717,
          0.7564298433089983,
          -0.3671861662105422,
          -0.6338911773143192,
          -1.1205964232849945,
          -0.905748839997527,
          0.8549811439668102,
          0.37634329584751897,
          -1.0029049632441969,
          0.7004089288425319,
          0.6917895349715748,
          -0.3919760898750126,
          -1.0526705864234518,
          0.1660838618045176,
          0.31725739334638575,
          1.4684044717568685,
          -0.3527505509350108,
          1.1152573726232733,
          -1.1530246666031292,
          0.9652709852940209,
          1.4677501271757658,
          -1.3307665987343236,
          -0.429841400286681,
          -1.8103387576446033,
          -0.12088136554891386,
          -1.4224927551713642,
          1.9049886195337462,
          0.9607383597913384,
          -0.43078881581270595,
          -0.6057080509081286,
          -1.5020032296547978,
          0.2832401781844103,
          -0.9134761170006511,
          -0.49146353456463526,
          1.3631952553674371,
          1.2343083559217587,
          0.6258030243215023,
          -0.550056652776136,
          0.5477588370780754,
          0.23742614942845655,
          -0.31623836451809495,
          -0.06435477664984182,
          0.1421066580668221,
          0.9493080804592205,
          1.5580582662462161,
          -0.5311313311642679,
          -1.4532388128883973,
          0.9534829295885103,
          0.12640680361233592,
          2.0437591433588858,
          0.9498242681055079,
          0.9454389476259264,
          -0.6006812289017316,
          1.4073247796053219,
          -0.0475447103802,
          1.0566825240701239,
          0.7142023040436425,
          0.2600657595504723,
          0.19795280948684565,
          -0.2398499978243223,
          0.043297687589249165,
          -0.07394155095632333,
          -0.0014252101747725505,
          -0.07519948009046472,
          -0.5840609606021426,
          0.058195916270747584,
          -0.010451317603404918,
          -0.32935017465282773,
          -0.005271750066435993,
          -0.2486381159733574,
          0.43642040669240617,
          -0.9998040236659367,
          0.03696348294337079,
          0.8741664623008601,
          0.5771516994259883,
          -0.06721749865854883,
          -0.022542466457846577,
          0.6629954339253488,
          0.12813249324154308,
          -0.8128170939912609,
          0.52133262968502,
          0.9316502550463236,
          0.6388651504373338,
          1.2189950251142694,
          0.7648577054612992,
          1.4170173193613231,
          0.5385315752412941,
          -0.9980074510217021,
          -0.2457390826514709,
          1.1118745659053983,
          1.0087414912194206,
          0.7254795757875403,
          -0.7140734849633467,
          0.8383020284472308,
          0.48519821118927237,
          -0.9862459683182292,
          -0.9422398311029619,
          -1.5839392260902614,
          1.0128401239225786,
          -0.3648703706208475,
          -0.5966057959437647,
          -0.23741333741212697,
          0.06092145405355299,
          -0.6965272984567956,
          1.8258592525809947,
          0.5058341067280567,
          0.3121628075368562,
          0.3792821119576526,
          0.5524961246847028,
          0.9571940040472328,
          1.61707651838605,
          0.6773534198956652,
          1.1135734203490435,
          1.824973208998527,
          0.7642961972183593,
          0.7297549918485122,
          0.22306844273903126,
          0.5307324248373243,
          0.38816057994833414,
          -1.1218913529382328,
          0.21069831665213729,
          0.3193255753647682,
          -0.2544239813471692,
          0.24598283434631696,
          -1.2776561934034762,
          -0.05815606346299419,
          1.1550431697126153,
          0.6233459456048814,
          -0.015146186985154698,
          0.3957456311764678,
          -0.09057854007296429,
          -0.682590717781525,
          -0.0057815849306735575,
          -0.43328657439639723,
          1.48100361224242,
          -0.2369993489969191,
          -0.0514569609420094,
          1.8361571747693703,
          0.2491261368717397,
          1.246687852767407,
          -0.6726891791687769,
          -0.6230425270360874,
          -0.9278710071050942,
          -1.1112566224664608,
          0.16616399508611257,
          0.15920727297889586,
          0.5184212328907055,
          -0.6788090206339735,
          0.4364587158003795,
          0.6180622234404979,
          -1.0253394898870323,
          0.4757738402729897,
          0.4877215355569055,
          -0.19298557128621002,
          -0.7204046104124188,
          -0.6357306700091094,
          -0.5806862442171408,
          0.16080413220946976,
          -0.4295060020528726,
          -0.2217713129358018,
          -1.4288871671584238,
          0.972841459746756,
          0.0818140358324059,
          -0.1512472727993371,
          -0.7867183600904216,
          0.8955566908689666,
          -0.27834129201540136,
          -0.7221340773494066,
          0.32588223085581497,
          -0.07715942536106916,
          -0.05936029457715938,
          0.4435640149909341,
          0.27836100853647966,
          0.12845359719362298,
          -1.120613514896139,
          -0.7611847051048939,
          -0.13371956875453986,
          -0.9294422852303124,
          0.09454149523260248,
          -1.5546007515653357,
          -0.03911543662501862,
          0.013599820602953854,
          0.44668698973671395,
          0.5314452508319354,
          0.1991332923481206,
          0.027514449455455593,
          -0.4045124048435273,
          -0.8857227044943531,
          -0.5953240495455386,
          -0.28029102522454713,
          -0.3254952470589539,
          0.735554211346975,
          -1.2118153216420202,
          0.3191622870833727,
          -0.27112223348795195,
          0.007436338886448245,
          1.3373758770040216,
          0.2491727933677853,
          0.9240710729689046,
          2.2727016679473935,
          -1.5369261500070535,
          -0.16990128619936773,
          0.13986193254273627,
          1.3777909762919087,
          0.18517132244859258,
          -0.889544422063628,
          0.09947614939339586,
          0.8592494551242906,
          -0.9152975083453082,
          1.2339619427388366,
          -0.2558196562484617,
          -0.3486020593069801,
          -0.18628512595266078,
          0.08430370162347402,
          -0.8598275691929671,
          0.34846897166656826,
          1.0656537255523133,
          -0.0664048583083259,
          0.9269576015768994,
          0.4291632296367305,
          1.11581073460893,
          1.0259319409056522,
          -0.736618584970207,
          0.09843945855841169,
          -0.5463968362204371,
          -0.07183451793637637,
          0.15749732493144905,
          -0.07618659288962078,
          -0.6966672211792481,
          -0.36763227154795947,
          0.12635678321544888,
          0.3477751576354612,
          0.693229580141034,
          1.109341041941571,
          -0.25987864779720393,
          -0.8629746387046469,
          0.5246524396022579,
          -1.7485766388292892,
          -1.4321975268456837,
          0.4000886067769265,
          1.0948018284106547,
          1.1845208058299554,
          0.016570114143068315,
          1.9469264056112094,
          1.0913670591368365,
          -1.1633139331195959,
          1.0455432511903688,
          0.9097853265849273,
          0.329458634796074,
          -1.0203560510763832,
          1.817857938573262,
          0.03942724516480363,
          0.40322939860755935,
          -0.22427901553931906,
          0.36665854992601504,
          -0.895129609795981,
          -0.9236700293609873,
          -0.15589020804600334,
          -0.29666645603004066,
          -0.41890255608039684,
          -0.6057959739422966,
          0.17166650447755,
          2.2290574529658467,
          -0.5765934947852516,
          -0.0420545059783371,
          -0.5133466438901154,
          -0.21005718441094703,
          -0.0471804374095217,
          1.1280506666835386,
          0.5711676303289838,
          -1.318651778842462,
          0.8490750067641786,
          0.8629585939840759,
          1.2045034362040923,
          -0.5615312589262585,
          -0.6617269828283783,
          0.7225958785616903,
          -0.5458691221651368,
          0.7245568774240134,
          1.0091868258536403,
          0.8327941979504463,
          0.22934482120811073,
          0.3976115292607999,
          -0.00831673213467499,
          -1.2627597344172612,
          -0.2612727631439352,
          -1.31437661013722,
          0.39373384650297344,
          -0.6168942559192209,
          -1.2149117265503733,
          0.3517277731065718,
          1.3048349131774324,
          0.09514287958301723,
          1.125685393430279,
          -0.4330303141725951,
          -0.9615934529050729,
          0.07921021913752078,
          -0.28089163245366405,
          -1.003728413334613,
          0.17308670967716883,
          -0.5487564328885607,
          -0.461105809596249,
          -1.4776557743110132,
          -0.07777029851641058,
          0.23274041119553657,
          0.12084595841233114,
          0.18484606135006293,
          -0.35950072488451223,
          0.42854858739627877,
          0.7071731497639082,
          0.08433801452614328,
          -0.6163691909795657,
          -1.7105822776056079,
          -1.6883258877574054,
          -0.6347270763827061,
          -0.49387659128160827,
          -0.08909321506132513,
          -1.382173302349555,
          -0.2868182955878856,
          -1.3528128619657955,
          0.12327225688893892,
          0.25885794937888595,
          -1.2315373640450806,
          -0.15939942773640478,
          0.34944589733499815,
          -0.8604764472947978,
          0.8392078392799733,
          1.1395065739173906,
          0.8766388765976417,
          -1.4193537921999293,
          -0.18892108356609666,
          -0.4501680825182176,
          1.212321924797301,
          -0.5743263941658823,
          0.9784933098062419,
          0.9230287770112685,
          1.0372545552391452,
          0.7379813579070277,
          0.3788471810673845,
          1.5684711782885934,
          0.16360544090552023,
          0.3326307900705137,
          -0.8454077337174518,
          -1.3355395147557834,
          -1.0483014282676733,
          -1.4540759838401274,
          0.26569415995893464,
          0.48516632927120895,
          -0.8186116176055445,
          -0.7413313620353383,
          0.04304806209402349,
          -0.9718489895338782,
          0.8666965425054075,
          -0.849605217315903,
          -0.1023445216494829,
          0.6738240367972222,
          -1.0459802356581613,
          0.9787983962222013,
          0.497134857471852,
          2.2069310068966463,
          0.27662740343386955,
          0.002646525590334759,
          0.050927532439623426,
          0.14196177965716852,
          -0.926072234300028,
          0.08740815013038858,
          -0.273761159097564,
          -0.3341985056191212,
          -0.770651926787424,
          0.31537380627625045,
          -0.4176459485456708,
          0.6666277738542368,
          -1.0245193659728142,
          0.18064015139389125,
          -0.4593100729274697,
          0.07615069354353081,
          -0.3919357283319997,
          -1.68364725705297,
          0.2795838889623474,
          0.39269405692027254,
          1.128879828274922,
          0.04750488507663249,
          0.18508432594140284,
          0.5719084341858331,
          -1.0494617262242818,
          -0.0761291405782162,
          -0.18222460868274176,
          1.2454874021624094,
          -0.4755203839485952,
          1.7958644332928,
          0.6180526612494879,
          0.4379209206695108,
          0.1528626682628884,
          -0.3849467266810185,
          0.22417320960677933,
          0.7337543865342463,
          1.0047161928098391,
          -0.9993490721086733,
          -0.45018095786068896,
          0.7415358289033527,
          0.023266075708767767,
          1.4135974205680422,
          0.82914107229196,
          0.695645992694687,
          -0.42645764903344535,
          -0.49747952401977014,
          0.727971681896376,
          -0.33334317201240415,
          -0.4578931796201223,
          0.0935293229764791,
          -0.4346704646621546,
          1.0017523682356015,
          -0.6077988699823021,
          -0.4399502783003855,
          -0.23724655627109337,
          -0.927380617344897,
          0.15173325064071838,
          0.48048659211549766,
          0.9693355618423578,
          0.2600370998771975,
          -0.7126580028949794,
          0.3050997146572072,
          -0.308252765688365,
          0.10646511775371599,
          -0.6742227961538998,
          0.6872820489061818,
          1.3952244087273484,
          0.6125233580464658,
          -0.2204592754826332,
          -0.5626466808666539,
          -0.42243235565209675,
          0.20718057027230205,
          0.19634841950120796,
          -0.3863939443436412,
          0.03671300584020343,
          0.8875494199881732,
          -0.9716910741102353,
          -0.4231692084155047,
          1.08146690941953,
          -0.27271330654260983,
          -0.5072945318729515,
          0.43104350482318654,
          -0.5685513295041671,
          -0.1511852118399816,
          0.9934031993618949,
          0.4227103556972549,
          -0.6642717550833824,
          1.02837029836694,
          -0.039161746694246435,
          -0.5786047665825603,
          0.6223080886315184,
          -0.8062383284315009,
          0.6063855214433235,
          -0.35533982325605246,
          1.2591347843670406,
          0.2691413537992546,
          0.08849625314035663,
          -0.11910069074102178,
          -0.0035416447579214626,
          0.6428327323651543,
          1.0550793387512727,
          0.2237313897328967,
          -0.7416168618752129,
          -0.8492848174302848,
          0.4463298409937083,
          1.0155659491870472,
          0.8788863344533352,
          -0.6061476272481721,
          -0.4184808724254943,
          1.4811246411678296,
          1.05115519233161,
          0.02846779126827239,
          -0.9414074809093385,
          -0.044344409897999176,
          1.373084803071606,
          0.01803018871396016,
          -0.34563795886909965,
          1.9030299788070935,
          -1.0788134328830845,
          0.7907866122875913,
          -1.0568126805712683,
          0.7018519943818177,
          -0.12184052852087199,
          0.3814777412521761,
          -0.21095313104920174,
          -0.07921525902652087,
          0.22217401456253943,
          0.5453787657520506,
          1.435612385991968,
          0.7194839632577246,
          -1.0106966196493623,
          0.4037149522257576,
          -0.39816822457749007,
          1.794511842096991,
          -0.19054903292838082,
          1.0168348468022235,
          1.4607831617756895,
          1.5139934329904896,
          0.16007125625565857,
          -0.24105650908599938,
          -0.9215809353618045,
          -1.381490406259403,
          1.1990195730102813,
          1.9031351559849607,
          0.25589475923769706,
          0.41212125497553587,
          -0.025105449375757843,
          0.7050810175508087,
          -0.43627178461462207,
          -0.7665517037579602,
          0.9303231596550051,
          -1.7444269212219279,
          -0.12504856195616545,
          -0.4268053994636122,
          -1.0962203318082706,
          0.9196299178057604,
          0.6962290501745456,
          0.2283541786652585,
          -0.34485399106939485,
          -0.4466702265603689,
          0.26644578769738797,
          -0.5123378982789263,
          -0.22166943571544226,
          -0.7599344469510302,
          -0.0026065506082353154,
          0.2309618231480791,
          1.349758706967328,
          0.19336642286429662,
          0.09982941452740803,
          -0.9186312805858965,
          1.1618043410675707,
          0.25641699855695693,
          -0.2716364582424266,
          0.6583551320287176,
          -1.212480998281433,
          -0.7348210732445309,
          0.3123006072776454,
          -0.2548832897859008,
          0.11839825739131826,
          0.7913051258455941,
          -0.22634534498118747,
          0.21203946120756492,
          1.2727630357859625,
          0.8723267545434487,
          -0.6401799921509761,
          -0.3922396487076743,
          -0.718969900258229,
          0.1829682276203943,
          1.1912074079571615,
          0.48225991597053597,
          0.1449104248114641,
          0.07366658358073767,
          0.1782463845023727,
          1.1084537643630321,
          1.6051995824201406,
          2.002585024503378,
          -0.8071936601969674,
          -0.38334841449731827,
          1.0849738081146327,
          0.5140880272295404,
          0.9031438176310717,
          0.7700962243566025,
          0.38793294288584895,
          -0.316061826761201,
          -0.7822579390040577,
          -0.0525718881646439,
          0.9639284403058289,
          0.051842964592354976,
          -0.4316419247836278,
          0.9308655200276122,
          -0.011119293584121807,
          -0.25398555090569325,
          0.13165674366973795,
          -0.6509147543028874,
          -0.042460762482434786,
          -0.15868102120144975,
          -1.001031709830054,
          0.46257142892085007,
          0.49166489705435595,
          -0.167544328713671,
          -0.9667475112138719,
          0.19829567649083488,
          0.7218012356742528,
          1.5125977311006447,
          -0.5867896023128881,
          1.4067345167532992,
          -0.745807549017563,
          -0.9615888522530808,
          1.3931486595147666,
          -0.0025643430605715215,
          0.4839956609998683,
          0.17729456913376831,
          -1.0683914452601435,
          0.5872865229053964,
          -0.7391556685308751,
          -0.7998755893351325,
          -0.6925600229713094,
          -0.2951165128835837,
          1.3558963691491186,
          -0.3529431954753676,
          0.7844749292016792,
          -0.2708585352640653,
          0.11351321735849013,
          -0.6326394792414943,
          -0.9688971947821666,
          -0.9391233539463797,
          -2.982961217925239,
          -0.3095593920105189,
          0.20841142951832026,
          -1.8064071575595044,
          0.6099746607235524,
          0.052874091805618896,
          0.8071371041805725,
          0.4280612287301159,
          -1.1589962633258601,
          -0.5565023540889542,
          0.7175673179811115,
          -0.3373936935511879,
          -0.23683810905580469,
          -1.4129967332245197,
          -0.5687150184712707,
          -1.0706131836342163,
          0.6413784652531818,
          -1.1930064769159041,
          1.6189075033721347,
          0.2830164465901804,
          1.7201232239059598,
          0.44374900408029483,
          -0.011327908139759554,
          -0.8403500027105812,
          -0.16415227631596796,
          0.33663548597428733,
          -0.28624002762053363,
          0.25805474845111837,
          0.9529610307129721,
          -1.2035947986426219,
          0.18483568208969287,
          0.3462163951365977,
          0.44162519679840534,
          -0.08485425756273127,
          -1.7487222025300668,
          -0.4397585411813813,
          -0.5982290421539584,
          -0.12690263808304358,
          0.07938332733757542,
          -1.336878993754994,
          0.2657532800734249,
          0.2597575803878054,
          -0.6250473465340242,
          -0.5990675178779399,
          0.7190817624772357,
          -1.36318715714904,
          -0.28062594341553404,
          0.6954330815937505,
          -0.988409179736884,
          0.12015070266086474,
          -0.16944908971874703,
          -0.13225635980866252,
          -0.3819703311166201,
          0.3344469669111526,
          -0.0006690419348448775,
          -0.30096583718424774,
          0.2785054968033275,
          0.8439716180955908,
          -0.20465544626146415,
          0.201367754656789,
          0.9255240298496165,
          -0.9155659354228363,
          0.1462815320473105,
          0.6612751704646544,
          1.5750055316678147,
          0.6880270257340144,
          -0.2709784223418221,
          0.757481313369171,
          0.8345341016797747,
          -1.1659469626815242,
          -0.76079581136137,
          -0.0025624214630881486,
          0.7993085966500739,
          0.09057039517363225,
          1.636263770823304,
          -0.10153996904952577,
          -0.5771636852594889,
          0.054026288935304013,
          -1.600007908147823,
          -1.3619113978173165,
          -1.1750186272285779,
          1.1159636839981253,
          -0.09945404137568789,
          -0.18588563968752925,
          -0.9712393431476943,
          -0.4518973849651813,
          -0.040466128768048275,
          -0.06994447590948964,
          -1.0717579350170958,
          0.287021923882898,
          -0.3941315920039783,
          0.31170262003641463,
          0.21252529361081013,
          -0.003960403730713018,
          0.16942932852241108,
          0.9696030637358753,
          -0.15162079986475893,
          -0.6172446850925112,
          -0.5715114624943414,
          -0.8060636655991881,
          -0.2328929706374155,
          -0.5157998752923175,
          0.3088635098085536,
          -0.3153680624007049,
          -0.2925503170354505,
          0.2621542161033371,
          1.0234203559704729,
          -0.6901226999118529,
          -0.25878974170463537,
          0.09192315868046481,
          1.7981159026587288,
          1.0756930631724688,
          0.45305386089735944,
          1.336483859928622,
          -0.8407083620303374,
          -1.2955567039991918,
          -0.04568352616604973,
          -1.26114688937183,
          0.568504040561341,
          -0.7742375282655863,
          1.785396568689898,
          -1.132604109445968,
          0.8822035828122451,
          -0.46931646996992615,
          0.8847074919757689,
          0.7127366073570798,
          0.14475611721224316,
          1.383121372089376,
          0.4258618460858343,
          -0.3131478144766832,
          -2.0603353071121253,
          -1.204888431645184,
          -0.012704328783105881,
          1.025143750222319,
          -0.40736751769633667,
          -1.5844458828919408,
          0.04770993695708308,
          -0.612685378315349,
          0.4310296889346626,
          -0.2831371316929262,
          0.4779826789740981,
          -0.4539387267146528,
          -1.3258965437129822,
          -1.2489333588971656,
          0.32543805852969354,
          -0.5044865464980228,
          -0.2845100367857882,
          0.5324745367624893,
          1.0368558487994546,
          -0.20879191723690135,
          -0.22333506064966055,
          0.7994429532751938,
          0.20407994156336448,
          -0.46286170060199167,
          0.3814797344846391,
          1.2269309194759643,
          0.2183720238439816,
          -0.8511680809552548,
          -1.1261591588894877,
          -0.6783416257847362,
          -0.7148289124952931,
          -1.2467847359349367,
          0.37339508720023323,
          -1.501019084822236,
          0.33356676162987325,
          1.1491553380959556,
          -0.045141620669273456,
          -0.2790553992820177,
          -0.8086615183094298,
          -1.069001321567484,
          -1.2544097907632072,
          1.3445450584835035,
          -0.1778013907416779,
          -0.6473572781104531,
          0.2094657650424705,
          0.19388870534509606,
          -0.23874372019762916,
          0.08570318367925947,
          -0.11638042724910067,
          -0.4576793681015588,
          -0.21945343573426368,
          -0.3812845609445078,
          -0.5259098169347164,
          -0.13913358116821958,
          -0.5720742278189529,
          -1.1403372758946126,
          1.3083021777142352,
          0.6120657983288077,
          0.7237641858210808,
          -0.5926946738455462,
          0.09378851978484608,
          1.4550891578200034,
          0.3912823134502069,
          0.890430564091333,
          1.3010787837055733,
          -0.38780086438060235,
          0.2987147723259545,
          -0.31437419725252136,
          0.09685246843536487,
          0.04915812475220513,
          -0.5398672804756043,
          0.8964858873882737,
          -0.7061527341189703,
          0.14403963310141274,
          -0.5469107162482827,
          0.5112251831193271,
          -0.22540931824417298,
          -0.5978478956249865,
          0.08066203844216109,
          0.17975137743541314,
          -0.3020968072704942,
          0.2997148453413259,
          0.22773610806370886,
          1.0103276013015061,
          -1.1000815973277533,
          0.9775629565931586,
          0.08179115095832162,
          -0.41428589312210884,
          -0.5695267606976069,
          -0.18021530280875978,
          1.0933774369344285,
          -1.6462619647652394,
          -0.44358871190613924,
          -0.07111803543084715,
          0.6300703801355145,
          -0.9988213891468108,
          -0.07496984522937385,
          -0.6764902434991225,
          -0.9584311390082056,
          -0.02722195355076766
         ],
         "xaxis": "x",
         "yaxis": "y"
        }
       ],
       "layout": {
        "barmode": "relative",
        "legend": {
         "title": {
          "text": "variable"
         },
         "tracegroupgap": 0
        },
        "template": {
         "data": {
          "bar": [
           {
            "error_x": {
             "color": "#2a3f5f"
            },
            "error_y": {
             "color": "#2a3f5f"
            },
            "marker": {
             "line": {
              "color": "#E5ECF6",
              "width": 0.5
             },
             "pattern": {
              "fillmode": "overlay",
              "size": 10,
              "solidity": 0.2
             }
            },
            "type": "bar"
           }
          ],
          "barpolar": [
           {
            "marker": {
             "line": {
              "color": "#E5ECF6",
              "width": 0.5
             },
             "pattern": {
              "fillmode": "overlay",
              "size": 10,
              "solidity": 0.2
             }
            },
            "type": "barpolar"
           }
          ],
          "carpet": [
           {
            "aaxis": {
             "endlinecolor": "#2a3f5f",
             "gridcolor": "white",
             "linecolor": "white",
             "minorgridcolor": "white",
             "startlinecolor": "#2a3f5f"
            },
            "baxis": {
             "endlinecolor": "#2a3f5f",
             "gridcolor": "white",
             "linecolor": "white",
             "minorgridcolor": "white",
             "startlinecolor": "#2a3f5f"
            },
            "type": "carpet"
           }
          ],
          "choropleth": [
           {
            "colorbar": {
             "outlinewidth": 0,
             "ticks": ""
            },
            "type": "choropleth"
           }
          ],
          "contour": [
           {
            "colorbar": {
             "outlinewidth": 0,
             "ticks": ""
            },
            "colorscale": [
             [
              0,
              "#0d0887"
             ],
             [
              0.1111111111111111,
              "#46039f"
             ],
             [
              0.2222222222222222,
              "#7201a8"
             ],
             [
              0.3333333333333333,
              "#9c179e"
             ],
             [
              0.4444444444444444,
              "#bd3786"
             ],
             [
              0.5555555555555556,
              "#d8576b"
             ],
             [
              0.6666666666666666,
              "#ed7953"
             ],
             [
              0.7777777777777778,
              "#fb9f3a"
             ],
             [
              0.8888888888888888,
              "#fdca26"
             ],
             [
              1,
              "#f0f921"
             ]
            ],
            "type": "contour"
           }
          ],
          "contourcarpet": [
           {
            "colorbar": {
             "outlinewidth": 0,
             "ticks": ""
            },
            "type": "contourcarpet"
           }
          ],
          "heatmap": [
           {
            "colorbar": {
             "outlinewidth": 0,
             "ticks": ""
            },
            "colorscale": [
             [
              0,
              "#0d0887"
             ],
             [
              0.1111111111111111,
              "#46039f"
             ],
             [
              0.2222222222222222,
              "#7201a8"
             ],
             [
              0.3333333333333333,
              "#9c179e"
             ],
             [
              0.4444444444444444,
              "#bd3786"
             ],
             [
              0.5555555555555556,
              "#d8576b"
             ],
             [
              0.6666666666666666,
              "#ed7953"
             ],
             [
              0.7777777777777778,
              "#fb9f3a"
             ],
             [
              0.8888888888888888,
              "#fdca26"
             ],
             [
              1,
              "#f0f921"
             ]
            ],
            "type": "heatmap"
           }
          ],
          "heatmapgl": [
           {
            "colorbar": {
             "outlinewidth": 0,
             "ticks": ""
            },
            "colorscale": [
             [
              0,
              "#0d0887"
             ],
             [
              0.1111111111111111,
              "#46039f"
             ],
             [
              0.2222222222222222,
              "#7201a8"
             ],
             [
              0.3333333333333333,
              "#9c179e"
             ],
             [
              0.4444444444444444,
              "#bd3786"
             ],
             [
              0.5555555555555556,
              "#d8576b"
             ],
             [
              0.6666666666666666,
              "#ed7953"
             ],
             [
              0.7777777777777778,
              "#fb9f3a"
             ],
             [
              0.8888888888888888,
              "#fdca26"
             ],
             [
              1,
              "#f0f921"
             ]
            ],
            "type": "heatmapgl"
           }
          ],
          "histogram": [
           {
            "marker": {
             "pattern": {
              "fillmode": "overlay",
              "size": 10,
              "solidity": 0.2
             }
            },
            "type": "histogram"
           }
          ],
          "histogram2d": [
           {
            "colorbar": {
             "outlinewidth": 0,
             "ticks": ""
            },
            "colorscale": [
             [
              0,
              "#0d0887"
             ],
             [
              0.1111111111111111,
              "#46039f"
             ],
             [
              0.2222222222222222,
              "#7201a8"
             ],
             [
              0.3333333333333333,
              "#9c179e"
             ],
             [
              0.4444444444444444,
              "#bd3786"
             ],
             [
              0.5555555555555556,
              "#d8576b"
             ],
             [
              0.6666666666666666,
              "#ed7953"
             ],
             [
              0.7777777777777778,
              "#fb9f3a"
             ],
             [
              0.8888888888888888,
              "#fdca26"
             ],
             [
              1,
              "#f0f921"
             ]
            ],
            "type": "histogram2d"
           }
          ],
          "histogram2dcontour": [
           {
            "colorbar": {
             "outlinewidth": 0,
             "ticks": ""
            },
            "colorscale": [
             [
              0,
              "#0d0887"
             ],
             [
              0.1111111111111111,
              "#46039f"
             ],
             [
              0.2222222222222222,
              "#7201a8"
             ],
             [
              0.3333333333333333,
              "#9c179e"
             ],
             [
              0.4444444444444444,
              "#bd3786"
             ],
             [
              0.5555555555555556,
              "#d8576b"
             ],
             [
              0.6666666666666666,
              "#ed7953"
             ],
             [
              0.7777777777777778,
              "#fb9f3a"
             ],
             [
              0.8888888888888888,
              "#fdca26"
             ],
             [
              1,
              "#f0f921"
             ]
            ],
            "type": "histogram2dcontour"
           }
          ],
          "mesh3d": [
           {
            "colorbar": {
             "outlinewidth": 0,
             "ticks": ""
            },
            "type": "mesh3d"
           }
          ],
          "parcoords": [
           {
            "line": {
             "colorbar": {
              "outlinewidth": 0,
              "ticks": ""
             }
            },
            "type": "parcoords"
           }
          ],
          "pie": [
           {
            "automargin": true,
            "type": "pie"
           }
          ],
          "scatter": [
           {
            "fillpattern": {
             "fillmode": "overlay",
             "size": 10,
             "solidity": 0.2
            },
            "type": "scatter"
           }
          ],
          "scatter3d": [
           {
            "line": {
             "colorbar": {
              "outlinewidth": 0,
              "ticks": ""
             }
            },
            "marker": {
             "colorbar": {
              "outlinewidth": 0,
              "ticks": ""
             }
            },
            "type": "scatter3d"
           }
          ],
          "scattercarpet": [
           {
            "marker": {
             "colorbar": {
              "outlinewidth": 0,
              "ticks": ""
             }
            },
            "type": "scattercarpet"
           }
          ],
          "scattergeo": [
           {
            "marker": {
             "colorbar": {
              "outlinewidth": 0,
              "ticks": ""
             }
            },
            "type": "scattergeo"
           }
          ],
          "scattergl": [
           {
            "marker": {
             "colorbar": {
              "outlinewidth": 0,
              "ticks": ""
             }
            },
            "type": "scattergl"
           }
          ],
          "scattermapbox": [
           {
            "marker": {
             "colorbar": {
              "outlinewidth": 0,
              "ticks": ""
             }
            },
            "type": "scattermapbox"
           }
          ],
          "scatterpolar": [
           {
            "marker": {
             "colorbar": {
              "outlinewidth": 0,
              "ticks": ""
             }
            },
            "type": "scatterpolar"
           }
          ],
          "scatterpolargl": [
           {
            "marker": {
             "colorbar": {
              "outlinewidth": 0,
              "ticks": ""
             }
            },
            "type": "scatterpolargl"
           }
          ],
          "scatterternary": [
           {
            "marker": {
             "colorbar": {
              "outlinewidth": 0,
              "ticks": ""
             }
            },
            "type": "scatterternary"
           }
          ],
          "surface": [
           {
            "colorbar": {
             "outlinewidth": 0,
             "ticks": ""
            },
            "colorscale": [
             [
              0,
              "#0d0887"
             ],
             [
              0.1111111111111111,
              "#46039f"
             ],
             [
              0.2222222222222222,
              "#7201a8"
             ],
             [
              0.3333333333333333,
              "#9c179e"
             ],
             [
              0.4444444444444444,
              "#bd3786"
             ],
             [
              0.5555555555555556,
              "#d8576b"
             ],
             [
              0.6666666666666666,
              "#ed7953"
             ],
             [
              0.7777777777777778,
              "#fb9f3a"
             ],
             [
              0.8888888888888888,
              "#fdca26"
             ],
             [
              1,
              "#f0f921"
             ]
            ],
            "type": "surface"
           }
          ],
          "table": [
           {
            "cells": {
             "fill": {
              "color": "#EBF0F8"
             },
             "line": {
              "color": "white"
             }
            },
            "header": {
             "fill": {
              "color": "#C8D4E3"
             },
             "line": {
              "color": "white"
             }
            },
            "type": "table"
           }
          ]
         },
         "layout": {
          "annotationdefaults": {
           "arrowcolor": "#2a3f5f",
           "arrowhead": 0,
           "arrowwidth": 1
          },
          "autotypenumbers": "strict",
          "coloraxis": {
           "colorbar": {
            "outlinewidth": 0,
            "ticks": ""
           }
          },
          "colorscale": {
           "diverging": [
            [
             0,
             "#8e0152"
            ],
            [
             0.1,
             "#c51b7d"
            ],
            [
             0.2,
             "#de77ae"
            ],
            [
             0.3,
             "#f1b6da"
            ],
            [
             0.4,
             "#fde0ef"
            ],
            [
             0.5,
             "#f7f7f7"
            ],
            [
             0.6,
             "#e6f5d0"
            ],
            [
             0.7,
             "#b8e186"
            ],
            [
             0.8,
             "#7fbc41"
            ],
            [
             0.9,
             "#4d9221"
            ],
            [
             1,
             "#276419"
            ]
           ],
           "sequential": [
            [
             0,
             "#0d0887"
            ],
            [
             0.1111111111111111,
             "#46039f"
            ],
            [
             0.2222222222222222,
             "#7201a8"
            ],
            [
             0.3333333333333333,
             "#9c179e"
            ],
            [
             0.4444444444444444,
             "#bd3786"
            ],
            [
             0.5555555555555556,
             "#d8576b"
            ],
            [
             0.6666666666666666,
             "#ed7953"
            ],
            [
             0.7777777777777778,
             "#fb9f3a"
            ],
            [
             0.8888888888888888,
             "#fdca26"
            ],
            [
             1,
             "#f0f921"
            ]
           ],
           "sequentialminus": [
            [
             0,
             "#0d0887"
            ],
            [
             0.1111111111111111,
             "#46039f"
            ],
            [
             0.2222222222222222,
             "#7201a8"
            ],
            [
             0.3333333333333333,
             "#9c179e"
            ],
            [
             0.4444444444444444,
             "#bd3786"
            ],
            [
             0.5555555555555556,
             "#d8576b"
            ],
            [
             0.6666666666666666,
             "#ed7953"
            ],
            [
             0.7777777777777778,
             "#fb9f3a"
            ],
            [
             0.8888888888888888,
             "#fdca26"
            ],
            [
             1,
             "#f0f921"
            ]
           ]
          },
          "colorway": [
           "#636efa",
           "#EF553B",
           "#00cc96",
           "#ab63fa",
           "#FFA15A",
           "#19d3f3",
           "#FF6692",
           "#B6E880",
           "#FF97FF",
           "#FECB52"
          ],
          "font": {
           "color": "#2a3f5f"
          },
          "geo": {
           "bgcolor": "white",
           "lakecolor": "white",
           "landcolor": "#E5ECF6",
           "showlakes": true,
           "showland": true,
           "subunitcolor": "white"
          },
          "hoverlabel": {
           "align": "left"
          },
          "hovermode": "closest",
          "mapbox": {
           "style": "light"
          },
          "paper_bgcolor": "white",
          "plot_bgcolor": "#E5ECF6",
          "polar": {
           "angularaxis": {
            "gridcolor": "white",
            "linecolor": "white",
            "ticks": ""
           },
           "bgcolor": "#E5ECF6",
           "radialaxis": {
            "gridcolor": "white",
            "linecolor": "white",
            "ticks": ""
           }
          },
          "scene": {
           "xaxis": {
            "backgroundcolor": "#E5ECF6",
            "gridcolor": "white",
            "gridwidth": 2,
            "linecolor": "white",
            "showbackground": true,
            "ticks": "",
            "zerolinecolor": "white"
           },
           "yaxis": {
            "backgroundcolor": "#E5ECF6",
            "gridcolor": "white",
            "gridwidth": 2,
            "linecolor": "white",
            "showbackground": true,
            "ticks": "",
            "zerolinecolor": "white"
           },
           "zaxis": {
            "backgroundcolor": "#E5ECF6",
            "gridcolor": "white",
            "gridwidth": 2,
            "linecolor": "white",
            "showbackground": true,
            "ticks": "",
            "zerolinecolor": "white"
           }
          },
          "shapedefaults": {
           "line": {
            "color": "#2a3f5f"
           }
          },
          "ternary": {
           "aaxis": {
            "gridcolor": "white",
            "linecolor": "white",
            "ticks": ""
           },
           "baxis": {
            "gridcolor": "white",
            "linecolor": "white",
            "ticks": ""
           },
           "bgcolor": "#E5ECF6",
           "caxis": {
            "gridcolor": "white",
            "linecolor": "white",
            "ticks": ""
           }
          },
          "title": {
           "x": 0.05
          },
          "xaxis": {
           "automargin": true,
           "gridcolor": "white",
           "linecolor": "white",
           "ticks": "",
           "title": {
            "standoff": 15
           },
           "zerolinecolor": "white",
           "zerolinewidth": 2
          },
          "yaxis": {
           "automargin": true,
           "gridcolor": "white",
           "linecolor": "white",
           "ticks": "",
           "title": {
            "standoff": 15
           },
           "zerolinecolor": "white",
           "zerolinewidth": 2
          }
         }
        },
        "title": {
         "text": "Histogram of pitch_x"
        },
        "xaxis": {
         "anchor": "y",
         "domain": [
          0,
          1
         ],
         "title": {
          "text": "value"
         }
        },
        "yaxis": {
         "anchor": "x",
         "domain": [
          0,
          1
         ],
         "title": {
          "text": "count"
         }
        }
       }
      }
     },
     "metadata": {},
     "output_type": "display_data"
    }
   ],
   "source": [
    "pitch_data.show_x_location_hist('pitch_x')"
   ]
  },
  {
   "cell_type": "code",
   "execution_count": 11,
   "metadata": {},
   "outputs": [
    {
     "data": {
      "application/vnd.plotly.v1+json": {
       "config": {
        "plotlyServerURL": "https://plot.ly"
       },
       "data": [
        {
         "alignmentgroup": "True",
         "bingroup": "x",
         "hovertemplate": "variable=pitch_y<br>value=%{x}<br>count=%{y}<extra></extra>",
         "legendgroup": "pitch_y",
         "marker": {
          "color": "#636efa",
          "pattern": {
           "shape": ""
          }
         },
         "name": "pitch_y",
         "offsetgroup": "pitch_y",
         "orientation": "v",
         "showlegend": true,
         "type": "histogram",
         "x": [
          0.9861296464360708,
          1.1963669770974763,
          0.2685959887758937,
          0.08232251912343173,
          -0.7428000935670044,
          -0.7820811606589304,
          0.08008396785617612,
          0.24018518410922432,
          0.7027948223344012,
          0.6263735196796207,
          -0.9110190002222244,
          1.2599508647355033,
          1.4707595485302334,
          1.160414508363122,
          1.1265176610419605,
          -1.5591043937236304,
          1.2336907418869787,
          0.9831161762852813,
          1.4354994542473056,
          -1.3565810743890538,
          -0.7515567381054638,
          -0.4062715939526015,
          -0.4502836920432676,
          0.09675008989514443,
          -0.06201260941213051,
          0.4963743460460587,
          0.7779864987021161,
          0.8756487226919785,
          0.602958868312495,
          1.067782696942861,
          0.019835213574184066,
          0.5386948839781276,
          0.24464562386410502,
          0.715642982151389,
          -0.500284587312989,
          -0.39398940553463724,
          -0.4240230577985521,
          -0.2952912801698841,
          -0.5158098203808542,
          0.5711259067561143,
          0.6898545904721435,
          -0.37394618347577013,
          -0.5579792453218705,
          0.9964215469765801,
          0.4501160388948539,
          1.8756123888617826,
          0.5748245776421185,
          -1.1363324959113608,
          -1.1808834923633544,
          0.547385738246336,
          1.2477874921690595,
          0.8672610909370163,
          0.9292260210873851,
          0.9575261221042749,
          -0.9114801131295227,
          0.18638490594168108,
          -1.0565131821331302,
          0.45517123301546303,
          0.10375203991921804,
          -0.33782458888053907,
          -0.921531047974481,
          -0.01527450390354565,
          1.272132041569466,
          -1.0059368320556519,
          -0.30707082921393514,
          -1.05071355118153,
          1.26685062386032,
          0.9355944220364889,
          0.4390921641251738,
          -1.1760166460005503,
          -1.1867341726756369,
          0.06834260409871754,
          -0.28544813033391936,
          1.4187862534910791,
          -0.055732283740351767,
          1.847504661727882,
          0.9768595307415125,
          -0.2903979942594598,
          0.4138355490058639,
          -0.04060756977516222,
          0.2770040572754625,
          -0.29211990214769634,
          -0.8398323370187142,
          -0.6197966989209783,
          -0.4695278151952162,
          0.05320373466330845,
          -1.7656408902422167,
          0.22982883466460471,
          0.011132352050981531,
          -0.29594898041188344,
          0.9790153724491906,
          0.7452453833894626,
          -0.1257784616030969,
          0.6618848660762342,
          0.0473337248261731,
          -0.6646102998474493,
          -1.7242097108027659,
          -1.0024271753229954,
          -0.06150484885409606,
          -0.4903480049988375,
          0.09025214740312419,
          -1.2065419234285635,
          0.9116489282516801,
          -0.9353739774947277,
          0.6951164159246765,
          1.2003523255263155,
          -0.6776739085594278,
          -0.5784925632720332,
          0.8892858896157017,
          0.48458906868151097,
          0.30835037022051703,
          0.5190249643728096,
          -0.6066594791166443,
          -0.0561666612609886,
          0.22369250829887574,
          1.0152016186526824,
          0.8140404654339111,
          0.1936096274157625,
          -0.5993912773612019,
          0.2834379771014431,
          -0.37255642979362597,
          0.3677541288330064,
          0.4449010260463278,
          0.9810331957712467,
          0.7355154989130617,
          -0.15914093134348978,
          -1.622991855086661,
          0.4439318185293054,
          2.383698269179477,
          -0.623100113702953,
          0.6897544469334251,
          0.1770807517093213,
          -0.08930261242200063,
          -0.5149914989379385,
          -1.4376381559583182,
          -0.21528849347712192,
          -0.890645765204878,
          1.1506318669879811,
          -0.24753556435248164,
          -0.44056084551322344,
          0.9240034238087783,
          0.4444857028027952,
          0.3228891206846811,
          -0.817205180091843,
          -0.39389679967945773,
          -0.25876565609319446,
          -1.3104878789997316,
          0.323498053588492,
          0.07397995820537805,
          0.015151569476195432,
          0.23458382836602307,
          -0.2033087760246794,
          0.4247719687628895,
          -1.0600458284706773,
          1.4964192269225904,
          0.8419691769248384,
          1.494907861147173,
          -0.6375628067720286,
          -1.4445718465695798,
          -0.7956161889997012,
          1.0468471316265164,
          -0.5250912497209778,
          0.7093484664249111,
          -0.10388790892729642,
          -0.679361146072071,
          -0.04296607382120319,
          1.4943604840143803,
          0.29197996467731624,
          -0.23847243216708683,
          0.44556247601696636,
          0.8203032764736163,
          -0.28272841556694905,
          -0.6557910505624983,
          0.06432441753811217,
          0.28518166128485584,
          0.19870997648615377,
          -1.3435867995232313,
          -0.7382346560051158,
          0.43823775097197015,
          0.8138259082627342,
          0.33977099176696995,
          -0.10220643716952854,
          -0.09435050837756197,
          -0.17757346445752448,
          0.27159144716805955,
          0.07791501220815154,
          0.1887320836313957,
          -0.7376475703844966,
          0.791148981422277,
          0.3074014091711679,
          -0.5094856731242029,
          1.4832269323713188,
          -0.2700942265661437,
          0.45934753457404826,
          -0.5042615410153779,
          -1.071014148100484,
          -0.874091885886482,
          -0.35549158070994646,
          -0.599934120830423,
          -0.925932400233998,
          0.2590706359417069,
          -0.17908238777826102,
          1.0935526888273996,
          0.40452984561548405,
          0.010326133401254198,
          -1.2181671082354306,
          0.07224020612880493,
          -0.19663135928369865,
          -0.4198066089714836,
          -1.4967186270103856,
          -0.1569749158884502,
          -0.6771540774974675,
          0.06777832521086431,
          -0.11360625854508945,
          -0.4579616500971142,
          -0.3472239617154756,
          -0.16830670484149446,
          0.5292024204827364,
          1.9236401466005393,
          -0.5029844563791918,
          -0.5788123451150202,
          -0.04812692269413682,
          -1.3270585555739853,
          -0.020503927127988868,
          0.5960833553068031,
          -0.7824160485247652,
          0.05152072647768598,
          -0.40015258461669323,
          1.1599155798170195,
          0.22168018829845743,
          -0.15088005977155053,
          0.5600074086890485,
          0.5903297506999411,
          -0.5576609862703304,
          -1.9844184054929483,
          -0.31799705470705286,
          -1.0912523781117678,
          0.17160279867501474,
          -0.44428770268322193,
          -0.09763617559069145,
          -0.8572504923148506,
          -0.4411344619590548,
          -0.1125789300767433,
          -0.21906694860323925,
          -0.6373888320103948,
          -0.22356829684261104,
          0.49971914769256814,
          0.27342819785304473,
          -1.2402569153443848,
          -0.3438484150964945,
          -0.12807905659994873,
          0.011134209020995723,
          -0.2685967228209523,
          0.90869562543775,
          0.3596257983917804,
          1.0218768215806422,
          -2.062691632510995,
          -0.03538537402334546,
          -0.40230750370248286,
          -0.7101822162669341,
          -1.5090313357314469,
          0.9497272650806268,
          0.07817121522625843,
          0.9458639207214825,
          0.390028556984779,
          0.38135252390857405,
          -0.7301160266513212,
          -1.1296579715988313,
          1.4500824427718737,
          -0.518389058035812,
          0.05418093273977884,
          0.4372587324146882,
          1.7260940588703326,
          -0.879605647819195,
          0.15496497520485505,
          -0.35541710338105986,
          0.6782347333502597,
          -1.3226381619450767,
          -0.20250047028267615,
          -0.6916857033818831,
          -0.201903132602971,
          1.0984383231397583,
          0.3673555719171807,
          0.839254387017511,
          0.028637479590843073,
          -0.6277638286638576,
          -0.5820585104273568,
          0.017705486063076467,
          1.1474453210169766,
          -0.36120031537612723,
          -0.5112180566783554,
          0.9049862422725856,
          -0.31714048278602724,
          0.33148395758827937,
          0.024168088052631605,
          -0.2850507907822816,
          0.15818327854110234,
          -0.36371828093940367,
          -0.1885421061693017,
          -1.0236656207354247,
          2.0517131345570743,
          1.7497535113846558,
          -0.8191592590115279,
          0.49642959538091996,
          -0.4992231671281174,
          -0.4529335884022684,
          -0.022173081180569314,
          0.344903980763258,
          0.03679026286861285,
          0.34817938150843586,
          0.6296066782253005,
          1.0621573986514328,
          0.03960059559427324,
          0.2780372295721386,
          0.8239232133014154,
          -0.8368331258082681,
          1.4551650231495556,
          -0.545946823207298,
          -0.053911674006652005,
          0.016364461702508538,
          -0.4684214013560447,
          -0.09364962567276114,
          -0.029400897228854885,
          -0.3380943514947193,
          0.10360699104805632,
          -0.08741449422768992,
          0.36330503609928644,
          0.10541333836848982,
          -0.7043015958704085,
          -1.1490197271587508,
          0.37361863611941265,
          0.6454849093525052,
          0.3545429293237821,
          0.36510066045143735,
          -0.6777212361928533,
          -1.4587575131885244,
          1.8949509654083145,
          -0.258304316813086,
          -0.015245383073297824,
          -0.7096395845135066,
          -0.33109710258010216,
          0.8045189491965642,
          0.6166774586369602,
          0.32763333808263145,
          -0.6581383394206264,
          -0.033246096286756906,
          -1.0382396453595368,
          0.3343073197971598,
          -0.03496669119084788,
          0.22157702624861111,
          1.0937887279197802,
          -1.87487381572209,
          0.2988274284274349,
          -0.29151525985462545,
          0.7736524877598389,
          -0.14965517510039963,
          -0.2224419140548957,
          -0.03749615477911824,
          0.46993915630492367,
          -0.01715954499932078,
          -0.5497718047875038,
          -0.06367721655519022,
          0.20988840045024218,
          -0.9523244017095266,
          1.2048498131285428,
          1.1659372708620552,
          -0.41547309948895506,
          0.17260764107126034,
          0.16305161289391612,
          0.3016590958454535,
          0.7823715598336591,
          -0.0783100676609867,
          1.3539998458996056,
          -0.17518018748376765,
          0.8112508584766547,
          -1.0001112524007003,
          0.07790156340174666,
          -1.214713831160796,
          -0.26960208716524797,
          -0.04032275637745576,
          1.2048101843678853,
          -0.7483996928037563,
          0.9977276381545318,
          1.2706654913149882,
          -1.4774228508479528,
          0.2598781712690355,
          -0.767874656232166,
          0.7302883277407904,
          -0.5862240117158988,
          0.39106931089635955,
          -0.5264875281024349,
          -0.832837585667543,
          0.48280221273656304,
          0.3555263152791364,
          -0.8047036308400984,
          0.13055420443719176,
          0.0665964951284711,
          -0.22233107331965563,
          0.8026407178841458,
          -0.06565217747740777,
          -0.814691444769602,
          -2.179842637230512,
          -0.02120165239444198,
          -0.42779073350312685,
          0.6346070931109411,
          0.44501351314112125,
          -0.09215532898436614,
          -0.4867244534637306,
          0.17360015264438083,
          1.1550908388497356,
          0.7008395357994228,
          -0.22501290896957013,
          -0.2807116766358912,
          0.26134390684997283,
          0.5849114108748634,
          1.2651887690408625,
          0.6676361509773439,
          1.5048560985564732,
          -0.43305137818828704,
          0.14035514476183455,
          -0.043692773146717385,
          -0.3258746301486896,
          0.37035802612432134,
          0.4382023162443616,
          0.29235227084314025,
          -0.6165429992919493,
          1.0882477917223679,
          -0.23126106770392862,
          0.9654136316700143,
          -0.21200320757339067,
          1.2174624957535238,
          -0.42111681550380403,
          0.9702651729820756,
          0.6885101789169618,
          -0.7084502975647846,
          -1.3927052402449864,
          0.10575378925142775,
          0.1196927098919987,
          -0.006178235011965165,
          0.7747750708793926,
          0.08930554698168208,
          0.7152950724553945,
          0.6004129942125054,
          -0.4713543390872556,
          -0.6729691020301445,
          0.4051288674809024,
          0.20135278083294847,
          0.3290041611259043,
          1.443710585536192,
          1.0067483815294545,
          0.1631441323095671,
          -0.18060065544491913,
          0.6580121759779112,
          -0.11388600460011174,
          -0.5045094409894443,
          -0.26088427425655514,
          -0.39944672679824766,
          0.14364352019763044,
          -0.9614551483310738,
          -0.6040540076329322,
          0.06332350085775945,
          -1.5305100180762308,
          -0.9028256241811915,
          0.7778812765180345,
          -0.2073693233905885,
          0.19420363840987545,
          -0.5339173228511794,
          1.2089428892429857,
          0.7497083402987883,
          0.008617644207756552,
          -0.1780853151978431,
          -1.6946482274655275,
          0.564368380142686,
          -0.3036048610717156,
          0.14525644719535297,
          -0.5377861590745298,
          -0.04024118845186467,
          0.47798932669333527,
          0.4905472464328614,
          0.13407967044933858,
          0.07916448196415189,
          -0.7633312817194631,
          -0.023273650674034852,
          -0.08729612543543308,
          -0.22062550491082503,
          -1.8456718786146364,
          0.8416901813698305,
          0.4025572661144187,
          0.7618918696294819,
          -0.239527344050962,
          0.4409446856481534,
          -0.08146403831177033,
          0.21696562833533553,
          -0.2605949964949427,
          -0.19340357251696397,
          -0.10169913817177242,
          -1.1258952114370027,
          1.0669838206791435,
          0.6214479627627459,
          -1.082926774509338,
          1.9412198837920918,
          -0.060023533243874105,
          -1.1296233880859192,
          -1.7881441513480671,
          0.7497878398745079,
          1.268332276757594,
          -0.1729047267090831,
          0.8365885854820178,
          0.6523420641148383,
          0.38691686605790854,
          1.169600735858094,
          0.7277274794010334,
          0.4832932274476994,
          1.4619721323325596,
          -0.4440846935833722,
          -1.0231497016896218,
          0.5297767891136467,
          0.7790882713851198,
          -0.15003540302028787,
          -0.18399710195192107,
          -0.3927194274121255,
          0.5857089309487767,
          0.768583423487705,
          -0.12605553847693515,
          -0.8950278205873053,
          -0.23148398611772864,
          0.09509677016513651,
          0.3818632995299799,
          1.247810613544579,
          0.02757710908284418,
          0.721168310884467,
          -0.0652924050470927,
          0.22326324987144666,
          -0.9061742802111562,
          -0.03318289944744433,
          -0.68555066838755,
          -0.7023092014584766,
          1.3408647255007264,
          -0.26025725908866565,
          -0.22122751315034556,
          -1.0936084868783333,
          -1.179978292011226,
          0.4127047381685931,
          -0.18472977195841003,
          1.8196648418125319,
          -0.3649383200636607,
          0.20398519064997916,
          1.0883975919379012,
          0.33215227769365646,
          0.4459731989651971,
          0.4217874532681993,
          0.6039590952706462,
          0.6360289781761657,
          -0.4909747050755364,
          0.4531083822323979,
          0.4572862989552568,
          1.8057250483527427,
          1.3014145925317073,
          -0.7974040230590963,
          1.3598823786941858,
          -0.12942700481473352,
          -1.1781715004407352,
          -0.7985115164053372,
          -0.5576865640478997,
          0.6794297633459613,
          0.04788849371165254,
          -0.34285411960262024,
          0.07129001666645911,
          -0.45982303360790516,
          -0.9654529561223518,
          1.0997656146633095,
          -0.5692035848987612,
          0.14882553173261265,
          -0.6893411683568589,
          -0.6992533234707954,
          0.35667138348253363,
          -0.5881139108136724,
          0.4319636633225053,
          -1.6389441488171077,
          0.13685172314645142,
          -0.725713275403824,
          -0.07114854162785043,
          0.7218884623626882,
          0.3989002540226605,
          0.3437676642447855,
          -0.7751491743244368,
          -0.6490344809892397,
          -0.4677813337586154,
          0.3318664162619502,
          0.8949487062908963,
          -0.22275091953439186,
          -0.5260723636416853,
          -0.9119835029076584,
          0.047339124330401744,
          0.5683882140843665,
          0.8186938682041759,
          -0.8876544223035995,
          0.7310566262011513,
          1.5773421107239567,
          -0.005116944646680077,
          -1.40497286186037,
          0.2681631502825459,
          0.53637293280983,
          0.1786414660913886,
          -0.4211978866486141,
          -1.0838276693006277,
          -0.6777107082270807,
          0.262834264754646,
          -0.0023169481137648306,
          0.5380979137221765,
          0.03974003010869732,
          0.25200734244277095,
          0.5686555619032581,
          -0.23728181115132266,
          -0.9352363592017204,
          0.9378891183623878,
          -0.8702347544164131,
          0.5096501110043127,
          -0.12072368302803191,
          1.0056189302811043,
          -0.005140489500458445,
          0.8144067015301414,
          -0.004221825990232741,
          0.6896471330500792,
          0.8075478242592387,
          -1.4159529759476406,
          -0.12498534656510783,
          -0.6150884539677393,
          -0.12834588276662076,
          0.38331919614564336,
          0.5743735496553397,
          -1.55069168034167,
          0.6723234112256485,
          0.520492520256664,
          -0.08386918901359944,
          0.6996476749033789,
          -0.24075398016458713,
          -0.5861770888484777,
          -0.1823171818359496,
          -0.0417904863654765,
          0.7924278800237362,
          1.5897219848454838,
          1.2196792874638411,
          0.47653535848955075,
          1.0160521676486123,
          0.5697220668561701,
          0.3022896656941801,
          -1.1653081872454134,
          1.2858552554082374,
          -0.4343693431030517,
          -0.2503949243497372,
          -1.240595131288758,
          0.7512353786338449,
          -0.11231328379482453,
          -0.29327982473668185,
          -0.5988470915680741,
          0.17101221510655668,
          0.9153664197552523,
          0.36006724455371186,
          -0.14297339401967396,
          -0.14641245554447563,
          0.5298758013358724,
          -0.3661942295488704,
          1.0541866839590204,
          0.8112458883192267,
          1.0918119633439574,
          0.08407657565194271,
          -0.056781033207937724,
          -0.3700310397593613,
          -0.3619898645421143,
          -0.34156686902113115,
          -0.3988753270491151,
          -1.053039266245624,
          -0.0034865185897168514,
          -0.5308739357027954,
          -1.5124984631243819,
          -0.032597893449907676,
          0.1746985476115415,
          -0.042210478766264575,
          -0.7875485699418532,
          1.1990372129897628,
          -0.37647458930745714,
          -1.1838002513838246,
          -0.05596982239484595,
          0.3050956089233158,
          0.30090015739688175,
          -0.5451146824261358,
          -0.39100211604910373,
          0.055305340277926655,
          -0.8103340393838142,
          -0.9804503034694072,
          0.5627569988722553,
          -0.4294859486571351,
          0.43155027174899957,
          -1.515016101086597,
          -0.14924052332408871,
          0.35611943661726475,
          1.1143852979968152,
          -0.05095685467604325,
          2.10447765415485,
          0.4589783682955873,
          0.6191281811250067,
          -0.2821561971328982,
          -0.990137468786175,
          -0.6535793245417808,
          -0.9588878319988612,
          -0.763292849193271,
          0.35136621913334837,
          -0.06440795863373106,
          -0.05608236912797634,
          -0.5377243608168585,
          -1.1460879334378713,
          0.3702883121687504,
          -0.4419152543588654,
          0.7908786887760152,
          -0.6141672574977375,
          0.3090061517538846,
          0.0692280188643238,
          0.4702535940762488,
          0.9053751476780385,
          0.7129672668866653,
          -0.1286716246834181,
          -0.629877915148252,
          0.23898842397901518,
          -0.0659932061764374,
          -0.4882420260604914,
          1.361081433850173,
          0.7727568143498449,
          -2.211278161840088,
          0.09970372034454839,
          0.7430294877167865,
          0.1495493962928005,
          -0.4762775213117929,
          -1.1566441362136466,
          -0.9887669792269325,
          0.025868692661462418,
          -0.04511558467565032,
          1.2104440801613774,
          0.8955785415333011,
          0.5698647862971968,
          0.6813879920591966,
          -0.5260663630075263,
          0.15925819198287564,
          0.9464187514424587,
          -0.1819640445038916,
          0.3156079627420966,
          0.029053495287779018,
          -0.5097650609780241,
          -0.15773754171701437,
          0.23879715967200224,
          0.26106345756027494,
          0.32197154511160614,
          -0.7303047509101245,
          0.859951465948822,
          -0.334948150070362,
          -0.04119390661687136,
          -0.7120557987172048,
          -0.5052718594000721,
          2.2198320054449114,
          -0.31324821856032264,
          -0.2933915147437565,
          0.48552067225825957,
          -0.29771579941800597,
          -0.14230583978240693,
          -0.194627480052726,
          0.741387799624976,
          -0.15784709065106917,
          0.4021485952421914,
          0.8852450729093769,
          0.31626536850876963,
          -0.46596693061563754,
          -0.13991956086853216,
          1.753222670246182,
          0.4453304965881314,
          -0.45983758523485946,
          0.9426724511611505,
          -0.06738647199274038,
          -0.4623009230388835,
          0.41779142763883415,
          0.21051625244696923,
          -0.09594637139705964,
          0.8643386339959419,
          -0.19833839570819586,
          -0.5643515858087933,
          -0.3963719821269644,
          -0.15742888141420947,
          -0.7252288796996049,
          -2.1753605953948165,
          -0.06842714353244776,
          0.7180059541921903,
          0.904165374202281,
          -0.19565978273615428,
          -1.326069991982768,
          1.149390519953525,
          0.014785409080350111,
          0.8990252959949304,
          -0.3986728064027546,
          1.1608686219563273,
          0.3637519021611734,
          0.15916024557930147,
          1.0053654277813682,
          0.4475838785219646,
          -0.28704508749082536,
          -0.5315558501800921,
          0.1719365325280626,
          -0.14424678639528463,
          -0.6651963716393483,
          0.7312101537112938,
          0.24802760705456978,
          -0.15178989765715425,
          -0.07858679623172758,
          0.2911607391240649,
          -1.587599181891792,
          -0.9644821297264968,
          -1.1805916307361835,
          -0.2415178767650054,
          0.6491488948052769,
          -0.26378278824681595,
          -0.44482064498142254,
          -0.08718194826576757,
          2.3739546396911804,
          0.6679697673678223,
          0.19649356393179873,
          -1.1355582912990492,
          1.0474726427417007,
          -0.6886031109532039,
          0.09975397577447634,
          -0.16311864896642103,
          -0.8588948424607434,
          0.2737008789503625,
          -0.9116460958161352,
          -0.010597921379249522,
          0.023029267609983403,
          -0.559042393933512,
          0.8809758021935996,
          -1.4708512073853954,
          0.019024969440466968,
          1.1054188211364995,
          -0.19609908037735513,
          -1.702481768293273,
          -0.0070391914094218655,
          1.6156310133949434,
          0.4222600068143739,
          -0.075760414291392,
          0.6951183277945946,
          -0.253574996486359,
          -0.4307271886097527,
          -0.03330715093841619,
          0.582857611278399,
          -1.0780293262260414,
          0.3064433804775956,
          1.4087892115231682,
          1.1287137337785746,
          1.025296875973395,
          0.6218210379668864,
          -1.221173062819344,
          0.8287897366816969,
          -0.5276622262855559,
          0.5542675039962679,
          0.36127756804940336,
          -0.15870449574665488,
          -0.09618562241120748,
          0.8529633974845928,
          -0.0021384851843263275,
          -0.42734281413212677,
          -0.2944863303185911,
          0.3575226546176659,
          1.1688330908438254,
          -0.5552800299502986,
          -0.8217530354805349,
          -0.6395610941993188,
          0.10424335831255327,
          0.6641664892912235,
          0.3981830370173335,
          0.3536146791972245,
          1.1903627608686729,
          0.9253795876434718,
          -1.3457288894461479,
          -0.20877004341635402,
          -0.8619509552347089,
          0.19531636953383222,
          -0.8757295111657221,
          -0.7538166775903585,
          -0.5221723775657588,
          -0.8112113017389648,
          1.3041802105371845,
          -0.19322338591409088,
          2.004640503712087,
          -0.3938268826702314,
          0.5203971589338394,
          0.9913357884129903,
          1.2390088772529946,
          0.7286985318007708,
          -0.7886789407700131,
          -0.3157590907499011,
          0.6907925359045073,
          -0.5425196870835851,
          0.11986766033540915,
          -1.0446067257554439,
          -1.4468666164641997,
          -0.40954272965611854,
          -0.28018522283630054,
          0.004509838024465682,
          -0.6212703311552128,
          0.7098963731491198,
          -1.1881838812014618,
          -0.14178809112757618,
          1.204960680919416,
          0.759424407599689,
          0.06338095064346468,
          0.8750821963624382,
          -1.979315915348959,
          1.8415973453234016,
          -1.0664446022240615,
          -0.21366252247465284,
          0.07936107433833267,
          -0.7521542295201682,
          -1.0560056804600508,
          -1.5439296805050888,
          0.9416241270027802,
          1.3048644950663875,
          -0.6096345387590916,
          -1.1365629842760139,
          -0.6927515775079479,
          1.5224071171212854,
          0.05820012474991955,
          1.5142244905677638,
          1.1256384153046328,
          0.5712433826107121,
          0.3729355195079507,
          -1.1765725105055802,
          0.9194192409467373,
          0.033084971852486315,
          -0.3507891809167886,
          0.7096014831595521,
          -0.2215244849131581,
          -0.5807417944224434,
          0.3297208408080581,
          0.3634318668559114,
          0.5510920364661324,
          1.0004545466820574,
          0.38696066628696485,
          0.03188928062293084,
          -0.5356136555951382,
          -0.03210142030461327,
          -0.23099426502280673,
          0.044261052555248426,
          0.09571804717229963,
          -0.17087218810620786,
          -0.1421713601983643,
          0.6446995390476998,
          -1.7775466813598217,
          1.2606484386418058,
          -0.5290653589409594,
          -1.1724527503692401,
          -0.6806113575535561,
          2.1439187129645605,
          1.349362149438334,
          0.5849814576754556,
          -0.8492015396027378,
          -0.49289818890554676,
          -0.11392637695212057,
          0.23786779116259713,
          0.03328602292276823,
          0.4947781007636794,
          -0.5058017697780077,
          -0.40927817632497293,
          0.17761543075335628,
          0.41157142547341913,
          -0.40428419268238597,
          -0.5661036054423669,
          0.5046623457992777,
          0.2395713435748664,
          0.4972841926833893,
          0.20598439370738694,
          -0.758723026987582,
          0.2222874274832203,
          0.14668580544189622,
          1.0761920103888085,
          -0.7938361006019726,
          0.9895698293089799,
          0.7344667642096171,
          -0.030088938810203487,
          0.8469681166519445,
          -0.6762786378107906,
          0.3719651054257346,
          -1.1581236396992558,
          -0.399101519976047,
          -0.7588873239248326,
          -1.2506928984046373,
          0.6674170810319963,
          0.05378186906128127,
          -0.09897329109752695,
          -0.6984709785372455,
          0.27616757958185695,
          -0.2895204889516578,
          -0.8254450066198127,
          0.4006020265741773,
          -0.3417777395816307,
          -0.4063823748710934
         ],
         "xaxis": "x",
         "yaxis": "y"
        }
       ],
       "layout": {
        "barmode": "relative",
        "legend": {
         "title": {
          "text": "variable"
         },
         "tracegroupgap": 0
        },
        "template": {
         "data": {
          "bar": [
           {
            "error_x": {
             "color": "#2a3f5f"
            },
            "error_y": {
             "color": "#2a3f5f"
            },
            "marker": {
             "line": {
              "color": "#E5ECF6",
              "width": 0.5
             },
             "pattern": {
              "fillmode": "overlay",
              "size": 10,
              "solidity": 0.2
             }
            },
            "type": "bar"
           }
          ],
          "barpolar": [
           {
            "marker": {
             "line": {
              "color": "#E5ECF6",
              "width": 0.5
             },
             "pattern": {
              "fillmode": "overlay",
              "size": 10,
              "solidity": 0.2
             }
            },
            "type": "barpolar"
           }
          ],
          "carpet": [
           {
            "aaxis": {
             "endlinecolor": "#2a3f5f",
             "gridcolor": "white",
             "linecolor": "white",
             "minorgridcolor": "white",
             "startlinecolor": "#2a3f5f"
            },
            "baxis": {
             "endlinecolor": "#2a3f5f",
             "gridcolor": "white",
             "linecolor": "white",
             "minorgridcolor": "white",
             "startlinecolor": "#2a3f5f"
            },
            "type": "carpet"
           }
          ],
          "choropleth": [
           {
            "colorbar": {
             "outlinewidth": 0,
             "ticks": ""
            },
            "type": "choropleth"
           }
          ],
          "contour": [
           {
            "colorbar": {
             "outlinewidth": 0,
             "ticks": ""
            },
            "colorscale": [
             [
              0,
              "#0d0887"
             ],
             [
              0.1111111111111111,
              "#46039f"
             ],
             [
              0.2222222222222222,
              "#7201a8"
             ],
             [
              0.3333333333333333,
              "#9c179e"
             ],
             [
              0.4444444444444444,
              "#bd3786"
             ],
             [
              0.5555555555555556,
              "#d8576b"
             ],
             [
              0.6666666666666666,
              "#ed7953"
             ],
             [
              0.7777777777777778,
              "#fb9f3a"
             ],
             [
              0.8888888888888888,
              "#fdca26"
             ],
             [
              1,
              "#f0f921"
             ]
            ],
            "type": "contour"
           }
          ],
          "contourcarpet": [
           {
            "colorbar": {
             "outlinewidth": 0,
             "ticks": ""
            },
            "type": "contourcarpet"
           }
          ],
          "heatmap": [
           {
            "colorbar": {
             "outlinewidth": 0,
             "ticks": ""
            },
            "colorscale": [
             [
              0,
              "#0d0887"
             ],
             [
              0.1111111111111111,
              "#46039f"
             ],
             [
              0.2222222222222222,
              "#7201a8"
             ],
             [
              0.3333333333333333,
              "#9c179e"
             ],
             [
              0.4444444444444444,
              "#bd3786"
             ],
             [
              0.5555555555555556,
              "#d8576b"
             ],
             [
              0.6666666666666666,
              "#ed7953"
             ],
             [
              0.7777777777777778,
              "#fb9f3a"
             ],
             [
              0.8888888888888888,
              "#fdca26"
             ],
             [
              1,
              "#f0f921"
             ]
            ],
            "type": "heatmap"
           }
          ],
          "heatmapgl": [
           {
            "colorbar": {
             "outlinewidth": 0,
             "ticks": ""
            },
            "colorscale": [
             [
              0,
              "#0d0887"
             ],
             [
              0.1111111111111111,
              "#46039f"
             ],
             [
              0.2222222222222222,
              "#7201a8"
             ],
             [
              0.3333333333333333,
              "#9c179e"
             ],
             [
              0.4444444444444444,
              "#bd3786"
             ],
             [
              0.5555555555555556,
              "#d8576b"
             ],
             [
              0.6666666666666666,
              "#ed7953"
             ],
             [
              0.7777777777777778,
              "#fb9f3a"
             ],
             [
              0.8888888888888888,
              "#fdca26"
             ],
             [
              1,
              "#f0f921"
             ]
            ],
            "type": "heatmapgl"
           }
          ],
          "histogram": [
           {
            "marker": {
             "pattern": {
              "fillmode": "overlay",
              "size": 10,
              "solidity": 0.2
             }
            },
            "type": "histogram"
           }
          ],
          "histogram2d": [
           {
            "colorbar": {
             "outlinewidth": 0,
             "ticks": ""
            },
            "colorscale": [
             [
              0,
              "#0d0887"
             ],
             [
              0.1111111111111111,
              "#46039f"
             ],
             [
              0.2222222222222222,
              "#7201a8"
             ],
             [
              0.3333333333333333,
              "#9c179e"
             ],
             [
              0.4444444444444444,
              "#bd3786"
             ],
             [
              0.5555555555555556,
              "#d8576b"
             ],
             [
              0.6666666666666666,
              "#ed7953"
             ],
             [
              0.7777777777777778,
              "#fb9f3a"
             ],
             [
              0.8888888888888888,
              "#fdca26"
             ],
             [
              1,
              "#f0f921"
             ]
            ],
            "type": "histogram2d"
           }
          ],
          "histogram2dcontour": [
           {
            "colorbar": {
             "outlinewidth": 0,
             "ticks": ""
            },
            "colorscale": [
             [
              0,
              "#0d0887"
             ],
             [
              0.1111111111111111,
              "#46039f"
             ],
             [
              0.2222222222222222,
              "#7201a8"
             ],
             [
              0.3333333333333333,
              "#9c179e"
             ],
             [
              0.4444444444444444,
              "#bd3786"
             ],
             [
              0.5555555555555556,
              "#d8576b"
             ],
             [
              0.6666666666666666,
              "#ed7953"
             ],
             [
              0.7777777777777778,
              "#fb9f3a"
             ],
             [
              0.8888888888888888,
              "#fdca26"
             ],
             [
              1,
              "#f0f921"
             ]
            ],
            "type": "histogram2dcontour"
           }
          ],
          "mesh3d": [
           {
            "colorbar": {
             "outlinewidth": 0,
             "ticks": ""
            },
            "type": "mesh3d"
           }
          ],
          "parcoords": [
           {
            "line": {
             "colorbar": {
              "outlinewidth": 0,
              "ticks": ""
             }
            },
            "type": "parcoords"
           }
          ],
          "pie": [
           {
            "automargin": true,
            "type": "pie"
           }
          ],
          "scatter": [
           {
            "fillpattern": {
             "fillmode": "overlay",
             "size": 10,
             "solidity": 0.2
            },
            "type": "scatter"
           }
          ],
          "scatter3d": [
           {
            "line": {
             "colorbar": {
              "outlinewidth": 0,
              "ticks": ""
             }
            },
            "marker": {
             "colorbar": {
              "outlinewidth": 0,
              "ticks": ""
             }
            },
            "type": "scatter3d"
           }
          ],
          "scattercarpet": [
           {
            "marker": {
             "colorbar": {
              "outlinewidth": 0,
              "ticks": ""
             }
            },
            "type": "scattercarpet"
           }
          ],
          "scattergeo": [
           {
            "marker": {
             "colorbar": {
              "outlinewidth": 0,
              "ticks": ""
             }
            },
            "type": "scattergeo"
           }
          ],
          "scattergl": [
           {
            "marker": {
             "colorbar": {
              "outlinewidth": 0,
              "ticks": ""
             }
            },
            "type": "scattergl"
           }
          ],
          "scattermapbox": [
           {
            "marker": {
             "colorbar": {
              "outlinewidth": 0,
              "ticks": ""
             }
            },
            "type": "scattermapbox"
           }
          ],
          "scatterpolar": [
           {
            "marker": {
             "colorbar": {
              "outlinewidth": 0,
              "ticks": ""
             }
            },
            "type": "scatterpolar"
           }
          ],
          "scatterpolargl": [
           {
            "marker": {
             "colorbar": {
              "outlinewidth": 0,
              "ticks": ""
             }
            },
            "type": "scatterpolargl"
           }
          ],
          "scatterternary": [
           {
            "marker": {
             "colorbar": {
              "outlinewidth": 0,
              "ticks": ""
             }
            },
            "type": "scatterternary"
           }
          ],
          "surface": [
           {
            "colorbar": {
             "outlinewidth": 0,
             "ticks": ""
            },
            "colorscale": [
             [
              0,
              "#0d0887"
             ],
             [
              0.1111111111111111,
              "#46039f"
             ],
             [
              0.2222222222222222,
              "#7201a8"
             ],
             [
              0.3333333333333333,
              "#9c179e"
             ],
             [
              0.4444444444444444,
              "#bd3786"
             ],
             [
              0.5555555555555556,
              "#d8576b"
             ],
             [
              0.6666666666666666,
              "#ed7953"
             ],
             [
              0.7777777777777778,
              "#fb9f3a"
             ],
             [
              0.8888888888888888,
              "#fdca26"
             ],
             [
              1,
              "#f0f921"
             ]
            ],
            "type": "surface"
           }
          ],
          "table": [
           {
            "cells": {
             "fill": {
              "color": "#EBF0F8"
             },
             "line": {
              "color": "white"
             }
            },
            "header": {
             "fill": {
              "color": "#C8D4E3"
             },
             "line": {
              "color": "white"
             }
            },
            "type": "table"
           }
          ]
         },
         "layout": {
          "annotationdefaults": {
           "arrowcolor": "#2a3f5f",
           "arrowhead": 0,
           "arrowwidth": 1
          },
          "autotypenumbers": "strict",
          "coloraxis": {
           "colorbar": {
            "outlinewidth": 0,
            "ticks": ""
           }
          },
          "colorscale": {
           "diverging": [
            [
             0,
             "#8e0152"
            ],
            [
             0.1,
             "#c51b7d"
            ],
            [
             0.2,
             "#de77ae"
            ],
            [
             0.3,
             "#f1b6da"
            ],
            [
             0.4,
             "#fde0ef"
            ],
            [
             0.5,
             "#f7f7f7"
            ],
            [
             0.6,
             "#e6f5d0"
            ],
            [
             0.7,
             "#b8e186"
            ],
            [
             0.8,
             "#7fbc41"
            ],
            [
             0.9,
             "#4d9221"
            ],
            [
             1,
             "#276419"
            ]
           ],
           "sequential": [
            [
             0,
             "#0d0887"
            ],
            [
             0.1111111111111111,
             "#46039f"
            ],
            [
             0.2222222222222222,
             "#7201a8"
            ],
            [
             0.3333333333333333,
             "#9c179e"
            ],
            [
             0.4444444444444444,
             "#bd3786"
            ],
            [
             0.5555555555555556,
             "#d8576b"
            ],
            [
             0.6666666666666666,
             "#ed7953"
            ],
            [
             0.7777777777777778,
             "#fb9f3a"
            ],
            [
             0.8888888888888888,
             "#fdca26"
            ],
            [
             1,
             "#f0f921"
            ]
           ],
           "sequentialminus": [
            [
             0,
             "#0d0887"
            ],
            [
             0.1111111111111111,
             "#46039f"
            ],
            [
             0.2222222222222222,
             "#7201a8"
            ],
            [
             0.3333333333333333,
             "#9c179e"
            ],
            [
             0.4444444444444444,
             "#bd3786"
            ],
            [
             0.5555555555555556,
             "#d8576b"
            ],
            [
             0.6666666666666666,
             "#ed7953"
            ],
            [
             0.7777777777777778,
             "#fb9f3a"
            ],
            [
             0.8888888888888888,
             "#fdca26"
            ],
            [
             1,
             "#f0f921"
            ]
           ]
          },
          "colorway": [
           "#636efa",
           "#EF553B",
           "#00cc96",
           "#ab63fa",
           "#FFA15A",
           "#19d3f3",
           "#FF6692",
           "#B6E880",
           "#FF97FF",
           "#FECB52"
          ],
          "font": {
           "color": "#2a3f5f"
          },
          "geo": {
           "bgcolor": "white",
           "lakecolor": "white",
           "landcolor": "#E5ECF6",
           "showlakes": true,
           "showland": true,
           "subunitcolor": "white"
          },
          "hoverlabel": {
           "align": "left"
          },
          "hovermode": "closest",
          "mapbox": {
           "style": "light"
          },
          "paper_bgcolor": "white",
          "plot_bgcolor": "#E5ECF6",
          "polar": {
           "angularaxis": {
            "gridcolor": "white",
            "linecolor": "white",
            "ticks": ""
           },
           "bgcolor": "#E5ECF6",
           "radialaxis": {
            "gridcolor": "white",
            "linecolor": "white",
            "ticks": ""
           }
          },
          "scene": {
           "xaxis": {
            "backgroundcolor": "#E5ECF6",
            "gridcolor": "white",
            "gridwidth": 2,
            "linecolor": "white",
            "showbackground": true,
            "ticks": "",
            "zerolinecolor": "white"
           },
           "yaxis": {
            "backgroundcolor": "#E5ECF6",
            "gridcolor": "white",
            "gridwidth": 2,
            "linecolor": "white",
            "showbackground": true,
            "ticks": "",
            "zerolinecolor": "white"
           },
           "zaxis": {
            "backgroundcolor": "#E5ECF6",
            "gridcolor": "white",
            "gridwidth": 2,
            "linecolor": "white",
            "showbackground": true,
            "ticks": "",
            "zerolinecolor": "white"
           }
          },
          "shapedefaults": {
           "line": {
            "color": "#2a3f5f"
           }
          },
          "ternary": {
           "aaxis": {
            "gridcolor": "white",
            "linecolor": "white",
            "ticks": ""
           },
           "baxis": {
            "gridcolor": "white",
            "linecolor": "white",
            "ticks": ""
           },
           "bgcolor": "#E5ECF6",
           "caxis": {
            "gridcolor": "white",
            "linecolor": "white",
            "ticks": ""
           }
          },
          "title": {
           "x": 0.05
          },
          "xaxis": {
           "automargin": true,
           "gridcolor": "white",
           "linecolor": "white",
           "ticks": "",
           "title": {
            "standoff": 15
           },
           "zerolinecolor": "white",
           "zerolinewidth": 2
          },
          "yaxis": {
           "automargin": true,
           "gridcolor": "white",
           "linecolor": "white",
           "ticks": "",
           "title": {
            "standoff": 15
           },
           "zerolinecolor": "white",
           "zerolinewidth": 2
          }
         }
        },
        "title": {
         "text": "Histogram of pitch_y"
        },
        "xaxis": {
         "anchor": "y",
         "domain": [
          0,
          1
         ],
         "title": {
          "text": "value"
         }
        },
        "yaxis": {
         "anchor": "x",
         "domain": [
          0,
          1
         ],
         "title": {
          "text": "count"
         }
        }
       }
      }
     },
     "metadata": {},
     "output_type": "display_data"
    }
   ],
   "source": [
    "pitch_data.show_y_location_hist(\"pitch_y\")"
   ]
  },
  {
   "cell_type": "markdown",
   "metadata": {},
   "source": [
    "# Hitter"
   ]
  },
  {
   "cell_type": "code",
   "execution_count": null,
   "metadata": {},
   "outputs": [],
   "source": []
  },
  {
   "cell_type": "code",
   "execution_count": 12,
   "metadata": {},
   "outputs": [
    {
     "data": {
      "application/vnd.plotly.v1+json": {
       "config": {
        "plotlyServerURL": "https://plot.ly"
       },
       "data": [
        {
         "hovertemplate": "outcome=Hit<br>pitch_x=%{x}<br>pitch_y=%{y}<extra></extra>",
         "legendgroup": "Hit",
         "marker": {
          "color": "#636efa",
          "symbol": "circle"
         },
         "mode": "markers",
         "name": "Hit",
         "orientation": "v",
         "showlegend": true,
         "type": "scatter",
         "x": [
          -0.2950684565819036,
          0.6235285859575643,
          -0.4223508707942331,
          -0.0031265618657961795,
          0.8032082221280705,
          0.8157315693046165,
          0.14779035630085086,
          -0.008664661931201162,
          0.4091583536222282,
          -0.9293855109460623,
          0.17146300287047517,
          -0.6760817547362414,
          -0.6103949058789372,
          -0.29960295841593904,
          0.7906594497612667,
          0.7546967109717359,
          0.7725128588749867,
          0.06192579990294249,
          0.6260500643354489,
          0.36736619646224544,
          -0.2801424228917909,
          0.3769701065045833,
          -0.4105667871349179,
          -0.08277927291051969,
          -0.9352157678914997,
          0.37846516915908057,
          0.63443673222658,
          0.16166322928874874,
          0.4250727708787348,
          -0.67127345016026,
          0.817734879324224,
          -0.6461868276680988,
          0.32826947521190913,
          -0.9278423479995404,
          0.49209961912919287,
          0.1953852601120032,
          -0.08868228193042597,
          0.5175571224007546,
          -0.19666165602306654,
          -0.41596858384530727,
          0.5295811165305879,
          0.9293621859122551,
          0.20482913263434338,
          -0.5501659309251173,
          -0.009916588977332113,
          -0.6629101646283015,
          -0.3917517112451638,
          0.4766461008375374,
          0.19694652809337057,
          -0.45793203010437866,
          -0.16609353599975682,
          -0.010239049421261437,
          -0.3983397628583478,
          -0.5551245981422505,
          0.26364195780444116,
          -0.23121941020185732,
          0.13809819047678004,
          0.45274515064940885,
          0.1308014754080074,
          -0.24441434442210916,
          -0.63235453983433,
          0.9487899036587872,
          0.4711507097594036,
          -0.03890960327613936,
          0.1413344970656787,
          -0.28189023889627385,
          -0.5073559031859863,
          0.5184115025474565,
          -0.12385803029365999,
          0.5579996783832782,
          -0.8637228466176996,
          0.18393205895414177,
          0.9585932102368561,
          0.13933673927814538,
          0.3435968154884377,
          0.2624811885459251,
          0.582754419465467,
          -0.25055869695956073,
          0.006750569890691462,
          0.6683069746716797,
          0.8661478761775675,
          0.01343613152003805,
          0.29893988431179613,
          0.22792588288802879,
          0.10648237225593671,
          -0.015248198432086732,
          -0.04832741591692671,
          0.41092464540766543,
          -0.03125674395174343,
          -0.2651726400582333,
          -0.231574482281029,
          0.671363861431169,
          -0.07960997481167134,
          0.6969796364143581,
          -0.3076194777204757,
          -0.9737550656701985,
          0.947714573737995,
          0.21780661789458758,
          -0.25210211237502217,
          -0.45184753023592944,
          0.7081622239230023,
          0.8864469797772234,
          -0.0593105232892717,
          0.7564298433089983,
          -0.6338911773143192,
          -0.905748839997527,
          0.8549811439668102,
          0.37634329584751897,
          0.7004089288425319,
          0.6917895349715748,
          -0.3919760898750126,
          0.1660838618045176,
          0.31725739334638575,
          -0.3527505509350108,
          0.9652709852940209,
          -0.429841400286681,
          -0.12088136554891386,
          -0.43078881581270595,
          -0.6057080509081286,
          -0.9134761170006511,
          -0.49146353456463526,
          0.6258030243215023,
          -0.550056652776136,
          0.23742614942845655,
          -0.31623836451809495,
          0.1421066580668221,
          0.9493080804592205,
          0.9534829295885103,
          0.12640680361233592,
          0.9498242681055079,
          0.9454389476259264,
          -0.6006812289017316,
          0.7142023040436425,
          0.2600657595504723,
          -0.2398499978243223,
          0.043297687589249165,
          -0.07394155095632333,
          -0.0014252101747725505,
          -0.07519948009046472,
          0.058195916270747584,
          -0.010451317603404918,
          -0.32935017465282773,
          -0.005271750066435993,
          -0.2486381159733574,
          -0.9998040236659367,
          0.8741664623008601,
          0.5771516994259883,
          -0.06721749865854883,
          -0.022542466457846577,
          0.6629954339253488,
          0.12813249324154308,
          -0.8128170939912609,
          0.52133262968502,
          0.9316502550463236,
          0.6388651504373338,
          0.5385315752412941,
          -0.9980074510217021,
          -0.2457390826514709,
          0.8383020284472308,
          0.48519821118927237,
          -0.9862459683182292,
          -0.3648703706208475,
          -0.5966057959437647,
          -0.23741333741212697,
          0.06092145405355299,
          0.5058341067280567,
          0.3121628075368562,
          0.3792821119576526,
          0.9571940040472328,
          0.6773534198956652,
          0.7642961972183593,
          0.7297549918485122,
          0.22306844273903126,
          0.38816057994833414,
          0.21069831665213729,
          0.3193255753647682,
          -0.2544239813471692,
          0.24598283434631696,
          -0.05815606346299419,
          0.6233459456048814,
          -0.015146186985154698,
          0.3957456311764678,
          -0.09057854007296429,
          -0.682590717781525,
          -0.0057815849306735575,
          -0.43328657439639723,
          0.2491261368717397,
          -0.6726891791687769,
          -0.6230425270360874,
          -0.9278710071050942,
          0.16616399508611257,
          0.15920727297889586,
          0.5184212328907055,
          0.4364587158003795,
          0.6180622234404979,
          0.4757738402729897,
          -0.19298557128621002,
          -0.7204046104124188,
          -0.6357306700091094,
          -0.5806862442171408,
          0.16080413220946976,
          -0.4295060020528726,
          -0.2217713129358018,
          0.972841459746756,
          0.0818140358324059,
          -0.1512472727993371,
          -0.7867183600904216,
          -0.27834129201540136,
          -0.7221340773494066,
          0.32588223085581497,
          -0.07715942536106916,
          -0.05936029457715938,
          0.12845359719362298,
          -0.7611847051048939,
          -0.13371956875453986,
          -0.9294422852303124,
          0.09454149523260248,
          -0.03911543662501862,
          0.013599820602953854,
          0.5314452508319354,
          0.1991332923481206,
          0.027514449455455593,
          -0.5953240495455386,
          -0.28029102522454713,
          -0.3254952470589539,
          0.735554211346975,
          0.3191622870833727,
          -0.27112223348795195,
          0.007436338886448245,
          0.2491727933677853,
          0.9240710729689046,
          0.13986193254273627,
          0.18517132244859258,
          -0.889544422063628,
          0.09947614939339586,
          0.8592494551242906,
          -0.2558196562484617,
          -0.18628512595266078,
          -0.8598275691929671,
          0.34846897166656826,
          -0.0664048583083259,
          0.9269576015768994,
          -0.736618584970207,
          0.09843945855841169,
          -0.5463968362204371,
          -0.07183451793637637,
          0.15749732493144905,
          -0.07618659288962078,
          -0.6966672211792481,
          -0.36763227154795947,
          0.12635678321544888,
          0.3477751576354612,
          0.693229580141034,
          -0.25987864779720393,
          -0.8629746387046469,
          0.5246524396022579,
          0.4000886067769265,
          0.016570114143068315,
          0.9097853265849273,
          0.329458634796074,
          0.40322939860755935,
          0.36665854992601504,
          -0.895129609795981,
          -0.9236700293609873,
          -0.15589020804600334,
          -0.29666645603004066,
          -0.41890255608039684,
          -0.6057959739422966,
          0.17166650447755,
          -0.5765934947852516,
          -0.0420545059783371,
          -0.5133466438901154,
          -0.0471804374095217,
          0.5711676303289838,
          0.8629585939840759,
          -0.5615312589262585,
          -0.6617269828283783,
          0.7225958785616903,
          -0.5458691221651368,
          0.7245568774240134,
          0.8327941979504463,
          0.22934482120811073,
          0.3976115292607999,
          -0.00831673213467499,
          0.39373384650297344,
          -0.6168942559192209,
          0.3517277731065718,
          0.09514287958301723,
          -0.4330303141725951,
          -0.9615934529050729,
          0.07921021913752078,
          0.17308670967716883,
          -0.5487564328885607,
          -0.461105809596249,
          0.23274041119553657,
          0.12084595841233114,
          0.18484606135006293,
          0.42854858739627877,
          0.7071731497639082,
          0.08433801452614328,
          -0.6163691909795657,
          -0.6347270763827061,
          -0.49387659128160827,
          -0.08909321506132513,
          -0.2868182955878856,
          0.12327225688893892,
          -0.15939942773640478,
          0.34944589733499815,
          -0.8604764472947978,
          0.8392078392799733,
          0.8766388765976417,
          -0.18892108356609666,
          -0.4501680825182176,
          0.9784933098062419,
          0.7379813579070277,
          0.16360544090552023,
          -0.8454077337174518,
          0.48516632927120895,
          -0.8186116176055445,
          0.04304806209402349,
          0.8666965425054075,
          -0.849605217315903,
          -0.1023445216494829,
          0.6738240367972222,
          0.9787983962222013,
          0.497134857471852,
          0.27662740343386955,
          0.002646525590334759,
          0.050927532439623426,
          0.14196177965716852,
          0.08740815013038858,
          -0.273761159097564,
          -0.3341985056191212,
          -0.770651926787424,
          0.31537380627625045,
          -0.4176459485456708,
          0.6666277738542368,
          -0.4593100729274697,
          0.07615069354353081,
          0.2795838889623474,
          0.39269405692027254,
          0.04750488507663249,
          0.18508432594140284,
          -0.0761291405782162,
          -0.18222460868274176,
          -0.4755203839485952,
          0.6180526612494879,
          0.4379209206695108,
          0.22417320960677933,
          -0.45018095786068896,
          0.7415358289033527,
          0.023266075708767767,
          0.82914107229196,
          0.695645992694687,
          -0.42645764903344535,
          -0.49747952401977014,
          -0.33334317201240415,
          -0.4578931796201223,
          0.0935293229764791,
          -0.4346704646621546,
          -0.6077988699823021,
          -0.4399502783003855,
          -0.927380617344897,
          0.15173325064071838,
          0.48048659211549766,
          0.9693355618423578,
          0.2600370998771975,
          -0.7126580028949794,
          0.3050997146572072,
          -0.308252765688365,
          0.10646511775371599,
          -0.6742227961538998,
          0.6872820489061818,
          0.6125233580464658,
          -0.2204592754826332,
          -0.5626466808666539,
          -0.42243235565209675,
          0.20718057027230205,
          0.19634841950120796,
          -0.3863939443436412,
          0.8875494199881732,
          -0.4231692084155047,
          -0.27271330654260983,
          -0.5072945318729515,
          -0.5685513295041671,
          -0.1511852118399816,
          0.9934031993618949,
          0.4227103556972549,
          -0.6642717550833824,
          -0.039161746694246435,
          -0.5786047665825603,
          0.6223080886315184,
          -0.8062383284315009,
          0.6063855214433235,
          -0.35533982325605246,
          0.08849625314035663,
          -0.11910069074102178,
          -0.0035416447579214626,
          0.6428327323651543,
          -0.7416168618752129,
          -0.8492848174302848,
          0.4463298409937083,
          0.8788863344533352,
          -0.4184808724254943,
          0.02846779126827239,
          -0.9414074809093385,
          -0.044344409897999176,
          0.01803018871396016,
          -0.34563795886909965,
          0.7907866122875913,
          0.7018519943818177,
          -0.12184052852087199,
          -0.07921525902652087,
          0.22217401456253943,
          0.7194839632577246,
          0.4037149522257576,
          -0.39816822457749007,
          -0.19054903292838082,
          0.16007125625565857,
          -0.9215809353618045,
          0.25589475923769706,
          0.41212125497553587,
          -0.025105449375757843,
          0.7050810175508087,
          -0.7665517037579602,
          0.9303231596550051,
          -0.12504856195616545,
          -0.4268053994636122,
          0.9196299178057604,
          0.2283541786652585,
          -0.4466702265603689,
          0.26644578769738797,
          -0.5123378982789263,
          -0.22166943571544226,
          -0.7599344469510302,
          -0.0026065506082353154,
          0.2309618231480791,
          0.19336642286429662,
          0.09982941452740803,
          -0.9186312805858965,
          0.25641699855695693,
          -0.2716364582424266,
          0.3123006072776454,
          -0.2548832897859008,
          0.11839825739131826,
          0.7913051258455941,
          -0.22634534498118747,
          0.21203946120756492,
          0.8723267545434487,
          -0.6401799921509761,
          -0.3922396487076743,
          -0.718969900258229,
          0.48225991597053597,
          0.1449104248114641,
          0.07366658358073767,
          0.1782463845023727,
          -0.8071936601969674,
          -0.38334841449731827,
          0.5140880272295404,
          0.9031438176310717,
          0.7700962243566025,
          -0.316061826761201,
          -0.0525718881646439,
          0.9639284403058289,
          0.051842964592354976,
          -0.4316419247836278,
          -0.011119293584121807,
          -0.25398555090569325,
          0.13165674366973795,
          -0.042460762482434786,
          -0.15868102120144975,
          0.46257142892085007,
          0.49166489705435595,
          -0.167544328713671,
          -0.9667475112138719,
          0.19829567649083488,
          0.7218012356742528,
          -0.5867896023128881,
          -0.745807549017563,
          -0.9615888522530808,
          -0.0025643430605715215,
          0.4839956609998683,
          0.17729456913376831,
          0.5872865229053964,
          -0.7998755893351325,
          -0.6925600229713094,
          -0.2951165128835837,
          -0.3529431954753676,
          0.7844749292016792,
          -0.2708585352640653,
          0.11351321735849013,
          -0.6326394792414943,
          -0.9688971947821666,
          -0.9391233539463797,
          -0.3095593920105189,
          0.6099746607235524,
          0.052874091805618896,
          0.8071371041805725,
          0.4280612287301159,
          -0.5565023540889542,
          0.7175673179811115,
          -0.3373936935511879,
          -0.23683810905580469,
          -0.5687150184712707,
          0.6413784652531818,
          0.2830164465901804,
          0.44374900408029483,
          -0.16415227631596796,
          0.33663548597428733,
          -0.28624002762053363,
          0.9529610307129721,
          0.3462163951365977,
          0.44162519679840534,
          -0.08485425756273127,
          -0.4397585411813813,
          -0.5982290421539584,
          -0.12690263808304358,
          0.07938332733757542,
          0.2657532800734249,
          0.2597575803878054,
          -0.5990675178779399,
          -0.28062594341553404,
          0.6954330815937505,
          -0.988409179736884,
          0.12015070266086474,
          -0.13225635980866252,
          -0.3819703311166201,
          -0.30096583718424774,
          0.2785054968033275,
          0.8439716180955908,
          -0.20465544626146415,
          0.201367754656789,
          0.9255240298496165,
          -0.9155659354228363,
          0.1462815320473105,
          0.6612751704646544,
          -0.2709784223418221,
          0.8345341016797747,
          -0.76079581136137,
          0.7993085966500739,
          0.09057039517363225,
          -0.10153996904952577,
          -0.5771636852594889,
          0.054026288935304013,
          -0.9712393431476943,
          -0.040466128768048275,
          -0.06994447590948964,
          0.287021923882898,
          -0.3941315920039783,
          0.31170262003641463,
          0.21252529361081013,
          -0.003960403730713018,
          0.16942932852241108,
          0.9696030637358753,
          -0.15162079986475893,
          -0.5715114624943414,
          -0.8060636655991881,
          -0.2328929706374155,
          -0.5157998752923175,
          0.3088635098085536,
          -0.3153680624007049,
          -0.2925503170354505,
          -0.25878974170463537,
          0.09192315868046481,
          0.45305386089735944,
          -0.8407083620303374,
          -0.04568352616604973,
          0.568504040561341,
          -0.7742375282655863,
          0.8822035828122451,
          -0.46931646996992615,
          0.8847074919757689,
          0.7127366073570798,
          0.14475611721224316,
          -0.012704328783105881,
          -0.40736751769633667,
          0.04770993695708308,
          0.4310296889346626,
          -0.2831371316929262,
          0.4779826789740981,
          0.32543805852969354,
          -0.5044865464980228,
          -0.2845100367857882,
          -0.20879191723690135,
          0.7994429532751938,
          -0.46286170060199167,
          -0.6783416257847362,
          0.37339508720023323,
          0.33356676162987325,
          -0.045141620669273456,
          -0.2790553992820177,
          -0.8086615183094298,
          -0.1778013907416779,
          -0.6473572781104531,
          0.2094657650424705,
          0.19388870534509606,
          -0.23874372019762916,
          0.08570318367925947,
          -0.11638042724910067,
          -0.4576793681015588,
          -0.21945343573426368,
          -0.13913358116821958,
          0.7237641858210808,
          -0.5926946738455462,
          0.09378851978484608,
          0.3912823134502069,
          0.890430564091333,
          -0.38780086438060235,
          0.2987147723259545,
          -0.31437419725252136,
          0.09685246843536487,
          0.04915812475220513,
          -0.5398672804756043,
          0.8964858873882737,
          -0.7061527341189703,
          0.14403963310141274,
          -0.5469107162482827,
          0.5112251831193271,
          -0.22540931824417298,
          -0.5978478956249865,
          0.17975137743541314,
          -0.3020968072704942,
          0.2997148453413259,
          0.22773610806370886,
          0.9775629565931586,
          -0.41428589312210884,
          -0.5695267606976069,
          -0.44358871190613924,
          -0.07111803543084715,
          0.6300703801355145,
          -0.9988213891468108,
          -0.07496984522937385,
          -0.6764902434991225,
          -0.9584311390082056,
          -0.02722195355076766
         ],
         "xaxis": "x",
         "y": [
          0.9861296464360708,
          0.2685959887758937,
          -0.7428000935670044,
          -0.7820811606589304,
          0.08008396785617612,
          0.24018518410922432,
          0.7027948223344012,
          0.6263735196796207,
          -0.9110190002222244,
          -0.7515567381054638,
          -0.4062715939526015,
          -0.4502836920432676,
          -0.06201260941213051,
          0.4963743460460587,
          0.7779864987021161,
          0.8756487226919785,
          0.5386948839781276,
          0.24464562386410502,
          0.715642982151389,
          -0.500284587312989,
          -0.39398940553463724,
          -0.5158098203808542,
          0.5711259067561143,
          0.6898545904721435,
          -0.37394618347577013,
          -0.5579792453218705,
          0.9964215469765801,
          0.4501160388948539,
          0.5748245776421185,
          0.547385738246336,
          0.9292260210873851,
          0.9575261221042749,
          -0.9114801131295227,
          0.18638490594168108,
          0.45517123301546303,
          -0.921531047974481,
          -0.01527450390354565,
          -0.30707082921393514,
          0.9355944220364889,
          0.06834260409871754,
          -0.28544813033391936,
          -0.055732283740351767,
          0.9768595307415125,
          0.4138355490058639,
          -0.04060756977516222,
          0.2770040572754625,
          -0.29211990214769634,
          -0.8398323370187142,
          -0.6197966989209783,
          -0.4695278151952162,
          0.05320373466330845,
          0.22982883466460471,
          0.011132352050981531,
          -0.29594898041188344,
          0.9790153724491906,
          0.7452453833894626,
          -0.1257784616030969,
          0.6618848660762342,
          0.0473337248261731,
          -0.06150484885409606,
          0.09025214740312419,
          0.9116489282516801,
          -0.9353739774947277,
          -0.6776739085594278,
          -0.5784925632720332,
          0.8892858896157017,
          0.48458906868151097,
          0.30835037022051703,
          -0.6066594791166443,
          -0.0561666612609886,
          0.22369250829887574,
          0.8140404654339111,
          0.1936096274157625,
          -0.5993912773612019,
          0.2834379771014431,
          -0.37255642979362597,
          0.3677541288330064,
          0.9810331957712467,
          -0.15914093134348978,
          0.4439318185293054,
          -0.623100113702953,
          0.6897544469334251,
          -0.08930261242200063,
          -0.5149914989379385,
          -0.21528849347712192,
          -0.890645765204878,
          -0.24753556435248164,
          -0.44056084551322344,
          0.9240034238087783,
          0.4444857028027952,
          0.3228891206846811,
          -0.817205180091843,
          -0.39389679967945773,
          0.015151569476195432,
          0.23458382836602307,
          -0.2033087760246794,
          0.4247719687628895,
          0.8419691769248384,
          -0.6375628067720286,
          -0.7956161889997012,
          -0.5250912497209778,
          0.7093484664249111,
          -0.679361146072071,
          -0.04296607382120319,
          0.29197996467731624,
          0.44556247601696636,
          0.8203032764736163,
          -0.28272841556694905,
          0.06432441753811217,
          0.28518166128485584,
          0.19870997648615377,
          -0.7382346560051158,
          0.43823775097197015,
          0.33977099176696995,
          -0.17757346445752448,
          0.1887320836313957,
          0.791148981422277,
          -0.2700942265661437,
          0.45934753457404826,
          -0.874091885886482,
          -0.35549158070994646,
          0.2590706359417069,
          -0.17908238777826102,
          0.40452984561548405,
          0.010326133401254198,
          0.07224020612880493,
          -0.19663135928369865,
          -0.6771540774974675,
          0.06777832521086431,
          -0.4579616500971142,
          -0.3472239617154756,
          -0.16830670484149446,
          -0.5788123451150202,
          -0.04812692269413682,
          -0.020503927127988868,
          0.5960833553068031,
          -0.7824160485247652,
          0.05152072647768598,
          -0.40015258461669323,
          0.22168018829845743,
          -0.15088005977155053,
          0.5600074086890485,
          0.5903297506999411,
          -0.5576609862703304,
          -0.31799705470705286,
          0.17160279867501474,
          -0.44428770268322193,
          -0.09763617559069145,
          -0.8572504923148506,
          -0.4411344619590548,
          -0.1125789300767433,
          -0.21906694860323925,
          -0.6373888320103948,
          -0.22356829684261104,
          0.49971914769256814,
          -0.12807905659994873,
          0.011134209020995723,
          -0.2685967228209523,
          -0.03538537402334546,
          -0.40230750370248286,
          -0.7101822162669341,
          0.9458639207214825,
          0.390028556984779,
          0.38135252390857405,
          -0.7301160266513212,
          -0.518389058035812,
          0.05418093273977884,
          0.4372587324146882,
          -0.879605647819195,
          -0.35541710338105986,
          -0.20250047028267615,
          -0.6916857033818831,
          -0.201903132602971,
          0.3673555719171807,
          0.028637479590843073,
          -0.6277638286638576,
          -0.5820585104273568,
          0.017705486063076467,
          -0.36120031537612723,
          0.9049862422725856,
          -0.31714048278602724,
          0.33148395758827937,
          0.024168088052631605,
          -0.2850507907822816,
          0.15818327854110234,
          -0.36371828093940367,
          -0.8191592590115279,
          -0.4992231671281174,
          -0.4529335884022684,
          -0.022173081180569314,
          0.03679026286861285,
          0.34817938150843586,
          0.6296066782253005,
          0.03960059559427324,
          0.2780372295721386,
          -0.8368331258082681,
          -0.545946823207298,
          -0.053911674006652005,
          0.016364461702508538,
          -0.4684214013560447,
          -0.09364962567276114,
          -0.029400897228854885,
          -0.3380943514947193,
          -0.08741449422768992,
          0.36330503609928644,
          0.10541333836848982,
          -0.7043015958704085,
          0.37361863611941265,
          0.6454849093525052,
          0.3545429293237821,
          0.36510066045143735,
          -0.6777212361928533,
          -0.258304316813086,
          -0.7096395845135066,
          -0.33109710258010216,
          0.8045189491965642,
          0.6166774586369602,
          -0.6581383394206264,
          -0.033246096286756906,
          0.3343073197971598,
          -0.03496669119084788,
          0.22157702624861111,
          0.2988274284274349,
          -0.29151525985462545,
          0.7736524877598389,
          -0.14965517510039963,
          -0.03749615477911824,
          0.46993915630492367,
          -0.01715954499932078,
          -0.06367721655519022,
          0.20988840045024218,
          -0.41547309948895506,
          0.16305161289391612,
          0.3016590958454535,
          0.7823715598336591,
          -0.0783100676609867,
          0.8112508584766547,
          0.07790156340174666,
          -0.26960208716524797,
          -0.04032275637745576,
          -0.7483996928037563,
          0.9977276381545318,
          -0.767874656232166,
          0.7302883277407904,
          -0.5862240117158988,
          0.39106931089635955,
          -0.5264875281024349,
          -0.832837585667543,
          0.48280221273656304,
          0.3555263152791364,
          -0.8047036308400984,
          0.13055420443719176,
          0.0665964951284711,
          0.8026407178841458,
          -0.06565217747740777,
          -0.814691444769602,
          -0.42779073350312685,
          -0.09215532898436614,
          -0.22501290896957013,
          -0.2807116766358912,
          0.6676361509773439,
          -0.43305137818828704,
          0.14035514476183455,
          -0.043692773146717385,
          -0.3258746301486896,
          0.37035802612432134,
          0.4382023162443616,
          0.29235227084314025,
          -0.6165429992919493,
          -0.23126106770392862,
          0.9654136316700143,
          -0.21200320757339067,
          -0.42111681550380403,
          0.6885101789169618,
          0.10575378925142775,
          -0.006178235011965165,
          0.7747750708793926,
          0.08930554698168208,
          0.7152950724553945,
          0.6004129942125054,
          -0.6729691020301445,
          0.4051288674809024,
          0.20135278083294847,
          0.3290041611259043,
          -0.18060065544491913,
          0.6580121759779112,
          -0.5045094409894443,
          -0.39944672679824766,
          -0.9614551483310738,
          -0.6040540076329322,
          0.06332350085775945,
          0.7778812765180345,
          -0.2073693233905885,
          0.19420363840987545,
          0.7497083402987883,
          0.008617644207756552,
          -0.1780853151978431,
          0.564368380142686,
          -0.3036048610717156,
          0.14525644719535297,
          -0.5377861590745298,
          0.4905472464328614,
          0.13407967044933858,
          0.07916448196415189,
          -0.023273650674034852,
          -0.22062550491082503,
          0.4025572661144187,
          0.7618918696294819,
          -0.239527344050962,
          0.4409446856481534,
          0.21696562833533553,
          -0.19340357251696397,
          -0.10169913817177242,
          0.6214479627627459,
          -0.060023533243874105,
          0.7497878398745079,
          -0.1729047267090831,
          0.7277274794010334,
          0.4832932274476994,
          -0.4440846935833722,
          0.5297767891136467,
          0.7790882713851198,
          -0.15003540302028787,
          -0.18399710195192107,
          0.5857089309487767,
          0.768583423487705,
          -0.8950278205873053,
          -0.23148398611772864,
          0.09509677016513651,
          0.3818632995299799,
          0.02757710908284418,
          0.721168310884467,
          -0.0652924050470927,
          0.22326324987144666,
          -0.9061742802111562,
          -0.03318289944744433,
          -0.68555066838755,
          -0.26025725908866565,
          -0.22122751315034556,
          0.4127047381685931,
          -0.18472977195841003,
          -0.3649383200636607,
          0.20398519064997916,
          0.4459731989651971,
          0.4217874532681993,
          0.6360289781761657,
          0.4531083822323979,
          0.4572862989552568,
          -0.7974040230590963,
          -0.7985115164053372,
          -0.5576865640478997,
          0.6794297633459613,
          -0.34285411960262024,
          0.07129001666645911,
          -0.45982303360790516,
          -0.9654529561223518,
          -0.5692035848987612,
          0.14882553173261265,
          -0.6893411683568589,
          -0.6992533234707954,
          -0.5881139108136724,
          0.4319636633225053,
          0.13685172314645142,
          -0.725713275403824,
          -0.07114854162785043,
          0.7218884623626882,
          0.3989002540226605,
          0.3437676642447855,
          -0.7751491743244368,
          -0.6490344809892397,
          -0.4677813337586154,
          0.3318664162619502,
          0.8949487062908963,
          -0.5260723636416853,
          -0.9119835029076584,
          0.047339124330401744,
          0.5683882140843665,
          0.8186938682041759,
          -0.8876544223035995,
          0.7310566262011513,
          -0.005116944646680077,
          0.2681631502825459,
          0.1786414660913886,
          -0.4211978866486141,
          -0.6777107082270807,
          0.262834264754646,
          -0.0023169481137648306,
          0.5380979137221765,
          0.03974003010869732,
          0.5686555619032581,
          -0.23728181115132266,
          -0.9352363592017204,
          0.9378891183623878,
          -0.8702347544164131,
          0.5096501110043127,
          -0.005140489500458445,
          0.8144067015301414,
          -0.004221825990232741,
          0.6896471330500792,
          -0.12498534656510783,
          -0.6150884539677393,
          -0.12834588276662076,
          0.5743735496553397,
          0.6723234112256485,
          0.6996476749033789,
          -0.24075398016458713,
          -0.5861770888484777,
          -0.0417904863654765,
          0.7924278800237362,
          0.47653535848955075,
          0.5697220668561701,
          0.3022896656941801,
          -0.4343693431030517,
          -0.2503949243497372,
          -0.11231328379482453,
          -0.5988470915680741,
          0.17101221510655668,
          0.36006724455371186,
          -0.3661942295488704,
          0.8112458883192267,
          -0.3700310397593613,
          -0.3619898645421143,
          -0.34156686902113115,
          -0.3988753270491151,
          -0.0034865185897168514,
          -0.5308739357027954,
          -0.032597893449907676,
          0.1746985476115415,
          -0.7875485699418532,
          -0.37647458930745714,
          -0.05596982239484595,
          0.3050956089233158,
          0.30090015739688175,
          -0.5451146824261358,
          -0.39100211604910373,
          0.055305340277926655,
          -0.8103340393838142,
          0.5627569988722553,
          -0.4294859486571351,
          0.43155027174899957,
          -0.14924052332408871,
          0.35611943661726475,
          0.4589783682955873,
          0.6191281811250067,
          -0.2821561971328982,
          -0.990137468786175,
          -0.6535793245417808,
          -0.9588878319988612,
          0.35136621913334837,
          -0.06440795863373106,
          -0.05608236912797634,
          -0.5377243608168585,
          -0.4419152543588654,
          0.7908786887760152,
          -0.6141672574977375,
          0.3090061517538846,
          0.7129672668866653,
          -0.1286716246834181,
          0.23898842397901518,
          -0.0659932061764374,
          -0.4882420260604914,
          0.7727568143498449,
          0.09970372034454839,
          0.7430294877167865,
          0.1495493962928005,
          -0.4762775213117929,
          -0.9887669792269325,
          0.025868692661462418,
          -0.04511558467565032,
          0.8955785415333011,
          0.5698647862971968,
          -0.5260663630075263,
          0.15925819198287564,
          0.9464187514424587,
          -0.1819640445038916,
          0.3156079627420966,
          0.029053495287779018,
          -0.15773754171701437,
          0.26106345756027494,
          0.32197154511160614,
          0.859951465948822,
          -0.334948150070362,
          -0.04119390661687136,
          -0.5052718594000721,
          -0.31324821856032264,
          -0.2933915147437565,
          0.48552067225825957,
          -0.14230583978240693,
          -0.194627480052726,
          0.741387799624976,
          -0.15784709065106917,
          0.4021485952421914,
          0.8852450729093769,
          0.31626536850876963,
          -0.13991956086853216,
          -0.45983758523485946,
          0.9426724511611505,
          -0.06738647199274038,
          -0.4623009230388835,
          0.21051625244696923,
          -0.09594637139705964,
          0.8643386339959419,
          -0.19833839570819586,
          -0.3963719821269644,
          -0.7252288796996049,
          0.7180059541921903,
          -0.19565978273615428,
          0.014785409080350111,
          0.8990252959949304,
          -0.3986728064027546,
          0.3637519021611734,
          0.4475838785219646,
          -0.28704508749082536,
          -0.5315558501800921,
          -0.14424678639528463,
          -0.6651963716393483,
          0.7312101537112938,
          0.24802760705456978,
          -0.07858679623172758,
          0.2911607391240649,
          -0.9644821297264968,
          0.6491488948052769,
          -0.26378278824681595,
          -0.44482064498142254,
          -0.08718194826576757,
          0.6679697673678223,
          0.19649356393179873,
          -0.6886031109532039,
          0.09975397577447634,
          -0.16311864896642103,
          -0.8588948424607434,
          0.2737008789503625,
          -0.9116460958161352,
          -0.010597921379249522,
          0.023029267609983403,
          -0.559042393933512,
          0.019024969440466968,
          -0.19609908037735513,
          -0.0070391914094218655,
          0.4222600068143739,
          -0.075760414291392,
          -0.253574996486359,
          -0.4307271886097527,
          -0.03330715093841619,
          0.6218210379668864,
          0.8287897366816969,
          -0.5276622262855559,
          0.36127756804940336,
          -0.15870449574665488,
          -0.09618562241120748,
          0.8529633974845928,
          -0.0021384851843263275,
          -0.42734281413212677,
          -0.2944863303185911,
          0.3575226546176659,
          -0.5552800299502986,
          -0.8217530354805349,
          -0.6395610941993188,
          0.10424335831255327,
          0.6641664892912235,
          0.3981830370173335,
          0.3536146791972245,
          -0.20877004341635402,
          -0.8619509552347089,
          -0.7538166775903585,
          -0.8112113017389648,
          -0.19322338591409088,
          -0.3938268826702314,
          0.5203971589338394,
          0.7286985318007708,
          -0.7886789407700131,
          -0.3157590907499011,
          0.6907925359045073,
          -0.5425196870835851,
          0.004509838024465682,
          0.7098963731491198,
          -0.14178809112757618,
          0.759424407599689,
          0.06338095064346468,
          0.8750821963624382,
          -0.21366252247465284,
          0.07936107433833267,
          -0.7521542295201682,
          0.9416241270027802,
          -0.6096345387590916,
          -0.6927515775079479,
          0.3729355195079507,
          0.033084971852486315,
          0.7096014831595521,
          -0.5807417944224434,
          0.3297208408080581,
          0.3634318668559114,
          0.03188928062293084,
          -0.5356136555951382,
          -0.03210142030461327,
          -0.23099426502280673,
          0.044261052555248426,
          0.09571804717229963,
          -0.17087218810620786,
          -0.1421713601983643,
          0.6446995390476998,
          -0.5290653589409594,
          0.5849814576754556,
          -0.8492015396027378,
          -0.49289818890554676,
          0.23786779116259713,
          0.03328602292276823,
          -0.5058017697780077,
          -0.40927817632497293,
          0.17761543075335628,
          0.41157142547341913,
          -0.40428419268238597,
          -0.5661036054423669,
          0.5046623457992777,
          0.2395713435748664,
          0.4972841926833893,
          0.20598439370738694,
          -0.758723026987582,
          0.2222874274832203,
          0.14668580544189622,
          -0.7938361006019726,
          0.9895698293089799,
          0.7344667642096171,
          -0.030088938810203487,
          0.3719651054257346,
          -0.399101519976047,
          -0.7588873239248326,
          -0.09897329109752695,
          -0.6984709785372455,
          0.27616757958185695,
          -0.2895204889516578,
          -0.8254450066198127,
          0.4006020265741773,
          -0.3417777395816307,
          -0.4063823748710934
         ],
         "yaxis": "y"
        },
        {
         "hovertemplate": "outcome=Strike<br>pitch_x=%{x}<br>pitch_y=%{y}<extra></extra>",
         "legendgroup": "Strike",
         "marker": {
          "color": "#EF553B",
          "symbol": "circle"
         },
         "mode": "markers",
         "name": "Strike",
         "orientation": "v",
         "showlegend": true,
         "type": "scatter",
         "x": [
          -0.31928250286436954,
          1.0317370602345999,
          -0.1054648702586758,
          -0.18464501180204512,
          -0.5118356761214621,
          -0.41837206157285806,
          -0.6368383873365555,
          0.8121675927537576,
          -1.0938479542097264,
          0.3884609033051883,
          0.014688766258641133,
          -1.6055857791216535,
          1.235075932466985,
          0.5978332750840768,
          1.491674014411689,
          1.4270629766573675,
          -1.3563238562963718,
          -0.3676210507288087,
          0.4638561705394671,
          -0.5581727464515651,
          -1.0529512589854533,
          1.109460594056382,
          1.2714241685818484,
          2.0057710628461063,
          -1.3400222373501045,
          0.20594200199924426,
          0.7007910019700792,
          -1.5576440510141145,
          -0.2909714461495764,
          -1.2849501245667108,
          -0.8931327979285896,
          -0.4952513812632399,
          0.20694294000901478,
          1.0554088229384044,
          0.596574251186579,
          -1.09920259795604,
          -0.7254681976946398,
          -1.3669995422333192,
          -1.0738810452693897,
          0.5317526026600178,
          1.4761331726452533,
          -0.6989281127602393,
          -1.8317416198892242,
          0.07177061738855196,
          1.1816042288239774,
          1.1216458247042709,
          -0.2899776744045223,
          1.4164812991321716,
          -0.3068646427196263,
          -0.7391612696994506,
          -1.2187096949071696,
          0.14985721723864331,
          -1.19855516532481,
          -1.4728095934642027,
          0.6577302182345027,
          -0.9844557966303267,
          0.01786151907305184,
          1.0883107208488618,
          -1.49009998028643,
          1.832047247964639,
          -0.3671861662105422,
          -1.1205964232849945,
          -1.0029049632441969,
          -1.0526705864234518,
          1.4684044717568685,
          1.1152573726232733,
          -1.1530246666031292,
          1.4677501271757658,
          -1.3307665987343236,
          -1.8103387576446033,
          -1.4224927551713642,
          1.9049886195337462,
          0.9607383597913384,
          -1.5020032296547978,
          0.2832401781844103,
          1.3631952553674371,
          1.2343083559217587,
          0.5477588370780754,
          -0.06435477664984182,
          1.5580582662462161,
          -0.5311313311642679,
          -1.4532388128883973,
          2.0437591433588858,
          1.4073247796053219,
          -0.0475447103802,
          1.0566825240701239,
          0.19795280948684565,
          -0.5840609606021426,
          0.43642040669240617,
          0.03696348294337079,
          1.2189950251142694,
          0.7648577054612992,
          1.4170173193613231,
          1.1118745659053983,
          1.0087414912194206,
          0.7254795757875403,
          -0.7140734849633467,
          -0.9422398311029619,
          -1.5839392260902614,
          1.0128401239225786,
          -0.6965272984567956,
          0.5524961246847028,
          1.61707651838605,
          1.1135734203490435,
          1.824973208998527,
          0.5307324248373243,
          -1.1218913529382328,
          -1.2776561934034762,
          1.1550431697126153,
          1.48100361224242,
          -0.2369993489969191,
          -0.0514569609420094,
          1.246687852767407,
          -1.1112566224664608,
          -0.6788090206339735,
          -1.0253394898870323,
          0.4877215355569055,
          -1.4288871671584238,
          0.8955566908689666,
          0.4435640149909341,
          0.27836100853647966,
          -1.120613514896139,
          -1.5546007515653357,
          0.44668698973671395,
          -0.4045124048435273,
          -0.8857227044943531,
          -1.2118153216420202,
          1.3373758770040216,
          -1.5369261500070535,
          -0.16990128619936773,
          1.3777909762919087,
          -0.9152975083453082,
          1.2339619427388366,
          -0.3486020593069801,
          0.08430370162347402,
          1.0656537255523133,
          0.4291632296367305,
          1.11581073460893,
          1.0259319409056522,
          1.109341041941571,
          -1.4321975268456837,
          1.0948018284106547,
          1.1845208058299554,
          1.9469264056112094,
          1.0913670591368365,
          -1.1633139331195959,
          1.0455432511903688,
          -1.0203560510763832,
          1.817857938573262,
          0.03942724516480363,
          -0.22427901553931906,
          -0.21005718441094703,
          1.1280506666835386,
          -1.318651778842462,
          0.8490750067641786,
          1.2045034362040923,
          1.0091868258536403,
          -1.2627597344172612,
          -0.2612727631439352,
          -1.31437661013722,
          -1.2149117265503733,
          1.3048349131774324,
          1.125685393430279,
          -0.28089163245366405,
          -1.003728413334613,
          -1.4776557743110132,
          -0.07777029851641058,
          -0.35950072488451223,
          -1.7105822776056079,
          -1.6883258877574054,
          -1.382173302349555,
          -1.3528128619657955,
          0.25885794937888595,
          -1.2315373640450806,
          1.1395065739173906,
          -1.4193537921999293,
          1.212321924797301,
          -0.5743263941658823,
          0.9230287770112685,
          1.0372545552391452,
          0.3788471810673845,
          0.3326307900705137,
          -1.3355395147557834,
          -1.0483014282676733,
          -1.4540759838401274,
          0.26569415995893464,
          -0.7413313620353383,
          -0.9718489895338782,
          -1.0459802356581613,
          2.2069310068966463,
          -0.926072234300028,
          -1.0245193659728142,
          0.18064015139389125,
          -0.3919357283319997,
          -1.68364725705297,
          1.128879828274922,
          0.5719084341858331,
          -1.0494617262242818,
          1.2454874021624094,
          1.7958644332928,
          0.1528626682628884,
          -0.3849467266810185,
          0.7337543865342463,
          1.0047161928098391,
          -0.9993490721086733,
          1.4135974205680422,
          0.727971681896376,
          1.0017523682356015,
          -0.23724655627109337,
          1.3952244087273484,
          0.03671300584020343,
          -0.9716910741102353,
          1.08146690941953,
          0.43104350482318654,
          1.02837029836694,
          1.2591347843670406,
          0.2691413537992546,
          1.0550793387512727,
          0.2237313897328967,
          1.0155659491870472,
          -0.6061476272481721,
          1.4811246411678296,
          1.05115519233161,
          1.373084803071606,
          -1.0788134328830845,
          -1.0568126805712683,
          0.3814777412521761,
          -0.21095313104920174,
          0.5453787657520506,
          1.435612385991968,
          -1.0106966196493623,
          1.794511842096991,
          1.0168348468022235,
          1.4607831617756895,
          1.5139934329904896,
          -0.24105650908599938,
          -1.381490406259403,
          1.1990195730102813,
          1.9031351559849607,
          -0.43627178461462207,
          -1.0962203318082706,
          0.6962290501745456,
          -0.34485399106939485,
          1.349758706967328,
          1.1618043410675707,
          0.6583551320287176,
          -1.212480998281433,
          -0.7348210732445309,
          1.2727630357859625,
          0.1829682276203943,
          1.1912074079571615,
          1.1084537643630321,
          1.6051995824201406,
          1.0849738081146327,
          0.38793294288584895,
          0.9308655200276122,
          -0.6509147543028874,
          -1.001031709830054,
          1.5125977311006447,
          1.4067345167532992,
          1.3931486595147666,
          -1.0683914452601435,
          1.3558963691491186,
          0.20841142951832026,
          -1.8064071575595044,
          -1.1589962633258601,
          -1.4129967332245197,
          -1.0706131836342163,
          1.6189075033721347,
          1.7201232239059598,
          -0.011327908139759554,
          -0.8403500027105812,
          0.25805474845111837,
          -1.2035947986426219,
          0.18483568208969287,
          -1.7487222025300668,
          -1.336878993754994,
          -0.6250473465340242,
          0.7190817624772357,
          -1.36318715714904,
          0.3344469669111526,
          -0.0006690419348448775,
          1.5750055316678147,
          0.6880270257340144,
          0.757481313369171,
          -1.1659469626815242,
          -0.0025624214630881486,
          1.636263770823304,
          -1.600007908147823,
          -1.3619113978173165,
          -1.1750186272285779,
          1.1159636839981253,
          -0.09945404137568789,
          -0.18588563968752925,
          -0.4518973849651813,
          -1.0717579350170958,
          -0.6172446850925112,
          0.2621542161033371,
          1.0234203559704729,
          -0.6901226999118529,
          1.7981159026587288,
          1.0756930631724688,
          1.336483859928622,
          -1.2955567039991918,
          1.785396568689898,
          -1.132604109445968,
          1.383121372089376,
          0.4258618460858343,
          -0.3131478144766832,
          -2.0603353071121253,
          -1.204888431645184,
          1.025143750222319,
          -1.5844458828919408,
          -0.612685378315349,
          -0.4539387267146528,
          -1.2489333588971656,
          0.5324745367624893,
          1.0368558487994546,
          -0.22333506064966055,
          0.20407994156336448,
          0.3814797344846391,
          1.2269309194759643,
          0.2183720238439816,
          -0.8511680809552548,
          -1.1261591588894877,
          -0.7148289124952931,
          -1.2467847359349367,
          -1.501019084822236,
          1.1491553380959556,
          -1.069001321567484,
          -1.2544097907632072,
          1.3445450584835035,
          -0.3812845609445078,
          -0.5259098169347164,
          -0.5720742278189529,
          -1.1403372758946126,
          0.6120657983288077,
          1.4550891578200034,
          1.3010787837055733,
          0.08066203844216109,
          1.0103276013015061,
          -1.1000815973277533,
          0.08179115095832162,
          -0.18021530280875978,
          1.0933774369344285,
          -1.6462619647652394
         ],
         "xaxis": "x",
         "y": [
          1.1963669770974763,
          0.08232251912343173,
          1.2599508647355033,
          1.4707595485302334,
          1.160414508363122,
          1.1265176610419605,
          -1.5591043937236304,
          1.2336907418869787,
          0.9831161762852813,
          1.4354994542473056,
          -1.3565810743890538,
          0.09675008989514443,
          0.602958868312495,
          1.067782696942861,
          0.019835213574184066,
          -0.4240230577985521,
          -0.2952912801698841,
          1.8756123888617826,
          -1.1363324959113608,
          -1.1808834923633544,
          1.2477874921690595,
          0.8672610909370163,
          -1.0565131821331302,
          0.10375203991921804,
          -0.33782458888053907,
          1.272132041569466,
          -1.0059368320556519,
          -1.05071355118153,
          1.26685062386032,
          0.4390921641251738,
          -1.1760166460005503,
          -1.1867341726756369,
          1.847504661727882,
          -0.2903979942594598,
          -1.7656408902422167,
          -0.6646102998474493,
          -1.7242097108027659,
          -1.0024271753229954,
          -0.4903480049988375,
          -1.2065419234285635,
          0.6951164159246765,
          1.2003523255263155,
          0.5190249643728096,
          1.0152016186526824,
          0.4449010260463278,
          0.7355154989130617,
          -1.622991855086661,
          0.1770807517093213,
          -1.4376381559583182,
          1.1506318669879811,
          -0.25876565609319446,
          -1.3104878789997316,
          0.323498053588492,
          0.07397995820537805,
          -1.0600458284706773,
          1.4964192269225904,
          1.494907861147173,
          -1.4445718465695798,
          1.0468471316265164,
          -0.10388790892729642,
          1.4943604840143803,
          -0.23847243216708683,
          -0.6557910505624983,
          -1.3435867995232313,
          0.8138259082627342,
          -0.10220643716952854,
          -0.09435050837756197,
          0.27159144716805955,
          0.07791501220815154,
          -0.7376475703844966,
          0.3074014091711679,
          -0.5094856731242029,
          1.4832269323713188,
          -0.5042615410153779,
          -1.071014148100484,
          -0.599934120830423,
          -0.925932400233998,
          1.0935526888273996,
          -1.2181671082354306,
          -0.4198066089714836,
          -1.4967186270103856,
          -0.1569749158884502,
          -0.11360625854508945,
          0.5292024204827364,
          1.9236401466005393,
          -0.5029844563791918,
          -1.3270585555739853,
          1.1599155798170195,
          -1.9844184054929483,
          -1.0912523781117678,
          0.27342819785304473,
          -1.2402569153443848,
          -0.3438484150964945,
          0.90869562543775,
          0.3596257983917804,
          1.0218768215806422,
          -2.062691632510995,
          -1.5090313357314469,
          0.9497272650806268,
          0.07817121522625843,
          -1.1296579715988313,
          1.7260940588703326,
          0.15496497520485505,
          0.6782347333502597,
          -1.3226381619450767,
          1.0984383231397583,
          0.839254387017511,
          1.1474453210169766,
          -0.5112180566783554,
          -0.1885421061693017,
          -1.0236656207354247,
          2.0517131345570743,
          0.49642959538091996,
          0.344903980763258,
          1.0621573986514328,
          0.8239232133014154,
          1.4551650231495556,
          0.10360699104805632,
          -1.1490197271587508,
          -1.4587575131885244,
          1.8949509654083145,
          -0.015245383073297824,
          0.32763333808263145,
          -1.0382396453595368,
          1.0937887279197802,
          -1.87487381572209,
          -0.2224419140548957,
          -0.5497718047875038,
          1.2048498131285428,
          1.1659372708620552,
          0.17260764107126034,
          1.3539998458996056,
          -0.17518018748376765,
          -1.0001112524007003,
          -1.214713831160796,
          1.2048101843678853,
          1.2706654913149882,
          -1.4774228508479528,
          0.2598781712690355,
          -0.22233107331965563,
          -0.02120165239444198,
          0.6346070931109411,
          0.44501351314112125,
          -0.4867244534637306,
          0.17360015264438083,
          1.1550908388497356,
          0.7008395357994228,
          0.26134390684997283,
          0.5849114108748634,
          1.2651887690408625,
          1.5048560985564732,
          1.2174624957535238,
          0.9702651729820756,
          -0.7084502975647846,
          -1.3927052402449864,
          0.1196927098919987,
          -0.4713543390872556,
          1.443710585536192,
          1.0067483815294545,
          0.1631441323095671,
          -0.11388600460011174,
          -0.26088427425655514,
          0.14364352019763044,
          -1.5305100180762308,
          -0.9028256241811915,
          -0.5339173228511794,
          1.2089428892429857,
          -1.6946482274655275,
          -0.04024118845186467,
          0.47798932669333527,
          -0.7633312817194631,
          -0.08729612543543308,
          -1.8456718786146364,
          0.8416901813698305,
          -0.08146403831177033,
          -0.2605949964949427,
          -1.1258952114370027,
          1.0669838206791435,
          -1.082926774509338,
          1.9412198837920918,
          -1.1296233880859192,
          1.268332276757594,
          0.8365885854820178,
          0.6523420641148383,
          0.38691686605790854,
          1.169600735858094,
          1.4619721323325596,
          -1.0231497016896218,
          -0.3927194274121255,
          -0.12605553847693515,
          1.247810613544579,
          -0.7023092014584766,
          1.3408647255007264,
          -1.0936084868783333,
          -1.179978292011226,
          1.8196648418125319,
          1.0883975919379012,
          0.33215227769365646,
          0.6039590952706462,
          -0.4909747050755364,
          1.8057250483527427,
          1.3014145925317073,
          1.3598823786941858,
          -0.12942700481473352,
          -1.1781715004407352,
          0.04788849371165254,
          1.0997656146633095,
          0.35667138348253363,
          -1.6389441488171077,
          -0.22275091953439186,
          1.5773421107239567,
          -1.40497286186037,
          0.53637293280983,
          -1.0838276693006277,
          0.25200734244277095,
          -0.12072368302803191,
          1.0056189302811043,
          0.8075478242592387,
          -1.4159529759476406,
          0.38331919614564336,
          -1.55069168034167,
          0.520492520256664,
          -0.08386918901359944,
          -0.1823171818359496,
          1.2196792874638411,
          1.0160521676486123,
          -1.1653081872454134,
          1.2858552554082374,
          -1.240595131288758,
          0.7512353786338449,
          -0.29327982473668185,
          0.9153664197552523,
          -0.14297339401967396,
          -0.14641245554447563,
          0.5298758013358724,
          1.0541866839590204,
          1.0918119633439574,
          0.08407657565194271,
          -0.056781033207937724,
          -1.053039266245624,
          -0.042210478766264575,
          1.1990372129897628,
          -1.1838002513838246,
          -0.9804503034694072,
          -1.515016101086597,
          1.1143852979968152,
          -0.05095685467604325,
          2.10447765415485,
          -0.763292849193271,
          -1.1460879334378713,
          0.3702883121687504,
          0.0692280188643238,
          0.4702535940762488,
          -0.629877915148252,
          1.361081433850173,
          -1.1566441362136466,
          1.2104440801613774,
          0.6813879920591966,
          -0.5097650609780241,
          0.23879715967200224,
          -0.7303047509101245,
          -0.7120557987172048,
          -0.29771579941800597,
          1.753222670246182,
          0.4453304965881314,
          0.41779142763883415,
          -0.5643515858087933,
          -0.15742888141420947,
          -0.06842714353244776,
          0.904165374202281,
          -1.326069991982768,
          1.149390519953525,
          1.1608686219563273,
          0.15916024557930147,
          1.0053654277813682,
          0.1719365325280626,
          -0.15178989765715425,
          -1.587599181891792,
          -1.1805916307361835,
          -0.2415178767650054,
          -1.1355582912990492,
          1.0474726427417007,
          0.8809758021935996,
          -1.4708512073853954,
          1.1054188211364995,
          -1.702481768293273,
          1.6156310133949434,
          0.6951183277945946,
          0.582857611278399,
          -1.0780293262260414,
          0.3064433804775956,
          1.4087892115231682,
          1.1287137337785746,
          1.025296875973395,
          -1.221173062819344,
          0.5542675039962679,
          1.1688330908438254,
          1.1903627608686729,
          0.9253795876434718,
          -1.3457288894461479,
          0.19531636953383222,
          -0.8757295111657221,
          -0.5221723775657588,
          1.3041802105371845,
          0.9913357884129903,
          1.2390088772529946,
          0.11986766033540915,
          -1.0446067257554439,
          -1.4468666164641997,
          -0.40954272965611854,
          -0.28018522283630054,
          -0.6212703311552128,
          -1.1881838812014618,
          1.204960680919416,
          -1.979315915348959,
          -1.0664446022240615,
          -1.0560056804600508,
          -1.5439296805050888,
          1.3048644950663875,
          -1.1365629842760139,
          1.5224071171212854,
          0.05820012474991955,
          1.5142244905677638,
          1.1256384153046328,
          0.5712433826107121,
          -1.1765725105055802,
          0.9194192409467373,
          -0.3507891809167886,
          -0.2215244849131581,
          0.5510920364661324,
          1.0004545466820574,
          0.38696066628696485,
          -1.7775466813598217,
          1.2606484386418058,
          -1.1724527503692401,
          -0.6806113575535561,
          1.349362149438334,
          -0.11392637695212057,
          0.4947781007636794,
          1.0761920103888085,
          0.8469681166519445,
          -0.6762786378107906,
          -1.1581236396992558,
          -1.2506928984046373,
          0.6674170810319963,
          0.05378186906128127
         ],
         "yaxis": "y"
        },
        {
         "hovertemplate": "outcome=Ball<br>pitch_x=%{x}<br>pitch_y=%{y}<extra></extra>",
         "legendgroup": "Ball",
         "marker": {
          "color": "#00cc96",
          "symbol": "circle"
         },
         "mode": "markers",
         "name": "Ball",
         "orientation": "v",
         "showlegend": true,
         "type": "scatter",
         "x": [
          -2.116618823187927,
          1.0904263115901773,
          1.8258592525809947,
          1.8361571747693703,
          2.2727016679473935,
          -1.7485766388292892,
          2.2290574529658467,
          1.5684711782885934,
          1.9030299788070935,
          -1.7444269212219279,
          2.002585024503378,
          -0.7822579390040577,
          -0.7391556685308751,
          -2.982961217925239,
          -1.1930064769159041,
          -0.16944908971874703,
          -1.26114688937183,
          -1.3258965437129822,
          1.3083021777142352
         ],
         "xaxis": "x",
         "y": [
          1.4187862534910791,
          2.383698269179477,
          1.4500824427718737,
          1.7497535113846558,
          -0.9523244017095266,
          -2.179842637230512,
          1.0882477917223679,
          -1.7881441513480671,
          1.5897219848454838,
          -1.5124984631243819,
          0.9053751476780385,
          -2.211278161840088,
          2.2198320054449114,
          -0.46596693061563754,
          -2.1753605953948165,
          2.3739546396911804,
          2.004640503712087,
          1.8415973453234016,
          2.1439187129645605
         ],
         "yaxis": "y"
        }
       ],
       "layout": {
        "legend": {
         "title": {
          "text": "outcome"
         },
         "tracegroupgap": 0
        },
        "template": {
         "data": {
          "bar": [
           {
            "error_x": {
             "color": "#2a3f5f"
            },
            "error_y": {
             "color": "#2a3f5f"
            },
            "marker": {
             "line": {
              "color": "#E5ECF6",
              "width": 0.5
             },
             "pattern": {
              "fillmode": "overlay",
              "size": 10,
              "solidity": 0.2
             }
            },
            "type": "bar"
           }
          ],
          "barpolar": [
           {
            "marker": {
             "line": {
              "color": "#E5ECF6",
              "width": 0.5
             },
             "pattern": {
              "fillmode": "overlay",
              "size": 10,
              "solidity": 0.2
             }
            },
            "type": "barpolar"
           }
          ],
          "carpet": [
           {
            "aaxis": {
             "endlinecolor": "#2a3f5f",
             "gridcolor": "white",
             "linecolor": "white",
             "minorgridcolor": "white",
             "startlinecolor": "#2a3f5f"
            },
            "baxis": {
             "endlinecolor": "#2a3f5f",
             "gridcolor": "white",
             "linecolor": "white",
             "minorgridcolor": "white",
             "startlinecolor": "#2a3f5f"
            },
            "type": "carpet"
           }
          ],
          "choropleth": [
           {
            "colorbar": {
             "outlinewidth": 0,
             "ticks": ""
            },
            "type": "choropleth"
           }
          ],
          "contour": [
           {
            "colorbar": {
             "outlinewidth": 0,
             "ticks": ""
            },
            "colorscale": [
             [
              0,
              "#0d0887"
             ],
             [
              0.1111111111111111,
              "#46039f"
             ],
             [
              0.2222222222222222,
              "#7201a8"
             ],
             [
              0.3333333333333333,
              "#9c179e"
             ],
             [
              0.4444444444444444,
              "#bd3786"
             ],
             [
              0.5555555555555556,
              "#d8576b"
             ],
             [
              0.6666666666666666,
              "#ed7953"
             ],
             [
              0.7777777777777778,
              "#fb9f3a"
             ],
             [
              0.8888888888888888,
              "#fdca26"
             ],
             [
              1,
              "#f0f921"
             ]
            ],
            "type": "contour"
           }
          ],
          "contourcarpet": [
           {
            "colorbar": {
             "outlinewidth": 0,
             "ticks": ""
            },
            "type": "contourcarpet"
           }
          ],
          "heatmap": [
           {
            "colorbar": {
             "outlinewidth": 0,
             "ticks": ""
            },
            "colorscale": [
             [
              0,
              "#0d0887"
             ],
             [
              0.1111111111111111,
              "#46039f"
             ],
             [
              0.2222222222222222,
              "#7201a8"
             ],
             [
              0.3333333333333333,
              "#9c179e"
             ],
             [
              0.4444444444444444,
              "#bd3786"
             ],
             [
              0.5555555555555556,
              "#d8576b"
             ],
             [
              0.6666666666666666,
              "#ed7953"
             ],
             [
              0.7777777777777778,
              "#fb9f3a"
             ],
             [
              0.8888888888888888,
              "#fdca26"
             ],
             [
              1,
              "#f0f921"
             ]
            ],
            "type": "heatmap"
           }
          ],
          "heatmapgl": [
           {
            "colorbar": {
             "outlinewidth": 0,
             "ticks": ""
            },
            "colorscale": [
             [
              0,
              "#0d0887"
             ],
             [
              0.1111111111111111,
              "#46039f"
             ],
             [
              0.2222222222222222,
              "#7201a8"
             ],
             [
              0.3333333333333333,
              "#9c179e"
             ],
             [
              0.4444444444444444,
              "#bd3786"
             ],
             [
              0.5555555555555556,
              "#d8576b"
             ],
             [
              0.6666666666666666,
              "#ed7953"
             ],
             [
              0.7777777777777778,
              "#fb9f3a"
             ],
             [
              0.8888888888888888,
              "#fdca26"
             ],
             [
              1,
              "#f0f921"
             ]
            ],
            "type": "heatmapgl"
           }
          ],
          "histogram": [
           {
            "marker": {
             "pattern": {
              "fillmode": "overlay",
              "size": 10,
              "solidity": 0.2
             }
            },
            "type": "histogram"
           }
          ],
          "histogram2d": [
           {
            "colorbar": {
             "outlinewidth": 0,
             "ticks": ""
            },
            "colorscale": [
             [
              0,
              "#0d0887"
             ],
             [
              0.1111111111111111,
              "#46039f"
             ],
             [
              0.2222222222222222,
              "#7201a8"
             ],
             [
              0.3333333333333333,
              "#9c179e"
             ],
             [
              0.4444444444444444,
              "#bd3786"
             ],
             [
              0.5555555555555556,
              "#d8576b"
             ],
             [
              0.6666666666666666,
              "#ed7953"
             ],
             [
              0.7777777777777778,
              "#fb9f3a"
             ],
             [
              0.8888888888888888,
              "#fdca26"
             ],
             [
              1,
              "#f0f921"
             ]
            ],
            "type": "histogram2d"
           }
          ],
          "histogram2dcontour": [
           {
            "colorbar": {
             "outlinewidth": 0,
             "ticks": ""
            },
            "colorscale": [
             [
              0,
              "#0d0887"
             ],
             [
              0.1111111111111111,
              "#46039f"
             ],
             [
              0.2222222222222222,
              "#7201a8"
             ],
             [
              0.3333333333333333,
              "#9c179e"
             ],
             [
              0.4444444444444444,
              "#bd3786"
             ],
             [
              0.5555555555555556,
              "#d8576b"
             ],
             [
              0.6666666666666666,
              "#ed7953"
             ],
             [
              0.7777777777777778,
              "#fb9f3a"
             ],
             [
              0.8888888888888888,
              "#fdca26"
             ],
             [
              1,
              "#f0f921"
             ]
            ],
            "type": "histogram2dcontour"
           }
          ],
          "mesh3d": [
           {
            "colorbar": {
             "outlinewidth": 0,
             "ticks": ""
            },
            "type": "mesh3d"
           }
          ],
          "parcoords": [
           {
            "line": {
             "colorbar": {
              "outlinewidth": 0,
              "ticks": ""
             }
            },
            "type": "parcoords"
           }
          ],
          "pie": [
           {
            "automargin": true,
            "type": "pie"
           }
          ],
          "scatter": [
           {
            "fillpattern": {
             "fillmode": "overlay",
             "size": 10,
             "solidity": 0.2
            },
            "type": "scatter"
           }
          ],
          "scatter3d": [
           {
            "line": {
             "colorbar": {
              "outlinewidth": 0,
              "ticks": ""
             }
            },
            "marker": {
             "colorbar": {
              "outlinewidth": 0,
              "ticks": ""
             }
            },
            "type": "scatter3d"
           }
          ],
          "scattercarpet": [
           {
            "marker": {
             "colorbar": {
              "outlinewidth": 0,
              "ticks": ""
             }
            },
            "type": "scattercarpet"
           }
          ],
          "scattergeo": [
           {
            "marker": {
             "colorbar": {
              "outlinewidth": 0,
              "ticks": ""
             }
            },
            "type": "scattergeo"
           }
          ],
          "scattergl": [
           {
            "marker": {
             "colorbar": {
              "outlinewidth": 0,
              "ticks": ""
             }
            },
            "type": "scattergl"
           }
          ],
          "scattermapbox": [
           {
            "marker": {
             "colorbar": {
              "outlinewidth": 0,
              "ticks": ""
             }
            },
            "type": "scattermapbox"
           }
          ],
          "scatterpolar": [
           {
            "marker": {
             "colorbar": {
              "outlinewidth": 0,
              "ticks": ""
             }
            },
            "type": "scatterpolar"
           }
          ],
          "scatterpolargl": [
           {
            "marker": {
             "colorbar": {
              "outlinewidth": 0,
              "ticks": ""
             }
            },
            "type": "scatterpolargl"
           }
          ],
          "scatterternary": [
           {
            "marker": {
             "colorbar": {
              "outlinewidth": 0,
              "ticks": ""
             }
            },
            "type": "scatterternary"
           }
          ],
          "surface": [
           {
            "colorbar": {
             "outlinewidth": 0,
             "ticks": ""
            },
            "colorscale": [
             [
              0,
              "#0d0887"
             ],
             [
              0.1111111111111111,
              "#46039f"
             ],
             [
              0.2222222222222222,
              "#7201a8"
             ],
             [
              0.3333333333333333,
              "#9c179e"
             ],
             [
              0.4444444444444444,
              "#bd3786"
             ],
             [
              0.5555555555555556,
              "#d8576b"
             ],
             [
              0.6666666666666666,
              "#ed7953"
             ],
             [
              0.7777777777777778,
              "#fb9f3a"
             ],
             [
              0.8888888888888888,
              "#fdca26"
             ],
             [
              1,
              "#f0f921"
             ]
            ],
            "type": "surface"
           }
          ],
          "table": [
           {
            "cells": {
             "fill": {
              "color": "#EBF0F8"
             },
             "line": {
              "color": "white"
             }
            },
            "header": {
             "fill": {
              "color": "#C8D4E3"
             },
             "line": {
              "color": "white"
             }
            },
            "type": "table"
           }
          ]
         },
         "layout": {
          "annotationdefaults": {
           "arrowcolor": "#2a3f5f",
           "arrowhead": 0,
           "arrowwidth": 1
          },
          "autotypenumbers": "strict",
          "coloraxis": {
           "colorbar": {
            "outlinewidth": 0,
            "ticks": ""
           }
          },
          "colorscale": {
           "diverging": [
            [
             0,
             "#8e0152"
            ],
            [
             0.1,
             "#c51b7d"
            ],
            [
             0.2,
             "#de77ae"
            ],
            [
             0.3,
             "#f1b6da"
            ],
            [
             0.4,
             "#fde0ef"
            ],
            [
             0.5,
             "#f7f7f7"
            ],
            [
             0.6,
             "#e6f5d0"
            ],
            [
             0.7,
             "#b8e186"
            ],
            [
             0.8,
             "#7fbc41"
            ],
            [
             0.9,
             "#4d9221"
            ],
            [
             1,
             "#276419"
            ]
           ],
           "sequential": [
            [
             0,
             "#0d0887"
            ],
            [
             0.1111111111111111,
             "#46039f"
            ],
            [
             0.2222222222222222,
             "#7201a8"
            ],
            [
             0.3333333333333333,
             "#9c179e"
            ],
            [
             0.4444444444444444,
             "#bd3786"
            ],
            [
             0.5555555555555556,
             "#d8576b"
            ],
            [
             0.6666666666666666,
             "#ed7953"
            ],
            [
             0.7777777777777778,
             "#fb9f3a"
            ],
            [
             0.8888888888888888,
             "#fdca26"
            ],
            [
             1,
             "#f0f921"
            ]
           ],
           "sequentialminus": [
            [
             0,
             "#0d0887"
            ],
            [
             0.1111111111111111,
             "#46039f"
            ],
            [
             0.2222222222222222,
             "#7201a8"
            ],
            [
             0.3333333333333333,
             "#9c179e"
            ],
            [
             0.4444444444444444,
             "#bd3786"
            ],
            [
             0.5555555555555556,
             "#d8576b"
            ],
            [
             0.6666666666666666,
             "#ed7953"
            ],
            [
             0.7777777777777778,
             "#fb9f3a"
            ],
            [
             0.8888888888888888,
             "#fdca26"
            ],
            [
             1,
             "#f0f921"
            ]
           ]
          },
          "colorway": [
           "#636efa",
           "#EF553B",
           "#00cc96",
           "#ab63fa",
           "#FFA15A",
           "#19d3f3",
           "#FF6692",
           "#B6E880",
           "#FF97FF",
           "#FECB52"
          ],
          "font": {
           "color": "#2a3f5f"
          },
          "geo": {
           "bgcolor": "white",
           "lakecolor": "white",
           "landcolor": "#E5ECF6",
           "showlakes": true,
           "showland": true,
           "subunitcolor": "white"
          },
          "hoverlabel": {
           "align": "left"
          },
          "hovermode": "closest",
          "mapbox": {
           "style": "light"
          },
          "paper_bgcolor": "white",
          "plot_bgcolor": "#E5ECF6",
          "polar": {
           "angularaxis": {
            "gridcolor": "white",
            "linecolor": "white",
            "ticks": ""
           },
           "bgcolor": "#E5ECF6",
           "radialaxis": {
            "gridcolor": "white",
            "linecolor": "white",
            "ticks": ""
           }
          },
          "scene": {
           "xaxis": {
            "backgroundcolor": "#E5ECF6",
            "gridcolor": "white",
            "gridwidth": 2,
            "linecolor": "white",
            "showbackground": true,
            "ticks": "",
            "zerolinecolor": "white"
           },
           "yaxis": {
            "backgroundcolor": "#E5ECF6",
            "gridcolor": "white",
            "gridwidth": 2,
            "linecolor": "white",
            "showbackground": true,
            "ticks": "",
            "zerolinecolor": "white"
           },
           "zaxis": {
            "backgroundcolor": "#E5ECF6",
            "gridcolor": "white",
            "gridwidth": 2,
            "linecolor": "white",
            "showbackground": true,
            "ticks": "",
            "zerolinecolor": "white"
           }
          },
          "shapedefaults": {
           "line": {
            "color": "#2a3f5f"
           }
          },
          "ternary": {
           "aaxis": {
            "gridcolor": "white",
            "linecolor": "white",
            "ticks": ""
           },
           "baxis": {
            "gridcolor": "white",
            "linecolor": "white",
            "ticks": ""
           },
           "bgcolor": "#E5ECF6",
           "caxis": {
            "gridcolor": "white",
            "linecolor": "white",
            "ticks": ""
           }
          },
          "title": {
           "x": 0.05
          },
          "xaxis": {
           "automargin": true,
           "gridcolor": "white",
           "linecolor": "white",
           "ticks": "",
           "title": {
            "standoff": 15
           },
           "zerolinecolor": "white",
           "zerolinewidth": 2
          },
          "yaxis": {
           "automargin": true,
           "gridcolor": "white",
           "linecolor": "white",
           "ticks": "",
           "title": {
            "standoff": 15
           },
           "zerolinecolor": "white",
           "zerolinewidth": 2
          }
         }
        },
        "title": {
         "text": "Hitter outcome"
        },
        "xaxis": {
         "anchor": "y",
         "domain": [
          0,
          1
         ],
         "title": {
          "text": "pitch_x"
         }
        },
        "yaxis": {
         "anchor": "x",
         "domain": [
          0,
          1
         ],
         "title": {
          "text": "pitch_y"
         }
        }
       }
      }
     },
     "metadata": {},
     "output_type": "display_data"
    }
   ],
   "source": [
    "\n",
    "pitch_data.show_scatter(\"pitch_x\", \"pitch_y\", \"Hitter outcome\", color='outcome')"
   ]
  }
 ],
 "metadata": {
  "kernelspec": {
   "display_name": "Python 3",
   "language": "python",
   "name": "python3"
  },
  "language_info": {
   "codemirror_mode": {
    "name": "ipython",
    "version": 3
   },
   "file_extension": ".py",
   "mimetype": "text/x-python",
   "name": "python",
   "nbconvert_exporter": "python",
   "pygments_lexer": "ipython3",
   "version": "3.11.7"
  }
 },
 "nbformat": 4,
 "nbformat_minor": 2
}
