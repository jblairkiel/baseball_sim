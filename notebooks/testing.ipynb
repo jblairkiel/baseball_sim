{
 "cells": [
  {
   "cell_type": "code",
   "execution_count": 1,
   "metadata": {},
   "outputs": [],
   "source": [
    "%load_ext autoreload\n",
    "%reload_ext autoreload"
   ]
  },
  {
   "cell_type": "code",
   "execution_count": 2,
   "metadata": {},
   "outputs": [
    {
     "name": "stdout",
     "output_type": "stream",
     "text": [
      "Team #47 (0-0) \n",
      " Lineup: \n",
      "\t David Wilder (#58)\n",
      "\tWilliam Wilson (#79)\n",
      "\tGary Dobbins (#28)\n",
      "\tCharles Gough (#88)\n",
      "\tEdward Bright (#66)\n",
      "\tRobert Benoit (#77)\n",
      "\tDanny Sacco (#79)\n",
      "\tEric Griffin (#72)\n",
      "\tReed Irwin (#69)\n"
     ]
    }
   ],
   "source": [
    "import os, sys\n",
    "curPath = os.path.abspath('')\n",
    "for i in range(1):\n",
    "    curPath = os.path.join(curPath, \"..\")\n",
    "    sys.path.append(curPath)\n",
    "\n",
    "from src.util.generation import generate_team, generate_league, generate_pitch\n",
    "import plotly.express as px\n",
    "import pandas as pd\n",
    "from src.analysis.pitch_data import Pitch_Data\n",
    "from src.util.logic.pitch_logic import PitchLogic\n",
    "\n",
    "\n",
    "a = generate_team()\n",
    "\n",
    "print(str(a))"
   ]
  },
  {
   "cell_type": "code",
   "execution_count": 3,
   "metadata": {},
   "outputs": [
    {
     "name": "stdout",
     "output_type": "stream",
     "text": [
      "{'pitch_x': -0.8775024663454094, 'pitch_y': -0.4626173390848842, 'pitch_type': 'chcur'}\n",
      "{'pitch_x': 0.4492663663262906, 'pitch_y': -0.41116134077321814, 'pitch_type': 'chcur'}\n",
      "{'pitch_x': 1.0337430203174258, 'pitch_y': -1.3042999255936445, 'pitch_type': 'chcur'}\n",
      "{'pitch_x': -0.039894796008074225, 'pitch_y': -0.978112789948657, 'pitch_type': 'fb'}\n",
      "{'pitch_x': -0.27295041919055774, 'pitch_y': -0.03138686072077536, 'pitch_type': 'fb'}\n",
      "{'pitch_x': 1.5939791915990627, 'pitch_y': 0.524054914801757, 'pitch_type': 'chcur'}\n",
      "{'pitch_x': 0.8893845018399479, 'pitch_y': 0.5937640832142232, 'pitch_type': 'chcur'}\n",
      "{'pitch_x': 0.7122664910137702, 'pitch_y': -0.23183250569012828, 'pitch_type': 'chcur'}\n",
      "{'pitch_x': -1.058628963774388, 'pitch_y': 1.0261563630973174, 'pitch_type': 'chcur'}\n",
      "{'pitch_x': 0.014281271638240996, 'pitch_y': 0.17835844744663076, 'pitch_type': 'fb'}\n",
      "{'pitch_x': -0.7006985421848091, 'pitch_y': 1.0169512014112716, 'pitch_type': 'fb'}\n",
      "{'pitch_x': 0.815160707207183, 'pitch_y': -0.43665069108719096, 'pitch_type': 'chcur'}\n",
      "{'pitch_x': 1.0405404610541962, 'pitch_y': -1.2412423211735175, 'pitch_type': 'fb'}\n",
      "{'pitch_x': 0.3587065310637057, 'pitch_y': -0.10818001019070372, 'pitch_type': 'fb'}\n",
      "{'pitch_x': 0.9898240843545612, 'pitch_y': 1.3687413486447377, 'pitch_type': 'fb'}\n",
      "{'pitch_x': -0.6360880164117962, 'pitch_y': -1.8814672574962112, 'pitch_type': 'fb'}\n",
      "{'pitch_x': 0.933665120710453, 'pitch_y': 0.43335172824719365, 'pitch_type': 'chcur'}\n",
      "{'pitch_x': 1.8697951499840304, 'pitch_y': -1.4629929198080405, 'pitch_type': 'fb'}\n",
      "{'pitch_x': 0.3451208286623291, 'pitch_y': -0.33597475324505144, 'pitch_type': 'chcur'}\n",
      "{'pitch_x': -1.0478735311983591, 'pitch_y': 1.948335180695602, 'pitch_type': 'fb'}\n",
      "{'pitch_x': -0.7016533406739699, 'pitch_y': 0.5769625384422713, 'pitch_type': 'fb'}\n",
      "{'pitch_x': -0.9910830540515524, 'pitch_y': -0.2624965606862296, 'pitch_type': 'chcur'}\n",
      "{'pitch_x': 0.4213729055659978, 'pitch_y': -1.1254061454867366, 'pitch_type': 'chcur'}\n",
      "{'pitch_x': -1.847025765064087, 'pitch_y': 0.6004748314969707, 'pitch_type': 'chcur'}\n",
      "{'pitch_x': -0.5656974785843879, 'pitch_y': 1.0133733668929836, 'pitch_type': 'chcur'}\n",
      "{'pitch_x': -1.3601461950791718, 'pitch_y': -0.11387819868174556, 'pitch_type': 'fb'}\n",
      "{'pitch_x': -0.11136175892604859, 'pitch_y': 0.062447860077246745, 'pitch_type': 'chcur'}\n",
      "{'pitch_x': 1.1104140972389025, 'pitch_y': -0.7121729672335306, 'pitch_type': 'chcur'}\n",
      "{'pitch_x': 1.791150810012649, 'pitch_y': -1.2133865475554941, 'pitch_type': 'chcur'}\n",
      "{'pitch_x': 0.8175759996923486, 'pitch_y': -0.5642307114287017, 'pitch_type': 'chcur'}\n",
      "{'pitch_x': 1.2401883415735413, 'pitch_y': -1.1899955709403705, 'pitch_type': 'chcur'}\n",
      "{'pitch_x': 1.3499698509957874, 'pitch_y': 0.1071912439033363, 'pitch_type': 'chcur'}\n",
      "{'pitch_x': 0.3504558492184266, 'pitch_y': -0.21498718359235558, 'pitch_type': 'chcur'}\n",
      "{'pitch_x': 0.7526945439585062, 'pitch_y': 0.3257446795028264, 'pitch_type': 'fb'}\n",
      "{'pitch_x': -1.0309650364121905, 'pitch_y': -0.14903310175740977, 'pitch_type': 'fb'}\n",
      "{'pitch_x': -0.12305461507394759, 'pitch_y': 1.1059153236604478, 'pitch_type': 'chcur'}\n",
      "{'pitch_x': -0.34529593771429823, 'pitch_y': 1.606728200103288, 'pitch_type': 'chcur'}\n",
      "{'pitch_x': 0.6918043084679069, 'pitch_y': 1.8313328658109747, 'pitch_type': 'chcur'}\n",
      "{'pitch_x': 0.5865910766220938, 'pitch_y': 1.4461563356372886, 'pitch_type': 'chcur'}\n",
      "{'pitch_x': -0.053349493200215925, 'pitch_y': -0.32219754554180063, 'pitch_type': 'chcur'}\n",
      "{'pitch_x': 0.2637494195999698, 'pitch_y': 0.22786748714965194, 'pitch_type': 'chcur'}\n",
      "{'pitch_x': -0.4253489359715247, 'pitch_y': -0.12443676625121772, 'pitch_type': 'chcur'}\n",
      "{'pitch_x': -0.12932465726639686, 'pitch_y': -2.1072838866371413, 'pitch_type': 'fb'}\n",
      "{'pitch_x': 0.6928744502133789, 'pitch_y': -1.300603911248323, 'pitch_type': 'fb'}\n",
      "{'pitch_x': -0.1474103244321888, 'pitch_y': 0.716742996817732, 'pitch_type': 'chcur'}\n",
      "{'pitch_x': -0.8834917614323459, 'pitch_y': -0.6139736133676834, 'pitch_type': 'chcur'}\n",
      "{'pitch_x': 0.6854748701462131, 'pitch_y': -0.44491543997193556, 'pitch_type': 'fb'}\n",
      "{'pitch_x': 1.0457493910485642, 'pitch_y': -0.4574483359868837, 'pitch_type': 'chcur'}\n",
      "{'pitch_x': -0.8136354515787525, 'pitch_y': -0.8318847047150195, 'pitch_type': 'fb'}\n",
      "{'pitch_x': 0.6451465757543747, 'pitch_y': 0.8176919865631883, 'pitch_type': 'chcur'}\n",
      "{'pitch_x': -2.6193406641790924, 'pitch_y': -0.35685138223938884, 'pitch_type': 'fb'}\n",
      "{'pitch_x': -1.1421051933692392, 'pitch_y': 0.27134204666437267, 'pitch_type': 'fb'}\n",
      "{'pitch_x': -0.4334589935761362, 'pitch_y': -0.16863522809396553, 'pitch_type': 'fb'}\n",
      "{'pitch_x': -0.9998508494692144, 'pitch_y': -0.8291188029492406, 'pitch_type': 'chcur'}\n",
      "{'pitch_x': -0.8573012126758057, 'pitch_y': -0.20380624204404477, 'pitch_type': 'fb'}\n",
      "{'pitch_x': -0.09993908927747694, 'pitch_y': -0.6041950052172058, 'pitch_type': 'chcur'}\n",
      "{'pitch_x': 0.6080848482797173, 'pitch_y': 0.06515849510651109, 'pitch_type': 'fb'}\n",
      "{'pitch_x': -0.9973738833587951, 'pitch_y': 1.0983944769955654, 'pitch_type': 'chcur'}\n",
      "{'pitch_x': 0.24265443654256177, 'pitch_y': 0.737780061959537, 'pitch_type': 'fb'}\n",
      "{'pitch_x': 0.1456999589101535, 'pitch_y': 0.6656320114077432, 'pitch_type': 'chcur'}\n",
      "{'pitch_x': -0.28040922544336394, 'pitch_y': -0.3462159648750431, 'pitch_type': 'chcur'}\n",
      "{'pitch_x': 0.4781674292650927, 'pitch_y': -2.958329265318324, 'pitch_type': 'chcur'}\n",
      "{'pitch_x': 1.3675145565186873, 'pitch_y': -0.3573466946201181, 'pitch_type': 'fb'}\n",
      "{'pitch_x': -0.3694338258136781, 'pitch_y': 0.34346028323926686, 'pitch_type': 'chcur'}\n",
      "{'pitch_x': 1.4932054721599677, 'pitch_y': 1.1158062596587042, 'pitch_type': 'fb'}\n",
      "{'pitch_x': -1.1647603688654806, 'pitch_y': -0.8153909998732305, 'pitch_type': 'chcur'}\n",
      "{'pitch_x': -0.548372393036865, 'pitch_y': -0.803197007527556, 'pitch_type': 'fb'}\n",
      "{'pitch_x': 0.007026494325793463, 'pitch_y': 0.13698674192284496, 'pitch_type': 'fb'}\n",
      "{'pitch_x': -1.6976902807350929, 'pitch_y': -1.765292605903706, 'pitch_type': 'chcur'}\n",
      "{'pitch_x': -0.7101880498147106, 'pitch_y': -1.7358482473305898, 'pitch_type': 'fb'}\n",
      "{'pitch_x': -0.16587406165876376, 'pitch_y': 0.09590334010779358, 'pitch_type': 'fb'}\n",
      "{'pitch_x': 0.17366482489984333, 'pitch_y': -0.7653915084296564, 'pitch_type': 'fb'}\n",
      "{'pitch_x': -0.9114181306824061, 'pitch_y': -1.5154380864297308, 'pitch_type': 'fb'}\n",
      "{'pitch_x': -0.27693111508902196, 'pitch_y': 0.8143428526342624, 'pitch_type': 'chcur'}\n",
      "{'pitch_x': -0.42059478929415195, 'pitch_y': 0.17115290554266374, 'pitch_type': 'chcur'}\n",
      "{'pitch_x': 0.48998450918955644, 'pitch_y': 0.9016584238630053, 'pitch_type': 'fb'}\n",
      "{'pitch_x': 0.0013120425710940807, 'pitch_y': 0.3869337178917404, 'pitch_type': 'chcur'}\n",
      "{'pitch_x': -1.7451472767600735, 'pitch_y': 0.13237526562846902, 'pitch_type': 'chcur'}\n",
      "{'pitch_x': -0.12821542570100802, 'pitch_y': 1.6452905933241144, 'pitch_type': 'fb'}\n",
      "{'pitch_x': 0.7750669104546164, 'pitch_y': -0.8253629727648758, 'pitch_type': 'chcur'}\n",
      "{'pitch_x': 0.33788387128779157, 'pitch_y': -0.7748796823174626, 'pitch_type': 'fb'}\n",
      "{'pitch_x': 0.0585386304014326, 'pitch_y': 0.19478241690848863, 'pitch_type': 'chcur'}\n",
      "{'pitch_x': -1.004130853106784, 'pitch_y': -0.4396371869565073, 'pitch_type': 'chcur'}\n",
      "{'pitch_x': 0.6709601094111425, 'pitch_y': -1.3023638368412884, 'pitch_type': 'fb'}\n",
      "{'pitch_x': -0.562217666298824, 'pitch_y': 1.2816367446032189, 'pitch_type': 'chcur'}\n",
      "{'pitch_x': -0.40948788358102317, 'pitch_y': -0.08322497236266224, 'pitch_type': 'chcur'}\n",
      "{'pitch_x': 0.530031784026096, 'pitch_y': 0.7398258148184782, 'pitch_type': 'fb'}\n",
      "{'pitch_x': 0.4265881954539518, 'pitch_y': 0.44866287471761, 'pitch_type': 'chcur'}\n",
      "{'pitch_x': -0.17539530043075083, 'pitch_y': -0.9284576272649693, 'pitch_type': 'fb'}\n",
      "{'pitch_x': -0.015712335499789978, 'pitch_y': -0.829114632980488, 'pitch_type': 'chcur'}\n",
      "{'pitch_x': -1.1247095887486644, 'pitch_y': 0.6178036369313245, 'pitch_type': 'fb'}\n",
      "{'pitch_x': -0.21667218170294536, 'pitch_y': 0.20484361532874076, 'pitch_type': 'fb'}\n",
      "{'pitch_x': -0.6394917255352618, 'pitch_y': 0.8097219624982506, 'pitch_type': 'chcur'}\n",
      "{'pitch_x': 0.42361423721964464, 'pitch_y': -0.13205141219970443, 'pitch_type': 'fb'}\n",
      "{'pitch_x': 1.5287899586976688, 'pitch_y': 0.2610373317687093, 'pitch_type': 'chcur'}\n",
      "{'pitch_x': -0.21991001554165684, 'pitch_y': 1.2438001728632626, 'pitch_type': 'fb'}\n",
      "{'pitch_x': 0.6961024972975178, 'pitch_y': 0.46461769600322755, 'pitch_type': 'fb'}\n",
      "{'pitch_x': -0.1731163126183746, 'pitch_y': -0.41158970435634196, 'pitch_type': 'fb'}\n",
      "{'pitch_x': -0.38598795375925327, 'pitch_y': -0.8067188392100307, 'pitch_type': 'fb'}\n",
      "{'pitch_x': 0.42301064158063606, 'pitch_y': 0.8982134758080538, 'pitch_type': 'chcur'}\n",
      "{'pitch_x': -0.12996023464896062, 'pitch_y': -0.03305514334434008, 'pitch_type': 'fb'}\n",
      "{'pitch_x': 0.6493561367971428, 'pitch_y': 1.0083033199759048, 'pitch_type': 'fb'}\n",
      "{'pitch_x': -1.0923766886063213, 'pitch_y': -0.9736331840973163, 'pitch_type': 'chcur'}\n",
      "{'pitch_x': 0.467386869869873, 'pitch_y': -1.5917595023398579, 'pitch_type': 'fb'}\n",
      "{'pitch_x': -0.25112722694575207, 'pitch_y': -1.4442279025031868, 'pitch_type': 'fb'}\n",
      "{'pitch_x': -0.42117080604761203, 'pitch_y': 0.01046626774845875, 'pitch_type': 'fb'}\n",
      "{'pitch_x': 0.4606882358209338, 'pitch_y': 1.2495968763988317, 'pitch_type': 'chcur'}\n",
      "{'pitch_x': -0.493839955638277, 'pitch_y': 0.03635046280504684, 'pitch_type': 'fb'}\n",
      "{'pitch_x': -0.6608434975312664, 'pitch_y': -0.15944639862237536, 'pitch_type': 'fb'}\n",
      "{'pitch_x': 1.205722746665217, 'pitch_y': -1.7105227314390612, 'pitch_type': 'chcur'}\n",
      "{'pitch_x': 1.8681457394028258, 'pitch_y': -0.09038986089684742, 'pitch_type': 'chcur'}\n",
      "{'pitch_x': 0.2772436748076371, 'pitch_y': -0.28471828875943106, 'pitch_type': 'fb'}\n",
      "{'pitch_x': -1.2917992475392845, 'pitch_y': -1.0894929480488948, 'pitch_type': 'fb'}\n",
      "{'pitch_x': 0.23970875510578973, 'pitch_y': -0.9167158891489909, 'pitch_type': 'chcur'}\n",
      "{'pitch_x': 0.5804806349945683, 'pitch_y': -0.14455533679013713, 'pitch_type': 'fb'}\n",
      "{'pitch_x': 0.249261191874444, 'pitch_y': -1.208430966563384, 'pitch_type': 'fb'}\n",
      "{'pitch_x': -0.029804342576025943, 'pitch_y': 0.42184782028878115, 'pitch_type': 'fb'}\n",
      "{'pitch_x': -1.7997755707454601, 'pitch_y': -0.6256363669430262, 'pitch_type': 'chcur'}\n",
      "{'pitch_x': 0.9679277546094047, 'pitch_y': -0.5841561313013015, 'pitch_type': 'chcur'}\n",
      "{'pitch_x': -0.49885643479284847, 'pitch_y': -0.5734018974986672, 'pitch_type': 'chcur'}\n",
      "{'pitch_x': -1.1164342331986907, 'pitch_y': 0.07711741384221257, 'pitch_type': 'fb'}\n",
      "{'pitch_x': 0.6318920084565727, 'pitch_y': -0.2527966882757679, 'pitch_type': 'chcur'}\n",
      "{'pitch_x': -0.3574011717386478, 'pitch_y': -0.10396229478626771, 'pitch_type': 'fb'}\n",
      "{'pitch_x': -0.3099579327561758, 'pitch_y': -1.2832905762300622, 'pitch_type': 'fb'}\n",
      "{'pitch_x': 0.2974870502768027, 'pitch_y': -0.11439215418532067, 'pitch_type': 'fb'}\n",
      "{'pitch_x': 0.9241723796605726, 'pitch_y': -0.3966389695373975, 'pitch_type': 'fb'}\n",
      "{'pitch_x': 0.01414314346520247, 'pitch_y': 0.34176414547536793, 'pitch_type': 'chcur'}\n",
      "{'pitch_x': 1.491126830531707, 'pitch_y': -1.5612942310589224, 'pitch_type': 'chcur'}\n",
      "{'pitch_x': 0.2404634202170284, 'pitch_y': 0.31596771778808647, 'pitch_type': 'chcur'}\n",
      "{'pitch_x': 0.13548514373945925, 'pitch_y': 0.3702917976162424, 'pitch_type': 'chcur'}\n",
      "{'pitch_x': -1.8184884556559175, 'pitch_y': -0.480359357505245, 'pitch_type': 'fb'}\n",
      "{'pitch_x': 1.2776474905017337, 'pitch_y': -0.24695806497938771, 'pitch_type': 'fb'}\n",
      "{'pitch_x': -0.7299101425878001, 'pitch_y': 0.5116540746189028, 'pitch_type': 'fb'}\n",
      "{'pitch_x': -0.3239272539638167, 'pitch_y': 1.458223662405681, 'pitch_type': 'fb'}\n",
      "{'pitch_x': -0.11140848985145468, 'pitch_y': -0.7196327334103663, 'pitch_type': 'fb'}\n",
      "{'pitch_x': 0.3208462220735714, 'pitch_y': 0.10562571542765391, 'pitch_type': 'fb'}\n",
      "{'pitch_x': 0.21086484535471978, 'pitch_y': -1.142366368365311, 'pitch_type': 'fb'}\n",
      "{'pitch_x': -0.4178777051910662, 'pitch_y': -0.5259403317223206, 'pitch_type': 'chcur'}\n",
      "{'pitch_x': -0.04462555091566164, 'pitch_y': 0.11819095495528338, 'pitch_type': 'chcur'}\n",
      "{'pitch_x': -0.7839302331952513, 'pitch_y': -0.1138101870345831, 'pitch_type': 'fb'}\n",
      "{'pitch_x': -0.189554462314908, 'pitch_y': 0.40023486485803544, 'pitch_type': 'fb'}\n",
      "{'pitch_x': -0.1838163464721327, 'pitch_y': 0.6427386923667224, 'pitch_type': 'chcur'}\n",
      "{'pitch_x': 0.5514426763824436, 'pitch_y': 0.1608696022698486, 'pitch_type': 'fb'}\n",
      "{'pitch_x': -0.7037135667123627, 'pitch_y': 0.5760787731298371, 'pitch_type': 'chcur'}\n",
      "{'pitch_x': -1.2082200268494123, 'pitch_y': -0.7877157583312931, 'pitch_type': 'fb'}\n",
      "{'pitch_x': 0.3745116909590135, 'pitch_y': 0.6490779640259562, 'pitch_type': 'fb'}\n",
      "{'pitch_x': -0.1941561852765884, 'pitch_y': 0.4885718365430693, 'pitch_type': 'chcur'}\n",
      "{'pitch_x': 0.619656514367204, 'pitch_y': -0.2353853311975626, 'pitch_type': 'chcur'}\n",
      "{'pitch_x': 1.4865096311295058, 'pitch_y': 0.8670473686418334, 'pitch_type': 'fb'}\n",
      "{'pitch_x': 0.9057655377819477, 'pitch_y': -1.1602337314329867, 'pitch_type': 'chcur'}\n",
      "{'pitch_x': -1.7454715985404299, 'pitch_y': -0.18648111266505016, 'pitch_type': 'chcur'}\n",
      "{'pitch_x': -0.7077950571508691, 'pitch_y': 0.6810487051369664, 'pitch_type': 'chcur'}\n",
      "{'pitch_x': 0.44620290799733964, 'pitch_y': 0.02656083781383174, 'pitch_type': 'fb'}\n",
      "{'pitch_x': -0.39241502615345547, 'pitch_y': 1.8039437045145712, 'pitch_type': 'chcur'}\n",
      "{'pitch_x': 0.7590067606376384, 'pitch_y': 0.33686732538243286, 'pitch_type': 'chcur'}\n",
      "{'pitch_x': 1.2869302248053966, 'pitch_y': -0.23209547089324944, 'pitch_type': 'chcur'}\n",
      "{'pitch_x': -2.0281590522686535, 'pitch_y': -0.5119962564132634, 'pitch_type': 'chcur'}\n",
      "{'pitch_x': -0.6401265650514483, 'pitch_y': -0.5526712776440998, 'pitch_type': 'chcur'}\n",
      "{'pitch_x': 0.006117170865195573, 'pitch_y': -0.2052656923197942, 'pitch_type': 'chcur'}\n",
      "{'pitch_x': -0.8101826858942154, 'pitch_y': 0.170665286571653, 'pitch_type': 'chcur'}\n",
      "{'pitch_x': 0.056208319547410956, 'pitch_y': 0.45175736081856543, 'pitch_type': 'fb'}\n",
      "{'pitch_x': -0.38002798754875805, 'pitch_y': 1.13494076747163, 'pitch_type': 'fb'}\n",
      "{'pitch_x': -1.1062954380075558, 'pitch_y': 0.7074536048239847, 'pitch_type': 'fb'}\n",
      "{'pitch_x': 0.23881009427408859, 'pitch_y': 0.3281085509700087, 'pitch_type': 'chcur'}\n",
      "{'pitch_x': -0.5982934711012455, 'pitch_y': 1.0189480658821668, 'pitch_type': 'chcur'}\n",
      "{'pitch_x': -0.535693692162638, 'pitch_y': 0.8046543135256732, 'pitch_type': 'fb'}\n",
      "{'pitch_x': 1.01592946039342, 'pitch_y': -0.3898737042140198, 'pitch_type': 'chcur'}\n",
      "{'pitch_x': 0.9740157123055047, 'pitch_y': 0.5243959391297214, 'pitch_type': 'fb'}\n",
      "{'pitch_x': 1.3415402518057602, 'pitch_y': -0.2852817741056675, 'pitch_type': 'fb'}\n",
      "{'pitch_x': 0.7778687549361623, 'pitch_y': -0.49070883302288787, 'pitch_type': 'fb'}\n",
      "{'pitch_x': 0.479992366104776, 'pitch_y': 0.18787512214430505, 'pitch_type': 'chcur'}\n",
      "{'pitch_x': 0.006434144245393081, 'pitch_y': 0.4452909798483298, 'pitch_type': 'fb'}\n",
      "{'pitch_x': 0.7006828996836152, 'pitch_y': -0.4278515581491618, 'pitch_type': 'chcur'}\n",
      "{'pitch_x': 0.06783510797725335, 'pitch_y': -0.5650189290329503, 'pitch_type': 'chcur'}\n",
      "{'pitch_x': 0.3320410556332786, 'pitch_y': -0.28555472760667133, 'pitch_type': 'fb'}\n",
      "{'pitch_x': -1.963935451390655, 'pitch_y': -0.5319947625127215, 'pitch_type': 'chcur'}\n",
      "{'pitch_x': -0.3411412444710521, 'pitch_y': 0.38712846787987815, 'pitch_type': 'chcur'}\n",
      "{'pitch_x': -2.5473939682180187, 'pitch_y': -1.1355201050628714, 'pitch_type': 'chcur'}\n",
      "{'pitch_x': 2.2315255894646513, 'pitch_y': -0.7693584055233292, 'pitch_type': 'chcur'}\n",
      "{'pitch_x': -1.320993138693986, 'pitch_y': 0.40114364905574934, 'pitch_type': 'fb'}\n",
      "{'pitch_x': 0.3216009301676178, 'pitch_y': 0.19836817130201106, 'pitch_type': 'chcur'}\n",
      "{'pitch_x': -0.8325740307422722, 'pitch_y': 0.3399592504790952, 'pitch_type': 'fb'}\n",
      "{'pitch_x': 1.498385654954234, 'pitch_y': -0.43677346222832814, 'pitch_type': 'chcur'}\n",
      "{'pitch_x': 1.7244041832044106, 'pitch_y': -1.6210878647371818, 'pitch_type': 'fb'}\n",
      "{'pitch_x': -1.2822340478130714, 'pitch_y': -0.22115044809747678, 'pitch_type': 'chcur'}\n",
      "{'pitch_x': -0.1270529269123924, 'pitch_y': 0.5543402981376506, 'pitch_type': 'chcur'}\n",
      "{'pitch_x': 1.1749589196222099, 'pitch_y': -0.7817385171346343, 'pitch_type': 'chcur'}\n",
      "{'pitch_x': -0.010019917085432433, 'pitch_y': 1.1985712602011718, 'pitch_type': 'fb'}\n",
      "{'pitch_x': -0.1736894263754406, 'pitch_y': 0.903281282748504, 'pitch_type': 'chcur'}\n",
      "{'pitch_x': -1.4049350118961608, 'pitch_y': -0.6385659852395867, 'pitch_type': 'chcur'}\n",
      "{'pitch_x': -1.164361524030266, 'pitch_y': 0.6564291258811672, 'pitch_type': 'chcur'}\n",
      "{'pitch_x': -0.6585113509993711, 'pitch_y': 1.0585771507355466, 'pitch_type': 'fb'}\n",
      "{'pitch_x': 1.8064609447905193, 'pitch_y': 1.064045067116054, 'pitch_type': 'chcur'}\n",
      "{'pitch_x': -0.9702898755930219, 'pitch_y': 0.5380423239963783, 'pitch_type': 'chcur'}\n",
      "{'pitch_x': 1.125126483646105, 'pitch_y': -0.25284107947535983, 'pitch_type': 'fb'}\n",
      "{'pitch_x': 0.9100754625645062, 'pitch_y': 0.3891545135349699, 'pitch_type': 'chcur'}\n",
      "{'pitch_x': 0.9169390391805703, 'pitch_y': -0.6585303723121342, 'pitch_type': 'fb'}\n",
      "{'pitch_x': -1.5746035425152403, 'pitch_y': 0.5246853044854565, 'pitch_type': 'fb'}\n",
      "{'pitch_x': -0.8566611513715503, 'pitch_y': -1.4933396921123692, 'pitch_type': 'chcur'}\n",
      "{'pitch_x': 0.6037676932234708, 'pitch_y': 1.1775138489944552, 'pitch_type': 'chcur'}\n",
      "{'pitch_x': -0.7614625826926328, 'pitch_y': -1.548053449816795, 'pitch_type': 'fb'}\n",
      "{'pitch_x': -1.127858510586074, 'pitch_y': 0.3704248423390452, 'pitch_type': 'chcur'}\n",
      "{'pitch_x': -0.3856315646373863, 'pitch_y': 0.5111179914137584, 'pitch_type': 'fb'}\n",
      "{'pitch_x': 0.014568966526644293, 'pitch_y': 1.3146771929237295, 'pitch_type': 'fb'}\n",
      "{'pitch_x': 2.4906495957966235, 'pitch_y': 1.479438557705065, 'pitch_type': 'fb'}\n",
      "{'pitch_x': 0.8258092682787128, 'pitch_y': -1.939346595125997, 'pitch_type': 'fb'}\n",
      "{'pitch_x': 0.6921953443161317, 'pitch_y': 0.3271284435053342, 'pitch_type': 'chcur'}\n",
      "{'pitch_x': 0.08215654907367183, 'pitch_y': -0.8936980250995796, 'pitch_type': 'chcur'}\n",
      "{'pitch_x': -0.5458670593332076, 'pitch_y': -0.38296996632058466, 'pitch_type': 'fb'}\n",
      "{'pitch_x': 0.11354073226373722, 'pitch_y': 0.034127406721880145, 'pitch_type': 'chcur'}\n",
      "{'pitch_x': 0.4235703533134399, 'pitch_y': -0.21954959116244227, 'pitch_type': 'fb'}\n",
      "{'pitch_x': 0.018471423051924986, 'pitch_y': 0.24350473705178308, 'pitch_type': 'chcur'}\n",
      "{'pitch_x': 0.7407543685998964, 'pitch_y': 1.073864841551287, 'pitch_type': 'chcur'}\n",
      "{'pitch_x': -0.45994781560720127, 'pitch_y': -0.19656022943722204, 'pitch_type': 'fb'}\n",
      "{'pitch_x': 0.25480614966772513, 'pitch_y': -0.06508010069832225, 'pitch_type': 'fb'}\n",
      "{'pitch_x': -0.7811420290174663, 'pitch_y': 0.7995820120572692, 'pitch_type': 'chcur'}\n",
      "{'pitch_x': 0.19799694592990988, 'pitch_y': 1.2685578350331042, 'pitch_type': 'fb'}\n",
      "{'pitch_x': -0.8222078316843893, 'pitch_y': -1.1494089860685908, 'pitch_type': 'fb'}\n",
      "{'pitch_x': 1.1076028693384548, 'pitch_y': -0.5164504276894879, 'pitch_type': 'fb'}\n",
      "{'pitch_x': 0.026648958288598507, 'pitch_y': 0.18879540290898603, 'pitch_type': 'chcur'}\n",
      "{'pitch_x': 0.3912719582719738, 'pitch_y': 1.6181474361596744, 'pitch_type': 'chcur'}\n",
      "{'pitch_x': -1.7319369271644067, 'pitch_y': -0.2798001009845096, 'pitch_type': 'fb'}\n",
      "{'pitch_x': -0.18528168246571347, 'pitch_y': -2.4379206714797093, 'pitch_type': 'chcur'}\n",
      "{'pitch_x': -0.8654960172662449, 'pitch_y': 0.5700433783614494, 'pitch_type': 'chcur'}\n",
      "{'pitch_x': -1.4788641720401206, 'pitch_y': 0.16862918521143494, 'pitch_type': 'chcur'}\n",
      "{'pitch_x': 0.9295446306267173, 'pitch_y': -0.2559482202992761, 'pitch_type': 'chcur'}\n",
      "{'pitch_x': 0.29956760359434326, 'pitch_y': 0.49377662617806983, 'pitch_type': 'chcur'}\n",
      "{'pitch_x': -0.625624547902331, 'pitch_y': 0.17277641852401965, 'pitch_type': 'chcur'}\n",
      "{'pitch_x': -1.0208617480625468, 'pitch_y': -0.010313196357500033, 'pitch_type': 'fb'}\n",
      "{'pitch_x': 0.9690465482737437, 'pitch_y': 0.42015678340061946, 'pitch_type': 'fb'}\n",
      "{'pitch_x': -0.4922455992379265, 'pitch_y': 0.41231803532230815, 'pitch_type': 'chcur'}\n",
      "{'pitch_x': -0.946976563445062, 'pitch_y': 0.8137085859622768, 'pitch_type': 'fb'}\n",
      "{'pitch_x': 0.7698253852263764, 'pitch_y': -0.7827578762079983, 'pitch_type': 'fb'}\n",
      "{'pitch_x': -1.2857289164164538, 'pitch_y': 0.2732972266714323, 'pitch_type': 'chcur'}\n",
      "{'pitch_x': 0.5588213981609197, 'pitch_y': -1.0746956557985863, 'pitch_type': 'fb'}\n",
      "{'pitch_x': 0.6773982669801988, 'pitch_y': -0.0038756768129837595, 'pitch_type': 'chcur'}\n",
      "{'pitch_x': 1.2803831455617232, 'pitch_y': -0.38682578126767303, 'pitch_type': 'chcur'}\n",
      "{'pitch_x': 0.6159807310570162, 'pitch_y': -0.8338369552873784, 'pitch_type': 'fb'}\n",
      "{'pitch_x': -0.22912402632654988, 'pitch_y': 0.5433341140560136, 'pitch_type': 'chcur'}\n",
      "{'pitch_x': -1.9079203538341165, 'pitch_y': -0.47189779248553027, 'pitch_type': 'chcur'}\n",
      "{'pitch_x': -1.121113939488618, 'pitch_y': 0.5657721136677937, 'pitch_type': 'fb'}\n",
      "{'pitch_x': -1.3669514804806695, 'pitch_y': 1.255604790531159, 'pitch_type': 'fb'}\n",
      "{'pitch_x': -0.5274078887671787, 'pitch_y': -1.5019611190235425, 'pitch_type': 'fb'}\n",
      "{'pitch_x': -0.7435529486401453, 'pitch_y': 0.5095268426502046, 'pitch_type': 'chcur'}\n",
      "{'pitch_x': 0.1952603522898763, 'pitch_y': 0.9618126517290064, 'pitch_type': 'fb'}\n",
      "{'pitch_x': -1.62030739606247, 'pitch_y': -0.5213274669739728, 'pitch_type': 'chcur'}\n",
      "{'pitch_x': -0.07368046112530018, 'pitch_y': 0.7014993778813796, 'pitch_type': 'fb'}\n",
      "{'pitch_x': -1.2355294474560716, 'pitch_y': -1.1680995131975163, 'pitch_type': 'fb'}\n",
      "{'pitch_x': 0.09002337283907944, 'pitch_y': 1.2906046582715922, 'pitch_type': 'chcur'}\n",
      "{'pitch_x': -0.09920724547417126, 'pitch_y': 0.17246327207730608, 'pitch_type': 'fb'}\n",
      "{'pitch_x': -0.109812701482149, 'pitch_y': -0.3678280170202189, 'pitch_type': 'chcur'}\n",
      "{'pitch_x': 0.7679427242856982, 'pitch_y': -0.21851090874390217, 'pitch_type': 'fb'}\n",
      "{'pitch_x': 0.14803434647518687, 'pitch_y': -0.20244177068430202, 'pitch_type': 'fb'}\n",
      "{'pitch_x': 0.5394550082058093, 'pitch_y': -2.068253534431322, 'pitch_type': 'chcur'}\n",
      "{'pitch_x': 1.4059336113558105, 'pitch_y': -0.9893823568373322, 'pitch_type': 'chcur'}\n",
      "{'pitch_x': -0.8111957519416398, 'pitch_y': 0.29116783669744273, 'pitch_type': 'fb'}\n",
      "{'pitch_x': -0.8683736280508632, 'pitch_y': 0.5494676505693179, 'pitch_type': 'chcur'}\n",
      "{'pitch_x': -1.6359436785356505, 'pitch_y': 0.14011834261341632, 'pitch_type': 'chcur'}\n",
      "{'pitch_x': -0.49214257361734964, 'pitch_y': 1.5905695465198855, 'pitch_type': 'chcur'}\n",
      "{'pitch_x': -0.3576177651069072, 'pitch_y': -0.7380145913202155, 'pitch_type': 'chcur'}\n",
      "{'pitch_x': -1.4140135644394423, 'pitch_y': 1.7065725734368136, 'pitch_type': 'chcur'}\n",
      "{'pitch_x': 0.0662481165184466, 'pitch_y': 0.35003866156836333, 'pitch_type': 'fb'}\n",
      "{'pitch_x': 0.507729604042193, 'pitch_y': -0.790330443932758, 'pitch_type': 'fb'}\n",
      "{'pitch_x': 0.6558710379161661, 'pitch_y': -0.09960899279230453, 'pitch_type': 'fb'}\n",
      "{'pitch_x': -0.6978597869167479, 'pitch_y': -0.17971955053007427, 'pitch_type': 'chcur'}\n",
      "{'pitch_x': 0.1390180910281972, 'pitch_y': -1.8952269370018548, 'pitch_type': 'fb'}\n",
      "{'pitch_x': -0.8075677283345402, 'pitch_y': -0.6472739447277983, 'pitch_type': 'chcur'}\n",
      "{'pitch_x': -1.6256848388957443, 'pitch_y': -0.026616579053310163, 'pitch_type': 'chcur'}\n",
      "{'pitch_x': -0.000855095145822773, 'pitch_y': -0.2076134567544743, 'pitch_type': 'fb'}\n",
      "{'pitch_x': 0.9042791149598299, 'pitch_y': -1.6441062999842206, 'pitch_type': 'fb'}\n",
      "{'pitch_x': -0.30954247087039355, 'pitch_y': 0.9729672879250097, 'pitch_type': 'fb'}\n",
      "{'pitch_x': 1.414360619138127, 'pitch_y': 0.8734625665950375, 'pitch_type': 'chcur'}\n",
      "{'pitch_x': -0.01211396436189237, 'pitch_y': 0.5721605507210304, 'pitch_type': 'fb'}\n",
      "{'pitch_x': 0.723025704467025, 'pitch_y': -0.8611822065489455, 'pitch_type': 'fb'}\n",
      "{'pitch_x': -0.18486386729907067, 'pitch_y': 1.346288442406985, 'pitch_type': 'chcur'}\n",
      "{'pitch_x': 1.9362751488685315, 'pitch_y': -0.6746501665770428, 'pitch_type': 'fb'}\n",
      "{'pitch_x': 0.10837790194265311, 'pitch_y': -0.031140317417763876, 'pitch_type': 'chcur'}\n",
      "{'pitch_x': -1.3393880646833998, 'pitch_y': -0.13475332534097037, 'pitch_type': 'chcur'}\n",
      "{'pitch_x': -0.2875271653418342, 'pitch_y': -0.01568024721720091, 'pitch_type': 'chcur'}\n",
      "{'pitch_x': -0.7068165329232116, 'pitch_y': -0.0622436467655868, 'pitch_type': 'fb'}\n",
      "{'pitch_x': 0.11637125884723512, 'pitch_y': -1.4336174347581354, 'pitch_type': 'fb'}\n",
      "{'pitch_x': 0.9099378604684212, 'pitch_y': -0.24744139525110054, 'pitch_type': 'fb'}\n",
      "{'pitch_x': 0.4447773498820371, 'pitch_y': -0.3550585238239719, 'pitch_type': 'chcur'}\n",
      "{'pitch_x': 0.16468689023035535, 'pitch_y': -1.2357579074447724, 'pitch_type': 'fb'}\n",
      "{'pitch_x': -0.768558870812293, 'pitch_y': -1.302060224422663, 'pitch_type': 'fb'}\n",
      "{'pitch_x': -0.2189132895112552, 'pitch_y': 0.3547146302145804, 'pitch_type': 'fb'}\n",
      "{'pitch_x': -2.93625262776258, 'pitch_y': -0.4857947354649075, 'pitch_type': 'chcur'}\n",
      "{'pitch_x': -0.5953146203739137, 'pitch_y': -1.020383632489923, 'pitch_type': 'chcur'}\n",
      "{'pitch_x': 1.9339211063578767, 'pitch_y': -0.9384327741928844, 'pitch_type': 'chcur'}\n",
      "{'pitch_x': 0.9622154000097982, 'pitch_y': 0.788535581347114, 'pitch_type': 'chcur'}\n",
      "{'pitch_x': 1.1137388438130618, 'pitch_y': 0.32134754946171107, 'pitch_type': 'chcur'}\n",
      "{'pitch_x': -0.03677385118388016, 'pitch_y': 0.14501592008460207, 'pitch_type': 'fb'}\n",
      "{'pitch_x': -0.0593029995129902, 'pitch_y': 0.41528117876385606, 'pitch_type': 'fb'}\n",
      "{'pitch_x': 1.190084516277028, 'pitch_y': -1.2625855150725056, 'pitch_type': 'chcur'}\n",
      "{'pitch_x': -0.7805859439238618, 'pitch_y': 0.015028201661519542, 'pitch_type': 'chcur'}\n",
      "{'pitch_x': -0.32440156587124797, 'pitch_y': -0.9165209320693295, 'pitch_type': 'chcur'}\n",
      "{'pitch_x': 0.7389556612322494, 'pitch_y': 0.5041654783528744, 'pitch_type': 'fb'}\n",
      "{'pitch_x': 0.7590415371651031, 'pitch_y': 1.2072630233514285, 'pitch_type': 'chcur'}\n",
      "{'pitch_x': 1.9603795614638515, 'pitch_y': 0.07703672931154298, 'pitch_type': 'fb'}\n",
      "{'pitch_x': 0.25029531286974527, 'pitch_y': -0.3171682660325757, 'pitch_type': 'chcur'}\n",
      "{'pitch_x': -0.3078933724314789, 'pitch_y': 1.6288065567815153, 'pitch_type': 'chcur'}\n",
      "{'pitch_x': 0.13837282078765784, 'pitch_y': 1.3141573875372723, 'pitch_type': 'fb'}\n",
      "{'pitch_x': 1.1880622845380628, 'pitch_y': 0.11994071720304902, 'pitch_type': 'chcur'}\n",
      "{'pitch_x': -0.13266107527537302, 'pitch_y': 0.15018872441579406, 'pitch_type': 'chcur'}\n",
      "{'pitch_x': -1.0810967868018135, 'pitch_y': -0.052700535003492074, 'pitch_type': 'chcur'}\n",
      "{'pitch_x': -0.14184125406315576, 'pitch_y': -0.35796116816877727, 'pitch_type': 'fb'}\n",
      "{'pitch_x': 0.143191719731259, 'pitch_y': 1.5646106515324187, 'pitch_type': 'chcur'}\n",
      "{'pitch_x': 0.5607943686607287, 'pitch_y': -0.901518892707032, 'pitch_type': 'fb'}\n",
      "{'pitch_x': 0.9999115683036497, 'pitch_y': -0.7547760038886032, 'pitch_type': 'fb'}\n",
      "{'pitch_x': -0.7466365450565293, 'pitch_y': 0.5834089525918407, 'pitch_type': 'fb'}\n",
      "{'pitch_x': 1.365027141911844, 'pitch_y': 1.0526194170648542, 'pitch_type': 'chcur'}\n",
      "{'pitch_x': -1.0346494254142686, 'pitch_y': -0.7842171843340846, 'pitch_type': 'chcur'}\n",
      "{'pitch_x': -0.4636390103126877, 'pitch_y': 0.7713950381269724, 'pitch_type': 'chcur'}\n",
      "{'pitch_x': -1.634093100185391, 'pitch_y': 0.9620861484144111, 'pitch_type': 'chcur'}\n",
      "{'pitch_x': 0.8426079076860957, 'pitch_y': -0.4355751201754896, 'pitch_type': 'fb'}\n",
      "{'pitch_x': 0.4648871738821372, 'pitch_y': 0.3095916389229822, 'pitch_type': 'chcur'}\n",
      "{'pitch_x': 3.0490859451347285, 'pitch_y': -0.12124112091754706, 'pitch_type': 'chcur'}\n",
      "{'pitch_x': 1.2860172394496125, 'pitch_y': -0.5039516202167735, 'pitch_type': 'chcur'}\n",
      "{'pitch_x': 0.46103742721215063, 'pitch_y': -1.2009585258226114, 'pitch_type': 'chcur'}\n",
      "{'pitch_x': -0.3738743932300904, 'pitch_y': 1.1054605523899754, 'pitch_type': 'chcur'}\n",
      "{'pitch_x': -0.9034863230545915, 'pitch_y': 1.1950105607097135, 'pitch_type': 'fb'}\n",
      "{'pitch_x': 1.35163386012711, 'pitch_y': 0.28712115077689265, 'pitch_type': 'fb'}\n",
      "{'pitch_x': 0.331636855449904, 'pitch_y': 0.015617477615537502, 'pitch_type': 'chcur'}\n",
      "{'pitch_x': 0.2567036038655547, 'pitch_y': 0.3757964925161021, 'pitch_type': 'fb'}\n",
      "{'pitch_x': -0.31630890252011584, 'pitch_y': 1.5525679263099867, 'pitch_type': 'chcur'}\n",
      "{'pitch_x': 0.14995631385182243, 'pitch_y': -0.03406205051938421, 'pitch_type': 'fb'}\n",
      "{'pitch_x': 0.07902983619164503, 'pitch_y': -0.4388891790598002, 'pitch_type': 'chcur'}\n",
      "{'pitch_x': -0.6433034978771258, 'pitch_y': 0.31630996452364457, 'pitch_type': 'fb'}\n",
      "{'pitch_x': -0.05258124951785774, 'pitch_y': -0.18284140244291983, 'pitch_type': 'chcur'}\n",
      "{'pitch_x': -0.8839147426717737, 'pitch_y': 0.5751362356832521, 'pitch_type': 'fb'}\n",
      "{'pitch_x': -0.967396133747737, 'pitch_y': -0.060648834402089305, 'pitch_type': 'fb'}\n",
      "{'pitch_x': 0.1051568497209664, 'pitch_y': -0.9036197953129037, 'pitch_type': 'chcur'}\n",
      "{'pitch_x': -0.664777927657326, 'pitch_y': 2.124748773821635, 'pitch_type': 'fb'}\n",
      "{'pitch_x': -0.11653587578653472, 'pitch_y': 1.4091636314336102, 'pitch_type': 'chcur'}\n",
      "{'pitch_x': 0.79618543665483, 'pitch_y': 0.8598814179245223, 'pitch_type': 'chcur'}\n",
      "{'pitch_x': 0.7541726866646182, 'pitch_y': -1.4495016987785518, 'pitch_type': 'chcur'}\n",
      "{'pitch_x': -0.701536806677813, 'pitch_y': 0.2616261808140589, 'pitch_type': 'fb'}\n",
      "{'pitch_x': -0.5218093234298335, 'pitch_y': -3.0393470540734846, 'pitch_type': 'fb'}\n",
      "{'pitch_x': -0.6365567906774515, 'pitch_y': 1.4555918605279854, 'pitch_type': 'chcur'}\n",
      "{'pitch_x': -1.0617299490762007, 'pitch_y': -1.2302237344949554, 'pitch_type': 'chcur'}\n",
      "{'pitch_x': -1.7524384744030181, 'pitch_y': 0.6336471784913223, 'pitch_type': 'chcur'}\n",
      "{'pitch_x': 0.700447777788374, 'pitch_y': 0.5855962026617264, 'pitch_type': 'chcur'}\n",
      "{'pitch_x': 0.549301177492331, 'pitch_y': 0.6192936707616835, 'pitch_type': 'chcur'}\n",
      "{'pitch_x': 1.0477992717419007, 'pitch_y': -1.996702185323882, 'pitch_type': 'chcur'}\n",
      "{'pitch_x': -0.3120519612572555, 'pitch_y': 0.45595787314310476, 'pitch_type': 'chcur'}\n",
      "{'pitch_x': -0.6156013408749176, 'pitch_y': 0.3673249163363555, 'pitch_type': 'chcur'}\n",
      "{'pitch_x': -0.014758786241764717, 'pitch_y': -0.08830833256082632, 'pitch_type': 'fb'}\n",
      "{'pitch_x': 0.615031649888261, 'pitch_y': -1.3249592033614375, 'pitch_type': 'fb'}\n",
      "{'pitch_x': -0.2511896992646066, 'pitch_y': 0.8147957724043877, 'pitch_type': 'chcur'}\n",
      "{'pitch_x': 0.7163931777119594, 'pitch_y': -0.40513869897974075, 'pitch_type': 'fb'}\n",
      "{'pitch_x': -0.6961606293125255, 'pitch_y': -1.2620750951657933, 'pitch_type': 'chcur'}\n",
      "{'pitch_x': -0.24982663526011833, 'pitch_y': -0.3524402244864532, 'pitch_type': 'fb'}\n",
      "{'pitch_x': 0.9585278654848195, 'pitch_y': -0.6175282649304397, 'pitch_type': 'chcur'}\n",
      "{'pitch_x': -0.4404468607999953, 'pitch_y': 0.1730549177631935, 'pitch_type': 'fb'}\n",
      "{'pitch_x': -0.5551952704873995, 'pitch_y': 1.3912110887882703, 'pitch_type': 'fb'}\n",
      "{'pitch_x': 0.9490205213322043, 'pitch_y': -0.4967610596925686, 'pitch_type': 'chcur'}\n",
      "{'pitch_x': 0.42790886260963, 'pitch_y': -0.43481823898762756, 'pitch_type': 'fb'}\n",
      "{'pitch_x': -0.41692764694466694, 'pitch_y': 0.9501372374713537, 'pitch_type': 'chcur'}\n",
      "{'pitch_x': -1.608103731837015, 'pitch_y': -1.4953134141721534, 'pitch_type': 'chcur'}\n",
      "{'pitch_x': -0.17573848952101134, 'pitch_y': -1.148575284833841, 'pitch_type': 'fb'}\n",
      "{'pitch_x': 0.8382050323405322, 'pitch_y': 0.14990567136494895, 'pitch_type': 'fb'}\n",
      "{'pitch_x': 1.2290249675385037, 'pitch_y': 0.14662531913126398, 'pitch_type': 'fb'}\n",
      "{'pitch_x': 0.35817718823757455, 'pitch_y': -1.0532787860642776, 'pitch_type': 'chcur'}\n",
      "{'pitch_x': 0.2701055895522205, 'pitch_y': -0.520922572924775, 'pitch_type': 'chcur'}\n",
      "{'pitch_x': -1.2458189890933122, 'pitch_y': 0.9075850954310533, 'pitch_type': 'chcur'}\n",
      "{'pitch_x': -0.409141361449443, 'pitch_y': -0.6484152768526431, 'pitch_type': 'chcur'}\n",
      "{'pitch_x': -0.40550011899286004, 'pitch_y': 0.8308219657133655, 'pitch_type': 'chcur'}\n",
      "{'pitch_x': 2.365327172834818, 'pitch_y': 2.307615631964497, 'pitch_type': 'fb'}\n",
      "{'pitch_x': -0.3585188429943139, 'pitch_y': 0.09614731309507224, 'pitch_type': 'fb'}\n",
      "{'pitch_x': -0.6354069902291153, 'pitch_y': -0.2242555234543938, 'pitch_type': 'chcur'}\n",
      "{'pitch_x': 0.06213650014148704, 'pitch_y': 0.7896424834325012, 'pitch_type': 'chcur'}\n",
      "{'pitch_x': -0.36081887916716143, 'pitch_y': 0.8361607286968317, 'pitch_type': 'chcur'}\n",
      "{'pitch_x': -0.5609602430562711, 'pitch_y': -1.1446402022007585, 'pitch_type': 'chcur'}\n",
      "{'pitch_x': 0.23355263227920386, 'pitch_y': -0.12175580082596021, 'pitch_type': 'chcur'}\n",
      "{'pitch_x': -1.035344196347716, 'pitch_y': 1.3864299169113095, 'pitch_type': 'fb'}\n",
      "{'pitch_x': 1.292272375136386, 'pitch_y': -0.5462298317276054, 'pitch_type': 'fb'}\n",
      "{'pitch_x': -0.556853366527634, 'pitch_y': 0.2092218258633094, 'pitch_type': 'fb'}\n",
      "{'pitch_x': -0.18268402975869893, 'pitch_y': -0.2844781309483551, 'pitch_type': 'chcur'}\n",
      "{'pitch_x': 1.094682525931013, 'pitch_y': 0.4956391937647193, 'pitch_type': 'chcur'}\n",
      "{'pitch_x': 0.8598530121413033, 'pitch_y': 0.7456528992418822, 'pitch_type': 'chcur'}\n",
      "{'pitch_x': 0.17098662902004447, 'pitch_y': -2.022483481022921, 'pitch_type': 'fb'}\n",
      "{'pitch_x': -1.8021323339200104, 'pitch_y': -0.22420317835627265, 'pitch_type': 'fb'}\n",
      "{'pitch_x': 0.1854022354085175, 'pitch_y': -0.6046232106995268, 'pitch_type': 'chcur'}\n",
      "{'pitch_x': -0.2854724311257065, 'pitch_y': -0.9280289784534705, 'pitch_type': 'chcur'}\n",
      "{'pitch_x': 0.971380382523811, 'pitch_y': -0.5134168103561022, 'pitch_type': 'fb'}\n",
      "{'pitch_x': 1.968757197269906, 'pitch_y': 0.8803830913226961, 'pitch_type': 'fb'}\n",
      "{'pitch_x': -1.4746614889295508, 'pitch_y': -0.41159782675568585, 'pitch_type': 'chcur'}\n",
      "{'pitch_x': -0.5992090128701276, 'pitch_y': 0.9795130486355309, 'pitch_type': 'chcur'}\n",
      "{'pitch_x': -1.4649702903275656, 'pitch_y': -1.48936904760118, 'pitch_type': 'chcur'}\n",
      "{'pitch_x': 0.04062993475313526, 'pitch_y': -0.09878815440428348, 'pitch_type': 'chcur'}\n",
      "{'pitch_x': -1.3793749495512992, 'pitch_y': 0.9594621539817204, 'pitch_type': 'chcur'}\n",
      "{'pitch_x': 1.812035414145539, 'pitch_y': -0.06926998544736292, 'pitch_type': 'chcur'}\n",
      "{'pitch_x': 0.5727075205021346, 'pitch_y': -0.6912441235107006, 'pitch_type': 'fb'}\n",
      "{'pitch_x': 1.253076178117768, 'pitch_y': -1.3967206843972282, 'pitch_type': 'fb'}\n",
      "{'pitch_x': 0.6172946863229677, 'pitch_y': 1.5333478005519936, 'pitch_type': 'fb'}\n",
      "{'pitch_x': 0.6272548171987359, 'pitch_y': -0.3843125119666943, 'pitch_type': 'chcur'}\n",
      "{'pitch_x': -1.327780694937527, 'pitch_y': -0.2569284056169643, 'pitch_type': 'chcur'}\n",
      "{'pitch_x': 1.1067339190631353, 'pitch_y': -0.16257657759017544, 'pitch_type': 'fb'}\n",
      "{'pitch_x': 0.3550520709365365, 'pitch_y': 0.12702667833001932, 'pitch_type': 'fb'}\n",
      "{'pitch_x': 1.2635392920107074, 'pitch_y': 1.1550337761412233, 'pitch_type': 'fb'}\n",
      "{'pitch_x': -0.7159751956433844, 'pitch_y': 0.49134200069836204, 'pitch_type': 'chcur'}\n",
      "{'pitch_x': -1.173934886345829, 'pitch_y': -1.4971291468827588, 'pitch_type': 'fb'}\n",
      "{'pitch_x': -1.409237373007488, 'pitch_y': -0.36455381588397906, 'pitch_type': 'chcur'}\n",
      "{'pitch_x': -0.7103793182145175, 'pitch_y': -1.546149975273803, 'pitch_type': 'chcur'}\n",
      "{'pitch_x': -0.5810383188010749, 'pitch_y': 0.33057558832670747, 'pitch_type': 'fb'}\n",
      "{'pitch_x': 0.7030314378501527, 'pitch_y': -1.2597566051196656, 'pitch_type': 'fb'}\n",
      "{'pitch_x': 1.855037588982637, 'pitch_y': 1.4608752194886532, 'pitch_type': 'fb'}\n",
      "{'pitch_x': 0.4412914376087249, 'pitch_y': -0.47561652374978347, 'pitch_type': 'fb'}\n",
      "{'pitch_x': 0.25904909961907996, 'pitch_y': 1.2830380444903062, 'pitch_type': 'chcur'}\n",
      "{'pitch_x': 1.0943965363751027, 'pitch_y': -0.3410291850575625, 'pitch_type': 'fb'}\n",
      "{'pitch_x': 0.2433081229853692, 'pitch_y': 0.09572324360416941, 'pitch_type': 'fb'}\n",
      "{'pitch_x': 1.7993522623467346, 'pitch_y': 0.4441823777765916, 'pitch_type': 'fb'}\n",
      "{'pitch_x': 0.282049517558695, 'pitch_y': 2.0118698655635177, 'pitch_type': 'fb'}\n",
      "{'pitch_x': 0.86654891594064, 'pitch_y': -0.5514271642385193, 'pitch_type': 'chcur'}\n",
      "{'pitch_x': 0.08014121098253081, 'pitch_y': 0.12832912338692196, 'pitch_type': 'chcur'}\n",
      "{'pitch_x': 0.25374511030608565, 'pitch_y': -0.7998126463951366, 'pitch_type': 'fb'}\n",
      "{'pitch_x': 0.5479838002187308, 'pitch_y': 0.5144701349655314, 'pitch_type': 'fb'}\n",
      "{'pitch_x': -0.46540073302439405, 'pitch_y': 1.8096914421558312, 'pitch_type': 'fb'}\n",
      "{'pitch_x': 0.7639838811974456, 'pitch_y': 0.6434895982661135, 'pitch_type': 'chcur'}\n",
      "{'pitch_x': 0.39876292946986225, 'pitch_y': 0.6073916275788048, 'pitch_type': 'fb'}\n",
      "{'pitch_x': 0.7125682004709359, 'pitch_y': 0.3328569080525914, 'pitch_type': 'fb'}\n",
      "{'pitch_x': 1.2490148253728108, 'pitch_y': -2.5099597052207727, 'pitch_type': 'chcur'}\n",
      "{'pitch_x': 0.011299549503460038, 'pitch_y': 0.7384783806050812, 'pitch_type': 'fb'}\n",
      "{'pitch_x': -0.20423686466799634, 'pitch_y': -2.1881801024495826, 'pitch_type': 'chcur'}\n",
      "{'pitch_x': -1.7107564018842794, 'pitch_y': 0.6309082126311534, 'pitch_type': 'chcur'}\n",
      "{'pitch_x': 0.5821688287845562, 'pitch_y': 1.3708112874554808, 'pitch_type': 'chcur'}\n",
      "{'pitch_x': -1.1212470275524618, 'pitch_y': 1.6587470212737585, 'pitch_type': 'fb'}\n",
      "{'pitch_x': -0.3813661472822876, 'pitch_y': 0.8139934023698404, 'pitch_type': 'chcur'}\n",
      "{'pitch_x': -0.7965731673219133, 'pitch_y': 0.033788077166613785, 'pitch_type': 'chcur'}\n",
      "{'pitch_x': 0.9240398421860809, 'pitch_y': 1.8031257026909249, 'pitch_type': 'chcur'}\n",
      "{'pitch_x': 0.15052864090380355, 'pitch_y': -0.09624240806336726, 'pitch_type': 'fb'}\n",
      "{'pitch_x': 1.1157512421977458, 'pitch_y': -0.0899849689960114, 'pitch_type': 'fb'}\n",
      "{'pitch_x': 0.4277621140068614, 'pitch_y': 0.5727925051392297, 'pitch_type': 'chcur'}\n",
      "{'pitch_x': -0.03755789856892857, 'pitch_y': -0.8115237743727501, 'pitch_type': 'chcur'}\n",
      "{'pitch_x': -0.4207062402810009, 'pitch_y': 0.370967848697841, 'pitch_type': 'chcur'}\n",
      "{'pitch_x': 1.1366839833720879, 'pitch_y': -0.8998075973261049, 'pitch_type': 'fb'}\n",
      "{'pitch_x': 1.3036295347549542, 'pitch_y': 1.2488779926254239, 'pitch_type': 'fb'}\n",
      "{'pitch_x': -0.6618230630249712, 'pitch_y': 0.7716525288714431, 'pitch_type': 'chcur'}\n",
      "{'pitch_x': -1.095594172473863, 'pitch_y': -0.4284021523738755, 'pitch_type': 'chcur'}\n",
      "{'pitch_x': -0.17214167531124394, 'pitch_y': 0.3217696857983166, 'pitch_type': 'chcur'}\n",
      "{'pitch_x': 0.762859196681421, 'pitch_y': 1.1089740710201055, 'pitch_type': 'fb'}\n",
      "{'pitch_x': -1.385903010299362, 'pitch_y': 0.6870208527866464, 'pitch_type': 'fb'}\n",
      "{'pitch_x': 0.5190811663179085, 'pitch_y': -0.3775486125361426, 'pitch_type': 'fb'}\n",
      "{'pitch_x': -0.43368698026219193, 'pitch_y': -2.168413162935253, 'pitch_type': 'chcur'}\n",
      "{'pitch_x': 0.25110424067919945, 'pitch_y': -1.461985228790204, 'pitch_type': 'chcur'}\n",
      "{'pitch_x': 0.2801711241172183, 'pitch_y': -0.6121218338736772, 'pitch_type': 'fb'}\n",
      "{'pitch_x': -1.1736848898961876, 'pitch_y': -0.23164162705739016, 'pitch_type': 'chcur'}\n",
      "{'pitch_x': 1.1544935140214172, 'pitch_y': 0.9148760951110928, 'pitch_type': 'fb'}\n",
      "{'pitch_x': 0.29670488164936576, 'pitch_y': 0.4685450604466429, 'pitch_type': 'chcur'}\n",
      "{'pitch_x': 0.08976327967765393, 'pitch_y': -1.346100748751181, 'pitch_type': 'chcur'}\n",
      "{'pitch_x': -1.03266364897658, 'pitch_y': 2.653381836738728, 'pitch_type': 'fb'}\n",
      "{'pitch_x': 0.25407625305859927, 'pitch_y': 0.032856204029051414, 'pitch_type': 'chcur'}\n",
      "{'pitch_x': 1.0247128094570983, 'pitch_y': 0.2428771689117288, 'pitch_type': 'chcur'}\n",
      "{'pitch_x': -1.2789205265073067, 'pitch_y': -0.9619429467163702, 'pitch_type': 'fb'}\n",
      "{'pitch_x': -0.11066684099533053, 'pitch_y': -1.5966245679082864, 'pitch_type': 'chcur'}\n",
      "{'pitch_x': -1.957312217221973, 'pitch_y': 1.4882680986753962, 'pitch_type': 'chcur'}\n",
      "{'pitch_x': 0.5469314454033976, 'pitch_y': 0.28920183236292746, 'pitch_type': 'chcur'}\n",
      "{'pitch_x': -0.8579922386013512, 'pitch_y': -0.446318422005699, 'pitch_type': 'fb'}\n",
      "{'pitch_x': -1.618437735104955, 'pitch_y': -0.3048056157848412, 'pitch_type': 'fb'}\n",
      "{'pitch_x': -0.004926327707153752, 'pitch_y': -0.15560812380530195, 'pitch_type': 'fb'}\n",
      "{'pitch_x': -1.0743728724644175, 'pitch_y': 0.7777198218231626, 'pitch_type': 'chcur'}\n",
      "{'pitch_x': -0.27450834998102236, 'pitch_y': 1.1369251953085748, 'pitch_type': 'fb'}\n",
      "{'pitch_x': 0.8024836666556566, 'pitch_y': -0.3973052158711655, 'pitch_type': 'fb'}\n",
      "{'pitch_x': 1.1574264875244717, 'pitch_y': 0.3629038499715718, 'pitch_type': 'fb'}\n",
      "{'pitch_x': 0.49119405196201416, 'pitch_y': 1.4057365437998133, 'pitch_type': 'fb'}\n",
      "{'pitch_x': 0.06936817501012821, 'pitch_y': 1.227039776620087, 'pitch_type': 'fb'}\n",
      "{'pitch_x': -0.5893771571864579, 'pitch_y': -0.6925544826868065, 'pitch_type': 'chcur'}\n",
      "{'pitch_x': 1.839417744483864, 'pitch_y': 0.0988897215242226, 'pitch_type': 'fb'}\n",
      "{'pitch_x': -0.2481786612179233, 'pitch_y': -1.3902873488289629, 'pitch_type': 'fb'}\n",
      "{'pitch_x': 0.42162599410065904, 'pitch_y': 0.21029461651662185, 'pitch_type': 'chcur'}\n",
      "{'pitch_x': -1.5631265999345096, 'pitch_y': -0.3715452682588701, 'pitch_type': 'fb'}\n",
      "{'pitch_x': 0.612645315388599, 'pitch_y': 0.18846132179052957, 'pitch_type': 'chcur'}\n",
      "{'pitch_x': 0.12285440611195075, 'pitch_y': -1.0019608664529784, 'pitch_type': 'chcur'}\n",
      "{'pitch_x': 0.13429396588669681, 'pitch_y': -0.5120657163591588, 'pitch_type': 'fb'}\n",
      "{'pitch_x': -0.07468826083338358, 'pitch_y': -0.09697866745774708, 'pitch_type': 'chcur'}\n",
      "{'pitch_x': 1.0091014234350402, 'pitch_y': 1.069249353640077, 'pitch_type': 'chcur'}\n",
      "{'pitch_x': -0.8370124244627013, 'pitch_y': 0.803659553093981, 'pitch_type': 'fb'}\n",
      "{'pitch_x': -0.14134276224975317, 'pitch_y': 0.3374345330429471, 'pitch_type': 'fb'}\n",
      "{'pitch_x': 0.24318441689459072, 'pitch_y': 0.16498952842038217, 'pitch_type': 'fb'}\n",
      "{'pitch_x': -0.7325714967985023, 'pitch_y': -0.7668500180602039, 'pitch_type': 'chcur'}\n",
      "{'pitch_x': -0.165261500820014, 'pitch_y': 1.0994350611702235, 'pitch_type': 'fb'}\n",
      "{'pitch_x': -0.39309173953084986, 'pitch_y': -0.1503362365502348, 'pitch_type': 'fb'}\n",
      "{'pitch_x': -0.929528968925308, 'pitch_y': -1.98489887274518, 'pitch_type': 'chcur'}\n",
      "{'pitch_x': -0.7127641273536245, 'pitch_y': -0.5016841786609734, 'pitch_type': 'fb'}\n",
      "{'pitch_x': -1.0550852544696356, 'pitch_y': 0.1208950445792163, 'pitch_type': 'chcur'}\n",
      "{'pitch_x': 2.2888883320015947, 'pitch_y': -0.1784465443144078, 'pitch_type': 'chcur'}\n",
      "{'pitch_x': -1.4125320719396082, 'pitch_y': -1.3474412149625643, 'pitch_type': 'chcur'}\n",
      "{'pitch_x': -0.5226096891966999, 'pitch_y': -0.43819186322389975, 'pitch_type': 'chcur'}\n",
      "{'pitch_x': 0.299322951389505, 'pitch_y': 0.33809688578021374, 'pitch_type': 'chcur'}\n",
      "{'pitch_x': -0.1805063892736685, 'pitch_y': 0.4454785319658653, 'pitch_type': 'chcur'}\n",
      "{'pitch_x': -0.3217140010708857, 'pitch_y': 0.0692875258538535, 'pitch_type': 'chcur'}\n",
      "{'pitch_x': 0.5692460043331627, 'pitch_y': -0.46450228553355777, 'pitch_type': 'fb'}\n",
      "{'pitch_x': -0.398865580141439, 'pitch_y': 0.2729047426987695, 'pitch_type': 'fb'}\n",
      "{'pitch_x': 0.7796780625025097, 'pitch_y': 0.520010896621172, 'pitch_type': 'chcur'}\n",
      "{'pitch_x': -0.19166571317209968, 'pitch_y': 0.6693118912584468, 'pitch_type': 'fb'}\n",
      "{'pitch_x': 0.4993478909919622, 'pitch_y': 0.8057137801896191, 'pitch_type': 'chcur'}\n",
      "{'pitch_x': -0.7192240108571029, 'pitch_y': 0.5839120389409757, 'pitch_type': 'fb'}\n",
      "{'pitch_x': 0.08033889729689082, 'pitch_y': 0.38820015446668454, 'pitch_type': 'fb'}\n",
      "{'pitch_x': -0.6517150954137287, 'pitch_y': 0.06386842509525013, 'pitch_type': 'fb'}\n",
      "{'pitch_x': 1.1444638930902298, 'pitch_y': 0.20046413100301042, 'pitch_type': 'chcur'}\n",
      "{'pitch_x': 0.776586069501206, 'pitch_y': -0.16112897215828292, 'pitch_type': 'fb'}\n",
      "{'pitch_x': -0.3203622068727673, 'pitch_y': -0.9918120730250938, 'pitch_type': 'chcur'}\n",
      "{'pitch_x': -0.8591205767250776, 'pitch_y': 0.5208573209134231, 'pitch_type': 'fb'}\n",
      "{'pitch_x': 1.0257803936550638, 'pitch_y': 1.8816237984799216, 'pitch_type': 'fb'}\n",
      "{'pitch_x': 1.9798026378760265, 'pitch_y': -0.30800537415422635, 'pitch_type': 'chcur'}\n",
      "{'pitch_x': 0.7145540460164544, 'pitch_y': 0.27686669388071367, 'pitch_type': 'fb'}\n",
      "{'pitch_x': -0.8963709342193926, 'pitch_y': 0.04937589173067951, 'pitch_type': 'fb'}\n",
      "{'pitch_x': 0.4651119227875516, 'pitch_y': -1.2658050645457586, 'pitch_type': 'chcur'}\n",
      "{'pitch_x': 1.9458892567352069, 'pitch_y': 0.7641651670078106, 'pitch_type': 'chcur'}\n",
      "{'pitch_x': 0.9991367932106627, 'pitch_y': 0.21422117679723707, 'pitch_type': 'chcur'}\n",
      "{'pitch_x': 0.4701420615582477, 'pitch_y': -0.8238109486312528, 'pitch_type': 'chcur'}\n",
      "{'pitch_x': 0.788854202767109, 'pitch_y': 1.8627642736821783, 'pitch_type': 'chcur'}\n",
      "{'pitch_x': -0.9698109133990734, 'pitch_y': 0.7600858664539447, 'pitch_type': 'fb'}\n",
      "{'pitch_x': -1.1742053541057842, 'pitch_y': 0.848892927107481, 'pitch_type': 'chcur'}\n",
      "{'pitch_x': -0.5113414596350621, 'pitch_y': -1.0376628318544328, 'pitch_type': 'fb'}\n",
      "{'pitch_x': -0.12072262769370984, 'pitch_y': 0.05668776265817647, 'pitch_type': 'fb'}\n",
      "{'pitch_x': -0.5096622109529322, 'pitch_y': -0.9719452988698647, 'pitch_type': 'fb'}\n",
      "{'pitch_x': -0.4505767142199556, 'pitch_y': -0.5754327421567919, 'pitch_type': 'fb'}\n",
      "{'pitch_x': -0.4096680544776157, 'pitch_y': -0.9429811135498032, 'pitch_type': 'fb'}\n",
      "{'pitch_x': 0.25107694567293076, 'pitch_y': -1.0560729929013206, 'pitch_type': 'chcur'}\n",
      "{'pitch_x': -0.20162034668773726, 'pitch_y': -0.5051403418504391, 'pitch_type': 'chcur'}\n",
      "{'pitch_x': 0.06564672962647669, 'pitch_y': -0.17572023381560695, 'pitch_type': 'chcur'}\n",
      "{'pitch_x': 0.8077052547509296, 'pitch_y': -1.198525012597244, 'pitch_type': 'chcur'}\n",
      "{'pitch_x': 0.7698143891678534, 'pitch_y': -0.6337786717508407, 'pitch_type': 'fb'}\n",
      "{'pitch_x': 0.6913131380633348, 'pitch_y': 0.6592856110169404, 'pitch_type': 'chcur'}\n",
      "{'pitch_x': 1.0959255753265988, 'pitch_y': 0.560673972737125, 'pitch_type': 'fb'}\n",
      "{'pitch_x': 0.12818078144550926, 'pitch_y': -0.8928932542835805, 'pitch_type': 'chcur'}\n",
      "{'pitch_x': -0.2817395761678622, 'pitch_y': -0.6065469516468011, 'pitch_type': 'fb'}\n",
      "{'pitch_x': -1.1854013593349235, 'pitch_y': 0.8275981954450714, 'pitch_type': 'chcur'}\n",
      "{'pitch_x': -0.586102685835355, 'pitch_y': 1.2550059002358849, 'pitch_type': 'fb'}\n",
      "{'pitch_x': -0.34831630147933385, 'pitch_y': 0.8035425567874038, 'pitch_type': 'fb'}\n",
      "{'pitch_x': -0.21236179570565114, 'pitch_y': 0.2980136564667016, 'pitch_type': 'chcur'}\n",
      "{'pitch_x': 1.4654742999858559, 'pitch_y': 0.42323713477712027, 'pitch_type': 'chcur'}\n",
      "{'pitch_x': -1.252877482159, 'pitch_y': 1.0846027152453463, 'pitch_type': 'fb'}\n",
      "{'pitch_x': 0.07763740534467484, 'pitch_y': 0.5135994262518822, 'pitch_type': 'chcur'}\n",
      "{'pitch_x': -0.907867771504599, 'pitch_y': 1.0677776312890839, 'pitch_type': 'chcur'}\n",
      "{'pitch_x': 0.7387922874274868, 'pitch_y': 0.43219211782458133, 'pitch_type': 'chcur'}\n",
      "{'pitch_x': -0.2877192105551136, 'pitch_y': 0.8611839603026047, 'pitch_type': 'chcur'}\n",
      "{'pitch_x': 0.04074940022842695, 'pitch_y': -0.9219316692978453, 'pitch_type': 'chcur'}\n",
      "{'pitch_x': -0.18526456450616738, 'pitch_y': 1.12864528683899, 'pitch_type': 'fb'}\n",
      "{'pitch_x': -0.7869342566332636, 'pitch_y': 0.666192409917414, 'pitch_type': 'fb'}\n",
      "{'pitch_x': 0.5720852203812998, 'pitch_y': -0.586180117708175, 'pitch_type': 'chcur'}\n",
      "{'pitch_x': -0.2264019689422119, 'pitch_y': -0.3718025544495147, 'pitch_type': 'chcur'}\n",
      "{'pitch_x': -0.3758733383879307, 'pitch_y': 0.11179226820740254, 'pitch_type': 'fb'}\n",
      "{'pitch_x': 0.035662198129591434, 'pitch_y': 0.008165325276462182, 'pitch_type': 'chcur'}\n",
      "{'pitch_x': -1.2355181397742847, 'pitch_y': 0.6377215235557797, 'pitch_type': 'fb'}\n",
      "{'pitch_x': -1.4599147737963334, 'pitch_y': -0.15975793582408562, 'pitch_type': 'chcur'}\n",
      "{'pitch_x': -0.3081654740299472, 'pitch_y': 0.07802828808689626, 'pitch_type': 'chcur'}\n",
      "{'pitch_x': -1.361673878469299, 'pitch_y': 0.6628793997196524, 'pitch_type': 'chcur'}\n",
      "{'pitch_x': -0.323365131475018, 'pitch_y': -0.3966460269439891, 'pitch_type': 'chcur'}\n",
      "{'pitch_x': -1.219770998060975, 'pitch_y': 0.17996330824054088, 'pitch_type': 'fb'}\n",
      "{'pitch_x': -0.367674094890767, 'pitch_y': 0.6429136099328719, 'pitch_type': 'chcur'}\n",
      "{'pitch_x': -0.3267145356602499, 'pitch_y': -1.0062098250821274, 'pitch_type': 'fb'}\n",
      "{'pitch_x': -1.1809472786285338, 'pitch_y': -0.11757631722706903, 'pitch_type': 'chcur'}\n",
      "{'pitch_x': 1.7065120304961194, 'pitch_y': 1.4246933878423416, 'pitch_type': 'fb'}\n",
      "{'pitch_x': 0.7215196186515334, 'pitch_y': 0.6572620583229812, 'pitch_type': 'chcur'}\n",
      "{'pitch_x': 0.06476633257780419, 'pitch_y': 1.5397284002542029, 'pitch_type': 'fb'}\n",
      "{'pitch_x': -1.6959322978710034, 'pitch_y': 1.0969255264284683, 'pitch_type': 'fb'}\n",
      "{'pitch_x': 2.5123450642440415, 'pitch_y': -0.3880446574094974, 'pitch_type': 'chcur'}\n",
      "{'pitch_x': -0.293092667645655, 'pitch_y': 1.1130655816167927, 'pitch_type': 'fb'}\n",
      "{'pitch_x': 0.44166077339442894, 'pitch_y': 0.5477882607907075, 'pitch_type': 'chcur'}\n",
      "{'pitch_x': -0.3199750609987772, 'pitch_y': -1.696049336329806, 'pitch_type': 'fb'}\n",
      "{'pitch_x': -0.7385392832134573, 'pitch_y': -0.663172944199358, 'pitch_type': 'fb'}\n",
      "{'pitch_x': 0.16779659175785056, 'pitch_y': -1.0939131954394494, 'pitch_type': 'chcur'}\n",
      "{'pitch_x': 0.9325697404383053, 'pitch_y': 0.5471365321230858, 'pitch_type': 'fb'}\n",
      "{'pitch_x': -1.12985809206509, 'pitch_y': -0.26378349944265456, 'pitch_type': 'chcur'}\n",
      "{'pitch_x': -0.2267743388402966, 'pitch_y': -0.15156921597307085, 'pitch_type': 'fb'}\n",
      "{'pitch_x': -0.7104851902239185, 'pitch_y': -1.0537274075278624, 'pitch_type': 'chcur'}\n",
      "{'pitch_x': 0.28414930607432687, 'pitch_y': 0.334865037278503, 'pitch_type': 'fb'}\n",
      "{'pitch_x': 1.1444074415885983, 'pitch_y': -0.09248360610776889, 'pitch_type': 'fb'}\n",
      "{'pitch_x': -1.2482630930723702, 'pitch_y': -0.5641699103866891, 'pitch_type': 'chcur'}\n",
      "{'pitch_x': 1.5333094520744737, 'pitch_y': 0.42000375087027186, 'pitch_type': 'chcur'}\n",
      "{'pitch_x': 0.3918973729279705, 'pitch_y': -0.08949235648428634, 'pitch_type': 'fb'}\n",
      "{'pitch_x': -0.7019233222216386, 'pitch_y': 0.934754170341733, 'pitch_type': 'fb'}\n",
      "{'pitch_x': -0.49037364390640525, 'pitch_y': -0.5177217386221283, 'pitch_type': 'fb'}\n",
      "{'pitch_x': 0.49975046440527204, 'pitch_y': 0.7932534437380844, 'pitch_type': 'fb'}\n",
      "{'pitch_x': 1.6774641422406273, 'pitch_y': -1.0828934356310518, 'pitch_type': 'chcur'}\n",
      "{'pitch_x': 0.16115818169039905, 'pitch_y': -1.5767149494437047, 'pitch_type': 'chcur'}\n",
      "{'pitch_x': 0.6012552462804085, 'pitch_y': 1.0203923146302334, 'pitch_type': 'fb'}\n",
      "{'pitch_x': 0.7689251414622504, 'pitch_y': -0.9430974873546327, 'pitch_type': 'chcur'}\n",
      "{'pitch_x': 0.8396224125246423, 'pitch_y': -0.14409878266900916, 'pitch_type': 'fb'}\n",
      "{'pitch_x': -0.3001185882791265, 'pitch_y': -0.17167537959314758, 'pitch_type': 'fb'}\n",
      "{'pitch_x': 0.1656213558451174, 'pitch_y': -1.211183189238028, 'pitch_type': 'chcur'}\n",
      "{'pitch_x': 0.04058132734910563, 'pitch_y': -0.1393374251936055, 'pitch_type': 'chcur'}\n",
      "{'pitch_x': -0.261515949433276, 'pitch_y': 0.6571125434802686, 'pitch_type': 'chcur'}\n",
      "{'pitch_x': -0.3323774503357991, 'pitch_y': 0.7263858564907838, 'pitch_type': 'fb'}\n",
      "{'pitch_x': 0.34258695017595847, 'pitch_y': -0.5943595141361959, 'pitch_type': 'chcur'}\n",
      "{'pitch_x': -0.8173917719143367, 'pitch_y': -0.3198181879541694, 'pitch_type': 'fb'}\n",
      "{'pitch_x': 0.9330871567819642, 'pitch_y': -0.47118061693811625, 'pitch_type': 'fb'}\n",
      "{'pitch_x': 0.2752639812503562, 'pitch_y': -0.17173872507334026, 'pitch_type': 'fb'}\n",
      "{'pitch_x': -0.0002822610060015889, 'pitch_y': -1.2483305578277835, 'pitch_type': 'fb'}\n",
      "{'pitch_x': -0.3868187663698877, 'pitch_y': -1.2609813380588248, 'pitch_type': 'fb'}\n",
      "{'pitch_x': -1.798641499276858, 'pitch_y': 0.2279699018135811, 'pitch_type': 'chcur'}\n",
      "{'pitch_x': -0.2044170888027525, 'pitch_y': -0.5055698234337251, 'pitch_type': 'fb'}\n",
      "{'pitch_x': 0.3873588904931224, 'pitch_y': 0.6235819884892716, 'pitch_type': 'chcur'}\n",
      "{'pitch_x': -1.2064162432937247, 'pitch_y': -0.3137266748719226, 'pitch_type': 'chcur'}\n",
      "{'pitch_x': 0.17894797476833318, 'pitch_y': -1.2733126804356314, 'pitch_type': 'fb'}\n",
      "{'pitch_x': 0.5477170202744298, 'pitch_y': -0.6252794097127289, 'pitch_type': 'chcur'}\n",
      "{'pitch_x': -0.3567909792530295, 'pitch_y': -0.6961527759605756, 'pitch_type': 'chcur'}\n",
      "{'pitch_x': 0.5951707950452012, 'pitch_y': 0.04524936594220005, 'pitch_type': 'chcur'}\n",
      "{'pitch_x': 0.829557556512097, 'pitch_y': -0.456295217309827, 'pitch_type': 'chcur'}\n",
      "{'pitch_x': 0.6032872344811444, 'pitch_y': 0.9773195158140586, 'pitch_type': 'chcur'}\n",
      "{'pitch_x': 0.5174898987046466, 'pitch_y': 0.5055351940933193, 'pitch_type': 'chcur'}\n",
      "{'pitch_x': -0.17646477802525617, 'pitch_y': 0.2670380861776779, 'pitch_type': 'chcur'}\n",
      "{'pitch_x': 1.5835785720523443, 'pitch_y': -1.2798570284515896, 'pitch_type': 'fb'}\n",
      "{'pitch_x': 0.6491591669937712, 'pitch_y': 0.5488100584493789, 'pitch_type': 'fb'}\n",
      "{'pitch_x': -0.2185862168002012, 'pitch_y': 0.9149552937064767, 'pitch_type': 'fb'}\n",
      "{'pitch_x': -0.22288314993152403, 'pitch_y': -1.465560286296144, 'pitch_type': 'fb'}\n",
      "{'pitch_x': -1.810647475247594, 'pitch_y': 0.9767388674054783, 'pitch_type': 'fb'}\n",
      "{'pitch_x': 0.8971966330409332, 'pitch_y': 0.2719506841746377, 'pitch_type': 'fb'}\n",
      "{'pitch_x': -1.9299148229947722, 'pitch_y': -0.12400035820023385, 'pitch_type': 'chcur'}\n",
      "{'pitch_x': -0.5226306207389814, 'pitch_y': -1.037763998710244, 'pitch_type': 'fb'}\n",
      "{'pitch_x': 0.0918881720416678, 'pitch_y': 1.2477515562893866, 'pitch_type': 'fb'}\n",
      "{'pitch_x': -0.6402528158604073, 'pitch_y': -1.2299238260442247, 'pitch_type': 'chcur'}\n",
      "{'pitch_x': -1.3481737786245975, 'pitch_y': -0.5764576119071033, 'pitch_type': 'fb'}\n",
      "{'pitch_x': -1.2935158397171835, 'pitch_y': -0.773333000917746, 'pitch_type': 'chcur'}\n",
      "{'pitch_x': -1.3484996548113788, 'pitch_y': 1.425921647564152, 'pitch_type': 'fb'}\n",
      "{'pitch_x': 0.905395305621239, 'pitch_y': -0.43613273844065814, 'pitch_type': 'fb'}\n",
      "{'pitch_x': -1.2544180765485402, 'pitch_y': 0.3167139533985603, 'pitch_type': 'chcur'}\n",
      "{'pitch_x': -0.5048456013185416, 'pitch_y': -0.4144102864979148, 'pitch_type': 'fb'}\n",
      "{'pitch_x': 2.096181607519721, 'pitch_y': 1.6203962060759065, 'pitch_type': 'chcur'}\n",
      "{'pitch_x': -1.3772659537825496, 'pitch_y': 0.09249171970192918, 'pitch_type': 'chcur'}\n",
      "{'pitch_x': 0.06743206295440804, 'pitch_y': 0.8449627845415991, 'pitch_type': 'chcur'}\n",
      "{'pitch_x': 0.39245823922673523, 'pitch_y': -0.8171429773945311, 'pitch_type': 'fb'}\n",
      "{'pitch_x': 0.6952851267387617, 'pitch_y': 1.056120018369168, 'pitch_type': 'chcur'}\n",
      "{'pitch_x': -0.4663109473292641, 'pitch_y': -0.5722139335728413, 'pitch_type': 'chcur'}\n",
      "{'pitch_x': 1.197791812737998, 'pitch_y': 0.8525562531762352, 'pitch_type': 'fb'}\n",
      "{'pitch_x': 1.6153571952462742, 'pitch_y': -0.41553104156978365, 'pitch_type': 'chcur'}\n",
      "{'pitch_x': 0.34920308032649394, 'pitch_y': -0.6002606985452648, 'pitch_type': 'fb'}\n",
      "{'pitch_x': -0.5178489562214094, 'pitch_y': -0.5261224320172101, 'pitch_type': 'chcur'}\n",
      "{'pitch_x': -0.8268750983513257, 'pitch_y': -1.3052724823926891, 'pitch_type': 'fb'}\n",
      "{'pitch_x': 0.6719564542471567, 'pitch_y': -0.535292660875266, 'pitch_type': 'fb'}\n",
      "{'pitch_x': -0.9363298044783792, 'pitch_y': -0.8456723144800569, 'pitch_type': 'chcur'}\n",
      "{'pitch_x': -0.9462272614596693, 'pitch_y': -1.9356215225994298, 'pitch_type': 'chcur'}\n",
      "{'pitch_x': 0.30842785551238544, 'pitch_y': 0.6988794372953631, 'pitch_type': 'fb'}\n",
      "{'pitch_x': -0.2867007601284398, 'pitch_y': -0.05231957621307612, 'pitch_type': 'fb'}\n",
      "{'pitch_x': 0.8854770835555897, 'pitch_y': -0.44430581998207996, 'pitch_type': 'fb'}\n",
      "{'pitch_x': 0.5465499273114117, 'pitch_y': 1.6901417574774442, 'pitch_type': 'chcur'}\n",
      "{'pitch_x': 0.3841076040249657, 'pitch_y': 1.6019204108455956, 'pitch_type': 'chcur'}\n",
      "{'pitch_x': 0.401814003640894, 'pitch_y': 0.22574551965345568, 'pitch_type': 'chcur'}\n",
      "{'pitch_x': -1.26555367403069, 'pitch_y': 0.5032933068509046, 'pitch_type': 'chcur'}\n",
      "{'pitch_x': -0.10645254139256781, 'pitch_y': -0.7861272138672685, 'pitch_type': 'fb'}\n",
      "{'pitch_x': 0.5213121621485737, 'pitch_y': -1.3707589439008887, 'pitch_type': 'fb'}\n",
      "{'pitch_x': 0.24603712343954376, 'pitch_y': 1.0029541924994878, 'pitch_type': 'chcur'}\n",
      "{'pitch_x': 0.6617289894966729, 'pitch_y': -0.942490853693835, 'pitch_type': 'chcur'}\n",
      "{'pitch_x': -0.7915882813810529, 'pitch_y': 1.099277502452661, 'pitch_type': 'fb'}\n",
      "{'pitch_x': -0.9702842907869014, 'pitch_y': 0.27370552882149024, 'pitch_type': 'chcur'}\n",
      "{'pitch_x': 1.014041593735469, 'pitch_y': -1.5148304745563546, 'pitch_type': 'fb'}\n",
      "{'pitch_x': 1.9436160966366358, 'pitch_y': 0.21406638319577126, 'pitch_type': 'chcur'}\n",
      "{'pitch_x': -0.5806923302683008, 'pitch_y': 0.5702214493129003, 'pitch_type': 'chcur'}\n",
      "{'pitch_x': 1.0999965354108159, 'pitch_y': 0.48778060537120677, 'pitch_type': 'fb'}\n",
      "{'pitch_x': 0.07139916015915168, 'pitch_y': -0.8611588574453768, 'pitch_type': 'chcur'}\n",
      "{'pitch_x': -1.061328745303992, 'pitch_y': 0.19968702323117574, 'pitch_type': 'fb'}\n",
      "{'pitch_x': 0.33544629595065634, 'pitch_y': -0.46767275023527466, 'pitch_type': 'fb'}\n",
      "{'pitch_x': -2.0394574399905405, 'pitch_y': 0.9778960449535863, 'pitch_type': 'chcur'}\n",
      "{'pitch_x': -0.06679075166338296, 'pitch_y': -0.1497506117553291, 'pitch_type': 'fb'}\n",
      "{'pitch_x': 0.17581372149265215, 'pitch_y': 0.41048401764590947, 'pitch_type': 'fb'}\n",
      "{'pitch_x': -0.6232798820371636, 'pitch_y': -0.7291695718962469, 'pitch_type': 'chcur'}\n",
      "{'pitch_x': -1.0418587389608027, 'pitch_y': 0.29215727359275667, 'pitch_type': 'fb'}\n",
      "{'pitch_x': -0.519298644319926, 'pitch_y': -0.28585633562997764, 'pitch_type': 'chcur'}\n",
      "{'pitch_x': -1.1617570440027938, 'pitch_y': 0.2984489464893476, 'pitch_type': 'chcur'}\n",
      "{'pitch_x': 0.6042600051652699, 'pitch_y': -0.004213360469053297, 'pitch_type': 'fb'}\n",
      "{'pitch_x': -0.8015224313819465, 'pitch_y': -0.3916866071162253, 'pitch_type': 'fb'}\n",
      "{'pitch_x': 0.1910626078507083, 'pitch_y': 1.211296668985859, 'pitch_type': 'fb'}\n",
      "{'pitch_x': 0.22900265951716303, 'pitch_y': -0.2733029572204531, 'pitch_type': 'chcur'}\n",
      "{'pitch_x': -0.8253210365755849, 'pitch_y': 1.5499882620650143, 'pitch_type': 'chcur'}\n",
      "{'pitch_x': 1.6695864927964037, 'pitch_y': 0.2632671578546396, 'pitch_type': 'fb'}\n",
      "{'pitch_x': 0.006202941723425885, 'pitch_y': -0.7994140934104307, 'pitch_type': 'chcur'}\n",
      "{'pitch_x': 0.8730459834413733, 'pitch_y': -0.08767823447353648, 'pitch_type': 'fb'}\n",
      "{'pitch_x': 1.4603533008915122, 'pitch_y': -0.572562436831713, 'pitch_type': 'chcur'}\n",
      "{'pitch_x': -2.0470337455843666, 'pitch_y': 1.2542783904964807, 'pitch_type': 'fb'}\n",
      "{'pitch_x': -0.7770743776708299, 'pitch_y': 0.7445163149451847, 'pitch_type': 'fb'}\n",
      "{'pitch_x': 0.527341860346131, 'pitch_y': 1.0904185760384424, 'pitch_type': 'fb'}\n",
      "{'pitch_x': -0.7227311578787291, 'pitch_y': -1.0738513381049046, 'pitch_type': 'fb'}\n",
      "{'pitch_x': 2.4733470279058367, 'pitch_y': -1.0476051929367602, 'pitch_type': 'fb'}\n",
      "{'pitch_x': -0.46361353799688754, 'pitch_y': -0.4254425454341913, 'pitch_type': 'chcur'}\n",
      "{'pitch_x': -1.2940726336919068, 'pitch_y': 0.43601869084453737, 'pitch_type': 'fb'}\n",
      "{'pitch_x': 0.5111531222547397, 'pitch_y': -0.036139141553347916, 'pitch_type': 'fb'}\n",
      "{'pitch_x': -0.2624042040360393, 'pitch_y': 0.5000794035389178, 'pitch_type': 'fb'}\n",
      "{'pitch_x': 0.046344971411855305, 'pitch_y': 0.8037602123637096, 'pitch_type': 'fb'}\n",
      "{'pitch_x': -0.7063659219314243, 'pitch_y': 1.2503876648723387, 'pitch_type': 'chcur'}\n",
      "{'pitch_x': 0.9509653074887838, 'pitch_y': 0.4533187032848942, 'pitch_type': 'fb'}\n",
      "{'pitch_x': -1.014292358294489, 'pitch_y': 1.4418891919583738, 'pitch_type': 'chcur'}\n",
      "{'pitch_x': 0.30536676137034663, 'pitch_y': 0.23362831099320805, 'pitch_type': 'chcur'}\n",
      "{'pitch_x': -0.3200063667601351, 'pitch_y': 1.2238005711569406, 'pitch_type': 'fb'}\n",
      "{'pitch_x': 0.06732010392181068, 'pitch_y': 1.2612625926197014, 'pitch_type': 'fb'}\n",
      "{'pitch_x': -0.012838481408999078, 'pitch_y': 1.0845057097512287, 'pitch_type': 'chcur'}\n",
      "{'pitch_x': -0.09114403975045694, 'pitch_y': 0.936912576825322, 'pitch_type': 'fb'}\n",
      "{'pitch_x': -0.17508877030958556, 'pitch_y': -0.5859246072175109, 'pitch_type': 'fb'}\n",
      "{'pitch_x': 1.1167148470757948, 'pitch_y': -0.5476874926092775, 'pitch_type': 'chcur'}\n",
      "{'pitch_x': -0.7450730226214768, 'pitch_y': 1.2742823144000068, 'pitch_type': 'chcur'}\n",
      "{'pitch_x': 1.7493301874757627, 'pitch_y': -0.1676564532769025, 'pitch_type': 'fb'}\n",
      "{'pitch_x': -0.5677899166059304, 'pitch_y': 1.6200368008426025, 'pitch_type': 'fb'}\n",
      "{'pitch_x': -1.062204199699598, 'pitch_y': 0.8444745888946059, 'pitch_type': 'chcur'}\n",
      "{'pitch_x': 0.9920004343217245, 'pitch_y': -1.3510089903796796, 'pitch_type': 'chcur'}\n",
      "{'pitch_x': 0.06615279663838498, 'pitch_y': 1.0991549455875504, 'pitch_type': 'fb'}\n",
      "{'pitch_x': 1.1440109350677614, 'pitch_y': 0.43180609175242424, 'pitch_type': 'fb'}\n",
      "{'pitch_x': -0.33671500595743, 'pitch_y': 1.5245141597938303, 'pitch_type': 'fb'}\n",
      "{'pitch_x': -1.2821837959543, 'pitch_y': 0.5845587856633809, 'pitch_type': 'chcur'}\n",
      "{'pitch_x': 0.7552322844112725, 'pitch_y': 1.189987140577019, 'pitch_type': 'fb'}\n",
      "{'pitch_x': 0.708226124023571, 'pitch_y': 1.0690445892847205, 'pitch_type': 'chcur'}\n",
      "{'pitch_x': -0.021953985457200655, 'pitch_y': -0.28060057410306943, 'pitch_type': 'chcur'}\n",
      "{'pitch_x': -0.5292195854988827, 'pitch_y': -0.5776918775226275, 'pitch_type': 'fb'}\n",
      "{'pitch_x': 0.812481319584675, 'pitch_y': -0.7868399664095987, 'pitch_type': 'fb'}\n",
      "{'pitch_x': -1.051699441961269, 'pitch_y': -1.2853884389283439, 'pitch_type': 'chcur'}\n",
      "{'pitch_x': -1.090574823157809, 'pitch_y': 0.5378581001804865, 'pitch_type': 'chcur'}\n",
      "{'pitch_x': 1.6030675357163169, 'pitch_y': -0.8200532604718352, 'pitch_type': 'chcur'}\n",
      "{'pitch_x': -1.3495010110786163, 'pitch_y': 0.2892271004308183, 'pitch_type': 'chcur'}\n",
      "{'pitch_x': -1.3282251945987311, 'pitch_y': -0.49052878016155815, 'pitch_type': 'fb'}\n",
      "{'pitch_x': -1.8891366342861025, 'pitch_y': -2.0105080171918437, 'pitch_type': 'chcur'}\n",
      "{'pitch_x': -0.24524875269121682, 'pitch_y': -0.3203186576802015, 'pitch_type': 'chcur'}\n",
      "{'pitch_x': 0.014726078018404747, 'pitch_y': -0.7953988257271181, 'pitch_type': 'fb'}\n",
      "{'pitch_x': -0.35717530892310734, 'pitch_y': -0.6490673040154579, 'pitch_type': 'fb'}\n",
      "{'pitch_x': -0.7882943826872739, 'pitch_y': -0.35936876215145813, 'pitch_type': 'fb'}\n",
      "{'pitch_x': 0.29435758024827957, 'pitch_y': -1.4689541082195599, 'pitch_type': 'fb'}\n",
      "{'pitch_x': -0.5994957115625363, 'pitch_y': -1.293406991265235, 'pitch_type': 'fb'}\n",
      "{'pitch_x': -0.7280045800482041, 'pitch_y': 0.08456086763820414, 'pitch_type': 'chcur'}\n",
      "{'pitch_x': -0.8882673618371212, 'pitch_y': 0.8042850709279653, 'pitch_type': 'chcur'}\n",
      "{'pitch_x': -0.4599470909787647, 'pitch_y': 0.3237189352180544, 'pitch_type': 'fb'}\n",
      "{'pitch_x': -0.04484085360715774, 'pitch_y': 0.28668434167052975, 'pitch_type': 'fb'}\n",
      "{'pitch_x': -0.14762868367046802, 'pitch_y': 0.004654972192113582, 'pitch_type': 'fb'}\n",
      "{'pitch_x': -1.694645253021746, 'pitch_y': -0.4712822147818249, 'pitch_type': 'chcur'}\n",
      "{'pitch_x': -0.9347604830728572, 'pitch_y': -1.065364979310093, 'pitch_type': 'fb'}\n",
      "{'pitch_x': -0.9605339826832073, 'pitch_y': -0.7381975334986774, 'pitch_type': 'fb'}\n",
      "{'pitch_x': -0.9068614708525834, 'pitch_y': -0.9570758713846683, 'pitch_type': 'chcur'}\n",
      "{'pitch_x': -0.37895218816889026, 'pitch_y': -0.4539979160827959, 'pitch_type': 'chcur'}\n",
      "{'pitch_x': -0.3187407100070487, 'pitch_y': 0.5237096920552421, 'pitch_type': 'fb'}\n",
      "{'pitch_x': -0.49848483268715693, 'pitch_y': -0.45717635080253916, 'pitch_type': 'fb'}\n",
      "{'pitch_x': -0.48904394850397015, 'pitch_y': -0.4723731296241242, 'pitch_type': 'fb'}\n",
      "{'pitch_x': -0.6342833400573471, 'pitch_y': -0.30041121337446475, 'pitch_type': 'fb'}\n",
      "{'pitch_x': -0.03332485402337886, 'pitch_y': 1.0511434620903357, 'pitch_type': 'fb'}\n",
      "{'pitch_x': -0.5867357822214186, 'pitch_y': -0.6709833269521747, 'pitch_type': 'fb'}\n",
      "{'pitch_x': 0.2109253665283195, 'pitch_y': -0.101637503121268, 'pitch_type': 'fb'}\n",
      "{'pitch_x': 0.11972092729528655, 'pitch_y': 0.5083835710803711, 'pitch_type': 'fb'}\n",
      "{'pitch_x': -0.804222395420653, 'pitch_y': 0.022083877352083548, 'pitch_type': 'chcur'}\n",
      "{'pitch_x': -0.32206065763739095, 'pitch_y': 1.5361395251728145, 'pitch_type': 'fb'}\n",
      "{'pitch_x': -0.46466154153347894, 'pitch_y': -0.9573365798775207, 'pitch_type': 'fb'}\n",
      "{'pitch_x': -0.6614551621471384, 'pitch_y': 0.6264801544070364, 'pitch_type': 'fb'}\n",
      "{'pitch_x': 0.9452566368220024, 'pitch_y': 1.235366236758295, 'pitch_type': 'fb'}\n",
      "{'pitch_x': 0.268675273074707, 'pitch_y': 0.09273951158834035, 'pitch_type': 'chcur'}\n",
      "{'pitch_x': -0.23258188149522163, 'pitch_y': 0.3446435174276773, 'pitch_type': 'fb'}\n",
      "{'pitch_x': -0.34503585574268925, 'pitch_y': 1.1719510660368897, 'pitch_type': 'chcur'}\n",
      "{'pitch_x': -0.8517851119054923, 'pitch_y': 0.2928143163506358, 'pitch_type': 'chcur'}\n",
      "{'pitch_x': 1.8255784534857389, 'pitch_y': -0.21368735323447752, 'pitch_type': 'fb'}\n",
      "{'pitch_x': 0.27106822491298677, 'pitch_y': -0.3795112115859504, 'pitch_type': 'chcur'}\n",
      "{'pitch_x': -0.7877056335995052, 'pitch_y': -1.3148050660274038, 'pitch_type': 'fb'}\n",
      "{'pitch_x': 1.5066654188478334, 'pitch_y': -1.0468897564034825, 'pitch_type': 'chcur'}\n",
      "{'pitch_x': 0.6988956303044583, 'pitch_y': -0.1278477677601158, 'pitch_type': 'fb'}\n",
      "{'pitch_x': -0.48745939781157044, 'pitch_y': 1.410475829478472, 'pitch_type': 'chcur'}\n",
      "{'pitch_x': -0.12653858365099016, 'pitch_y': 0.1985750938757714, 'pitch_type': 'fb'}\n",
      "{'pitch_x': -2.080698735187039, 'pitch_y': -1.2447312276050995, 'pitch_type': 'fb'}\n",
      "{'pitch_x': -0.7145516997359139, 'pitch_y': -0.5908988703458093, 'pitch_type': 'fb'}\n",
      "{'pitch_x': 0.06661940152559011, 'pitch_y': 0.32039524735790076, 'pitch_type': 'chcur'}\n",
      "{'pitch_x': 1.6474859618654791, 'pitch_y': -1.0353272146709083, 'pitch_type': 'fb'}\n",
      "{'pitch_x': -0.20395344411290486, 'pitch_y': -2.15150581362224, 'pitch_type': 'chcur'}\n",
      "{'pitch_x': -0.5113786761184402, 'pitch_y': -0.8145172014498087, 'pitch_type': 'chcur'}\n",
      "{'pitch_x': 0.938032444011892, 'pitch_y': 0.06843340018880636, 'pitch_type': 'fb'}\n",
      "{'pitch_x': 0.49145063472241574, 'pitch_y': 0.059858780868032396, 'pitch_type': 'fb'}\n",
      "{'pitch_x': 0.8610644818632401, 'pitch_y': -0.7171549850965664, 'pitch_type': 'chcur'}\n",
      "{'pitch_x': 0.8864546747961315, 'pitch_y': 1.3707297936938352, 'pitch_type': 'fb'}\n",
      "{'pitch_x': 1.2391732455351303, 'pitch_y': -0.06689274423234728, 'pitch_type': 'chcur'}\n",
      "{'pitch_x': -0.5221144646405569, 'pitch_y': -0.8317318357550129, 'pitch_type': 'fb'}\n",
      "{'pitch_x': 0.4702190848548137, 'pitch_y': 0.7068547719171332, 'pitch_type': 'chcur'}\n",
      "{'pitch_x': 0.1457738815504964, 'pitch_y': -0.22931661293385433, 'pitch_type': 'chcur'}\n",
      "{'pitch_x': -1.1014207077654496, 'pitch_y': -0.6646581500485886, 'pitch_type': 'chcur'}\n",
      "{'pitch_x': -1.3790320713156794, 'pitch_y': 1.464573035910851, 'pitch_type': 'chcur'}\n",
      "{'pitch_x': -0.8444001343103742, 'pitch_y': 0.0002600812429929044, 'pitch_type': 'chcur'}\n",
      "{'pitch_x': 0.6918028467188725, 'pitch_y': 0.43230159572820703, 'pitch_type': 'chcur'}\n",
      "{'pitch_x': 0.04730861524337005, 'pitch_y': -0.7388457469790162, 'pitch_type': 'chcur'}\n",
      "{'pitch_x': 0.3879887278256185, 'pitch_y': 0.5083450334123979, 'pitch_type': 'fb'}\n",
      "{'pitch_x': 0.9257727690934909, 'pitch_y': -1.8375359546747883, 'pitch_type': 'fb'}\n",
      "{'pitch_x': 0.8603356517632266, 'pitch_y': 0.2686152584821756, 'pitch_type': 'chcur'}\n",
      "{'pitch_x': -1.1353924556816326, 'pitch_y': -0.39977725810870357, 'pitch_type': 'chcur'}\n",
      "{'pitch_x': 0.7300448385454709, 'pitch_y': 0.544534482327369, 'pitch_type': 'chcur'}\n",
      "{'pitch_x': -0.9178918677741232, 'pitch_y': 0.8425577863396537, 'pitch_type': 'chcur'}\n",
      "{'pitch_x': 1.2854139379341254, 'pitch_y': 0.04871333649339328, 'pitch_type': 'fb'}\n",
      "{'pitch_x': 0.34780879052977215, 'pitch_y': 0.06100310760071277, 'pitch_type': 'chcur'}\n",
      "{'pitch_x': -0.5713599398156595, 'pitch_y': 1.1699469563917633, 'pitch_type': 'fb'}\n",
      "{'pitch_x': -0.07420773198120843, 'pitch_y': -0.529406114317128, 'pitch_type': 'chcur'}\n",
      "{'pitch_x': 0.18126079604409723, 'pitch_y': 1.1174117892236248, 'pitch_type': 'chcur'}\n",
      "{'pitch_x': 0.8219320647637771, 'pitch_y': 0.1617962671749101, 'pitch_type': 'chcur'}\n",
      "{'pitch_x': -0.02169009369663449, 'pitch_y': 1.465768141507136, 'pitch_type': 'chcur'}\n",
      "{'pitch_x': 0.7401913490549425, 'pitch_y': -0.2644520127361637, 'pitch_type': 'fb'}\n",
      "{'pitch_x': -0.4363547624331675, 'pitch_y': 0.4878054243519824, 'pitch_type': 'chcur'}\n",
      "{'pitch_x': 0.9548835450942594, 'pitch_y': -0.9514784192256, 'pitch_type': 'chcur'}\n",
      "{'pitch_x': -0.3864339479862343, 'pitch_y': -0.25015250053357063, 'pitch_type': 'chcur'}\n",
      "{'pitch_x': -0.2815768156274104, 'pitch_y': -1.9963850589841858, 'pitch_type': 'chcur'}\n",
      "{'pitch_x': -1.729359067878677, 'pitch_y': -0.7455473088076158, 'pitch_type': 'fb'}\n",
      "{'pitch_x': 1.5575960236049393, 'pitch_y': 0.5493784666766708, 'pitch_type': 'chcur'}\n",
      "{'pitch_x': -0.05273723688828447, 'pitch_y': -0.24130635645427714, 'pitch_type': 'chcur'}\n",
      "{'pitch_x': -1.5647120947052098, 'pitch_y': 0.859329815503322, 'pitch_type': 'fb'}\n",
      "{'pitch_x': 0.2820087061923045, 'pitch_y': -0.10723850957901394, 'pitch_type': 'chcur'}\n",
      "{'pitch_x': -0.3946774959498625, 'pitch_y': -1.2455871134882728, 'pitch_type': 'chcur'}\n",
      "{'pitch_x': -1.8376122637749044, 'pitch_y': -0.9554417126208558, 'pitch_type': 'chcur'}\n",
      "{'pitch_x': 0.3788502735078676, 'pitch_y': 0.5809828997167972, 'pitch_type': 'fb'}\n",
      "{'pitch_x': 0.31064841264646204, 'pitch_y': -0.6587835337936683, 'pitch_type': 'fb'}\n",
      "{'pitch_x': 0.21300818695973647, 'pitch_y': -1.2498415308829727, 'pitch_type': 'fb'}\n",
      "{'pitch_x': -0.9681351807165658, 'pitch_y': 0.10461161838596855, 'pitch_type': 'chcur'}\n",
      "{'pitch_x': -0.9979028136155899, 'pitch_y': 0.26864680423911985, 'pitch_type': 'chcur'}\n",
      "{'pitch_x': 0.8257457736197695, 'pitch_y': 0.9809931548090497, 'pitch_type': 'chcur'}\n",
      "{'pitch_x': 0.9985985386001515, 'pitch_y': -0.13865093463447467, 'pitch_type': 'chcur'}\n",
      "{'pitch_x': 0.37751951810405443, 'pitch_y': -0.5240696998516899, 'pitch_type': 'chcur'}\n",
      "{'pitch_x': -0.14051181031205576, 'pitch_y': 1.893879882511369, 'pitch_type': 'chcur'}\n",
      "{'pitch_x': -0.30740635946525796, 'pitch_y': -0.1419266914143473, 'pitch_type': 'chcur'}\n",
      "{'pitch_x': 1.3816795532223725, 'pitch_y': -1.1012757675079257, 'pitch_type': 'fb'}\n",
      "{'pitch_x': 0.340040366200393, 'pitch_y': -0.8796988969951618, 'pitch_type': 'chcur'}\n",
      "{'pitch_x': 0.137695586663931, 'pitch_y': -1.2839714036691001, 'pitch_type': 'chcur'}\n",
      "{'pitch_x': 0.28136848864353564, 'pitch_y': 0.4039065132765347, 'pitch_type': 'chcur'}\n",
      "{'pitch_x': -0.746994417123092, 'pitch_y': -0.6655780033428096, 'pitch_type': 'chcur'}\n",
      "{'pitch_x': -0.7596909821020897, 'pitch_y': -0.20481225984133794, 'pitch_type': 'chcur'}\n",
      "{'pitch_x': 0.05817188840553116, 'pitch_y': -0.5745600534251136, 'pitch_type': 'chcur'}\n",
      "{'pitch_x': 0.4071091679878286, 'pitch_y': 0.12984059001059617, 'pitch_type': 'chcur'}\n",
      "{'pitch_x': -0.6702968069635117, 'pitch_y': -0.32663664751474814, 'pitch_type': 'fb'}\n",
      "{'pitch_x': 0.9587166765544985, 'pitch_y': -0.1504083100050968, 'pitch_type': 'chcur'}\n",
      "{'pitch_x': 0.7343616486948721, 'pitch_y': 0.21072723490603745, 'pitch_type': 'fb'}\n",
      "{'pitch_x': -0.32263310851920396, 'pitch_y': 0.14791218332883174, 'pitch_type': 'chcur'}\n",
      "{'pitch_x': -0.9719736153314914, 'pitch_y': -1.891584579182167, 'pitch_type': 'fb'}\n",
      "{'pitch_x': -1.007492650437928, 'pitch_y': -0.09189715296873263, 'pitch_type': 'chcur'}\n",
      "{'pitch_x': -0.55022835338243, 'pitch_y': 1.11333867382964, 'pitch_type': 'chcur'}\n",
      "{'pitch_x': 0.4159592087617978, 'pitch_y': 0.09446396145080237, 'pitch_type': 'fb'}\n",
      "{'pitch_x': 1.896258895911185, 'pitch_y': 0.11010994430991865, 'pitch_type': 'chcur'}\n",
      "{'pitch_x': 1.5594140585542693, 'pitch_y': 0.4352343833309354, 'pitch_type': 'chcur'}\n",
      "{'pitch_x': -0.019098653998941492, 'pitch_y': -1.023368176831507, 'pitch_type': 'chcur'}\n",
      "{'pitch_x': 0.6691889387409563, 'pitch_y': 0.23305687381091333, 'pitch_type': 'chcur'}\n",
      "{'pitch_x': 1.5968585621954747, 'pitch_y': -0.13612747294423705, 'pitch_type': 'chcur'}\n",
      "{'pitch_x': 1.0079724697995467, 'pitch_y': -0.8235553042399353, 'pitch_type': 'fb'}\n",
      "{'pitch_x': 0.8731847742344467, 'pitch_y': -0.3475863481792525, 'pitch_type': 'fb'}\n",
      "{'pitch_x': -0.008218167593666621, 'pitch_y': 0.7855390600831231, 'pitch_type': 'chcur'}\n",
      "{'pitch_x': 0.2282410194566291, 'pitch_y': -0.33617071325911774, 'pitch_type': 'chcur'}\n",
      "{'pitch_x': 0.8057707395360392, 'pitch_y': 1.2268077558110226, 'pitch_type': 'chcur'}\n",
      "{'pitch_x': -0.490398318240139, 'pitch_y': -0.5353793912803363, 'pitch_type': 'fb'}\n",
      "{'pitch_x': 1.8262656393980132, 'pitch_y': -0.10711863795776028, 'pitch_type': 'chcur'}\n",
      "{'pitch_x': 1.867607532240171, 'pitch_y': -0.5980552607242428, 'pitch_type': 'chcur'}\n",
      "{'pitch_x': -1.3560052485475398, 'pitch_y': 1.366523101613199, 'pitch_type': 'fb'}\n",
      "{'pitch_x': -0.41582436154828434, 'pitch_y': -2.879032047311194, 'pitch_type': 'chcur'}\n",
      "{'pitch_x': 0.880207594613418, 'pitch_y': 0.7285771076088249, 'pitch_type': 'fb'}\n",
      "{'pitch_x': 0.4791963257222043, 'pitch_y': 0.9688316367546888, 'pitch_type': 'fb'}\n",
      "{'pitch_x': 1.5719505290125773, 'pitch_y': 0.6976322759260777, 'pitch_type': 'chcur'}\n",
      "{'pitch_x': -0.3010163445018493, 'pitch_y': 1.0847137919265206, 'pitch_type': 'chcur'}\n",
      "{'pitch_x': -1.2229781697706044, 'pitch_y': 1.1520550742792872, 'pitch_type': 'chcur'}\n",
      "{'pitch_x': -0.34632180237445653, 'pitch_y': 1.2255768643718588, 'pitch_type': 'fb'}\n",
      "{'pitch_x': 0.8578649046979099, 'pitch_y': 0.2135121317342561, 'pitch_type': 'fb'}\n",
      "{'pitch_x': 0.644720911677365, 'pitch_y': 0.9015680416304404, 'pitch_type': 'chcur'}\n",
      "{'pitch_x': 0.9956012923426362, 'pitch_y': 0.17908751798999978, 'pitch_type': 'chcur'}\n",
      "{'pitch_x': -0.9186617491612179, 'pitch_y': 0.21061086314777655, 'pitch_type': 'chcur'}\n",
      "{'pitch_x': 0.12492984719760179, 'pitch_y': 0.3580705181440594, 'pitch_type': 'chcur'}\n",
      "{'pitch_x': -0.39965702168101824, 'pitch_y': -1.384911998534037, 'pitch_type': 'chcur'}\n",
      "{'pitch_x': -0.4236893071349876, 'pitch_y': 0.530341123042908, 'pitch_type': 'chcur'}\n",
      "{'pitch_x': 0.2337702447443364, 'pitch_y': -1.0445979708352071, 'pitch_type': 'chcur'}\n",
      "{'pitch_x': -0.10264961849491919, 'pitch_y': 0.33082432944852086, 'pitch_type': 'fb'}\n",
      "{'pitch_x': 0.7203135675096418, 'pitch_y': 1.2180891508843275, 'pitch_type': 'chcur'}\n",
      "{'pitch_x': -0.46674146134666955, 'pitch_y': 0.5827117750084655, 'pitch_type': 'chcur'}\n",
      "{'pitch_x': -1.1406116941538298, 'pitch_y': -1.0855005418178214, 'pitch_type': 'chcur'}\n",
      "{'pitch_x': 0.38521896469913935, 'pitch_y': 0.4128849460663968, 'pitch_type': 'fb'}\n",
      "{'pitch_x': -0.7698181009028527, 'pitch_y': -0.9233082195985732, 'pitch_type': 'fb'}\n",
      "{'pitch_x': -1.1136586733555138, 'pitch_y': -0.4606624430035062, 'pitch_type': 'chcur'}\n",
      "{'pitch_x': -1.939392450706358, 'pitch_y': -0.21124353565367662, 'pitch_type': 'chcur'}\n",
      "{'pitch_x': 0.452485850326769, 'pitch_y': -0.08773846787394238, 'pitch_type': 'chcur'}\n",
      "{'pitch_x': -0.9251148428147138, 'pitch_y': 0.04820341258451181, 'pitch_type': 'fb'}\n",
      "{'pitch_x': -0.05982964405027358, 'pitch_y': 0.8465312192607123, 'pitch_type': 'chcur'}\n",
      "{'pitch_x': -1.1243782935163196, 'pitch_y': 0.30174092611471903, 'pitch_type': 'chcur'}\n",
      "{'pitch_x': 0.14874658824710618, 'pitch_y': 1.0678862407167093, 'pitch_type': 'chcur'}\n",
      "{'pitch_x': -1.3061331553346054, 'pitch_y': -0.20735653040837387, 'pitch_type': 'chcur'}\n",
      "{'pitch_x': -0.8154017305611473, 'pitch_y': -0.2875333233953571, 'pitch_type': 'chcur'}\n",
      "{'pitch_x': -0.4564161763177159, 'pitch_y': -0.1558600238369919, 'pitch_type': 'fb'}\n",
      "{'pitch_x': -0.3632060998728594, 'pitch_y': -0.2209199831652069, 'pitch_type': 'fb'}\n",
      "{'pitch_x': 0.3864345410403906, 'pitch_y': -0.9711056844835352, 'pitch_type': 'chcur'}\n",
      "{'pitch_x': -0.2718964974169117, 'pitch_y': -0.16313640847001193, 'pitch_type': 'chcur'}\n",
      "{'pitch_x': 0.7428747277001834, 'pitch_y': -0.3722823868326701, 'pitch_type': 'chcur'}\n",
      "{'pitch_x': -1.570018175884904, 'pitch_y': 1.0587370054032843, 'pitch_type': 'fb'}\n",
      "{'pitch_x': -0.4109444135959146, 'pitch_y': 0.6355161690873329, 'pitch_type': 'chcur'}\n",
      "{'pitch_x': 0.47088007124833264, 'pitch_y': 0.13659432840656996, 'pitch_type': 'fb'}\n",
      "{'pitch_x': -0.21229810971610863, 'pitch_y': -0.38473510880550793, 'pitch_type': 'chcur'}\n",
      "{'pitch_x': 1.0164158791247202, 'pitch_y': -0.23484458667178534, 'pitch_type': 'fb'}\n",
      "{'pitch_x': 0.5819395948995838, 'pitch_y': 0.36927088892072435, 'pitch_type': 'chcur'}\n",
      "{'pitch_x': -0.18270287255419762, 'pitch_y': 0.8072612204317798, 'pitch_type': 'chcur'}\n",
      "{'pitch_x': 0.3506078324572188, 'pitch_y': 0.018512832016891006, 'pitch_type': 'fb'}\n",
      "{'pitch_x': -0.7475885523008428, 'pitch_y': -0.2704560537240807, 'pitch_type': 'chcur'}\n",
      "{'pitch_x': 0.16495517527619474, 'pitch_y': -0.18010364455934738, 'pitch_type': 'chcur'}\n",
      "{'pitch_x': -0.16824431553795963, 'pitch_y': -0.3346259246226408, 'pitch_type': 'chcur'}\n",
      "{'pitch_x': 0.6268531961609566, 'pitch_y': -0.0866334527044104, 'pitch_type': 'chcur'}\n",
      "{'pitch_x': 0.9779411798645038, 'pitch_y': -0.43182112677396806, 'pitch_type': 'fb'}\n",
      "{'pitch_x': 0.5141211506173796, 'pitch_y': -1.0541499826640934, 'pitch_type': 'chcur'}\n",
      "{'pitch_x': -0.17727486040306809, 'pitch_y': -0.9702155418550463, 'pitch_type': 'fb'}\n",
      "{'pitch_x': 0.40117948537885845, 'pitch_y': -0.3317842340544787, 'pitch_type': 'chcur'}\n",
      "{'pitch_x': -0.03581990844049116, 'pitch_y': 0.2862115498143376, 'pitch_type': 'chcur'}\n",
      "{'pitch_x': -0.5784298506159617, 'pitch_y': -1.1679073398699886, 'pitch_type': 'chcur'}\n",
      "{'pitch_x': 1.632570727796244, 'pitch_y': 0.7698632418830049, 'pitch_type': 'fb'}\n",
      "{'pitch_x': -0.6823038356371739, 'pitch_y': 1.4958163209995303, 'pitch_type': 'fb'}\n",
      "{'pitch_x': -1.0490721514095576, 'pitch_y': -0.01108925345987783, 'pitch_type': 'chcur'}\n",
      "{'pitch_x': -0.23555029314903952, 'pitch_y': -0.8421004321227871, 'pitch_type': 'fb'}\n",
      "{'pitch_x': 1.6490239259781487, 'pitch_y': -0.5554233766487864, 'pitch_type': 'fb'}\n",
      "{'pitch_x': -0.23326486091963092, 'pitch_y': 1.3871040323120956, 'pitch_type': 'chcur'}\n",
      "{'pitch_x': 0.0745891420794596, 'pitch_y': 1.3544622642432098, 'pitch_type': 'fb'}\n",
      "{'pitch_x': 0.3155163937139211, 'pitch_y': -0.6856299552437872, 'pitch_type': 'fb'}\n",
      "{'pitch_x': 0.6684090089086171, 'pitch_y': -0.16042399631913298, 'pitch_type': 'chcur'}\n",
      "{'pitch_x': -0.6601616250262328, 'pitch_y': 1.1286436015272352, 'pitch_type': 'fb'}\n",
      "{'pitch_x': 0.24409048570901878, 'pitch_y': -0.45532225318834785, 'pitch_type': 'fb'}\n",
      "{'pitch_x': 0.5293335427366685, 'pitch_y': -0.05309051564517193, 'pitch_type': 'chcur'}\n",
      "{'pitch_x': -0.935934319890261, 'pitch_y': -0.7864116997998766, 'pitch_type': 'chcur'}\n",
      "{'pitch_x': 0.9662894724448939, 'pitch_y': 0.19316282274834043, 'pitch_type': 'fb'}\n",
      "{'pitch_x': -0.9686152835713384, 'pitch_y': -0.8755495392899358, 'pitch_type': 'fb'}\n",
      "{'pitch_x': -1.0448288570219677, 'pitch_y': -0.421245336221607, 'pitch_type': 'chcur'}\n",
      "{'pitch_x': 0.5671405458737658, 'pitch_y': 1.0396197372442153, 'pitch_type': 'chcur'}\n",
      "{'pitch_x': 1.1057208569323647, 'pitch_y': -0.49141555926875613, 'pitch_type': 'fb'}\n",
      "{'pitch_x': 0.6714353381820426, 'pitch_y': -0.5937023917367494, 'pitch_type': 'fb'}\n",
      "{'pitch_x': -1.445488088639962, 'pitch_y': 0.05802285266089658, 'pitch_type': 'chcur'}\n",
      "{'pitch_x': 1.2827576242522778, 'pitch_y': -0.6220426883408595, 'pitch_type': 'chcur'}\n",
      "{'pitch_x': 0.6924153753803357, 'pitch_y': -0.8716893106708041, 'pitch_type': 'fb'}\n",
      "{'pitch_x': -0.06469128401263295, 'pitch_y': 0.24034333276108866, 'pitch_type': 'chcur'}\n",
      "{'pitch_x': -0.6251654450222883, 'pitch_y': 0.5502784747415905, 'pitch_type': 'fb'}\n",
      "{'pitch_x': -0.7864061935558007, 'pitch_y': -0.14033928357602374, 'pitch_type': 'chcur'}\n",
      "{'pitch_x': 1.1159190484307717, 'pitch_y': -0.6164385334407332, 'pitch_type': 'chcur'}\n",
      "{'pitch_x': 1.1384454848719903, 'pitch_y': 0.7189457951255721, 'pitch_type': 'fb'}\n",
      "{'pitch_x': 0.8928957899939016, 'pitch_y': 0.00289910498575172, 'pitch_type': 'chcur'}\n",
      "{'pitch_x': -0.5072643374360614, 'pitch_y': 0.025782250647639143, 'pitch_type': 'chcur'}\n",
      "{'pitch_x': 0.3224583841247374, 'pitch_y': 0.956882387404063, 'pitch_type': 'fb'}\n",
      "{'pitch_x': -0.9586628546728182, 'pitch_y': -0.6066749494588622, 'pitch_type': 'fb'}\n",
      "{'pitch_x': 0.5895527438610676, 'pitch_y': -0.6601637095827596, 'pitch_type': 'chcur'}\n",
      "{'pitch_x': -1.3233253128261118, 'pitch_y': 0.5671548273124413, 'pitch_type': 'fb'}\n",
      "{'pitch_x': 1.7415060555668902, 'pitch_y': -0.07499912686426599, 'pitch_type': 'chcur'}\n",
      "{'pitch_x': 0.5996397393069302, 'pitch_y': 0.4288081062543179, 'pitch_type': 'chcur'}\n",
      "{'pitch_x': -0.14957513955174603, 'pitch_y': -1.0166066501073243, 'pitch_type': 'chcur'}\n",
      "{'pitch_x': -0.3917427962485303, 'pitch_y': 0.491687644826655, 'pitch_type': 'chcur'}\n",
      "{'pitch_x': 0.31231850271068223, 'pitch_y': -0.9443094907215166, 'pitch_type': 'fb'}\n",
      "{'pitch_x': 0.5291294987737303, 'pitch_y': 0.22600752172308394, 'pitch_type': 'chcur'}\n",
      "{'pitch_x': -0.8937824973614372, 'pitch_y': -0.7532439209969657, 'pitch_type': 'fb'}\n",
      "{'pitch_x': 0.5237975063168279, 'pitch_y': 0.6556347657510885, 'pitch_type': 'chcur'}\n",
      "{'pitch_x': 0.3910662778205654, 'pitch_y': -1.2818520656955477, 'pitch_type': 'chcur'}\n",
      "{'pitch_x': -0.9464289533388088, 'pitch_y': -0.04973003505345798, 'pitch_type': 'fb'}\n",
      "{'pitch_x': 1.3233812582317277, 'pitch_y': 1.2743577487665523, 'pitch_type': 'chcur'}\n",
      "{'pitch_x': -0.12061528045857906, 'pitch_y': -0.24143815454640233, 'pitch_type': 'chcur'}\n",
      "{'pitch_x': 0.13852466463607016, 'pitch_y': -0.28222996523393673, 'pitch_type': 'fb'}\n",
      "{'pitch_x': 0.0712246353904902, 'pitch_y': 0.4243055483987051, 'pitch_type': 'chcur'}\n",
      "{'pitch_x': 1.138101317680553, 'pitch_y': 1.0608557422960114, 'pitch_type': 'chcur'}\n",
      "{'pitch_x': -0.15561824665831755, 'pitch_y': 0.6050167926327426, 'pitch_type': 'chcur'}\n",
      "{'pitch_x': 0.16717439269832715, 'pitch_y': -1.3443568606772942, 'pitch_type': 'fb'}\n",
      "{'pitch_x': -0.9391765708707854, 'pitch_y': 0.015118447901611338, 'pitch_type': 'fb'}\n",
      "{'pitch_x': 0.8584158381100239, 'pitch_y': -0.12213627003534824, 'pitch_type': 'chcur'}\n",
      "{'pitch_x': -0.13675339624577326, 'pitch_y': -0.2583426031602817, 'pitch_type': 'chcur'}\n",
      "{'pitch_x': -0.5810704085054156, 'pitch_y': 1.7477952729445079, 'pitch_type': 'fb'}\n",
      "{'pitch_x': 0.8656859166544858, 'pitch_y': 0.6860544561895956, 'pitch_type': 'fb'}\n",
      "{'pitch_x': -0.8393360221154066, 'pitch_y': 1.5815735659246875, 'pitch_type': 'fb'}\n",
      "{'pitch_x': -1.0580625595085376, 'pitch_y': 0.9159949558828442, 'pitch_type': 'chcur'}\n",
      "{'pitch_x': 1.7276489238768935, 'pitch_y': -1.4028626259229422, 'pitch_type': 'fb'}\n",
      "{'pitch_x': -0.31208770150991066, 'pitch_y': 0.24759707871076564, 'pitch_type': 'fb'}\n",
      "{'pitch_x': -1.1014510577364787, 'pitch_y': 0.25391278718468746, 'pitch_type': 'chcur'}\n",
      "{'pitch_x': 0.2170554672678121, 'pitch_y': -0.8959497855558983, 'pitch_type': 'fb'}\n",
      "{'pitch_x': 0.40979618506785986, 'pitch_y': 0.8876386185428335, 'pitch_type': 'fb'}\n",
      "{'pitch_x': 1.5620973243095122, 'pitch_y': 0.5582270299241524, 'pitch_type': 'chcur'}\n",
      "{'pitch_x': 1.385785700304698, 'pitch_y': 0.015735552901647333, 'pitch_type': 'fb'}\n",
      "{'pitch_x': -2.035426695065233, 'pitch_y': 0.15622567307777135, 'pitch_type': 'fb'}\n",
      "{'pitch_x': -0.02702188710158039, 'pitch_y': -2.048841926492746, 'pitch_type': 'chcur'}\n",
      "{'pitch_x': -0.021611068085109212, 'pitch_y': 0.007279689828836341, 'pitch_type': 'chcur'}\n",
      "{'pitch_x': -0.19613461943066923, 'pitch_y': 0.0995953910850399, 'pitch_type': 'fb'}\n",
      "{'pitch_x': 0.8569316881173413, 'pitch_y': 0.1610740147846987, 'pitch_type': 'fb'}\n",
      "{'pitch_x': 0.8804479905519882, 'pitch_y': 0.06526087187240029, 'pitch_type': 'chcur'}\n",
      "{'pitch_x': -1.1740850274666175, 'pitch_y': -0.5649088689774985, 'pitch_type': 'fb'}\n",
      "{'pitch_x': 0.2596589075601207, 'pitch_y': -0.927513731680892, 'pitch_type': 'chcur'}\n",
      "{'pitch_x': -1.2287094150750604, 'pitch_y': -1.5255955392267926, 'pitch_type': 'chcur'}\n",
      "{'pitch_x': -0.4450209681084657, 'pitch_y': -0.27705824820160085, 'pitch_type': 'fb'}\n",
      "{'pitch_x': -0.1959637184580329, 'pitch_y': 0.7509563966507748, 'pitch_type': 'fb'}\n",
      "{'pitch_x': 0.1632657466750127, 'pitch_y': 0.3532689177815965, 'pitch_type': 'chcur'}\n",
      "{'pitch_x': 0.6846068828103328, 'pitch_y': 0.7177504692906379, 'pitch_type': 'chcur'}\n",
      "{'pitch_x': 0.14387603023448559, 'pitch_y': 0.43841911884395934, 'pitch_type': 'fb'}\n",
      "{'pitch_x': 0.19491517293107344, 'pitch_y': -0.05644363855166868, 'pitch_type': 'chcur'}\n",
      "{'pitch_x': -0.2914107106969696, 'pitch_y': 1.083791868254124, 'pitch_type': 'chcur'}\n",
      "{'pitch_x': -0.34816490951520324, 'pitch_y': 0.9367447244309584, 'pitch_type': 'chcur'}\n",
      "{'pitch_x': 0.8676975663194577, 'pitch_y': -0.6229386416792861, 'pitch_type': 'fb'}\n",
      "{'pitch_x': 0.5038636455473398, 'pitch_y': 1.053603903473816, 'pitch_type': 'chcur'}\n",
      "{'pitch_x': 0.1002486337287185, 'pitch_y': 0.778600143406344, 'pitch_type': 'chcur'}\n",
      "{'pitch_x': 1.0819313871710567, 'pitch_y': 0.8844152685481818, 'pitch_type': 'chcur'}\n",
      "{'pitch_x': -0.8702059589734394, 'pitch_y': 1.4886858669044052, 'pitch_type': 'chcur'}\n",
      "{'pitch_x': 0.4613022374308769, 'pitch_y': 0.7989034535829668, 'pitch_type': 'chcur'}\n",
      "{'pitch_x': -2.1566328697330466, 'pitch_y': -0.19695623207948132, 'pitch_type': 'chcur'}\n",
      "{'pitch_x': -0.19266634013032677, 'pitch_y': -1.6428596680557213, 'pitch_type': 'chcur'}\n",
      "{'pitch_x': 0.5798021138836542, 'pitch_y': 0.1186225120889955, 'pitch_type': 'fb'}\n",
      "{'pitch_x': -0.814359596124998, 'pitch_y': -0.6028553202972513, 'pitch_type': 'chcur'}\n",
      "{'pitch_x': 0.8072933890986034, 'pitch_y': -0.06123553011810102, 'pitch_type': 'chcur'}\n",
      "{'pitch_x': 0.465046806533017, 'pitch_y': 0.6138557022429907, 'pitch_type': 'chcur'}\n",
      "{'pitch_x': -0.10407752630252762, 'pitch_y': -0.19411331281627897, 'pitch_type': 'fb'}\n",
      "{'pitch_x': -0.11434675801172066, 'pitch_y': 0.2326982525413226, 'pitch_type': 'chcur'}\n",
      "{'pitch_x': -2.91347292601554, 'pitch_y': 0.3640172088221723, 'pitch_type': 'fb'}\n",
      "{'pitch_x': -1.1012384727500102, 'pitch_y': -0.061853603973519584, 'pitch_type': 'fb'}\n",
      "{'pitch_x': -0.7289192273096302, 'pitch_y': 0.23512903707315405, 'pitch_type': 'chcur'}\n",
      "{'pitch_x': -0.7931046057915632, 'pitch_y': -0.27733930696437464, 'pitch_type': 'fb'}\n",
      "{'pitch_x': 0.02232300479844803, 'pitch_y': 0.8885972357181678, 'pitch_type': 'fb'}\n",
      "{'pitch_x': 0.594687642402121, 'pitch_y': -1.203497602871889, 'pitch_type': 'fb'}\n",
      "{'pitch_x': 0.08475386231364229, 'pitch_y': 1.5890902871191375, 'pitch_type': 'fb'}\n",
      "{'pitch_x': -1.287041119470692, 'pitch_y': -0.194378043104335, 'pitch_type': 'chcur'}\n",
      "{'pitch_x': -0.4702028657532085, 'pitch_y': 0.6718949694938057, 'pitch_type': 'fb'}\n",
      "{'pitch_x': 0.536295414985352, 'pitch_y': -0.030070665250874574, 'pitch_type': 'chcur'}\n",
      "{'pitch_x': -0.5169845447889709, 'pitch_y': 0.43864180573680345, 'pitch_type': 'chcur'}\n",
      "{'pitch_x': -0.420952667775691, 'pitch_y': -0.21604629850312823, 'pitch_type': 'fb'}\n",
      "{'pitch_x': 0.6566262383620382, 'pitch_y': 0.19051233625200062, 'pitch_type': 'chcur'}\n",
      "{'pitch_x': 1.9927102869098925, 'pitch_y': 1.1480648740431614, 'pitch_type': 'chcur'}\n",
      "{'pitch_x': 1.1364917250012303, 'pitch_y': -0.05814403587754038, 'pitch_type': 'fb'}\n",
      "{'pitch_x': -0.32136620904290436, 'pitch_y': 0.4705090434631684, 'pitch_type': 'chcur'}\n",
      "{'pitch_x': 0.1543721285214773, 'pitch_y': 0.43579587662971914, 'pitch_type': 'chcur'}\n",
      "{'pitch_x': -2.184096224888532, 'pitch_y': 0.16776460641776378, 'pitch_type': 'fb'}\n"
     ]
    }
   ],
   "source": [
    "pitch_dict = []\n",
    "pitch_hitability_dict = []\n",
    "for i in range(0, 1000):\n",
    "    pitch = generate_pitch()\n",
    "    hitability_obj = PitchLogic()\n",
    "    hitability = hitability_obj.calculate_hitability(pitch, hit_odds_calculator=.25)\n",
    "    pitch = hitability_obj.get_outcome(pitch)\n",
    "    pitch = pitch.__dict__\n",
    "    pitch[\"hitability\"] = hitability\n",
    "    pitch_dict.append(pitch)\n",
    "\n",
    "df = pd.DataFrame(pitch_dict)\n"
   ]
  },
  {
   "cell_type": "code",
   "execution_count": 8,
   "metadata": {},
   "outputs": [
    {
     "data": {
      "text/html": [
       "<div>\n",
       "<style scoped>\n",
       "    .dataframe tbody tr th:only-of-type {\n",
       "        vertical-align: middle;\n",
       "    }\n",
       "\n",
       "    .dataframe tbody tr th {\n",
       "        vertical-align: top;\n",
       "    }\n",
       "\n",
       "    .dataframe thead th {\n",
       "        text-align: right;\n",
       "    }\n",
       "</style>\n",
       "<table border=\"1\" class=\"dataframe\">\n",
       "  <thead>\n",
       "    <tr style=\"text-align: right;\">\n",
       "      <th></th>\n",
       "      <th>pitch_x</th>\n",
       "      <th>pitch_y</th>\n",
       "      <th>pitch_type</th>\n",
       "      <th>outcome</th>\n",
       "      <th>hitability</th>\n",
       "    </tr>\n",
       "  </thead>\n",
       "  <tbody>\n",
       "    <tr>\n",
       "      <th>0</th>\n",
       "      <td>-0.877502</td>\n",
       "      <td>-0.462617</td>\n",
       "      <td>chcur</td>\n",
       "      <td>Strike</td>\n",
       "      <td>0.685043</td>\n",
       "    </tr>\n",
       "    <tr>\n",
       "      <th>1</th>\n",
       "      <td>0.449266</td>\n",
       "      <td>-0.411161</td>\n",
       "      <td>chcur</td>\n",
       "      <td>Strike</td>\n",
       "      <td>17.334602</td>\n",
       "    </tr>\n",
       "    <tr>\n",
       "      <th>2</th>\n",
       "      <td>1.033743</td>\n",
       "      <td>-1.304300</td>\n",
       "      <td>chcur</td>\n",
       "      <td>Ball</td>\n",
       "      <td>-0.538883</td>\n",
       "    </tr>\n",
       "    <tr>\n",
       "      <th>3</th>\n",
       "      <td>-0.039895</td>\n",
       "      <td>-0.978113</td>\n",
       "      <td>fb</td>\n",
       "      <td>Strike</td>\n",
       "      <td>-15.724536</td>\n",
       "    </tr>\n",
       "    <tr>\n",
       "      <th>4</th>\n",
       "      <td>-0.272950</td>\n",
       "      <td>-0.031387</td>\n",
       "      <td>fb</td>\n",
       "      <td>Strike</td>\n",
       "      <td>19.026397</td>\n",
       "    </tr>\n",
       "  </tbody>\n",
       "</table>\n",
       "</div>"
      ],
      "text/plain": [
       "    pitch_x   pitch_y pitch_type outcome  hitability\n",
       "0 -0.877502 -0.462617      chcur  Strike    0.685043\n",
       "1  0.449266 -0.411161      chcur  Strike   17.334602\n",
       "2  1.033743 -1.304300      chcur    Ball   -0.538883\n",
       "3 -0.039895 -0.978113         fb  Strike  -15.724536\n",
       "4 -0.272950 -0.031387         fb  Strike   19.026397"
      ]
     },
     "execution_count": 8,
     "metadata": {},
     "output_type": "execute_result"
    }
   ],
   "source": [
    "pitch_data = Pitch_Data(df)\n",
    "df.head()"
   ]
  },
  {
   "cell_type": "code",
   "execution_count": 5,
   "metadata": {},
   "outputs": [
    {
     "data": {
      "application/vnd.plotly.v1+json": {
       "config": {
        "plotlyServerURL": "https://plot.ly"
       },
       "data": [
        {
         "alignmentgroup": "True",
         "bingroup": "x",
         "hovertemplate": "variable=outcome<br>value=%{x}<br>count=%{y}<extra></extra>",
         "legendgroup": "outcome",
         "marker": {
          "color": "#636efa",
          "pattern": {
           "shape": ""
          }
         },
         "name": "outcome",
         "offsetgroup": "outcome",
         "orientation": "v",
         "showlegend": true,
         "type": "histogram",
         "x": [
          "Strike",
          "Strike",
          "Ball",
          "Strike",
          "Strike",
          "Ball",
          "Strike",
          "Strike",
          "Ball",
          "Strike",
          "Ball",
          "Strike",
          "Ball",
          "Strike",
          "Ball",
          "Ball",
          "Strike",
          "Ball",
          "Strike",
          "Ball",
          "Strike",
          "Strike",
          "Ball",
          "Ball",
          "Ball",
          "Ball",
          "Strike",
          "Ball",
          "Ball",
          "Strike",
          "Ball",
          "Ball",
          "Strike",
          "Strike",
          "Ball",
          "Ball",
          "Ball",
          "Ball",
          "Ball",
          "Strike",
          "Strike",
          "Strike",
          "Ball",
          "Ball",
          "Strike",
          "Strike",
          "Strike",
          "Ball",
          "Strike",
          "Strike",
          "Ball",
          "Ball",
          "Strike",
          "Strike",
          "Strike",
          "Strike",
          "Strike",
          "Ball",
          "Strike",
          "Strike",
          "Strike",
          "Ball",
          "Ball",
          "Strike",
          "Ball",
          "Ball",
          "Strike",
          "Strike",
          "Ball",
          "Ball",
          "Strike",
          "Strike",
          "Ball",
          "Strike",
          "Strike",
          "Strike",
          "Strike",
          "Ball",
          "Ball",
          "Strike",
          "Strike",
          "Strike",
          "Ball",
          "Ball",
          "Ball",
          "Strike",
          "Strike",
          "Strike",
          "Strike",
          "Strike",
          "Ball",
          "Strike",
          "Strike",
          "Strike",
          "Ball",
          "Ball",
          "Strike",
          "Strike",
          "Strike",
          "Strike",
          "Strike",
          "Ball",
          "Ball",
          "Ball",
          "Ball",
          "Strike",
          "Ball",
          "Strike",
          "Strike",
          "Ball",
          "Ball",
          "Strike",
          "Ball",
          "Strike",
          "Strike",
          "Ball",
          "Strike",
          "Ball",
          "Strike",
          "Strike",
          "Ball",
          "Strike",
          "Strike",
          "Ball",
          "Strike",
          "Strike",
          "Strike",
          "Ball",
          "Strike",
          "Strike",
          "Ball",
          "Ball",
          "Strike",
          "Ball",
          "Strike",
          "Strike",
          "Ball",
          "Strike",
          "Strike",
          "Strike",
          "Strike",
          "Strike",
          "Strike",
          "Strike",
          "Ball",
          "Strike",
          "Strike",
          "Strike",
          "Ball",
          "Ball",
          "Ball",
          "Strike",
          "Strike",
          "Ball",
          "Strike",
          "Ball",
          "Ball",
          "Strike",
          "Strike",
          "Strike",
          "Strike",
          "Ball",
          "Ball",
          "Strike",
          "Ball",
          "Strike",
          "Ball",
          "Strike",
          "Ball",
          "Strike",
          "Strike",
          "Strike",
          "Strike",
          "Strike",
          "Strike",
          "Ball",
          "Strike",
          "Ball",
          "Ball",
          "Ball",
          "Strike",
          "Strike",
          "Ball",
          "Ball",
          "Ball",
          "Strike",
          "Ball",
          "Ball",
          "Strike",
          "Ball",
          "Ball",
          "Ball",
          "Ball",
          "Strike",
          "Ball",
          "Strike",
          "Strike",
          "Ball",
          "Ball",
          "Ball",
          "Ball",
          "Ball",
          "Strike",
          "Ball",
          "Ball",
          "Ball",
          "Strike",
          "Strike",
          "Strike",
          "Strike",
          "Strike",
          "Strike",
          "Ball",
          "Strike",
          "Strike",
          "Strike",
          "Ball",
          "Ball",
          "Ball",
          "Strike",
          "Ball",
          "Ball",
          "Ball",
          "Strike",
          "Ball",
          "Strike",
          "Strike",
          "Strike",
          "Ball",
          "Strike",
          "Strike",
          "Strike",
          "Strike",
          "Ball",
          "Ball",
          "Strike",
          "Ball",
          "Strike",
          "Strike",
          "Ball",
          "Ball",
          "Ball",
          "Ball",
          "Strike",
          "Strike",
          "Ball",
          "Strike",
          "Ball",
          "Ball",
          "Strike",
          "Strike",
          "Strike",
          "Strike",
          "Ball",
          "Ball",
          "Strike",
          "Strike",
          "Ball",
          "Ball",
          "Strike",
          "Ball",
          "Strike",
          "Strike",
          "Strike",
          "Strike",
          "Ball",
          "Strike",
          "Ball",
          "Strike",
          "Ball",
          "Strike",
          "Ball",
          "Strike",
          "Strike",
          "Ball",
          "Ball",
          "Strike",
          "Ball",
          "Strike",
          "Strike",
          "Ball",
          "Strike",
          "Strike",
          "Ball",
          "Ball",
          "Strike",
          "Ball",
          "Ball",
          "Ball",
          "Strike",
          "Ball",
          "Strike",
          "Strike",
          "Ball",
          "Strike",
          "Strike",
          "Strike",
          "Ball",
          "Ball",
          "Strike",
          "Ball",
          "Ball",
          "Ball",
          "Strike",
          "Ball",
          "Strike",
          "Ball",
          "Strike",
          "Strike",
          "Strike",
          "Ball",
          "Ball",
          "Strike",
          "Ball",
          "Strike",
          "Strike",
          "Ball",
          "Ball",
          "Ball",
          "Ball",
          "Ball",
          "Ball",
          "Strike",
          "Strike",
          "Ball",
          "Strike",
          "Strike",
          "Strike",
          "Strike",
          "Strike",
          "Strike",
          "Strike",
          "Ball",
          "Ball",
          "Strike",
          "Ball",
          "Strike",
          "Ball",
          "Ball",
          "Ball",
          "Ball",
          "Strike",
          "Strike",
          "Ball",
          "Strike",
          "Strike",
          "Strike",
          "Ball",
          "Strike",
          "Strike",
          "Ball",
          "Strike",
          "Strike",
          "Strike",
          "Ball",
          "Strike",
          "Strike",
          "Strike",
          "Ball",
          "Ball",
          "Strike",
          "Ball",
          "Ball",
          "Strike",
          "Ball",
          "Strike",
          "Strike",
          "Ball",
          "Strike",
          "Strike",
          "Strike",
          "Strike",
          "Ball",
          "Strike",
          "Ball",
          "Ball",
          "Strike",
          "Strike",
          "Ball",
          "Strike",
          "Ball",
          "Ball",
          "Strike",
          "Strike",
          "Strike",
          "Ball",
          "Ball",
          "Strike",
          "Ball",
          "Strike",
          "Ball",
          "Ball",
          "Strike",
          "Ball",
          "Ball",
          "Strike",
          "Ball",
          "Ball",
          "Strike",
          "Ball",
          "Strike",
          "Ball",
          "Ball",
          "Ball",
          "Strike",
          "Ball",
          "Ball",
          "Strike",
          "Ball",
          "Ball",
          "Strike",
          "Ball",
          "Ball",
          "Strike",
          "Strike",
          "Strike",
          "Strike",
          "Ball",
          "Strike",
          "Strike",
          "Strike",
          "Ball",
          "Strike",
          "Ball",
          "Ball",
          "Ball",
          "Ball",
          "Strike",
          "Strike",
          "Ball",
          "Strike",
          "Ball",
          "Strike",
          "Strike",
          "Strike",
          "Ball",
          "Ball",
          "Strike",
          "Ball",
          "Strike",
          "Ball",
          "Ball",
          "Strike",
          "Ball",
          "Ball",
          "Strike",
          "Ball",
          "Ball",
          "Strike",
          "Ball",
          "Ball",
          "Strike",
          "Ball",
          "Ball",
          "Ball",
          "Ball",
          "Strike",
          "Strike",
          "Ball",
          "Strike",
          "Ball",
          "Ball",
          "Strike",
          "Ball",
          "Ball",
          "Ball",
          "Strike",
          "Ball",
          "Ball",
          "Strike",
          "Ball",
          "Strike",
          "Ball",
          "Strike",
          "Strike",
          "Ball",
          "Strike",
          "Strike",
          "Strike",
          "Strike",
          "Ball",
          "Strike",
          "Ball",
          "Strike",
          "Ball",
          "Ball",
          "Ball",
          "Strike",
          "Strike",
          "Strike",
          "Strike",
          "Strike",
          "Strike",
          "Strike",
          "Strike",
          "Strike",
          "Strike",
          "Strike",
          "Strike",
          "Ball",
          "Strike",
          "Strike",
          "Strike",
          "Ball",
          "Ball",
          "Strike",
          "Strike",
          "Ball",
          "Ball",
          "Strike",
          "Strike",
          "Ball",
          "Strike",
          "Ball",
          "Ball",
          "Strike",
          "Strike",
          "Strike",
          "Strike",
          "Ball",
          "Strike",
          "Strike",
          "Ball",
          "Strike",
          "Strike",
          "Ball",
          "Strike",
          "Strike",
          "Ball",
          "Ball",
          "Strike",
          "Strike",
          "Ball",
          "Ball",
          "Strike",
          "Ball",
          "Strike",
          "Strike",
          "Strike",
          "Ball",
          "Strike",
          "Strike",
          "Strike",
          "Strike",
          "Strike",
          "Ball",
          "Ball",
          "Strike",
          "Ball",
          "Strike",
          "Ball",
          "Strike",
          "Ball",
          "Ball",
          "Ball",
          "Strike",
          "Ball",
          "Ball",
          "Ball",
          "Ball",
          "Strike",
          "Ball",
          "Strike",
          "Ball",
          "Strike",
          "Ball",
          "Strike",
          "Ball",
          "Strike",
          "Ball",
          "Ball",
          "Ball",
          "Strike",
          "Strike",
          "Strike",
          "Strike",
          "Ball",
          "Ball",
          "Ball",
          "Strike",
          "Strike",
          "Strike",
          "Ball",
          "Strike",
          "Strike",
          "Strike",
          "Strike",
          "Strike",
          "Strike",
          "Strike",
          "Ball",
          "Ball",
          "Ball",
          "Strike",
          "Strike",
          "Ball",
          "Ball",
          "Strike",
          "Strike",
          "Strike",
          "Strike",
          "Strike",
          "Strike",
          "Strike",
          "Ball",
          "Strike",
          "Strike",
          "Ball",
          "Ball",
          "Strike",
          "Ball",
          "Ball",
          "Ball",
          "Ball",
          "Ball",
          "Ball",
          "Ball",
          "Strike",
          "Ball",
          "Strike",
          "Ball",
          "Ball",
          "Strike",
          "Strike",
          "Ball",
          "Strike",
          "Ball",
          "Ball",
          "Strike",
          "Strike",
          "Ball",
          "Strike",
          "Strike",
          "Ball",
          "Strike",
          "Strike",
          "Strike",
          "Ball",
          "Ball",
          "Strike",
          "Ball",
          "Strike",
          "Ball",
          "Ball",
          "Strike",
          "Ball",
          "Strike",
          "Ball",
          "Ball",
          "Strike",
          "Ball",
          "Strike",
          "Ball",
          "Strike",
          "Ball",
          "Strike",
          "Strike",
          "Strike",
          "Ball",
          "Strike",
          "Ball",
          "Strike",
          "Strike",
          "Ball",
          "Strike",
          "Ball",
          "Ball",
          "Strike",
          "Strike",
          "Ball",
          "Ball",
          "Strike",
          "Ball",
          "Ball",
          "Ball",
          "Strike",
          "Ball",
          "Strike",
          "Strike",
          "Strike",
          "Ball",
          "Strike",
          "Ball",
          "Strike",
          "Ball",
          "Ball",
          "Ball",
          "Strike",
          "Strike",
          "Ball",
          "Ball",
          "Ball",
          "Ball",
          "Ball",
          "Ball",
          "Ball",
          "Ball",
          "Ball",
          "Ball",
          "Ball",
          "Ball",
          "Strike",
          "Strike",
          "Strike",
          "Ball",
          "Ball",
          "Ball",
          "Ball",
          "Ball",
          "Ball",
          "Strike",
          "Strike",
          "Strike",
          "Strike",
          "Ball",
          "Ball",
          "Strike",
          "Strike",
          "Strike",
          "Strike",
          "Strike",
          "Ball",
          "Ball",
          "Strike",
          "Strike",
          "Strike",
          "Strike",
          "Strike",
          "Strike",
          "Strike",
          "Ball",
          "Strike",
          "Strike",
          "Strike",
          "Strike",
          "Ball",
          "Strike",
          "Strike",
          "Ball",
          "Strike",
          "Strike",
          "Ball",
          "Strike",
          "Ball",
          "Strike",
          "Ball",
          "Ball",
          "Strike",
          "Ball",
          "Strike",
          "Ball",
          "Strike",
          "Strike",
          "Ball",
          "Ball",
          "Strike",
          "Strike",
          "Strike",
          "Strike",
          "Ball",
          "Ball",
          "Strike",
          "Strike",
          "Strike",
          "Ball",
          "Ball",
          "Strike",
          "Strike",
          "Strike",
          "Strike",
          "Ball",
          "Strike",
          "Ball",
          "Strike",
          "Strike",
          "Ball",
          "Strike",
          "Ball",
          "Strike",
          "Ball",
          "Strike",
          "Ball",
          "Strike",
          "Strike",
          "Strike",
          "Strike",
          "Ball",
          "Ball",
          "Ball",
          "Strike",
          "Ball",
          "Strike",
          "Ball",
          "Ball",
          "Strike",
          "Strike",
          "Ball",
          "Strike",
          "Strike",
          "Strike",
          "Strike",
          "Strike",
          "Ball",
          "Strike",
          "Ball",
          "Strike",
          "Ball",
          "Strike",
          "Strike",
          "Strike",
          "Strike",
          "Strike",
          "Strike",
          "Strike",
          "Strike",
          "Strike",
          "Ball",
          "Ball",
          "Ball",
          "Strike",
          "Ball",
          "Ball",
          "Ball",
          "Strike",
          "Ball",
          "Ball",
          "Strike",
          "Strike",
          "Strike",
          "Ball",
          "Strike",
          "Ball",
          "Ball",
          "Ball",
          "Ball",
          "Strike",
          "Strike",
          "Ball",
          "Ball",
          "Ball",
          "Ball",
          "Strike",
          "Strike",
          "Strike",
          "Strike",
          "Strike",
          "Ball",
          "Strike",
          "Ball",
          "Strike",
          "Ball",
          "Strike",
          "Ball",
          "Strike",
          "Strike",
          "Ball",
          "Ball",
          "Strike",
          "Strike",
          "Strike",
          "Ball",
          "Ball",
          "Ball",
          "Strike",
          "Strike",
          "Strike",
          "Strike",
          "Strike",
          "Strike",
          "Ball",
          "Strike",
          "Strike",
          "Strike",
          "Ball",
          "Strike",
          "Strike",
          "Strike",
          "Strike",
          "Strike",
          "Strike",
          "Strike",
          "Strike",
          "Ball",
          "Strike",
          "Strike",
          "Strike",
          "Ball",
          "Ball",
          "Ball",
          "Ball",
          "Strike",
          "Ball",
          "Ball",
          "Ball",
          "Strike",
          "Strike",
          "Ball",
          "Strike",
          "Strike",
          "Strike",
          "Strike",
          "Strike",
          "Ball",
          "Ball",
          "Ball",
          "Strike",
          "Ball",
          "Ball",
          "Strike",
          "Strike",
          "Strike",
          "Strike",
          "Ball",
          "Ball",
          "Strike",
          "Strike",
          "Strike",
          "Strike",
          "Strike",
          "Ball",
          "Ball",
          "Strike",
          "Ball",
          "Strike",
          "Strike",
          "Strike",
          "Strike",
          "Strike",
          "Ball",
          "Strike",
          "Ball",
          "Strike",
          "Strike",
          "Strike",
          "Ball",
          "Strike",
          "Ball",
          "Strike",
          "Strike",
          "Strike",
          "Ball",
          "Strike",
          "Ball",
          "Ball",
          "Ball",
          "Strike",
          "Ball",
          "Strike",
          "Strike",
          "Ball",
          "Ball",
          "Ball",
          "Ball",
          "Strike",
          "Strike",
          "Strike",
          "Strike",
          "Ball",
          "Strike",
          "Ball",
          "Strike",
          "Strike",
          "Strike",
          "Strike",
          "Strike",
          "Strike",
          "Ball",
          "Strike",
          "Strike",
          "Ball",
          "Strike",
          "Ball",
          "Ball",
          "Strike",
          "Ball",
          "Ball",
          "Strike",
          "Strike",
          "Strike",
          "Strike",
          "Strike",
          "Strike",
          "Ball",
          "Ball",
          "Strike",
          "Strike",
          "Strike",
          "Ball",
          "Ball",
          "Ball",
          "Strike",
          "Strike",
          "Strike",
          "Strike",
          "Strike",
          "Ball",
          "Ball",
          "Strike",
          "Strike",
          "Ball"
         ],
         "xaxis": "x",
         "yaxis": "y"
        }
       ],
       "layout": {
        "barmode": "relative",
        "legend": {
         "title": {
          "text": "variable"
         },
         "tracegroupgap": 0
        },
        "template": {
         "data": {
          "bar": [
           {
            "error_x": {
             "color": "#2a3f5f"
            },
            "error_y": {
             "color": "#2a3f5f"
            },
            "marker": {
             "line": {
              "color": "#E5ECF6",
              "width": 0.5
             },
             "pattern": {
              "fillmode": "overlay",
              "size": 10,
              "solidity": 0.2
             }
            },
            "type": "bar"
           }
          ],
          "barpolar": [
           {
            "marker": {
             "line": {
              "color": "#E5ECF6",
              "width": 0.5
             },
             "pattern": {
              "fillmode": "overlay",
              "size": 10,
              "solidity": 0.2
             }
            },
            "type": "barpolar"
           }
          ],
          "carpet": [
           {
            "aaxis": {
             "endlinecolor": "#2a3f5f",
             "gridcolor": "white",
             "linecolor": "white",
             "minorgridcolor": "white",
             "startlinecolor": "#2a3f5f"
            },
            "baxis": {
             "endlinecolor": "#2a3f5f",
             "gridcolor": "white",
             "linecolor": "white",
             "minorgridcolor": "white",
             "startlinecolor": "#2a3f5f"
            },
            "type": "carpet"
           }
          ],
          "choropleth": [
           {
            "colorbar": {
             "outlinewidth": 0,
             "ticks": ""
            },
            "type": "choropleth"
           }
          ],
          "contour": [
           {
            "colorbar": {
             "outlinewidth": 0,
             "ticks": ""
            },
            "colorscale": [
             [
              0,
              "#0d0887"
             ],
             [
              0.1111111111111111,
              "#46039f"
             ],
             [
              0.2222222222222222,
              "#7201a8"
             ],
             [
              0.3333333333333333,
              "#9c179e"
             ],
             [
              0.4444444444444444,
              "#bd3786"
             ],
             [
              0.5555555555555556,
              "#d8576b"
             ],
             [
              0.6666666666666666,
              "#ed7953"
             ],
             [
              0.7777777777777778,
              "#fb9f3a"
             ],
             [
              0.8888888888888888,
              "#fdca26"
             ],
             [
              1,
              "#f0f921"
             ]
            ],
            "type": "contour"
           }
          ],
          "contourcarpet": [
           {
            "colorbar": {
             "outlinewidth": 0,
             "ticks": ""
            },
            "type": "contourcarpet"
           }
          ],
          "heatmap": [
           {
            "colorbar": {
             "outlinewidth": 0,
             "ticks": ""
            },
            "colorscale": [
             [
              0,
              "#0d0887"
             ],
             [
              0.1111111111111111,
              "#46039f"
             ],
             [
              0.2222222222222222,
              "#7201a8"
             ],
             [
              0.3333333333333333,
              "#9c179e"
             ],
             [
              0.4444444444444444,
              "#bd3786"
             ],
             [
              0.5555555555555556,
              "#d8576b"
             ],
             [
              0.6666666666666666,
              "#ed7953"
             ],
             [
              0.7777777777777778,
              "#fb9f3a"
             ],
             [
              0.8888888888888888,
              "#fdca26"
             ],
             [
              1,
              "#f0f921"
             ]
            ],
            "type": "heatmap"
           }
          ],
          "heatmapgl": [
           {
            "colorbar": {
             "outlinewidth": 0,
             "ticks": ""
            },
            "colorscale": [
             [
              0,
              "#0d0887"
             ],
             [
              0.1111111111111111,
              "#46039f"
             ],
             [
              0.2222222222222222,
              "#7201a8"
             ],
             [
              0.3333333333333333,
              "#9c179e"
             ],
             [
              0.4444444444444444,
              "#bd3786"
             ],
             [
              0.5555555555555556,
              "#d8576b"
             ],
             [
              0.6666666666666666,
              "#ed7953"
             ],
             [
              0.7777777777777778,
              "#fb9f3a"
             ],
             [
              0.8888888888888888,
              "#fdca26"
             ],
             [
              1,
              "#f0f921"
             ]
            ],
            "type": "heatmapgl"
           }
          ],
          "histogram": [
           {
            "marker": {
             "pattern": {
              "fillmode": "overlay",
              "size": 10,
              "solidity": 0.2
             }
            },
            "type": "histogram"
           }
          ],
          "histogram2d": [
           {
            "colorbar": {
             "outlinewidth": 0,
             "ticks": ""
            },
            "colorscale": [
             [
              0,
              "#0d0887"
             ],
             [
              0.1111111111111111,
              "#46039f"
             ],
             [
              0.2222222222222222,
              "#7201a8"
             ],
             [
              0.3333333333333333,
              "#9c179e"
             ],
             [
              0.4444444444444444,
              "#bd3786"
             ],
             [
              0.5555555555555556,
              "#d8576b"
             ],
             [
              0.6666666666666666,
              "#ed7953"
             ],
             [
              0.7777777777777778,
              "#fb9f3a"
             ],
             [
              0.8888888888888888,
              "#fdca26"
             ],
             [
              1,
              "#f0f921"
             ]
            ],
            "type": "histogram2d"
           }
          ],
          "histogram2dcontour": [
           {
            "colorbar": {
             "outlinewidth": 0,
             "ticks": ""
            },
            "colorscale": [
             [
              0,
              "#0d0887"
             ],
             [
              0.1111111111111111,
              "#46039f"
             ],
             [
              0.2222222222222222,
              "#7201a8"
             ],
             [
              0.3333333333333333,
              "#9c179e"
             ],
             [
              0.4444444444444444,
              "#bd3786"
             ],
             [
              0.5555555555555556,
              "#d8576b"
             ],
             [
              0.6666666666666666,
              "#ed7953"
             ],
             [
              0.7777777777777778,
              "#fb9f3a"
             ],
             [
              0.8888888888888888,
              "#fdca26"
             ],
             [
              1,
              "#f0f921"
             ]
            ],
            "type": "histogram2dcontour"
           }
          ],
          "mesh3d": [
           {
            "colorbar": {
             "outlinewidth": 0,
             "ticks": ""
            },
            "type": "mesh3d"
           }
          ],
          "parcoords": [
           {
            "line": {
             "colorbar": {
              "outlinewidth": 0,
              "ticks": ""
             }
            },
            "type": "parcoords"
           }
          ],
          "pie": [
           {
            "automargin": true,
            "type": "pie"
           }
          ],
          "scatter": [
           {
            "fillpattern": {
             "fillmode": "overlay",
             "size": 10,
             "solidity": 0.2
            },
            "type": "scatter"
           }
          ],
          "scatter3d": [
           {
            "line": {
             "colorbar": {
              "outlinewidth": 0,
              "ticks": ""
             }
            },
            "marker": {
             "colorbar": {
              "outlinewidth": 0,
              "ticks": ""
             }
            },
            "type": "scatter3d"
           }
          ],
          "scattercarpet": [
           {
            "marker": {
             "colorbar": {
              "outlinewidth": 0,
              "ticks": ""
             }
            },
            "type": "scattercarpet"
           }
          ],
          "scattergeo": [
           {
            "marker": {
             "colorbar": {
              "outlinewidth": 0,
              "ticks": ""
             }
            },
            "type": "scattergeo"
           }
          ],
          "scattergl": [
           {
            "marker": {
             "colorbar": {
              "outlinewidth": 0,
              "ticks": ""
             }
            },
            "type": "scattergl"
           }
          ],
          "scattermapbox": [
           {
            "marker": {
             "colorbar": {
              "outlinewidth": 0,
              "ticks": ""
             }
            },
            "type": "scattermapbox"
           }
          ],
          "scatterpolar": [
           {
            "marker": {
             "colorbar": {
              "outlinewidth": 0,
              "ticks": ""
             }
            },
            "type": "scatterpolar"
           }
          ],
          "scatterpolargl": [
           {
            "marker": {
             "colorbar": {
              "outlinewidth": 0,
              "ticks": ""
             }
            },
            "type": "scatterpolargl"
           }
          ],
          "scatterternary": [
           {
            "marker": {
             "colorbar": {
              "outlinewidth": 0,
              "ticks": ""
             }
            },
            "type": "scatterternary"
           }
          ],
          "surface": [
           {
            "colorbar": {
             "outlinewidth": 0,
             "ticks": ""
            },
            "colorscale": [
             [
              0,
              "#0d0887"
             ],
             [
              0.1111111111111111,
              "#46039f"
             ],
             [
              0.2222222222222222,
              "#7201a8"
             ],
             [
              0.3333333333333333,
              "#9c179e"
             ],
             [
              0.4444444444444444,
              "#bd3786"
             ],
             [
              0.5555555555555556,
              "#d8576b"
             ],
             [
              0.6666666666666666,
              "#ed7953"
             ],
             [
              0.7777777777777778,
              "#fb9f3a"
             ],
             [
              0.8888888888888888,
              "#fdca26"
             ],
             [
              1,
              "#f0f921"
             ]
            ],
            "type": "surface"
           }
          ],
          "table": [
           {
            "cells": {
             "fill": {
              "color": "#EBF0F8"
             },
             "line": {
              "color": "white"
             }
            },
            "header": {
             "fill": {
              "color": "#C8D4E3"
             },
             "line": {
              "color": "white"
             }
            },
            "type": "table"
           }
          ]
         },
         "layout": {
          "annotationdefaults": {
           "arrowcolor": "#2a3f5f",
           "arrowhead": 0,
           "arrowwidth": 1
          },
          "autotypenumbers": "strict",
          "coloraxis": {
           "colorbar": {
            "outlinewidth": 0,
            "ticks": ""
           }
          },
          "colorscale": {
           "diverging": [
            [
             0,
             "#8e0152"
            ],
            [
             0.1,
             "#c51b7d"
            ],
            [
             0.2,
             "#de77ae"
            ],
            [
             0.3,
             "#f1b6da"
            ],
            [
             0.4,
             "#fde0ef"
            ],
            [
             0.5,
             "#f7f7f7"
            ],
            [
             0.6,
             "#e6f5d0"
            ],
            [
             0.7,
             "#b8e186"
            ],
            [
             0.8,
             "#7fbc41"
            ],
            [
             0.9,
             "#4d9221"
            ],
            [
             1,
             "#276419"
            ]
           ],
           "sequential": [
            [
             0,
             "#0d0887"
            ],
            [
             0.1111111111111111,
             "#46039f"
            ],
            [
             0.2222222222222222,
             "#7201a8"
            ],
            [
             0.3333333333333333,
             "#9c179e"
            ],
            [
             0.4444444444444444,
             "#bd3786"
            ],
            [
             0.5555555555555556,
             "#d8576b"
            ],
            [
             0.6666666666666666,
             "#ed7953"
            ],
            [
             0.7777777777777778,
             "#fb9f3a"
            ],
            [
             0.8888888888888888,
             "#fdca26"
            ],
            [
             1,
             "#f0f921"
            ]
           ],
           "sequentialminus": [
            [
             0,
             "#0d0887"
            ],
            [
             0.1111111111111111,
             "#46039f"
            ],
            [
             0.2222222222222222,
             "#7201a8"
            ],
            [
             0.3333333333333333,
             "#9c179e"
            ],
            [
             0.4444444444444444,
             "#bd3786"
            ],
            [
             0.5555555555555556,
             "#d8576b"
            ],
            [
             0.6666666666666666,
             "#ed7953"
            ],
            [
             0.7777777777777778,
             "#fb9f3a"
            ],
            [
             0.8888888888888888,
             "#fdca26"
            ],
            [
             1,
             "#f0f921"
            ]
           ]
          },
          "colorway": [
           "#636efa",
           "#EF553B",
           "#00cc96",
           "#ab63fa",
           "#FFA15A",
           "#19d3f3",
           "#FF6692",
           "#B6E880",
           "#FF97FF",
           "#FECB52"
          ],
          "font": {
           "color": "#2a3f5f"
          },
          "geo": {
           "bgcolor": "white",
           "lakecolor": "white",
           "landcolor": "#E5ECF6",
           "showlakes": true,
           "showland": true,
           "subunitcolor": "white"
          },
          "hoverlabel": {
           "align": "left"
          },
          "hovermode": "closest",
          "mapbox": {
           "style": "light"
          },
          "paper_bgcolor": "white",
          "plot_bgcolor": "#E5ECF6",
          "polar": {
           "angularaxis": {
            "gridcolor": "white",
            "linecolor": "white",
            "ticks": ""
           },
           "bgcolor": "#E5ECF6",
           "radialaxis": {
            "gridcolor": "white",
            "linecolor": "white",
            "ticks": ""
           }
          },
          "scene": {
           "xaxis": {
            "backgroundcolor": "#E5ECF6",
            "gridcolor": "white",
            "gridwidth": 2,
            "linecolor": "white",
            "showbackground": true,
            "ticks": "",
            "zerolinecolor": "white"
           },
           "yaxis": {
            "backgroundcolor": "#E5ECF6",
            "gridcolor": "white",
            "gridwidth": 2,
            "linecolor": "white",
            "showbackground": true,
            "ticks": "",
            "zerolinecolor": "white"
           },
           "zaxis": {
            "backgroundcolor": "#E5ECF6",
            "gridcolor": "white",
            "gridwidth": 2,
            "linecolor": "white",
            "showbackground": true,
            "ticks": "",
            "zerolinecolor": "white"
           }
          },
          "shapedefaults": {
           "line": {
            "color": "#2a3f5f"
           }
          },
          "ternary": {
           "aaxis": {
            "gridcolor": "white",
            "linecolor": "white",
            "ticks": ""
           },
           "baxis": {
            "gridcolor": "white",
            "linecolor": "white",
            "ticks": ""
           },
           "bgcolor": "#E5ECF6",
           "caxis": {
            "gridcolor": "white",
            "linecolor": "white",
            "ticks": ""
           }
          },
          "title": {
           "x": 0.05
          },
          "xaxis": {
           "automargin": true,
           "gridcolor": "white",
           "linecolor": "white",
           "ticks": "",
           "title": {
            "standoff": 15
           },
           "zerolinecolor": "white",
           "zerolinewidth": 2
          },
          "yaxis": {
           "automargin": true,
           "gridcolor": "white",
           "linecolor": "white",
           "ticks": "",
           "title": {
            "standoff": 15
           },
           "zerolinecolor": "white",
           "zerolinewidth": 2
          }
         }
        },
        "title": {
         "text": "Histogram of outcome"
        },
        "xaxis": {
         "anchor": "y",
         "domain": [
          0,
          1
         ],
         "title": {
          "text": "value"
         }
        },
        "yaxis": {
         "anchor": "x",
         "domain": [
          0,
          1
         ],
         "title": {
          "text": "count"
         }
        }
       }
      }
     },
     "metadata": {},
     "output_type": "display_data"
    },
    {
     "data": {
      "application/vnd.plotly.v1+json": {
       "config": {
        "plotlyServerURL": "https://plot.ly"
       },
       "data": [
        {
         "domain": {
          "x": [
           0,
           1
          ],
          "y": [
           0,
           1
          ]
         },
         "hovertemplate": "outcome=%{label}<br>counts=%{value}<extra></extra>",
         "labels": [
          "Ball",
          "Strike"
         ],
         "legendgroup": "",
         "name": "",
         "showlegend": true,
         "type": "pie",
         "values": [
          449,
          551
         ]
        }
       ],
       "layout": {
        "legend": {
         "tracegroupgap": 0
        },
        "template": {
         "data": {
          "bar": [
           {
            "error_x": {
             "color": "#2a3f5f"
            },
            "error_y": {
             "color": "#2a3f5f"
            },
            "marker": {
             "line": {
              "color": "#E5ECF6",
              "width": 0.5
             },
             "pattern": {
              "fillmode": "overlay",
              "size": 10,
              "solidity": 0.2
             }
            },
            "type": "bar"
           }
          ],
          "barpolar": [
           {
            "marker": {
             "line": {
              "color": "#E5ECF6",
              "width": 0.5
             },
             "pattern": {
              "fillmode": "overlay",
              "size": 10,
              "solidity": 0.2
             }
            },
            "type": "barpolar"
           }
          ],
          "carpet": [
           {
            "aaxis": {
             "endlinecolor": "#2a3f5f",
             "gridcolor": "white",
             "linecolor": "white",
             "minorgridcolor": "white",
             "startlinecolor": "#2a3f5f"
            },
            "baxis": {
             "endlinecolor": "#2a3f5f",
             "gridcolor": "white",
             "linecolor": "white",
             "minorgridcolor": "white",
             "startlinecolor": "#2a3f5f"
            },
            "type": "carpet"
           }
          ],
          "choropleth": [
           {
            "colorbar": {
             "outlinewidth": 0,
             "ticks": ""
            },
            "type": "choropleth"
           }
          ],
          "contour": [
           {
            "colorbar": {
             "outlinewidth": 0,
             "ticks": ""
            },
            "colorscale": [
             [
              0,
              "#0d0887"
             ],
             [
              0.1111111111111111,
              "#46039f"
             ],
             [
              0.2222222222222222,
              "#7201a8"
             ],
             [
              0.3333333333333333,
              "#9c179e"
             ],
             [
              0.4444444444444444,
              "#bd3786"
             ],
             [
              0.5555555555555556,
              "#d8576b"
             ],
             [
              0.6666666666666666,
              "#ed7953"
             ],
             [
              0.7777777777777778,
              "#fb9f3a"
             ],
             [
              0.8888888888888888,
              "#fdca26"
             ],
             [
              1,
              "#f0f921"
             ]
            ],
            "type": "contour"
           }
          ],
          "contourcarpet": [
           {
            "colorbar": {
             "outlinewidth": 0,
             "ticks": ""
            },
            "type": "contourcarpet"
           }
          ],
          "heatmap": [
           {
            "colorbar": {
             "outlinewidth": 0,
             "ticks": ""
            },
            "colorscale": [
             [
              0,
              "#0d0887"
             ],
             [
              0.1111111111111111,
              "#46039f"
             ],
             [
              0.2222222222222222,
              "#7201a8"
             ],
             [
              0.3333333333333333,
              "#9c179e"
             ],
             [
              0.4444444444444444,
              "#bd3786"
             ],
             [
              0.5555555555555556,
              "#d8576b"
             ],
             [
              0.6666666666666666,
              "#ed7953"
             ],
             [
              0.7777777777777778,
              "#fb9f3a"
             ],
             [
              0.8888888888888888,
              "#fdca26"
             ],
             [
              1,
              "#f0f921"
             ]
            ],
            "type": "heatmap"
           }
          ],
          "heatmapgl": [
           {
            "colorbar": {
             "outlinewidth": 0,
             "ticks": ""
            },
            "colorscale": [
             [
              0,
              "#0d0887"
             ],
             [
              0.1111111111111111,
              "#46039f"
             ],
             [
              0.2222222222222222,
              "#7201a8"
             ],
             [
              0.3333333333333333,
              "#9c179e"
             ],
             [
              0.4444444444444444,
              "#bd3786"
             ],
             [
              0.5555555555555556,
              "#d8576b"
             ],
             [
              0.6666666666666666,
              "#ed7953"
             ],
             [
              0.7777777777777778,
              "#fb9f3a"
             ],
             [
              0.8888888888888888,
              "#fdca26"
             ],
             [
              1,
              "#f0f921"
             ]
            ],
            "type": "heatmapgl"
           }
          ],
          "histogram": [
           {
            "marker": {
             "pattern": {
              "fillmode": "overlay",
              "size": 10,
              "solidity": 0.2
             }
            },
            "type": "histogram"
           }
          ],
          "histogram2d": [
           {
            "colorbar": {
             "outlinewidth": 0,
             "ticks": ""
            },
            "colorscale": [
             [
              0,
              "#0d0887"
             ],
             [
              0.1111111111111111,
              "#46039f"
             ],
             [
              0.2222222222222222,
              "#7201a8"
             ],
             [
              0.3333333333333333,
              "#9c179e"
             ],
             [
              0.4444444444444444,
              "#bd3786"
             ],
             [
              0.5555555555555556,
              "#d8576b"
             ],
             [
              0.6666666666666666,
              "#ed7953"
             ],
             [
              0.7777777777777778,
              "#fb9f3a"
             ],
             [
              0.8888888888888888,
              "#fdca26"
             ],
             [
              1,
              "#f0f921"
             ]
            ],
            "type": "histogram2d"
           }
          ],
          "histogram2dcontour": [
           {
            "colorbar": {
             "outlinewidth": 0,
             "ticks": ""
            },
            "colorscale": [
             [
              0,
              "#0d0887"
             ],
             [
              0.1111111111111111,
              "#46039f"
             ],
             [
              0.2222222222222222,
              "#7201a8"
             ],
             [
              0.3333333333333333,
              "#9c179e"
             ],
             [
              0.4444444444444444,
              "#bd3786"
             ],
             [
              0.5555555555555556,
              "#d8576b"
             ],
             [
              0.6666666666666666,
              "#ed7953"
             ],
             [
              0.7777777777777778,
              "#fb9f3a"
             ],
             [
              0.8888888888888888,
              "#fdca26"
             ],
             [
              1,
              "#f0f921"
             ]
            ],
            "type": "histogram2dcontour"
           }
          ],
          "mesh3d": [
           {
            "colorbar": {
             "outlinewidth": 0,
             "ticks": ""
            },
            "type": "mesh3d"
           }
          ],
          "parcoords": [
           {
            "line": {
             "colorbar": {
              "outlinewidth": 0,
              "ticks": ""
             }
            },
            "type": "parcoords"
           }
          ],
          "pie": [
           {
            "automargin": true,
            "type": "pie"
           }
          ],
          "scatter": [
           {
            "fillpattern": {
             "fillmode": "overlay",
             "size": 10,
             "solidity": 0.2
            },
            "type": "scatter"
           }
          ],
          "scatter3d": [
           {
            "line": {
             "colorbar": {
              "outlinewidth": 0,
              "ticks": ""
             }
            },
            "marker": {
             "colorbar": {
              "outlinewidth": 0,
              "ticks": ""
             }
            },
            "type": "scatter3d"
           }
          ],
          "scattercarpet": [
           {
            "marker": {
             "colorbar": {
              "outlinewidth": 0,
              "ticks": ""
             }
            },
            "type": "scattercarpet"
           }
          ],
          "scattergeo": [
           {
            "marker": {
             "colorbar": {
              "outlinewidth": 0,
              "ticks": ""
             }
            },
            "type": "scattergeo"
           }
          ],
          "scattergl": [
           {
            "marker": {
             "colorbar": {
              "outlinewidth": 0,
              "ticks": ""
             }
            },
            "type": "scattergl"
           }
          ],
          "scattermapbox": [
           {
            "marker": {
             "colorbar": {
              "outlinewidth": 0,
              "ticks": ""
             }
            },
            "type": "scattermapbox"
           }
          ],
          "scatterpolar": [
           {
            "marker": {
             "colorbar": {
              "outlinewidth": 0,
              "ticks": ""
             }
            },
            "type": "scatterpolar"
           }
          ],
          "scatterpolargl": [
           {
            "marker": {
             "colorbar": {
              "outlinewidth": 0,
              "ticks": ""
             }
            },
            "type": "scatterpolargl"
           }
          ],
          "scatterternary": [
           {
            "marker": {
             "colorbar": {
              "outlinewidth": 0,
              "ticks": ""
             }
            },
            "type": "scatterternary"
           }
          ],
          "surface": [
           {
            "colorbar": {
             "outlinewidth": 0,
             "ticks": ""
            },
            "colorscale": [
             [
              0,
              "#0d0887"
             ],
             [
              0.1111111111111111,
              "#46039f"
             ],
             [
              0.2222222222222222,
              "#7201a8"
             ],
             [
              0.3333333333333333,
              "#9c179e"
             ],
             [
              0.4444444444444444,
              "#bd3786"
             ],
             [
              0.5555555555555556,
              "#d8576b"
             ],
             [
              0.6666666666666666,
              "#ed7953"
             ],
             [
              0.7777777777777778,
              "#fb9f3a"
             ],
             [
              0.8888888888888888,
              "#fdca26"
             ],
             [
              1,
              "#f0f921"
             ]
            ],
            "type": "surface"
           }
          ],
          "table": [
           {
            "cells": {
             "fill": {
              "color": "#EBF0F8"
             },
             "line": {
              "color": "white"
             }
            },
            "header": {
             "fill": {
              "color": "#C8D4E3"
             },
             "line": {
              "color": "white"
             }
            },
            "type": "table"
           }
          ]
         },
         "layout": {
          "annotationdefaults": {
           "arrowcolor": "#2a3f5f",
           "arrowhead": 0,
           "arrowwidth": 1
          },
          "autotypenumbers": "strict",
          "coloraxis": {
           "colorbar": {
            "outlinewidth": 0,
            "ticks": ""
           }
          },
          "colorscale": {
           "diverging": [
            [
             0,
             "#8e0152"
            ],
            [
             0.1,
             "#c51b7d"
            ],
            [
             0.2,
             "#de77ae"
            ],
            [
             0.3,
             "#f1b6da"
            ],
            [
             0.4,
             "#fde0ef"
            ],
            [
             0.5,
             "#f7f7f7"
            ],
            [
             0.6,
             "#e6f5d0"
            ],
            [
             0.7,
             "#b8e186"
            ],
            [
             0.8,
             "#7fbc41"
            ],
            [
             0.9,
             "#4d9221"
            ],
            [
             1,
             "#276419"
            ]
           ],
           "sequential": [
            [
             0,
             "#0d0887"
            ],
            [
             0.1111111111111111,
             "#46039f"
            ],
            [
             0.2222222222222222,
             "#7201a8"
            ],
            [
             0.3333333333333333,
             "#9c179e"
            ],
            [
             0.4444444444444444,
             "#bd3786"
            ],
            [
             0.5555555555555556,
             "#d8576b"
            ],
            [
             0.6666666666666666,
             "#ed7953"
            ],
            [
             0.7777777777777778,
             "#fb9f3a"
            ],
            [
             0.8888888888888888,
             "#fdca26"
            ],
            [
             1,
             "#f0f921"
            ]
           ],
           "sequentialminus": [
            [
             0,
             "#0d0887"
            ],
            [
             0.1111111111111111,
             "#46039f"
            ],
            [
             0.2222222222222222,
             "#7201a8"
            ],
            [
             0.3333333333333333,
             "#9c179e"
            ],
            [
             0.4444444444444444,
             "#bd3786"
            ],
            [
             0.5555555555555556,
             "#d8576b"
            ],
            [
             0.6666666666666666,
             "#ed7953"
            ],
            [
             0.7777777777777778,
             "#fb9f3a"
            ],
            [
             0.8888888888888888,
             "#fdca26"
            ],
            [
             1,
             "#f0f921"
            ]
           ]
          },
          "colorway": [
           "#636efa",
           "#EF553B",
           "#00cc96",
           "#ab63fa",
           "#FFA15A",
           "#19d3f3",
           "#FF6692",
           "#B6E880",
           "#FF97FF",
           "#FECB52"
          ],
          "font": {
           "color": "#2a3f5f"
          },
          "geo": {
           "bgcolor": "white",
           "lakecolor": "white",
           "landcolor": "#E5ECF6",
           "showlakes": true,
           "showland": true,
           "subunitcolor": "white"
          },
          "hoverlabel": {
           "align": "left"
          },
          "hovermode": "closest",
          "mapbox": {
           "style": "light"
          },
          "paper_bgcolor": "white",
          "plot_bgcolor": "#E5ECF6",
          "polar": {
           "angularaxis": {
            "gridcolor": "white",
            "linecolor": "white",
            "ticks": ""
           },
           "bgcolor": "#E5ECF6",
           "radialaxis": {
            "gridcolor": "white",
            "linecolor": "white",
            "ticks": ""
           }
          },
          "scene": {
           "xaxis": {
            "backgroundcolor": "#E5ECF6",
            "gridcolor": "white",
            "gridwidth": 2,
            "linecolor": "white",
            "showbackground": true,
            "ticks": "",
            "zerolinecolor": "white"
           },
           "yaxis": {
            "backgroundcolor": "#E5ECF6",
            "gridcolor": "white",
            "gridwidth": 2,
            "linecolor": "white",
            "showbackground": true,
            "ticks": "",
            "zerolinecolor": "white"
           },
           "zaxis": {
            "backgroundcolor": "#E5ECF6",
            "gridcolor": "white",
            "gridwidth": 2,
            "linecolor": "white",
            "showbackground": true,
            "ticks": "",
            "zerolinecolor": "white"
           }
          },
          "shapedefaults": {
           "line": {
            "color": "#2a3f5f"
           }
          },
          "ternary": {
           "aaxis": {
            "gridcolor": "white",
            "linecolor": "white",
            "ticks": ""
           },
           "baxis": {
            "gridcolor": "white",
            "linecolor": "white",
            "ticks": ""
           },
           "bgcolor": "#E5ECF6",
           "caxis": {
            "gridcolor": "white",
            "linecolor": "white",
            "ticks": ""
           }
          },
          "title": {
           "x": 0.05
          },
          "xaxis": {
           "automargin": true,
           "gridcolor": "white",
           "linecolor": "white",
           "ticks": "",
           "title": {
            "standoff": 15
           },
           "zerolinecolor": "white",
           "zerolinewidth": 2
          },
          "yaxis": {
           "automargin": true,
           "gridcolor": "white",
           "linecolor": "white",
           "ticks": "",
           "title": {
            "standoff": 15
           },
           "zerolinecolor": "white",
           "zerolinewidth": 2
          }
         }
        },
        "title": {
         "text": "Pie of outcome"
        }
       }
      }
     },
     "metadata": {},
     "output_type": "display_data"
    }
   ],
   "source": [
    "pitch_data.show_histogram(\"outcome\")\n",
    "pitch_data.show_pie(\"outcome\")\n"
   ]
  },
  {
   "cell_type": "code",
   "execution_count": 6,
   "metadata": {},
   "outputs": [
    {
     "ename": "ValueError",
     "evalue": "Value of 'x' is not the name of a column in 'data_frame'. Expected one of ['pitch_x', 'pitch_y', 'pitch_type', 'outcome', 'hitability'] but received: x",
     "output_type": "error",
     "traceback": [
      "\u001b[1;31m---------------------------------------------------------------------------\u001b[0m",
      "\u001b[1;31mValueError\u001b[0m                                Traceback (most recent call last)",
      "Cell \u001b[1;32mIn[6], line 1\u001b[0m\n\u001b[1;32m----> 1\u001b[0m \u001b[43mpitch_data\u001b[49m\u001b[38;5;241;43m.\u001b[39;49m\u001b[43mshow_scatter\u001b[49m\u001b[43m(\u001b[49m\u001b[38;5;124;43m\"\u001b[39;49m\u001b[38;5;124;43mx\u001b[39;49m\u001b[38;5;124;43m\"\u001b[39;49m\u001b[43m,\u001b[49m\u001b[43m \u001b[49m\u001b[38;5;124;43m\"\u001b[39;49m\u001b[38;5;124;43my\u001b[39;49m\u001b[38;5;124;43m\"\u001b[39;49m\u001b[43m,\u001b[49m\u001b[43m \u001b[49m\u001b[38;5;124;43m\"\u001b[39;49m\u001b[38;5;124;43mLocation\u001b[39;49m\u001b[38;5;124;43m\"\u001b[39;49m\u001b[43m,\u001b[49m\u001b[43m \u001b[49m\u001b[43mcolor\u001b[49m\u001b[38;5;241;43m=\u001b[39;49m\u001b[38;5;124;43m'\u001b[39;49m\u001b[38;5;124;43mhitability\u001b[39;49m\u001b[38;5;124;43m'\u001b[39;49m\u001b[43m)\u001b[49m\n",
      "File \u001b[1;32mc:\\Users\\blair.kiel\\source\\repos\\baseball_sim\\notebooks\\..\\src\\analysis\\generic_data.py:46\u001b[0m, in \u001b[0;36mGeneric_Data.show_scatter\u001b[1;34m(self, x, y, title, color)\u001b[0m\n\u001b[0;32m     44\u001b[0m \u001b[38;5;28;01mdef\u001b[39;00m \u001b[38;5;21mshow_scatter\u001b[39m(\u001b[38;5;28mself\u001b[39m, x, y, title, color\u001b[38;5;241m=\u001b[39m\u001b[38;5;28;01mNone\u001b[39;00m):\n\u001b[1;32m---> 46\u001b[0m     scatt \u001b[38;5;241m=\u001b[39m \u001b[38;5;28;43mself\u001b[39;49m\u001b[38;5;241;43m.\u001b[39;49m\u001b[43mget_scatter\u001b[49m\u001b[43m(\u001b[49m\u001b[43mx\u001b[49m\u001b[43m,\u001b[49m\u001b[43m \u001b[49m\u001b[43my\u001b[49m\u001b[43m,\u001b[49m\u001b[43m \u001b[49m\u001b[43mtitle\u001b[49m\u001b[43m,\u001b[49m\u001b[43m \u001b[49m\u001b[43mcolor\u001b[49m\u001b[38;5;241;43m=\u001b[39;49m\u001b[43mcolor\u001b[49m\u001b[43m)\u001b[49m\n\u001b[0;32m     48\u001b[0m     scatt\u001b[38;5;241m.\u001b[39mshow()\n",
      "File \u001b[1;32mc:\\Users\\blair.kiel\\source\\repos\\baseball_sim\\notebooks\\..\\src\\analysis\\generic_data.py:40\u001b[0m, in \u001b[0;36mGeneric_Data.get_scatter\u001b[1;34m(self, x, y, title, color)\u001b[0m\n\u001b[0;32m     38\u001b[0m     loc \u001b[38;5;241m=\u001b[39m px\u001b[38;5;241m.\u001b[39mscatter(\u001b[38;5;28mself\u001b[39m\u001b[38;5;241m.\u001b[39mdf, x\u001b[38;5;241m=\u001b[39mx, y\u001b[38;5;241m=\u001b[39my, title\u001b[38;5;241m=\u001b[39mtitle)\n\u001b[0;32m     39\u001b[0m \u001b[38;5;28;01melse\u001b[39;00m:\n\u001b[1;32m---> 40\u001b[0m     loc \u001b[38;5;241m=\u001b[39m \u001b[43mpx\u001b[49m\u001b[38;5;241;43m.\u001b[39;49m\u001b[43mscatter\u001b[49m\u001b[43m(\u001b[49m\u001b[38;5;28;43mself\u001b[39;49m\u001b[38;5;241;43m.\u001b[39;49m\u001b[43mdf\u001b[49m\u001b[43m,\u001b[49m\u001b[43m \u001b[49m\u001b[43mx\u001b[49m\u001b[38;5;241;43m=\u001b[39;49m\u001b[43mx\u001b[49m\u001b[43m,\u001b[49m\u001b[43m \u001b[49m\u001b[43my\u001b[49m\u001b[38;5;241;43m=\u001b[39;49m\u001b[43my\u001b[49m\u001b[43m,\u001b[49m\u001b[43m \u001b[49m\u001b[43mtitle\u001b[49m\u001b[38;5;241;43m=\u001b[39;49m\u001b[43mtitle\u001b[49m\u001b[43m,\u001b[49m\u001b[43m \u001b[49m\u001b[43mcolor\u001b[49m\u001b[38;5;241;43m=\u001b[39;49m\u001b[43mcolor\u001b[49m\u001b[43m)\u001b[49m\n\u001b[0;32m     42\u001b[0m \u001b[38;5;28;01mreturn\u001b[39;00m loc\n",
      "File \u001b[1;32mc:\\Users\\blair.kiel\\source\\repos\\baseball_sim\\.conda\\Lib\\site-packages\\plotly\\express\\_chart_types.py:66\u001b[0m, in \u001b[0;36mscatter\u001b[1;34m(data_frame, x, y, color, symbol, size, hover_name, hover_data, custom_data, text, facet_row, facet_col, facet_col_wrap, facet_row_spacing, facet_col_spacing, error_x, error_x_minus, error_y, error_y_minus, animation_frame, animation_group, category_orders, labels, orientation, color_discrete_sequence, color_discrete_map, color_continuous_scale, range_color, color_continuous_midpoint, symbol_sequence, symbol_map, opacity, size_max, marginal_x, marginal_y, trendline, trendline_options, trendline_color_override, trendline_scope, log_x, log_y, range_x, range_y, render_mode, title, template, width, height)\u001b[0m\n\u001b[0;32m     12\u001b[0m \u001b[38;5;28;01mdef\u001b[39;00m \u001b[38;5;21mscatter\u001b[39m(\n\u001b[0;32m     13\u001b[0m     data_frame\u001b[38;5;241m=\u001b[39m\u001b[38;5;28;01mNone\u001b[39;00m,\n\u001b[0;32m     14\u001b[0m     x\u001b[38;5;241m=\u001b[39m\u001b[38;5;28;01mNone\u001b[39;00m,\n\u001b[1;32m   (...)\u001b[0m\n\u001b[0;32m     60\u001b[0m     height\u001b[38;5;241m=\u001b[39m\u001b[38;5;28;01mNone\u001b[39;00m,\n\u001b[0;32m     61\u001b[0m ) \u001b[38;5;241m-\u001b[39m\u001b[38;5;241m>\u001b[39m go\u001b[38;5;241m.\u001b[39mFigure:\n\u001b[0;32m     62\u001b[0m \u001b[38;5;250m    \u001b[39m\u001b[38;5;124;03m\"\"\"\u001b[39;00m\n\u001b[0;32m     63\u001b[0m \u001b[38;5;124;03m    In a scatter plot, each row of `data_frame` is represented by a symbol\u001b[39;00m\n\u001b[0;32m     64\u001b[0m \u001b[38;5;124;03m    mark in 2D space.\u001b[39;00m\n\u001b[0;32m     65\u001b[0m \u001b[38;5;124;03m    \"\"\"\u001b[39;00m\n\u001b[1;32m---> 66\u001b[0m     \u001b[38;5;28;01mreturn\u001b[39;00m \u001b[43mmake_figure\u001b[49m\u001b[43m(\u001b[49m\u001b[43margs\u001b[49m\u001b[38;5;241;43m=\u001b[39;49m\u001b[38;5;28;43mlocals\u001b[39;49m\u001b[43m(\u001b[49m\u001b[43m)\u001b[49m\u001b[43m,\u001b[49m\u001b[43m \u001b[49m\u001b[43mconstructor\u001b[49m\u001b[38;5;241;43m=\u001b[39;49m\u001b[43mgo\u001b[49m\u001b[38;5;241;43m.\u001b[39;49m\u001b[43mScatter\u001b[49m\u001b[43m)\u001b[49m\n",
      "File \u001b[1;32mc:\\Users\\blair.kiel\\source\\repos\\baseball_sim\\.conda\\Lib\\site-packages\\plotly\\express\\_core.py:1990\u001b[0m, in \u001b[0;36mmake_figure\u001b[1;34m(args, constructor, trace_patch, layout_patch)\u001b[0m\n\u001b[0;32m   1987\u001b[0m layout_patch \u001b[38;5;241m=\u001b[39m layout_patch \u001b[38;5;129;01mor\u001b[39;00m {}\n\u001b[0;32m   1988\u001b[0m apply_default_cascade(args)\n\u001b[1;32m-> 1990\u001b[0m args \u001b[38;5;241m=\u001b[39m \u001b[43mbuild_dataframe\u001b[49m\u001b[43m(\u001b[49m\u001b[43margs\u001b[49m\u001b[43m,\u001b[49m\u001b[43m \u001b[49m\u001b[43mconstructor\u001b[49m\u001b[43m)\u001b[49m\n\u001b[0;32m   1991\u001b[0m \u001b[38;5;28;01mif\u001b[39;00m constructor \u001b[38;5;129;01min\u001b[39;00m [go\u001b[38;5;241m.\u001b[39mTreemap, go\u001b[38;5;241m.\u001b[39mSunburst, go\u001b[38;5;241m.\u001b[39mIcicle] \u001b[38;5;129;01mand\u001b[39;00m args[\u001b[38;5;124m\"\u001b[39m\u001b[38;5;124mpath\u001b[39m\u001b[38;5;124m\"\u001b[39m] \u001b[38;5;129;01mis\u001b[39;00m \u001b[38;5;129;01mnot\u001b[39;00m \u001b[38;5;28;01mNone\u001b[39;00m:\n\u001b[0;32m   1992\u001b[0m     args \u001b[38;5;241m=\u001b[39m process_dataframe_hierarchy(args)\n",
      "File \u001b[1;32mc:\\Users\\blair.kiel\\source\\repos\\baseball_sim\\.conda\\Lib\\site-packages\\plotly\\express\\_core.py:1405\u001b[0m, in \u001b[0;36mbuild_dataframe\u001b[1;34m(args, constructor)\u001b[0m\n\u001b[0;32m   1402\u001b[0m     args[\u001b[38;5;124m\"\u001b[39m\u001b[38;5;124mcolor\u001b[39m\u001b[38;5;124m\"\u001b[39m] \u001b[38;5;241m=\u001b[39m \u001b[38;5;28;01mNone\u001b[39;00m\n\u001b[0;32m   1403\u001b[0m \u001b[38;5;66;03m# now that things have been prepped, we do the systematic rewriting of `args`\u001b[39;00m\n\u001b[1;32m-> 1405\u001b[0m df_output, wide_id_vars \u001b[38;5;241m=\u001b[39m \u001b[43mprocess_args_into_dataframe\u001b[49m\u001b[43m(\u001b[49m\n\u001b[0;32m   1406\u001b[0m \u001b[43m    \u001b[49m\u001b[43margs\u001b[49m\u001b[43m,\u001b[49m\u001b[43m \u001b[49m\u001b[43mwide_mode\u001b[49m\u001b[43m,\u001b[49m\u001b[43m \u001b[49m\u001b[43mvar_name\u001b[49m\u001b[43m,\u001b[49m\u001b[43m \u001b[49m\u001b[43mvalue_name\u001b[49m\n\u001b[0;32m   1407\u001b[0m \u001b[43m\u001b[49m\u001b[43m)\u001b[49m\n\u001b[0;32m   1409\u001b[0m \u001b[38;5;66;03m# now that `df_output` exists and `args` contains only references, we complete\u001b[39;00m\n\u001b[0;32m   1410\u001b[0m \u001b[38;5;66;03m# the special-case and wide-mode handling by further rewriting args and/or mutating\u001b[39;00m\n\u001b[0;32m   1411\u001b[0m \u001b[38;5;66;03m# df_output\u001b[39;00m\n\u001b[0;32m   1413\u001b[0m count_name \u001b[38;5;241m=\u001b[39m _escape_col_name(df_output, \u001b[38;5;124m\"\u001b[39m\u001b[38;5;124mcount\u001b[39m\u001b[38;5;124m\"\u001b[39m, [var_name, value_name])\n",
      "File \u001b[1;32mc:\\Users\\blair.kiel\\source\\repos\\baseball_sim\\.conda\\Lib\\site-packages\\plotly\\express\\_core.py:1207\u001b[0m, in \u001b[0;36mprocess_args_into_dataframe\u001b[1;34m(args, wide_mode, var_name, value_name)\u001b[0m\n\u001b[0;32m   1205\u001b[0m         \u001b[38;5;28;01mif\u001b[39;00m argument \u001b[38;5;241m==\u001b[39m \u001b[38;5;124m\"\u001b[39m\u001b[38;5;124mindex\u001b[39m\u001b[38;5;124m\"\u001b[39m:\n\u001b[0;32m   1206\u001b[0m             err_msg \u001b[38;5;241m+\u001b[39m\u001b[38;5;241m=\u001b[39m \u001b[38;5;124m\"\u001b[39m\u001b[38;5;130;01m\\n\u001b[39;00m\u001b[38;5;124m To use the index, pass it in directly as `df.index`.\u001b[39m\u001b[38;5;124m\"\u001b[39m\n\u001b[1;32m-> 1207\u001b[0m         \u001b[38;5;28;01mraise\u001b[39;00m \u001b[38;5;167;01mValueError\u001b[39;00m(err_msg)\n\u001b[0;32m   1208\u001b[0m \u001b[38;5;28;01melif\u001b[39;00m length \u001b[38;5;129;01mand\u001b[39;00m \u001b[38;5;28mlen\u001b[39m(df_input[argument]) \u001b[38;5;241m!=\u001b[39m length:\n\u001b[0;32m   1209\u001b[0m     \u001b[38;5;28;01mraise\u001b[39;00m \u001b[38;5;167;01mValueError\u001b[39;00m(\n\u001b[0;32m   1210\u001b[0m         \u001b[38;5;124m\"\u001b[39m\u001b[38;5;124mAll arguments should have the same length. \u001b[39m\u001b[38;5;124m\"\u001b[39m\n\u001b[0;32m   1211\u001b[0m         \u001b[38;5;124m\"\u001b[39m\u001b[38;5;124mThe length of column argument `df[\u001b[39m\u001b[38;5;132;01m%s\u001b[39;00m\u001b[38;5;124m]` is \u001b[39m\u001b[38;5;132;01m%d\u001b[39;00m\u001b[38;5;124m, whereas the \u001b[39m\u001b[38;5;124m\"\u001b[39m\n\u001b[1;32m   (...)\u001b[0m\n\u001b[0;32m   1218\u001b[0m         )\n\u001b[0;32m   1219\u001b[0m     )\n",
      "\u001b[1;31mValueError\u001b[0m: Value of 'x' is not the name of a column in 'data_frame'. Expected one of ['pitch_x', 'pitch_y', 'pitch_type', 'outcome', 'hitability'] but received: x"
     ]
    }
   ],
   "source": [
    "\n",
    "pitch_data.show_scatter(\"pitch_x\", \"pitch_y\", \"Location\", color='hitability')"
   ]
  },
  {
   "cell_type": "code",
   "execution_count": null,
   "metadata": {},
   "outputs": [
    {
     "data": {
      "application/vnd.plotly.v1+json": {
       "config": {
        "plotlyServerURL": "https://plot.ly"
       },
       "data": [
        {
         "alignmentgroup": "True",
         "bingroup": "x",
         "hovertemplate": "variable=x<br>value=%{x}<br>count=%{y}<extra></extra>",
         "legendgroup": "x",
         "marker": {
          "color": "#636efa",
          "pattern": {
           "shape": ""
          }
         },
         "name": "x",
         "offsetgroup": "x",
         "orientation": "v",
         "showlegend": true,
         "type": "histogram",
         "x": [
          -0.431723304305503,
          0.46492206904493105,
          0.959686001332887,
          0.93622509862176,
          -0.8756813185805286,
          -0.04000934068843786,
          -0.5013079590920929,
          0.40113942782730033,
          0.3965136633152246,
          -0.35588368290857636,
          -0.21695790803618387,
          0.2309700926101678,
          -0.4414273296903481,
          1.0643879017268252,
          2.328575391918905,
          0.19536328406030568,
          -0.3896964363457379,
          -0.677200756369152,
          1.251441077329942,
          -0.7382195917794275,
          0.08452390362102288,
          0.453713936234828,
          0.6033979387053994,
          -0.9685061797255461,
          -1.2300945593955162,
          0.9588729470213293,
          -1.8003992930648582,
          0.16326408529757053,
          -0.16679128025949916,
          0.6047087356054162,
          -1.2729882519362017,
          -1.2358520980251613,
          -0.0824821325980818,
          0.4801539632346225,
          0.6258894048866932,
          -0.8934422517080952,
          -0.3943072875093858,
          -0.3012959365709352,
          1.5151209219813486,
          -0.21452294831325827,
          0.628867996719769,
          -0.3976495913347877,
          -0.27113912972343723,
          1.2963861027925156,
          0.16004346623923302,
          0.5974406879669811,
          0.6511138832937926,
          0.06531538990010216,
          0.3478031369875643,
          0.980790518332242,
          -0.6174725405904398,
          1.2038500471896185,
          1.19764094688129,
          1.1258881558194644,
          1.459046942816488,
          -1.6516268204920497,
          1.176649802893513,
          0.577233286799781,
          -1.134765199258603,
          0.5248161597601252,
          -0.7625893735723124,
          -0.1994287481280826,
          -0.1252115687449809,
          0.778545962478877,
          0.4425070099750374,
          -1.1277808293283178,
          -0.5377888926588201,
          -0.7960594435900817,
          0.39289139921335314,
          1.2773073450366077,
          -0.3352273752892981,
          -0.9871411471275571,
          2.3953047978661366,
          0.04939177892026454,
          0.11686528222957168,
          -0.8442333919876358,
          -0.013825759976525118,
          -0.25988109685263916,
          1.502352691942894,
          0.3519553803583327,
          1.3145148271955465,
          0.7486517064691652,
          0.03726621439883128,
          0.22499774916078308,
          0.7383380257318788,
          0.21326149841852501,
          0.03403235175435169,
          0.22879208711712026,
          1.333167517235716,
          -0.8644161785910894,
          -0.7961894868678187,
          0.8747205467947238,
          -0.924001366554876,
          0.52573777949855,
          2.244931917353903,
          -0.57045665051337,
          -0.9702983107348717,
          0.899085703280798,
          0.8987773355508515,
          0.645216841664886,
          0.7134259898282319,
          -1.127894807021319,
          -0.6831559812582164,
          1.0290809331495852,
          -1.2455534328335154,
          -1.075565317786721,
          0.6195910774175366,
          0.12465811493464911,
          -0.22606801622865327,
          1.269530881126576,
          1.0827245610363536,
          -0.7812228093080277,
          0.3223964559834348,
          1.0297628636632792,
          0.05638213150551976,
          -0.37675028640593894,
          0.1765498259749251,
          -0.6538514134396918,
          -0.5743667866941785,
          1.742265797554504,
          0.3573230517520202,
          1.0000734647761764,
          -0.17391397685146184,
          -0.25567323752749266,
          2.0224512599963402,
          -0.23718732463082595,
          1.5685313457854526,
          0.25867790967542903,
          0.3837644681785982,
          -0.2681451404647941,
          0.9309104731634266,
          1.9795098749960847,
          0.8776603200625817,
          0.171754446168035,
          -0.7372120532207438,
          0.6518432404462225,
          0.7784721513874227,
          0.1620004624438129,
          1.0280851931107011,
          -0.28332857828613345,
          0.550920072243606,
          0.3331667229507388,
          0.44251503121346397,
          1.4121175140787392,
          0.03408323586262157,
          -0.5390902364049862,
          1.0906245425439063,
          1.9546911986362476,
          -1.3514508289525509,
          0.6571722772701561,
          -0.3949985792249917,
          1.270371845591225,
          1.5828969876653973,
          0.3499125088128072,
          -0.6744611449563174,
          0.15045908828185323,
          0.35827943590518524,
          -0.44192606291358605,
          -1.719926774826673,
          1.1070637274804545,
          -0.03898683903033252,
          -1.4651968612695199,
          -0.7097006127812643,
          0.48597226188834336,
          0.5320664129148851,
          -0.10469555288578851,
          -0.5004618641115438,
          1.3483123616066865,
          0.6367736743627744,
          -2.2057115390869924,
          -0.06258163818010103,
          -2.1643302835410814,
          1.3825568996566846,
          -0.5091219723025147,
          0.014475582527967492,
          -0.7222207625414372,
          0.5207912657812457,
          -1.6157224838164903,
          0.9855574263771374,
          -0.9347809839740453,
          -0.05941106659181537,
          -0.7116957607763904,
          0.030988933961508397,
          -0.9483575046770792,
          0.4232470717324738,
          -0.48143177152996613,
          0.4826724786218708,
          -1.5283230991884746,
          -0.9101640372781156,
          1.3421200450060693,
          0.8818001727182584,
          -1.729928298918385,
          -0.45857332357104524,
          -0.12377354111396699,
          1.0938855510560246,
          -2.1378793154400437,
          -0.551941979689381,
          0.6390599490952813,
          -0.7720940358275965,
          -0.39472862744811404,
          -0.9197781393698644,
          0.5651066493260215,
          -1.0407133207482195,
          -0.6958838578376207,
          0.07837658493324126,
          -1.0471556273729254,
          0.48462746801773315,
          1.0820588054633178,
          2.235952196620395,
          0.5873594098869795,
          1.8813220692603414,
          -0.014656183462583818,
          0.09496590027230528,
          -1.5614709335473316,
          1.458925850139112,
          -0.4776213062437723,
          0.17741842532492846,
          0.25611783761446383,
          -1.051978110018126,
          0.7606464441587407,
          0.26752351806809166,
          0.23272837199348004,
          0.46908154442078615,
          -0.6428211910412044,
          -0.5275054703274321,
          0.8401540583280632,
          1.2507979194763499,
          1.0608852475611814,
          0.8977180819463255,
          -1.2632330135248977,
          -0.5427934804246137,
          0.010208743780214406,
          0.14575220598490624,
          0.2992742485719453,
          0.16805434179897707,
          -0.4946158169014554,
          0.9660703410435736,
          0.14643866983395448,
          0.2636352108585336,
          1.710233731361644,
          0.39618988483342266,
          -0.17835203463737942,
          0.9959084923951818,
          -2.1679079255160603,
          -0.3543346909530562,
          -1.3039084516064392,
          -1.3038480938557964,
          0.41095696289342365,
          -0.8200787419698408,
          -0.5640839492243779,
          -0.8674344822688953,
          -0.2172562184601459,
          0.09812761395324035,
          -0.2929070884977422,
          0.34243180771350706,
          0.8886126921045532,
          -1.4905173991713774,
          0.6295816548580576,
          -0.718797704789443,
          1.0100331281987638,
          0.20555943486868858,
          -0.16825085229725464,
          -1.0919857911349609,
          1.7940714909019897,
          0.6243253812900351,
          -0.8934852821589923,
          -1.6097467992256664,
          0.6608657226823264,
          0.3881092718273715,
          1.9044251192260968,
          0.9846162440970736,
          -1.5063938574331805,
          0.5409200522167315,
          -0.695052118308943,
          0.7622870251494842,
          0.3578951101502709,
          1.379535783804286,
          1.0302020283967532,
          -0.36808591344313235,
          0.711765766913666,
          0.610944822987373,
          -0.07149774174404722,
          0.2555353730123482,
          0.8395505034529375,
          1.1948916036837713,
          0.5322865549115351,
          -0.1765514711677714,
          1.5728793015154006,
          0.689215395356077,
          -0.22434401094549145,
          -0.8012347665447885,
          -1.0091073243838415,
          0.5701907431963824,
          -1.3483671858027384,
          0.5796790675391302,
          0.7550774932796643,
          -1.2133650856117804,
          -1.4077244194108351,
          1.0548532352780946,
          -0.4135375057788718,
          0.8632571978432613,
          0.09287360335542438,
          0.92607774127186,
          -0.17389516639756486,
          -0.31566834514331515,
          -0.6713302155734727,
          1.3297061246606785,
          -0.7978028701923048,
          -0.7525656816122521,
          1.212641411871729,
          0.2613771039007147,
          0.6006195608476185,
          -0.5253492995158338,
          0.3749719994227364,
          0.4052076106119331,
          -0.2739665310307414,
          -0.45540548260906927,
          -0.7183918000902213,
          0.05463834515383953,
          -0.172008451672547,
          -0.9028604027118555,
          -0.5582578430868378,
          0.23428453005630878,
          0.12978378792997627,
          0.2867801988988523,
          -1.0965013045025722,
          1.334259916560085,
          1.6207086912161288,
          0.7865552561579898,
          -0.000541284809260828,
          0.0970815860829979,
          -0.7755602139638341,
          -0.9567364167091013,
          -1.264665476077557,
          0.19527843461289165,
          -2.059846572930142,
          -0.4704272611565277,
          0.8502197651280032,
          0.040684051237143845,
          -0.7526360972705854,
          0.9495243007256194,
          0.05187978681207923,
          0.15428750183667245,
          -0.5227357927721007,
          -0.0485236046874293,
          -0.5762241131150572,
          0.4017264723737506,
          -0.42105069144634477,
          0.8140941678631851,
          -0.8771102149456036,
          0.8463534892638662,
          -1.4570038685006863,
          -0.5495516495247202,
          1.1417155101484568,
          -0.15371179543852548,
          0.5480465049837608,
          -1.188394288913803,
          -2.3315672116248685,
          1.2571085823937422,
          -1.9017767833497405,
          -0.28438571946872804,
          0.1924039020450656,
          -0.12415874296678783,
          -0.21304989276579026,
          0.12590587018324625,
          -0.015776351006867802,
          0.5233046967057202,
          -0.9627768422820581,
          -0.40990557822416046,
          -0.6012336985600425,
          -0.11970331429078437,
          0.943471798514304,
          1.8169642657968432,
          0.3888841209971961,
          -0.7463216057661135,
          -0.582037302762387,
          -0.4742435384434872,
          0.6818881957990969,
          0.6170616452243838,
          1.059991151914861,
          0.43139824641192825,
          0.58946965957744,
          -0.0688849525080799,
          0.7921064811963563,
          -0.3720248558843203,
          0.21496222646587476,
          -0.3057464842491477,
          0.46379838695043096,
          0.1553361610497432,
          -0.3028527514563104,
          -1.1837724813458341,
          -0.40463696620828643,
          1.476812824785635,
          -0.7321277682310424,
          -1.1159231662337887,
          -0.2537703481594439,
          0.5284109170383557,
          0.35975642209654374,
          0.28461142109060156,
          -0.9190688814052753,
          -0.5359278425362943,
          0.5953911021447851,
          2.206709903639896,
          -0.31998669784672296,
          -0.3733117723082923,
          -0.18622863322477703,
          0.6345840808901347,
          -0.4687555740182576,
          1.3549750643371266,
          -0.7120650782096761,
          -0.15144602391735895,
          -0.49799488057052044,
          0.548734566750768,
          0.18263497929309183,
          0.33689642513447393,
          1.355880784443923,
          -0.18283392983395313,
          0.17878678781589685,
          0.3150235308287763,
          0.36835475097280374,
          -0.23633427400921692,
          1.2211677945734016,
          1.047440733752221,
          -0.5674948138282054,
          -0.5120809761920266,
          -1.7134958055187646,
          -0.6842150374840245,
          -0.6558364730073488,
          -0.15115902638425752,
          0.4536249340689306,
          -0.7483518625179738,
          0.47196451232796227,
          -0.7578074169900634,
          -0.7235390475802532,
          -0.11324481116631076,
          -0.6923699772683963,
          2.12219648096725,
          0.09517671669414075,
          0.18590230328883392,
          1.5527278914260638,
          1.1433110506081365,
          -0.28291358066103783,
          -0.09835033006344522,
          -0.3446187117927799,
          -1.6029295205992298,
          0.0031715538537933873,
          -1.7923956271527492,
          -0.763978239005386,
          0.09345346882075349,
          -0.5494167535969484,
          -0.8076286012767409,
          -1.0243409914385546,
          -0.4223306802042975,
          -2.185114087007588,
          -0.9167966920414279,
          -0.020737977171552735,
          -0.041374967486035336,
          0.025343099892393098,
          0.1698733028746269,
          0.7010631683657976,
          1.0930006248281563,
          -1.1677710433924722,
          0.457942594660096,
          -0.23964308125022427,
          -0.9417704014304702,
          -0.30882401126347064,
          -0.2273170319664024,
          0.5436997591172945,
          -1.0347175032316882,
          1.1712224585535325,
          -0.2829478643433358,
          -0.6966625956009943,
          0.5894289485731373,
          1.0247900497706377,
          1.3360039747417503,
          -1.360802224709475,
          0.7964434766169974,
          -0.012613510433486921,
          0.9126574871412926,
          -0.7484111767528481,
          0.907808166130775,
          -0.2530220485057427,
          -0.8611939526672945,
          1.4989558750000975,
          0.9319190578410479,
          0.3764885602232653,
          0.13835787530596236,
          -0.35882955561788266,
          -0.48110232524852264,
          -0.7678192805592008,
          1.040323766283091,
          1.1782139798811484,
          -0.3966915873827337,
          0.15960707399248383,
          0.35122609839594976,
          1.586732319569527,
          -0.42060411918551877,
          -0.2434013156300565,
          1.6613559929966772,
          -1.0985899982975498,
          0.2459975651811641,
          0.43093567579823305,
          -0.7144047506639596,
          0.7472980245560935,
          0.8013413201635675,
          -0.8527949120388251,
          0.7589994480450964,
          1.1545328165154474,
          0.21593771138065887,
          -0.10727643601486936,
          -0.3255939690772067,
          -0.9432889819407341,
          -0.7355505755185751,
          0.8067369268666882,
          -0.8619558383247864,
          0.6722390230098553,
          -0.35536653294637854,
          0.1373682778945837,
          1.423623111256591,
          -1.2661173277049367,
          -0.20659553900621672,
          0.5312884606099012,
          1.5508356680788549,
          0.40894528403863917,
          -0.31300536922562544,
          0.5368399360701434,
          -0.27788889087435253,
          0.3902475492004398,
          0.3840973156156476,
          0.6936948944906494,
          1.723362607572615,
          0.8866265073795319,
          1.2344148258688976,
          -0.7051007239120893,
          0.02369807510058664,
          -1.3143114461093797,
          -0.30069229940411685,
          -1.3217342982985238,
          1.2877580440446703,
          -0.794910524445212,
          -1.4160343655142376,
          0.8240327082009798,
          -0.03268391107537193,
          -1.035019515787083,
          -0.9020915542254223,
          -2.1088419142608688,
          -0.6588035021511819,
          -0.4867092839043915,
          -0.22255474863707014,
          -0.37738387022565095,
          0.6555830944329208,
          0.642915016107142,
          1.0424791207683026,
          -0.04130515794708221,
          -1.923394684227077,
          0.9106143773448002,
          -0.9149242477840617,
          0.6253067421873677,
          -1.2739639736392705,
          -0.0935311731575441,
          0.719187013042269,
          -0.9167530525760396,
          0.31612604812769873,
          -0.7099273203397105,
          -0.20199526308350424,
          1.2863989405523681,
          0.2749327290155192,
          -1.173775901743798,
          0.2895968698509666,
          0.14599676006256998,
          0.03412078571143874,
          -0.6934583280369444,
          -0.27295577191660936,
          0.11747997824691195,
          -0.8531283456105028,
          0.09033733507517687,
          0.31182585490425424,
          -0.8939223042445112,
          0.4639485312929275,
          -0.5416958821677724,
          0.08444667856028147,
          -0.5024559436528371,
          1.4519348685095015,
          -1.202996956139595,
          -0.8268862143726654,
          -0.004284653529005873,
          -0.0039116617951967326,
          -0.010988436033577407,
          2.1492752442294187,
          -0.5175814597499782,
          0.6555315966386602,
          -0.26789270198567033,
          -0.09198713903062126,
          0.8342615987946185,
          -0.7608885151913669,
          0.8546936743935756,
          1.2680677941944036,
          1.6914863303517027,
          0.6320672982462462,
          0.4741503354516506,
          0.5296130798414157,
          0.15715164989699895,
          -0.2554713033217915,
          -1.2384346517428997,
          1.19295483253527,
          0.41989270059617406,
          -1.4130465528277698,
          0.9797791285987306,
          -0.9138333185506919,
          -0.0630627838095957,
          1.172540203714899,
          -0.05166170557795784,
          -0.6093358381536288,
          0.1661375763198327,
          0.17251661183071415,
          0.8304732894137948,
          -1.707336775683432,
          0.3642287428628355,
          -0.5510726243909587,
          0.16999903573139533,
          -0.9912467192531978,
          -1.4725480596215796,
          -1.8526459778538305,
          1.2707770794893682,
          0.011077992704467398,
          0.420737920014048,
          0.08922747027102036,
          -0.9853732226687855,
          0.9443794396313157,
          -0.6921674865905101,
          -0.09603731429618986,
          0.45173750591243955,
          -0.4886691299027915,
          -0.19654577941429952,
          0.30173402143729344,
          1.815001953755207,
          1.7049604988019382,
          1.542440559795518,
          0.2681914657484387,
          -0.46892549446777543,
          -0.479300052119618,
          -1.2935501061832892,
          0.9527044802383856,
          -0.41184809338752415,
          -0.7812407165479665,
          -0.033654868655496675,
          0.8022555626655514,
          -0.3417251040833985,
          0.6214484958206482,
          -0.8856162137566247,
          0.7848926511778656,
          -1.1026750205372584,
          0.06728789696107831,
          -0.7886044563041915,
          -1.7978740436346798,
          -1.1623414837681303,
          -1.0776861798282267,
          -1.35127269427413,
          0.27589131594893296,
          1.200773781545302,
          0.3343575730778126,
          -1.1674721578831397,
          -0.7275927584123731,
          0.09166746093537416,
          0.07912392624235944,
          -0.0902810125067377,
          0.7868336285019875,
          -0.983169061878401,
          0.4983281043568577,
          0.17462499890143926,
          -0.9800637610166573,
          -0.699917334771056,
          0.40183209398524,
          -0.06819184832877973,
          -0.5313838953805075,
          -1.0337729485435896,
          -0.7236299403704073,
          -0.7193382743975298,
          0.4543442384887758,
          1.279424008388872,
          -0.2451637369809932,
          0.6798181916261294,
          0.19703992782061944,
          1.3049816021423242,
          1.1362219597922365,
          -0.7876735679653812,
          -0.4277697546477137,
          -0.17831611389801594,
          1.2587685813257894,
          0.06881742755113772,
          -1.1128429659957386,
          -0.18226947306429495,
          0.28673080588234967,
          -0.41947530121633214,
          1.276044475004052,
          0.5890005094330062,
          -0.842195636350306,
          -0.3598271662601433,
          -0.7977577172277827,
          1.1988130708595641,
          1.7287080066870857,
          -1.465845715419358,
          0.4807663717063025,
          0.3246485836131974,
          -1.0987461368582285,
          -1.4953646212825706,
          -0.23248083079881665,
          -1.649674743602835,
          -0.6929252694778778,
          -0.3170060605424259,
          -0.5009508330842252,
          0.24351994920924147,
          0.2555556066162802,
          0.5679562764030672,
          -0.3772598829757198,
          -0.6949445692144667,
          -1.2511691304050314,
          -1.6440491007427969,
          -0.34425760960669866,
          -0.09399501838523255,
          -0.17874052284924175,
          1.1505600090346106,
          -0.74495338381277,
          0.1468066616917595,
          -1.4483615673481374,
          -0.18390863532432614,
          0.4706650484701362,
          -0.34995176342841167,
          -0.8694879554252838,
          0.11087099224522949,
          0.5731126783662236,
          0.6967902844214023,
          0.6800113275025688,
          2.2262089852981957,
          0.6626740989246183,
          0.5806793560646776,
          -1.6948123532782111,
          0.06655738809208456,
          -0.049793745569631176,
          -0.9058686253043982,
          1.8765130402068024,
          -1.518934980571799,
          -1.0830181693905043,
          0.5842267535134661,
          -0.8538816170005179,
          -1.0842930030607598,
          1.2483448040463456,
          -1.2985138557634477,
          -0.7148145714001924,
          1.7909755595350105,
          1.2024448563983214,
          -1.6812212564064224,
          0.016407395451308544,
          0.2131892314133501,
          -0.8220326118992942,
          -0.9124895304476666,
          0.89583780083941,
          -1.2071160735577193,
          -0.7268283992128107,
          0.133237541912101,
          0.6503074587350804,
          1.0285962680608942,
          0.7004721884949391,
          -0.5260677053330736,
          -0.8697812824193544,
          -0.05697051785080476,
          0.9591119475519898,
          0.2638834015092712,
          -0.8561866432965082,
          -0.14294299243652098,
          -1.1575712839054517,
          0.41522499026277193,
          -0.8297679649028517,
          0.8225596947756283,
          -0.04342304453175884,
          -0.9880858051933715,
          1.5961849163600519,
          -0.5238165527098998,
          -0.12344887669723424,
          -1.2740255384552726,
          1.1996199683699251,
          0.27013775095769604,
          1.2200765914296032,
          0.05584605273304482,
          1.5058446795870417,
          1.4215414806914752,
          -0.09272557422856587,
          -0.11321047680245026,
          0.8972934171353668,
          -0.3388476962534899,
          -1.4659436750846313,
          0.3282156095056663,
          -1.0985628543281833,
          -1.630519402694941,
          2.6244075563507905,
          0.4816043539448514,
          -0.7234409988086857,
          0.39804967026516846,
          1.2004239308623814,
          -0.2678467336678115,
          -0.39162099567846775,
          -0.2802256166640439,
          0.35788067614369884,
          -0.36588704826085716,
          0.56945624349753,
          -1.3134187497538432,
          1.100110491982902,
          -0.23376114001435583,
          0.13331682276964005,
          0.14556846858078204,
          0.9378885824756189,
          -2.437309592399198,
          1.6128793639388528,
          0.18975867238604313,
          -0.4478209252893239,
          0.30751073650440597,
          1.2012135343131443,
          -0.7283294694322634,
          -0.8199324091686719,
          2.1667187357869233,
          0.35610632699364325,
          0.9356547876099791,
          0.15830822010408702,
          0.6581164294556959,
          -0.8697719465506945,
          0.5289771087957645,
          0.867001104064202,
          1.2790118703688051,
          -0.4498035434918006,
          -0.3587687108086502,
          -0.24419492717171232,
          -1.1798471269081288,
          -0.3400933052934713,
          0.7399484758287151,
          -0.6793574644620827,
          0.6064839951796898,
          0.8578936540835999,
          -0.7669717546803582,
          0.5553275441145236,
          -0.026736699219198048,
          -1.0280650081614098,
          -1.0934128351220171,
          1.5171557834325482,
          -0.6380261932127321,
          -0.23467530133605846,
          1.2079702023811392,
          0.37163202579612165,
          -0.6512981080932743,
          0.043473212009195364,
          -0.5548151298906936,
          0.41330316529443695,
          0.5558522956016066,
          -0.11002278981053641,
          -0.24291083906154623,
          -0.12400916208428642,
          -0.8486839698642962,
          -1.5636000388761602,
          0.03213016708254126,
          -0.10994480166136475,
          -0.02152474646997233,
          0.9382565482357574,
          2.646888230878536,
          -0.1803258342263815,
          1.9509542184090385,
          0.5787952995664317,
          0.08114432968424885,
          1.1226523238248827,
          -0.775173432823605,
          1.3510643100354542,
          -0.9459089732440663,
          1.143101695395957,
          0.24759502290721197,
          0.5250344907499859,
          0.46892303879868574,
          -0.5184774543131712,
          0.36021759532439485,
          -1.7012930508370585,
          1.4240905635516334,
          -0.11115485835152866,
          0.7702713846823172,
          0.27334038927522747,
          -0.3900246621522552,
          -0.34896216482182796,
          0.41507424037570456,
          0.39219051253634435,
          0.4034289291909146,
          -0.6652194766336568,
          -0.4516337956572107,
          -0.9454528440990226,
          -0.5107223688974549,
          -0.481160117283412,
          -1.561439648687864,
          -1.8804509505434615,
          0.7840385085321288,
          0.6752525006743528,
          0.3641017536557612,
          -0.4009780266162422,
          0.9967574651461366,
          0.7211934086782866,
          -0.31492319521468487,
          -0.034510591196126976,
          -1.7934196131383717,
          -0.05278977712628012,
          0.7070777289887653,
          -0.39785345041781395,
          1.4328228873135609,
          -0.8817782084737782,
          1.3946753317941118,
          -0.5296760458453652,
          0.585119186261504,
          -0.06678709149404556,
          -0.4088997937709029,
          0.21180661729417255,
          1.0400565727272717,
          -0.7056310996751017,
          1.4943024818001107,
          -1.3067041454364952,
          0.1248989809080365,
          -1.7287658137448734,
          -0.704329345847451,
          -0.6259465345099688,
          0.5135131256224622,
          1.0107378600585355,
          -0.28899247635832265,
          -0.20099209601341445,
          -0.495989652794764,
          0.7282853700857638,
          -0.7343426620542146,
          0.5226553075595407,
          1.6660547105580354,
          -1.0580266706470012,
          0.21684859244381874,
          -1.1896146069845286,
          -0.23554928495443977,
          2.21686475300739,
          0.7310137058851336,
          -2.5405216708836953,
          2.089602388060631,
          0.2340762973111275,
          0.8597279112339703,
          -1.8204812004324504,
          0.9254882144365244,
          0.8980112052012433,
          -0.7915449005557317,
          0.17656710363646158,
          0.09368099142292798,
          -0.19851214619937646,
          1.0470997609357853,
          -0.8469850964808802,
          -0.6391201352334395,
          0.33584976961922114,
          1.1681529550519714,
          -0.031367535814851036,
          0.6486647969937943,
          0.8092970785687933,
          -0.2913499463418328,
          0.8901301395573734,
          -0.9131640787982734,
          -0.9190943246745861,
          0.9486532171096052,
          -0.1916434562098055,
          0.18625783036557556,
          -0.7095282315172171,
          -0.08193444295368356,
          -1.0116931951374615,
          -0.3349089105996513,
          -1.4446240531081258,
          -1.041423900617613,
          0.05614504248803481,
          -0.4451592590803437,
          0.32110075735792465,
          1.9208271056610877,
          1.8205244285862667,
          0.9983015218202479,
          0.7586729186463297,
          -0.7171072648512301,
          0.39718414265142465,
          -0.4304263137546424,
          0.4503082605502743,
          0.24783202550881345,
          -0.05303861425221529,
          0.27807557204607414,
          1.7783112565715558,
          0.31473490991016173,
          -0.2634692942397269,
          1.4863256340345297,
          -0.6615680199417672,
          0.0694676842281864,
          -0.13840692250335668,
          -0.07283296848143589,
          -1.496000277727158,
          -0.2815172455371572,
          -2.202437326038199,
          -0.04893737631836328,
          0.6222220691832218,
          0.583369754403638,
          0.11790353671767811,
          0.2952102631696156,
          -1.3613078811211452,
          1.4199013206188869
         ],
         "xaxis": "x",
         "yaxis": "y"
        }
       ],
       "layout": {
        "barmode": "relative",
        "legend": {
         "title": {
          "text": "variable"
         },
         "tracegroupgap": 0
        },
        "template": {
         "data": {
          "bar": [
           {
            "error_x": {
             "color": "#2a3f5f"
            },
            "error_y": {
             "color": "#2a3f5f"
            },
            "marker": {
             "line": {
              "color": "#E5ECF6",
              "width": 0.5
             },
             "pattern": {
              "fillmode": "overlay",
              "size": 10,
              "solidity": 0.2
             }
            },
            "type": "bar"
           }
          ],
          "barpolar": [
           {
            "marker": {
             "line": {
              "color": "#E5ECF6",
              "width": 0.5
             },
             "pattern": {
              "fillmode": "overlay",
              "size": 10,
              "solidity": 0.2
             }
            },
            "type": "barpolar"
           }
          ],
          "carpet": [
           {
            "aaxis": {
             "endlinecolor": "#2a3f5f",
             "gridcolor": "white",
             "linecolor": "white",
             "minorgridcolor": "white",
             "startlinecolor": "#2a3f5f"
            },
            "baxis": {
             "endlinecolor": "#2a3f5f",
             "gridcolor": "white",
             "linecolor": "white",
             "minorgridcolor": "white",
             "startlinecolor": "#2a3f5f"
            },
            "type": "carpet"
           }
          ],
          "choropleth": [
           {
            "colorbar": {
             "outlinewidth": 0,
             "ticks": ""
            },
            "type": "choropleth"
           }
          ],
          "contour": [
           {
            "colorbar": {
             "outlinewidth": 0,
             "ticks": ""
            },
            "colorscale": [
             [
              0,
              "#0d0887"
             ],
             [
              0.1111111111111111,
              "#46039f"
             ],
             [
              0.2222222222222222,
              "#7201a8"
             ],
             [
              0.3333333333333333,
              "#9c179e"
             ],
             [
              0.4444444444444444,
              "#bd3786"
             ],
             [
              0.5555555555555556,
              "#d8576b"
             ],
             [
              0.6666666666666666,
              "#ed7953"
             ],
             [
              0.7777777777777778,
              "#fb9f3a"
             ],
             [
              0.8888888888888888,
              "#fdca26"
             ],
             [
              1,
              "#f0f921"
             ]
            ],
            "type": "contour"
           }
          ],
          "contourcarpet": [
           {
            "colorbar": {
             "outlinewidth": 0,
             "ticks": ""
            },
            "type": "contourcarpet"
           }
          ],
          "heatmap": [
           {
            "colorbar": {
             "outlinewidth": 0,
             "ticks": ""
            },
            "colorscale": [
             [
              0,
              "#0d0887"
             ],
             [
              0.1111111111111111,
              "#46039f"
             ],
             [
              0.2222222222222222,
              "#7201a8"
             ],
             [
              0.3333333333333333,
              "#9c179e"
             ],
             [
              0.4444444444444444,
              "#bd3786"
             ],
             [
              0.5555555555555556,
              "#d8576b"
             ],
             [
              0.6666666666666666,
              "#ed7953"
             ],
             [
              0.7777777777777778,
              "#fb9f3a"
             ],
             [
              0.8888888888888888,
              "#fdca26"
             ],
             [
              1,
              "#f0f921"
             ]
            ],
            "type": "heatmap"
           }
          ],
          "heatmapgl": [
           {
            "colorbar": {
             "outlinewidth": 0,
             "ticks": ""
            },
            "colorscale": [
             [
              0,
              "#0d0887"
             ],
             [
              0.1111111111111111,
              "#46039f"
             ],
             [
              0.2222222222222222,
              "#7201a8"
             ],
             [
              0.3333333333333333,
              "#9c179e"
             ],
             [
              0.4444444444444444,
              "#bd3786"
             ],
             [
              0.5555555555555556,
              "#d8576b"
             ],
             [
              0.6666666666666666,
              "#ed7953"
             ],
             [
              0.7777777777777778,
              "#fb9f3a"
             ],
             [
              0.8888888888888888,
              "#fdca26"
             ],
             [
              1,
              "#f0f921"
             ]
            ],
            "type": "heatmapgl"
           }
          ],
          "histogram": [
           {
            "marker": {
             "pattern": {
              "fillmode": "overlay",
              "size": 10,
              "solidity": 0.2
             }
            },
            "type": "histogram"
           }
          ],
          "histogram2d": [
           {
            "colorbar": {
             "outlinewidth": 0,
             "ticks": ""
            },
            "colorscale": [
             [
              0,
              "#0d0887"
             ],
             [
              0.1111111111111111,
              "#46039f"
             ],
             [
              0.2222222222222222,
              "#7201a8"
             ],
             [
              0.3333333333333333,
              "#9c179e"
             ],
             [
              0.4444444444444444,
              "#bd3786"
             ],
             [
              0.5555555555555556,
              "#d8576b"
             ],
             [
              0.6666666666666666,
              "#ed7953"
             ],
             [
              0.7777777777777778,
              "#fb9f3a"
             ],
             [
              0.8888888888888888,
              "#fdca26"
             ],
             [
              1,
              "#f0f921"
             ]
            ],
            "type": "histogram2d"
           }
          ],
          "histogram2dcontour": [
           {
            "colorbar": {
             "outlinewidth": 0,
             "ticks": ""
            },
            "colorscale": [
             [
              0,
              "#0d0887"
             ],
             [
              0.1111111111111111,
              "#46039f"
             ],
             [
              0.2222222222222222,
              "#7201a8"
             ],
             [
              0.3333333333333333,
              "#9c179e"
             ],
             [
              0.4444444444444444,
              "#bd3786"
             ],
             [
              0.5555555555555556,
              "#d8576b"
             ],
             [
              0.6666666666666666,
              "#ed7953"
             ],
             [
              0.7777777777777778,
              "#fb9f3a"
             ],
             [
              0.8888888888888888,
              "#fdca26"
             ],
             [
              1,
              "#f0f921"
             ]
            ],
            "type": "histogram2dcontour"
           }
          ],
          "mesh3d": [
           {
            "colorbar": {
             "outlinewidth": 0,
             "ticks": ""
            },
            "type": "mesh3d"
           }
          ],
          "parcoords": [
           {
            "line": {
             "colorbar": {
              "outlinewidth": 0,
              "ticks": ""
             }
            },
            "type": "parcoords"
           }
          ],
          "pie": [
           {
            "automargin": true,
            "type": "pie"
           }
          ],
          "scatter": [
           {
            "fillpattern": {
             "fillmode": "overlay",
             "size": 10,
             "solidity": 0.2
            },
            "type": "scatter"
           }
          ],
          "scatter3d": [
           {
            "line": {
             "colorbar": {
              "outlinewidth": 0,
              "ticks": ""
             }
            },
            "marker": {
             "colorbar": {
              "outlinewidth": 0,
              "ticks": ""
             }
            },
            "type": "scatter3d"
           }
          ],
          "scattercarpet": [
           {
            "marker": {
             "colorbar": {
              "outlinewidth": 0,
              "ticks": ""
             }
            },
            "type": "scattercarpet"
           }
          ],
          "scattergeo": [
           {
            "marker": {
             "colorbar": {
              "outlinewidth": 0,
              "ticks": ""
             }
            },
            "type": "scattergeo"
           }
          ],
          "scattergl": [
           {
            "marker": {
             "colorbar": {
              "outlinewidth": 0,
              "ticks": ""
             }
            },
            "type": "scattergl"
           }
          ],
          "scattermapbox": [
           {
            "marker": {
             "colorbar": {
              "outlinewidth": 0,
              "ticks": ""
             }
            },
            "type": "scattermapbox"
           }
          ],
          "scatterpolar": [
           {
            "marker": {
             "colorbar": {
              "outlinewidth": 0,
              "ticks": ""
             }
            },
            "type": "scatterpolar"
           }
          ],
          "scatterpolargl": [
           {
            "marker": {
             "colorbar": {
              "outlinewidth": 0,
              "ticks": ""
             }
            },
            "type": "scatterpolargl"
           }
          ],
          "scatterternary": [
           {
            "marker": {
             "colorbar": {
              "outlinewidth": 0,
              "ticks": ""
             }
            },
            "type": "scatterternary"
           }
          ],
          "surface": [
           {
            "colorbar": {
             "outlinewidth": 0,
             "ticks": ""
            },
            "colorscale": [
             [
              0,
              "#0d0887"
             ],
             [
              0.1111111111111111,
              "#46039f"
             ],
             [
              0.2222222222222222,
              "#7201a8"
             ],
             [
              0.3333333333333333,
              "#9c179e"
             ],
             [
              0.4444444444444444,
              "#bd3786"
             ],
             [
              0.5555555555555556,
              "#d8576b"
             ],
             [
              0.6666666666666666,
              "#ed7953"
             ],
             [
              0.7777777777777778,
              "#fb9f3a"
             ],
             [
              0.8888888888888888,
              "#fdca26"
             ],
             [
              1,
              "#f0f921"
             ]
            ],
            "type": "surface"
           }
          ],
          "table": [
           {
            "cells": {
             "fill": {
              "color": "#EBF0F8"
             },
             "line": {
              "color": "white"
             }
            },
            "header": {
             "fill": {
              "color": "#C8D4E3"
             },
             "line": {
              "color": "white"
             }
            },
            "type": "table"
           }
          ]
         },
         "layout": {
          "annotationdefaults": {
           "arrowcolor": "#2a3f5f",
           "arrowhead": 0,
           "arrowwidth": 1
          },
          "autotypenumbers": "strict",
          "coloraxis": {
           "colorbar": {
            "outlinewidth": 0,
            "ticks": ""
           }
          },
          "colorscale": {
           "diverging": [
            [
             0,
             "#8e0152"
            ],
            [
             0.1,
             "#c51b7d"
            ],
            [
             0.2,
             "#de77ae"
            ],
            [
             0.3,
             "#f1b6da"
            ],
            [
             0.4,
             "#fde0ef"
            ],
            [
             0.5,
             "#f7f7f7"
            ],
            [
             0.6,
             "#e6f5d0"
            ],
            [
             0.7,
             "#b8e186"
            ],
            [
             0.8,
             "#7fbc41"
            ],
            [
             0.9,
             "#4d9221"
            ],
            [
             1,
             "#276419"
            ]
           ],
           "sequential": [
            [
             0,
             "#0d0887"
            ],
            [
             0.1111111111111111,
             "#46039f"
            ],
            [
             0.2222222222222222,
             "#7201a8"
            ],
            [
             0.3333333333333333,
             "#9c179e"
            ],
            [
             0.4444444444444444,
             "#bd3786"
            ],
            [
             0.5555555555555556,
             "#d8576b"
            ],
            [
             0.6666666666666666,
             "#ed7953"
            ],
            [
             0.7777777777777778,
             "#fb9f3a"
            ],
            [
             0.8888888888888888,
             "#fdca26"
            ],
            [
             1,
             "#f0f921"
            ]
           ],
           "sequentialminus": [
            [
             0,
             "#0d0887"
            ],
            [
             0.1111111111111111,
             "#46039f"
            ],
            [
             0.2222222222222222,
             "#7201a8"
            ],
            [
             0.3333333333333333,
             "#9c179e"
            ],
            [
             0.4444444444444444,
             "#bd3786"
            ],
            [
             0.5555555555555556,
             "#d8576b"
            ],
            [
             0.6666666666666666,
             "#ed7953"
            ],
            [
             0.7777777777777778,
             "#fb9f3a"
            ],
            [
             0.8888888888888888,
             "#fdca26"
            ],
            [
             1,
             "#f0f921"
            ]
           ]
          },
          "colorway": [
           "#636efa",
           "#EF553B",
           "#00cc96",
           "#ab63fa",
           "#FFA15A",
           "#19d3f3",
           "#FF6692",
           "#B6E880",
           "#FF97FF",
           "#FECB52"
          ],
          "font": {
           "color": "#2a3f5f"
          },
          "geo": {
           "bgcolor": "white",
           "lakecolor": "white",
           "landcolor": "#E5ECF6",
           "showlakes": true,
           "showland": true,
           "subunitcolor": "white"
          },
          "hoverlabel": {
           "align": "left"
          },
          "hovermode": "closest",
          "mapbox": {
           "style": "light"
          },
          "paper_bgcolor": "white",
          "plot_bgcolor": "#E5ECF6",
          "polar": {
           "angularaxis": {
            "gridcolor": "white",
            "linecolor": "white",
            "ticks": ""
           },
           "bgcolor": "#E5ECF6",
           "radialaxis": {
            "gridcolor": "white",
            "linecolor": "white",
            "ticks": ""
           }
          },
          "scene": {
           "xaxis": {
            "backgroundcolor": "#E5ECF6",
            "gridcolor": "white",
            "gridwidth": 2,
            "linecolor": "white",
            "showbackground": true,
            "ticks": "",
            "zerolinecolor": "white"
           },
           "yaxis": {
            "backgroundcolor": "#E5ECF6",
            "gridcolor": "white",
            "gridwidth": 2,
            "linecolor": "white",
            "showbackground": true,
            "ticks": "",
            "zerolinecolor": "white"
           },
           "zaxis": {
            "backgroundcolor": "#E5ECF6",
            "gridcolor": "white",
            "gridwidth": 2,
            "linecolor": "white",
            "showbackground": true,
            "ticks": "",
            "zerolinecolor": "white"
           }
          },
          "shapedefaults": {
           "line": {
            "color": "#2a3f5f"
           }
          },
          "ternary": {
           "aaxis": {
            "gridcolor": "white",
            "linecolor": "white",
            "ticks": ""
           },
           "baxis": {
            "gridcolor": "white",
            "linecolor": "white",
            "ticks": ""
           },
           "bgcolor": "#E5ECF6",
           "caxis": {
            "gridcolor": "white",
            "linecolor": "white",
            "ticks": ""
           }
          },
          "title": {
           "x": 0.05
          },
          "xaxis": {
           "automargin": true,
           "gridcolor": "white",
           "linecolor": "white",
           "ticks": "",
           "title": {
            "standoff": 15
           },
           "zerolinecolor": "white",
           "zerolinewidth": 2
          },
          "yaxis": {
           "automargin": true,
           "gridcolor": "white",
           "linecolor": "white",
           "ticks": "",
           "title": {
            "standoff": 15
           },
           "zerolinecolor": "white",
           "zerolinewidth": 2
          }
         }
        },
        "title": {
         "text": "Histogram of x"
        },
        "xaxis": {
         "anchor": "y",
         "domain": [
          0,
          1
         ],
         "title": {
          "text": "value"
         }
        },
        "yaxis": {
         "anchor": "x",
         "domain": [
          0,
          1
         ],
         "title": {
          "text": "count"
         }
        }
       }
      }
     },
     "metadata": {},
     "output_type": "display_data"
    }
   ],
   "source": [
    "pitch_data.show_x_location_hist('pitch_x')"
   ]
  },
  {
   "cell_type": "code",
   "execution_count": null,
   "metadata": {},
   "outputs": [
    {
     "data": {
      "application/vnd.plotly.v1+json": {
       "config": {
        "plotlyServerURL": "https://plot.ly"
       },
       "data": [
        {
         "alignmentgroup": "True",
         "bingroup": "x",
         "hovertemplate": "variable=y<br>value=%{x}<br>count=%{y}<extra></extra>",
         "legendgroup": "y",
         "marker": {
          "color": "#636efa",
          "pattern": {
           "shape": ""
          }
         },
         "name": "y",
         "offsetgroup": "y",
         "orientation": "v",
         "showlegend": true,
         "type": "histogram",
         "x": [
          0.7278142226171617,
          0.25884257791608145,
          -0.6647127359713468,
          -1.6181083945395007,
          -0.28868477842520834,
          -1.0254487319923495,
          -0.19676620748000015,
          0.5835126428132787,
          1.401654562398117,
          -1.0303020246885262,
          1.4380638059782176,
          0.30733049432015014,
          -0.12077335611346833,
          0.16817231844507205,
          0.20729876002905165,
          -0.8604918740236175,
          -1.0195458107590232,
          -0.9887253820446888,
          -0.299695609386681,
          -0.712322512845659,
          0.3335351477607097,
          -0.06637975386100609,
          -1.1499997927848595,
          -0.01683356605556046,
          -1.088906893269011,
          0.4706669559764246,
          -0.5627027042944076,
          1.4309882867914916,
          0.6392533669739937,
          1.2082440082408619,
          -0.03806716789052806,
          0.0957990735142347,
          0.21976630741756817,
          -1.0644516000189366,
          -0.39786882268099627,
          2.06905460465193,
          -0.0821876004296231,
          -0.41800534962967534,
          1.509798502383637,
          -1.0955557629672956,
          -0.468257304263338,
          0.5707036256778604,
          -1.6457783365418988,
          -0.30935269328562137,
          0.8449183685980264,
          -0.4219300551967285,
          0.42388410823683653,
          -0.4766488022824203,
          -1.0091580505651037,
          0.13784033386792868,
          0.24118428336390207,
          -1.0104249220908237,
          0.3117552962605728,
          3.024239187134143,
          1.0268877341759741,
          -0.03120803060692653,
          -0.37005329204221804,
          0.34588642054726726,
          -0.8236157452207178,
          -0.33766243599994866,
          -0.17477606927831196,
          -0.03391578979436957,
          -0.7019919525527573,
          -0.3846073162885869,
          0.15558213906986,
          -0.3074623272109238,
          -0.038968542948026326,
          0.29341520704969537,
          0.3664545416659829,
          1.2791862766242732,
          0.17090909908744092,
          0.23405065149819052,
          -1.0513364907639677,
          -0.4223716481362849,
          0.48031130155174984,
          -0.7886576359351568,
          0.8572012454636502,
          1.6805402629958714,
          1.019838459900906,
          -0.31898675244219665,
          0.457993570407016,
          1.154951200235698,
          -0.6732076391585291,
          1.0194753463828345,
          0.38620905112947507,
          1.1957865369848328,
          -1.1072250916383184,
          0.11044577881188809,
          1.1382908324992393,
          0.9911927891411518,
          1.3492420338680502,
          -0.6924933278562025,
          0.7217172147944693,
          -0.06374976953365093,
          -0.27621659509071506,
          0.922154923510945,
          0.5347367944860767,
          -0.012403381440047934,
          0.6834750961166076,
          -1.9643089219191197,
          0.9857484148587217,
          1.0132823659797237,
          0.30119224295448144,
          -0.4124857521538042,
          -0.3454968952518553,
          0.09843089053985639,
          -0.7117086188968913,
          -1.2864519230366234,
          -1.5414218564588975,
          -0.31419001787214423,
          -0.6114988820952859,
          -0.7284015992642042,
          -0.6301592288958597,
          1.5762843662081472,
          0.06267037497896193,
          -0.5882353337464897,
          0.1857641994961868,
          0.8040408009221437,
          -0.7483915492046078,
          0.07925242268179085,
          -1.258115035480507,
          0.30748278277850843,
          2.274873370677032,
          -0.244299427713579,
          0.1751582770777195,
          0.3837326070928517,
          0.6844264204725371,
          -0.6155381752432773,
          -0.41890442085234914,
          0.8402388061855517,
          -0.2691498606197146,
          0.3921632493464856,
          0.28776734444510166,
          -1.6833137296141976,
          -0.5258122413667075,
          -0.41255235634346943,
          -0.6313960266226981,
          0.3900212184021839,
          -1.0301166722109731,
          0.029416197008392177,
          0.6696701608366019,
          0.8511118695102856,
          0.7985312748793063,
          1.702136502561311,
          -1.6536377597748895,
          0.25345488980578296,
          0.36480074844723204,
          0.5170529366735754,
          -0.7884494822540152,
          0.1545835653898975,
          0.6013652202568818,
          -1.8238657638994153,
          0.776437370061188,
          -2.0135825950445985,
          0.2596339988452827,
          -0.010908520789009932,
          1.4698618697421808,
          0.8554182320502282,
          1.289474204132252,
          0.303763243896815,
          1.1166843269891416,
          -0.4601805413153164,
          -0.7779567352867313,
          -0.040406872573651796,
          1.0117964225000755,
          0.5151937648988161,
          -1.1849062231557623,
          -0.5381797958314392,
          1.0748175057748024,
          0.8219974825090175,
          -0.3431603314753558,
          0.45288680480204013,
          1.2123575740444459,
          0.6586552420180142,
          0.1369981135585339,
          0.4844082749124091,
          0.13783816552983263,
          0.8580283028913256,
          0.36633224991334007,
          0.195339863630128,
          0.007080370126269042,
          -0.34992218594468166,
          1.0255950141845922,
          0.2946446258312716,
          0.22806898588643396,
          -0.8196168026789068,
          0.792802774622402,
          -0.09861714421171987,
          0.2860855433288454,
          0.2961938996179019,
          -0.5664865477811267,
          0.9425497638429405,
          -0.9394028500753688,
          1.6785759523895563,
          0.89082103352599,
          0.4964464278068986,
          0.15826877693834274,
          -0.6253371178034949,
          0.7164175831022549,
          -1.3845512403061915,
          -0.05043139974092736,
          0.10163583483948369,
          0.03250703580812324,
          0.8922545529283022,
          0.14782889676947078,
          -1.559343819443562,
          1.036935254216497,
          0.32646299153562836,
          -0.4983208095379343,
          -0.22438765350412276,
          -0.07775291962929178,
          0.24613676175488874,
          -1.6446120184096562,
          -0.43811506174918763,
          0.09605326522030026,
          0.27213779250206893,
          0.7357000426724967,
          0.5079523667418105,
          0.2135756775296371,
          1.632153162711258,
          0.2589913923646412,
          -0.022269459560508877,
          -0.4161745485160877,
          -0.8318644671580309,
          0.03573222920255583,
          -2.196969619662426,
          -0.03153883953437849,
          -1.0921912101578821,
          -0.5461974072659234,
          -0.5849771467083463,
          0.7874851650057586,
          -1.8056521190651535,
          0.2637072236448229,
          -0.1633962643690912,
          -0.12294890136497291,
          0.6448213718163224,
          -0.7923099885952896,
          0.5560897943705292,
          -0.6431855082036001,
          -1.4267183710566915,
          -0.30022453112644854,
          -0.18631881706128955,
          -0.0952705964379208,
          0.11677941486099883,
          0.7989422790789961,
          -0.3221236741088665,
          -0.5019442776139058,
          -0.7844273722274248,
          -0.4275243129053138,
          -0.6396265866031683,
          0.047848615184275065,
          0.5949157097617049,
          0.5112632226392383,
          0.1504695426017925,
          0.09618601168957638,
          0.9365171151147873,
          -0.11026814806543372,
          0.057625807914994664,
          -0.7892396616372331,
          -1.1484509969072703,
          -0.013397910718750301,
          0.2820387461259598,
          1.910147934058452,
          -0.1985212981970586,
          -0.38488067579751817,
          -1.3729168192686074,
          -0.5972119979299759,
          -1.235363643971947,
          -0.5994003456144014,
          0.3338724836922547,
          1.6785935658804676,
          0.07636153710066708,
          0.49963357290993393,
          -0.05035582236001604,
          0.8449185376419442,
          -0.5515480094175964,
          0.3215957472471447,
          -1.5631062938645222,
          -0.14699080245459104,
          0.06962693673634236,
          -0.3972710534998964,
          -0.33750342651082266,
          -0.8486410084578999,
          -0.5175600634858103,
          -0.3906420348048976,
          -0.3315768665689306,
          0.49232250380304104,
          0.6053959038962329,
          0.28736947745988795,
          0.004866559202813642,
          -1.6361315648027508,
          -1.4198460000766497,
          0.1246208914680987,
          0.7243460565907872,
          -0.20331320334036151,
          0.22118694947728734,
          -0.13822340903703062,
          -1.7756451233995547,
          0.3510634498432164,
          0.9669502827249753,
          -0.7491711512471061,
          -0.47722362803745483,
          1.0842552837505828,
          1.3826103163468713,
          -0.0747714448361035,
          0.6974394327768146,
          -0.4114019182306698,
          0.15993550170408094,
          1.270838313889214,
          -0.4113771958507137,
          0.15145400367627435,
          0.860622252219855,
          -0.9303502338220867,
          0.5560145878086573,
          1.346542694679359,
          -0.10924196286215397,
          0.9562444385219405,
          0.48045366437118103,
          0.7497691003184324,
          -0.33684529547142467,
          0.12505920578106547,
          -0.07558928290526436,
          1.7526224615654467,
          -0.7434494021990009,
          0.5945288760828881,
          0.31170958534109344,
          0.12376912885396174,
          0.2056670089056164,
          -1.1241064919317096,
          -0.433699897731076,
          1.60639534219297,
          0.20604517498072966,
          0.6441884760709194,
          0.26957366966893054,
          -0.7032678003241747,
          2.2998471060455294,
          -0.4882306917988035,
          -0.8101352701585515,
          -0.9746971147648651,
          -0.5273337509520154,
          -0.0014896520303550166,
          -0.540459151731401,
          -0.06195156351596436,
          -0.1274425676419753,
          0.20632945753744944,
          -0.20992709661303569,
          -0.7774255238276097,
          -0.6571622650057423,
          0.5705255434106014,
          0.8757650815134874,
          1.1328080513773693,
          0.5265238427724188,
          0.16098959634983886,
          2.022534000583601,
          -0.4551416754925129,
          0.11461018108178378,
          -0.14609307244115402,
          -1.348825218938725,
          -1.0595697833372584,
          0.2709042878499043,
          0.964765493502825,
          0.5148566421970697,
          2.9533938801965687,
          -2.5198407017921522,
          0.024612435675845812,
          -0.31762683330743785,
          0.840114163077561,
          0.943718671689144,
          0.4929145942346016,
          0.783123725926959,
          1.2861015198494667,
          -0.07625851850852762,
          -1.051751086192091,
          0.980368105888668,
          0.4430093846719908,
          1.1263296459988812,
          0.16769927065402185,
          0.9064120539715258,
          0.005722573404359719,
          0.44863084738572395,
          -0.3823580151470052,
          0.40317473618857963,
          1.8752861042565152,
          0.5403759236027493,
          0.844446580102931,
          -0.3120285648543493,
          -0.20903066902293,
          -0.10363073102735974,
          0.05614700261887458,
          -0.08598294243613676,
          1.3619284102725464,
          -0.012477460000237944,
          -0.8399993310446304,
          -0.6605297368719286,
          1.4660951375487703,
          0.7625193462481412,
          -0.52346045251778,
          -0.11654102166086254,
          0.8558733192657605,
          -1.2462935438653497,
          0.43125831207416865,
          0.8329478941179548,
          -0.4051009588057514,
          0.28421406173281505,
          1.4524361096928695,
          0.12650473742543863,
          1.8940766797063588,
          -0.03691815238243265,
          0.4881031911568364,
          -0.7849811024839273,
          -0.7193503506930123,
          -1.0815154617836935,
          -0.16027457754588975,
          -1.3744002247715186,
          -0.8112493688346527,
          -0.037340710367317356,
          0.1070028563671518,
          0.19774372390850123,
          0.04017896431878148,
          0.1066087196424479,
          -0.18873274451975913,
          0.4686564166243515,
          -0.5829947017312886,
          -0.8789338936447194,
          -0.42856431358608654,
          0.27575703495162046,
          0.8012323127083619,
          0.5869379609820947,
          0.00289442392481452,
          -0.8177492645504785,
          -0.3266049382397535,
          -1.4846819800092808,
          0.4934664422244515,
          -0.3360872381325198,
          0.13656583892179155,
          -1.8372680809941535,
          0.4857839228147542,
          0.3035941476220371,
          -0.6279292473164179,
          0.5547479158523683,
          -0.9573850804882098,
          -0.7510711402040918,
          -0.7049513076864792,
          -0.11665461485504182,
          0.14508563592707605,
          -0.9657223849419121,
          0.09969048174239943,
          1.1479326434224537,
          -0.15047822354962379,
          -1.111917468520392,
          1.9932158783117024,
          -0.10401445446624014,
          -2.68693632834604,
          -1.3237759806331921,
          -1.2314114124884101,
          1.2546000261700094,
          0.19213579559557528,
          0.7211189018597352,
          -1.4021218972062763,
          0.8358755633985288,
          -1.4853035236252656,
          -1.0241671234041763,
          -0.38521281811391006,
          -1.482584336620843,
          -0.4146059834234165,
          -0.3324974620191876,
          1.106004744396135,
          -0.858293104543333,
          0.40041140253617,
          0.8538777820718622,
          -1.261058957486573,
          -0.38976228466875823,
          1.6420452959725438,
          -0.13685597247560008,
          -0.8176774005659072,
          -0.19409971391993516,
          1.1900993351334679,
          -0.3588579023089025,
          0.8638425787779096,
          -0.18580346447915697,
          0.5810899787079986,
          0.17186400319796954,
          0.5212974018375178,
          0.9702533723602325,
          1.5434551022625054,
          -0.29675102254742847,
          0.2311853699137734,
          -1.1628951133945258,
          1.642330569770978,
          0.8751568051884907,
          1.479256572582558,
          -0.6662021188513175,
          -0.12307043363677311,
          -1.110466880640479,
          -0.7976457393132715,
          -1.4904561323070824,
          1.0753044945590886,
          0.3272789403214687,
          -0.1843690796637019,
          -0.3368166052110983,
          -0.12371045865104875,
          1.5466853008472399,
          0.4847227639869422,
          -1.0845616136295704,
          -1.6405333566212745,
          -0.4923277639691095,
          -1.0463991051346406,
          -0.26807117703350786,
          -1.626598966610568,
          -0.46085918483926674,
          -0.010165302159201937,
          0.9830735535733228,
          2.0230821762216706,
          0.5423233151514192,
          -0.09239079203491574,
          -0.16470920242336223,
          1.3870306299148774,
          0.22616599462517417,
          -0.8308010072398941,
          -0.3259545142784245,
          1.7345327653414848,
          0.4423967597369692,
          0.8012914320827508,
          -0.5841009735472202,
          0.31440005675477983,
          0.4535684259058219,
          1.6521567101422123,
          0.2750304204001233,
          -0.8325752928601765,
          -0.5516543446736288,
          -2.1836217560481552,
          -0.462570965907509,
          -0.825134944719257,
          -0.4518507394104806,
          0.48728741805974446,
          1.1462879452225148,
          -0.2576473176564066,
          0.020999131673846348,
          0.6818539111010993,
          -0.29489778524403193,
          -1.6262577115497963,
          -0.7214563215599955,
          0.006535941053132432,
          -0.5970101704506727,
          -0.48747004716803544,
          2.0155071011140677,
          -0.5048459751385102,
          -1.3506195288718932,
          -0.470316101597298,
          -0.5929294855720711,
          0.33583082087246546,
          0.45519426433499777,
          -1.2360702324786723,
          1.4597710505966857,
          -0.3927827249335584,
          1.8737469221414222,
          -0.1634260118684139,
          -0.3780326102968719,
          1.8322084395016105,
          -1.5049977416419855,
          -0.09808737233628055,
          0.44301514652481366,
          0.4514352943565679,
          -0.4105564270930805,
          -0.3499216257828868,
          0.15167125443859042,
          1.3866291989468815,
          0.33204520428391093,
          0.675271324787704,
          0.8704581316297343,
          -0.6865210251810087,
          -0.42252122303333634,
          -1.687792523347837,
          0.4438823119260138,
          0.4439126953748951,
          -0.7415423664210836,
          1.6183777901432088,
          -1.4788808110222444,
          2.019226971212582,
          -1.9643348931585123,
          0.3806450558277497,
          0.7230581270355584,
          1.4117225979600814,
          -0.3039915315984151,
          0.01376516293002615,
          -0.5361156223438597,
          1.4975630892912124,
          0.7059624686410518,
          -1.0937141077365418,
          0.8930860314441119,
          1.3650037514635553,
          -0.6817203158270092,
          0.4550438786172887,
          -0.04012918601980998,
          0.9375659628252665,
          0.11616079956622852,
          0.09508880267388121,
          2.339226341665243,
          -0.08644980957242254,
          -0.49396046413671135,
          0.9927663755655854,
          -0.7377468106157777,
          1.9050099463851375,
          -0.10687791398954752,
          -1.2093307148789378,
          0.04879740859418157,
          1.3703818458415467,
          0.7513955491351926,
          0.41540239547365154,
          1.8734362279463803,
          0.3694195133147752,
          -0.7526582901668925,
          -0.14834399331791898,
          1.5967804682192968,
          1.6639543519080475,
          0.27595840619942197,
          -0.2218366819409038,
          -0.21870413959283774,
          0.08562948333814477,
          0.48364148873901047,
          1.817913101040018,
          0.9989013731805018,
          -0.5198123406685666,
          1.7816281239447376,
          -0.3840016998733697,
          0.5451432119383642,
          0.7451940764094778,
          0.6814660122388161,
          0.06421842288120921,
          1.3359123711627252,
          0.3940431452405426,
          -0.8331324248492841,
          -0.3887673093192212,
          -0.4207782789919108,
          -0.8398909788583353,
          -0.8363574784728272,
          -1.5342198770538544,
          1.0859027892005608,
          0.7549267501380977,
          0.157008954033627,
          -0.03561461129064814,
          0.18160138458012728,
          0.5585371168054484,
          0.7941894273313063,
          0.85440632106239,
          -1.1666183831523282,
          -0.9792448331108977,
          -0.3775998041164011,
          -0.3090555536713993,
          -0.1052228021125465,
          -0.027585272161406185,
          -0.02302361998982876,
          -1.4891728895003136,
          0.060023643759114,
          1.3177361750072625,
          -0.0914216881833369,
          1.6491187627209805,
          0.6173432613388855,
          0.6693900031482779,
          -1.2351052939970777,
          0.6493407864063895,
          -0.37180829240573765,
          1.0971628791522543,
          0.607265609681549,
          -0.4041178157556599,
          -1.1615677794446673,
          0.912687268801843,
          0.07297695357442266,
          0.11352532068374144,
          -1.0704904701805837,
          -1.2941519048177987,
          0.824823869618869,
          0.19910537964204247,
          0.010764415753613867,
          0.4726492144222389,
          -0.30477481873314677,
          -0.2505161205113171,
          1.5609281139982834,
          -0.8745552059060926,
          0.9030607032835157,
          0.6641429896139683,
          0.5252476754821296,
          -0.4681415187859209,
          0.6607689494046225,
          0.05353282795567046,
          0.8732168384432972,
          -0.2975992753819231,
          -0.9095296219528376,
          0.059547937980698004,
          1.1005490879634,
          -0.9767668057702116,
          0.02139968830400122,
          1.1467063696328483,
          0.6791553243121281,
          0.5752661839352852,
          -0.9093682543400042,
          0.774043589548196,
          0.5002281691000531,
          -0.20160623158818214,
          -0.37398205233536175,
          -1.1290382179317884,
          1.7616844642473557,
          0.6705382889795234,
          -2.155992765638451,
          0.12961529151947182,
          0.8103987594336689,
          -0.13673955360519072,
          0.6417203503498351,
          0.02294864235583126,
          -1.1958434581518653,
          -0.6775098631870621,
          0.3989601135939117,
          0.02726784442165812,
          -1.7518988061905945,
          -0.9153261562890341,
          0.4413208488541331,
          1.2245880712983082,
          -1.7698443252713167,
          -0.5749082298093376,
          -0.23599275764169533,
          -2.5468915403083408,
          0.1408311752084051,
          -0.3214587029772407,
          -0.2064708707468474,
          0.45680448077859637,
          -0.16097393161682017,
          0.14669007633100142,
          -0.35406921554637943,
          0.9629229121285837,
          -0.07402791281282778,
          -0.1967463054620744,
          -0.6536154288711937,
          0.7027845565400764,
          0.8930062014234806,
          0.5984460535960368,
          0.30305884673952677,
          -1.3508590893831487,
          -0.6746220451488965,
          1.0096924131699296,
          -0.46955820563589806,
          -0.0718042921288789,
          0.7266197730814936,
          0.09619079013256139,
          0.1058350525136818,
          -0.531555835036569,
          0.8574465246063071,
          -1.6474374460974335,
          -1.4664182078276977,
          0.005310799753693662,
          0.0020371655132025803,
          0.8375614980089205,
          1.142169307050791,
          0.07743287843394671,
          0.6858294121707841,
          0.4444457246089316,
          -1.7265057679802414,
          -0.9958622333093484,
          -1.6810948027333152,
          0.2358552304515548,
          -0.18266609499342948,
          0.2827540535757667,
          0.3003130686728406,
          -1.3065726304512284,
          -0.6741186002353499,
          -0.6136209911657333,
          -0.061151979882892005,
          0.6051756030755928,
          -0.08656588903869468,
          -0.1340596961602458,
          -1.0979085921216896,
          1.1260843148889021,
          -0.3273845931301836,
          1.0991328601680197,
          1.7135571502432996,
          -0.3751408754657232,
          2.492650591858347,
          -1.7209590321946813,
          -0.3731115509055743,
          -0.39675969431306224,
          -0.4793076431295838,
          -0.9796930870151771,
          0.2732658692023521,
          -0.3911949824552832,
          0.7368157290264886,
          -0.591991246312321,
          0.17163389454983777,
          1.0838563075324374,
          -0.8447371728007037,
          0.0812796690403678,
          0.278566274355677,
          0.06221902500680951,
          -1.249446226539763,
          -0.011970536642251065,
          -0.30016956843698855,
          1.2843499512024545,
          -0.6441422913364192,
          -0.06555581714737864,
          -0.5659889406454682,
          1.2364560729217298,
          -0.3788608861306366,
          1.0419320603822404,
          -0.8233156800366517,
          -0.34391744916405387,
          1.1895662294828786,
          -1.1651876063556783,
          0.6127756949608302,
          -0.18090197055635818,
          0.3813294895136597,
          2.2916458018919026,
          0.232046381557033,
          0.748636156405617,
          -0.6817549764649692,
          -0.21090828070244277,
          0.514422344998871,
          -0.2903065799969961,
          -0.602764587996669,
          0.22526989422983856,
          0.035130127466526787,
          1.2386605165803355,
          1.8897730950630718,
          -0.09256941184149123,
          -0.797933345768582,
          0.3721439219280963,
          -0.32369448640578985,
          0.988009118191231,
          0.5374618957201412,
          0.6009791549172634,
          0.4280683622285512,
          0.4572222455569023,
          0.36341839752951893,
          -0.12888138372927174,
          -0.7127682071424527,
          0.33341970830835843,
          0.31384044426405133,
          0.26822316119154405,
          -0.5996938687125374,
          -0.09291812748363645,
          1.265693596502947,
          0.3101263464266203,
          0.2873451775562675,
          1.0725057365708448,
          -1.0273937511799223,
          1.9024870021287228,
          -0.4057094931952995,
          -2.337779891414766,
          0.16320616477235178,
          -1.3196882619074854,
          -0.4340082883864476,
          0.9543147778244836,
          -0.5497680524002276,
          1.4795095184590539,
          0.6398989616627572,
          -0.3850597473562863,
          -1.5127890642819823,
          -0.6700357877912801,
          0.8375536226448609,
          0.18481014267012394,
          0.6043971193356108,
          0.08584282969646909,
          -1.357563240909741,
          0.8495670489766297,
          0.10536958002237427,
          1.0515465333174832,
          0.17672031276951858,
          -0.3309380405682915,
          0.3834602364942278,
          0.45165010624395135,
          -1.4163383301935915,
          0.7087897122962566,
          0.728303936289229,
          1.243316343577348,
          0.2831086197928382,
          -0.6835703429940959,
          -0.7721586238067458,
          -0.0644455596290229,
          -0.7642741467918651,
          -1.1309853242881098,
          1.21845972037293,
          -0.3171892225941933,
          -0.7583188123361273,
          0.9124449598316824,
          0.19443891217757334,
          -0.3608143599334191,
          -0.7521476345479529,
          0.8676310328309592,
          -0.5140502031877051,
          -2.3374294112094267,
          0.1695969959151489,
          0.010491914310978685,
          -0.7817905654829708,
          0.9341050142100329,
          -0.08039361555998147,
          0.6361316823728832,
          1.4079679293740208,
          0.9174826786205096,
          1.3338075495161619,
          0.33981393110856223,
          0.5802966141831695,
          0.6110830115186224,
          0.914706828745269,
          0.9153926032399768,
          0.4165043363376263,
          1.2567171964623634,
          0.8996475311234968,
          0.2651240110018085,
          1.004913437468165,
          0.008182207968763754,
          1.3177604214813798,
          -0.47995986091047754,
          -0.7786714564833436,
          -0.9386985611414784,
          1.6724664350953735,
          -0.7918463484952848,
          -0.2193279163973078,
          0.5605091962417803,
          0.13540350738723428,
          0.405675580451999,
          1.9035316254213828,
          -0.7593884481261072,
          -0.3018239990097528,
          1.5484364477160548,
          -0.32347601808274,
          -1.6080745778608325,
          -1.7081140672342652,
          -0.6031461736392207,
          -0.6081861498689306,
          -0.34134773104025673,
          1.3435146041299115,
          0.5295118641688284,
          -0.8820751672797383,
          1.8037607613809323,
          -0.8150564992093635,
          0.35271561669868257,
          -0.5223245796467841,
          0.29697488723438537,
          0.22422736900426427,
          -0.24714160736199398,
          -1.1041632028846675,
          0.06364864380662497,
          0.6896730819304874,
          0.617854014121405,
          0.3175477178210403,
          -2.1636196678576143,
          -0.19390830445030202,
          1.592969395178259,
          0.7504625080540125,
          0.7169030918706043,
          -0.7715149719593483,
          -1.256327947251773,
          0.5450935714870497,
          -1.744838095476365,
          0.8342124591731448,
          -0.7266375068643555,
          -1.0973373085294735,
          -0.30303311127439386,
          0.09807134568307,
          -0.04961055483162591,
          0.9980317696439004,
          0.39654580184485416,
          -0.4570064209583635,
          -0.4491484003798915,
          0.08654537567925559,
          -1.2952730308397176,
          0.5815542022236064,
          -0.17461308239285572,
          0.21153710103059598,
          1.92807888382106,
          -0.5292366266109895,
          1.0679383388404924,
          0.15704561820965066,
          0.2697110568509932,
          0.5601675463373873,
          0.195708060355539,
          -0.8945921207199825,
          -1.0189739963827829,
          0.5135296512578855,
          -0.8902874670572201,
          -0.8160217155053405,
          -1.0314305433540139,
          -1.7082805893780866,
          0.4210867457105316,
          0.1356326358185914,
          0.9502202162888714,
          0.25377920145199107,
          -0.1403494562200963,
          -0.3020749006985111,
          0.0357412883268773,
          1.2588459387007886,
          -1.512934695036224,
          -0.08783510182509864,
          -0.23232650383857642,
          -0.725337804105271,
          0.9163674956986959,
          -0.00071727353063338,
          0.23353331965027535,
          -1.4388420020667698,
          -0.382480706016819,
          0.35312865341783506,
          -1.4022305206898127,
          -0.5090739949465616
         ],
         "xaxis": "x",
         "yaxis": "y"
        }
       ],
       "layout": {
        "barmode": "relative",
        "legend": {
         "title": {
          "text": "variable"
         },
         "tracegroupgap": 0
        },
        "template": {
         "data": {
          "bar": [
           {
            "error_x": {
             "color": "#2a3f5f"
            },
            "error_y": {
             "color": "#2a3f5f"
            },
            "marker": {
             "line": {
              "color": "#E5ECF6",
              "width": 0.5
             },
             "pattern": {
              "fillmode": "overlay",
              "size": 10,
              "solidity": 0.2
             }
            },
            "type": "bar"
           }
          ],
          "barpolar": [
           {
            "marker": {
             "line": {
              "color": "#E5ECF6",
              "width": 0.5
             },
             "pattern": {
              "fillmode": "overlay",
              "size": 10,
              "solidity": 0.2
             }
            },
            "type": "barpolar"
           }
          ],
          "carpet": [
           {
            "aaxis": {
             "endlinecolor": "#2a3f5f",
             "gridcolor": "white",
             "linecolor": "white",
             "minorgridcolor": "white",
             "startlinecolor": "#2a3f5f"
            },
            "baxis": {
             "endlinecolor": "#2a3f5f",
             "gridcolor": "white",
             "linecolor": "white",
             "minorgridcolor": "white",
             "startlinecolor": "#2a3f5f"
            },
            "type": "carpet"
           }
          ],
          "choropleth": [
           {
            "colorbar": {
             "outlinewidth": 0,
             "ticks": ""
            },
            "type": "choropleth"
           }
          ],
          "contour": [
           {
            "colorbar": {
             "outlinewidth": 0,
             "ticks": ""
            },
            "colorscale": [
             [
              0,
              "#0d0887"
             ],
             [
              0.1111111111111111,
              "#46039f"
             ],
             [
              0.2222222222222222,
              "#7201a8"
             ],
             [
              0.3333333333333333,
              "#9c179e"
             ],
             [
              0.4444444444444444,
              "#bd3786"
             ],
             [
              0.5555555555555556,
              "#d8576b"
             ],
             [
              0.6666666666666666,
              "#ed7953"
             ],
             [
              0.7777777777777778,
              "#fb9f3a"
             ],
             [
              0.8888888888888888,
              "#fdca26"
             ],
             [
              1,
              "#f0f921"
             ]
            ],
            "type": "contour"
           }
          ],
          "contourcarpet": [
           {
            "colorbar": {
             "outlinewidth": 0,
             "ticks": ""
            },
            "type": "contourcarpet"
           }
          ],
          "heatmap": [
           {
            "colorbar": {
             "outlinewidth": 0,
             "ticks": ""
            },
            "colorscale": [
             [
              0,
              "#0d0887"
             ],
             [
              0.1111111111111111,
              "#46039f"
             ],
             [
              0.2222222222222222,
              "#7201a8"
             ],
             [
              0.3333333333333333,
              "#9c179e"
             ],
             [
              0.4444444444444444,
              "#bd3786"
             ],
             [
              0.5555555555555556,
              "#d8576b"
             ],
             [
              0.6666666666666666,
              "#ed7953"
             ],
             [
              0.7777777777777778,
              "#fb9f3a"
             ],
             [
              0.8888888888888888,
              "#fdca26"
             ],
             [
              1,
              "#f0f921"
             ]
            ],
            "type": "heatmap"
           }
          ],
          "heatmapgl": [
           {
            "colorbar": {
             "outlinewidth": 0,
             "ticks": ""
            },
            "colorscale": [
             [
              0,
              "#0d0887"
             ],
             [
              0.1111111111111111,
              "#46039f"
             ],
             [
              0.2222222222222222,
              "#7201a8"
             ],
             [
              0.3333333333333333,
              "#9c179e"
             ],
             [
              0.4444444444444444,
              "#bd3786"
             ],
             [
              0.5555555555555556,
              "#d8576b"
             ],
             [
              0.6666666666666666,
              "#ed7953"
             ],
             [
              0.7777777777777778,
              "#fb9f3a"
             ],
             [
              0.8888888888888888,
              "#fdca26"
             ],
             [
              1,
              "#f0f921"
             ]
            ],
            "type": "heatmapgl"
           }
          ],
          "histogram": [
           {
            "marker": {
             "pattern": {
              "fillmode": "overlay",
              "size": 10,
              "solidity": 0.2
             }
            },
            "type": "histogram"
           }
          ],
          "histogram2d": [
           {
            "colorbar": {
             "outlinewidth": 0,
             "ticks": ""
            },
            "colorscale": [
             [
              0,
              "#0d0887"
             ],
             [
              0.1111111111111111,
              "#46039f"
             ],
             [
              0.2222222222222222,
              "#7201a8"
             ],
             [
              0.3333333333333333,
              "#9c179e"
             ],
             [
              0.4444444444444444,
              "#bd3786"
             ],
             [
              0.5555555555555556,
              "#d8576b"
             ],
             [
              0.6666666666666666,
              "#ed7953"
             ],
             [
              0.7777777777777778,
              "#fb9f3a"
             ],
             [
              0.8888888888888888,
              "#fdca26"
             ],
             [
              1,
              "#f0f921"
             ]
            ],
            "type": "histogram2d"
           }
          ],
          "histogram2dcontour": [
           {
            "colorbar": {
             "outlinewidth": 0,
             "ticks": ""
            },
            "colorscale": [
             [
              0,
              "#0d0887"
             ],
             [
              0.1111111111111111,
              "#46039f"
             ],
             [
              0.2222222222222222,
              "#7201a8"
             ],
             [
              0.3333333333333333,
              "#9c179e"
             ],
             [
              0.4444444444444444,
              "#bd3786"
             ],
             [
              0.5555555555555556,
              "#d8576b"
             ],
             [
              0.6666666666666666,
              "#ed7953"
             ],
             [
              0.7777777777777778,
              "#fb9f3a"
             ],
             [
              0.8888888888888888,
              "#fdca26"
             ],
             [
              1,
              "#f0f921"
             ]
            ],
            "type": "histogram2dcontour"
           }
          ],
          "mesh3d": [
           {
            "colorbar": {
             "outlinewidth": 0,
             "ticks": ""
            },
            "type": "mesh3d"
           }
          ],
          "parcoords": [
           {
            "line": {
             "colorbar": {
              "outlinewidth": 0,
              "ticks": ""
             }
            },
            "type": "parcoords"
           }
          ],
          "pie": [
           {
            "automargin": true,
            "type": "pie"
           }
          ],
          "scatter": [
           {
            "fillpattern": {
             "fillmode": "overlay",
             "size": 10,
             "solidity": 0.2
            },
            "type": "scatter"
           }
          ],
          "scatter3d": [
           {
            "line": {
             "colorbar": {
              "outlinewidth": 0,
              "ticks": ""
             }
            },
            "marker": {
             "colorbar": {
              "outlinewidth": 0,
              "ticks": ""
             }
            },
            "type": "scatter3d"
           }
          ],
          "scattercarpet": [
           {
            "marker": {
             "colorbar": {
              "outlinewidth": 0,
              "ticks": ""
             }
            },
            "type": "scattercarpet"
           }
          ],
          "scattergeo": [
           {
            "marker": {
             "colorbar": {
              "outlinewidth": 0,
              "ticks": ""
             }
            },
            "type": "scattergeo"
           }
          ],
          "scattergl": [
           {
            "marker": {
             "colorbar": {
              "outlinewidth": 0,
              "ticks": ""
             }
            },
            "type": "scattergl"
           }
          ],
          "scattermapbox": [
           {
            "marker": {
             "colorbar": {
              "outlinewidth": 0,
              "ticks": ""
             }
            },
            "type": "scattermapbox"
           }
          ],
          "scatterpolar": [
           {
            "marker": {
             "colorbar": {
              "outlinewidth": 0,
              "ticks": ""
             }
            },
            "type": "scatterpolar"
           }
          ],
          "scatterpolargl": [
           {
            "marker": {
             "colorbar": {
              "outlinewidth": 0,
              "ticks": ""
             }
            },
            "type": "scatterpolargl"
           }
          ],
          "scatterternary": [
           {
            "marker": {
             "colorbar": {
              "outlinewidth": 0,
              "ticks": ""
             }
            },
            "type": "scatterternary"
           }
          ],
          "surface": [
           {
            "colorbar": {
             "outlinewidth": 0,
             "ticks": ""
            },
            "colorscale": [
             [
              0,
              "#0d0887"
             ],
             [
              0.1111111111111111,
              "#46039f"
             ],
             [
              0.2222222222222222,
              "#7201a8"
             ],
             [
              0.3333333333333333,
              "#9c179e"
             ],
             [
              0.4444444444444444,
              "#bd3786"
             ],
             [
              0.5555555555555556,
              "#d8576b"
             ],
             [
              0.6666666666666666,
              "#ed7953"
             ],
             [
              0.7777777777777778,
              "#fb9f3a"
             ],
             [
              0.8888888888888888,
              "#fdca26"
             ],
             [
              1,
              "#f0f921"
             ]
            ],
            "type": "surface"
           }
          ],
          "table": [
           {
            "cells": {
             "fill": {
              "color": "#EBF0F8"
             },
             "line": {
              "color": "white"
             }
            },
            "header": {
             "fill": {
              "color": "#C8D4E3"
             },
             "line": {
              "color": "white"
             }
            },
            "type": "table"
           }
          ]
         },
         "layout": {
          "annotationdefaults": {
           "arrowcolor": "#2a3f5f",
           "arrowhead": 0,
           "arrowwidth": 1
          },
          "autotypenumbers": "strict",
          "coloraxis": {
           "colorbar": {
            "outlinewidth": 0,
            "ticks": ""
           }
          },
          "colorscale": {
           "diverging": [
            [
             0,
             "#8e0152"
            ],
            [
             0.1,
             "#c51b7d"
            ],
            [
             0.2,
             "#de77ae"
            ],
            [
             0.3,
             "#f1b6da"
            ],
            [
             0.4,
             "#fde0ef"
            ],
            [
             0.5,
             "#f7f7f7"
            ],
            [
             0.6,
             "#e6f5d0"
            ],
            [
             0.7,
             "#b8e186"
            ],
            [
             0.8,
             "#7fbc41"
            ],
            [
             0.9,
             "#4d9221"
            ],
            [
             1,
             "#276419"
            ]
           ],
           "sequential": [
            [
             0,
             "#0d0887"
            ],
            [
             0.1111111111111111,
             "#46039f"
            ],
            [
             0.2222222222222222,
             "#7201a8"
            ],
            [
             0.3333333333333333,
             "#9c179e"
            ],
            [
             0.4444444444444444,
             "#bd3786"
            ],
            [
             0.5555555555555556,
             "#d8576b"
            ],
            [
             0.6666666666666666,
             "#ed7953"
            ],
            [
             0.7777777777777778,
             "#fb9f3a"
            ],
            [
             0.8888888888888888,
             "#fdca26"
            ],
            [
             1,
             "#f0f921"
            ]
           ],
           "sequentialminus": [
            [
             0,
             "#0d0887"
            ],
            [
             0.1111111111111111,
             "#46039f"
            ],
            [
             0.2222222222222222,
             "#7201a8"
            ],
            [
             0.3333333333333333,
             "#9c179e"
            ],
            [
             0.4444444444444444,
             "#bd3786"
            ],
            [
             0.5555555555555556,
             "#d8576b"
            ],
            [
             0.6666666666666666,
             "#ed7953"
            ],
            [
             0.7777777777777778,
             "#fb9f3a"
            ],
            [
             0.8888888888888888,
             "#fdca26"
            ],
            [
             1,
             "#f0f921"
            ]
           ]
          },
          "colorway": [
           "#636efa",
           "#EF553B",
           "#00cc96",
           "#ab63fa",
           "#FFA15A",
           "#19d3f3",
           "#FF6692",
           "#B6E880",
           "#FF97FF",
           "#FECB52"
          ],
          "font": {
           "color": "#2a3f5f"
          },
          "geo": {
           "bgcolor": "white",
           "lakecolor": "white",
           "landcolor": "#E5ECF6",
           "showlakes": true,
           "showland": true,
           "subunitcolor": "white"
          },
          "hoverlabel": {
           "align": "left"
          },
          "hovermode": "closest",
          "mapbox": {
           "style": "light"
          },
          "paper_bgcolor": "white",
          "plot_bgcolor": "#E5ECF6",
          "polar": {
           "angularaxis": {
            "gridcolor": "white",
            "linecolor": "white",
            "ticks": ""
           },
           "bgcolor": "#E5ECF6",
           "radialaxis": {
            "gridcolor": "white",
            "linecolor": "white",
            "ticks": ""
           }
          },
          "scene": {
           "xaxis": {
            "backgroundcolor": "#E5ECF6",
            "gridcolor": "white",
            "gridwidth": 2,
            "linecolor": "white",
            "showbackground": true,
            "ticks": "",
            "zerolinecolor": "white"
           },
           "yaxis": {
            "backgroundcolor": "#E5ECF6",
            "gridcolor": "white",
            "gridwidth": 2,
            "linecolor": "white",
            "showbackground": true,
            "ticks": "",
            "zerolinecolor": "white"
           },
           "zaxis": {
            "backgroundcolor": "#E5ECF6",
            "gridcolor": "white",
            "gridwidth": 2,
            "linecolor": "white",
            "showbackground": true,
            "ticks": "",
            "zerolinecolor": "white"
           }
          },
          "shapedefaults": {
           "line": {
            "color": "#2a3f5f"
           }
          },
          "ternary": {
           "aaxis": {
            "gridcolor": "white",
            "linecolor": "white",
            "ticks": ""
           },
           "baxis": {
            "gridcolor": "white",
            "linecolor": "white",
            "ticks": ""
           },
           "bgcolor": "#E5ECF6",
           "caxis": {
            "gridcolor": "white",
            "linecolor": "white",
            "ticks": ""
           }
          },
          "title": {
           "x": 0.05
          },
          "xaxis": {
           "automargin": true,
           "gridcolor": "white",
           "linecolor": "white",
           "ticks": "",
           "title": {
            "standoff": 15
           },
           "zerolinecolor": "white",
           "zerolinewidth": 2
          },
          "yaxis": {
           "automargin": true,
           "gridcolor": "white",
           "linecolor": "white",
           "ticks": "",
           "title": {
            "standoff": 15
           },
           "zerolinecolor": "white",
           "zerolinewidth": 2
          }
         }
        },
        "title": {
         "text": "Histogram of y"
        },
        "xaxis": {
         "anchor": "y",
         "domain": [
          0,
          1
         ],
         "title": {
          "text": "value"
         }
        },
        "yaxis": {
         "anchor": "x",
         "domain": [
          0,
          1
         ],
         "title": {
          "text": "count"
         }
        }
       }
      }
     },
     "metadata": {},
     "output_type": "display_data"
    }
   ],
   "source": [
    "pitch_data.show_y_location_hist(\"pitch_y\")"
   ]
  }
 ],
 "metadata": {
  "kernelspec": {
   "display_name": "Python 3",
   "language": "python",
   "name": "python3"
  },
  "language_info": {
   "codemirror_mode": {
    "name": "ipython",
    "version": 3
   },
   "file_extension": ".py",
   "mimetype": "text/x-python",
   "name": "python",
   "nbconvert_exporter": "python",
   "pygments_lexer": "ipython3",
   "version": "3.11.7"
  }
 },
 "nbformat": 4,
 "nbformat_minor": 2
}
