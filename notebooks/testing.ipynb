{
 "cells": [
  {
   "cell_type": "code",
   "execution_count": 1,
   "metadata": {},
   "outputs": [],
   "source": [
    "%load_ext autoreload\n",
    "%reload_ext autoreload"
   ]
  },
  {
   "cell_type": "code",
   "execution_count": 2,
   "metadata": {},
   "outputs": [
    {
     "name": "stdout",
     "output_type": "stream",
     "text": [
      "Team #63 (0-0) \n",
      " Lineup: \n",
      "\t David Sorenson (#84)\n",
      "\tThomas Dearth (#31)\n",
      "\tJulius Collins (#82)\n",
      "\tNathan Mcwhorter (#25)\n",
      "\tPatrick Jones (#52)\n",
      "\tChristopher Gonzalez (#10)\n",
      "\tKeith Cesari (#12)\n",
      "\tWilliam Billings (#47)\n",
      "\tDaniel Benton (#69)\n"
     ]
    }
   ],
   "source": [
    "import os, sys\n",
    "curPath = os.path.abspath('')\n",
    "for i in range(1):\n",
    "    curPath = os.path.join(curPath, \"..\")\n",
    "    sys.path.append(curPath)\n",
    "\n",
    "from src.util.generation import generate_team, generate_league, generate_pitch\n",
    "import plotly.express as px\n",
    "import pandas as pd\n",
    "from src.analysis.pitch_data import Pitch_Data\n",
    "from src.util.logic.pitch_logic import Pitch_Logic\n",
    "\n",
    "\n",
    "a = generate_team()\n",
    "\n",
    "print(str(a))"
   ]
  },
  {
   "cell_type": "code",
   "execution_count": 3,
   "metadata": {},
   "outputs": [],
   "source": [
    "pitch_dict = []\n",
    "pitch_hitability_dict = []\n",
    "for i in range(0, 1000):\n",
    "    pitch = generate_pitch()\n",
    "    hitability_obj = Pitch_Logic(pitch[\"x\"], pitch[\"y\"], pitch['pitch_type'])\n",
    "    hitability = hitability_obj.calculate_hitability()\n",
    "    pitch[\"hitability\"] = hitability\n",
    "    pitch_dict.append(pitch)\n",
    "\n",
    "df = pd.DataFrame(pitch_dict)\n"
   ]
  },
  {
   "cell_type": "code",
   "execution_count": 4,
   "metadata": {},
   "outputs": [],
   "source": [
    "pitch_data = Pitch_Data(df)"
   ]
  },
  {
   "cell_type": "code",
   "execution_count": 5,
   "metadata": {},
   "outputs": [
    {
     "data": {
      "application/vnd.plotly.v1+json": {
       "config": {
        "plotlyServerURL": "https://plot.ly"
       },
       "data": [
        {
         "alignmentgroup": "True",
         "bingroup": "x",
         "hovertemplate": "variable=outcome<br>value=%{x}<br>count=%{y}<extra></extra>",
         "legendgroup": "outcome",
         "marker": {
          "color": "#636efa",
          "pattern": {
           "shape": ""
          }
         },
         "name": "outcome",
         "offsetgroup": "outcome",
         "orientation": "v",
         "showlegend": true,
         "type": "histogram",
         "x": [
          "Strike",
          "Strike",
          "Strike",
          "Ball",
          "Ball",
          "Ball",
          "Ball",
          "Strike",
          "Ball",
          "Strike",
          "Ball",
          "Strike",
          "Strike",
          "Strike",
          "Ball",
          "Strike",
          "Strike",
          "Ball",
          "Ball",
          "Strike",
          "Strike",
          "Strike",
          "Ball",
          "Strike",
          "Strike",
          "Strike",
          "Ball",
          "Strike",
          "Ball",
          "Ball",
          "Strike",
          "Strike",
          "Strike",
          "Strike",
          "Ball",
          "Ball",
          "Strike",
          "Strike",
          "Ball",
          "Strike",
          "Ball",
          "Ball",
          "Ball",
          "Strike",
          "Strike",
          "Strike",
          "Strike",
          "Ball",
          "Ball",
          "Strike",
          "Ball",
          "Strike",
          "Strike",
          "Strike",
          "Strike",
          "Strike",
          "Strike",
          "Ball",
          "Ball",
          "Ball",
          "Ball",
          "Strike",
          "Strike",
          "Ball",
          "Strike",
          "Ball",
          "Ball",
          "Ball",
          "Strike",
          "Ball",
          "Ball",
          "Ball",
          "Strike",
          "Strike",
          "Strike",
          "Strike",
          "Strike",
          "Ball",
          "Ball",
          "Ball",
          "Strike",
          "Strike",
          "Strike",
          "Strike",
          "Ball",
          "Strike",
          "Ball",
          "Ball",
          "Ball",
          "Strike",
          "Strike",
          "Ball",
          "Strike",
          "Strike",
          "Ball",
          "Strike",
          "Ball",
          "Strike",
          "Strike",
          "Ball",
          "Ball",
          "Strike",
          "Ball",
          "Strike",
          "Strike",
          "Strike",
          "Strike",
          "Ball",
          "Strike",
          "Ball",
          "Ball",
          "Ball",
          "Strike",
          "Strike",
          "Ball",
          "Ball",
          "Strike",
          "Strike",
          "Strike",
          "Ball",
          "Strike",
          "Strike",
          "Strike",
          "Ball",
          "Ball",
          "Ball",
          "Ball",
          "Strike",
          "Ball",
          "Strike",
          "Strike",
          "Ball",
          "Ball",
          "Strike",
          "Strike",
          "Ball",
          "Strike",
          "Ball",
          "Ball",
          "Strike",
          "Ball",
          "Strike",
          "Strike",
          "Ball",
          "Strike",
          "Ball",
          "Strike",
          "Strike",
          "Strike",
          "Strike",
          "Strike",
          "Strike",
          "Ball",
          "Strike",
          "Strike",
          "Strike",
          "Ball",
          "Strike",
          "Strike",
          "Strike",
          "Ball",
          "Strike",
          "Ball",
          "Strike",
          "Ball",
          "Ball",
          "Strike",
          "Strike",
          "Ball",
          "Strike",
          "Ball",
          "Strike",
          "Ball",
          "Strike",
          "Strike",
          "Ball",
          "Ball",
          "Strike",
          "Strike",
          "Strike",
          "Ball",
          "Strike",
          "Ball",
          "Strike",
          "Strike",
          "Ball",
          "Ball",
          "Strike",
          "Ball",
          "Ball",
          "Ball",
          "Ball",
          "Strike",
          "Ball",
          "Ball",
          "Ball",
          "Strike",
          "Ball",
          "Ball",
          "Ball",
          "Ball",
          "Strike",
          "Strike",
          "Ball",
          "Ball",
          "Ball",
          "Strike",
          "Strike",
          "Ball",
          "Ball",
          "Strike",
          "Ball",
          "Strike",
          "Ball",
          "Ball",
          "Strike",
          "Ball",
          "Strike",
          "Ball",
          "Strike",
          "Ball",
          "Ball",
          "Strike",
          "Strike",
          "Strike",
          "Ball",
          "Strike",
          "Strike",
          "Ball",
          "Ball",
          "Strike",
          "Ball",
          "Strike",
          "Ball",
          "Ball",
          "Strike",
          "Ball",
          "Strike",
          "Ball",
          "Strike",
          "Strike",
          "Ball",
          "Ball",
          "Ball",
          "Strike",
          "Ball",
          "Strike",
          "Strike",
          "Ball",
          "Ball",
          "Strike",
          "Strike",
          "Strike",
          "Strike",
          "Ball",
          "Ball",
          "Ball",
          "Strike",
          "Ball",
          "Strike",
          "Strike",
          "Strike",
          "Ball",
          "Strike",
          "Strike",
          "Strike",
          "Strike",
          "Strike",
          "Ball",
          "Ball",
          "Ball",
          "Ball",
          "Strike",
          "Ball",
          "Ball",
          "Ball",
          "Strike",
          "Ball",
          "Strike",
          "Strike",
          "Ball",
          "Strike",
          "Ball",
          "Strike",
          "Strike",
          "Ball",
          "Ball",
          "Ball",
          "Ball",
          "Ball",
          "Strike",
          "Strike",
          "Strike",
          "Strike",
          "Ball",
          "Strike",
          "Strike",
          "Ball",
          "Ball",
          "Ball",
          "Ball",
          "Strike",
          "Strike",
          "Ball",
          "Ball",
          "Ball",
          "Ball",
          "Ball",
          "Ball",
          "Strike",
          "Strike",
          "Strike",
          "Ball",
          "Ball",
          "Ball",
          "Ball",
          "Strike",
          "Strike",
          "Strike",
          "Strike",
          "Ball",
          "Ball",
          "Strike",
          "Strike",
          "Strike",
          "Ball",
          "Ball",
          "Strike",
          "Ball",
          "Ball",
          "Strike",
          "Strike",
          "Ball",
          "Strike",
          "Ball",
          "Ball",
          "Ball",
          "Strike",
          "Strike",
          "Strike",
          "Strike",
          "Strike",
          "Ball",
          "Ball",
          "Ball",
          "Ball",
          "Strike",
          "Strike",
          "Ball",
          "Ball",
          "Strike",
          "Ball",
          "Ball",
          "Strike",
          "Strike",
          "Ball",
          "Strike",
          "Strike",
          "Strike",
          "Ball",
          "Ball",
          "Strike",
          "Ball",
          "Ball",
          "Strike",
          "Strike",
          "Strike",
          "Ball",
          "Strike",
          "Strike",
          "Ball",
          "Strike",
          "Strike",
          "Ball",
          "Ball",
          "Ball",
          "Strike",
          "Strike",
          "Strike",
          "Strike",
          "Strike",
          "Ball",
          "Strike",
          "Strike",
          "Strike",
          "Strike",
          "Strike",
          "Ball",
          "Strike",
          "Strike",
          "Strike",
          "Ball",
          "Strike",
          "Strike",
          "Ball",
          "Ball",
          "Ball",
          "Strike",
          "Ball",
          "Ball",
          "Ball",
          "Ball",
          "Ball",
          "Strike",
          "Strike",
          "Strike",
          "Ball",
          "Ball",
          "Ball",
          "Ball",
          "Strike",
          "Strike",
          "Strike",
          "Strike",
          "Ball",
          "Ball",
          "Ball",
          "Strike",
          "Ball",
          "Strike",
          "Ball",
          "Strike",
          "Strike",
          "Ball",
          "Ball",
          "Strike",
          "Ball",
          "Ball",
          "Strike",
          "Ball",
          "Ball",
          "Strike",
          "Strike",
          "Ball",
          "Ball",
          "Strike",
          "Strike",
          "Ball",
          "Ball",
          "Strike",
          "Strike",
          "Strike",
          "Strike",
          "Strike",
          "Strike",
          "Ball",
          "Strike",
          "Ball",
          "Strike",
          "Strike",
          "Strike",
          "Strike",
          "Strike",
          "Ball",
          "Ball",
          "Ball",
          "Ball",
          "Ball",
          "Ball",
          "Ball",
          "Ball",
          "Ball",
          "Strike",
          "Ball",
          "Strike",
          "Strike",
          "Strike",
          "Strike",
          "Ball",
          "Ball",
          "Ball",
          "Ball",
          "Strike",
          "Strike",
          "Ball",
          "Strike",
          "Ball",
          "Strike",
          "Strike",
          "Ball",
          "Strike",
          "Ball",
          "Strike",
          "Ball",
          "Ball",
          "Strike",
          "Strike",
          "Strike",
          "Ball",
          "Strike",
          "Ball",
          "Ball",
          "Ball",
          "Strike",
          "Strike",
          "Ball",
          "Ball",
          "Strike",
          "Ball",
          "Strike",
          "Strike",
          "Strike",
          "Strike",
          "Ball",
          "Strike",
          "Ball",
          "Strike",
          "Ball",
          "Strike",
          "Strike",
          "Strike",
          "Ball",
          "Ball",
          "Strike",
          "Ball",
          "Strike",
          "Ball",
          "Strike",
          "Strike",
          "Ball",
          "Strike",
          "Ball",
          "Ball",
          "Ball",
          "Ball",
          "Strike",
          "Ball",
          "Ball",
          "Ball",
          "Ball",
          "Strike",
          "Strike",
          "Ball",
          "Strike",
          "Strike",
          "Ball",
          "Ball",
          "Ball",
          "Ball",
          "Strike",
          "Ball",
          "Strike",
          "Strike",
          "Strike",
          "Strike",
          "Ball",
          "Strike",
          "Strike",
          "Ball",
          "Ball",
          "Strike",
          "Strike",
          "Ball",
          "Ball",
          "Ball",
          "Strike",
          "Strike",
          "Ball",
          "Strike",
          "Ball",
          "Ball",
          "Ball",
          "Strike",
          "Strike",
          "Ball",
          "Strike",
          "Strike",
          "Strike",
          "Ball",
          "Ball",
          "Ball",
          "Strike",
          "Ball",
          "Strike",
          "Strike",
          "Ball",
          "Strike",
          "Strike",
          "Strike",
          "Strike",
          "Strike",
          "Ball",
          "Strike",
          "Ball",
          "Ball",
          "Strike",
          "Ball",
          "Strike",
          "Strike",
          "Ball",
          "Strike",
          "Strike",
          "Strike",
          "Strike",
          "Strike",
          "Strike",
          "Ball",
          "Strike",
          "Ball",
          "Ball",
          "Strike",
          "Strike",
          "Ball",
          "Strike",
          "Strike",
          "Strike",
          "Strike",
          "Strike",
          "Ball",
          "Ball",
          "Ball",
          "Ball",
          "Ball",
          "Strike",
          "Ball",
          "Strike",
          "Strike",
          "Ball",
          "Ball",
          "Ball",
          "Ball",
          "Strike",
          "Strike",
          "Strike",
          "Ball",
          "Ball",
          "Strike",
          "Strike",
          "Ball",
          "Strike",
          "Strike",
          "Ball",
          "Ball",
          "Ball",
          "Strike",
          "Strike",
          "Ball",
          "Ball",
          "Ball",
          "Strike",
          "Strike",
          "Ball",
          "Strike",
          "Strike",
          "Strike",
          "Strike",
          "Strike",
          "Strike",
          "Ball",
          "Strike",
          "Strike",
          "Strike",
          "Ball",
          "Ball",
          "Strike",
          "Ball",
          "Ball",
          "Ball",
          "Ball",
          "Strike",
          "Strike",
          "Strike",
          "Ball",
          "Strike",
          "Ball",
          "Ball",
          "Strike",
          "Ball",
          "Strike",
          "Strike",
          "Ball",
          "Ball",
          "Strike",
          "Strike",
          "Strike",
          "Ball",
          "Ball",
          "Strike",
          "Ball",
          "Strike",
          "Strike",
          "Strike",
          "Strike",
          "Ball",
          "Strike",
          "Ball",
          "Strike",
          "Strike",
          "Strike",
          "Strike",
          "Strike",
          "Ball",
          "Ball",
          "Ball",
          "Ball",
          "Ball",
          "Strike",
          "Strike",
          "Ball",
          "Strike",
          "Ball",
          "Strike",
          "Strike",
          "Ball",
          "Strike",
          "Ball",
          "Ball",
          "Strike",
          "Ball",
          "Ball",
          "Ball",
          "Strike",
          "Strike",
          "Strike",
          "Strike",
          "Strike",
          "Ball",
          "Strike",
          "Ball",
          "Ball",
          "Strike",
          "Ball",
          "Strike",
          "Strike",
          "Strike",
          "Strike",
          "Strike",
          "Strike",
          "Strike",
          "Ball",
          "Ball",
          "Ball",
          "Ball",
          "Strike",
          "Ball",
          "Ball",
          "Strike",
          "Ball",
          "Strike",
          "Strike",
          "Ball",
          "Strike",
          "Strike",
          "Ball",
          "Ball",
          "Strike",
          "Strike",
          "Ball",
          "Strike",
          "Ball",
          "Strike",
          "Ball",
          "Strike",
          "Ball",
          "Ball",
          "Ball",
          "Ball",
          "Strike",
          "Ball",
          "Strike",
          "Strike",
          "Strike",
          "Strike",
          "Ball",
          "Ball",
          "Ball",
          "Strike",
          "Strike",
          "Ball",
          "Strike",
          "Strike",
          "Strike",
          "Strike",
          "Ball",
          "Ball",
          "Ball",
          "Strike",
          "Strike",
          "Ball",
          "Ball",
          "Strike",
          "Strike",
          "Strike",
          "Ball",
          "Strike",
          "Strike",
          "Strike",
          "Ball",
          "Ball",
          "Strike",
          "Strike",
          "Ball",
          "Strike",
          "Ball",
          "Strike",
          "Ball",
          "Ball",
          "Strike",
          "Strike",
          "Strike",
          "Ball",
          "Ball",
          "Strike",
          "Strike",
          "Ball",
          "Strike",
          "Strike",
          "Ball",
          "Ball",
          "Strike",
          "Strike",
          "Strike",
          "Strike",
          "Strike",
          "Strike",
          "Strike",
          "Ball",
          "Ball",
          "Ball",
          "Strike",
          "Ball",
          "Ball",
          "Ball",
          "Ball",
          "Strike",
          "Ball",
          "Strike",
          "Ball",
          "Strike",
          "Strike",
          "Ball",
          "Ball",
          "Ball",
          "Ball",
          "Strike",
          "Strike",
          "Strike",
          "Ball",
          "Strike",
          "Strike",
          "Strike",
          "Strike",
          "Strike",
          "Strike",
          "Strike",
          "Ball",
          "Strike",
          "Ball",
          "Ball",
          "Strike",
          "Strike",
          "Strike",
          "Ball",
          "Ball",
          "Strike",
          "Strike",
          "Ball",
          "Strike",
          "Strike",
          "Strike",
          "Ball",
          "Ball",
          "Strike",
          "Ball",
          "Ball",
          "Ball",
          "Ball",
          "Strike",
          "Strike",
          "Strike",
          "Ball",
          "Strike",
          "Ball",
          "Ball",
          "Ball",
          "Ball",
          "Strike",
          "Strike",
          "Ball",
          "Ball",
          "Ball",
          "Ball",
          "Strike",
          "Strike",
          "Ball",
          "Ball",
          "Strike",
          "Ball",
          "Ball",
          "Strike",
          "Strike",
          "Strike",
          "Ball",
          "Strike",
          "Ball",
          "Strike",
          "Ball",
          "Strike",
          "Ball",
          "Strike",
          "Ball",
          "Strike",
          "Strike",
          "Ball",
          "Ball",
          "Strike",
          "Strike",
          "Strike",
          "Strike",
          "Ball",
          "Ball",
          "Strike",
          "Strike",
          "Ball",
          "Ball",
          "Strike",
          "Strike",
          "Strike",
          "Strike",
          "Strike",
          "Strike",
          "Strike",
          "Strike",
          "Ball",
          "Strike",
          "Strike",
          "Strike",
          "Strike",
          "Ball",
          "Ball",
          "Strike",
          "Ball",
          "Ball",
          "Strike",
          "Ball",
          "Ball",
          "Strike",
          "Strike",
          "Strike",
          "Strike",
          "Strike",
          "Ball",
          "Ball",
          "Ball",
          "Ball",
          "Strike",
          "Strike",
          "Strike",
          "Strike",
          "Strike",
          "Strike",
          "Strike",
          "Strike",
          "Strike",
          "Ball",
          "Ball",
          "Ball",
          "Strike",
          "Ball",
          "Ball",
          "Strike",
          "Ball",
          "Ball",
          "Ball",
          "Ball",
          "Strike",
          "Strike",
          "Ball",
          "Strike",
          "Strike",
          "Ball",
          "Ball",
          "Strike",
          "Strike",
          "Strike",
          "Strike",
          "Ball",
          "Ball",
          "Strike",
          "Strike",
          "Strike",
          "Strike",
          "Strike",
          "Ball",
          "Ball",
          "Strike",
          "Ball",
          "Ball",
          "Strike",
          "Strike",
          "Strike",
          "Strike",
          "Ball",
          "Ball",
          "Strike",
          "Ball",
          "Ball",
          "Strike",
          "Ball",
          "Strike"
         ],
         "xaxis": "x",
         "yaxis": "y"
        }
       ],
       "layout": {
        "barmode": "relative",
        "legend": {
         "title": {
          "text": "variable"
         },
         "tracegroupgap": 0
        },
        "template": {
         "data": {
          "bar": [
           {
            "error_x": {
             "color": "#2a3f5f"
            },
            "error_y": {
             "color": "#2a3f5f"
            },
            "marker": {
             "line": {
              "color": "#E5ECF6",
              "width": 0.5
             },
             "pattern": {
              "fillmode": "overlay",
              "size": 10,
              "solidity": 0.2
             }
            },
            "type": "bar"
           }
          ],
          "barpolar": [
           {
            "marker": {
             "line": {
              "color": "#E5ECF6",
              "width": 0.5
             },
             "pattern": {
              "fillmode": "overlay",
              "size": 10,
              "solidity": 0.2
             }
            },
            "type": "barpolar"
           }
          ],
          "carpet": [
           {
            "aaxis": {
             "endlinecolor": "#2a3f5f",
             "gridcolor": "white",
             "linecolor": "white",
             "minorgridcolor": "white",
             "startlinecolor": "#2a3f5f"
            },
            "baxis": {
             "endlinecolor": "#2a3f5f",
             "gridcolor": "white",
             "linecolor": "white",
             "minorgridcolor": "white",
             "startlinecolor": "#2a3f5f"
            },
            "type": "carpet"
           }
          ],
          "choropleth": [
           {
            "colorbar": {
             "outlinewidth": 0,
             "ticks": ""
            },
            "type": "choropleth"
           }
          ],
          "contour": [
           {
            "colorbar": {
             "outlinewidth": 0,
             "ticks": ""
            },
            "colorscale": [
             [
              0,
              "#0d0887"
             ],
             [
              0.1111111111111111,
              "#46039f"
             ],
             [
              0.2222222222222222,
              "#7201a8"
             ],
             [
              0.3333333333333333,
              "#9c179e"
             ],
             [
              0.4444444444444444,
              "#bd3786"
             ],
             [
              0.5555555555555556,
              "#d8576b"
             ],
             [
              0.6666666666666666,
              "#ed7953"
             ],
             [
              0.7777777777777778,
              "#fb9f3a"
             ],
             [
              0.8888888888888888,
              "#fdca26"
             ],
             [
              1,
              "#f0f921"
             ]
            ],
            "type": "contour"
           }
          ],
          "contourcarpet": [
           {
            "colorbar": {
             "outlinewidth": 0,
             "ticks": ""
            },
            "type": "contourcarpet"
           }
          ],
          "heatmap": [
           {
            "colorbar": {
             "outlinewidth": 0,
             "ticks": ""
            },
            "colorscale": [
             [
              0,
              "#0d0887"
             ],
             [
              0.1111111111111111,
              "#46039f"
             ],
             [
              0.2222222222222222,
              "#7201a8"
             ],
             [
              0.3333333333333333,
              "#9c179e"
             ],
             [
              0.4444444444444444,
              "#bd3786"
             ],
             [
              0.5555555555555556,
              "#d8576b"
             ],
             [
              0.6666666666666666,
              "#ed7953"
             ],
             [
              0.7777777777777778,
              "#fb9f3a"
             ],
             [
              0.8888888888888888,
              "#fdca26"
             ],
             [
              1,
              "#f0f921"
             ]
            ],
            "type": "heatmap"
           }
          ],
          "heatmapgl": [
           {
            "colorbar": {
             "outlinewidth": 0,
             "ticks": ""
            },
            "colorscale": [
             [
              0,
              "#0d0887"
             ],
             [
              0.1111111111111111,
              "#46039f"
             ],
             [
              0.2222222222222222,
              "#7201a8"
             ],
             [
              0.3333333333333333,
              "#9c179e"
             ],
             [
              0.4444444444444444,
              "#bd3786"
             ],
             [
              0.5555555555555556,
              "#d8576b"
             ],
             [
              0.6666666666666666,
              "#ed7953"
             ],
             [
              0.7777777777777778,
              "#fb9f3a"
             ],
             [
              0.8888888888888888,
              "#fdca26"
             ],
             [
              1,
              "#f0f921"
             ]
            ],
            "type": "heatmapgl"
           }
          ],
          "histogram": [
           {
            "marker": {
             "pattern": {
              "fillmode": "overlay",
              "size": 10,
              "solidity": 0.2
             }
            },
            "type": "histogram"
           }
          ],
          "histogram2d": [
           {
            "colorbar": {
             "outlinewidth": 0,
             "ticks": ""
            },
            "colorscale": [
             [
              0,
              "#0d0887"
             ],
             [
              0.1111111111111111,
              "#46039f"
             ],
             [
              0.2222222222222222,
              "#7201a8"
             ],
             [
              0.3333333333333333,
              "#9c179e"
             ],
             [
              0.4444444444444444,
              "#bd3786"
             ],
             [
              0.5555555555555556,
              "#d8576b"
             ],
             [
              0.6666666666666666,
              "#ed7953"
             ],
             [
              0.7777777777777778,
              "#fb9f3a"
             ],
             [
              0.8888888888888888,
              "#fdca26"
             ],
             [
              1,
              "#f0f921"
             ]
            ],
            "type": "histogram2d"
           }
          ],
          "histogram2dcontour": [
           {
            "colorbar": {
             "outlinewidth": 0,
             "ticks": ""
            },
            "colorscale": [
             [
              0,
              "#0d0887"
             ],
             [
              0.1111111111111111,
              "#46039f"
             ],
             [
              0.2222222222222222,
              "#7201a8"
             ],
             [
              0.3333333333333333,
              "#9c179e"
             ],
             [
              0.4444444444444444,
              "#bd3786"
             ],
             [
              0.5555555555555556,
              "#d8576b"
             ],
             [
              0.6666666666666666,
              "#ed7953"
             ],
             [
              0.7777777777777778,
              "#fb9f3a"
             ],
             [
              0.8888888888888888,
              "#fdca26"
             ],
             [
              1,
              "#f0f921"
             ]
            ],
            "type": "histogram2dcontour"
           }
          ],
          "mesh3d": [
           {
            "colorbar": {
             "outlinewidth": 0,
             "ticks": ""
            },
            "type": "mesh3d"
           }
          ],
          "parcoords": [
           {
            "line": {
             "colorbar": {
              "outlinewidth": 0,
              "ticks": ""
             }
            },
            "type": "parcoords"
           }
          ],
          "pie": [
           {
            "automargin": true,
            "type": "pie"
           }
          ],
          "scatter": [
           {
            "fillpattern": {
             "fillmode": "overlay",
             "size": 10,
             "solidity": 0.2
            },
            "type": "scatter"
           }
          ],
          "scatter3d": [
           {
            "line": {
             "colorbar": {
              "outlinewidth": 0,
              "ticks": ""
             }
            },
            "marker": {
             "colorbar": {
              "outlinewidth": 0,
              "ticks": ""
             }
            },
            "type": "scatter3d"
           }
          ],
          "scattercarpet": [
           {
            "marker": {
             "colorbar": {
              "outlinewidth": 0,
              "ticks": ""
             }
            },
            "type": "scattercarpet"
           }
          ],
          "scattergeo": [
           {
            "marker": {
             "colorbar": {
              "outlinewidth": 0,
              "ticks": ""
             }
            },
            "type": "scattergeo"
           }
          ],
          "scattergl": [
           {
            "marker": {
             "colorbar": {
              "outlinewidth": 0,
              "ticks": ""
             }
            },
            "type": "scattergl"
           }
          ],
          "scattermapbox": [
           {
            "marker": {
             "colorbar": {
              "outlinewidth": 0,
              "ticks": ""
             }
            },
            "type": "scattermapbox"
           }
          ],
          "scatterpolar": [
           {
            "marker": {
             "colorbar": {
              "outlinewidth": 0,
              "ticks": ""
             }
            },
            "type": "scatterpolar"
           }
          ],
          "scatterpolargl": [
           {
            "marker": {
             "colorbar": {
              "outlinewidth": 0,
              "ticks": ""
             }
            },
            "type": "scatterpolargl"
           }
          ],
          "scatterternary": [
           {
            "marker": {
             "colorbar": {
              "outlinewidth": 0,
              "ticks": ""
             }
            },
            "type": "scatterternary"
           }
          ],
          "surface": [
           {
            "colorbar": {
             "outlinewidth": 0,
             "ticks": ""
            },
            "colorscale": [
             [
              0,
              "#0d0887"
             ],
             [
              0.1111111111111111,
              "#46039f"
             ],
             [
              0.2222222222222222,
              "#7201a8"
             ],
             [
              0.3333333333333333,
              "#9c179e"
             ],
             [
              0.4444444444444444,
              "#bd3786"
             ],
             [
              0.5555555555555556,
              "#d8576b"
             ],
             [
              0.6666666666666666,
              "#ed7953"
             ],
             [
              0.7777777777777778,
              "#fb9f3a"
             ],
             [
              0.8888888888888888,
              "#fdca26"
             ],
             [
              1,
              "#f0f921"
             ]
            ],
            "type": "surface"
           }
          ],
          "table": [
           {
            "cells": {
             "fill": {
              "color": "#EBF0F8"
             },
             "line": {
              "color": "white"
             }
            },
            "header": {
             "fill": {
              "color": "#C8D4E3"
             },
             "line": {
              "color": "white"
             }
            },
            "type": "table"
           }
          ]
         },
         "layout": {
          "annotationdefaults": {
           "arrowcolor": "#2a3f5f",
           "arrowhead": 0,
           "arrowwidth": 1
          },
          "autotypenumbers": "strict",
          "coloraxis": {
           "colorbar": {
            "outlinewidth": 0,
            "ticks": ""
           }
          },
          "colorscale": {
           "diverging": [
            [
             0,
             "#8e0152"
            ],
            [
             0.1,
             "#c51b7d"
            ],
            [
             0.2,
             "#de77ae"
            ],
            [
             0.3,
             "#f1b6da"
            ],
            [
             0.4,
             "#fde0ef"
            ],
            [
             0.5,
             "#f7f7f7"
            ],
            [
             0.6,
             "#e6f5d0"
            ],
            [
             0.7,
             "#b8e186"
            ],
            [
             0.8,
             "#7fbc41"
            ],
            [
             0.9,
             "#4d9221"
            ],
            [
             1,
             "#276419"
            ]
           ],
           "sequential": [
            [
             0,
             "#0d0887"
            ],
            [
             0.1111111111111111,
             "#46039f"
            ],
            [
             0.2222222222222222,
             "#7201a8"
            ],
            [
             0.3333333333333333,
             "#9c179e"
            ],
            [
             0.4444444444444444,
             "#bd3786"
            ],
            [
             0.5555555555555556,
             "#d8576b"
            ],
            [
             0.6666666666666666,
             "#ed7953"
            ],
            [
             0.7777777777777778,
             "#fb9f3a"
            ],
            [
             0.8888888888888888,
             "#fdca26"
            ],
            [
             1,
             "#f0f921"
            ]
           ],
           "sequentialminus": [
            [
             0,
             "#0d0887"
            ],
            [
             0.1111111111111111,
             "#46039f"
            ],
            [
             0.2222222222222222,
             "#7201a8"
            ],
            [
             0.3333333333333333,
             "#9c179e"
            ],
            [
             0.4444444444444444,
             "#bd3786"
            ],
            [
             0.5555555555555556,
             "#d8576b"
            ],
            [
             0.6666666666666666,
             "#ed7953"
            ],
            [
             0.7777777777777778,
             "#fb9f3a"
            ],
            [
             0.8888888888888888,
             "#fdca26"
            ],
            [
             1,
             "#f0f921"
            ]
           ]
          },
          "colorway": [
           "#636efa",
           "#EF553B",
           "#00cc96",
           "#ab63fa",
           "#FFA15A",
           "#19d3f3",
           "#FF6692",
           "#B6E880",
           "#FF97FF",
           "#FECB52"
          ],
          "font": {
           "color": "#2a3f5f"
          },
          "geo": {
           "bgcolor": "white",
           "lakecolor": "white",
           "landcolor": "#E5ECF6",
           "showlakes": true,
           "showland": true,
           "subunitcolor": "white"
          },
          "hoverlabel": {
           "align": "left"
          },
          "hovermode": "closest",
          "mapbox": {
           "style": "light"
          },
          "paper_bgcolor": "white",
          "plot_bgcolor": "#E5ECF6",
          "polar": {
           "angularaxis": {
            "gridcolor": "white",
            "linecolor": "white",
            "ticks": ""
           },
           "bgcolor": "#E5ECF6",
           "radialaxis": {
            "gridcolor": "white",
            "linecolor": "white",
            "ticks": ""
           }
          },
          "scene": {
           "xaxis": {
            "backgroundcolor": "#E5ECF6",
            "gridcolor": "white",
            "gridwidth": 2,
            "linecolor": "white",
            "showbackground": true,
            "ticks": "",
            "zerolinecolor": "white"
           },
           "yaxis": {
            "backgroundcolor": "#E5ECF6",
            "gridcolor": "white",
            "gridwidth": 2,
            "linecolor": "white",
            "showbackground": true,
            "ticks": "",
            "zerolinecolor": "white"
           },
           "zaxis": {
            "backgroundcolor": "#E5ECF6",
            "gridcolor": "white",
            "gridwidth": 2,
            "linecolor": "white",
            "showbackground": true,
            "ticks": "",
            "zerolinecolor": "white"
           }
          },
          "shapedefaults": {
           "line": {
            "color": "#2a3f5f"
           }
          },
          "ternary": {
           "aaxis": {
            "gridcolor": "white",
            "linecolor": "white",
            "ticks": ""
           },
           "baxis": {
            "gridcolor": "white",
            "linecolor": "white",
            "ticks": ""
           },
           "bgcolor": "#E5ECF6",
           "caxis": {
            "gridcolor": "white",
            "linecolor": "white",
            "ticks": ""
           }
          },
          "title": {
           "x": 0.05
          },
          "xaxis": {
           "automargin": true,
           "gridcolor": "white",
           "linecolor": "white",
           "ticks": "",
           "title": {
            "standoff": 15
           },
           "zerolinecolor": "white",
           "zerolinewidth": 2
          },
          "yaxis": {
           "automargin": true,
           "gridcolor": "white",
           "linecolor": "white",
           "ticks": "",
           "title": {
            "standoff": 15
           },
           "zerolinecolor": "white",
           "zerolinewidth": 2
          }
         }
        },
        "title": {
         "text": "Histogram of outcome"
        },
        "xaxis": {
         "anchor": "y",
         "domain": [
          0,
          1
         ],
         "title": {
          "text": "value"
         }
        },
        "yaxis": {
         "anchor": "x",
         "domain": [
          0,
          1
         ],
         "title": {
          "text": "count"
         }
        }
       }
      }
     },
     "metadata": {},
     "output_type": "display_data"
    },
    {
     "ename": "KeyError",
     "evalue": "'counts'",
     "output_type": "error",
     "traceback": [
      "\u001b[1;31m---------------------------------------------------------------------------\u001b[0m",
      "\u001b[1;31mKeyError\u001b[0m                                  Traceback (most recent call last)",
      "File \u001b[1;32mc:\\Users\\blair.kiel\\source\\repos\\baseball_sim\\.conda\\Lib\\site-packages\\pandas\\core\\indexes\\base.py:3791\u001b[0m, in \u001b[0;36mIndex.get_loc\u001b[1;34m(self, key)\u001b[0m\n\u001b[0;32m   3790\u001b[0m \u001b[38;5;28;01mtry\u001b[39;00m:\n\u001b[1;32m-> 3791\u001b[0m     \u001b[38;5;28;01mreturn\u001b[39;00m \u001b[38;5;28;43mself\u001b[39;49m\u001b[38;5;241;43m.\u001b[39;49m\u001b[43m_engine\u001b[49m\u001b[38;5;241;43m.\u001b[39;49m\u001b[43mget_loc\u001b[49m\u001b[43m(\u001b[49m\u001b[43mcasted_key\u001b[49m\u001b[43m)\u001b[49m\n\u001b[0;32m   3792\u001b[0m \u001b[38;5;28;01mexcept\u001b[39;00m \u001b[38;5;167;01mKeyError\u001b[39;00m \u001b[38;5;28;01mas\u001b[39;00m err:\n",
      "File \u001b[1;32mindex.pyx:152\u001b[0m, in \u001b[0;36mpandas._libs.index.IndexEngine.get_loc\u001b[1;34m()\u001b[0m\n",
      "File \u001b[1;32mindex.pyx:181\u001b[0m, in \u001b[0;36mpandas._libs.index.IndexEngine.get_loc\u001b[1;34m()\u001b[0m\n",
      "File \u001b[1;32mpandas\\_libs\\hashtable_class_helper.pxi:7080\u001b[0m, in \u001b[0;36mpandas._libs.hashtable.PyObjectHashTable.get_item\u001b[1;34m()\u001b[0m\n",
      "File \u001b[1;32mpandas\\_libs\\hashtable_class_helper.pxi:7088\u001b[0m, in \u001b[0;36mpandas._libs.hashtable.PyObjectHashTable.get_item\u001b[1;34m()\u001b[0m\n",
      "\u001b[1;31mKeyError\u001b[0m: 'counts'",
      "\nThe above exception was the direct cause of the following exception:\n",
      "\u001b[1;31mKeyError\u001b[0m                                  Traceback (most recent call last)",
      "Cell \u001b[1;32mIn[5], line 2\u001b[0m\n\u001b[0;32m      1\u001b[0m pitch_data\u001b[38;5;241m.\u001b[39mshow_histogram(\u001b[38;5;124m\"\u001b[39m\u001b[38;5;124moutcome\u001b[39m\u001b[38;5;124m\"\u001b[39m)\n\u001b[1;32m----> 2\u001b[0m \u001b[43mpitch_data\u001b[49m\u001b[38;5;241;43m.\u001b[39;49m\u001b[43mshow_pie\u001b[49m\u001b[43m(\u001b[49m\u001b[38;5;124;43m\"\u001b[39;49m\u001b[38;5;124;43moutcome\u001b[39;49m\u001b[38;5;124;43m\"\u001b[39;49m\u001b[43m)\u001b[49m\n",
      "File \u001b[1;32mc:\\Users\\blair.kiel\\source\\repos\\baseball_sim\\notebooks\\..\\src\\analysis\\generic_data.py:34\u001b[0m, in \u001b[0;36mGeneric_Data.show_pie\u001b[1;34m(self, data_item)\u001b[0m\n\u001b[0;32m     32\u001b[0m \u001b[38;5;28;01mdef\u001b[39;00m \u001b[38;5;21mshow_pie\u001b[39m(\u001b[38;5;28mself\u001b[39m, data_item):\n\u001b[1;32m---> 34\u001b[0m     his \u001b[38;5;241m=\u001b[39m \u001b[38;5;28;43mself\u001b[39;49m\u001b[38;5;241;43m.\u001b[39;49m\u001b[43mget_pie\u001b[49m\u001b[43m(\u001b[49m\u001b[43mdata_item\u001b[49m\u001b[43m)\u001b[49m\n\u001b[0;32m     35\u001b[0m     his\u001b[38;5;241m.\u001b[39mshow()\n",
      "File \u001b[1;32mc:\\Users\\blair.kiel\\source\\repos\\baseball_sim\\notebooks\\..\\src\\analysis\\generic_data.py:28\u001b[0m, in \u001b[0;36mGeneric_Data.get_pie\u001b[1;34m(self, data_item)\u001b[0m\n\u001b[0;32m     26\u001b[0m countdf \u001b[38;5;241m=\u001b[39m \u001b[38;5;28mself\u001b[39m\u001b[38;5;241m.\u001b[39mdf\u001b[38;5;241m.\u001b[39mgroupby([data_item])\u001b[38;5;241m.\u001b[39msize()\u001b[38;5;241m.\u001b[39mreset_index(name\u001b[38;5;241m=\u001b[39m\u001b[38;5;124m'\u001b[39m\u001b[38;5;124mcounts\u001b[39m\u001b[38;5;124m'\u001b[39m)\n\u001b[0;32m     27\u001b[0m countdf\u001b[38;5;241m.\u001b[39mhead()\n\u001b[1;32m---> 28\u001b[0m his \u001b[38;5;241m=\u001b[39m px\u001b[38;5;241m.\u001b[39mpie(\u001b[38;5;28mself\u001b[39m\u001b[38;5;241m.\u001b[39mdf, values\u001b[38;5;241m=\u001b[39m\u001b[38;5;28;43mself\u001b[39;49m\u001b[38;5;241;43m.\u001b[39;49m\u001b[43mdf\u001b[49m\u001b[43m[\u001b[49m\u001b[38;5;124;43m'\u001b[39;49m\u001b[38;5;124;43mcounts\u001b[39;49m\u001b[38;5;124;43m'\u001b[39;49m\u001b[43m]\u001b[49m, names\u001b[38;5;241m=\u001b[39mdata_item, title\u001b[38;5;241m=\u001b[39m\u001b[38;5;124mf\u001b[39m\u001b[38;5;124m\"\u001b[39m\u001b[38;5;124mPie of \u001b[39m\u001b[38;5;132;01m{\u001b[39;00mdata_item\u001b[38;5;132;01m}\u001b[39;00m\u001b[38;5;124m\"\u001b[39m)\n\u001b[0;32m     30\u001b[0m \u001b[38;5;28;01mreturn\u001b[39;00m his\n",
      "File \u001b[1;32mc:\\Users\\blair.kiel\\source\\repos\\baseball_sim\\.conda\\Lib\\site-packages\\pandas\\core\\frame.py:3893\u001b[0m, in \u001b[0;36mDataFrame.__getitem__\u001b[1;34m(self, key)\u001b[0m\n\u001b[0;32m   3891\u001b[0m \u001b[38;5;28;01mif\u001b[39;00m \u001b[38;5;28mself\u001b[39m\u001b[38;5;241m.\u001b[39mcolumns\u001b[38;5;241m.\u001b[39mnlevels \u001b[38;5;241m>\u001b[39m \u001b[38;5;241m1\u001b[39m:\n\u001b[0;32m   3892\u001b[0m     \u001b[38;5;28;01mreturn\u001b[39;00m \u001b[38;5;28mself\u001b[39m\u001b[38;5;241m.\u001b[39m_getitem_multilevel(key)\n\u001b[1;32m-> 3893\u001b[0m indexer \u001b[38;5;241m=\u001b[39m \u001b[38;5;28;43mself\u001b[39;49m\u001b[38;5;241;43m.\u001b[39;49m\u001b[43mcolumns\u001b[49m\u001b[38;5;241;43m.\u001b[39;49m\u001b[43mget_loc\u001b[49m\u001b[43m(\u001b[49m\u001b[43mkey\u001b[49m\u001b[43m)\u001b[49m\n\u001b[0;32m   3894\u001b[0m \u001b[38;5;28;01mif\u001b[39;00m is_integer(indexer):\n\u001b[0;32m   3895\u001b[0m     indexer \u001b[38;5;241m=\u001b[39m [indexer]\n",
      "File \u001b[1;32mc:\\Users\\blair.kiel\\source\\repos\\baseball_sim\\.conda\\Lib\\site-packages\\pandas\\core\\indexes\\base.py:3798\u001b[0m, in \u001b[0;36mIndex.get_loc\u001b[1;34m(self, key)\u001b[0m\n\u001b[0;32m   3793\u001b[0m     \u001b[38;5;28;01mif\u001b[39;00m \u001b[38;5;28misinstance\u001b[39m(casted_key, \u001b[38;5;28mslice\u001b[39m) \u001b[38;5;129;01mor\u001b[39;00m (\n\u001b[0;32m   3794\u001b[0m         \u001b[38;5;28misinstance\u001b[39m(casted_key, abc\u001b[38;5;241m.\u001b[39mIterable)\n\u001b[0;32m   3795\u001b[0m         \u001b[38;5;129;01mand\u001b[39;00m \u001b[38;5;28many\u001b[39m(\u001b[38;5;28misinstance\u001b[39m(x, \u001b[38;5;28mslice\u001b[39m) \u001b[38;5;28;01mfor\u001b[39;00m x \u001b[38;5;129;01min\u001b[39;00m casted_key)\n\u001b[0;32m   3796\u001b[0m     ):\n\u001b[0;32m   3797\u001b[0m         \u001b[38;5;28;01mraise\u001b[39;00m InvalidIndexError(key)\n\u001b[1;32m-> 3798\u001b[0m     \u001b[38;5;28;01mraise\u001b[39;00m \u001b[38;5;167;01mKeyError\u001b[39;00m(key) \u001b[38;5;28;01mfrom\u001b[39;00m \u001b[38;5;21;01merr\u001b[39;00m\n\u001b[0;32m   3799\u001b[0m \u001b[38;5;28;01mexcept\u001b[39;00m \u001b[38;5;167;01mTypeError\u001b[39;00m:\n\u001b[0;32m   3800\u001b[0m     \u001b[38;5;66;03m# If we have a listlike key, _check_indexing_error will raise\u001b[39;00m\n\u001b[0;32m   3801\u001b[0m     \u001b[38;5;66;03m#  InvalidIndexError. Otherwise we fall through and re-raise\u001b[39;00m\n\u001b[0;32m   3802\u001b[0m     \u001b[38;5;66;03m#  the TypeError.\u001b[39;00m\n\u001b[0;32m   3803\u001b[0m     \u001b[38;5;28mself\u001b[39m\u001b[38;5;241m.\u001b[39m_check_indexing_error(key)\n",
      "\u001b[1;31mKeyError\u001b[0m: 'counts'"
     ]
    }
   ],
   "source": [
    "pitch_data.show_histogram(\"outcome\")\n",
    "pitch_data.show_pie(\"outcome\")\n"
   ]
  },
  {
   "cell_type": "code",
   "execution_count": null,
   "metadata": {},
   "outputs": [
    {
     "data": {
      "application/vnd.plotly.v1+json": {
       "config": {
        "plotlyServerURL": "https://plot.ly"
       },
       "data": [
        {
         "hovertemplate": "x=%{x}<br>y=%{y}<br>hitability=%{marker.color}<extra></extra>",
         "legendgroup": "",
         "marker": {
          "color": [
           -0.01753260249165054,
           0.11133209206102829,
           -0.24311964472128963,
           0.20777539332928205,
           -0.028346681443944113,
           0.0030514639324837486,
           0.03317492327248614,
           -0.019196105999003715,
           0.03890573045467347,
           0.07845463365949785,
           0.0211675962353365,
           -0.02411175949051886,
           0.029638614523445784,
           0.03874875625362188,
           0.3614284744046037,
           -0.020115957887563044,
           -0.06139238145393285,
           -0.18891229483801894,
           -0.013067120767122775,
           0.06900874344112326,
           0.157101061961325,
           -2.0823198829108924,
           -0.15060351869304706,
           0.17630682439026396,
           -0.07039224629057386,
           -0.03325423900135947,
           0.027394443150071283,
           0.6883399365342313,
           0.02345340360103114,
           0.06711360215021235,
           0.13113252273124726,
           -0.5830281419927684,
           0.0056710340558234346,
           -0.06550503154617852,
           0.041856228953735086,
           0.007581260452949929,
           -0.044741368417623884,
           0.07164628371993181,
           -0.0325803719630146,
           0.1286657432379136,
           0.18323297043154577,
           0.00622364438759467,
           0.01533401562476815,
           0.19087632220477518,
           -0.02429920799527936,
           -0.02426125969069446,
           -0.025098522054882937,
           0.04159544076117695,
           -0.329929523116871,
           0.004252414558466987,
           0.07313946924487429,
           0.023093929422404985,
           -0.008579251763237065,
           -0.008696846891974426,
           0.16027441592377886,
           0.14767592726331608,
           0.04699950127694908,
           -0.8760277912812041,
           0.03296012493804421,
           -0.026295403934828567,
           -1.4980683335308511,
           0.015564539589010842,
           0.04544939186576006,
           0.041322017146070006,
           -0.06909539992090892,
           -0.0332634426840102,
           0.14463039431515048,
           0.04322253182184123,
           -0.06116660654570174,
           -0.013893828289045628,
           -0.27380239613885293,
           -0.2801149426314512,
           -0.029940740446897676,
           0.01534661003453893,
           -0.03143916508824605,
           0.02206772538093266,
           -0.015497215447819979,
           -0.47210435838932,
           -0.003183231728742758,
           0.03258949737601952,
           0.0172272250512056,
           -0.05208704313126276,
           -0.01319840169615624,
           -0.12941234312305494,
           0.08208337236244936,
           -0.015604007590366613,
           -0.07271427329983396,
           -0.06457505753104402,
           0.050731543722248654,
           -0.013171976452650688,
           0.005959515417337673,
           0.004205924059989694,
           0.1267246762636709,
           -0.11985624115395821,
           0.02775976297148699,
           -0.004595027510907101,
           0.16349018278047878,
           -0.42412525250122207,
           -0.048905583358834694,
           -0.023552810301870425,
           0.30261366390784505,
           0.1455586521001375,
           0.06497105109282746,
           -0.03149546779710229,
           0.005437662176095696,
           0.07054405331511793,
           0.08055812532042797,
           0.293610803011165,
           -0.05322815929525402,
           0.14767438045649958,
           -0.01862318394199345,
           -0.028635002048726443,
           0.2209042797301373,
           -0.037159827907557307,
           -0.05015680981056999,
           -0.16347857634486665,
           0.18814579438761525,
           -0.29991787576021117,
           0.044370083406476635,
           0.1599271064575986,
           0.07845084158504284,
           -0.01862824978680253,
           -0.020131669119398135,
           0.009293521041467185,
           -0.009336824066218974,
           -0.09152116811222055,
           0.06203695444029315,
           -0.2569936310108248,
           -0.1473654580187895,
           -0.008789453474358055,
           0.05994261635696332,
           -0.022344346488696272,
           -1.328971861917721,
           0.07476888446710415,
           0.09727004007136579,
           -0.020068368811191246,
           0.1434308440370281,
           -0.055701514629708015,
           -0.03157287935683591,
           -0.030332241034696818,
           -0.032980916109562775,
           -0.009454477999141725,
           0.0497667556330835,
           0.0892364483172925,
           -0.026886082833863893,
           -0.3276571283423162,
           -0.028453645719827874,
           -0.12924434261488466,
           -0.021642289475079814,
           -0.04010654285129457,
           0.10677566285721639,
           0.01843880146477425,
           -0.037275086824935674,
           0.0010666300609919104,
           -0.030144250855564388,
           -0.014323508081646117,
           0.17586945432152987,
           0.0725472271577377,
           -0.1726936876646035,
           0.052723235950378436,
           -0.0565328582993875,
           0.020921146883714804,
           0.17164758617831474,
           0.25613720980445376,
           -0.019398412150824156,
           0.009181600769453652,
           -0.13988129707265404,
           -0.03398689173841376,
           0.13762723887328965,
           -0.16488644463104904,
           -0.20848552743562246,
           -0.01960325001077507,
           -0.10388901757888226,
           0.12127236200463475,
           -0.02416478324899114,
           -0.035248448248717076,
           -0.08331477528956195,
           0.04238181676029924,
           0.016245327664583916,
           0.020531012548682764,
           0.03813142206524162,
           0.07328949435370795,
           0.16592487532438427,
           -0.06791082267081754,
           -0.044515963535248865,
           -0.0626858417292566,
           -0.18348937017394287,
           0.017538662566286597,
           -0.027673433977869956,
           -0.03799691616043242,
           -0.21863830495875264,
           0.014995261459572182,
           0.0801637723360918,
           0.000022780250121292647,
           -0.13407133895838333,
           -0.016347658417265605,
           0.0986487283087384,
           0.14011014177193257,
           -0.1023600416822032,
           0.03356432917274322,
           -0.02273146472500412,
           0.10061784583460208,
           0.09905805605968258,
           -0.021095989325320724,
           0.013464035909897802,
           0.0503950320386483,
           -0.15709038156912142,
           -0.5365611985366534,
           -0.11129222057467769,
           -0.02886548094057733,
           0.06800475127848231,
           0.10580205099434445,
           0.0846288449236699,
           -0.054975764834804625,
           -0.04508308895463698,
           0.24666001987067468,
           0.026709534176929096,
           0.03269668402974142,
           0.11505417151493492,
           0.08570887116068893,
           -0.030959217471038056,
           0.1308603666800647,
           -0.003697738936786573,
           -0.11949717421958375,
           -0.042327337339037395,
           -0.13136607098156333,
           0.06467751388840345,
           -0.04354545519840661,
           -0.016355903059068304,
           0.017951198046270805,
           -0.026509792739362617,
           -0.10800132769676471,
           -0.12206436021336856,
           -0.0663450799188455,
           -0.004416568914060676,
           0.04376555951510616,
           -0.02410597996838794,
           0.02893601488373808,
           -0.11170258566081784,
           0.031395306666313336,
           0.017906302225207393,
           0.06810305815416176,
           0.001269638188351979,
           0.03341137993562279,
           0.11369282418574848,
           -0.01089084964305156,
           0.04836154524228816,
           -0.028363449788059134,
           -0.05723283955279913,
           -0.02634335397959167,
           0.08290655368799764,
           -0.028956342342423846,
           -0.014112782214291741,
           -0.02223685566785697,
           0.005739493459326087,
           -0.025414408144558646,
           -0.08465471596250669,
           0.03190962027445097,
           -0.01012827750545738,
           -0.4570241884256945,
           -0.032607777562081774,
           0.09554165881673611,
           -0.036403014871412,
           -0.02544927172627374,
           0.09314176039872515,
           0.022296697398408036,
           0.3392154663421654,
           -0.03430323319126315,
           -0.16453749214977867,
           -0.03198243466461382,
           0.10030163531964427,
           -0.0030074386207602243,
           0.1330891691225365,
           0.0833582122814068,
           -0.24097319484883828,
           -0.140142773806538,
           -0.014910805651388885,
           -0.013928345957910771,
           0.08046484256858272,
           0.1293556250673718,
           -0.16204852663741653,
           -0.6405476939152479,
           -0.03372723121464603,
           0.012617344032947253,
           0.02804857045763743,
           0.07330654613339008,
           -0.000526873421900754,
           -0.05429547734203269,
           0.008511954408924277,
           -0.029975832787040975,
           0.038748211333769565,
           -0.025735717218648414,
           -0.00948731281409609,
           -0.027173682322835315,
           -0.11787846183668652,
           0.0007249053283009577,
           0.08629717927999549,
           -0.05471255312888781,
           -0.01928839836974554,
           -0.3578462133435203,
           -0.032386194979610955,
           0.0690507643726851,
           0.08354600131725985,
           -0.02763926825772823,
           -0.026552661873171617,
           0.09795889347300936,
           0.04906137621844104,
           0.13116690363289363,
           0.04807944529614858,
           -0.035452585725804564,
           -0.03743485885654939,
           0.007775695240474301,
           -0.012950346920031277,
           0.22970712357570958,
           -0.03680876179874608,
           -0.05738692724012347,
           0.1336924248631256,
           0.2844931990608415,
           0.0649426978818978,
           0.13919530543244857,
           0.004570231958014767,
           -0.029715024398750907,
           0.04359816076198016,
           -0.0027594991464326714,
           0.005231504018690206,
           -0.002134442199147025,
           -0.027105946275082317,
           -0.018897358807563196,
           -0.17842234327333445,
           0.07143944733917691,
           0.05606564376230272,
           0.25109291745853535,
           -0.015314880156834968,
           0.022995030308767504,
           -0.013334760257318033,
           0.12646179180898193,
           0.26153078521983053,
           -0.10819622549537088,
           -0.5622841209536131,
           -0.039263587930628695,
           0.1768554960047884,
           0.020050586537910857,
           0.14492616750765358,
           -0.06915583997743077,
           -0.01979794679845826,
           0.23115105443697664,
           0.15165533627854333,
           0.0064512224371352815,
           -0.02625142379096056,
           0.0840348627103041,
           -0.016791992319232976,
           -0.057566938085906995,
           0.06298175800446655,
           -0.030336159631379405,
           -0.02034113930732167,
           -0.0191610259813939,
           -0.006861975514338589,
           0.025314602627916002,
           0.06802828554210649,
           0.035952980200052685,
           0.017722690593426092,
           -0.009367623632781066,
           0.008209158541177599,
           0.954671284027206,
           -0.03669268425259714,
           -0.019147493498747826,
           -0.02453810726185453,
           0.08338270015081946,
           -0.02773670929292085,
           -0.11589130005732562,
           0.009172493868950983,
           -0.014469060430817807,
           0.08147146816175145,
           -0.07892331704723722,
           -0.01604843531336843,
           0.03731412867168579,
           -0.008701993184882392,
           0.040724670873865984,
           -0.1184657665316522,
           0.16627765822517312,
           0.0005755578272765451,
           -0.02443397985934671,
           -0.02147730413272181,
           -0.2427022356053992,
           -0.024160267454779543,
           0.08313590561578535,
           -0.5721091619611103,
           -0.02678692592615716,
           0.030112835745230125,
           -0.020686728709306774,
           -0.05616891526498873,
           -0.16031423829836258,
           -0.024153342599147226,
           -0.011886403597030776,
           -0.029718868042200475,
           0.10893865997373531,
           -0.03713388755828508,
           -0.25202772597934275,
           -0.002914662063361044,
           -0.0647542046478155,
           -0.0784722845811089,
           -0.013186797649466144,
           -0.06674136159242927,
           0.07160856865256608,
           -0.48002185886816956,
           -0.011669923324162577,
           -0.031729302276019354,
           -0.1462650250717888,
           0.1592395840761355,
           0.012096104534146014,
           -0.03025383079276186,
           -0.00417412640269293,
           -0.006491000485319755,
           -0.02464072107265783,
           0.04431499570644488,
           -0.07804060329994537,
           0.023581683123190648,
           0.06724270974441866,
           -0.025907567261869657,
           -0.16501181264760523,
           0.014520065571820505,
           -0.017078845541893192,
           0.11612953924485903,
           0.061527184690012775,
           -0.0508381496266123,
           0.028705608431460458,
           -0.031865379783110596,
           0.24416770208895763,
           0.043202601186009465,
           0.013978767125480898,
           0.0551442038153839,
           -0.028041314724735065,
           -0.01353204775953704,
           0.02237509083309618,
           -0.040037650376443815,
           -0.05679173950194157,
           0.001986086870044441,
           -0.014680852294096927,
           0.03744136243730069,
           -0.014477372247254454,
           -0.0030072003735638585,
           -0.0625284156149772,
           0.023918796516445757,
           -0.021079052561260987,
           0.062273697847053486,
           0.21149750956202223,
           0.021812556845761152,
           -0.27337910312827995,
           0.03233558710803998,
           -0.04092890105399618,
           -0.04024457959026327,
           -0.020342200803011024,
           0.026474649306070797,
           0.07175667373815034,
           0.01879190909719756,
           0.00006778793068322215,
           -0.14536543704593274,
           -0.029307618112924327,
           0.13201155167032358,
           -0.03202522565559957,
           -0.07290355390314353,
           0.4763254794249655,
           -0.017847061294168954,
           -0.2676815288449054,
           -0.03235259751979969,
           -0.11291433638705818,
           -0.07082505614504656,
           -0.007195328583224348,
           0.0649826133396989,
           -0.0351460311399191,
           0.10900199981106203,
           -0.15230443971815463,
           -0.08115739512862526,
           -0.035841743452853424,
           -0.042374672108460604,
           0.020412054500342672,
           -0.07819752866683366,
           -0.15746114985070048,
           0.0055252593218658285,
           0.016248017881319767,
           -0.036218739927715,
           0.24586495303164693,
           -0.009585281209967574,
           0.03144145285759374,
           0.033297603697808716,
           0.13800261908095288,
           -0.16498888707454878,
           0.013829236792068107,
           -0.04695089368768441,
           -0.1379661177294919,
           0.037976288618225836,
           0.353140071927184,
           0.13957236080798574,
           0.011082532912278004,
           -0.09288495193033612,
           0.06562104109841793,
           0.1337242973861808,
           0.13325590476855034,
           -0.02685019157838102,
           -0.967080565901733,
           -0.06495668003568873,
           -0.036520729447564446,
           0.028307850987303155,
           -0.3158604383578844,
           -0.023337514268031462,
           -0.00413099235583277,
           0.06074622832891596,
           -0.01538506756680946,
           0.036530577179592,
           -0.021262082620431534,
           -0.026494590855428643,
           0.17104830056262868,
           -0.010996780492149364,
           0.02453891632742531,
           0.07207324027002361,
           -0.02437077007280223,
           -0.024169787366029937,
           -0.050129923449734555,
           -0.013051207197440767,
           0.10163185479333191,
           0.07707456466022464,
           -0.02492798914519151,
           0.09402114199066766,
           -0.01978006586330019,
           0.336990608795557,
           -0.4529761094976946,
           -0.17001489133024672,
           -0.10055301095803608,
           0.025848296111696728,
           0.04054306810768307,
           -0.061664534843296086,
           -0.027990091118439867,
           0.0006792908152692201,
           0.07214471274054442,
           0.029431121097998066,
           0.0638620864988576,
           0.02425079941072937,
           -0.04329595815547768,
           -0.004078261506338174,
           -0.030276233991561256,
           0.03388599096885307,
           -0.05718798810250722,
           0.026150519625810796,
           -0.07518780150747835,
           -0.1688329075243911,
           -0.04086448570128328,
           -0.0557189214549149,
           0.06132654162679053,
           -0.017601593377507167,
           -0.4334928755888631,
           -0.035690415505224435,
           0.17957562928732676,
           -0.42625139387101424,
           0.02390720135905213,
           -0.15310330479389567,
           -0.091690665410081,
           -0.02201350180937171,
           -1.0854818138995683,
           -0.24321632756575146,
           0.02322373144125545,
           -0.12611977592801532,
           -0.19010959945135175,
           -0.025607454708934656,
           0.12901165028736514,
           -0.02642906537386928,
           -0.01208232476199234,
           -0.026870516250647247,
           -0.02391180734026727,
           0.005332211480713779,
           -0.04168854138865087,
           0.2056357964658797,
           -0.06556102536605998,
           -0.05571343095318788,
           0.04193663006089997,
           0.06400875306333359,
           0.060786756595840444,
           -0.053842664127645545,
           0.10173972319759017,
           0.2222508249092232,
           -0.006562215363590945,
           0.2774529440083714,
           0.4532724801736612,
           -0.005177109187342425,
           -0.10102860526808895,
           0.013491208551793312,
           0.023429012023214187,
           0.010888594524134348,
           -0.45844893624058536,
           -0.06472130625967225,
           0.0025677826373977706,
           0.08718650759762056,
           0.28754981518305667,
           0.049317107483565305,
           -0.06229495692450258,
           0.2936888599773999,
           -0.025972990201820315,
           -0.02002007464198161,
           0.060321455573430285,
           -0.03903697232346076,
           -0.05114878869241843,
           0.20559730534510479,
           0.0623675500849785,
           -0.17238505646024024,
           -0.14464002021974887,
           -0.04253174568678991,
           -0.024044160848324045,
           -0.022529159813218964,
           -0.10646338844638452,
           0.09332522248370913,
           -0.24342335664262027,
           0.05052879007102034,
           -0.03575027230947561,
           0.04820333289894182,
           0.1367648184597702,
           0.04992110860628559,
           0.5077377156351845,
           0.009327562928805535,
           0.06413829639514913,
           -0.005399968403162115,
           -0.03525007439522862,
           -8.479079409500326e-7,
           -0.007715360297015048,
           -0.00035864723967529927,
           -0.049525994680579694,
           0.02223957437120145,
           -0.026280933111002075,
           0.04654950713916795,
           0.07567061951890627,
           -0.0946995381312601,
           -0.1169743361180522,
           -0.005113172813440183,
           -0.024899121370066103,
           0.09449889781527382,
           -0.014148163354605343,
           0.07422140040088451,
           -0.020422727017120775,
           -0.041132470319439667,
           -0.05381261745263369,
           0.00924166783297747,
           0.11452539502198136,
           0.020006739434939167,
           -0.028766006975326313,
           0.028893937974611705,
           -0.05422926236513116,
           -0.14107128455854484,
           -0.01810850970205281,
           0.03842622451288903,
           -0.004368415683496011,
           -0.05419235602722326,
           -0.01912632008197019,
           0.039478722822297405,
           -0.017745069428413855,
           -0.07840997899314787,
           -0.11594600911890308,
           -0.7298724310655788,
           -0.09504525890319608,
           -0.02392764816748973,
           0.05141754071244337,
           0.019790317532804653,
           0.29798598903331636,
           -0.06150400563568157,
           0.07563966848257189,
           0.0029330773220105706,
           -0.034894480701112375,
           -0.030989140313352044,
           -0.026289734368692867,
           0.06510205077704292,
           -0.0752873172785603,
           0.06709958685350156,
           0.05472667078631607,
           -0.11679044771320282,
           -0.06946209635118007,
           0.016590289530545796,
           0.10860114909076007,
           -2.1798081690938163,
           0.14067988704044784,
           -0.2970369083755115,
           -0.472413179512988,
           -0.0414993676673036,
           -0.5041235258603852,
           -0.17545856340213936,
           0.31472293757544284,
           0.009132995581701667,
           0.05744635211582659,
           -0.02269487166140578,
           -0.02998017736801078,
           0.0062117597615019325,
           -0.0389852710589298,
           -0.031486203434040606,
           0.026241396933038914,
           0.11259542162692375,
           0.20989066348689533,
           -0.018794722765441498,
           0.2531349350186746,
           -0.007003634360316529,
           -0.01550247901033277,
           0.011577102154429603,
           0.05069938342586025,
           0.02909364918641938,
           -0.024827469961246292,
           0.03489262998733952,
           -0.03904216830042726,
           0.014542927886395201,
           -0.07353331257073444,
           -0.010135447649306536,
           -0.029758156260837238,
           -0.08490041815513456,
           -0.018547257183791844,
           -0.037794253625721155,
           -0.120938519184732,
           -0.022068610331149336,
           -0.04959519477786706,
           0.04288389383494245,
           0.17072640826964958,
           -0.01779948998604815,
           -0.02543313126283782,
           0.05055286096828629,
           -0.15818108761974867,
           -0.06983238112035885,
           0.24803135353893385,
           -0.023619645396762104,
           0.005172226265378351,
           0.027033554130157882,
           -0.0930990645095929,
           -0.1892930186370182,
           -0.02096840628681075,
           -0.008865445025837916,
           -0.03013794156537974,
           -0.02717550355976903,
           -0.10603939525462376,
           0.06963072581802404,
           -0.029014312101175714,
           -0.022021527773378978,
           0.06754011423444692,
           0.12653746041074382,
           -0.01216389245945858,
           -0.018037244527265395,
           0.1298103687938422,
           -0.028977825752577208,
           0.17325880612062106,
           0.07747684397626346,
           -0.04782193368164959,
           -0.032500612688782134,
           -0.13265406341567595,
           0.003360952029269515,
           -0.022763332828992754,
           -0.025130939857486746,
           -0.09009787819671593,
           -0.35858250555778265,
           -0.060251724549715786,
           -0.046639422428183315,
           -0.07643743802992348,
           -0.14437305758272903,
           -0.1080628240755284,
           0.007739819651195887,
           -0.024699836378809577,
           -0.023699107809144776,
           0.005177170548975742,
           0.029193934123838253,
           -0.03442782959753938,
           -0.018874672338833078,
           -0.01851006662440141,
           -0.19210191214292563,
           -0.005752391192674811,
           -0.04373835014230156,
           -0.47154128137559376,
           -0.013533250053095044,
           -0.048017557935660406,
           0.03628094901218633,
           -0.09564509717589174,
           -0.02794642495898648,
           -0.014824874494870605,
           -0.07151919445340099,
           -0.024378949168124765,
           -0.07846721235055784,
           0.005310496841944884,
           0.6203767096322179,
           0.2288359136413263,
           -0.018513835963903685,
           0.06667918808236191,
           0.23096289580213641,
           -0.07837071423896466,
           0.05681800647557681,
           -0.011715323800774176,
           0.09127499772339517,
           0.01086281235227814,
           0.1624958410824889,
           -0.023875355494607994,
           -0.010209258309335802,
           0.042185763582391185,
           -0.062404735275043435,
           0.18219568460756458,
           -1.1946291778786582,
           -0.3005964233047274,
           -0.0042812218131856854,
           -0.008280169193147616,
           -0.01084091497947394,
           0.003965245075932199,
           0.00189071386971166,
           -0.11292949666321621,
           -0.029207069294661686,
           -0.007884716167596142,
           -0.0175955946073323,
           -0.02247216692618901,
           0.047686466187644425,
           -0.006054838971301298,
           -0.4121962356377248,
           -0.0165554930886681,
           -0.0007765279317644582,
           -0.15846355025955627,
           -0.07586959537642796,
           -0.0069985479930267155,
           -0.01775047392628802,
           0.003145939544827426,
           -0.08007145623540819,
           -0.04725682712715483,
           0.21880250880812074,
           -0.08851350701763366,
           0.030644413812725858,
           0.026139843648350577,
           0.028676524156284636,
           -0.02397049250019677,
           -0.016265580115544433,
           -0.13498469946128497,
           0.03485695365213965,
           0.29973827072823056,
           -0.08052252475222611,
           -0.017764846259628608,
           0.003605270250472112,
           0.02765239715348193,
           -0.07807213485787515,
           0.03220438747804797,
           0.019050849720740642,
           -0.08851425122083051,
           -0.05000285076122815,
           -0.27993175907320433,
           -0.1753117025616672,
           -0.027335250138586665,
           -0.03436107022345759,
           0.09280457176982597,
           -0.03811497668732498,
           0.03583409434704695,
           0.2265749331673615,
           -0.5328196484567721,
           -0.021366492108010605,
           -0.024209924718034397,
           0.03534710422014168,
           -0.0016021129412754232,
           0.03930000622049992,
           0.15003863317052885,
           -0.07018037620292641,
           0.013170864530039116,
           0.07828330960397042,
           0.2039011659472098,
           -0.24324886621899108,
           0.15276782798569258,
           -0.0630853207098865,
           -0.016251137865077415,
           0.014645002909553685,
           0.18724478777827935,
           -0.0026423399297951177,
           -0.02711134791636727,
           -0.08748733460967009,
           -0.012758055346137605,
           0.0416061233324539,
           -0.2425511258855218,
           0.022851584140375303,
           -0.017738296345420245,
           0.47157231807207967,
           -0.019504243772101918,
           -0.030656675632467177,
           -0.03408173139047033,
           -0.07263466324354201,
           -0.032970192088353105,
           -0.056648716357851875,
           0.022463978310277036,
           0.1064543039760097,
           -0.06701867897979563,
           -0.39358576055095107,
           0.014828059301793305,
           0.11096172266044481,
           -0.03411903968239367,
           0.15752429184085778,
           -0.018445470310205714,
           0.0005836380968803245,
           -0.31919154229929225,
           -0.10692291957469714,
           0.0601212357912762,
           -0.08650778463885427,
           -0.04273981492948862,
           0.19511840092339047,
           -0.004871596291629,
           0.16557724213030953,
           -0.010699793826883236,
           -0.002371099924937111,
           0.14266355217586643,
           0.025901256173786143,
           -0.0068894246905558685,
           -0.010866843005964235,
           -0.023780123447398903,
           0.08416969618943337,
           -0.03206485478692429,
           -0.023045252909095898,
           -0.012491744652009437,
           0.027189142128747887,
           -0.0246130050180879,
           -0.07978678761776953,
           -0.04565953962228785,
           -0.041828067034338744,
           -0.3162914786993492,
           -0.07493453065263338,
           -0.018658061273295744,
           0.060876114431608265,
           -0.07174325998527276,
           -0.12845331492634018,
           -0.22795205542973607,
           -0.07357755432436257,
           -0.06740618766537575,
           0.05797199020391418,
           -0.02849620892127994,
           -0.0045135024877964,
           0.265804247194693,
           0.023800598959302116,
           -0.002131672204893439,
           -0.0009304680295592552,
           0.6418710781824329,
           -0.24604670163544243,
           -0.023900827429910933,
           0.048939647619954535,
           -0.016563631447159284,
           0.012239331475252076,
           -0.025467369670203816,
           -0.09992647043718278,
           0.003163219635833806,
           0.00918716875327052,
           -0.034049309461166306,
           0.01343171703184776,
           0.07385582029753454,
           0.0161484517349884,
           -0.3018221281822578,
           0.018281082254581377,
           0.051144907899920926,
           -0.008782906477499209,
           -0.016115268720874397,
           -0.012622963923188334,
           0.3296826840934576,
           0.01336940827063075,
           -0.0236529201596129,
           -0.49380491142954475,
           -0.06606772058277297,
           0.11266359431339316,
           -0.02010108893163828,
           -0.1045557410158536,
           0.017193148091247695,
           0.053560789193945336,
           0.11302841241216494,
           -0.03729314610812889,
           0.028338010030367445,
           0.02032927404843487,
           -0.0033805310203915938,
           0.08141564968845763,
           -0.012911880234286991,
           0.08053958491134379,
           -0.008145085817844289,
           -0.05052728264629334,
           0.0029195868256927738,
           -0.02455119400201786,
           -0.03478649915386259,
           0.05450665174953208,
           -0.017030799326290102,
           -0.01706346708704697,
           0.06983234579991439,
           0.1368179412026582,
           -0.05765084592225622,
           -0.12328792282874042,
           0.0501984505375154,
           -0.0044129046399208356,
           -0.27116671931992903,
           -0.002860758224632922,
           -0.10457450041854355,
           -0.06922124603364915,
           -0.025465033871405435,
           -0.022989331355048298,
           -0.028156363841048086,
           -0.0392623105130313,
           -0.05984546746680049,
           -0.03571991382278262,
           -0.03430644500332254,
           -0.020300851578673753,
           -0.0038074615684352588,
           0.0031674080042608742,
           -0.014189980009894989,
           -0.08815723936295496,
           0.1343103911608836,
           -0.010840877791790264,
           -0.056938509429640335,
           -0.019377951970340316,
           -0.09997870029441716,
           -0.05729808253423429,
           0.12266266127179672
          ],
          "coloraxis": "coloraxis",
          "symbol": "circle"
         },
         "mode": "markers",
         "name": "",
         "orientation": "v",
         "showlegend": false,
         "type": "scatter",
         "x": [
          -0.42917490161908045,
          -1.8171234220335766,
          -1.3713918328869559,
          -1.3108187676764405,
          -0.33639787278715144,
          -0.5639538977146695,
          0.4981524165045869,
          -0.3562524009504393,
          -0.08032397702413065,
          1.6938870597059377,
          -0.4908640271748617,
          -0.25780159863518554,
          0.6651119923062914,
          0.6597289178481401,
          0.017159025817382344,
          0.3285010389506552,
          -0.02738663145198522,
          0.07527955848602431,
          -0.6865179257620087,
          -1.0630433481040489,
          -1.3994328696103964,
          0.004870432458998295,
          0.12175916236324281,
          2.0795460003570088,
          -0.44097969067038395,
          0.39411888497628395,
          0.021327104570544108,
          -2.3733055423743536,
          0.5316239034884749,
          -0.8470504266396666,
          1.2213701663879892,
          1.5471698892978307,
          0.6232449242736676,
          -0.5963199152713867,
          1.1400336077661464,
          -0.4341393837023311,
          0.4571683090549348,
          -1.1592048239429291,
          -1.8345295483314557,
          1.319582916813405,
          1.3701118671482508,
          0.8419785226330256,
          -0.6143235428564051,
          -1.722740420386011,
          -0.3372168441860559,
          0.3524818633725881,
          0.3021819465359367,
          0.7034027192779481,
          1.0756240056557655,
          -1.0198355303046487,
          -1.2260295070114644,
          -0.16975296827598088,
          -0.42067275419831124,
          -0.46128509739060614,
          1.5335775703022543,
          -0.9731751891225793,
          -1.56056114357962,
          -1.1213781154267632,
          1.0983031115341773,
          0.1294192477442831,
          -0.0012554655762060012,
          0.44584898249980087,
          0.988984705693332,
          -0.9133839257548031,
          0.19492055197242408,
          0.41470766763770806,
          1.181894716950087,
          -0.9038339046164506,
          -0.24888263677186723,
          1.097701220480737,
          0.08297283837058893,
          1.9699277565082691,
          0.49557834775483034,
          0.5623678533374517,
          0.27355410471899927,
          0.683947292991583,
          -0.45378260678258303,
          1.1742787902969207,
          -0.5740875395540094,
          -0.5246557965484062,
          -0.11336975317168803,
          0.06564979284689292,
          0.37222258070495196,
          0.5744895327351579,
          0.725196105016802,
          0.3505778154687962,
          -0.198292942921194,
          -0.9844098666328133,
          0.5201780028605401,
          0.4065583164205595,
          -0.7125047906235314,
          -0.5824578542366549,
          0.9068249869887359,
          -0.5809651267711883,
          0.6130845198307268,
          1.2535984299601135,
          -1.1822902836824882,
          -1.5128706328210302,
          0.9498066550805583,
          -0.18720880956231142,
          2.682568673641023,
          1.2527667008438554,
          0.7146000279194268,
          -0.13800546579515818,
          0.8380190981467893,
          0.527936736001448,
          1.7747534400194886,
          -1.8112823832523328,
          0.43476110450347527,
          1.5473703854941834,
          -0.15886595064416123,
          -1.3856338670369197,
          -1.5133306938226154,
          0.27202717511498675,
          -0.12860102566121037,
          0.0823751524790431,
          1.491457047669575,
          0.029070033381346696,
          0.9928424220370721,
          1.719907801679543,
          1.135417161706944,
          -0.07009376924051959,
          -0.34026540751457224,
          -0.04283866036839865,
          0.9542397624258312,
          0.019631263749194015,
          -1.066600375862027,
          -1.5653520218288823,
          1.0568756751855866,
          -0.5212880787704754,
          -0.12734012276793502,
          0.33167254828508747,
          1.7166382119932686,
          -0.6879307951725031,
          -0.6570012187111435,
          -0.7815634469255532,
          -1.0581721966912303,
          -1.4146302392296037,
          0.26190351639759746,
          -0.2591234105834774,
          -0.34197419814223806,
          -1.5122618397078278,
          1.226798782778709,
          1.4124798920631467,
          0.3937169540337324,
          0.01949986080323676,
          0.479063855461701,
          0.07348738174341195,
          -0.9344696203902663,
          0.2789780809293189,
          1.1969739661401164,
          -1.2510331830977572,
          0.24580795622944357,
          0.12504691672231258,
          -0.2473374302271525,
          -0.358192085054394,
          -1.8035310192270424,
          0.9207019317978319,
          2.2589587310537325,
          -0.2753378839089034,
          0.16087439853416247,
          0.1836690716170604,
          -1.3603366759884326,
          -2.240857340199932,
          -0.11859288071726914,
          0.7596870355853057,
          -1.364086826994038,
          -0.24863089716661793,
          0.05335889269879116,
          0.07744764486261818,
          -0.018704900077565232,
          -0.8644983987795822,
          0.9243791797432729,
          1.5465693346980232,
          0.3176696539223253,
          0.19342998596985725,
          -0.7905497113651266,
          2.626738676231568,
          -0.836946535123019,
          0.4522495951343361,
          -1.5182538058931077,
          -1.121184059667952,
          1.368706969488735,
          -0.7946771285890277,
          0.26123970902602744,
          0.48840311201543524,
          -0.10176323472672863,
          0.46673177354817674,
          0.34462393795144136,
          0.5019295030808966,
          0.03754183076643782,
          0.49498634232097916,
          -1.0928733687284575,
          1.152516595005957,
          -0.025059742439390326,
          0.49654042370706847,
          -1.125642812946958,
          -1.3435667259802635,
          0.06781411550015376,
          -0.8738703328090891,
          0.5064018573514215,
          1.5936120723264153,
          -0.880810215768828,
          -0.21209764854219684,
          0.6493246321753927,
          0.22139638370923428,
          -1.6458034267332646,
          0.006885050917354484,
          0.08037562376368675,
          -0.07548130701858732,
          -0.9509789951555017,
          2.2018858928044605,
          -0.09110860726680532,
          -1.061770502632386,
          0.5272862472958658,
          1.0577442581629077,
          -0.9561057857165013,
          -0.640943351221413,
          -0.06576772692358561,
          0.7395113327759103,
          0.26012394033094366,
          0.9784067102326585,
          -0.4433319345742211,
          -0.17784006242528363,
          -0.5218577387108472,
          0.16328051322543494,
          0.8898426222835,
          1.4216785387553863,
          -0.44679812819771103,
          -0.5238392484719444,
          0.3437619054865861,
          0.08029376791923316,
          0.0896021277485759,
          -1.1265806406974495,
          -1.3301837520761275,
          -0.9019581627990371,
          0.3323965165609462,
          1.134471316128377,
          0.11008991795362497,
          1.4802537181319775,
          -0.03119651224764725,
          0.5975016678173957,
          -1.2579403092008816,
          -1.0096359931109131,
          1.0915718119597604,
          -0.41795842569079644,
          0.16865833172142325,
          0.42425557945737236,
          0.13330423145723375,
          0.2984450541856716,
          1.3704641987393489,
          1.7097078128509722,
          0.21656420340468308,
          -0.17767042726085933,
          0.10306581279436144,
          0.3135739311835693,
          0.06512589401961767,
          0.5288275681064356,
          -0.8209240023073732,
          0.029146607712908154,
          0.45526588534144014,
          -0.9269024479781964,
          0.5717007133661975,
          -0.8888502756632273,
          0.7179050065662188,
          0.884525683722543,
          2.042664355299413,
          -0.2525446174697315,
          -0.08192125609265596,
          -0.3683048841472962,
          1.110908494478128,
          -0.6760308944908605,
          -1.2566229812874659,
          0.77282571573497,
          0.6673191233373267,
          1.4373962319777636,
          0.2673991397848111,
          -0.10258776718814086,
          -1.5526207409558748,
          0.11519876690480212,
          -0.07059388944244055,
          -0.014374534207693544,
          0.4476957351844128,
          0.6800827087939223,
          -0.7144878840577956,
          -0.9918979059883697,
          -0.550436388008405,
          -0.8736939001862968,
          0.03287113977391086,
          0.28869841743192426,
          0.5302544245999423,
          -0.3726946398253392,
          0.3893135159017593,
          -0.28420697680439766,
          0.09846731138360709,
          -0.9435484025896801,
          -0.8980998823339504,
          -0.23348264393113113,
          -0.2726401859920814,
          0.012310510354892477,
          0.3420740751077927,
          0.16796213563249376,
          0.5870203482854688,
          -0.3991941602185694,
          -0.6476638241447913,
          -1.2564182825556982,
          1.004510050992587,
          -0.07483280753609468,
          0.6930246480997156,
          0.7803694864670767,
          -0.7287461049000584,
          -0.5565265677799703,
          -0.7606224531020894,
          1.4897990317385912,
          -0.46252801975061164,
          0.1743395316516532,
          1.147380842320284,
          -1.1708778075620454,
          -0.8383878679475255,
          -1.4290721215836095,
          0.5634091972394517,
          -0.29579982314312,
          -0.6625124742637132,
          0.7899980739739966,
          -0.27653521249466106,
          -0.4003302288243509,
          1.0409198633648358,
          -0.6402607477628044,
          0.0890309485132197,
          0.9309557882790648,
          -1.1768784836687785,
          1.3637521524728604,
          0.1335518939443979,
          -0.6086812542118355,
          -0.22297449702902986,
          1.5999540081928123,
          -1.4474352493827534,
          0.15985191795980108,
          1.0750570608168906,
          -0.8348703308936658,
          -0.20188327014514296,
          1.3912805863176667,
          -1.0544699516191796,
          -1.3425322419402932,
          -0.3335946645418276,
          2.307392997844074,
          -0.987369982648804,
          0.47913643143914086,
          0.3087908543320751,
          0.6061550592436654,
          -0.8043170058759678,
          -0.4865220560508694,
          0.14842638334948607,
          0.24644634300370935,
          0.7127308182434452,
          -0.4975792239678315,
          0.4910618267689011,
          -0.17968527803635234,
          1.240377292631173,
          -0.6815824361688477,
          -1.5747063050490344,
          0.4879030634807556,
          -0.42105032250075974,
          0.08116676523744984,
          -0.8207537001690505,
          -0.5715185373854768,
          0.38455605591622827,
          -1.2863872948156687,
          0.34249714126970066,
          -0.1002037658091883,
          1.6754176305279598,
          0.5578335157866126,
          1.1012079607072913,
          0.6218685350986686,
          -1.2748132639841667,
          0.01627764332174618,
          -0.4755905752193743,
          1.2354681302346655,
          0.8235239685765211,
          0.9068788789428974,
          0.5016476807304006,
          0.40851007286941665,
          0.35606438453712164,
          1.7403926034638086,
          -0.7689668835966194,
          1.7949520887187107,
          1.6834392786145629,
          0.32995528823689685,
          -0.8313565653192856,
          -0.4998327753719319,
          0.23637794321815717,
          1.0622144413981145,
          0.3439517143164144,
          -0.6458619570595535,
          1.0143000251628471,
          1.6179901099842497,
          0.09893236458261968,
          0.02673710106063616,
          -0.6196243032474668,
          -0.18784983223874632,
          -0.15028400016585278,
          0.5114814172399594,
          -1.2185120238249454,
          0.7376170825566116,
          -0.8911842330712402,
          0.4198832275760853,
          0.8165209551716861,
          0.12130818860754197,
          -0.9356704898038721,
          0.4784504057994201,
          -0.4691083705250001,
          0.13542587509374077,
          0.4804950466570929,
          -0.35582434716095784,
          1.6982418467310487,
          -1.2347928103305137,
          1.4351735444582934,
          1.0041191730704424,
          0.31073187934388813,
          -0.06282411188351178,
          1.4655512074536325,
          0.35978638234167903,
          -1.4951221141070505,
          1.019970827822696,
          -0.21149891589515338,
          -0.7250194650965235,
          -0.3762478126651516,
          -0.023719708586731086,
          -1.4513331497808883,
          -1.5490224216635637,
          0.8143674694738251,
          -0.3355288281738139,
          0.6971415259012005,
          -0.967647896812698,
          -0.16766439842308206,
          0.13080670036606828,
          -0.4912229959990292,
          0.5584748683307955,
          -0.7007083904976554,
          1.6934125198611392,
          -0.8396180975228028,
          -0.21679125584416417,
          -0.9994020520039267,
          0.3981302306783948,
          -1.3518049101556182,
          1.025078811230519,
          0.7748201129900408,
          -0.06534466746033302,
          1.0464982138189993,
          0.46003548924610843,
          -0.5049687815905035,
          -0.8878006429577701,
          0.21179805911998795,
          0.8279007460076214,
          1.0051882029562607,
          0.5421471633507029,
          -0.05112520584828038,
          -0.30461667184916524,
          1.340428046409657,
          0.20871426044653696,
          -0.5123758697763113,
          -2.35444469714612,
          -0.3855815980859471,
          0.032815723026854586,
          -0.19902906653798422,
          -0.06546537675663139,
          -1.177549355616461,
          -0.3763806740461063,
          1.2258877628029998,
          0.8273051655918511,
          -1.1452089979692348,
          -0.06597823328313578,
          -0.0633600077710664,
          -0.6103498205758011,
          -0.6175888806205495,
          0.7511092221344297,
          -0.1331231097263466,
          0.7091878598184742,
          -0.5431139628017955,
          -0.060351535692078746,
          0.5379475366089387,
          -1.8609335052270088,
          -0.18936413187541465,
          0.9276736118506882,
          -0.6714337209530583,
          1.1367979069020446,
          -0.4795950631943331,
          0.6201509150910177,
          -0.79262767983479,
          0.09096830044052863,
          -0.11412689987291418,
          -1.4353910103274867,
          -1.3341332285448335,
          -0.8066389681483868,
          -0.2045817551019017,
          -1.6295498064583964,
          0.6273833871235112,
          -1.0359539908968716,
          0.4173702366778865,
          -0.022443589947523882,
          1.9955740419755794,
          0.5298791892074026,
          -0.7510418772675199,
          -0.038993752152872325,
          1.0662196391020466,
          0.08264300057275799,
          -0.8852609286974298,
          -0.39303337274746863,
          0.5725289971298388,
          0.28581596118212454,
          0.9633108882854284,
          -1.9545055108526936,
          0.48025325210583314,
          1.0181073948117598,
          1.3157177444707404,
          0.285883761632903,
          0.32648934588331274,
          -0.5470287713338512,
          0.38810412529779614,
          -1.040676364458909,
          -0.6802264835291172,
          0.20450445891050575,
          1.3257073299378865,
          0.39823883573490343,
          -1.7262356972237765,
          -0.017689578371547058,
          -0.7446260867921072,
          -0.12255971242090011,
          -0.5719699518994776,
          -1.2534502409072348,
          0.9115416524489368,
          0.7271611504134037,
          0.546124207226091,
          -0.8855300877927061,
          0.48883526713582093,
          0.6840052425225328,
          0.7258391500589493,
          0.06611877970028887,
          -0.9690775696211086,
          -0.4444652596096854,
          -1.15419864097724,
          -0.5487205642889956,
          0.8664044314517293,
          1.0593727591585447,
          0.05055702416705721,
          0.2596039464312763,
          -0.22246572720575963,
          1.0796475424150322,
          -0.30155404717685574,
          1.5444976428660242,
          0.7563951295303247,
          1.4629660072315798,
          1.8166108584777956,
          1.3440231816801258,
          -0.40041239774878207,
          -0.5776874904858346,
          0.32191130018435793,
          0.005930385206775578,
          2.1685914162165094,
          -0.7750989553025853,
          0.08175782607415037,
          1.7963462144832398,
          -0.29785514565929594,
          -1.0823291034533842,
          -0.30723457940289456,
          0.9994114346774339,
          -0.3087089162565185,
          -0.31735979994121133,
          0.5828224393319291,
          0.5006551193688751,
          1.6474242034750184,
          0.5003067639844336,
          -0.14561165338349513,
          -1.1202927718298383,
          0.7486209122989744,
          0.8994117749104902,
          0.10913212811628528,
          -2.1938823784683392,
          -1.9945336520263504,
          0.23821873032777757,
          0.1303251619364872,
          -0.10528628794873589,
          -0.9135785772512545,
          -1.0070248829391004,
          0.12062571162218257,
          -1.029448508035843,
          0.4898375125355728,
          0.030272324967039778,
          -0.7341246497915109,
          0.6109602485503441,
          -1.5329077572616434,
          1.4041369228002063,
          0.7322184208160599,
          0.1670253125048408,
          -1.5339134354377602,
          -0.15552426751692003,
          0.33001419964213397,
          -0.06760729978979639,
          0.21132237821029645,
          -0.24321122032375253,
          1.338918794321326,
          -0.9606934598302876,
          2.125447054191817,
          0.09902871143569617,
          0.6338893645586003,
          0.334912210247675,
          0.4551803694272741,
          0.151914036237343,
          0.9215563910116309,
          0.04968904340336997,
          1.0587898742675592,
          0.08739003505711775,
          1.4623917805534623,
          0.7848474949412629,
          1.0952740839229897,
          2.721750865118921,
          -0.8559911818824313,
          1.2623094911715431,
          -0.7925303000840519,
          0.7404829006081866,
          -0.5674681037840495,
          0.7547455416653768,
          -0.6152673654962761,
          -0.5797194643022047,
          0.4945997523957376,
          0.7326090606059853,
          1.04899048674832,
          -0.6289389272944805,
          1.510358834820777,
          0.9254899104484018,
          -0.4763868926596883,
          -0.32272105342528745,
          -1.1844649122797142,
          -0.353349098805419,
          0.9025938067668348,
          0.8348957402913997,
          0.3795407974973937,
          -0.15460043391361591,
          1.1402720583305306,
          -1.224718842244182,
          1.5912637312553581,
          -0.09781074516336041,
          0.769990160216613,
          -0.2286530230527202,
          1.2515014229332058,
          0.4048449311776757,
          -0.8251018095699774,
          0.6466184013013906,
          0.338932477726091,
          -0.37889808129780245,
          0.4441625524292103,
          -0.6937921925089623,
          0.14457390582618249,
          0.18399988595407019,
          0.010344532691738984,
          0.08838491354072961,
          -0.36391537281133346,
          -2.3432141538387588,
          0.8286557983935385,
          1.6941393407016954,
          -2.2187295716140825,
          -1.064322114235522,
          0.8816198728963196,
          -0.32771355219736165,
          0.23393605935638195,
          -0.38655560426075436,
          1.1129355734414321,
          0.1316140955934622,
          -1.4062339252389138,
          -0.6813710885262853,
          -0.7207745668953208,
          0.5921233894052819,
          0.761203741751785,
          1.6392838009994772,
          1.754914407517825,
          0.8352162329479165,
          -1.0308528985933914,
          0.8779149147097962,
          -0.7567407317005906,
          -0.022541473995911304,
          0.0241852738633982,
          -1.2563331938578792,
          0.5389757249787173,
          -0.4953726847336343,
          0.39859529132151894,
          0.19996649273201778,
          1.18373830023781,
          0.6850577576337737,
          0.5010236368798835,
          -0.6739633711336005,
          -1.1213524480236983,
          1.53737415476372,
          0.32977534375705125,
          -0.01841451005822015,
          -0.36195433118446063,
          0.18722756452713152,
          1.1282037577439776,
          -0.8722972663204445,
          0.6027122607412065,
          -0.9161524133108444,
          -0.767693429793061,
          -0.12191244085532002,
          0.8123522284369896,
          0.17367167994287877,
          -0.4433840647878538,
          -0.2925632894473231,
          -0.16650837997942816,
          -0.5695726937056784,
          -0.4033690013465038,
          1.4531147638027972,
          -0.4089718635116222,
          -1.0295441128046847,
          1.0837854669531315,
          -1.7851071785695163,
          -0.3696240480864023,
          -0.30543205921311906,
          -0.72890094862295,
          0.053404369858088614,
          0.07874694642692186,
          0.0571984438945919,
          -0.23804024857762973,
          -1.4416839487184705,
          0.8523858944037515,
          0.13067383472631966,
          0.0681859533368171,
          -0.177197936567093,
          -1.250368132549382,
          -0.5024637593311192,
          -0.2554968468064366,
          0.9726406936679213,
          -1.0776648830161568,
          -0.37173889274106614,
          0.17379242317455976,
          1.4235440056321953,
          -1.3600249588555553,
          -0.947381117351583,
          0.5255967125268345,
          -2.062787996531592,
          -0.29608967092943195,
          1.3766745394979436,
          0.7549823942578537,
          0.23021332274803702,
          -0.4463602237430686,
          1.40423245933376,
          -1.3231291024586067,
          -0.7348154687900231,
          -0.3077057989971045,
          -0.1252833158302751,
          -0.05875933223890582,
          1.8703309909078025,
          0.17323374951885312,
          -0.09465624118479707,
          -0.1331641865712005,
          1.088569938475344,
          0.529979099699913,
          0.39340914235081736,
          -0.2854510674597239,
          -0.5423092439137138,
          -0.6183924789892,
          0.2757604009970149,
          -0.46380945970565046,
          0.6733746619055341,
          -1.9139460231532501,
          -1.0297907199025853,
          -0.2090033742568187,
          -0.6835429348417696,
          0.5770702127051625,
          0.9211922829875379,
          1.1343519630646863,
          0.4845366037388419,
          -2.194912043687986,
          -0.7756984698899517,
          -1.3574487346275346,
          0.03983018298548998,
          0.05185709310814145,
          -0.7122701207544192,
          0.07813718162105458,
          -2.648778152677785,
          0.21691078040123227,
          1.7395005105571983,
          -0.17815248902948663,
          -1.1590675785809508,
          1.491207041209449,
          -0.3767517653783265,
          -1.5054765755495423,
          -0.4072078096364494,
          -1.8873853824816802,
          -0.28983637598872974,
          -0.4005019288953971,
          -0.14950154980852612,
          0.17929086299169064,
          -0.8177255978610685,
          -2.581131565641815,
          -0.04055743611608555,
          0.8404572870837582,
          -0.28992421048031514,
          1.058358586172059,
          -1.2499795083071137,
          -0.6690870612469576,
          -2.4692717519338934,
          0.4831795783545645,
          -0.5286147479413235,
          -1.4068042059486867,
          0.5784676675878614,
          1.4988514761702205,
          0.6733215113708186,
          1.6975570460768046,
          1.3498123828721733,
          -0.5272064045965745,
          -0.07790044148522483,
          0.7027977276560274,
          0.18118791041900392,
          -0.40581528754138113,
          -0.5110975436150879,
          0.19364907991029498,
          1.3118393644453097,
          -1.566927706467981,
          0.9771444759974068,
          -0.45644333985008323,
          0.6273648571383749,
          -1.0657605029885349,
          -0.9585465786641109,
          0.4345868222116089,
          1.857134198498515,
          -0.9579140408150122,
          0.01667751651291276,
          0.899591456212276,
          -0.4025009718909837,
          -0.0818205699007817,
          0.45193088182940716,
          -0.12841627740642544,
          1.5542212596784177,
          0.8692262220121939,
          -0.14510994438752342,
          -0.39875785794495033,
          -1.142024090700702,
          0.05854526512047514,
          -0.3207190116184426,
          -0.02708731936429366,
          -1.4463789484788852,
          -0.25355466477458793,
          0.5601790853931786,
          -1.1119230722680913,
          0.9546585846963214,
          0.33575480356740234,
          1.1634697588667269,
          1.1184007012837256,
          0.6252153546314256,
          0.8204635201766781,
          -1.5059278718090243,
          0.7183000455737895,
          -1.0366438053447806,
          -0.010613063244050924,
          2.9879598074515763,
          -0.625930455972374,
          1.1872142422638823,
          1.1771962610123416,
          -0.3958883028823448,
          -0.4606529822120472,
          -1.5961451755653009,
          0.5757873791944773,
          0.29857323663153956,
          -0.20905148312688182,
          -0.6201309412156794,
          -0.5293008909111896,
          0.07270160035546597,
          0.5785313128436459,
          -0.4425125004384857,
          0.04282860719239529,
          0.3445911360528792,
          0.5094631200752404,
          0.41755670675241374,
          0.6095740369742351,
          0.26521038586641654,
          -1.39554445082604,
          0.5523519615397455,
          0.8586861215537892,
          -0.8087990536466173,
          0.799656382209907,
          1.0664973049860527,
          1.432875963352771,
          -0.2853452511359502,
          -0.005070919936246587,
          -2.1171599849917557,
          -0.10586842036663235,
          0.007644654779272729,
          0.12522661943999785,
          -1.8728462469553677,
          -0.12938539874598926,
          -0.26066514443049493,
          -1.339225326685826,
          0.16974065652181547,
          -0.07447379210106783,
          -0.5510018730277674,
          0.5553194442102276,
          1.9915985930876832,
          1.059198246016919,
          -1.1379465828949586,
          -0.35622199166442553,
          -0.3201391534777322,
          -1.3290981758892673,
          0.22156857541103236,
          0.19450566348125556,
          0.5542199152509518,
          -0.9509331535265151,
          0.31841841641387747,
          -0.95624833242967,
          0.7383373555163756,
          -0.8170970461814981,
          0.044837184972617614,
          -1.2855047078127293,
          0.4614769292144561,
          2.077409323026736,
          0.5915693949062424,
          0.06194647736764206,
          0.9905732704769993,
          0.7515584060310465,
          0.05647997653709893,
          1.587828505178268,
          1.0285408076708282,
          -0.09082889894762332,
          -1.4527649111682588,
          -1.2426107799083492,
          0.4725675020361748,
          -0.505594860755054,
          0.008017649652951164,
          -0.529208898543881,
          -0.6358501015630602,
          -0.7462681784331446,
          -0.26203108888394894,
          0.7671733418804092,
          -0.2736753420578841,
          0.08168489350315394,
          -0.8454653103499954,
          0.7388962725688223,
          0.21853067788881014,
          -0.18040296274929027,
          1.6163693334505034,
          -1.0470541772579363,
          1.291317018669517,
          -0.8081845939587202,
          0.8354659777288667,
          0.7452351619548933,
          -1.2179813195466345,
          -0.4315413768758629,
          -0.12477072055093075,
          -0.5718358609115664,
          -0.7416888546619571,
          1.7266077746653805,
          -0.13049490240463218,
          -0.937263523878344,
          0.37210738660334275,
          -0.01221021557420132,
          -0.6865814342511538,
          0.6565709533061997,
          -0.9390667334915304,
          2.0967069450349065,
          -0.1754073012987562,
          0.579814792407058,
          -0.5439242345569127,
          -0.6485103415505445,
          -0.5099418793345225,
          -0.9238230090570891,
          -0.5073002962813292,
          -0.4411882901799605,
          0.2540717995832832,
          0.315258417855806,
          -0.21702984959127383,
          -1.4347211173446368,
          0.4262294711088048,
          0.4138644596431318,
          0.8946614207709219,
          -0.1461794453230076,
          -1.7734615962465923,
          -0.11130639403991563,
          0.6294574851832903,
          0.9477087876222755,
          -1.1804758438230312,
          0.4498190323425728,
          0.15980745246294353,
          -0.055866897962085695,
          0.4153903059450497,
          0.41844702593937133,
          0.6510088159573599,
          0.2165161332569137,
          -0.602147663904282,
          0.10821020258936025,
          0.1534996626489041,
          0.4115617890812791,
          0.41118967747339613,
          -0.646067672249037,
          0.44118999750078697,
          -0.8996506338472297,
          1.2697610856403316,
          -0.4616785960708921,
          0.6826475663838227,
          0.46413047730048074,
          -0.08710248341714134,
          1.7374715229825233,
          1.2414457167484771
         ],
         "xaxis": "x",
         "y": [
          -0.5072450589913211,
          0.739617261127252,
          -0.06305001220120082,
          1.538652151002484,
          0.1568875338802001,
          -0.7126382046109205,
          1.5850039006786514,
          0.7378135169740897,
          0.146924786788348,
          -0.6484214929728429,
          1.3284753165802576,
          0.26305243213345386,
          0.9393590793846233,
          -1.0760605406810375,
          -0.0984316067599363,
          -1.374934245958413,
          -0.36911046016449395,
          1.2405207594387553,
          -0.415599869473942,
          -0.8743021082869187,
          1.1585229650662998,
          -2.42827057243409,
          1.5920880290525314,
          -0.886817675026379,
          0.05086437998291843,
          -0.16536275837567624,
          0.2516806334993808,
          -2.4297575527591495,
          -1.1871168382572075,
          -1.0821367965980098,
          1.158118515525409,
          -0.023834422446610683,
          -0.6715817126793318,
          0.1103216792848952,
          0.6511853734606091,
          -1.315412916087466,
          0.12545257085147893,
          0.8263376272923046,
          0.2961907790532154,
          -1.060632333016702,
          1.3301293761417856,
          -0.5286546417859476,
          -0.823692050062899,
          -1.1040599927361257,
          0.43659179158340233,
          0.3903000073079017,
          -0.21373637753750788,
          -1.0275217123267548,
          -0.030913919633788648,
          0.4637677167183002,
          0.7967895913890084,
          0.08371439820556321,
          -0.8257414694533721,
          0.6762824872416755,
          -1.0791181574331576,
          1.6128845505623834,
          0.5553859517920569,
          -0.00555998870813561,
          0.6137485275479316,
          0.3157071418420417,
          1.3655628857411686,
          -1.4859825975400454,
          0.7546083983905758,
          -0.7759923518181386,
          1.2367260382670726,
          -0.18393988271781006,
          1.2867029108184285,
          0.7996576383881709,
          -2.0650339071674813,
          0.3607074107001216,
          1.9998250550915386,
          -0.07977564439870843,
          0.2590516904592558,
          -0.9309832913110649,
          0.7104619117136748,
          0.8111115141673626,
          -0.52065954012103,
          0.021090303908270155,
          -0.59899976946529,
          -1.4154487982644612,
          -0.1490683955075191,
          -0.4051066073133136,
          0.9786927153409282,
          0.038890766746702936,
          -1.4926874846006042,
          -1.1547165691248076,
          1.3751441088718397,
          0.18072375858150738,
          1.850416441079333,
          0.7209570073512079,
          0.5947105380661114,
          -0.703029745184922,
          1.553700932978394,
          -0.04466185798516316,
          -1.017623273757575,
          -0.3898608905125611,
          -1.4133027552333712,
          0.03579786645892626,
          -0.22006576362911098,
          -0.28642836608937744,
          1.0612056717460194,
          -1.2192071657727919,
          1.3019965991434557,
          -0.35723771754652855,
          0.5239305885910438,
          2.2379157469310926,
          -0.6366110270076045,
          -1.4846889473826006,
          0.08045635889760407,
          1.0095551605932105,
          0.25336953066472556,
          -0.3023652920574816,
          -1.399320628088156,
          1.1729442583620524,
          -0.513534243830358,
          1.1603946051417913,
          -1.249704275084103,
          -0.9496549201279575,
          -0.7440501966290921,
          -0.9726137093214545,
          -0.8862253086855486,
          -0.28854310909556874,
          -0.8951242266264116,
          -0.24493797524187164,
          -0.3958923450566881,
          -0.39815849491192634,
          0.8224731999795836,
          -0.06872425332696189,
          -0.08351899136999907,
          -0.5677332333207468,
          -0.07435280005189365,
          0.7851832943135342,
          -0.006299647498052736,
          1.5040312729310448,
          1.9418868416094694,
          0.34669195184683654,
          1.4363617040741719,
          0.2345360752597741,
          -0.6007480130675557,
          0.5156376933951952,
          -0.08322609179206886,
          0.3585860110432822,
          -0.6620662234718686,
          -0.7922526241200954,
          -0.27923334676319084,
          0.8195096247978477,
          0.27320558756798596,
          -0.8368493348761918,
          0.330944927945134,
          1.7394746273292587,
          1.023784837916875,
          -0.49245403376878577,
          -0.7559187151461615,
          0.18209223731859794,
          -0.4609826572452865,
          1.1088040133733748,
          -0.9981770109646214,
          1.037221586948059,
          -0.14163103706097976,
          -0.0022869175731408857,
          -0.707245634136749,
          -0.07566253910883702,
          1.2732778653614416,
          1.0914455756283823,
          -0.27589574403796197,
          0.5962478233833634,
          0.11432027854136977,
          -0.6283151887194263,
          0.09725488568904689,
          1.108208131621036,
          0.580844736019509,
          0.3447049813966012,
          -0.10711849043738952,
          -0.8848136792244459,
          -1.0194752382574097,
          0.46283979845816026,
          0.11625014369539532,
          0.43146756836040295,
          0.6145850431692295,
          -1.5891018163239083,
          0.5281929548242896,
          -0.8618621756718994,
          -1.233223130429878,
          0.1466334409231929,
          1.4393201909794726,
          -0.08206486610460657,
          1.6142039069803342,
          -1.382478246295013,
          0.2072344946621832,
          0.18876324906495762,
          0.8455713143975719,
          -1.1533162614143218,
          -0.9298633222055416,
          0.42016531970616455,
          0.4965587720128556,
          -0.45663594841129046,
          1.0304530239797434,
          1.107717612172269,
          0.6443986989183602,
          -0.7403251255066113,
          -0.3501927445623041,
          -0.7711606708866483,
          -1.3396569124572664,
          0.244330695360417,
          -0.7453103257216755,
          0.02522118466263948,
          -0.12036487539714993,
          0.7975185713672189,
          0.7779814561486845,
          0.3231484949160834,
          -0.9650258418849282,
          0.6313164665581021,
          -0.08581367659056,
          -0.21272439546155963,
          -0.15641338875162514,
          -2.2473621112337447,
          -0.6341686866753661,
          -1.029909999571801,
          -0.09326677345465752,
          1.4992588320279465,
          0.5541149306855965,
          -1.4595917638914808,
          -0.8806820441093658,
          2.112062446664012,
          0.16894886918323196,
          -2.0415390564279634,
          1.0033607276176328,
          0.26299685085613633,
          0.510087348855876,
          1.1004605364532454,
          -0.259763308773941,
          -0.7559541580217941,
          -0.9290105882009908,
          -0.19123608954581317,
          -0.3850109282669738,
          -0.8058578011150661,
          -0.4948918455151525,
          -0.5769318747159712,
          1.0255234321860836,
          -0.5079029549258266,
          -0.24713982636907791,
          -1.74605545523337,
          -0.4139184467985082,
          0.655548318285962,
          1.1706430885461645,
          -0.7550096245942014,
          -0.05530363792414969,
          -0.26037926407585726,
          0.6003518284703192,
          0.4365738299428056,
          0.779016584439461,
          0.3034116093673884,
          -0.16652182701953247,
          -0.27550200074296166,
          -0.1890736359725683,
          -0.5646155123711631,
          0.544078901249578,
          -1.3797731250925311,
          0.41051682036716175,
          -1.4031662993724903,
          -0.21612650942448286,
          -1.2329324682564509,
          0.2216734819985931,
          -0.3122456906588035,
          -1.6560044197089077,
          -0.638165915787069,
          1.4937597722934925,
          0.6728808954844998,
          1.1622713068985957,
          -0.14984666868103916,
          -1.0553581697172605,
          0.5211887068046429,
          1.1383855689958258,
          1.3894182477484667,
          0.0207434451291847,
          -0.11949802380218237,
          0.09100341002685225,
          0.2575171467166964,
          0.6973408886832952,
          0.045131368021159496,
          1.0075108741478742,
          -1.25239403120847,
          -0.2003116975572803,
          0.6987076492161193,
          0.843615966839875,
          0.9674580831829053,
          -0.6729952873881332,
          -0.1946824457803251,
          0.25770594668657204,
          0.8499271898627905,
          -1.5204375980148528,
          -0.30791689148523554,
          1.0056822288832765,
          0.4379203150351584,
          -0.9751874459070359,
          0.4586098574629304,
          1.191289964948775,
          -1.352871598786114,
          -0.1258152218937405,
          -0.7172134330771907,
          -0.09032477953750255,
          -0.04216517725814113,
          -2.077963668498282,
          0.26412193230643866,
          -0.30406149552193146,
          -0.9256586340191677,
          -0.7711861090577729,
          -0.07456710102031776,
          1.1316019022712205,
          -0.2572022484900331,
          0.24192058170142233,
          -0.808129875067742,
          0.40050912903716185,
          -1.4672323290661111,
          -0.1797701769910259,
          0.796600502075087,
          1.2506934130713192,
          -2.2709252648937635,
          -1.072958804215276,
          -1.0408370978569959,
          0.7392278845794036,
          1.1076022045972904,
          1.1381812089237422,
          0.4746992313909125,
          -0.019912259194944083,
          1.2500104145922186,
          0.3051886656527575,
          -0.3707590265837691,
          -1.366886228949443,
          -1.0157012089839557,
          0.720229150053715,
          -1.7295193773186779,
          -0.2466257618082935,
          0.9524905037196656,
          0.15197905582625532,
          0.8834041659680659,
          1.683578824449946,
          1.5648643717805448,
          -0.013407888752998203,
          0.2445513094710317,
          0.007078370200115727,
          0.47584132629663844,
          1.453431380772573,
          -0.2026669240613555,
          1.1567246034149117,
          0.9851053769791268,
          1.6202424100097144,
          1.0093654534784178,
          1.0657207607825456,
          -1.9776642078485822,
          -0.36672420008419476,
          0.09343163113686662,
          -0.057159946231081164,
          0.46550901810056483,
          0.3498595618276944,
          -0.40761685822764065,
          -0.6532826149909782,
          0.07223831899126433,
          -0.759570148303028,
          0.9942598297558657,
          -0.4440166722003036,
          -0.6048273283163373,
          -1.4643819220950525,
          0.0032778475420562076,
          -0.25470252331670207,
          -0.3819194089390368,
          0.34628819468739963,
          -0.8232461072933638,
          0.1994575228938384,
          -0.9737377208413802,
          -0.407530283518198,
          0.4470683332882056,
          0.9323306911314133,
          -0.09124561426068946,
          -0.3445537698152549,
          -0.2520360903951341,
          -0.6430922349845294,
          -0.6095283518669431,
          0.08015004948181902,
          1.927937343281503,
          0.7924467253391552,
          0.3406820502900791,
          0.5655601293485274,
          -0.08193181725324765,
          -0.3205532180796182,
          -0.6412888619185543,
          -0.027710994873888763,
          -0.20833631686701984,
          -0.7431355238719529,
          -0.3822112281977001,
          1.472266398677785,
          -0.07618475200594178,
          -0.42095034647880597,
          -0.4397781888253926,
          0.2941195466826091,
          0.7981265105053511,
          -0.37154142100320864,
          0.7814889712819062,
          0.560099502155593,
          -1.0545710732102394,
          0.9719335234373384,
          -0.4999393780672414,
          -0.19825460403304415,
          1.3307510311445319,
          -0.011956362264417902,
          0.7190934217829784,
          -0.2784290760456472,
          -1.534266119404567,
          -1.7930499654937908,
          1.1607758078167343,
          -0.24856765977569362,
          0.1919501807586871,
          -0.6840635702779339,
          -0.3628290867726902,
          0.5210753148991567,
          0.1779690659140819,
          -0.4836457264369615,
          -0.9089165624185634,
          -2.019856099188754,
          0.9353969565751754,
          0.44425210881322247,
          0.8620435569028639,
          -0.8856570758970052,
          0.8526498734385215,
          0.9258605164739457,
          -0.8377046802783866,
          0.16330068925951916,
          0.1110115872007833,
          -0.5628616719180504,
          0.4335662787261089,
          1.007471992638514,
          0.16510764497348368,
          -0.40875861922515117,
          0.5974259130074532,
          -0.4858298874086007,
          -0.5868992446739659,
          0.8544024856838703,
          0.4438165889033255,
          -0.9796840787060024,
          0.3394397297066994,
          0.45815344793263174,
          -1.3568157411664943,
          -0.5947240413460132,
          0.4498606575958091,
          -0.6811074884276811,
          -2.0409440360432494,
          -0.7105170323884616,
          1.5936772575159839,
          -0.6310817223766839,
          0.14853963868787218,
          -0.17475066223726335,
          0.3394207122149253,
          0.04722060723017383,
          -1.1578152033842122,
          -0.5582311957564006,
          -0.6968904878234613,
          -0.7252414465038738,
          -2.2067493091058403,
          1.0641284261286545,
          -0.4284584827505978,
          0.0719290122785852,
          1.7501868252390405,
          0.6172429380173975,
          -0.9266117255855327,
          0.4199628546207163,
          -0.6844203467609892,
          0.18651644143226653,
          -1.300096538434666,
          -0.7490979816379112,
          -0.2623882663188859,
          -1.0834883984665744,
          -0.9001345847981191,
          -0.5213531981470367,
          -0.23351144350575,
          -0.19737935904815274,
          -0.7171588605642101,
          0.8421675860628075,
          -0.04412629248083057,
          0.795147588097876,
          -0.2114711001874307,
          -0.21410359163059325,
          -1.2509589864490223,
          -0.1662568117112184,
          -0.6859824589787821,
          -0.9774567631438938,
          1.2928577692124121,
          -0.015235317352684385,
          0.7918709723962855,
          -0.20861373935689145,
          1.0669438942171452,
          0.11072650565795106,
          -2.2076462834879247,
          -1.1120838950997252,
          0.5863503409782405,
          2.0546328883714033,
          -0.6140614961125609,
          -2.679206531708853,
          -1.3894745975552127,
          0.2861900011770005,
          2.440686560852274,
          0.24092165453867162,
          -0.20945350791988276,
          -0.802221726214688,
          -1.2124791900135232,
          -0.32077790093968606,
          0.23682435581913294,
          0.9728114619360274,
          0.6940574274526898,
          -1.28684432488834,
          -0.11932464043418001,
          0.30736153060955884,
          -0.9141419944344381,
          -0.5822824578927028,
          -0.5913440942779382,
          0.7466700662415375,
          0.22870547233638724,
          0.565408597255444,
          0.14127783650118578,
          -0.8355160853092861,
          1.137125661441608,
          -1.5602505361782288,
          0.3006511942529746,
          -0.8610005944572356,
          0.4959054559910132,
          1.7518671797813705,
          1.0241898812071957,
          -0.0431112772852502,
          -1.021737845564105,
          -1.0942502318771157,
          -0.6027970742673753,
          0.17905149996707545,
          -0.29591344996965063,
          -0.7010832481759954,
          -1.0775593732675968,
          -1.5535878795938294,
          -1.3657177200080206,
          -0.785380103805261,
          0.3720933258421986,
          -0.42427329594028146,
          -0.2395781743039141,
          0.5988647888390459,
          -0.11768233840662987,
          0.6815803474707042,
          -0.1664874386738995,
          0.8184308277399936,
          1.1527737729421068,
          1.2113954761826187,
          0.8088026589142423,
          -0.020767384337656403,
          -0.035766347447629104,
          0.2538171690979404,
          -1.2281512149900071,
          -0.04498909489368674,
          -0.5002527229394261,
          -0.0057525732171000744,
          -0.06522217792579603,
          -1.4407287784658147,
          1.3896197166798367,
          -0.10104417099570928,
          0.7245694402914437,
          0.888730198076734,
          -0.10831879895177586,
          -0.30637380168823874,
          -1.2941903294702461,
          -0.8815110192118202,
          0.37631798442139075,
          1.9474672356953355,
          1.216360400278351,
          0.7202911635539154,
          0.16401996749492012,
          -1.2180743837155412,
          0.08060415236998028,
          -0.6285524499339032,
          -0.6600851576116293,
          1.2153103165224202,
          -0.9573108561634996,
          -0.49805098103600276,
          0.6209400959305853,
          -1.0855734118429539,
          0.0905651626040218,
          -0.014542909419141683,
          0.010358910885481945,
          0.4270275594952655,
          -0.12030801458551023,
          0.15035006922832087,
          0.579701923307183,
          1.0754222504366688,
          1.445059219052428,
          -0.14344294024967255,
          0.6423356472821055,
          0.7338832236945892,
          1.884819496652313,
          -1.0710560679975152,
          -0.8366925604626487,
          -1.7521410631201841,
          0.3142119747024887,
          -1.2974494173991715,
          -0.13595687939455872,
          0.5987272812019929,
          -1.3831796180103804,
          1.4926102175788716,
          -0.9091749791036038,
          -0.1356975369027942,
          -1.2160489194837405,
          0.20027682191293938,
          -0.4806878327528266,
          0.3665888274192132,
          -1.4234602531740348,
          -1.2209187097779348,
          1.1324609349942583,
          -0.7475358485235476,
          0.35666587109544967,
          -0.5819747405779262,
          1.972585004302773,
          -0.7229961816858811,
          1.611083988083346,
          0.5476535238228676,
          -0.7272369803104564,
          -0.452561765943139,
          -0.25455871584625417,
          0.657112975196749,
          -0.44422978060363144,
          0.5976586604977233,
          0.15432316306471353,
          -1.3343063336111711,
          0.3070551780642177,
          -0.725797226005626,
          -1.7301618910339425,
          0.17314267419987728,
          0.09373377363588178,
          -0.7269861697072908,
          -0.46955874761710653,
          -0.9549560382480466,
          1.2281170323383088,
          1.0744464585626785,
          0.341389331106139,
          -0.08368209471358266,
          0.6391862548209815,
          -0.467661256658198,
          1.0502262851624535,
          -0.4501942935211725,
          -0.32652830291477475,
          0.78809611734416,
          -1.250691512063846,
          0.10459184502796498,
          -0.5403977319216013,
          0.8278277438293982,
          0.523207965822427,
          0.013430299327802899,
          -0.5853101507927018,
          2.3108818693556117,
          0.37283923915418016,
          0.9261405223112451,
          2.1709043096539076,
          1.202366354956429,
          0.7202705572951742,
          -0.38909386574300525,
          -0.4697076653796275,
          -0.6508378528647246,
          -1.60538059353009,
          -0.2524073831702897,
          0.9208148987066338,
          -0.4897524707676275,
          0.033160973175952214,
          0.45299415659775866,
          0.2927035288442242,
          0.8128192105396154,
          0.7978054951692821,
          -0.6854034718648053,
          -1.247462389741836,
          0.06780009449732918,
          0.10074023987386396,
          0.6688909970438659,
          0.7885133803304666,
          0.00010704173287405053,
          -1.8629836119503629,
          0.03351414252942276,
          -0.011903443521278874,
          -0.2260834960314316,
          1.2998218694106263,
          0.5740343494507967,
          2.2982221081895795,
          -0.8733595876535429,
          2.2232118909825025,
          -0.39579307505396205,
          0.3793399891289465,
          -0.44543979655325616,
          -0.22794209569049595,
          -0.24415025457606987,
          0.8792522328429637,
          -1.1314449109515592,
          -1.3224758596478212,
          -1.5691433065357765,
          -0.12417658817807435,
          -1.622638484710724,
          -0.20911028537437296,
          -0.4822088897711774,
          0.8950604722211677,
          1.0644624039894193,
          0.3152796611644776,
          -0.854462376618407,
          0.4051737299727414,
          0.6140132791065688,
          -1.0977736657746617,
          0.6863834860903448,
          0.9504176039230818,
          1.23572587520861,
          0.3896079208856805,
          0.12953470953739932,
          -0.13816043201243583,
          -0.4047427442852235,
          0.22512337725336676,
          0.6829251540264166,
          0.9860588042613442,
          -0.7140197321323445,
          -0.24789073766462977,
          1.0920031860254646,
          0.8016596188428425,
          0.5182080335825127,
          -0.054664183950607015,
          -0.26636009883954614,
          -0.41202710196693954,
          0.6989624035406915,
          -1.0053817101453095,
          -1.141108421553916,
          -0.26351657068872053,
          0.37290237209551,
          0.2584193857309165,
          0.36526686453771623,
          -0.1104095336173574,
          0.8678023340387796,
          0.21159569371313633,
          0.2748369110264804,
          0.6814893486306068,
          1.0194125670566294,
          0.3806762793976075,
          0.4119861351471475,
          -0.7359422393224969,
          0.9539625684956302,
          -1.2675054933188437,
          -1.3613561484188867,
          1.0262522215283418,
          0.21299018975112394,
          -0.12344349457283783,
          -0.4159916596696565,
          -0.3308014642672911,
          -0.13334282713759657,
          -0.9258167097895686,
          1.9128296717699045,
          -0.24444615579399487,
          -0.6028497548334882,
          0.619189736604895,
          1.6967533258327165,
          -0.12069082675360371,
          -0.8689378456235243,
          0.3378927994804301,
          0.19711343817936086,
          -0.790358761759752,
          -1.0276843700226508,
          -1.0208936356743927,
          -0.43402326755979564,
          -0.36922846864402536,
          0.11335367858423094,
          -0.4063462610349283,
          0.7091401376926045,
          0.005494341198066505,
          0.44971798741872737,
          0.22010793113440408,
          -0.6200438238399026,
          -0.04064110201667792,
          0.3070460765155828,
          0.38394924761979504,
          -0.19925533033682874,
          -0.30873527340980594,
          0.4711575126982186,
          0.5879634717701262,
          0.010917997380257338,
          0.8733689231097744,
          -0.20874424846740372,
          0.59368291084042,
          0.007629487917590861,
          -0.17059727231433014,
          -0.6122026766464725,
          1.0164696837598888,
          0.7629017300556943,
          1.756301829838777,
          0.9086984175787098,
          -0.18849205073202022,
          0.8795855089091028,
          -0.07455759850960143,
          0.928243164868483,
          -2.3682029537373612,
          0.017747183626972425,
          -1.1902925330444794,
          0.44855459076801824,
          -0.021894354278229795,
          0.37763356097590134,
          0.4264126741239047,
          -0.5807917800396352,
          -0.19874517978242828,
          -0.2647603268596229,
          0.5748320527323191,
          0.33598983079166145,
          0.34343737417513337,
          0.5712823843779705,
          -0.4899305722279035,
          0.04311416097613356,
          0.34068381081046933,
          -0.7079386339487486,
          1.0701807121267906,
          -0.11346302681151677,
          -0.16064739413690263,
          -0.550643575079184,
          -0.8234371817290713,
          -1.4940887632261308,
          -0.24928550401090127,
          -1.3420954606510118,
          -0.13408937227442097,
          -1.8670222379621713,
          -0.9614270366706699,
          -0.5995714482097563,
          -0.3190966888257822,
          0.5329697424523774,
          0.15043240261737564,
          -0.6941795456895957,
          -0.11566655474807483,
          -0.1372073111156238,
          -0.5594013708698244,
          0.21600033597922733,
          -1.8201602519729085,
          0.8103410342310388,
          -0.4991582415478567,
          0.620118359137689,
          -1.0738804061651377,
          0.06692760136568854,
          0.04203702521062278,
          -0.939043469785334,
          -0.11038819102603094,
          -0.32446572421982683,
          -0.7948343895366179,
          0.8847389189791459,
          -1.3212490000043131,
          1.9738552236313447,
          -0.011458643250104152,
          0.8348779880693176,
          0.3165677002482694,
          0.6205439005784099,
          -0.5725027567641688,
          0.8410764186561087,
          1.0462940854345626,
          0.12778989857318274,
          -0.5129151736224434,
          -0.2371517920676159,
          -0.739416558236967,
          0.01747999407540841,
          -1.335193547092984,
          -0.20276930398754517,
          -0.6429976170634825,
          -1.3401937439881924,
          -1.1674790842361815,
          0.6053599849573242,
          0.6108371849314037,
          1.9991654102334437,
          0.439995862517697,
          -1.5879226612087718,
          1.5527289608329848,
          1.0225159694823613,
          0.4816547063030736,
          0.03687921254011856,
          -0.877601105323109,
          0.25455825003168614,
          0.17681958915056004,
          0.09905884975785469,
          -0.7195357004111234,
          -0.23148519740905513,
          -1.0925458915052026,
          1.453978730872341,
          0.1510209130462448,
          0.013484781256330496,
          -0.5147749542892897,
          -0.8922409257388519,
          1.3173835173348583,
          -0.2197584256998969,
          -0.32532758424855174,
          -0.20185980712996118,
          0.5753827127468192,
          -1.1205642161563734,
          -0.5471053152479464,
          0.9154081539177729,
          1.3021015758054106,
          -1.43050737365558,
          -0.1620848359573072,
          -0.06114124207758263,
          0.5063290380440717,
          0.6347326571104941,
          -0.7996305804357814,
          -0.5845238675244991,
          0.38949992351737067,
          1.453992752986287,
          -0.9466392886807089,
          -0.8054374915789253,
          -0.4538712456736169,
          0.27821165708565604,
          0.47728451131528504,
          0.6403507893696815,
          -0.7138353621149987,
          -0.14595382625186104,
          0.20560229813123584,
          0.231950786814327,
          1.3481656417541465,
          -0.18767581148189746,
          -0.4404249342074757,
          -0.5208787275480362,
          0.09619791592579215,
          -0.7376337681091315,
          0.045040377319637635,
          -0.12701523164740564,
          0.4448650840577266,
          0.5933366639081469,
          -0.2993595798385505,
          -0.2313772225280304,
          1.700523967118787,
          -0.5202488666728375,
          -0.812639835257784,
          -0.7500411886868534,
          0.0873853555150382,
          -0.009955573452684748,
          0.3259138779104109,
          1.0424009518448565,
          0.11696484361667601,
          -0.6211827545072924,
          0.3026578928376483,
          -0.7126361952556057,
          0.5032227086556101,
          0.6100342665357555,
          0.49674594919044995,
          0.09242502790431123,
          -0.6505178710333834,
          0.5280773146052515,
          -0.04498227689298525,
          -0.6507712808572584,
          0.9403351999942825,
          0.4378552089453779,
          0.34615269797371534,
          -0.6473073561998717,
          0.012210024745957166,
          0.8739026046876707,
          0.32446383610215884,
          0.03498631179170758,
          0.6861287126437611,
          -1.3695658802074746,
          0.5652446346500916,
          0.3882082454150937,
          0.7473164342096738,
          1.2961350875914912,
          -1.369846807327918,
          -0.2895181891703736,
          0.07141462435094094,
          -0.975457034791433,
          0.6332632469112647,
          -1.7385317613187279,
          -0.5062933838143044,
          -1.1038272045314828,
          -0.5988671961759418,
          -0.09240270191154468,
          -0.04457644913917755,
          1.1728948977169267,
          -0.511141736350028,
          -0.6172451248601802,
          0.5271080705457665,
          -0.5534692802450615,
          -1.0445417525027372,
          0.028563352365667326,
          -0.24570077210793836,
          1.1540549336016486,
          -1.3253201783700421,
          -0.42580760549856383,
          -0.045791503329561736,
          0.8774435936296391,
          1.5010174193973131,
          0.44989377381565443,
          0.31515692349630975,
          -0.3729227117452449,
          0.29193558894330107,
          -0.6288366391519821,
          0.12619821953445784,
          -0.36983471628080955,
          -0.3946591453331223,
          0.45429071477596905,
          1.072442286110765,
          -0.6151574122565464,
          0.5771351175420171,
          0.12473404604641741,
          1.1343781160509103,
          0.6208832156587653,
          0.15447409961173816,
          0.4235685532292474,
          -0.7471310246132264,
          0.2450785006979974,
          1.0870476549895571
         ],
         "yaxis": "y"
        }
       ],
       "layout": {
        "coloraxis": {
         "colorbar": {
          "title": {
           "text": "hitability"
          }
         },
         "colorscale": [
          [
           0,
           "#0d0887"
          ],
          [
           0.1111111111111111,
           "#46039f"
          ],
          [
           0.2222222222222222,
           "#7201a8"
          ],
          [
           0.3333333333333333,
           "#9c179e"
          ],
          [
           0.4444444444444444,
           "#bd3786"
          ],
          [
           0.5555555555555556,
           "#d8576b"
          ],
          [
           0.6666666666666666,
           "#ed7953"
          ],
          [
           0.7777777777777778,
           "#fb9f3a"
          ],
          [
           0.8888888888888888,
           "#fdca26"
          ],
          [
           1,
           "#f0f921"
          ]
         ]
        },
        "legend": {
         "tracegroupgap": 0
        },
        "template": {
         "data": {
          "bar": [
           {
            "error_x": {
             "color": "#2a3f5f"
            },
            "error_y": {
             "color": "#2a3f5f"
            },
            "marker": {
             "line": {
              "color": "#E5ECF6",
              "width": 0.5
             },
             "pattern": {
              "fillmode": "overlay",
              "size": 10,
              "solidity": 0.2
             }
            },
            "type": "bar"
           }
          ],
          "barpolar": [
           {
            "marker": {
             "line": {
              "color": "#E5ECF6",
              "width": 0.5
             },
             "pattern": {
              "fillmode": "overlay",
              "size": 10,
              "solidity": 0.2
             }
            },
            "type": "barpolar"
           }
          ],
          "carpet": [
           {
            "aaxis": {
             "endlinecolor": "#2a3f5f",
             "gridcolor": "white",
             "linecolor": "white",
             "minorgridcolor": "white",
             "startlinecolor": "#2a3f5f"
            },
            "baxis": {
             "endlinecolor": "#2a3f5f",
             "gridcolor": "white",
             "linecolor": "white",
             "minorgridcolor": "white",
             "startlinecolor": "#2a3f5f"
            },
            "type": "carpet"
           }
          ],
          "choropleth": [
           {
            "colorbar": {
             "outlinewidth": 0,
             "ticks": ""
            },
            "type": "choropleth"
           }
          ],
          "contour": [
           {
            "colorbar": {
             "outlinewidth": 0,
             "ticks": ""
            },
            "colorscale": [
             [
              0,
              "#0d0887"
             ],
             [
              0.1111111111111111,
              "#46039f"
             ],
             [
              0.2222222222222222,
              "#7201a8"
             ],
             [
              0.3333333333333333,
              "#9c179e"
             ],
             [
              0.4444444444444444,
              "#bd3786"
             ],
             [
              0.5555555555555556,
              "#d8576b"
             ],
             [
              0.6666666666666666,
              "#ed7953"
             ],
             [
              0.7777777777777778,
              "#fb9f3a"
             ],
             [
              0.8888888888888888,
              "#fdca26"
             ],
             [
              1,
              "#f0f921"
             ]
            ],
            "type": "contour"
           }
          ],
          "contourcarpet": [
           {
            "colorbar": {
             "outlinewidth": 0,
             "ticks": ""
            },
            "type": "contourcarpet"
           }
          ],
          "heatmap": [
           {
            "colorbar": {
             "outlinewidth": 0,
             "ticks": ""
            },
            "colorscale": [
             [
              0,
              "#0d0887"
             ],
             [
              0.1111111111111111,
              "#46039f"
             ],
             [
              0.2222222222222222,
              "#7201a8"
             ],
             [
              0.3333333333333333,
              "#9c179e"
             ],
             [
              0.4444444444444444,
              "#bd3786"
             ],
             [
              0.5555555555555556,
              "#d8576b"
             ],
             [
              0.6666666666666666,
              "#ed7953"
             ],
             [
              0.7777777777777778,
              "#fb9f3a"
             ],
             [
              0.8888888888888888,
              "#fdca26"
             ],
             [
              1,
              "#f0f921"
             ]
            ],
            "type": "heatmap"
           }
          ],
          "heatmapgl": [
           {
            "colorbar": {
             "outlinewidth": 0,
             "ticks": ""
            },
            "colorscale": [
             [
              0,
              "#0d0887"
             ],
             [
              0.1111111111111111,
              "#46039f"
             ],
             [
              0.2222222222222222,
              "#7201a8"
             ],
             [
              0.3333333333333333,
              "#9c179e"
             ],
             [
              0.4444444444444444,
              "#bd3786"
             ],
             [
              0.5555555555555556,
              "#d8576b"
             ],
             [
              0.6666666666666666,
              "#ed7953"
             ],
             [
              0.7777777777777778,
              "#fb9f3a"
             ],
             [
              0.8888888888888888,
              "#fdca26"
             ],
             [
              1,
              "#f0f921"
             ]
            ],
            "type": "heatmapgl"
           }
          ],
          "histogram": [
           {
            "marker": {
             "pattern": {
              "fillmode": "overlay",
              "size": 10,
              "solidity": 0.2
             }
            },
            "type": "histogram"
           }
          ],
          "histogram2d": [
           {
            "colorbar": {
             "outlinewidth": 0,
             "ticks": ""
            },
            "colorscale": [
             [
              0,
              "#0d0887"
             ],
             [
              0.1111111111111111,
              "#46039f"
             ],
             [
              0.2222222222222222,
              "#7201a8"
             ],
             [
              0.3333333333333333,
              "#9c179e"
             ],
             [
              0.4444444444444444,
              "#bd3786"
             ],
             [
              0.5555555555555556,
              "#d8576b"
             ],
             [
              0.6666666666666666,
              "#ed7953"
             ],
             [
              0.7777777777777778,
              "#fb9f3a"
             ],
             [
              0.8888888888888888,
              "#fdca26"
             ],
             [
              1,
              "#f0f921"
             ]
            ],
            "type": "histogram2d"
           }
          ],
          "histogram2dcontour": [
           {
            "colorbar": {
             "outlinewidth": 0,
             "ticks": ""
            },
            "colorscale": [
             [
              0,
              "#0d0887"
             ],
             [
              0.1111111111111111,
              "#46039f"
             ],
             [
              0.2222222222222222,
              "#7201a8"
             ],
             [
              0.3333333333333333,
              "#9c179e"
             ],
             [
              0.4444444444444444,
              "#bd3786"
             ],
             [
              0.5555555555555556,
              "#d8576b"
             ],
             [
              0.6666666666666666,
              "#ed7953"
             ],
             [
              0.7777777777777778,
              "#fb9f3a"
             ],
             [
              0.8888888888888888,
              "#fdca26"
             ],
             [
              1,
              "#f0f921"
             ]
            ],
            "type": "histogram2dcontour"
           }
          ],
          "mesh3d": [
           {
            "colorbar": {
             "outlinewidth": 0,
             "ticks": ""
            },
            "type": "mesh3d"
           }
          ],
          "parcoords": [
           {
            "line": {
             "colorbar": {
              "outlinewidth": 0,
              "ticks": ""
             }
            },
            "type": "parcoords"
           }
          ],
          "pie": [
           {
            "automargin": true,
            "type": "pie"
           }
          ],
          "scatter": [
           {
            "fillpattern": {
             "fillmode": "overlay",
             "size": 10,
             "solidity": 0.2
            },
            "type": "scatter"
           }
          ],
          "scatter3d": [
           {
            "line": {
             "colorbar": {
              "outlinewidth": 0,
              "ticks": ""
             }
            },
            "marker": {
             "colorbar": {
              "outlinewidth": 0,
              "ticks": ""
             }
            },
            "type": "scatter3d"
           }
          ],
          "scattercarpet": [
           {
            "marker": {
             "colorbar": {
              "outlinewidth": 0,
              "ticks": ""
             }
            },
            "type": "scattercarpet"
           }
          ],
          "scattergeo": [
           {
            "marker": {
             "colorbar": {
              "outlinewidth": 0,
              "ticks": ""
             }
            },
            "type": "scattergeo"
           }
          ],
          "scattergl": [
           {
            "marker": {
             "colorbar": {
              "outlinewidth": 0,
              "ticks": ""
             }
            },
            "type": "scattergl"
           }
          ],
          "scattermapbox": [
           {
            "marker": {
             "colorbar": {
              "outlinewidth": 0,
              "ticks": ""
             }
            },
            "type": "scattermapbox"
           }
          ],
          "scatterpolar": [
           {
            "marker": {
             "colorbar": {
              "outlinewidth": 0,
              "ticks": ""
             }
            },
            "type": "scatterpolar"
           }
          ],
          "scatterpolargl": [
           {
            "marker": {
             "colorbar": {
              "outlinewidth": 0,
              "ticks": ""
             }
            },
            "type": "scatterpolargl"
           }
          ],
          "scatterternary": [
           {
            "marker": {
             "colorbar": {
              "outlinewidth": 0,
              "ticks": ""
             }
            },
            "type": "scatterternary"
           }
          ],
          "surface": [
           {
            "colorbar": {
             "outlinewidth": 0,
             "ticks": ""
            },
            "colorscale": [
             [
              0,
              "#0d0887"
             ],
             [
              0.1111111111111111,
              "#46039f"
             ],
             [
              0.2222222222222222,
              "#7201a8"
             ],
             [
              0.3333333333333333,
              "#9c179e"
             ],
             [
              0.4444444444444444,
              "#bd3786"
             ],
             [
              0.5555555555555556,
              "#d8576b"
             ],
             [
              0.6666666666666666,
              "#ed7953"
             ],
             [
              0.7777777777777778,
              "#fb9f3a"
             ],
             [
              0.8888888888888888,
              "#fdca26"
             ],
             [
              1,
              "#f0f921"
             ]
            ],
            "type": "surface"
           }
          ],
          "table": [
           {
            "cells": {
             "fill": {
              "color": "#EBF0F8"
             },
             "line": {
              "color": "white"
             }
            },
            "header": {
             "fill": {
              "color": "#C8D4E3"
             },
             "line": {
              "color": "white"
             }
            },
            "type": "table"
           }
          ]
         },
         "layout": {
          "annotationdefaults": {
           "arrowcolor": "#2a3f5f",
           "arrowhead": 0,
           "arrowwidth": 1
          },
          "autotypenumbers": "strict",
          "coloraxis": {
           "colorbar": {
            "outlinewidth": 0,
            "ticks": ""
           }
          },
          "colorscale": {
           "diverging": [
            [
             0,
             "#8e0152"
            ],
            [
             0.1,
             "#c51b7d"
            ],
            [
             0.2,
             "#de77ae"
            ],
            [
             0.3,
             "#f1b6da"
            ],
            [
             0.4,
             "#fde0ef"
            ],
            [
             0.5,
             "#f7f7f7"
            ],
            [
             0.6,
             "#e6f5d0"
            ],
            [
             0.7,
             "#b8e186"
            ],
            [
             0.8,
             "#7fbc41"
            ],
            [
             0.9,
             "#4d9221"
            ],
            [
             1,
             "#276419"
            ]
           ],
           "sequential": [
            [
             0,
             "#0d0887"
            ],
            [
             0.1111111111111111,
             "#46039f"
            ],
            [
             0.2222222222222222,
             "#7201a8"
            ],
            [
             0.3333333333333333,
             "#9c179e"
            ],
            [
             0.4444444444444444,
             "#bd3786"
            ],
            [
             0.5555555555555556,
             "#d8576b"
            ],
            [
             0.6666666666666666,
             "#ed7953"
            ],
            [
             0.7777777777777778,
             "#fb9f3a"
            ],
            [
             0.8888888888888888,
             "#fdca26"
            ],
            [
             1,
             "#f0f921"
            ]
           ],
           "sequentialminus": [
            [
             0,
             "#0d0887"
            ],
            [
             0.1111111111111111,
             "#46039f"
            ],
            [
             0.2222222222222222,
             "#7201a8"
            ],
            [
             0.3333333333333333,
             "#9c179e"
            ],
            [
             0.4444444444444444,
             "#bd3786"
            ],
            [
             0.5555555555555556,
             "#d8576b"
            ],
            [
             0.6666666666666666,
             "#ed7953"
            ],
            [
             0.7777777777777778,
             "#fb9f3a"
            ],
            [
             0.8888888888888888,
             "#fdca26"
            ],
            [
             1,
             "#f0f921"
            ]
           ]
          },
          "colorway": [
           "#636efa",
           "#EF553B",
           "#00cc96",
           "#ab63fa",
           "#FFA15A",
           "#19d3f3",
           "#FF6692",
           "#B6E880",
           "#FF97FF",
           "#FECB52"
          ],
          "font": {
           "color": "#2a3f5f"
          },
          "geo": {
           "bgcolor": "white",
           "lakecolor": "white",
           "landcolor": "#E5ECF6",
           "showlakes": true,
           "showland": true,
           "subunitcolor": "white"
          },
          "hoverlabel": {
           "align": "left"
          },
          "hovermode": "closest",
          "mapbox": {
           "style": "light"
          },
          "paper_bgcolor": "white",
          "plot_bgcolor": "#E5ECF6",
          "polar": {
           "angularaxis": {
            "gridcolor": "white",
            "linecolor": "white",
            "ticks": ""
           },
           "bgcolor": "#E5ECF6",
           "radialaxis": {
            "gridcolor": "white",
            "linecolor": "white",
            "ticks": ""
           }
          },
          "scene": {
           "xaxis": {
            "backgroundcolor": "#E5ECF6",
            "gridcolor": "white",
            "gridwidth": 2,
            "linecolor": "white",
            "showbackground": true,
            "ticks": "",
            "zerolinecolor": "white"
           },
           "yaxis": {
            "backgroundcolor": "#E5ECF6",
            "gridcolor": "white",
            "gridwidth": 2,
            "linecolor": "white",
            "showbackground": true,
            "ticks": "",
            "zerolinecolor": "white"
           },
           "zaxis": {
            "backgroundcolor": "#E5ECF6",
            "gridcolor": "white",
            "gridwidth": 2,
            "linecolor": "white",
            "showbackground": true,
            "ticks": "",
            "zerolinecolor": "white"
           }
          },
          "shapedefaults": {
           "line": {
            "color": "#2a3f5f"
           }
          },
          "ternary": {
           "aaxis": {
            "gridcolor": "white",
            "linecolor": "white",
            "ticks": ""
           },
           "baxis": {
            "gridcolor": "white",
            "linecolor": "white",
            "ticks": ""
           },
           "bgcolor": "#E5ECF6",
           "caxis": {
            "gridcolor": "white",
            "linecolor": "white",
            "ticks": ""
           }
          },
          "title": {
           "x": 0.05
          },
          "xaxis": {
           "automargin": true,
           "gridcolor": "white",
           "linecolor": "white",
           "ticks": "",
           "title": {
            "standoff": 15
           },
           "zerolinecolor": "white",
           "zerolinewidth": 2
          },
          "yaxis": {
           "automargin": true,
           "gridcolor": "white",
           "linecolor": "white",
           "ticks": "",
           "title": {
            "standoff": 15
           },
           "zerolinecolor": "white",
           "zerolinewidth": 2
          }
         }
        },
        "title": {
         "text": "Location"
        },
        "xaxis": {
         "anchor": "y",
         "domain": [
          0,
          1
         ],
         "title": {
          "text": "x"
         }
        },
        "yaxis": {
         "anchor": "x",
         "domain": [
          0,
          1
         ],
         "title": {
          "text": "y"
         }
        }
       }
      }
     },
     "metadata": {},
     "output_type": "display_data"
    }
   ],
   "source": [
    "\n",
    "pitch_data.show_scatter(\"x\", \"y\", \"Location\", color='hitability')"
   ]
  },
  {
   "cell_type": "code",
   "execution_count": null,
   "metadata": {},
   "outputs": [
    {
     "data": {
      "application/vnd.plotly.v1+json": {
       "config": {
        "plotlyServerURL": "https://plot.ly"
       },
       "data": [
        {
         "alignmentgroup": "True",
         "bingroup": "x",
         "hovertemplate": "variable=x<br>value=%{x}<br>count=%{y}<extra></extra>",
         "legendgroup": "x",
         "marker": {
          "color": "#636efa",
          "pattern": {
           "shape": ""
          }
         },
         "name": "x",
         "offsetgroup": "x",
         "orientation": "v",
         "showlegend": true,
         "type": "histogram",
         "x": [
          -0.42917490161908045,
          -1.8171234220335766,
          -1.3713918328869559,
          -1.3108187676764405,
          -0.33639787278715144,
          -0.5639538977146695,
          0.4981524165045869,
          -0.3562524009504393,
          -0.08032397702413065,
          1.6938870597059377,
          -0.4908640271748617,
          -0.25780159863518554,
          0.6651119923062914,
          0.6597289178481401,
          0.017159025817382344,
          0.3285010389506552,
          -0.02738663145198522,
          0.07527955848602431,
          -0.6865179257620087,
          -1.0630433481040489,
          -1.3994328696103964,
          0.004870432458998295,
          0.12175916236324281,
          2.0795460003570088,
          -0.44097969067038395,
          0.39411888497628395,
          0.021327104570544108,
          -2.3733055423743536,
          0.5316239034884749,
          -0.8470504266396666,
          1.2213701663879892,
          1.5471698892978307,
          0.6232449242736676,
          -0.5963199152713867,
          1.1400336077661464,
          -0.4341393837023311,
          0.4571683090549348,
          -1.1592048239429291,
          -1.8345295483314557,
          1.319582916813405,
          1.3701118671482508,
          0.8419785226330256,
          -0.6143235428564051,
          -1.722740420386011,
          -0.3372168441860559,
          0.3524818633725881,
          0.3021819465359367,
          0.7034027192779481,
          1.0756240056557655,
          -1.0198355303046487,
          -1.2260295070114644,
          -0.16975296827598088,
          -0.42067275419831124,
          -0.46128509739060614,
          1.5335775703022543,
          -0.9731751891225793,
          -1.56056114357962,
          -1.1213781154267632,
          1.0983031115341773,
          0.1294192477442831,
          -0.0012554655762060012,
          0.44584898249980087,
          0.988984705693332,
          -0.9133839257548031,
          0.19492055197242408,
          0.41470766763770806,
          1.181894716950087,
          -0.9038339046164506,
          -0.24888263677186723,
          1.097701220480737,
          0.08297283837058893,
          1.9699277565082691,
          0.49557834775483034,
          0.5623678533374517,
          0.27355410471899927,
          0.683947292991583,
          -0.45378260678258303,
          1.1742787902969207,
          -0.5740875395540094,
          -0.5246557965484062,
          -0.11336975317168803,
          0.06564979284689292,
          0.37222258070495196,
          0.5744895327351579,
          0.725196105016802,
          0.3505778154687962,
          -0.198292942921194,
          -0.9844098666328133,
          0.5201780028605401,
          0.4065583164205595,
          -0.7125047906235314,
          -0.5824578542366549,
          0.9068249869887359,
          -0.5809651267711883,
          0.6130845198307268,
          1.2535984299601135,
          -1.1822902836824882,
          -1.5128706328210302,
          0.9498066550805583,
          -0.18720880956231142,
          2.682568673641023,
          1.2527667008438554,
          0.7146000279194268,
          -0.13800546579515818,
          0.8380190981467893,
          0.527936736001448,
          1.7747534400194886,
          -1.8112823832523328,
          0.43476110450347527,
          1.5473703854941834,
          -0.15886595064416123,
          -1.3856338670369197,
          -1.5133306938226154,
          0.27202717511498675,
          -0.12860102566121037,
          0.0823751524790431,
          1.491457047669575,
          0.029070033381346696,
          0.9928424220370721,
          1.719907801679543,
          1.135417161706944,
          -0.07009376924051959,
          -0.34026540751457224,
          -0.04283866036839865,
          0.9542397624258312,
          0.019631263749194015,
          -1.066600375862027,
          -1.5653520218288823,
          1.0568756751855866,
          -0.5212880787704754,
          -0.12734012276793502,
          0.33167254828508747,
          1.7166382119932686,
          -0.6879307951725031,
          -0.6570012187111435,
          -0.7815634469255532,
          -1.0581721966912303,
          -1.4146302392296037,
          0.26190351639759746,
          -0.2591234105834774,
          -0.34197419814223806,
          -1.5122618397078278,
          1.226798782778709,
          1.4124798920631467,
          0.3937169540337324,
          0.01949986080323676,
          0.479063855461701,
          0.07348738174341195,
          -0.9344696203902663,
          0.2789780809293189,
          1.1969739661401164,
          -1.2510331830977572,
          0.24580795622944357,
          0.12504691672231258,
          -0.2473374302271525,
          -0.358192085054394,
          -1.8035310192270424,
          0.9207019317978319,
          2.2589587310537325,
          -0.2753378839089034,
          0.16087439853416247,
          0.1836690716170604,
          -1.3603366759884326,
          -2.240857340199932,
          -0.11859288071726914,
          0.7596870355853057,
          -1.364086826994038,
          -0.24863089716661793,
          0.05335889269879116,
          0.07744764486261818,
          -0.018704900077565232,
          -0.8644983987795822,
          0.9243791797432729,
          1.5465693346980232,
          0.3176696539223253,
          0.19342998596985725,
          -0.7905497113651266,
          2.626738676231568,
          -0.836946535123019,
          0.4522495951343361,
          -1.5182538058931077,
          -1.121184059667952,
          1.368706969488735,
          -0.7946771285890277,
          0.26123970902602744,
          0.48840311201543524,
          -0.10176323472672863,
          0.46673177354817674,
          0.34462393795144136,
          0.5019295030808966,
          0.03754183076643782,
          0.49498634232097916,
          -1.0928733687284575,
          1.152516595005957,
          -0.025059742439390326,
          0.49654042370706847,
          -1.125642812946958,
          -1.3435667259802635,
          0.06781411550015376,
          -0.8738703328090891,
          0.5064018573514215,
          1.5936120723264153,
          -0.880810215768828,
          -0.21209764854219684,
          0.6493246321753927,
          0.22139638370923428,
          -1.6458034267332646,
          0.006885050917354484,
          0.08037562376368675,
          -0.07548130701858732,
          -0.9509789951555017,
          2.2018858928044605,
          -0.09110860726680532,
          -1.061770502632386,
          0.5272862472958658,
          1.0577442581629077,
          -0.9561057857165013,
          -0.640943351221413,
          -0.06576772692358561,
          0.7395113327759103,
          0.26012394033094366,
          0.9784067102326585,
          -0.4433319345742211,
          -0.17784006242528363,
          -0.5218577387108472,
          0.16328051322543494,
          0.8898426222835,
          1.4216785387553863,
          -0.44679812819771103,
          -0.5238392484719444,
          0.3437619054865861,
          0.08029376791923316,
          0.0896021277485759,
          -1.1265806406974495,
          -1.3301837520761275,
          -0.9019581627990371,
          0.3323965165609462,
          1.134471316128377,
          0.11008991795362497,
          1.4802537181319775,
          -0.03119651224764725,
          0.5975016678173957,
          -1.2579403092008816,
          -1.0096359931109131,
          1.0915718119597604,
          -0.41795842569079644,
          0.16865833172142325,
          0.42425557945737236,
          0.13330423145723375,
          0.2984450541856716,
          1.3704641987393489,
          1.7097078128509722,
          0.21656420340468308,
          -0.17767042726085933,
          0.10306581279436144,
          0.3135739311835693,
          0.06512589401961767,
          0.5288275681064356,
          -0.8209240023073732,
          0.029146607712908154,
          0.45526588534144014,
          -0.9269024479781964,
          0.5717007133661975,
          -0.8888502756632273,
          0.7179050065662188,
          0.884525683722543,
          2.042664355299413,
          -0.2525446174697315,
          -0.08192125609265596,
          -0.3683048841472962,
          1.110908494478128,
          -0.6760308944908605,
          -1.2566229812874659,
          0.77282571573497,
          0.6673191233373267,
          1.4373962319777636,
          0.2673991397848111,
          -0.10258776718814086,
          -1.5526207409558748,
          0.11519876690480212,
          -0.07059388944244055,
          -0.014374534207693544,
          0.4476957351844128,
          0.6800827087939223,
          -0.7144878840577956,
          -0.9918979059883697,
          -0.550436388008405,
          -0.8736939001862968,
          0.03287113977391086,
          0.28869841743192426,
          0.5302544245999423,
          -0.3726946398253392,
          0.3893135159017593,
          -0.28420697680439766,
          0.09846731138360709,
          -0.9435484025896801,
          -0.8980998823339504,
          -0.23348264393113113,
          -0.2726401859920814,
          0.012310510354892477,
          0.3420740751077927,
          0.16796213563249376,
          0.5870203482854688,
          -0.3991941602185694,
          -0.6476638241447913,
          -1.2564182825556982,
          1.004510050992587,
          -0.07483280753609468,
          0.6930246480997156,
          0.7803694864670767,
          -0.7287461049000584,
          -0.5565265677799703,
          -0.7606224531020894,
          1.4897990317385912,
          -0.46252801975061164,
          0.1743395316516532,
          1.147380842320284,
          -1.1708778075620454,
          -0.8383878679475255,
          -1.4290721215836095,
          0.5634091972394517,
          -0.29579982314312,
          -0.6625124742637132,
          0.7899980739739966,
          -0.27653521249466106,
          -0.4003302288243509,
          1.0409198633648358,
          -0.6402607477628044,
          0.0890309485132197,
          0.9309557882790648,
          -1.1768784836687785,
          1.3637521524728604,
          0.1335518939443979,
          -0.6086812542118355,
          -0.22297449702902986,
          1.5999540081928123,
          -1.4474352493827534,
          0.15985191795980108,
          1.0750570608168906,
          -0.8348703308936658,
          -0.20188327014514296,
          1.3912805863176667,
          -1.0544699516191796,
          -1.3425322419402932,
          -0.3335946645418276,
          2.307392997844074,
          -0.987369982648804,
          0.47913643143914086,
          0.3087908543320751,
          0.6061550592436654,
          -0.8043170058759678,
          -0.4865220560508694,
          0.14842638334948607,
          0.24644634300370935,
          0.7127308182434452,
          -0.4975792239678315,
          0.4910618267689011,
          -0.17968527803635234,
          1.240377292631173,
          -0.6815824361688477,
          -1.5747063050490344,
          0.4879030634807556,
          -0.42105032250075974,
          0.08116676523744984,
          -0.8207537001690505,
          -0.5715185373854768,
          0.38455605591622827,
          -1.2863872948156687,
          0.34249714126970066,
          -0.1002037658091883,
          1.6754176305279598,
          0.5578335157866126,
          1.1012079607072913,
          0.6218685350986686,
          -1.2748132639841667,
          0.01627764332174618,
          -0.4755905752193743,
          1.2354681302346655,
          0.8235239685765211,
          0.9068788789428974,
          0.5016476807304006,
          0.40851007286941665,
          0.35606438453712164,
          1.7403926034638086,
          -0.7689668835966194,
          1.7949520887187107,
          1.6834392786145629,
          0.32995528823689685,
          -0.8313565653192856,
          -0.4998327753719319,
          0.23637794321815717,
          1.0622144413981145,
          0.3439517143164144,
          -0.6458619570595535,
          1.0143000251628471,
          1.6179901099842497,
          0.09893236458261968,
          0.02673710106063616,
          -0.6196243032474668,
          -0.18784983223874632,
          -0.15028400016585278,
          0.5114814172399594,
          -1.2185120238249454,
          0.7376170825566116,
          -0.8911842330712402,
          0.4198832275760853,
          0.8165209551716861,
          0.12130818860754197,
          -0.9356704898038721,
          0.4784504057994201,
          -0.4691083705250001,
          0.13542587509374077,
          0.4804950466570929,
          -0.35582434716095784,
          1.6982418467310487,
          -1.2347928103305137,
          1.4351735444582934,
          1.0041191730704424,
          0.31073187934388813,
          -0.06282411188351178,
          1.4655512074536325,
          0.35978638234167903,
          -1.4951221141070505,
          1.019970827822696,
          -0.21149891589515338,
          -0.7250194650965235,
          -0.3762478126651516,
          -0.023719708586731086,
          -1.4513331497808883,
          -1.5490224216635637,
          0.8143674694738251,
          -0.3355288281738139,
          0.6971415259012005,
          -0.967647896812698,
          -0.16766439842308206,
          0.13080670036606828,
          -0.4912229959990292,
          0.5584748683307955,
          -0.7007083904976554,
          1.6934125198611392,
          -0.8396180975228028,
          -0.21679125584416417,
          -0.9994020520039267,
          0.3981302306783948,
          -1.3518049101556182,
          1.025078811230519,
          0.7748201129900408,
          -0.06534466746033302,
          1.0464982138189993,
          0.46003548924610843,
          -0.5049687815905035,
          -0.8878006429577701,
          0.21179805911998795,
          0.8279007460076214,
          1.0051882029562607,
          0.5421471633507029,
          -0.05112520584828038,
          -0.30461667184916524,
          1.340428046409657,
          0.20871426044653696,
          -0.5123758697763113,
          -2.35444469714612,
          -0.3855815980859471,
          0.032815723026854586,
          -0.19902906653798422,
          -0.06546537675663139,
          -1.177549355616461,
          -0.3763806740461063,
          1.2258877628029998,
          0.8273051655918511,
          -1.1452089979692348,
          -0.06597823328313578,
          -0.0633600077710664,
          -0.6103498205758011,
          -0.6175888806205495,
          0.7511092221344297,
          -0.1331231097263466,
          0.7091878598184742,
          -0.5431139628017955,
          -0.060351535692078746,
          0.5379475366089387,
          -1.8609335052270088,
          -0.18936413187541465,
          0.9276736118506882,
          -0.6714337209530583,
          1.1367979069020446,
          -0.4795950631943331,
          0.6201509150910177,
          -0.79262767983479,
          0.09096830044052863,
          -0.11412689987291418,
          -1.4353910103274867,
          -1.3341332285448335,
          -0.8066389681483868,
          -0.2045817551019017,
          -1.6295498064583964,
          0.6273833871235112,
          -1.0359539908968716,
          0.4173702366778865,
          -0.022443589947523882,
          1.9955740419755794,
          0.5298791892074026,
          -0.7510418772675199,
          -0.038993752152872325,
          1.0662196391020466,
          0.08264300057275799,
          -0.8852609286974298,
          -0.39303337274746863,
          0.5725289971298388,
          0.28581596118212454,
          0.9633108882854284,
          -1.9545055108526936,
          0.48025325210583314,
          1.0181073948117598,
          1.3157177444707404,
          0.285883761632903,
          0.32648934588331274,
          -0.5470287713338512,
          0.38810412529779614,
          -1.040676364458909,
          -0.6802264835291172,
          0.20450445891050575,
          1.3257073299378865,
          0.39823883573490343,
          -1.7262356972237765,
          -0.017689578371547058,
          -0.7446260867921072,
          -0.12255971242090011,
          -0.5719699518994776,
          -1.2534502409072348,
          0.9115416524489368,
          0.7271611504134037,
          0.546124207226091,
          -0.8855300877927061,
          0.48883526713582093,
          0.6840052425225328,
          0.7258391500589493,
          0.06611877970028887,
          -0.9690775696211086,
          -0.4444652596096854,
          -1.15419864097724,
          -0.5487205642889956,
          0.8664044314517293,
          1.0593727591585447,
          0.05055702416705721,
          0.2596039464312763,
          -0.22246572720575963,
          1.0796475424150322,
          -0.30155404717685574,
          1.5444976428660242,
          0.7563951295303247,
          1.4629660072315798,
          1.8166108584777956,
          1.3440231816801258,
          -0.40041239774878207,
          -0.5776874904858346,
          0.32191130018435793,
          0.005930385206775578,
          2.1685914162165094,
          -0.7750989553025853,
          0.08175782607415037,
          1.7963462144832398,
          -0.29785514565929594,
          -1.0823291034533842,
          -0.30723457940289456,
          0.9994114346774339,
          -0.3087089162565185,
          -0.31735979994121133,
          0.5828224393319291,
          0.5006551193688751,
          1.6474242034750184,
          0.5003067639844336,
          -0.14561165338349513,
          -1.1202927718298383,
          0.7486209122989744,
          0.8994117749104902,
          0.10913212811628528,
          -2.1938823784683392,
          -1.9945336520263504,
          0.23821873032777757,
          0.1303251619364872,
          -0.10528628794873589,
          -0.9135785772512545,
          -1.0070248829391004,
          0.12062571162218257,
          -1.029448508035843,
          0.4898375125355728,
          0.030272324967039778,
          -0.7341246497915109,
          0.6109602485503441,
          -1.5329077572616434,
          1.4041369228002063,
          0.7322184208160599,
          0.1670253125048408,
          -1.5339134354377602,
          -0.15552426751692003,
          0.33001419964213397,
          -0.06760729978979639,
          0.21132237821029645,
          -0.24321122032375253,
          1.338918794321326,
          -0.9606934598302876,
          2.125447054191817,
          0.09902871143569617,
          0.6338893645586003,
          0.334912210247675,
          0.4551803694272741,
          0.151914036237343,
          0.9215563910116309,
          0.04968904340336997,
          1.0587898742675592,
          0.08739003505711775,
          1.4623917805534623,
          0.7848474949412629,
          1.0952740839229897,
          2.721750865118921,
          -0.8559911818824313,
          1.2623094911715431,
          -0.7925303000840519,
          0.7404829006081866,
          -0.5674681037840495,
          0.7547455416653768,
          -0.6152673654962761,
          -0.5797194643022047,
          0.4945997523957376,
          0.7326090606059853,
          1.04899048674832,
          -0.6289389272944805,
          1.510358834820777,
          0.9254899104484018,
          -0.4763868926596883,
          -0.32272105342528745,
          -1.1844649122797142,
          -0.353349098805419,
          0.9025938067668348,
          0.8348957402913997,
          0.3795407974973937,
          -0.15460043391361591,
          1.1402720583305306,
          -1.224718842244182,
          1.5912637312553581,
          -0.09781074516336041,
          0.769990160216613,
          -0.2286530230527202,
          1.2515014229332058,
          0.4048449311776757,
          -0.8251018095699774,
          0.6466184013013906,
          0.338932477726091,
          -0.37889808129780245,
          0.4441625524292103,
          -0.6937921925089623,
          0.14457390582618249,
          0.18399988595407019,
          0.010344532691738984,
          0.08838491354072961,
          -0.36391537281133346,
          -2.3432141538387588,
          0.8286557983935385,
          1.6941393407016954,
          -2.2187295716140825,
          -1.064322114235522,
          0.8816198728963196,
          -0.32771355219736165,
          0.23393605935638195,
          -0.38655560426075436,
          1.1129355734414321,
          0.1316140955934622,
          -1.4062339252389138,
          -0.6813710885262853,
          -0.7207745668953208,
          0.5921233894052819,
          0.761203741751785,
          1.6392838009994772,
          1.754914407517825,
          0.8352162329479165,
          -1.0308528985933914,
          0.8779149147097962,
          -0.7567407317005906,
          -0.022541473995911304,
          0.0241852738633982,
          -1.2563331938578792,
          0.5389757249787173,
          -0.4953726847336343,
          0.39859529132151894,
          0.19996649273201778,
          1.18373830023781,
          0.6850577576337737,
          0.5010236368798835,
          -0.6739633711336005,
          -1.1213524480236983,
          1.53737415476372,
          0.32977534375705125,
          -0.01841451005822015,
          -0.36195433118446063,
          0.18722756452713152,
          1.1282037577439776,
          -0.8722972663204445,
          0.6027122607412065,
          -0.9161524133108444,
          -0.767693429793061,
          -0.12191244085532002,
          0.8123522284369896,
          0.17367167994287877,
          -0.4433840647878538,
          -0.2925632894473231,
          -0.16650837997942816,
          -0.5695726937056784,
          -0.4033690013465038,
          1.4531147638027972,
          -0.4089718635116222,
          -1.0295441128046847,
          1.0837854669531315,
          -1.7851071785695163,
          -0.3696240480864023,
          -0.30543205921311906,
          -0.72890094862295,
          0.053404369858088614,
          0.07874694642692186,
          0.0571984438945919,
          -0.23804024857762973,
          -1.4416839487184705,
          0.8523858944037515,
          0.13067383472631966,
          0.0681859533368171,
          -0.177197936567093,
          -1.250368132549382,
          -0.5024637593311192,
          -0.2554968468064366,
          0.9726406936679213,
          -1.0776648830161568,
          -0.37173889274106614,
          0.17379242317455976,
          1.4235440056321953,
          -1.3600249588555553,
          -0.947381117351583,
          0.5255967125268345,
          -2.062787996531592,
          -0.29608967092943195,
          1.3766745394979436,
          0.7549823942578537,
          0.23021332274803702,
          -0.4463602237430686,
          1.40423245933376,
          -1.3231291024586067,
          -0.7348154687900231,
          -0.3077057989971045,
          -0.1252833158302751,
          -0.05875933223890582,
          1.8703309909078025,
          0.17323374951885312,
          -0.09465624118479707,
          -0.1331641865712005,
          1.088569938475344,
          0.529979099699913,
          0.39340914235081736,
          -0.2854510674597239,
          -0.5423092439137138,
          -0.6183924789892,
          0.2757604009970149,
          -0.46380945970565046,
          0.6733746619055341,
          -1.9139460231532501,
          -1.0297907199025853,
          -0.2090033742568187,
          -0.6835429348417696,
          0.5770702127051625,
          0.9211922829875379,
          1.1343519630646863,
          0.4845366037388419,
          -2.194912043687986,
          -0.7756984698899517,
          -1.3574487346275346,
          0.03983018298548998,
          0.05185709310814145,
          -0.7122701207544192,
          0.07813718162105458,
          -2.648778152677785,
          0.21691078040123227,
          1.7395005105571983,
          -0.17815248902948663,
          -1.1590675785809508,
          1.491207041209449,
          -0.3767517653783265,
          -1.5054765755495423,
          -0.4072078096364494,
          -1.8873853824816802,
          -0.28983637598872974,
          -0.4005019288953971,
          -0.14950154980852612,
          0.17929086299169064,
          -0.8177255978610685,
          -2.581131565641815,
          -0.04055743611608555,
          0.8404572870837582,
          -0.28992421048031514,
          1.058358586172059,
          -1.2499795083071137,
          -0.6690870612469576,
          -2.4692717519338934,
          0.4831795783545645,
          -0.5286147479413235,
          -1.4068042059486867,
          0.5784676675878614,
          1.4988514761702205,
          0.6733215113708186,
          1.6975570460768046,
          1.3498123828721733,
          -0.5272064045965745,
          -0.07790044148522483,
          0.7027977276560274,
          0.18118791041900392,
          -0.40581528754138113,
          -0.5110975436150879,
          0.19364907991029498,
          1.3118393644453097,
          -1.566927706467981,
          0.9771444759974068,
          -0.45644333985008323,
          0.6273648571383749,
          -1.0657605029885349,
          -0.9585465786641109,
          0.4345868222116089,
          1.857134198498515,
          -0.9579140408150122,
          0.01667751651291276,
          0.899591456212276,
          -0.4025009718909837,
          -0.0818205699007817,
          0.45193088182940716,
          -0.12841627740642544,
          1.5542212596784177,
          0.8692262220121939,
          -0.14510994438752342,
          -0.39875785794495033,
          -1.142024090700702,
          0.05854526512047514,
          -0.3207190116184426,
          -0.02708731936429366,
          -1.4463789484788852,
          -0.25355466477458793,
          0.5601790853931786,
          -1.1119230722680913,
          0.9546585846963214,
          0.33575480356740234,
          1.1634697588667269,
          1.1184007012837256,
          0.6252153546314256,
          0.8204635201766781,
          -1.5059278718090243,
          0.7183000455737895,
          -1.0366438053447806,
          -0.010613063244050924,
          2.9879598074515763,
          -0.625930455972374,
          1.1872142422638823,
          1.1771962610123416,
          -0.3958883028823448,
          -0.4606529822120472,
          -1.5961451755653009,
          0.5757873791944773,
          0.29857323663153956,
          -0.20905148312688182,
          -0.6201309412156794,
          -0.5293008909111896,
          0.07270160035546597,
          0.5785313128436459,
          -0.4425125004384857,
          0.04282860719239529,
          0.3445911360528792,
          0.5094631200752404,
          0.41755670675241374,
          0.6095740369742351,
          0.26521038586641654,
          -1.39554445082604,
          0.5523519615397455,
          0.8586861215537892,
          -0.8087990536466173,
          0.799656382209907,
          1.0664973049860527,
          1.432875963352771,
          -0.2853452511359502,
          -0.005070919936246587,
          -2.1171599849917557,
          -0.10586842036663235,
          0.007644654779272729,
          0.12522661943999785,
          -1.8728462469553677,
          -0.12938539874598926,
          -0.26066514443049493,
          -1.339225326685826,
          0.16974065652181547,
          -0.07447379210106783,
          -0.5510018730277674,
          0.5553194442102276,
          1.9915985930876832,
          1.059198246016919,
          -1.1379465828949586,
          -0.35622199166442553,
          -0.3201391534777322,
          -1.3290981758892673,
          0.22156857541103236,
          0.19450566348125556,
          0.5542199152509518,
          -0.9509331535265151,
          0.31841841641387747,
          -0.95624833242967,
          0.7383373555163756,
          -0.8170970461814981,
          0.044837184972617614,
          -1.2855047078127293,
          0.4614769292144561,
          2.077409323026736,
          0.5915693949062424,
          0.06194647736764206,
          0.9905732704769993,
          0.7515584060310465,
          0.05647997653709893,
          1.587828505178268,
          1.0285408076708282,
          -0.09082889894762332,
          -1.4527649111682588,
          -1.2426107799083492,
          0.4725675020361748,
          -0.505594860755054,
          0.008017649652951164,
          -0.529208898543881,
          -0.6358501015630602,
          -0.7462681784331446,
          -0.26203108888394894,
          0.7671733418804092,
          -0.2736753420578841,
          0.08168489350315394,
          -0.8454653103499954,
          0.7388962725688223,
          0.21853067788881014,
          -0.18040296274929027,
          1.6163693334505034,
          -1.0470541772579363,
          1.291317018669517,
          -0.8081845939587202,
          0.8354659777288667,
          0.7452351619548933,
          -1.2179813195466345,
          -0.4315413768758629,
          -0.12477072055093075,
          -0.5718358609115664,
          -0.7416888546619571,
          1.7266077746653805,
          -0.13049490240463218,
          -0.937263523878344,
          0.37210738660334275,
          -0.01221021557420132,
          -0.6865814342511538,
          0.6565709533061997,
          -0.9390667334915304,
          2.0967069450349065,
          -0.1754073012987562,
          0.579814792407058,
          -0.5439242345569127,
          -0.6485103415505445,
          -0.5099418793345225,
          -0.9238230090570891,
          -0.5073002962813292,
          -0.4411882901799605,
          0.2540717995832832,
          0.315258417855806,
          -0.21702984959127383,
          -1.4347211173446368,
          0.4262294711088048,
          0.4138644596431318,
          0.8946614207709219,
          -0.1461794453230076,
          -1.7734615962465923,
          -0.11130639403991563,
          0.6294574851832903,
          0.9477087876222755,
          -1.1804758438230312,
          0.4498190323425728,
          0.15980745246294353,
          -0.055866897962085695,
          0.4153903059450497,
          0.41844702593937133,
          0.6510088159573599,
          0.2165161332569137,
          -0.602147663904282,
          0.10821020258936025,
          0.1534996626489041,
          0.4115617890812791,
          0.41118967747339613,
          -0.646067672249037,
          0.44118999750078697,
          -0.8996506338472297,
          1.2697610856403316,
          -0.4616785960708921,
          0.6826475663838227,
          0.46413047730048074,
          -0.08710248341714134,
          1.7374715229825233,
          1.2414457167484771
         ],
         "xaxis": "x",
         "yaxis": "y"
        }
       ],
       "layout": {
        "barmode": "relative",
        "legend": {
         "title": {
          "text": "variable"
         },
         "tracegroupgap": 0
        },
        "template": {
         "data": {
          "bar": [
           {
            "error_x": {
             "color": "#2a3f5f"
            },
            "error_y": {
             "color": "#2a3f5f"
            },
            "marker": {
             "line": {
              "color": "#E5ECF6",
              "width": 0.5
             },
             "pattern": {
              "fillmode": "overlay",
              "size": 10,
              "solidity": 0.2
             }
            },
            "type": "bar"
           }
          ],
          "barpolar": [
           {
            "marker": {
             "line": {
              "color": "#E5ECF6",
              "width": 0.5
             },
             "pattern": {
              "fillmode": "overlay",
              "size": 10,
              "solidity": 0.2
             }
            },
            "type": "barpolar"
           }
          ],
          "carpet": [
           {
            "aaxis": {
             "endlinecolor": "#2a3f5f",
             "gridcolor": "white",
             "linecolor": "white",
             "minorgridcolor": "white",
             "startlinecolor": "#2a3f5f"
            },
            "baxis": {
             "endlinecolor": "#2a3f5f",
             "gridcolor": "white",
             "linecolor": "white",
             "minorgridcolor": "white",
             "startlinecolor": "#2a3f5f"
            },
            "type": "carpet"
           }
          ],
          "choropleth": [
           {
            "colorbar": {
             "outlinewidth": 0,
             "ticks": ""
            },
            "type": "choropleth"
           }
          ],
          "contour": [
           {
            "colorbar": {
             "outlinewidth": 0,
             "ticks": ""
            },
            "colorscale": [
             [
              0,
              "#0d0887"
             ],
             [
              0.1111111111111111,
              "#46039f"
             ],
             [
              0.2222222222222222,
              "#7201a8"
             ],
             [
              0.3333333333333333,
              "#9c179e"
             ],
             [
              0.4444444444444444,
              "#bd3786"
             ],
             [
              0.5555555555555556,
              "#d8576b"
             ],
             [
              0.6666666666666666,
              "#ed7953"
             ],
             [
              0.7777777777777778,
              "#fb9f3a"
             ],
             [
              0.8888888888888888,
              "#fdca26"
             ],
             [
              1,
              "#f0f921"
             ]
            ],
            "type": "contour"
           }
          ],
          "contourcarpet": [
           {
            "colorbar": {
             "outlinewidth": 0,
             "ticks": ""
            },
            "type": "contourcarpet"
           }
          ],
          "heatmap": [
           {
            "colorbar": {
             "outlinewidth": 0,
             "ticks": ""
            },
            "colorscale": [
             [
              0,
              "#0d0887"
             ],
             [
              0.1111111111111111,
              "#46039f"
             ],
             [
              0.2222222222222222,
              "#7201a8"
             ],
             [
              0.3333333333333333,
              "#9c179e"
             ],
             [
              0.4444444444444444,
              "#bd3786"
             ],
             [
              0.5555555555555556,
              "#d8576b"
             ],
             [
              0.6666666666666666,
              "#ed7953"
             ],
             [
              0.7777777777777778,
              "#fb9f3a"
             ],
             [
              0.8888888888888888,
              "#fdca26"
             ],
             [
              1,
              "#f0f921"
             ]
            ],
            "type": "heatmap"
           }
          ],
          "heatmapgl": [
           {
            "colorbar": {
             "outlinewidth": 0,
             "ticks": ""
            },
            "colorscale": [
             [
              0,
              "#0d0887"
             ],
             [
              0.1111111111111111,
              "#46039f"
             ],
             [
              0.2222222222222222,
              "#7201a8"
             ],
             [
              0.3333333333333333,
              "#9c179e"
             ],
             [
              0.4444444444444444,
              "#bd3786"
             ],
             [
              0.5555555555555556,
              "#d8576b"
             ],
             [
              0.6666666666666666,
              "#ed7953"
             ],
             [
              0.7777777777777778,
              "#fb9f3a"
             ],
             [
              0.8888888888888888,
              "#fdca26"
             ],
             [
              1,
              "#f0f921"
             ]
            ],
            "type": "heatmapgl"
           }
          ],
          "histogram": [
           {
            "marker": {
             "pattern": {
              "fillmode": "overlay",
              "size": 10,
              "solidity": 0.2
             }
            },
            "type": "histogram"
           }
          ],
          "histogram2d": [
           {
            "colorbar": {
             "outlinewidth": 0,
             "ticks": ""
            },
            "colorscale": [
             [
              0,
              "#0d0887"
             ],
             [
              0.1111111111111111,
              "#46039f"
             ],
             [
              0.2222222222222222,
              "#7201a8"
             ],
             [
              0.3333333333333333,
              "#9c179e"
             ],
             [
              0.4444444444444444,
              "#bd3786"
             ],
             [
              0.5555555555555556,
              "#d8576b"
             ],
             [
              0.6666666666666666,
              "#ed7953"
             ],
             [
              0.7777777777777778,
              "#fb9f3a"
             ],
             [
              0.8888888888888888,
              "#fdca26"
             ],
             [
              1,
              "#f0f921"
             ]
            ],
            "type": "histogram2d"
           }
          ],
          "histogram2dcontour": [
           {
            "colorbar": {
             "outlinewidth": 0,
             "ticks": ""
            },
            "colorscale": [
             [
              0,
              "#0d0887"
             ],
             [
              0.1111111111111111,
              "#46039f"
             ],
             [
              0.2222222222222222,
              "#7201a8"
             ],
             [
              0.3333333333333333,
              "#9c179e"
             ],
             [
              0.4444444444444444,
              "#bd3786"
             ],
             [
              0.5555555555555556,
              "#d8576b"
             ],
             [
              0.6666666666666666,
              "#ed7953"
             ],
             [
              0.7777777777777778,
              "#fb9f3a"
             ],
             [
              0.8888888888888888,
              "#fdca26"
             ],
             [
              1,
              "#f0f921"
             ]
            ],
            "type": "histogram2dcontour"
           }
          ],
          "mesh3d": [
           {
            "colorbar": {
             "outlinewidth": 0,
             "ticks": ""
            },
            "type": "mesh3d"
           }
          ],
          "parcoords": [
           {
            "line": {
             "colorbar": {
              "outlinewidth": 0,
              "ticks": ""
             }
            },
            "type": "parcoords"
           }
          ],
          "pie": [
           {
            "automargin": true,
            "type": "pie"
           }
          ],
          "scatter": [
           {
            "fillpattern": {
             "fillmode": "overlay",
             "size": 10,
             "solidity": 0.2
            },
            "type": "scatter"
           }
          ],
          "scatter3d": [
           {
            "line": {
             "colorbar": {
              "outlinewidth": 0,
              "ticks": ""
             }
            },
            "marker": {
             "colorbar": {
              "outlinewidth": 0,
              "ticks": ""
             }
            },
            "type": "scatter3d"
           }
          ],
          "scattercarpet": [
           {
            "marker": {
             "colorbar": {
              "outlinewidth": 0,
              "ticks": ""
             }
            },
            "type": "scattercarpet"
           }
          ],
          "scattergeo": [
           {
            "marker": {
             "colorbar": {
              "outlinewidth": 0,
              "ticks": ""
             }
            },
            "type": "scattergeo"
           }
          ],
          "scattergl": [
           {
            "marker": {
             "colorbar": {
              "outlinewidth": 0,
              "ticks": ""
             }
            },
            "type": "scattergl"
           }
          ],
          "scattermapbox": [
           {
            "marker": {
             "colorbar": {
              "outlinewidth": 0,
              "ticks": ""
             }
            },
            "type": "scattermapbox"
           }
          ],
          "scatterpolar": [
           {
            "marker": {
             "colorbar": {
              "outlinewidth": 0,
              "ticks": ""
             }
            },
            "type": "scatterpolar"
           }
          ],
          "scatterpolargl": [
           {
            "marker": {
             "colorbar": {
              "outlinewidth": 0,
              "ticks": ""
             }
            },
            "type": "scatterpolargl"
           }
          ],
          "scatterternary": [
           {
            "marker": {
             "colorbar": {
              "outlinewidth": 0,
              "ticks": ""
             }
            },
            "type": "scatterternary"
           }
          ],
          "surface": [
           {
            "colorbar": {
             "outlinewidth": 0,
             "ticks": ""
            },
            "colorscale": [
             [
              0,
              "#0d0887"
             ],
             [
              0.1111111111111111,
              "#46039f"
             ],
             [
              0.2222222222222222,
              "#7201a8"
             ],
             [
              0.3333333333333333,
              "#9c179e"
             ],
             [
              0.4444444444444444,
              "#bd3786"
             ],
             [
              0.5555555555555556,
              "#d8576b"
             ],
             [
              0.6666666666666666,
              "#ed7953"
             ],
             [
              0.7777777777777778,
              "#fb9f3a"
             ],
             [
              0.8888888888888888,
              "#fdca26"
             ],
             [
              1,
              "#f0f921"
             ]
            ],
            "type": "surface"
           }
          ],
          "table": [
           {
            "cells": {
             "fill": {
              "color": "#EBF0F8"
             },
             "line": {
              "color": "white"
             }
            },
            "header": {
             "fill": {
              "color": "#C8D4E3"
             },
             "line": {
              "color": "white"
             }
            },
            "type": "table"
           }
          ]
         },
         "layout": {
          "annotationdefaults": {
           "arrowcolor": "#2a3f5f",
           "arrowhead": 0,
           "arrowwidth": 1
          },
          "autotypenumbers": "strict",
          "coloraxis": {
           "colorbar": {
            "outlinewidth": 0,
            "ticks": ""
           }
          },
          "colorscale": {
           "diverging": [
            [
             0,
             "#8e0152"
            ],
            [
             0.1,
             "#c51b7d"
            ],
            [
             0.2,
             "#de77ae"
            ],
            [
             0.3,
             "#f1b6da"
            ],
            [
             0.4,
             "#fde0ef"
            ],
            [
             0.5,
             "#f7f7f7"
            ],
            [
             0.6,
             "#e6f5d0"
            ],
            [
             0.7,
             "#b8e186"
            ],
            [
             0.8,
             "#7fbc41"
            ],
            [
             0.9,
             "#4d9221"
            ],
            [
             1,
             "#276419"
            ]
           ],
           "sequential": [
            [
             0,
             "#0d0887"
            ],
            [
             0.1111111111111111,
             "#46039f"
            ],
            [
             0.2222222222222222,
             "#7201a8"
            ],
            [
             0.3333333333333333,
             "#9c179e"
            ],
            [
             0.4444444444444444,
             "#bd3786"
            ],
            [
             0.5555555555555556,
             "#d8576b"
            ],
            [
             0.6666666666666666,
             "#ed7953"
            ],
            [
             0.7777777777777778,
             "#fb9f3a"
            ],
            [
             0.8888888888888888,
             "#fdca26"
            ],
            [
             1,
             "#f0f921"
            ]
           ],
           "sequentialminus": [
            [
             0,
             "#0d0887"
            ],
            [
             0.1111111111111111,
             "#46039f"
            ],
            [
             0.2222222222222222,
             "#7201a8"
            ],
            [
             0.3333333333333333,
             "#9c179e"
            ],
            [
             0.4444444444444444,
             "#bd3786"
            ],
            [
             0.5555555555555556,
             "#d8576b"
            ],
            [
             0.6666666666666666,
             "#ed7953"
            ],
            [
             0.7777777777777778,
             "#fb9f3a"
            ],
            [
             0.8888888888888888,
             "#fdca26"
            ],
            [
             1,
             "#f0f921"
            ]
           ]
          },
          "colorway": [
           "#636efa",
           "#EF553B",
           "#00cc96",
           "#ab63fa",
           "#FFA15A",
           "#19d3f3",
           "#FF6692",
           "#B6E880",
           "#FF97FF",
           "#FECB52"
          ],
          "font": {
           "color": "#2a3f5f"
          },
          "geo": {
           "bgcolor": "white",
           "lakecolor": "white",
           "landcolor": "#E5ECF6",
           "showlakes": true,
           "showland": true,
           "subunitcolor": "white"
          },
          "hoverlabel": {
           "align": "left"
          },
          "hovermode": "closest",
          "mapbox": {
           "style": "light"
          },
          "paper_bgcolor": "white",
          "plot_bgcolor": "#E5ECF6",
          "polar": {
           "angularaxis": {
            "gridcolor": "white",
            "linecolor": "white",
            "ticks": ""
           },
           "bgcolor": "#E5ECF6",
           "radialaxis": {
            "gridcolor": "white",
            "linecolor": "white",
            "ticks": ""
           }
          },
          "scene": {
           "xaxis": {
            "backgroundcolor": "#E5ECF6",
            "gridcolor": "white",
            "gridwidth": 2,
            "linecolor": "white",
            "showbackground": true,
            "ticks": "",
            "zerolinecolor": "white"
           },
           "yaxis": {
            "backgroundcolor": "#E5ECF6",
            "gridcolor": "white",
            "gridwidth": 2,
            "linecolor": "white",
            "showbackground": true,
            "ticks": "",
            "zerolinecolor": "white"
           },
           "zaxis": {
            "backgroundcolor": "#E5ECF6",
            "gridcolor": "white",
            "gridwidth": 2,
            "linecolor": "white",
            "showbackground": true,
            "ticks": "",
            "zerolinecolor": "white"
           }
          },
          "shapedefaults": {
           "line": {
            "color": "#2a3f5f"
           }
          },
          "ternary": {
           "aaxis": {
            "gridcolor": "white",
            "linecolor": "white",
            "ticks": ""
           },
           "baxis": {
            "gridcolor": "white",
            "linecolor": "white",
            "ticks": ""
           },
           "bgcolor": "#E5ECF6",
           "caxis": {
            "gridcolor": "white",
            "linecolor": "white",
            "ticks": ""
           }
          },
          "title": {
           "x": 0.05
          },
          "xaxis": {
           "automargin": true,
           "gridcolor": "white",
           "linecolor": "white",
           "ticks": "",
           "title": {
            "standoff": 15
           },
           "zerolinecolor": "white",
           "zerolinewidth": 2
          },
          "yaxis": {
           "automargin": true,
           "gridcolor": "white",
           "linecolor": "white",
           "ticks": "",
           "title": {
            "standoff": 15
           },
           "zerolinecolor": "white",
           "zerolinewidth": 2
          }
         }
        },
        "title": {
         "text": "Histogram of x"
        },
        "xaxis": {
         "anchor": "y",
         "domain": [
          0,
          1
         ],
         "title": {
          "text": "value"
         }
        },
        "yaxis": {
         "anchor": "x",
         "domain": [
          0,
          1
         ],
         "title": {
          "text": "count"
         }
        }
       }
      }
     },
     "metadata": {},
     "output_type": "display_data"
    }
   ],
   "source": [
    "pitch_data.show_x_location_hist()"
   ]
  },
  {
   "cell_type": "code",
   "execution_count": null,
   "metadata": {},
   "outputs": [
    {
     "data": {
      "application/vnd.plotly.v1+json": {
       "config": {
        "plotlyServerURL": "https://plot.ly"
       },
       "data": [
        {
         "alignmentgroup": "True",
         "bingroup": "x",
         "hovertemplate": "variable=y<br>value=%{x}<br>count=%{y}<extra></extra>",
         "legendgroup": "y",
         "marker": {
          "color": "#636efa",
          "pattern": {
           "shape": ""
          }
         },
         "name": "y",
         "offsetgroup": "y",
         "orientation": "v",
         "showlegend": true,
         "type": "histogram",
         "x": [
          -0.5072450589913211,
          0.739617261127252,
          -0.06305001220120082,
          1.538652151002484,
          0.1568875338802001,
          -0.7126382046109205,
          1.5850039006786514,
          0.7378135169740897,
          0.146924786788348,
          -0.6484214929728429,
          1.3284753165802576,
          0.26305243213345386,
          0.9393590793846233,
          -1.0760605406810375,
          -0.0984316067599363,
          -1.374934245958413,
          -0.36911046016449395,
          1.2405207594387553,
          -0.415599869473942,
          -0.8743021082869187,
          1.1585229650662998,
          -2.42827057243409,
          1.5920880290525314,
          -0.886817675026379,
          0.05086437998291843,
          -0.16536275837567624,
          0.2516806334993808,
          -2.4297575527591495,
          -1.1871168382572075,
          -1.0821367965980098,
          1.158118515525409,
          -0.023834422446610683,
          -0.6715817126793318,
          0.1103216792848952,
          0.6511853734606091,
          -1.315412916087466,
          0.12545257085147893,
          0.8263376272923046,
          0.2961907790532154,
          -1.060632333016702,
          1.3301293761417856,
          -0.5286546417859476,
          -0.823692050062899,
          -1.1040599927361257,
          0.43659179158340233,
          0.3903000073079017,
          -0.21373637753750788,
          -1.0275217123267548,
          -0.030913919633788648,
          0.4637677167183002,
          0.7967895913890084,
          0.08371439820556321,
          -0.8257414694533721,
          0.6762824872416755,
          -1.0791181574331576,
          1.6128845505623834,
          0.5553859517920569,
          -0.00555998870813561,
          0.6137485275479316,
          0.3157071418420417,
          1.3655628857411686,
          -1.4859825975400454,
          0.7546083983905758,
          -0.7759923518181386,
          1.2367260382670726,
          -0.18393988271781006,
          1.2867029108184285,
          0.7996576383881709,
          -2.0650339071674813,
          0.3607074107001216,
          1.9998250550915386,
          -0.07977564439870843,
          0.2590516904592558,
          -0.9309832913110649,
          0.7104619117136748,
          0.8111115141673626,
          -0.52065954012103,
          0.021090303908270155,
          -0.59899976946529,
          -1.4154487982644612,
          -0.1490683955075191,
          -0.4051066073133136,
          0.9786927153409282,
          0.038890766746702936,
          -1.4926874846006042,
          -1.1547165691248076,
          1.3751441088718397,
          0.18072375858150738,
          1.850416441079333,
          0.7209570073512079,
          0.5947105380661114,
          -0.703029745184922,
          1.553700932978394,
          -0.04466185798516316,
          -1.017623273757575,
          -0.3898608905125611,
          -1.4133027552333712,
          0.03579786645892626,
          -0.22006576362911098,
          -0.28642836608937744,
          1.0612056717460194,
          -1.2192071657727919,
          1.3019965991434557,
          -0.35723771754652855,
          0.5239305885910438,
          2.2379157469310926,
          -0.6366110270076045,
          -1.4846889473826006,
          0.08045635889760407,
          1.0095551605932105,
          0.25336953066472556,
          -0.3023652920574816,
          -1.399320628088156,
          1.1729442583620524,
          -0.513534243830358,
          1.1603946051417913,
          -1.249704275084103,
          -0.9496549201279575,
          -0.7440501966290921,
          -0.9726137093214545,
          -0.8862253086855486,
          -0.28854310909556874,
          -0.8951242266264116,
          -0.24493797524187164,
          -0.3958923450566881,
          -0.39815849491192634,
          0.8224731999795836,
          -0.06872425332696189,
          -0.08351899136999907,
          -0.5677332333207468,
          -0.07435280005189365,
          0.7851832943135342,
          -0.006299647498052736,
          1.5040312729310448,
          1.9418868416094694,
          0.34669195184683654,
          1.4363617040741719,
          0.2345360752597741,
          -0.6007480130675557,
          0.5156376933951952,
          -0.08322609179206886,
          0.3585860110432822,
          -0.6620662234718686,
          -0.7922526241200954,
          -0.27923334676319084,
          0.8195096247978477,
          0.27320558756798596,
          -0.8368493348761918,
          0.330944927945134,
          1.7394746273292587,
          1.023784837916875,
          -0.49245403376878577,
          -0.7559187151461615,
          0.18209223731859794,
          -0.4609826572452865,
          1.1088040133733748,
          -0.9981770109646214,
          1.037221586948059,
          -0.14163103706097976,
          -0.0022869175731408857,
          -0.707245634136749,
          -0.07566253910883702,
          1.2732778653614416,
          1.0914455756283823,
          -0.27589574403796197,
          0.5962478233833634,
          0.11432027854136977,
          -0.6283151887194263,
          0.09725488568904689,
          1.108208131621036,
          0.580844736019509,
          0.3447049813966012,
          -0.10711849043738952,
          -0.8848136792244459,
          -1.0194752382574097,
          0.46283979845816026,
          0.11625014369539532,
          0.43146756836040295,
          0.6145850431692295,
          -1.5891018163239083,
          0.5281929548242896,
          -0.8618621756718994,
          -1.233223130429878,
          0.1466334409231929,
          1.4393201909794726,
          -0.08206486610460657,
          1.6142039069803342,
          -1.382478246295013,
          0.2072344946621832,
          0.18876324906495762,
          0.8455713143975719,
          -1.1533162614143218,
          -0.9298633222055416,
          0.42016531970616455,
          0.4965587720128556,
          -0.45663594841129046,
          1.0304530239797434,
          1.107717612172269,
          0.6443986989183602,
          -0.7403251255066113,
          -0.3501927445623041,
          -0.7711606708866483,
          -1.3396569124572664,
          0.244330695360417,
          -0.7453103257216755,
          0.02522118466263948,
          -0.12036487539714993,
          0.7975185713672189,
          0.7779814561486845,
          0.3231484949160834,
          -0.9650258418849282,
          0.6313164665581021,
          -0.08581367659056,
          -0.21272439546155963,
          -0.15641338875162514,
          -2.2473621112337447,
          -0.6341686866753661,
          -1.029909999571801,
          -0.09326677345465752,
          1.4992588320279465,
          0.5541149306855965,
          -1.4595917638914808,
          -0.8806820441093658,
          2.112062446664012,
          0.16894886918323196,
          -2.0415390564279634,
          1.0033607276176328,
          0.26299685085613633,
          0.510087348855876,
          1.1004605364532454,
          -0.259763308773941,
          -0.7559541580217941,
          -0.9290105882009908,
          -0.19123608954581317,
          -0.3850109282669738,
          -0.8058578011150661,
          -0.4948918455151525,
          -0.5769318747159712,
          1.0255234321860836,
          -0.5079029549258266,
          -0.24713982636907791,
          -1.74605545523337,
          -0.4139184467985082,
          0.655548318285962,
          1.1706430885461645,
          -0.7550096245942014,
          -0.05530363792414969,
          -0.26037926407585726,
          0.6003518284703192,
          0.4365738299428056,
          0.779016584439461,
          0.3034116093673884,
          -0.16652182701953247,
          -0.27550200074296166,
          -0.1890736359725683,
          -0.5646155123711631,
          0.544078901249578,
          -1.3797731250925311,
          0.41051682036716175,
          -1.4031662993724903,
          -0.21612650942448286,
          -1.2329324682564509,
          0.2216734819985931,
          -0.3122456906588035,
          -1.6560044197089077,
          -0.638165915787069,
          1.4937597722934925,
          0.6728808954844998,
          1.1622713068985957,
          -0.14984666868103916,
          -1.0553581697172605,
          0.5211887068046429,
          1.1383855689958258,
          1.3894182477484667,
          0.0207434451291847,
          -0.11949802380218237,
          0.09100341002685225,
          0.2575171467166964,
          0.6973408886832952,
          0.045131368021159496,
          1.0075108741478742,
          -1.25239403120847,
          -0.2003116975572803,
          0.6987076492161193,
          0.843615966839875,
          0.9674580831829053,
          -0.6729952873881332,
          -0.1946824457803251,
          0.25770594668657204,
          0.8499271898627905,
          -1.5204375980148528,
          -0.30791689148523554,
          1.0056822288832765,
          0.4379203150351584,
          -0.9751874459070359,
          0.4586098574629304,
          1.191289964948775,
          -1.352871598786114,
          -0.1258152218937405,
          -0.7172134330771907,
          -0.09032477953750255,
          -0.04216517725814113,
          -2.077963668498282,
          0.26412193230643866,
          -0.30406149552193146,
          -0.9256586340191677,
          -0.7711861090577729,
          -0.07456710102031776,
          1.1316019022712205,
          -0.2572022484900331,
          0.24192058170142233,
          -0.808129875067742,
          0.40050912903716185,
          -1.4672323290661111,
          -0.1797701769910259,
          0.796600502075087,
          1.2506934130713192,
          -2.2709252648937635,
          -1.072958804215276,
          -1.0408370978569959,
          0.7392278845794036,
          1.1076022045972904,
          1.1381812089237422,
          0.4746992313909125,
          -0.019912259194944083,
          1.2500104145922186,
          0.3051886656527575,
          -0.3707590265837691,
          -1.366886228949443,
          -1.0157012089839557,
          0.720229150053715,
          -1.7295193773186779,
          -0.2466257618082935,
          0.9524905037196656,
          0.15197905582625532,
          0.8834041659680659,
          1.683578824449946,
          1.5648643717805448,
          -0.013407888752998203,
          0.2445513094710317,
          0.007078370200115727,
          0.47584132629663844,
          1.453431380772573,
          -0.2026669240613555,
          1.1567246034149117,
          0.9851053769791268,
          1.6202424100097144,
          1.0093654534784178,
          1.0657207607825456,
          -1.9776642078485822,
          -0.36672420008419476,
          0.09343163113686662,
          -0.057159946231081164,
          0.46550901810056483,
          0.3498595618276944,
          -0.40761685822764065,
          -0.6532826149909782,
          0.07223831899126433,
          -0.759570148303028,
          0.9942598297558657,
          -0.4440166722003036,
          -0.6048273283163373,
          -1.4643819220950525,
          0.0032778475420562076,
          -0.25470252331670207,
          -0.3819194089390368,
          0.34628819468739963,
          -0.8232461072933638,
          0.1994575228938384,
          -0.9737377208413802,
          -0.407530283518198,
          0.4470683332882056,
          0.9323306911314133,
          -0.09124561426068946,
          -0.3445537698152549,
          -0.2520360903951341,
          -0.6430922349845294,
          -0.6095283518669431,
          0.08015004948181902,
          1.927937343281503,
          0.7924467253391552,
          0.3406820502900791,
          0.5655601293485274,
          -0.08193181725324765,
          -0.3205532180796182,
          -0.6412888619185543,
          -0.027710994873888763,
          -0.20833631686701984,
          -0.7431355238719529,
          -0.3822112281977001,
          1.472266398677785,
          -0.07618475200594178,
          -0.42095034647880597,
          -0.4397781888253926,
          0.2941195466826091,
          0.7981265105053511,
          -0.37154142100320864,
          0.7814889712819062,
          0.560099502155593,
          -1.0545710732102394,
          0.9719335234373384,
          -0.4999393780672414,
          -0.19825460403304415,
          1.3307510311445319,
          -0.011956362264417902,
          0.7190934217829784,
          -0.2784290760456472,
          -1.534266119404567,
          -1.7930499654937908,
          1.1607758078167343,
          -0.24856765977569362,
          0.1919501807586871,
          -0.6840635702779339,
          -0.3628290867726902,
          0.5210753148991567,
          0.1779690659140819,
          -0.4836457264369615,
          -0.9089165624185634,
          -2.019856099188754,
          0.9353969565751754,
          0.44425210881322247,
          0.8620435569028639,
          -0.8856570758970052,
          0.8526498734385215,
          0.9258605164739457,
          -0.8377046802783866,
          0.16330068925951916,
          0.1110115872007833,
          -0.5628616719180504,
          0.4335662787261089,
          1.007471992638514,
          0.16510764497348368,
          -0.40875861922515117,
          0.5974259130074532,
          -0.4858298874086007,
          -0.5868992446739659,
          0.8544024856838703,
          0.4438165889033255,
          -0.9796840787060024,
          0.3394397297066994,
          0.45815344793263174,
          -1.3568157411664943,
          -0.5947240413460132,
          0.4498606575958091,
          -0.6811074884276811,
          -2.0409440360432494,
          -0.7105170323884616,
          1.5936772575159839,
          -0.6310817223766839,
          0.14853963868787218,
          -0.17475066223726335,
          0.3394207122149253,
          0.04722060723017383,
          -1.1578152033842122,
          -0.5582311957564006,
          -0.6968904878234613,
          -0.7252414465038738,
          -2.2067493091058403,
          1.0641284261286545,
          -0.4284584827505978,
          0.0719290122785852,
          1.7501868252390405,
          0.6172429380173975,
          -0.9266117255855327,
          0.4199628546207163,
          -0.6844203467609892,
          0.18651644143226653,
          -1.300096538434666,
          -0.7490979816379112,
          -0.2623882663188859,
          -1.0834883984665744,
          -0.9001345847981191,
          -0.5213531981470367,
          -0.23351144350575,
          -0.19737935904815274,
          -0.7171588605642101,
          0.8421675860628075,
          -0.04412629248083057,
          0.795147588097876,
          -0.2114711001874307,
          -0.21410359163059325,
          -1.2509589864490223,
          -0.1662568117112184,
          -0.6859824589787821,
          -0.9774567631438938,
          1.2928577692124121,
          -0.015235317352684385,
          0.7918709723962855,
          -0.20861373935689145,
          1.0669438942171452,
          0.11072650565795106,
          -2.2076462834879247,
          -1.1120838950997252,
          0.5863503409782405,
          2.0546328883714033,
          -0.6140614961125609,
          -2.679206531708853,
          -1.3894745975552127,
          0.2861900011770005,
          2.440686560852274,
          0.24092165453867162,
          -0.20945350791988276,
          -0.802221726214688,
          -1.2124791900135232,
          -0.32077790093968606,
          0.23682435581913294,
          0.9728114619360274,
          0.6940574274526898,
          -1.28684432488834,
          -0.11932464043418001,
          0.30736153060955884,
          -0.9141419944344381,
          -0.5822824578927028,
          -0.5913440942779382,
          0.7466700662415375,
          0.22870547233638724,
          0.565408597255444,
          0.14127783650118578,
          -0.8355160853092861,
          1.137125661441608,
          -1.5602505361782288,
          0.3006511942529746,
          -0.8610005944572356,
          0.4959054559910132,
          1.7518671797813705,
          1.0241898812071957,
          -0.0431112772852502,
          -1.021737845564105,
          -1.0942502318771157,
          -0.6027970742673753,
          0.17905149996707545,
          -0.29591344996965063,
          -0.7010832481759954,
          -1.0775593732675968,
          -1.5535878795938294,
          -1.3657177200080206,
          -0.785380103805261,
          0.3720933258421986,
          -0.42427329594028146,
          -0.2395781743039141,
          0.5988647888390459,
          -0.11768233840662987,
          0.6815803474707042,
          -0.1664874386738995,
          0.8184308277399936,
          1.1527737729421068,
          1.2113954761826187,
          0.8088026589142423,
          -0.020767384337656403,
          -0.035766347447629104,
          0.2538171690979404,
          -1.2281512149900071,
          -0.04498909489368674,
          -0.5002527229394261,
          -0.0057525732171000744,
          -0.06522217792579603,
          -1.4407287784658147,
          1.3896197166798367,
          -0.10104417099570928,
          0.7245694402914437,
          0.888730198076734,
          -0.10831879895177586,
          -0.30637380168823874,
          -1.2941903294702461,
          -0.8815110192118202,
          0.37631798442139075,
          1.9474672356953355,
          1.216360400278351,
          0.7202911635539154,
          0.16401996749492012,
          -1.2180743837155412,
          0.08060415236998028,
          -0.6285524499339032,
          -0.6600851576116293,
          1.2153103165224202,
          -0.9573108561634996,
          -0.49805098103600276,
          0.6209400959305853,
          -1.0855734118429539,
          0.0905651626040218,
          -0.014542909419141683,
          0.010358910885481945,
          0.4270275594952655,
          -0.12030801458551023,
          0.15035006922832087,
          0.579701923307183,
          1.0754222504366688,
          1.445059219052428,
          -0.14344294024967255,
          0.6423356472821055,
          0.7338832236945892,
          1.884819496652313,
          -1.0710560679975152,
          -0.8366925604626487,
          -1.7521410631201841,
          0.3142119747024887,
          -1.2974494173991715,
          -0.13595687939455872,
          0.5987272812019929,
          -1.3831796180103804,
          1.4926102175788716,
          -0.9091749791036038,
          -0.1356975369027942,
          -1.2160489194837405,
          0.20027682191293938,
          -0.4806878327528266,
          0.3665888274192132,
          -1.4234602531740348,
          -1.2209187097779348,
          1.1324609349942583,
          -0.7475358485235476,
          0.35666587109544967,
          -0.5819747405779262,
          1.972585004302773,
          -0.7229961816858811,
          1.611083988083346,
          0.5476535238228676,
          -0.7272369803104564,
          -0.452561765943139,
          -0.25455871584625417,
          0.657112975196749,
          -0.44422978060363144,
          0.5976586604977233,
          0.15432316306471353,
          -1.3343063336111711,
          0.3070551780642177,
          -0.725797226005626,
          -1.7301618910339425,
          0.17314267419987728,
          0.09373377363588178,
          -0.7269861697072908,
          -0.46955874761710653,
          -0.9549560382480466,
          1.2281170323383088,
          1.0744464585626785,
          0.341389331106139,
          -0.08368209471358266,
          0.6391862548209815,
          -0.467661256658198,
          1.0502262851624535,
          -0.4501942935211725,
          -0.32652830291477475,
          0.78809611734416,
          -1.250691512063846,
          0.10459184502796498,
          -0.5403977319216013,
          0.8278277438293982,
          0.523207965822427,
          0.013430299327802899,
          -0.5853101507927018,
          2.3108818693556117,
          0.37283923915418016,
          0.9261405223112451,
          2.1709043096539076,
          1.202366354956429,
          0.7202705572951742,
          -0.38909386574300525,
          -0.4697076653796275,
          -0.6508378528647246,
          -1.60538059353009,
          -0.2524073831702897,
          0.9208148987066338,
          -0.4897524707676275,
          0.033160973175952214,
          0.45299415659775866,
          0.2927035288442242,
          0.8128192105396154,
          0.7978054951692821,
          -0.6854034718648053,
          -1.247462389741836,
          0.06780009449732918,
          0.10074023987386396,
          0.6688909970438659,
          0.7885133803304666,
          0.00010704173287405053,
          -1.8629836119503629,
          0.03351414252942276,
          -0.011903443521278874,
          -0.2260834960314316,
          1.2998218694106263,
          0.5740343494507967,
          2.2982221081895795,
          -0.8733595876535429,
          2.2232118909825025,
          -0.39579307505396205,
          0.3793399891289465,
          -0.44543979655325616,
          -0.22794209569049595,
          -0.24415025457606987,
          0.8792522328429637,
          -1.1314449109515592,
          -1.3224758596478212,
          -1.5691433065357765,
          -0.12417658817807435,
          -1.622638484710724,
          -0.20911028537437296,
          -0.4822088897711774,
          0.8950604722211677,
          1.0644624039894193,
          0.3152796611644776,
          -0.854462376618407,
          0.4051737299727414,
          0.6140132791065688,
          -1.0977736657746617,
          0.6863834860903448,
          0.9504176039230818,
          1.23572587520861,
          0.3896079208856805,
          0.12953470953739932,
          -0.13816043201243583,
          -0.4047427442852235,
          0.22512337725336676,
          0.6829251540264166,
          0.9860588042613442,
          -0.7140197321323445,
          -0.24789073766462977,
          1.0920031860254646,
          0.8016596188428425,
          0.5182080335825127,
          -0.054664183950607015,
          -0.26636009883954614,
          -0.41202710196693954,
          0.6989624035406915,
          -1.0053817101453095,
          -1.141108421553916,
          -0.26351657068872053,
          0.37290237209551,
          0.2584193857309165,
          0.36526686453771623,
          -0.1104095336173574,
          0.8678023340387796,
          0.21159569371313633,
          0.2748369110264804,
          0.6814893486306068,
          1.0194125670566294,
          0.3806762793976075,
          0.4119861351471475,
          -0.7359422393224969,
          0.9539625684956302,
          -1.2675054933188437,
          -1.3613561484188867,
          1.0262522215283418,
          0.21299018975112394,
          -0.12344349457283783,
          -0.4159916596696565,
          -0.3308014642672911,
          -0.13334282713759657,
          -0.9258167097895686,
          1.9128296717699045,
          -0.24444615579399487,
          -0.6028497548334882,
          0.619189736604895,
          1.6967533258327165,
          -0.12069082675360371,
          -0.8689378456235243,
          0.3378927994804301,
          0.19711343817936086,
          -0.790358761759752,
          -1.0276843700226508,
          -1.0208936356743927,
          -0.43402326755979564,
          -0.36922846864402536,
          0.11335367858423094,
          -0.4063462610349283,
          0.7091401376926045,
          0.005494341198066505,
          0.44971798741872737,
          0.22010793113440408,
          -0.6200438238399026,
          -0.04064110201667792,
          0.3070460765155828,
          0.38394924761979504,
          -0.19925533033682874,
          -0.30873527340980594,
          0.4711575126982186,
          0.5879634717701262,
          0.010917997380257338,
          0.8733689231097744,
          -0.20874424846740372,
          0.59368291084042,
          0.007629487917590861,
          -0.17059727231433014,
          -0.6122026766464725,
          1.0164696837598888,
          0.7629017300556943,
          1.756301829838777,
          0.9086984175787098,
          -0.18849205073202022,
          0.8795855089091028,
          -0.07455759850960143,
          0.928243164868483,
          -2.3682029537373612,
          0.017747183626972425,
          -1.1902925330444794,
          0.44855459076801824,
          -0.021894354278229795,
          0.37763356097590134,
          0.4264126741239047,
          -0.5807917800396352,
          -0.19874517978242828,
          -0.2647603268596229,
          0.5748320527323191,
          0.33598983079166145,
          0.34343737417513337,
          0.5712823843779705,
          -0.4899305722279035,
          0.04311416097613356,
          0.34068381081046933,
          -0.7079386339487486,
          1.0701807121267906,
          -0.11346302681151677,
          -0.16064739413690263,
          -0.550643575079184,
          -0.8234371817290713,
          -1.4940887632261308,
          -0.24928550401090127,
          -1.3420954606510118,
          -0.13408937227442097,
          -1.8670222379621713,
          -0.9614270366706699,
          -0.5995714482097563,
          -0.3190966888257822,
          0.5329697424523774,
          0.15043240261737564,
          -0.6941795456895957,
          -0.11566655474807483,
          -0.1372073111156238,
          -0.5594013708698244,
          0.21600033597922733,
          -1.8201602519729085,
          0.8103410342310388,
          -0.4991582415478567,
          0.620118359137689,
          -1.0738804061651377,
          0.06692760136568854,
          0.04203702521062278,
          -0.939043469785334,
          -0.11038819102603094,
          -0.32446572421982683,
          -0.7948343895366179,
          0.8847389189791459,
          -1.3212490000043131,
          1.9738552236313447,
          -0.011458643250104152,
          0.8348779880693176,
          0.3165677002482694,
          0.6205439005784099,
          -0.5725027567641688,
          0.8410764186561087,
          1.0462940854345626,
          0.12778989857318274,
          -0.5129151736224434,
          -0.2371517920676159,
          -0.739416558236967,
          0.01747999407540841,
          -1.335193547092984,
          -0.20276930398754517,
          -0.6429976170634825,
          -1.3401937439881924,
          -1.1674790842361815,
          0.6053599849573242,
          0.6108371849314037,
          1.9991654102334437,
          0.439995862517697,
          -1.5879226612087718,
          1.5527289608329848,
          1.0225159694823613,
          0.4816547063030736,
          0.03687921254011856,
          -0.877601105323109,
          0.25455825003168614,
          0.17681958915056004,
          0.09905884975785469,
          -0.7195357004111234,
          -0.23148519740905513,
          -1.0925458915052026,
          1.453978730872341,
          0.1510209130462448,
          0.013484781256330496,
          -0.5147749542892897,
          -0.8922409257388519,
          1.3173835173348583,
          -0.2197584256998969,
          -0.32532758424855174,
          -0.20185980712996118,
          0.5753827127468192,
          -1.1205642161563734,
          -0.5471053152479464,
          0.9154081539177729,
          1.3021015758054106,
          -1.43050737365558,
          -0.1620848359573072,
          -0.06114124207758263,
          0.5063290380440717,
          0.6347326571104941,
          -0.7996305804357814,
          -0.5845238675244991,
          0.38949992351737067,
          1.453992752986287,
          -0.9466392886807089,
          -0.8054374915789253,
          -0.4538712456736169,
          0.27821165708565604,
          0.47728451131528504,
          0.6403507893696815,
          -0.7138353621149987,
          -0.14595382625186104,
          0.20560229813123584,
          0.231950786814327,
          1.3481656417541465,
          -0.18767581148189746,
          -0.4404249342074757,
          -0.5208787275480362,
          0.09619791592579215,
          -0.7376337681091315,
          0.045040377319637635,
          -0.12701523164740564,
          0.4448650840577266,
          0.5933366639081469,
          -0.2993595798385505,
          -0.2313772225280304,
          1.700523967118787,
          -0.5202488666728375,
          -0.812639835257784,
          -0.7500411886868534,
          0.0873853555150382,
          -0.009955573452684748,
          0.3259138779104109,
          1.0424009518448565,
          0.11696484361667601,
          -0.6211827545072924,
          0.3026578928376483,
          -0.7126361952556057,
          0.5032227086556101,
          0.6100342665357555,
          0.49674594919044995,
          0.09242502790431123,
          -0.6505178710333834,
          0.5280773146052515,
          -0.04498227689298525,
          -0.6507712808572584,
          0.9403351999942825,
          0.4378552089453779,
          0.34615269797371534,
          -0.6473073561998717,
          0.012210024745957166,
          0.8739026046876707,
          0.32446383610215884,
          0.03498631179170758,
          0.6861287126437611,
          -1.3695658802074746,
          0.5652446346500916,
          0.3882082454150937,
          0.7473164342096738,
          1.2961350875914912,
          -1.369846807327918,
          -0.2895181891703736,
          0.07141462435094094,
          -0.975457034791433,
          0.6332632469112647,
          -1.7385317613187279,
          -0.5062933838143044,
          -1.1038272045314828,
          -0.5988671961759418,
          -0.09240270191154468,
          -0.04457644913917755,
          1.1728948977169267,
          -0.511141736350028,
          -0.6172451248601802,
          0.5271080705457665,
          -0.5534692802450615,
          -1.0445417525027372,
          0.028563352365667326,
          -0.24570077210793836,
          1.1540549336016486,
          -1.3253201783700421,
          -0.42580760549856383,
          -0.045791503329561736,
          0.8774435936296391,
          1.5010174193973131,
          0.44989377381565443,
          0.31515692349630975,
          -0.3729227117452449,
          0.29193558894330107,
          -0.6288366391519821,
          0.12619821953445784,
          -0.36983471628080955,
          -0.3946591453331223,
          0.45429071477596905,
          1.072442286110765,
          -0.6151574122565464,
          0.5771351175420171,
          0.12473404604641741,
          1.1343781160509103,
          0.6208832156587653,
          0.15447409961173816,
          0.4235685532292474,
          -0.7471310246132264,
          0.2450785006979974,
          1.0870476549895571
         ],
         "xaxis": "x",
         "yaxis": "y"
        }
       ],
       "layout": {
        "barmode": "relative",
        "legend": {
         "title": {
          "text": "variable"
         },
         "tracegroupgap": 0
        },
        "template": {
         "data": {
          "bar": [
           {
            "error_x": {
             "color": "#2a3f5f"
            },
            "error_y": {
             "color": "#2a3f5f"
            },
            "marker": {
             "line": {
              "color": "#E5ECF6",
              "width": 0.5
             },
             "pattern": {
              "fillmode": "overlay",
              "size": 10,
              "solidity": 0.2
             }
            },
            "type": "bar"
           }
          ],
          "barpolar": [
           {
            "marker": {
             "line": {
              "color": "#E5ECF6",
              "width": 0.5
             },
             "pattern": {
              "fillmode": "overlay",
              "size": 10,
              "solidity": 0.2
             }
            },
            "type": "barpolar"
           }
          ],
          "carpet": [
           {
            "aaxis": {
             "endlinecolor": "#2a3f5f",
             "gridcolor": "white",
             "linecolor": "white",
             "minorgridcolor": "white",
             "startlinecolor": "#2a3f5f"
            },
            "baxis": {
             "endlinecolor": "#2a3f5f",
             "gridcolor": "white",
             "linecolor": "white",
             "minorgridcolor": "white",
             "startlinecolor": "#2a3f5f"
            },
            "type": "carpet"
           }
          ],
          "choropleth": [
           {
            "colorbar": {
             "outlinewidth": 0,
             "ticks": ""
            },
            "type": "choropleth"
           }
          ],
          "contour": [
           {
            "colorbar": {
             "outlinewidth": 0,
             "ticks": ""
            },
            "colorscale": [
             [
              0,
              "#0d0887"
             ],
             [
              0.1111111111111111,
              "#46039f"
             ],
             [
              0.2222222222222222,
              "#7201a8"
             ],
             [
              0.3333333333333333,
              "#9c179e"
             ],
             [
              0.4444444444444444,
              "#bd3786"
             ],
             [
              0.5555555555555556,
              "#d8576b"
             ],
             [
              0.6666666666666666,
              "#ed7953"
             ],
             [
              0.7777777777777778,
              "#fb9f3a"
             ],
             [
              0.8888888888888888,
              "#fdca26"
             ],
             [
              1,
              "#f0f921"
             ]
            ],
            "type": "contour"
           }
          ],
          "contourcarpet": [
           {
            "colorbar": {
             "outlinewidth": 0,
             "ticks": ""
            },
            "type": "contourcarpet"
           }
          ],
          "heatmap": [
           {
            "colorbar": {
             "outlinewidth": 0,
             "ticks": ""
            },
            "colorscale": [
             [
              0,
              "#0d0887"
             ],
             [
              0.1111111111111111,
              "#46039f"
             ],
             [
              0.2222222222222222,
              "#7201a8"
             ],
             [
              0.3333333333333333,
              "#9c179e"
             ],
             [
              0.4444444444444444,
              "#bd3786"
             ],
             [
              0.5555555555555556,
              "#d8576b"
             ],
             [
              0.6666666666666666,
              "#ed7953"
             ],
             [
              0.7777777777777778,
              "#fb9f3a"
             ],
             [
              0.8888888888888888,
              "#fdca26"
             ],
             [
              1,
              "#f0f921"
             ]
            ],
            "type": "heatmap"
           }
          ],
          "heatmapgl": [
           {
            "colorbar": {
             "outlinewidth": 0,
             "ticks": ""
            },
            "colorscale": [
             [
              0,
              "#0d0887"
             ],
             [
              0.1111111111111111,
              "#46039f"
             ],
             [
              0.2222222222222222,
              "#7201a8"
             ],
             [
              0.3333333333333333,
              "#9c179e"
             ],
             [
              0.4444444444444444,
              "#bd3786"
             ],
             [
              0.5555555555555556,
              "#d8576b"
             ],
             [
              0.6666666666666666,
              "#ed7953"
             ],
             [
              0.7777777777777778,
              "#fb9f3a"
             ],
             [
              0.8888888888888888,
              "#fdca26"
             ],
             [
              1,
              "#f0f921"
             ]
            ],
            "type": "heatmapgl"
           }
          ],
          "histogram": [
           {
            "marker": {
             "pattern": {
              "fillmode": "overlay",
              "size": 10,
              "solidity": 0.2
             }
            },
            "type": "histogram"
           }
          ],
          "histogram2d": [
           {
            "colorbar": {
             "outlinewidth": 0,
             "ticks": ""
            },
            "colorscale": [
             [
              0,
              "#0d0887"
             ],
             [
              0.1111111111111111,
              "#46039f"
             ],
             [
              0.2222222222222222,
              "#7201a8"
             ],
             [
              0.3333333333333333,
              "#9c179e"
             ],
             [
              0.4444444444444444,
              "#bd3786"
             ],
             [
              0.5555555555555556,
              "#d8576b"
             ],
             [
              0.6666666666666666,
              "#ed7953"
             ],
             [
              0.7777777777777778,
              "#fb9f3a"
             ],
             [
              0.8888888888888888,
              "#fdca26"
             ],
             [
              1,
              "#f0f921"
             ]
            ],
            "type": "histogram2d"
           }
          ],
          "histogram2dcontour": [
           {
            "colorbar": {
             "outlinewidth": 0,
             "ticks": ""
            },
            "colorscale": [
             [
              0,
              "#0d0887"
             ],
             [
              0.1111111111111111,
              "#46039f"
             ],
             [
              0.2222222222222222,
              "#7201a8"
             ],
             [
              0.3333333333333333,
              "#9c179e"
             ],
             [
              0.4444444444444444,
              "#bd3786"
             ],
             [
              0.5555555555555556,
              "#d8576b"
             ],
             [
              0.6666666666666666,
              "#ed7953"
             ],
             [
              0.7777777777777778,
              "#fb9f3a"
             ],
             [
              0.8888888888888888,
              "#fdca26"
             ],
             [
              1,
              "#f0f921"
             ]
            ],
            "type": "histogram2dcontour"
           }
          ],
          "mesh3d": [
           {
            "colorbar": {
             "outlinewidth": 0,
             "ticks": ""
            },
            "type": "mesh3d"
           }
          ],
          "parcoords": [
           {
            "line": {
             "colorbar": {
              "outlinewidth": 0,
              "ticks": ""
             }
            },
            "type": "parcoords"
           }
          ],
          "pie": [
           {
            "automargin": true,
            "type": "pie"
           }
          ],
          "scatter": [
           {
            "fillpattern": {
             "fillmode": "overlay",
             "size": 10,
             "solidity": 0.2
            },
            "type": "scatter"
           }
          ],
          "scatter3d": [
           {
            "line": {
             "colorbar": {
              "outlinewidth": 0,
              "ticks": ""
             }
            },
            "marker": {
             "colorbar": {
              "outlinewidth": 0,
              "ticks": ""
             }
            },
            "type": "scatter3d"
           }
          ],
          "scattercarpet": [
           {
            "marker": {
             "colorbar": {
              "outlinewidth": 0,
              "ticks": ""
             }
            },
            "type": "scattercarpet"
           }
          ],
          "scattergeo": [
           {
            "marker": {
             "colorbar": {
              "outlinewidth": 0,
              "ticks": ""
             }
            },
            "type": "scattergeo"
           }
          ],
          "scattergl": [
           {
            "marker": {
             "colorbar": {
              "outlinewidth": 0,
              "ticks": ""
             }
            },
            "type": "scattergl"
           }
          ],
          "scattermapbox": [
           {
            "marker": {
             "colorbar": {
              "outlinewidth": 0,
              "ticks": ""
             }
            },
            "type": "scattermapbox"
           }
          ],
          "scatterpolar": [
           {
            "marker": {
             "colorbar": {
              "outlinewidth": 0,
              "ticks": ""
             }
            },
            "type": "scatterpolar"
           }
          ],
          "scatterpolargl": [
           {
            "marker": {
             "colorbar": {
              "outlinewidth": 0,
              "ticks": ""
             }
            },
            "type": "scatterpolargl"
           }
          ],
          "scatterternary": [
           {
            "marker": {
             "colorbar": {
              "outlinewidth": 0,
              "ticks": ""
             }
            },
            "type": "scatterternary"
           }
          ],
          "surface": [
           {
            "colorbar": {
             "outlinewidth": 0,
             "ticks": ""
            },
            "colorscale": [
             [
              0,
              "#0d0887"
             ],
             [
              0.1111111111111111,
              "#46039f"
             ],
             [
              0.2222222222222222,
              "#7201a8"
             ],
             [
              0.3333333333333333,
              "#9c179e"
             ],
             [
              0.4444444444444444,
              "#bd3786"
             ],
             [
              0.5555555555555556,
              "#d8576b"
             ],
             [
              0.6666666666666666,
              "#ed7953"
             ],
             [
              0.7777777777777778,
              "#fb9f3a"
             ],
             [
              0.8888888888888888,
              "#fdca26"
             ],
             [
              1,
              "#f0f921"
             ]
            ],
            "type": "surface"
           }
          ],
          "table": [
           {
            "cells": {
             "fill": {
              "color": "#EBF0F8"
             },
             "line": {
              "color": "white"
             }
            },
            "header": {
             "fill": {
              "color": "#C8D4E3"
             },
             "line": {
              "color": "white"
             }
            },
            "type": "table"
           }
          ]
         },
         "layout": {
          "annotationdefaults": {
           "arrowcolor": "#2a3f5f",
           "arrowhead": 0,
           "arrowwidth": 1
          },
          "autotypenumbers": "strict",
          "coloraxis": {
           "colorbar": {
            "outlinewidth": 0,
            "ticks": ""
           }
          },
          "colorscale": {
           "diverging": [
            [
             0,
             "#8e0152"
            ],
            [
             0.1,
             "#c51b7d"
            ],
            [
             0.2,
             "#de77ae"
            ],
            [
             0.3,
             "#f1b6da"
            ],
            [
             0.4,
             "#fde0ef"
            ],
            [
             0.5,
             "#f7f7f7"
            ],
            [
             0.6,
             "#e6f5d0"
            ],
            [
             0.7,
             "#b8e186"
            ],
            [
             0.8,
             "#7fbc41"
            ],
            [
             0.9,
             "#4d9221"
            ],
            [
             1,
             "#276419"
            ]
           ],
           "sequential": [
            [
             0,
             "#0d0887"
            ],
            [
             0.1111111111111111,
             "#46039f"
            ],
            [
             0.2222222222222222,
             "#7201a8"
            ],
            [
             0.3333333333333333,
             "#9c179e"
            ],
            [
             0.4444444444444444,
             "#bd3786"
            ],
            [
             0.5555555555555556,
             "#d8576b"
            ],
            [
             0.6666666666666666,
             "#ed7953"
            ],
            [
             0.7777777777777778,
             "#fb9f3a"
            ],
            [
             0.8888888888888888,
             "#fdca26"
            ],
            [
             1,
             "#f0f921"
            ]
           ],
           "sequentialminus": [
            [
             0,
             "#0d0887"
            ],
            [
             0.1111111111111111,
             "#46039f"
            ],
            [
             0.2222222222222222,
             "#7201a8"
            ],
            [
             0.3333333333333333,
             "#9c179e"
            ],
            [
             0.4444444444444444,
             "#bd3786"
            ],
            [
             0.5555555555555556,
             "#d8576b"
            ],
            [
             0.6666666666666666,
             "#ed7953"
            ],
            [
             0.7777777777777778,
             "#fb9f3a"
            ],
            [
             0.8888888888888888,
             "#fdca26"
            ],
            [
             1,
             "#f0f921"
            ]
           ]
          },
          "colorway": [
           "#636efa",
           "#EF553B",
           "#00cc96",
           "#ab63fa",
           "#FFA15A",
           "#19d3f3",
           "#FF6692",
           "#B6E880",
           "#FF97FF",
           "#FECB52"
          ],
          "font": {
           "color": "#2a3f5f"
          },
          "geo": {
           "bgcolor": "white",
           "lakecolor": "white",
           "landcolor": "#E5ECF6",
           "showlakes": true,
           "showland": true,
           "subunitcolor": "white"
          },
          "hoverlabel": {
           "align": "left"
          },
          "hovermode": "closest",
          "mapbox": {
           "style": "light"
          },
          "paper_bgcolor": "white",
          "plot_bgcolor": "#E5ECF6",
          "polar": {
           "angularaxis": {
            "gridcolor": "white",
            "linecolor": "white",
            "ticks": ""
           },
           "bgcolor": "#E5ECF6",
           "radialaxis": {
            "gridcolor": "white",
            "linecolor": "white",
            "ticks": ""
           }
          },
          "scene": {
           "xaxis": {
            "backgroundcolor": "#E5ECF6",
            "gridcolor": "white",
            "gridwidth": 2,
            "linecolor": "white",
            "showbackground": true,
            "ticks": "",
            "zerolinecolor": "white"
           },
           "yaxis": {
            "backgroundcolor": "#E5ECF6",
            "gridcolor": "white",
            "gridwidth": 2,
            "linecolor": "white",
            "showbackground": true,
            "ticks": "",
            "zerolinecolor": "white"
           },
           "zaxis": {
            "backgroundcolor": "#E5ECF6",
            "gridcolor": "white",
            "gridwidth": 2,
            "linecolor": "white",
            "showbackground": true,
            "ticks": "",
            "zerolinecolor": "white"
           }
          },
          "shapedefaults": {
           "line": {
            "color": "#2a3f5f"
           }
          },
          "ternary": {
           "aaxis": {
            "gridcolor": "white",
            "linecolor": "white",
            "ticks": ""
           },
           "baxis": {
            "gridcolor": "white",
            "linecolor": "white",
            "ticks": ""
           },
           "bgcolor": "#E5ECF6",
           "caxis": {
            "gridcolor": "white",
            "linecolor": "white",
            "ticks": ""
           }
          },
          "title": {
           "x": 0.05
          },
          "xaxis": {
           "automargin": true,
           "gridcolor": "white",
           "linecolor": "white",
           "ticks": "",
           "title": {
            "standoff": 15
           },
           "zerolinecolor": "white",
           "zerolinewidth": 2
          },
          "yaxis": {
           "automargin": true,
           "gridcolor": "white",
           "linecolor": "white",
           "ticks": "",
           "title": {
            "standoff": 15
           },
           "zerolinecolor": "white",
           "zerolinewidth": 2
          }
         }
        },
        "title": {
         "text": "Histogram of y"
        },
        "xaxis": {
         "anchor": "y",
         "domain": [
          0,
          1
         ],
         "title": {
          "text": "value"
         }
        },
        "yaxis": {
         "anchor": "x",
         "domain": [
          0,
          1
         ],
         "title": {
          "text": "count"
         }
        }
       }
      }
     },
     "metadata": {},
     "output_type": "display_data"
    }
   ],
   "source": [
    "pitch_data.show_y_location_hist()"
   ]
  }
 ],
 "metadata": {
  "kernelspec": {
   "display_name": "Python 3",
   "language": "python",
   "name": "python3"
  },
  "language_info": {
   "codemirror_mode": {
    "name": "ipython",
    "version": 3
   },
   "file_extension": ".py",
   "mimetype": "text/x-python",
   "name": "python",
   "nbconvert_exporter": "python",
   "pygments_lexer": "ipython3",
   "version": "3.11.7"
  }
 },
 "nbformat": 4,
 "nbformat_minor": 2
}
