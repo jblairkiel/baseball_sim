{
 "cells": [
  {
   "cell_type": "code",
   "execution_count": 10,
   "metadata": {},
   "outputs": [
    {
     "name": "stdout",
     "output_type": "stream",
     "text": [
      "The autoreload extension is already loaded. To reload it, use:\n",
      "  %reload_ext autoreload\n"
     ]
    }
   ],
   "source": [
    "%load_ext autoreload\n",
    "%reload_ext autoreload"
   ]
  },
  {
   "cell_type": "code",
   "execution_count": 11,
   "metadata": {},
   "outputs": [
    {
     "name": "stdout",
     "output_type": "stream",
     "text": [
      "Team #28 (0-0) \n",
      " Lineup: \n",
      "\t Jack Ross (#71)\n",
      "\tJonathan Boyd (#29)\n",
      "\tDong Diaz (#75)\n",
      "\tGregory Brown (#77)\n",
      "\tLarry Delsignore (#42)\n",
      "\tArthur Vanausdal (#14)\n",
      "\tJimmy Martinez (#89)\n",
      "\tJohn Sasso (#94)\n",
      "\tBruce Athayde (#34)\n"
     ]
    }
   ],
   "source": [
    "import os, sys\n",
    "curPath = os.path.abspath('')\n",
    "for i in range(1):\n",
    "    curPath = os.path.join(curPath, \"..\")\n",
    "    sys.path.append(curPath)\n",
    "\n",
    "from src.player import Player\n",
    "from src.team import Team\n",
    "from src.pitch import Pitch\n",
    "from src.league import League\n",
    "from src.util.logic.pitcher_hitter_logic import PitcherHitterLogic\n",
    "from src.util.generation import generate_team, generate_league, generate_pitch, generate_player\n",
    "import plotly.express as px\n",
    "import pandas as pd\n",
    "from src.analysis.pitch_data import Pitch_Data\n",
    "\n",
    "\n",
    "a = generate_team()\n",
    "\n",
    "print(str(a))"
   ]
  },
  {
   "cell_type": "code",
   "execution_count": 12,
   "metadata": {},
   "outputs": [],
   "source": [
    "pitch_dict = []\n",
    "pitch_hitability_dict = []\n",
    "\n",
    "player_dict = []\n",
    "player_hitability_dict = []\n",
    "for i in range(0, 1000):\n",
    "    pos_choice = (i % 9)\n",
    "    player = generate_player(pos_choice)\n",
    "    pitch = generate_pitch()\n",
    "    hitability_obj = PitcherHitterLogic(player.get_slugging_percentage())\n",
    "    hitability = hitability_obj.calculate_hitability_value(pitch.pitch_x, pitch.pitch_y, hit_odds_calculator=.30)\n",
    "    pitch.outcome = hitability_obj.get_call_outcome(pitch.pitch_x, pitch.pitch_y)\n",
    "    #pitch = pitch.__dict__\n",
    "    pitch.hitability = hitability\n",
    "    pitch.outcome = hitability_obj.determine_hitability_from_value(pitch.pitch_x, pitch.pitch_y)\n",
    "    p_dict = pitch.__dict__\n",
    "    player_hitability_dict.append(p_dict)\n",
    "\n",
    "df = pd.DataFrame(player_hitability_dict)\n"
   ]
  },
  {
   "cell_type": "code",
   "execution_count": 13,
   "metadata": {},
   "outputs": [
    {
     "data": {
      "text/html": [
       "<div>\n",
       "<style scoped>\n",
       "    .dataframe tbody tr th:only-of-type {\n",
       "        vertical-align: middle;\n",
       "    }\n",
       "\n",
       "    .dataframe tbody tr th {\n",
       "        vertical-align: top;\n",
       "    }\n",
       "\n",
       "    .dataframe thead th {\n",
       "        text-align: right;\n",
       "    }\n",
       "</style>\n",
       "<table border=\"1\" class=\"dataframe\">\n",
       "  <thead>\n",
       "    <tr style=\"text-align: right;\">\n",
       "      <th></th>\n",
       "      <th>pitch_x</th>\n",
       "      <th>pitch_y</th>\n",
       "      <th>pitch_type</th>\n",
       "      <th>hitability</th>\n",
       "      <th>outcome</th>\n",
       "    </tr>\n",
       "  </thead>\n",
       "  <tbody>\n",
       "    <tr>\n",
       "      <th>0</th>\n",
       "      <td>-1.278981</td>\n",
       "      <td>-0.233312</td>\n",
       "      <td>chcur</td>\n",
       "      <td>0.107377</td>\n",
       "      <td>Strike</td>\n",
       "    </tr>\n",
       "    <tr>\n",
       "      <th>1</th>\n",
       "      <td>1.736197</td>\n",
       "      <td>-0.564962</td>\n",
       "      <td>chcur</td>\n",
       "      <td>0.047214</td>\n",
       "      <td>Strike</td>\n",
       "    </tr>\n",
       "    <tr>\n",
       "      <th>2</th>\n",
       "      <td>-0.110513</td>\n",
       "      <td>0.266131</td>\n",
       "      <td>chcur</td>\n",
       "      <td>0.239833</td>\n",
       "      <td>Strike</td>\n",
       "    </tr>\n",
       "    <tr>\n",
       "      <th>3</th>\n",
       "      <td>1.806981</td>\n",
       "      <td>-0.124137</td>\n",
       "      <td>fb</td>\n",
       "      <td>0.048481</td>\n",
       "      <td>Strike</td>\n",
       "    </tr>\n",
       "    <tr>\n",
       "      <th>4</th>\n",
       "      <td>0.372867</td>\n",
       "      <td>0.290460</td>\n",
       "      <td>chcur</td>\n",
       "      <td>0.223578</td>\n",
       "      <td>Strike</td>\n",
       "    </tr>\n",
       "  </tbody>\n",
       "</table>\n",
       "</div>"
      ],
      "text/plain": [
       "    pitch_x   pitch_y pitch_type  hitability outcome\n",
       "0 -1.278981 -0.233312      chcur    0.107377  Strike\n",
       "1  1.736197 -0.564962      chcur    0.047214  Strike\n",
       "2 -0.110513  0.266131      chcur    0.239833  Strike\n",
       "3  1.806981 -0.124137         fb    0.048481  Strike\n",
       "4  0.372867  0.290460      chcur    0.223578  Strike"
      ]
     },
     "execution_count": 13,
     "metadata": {},
     "output_type": "execute_result"
    }
   ],
   "source": [
    "pitch_data = Pitch_Data(df)\n",
    "df.head()"
   ]
  },
  {
   "cell_type": "code",
   "execution_count": 14,
   "metadata": {},
   "outputs": [
    {
     "data": {
      "application/vnd.plotly.v1+json": {
       "config": {
        "plotlyServerURL": "https://plot.ly"
       },
       "data": [
        {
         "alignmentgroup": "True",
         "bingroup": "x",
         "hovertemplate": "variable=outcome<br>value=%{x}<br>count=%{y}<extra></extra>",
         "legendgroup": "outcome",
         "marker": {
          "color": "#636efa",
          "pattern": {
           "shape": ""
          }
         },
         "name": "outcome",
         "offsetgroup": "outcome",
         "orientation": "v",
         "showlegend": true,
         "type": "histogram",
         "x": [
          "Strike",
          "Strike",
          "Strike",
          "Strike",
          "Strike",
          "Strike",
          "Strike",
          "Strike",
          "Strike",
          "Strike",
          "Strike",
          "Strike",
          "Strike",
          "Ball",
          "Strike",
          "Ball",
          "Strike",
          "Strike",
          "Strike",
          "Strike",
          "Strike",
          "Strike",
          "Strike",
          "Strike",
          "Strike",
          "Strike",
          "Strike",
          "Strike",
          "Strike",
          "Strike",
          "Strike",
          "Strike",
          "Ball",
          "Strike",
          "Strike",
          "Strike",
          "Strike",
          "Strike",
          "Strike",
          "Strike",
          "Strike",
          "Ball",
          "Strike",
          "Strike",
          "Strike",
          "Strike",
          "Strike",
          "Ball",
          "Strike",
          "Strike",
          "Strike",
          "Strike",
          "Strike",
          "Strike",
          "Strike",
          "Strike",
          "Strike",
          "Strike",
          "Strike",
          "Strike",
          "Strike",
          "Strike",
          "Strike",
          "Strike",
          "Strike",
          "Strike",
          "Strike",
          "Ball",
          "Strike",
          "Strike",
          "Strike",
          "Strike",
          "Ball",
          "Strike",
          "Strike",
          "Strike",
          "Strike",
          "Strike",
          "Ball",
          "Strike",
          "Strike",
          "Strike",
          "Strike",
          "Ball",
          "Strike",
          "Strike",
          "Strike",
          "Strike",
          "Strike",
          "Strike",
          "Strike",
          "Strike",
          "Ball",
          "Strike",
          "Ball",
          "Strike",
          "Strike",
          "Strike",
          "Strike",
          "Strike",
          "Strike",
          "Strike",
          "Strike",
          "Strike",
          "Strike",
          "Strike",
          "Strike",
          "Strike",
          "Strike",
          "Strike",
          "Strike",
          "Strike",
          "Strike",
          "Strike",
          "Strike",
          "Strike",
          "Strike",
          "Strike",
          "Strike",
          "Strike",
          "Strike",
          "Strike",
          "Strike",
          "Strike",
          "Strike",
          "Strike",
          "Strike",
          "Strike",
          "Strike",
          "Strike",
          "Strike",
          "Ball",
          "Ball",
          "Strike",
          "Strike",
          "Strike",
          "Strike",
          "Strike",
          "Strike",
          "Strike",
          "Strike",
          "Strike",
          "Strike",
          "Strike",
          "Strike",
          "Strike",
          "Strike",
          "Strike",
          "Strike",
          "Strike",
          "Strike",
          "Strike",
          "Strike",
          "Strike",
          "Strike",
          "Strike",
          "Strike",
          "Strike",
          "Strike",
          "Strike",
          "Strike",
          "Strike",
          "Ball",
          "Strike",
          "Strike",
          "Strike",
          "Strike",
          "Ball",
          "Strike",
          "Strike",
          "Strike",
          "Strike",
          "Strike",
          "Strike",
          "Strike",
          "Strike",
          "Strike",
          "Strike",
          "Strike",
          "Strike",
          "Strike",
          "Strike",
          "Strike",
          "Strike",
          "Strike",
          "Strike",
          "Strike",
          "Strike",
          "Strike",
          "Strike",
          "Ball",
          "Strike",
          "Strike",
          "Ball",
          "Strike",
          "Strike",
          "Strike",
          "Strike",
          "Strike",
          "Strike",
          "Strike",
          "Strike",
          "Strike",
          "Strike",
          "Strike",
          "Strike",
          "Strike",
          "Strike",
          "Strike",
          "Strike",
          "Strike",
          "Strike",
          "Strike",
          "Strike",
          "Strike",
          "Strike",
          "Strike",
          "Strike",
          "Strike",
          "Strike",
          "Strike",
          "Ball",
          "Strike",
          "Strike",
          "Strike",
          "Strike",
          "Strike",
          "Ball",
          "Strike",
          "Strike",
          "Strike",
          "Ball",
          "Strike",
          "Strike",
          "Strike",
          "Strike",
          "Strike",
          "Strike",
          "Strike",
          "Strike",
          "Strike",
          "Strike",
          "Strike",
          "Strike",
          "Strike",
          "Strike",
          "Strike",
          "Strike",
          "Strike",
          "Strike",
          "Strike",
          "Strike",
          "Strike",
          "Strike",
          "Strike",
          "Strike",
          "Strike",
          "Strike",
          "Strike",
          "Strike",
          "Strike",
          "Strike",
          "Strike",
          "Strike",
          "Strike",
          "Strike",
          "Strike",
          "Strike",
          "Strike",
          "Strike",
          "Ball",
          "Strike",
          "Strike",
          "Strike",
          "Strike",
          "Ball",
          "Strike",
          "Strike",
          "Strike",
          "Strike",
          "Strike",
          "Strike",
          "Strike",
          "Strike",
          "Strike",
          "Strike",
          "Strike",
          "Strike",
          "Strike",
          "Strike",
          "Strike",
          "Strike",
          "Strike",
          "Strike",
          "Strike",
          "Strike",
          "Strike",
          "Strike",
          "Strike",
          "Strike",
          "Strike",
          "Strike",
          "Strike",
          "Strike",
          "Strike",
          "Strike",
          "Strike",
          "Strike",
          "Strike",
          "Ball",
          "Strike",
          "Strike",
          "Strike",
          "Strike",
          "Strike",
          "Strike",
          "Strike",
          "Strike",
          "Strike",
          "Strike",
          "Strike",
          "Strike",
          "Strike",
          "Ball",
          "Strike",
          "Strike",
          "Strike",
          "Strike",
          "Strike",
          "Strike",
          "Strike",
          "Strike",
          "Strike",
          "Strike",
          "Strike",
          "Strike",
          "Strike",
          "Strike",
          "Strike",
          "Strike",
          "Strike",
          "Strike",
          "Strike",
          "Strike",
          "Strike",
          "Strike",
          "Strike",
          "Strike",
          "Strike",
          "Strike",
          "Strike",
          "Strike",
          "Strike",
          "Strike",
          "Strike",
          "Strike",
          "Ball",
          "Strike",
          "Strike",
          "Strike",
          "Strike",
          "Strike",
          "Strike",
          "Ball",
          "Strike",
          "Strike",
          "Strike",
          "Strike",
          "Strike",
          "Strike",
          "Strike",
          "Strike",
          "Strike",
          "Strike",
          "Strike",
          "Ball",
          "Strike",
          "Strike",
          "Strike",
          "Strike",
          "Strike",
          "Ball",
          "Strike",
          "Strike",
          "Ball",
          "Strike",
          "Strike",
          "Strike",
          "Strike",
          "Strike",
          "Strike",
          "Ball",
          "Strike",
          "Strike",
          "Strike",
          "Strike",
          "Strike",
          "Strike",
          "Strike",
          "Strike",
          "Strike",
          "Strike",
          "Strike",
          "Strike",
          "Strike",
          "Strike",
          "Strike",
          "Strike",
          "Strike",
          "Strike",
          "Strike",
          "Strike",
          "Strike",
          "Strike",
          "Strike",
          "Strike",
          "Strike",
          "Strike",
          "Strike",
          "Strike",
          "Strike",
          "Strike",
          "Strike",
          "Strike",
          "Strike",
          "Strike",
          "Strike",
          "Strike",
          "Strike",
          "Strike",
          "Strike",
          "Strike",
          "Strike",
          "Strike",
          "Strike",
          "Strike",
          "Strike",
          "Strike",
          "Ball",
          "Strike",
          "Ball",
          "Strike",
          "Strike",
          "Strike",
          "Strike",
          "Strike",
          "Strike",
          "Strike",
          "Strike",
          "Strike",
          "Strike",
          "Strike",
          "Strike",
          "Strike",
          "Strike",
          "Strike",
          "Strike",
          "Strike",
          "Strike",
          "Strike",
          "Strike",
          "Strike",
          "Strike",
          "Strike",
          "Strike",
          "Strike",
          "Strike",
          "Strike",
          "Strike",
          "Strike",
          "Strike",
          "Strike",
          "Strike",
          "Strike",
          "Strike",
          "Strike",
          "Strike",
          "Strike",
          "Strike",
          "Strike",
          "Strike",
          "Strike",
          "Strike",
          "Strike",
          "Strike",
          "Strike",
          "Strike",
          "Strike",
          "Strike",
          "Strike",
          "Strike",
          "Strike",
          "Strike",
          "Strike",
          "Strike",
          "Strike",
          "Ball",
          "Strike",
          "Strike",
          "Strike",
          "Strike",
          "Strike",
          "Strike",
          "Strike",
          "Strike",
          "Strike",
          "Strike",
          "Strike",
          "Strike",
          "Strike",
          "Strike",
          "Strike",
          "Strike",
          "Strike",
          "Strike",
          "Strike",
          "Strike",
          "Strike",
          "Strike",
          "Strike",
          "Strike",
          "Strike",
          "Strike",
          "Strike",
          "Strike",
          "Strike",
          "Strike",
          "Strike",
          "Strike",
          "Ball",
          "Strike",
          "Ball",
          "Strike",
          "Strike",
          "Strike",
          "Strike",
          "Strike",
          "Strike",
          "Strike",
          "Strike",
          "Strike",
          "Strike",
          "Strike",
          "Strike",
          "Ball",
          "Strike",
          "Strike",
          "Strike",
          "Strike",
          "Strike",
          "Strike",
          "Strike",
          "Strike",
          "Strike",
          "Strike",
          "Strike",
          "Strike",
          "Strike",
          "Strike",
          "Strike",
          "Strike",
          "Strike",
          "Ball",
          "Strike",
          "Strike",
          "Strike",
          "Strike",
          "Strike",
          "Strike",
          "Strike",
          "Strike",
          "Strike",
          "Strike",
          "Strike",
          "Strike",
          "Strike",
          "Strike",
          "Strike",
          "Strike",
          "Strike",
          "Strike",
          "Strike",
          "Strike",
          "Strike",
          "Strike",
          "Strike",
          "Strike",
          "Ball",
          "Strike",
          "Strike",
          "Strike",
          "Strike",
          "Strike",
          "Strike",
          "Strike",
          "Strike",
          "Ball",
          "Strike",
          "Strike",
          "Strike",
          "Strike",
          "Strike",
          "Strike",
          "Strike",
          "Strike",
          "Strike",
          "Strike",
          "Strike",
          "Strike",
          "Strike",
          "Strike",
          "Strike",
          "Strike",
          "Strike",
          "Strike",
          "Strike",
          "Strike",
          "Strike",
          "Strike",
          "Strike",
          "Strike",
          "Strike",
          "Strike",
          "Strike",
          "Strike",
          "Ball",
          "Strike",
          "Strike",
          "Strike",
          "Strike",
          "Strike",
          "Strike",
          "Strike",
          "Strike",
          "Strike",
          "Strike",
          "Strike",
          "Strike",
          "Strike",
          "Strike",
          "Strike",
          "Strike",
          "Strike",
          "Strike",
          "Strike",
          "Ball",
          "Strike",
          "Strike",
          "Strike",
          "Strike",
          "Strike",
          "Strike",
          "Strike",
          "Strike",
          "Strike",
          "Strike",
          "Strike",
          "Strike",
          "Strike",
          "Strike",
          "Strike",
          "Strike",
          "Strike",
          "Strike",
          "Strike",
          "Strike",
          "Strike",
          "Ball",
          "Strike",
          "Strike",
          "Strike",
          "Strike",
          "Strike",
          "Strike",
          "Strike",
          "Ball",
          "Strike",
          "Strike",
          "Strike",
          "Strike",
          "Strike",
          "Strike",
          "Strike",
          "Strike",
          "Strike",
          "Strike",
          "Strike",
          "Strike",
          "Strike",
          "Strike",
          "Strike",
          "Strike",
          "Ball",
          "Strike",
          "Strike",
          "Strike",
          "Strike",
          "Strike",
          "Strike",
          "Strike",
          "Strike",
          "Strike",
          "Strike",
          "Strike",
          "Strike",
          "Strike",
          "Strike",
          "Strike",
          "Strike",
          "Strike",
          "Strike",
          "Strike",
          "Strike",
          "Strike",
          "Strike",
          "Strike",
          "Strike",
          "Strike",
          "Strike",
          "Strike",
          "Strike",
          "Strike",
          "Strike",
          "Strike",
          "Strike",
          "Strike",
          "Ball",
          "Strike",
          "Strike",
          "Strike",
          "Strike",
          "Strike",
          "Strike",
          "Strike",
          "Ball",
          "Strike",
          "Strike",
          "Strike",
          "Strike",
          "Strike",
          "Strike",
          "Strike",
          "Strike",
          "Strike",
          "Strike",
          "Strike",
          "Strike",
          "Strike",
          "Strike",
          "Strike",
          "Strike",
          "Strike",
          "Strike",
          "Strike",
          "Strike",
          "Strike",
          "Strike",
          "Strike",
          "Strike",
          "Strike",
          "Strike",
          "Strike",
          "Strike",
          "Strike",
          "Strike",
          "Strike",
          "Strike",
          "Strike",
          "Strike",
          "Strike",
          "Strike",
          "Strike",
          "Strike",
          "Strike",
          "Strike",
          "Strike",
          "Strike",
          "Strike",
          "Strike",
          "Strike",
          "Strike",
          "Strike",
          "Strike",
          "Strike",
          "Strike",
          "Strike",
          "Strike",
          "Strike",
          "Strike",
          "Strike",
          "Ball",
          "Strike",
          "Strike",
          "Strike",
          "Strike",
          "Strike",
          "Strike",
          "Ball",
          "Strike",
          "Strike",
          "Strike",
          "Strike",
          "Strike",
          "Strike",
          "Strike",
          "Strike",
          "Strike",
          "Strike",
          "Strike",
          "Strike",
          "Ball",
          "Strike",
          "Ball",
          "Strike",
          "Strike",
          "Strike",
          "Strike",
          "Strike",
          "Strike",
          "Strike",
          "Strike",
          "Strike",
          "Strike",
          "Strike",
          "Ball",
          "Strike",
          "Ball",
          "Strike",
          "Strike",
          "Strike",
          "Strike",
          "Strike",
          "Strike",
          "Strike",
          "Strike",
          "Strike",
          "Strike",
          "Strike",
          "Ball",
          "Strike",
          "Strike",
          "Ball",
          "Strike",
          "Strike",
          "Ball",
          "Strike",
          "Strike",
          "Strike",
          "Strike",
          "Strike",
          "Strike",
          "Strike",
          "Strike",
          "Ball",
          "Strike",
          "Strike",
          "Strike",
          "Strike",
          "Strike",
          "Strike",
          "Strike",
          "Strike",
          "Strike",
          "Ball",
          "Strike",
          "Strike",
          "Strike",
          "Strike",
          "Strike",
          "Strike",
          "Strike",
          "Strike",
          "Strike",
          "Strike",
          "Strike",
          "Strike",
          "Ball",
          "Strike",
          "Strike",
          "Strike",
          "Strike",
          "Strike",
          "Strike",
          "Ball",
          "Strike",
          "Strike",
          "Strike",
          "Strike",
          "Strike",
          "Strike",
          "Strike",
          "Strike",
          "Strike",
          "Strike",
          "Strike",
          "Strike",
          "Strike",
          "Strike",
          "Strike",
          "Strike",
          "Strike",
          "Strike",
          "Strike",
          "Strike",
          "Strike",
          "Strike",
          "Strike",
          "Strike",
          "Strike",
          "Strike",
          "Strike",
          "Strike",
          "Strike",
          "Strike",
          "Strike",
          "Strike",
          "Strike",
          "Strike",
          "Strike",
          "Strike",
          "Strike",
          "Strike",
          "Strike",
          "Strike",
          "Strike",
          "Strike",
          "Strike",
          "Strike",
          "Strike",
          "Strike",
          "Strike",
          "Strike",
          "Strike",
          "Strike",
          "Strike",
          "Strike",
          "Strike",
          "Strike",
          "Strike",
          "Strike",
          "Strike",
          "Strike",
          "Strike",
          "Strike",
          "Strike",
          "Strike",
          "Strike",
          "Strike",
          "Strike",
          "Strike",
          "Strike",
          "Strike",
          "Strike",
          "Strike",
          "Strike",
          "Strike",
          "Strike",
          "Strike",
          "Strike",
          "Strike",
          "Strike",
          "Ball",
          "Strike",
          "Strike",
          "Strike",
          "Strike",
          "Strike",
          "Strike",
          "Strike",
          "Strike",
          "Strike",
          "Strike",
          "Strike",
          "Strike",
          "Strike",
          "Strike",
          "Strike",
          "Strike",
          "Strike",
          "Strike",
          "Strike",
          "Strike",
          "Strike",
          "Strike",
          "Strike",
          "Strike",
          "Ball",
          "Strike",
          "Strike",
          "Strike",
          "Strike",
          "Strike",
          "Strike",
          "Strike",
          "Strike",
          "Strike",
          "Strike",
          "Strike",
          "Ball",
          "Strike"
         ],
         "xaxis": "x",
         "yaxis": "y"
        }
       ],
       "layout": {
        "barmode": "relative",
        "legend": {
         "title": {
          "text": "variable"
         },
         "tracegroupgap": 0
        },
        "template": {
         "data": {
          "bar": [
           {
            "error_x": {
             "color": "#2a3f5f"
            },
            "error_y": {
             "color": "#2a3f5f"
            },
            "marker": {
             "line": {
              "color": "#E5ECF6",
              "width": 0.5
             },
             "pattern": {
              "fillmode": "overlay",
              "size": 10,
              "solidity": 0.2
             }
            },
            "type": "bar"
           }
          ],
          "barpolar": [
           {
            "marker": {
             "line": {
              "color": "#E5ECF6",
              "width": 0.5
             },
             "pattern": {
              "fillmode": "overlay",
              "size": 10,
              "solidity": 0.2
             }
            },
            "type": "barpolar"
           }
          ],
          "carpet": [
           {
            "aaxis": {
             "endlinecolor": "#2a3f5f",
             "gridcolor": "white",
             "linecolor": "white",
             "minorgridcolor": "white",
             "startlinecolor": "#2a3f5f"
            },
            "baxis": {
             "endlinecolor": "#2a3f5f",
             "gridcolor": "white",
             "linecolor": "white",
             "minorgridcolor": "white",
             "startlinecolor": "#2a3f5f"
            },
            "type": "carpet"
           }
          ],
          "choropleth": [
           {
            "colorbar": {
             "outlinewidth": 0,
             "ticks": ""
            },
            "type": "choropleth"
           }
          ],
          "contour": [
           {
            "colorbar": {
             "outlinewidth": 0,
             "ticks": ""
            },
            "colorscale": [
             [
              0,
              "#0d0887"
             ],
             [
              0.1111111111111111,
              "#46039f"
             ],
             [
              0.2222222222222222,
              "#7201a8"
             ],
             [
              0.3333333333333333,
              "#9c179e"
             ],
             [
              0.4444444444444444,
              "#bd3786"
             ],
             [
              0.5555555555555556,
              "#d8576b"
             ],
             [
              0.6666666666666666,
              "#ed7953"
             ],
             [
              0.7777777777777778,
              "#fb9f3a"
             ],
             [
              0.8888888888888888,
              "#fdca26"
             ],
             [
              1,
              "#f0f921"
             ]
            ],
            "type": "contour"
           }
          ],
          "contourcarpet": [
           {
            "colorbar": {
             "outlinewidth": 0,
             "ticks": ""
            },
            "type": "contourcarpet"
           }
          ],
          "heatmap": [
           {
            "colorbar": {
             "outlinewidth": 0,
             "ticks": ""
            },
            "colorscale": [
             [
              0,
              "#0d0887"
             ],
             [
              0.1111111111111111,
              "#46039f"
             ],
             [
              0.2222222222222222,
              "#7201a8"
             ],
             [
              0.3333333333333333,
              "#9c179e"
             ],
             [
              0.4444444444444444,
              "#bd3786"
             ],
             [
              0.5555555555555556,
              "#d8576b"
             ],
             [
              0.6666666666666666,
              "#ed7953"
             ],
             [
              0.7777777777777778,
              "#fb9f3a"
             ],
             [
              0.8888888888888888,
              "#fdca26"
             ],
             [
              1,
              "#f0f921"
             ]
            ],
            "type": "heatmap"
           }
          ],
          "heatmapgl": [
           {
            "colorbar": {
             "outlinewidth": 0,
             "ticks": ""
            },
            "colorscale": [
             [
              0,
              "#0d0887"
             ],
             [
              0.1111111111111111,
              "#46039f"
             ],
             [
              0.2222222222222222,
              "#7201a8"
             ],
             [
              0.3333333333333333,
              "#9c179e"
             ],
             [
              0.4444444444444444,
              "#bd3786"
             ],
             [
              0.5555555555555556,
              "#d8576b"
             ],
             [
              0.6666666666666666,
              "#ed7953"
             ],
             [
              0.7777777777777778,
              "#fb9f3a"
             ],
             [
              0.8888888888888888,
              "#fdca26"
             ],
             [
              1,
              "#f0f921"
             ]
            ],
            "type": "heatmapgl"
           }
          ],
          "histogram": [
           {
            "marker": {
             "pattern": {
              "fillmode": "overlay",
              "size": 10,
              "solidity": 0.2
             }
            },
            "type": "histogram"
           }
          ],
          "histogram2d": [
           {
            "colorbar": {
             "outlinewidth": 0,
             "ticks": ""
            },
            "colorscale": [
             [
              0,
              "#0d0887"
             ],
             [
              0.1111111111111111,
              "#46039f"
             ],
             [
              0.2222222222222222,
              "#7201a8"
             ],
             [
              0.3333333333333333,
              "#9c179e"
             ],
             [
              0.4444444444444444,
              "#bd3786"
             ],
             [
              0.5555555555555556,
              "#d8576b"
             ],
             [
              0.6666666666666666,
              "#ed7953"
             ],
             [
              0.7777777777777778,
              "#fb9f3a"
             ],
             [
              0.8888888888888888,
              "#fdca26"
             ],
             [
              1,
              "#f0f921"
             ]
            ],
            "type": "histogram2d"
           }
          ],
          "histogram2dcontour": [
           {
            "colorbar": {
             "outlinewidth": 0,
             "ticks": ""
            },
            "colorscale": [
             [
              0,
              "#0d0887"
             ],
             [
              0.1111111111111111,
              "#46039f"
             ],
             [
              0.2222222222222222,
              "#7201a8"
             ],
             [
              0.3333333333333333,
              "#9c179e"
             ],
             [
              0.4444444444444444,
              "#bd3786"
             ],
             [
              0.5555555555555556,
              "#d8576b"
             ],
             [
              0.6666666666666666,
              "#ed7953"
             ],
             [
              0.7777777777777778,
              "#fb9f3a"
             ],
             [
              0.8888888888888888,
              "#fdca26"
             ],
             [
              1,
              "#f0f921"
             ]
            ],
            "type": "histogram2dcontour"
           }
          ],
          "mesh3d": [
           {
            "colorbar": {
             "outlinewidth": 0,
             "ticks": ""
            },
            "type": "mesh3d"
           }
          ],
          "parcoords": [
           {
            "line": {
             "colorbar": {
              "outlinewidth": 0,
              "ticks": ""
             }
            },
            "type": "parcoords"
           }
          ],
          "pie": [
           {
            "automargin": true,
            "type": "pie"
           }
          ],
          "scatter": [
           {
            "fillpattern": {
             "fillmode": "overlay",
             "size": 10,
             "solidity": 0.2
            },
            "type": "scatter"
           }
          ],
          "scatter3d": [
           {
            "line": {
             "colorbar": {
              "outlinewidth": 0,
              "ticks": ""
             }
            },
            "marker": {
             "colorbar": {
              "outlinewidth": 0,
              "ticks": ""
             }
            },
            "type": "scatter3d"
           }
          ],
          "scattercarpet": [
           {
            "marker": {
             "colorbar": {
              "outlinewidth": 0,
              "ticks": ""
             }
            },
            "type": "scattercarpet"
           }
          ],
          "scattergeo": [
           {
            "marker": {
             "colorbar": {
              "outlinewidth": 0,
              "ticks": ""
             }
            },
            "type": "scattergeo"
           }
          ],
          "scattergl": [
           {
            "marker": {
             "colorbar": {
              "outlinewidth": 0,
              "ticks": ""
             }
            },
            "type": "scattergl"
           }
          ],
          "scattermapbox": [
           {
            "marker": {
             "colorbar": {
              "outlinewidth": 0,
              "ticks": ""
             }
            },
            "type": "scattermapbox"
           }
          ],
          "scatterpolar": [
           {
            "marker": {
             "colorbar": {
              "outlinewidth": 0,
              "ticks": ""
             }
            },
            "type": "scatterpolar"
           }
          ],
          "scatterpolargl": [
           {
            "marker": {
             "colorbar": {
              "outlinewidth": 0,
              "ticks": ""
             }
            },
            "type": "scatterpolargl"
           }
          ],
          "scatterternary": [
           {
            "marker": {
             "colorbar": {
              "outlinewidth": 0,
              "ticks": ""
             }
            },
            "type": "scatterternary"
           }
          ],
          "surface": [
           {
            "colorbar": {
             "outlinewidth": 0,
             "ticks": ""
            },
            "colorscale": [
             [
              0,
              "#0d0887"
             ],
             [
              0.1111111111111111,
              "#46039f"
             ],
             [
              0.2222222222222222,
              "#7201a8"
             ],
             [
              0.3333333333333333,
              "#9c179e"
             ],
             [
              0.4444444444444444,
              "#bd3786"
             ],
             [
              0.5555555555555556,
              "#d8576b"
             ],
             [
              0.6666666666666666,
              "#ed7953"
             ],
             [
              0.7777777777777778,
              "#fb9f3a"
             ],
             [
              0.8888888888888888,
              "#fdca26"
             ],
             [
              1,
              "#f0f921"
             ]
            ],
            "type": "surface"
           }
          ],
          "table": [
           {
            "cells": {
             "fill": {
              "color": "#EBF0F8"
             },
             "line": {
              "color": "white"
             }
            },
            "header": {
             "fill": {
              "color": "#C8D4E3"
             },
             "line": {
              "color": "white"
             }
            },
            "type": "table"
           }
          ]
         },
         "layout": {
          "annotationdefaults": {
           "arrowcolor": "#2a3f5f",
           "arrowhead": 0,
           "arrowwidth": 1
          },
          "autotypenumbers": "strict",
          "coloraxis": {
           "colorbar": {
            "outlinewidth": 0,
            "ticks": ""
           }
          },
          "colorscale": {
           "diverging": [
            [
             0,
             "#8e0152"
            ],
            [
             0.1,
             "#c51b7d"
            ],
            [
             0.2,
             "#de77ae"
            ],
            [
             0.3,
             "#f1b6da"
            ],
            [
             0.4,
             "#fde0ef"
            ],
            [
             0.5,
             "#f7f7f7"
            ],
            [
             0.6,
             "#e6f5d0"
            ],
            [
             0.7,
             "#b8e186"
            ],
            [
             0.8,
             "#7fbc41"
            ],
            [
             0.9,
             "#4d9221"
            ],
            [
             1,
             "#276419"
            ]
           ],
           "sequential": [
            [
             0,
             "#0d0887"
            ],
            [
             0.1111111111111111,
             "#46039f"
            ],
            [
             0.2222222222222222,
             "#7201a8"
            ],
            [
             0.3333333333333333,
             "#9c179e"
            ],
            [
             0.4444444444444444,
             "#bd3786"
            ],
            [
             0.5555555555555556,
             "#d8576b"
            ],
            [
             0.6666666666666666,
             "#ed7953"
            ],
            [
             0.7777777777777778,
             "#fb9f3a"
            ],
            [
             0.8888888888888888,
             "#fdca26"
            ],
            [
             1,
             "#f0f921"
            ]
           ],
           "sequentialminus": [
            [
             0,
             "#0d0887"
            ],
            [
             0.1111111111111111,
             "#46039f"
            ],
            [
             0.2222222222222222,
             "#7201a8"
            ],
            [
             0.3333333333333333,
             "#9c179e"
            ],
            [
             0.4444444444444444,
             "#bd3786"
            ],
            [
             0.5555555555555556,
             "#d8576b"
            ],
            [
             0.6666666666666666,
             "#ed7953"
            ],
            [
             0.7777777777777778,
             "#fb9f3a"
            ],
            [
             0.8888888888888888,
             "#fdca26"
            ],
            [
             1,
             "#f0f921"
            ]
           ]
          },
          "colorway": [
           "#636efa",
           "#EF553B",
           "#00cc96",
           "#ab63fa",
           "#FFA15A",
           "#19d3f3",
           "#FF6692",
           "#B6E880",
           "#FF97FF",
           "#FECB52"
          ],
          "font": {
           "color": "#2a3f5f"
          },
          "geo": {
           "bgcolor": "white",
           "lakecolor": "white",
           "landcolor": "#E5ECF6",
           "showlakes": true,
           "showland": true,
           "subunitcolor": "white"
          },
          "hoverlabel": {
           "align": "left"
          },
          "hovermode": "closest",
          "mapbox": {
           "style": "light"
          },
          "paper_bgcolor": "white",
          "plot_bgcolor": "#E5ECF6",
          "polar": {
           "angularaxis": {
            "gridcolor": "white",
            "linecolor": "white",
            "ticks": ""
           },
           "bgcolor": "#E5ECF6",
           "radialaxis": {
            "gridcolor": "white",
            "linecolor": "white",
            "ticks": ""
           }
          },
          "scene": {
           "xaxis": {
            "backgroundcolor": "#E5ECF6",
            "gridcolor": "white",
            "gridwidth": 2,
            "linecolor": "white",
            "showbackground": true,
            "ticks": "",
            "zerolinecolor": "white"
           },
           "yaxis": {
            "backgroundcolor": "#E5ECF6",
            "gridcolor": "white",
            "gridwidth": 2,
            "linecolor": "white",
            "showbackground": true,
            "ticks": "",
            "zerolinecolor": "white"
           },
           "zaxis": {
            "backgroundcolor": "#E5ECF6",
            "gridcolor": "white",
            "gridwidth": 2,
            "linecolor": "white",
            "showbackground": true,
            "ticks": "",
            "zerolinecolor": "white"
           }
          },
          "shapedefaults": {
           "line": {
            "color": "#2a3f5f"
           }
          },
          "ternary": {
           "aaxis": {
            "gridcolor": "white",
            "linecolor": "white",
            "ticks": ""
           },
           "baxis": {
            "gridcolor": "white",
            "linecolor": "white",
            "ticks": ""
           },
           "bgcolor": "#E5ECF6",
           "caxis": {
            "gridcolor": "white",
            "linecolor": "white",
            "ticks": ""
           }
          },
          "title": {
           "x": 0.05
          },
          "xaxis": {
           "automargin": true,
           "gridcolor": "white",
           "linecolor": "white",
           "ticks": "",
           "title": {
            "standoff": 15
           },
           "zerolinecolor": "white",
           "zerolinewidth": 2
          },
          "yaxis": {
           "automargin": true,
           "gridcolor": "white",
           "linecolor": "white",
           "ticks": "",
           "title": {
            "standoff": 15
           },
           "zerolinecolor": "white",
           "zerolinewidth": 2
          }
         }
        },
        "title": {
         "text": "Histogram of outcome"
        },
        "xaxis": {
         "anchor": "y",
         "domain": [
          0,
          1
         ],
         "title": {
          "text": "value"
         }
        },
        "yaxis": {
         "anchor": "x",
         "domain": [
          0,
          1
         ],
         "title": {
          "text": "count"
         }
        }
       }
      }
     },
     "metadata": {},
     "output_type": "display_data"
    },
    {
     "data": {
      "application/vnd.plotly.v1+json": {
       "config": {
        "plotlyServerURL": "https://plot.ly"
       },
       "data": [
        {
         "domain": {
          "x": [
           0,
           1
          ],
          "y": [
           0,
           1
          ]
         },
         "hovertemplate": "outcome=%{label}<br>counts=%{value}<extra></extra>",
         "labels": [
          "Ball",
          "Strike"
         ],
         "legendgroup": "",
         "name": "",
         "showlegend": true,
         "type": "pie",
         "values": [
          62,
          938
         ]
        }
       ],
       "layout": {
        "legend": {
         "tracegroupgap": 0
        },
        "template": {
         "data": {
          "bar": [
           {
            "error_x": {
             "color": "#2a3f5f"
            },
            "error_y": {
             "color": "#2a3f5f"
            },
            "marker": {
             "line": {
              "color": "#E5ECF6",
              "width": 0.5
             },
             "pattern": {
              "fillmode": "overlay",
              "size": 10,
              "solidity": 0.2
             }
            },
            "type": "bar"
           }
          ],
          "barpolar": [
           {
            "marker": {
             "line": {
              "color": "#E5ECF6",
              "width": 0.5
             },
             "pattern": {
              "fillmode": "overlay",
              "size": 10,
              "solidity": 0.2
             }
            },
            "type": "barpolar"
           }
          ],
          "carpet": [
           {
            "aaxis": {
             "endlinecolor": "#2a3f5f",
             "gridcolor": "white",
             "linecolor": "white",
             "minorgridcolor": "white",
             "startlinecolor": "#2a3f5f"
            },
            "baxis": {
             "endlinecolor": "#2a3f5f",
             "gridcolor": "white",
             "linecolor": "white",
             "minorgridcolor": "white",
             "startlinecolor": "#2a3f5f"
            },
            "type": "carpet"
           }
          ],
          "choropleth": [
           {
            "colorbar": {
             "outlinewidth": 0,
             "ticks": ""
            },
            "type": "choropleth"
           }
          ],
          "contour": [
           {
            "colorbar": {
             "outlinewidth": 0,
             "ticks": ""
            },
            "colorscale": [
             [
              0,
              "#0d0887"
             ],
             [
              0.1111111111111111,
              "#46039f"
             ],
             [
              0.2222222222222222,
              "#7201a8"
             ],
             [
              0.3333333333333333,
              "#9c179e"
             ],
             [
              0.4444444444444444,
              "#bd3786"
             ],
             [
              0.5555555555555556,
              "#d8576b"
             ],
             [
              0.6666666666666666,
              "#ed7953"
             ],
             [
              0.7777777777777778,
              "#fb9f3a"
             ],
             [
              0.8888888888888888,
              "#fdca26"
             ],
             [
              1,
              "#f0f921"
             ]
            ],
            "type": "contour"
           }
          ],
          "contourcarpet": [
           {
            "colorbar": {
             "outlinewidth": 0,
             "ticks": ""
            },
            "type": "contourcarpet"
           }
          ],
          "heatmap": [
           {
            "colorbar": {
             "outlinewidth": 0,
             "ticks": ""
            },
            "colorscale": [
             [
              0,
              "#0d0887"
             ],
             [
              0.1111111111111111,
              "#46039f"
             ],
             [
              0.2222222222222222,
              "#7201a8"
             ],
             [
              0.3333333333333333,
              "#9c179e"
             ],
             [
              0.4444444444444444,
              "#bd3786"
             ],
             [
              0.5555555555555556,
              "#d8576b"
             ],
             [
              0.6666666666666666,
              "#ed7953"
             ],
             [
              0.7777777777777778,
              "#fb9f3a"
             ],
             [
              0.8888888888888888,
              "#fdca26"
             ],
             [
              1,
              "#f0f921"
             ]
            ],
            "type": "heatmap"
           }
          ],
          "heatmapgl": [
           {
            "colorbar": {
             "outlinewidth": 0,
             "ticks": ""
            },
            "colorscale": [
             [
              0,
              "#0d0887"
             ],
             [
              0.1111111111111111,
              "#46039f"
             ],
             [
              0.2222222222222222,
              "#7201a8"
             ],
             [
              0.3333333333333333,
              "#9c179e"
             ],
             [
              0.4444444444444444,
              "#bd3786"
             ],
             [
              0.5555555555555556,
              "#d8576b"
             ],
             [
              0.6666666666666666,
              "#ed7953"
             ],
             [
              0.7777777777777778,
              "#fb9f3a"
             ],
             [
              0.8888888888888888,
              "#fdca26"
             ],
             [
              1,
              "#f0f921"
             ]
            ],
            "type": "heatmapgl"
           }
          ],
          "histogram": [
           {
            "marker": {
             "pattern": {
              "fillmode": "overlay",
              "size": 10,
              "solidity": 0.2
             }
            },
            "type": "histogram"
           }
          ],
          "histogram2d": [
           {
            "colorbar": {
             "outlinewidth": 0,
             "ticks": ""
            },
            "colorscale": [
             [
              0,
              "#0d0887"
             ],
             [
              0.1111111111111111,
              "#46039f"
             ],
             [
              0.2222222222222222,
              "#7201a8"
             ],
             [
              0.3333333333333333,
              "#9c179e"
             ],
             [
              0.4444444444444444,
              "#bd3786"
             ],
             [
              0.5555555555555556,
              "#d8576b"
             ],
             [
              0.6666666666666666,
              "#ed7953"
             ],
             [
              0.7777777777777778,
              "#fb9f3a"
             ],
             [
              0.8888888888888888,
              "#fdca26"
             ],
             [
              1,
              "#f0f921"
             ]
            ],
            "type": "histogram2d"
           }
          ],
          "histogram2dcontour": [
           {
            "colorbar": {
             "outlinewidth": 0,
             "ticks": ""
            },
            "colorscale": [
             [
              0,
              "#0d0887"
             ],
             [
              0.1111111111111111,
              "#46039f"
             ],
             [
              0.2222222222222222,
              "#7201a8"
             ],
             [
              0.3333333333333333,
              "#9c179e"
             ],
             [
              0.4444444444444444,
              "#bd3786"
             ],
             [
              0.5555555555555556,
              "#d8576b"
             ],
             [
              0.6666666666666666,
              "#ed7953"
             ],
             [
              0.7777777777777778,
              "#fb9f3a"
             ],
             [
              0.8888888888888888,
              "#fdca26"
             ],
             [
              1,
              "#f0f921"
             ]
            ],
            "type": "histogram2dcontour"
           }
          ],
          "mesh3d": [
           {
            "colorbar": {
             "outlinewidth": 0,
             "ticks": ""
            },
            "type": "mesh3d"
           }
          ],
          "parcoords": [
           {
            "line": {
             "colorbar": {
              "outlinewidth": 0,
              "ticks": ""
             }
            },
            "type": "parcoords"
           }
          ],
          "pie": [
           {
            "automargin": true,
            "type": "pie"
           }
          ],
          "scatter": [
           {
            "fillpattern": {
             "fillmode": "overlay",
             "size": 10,
             "solidity": 0.2
            },
            "type": "scatter"
           }
          ],
          "scatter3d": [
           {
            "line": {
             "colorbar": {
              "outlinewidth": 0,
              "ticks": ""
             }
            },
            "marker": {
             "colorbar": {
              "outlinewidth": 0,
              "ticks": ""
             }
            },
            "type": "scatter3d"
           }
          ],
          "scattercarpet": [
           {
            "marker": {
             "colorbar": {
              "outlinewidth": 0,
              "ticks": ""
             }
            },
            "type": "scattercarpet"
           }
          ],
          "scattergeo": [
           {
            "marker": {
             "colorbar": {
              "outlinewidth": 0,
              "ticks": ""
             }
            },
            "type": "scattergeo"
           }
          ],
          "scattergl": [
           {
            "marker": {
             "colorbar": {
              "outlinewidth": 0,
              "ticks": ""
             }
            },
            "type": "scattergl"
           }
          ],
          "scattermapbox": [
           {
            "marker": {
             "colorbar": {
              "outlinewidth": 0,
              "ticks": ""
             }
            },
            "type": "scattermapbox"
           }
          ],
          "scatterpolar": [
           {
            "marker": {
             "colorbar": {
              "outlinewidth": 0,
              "ticks": ""
             }
            },
            "type": "scatterpolar"
           }
          ],
          "scatterpolargl": [
           {
            "marker": {
             "colorbar": {
              "outlinewidth": 0,
              "ticks": ""
             }
            },
            "type": "scatterpolargl"
           }
          ],
          "scatterternary": [
           {
            "marker": {
             "colorbar": {
              "outlinewidth": 0,
              "ticks": ""
             }
            },
            "type": "scatterternary"
           }
          ],
          "surface": [
           {
            "colorbar": {
             "outlinewidth": 0,
             "ticks": ""
            },
            "colorscale": [
             [
              0,
              "#0d0887"
             ],
             [
              0.1111111111111111,
              "#46039f"
             ],
             [
              0.2222222222222222,
              "#7201a8"
             ],
             [
              0.3333333333333333,
              "#9c179e"
             ],
             [
              0.4444444444444444,
              "#bd3786"
             ],
             [
              0.5555555555555556,
              "#d8576b"
             ],
             [
              0.6666666666666666,
              "#ed7953"
             ],
             [
              0.7777777777777778,
              "#fb9f3a"
             ],
             [
              0.8888888888888888,
              "#fdca26"
             ],
             [
              1,
              "#f0f921"
             ]
            ],
            "type": "surface"
           }
          ],
          "table": [
           {
            "cells": {
             "fill": {
              "color": "#EBF0F8"
             },
             "line": {
              "color": "white"
             }
            },
            "header": {
             "fill": {
              "color": "#C8D4E3"
             },
             "line": {
              "color": "white"
             }
            },
            "type": "table"
           }
          ]
         },
         "layout": {
          "annotationdefaults": {
           "arrowcolor": "#2a3f5f",
           "arrowhead": 0,
           "arrowwidth": 1
          },
          "autotypenumbers": "strict",
          "coloraxis": {
           "colorbar": {
            "outlinewidth": 0,
            "ticks": ""
           }
          },
          "colorscale": {
           "diverging": [
            [
             0,
             "#8e0152"
            ],
            [
             0.1,
             "#c51b7d"
            ],
            [
             0.2,
             "#de77ae"
            ],
            [
             0.3,
             "#f1b6da"
            ],
            [
             0.4,
             "#fde0ef"
            ],
            [
             0.5,
             "#f7f7f7"
            ],
            [
             0.6,
             "#e6f5d0"
            ],
            [
             0.7,
             "#b8e186"
            ],
            [
             0.8,
             "#7fbc41"
            ],
            [
             0.9,
             "#4d9221"
            ],
            [
             1,
             "#276419"
            ]
           ],
           "sequential": [
            [
             0,
             "#0d0887"
            ],
            [
             0.1111111111111111,
             "#46039f"
            ],
            [
             0.2222222222222222,
             "#7201a8"
            ],
            [
             0.3333333333333333,
             "#9c179e"
            ],
            [
             0.4444444444444444,
             "#bd3786"
            ],
            [
             0.5555555555555556,
             "#d8576b"
            ],
            [
             0.6666666666666666,
             "#ed7953"
            ],
            [
             0.7777777777777778,
             "#fb9f3a"
            ],
            [
             0.8888888888888888,
             "#fdca26"
            ],
            [
             1,
             "#f0f921"
            ]
           ],
           "sequentialminus": [
            [
             0,
             "#0d0887"
            ],
            [
             0.1111111111111111,
             "#46039f"
            ],
            [
             0.2222222222222222,
             "#7201a8"
            ],
            [
             0.3333333333333333,
             "#9c179e"
            ],
            [
             0.4444444444444444,
             "#bd3786"
            ],
            [
             0.5555555555555556,
             "#d8576b"
            ],
            [
             0.6666666666666666,
             "#ed7953"
            ],
            [
             0.7777777777777778,
             "#fb9f3a"
            ],
            [
             0.8888888888888888,
             "#fdca26"
            ],
            [
             1,
             "#f0f921"
            ]
           ]
          },
          "colorway": [
           "#636efa",
           "#EF553B",
           "#00cc96",
           "#ab63fa",
           "#FFA15A",
           "#19d3f3",
           "#FF6692",
           "#B6E880",
           "#FF97FF",
           "#FECB52"
          ],
          "font": {
           "color": "#2a3f5f"
          },
          "geo": {
           "bgcolor": "white",
           "lakecolor": "white",
           "landcolor": "#E5ECF6",
           "showlakes": true,
           "showland": true,
           "subunitcolor": "white"
          },
          "hoverlabel": {
           "align": "left"
          },
          "hovermode": "closest",
          "mapbox": {
           "style": "light"
          },
          "paper_bgcolor": "white",
          "plot_bgcolor": "#E5ECF6",
          "polar": {
           "angularaxis": {
            "gridcolor": "white",
            "linecolor": "white",
            "ticks": ""
           },
           "bgcolor": "#E5ECF6",
           "radialaxis": {
            "gridcolor": "white",
            "linecolor": "white",
            "ticks": ""
           }
          },
          "scene": {
           "xaxis": {
            "backgroundcolor": "#E5ECF6",
            "gridcolor": "white",
            "gridwidth": 2,
            "linecolor": "white",
            "showbackground": true,
            "ticks": "",
            "zerolinecolor": "white"
           },
           "yaxis": {
            "backgroundcolor": "#E5ECF6",
            "gridcolor": "white",
            "gridwidth": 2,
            "linecolor": "white",
            "showbackground": true,
            "ticks": "",
            "zerolinecolor": "white"
           },
           "zaxis": {
            "backgroundcolor": "#E5ECF6",
            "gridcolor": "white",
            "gridwidth": 2,
            "linecolor": "white",
            "showbackground": true,
            "ticks": "",
            "zerolinecolor": "white"
           }
          },
          "shapedefaults": {
           "line": {
            "color": "#2a3f5f"
           }
          },
          "ternary": {
           "aaxis": {
            "gridcolor": "white",
            "linecolor": "white",
            "ticks": ""
           },
           "baxis": {
            "gridcolor": "white",
            "linecolor": "white",
            "ticks": ""
           },
           "bgcolor": "#E5ECF6",
           "caxis": {
            "gridcolor": "white",
            "linecolor": "white",
            "ticks": ""
           }
          },
          "title": {
           "x": 0.05
          },
          "xaxis": {
           "automargin": true,
           "gridcolor": "white",
           "linecolor": "white",
           "ticks": "",
           "title": {
            "standoff": 15
           },
           "zerolinecolor": "white",
           "zerolinewidth": 2
          },
          "yaxis": {
           "automargin": true,
           "gridcolor": "white",
           "linecolor": "white",
           "ticks": "",
           "title": {
            "standoff": 15
           },
           "zerolinecolor": "white",
           "zerolinewidth": 2
          }
         }
        },
        "title": {
         "text": "Pie of outcome"
        }
       }
      }
     },
     "metadata": {},
     "output_type": "display_data"
    }
   ],
   "source": [
    "pitch_data.show_histogram(\"outcome\")\n",
    "pitch_data.show_pie(\"outcome\")\n"
   ]
  },
  {
   "cell_type": "code",
   "execution_count": 15,
   "metadata": {},
   "outputs": [
    {
     "data": {
      "application/vnd.plotly.v1+json": {
       "config": {
        "plotlyServerURL": "https://plot.ly"
       },
       "data": [
        {
         "hovertemplate": "pitch_x=%{x}<br>pitch_y=%{y}<br>hitability=%{marker.color}<extra></extra>",
         "legendgroup": "",
         "marker": {
          "color": [
           0.10737719195516864,
           0.047213526912521356,
           0.23983269191716944,
           0.04848070790920989,
           0.22357847944121984,
           0.07533131855336052,
           0.16045984555930956,
           0.11289944717935108,
           0.13006049048298476,
           0.2037273695555568,
           0.08828556124867754,
           0.08795213380848861,
           0.09081897281822587,
           0.23824034095437277,
           0.09600663024998277,
           0.14949419355235402,
           0.13276874614479944,
           0.17042885424961732,
           0.1440718652026874,
           0.032733199558986195,
           0.11602438786116841,
           0.23910870570986179,
           0.2406886373379332,
           0.20220443378804473,
           0.16167712089612596,
           0.06564764482604259,
           0.22870712414876854,
           0.10081426323039597,
           0.2270594369763828,
           0.23909876294981172,
           0.17784990284372382,
           0.14351265196300617,
           0.22447412613853146,
           0.12055635347668685,
           0.1831035154797067,
           0.06347015911369105,
           0.1237558345737736,
           0.19651142149013973,
           0.10856646287325246,
           0.24143140362181034,
           0.22231768547374808,
           0.2305755960909419,
           0.24734205917389,
           0.14999711648483113,
           0.11569968077151552,
           0.046933669220534505,
           0.22329432974207084,
           0.20739224642056525,
           0.24034650684913475,
           0.20295200201987906,
           0.061539416976740535,
           0.09605946258824566,
           0.24332378720137768,
           0.2130260886668251,
           0.18547156146859586,
           0.1737630103993821,
           0.030097889334591826,
           0.2392773429400026,
           0.24383972965650233,
           0.1774353327785724,
           0.01595150707918433,
           0.09111174452877864,
           0.23403413110831,
           0.23721092609711952,
           0.1661358680945254,
           0.15459818197426323,
           0.11718179547904792,
           0.22720308522210597,
           0.008087565677631442,
           0.055659883246832124,
           0.0010770477063480081,
           0.2392732406615055,
           0.1895265398668029,
           0.15590471223903254,
           0.05386813112260694,
           0.14160491655180388,
           0.18718074475528415,
           0.1927443050331731,
           0.224636895271858,
           0.23170225760221172,
           0.2337297328644517,
           0.2356261624202046,
           0.13814825595358687,
           0.014351662827798236,
           0.07000190362289933,
           0.24073962945454574,
           0.22896118530378848,
           0.020624549541452677,
           0.059920327299050155,
           0.15702308578750057,
           0.17214194734610946,
           0.2424875273407505,
           0.22911788640835834,
           0.14542991482033274,
           0.1716479301157591,
           0.236620321083301,
           0.09796481591009878,
           0.1628771197519925,
           0.1873183877357643,
           0.16458889788789519,
           0.1752838271738142,
           0.13159773334192185,
           0.20153639582633961,
           0.188306677838033,
           0.01297212324753812,
           0.1624384827305133,
           0.194060872040552,
           0.17154854829725316,
           0.18184351794052356,
           0.1429900573491496,
           0.046078125396565264,
           0.15928381208255196,
           0.19047940656774429,
           0.09408145300124349,
           0.16948250417184618,
           0.05953886154706804,
           0.045311940247789104,
           0.0010174497465948735,
           0.03317396273830816,
           0.1314037491701942,
           0.029078064042637446,
           0.14469042323323783,
           0.1634973645856408,
           0.21077103297093405,
           0.10890422857657289,
           0.014678848121935867,
           0.020189156986972386,
           0.019047352462171138,
           0.11540138532137317,
           0.004472868893188668,
           0.05182427558011674,
           0.1927719855127601,
           0.041934979425525376,
           0.23439235606925765,
           0.05362481519420407,
           0.1010780523740426,
           0.027611462157514786,
           0.12980297272716976,
           0.1447637815882172,
           0.11563480033671854,
           0.1399394070937025,
           0.09408973084286626,
           0.22538615252830824,
           0.047024607502928355,
           0.13692996582710953,
           0.10920228475200497,
           0.1322270522776552,
           0.16836619771646663,
           0.0803860328695558,
           0.1180370662101196,
           0.06299382754351791,
           0.05575866699301685,
           0.24642506052551633,
           0.14946512389461708,
           0.2157054586044243,
           0.16998697711173347,
           0.15082069163087478,
           0.12048100896821758,
           0.24279523873685493,
           0.2031678009771527,
           0.2176837575997644,
           0.2032534862991024,
           0.09042964469213419,
           0.1064831398768056,
           0.2361992881339191,
           0.11150717704376292,
           0.2238747971871381,
           0.14979521182622668,
           0.1675767670609707,
           0.0008963286198643792,
           0.2301550638613159,
           0.20512525304309345,
           0.18281041828241967,
           0.15902660395192814,
           0.009846557064597325,
           0.08224490849330814,
           0.18708624103309873,
           0.01032236516093897,
           0.10270091607348684,
           0.13893698261471701,
           0.17076535263306045,
           0.1479228158645728,
           0.010594166879892335,
           0.13937147648941986,
           0.18910163401384888,
           0.2418832667448223,
           0.2465905453348555,
           0.18138238606228088,
           0.23373716930823163,
           0.09112359102921126,
           0.04014583246264266,
           0.15408106710518368,
           0.1734691082497388,
           0.12194028673197556,
           0.2492473941580541,
           0.17500219573002498,
           0.22242976910673098,
           0.21597740911362484,
           0.12442951361057117,
           0.24729541860925675,
           0.19529452244264084,
           0.1422517697216298,
           0.14382538015316404,
           0.0328667600116067,
           0.013525918366359817,
           0.11240483423867224,
           0.19343218013912183,
           0.13537637709425576,
           0.006164835757287536,
           0.11444683961315957,
           0.15547132150601065,
           0.15398374522324396,
           0.18463252137343697,
           0.12350124920441233,
           0.03968619356501082,
           0.10801784529650246,
           0.1105578365908667,
           0.05110613345069118,
           0.16061428529699684,
           0.24156680198539263,
           0.08053556134154381,
           0.08479480420095184,
           0.19198818234116596,
           0.10048538645166784,
           0.1916292073280023,
           0.18393467563679403,
           0.21540323965812994,
           0.17486831227992322,
           0.070601446414493,
           0.08285824804334374,
           0.1253986650309401,
           0.04296531080491306,
           0.13110799513435736,
           0.22902587194476032,
           0.14581854931174365,
           0.2225783316370837,
           0.09438851146589355,
           0.1156403450112048,
           0.21243861284030707,
           0.21157458316241068,
           0.16605229718963888,
           0.09358836109116732,
           0.1325474456178404,
           0.13528847486686843,
           0.07898548520556405,
           0.12092374225089285,
           0.09572663711251078,
           0.18443046289568804,
           0.026854521366990933,
           0.1578607921776475,
           0.17303189080737658,
           0.14854372634366583,
           0.2311976734603192,
           0.2333272338295182,
           0.24252666084070765,
           0.16577199876767604,
           0.06604037609003152,
           0.16596044238121888,
           0.12551174760327088,
           0.2312014741167925,
           0.15772706996031363,
           0.1679403842235467,
           0.052679154351970174,
           0.2081997681147027,
           0.07962074891696419,
           0.0815518585573358,
           0.1465801167491783,
           0.1641076971328542,
           0.10846261756182922,
           0.239852399411339,
           0.08086652991407599,
           0.20974131745857433,
           0.16939709456899868,
           0.13484066664624708,
           0.18486984560092287,
           0.1691302695779523,
           0.13183092521251233,
           0.10355761581783161,
           0.006826049663154592,
           0.22783587247904583,
           0.010115074262144207,
           0.22561668083428876,
           0.03469993637477035,
           0.02413927878430292,
           0.03358084613068288,
           0.05211442337218838,
           0.2375138532572968,
           0.14920673706897847,
           0.08940580787249652,
           0.08155266745266543,
           0.10416903784438446,
           0.1545979523462113,
           0.2154640132889343,
           0.15828419052085535,
           0.07630454838832171,
           0.18409956485177803,
           0.04334335182022286,
           0.17569942978920272,
           0.0680568484631514,
           0.22296928762371465,
           0.22658449315275905,
           0.187068856263011,
           0.07949461662842154,
           0.012063485205508758,
           0.1803506644472749,
           0.2101524563362589,
           0.1056465551532547,
           0.1740569727616749,
           0.04154608991782359,
           0.11057919900870633,
           0.17753419876197976,
           0.11353201082076261,
           0.08610891409184877,
           0.20119186695489655,
           0.10684386516679899,
           0.16429662443395818,
           0.23562596330338867,
           0.23521998458900825,
           0.13611698461273133,
           0.2082968464708618,
           0.15787788377729015,
           0.10192443919751229,
           0.1268784262494328,
           0.06658114730097328,
           0.009881366759138107,
           0.016789584829155987,
           0.19220410280845068,
           0.09502830701313518,
           0.20101340489652172,
           0.21739080186322846,
           0.07696608322076184,
           0.23089755798554004,
           0.010726698868965684,
           0.24087323879520678,
           0.22745584598091134,
           0.05379147808158848,
           0.22374273381377235,
           0.1516701821467692,
           0.04542540759073626,
           0.24697966629547638,
           0.16984790206469674,
           0.22966304133375015,
           0.1517897386004864,
           0.050321657927797345,
           0.12539536608740595,
           0.07152855890193767,
           0.03285995251584077,
           0.12730480889742132,
           0.24741573684704224,
           0.05970463137798563,
           0.14926467220450618,
           0.22870689264973632,
           0.20426469542412864,
           0.09390828112299636,
           0.222001695581964,
           0.18073213406339986,
           0.02463796614815201,
           0.19219859489968383,
           0.14217389123225366,
           0.18374649566292356,
           0.19152446848604587,
           0.08013602647596227,
           0.12481727168592968,
           0.151873973535904,
           0.19351885682386274,
           0.19716685479075002,
           0.1693883500551429,
           0.20427160839880407,
           0.16044435090836193,
           0.1563651331465951,
           0.1544256848835975,
           0.05809700009830518,
           0.11651417323970877,
           0.1751509144841584,
           0.099961009747857,
           0.17440884116831373,
           0.21508404643429208,
           0.05504512295192275,
           0.24085836095997215,
           0.17290681951907502,
           0.049551693004480854,
           0.04300527439230819,
           0.10462177630679481,
           0.20498550717094013,
           0.09120258738905035,
           0.23533854753436215,
           0.24241626749510992,
           0.06509899971098124,
           0.1639156794277298,
           0.198254115422357,
           0.0746967211137285,
           0.21572899867199094,
           0.2163115749629874,
           0.17960044067693035,
           0.006713927058701495,
           0.19705798287182272,
           0.06791680147270605,
           0.1662799971001302,
           0.17971630186624912,
           0.17296872776046127,
           0.09493768213489005,
           0.2437125612861464,
           0.13044174345038645,
           0.15727741263981926,
           0.1045371726315103,
           0.15689680407216153,
           0.1532642202481822,
           0.2321126912454178,
           0.22090292270323666,
           0.03694903941195842,
           0.1913403386371434,
           0.040228381535737975,
           0.08672719584586024,
           0.09646148171307277,
           0.001376710592642675,
           0.043743308988037036,
           0.1429777399202039,
           0.12293214516071545,
           0.028437932710661886,
           0.16728980795307766,
           0.1472073635416368,
           0.13992570679108435,
           0.0249296596144452,
           0.16637775685606684,
           0.11375840541713585,
           0.03757697384141984,
           0.17111177297760946,
           0.177384082266276,
           0.0963599242496715,
           0.0548423244934738,
           0.2458485197155826,
           0.20212872561367384,
           0.18468050482908677,
           0.24862025335640556,
           0.08880142099484589,
           0.24163580986476424,
           0.0602253646093005,
           0.04147707960073837,
           0.0910900838680852,
           0.1986228969825242,
           0.17766879986396197,
           0.08860235527569323,
           0.08627355811061348,
           0.24110023563779998,
           0.1974979211785106,
           0.22666262575853482,
           0.17743254528069652,
           0.11210703453907037,
           0.05378231033627074,
           0.1599061192416703,
           0.2073320282500509,
           0.24285598235598363,
           0.06951921088658204,
           0.22549602723782264,
           0.16474536115732452,
           0.022597137083732854,
           0.05423857931127094,
           0.07139126797567664,
           0.2423251641188894,
           0.11992601591382485,
           0.04108881190058825,
           0.17960239631726935,
           0.01834568274639204,
           0.17423827875690473,
           0.13817598335203105,
           0.24559566603467745,
           0.15299896444452593,
           0.2043508218229886,
           0.1111062256121977,
           0.18148923708220568,
           0.056403407782560214,
           0.1870951170352145,
           0.01583061855481494,
           0.17958712158040727,
           0.1581827833024853,
           0.005525681529162544,
           0.19444035933237785,
           0.24007853548816976,
           0.1347965496695811,
           0.10589118176901356,
           0.008677829710744251,
           0.11555927026603073,
           0.24953300492243538,
           0.21451353797455427,
           0.17022880598297338,
           0.1687552482001779,
           0.19562450727021105,
           0.24991135919872687,
           0.23376096999531235,
           0.024413147489400273,
           0.10738192575974552,
           0.05719275839369891,
           0.2329523073136013,
           0.09141103937615364,
           0.15379145335551941,
           0.12136153495298813,
           0.2323405198459181,
           0.21812545959924223,
           0.1107689208808701,
           0.10382998938867606,
           0.21858719475919447,
           0.05387325155794111,
           0.1487171229527062,
           0.24777998112249722,
           0.10337901458417754,
           0.08523256079743989,
           0.1531583303217075,
           0.08062688204622392,
           0.20463936160269508,
           0.057031528669005356,
           0.21709201517671828,
           0.18049071128412933,
           0.10896631262849647,
           0.11980014326536086,
           0.08988722958293356,
           0.18852763036692718,
           0.04561215959760219,
           0.18393620397413174,
           0.13969491324491998,
           0.16761357098880061,
           0.23516439796354197,
           0.22357895484831267,
           0.0792646585970122,
           0.11147127170559701,
           0.22734138460509776,
           0.07736593284317801,
           0.16866214295599855,
           0.20496115718686256,
           0.22682344263128668,
           0.02310761227437568,
           0.09593389503825824,
           0.23762975952865106,
           0.2086400376551995,
           0.22582194378783024,
           0.13820713941971555,
           0.16602085927633517,
           0.21711715726660857,
           0.0773105785722237,
           0.010926941683264234,
           0.20932834669282932,
           0.22183047134482914,
           0.20204886025164953,
           0.04522424522103034,
           0.2217403867487324,
           0.1517187197835575,
           0.14270968881426555,
           0.08204664460902673,
           0.24234977608307046,
           0.09987193635771993,
           0.23605895157755244,
           0.012782546446855796,
           0.15628415077735916,
           0.09754576663541915,
           0.18476738403526866,
           0.2045228897927483,
           0.0721622328396367,
           0.12783853643714652,
           0.1813247420610095,
           0.1895693573372877,
           0.005695162443678132,
           0.10342924298291001,
           0.15914320522490746,
           0.006918744506718888,
           0.21425994829114062,
           0.23733573718305198,
           0.025397859861445656,
           0.039203380376752237,
           0.20630075478553744,
           0.052190300868325795,
           0.13870998657299755,
           0.17567907853967243,
           0.052766561980544364,
           0.24543662273487651,
           0.19173833242460378,
           0.24940345805834874,
           0.23980741601858444,
           0.2142354119313851,
           0.09684120224968314,
           0.1406943298507309,
           0.14356984721406982,
           0.10495182849718036,
           0.1066817619913535,
           0.019748195154357065,
           0.027663131679206435,
           0.04634487450200252,
           0.21759802098971925,
           0.14690531131960285,
           0.18417525012080999,
           0.13493238891181447,
           0.2456793462468699,
           0.21842641569964188,
           0.21317388842562104,
           0.21782357364157792,
           0.04206540512114412,
           0.18280278680677353,
           0.2226096897562026,
           0.19605369873215142,
           0.14119678593470408,
           0.08888012915967894,
           0.23147835372283815,
           0.04237848700107983,
           0.12030941298814919,
           0.16191738545330794,
           0.008848876792861872,
           0.24617238930542082,
           0.17400631265727823,
           0.24553375797686794,
           0.062296831312093695,
           0.22631100023738399,
           0.1308577000888285,
           0.19700876567450817,
           0.09937051731664025,
           0.1694080816323402,
           0.1791917275941826,
           0.2106379879900608,
           0.19788131389626368,
           0.10270453166816595,
           0.22569408975346214,
           0.063732630240251,
           0.2479910431739532,
           0.1763929122398764,
           0.13433781074826778,
           0.18112128332221708,
           0.02852990677450923,
           0.1595150974915598,
           0.02472773610569206,
           0.19987809373694265,
           0.22724285222509133,
           0.070737087136741,
           0.1289659059741684,
           0.021508391557346726,
           0.2001203679148365,
           0.23179253944061845,
           0.1379400699441795,
           0.11306922713308924,
           0.0891345332016075,
           0.21840088788982476,
           0.12646634650548447,
           0.17317565168237595,
           0.07568843747552105,
           0.06678324556317924,
           0.22926372644532667,
           0.24038604492525,
           0.2020890561944564,
           0.097096112103603,
           0.21600935823099848,
           0.05823510604330152,
           0.19908396594385694,
           0.1867018802227516,
           0.22135335708008477,
           0.1709986615922052,
           0.12122257792246076,
           0.06857721277425942,
           0.20604649800916,
           0.1535217422934891,
           0.1961354484247304,
           0.21848550405452802,
           0.0036460250400781806,
           0.12406706710386356,
           0.1787453636354568,
           0.1656992898658756,
           0.10009463778409762,
           0.11317050236607808,
           0.15211991337635794,
           0.08703759684793977,
           0.24770576797017105,
           0.2366785912457866,
           0.19808596068707965,
           0.061717197071663836,
           0.12983527852502594,
           0.1743957186832769,
           0.212213938395789,
           0.14985327344747068,
           0.17308348167904677,
           0.17681428757946988,
           0.07952349330673197,
           0.18861099774519105,
           0.12003841746926916,
           0.20215461360811504,
           0.2013785635411333,
           0.21553924625140908,
           0.17246236985164487,
           0.18741697944806737,
           0.03816670401642539,
           0.09555857916924473,
           0.03601011848673655,
           0.24223089009801838,
           0.11106146922685553,
           0.2302094823875911,
           0.011698397993859098,
           0.10375918470978661,
           0.1693351955501479,
           0.13383543049255842,
           0.08699213619728166,
           0.11793962594525097,
           0.20276723584339637,
           0.12145612319947031,
           0.02112816204627611,
           0.17624714278692716,
           0.09753424036685425,
           0.19080900898994688,
           0.24859073174551496,
           0.16649950249948817,
           0.24273650814120945,
           0.19387341488178653,
           0.1804234109416175,
           0.05382554505701667,
           0.14880026309083344,
           0.03450416624998011,
           0.10401054994153079,
           0.20023372515716453,
           0.20194046214850597,
           0.01795806288722544,
           0.19537921183341217,
           0.012300150806864224,
           0.044110431596520075,
           0.0900300827195823,
           0.03644784268023184,
           0.21395010041464865,
           0.1872105788303011,
           0.19345135405115768,
           0.11899835781991366,
           0.07585007222536,
           0.007576871570204908,
           0.2364917829510196,
           0.19802238100490677,
           0.054561541934853006,
           0.13088896632687885,
           0.23722978140836512,
           0.10193196412285072,
           0.0570349900000316,
           0.03418618558976653,
           0.24757567670261005,
           0.23639893681182134,
           0.13141421147815882,
           0.22905708996399127,
           0.14075054104178042,
           0.1607429060119085,
           0.22109959710767169,
           0.19072160256174742,
           0.20862020486255367,
           0.04606060561338475,
           0.22225529650515255,
           0.21418779120987322,
           0.06928233150050704,
           0.1409381326887024,
           0.11251900004584287,
           0.17136410016178247,
           0.1322034356768178,
           0.17818035212609362,
           0.07807157609113635,
           0.06088551013164445,
           0.14680180527941442,
           0.1969358825014593,
           0.19961033504650144,
           0.10795091522768424,
           0.16542725416620674,
           0.15629792004959597,
           0.10793349379508464,
           0.09096067528610234,
           0.17911421554218657,
           0.050123312443416085,
           0.18819801408588568,
           0.17107199523679226,
           0.08895210500296337,
           0.21968413417803803,
           0.18963393877606702,
           0.2274497638803828,
           0.22676702374854535,
           0.12060899922317156,
           0.0120918704330621,
           0.01268815773962892,
           0.17574668570548563,
           0.03428819020691535,
           0.18972437388288574,
           0.14368350854583126,
           0.05915866755438226,
           0.15092393853252037,
           0.1456648577363192,
           0.12981603689683877,
           0.24145954528614563,
           0.0388026231272718,
           0.1867635574119235,
           0.054604980591940085,
           0.19740364886143422,
           0.2187063775021041,
           0.12867092530249588,
           0.05701324588172127,
           0.04389317778279132,
           0.0496351493504639,
           0.14320661059373893,
           0.11601482023483299,
           0.21008689402145833,
           0.220481429102485,
           0.20632812166718556,
           0.07645074677016257,
           0.09802444847530475,
           0.10576414050468207,
           0.18652882121938716,
           0.11312076424691946,
           0.14058918619670127,
           0.10076109024686423,
           0.06142543833113541,
           0.15710012444449462,
           0.17498410917662685,
           0.04285847943007591,
           0.016636835429642123,
           0.16727005987109161,
           0.05813185861863442,
           0.12814247987785793,
           0.0579205692908496,
           0.11226242858246516,
           0.0827639948433398,
           0.24642752919472727,
           0.20969238677747706,
           0.15334570584930182,
           0.03487974409916158,
           0.15448174853457197,
           0.02846327761696767,
           0.22873783031777312,
           0.2010343771014302,
           0.11750528485588006,
           0.030533265113729176,
           0.223291561745272,
           0.026255273532666316,
           0.16354263470136698,
           0.031168451853595968,
           0.017635383425914655,
           0.23141909832597515,
           0.20315688195700948,
           0.03188495056468152,
           0.18728521108676374,
           0.13399135448559585,
           0.07388563553794156,
           0.21439296893487986,
           0.18877567625081978,
           0.09961017926297366,
           0.1884597028969745,
           0.11291912381208319,
           0.029036311833026827,
           0.20439732198887178,
           0.11161906708631175,
           0.059635406624475244,
           0.11662149601542866,
           0.15152390194769447,
           0.08802585844996426,
           0.16854774324994637,
           0.24362321752188656,
           0.14812263979593107,
           0.08900294710207643,
           0.12756217500719905,
           0.06876337819364502,
           0.06723034569836961,
           0.22125347553451546,
           0.16887162806934602,
           0.0210946536910517,
           0.23686317024054768,
           0.23977300636351942,
           0.1669609416243844,
           0.1194798228552233,
           0.2120787934331715,
           0.009882338431234077,
           0.06924839904050778,
           0.2380103368163287,
           0.04101290000818608,
           0.1286571083921606,
           0.15838679669693456,
           0.18071619558840135,
           0.061482746375899545,
           0.1884707442419925,
           0.120410286173435,
           0.20428730372271725,
           0.12340405143734999,
           0.235520144363111,
           0.13780196943999887,
           0.10975394294494331,
           0.0735580239381937,
           0.2366381678601768,
           0.08933651468242901,
           0.17913706766374113,
           0.1654848463417684,
           0.2167304507776726,
           0.19870582037802048,
           0.18410043528192876,
           0.21831220060518233,
           0.10649002414105986,
           0.006962459384471941,
           0.12721389785529744,
           0.11521764487721327,
           0.24591520102111708,
           0.1469830645246215,
           0.06437990174439491,
           0.0324409070550694,
           0.10972887435194958,
           0.21395390540342926,
           0.06406905752610147,
           0.1525940185944751,
           0.11261769543804322,
           0.062335166437037896,
           0.07042856112018263,
           0.20608560965765313,
           0.20234406424173354,
           0.008465287424335805,
           0.1547357908972279,
           0.12195293764949094,
           0.17574738364847384,
           0.13644759413782498,
           0.20588909178896686,
           0.07371099016198478,
           0.2327365645323433,
           0.07566661667258816,
           0.14723918060952246,
           0.09694140895050382,
           0.128002409241929,
           0.14655041764767998,
           0.2263027345081613,
           0.01900335302330752,
           0.20759719324525952,
           0.2172547098640482,
           0.15966067281986673,
           0.18407540610480053,
           0.007995969464400562,
           0.15053017431264934,
           0.244960137908335,
           0.029740020274946613,
           0.1948868939111687,
           0.2341380588597758,
           0.2417939880452404,
           0.012667724977987436,
           0.2450590818984349,
           0.17355517553692418,
           0.14489293083566,
           0.2405552269910937,
           0.0724769062857514,
           0.11641849634173661,
           0.12409910974326736,
           0.09962579363139179,
           0.19113513370319274,
           0.013460535199651723,
           0.049448085931078196,
           0.2386376945255269,
           0.05980933670259385,
           0.06632850125495666,
           0.04047826529967676,
           0.07779157295189389,
           0.17487596250222867,
           0.22120650088672578,
           0.22347563384353342,
           0.16424609986027158,
           0.10664619439948166,
           0.2389331852674738,
           0.2020640850758667,
           0.20957351012511466,
           0.16601047541206831,
           0.037723013895082,
           0.04827838624305553,
           0.14151810265957712,
           0.24685493107400822,
           0.09508894588941456,
           0.00853468838375737,
           0.1786244275726333,
           0.03176418764375839,
           0.2157414792888283,
           0.11773429667677676,
           0.19502783077551247,
           0.17276288216445554,
           0.10977976704964029,
           0.05692579386076998,
           0.10991616225778314,
           0.24801028301033853,
           0.07325812885414354,
           0.12710170879370136,
           0.10855083132382866,
           0.09589955545797212,
           0.03004141931265665,
           0.05952359812058107,
           0.20668610825309702,
           0.11490162426133727,
           0.06889212799627425,
           0.23276400020586022,
           0.2004597999809618,
           0.02728324601861321,
           0.20888535370595326,
           0.17387978163656467,
           0.12998504599435437,
           0.018449113240679747,
           0.03580317857158311,
           0.028385294516791688,
           0.02803287577652909,
           0.12023309620699868,
           0.202453588591471,
           0.2207864108526946,
           0.13142301957471034,
           0.14678479121653398,
           0.24484471340946895,
           0.22136840859936072,
           0.23328590094328705,
           0.13573708789716216,
           0.041128451426326776,
           0.1926514831389082
          ],
          "coloraxis": "coloraxis",
          "symbol": "circle"
         },
         "mode": "markers",
         "name": "",
         "orientation": "v",
         "showlegend": false,
         "type": "scatter",
         "x": [
          -1.2789807512293463,
          1.7361967374055753,
          -0.11051309566337664,
          1.8069808894682104,
          0.37286681314558884,
          -0.6753844143192194,
          0.7870849487065771,
          0.9272858324981145,
          0.7066517293107165,
          0.5870676004716153,
          0.6701299254466245,
          -1.332496131799647,
          0.11099680322842598,
          0.23478002816392696,
          -1.2650233542347642,
          -0.2741299305064559,
          -0.28773501103919635,
          0.8722947056330554,
          -0.30496631425473775,
          1.3734498945339773,
          0.8439341069845011,
          0.2939956051811673,
          0.14289265616706726,
          0.6329502096013866,
          -0.20402687478452192,
          1.4948570430185295,
          -0.4217543114291665,
          0.8554806569179692,
          -0.23515585854558219,
          -0.2979630727272288,
          0.10019701675140319,
          1.0126932698777982,
          -0.45664889878306375,
          -0.16705185640714942,
          -0.764125426800213,
          -0.6227266375863034,
          -0.9718085520469303,
          -0.07455041533724927,
          0.2730498938078846,
          0.2582478733708692,
          -0.06944849608335285,
          0.2220852503640012,
          0.09470023189389598,
          0.10395573307561334,
          1.2092555191069967,
          0.6910775589749266,
          0.4317893847683103,
          -0.61117330352847,
          0.14987976826662255,
          -0.0370280461809685,
          -1.4134069228836879,
          1.2810834342316928,
          -0.2254064893258169,
          -0.1518768684892409,
          0.1951217093619707,
          0.41219484017512675,
          1.1876570883804114,
          -0.03732163281288135,
          -0.21894358713186285,
          0.3232001148740761,
          1.9874422214480327,
          -1.3794046288325836,
          0.04312310380766895,
          -0.07838258835796871,
          0.144522951817716,
          -0.40752488108613155,
          -1.1978326655403189,
          0.4253674272167981,
          2.5716462315766573,
          -1.0788569237403138,
          -1.4339649360607882,
          -0.09947691333907209,
          0.5351018479558042,
          0.8823954951352465,
          1.6625366212293997,
          0.05505217480223933,
          0.5849599981792162,
          0.4201923635491847,
          0.08846559993604325,
          -0.35414662540812925,
          0.2942208769730311,
          -0.0958295931641791,
          0.09653271086202832,
          1.0797566055685728,
          1.3360465654498168,
          0.02947275242658878,
          0.2562778643075526,
          0.025999731273627504,
          1.0192396531734946,
          -0.09798888864263916,
          0.6656254979444699,
          0.2435029218220202,
          -0.17085943945872323,
          -0.8879733317502886,
          0.5739482847003006,
          -0.17826377848330374,
          -0.4142099742394262,
          0.344997406905831,
          0.4458878523930912,
          -0.8304328550289074,
          -0.8254792137126418,
          -0.74515843068001,
          0.23579990063574513,
          -0.7367925889351903,
          -0.5087962513223874,
          -0.013401065361917807,
          0.10099724717212508,
          -0.40082155759066873,
          0.6368660861038032,
          -1.0568473752108944,
          1.190263189512462,
          -0.6905071614435433,
          -0.48229532218104954,
          -1.292981762207023,
          -0.796021239046306,
          -0.9595234688927246,
          -0.23152653876878324,
          0.6440488870490859,
          0.2730593098372995,
          -0.9433415832380415,
          -0.43686376353627077,
          0.5252128041339683,
          -0.020820941678289896,
          0.22167757081460948,
          -1.2857084170016728,
          -2.099321149161111,
          0.47378012163476013,
          -1.9211357429446865,
          0.9305438699379509,
          -2.7998054494831544,
          0.41574978638778265,
          -0.048155710031335175,
          -1.7155550820568557,
          0.35293995271799056,
          1.7501855484844104,
          -0.4984264188730389,
          -2.0848861312976137,
          1.1251984666886807,
          0.1989564757836512,
          -0.8045817726689315,
          -0.9678144072210405,
          -0.9238993834846718,
          -0.34441403668764387,
          0.11882085303585962,
          0.9866632285929411,
          -1.135057133034252,
          0.6021704083520097,
          0.7116395102387743,
          0.47245523063603745,
          0.9364672016752207,
          -0.13319551687212478,
          0.45745943809605133,
          -0.1613291293797246,
          -0.710358651719629,
          -0.5351014433658211,
          0.8441420495485036,
          -0.8267654919841373,
          0.796660857142781,
          -0.12221349447757467,
          0.4322921265896028,
          0.49990259967134526,
          -0.12571390297477342,
          -0.6821186803011431,
          -0.14128302750871724,
          0.318675136666762,
          0.8386130536596779,
          0.4241518540604207,
          -0.39060319117207937,
          0.6040669274866887,
          3.303367494451122,
          -0.09845066613638932,
          -0.6206360651914302,
          -0.6662801886319188,
          0.8659405145668513,
          -0.9411567159961881,
          0.6609721561021005,
          -0.6580117390517995,
          1.9259177018051343,
          -1.3283453862145533,
          0.4643535465428754,
          -0.8725387518587976,
          -0.6118940741403424,
          2.0160468807692355,
          -0.9858180721156122,
          0.40007847605032276,
          -0.24910214156273275,
          -0.01547439146619132,
          -0.682909886397479,
          0.32316871589895413,
          1.4161802536901436,
          1.2323074555665905,
          0.9069021266513871,
          0.820539390801031,
          -0.46255626294239205,
          0.05005302306564125,
          -0.005331235628088866,
          0.4465647445056686,
          -0.11629824299858368,
          1.1199641494529602,
          -0.050292658270261845,
          -0.577310822196247,
          -0.7427181380406448,
          -0.2589162716253075,
          -1.5991671735033752,
          -2.203939938136715,
          -1.0859210933478511,
          -0.07651484945819832,
          0.8969899567856434,
          -0.7717849247227079,
          -1.01503042761424,
          -0.6348659628520067,
          0.6222934730602105,
          0.6706790287998424,
          -1.1694834090446078,
          -0.4390011999073628,
          0.4616851251290086,
          0.45650878999149347,
          1.709090197985375,
          -0.9248636000020892,
          0.24234552273057555,
          1.200591364997023,
          -0.19675696835069897,
          -0.7173644185779977,
          1.2962387067013375,
          -0.38774739206266523,
          -0.014926456478831349,
          -0.11330395843476648,
          0.7756824196276809,
          0.8700058096368978,
          1.0110873930080242,
          -1.0906998123676699,
          -1.8755230728236034,
          -0.22454488560164643,
          0.1060256855262373,
          -0.9245534249490038,
          0.47928062144668593,
          0.94412097003445,
          -0.07108733016687223,
          -0.5108795851157547,
          -0.33867334482709566,
          -0.6593478242050981,
          0.48222929247685026,
          0.8972343847480481,
          -1.1070512092903557,
          0.8995883577767289,
          -0.8665341431208945,
          1.2995187448904344,
          0.2049108039779639,
          -1.9601372345203414,
          -0.6998275520197235,
          0.12393177342191193,
          0.9976754761035502,
          -0.10032008792164843,
          0.15422286771757523,
          0.13845977137051488,
          0.6919594811521615,
          0.7819893694608782,
          -0.8319580792817154,
          -0.4047862998883889,
          0.2079367710868611,
          -0.8190573224740848,
          -0.7825122781195367,
          -1.7066132821746367,
          0.48249965951731777,
          0.35306101611803736,
          0.8388039672777046,
          0.13553979664028673,
          0.18023433727051513,
          -0.7798152072726179,
          0.021019384826107806,
          1.1374646516228704,
          0.5911387269967213,
          -0.3410372874244235,
          0.35476742571327985,
          0.1075680303783679,
          -0.6404449237890683,
          1.0340432624817915,
          -0.007495058915120717,
          2.431312082741131,
          -0.2575910619753052,
          1.3515292069121705,
          -0.3559630129311595,
          -1.8764293762222715,
          -1.2957558631871253,
          -1.109417415428132,
          -1.031716381269898,
          -0.25494930071075744,
          -0.6685317243628569,
          1.3519366495925296,
          1.3324267161886054,
          0.4096736303016546,
          0.3757622515849827,
          -0.5431390849905398,
          -0.4746931590583144,
          -0.6495238695134895,
          0.5818964716615619,
          0.37473366190273305,
          -0.7774387152300288,
          1.457905952714723,
          -0.35717377218233554,
          -0.3966446737967032,
          0.44419121638247994,
          -0.21865455235726028,
          1.8778067146377513,
          -0.4583232102958017,
          -0.5759884515811775,
          1.312388524830812,
          0.7711033195977745,
          0.8895274640303644,
          -0.7557423056479234,
          -0.0006579731575755707,
          1.2279958289685327,
          0.9935111963471797,
          0.28943660583606573,
          -1.286666863592573,
          -0.9162831143487702,
          0.325693804667896,
          0.2994451373101293,
          -0.3270557586178824,
          -0.5789069389325683,
          0.3573221865270936,
          0.2406280533474445,
          0.20873352635593156,
          0.22540105780563685,
          -2.5415063006289604,
          -1.2584344154879628,
          0.4393444816255362,
          1.220175830058574,
          0.6484875702572526,
          0.5148731562226248,
          1.3433258067615892,
          0.07621815487413845,
          -0.7401043002809624,
          -0.2659926074221807,
          -0.07983532202961136,
          0.4857028501895418,
          0.4620189638730516,
          -0.1259367411735758,
          -0.2884723439005721,
          -0.08728181623725075,
          -0.8504575545937132,
          -0.2678620348793831,
          -0.7320320666737259,
          -0.615384180802114,
          0.9676495022330734,
          0.5985351785623938,
          1.9893990012800362,
          1.1186074827689227,
          -0.1139000316596568,
          -0.7874979473787271,
          0.6496747101966451,
          0.41739844101970286,
          0.3774682942218778,
          -1.3401447223043061,
          -0.35034663591552495,
          0.4645983296217004,
          0.05114058374313392,
          0.2443930327558801,
          0.19791882532714525,
          0.7552609822880006,
          -0.13809430359839323,
          0.955638607195501,
          0.14371053647827584,
          -0.67411505993715,
          -0.637862072499181,
          -0.08975855320110536,
          0.870252645886783,
          0.4081131877481212,
          -0.25093743660032797,
          0.9479440445300824,
          -0.9451530761377613,
          1.7014487980912192,
          0.046022666015771374,
          0.24832161597740002,
          1.2456993843703368,
          -0.8094753360508855,
          -0.3023821791700719,
          1.2741812696044126,
          0.037444377264564954,
          0.7213839511932155,
          -0.8085371759546511,
          -0.25829971422295095,
          0.868793986749616,
          -0.5967972376739763,
          1.0841412825495642,
          -0.07974851355117836,
          -0.0021449356540953453,
          -0.7109953738848744,
          -0.821094055769224,
          0.6757970972483693,
          -0.8178139298729484,
          -0.2302152764964773,
          -0.23307784014892707,
          -0.2133163845747941,
          -2.687522982303862,
          -0.1736625002900736,
          -0.035408885275587505,
          -0.6542124758401455,
          -0.19393824751635724,
          -0.819342707712849,
          1.1417931581708503,
          0.13552380812076237,
          1.0767764157147013,
          0.9288028647336857,
          -1.1093235706070474,
          0.33862812898450617,
          0.9136205896756999,
          0.317531598697071,
          -0.496870110970157,
          -0.9697185758937356,
          0.020750162120069145,
          1.2695313086058404,
          1.3911498470774535,
          1.2323062575952566,
          3.128643238066715,
          1.5941261176463135,
          -0.9835275907449138,
          -0.7073052819065679,
          -1.6020437843267161,
          0.8598272298480963,
          0.25403781976836387,
          0.8301462594655206,
          -2.0119015869918857,
          -0.9018156496157097,
          1.2030380623394523,
          -1.8626861344058032,
          -0.253459611788018,
          0.776073500601958,
          1.3434772498108138,
          1.3481746614174215,
          0.08993218476336715,
          -0.4426737816571337,
          0.6346797864626083,
          -0.08754751235153704,
          -1.0846283469102165,
          0.04582437453465937,
          1.6821225617007898,
          -0.8017301243334898,
          1.3973523219468085,
          -0.15574158362734677,
          0.7520730276181499,
          0.8836426290373032,
          1.2892874201576874,
          0.20892132184405054,
          0.19763524841229863,
          -0.2368935067368787,
          0.38665315558155466,
          0.04593740615850563,
          -1.6333331836816491,
          0.83124246763508,
          0.419766214684028,
          0.17771578224758441,
          1.487589636054903,
          0.38971156950906877,
          0.5556820413296444,
          -2.141986616783258,
          0.055599412334504036,
          1.1009585887532918,
          -0.018805865034690752,
          -1.1827532945059867,
          -0.8305996715608509,
          -0.17352832519417447,
          2.2133714046609914,
          -0.7641596064864282,
          0.2447489445983202,
          0.08176955794192466,
          0.9020367794656271,
          -0.3667950684153137,
          -1.0263761615305351,
          0.6722518266376103,
          1.7222637181500937,
          -0.732090409532987,
          -2.3363891280317475,
          -0.4042963474227496,
          0.8451152049252438,
          2.1517774931211298,
          0.24684009386644706,
          0.2780122205196332,
          -1.0639533854876075,
          1.1692681172007382,
          2.411273129255829,
          -1.212221682942273,
          -0.050784570487730864,
          0.36544433805801196,
          -0.5885619642069805,
          0.7666656942036236,
          -0.5594044708386874,
          -0.02623476077041917,
          0.36615141279462154,
          -0.023192004251376283,
          1.2873089822061912,
          0.17851491457368235,
          -0.15514195033139958,
          1.102607560004193,
          0.6141275662757003,
          0.6402969316395943,
          -0.36845095274238543,
          0.5175011521419061,
          0.6713423992648297,
          -0.3861703837121351,
          0.5106404226617931,
          1.6227837371817906,
          -0.8110198178239438,
          0.1322904243962859,
          -1.2874918414361756,
          -1.3155575520855964,
          -0.9851786483588779,
          1.4980490169412926,
          0.6057337429046046,
          -0.7936256121449276,
          0.5256770638744566,
          0.4175870993193855,
          1.276232597385252,
          0.01790223712389392,
          0.43925490714118115,
          -0.7098681545555294,
          1.563367168177966,
          -0.6090086113869032,
          -1.0477048627063572,
          0.6711374969304609,
          -0.25864967846022696,
          0.39897414581331203,
          1.2040166644578056,
          -0.8965668486283113,
          -0.4106224258168291,
          0.665188981972332,
          -0.7656913313057984,
          0.5902736724697304,
          -0.32375183946240704,
          -1.791500550153348,
          0.6709623061796458,
          -0.3082191448549374,
          0.3366792504451775,
          -0.2370725602729613,
          -0.47900109924833106,
          0.8870581314585331,
          -0.169592777569134,
          0.4936358555234033,
          -2.3195043705872256,
          -0.39146804113612976,
          -0.4782710307621768,
          -0.6436475115140051,
          -0.9045501655856883,
          -0.4762520255974443,
          -0.05841055642576676,
          -0.20847792261170145,
          -0.49741617306484825,
          -0.105990907500548,
          -1.128718132988246,
          0.31445663020411474,
          -1.3601560774766603,
          0.6406455949179982,
          1.1395563246291747,
          -0.692061914340717,
          0.6316233056044619,
          1.5392510312322207,
          -0.367349238105609,
          -0.7991540437535175,
          0.7148439547069031,
          2.449361334861028,
          0.05987604191420997,
          0.20770209367537032,
          -2.5635367845814248,
          0.24107313874021968,
          -0.17552052753185082,
          1.5267323459099387,
          -0.16034600429689394,
          0.35667278978560596,
          1.252164157401114,
          0.005567626087514158,
          -0.8355194744600034,
          -1.6829763247746297,
          -0.12465944746363071,
          0.5043251948198961,
          0.053939145655181375,
          0.2863306586764366,
          0.4633055054652083,
          -1.0573763106998522,
          0.9120070666995755,
          -0.7912178684309374,
          -0.7713165266042097,
          1.1233889023163515,
          1.467135286474647,
          -1.5883897425095121,
          1.8350788894557355,
          -0.0509230401599401,
          -0.6056177893901192,
          -0.17147415811971514,
          -1.0889895592577632,
          -0.11513551155453251,
          -0.40914072267189017,
          0.4036322590702728,
          0.5247544745877926,
          1.8875051508982228,
          0.7861089562286283,
          0.022398805346436016,
          0.6419761544956986,
          -0.20954758143052374,
          -1.3713601431032991,
          0.39227332994755615,
          -0.9866153699700242,
          -1.0378981516194739,
          0.4741685987369631,
          -0.8807093488053042,
          -0.022625396955336413,
          0.3940261447720775,
          0.18244528241158361,
          0.6425497842438113,
          0.44607476572076354,
          -0.054524510260505366,
          -0.2253595898218316,
          1.2304072211879329,
          -0.865164968525319,
          0.4793957777071464,
          -0.19646442018196664,
          -0.38091687318485856,
          0.7348882176496644,
          -0.3364906872090327,
          -0.20524464030371078,
          0.036562511810222575,
          -0.3523400813043103,
          -0.8597770481414719,
          -0.3119868478970179,
          -2.076767001116293,
          -0.8931168577637744,
          -2.028210923317638,
          0.27538918176701477,
          0.13907443928358335,
          1.4842802929967154,
          1.0751991867469908,
          -1.9244995512521437,
          -0.5843807714821332,
          0.37995433722927885,
          0.6203275778024828,
          0.9550186279020306,
          -1.3619201614194998,
          -0.5011507230752807,
          -0.8372480752971027,
          -0.26748931288559874,
          0.07687193144975779,
          0.523773346327765,
          0.3579662647776383,
          -0.0709262655373559,
          -0.5826588231479674,
          -0.30882907617552324,
          0.2121675637037768,
          -0.5555999768603533,
          -0.609910738453988,
          0.7499033780941949,
          -0.2243517943392383,
          0.8667042277728984,
          -0.8072974217500254,
          -0.04877770092820249,
          0.25704398710489373,
          0.9336611734278342,
          0.6888860360568555,
          -0.2108437251431367,
          -0.06992161421299785,
          0.8485609034540218,
          -0.8122727824096335,
          -0.2023254910501712,
          0.1635532080104141,
          0.7388491782284753,
          0.6631943712299234,
          0.9879093977500147,
          -0.13235648059095664,
          -0.14593627094097716,
          -0.1497801714935602,
          -1.4158796631278328,
          -0.9577033430589523,
          0.12757188408558168,
          -0.32517737396518964,
          -1.0105072576848266,
          0.6464903191722218,
          0.5366186093825945,
          0.28091446423834615,
          0.33939288086945013,
          0.09650910191076996,
          0.6274123231484267,
          0.2907244192009012,
          0.17922778387608812,
          0.7540773730482986,
          -0.6897423396692457,
          -1.226426610975251,
          -0.8164059908047778,
          -1.391352097777029,
          -0.13107276606150497,
          -0.5934840151787177,
          0.19982510934858047,
          2.4731526552906065,
          -0.04311726681614992,
          0.7355061117996692,
          0.3976422082977998,
          1.4505946104735359,
          -1.0717452856401528,
          -0.49938160875603305,
          -0.5316336389523586,
          1.6780734447721035,
          0.8324959979150092,
          1.2743742458245932,
          -0.549027725998868,
          0.0884796187454592,
          -0.6648887381606224,
          -0.24248450970320615,
          0.507016921514302,
          0.20392609075460408,
          1.117384954322821,
          0.9830334787452337,
          -1.8917324879816202,
          -1.283618277267178,
          0.06818052682795289,
          0.3195186051662751,
          1.500583971698569,
          -0.3248059607987212,
          1.16881003864309,
          1.2248484016133754,
          -1.0757462550642864,
          1.930190260748275,
          0.5407666490070332,
          -0.6783298331727983,
          0.39947580474617495,
          0.8212352959100266,
          1.5090166560139493,
          -2.6299141433178437,
          0.24833861966387477,
          -0.28674035444860513,
          1.732151606597495,
          0.4107653828119768,
          0.2540874116718358,
          -1.3361249458035604,
          -1.1226249838696554,
          -1.633252748154161,
          0.03741628632191946,
          0.3102600335070781,
          0.9844592281743623,
          -0.21117574652064258,
          0.994345320284939,
          0.7856893942780871,
          -0.47036243165505065,
          0.13901382387515923,
          -0.6004310648078632,
          0.5303545151316036,
          -0.21720418892128343,
          0.33173256857141303,
          -0.7333043389568508,
          -0.5269933693352719,
          0.9509910910700328,
          -0.8106568308973168,
          0.334624732046157,
          -0.6270183256933685,
          -1.5248161386562682,
          0.38568270850807596,
          -1.004740064335483,
          0.6789205164758099,
          -0.31841979631645223,
          1.1060822149502207,
          -0.6956523423020728,
          0.1322233436365961,
          0.8193245998178216,
          0.9769303199185106,
          0.0756009783512861,
          -1.5655836383848212,
          0.251245275243499,
          0.8653545138180914,
          0.5512205983192076,
          0.47921696642635275,
          0.6971233338314089,
          0.20837949431163458,
          0.14366074675270774,
          -0.9057006895122285,
          -1.3356049600291995,
          1.930086660558264,
          0.7779924436584753,
          -0.16060498301736514,
          0.4021164598110018,
          -0.8801228258363715,
          -0.9322034061758937,
          -0.8908893555727762,
          0.7768216340770253,
          0.7615510686469529,
          -0.19997608614064183,
          0.5594304479823461,
          -0.4146787242572505,
          0.5197331359466638,
          -0.6873107181283743,
          -0.512593218528308,
          -0.8574337345353041,
          -0.7573203273966442,
          -0.6737610152106315,
          -1.7976008321374857,
          -0.41270899048456333,
          -0.5891631582914147,
          0.5667397612324329,
          0.08570758538836552,
          -0.5810078803008257,
          -1.3616412920294156,
          1.0050158078418112,
          -1.2062804621457466,
          -0.5280705880316511,
          0.4295129213698193,
          -0.40281337546972895,
          0.2816577641832872,
          -0.17973289882630164,
          0.08433539163882188,
          -0.8438931934718027,
          1.8226131640199987,
          1.578015743318079,
          -0.10278799368785986,
          -1.6568985925676836,
          1.0730812327254706,
          -0.09468210728592383,
          0.9849716654444882,
          0.6205642407214358,
          -0.12235690324846299,
          -0.4622198400794093,
          0.7949476700929378,
          1.8383455892136038,
          0.24871351264791977,
          -2.068889318170268,
          -0.3884494040092552,
          0.4814105881152861,
          0.40951080006745105,
          1.8189788881871771,
          0.234669989349547,
          -0.0846171360676178,
          0.10544028916557878,
          0.05272555227151905,
          -1.542914585256927,
          0.3929802809926625,
          0.643762822699811,
          1.9513320705032953,
          0.760032619988376,
          -1.1016760166555775,
          0.8022588472499885,
          0.547832058434315,
          -0.19396126290062946,
          1.0510965325156707,
          -0.7493976975960125,
          -0.07825271464988105,
          -0.9408641417425228,
          0.5180112928428479,
          -0.8386924570311307,
          0.9207262282891461,
          0.2507418507457452,
          -0.6366559083277716,
          -0.4613802790809626,
          0.3677706250071247,
          -0.16162984709275177,
          0.5546636512410603,
          1.4354063890911242,
          -0.9196580809262603,
          0.2907546909530202,
          -0.7369721518387289,
          -0.3579016868233085,
          0.02471998944331548,
          -2.2092271827091547,
          -0.1180769444039218,
          0.0021958646903063933,
          -0.02519733159577499,
          -1.206429072066325,
          0.2827362885978867,
          -2.410195735169461,
          1.4526086631851827,
          -0.11838748226200069,
          -0.03857974751742165,
          -0.6850647962619619,
          0.7128377480578945,
          -0.5344843990924358,
          0.6764003223914471,
          -0.6109494796307715,
          -0.9526588930320609,
          -0.5723123583351667,
          1.1089887362882016,
          0.2648720401005781,
          0.17893658311064786,
          1.0814506566495048,
          1.3129219121384954,
          -0.30206811717904847,
          1.1479282601876521,
          0.7879308772556574,
          0.5650848228187626,
          -0.44426647854604423,
          0.651937293992866,
          0.04037257904321513,
          0.4313773287864796,
          0.8708439290860521,
          -0.9369219182210742,
          -0.7335110809114512,
          -0.6456477977034446,
          -0.09798474517827199,
          -0.9533715419427439,
          -0.521745761298889,
          0.8572996798305033,
          1.1439343505797295,
          -0.5311622820479063,
          1.4435343754257757,
          0.9933325271871202,
          -1.1271408122788689,
          -1.416729736136105,
          1.5521709134791157,
          -0.01789294158849402,
          0.4881048368994227,
          1.8639721452780709,
          -0.7667570093808295,
          -0.4893529746408067,
          -0.8389818292188762,
          -0.876787348192026,
          0.26642600745660533,
          -0.08546166928295792,
          -0.26466385773134615,
          -0.6409024967204868,
          0.7381492502260375,
          0.1671232481218248,
          -0.5690726288968817,
          0.6069394920140009,
          0.13983472345469505,
          -0.3943445481200264,
          0.45188112040067746,
          -0.4456573167336027,
          0.5440974356914285,
          0.006883950588729321,
          2.4829307907530267,
          0.9716661323009715,
          0.17570573821002486,
          0.48380110521706565,
          0.15896741076707382,
          -0.3101688903442153,
          -0.029306960875077673,
          -0.3349497498279041,
          -0.11556674309762648,
          -0.8532068818782119,
          -0.14737912510634246,
          -0.17983150783660856,
          -1.3195865497156716,
          1.1263670456874495,
          0.34008949873067906,
          -1.0875683257409514,
          -0.5206549580209856,
          1.4092626623737972,
          -1.731916837402642,
          -0.28876886278613845,
          -1.1721845857955204,
          0.7915945073973096,
          1.874811847192593,
          -0.34859611731861034,
          -0.13175010973269544,
          0.2899532099854235,
          -0.3390202359946595,
          0.1049431362845375,
          0.8168063033374124,
          0.2550416538450668,
          -0.6175576192209493,
          -0.5854777865171555,
          -0.8463746084434264,
          -1.8381214081964559,
          1.2308504322537095,
          -0.8427786112240131,
          -0.10779533618060387,
          1.2675516387599193,
          -1.0445113565710928,
          -0.6602053322657601,
          1.1331134715494915,
          0.11152592156003116,
          0.9990123491501597,
          0.054171235579910076,
          0.5225778405721987,
          0.07687197181165867,
          -0.19213269481847609,
          -0.9183899237935844,
          0.005598966957674623,
          0.43862880494138295,
          0.6697309910008532,
          -1.0887578023405369,
          -1.169038139057121,
          2.0487253560704066,
          1.4266471255106685,
          -0.21787675761988456,
          0.18442747310197827,
          -1.5960899519141911,
          -0.25595360355045355,
          0.6431075912639557,
          -1.9254662550570134,
          0.03544527919244008,
          -0.222108144113329,
          -0.6943756279943268,
          2.2804993652934042,
          1.2372102199104082,
          1.9730611599511405,
          1.824368174436886,
          -0.5250180557035725,
          -0.025021781050396874,
          -0.317250885029101,
          0.43917432206915996,
          -0.864501965657357,
          -0.12826189246060513,
          -0.47839242916163766,
          0.10585264738751857,
          0.6693658708335865,
          -0.6339657887665209,
          -0.5860597130526157
         ],
         "xaxis": "x",
         "y": [
          -0.2333119917223724,
          -0.5649618105861883,
          0.266130729058286,
          -0.12413707478808682,
          0.29046031340326295,
          1.3939102545931419,
          -0.5170412590580113,
          0.8544399752985824,
          0.8986466835792122,
          0.2543778992530417,
          1.2777693723055354,
          -0.5601700005065194,
          1.4187547759752797,
          0.20307676862216856,
          -0.5601814354218116,
          -0.9763500965337331,
          1.0876178883452445,
          0.0734024333876893,
          -1.0046357075623076,
          -1.476406970705078,
          -0.9072465157881863,
          0.051496131855885315,
          -0.2355742996729903,
          -0.15406946396952195,
          -0.9110940341474689,
          0.6631144741662879,
          -0.01267415366032682,
          1.041400494289545,
          0.37040507245344984,
          -0.01965811965959439,
          0.8191474161188783,
          0.29073661665351946,
          -0.08290186964441786,
          1.1961525397545614,
          0.19730906033354223,
          1.534273003774395,
          -0.6796240704068812,
          -0.689871700241239,
          -1.2623947473929193,
          -0.055309059674650475,
          0.47946219134663404,
          0.3353243632440965,
          0.11139674453151298,
          -1.005426725490802,
          -0.280405376290708,
          1.6934766073879655,
          0.19874162092452077,
          0.012853323093736331,
          0.23726476670799726,
          -0.6446795668041744,
          0.8976897649818445,
          -0.5213561804607332,
          -0.05768641298672542,
          -0.545000891849191,
          -0.7476939404359224,
          -0.7467479669751622,
          1.6803221063536018,
          0.29373850908864624,
          -0.04430816817837219,
          -0.7623982431449162,
          1.2465506917689113,
          0.34057491920816074,
          -0.3607330111391879,
          -0.3144495950598181,
          0.892425391819002,
          -0.8917323331263165,
          0.28401702112174687,
          0.10146849477822961,
          -0.49890072558617266,
          1.3566393245288177,
          -2.9729142288856414,
          -0.278951337878788,
          0.5172327469055318,
          0.40719776841651634,
          0.5530060861625637,
          -1.0648048129297019,
          0.4864095364760806,
          -0.5862007173908346,
          0.4540099929285216,
          0.1630817383022811,
          -0.21914604971250903,
          -0.3305231334136408,
          1.0848725351254387,
          -2.1329125355877476,
          0.8722709086570305,
          -0.27316889477972683,
          0.33187121989454477,
          2.233669999476768,
          -1.3483474189543254,
          0.9594448071072534,
          0.5506593400210223,
          0.04156455186629938,
          -0.38112408722172103,
          0.5431727412748101,
          0.6500879017869793,
          0.2796966024838516,
          -1.3046590156826954,
          0.8590148572895405,
          -0.6152124058134715,
          0.38262440481252274,
          -0.16938962216346723,
          0.8533235957808651,
          0.6126828409020301,
          -0.15464384532981043,
          -2.3787481647870212,
          0.9285168402383953,
          0.7045407193944397,
          0.7697605476390719,
          0.48065618968071355,
          0.021101270172252582,
          1.4019695814432531,
          0.6517257938349095,
          0.5578753306011378,
          -0.5317876847300325,
          0.37917360163387864,
          1.3960580500737456,
          -1.8336237724237585,
          -3.2547694804359586,
          -1.991188042930331,
          0.6296659565008736,
          2.027832274606016,
          0.9043674310818756,
          0.9213547531661401,
          -0.5405886655953256,
          0.09454091176277599,
          1.1238137923206846,
          -2.1927523519857814,
          -1.2076021968362163,
          -0.8247285764453501,
          0.45601672573393426,
          -1.7246323059660889,
          -0.7194350052591258,
          0.7921817825072571,
          0.06604795537898418,
          0.12549310594685423,
          1.250082762200963,
          -0.2443556651677273,
          0.21169514292372393,
          1.0262219611007308,
          0.9458837682264115,
          -0.47311527559770006,
          1.0492063401265195,
          0.2977758852248384,
          -1.8241330498150425,
          0.480081571723147,
          -0.6067645086966459,
          -0.9546054468540078,
          -0.5331119321212322,
          1.4303940050340829,
          0.7899073520237946,
          -1.655024863204735,
          -1.6708042908103977,
          0.05271509657040265,
          0.7240070858714778,
          0.09359787365746743,
          0.2426981213913199,
          -0.572011660592569,
          0.9084431942876728,
          -0.2086834903303462,
          0.4774734193992787,
          -0.16411128493936214,
          -0.6310388642829325,
          1.252394370158644,
          1.298840875034485,
          0.10961848900932585,
          0.9547104629613198,
          -0.20209683693928787,
          0.9337091459227886,
          -0.6596528395089006,
          -0.5912540675056948,
          0.39461722864260085,
          -0.10242628705802162,
          0.4267238516706124,
          0.39360620371633065,
          -2.3628165727949093,
          1.3366505432450295,
          0.3831487986650203,
          1.6325247347237095,
          0.12156601935687611,
          0.9794165017212793,
          -0.03189275071480222,
          0.8216606545023418,
          1.5026209434397142,
          0.44362015532650645,
          0.6311020642207301,
          0.06292437429653465,
          0.16499660334153596,
          0.4187374557247933,
          -0.17346257459221368,
          0.11367439587304748,
          -1.4626356002241052,
          -0.3814349499385528,
          -0.24007889883915856,
          1.105396126077159,
          -0.059368531191608176,
          -0.8445687490690978,
          0.1851457535487888,
          0.5282508162272387,
          0.375663865690056,
          0.13865491991571569,
          -0.4007698455451983,
          0.7590089429256697,
          -1.0191586472139655,
          -1.2250153308515572,
          -0.9881068450156812,
          -0.647675322361095,
          -0.712189154609588,
          -0.6497792684662481,
          -2.609510849849024,
          -0.7296671858371273,
          -0.7395569423268205,
          -0.7628752037013781,
          0.39544471005077353,
          -0.20670715911447188,
          1.867670491836323,
          1.2104444578568065,
          -1.1930817139683012,
          0.5041066296753384,
          -0.17186524637351366,
          0.09949064328014556,
          -0.9078020294478426,
          1.4573057303527344,
          0.11594173980336601,
          -0.3777068095803577,
          -0.6176157459715738,
          -0.7832864705210577,
          -0.533910516021136,
          0.3364108214899616,
          1.3311312720498534,
          1.0892022464740156,
          -0.43623364165763245,
          0.06744560574387587,
          1.1137588079298266,
          -0.40498202372243636,
          -0.4726486310721164,
          0.05151444191994539,
          1.0279682384788678,
          -1.239717155620412,
          -0.2542002232073376,
          -0.4680459918095605,
          0.6193357072999274,
          -1.3162692309445627,
          -0.6811835080352605,
          -0.050405919913028646,
          1.2227568909046158,
          0.837687399544511,
          -0.48081146874465275,
          0.7525878041866749,
          0.7873471006500132,
          -0.6555425754022552,
          0.8488880470288197,
          -0.21402509974529488,
          -0.3825069515243987,
          -0.3380138047350915,
          0.20378281464682613,
          -0.5855657319971944,
          -1.432090022986863,
          0.35674734468713054,
          -1.1019397288254766,
          0.3363110309271805,
          -0.5003345582417486,
          0.42822686637696716,
          -0.44939213658628396,
          -0.3648559023150625,
          -1.4709589753911827,
          1.2396981494637043,
          -1.024405435987566,
          -0.8996619449152208,
          1.0305333222197395,
          -0.28711070650658965,
          0.9815783048369994,
          0.04155648707112448,
          -0.8137101097922841,
          -1.0530309780392157,
          -0.7694458227776498,
          0.6094371563405786,
          -0.45895087220895486,
          1.327633004651617,
          -1.1358482028651737,
          -0.34542387894562715,
          2.1420170433109362,
          -0.28024499216201615,
          -0.6545677390710117,
          -1.7309702195719325,
          1.6685931608654019,
          -1.4393052640552646,
          0.19357372558170327,
          -0.7650630604785719,
          0.4783490786453689,
          -0.6819551347561758,
          1.2581969103638913,
          0.9055764923940914,
          0.04831109892375746,
          -0.8299422012424514,
          1.3969880034632054,
          -0.5228430766708422,
          -1.834172798982475,
          -0.31774420552120675,
          -0.6904674817160182,
          0.31824621845324347,
          -0.19839105661765943,
          0.6185971792958448,
          1.497909681674592,
          -1.592607139689492,
          0.6656241338196092,
          0.12446943248511237,
          0.018971583708963978,
          -0.35993909992930667,
          -1.6727390423041988,
          1.0297142363310963,
          -0.8274024920909601,
          0.2660421359846695,
          1.069874507883123,
          -0.5921404035262433,
          -0.21136009174117387,
          -0.00036151607604122127,
          -0.11114894672069311,
          0.17947725107862517,
          -1.0530560158617484,
          0.17280096701086228,
          0.8897184933000454,
          -1.317784687460322,
          -1.145815623036003,
          -1.6109851864730447,
          -0.048640346555099974,
          1.9539056196782418,
          0.5768731025597695,
          0.6676399837586683,
          -0.12507003326432392,
          -0.12014216834779885,
          -0.7427435077386363,
          0.39136217001919954,
          2.397852320408661,
          0.060234031060541246,
          -0.42735919923760723,
          1.6842756507593761,
          0.09201385026991525,
          -0.9917888661097554,
          -1.824160729866744,
          -0.12919635900837406,
          -0.22324224037413876,
          0.3129622532208776,
          0.6797487477274753,
          1.6814734689143056,
          0.6660577509664442,
          -1.4644056423826095,
          0.3173391156210439,
          -0.31380021242798795,
          0.08836563132619281,
          1.4979818519522314,
          -0.7806423632610275,
          0.061789151395237524,
          0.5114744996926984,
          0.4028607856402558,
          0.33883481407280797,
          0.6580563822668679,
          2.1521452765274023,
          0.6827411731228131,
          -1.0438621485646018,
          -0.21304588937609353,
          0.7168128434780491,
          1.1671442262065905,
          1.1698578695173762,
          -0.7364703733139182,
          0.3245056150142566,
          0.6832016833097373,
          0.14558211417714437,
          0.48730320917628095,
          0.9077763603258417,
          0.19984039966810413,
          0.26491799700019747,
          0.15416148996608137,
          -1.2348189751155962,
          0.8062023748452678,
          -0.5306547508823776,
          0.25469021599784913,
          0.45763426736582224,
          1.1845156797400829,
          0.27037318767862095,
          -0.4658555171874834,
          -1.6072201514550446,
          1.8583749773502525,
          0.9936877836661208,
          -0.20217896281486225,
          -0.917274757557751,
          -0.3383959217075834,
          -0.24820256008369282,
          -1.4783737844981162,
          0.4123373567348318,
          -0.08438531255180672,
          -1.3218282103205308,
          -0.4918097130072278,
          0.48492975384778225,
          0.7848240164207329,
          0.10850800171088514,
          0.6676579530396327,
          -1.614032573995286,
          -0.6225605820240183,
          -0.7890188706787943,
          -0.2556907028173095,
          -0.7954802461578686,
          -0.18048857703961604,
          -0.3763255941134634,
          -0.2534258530313882,
          0.7164060281661025,
          -0.9039226987560668,
          -0.37933168924325594,
          -0.21828773633052576,
          0.02439766577374498,
          1.6980837491474192,
          0.7310156129398503,
          1.4290089511455182,
          0.4267187766532473,
          -0.6213337045072562,
          -0.7842953997411078,
          -0.9721144116717789,
          -0.38757890483050744,
          0.9588409661322598,
          -1.3345147894405744,
          0.2533053489906964,
          0.9973475641142036,
          -0.6866992002784481,
          -0.7503714762731544,
          -0.033595779622322984,
          0.35702571130227245,
          -0.5661618765676548,
          0.8330942855925025,
          -0.28982250005237914,
          0.31907668625034386,
          -1.102915425948524,
          -0.15938284839966002,
          0.4786985051690986,
          -0.4503873244684704,
          0.05834361985585871,
          0.9453559544820679,
          -0.25682408958413816,
          -0.13114235753176115,
          1.7175181779790487,
          -0.2581286987693239,
          0.6601896098926261,
          0.34273271294765173,
          -1.1374447937649186,
          -0.6823587558509753,
          0.16984755500386717,
          -0.6575758717401319,
          -0.3740025916700153,
          0.732284202208702,
          -1.26566323700661,
          0.6365966768106283,
          0.4503154662586653,
          -0.44505633560216057,
          -0.16248609656779345,
          0.5888910344096089,
          -0.23332733633556532,
          -0.7248015400202231,
          -0.46815459856749675,
          -1.7472966662166893,
          -1.13774377271883,
          -0.24901248939070253,
          0.26507818255959736,
          1.7092554769547503,
          0.7945556994157664,
          0.570193223799307,
          -0.37166432492160967,
          1.0611143015836808,
          0.16988959874318468,
          0.41035250474387963,
          -0.5183693183608913,
          0.7539896208757232,
          -0.43428862874683094,
          0.10802945967519209,
          -0.20912005744354967,
          0.24559271607308872,
          -0.7057941660539845,
          0.44855287834364893,
          1.7303069868783207,
          0.6646358727594744,
          -0.060818080681181934,
          0.32154599170053144,
          0.5923765241555581,
          0.9524393963316792,
          0.27179644129046177,
          -0.03406437615440357,
          -0.4154835382442256,
          -0.6497920826612567,
          -0.4452490197930937,
          -0.4214194924783851,
          -0.004581427975442171,
          0.01602446802060596,
          -2.1568820851485033,
          -0.18158651453619745,
          -1.7082738900055092,
          -0.34232342167374535,
          0.89243817722647,
          -0.7710863743641035,
          -1.017542976622353,
          0.10371896697202514,
          -0.07052370705568288,
          -1.085047807090155,
          1.2681816045959011,
          0.08830743591815117,
          -0.660474518531979,
          -0.6173140976530432,
          -0.018404356426102022,
          -0.32936699663085417,
          -0.6492018971416867,
          -0.0969557450715096,
          -0.13822714082547446,
          -0.18305745546962027,
          1.5250808911530302,
          -0.07708999136249466,
          0.6907852194195245,
          -0.17909394485194996,
          1.2128279278310397,
          -1.3611999126571528,
          0.24600789862958253,
          -0.9790077913665853,
          0.49280055506030407,
          0.25751630854585084,
          -0.5909094528139471,
          -0.23548356381746416,
          0.2534013265076671,
          -0.9206959232441418,
          0.9008639808486352,
          -0.14630615073007686,
          -1.3796203734612826,
          0.4481556662659136,
          0.2210381397347678,
          -0.29960427901061465,
          1.246243722818554,
          -1.2105423154753618,
          -0.08059239477687187,
          -0.4983452614493674,
          -0.3836988116816125,
          -0.9777385348513457,
          0.1783895446236525,
          0.5032751924606461,
          1.4503737048314742,
          -0.9382741621088819,
          -0.4492955558682624,
          0.10174360786994852,
          0.10779895859317878,
          1.6128992994657212,
          -0.11441724889733518,
          -0.9977241528062571,
          1.0381878223040206,
          -1.4074527139592088,
          -0.22566277174219251,
          0.749092620634205,
          0.1259989132521923,
          -2.0240395049109208,
          0.7274224343647416,
          -0.7639959948883536,
          0.35465030919658763,
          -0.05112764467298913,
          0.3402858536943627,
          1.098380765433114,
          -0.060790563626672234,
          0.20593697449313791,
          -1.250726447391216,
          -1.3272381937139832,
          0.9274549901143856,
          0.7763583855499806,
          -0.5004254175275347,
          0.2704863722883994,
          1.497558130282213,
          -1.9182505155145737,
          0.5069873758304444,
          -1.2510848962545345,
          -1.0854124493997865,
          0.08666727825975007,
          0.5279745613447638,
          -0.1459600692021441,
          -0.5256564966819132,
          0.043227386800726415,
          -0.03555634539740484,
          -0.3067880571568443,
          -0.8824579761667724,
          0.5639021356003834,
          -0.6951638702524884,
          1.0681712007779172,
          0.6642430114900699,
          -1.7100618941260197,
          1.3710356599837192,
          -0.056443762863501584,
          0.5244328739288078,
          -0.8346091611063678,
          0.7627207533327834,
          -0.21788968615664905,
          0.14700754890320042,
          -0.3203550056595184,
          -0.3946978777282377,
          -0.013553497813663218,
          -0.0423650501126553,
          0.09021494680295418,
          0.48122779808662086,
          -0.2720501114197448,
          1.0481901174143737,
          -0.43326204148083414,
          -0.008410761045485018,
          1.6050639378576936,
          0.6209311804412476,
          0.8024422085489247,
          -2.4303686569823957,
          0.17420047948429332,
          -0.7546403624035816,
          -0.052599097134652426,
          1.5382556630876445,
          0.010900367546146138,
          1.136542109050237,
          0.6524097208689473,
          0.5755944573966024,
          0.17259906145600304,
          0.660445948619766,
          0.5513997105735273,
          -0.5678814304455502,
          -1.1131705443304531,
          0.3022165759396411,
          -1.6405496375193473,
          -0.12165426378548708,
          -0.7571990341991771,
          -0.7092179189098771,
          0.7397650177748781,
          -0.1674958614989444,
          0.31778446842614627,
          0.7165411505828281,
          0.6096452538190981,
          0.4141757810959919,
          0.5673568857002058,
          0.409600287147815,
          1.0965112790118372,
          -0.3218429733078093,
          0.08289178022456221,
          -0.896926363650595,
          -0.8214990778016057,
          -0.4558526459585339,
          -0.13822145239232103,
          -0.8136246196174451,
          -0.814099802927321,
          1.5439435634563738,
          1.5380763469605425,
          -0.2122169159875117,
          0.27092249338283503,
          0.2932807299185757,
          -1.3402028834087423,
          0.49725576603812005,
          1.6140798500761344,
          -0.2889245170353209,
          0.1467668784379845,
          -0.43939442099105175,
          -0.09183767327930001,
          0.8921524662356053,
          1.6076759509063157,
          0.5662565679950968,
          0.3217363015775206,
          0.10366724243980244,
          -0.47437055201846223,
          2.9070186988530056,
          -0.8253615344745547,
          0.10587858902074421,
          0.8841023435509601,
          -1.3431083170326243,
          1.0194275960268073,
          -0.7441483954556977,
          -1.0650241835730403,
          -0.03033732183020421,
          -0.29701567174358884,
          -0.6656467330510581,
          0.890551171785564,
          -0.6270510544726693,
          0.8390431010604206,
          0.47115994394111615,
          -0.0498361433770494,
          0.5634039763899048,
          -0.636209388259709,
          -1.48724709342868,
          -0.6695976000999219,
          1.207470146515272,
          0.17666345247424878,
          0.5899390417941093,
          0.5143084842140652,
          -0.4170503775419458,
          -0.3170258639824623,
          1.5016233142077424,
          -1.1211263024938083,
          1.3926454105969432,
          -0.2143805972832071,
          1.127178295455395,
          -0.3535709074759905,
          -0.08679839687144023,
          1.3254875978278025,
          0.48804946761904733,
          -1.0447873854755265,
          0.08403368208653522,
          -0.5949270379082353,
          -0.4116095785401556,
          1.077581257447193,
          -1.4580046845821357,
          0.0780883367349913,
          -0.5084143173604802,
          -0.4888194371678719,
          0.05896948041056434,
          -0.6089828887101206,
          -0.013040149179326093,
          0.5014427046602961,
          0.7814878386828048,
          1.3501393854886827,
          -0.267127749267207,
          0.6181503655331525,
          -0.3259774263751168,
          0.6627990882925322,
          -0.5699858528443189,
          -1.7364017909484977,
          0.6225256871473968,
          -2.158143156336918,
          -1.403308815461089,
          -0.9409591365193937,
          0.35429204208646303,
          0.1378682075272939,
          0.3439801252505404,
          0.594380985500653,
          -0.9001527859806683,
          0.3290490109127989,
          -0.27617503289837075,
          0.22231248241487328,
          -0.6196302812851472,
          -0.20955691035105736,
          1.0608934343253065,
          0.2007560621087518,
          -0.09529333804482425,
          1.3020388254645956,
          -1.145322675792862,
          0.1344963114280372,
          0.1249758821247789,
          0.5630749104111732,
          -0.36108737520522577,
          0.40027615185574217,
          0.5157533793225617,
          0.15637930593244545,
          -0.7224731271301945,
          -0.03706180871761528,
          -1.7611728588287838,
          -0.4336943223410752,
          -0.4462835647887784,
          1.424361874040121,
          -0.9319644771876958,
          0.8320418181008651,
          -0.3133309289794022,
          1.0780836207416156,
          0.5330828752755163,
          0.05104393012878303,
          1.635903496241591,
          -0.235058315204186,
          -0.12740626194039117,
          0.5905898630897168,
          0.675389294506878,
          0.5847448689249144,
          0.9601619463885761,
          -1.0042900763026117,
          1.0332833294598247,
          -0.8131168254152641,
          0.8734399067793943,
          0.7104986259632182,
          -0.09957115944301287,
          1.3277354894790458,
          0.16997474208037786,
          -0.25835971354173476,
          -0.3816294410513178,
          -0.4176566758362287,
          0.7984486789235179,
          2.0673689808405755,
          -1.495442785414664,
          0.31553486070548603,
          1.986838167304792,
          -0.6245634300565243,
          0.5771304881237515,
          -1.4189687859679767,
          -0.4644200778331179,
          -0.6905454426943409,
          0.8548246081182622,
          0.17183571008804432,
          1.84742623889582,
          -0.6413084713696762,
          -1.6650973264878939,
          -0.004958790088267778,
          0.06862835861940171,
          -0.7702031353451543,
          1.5436387232709103,
          -1.7393821090431747,
          -0.04641773367159902,
          0.9716050078336403,
          1.0901250944066085,
          0.16335674576269857,
          -0.493912043147528,
          -0.2154442580243819,
          -0.7180260627153768,
          0.928671749394187,
          -0.5151565118320539,
          -0.553978122991568,
          1.1838617189963556,
          -0.9944742787472134,
          -1.3183649708173786,
          -1.6658240639288362,
          0.9602305466126348,
          -0.03709155625475871,
          0.4529857243145465,
          1.7115927295841369,
          -0.8905825068845282,
          0.4149472018210977,
          -0.4302708052988802,
          1.7075748828068626,
          -0.7944017675794589,
          -1.3512348482033774,
          0.11753604493512933,
          0.37147192528430895,
          0.587869255681696,
          0.748060696420325,
          -0.9491635847187976,
          0.25571335777323484,
          -0.16393868476278403,
          -0.451900247614598,
          -1.1585577759496473,
          -0.9468918325595056,
          -0.4133945975693165,
          2.121326953895104,
          -0.915235894759891,
          -2.03993357794802,
          1.7095384777100289,
          0.0052577682994272255,
          -0.023114230366894622,
          -0.5576349412194663,
          0.0026375111884702537,
          -0.18352447204620995,
          -1.339502039438617,
          -0.08473843550792604,
          -0.7240041714173313,
          -0.8576649657356806,
          0.05963651535224111,
          1.2583539487765376,
          1.8494869950111632,
          -0.3666805467375192,
          0.9535895466501725,
          1.420804740681109,
          1.2092076464959842,
          0.7720779286069608,
          -1.369229286543048,
          -0.8082255244238241,
          0.15984975951460323,
          0.8597609632483856,
          0.0720511519694184,
          0.7070665203546374,
          1.580202811782689,
          1.443448802747218,
          -0.3408962210160847,
          -0.8854564358149815,
          -0.25337291349608526,
          0.3066176831487844,
          0.28901846994802416,
          0.8982021626885657,
          -0.14545002016663483,
          -0.4990654078549236,
          -0.8077004517390491,
          -0.6763503935540198,
          0.29030678653577835,
          -1.9009629495809162,
          0.9269878525566422,
          0.6361634516599773,
          -0.6028205552265397,
          1.5322830228636515,
          0.4379234925169088,
          -0.7440113870983855,
          -0.2762710461899352,
          -0.42677620968774715,
          -0.2217470205148948,
          -1.0766931939784452,
          0.6905826215060471,
          -0.8502992509295724,
          0.13642644560294248,
          0.8604428734879827,
          -0.21397256948965537,
          -0.7112255080307888,
          0.29705267808886765,
          0.1850640904882868,
          -0.7812355504955475,
          -0.29151866768867524,
          0.9738840102641162,
          -2.5067974811194267,
          0.9017447090457654,
          1.064149871637261,
          0.15279821667104745,
          0.39162455628507287,
          -1.5624020599437223,
          1.830059757210197,
          0.5816450361477996,
          0.17107680390517624,
          -0.7995044038241421,
          0.02550457310859197,
          -0.5696294515921833,
          -0.8779221029239642,
          -0.3528307438876587,
          0.6213037515752442,
          0.42980976067045035,
          -1.8156491231662453,
          -0.6095632445005775,
          1.0937024619418512,
          -0.03059474406563342,
          0.6650447739979641,
          -0.5632617059690439,
          -1.5605493655004523,
          0.2702970568263284,
          -1.4069440959843351,
          0.7168966683720165,
          -1.3663008916531216,
          1.0074621615101884,
          -0.8365448312691236,
          -0.42381695766077127,
          2.2356617221926736,
          -0.40929943363709675,
          -0.28665398133069464,
          0.7750988837708302,
          0.782421541152851,
          0.8485878437215782,
          -0.2654423616056231,
          0.09928917111133004,
          2.0059588930912198,
          -0.6876136123775747,
          -0.1868026289285809,
          -0.2566920113648264,
          2.4192179860217307,
          -0.1629953970435974,
          -0.04437032267298659,
          -1.0340266466300916,
          0.211383703318395,
          0.857366443988479,
          -0.5097413679579818,
          1.133622481965233,
          -0.8107248399043778,
          0.5156344461434952,
          1.9640204715954723,
          0.4914663810688316,
          -0.09819073819555357,
          1.2192545143277587,
          1.4237487824690758,
          -0.35562906485063106,
          -1.4877285927570851,
          -0.8351106935494662,
          -0.40081873078736824,
          0.33073001188035867,
          -0.9105915385020581,
          -1.0181924062533754,
          0.1597112517457465,
          0.21065284899728898,
          0.09994235479228696,
          0.3201094740737104,
          -0.6353666750396749,
          -1.3319013130554345,
          -0.6540571553060585,
          0.11704836703000793,
          -0.5714973548666713,
          2.3798403667796153,
          -0.4862919819884806,
          1.685911247787664,
          -0.5313399411593347,
          0.7127660465228939,
          0.7026398596357492,
          -0.6826376595619178,
          1.2806482941792725,
          1.7095349508383868,
          0.894452880695789,
          -0.1262935832890982,
          -1.504176909636688,
          -0.9510031494389635,
          -0.6950476056314966,
          -0.7413966363199564,
          0.20122650100922626,
          -0.9137035257740237,
          0.5771040113668388,
          -1.2331892396432884,
          0.17416906535446208,
          0.2781356815241226,
          0.16765144255634057,
          -0.8502681380974733,
          -0.5984098584703634,
          0.8227159336369638,
          -0.9088044327132392,
          0.11050731934800914,
          -1.5349786170209714,
          -0.6769114196846997,
          1.0236438283106017,
          -1.0901436707456027,
          0.6490565537171658,
          0.3845545172757917,
          1.0455645341638065,
          -0.5635806682337253,
          -0.15881545616106812,
          -0.12002448818734374,
          0.356633656133643,
          -0.8794495390110102,
          1.790979886193496,
          -0.42153328354775416
         ],
         "yaxis": "y"
        }
       ],
       "layout": {
        "coloraxis": {
         "colorbar": {
          "title": {
           "text": "hitability"
          }
         },
         "colorscale": [
          [
           0,
           "#0d0887"
          ],
          [
           0.1111111111111111,
           "#46039f"
          ],
          [
           0.2222222222222222,
           "#7201a8"
          ],
          [
           0.3333333333333333,
           "#9c179e"
          ],
          [
           0.4444444444444444,
           "#bd3786"
          ],
          [
           0.5555555555555556,
           "#d8576b"
          ],
          [
           0.6666666666666666,
           "#ed7953"
          ],
          [
           0.7777777777777778,
           "#fb9f3a"
          ],
          [
           0.8888888888888888,
           "#fdca26"
          ],
          [
           1,
           "#f0f921"
          ]
         ]
        },
        "legend": {
         "tracegroupgap": 0
        },
        "template": {
         "data": {
          "bar": [
           {
            "error_x": {
             "color": "#2a3f5f"
            },
            "error_y": {
             "color": "#2a3f5f"
            },
            "marker": {
             "line": {
              "color": "#E5ECF6",
              "width": 0.5
             },
             "pattern": {
              "fillmode": "overlay",
              "size": 10,
              "solidity": 0.2
             }
            },
            "type": "bar"
           }
          ],
          "barpolar": [
           {
            "marker": {
             "line": {
              "color": "#E5ECF6",
              "width": 0.5
             },
             "pattern": {
              "fillmode": "overlay",
              "size": 10,
              "solidity": 0.2
             }
            },
            "type": "barpolar"
           }
          ],
          "carpet": [
           {
            "aaxis": {
             "endlinecolor": "#2a3f5f",
             "gridcolor": "white",
             "linecolor": "white",
             "minorgridcolor": "white",
             "startlinecolor": "#2a3f5f"
            },
            "baxis": {
             "endlinecolor": "#2a3f5f",
             "gridcolor": "white",
             "linecolor": "white",
             "minorgridcolor": "white",
             "startlinecolor": "#2a3f5f"
            },
            "type": "carpet"
           }
          ],
          "choropleth": [
           {
            "colorbar": {
             "outlinewidth": 0,
             "ticks": ""
            },
            "type": "choropleth"
           }
          ],
          "contour": [
           {
            "colorbar": {
             "outlinewidth": 0,
             "ticks": ""
            },
            "colorscale": [
             [
              0,
              "#0d0887"
             ],
             [
              0.1111111111111111,
              "#46039f"
             ],
             [
              0.2222222222222222,
              "#7201a8"
             ],
             [
              0.3333333333333333,
              "#9c179e"
             ],
             [
              0.4444444444444444,
              "#bd3786"
             ],
             [
              0.5555555555555556,
              "#d8576b"
             ],
             [
              0.6666666666666666,
              "#ed7953"
             ],
             [
              0.7777777777777778,
              "#fb9f3a"
             ],
             [
              0.8888888888888888,
              "#fdca26"
             ],
             [
              1,
              "#f0f921"
             ]
            ],
            "type": "contour"
           }
          ],
          "contourcarpet": [
           {
            "colorbar": {
             "outlinewidth": 0,
             "ticks": ""
            },
            "type": "contourcarpet"
           }
          ],
          "heatmap": [
           {
            "colorbar": {
             "outlinewidth": 0,
             "ticks": ""
            },
            "colorscale": [
             [
              0,
              "#0d0887"
             ],
             [
              0.1111111111111111,
              "#46039f"
             ],
             [
              0.2222222222222222,
              "#7201a8"
             ],
             [
              0.3333333333333333,
              "#9c179e"
             ],
             [
              0.4444444444444444,
              "#bd3786"
             ],
             [
              0.5555555555555556,
              "#d8576b"
             ],
             [
              0.6666666666666666,
              "#ed7953"
             ],
             [
              0.7777777777777778,
              "#fb9f3a"
             ],
             [
              0.8888888888888888,
              "#fdca26"
             ],
             [
              1,
              "#f0f921"
             ]
            ],
            "type": "heatmap"
           }
          ],
          "heatmapgl": [
           {
            "colorbar": {
             "outlinewidth": 0,
             "ticks": ""
            },
            "colorscale": [
             [
              0,
              "#0d0887"
             ],
             [
              0.1111111111111111,
              "#46039f"
             ],
             [
              0.2222222222222222,
              "#7201a8"
             ],
             [
              0.3333333333333333,
              "#9c179e"
             ],
             [
              0.4444444444444444,
              "#bd3786"
             ],
             [
              0.5555555555555556,
              "#d8576b"
             ],
             [
              0.6666666666666666,
              "#ed7953"
             ],
             [
              0.7777777777777778,
              "#fb9f3a"
             ],
             [
              0.8888888888888888,
              "#fdca26"
             ],
             [
              1,
              "#f0f921"
             ]
            ],
            "type": "heatmapgl"
           }
          ],
          "histogram": [
           {
            "marker": {
             "pattern": {
              "fillmode": "overlay",
              "size": 10,
              "solidity": 0.2
             }
            },
            "type": "histogram"
           }
          ],
          "histogram2d": [
           {
            "colorbar": {
             "outlinewidth": 0,
             "ticks": ""
            },
            "colorscale": [
             [
              0,
              "#0d0887"
             ],
             [
              0.1111111111111111,
              "#46039f"
             ],
             [
              0.2222222222222222,
              "#7201a8"
             ],
             [
              0.3333333333333333,
              "#9c179e"
             ],
             [
              0.4444444444444444,
              "#bd3786"
             ],
             [
              0.5555555555555556,
              "#d8576b"
             ],
             [
              0.6666666666666666,
              "#ed7953"
             ],
             [
              0.7777777777777778,
              "#fb9f3a"
             ],
             [
              0.8888888888888888,
              "#fdca26"
             ],
             [
              1,
              "#f0f921"
             ]
            ],
            "type": "histogram2d"
           }
          ],
          "histogram2dcontour": [
           {
            "colorbar": {
             "outlinewidth": 0,
             "ticks": ""
            },
            "colorscale": [
             [
              0,
              "#0d0887"
             ],
             [
              0.1111111111111111,
              "#46039f"
             ],
             [
              0.2222222222222222,
              "#7201a8"
             ],
             [
              0.3333333333333333,
              "#9c179e"
             ],
             [
              0.4444444444444444,
              "#bd3786"
             ],
             [
              0.5555555555555556,
              "#d8576b"
             ],
             [
              0.6666666666666666,
              "#ed7953"
             ],
             [
              0.7777777777777778,
              "#fb9f3a"
             ],
             [
              0.8888888888888888,
              "#fdca26"
             ],
             [
              1,
              "#f0f921"
             ]
            ],
            "type": "histogram2dcontour"
           }
          ],
          "mesh3d": [
           {
            "colorbar": {
             "outlinewidth": 0,
             "ticks": ""
            },
            "type": "mesh3d"
           }
          ],
          "parcoords": [
           {
            "line": {
             "colorbar": {
              "outlinewidth": 0,
              "ticks": ""
             }
            },
            "type": "parcoords"
           }
          ],
          "pie": [
           {
            "automargin": true,
            "type": "pie"
           }
          ],
          "scatter": [
           {
            "fillpattern": {
             "fillmode": "overlay",
             "size": 10,
             "solidity": 0.2
            },
            "type": "scatter"
           }
          ],
          "scatter3d": [
           {
            "line": {
             "colorbar": {
              "outlinewidth": 0,
              "ticks": ""
             }
            },
            "marker": {
             "colorbar": {
              "outlinewidth": 0,
              "ticks": ""
             }
            },
            "type": "scatter3d"
           }
          ],
          "scattercarpet": [
           {
            "marker": {
             "colorbar": {
              "outlinewidth": 0,
              "ticks": ""
             }
            },
            "type": "scattercarpet"
           }
          ],
          "scattergeo": [
           {
            "marker": {
             "colorbar": {
              "outlinewidth": 0,
              "ticks": ""
             }
            },
            "type": "scattergeo"
           }
          ],
          "scattergl": [
           {
            "marker": {
             "colorbar": {
              "outlinewidth": 0,
              "ticks": ""
             }
            },
            "type": "scattergl"
           }
          ],
          "scattermapbox": [
           {
            "marker": {
             "colorbar": {
              "outlinewidth": 0,
              "ticks": ""
             }
            },
            "type": "scattermapbox"
           }
          ],
          "scatterpolar": [
           {
            "marker": {
             "colorbar": {
              "outlinewidth": 0,
              "ticks": ""
             }
            },
            "type": "scatterpolar"
           }
          ],
          "scatterpolargl": [
           {
            "marker": {
             "colorbar": {
              "outlinewidth": 0,
              "ticks": ""
             }
            },
            "type": "scatterpolargl"
           }
          ],
          "scatterternary": [
           {
            "marker": {
             "colorbar": {
              "outlinewidth": 0,
              "ticks": ""
             }
            },
            "type": "scatterternary"
           }
          ],
          "surface": [
           {
            "colorbar": {
             "outlinewidth": 0,
             "ticks": ""
            },
            "colorscale": [
             [
              0,
              "#0d0887"
             ],
             [
              0.1111111111111111,
              "#46039f"
             ],
             [
              0.2222222222222222,
              "#7201a8"
             ],
             [
              0.3333333333333333,
              "#9c179e"
             ],
             [
              0.4444444444444444,
              "#bd3786"
             ],
             [
              0.5555555555555556,
              "#d8576b"
             ],
             [
              0.6666666666666666,
              "#ed7953"
             ],
             [
              0.7777777777777778,
              "#fb9f3a"
             ],
             [
              0.8888888888888888,
              "#fdca26"
             ],
             [
              1,
              "#f0f921"
             ]
            ],
            "type": "surface"
           }
          ],
          "table": [
           {
            "cells": {
             "fill": {
              "color": "#EBF0F8"
             },
             "line": {
              "color": "white"
             }
            },
            "header": {
             "fill": {
              "color": "#C8D4E3"
             },
             "line": {
              "color": "white"
             }
            },
            "type": "table"
           }
          ]
         },
         "layout": {
          "annotationdefaults": {
           "arrowcolor": "#2a3f5f",
           "arrowhead": 0,
           "arrowwidth": 1
          },
          "autotypenumbers": "strict",
          "coloraxis": {
           "colorbar": {
            "outlinewidth": 0,
            "ticks": ""
           }
          },
          "colorscale": {
           "diverging": [
            [
             0,
             "#8e0152"
            ],
            [
             0.1,
             "#c51b7d"
            ],
            [
             0.2,
             "#de77ae"
            ],
            [
             0.3,
             "#f1b6da"
            ],
            [
             0.4,
             "#fde0ef"
            ],
            [
             0.5,
             "#f7f7f7"
            ],
            [
             0.6,
             "#e6f5d0"
            ],
            [
             0.7,
             "#b8e186"
            ],
            [
             0.8,
             "#7fbc41"
            ],
            [
             0.9,
             "#4d9221"
            ],
            [
             1,
             "#276419"
            ]
           ],
           "sequential": [
            [
             0,
             "#0d0887"
            ],
            [
             0.1111111111111111,
             "#46039f"
            ],
            [
             0.2222222222222222,
             "#7201a8"
            ],
            [
             0.3333333333333333,
             "#9c179e"
            ],
            [
             0.4444444444444444,
             "#bd3786"
            ],
            [
             0.5555555555555556,
             "#d8576b"
            ],
            [
             0.6666666666666666,
             "#ed7953"
            ],
            [
             0.7777777777777778,
             "#fb9f3a"
            ],
            [
             0.8888888888888888,
             "#fdca26"
            ],
            [
             1,
             "#f0f921"
            ]
           ],
           "sequentialminus": [
            [
             0,
             "#0d0887"
            ],
            [
             0.1111111111111111,
             "#46039f"
            ],
            [
             0.2222222222222222,
             "#7201a8"
            ],
            [
             0.3333333333333333,
             "#9c179e"
            ],
            [
             0.4444444444444444,
             "#bd3786"
            ],
            [
             0.5555555555555556,
             "#d8576b"
            ],
            [
             0.6666666666666666,
             "#ed7953"
            ],
            [
             0.7777777777777778,
             "#fb9f3a"
            ],
            [
             0.8888888888888888,
             "#fdca26"
            ],
            [
             1,
             "#f0f921"
            ]
           ]
          },
          "colorway": [
           "#636efa",
           "#EF553B",
           "#00cc96",
           "#ab63fa",
           "#FFA15A",
           "#19d3f3",
           "#FF6692",
           "#B6E880",
           "#FF97FF",
           "#FECB52"
          ],
          "font": {
           "color": "#2a3f5f"
          },
          "geo": {
           "bgcolor": "white",
           "lakecolor": "white",
           "landcolor": "#E5ECF6",
           "showlakes": true,
           "showland": true,
           "subunitcolor": "white"
          },
          "hoverlabel": {
           "align": "left"
          },
          "hovermode": "closest",
          "mapbox": {
           "style": "light"
          },
          "paper_bgcolor": "white",
          "plot_bgcolor": "#E5ECF6",
          "polar": {
           "angularaxis": {
            "gridcolor": "white",
            "linecolor": "white",
            "ticks": ""
           },
           "bgcolor": "#E5ECF6",
           "radialaxis": {
            "gridcolor": "white",
            "linecolor": "white",
            "ticks": ""
           }
          },
          "scene": {
           "xaxis": {
            "backgroundcolor": "#E5ECF6",
            "gridcolor": "white",
            "gridwidth": 2,
            "linecolor": "white",
            "showbackground": true,
            "ticks": "",
            "zerolinecolor": "white"
           },
           "yaxis": {
            "backgroundcolor": "#E5ECF6",
            "gridcolor": "white",
            "gridwidth": 2,
            "linecolor": "white",
            "showbackground": true,
            "ticks": "",
            "zerolinecolor": "white"
           },
           "zaxis": {
            "backgroundcolor": "#E5ECF6",
            "gridcolor": "white",
            "gridwidth": 2,
            "linecolor": "white",
            "showbackground": true,
            "ticks": "",
            "zerolinecolor": "white"
           }
          },
          "shapedefaults": {
           "line": {
            "color": "#2a3f5f"
           }
          },
          "ternary": {
           "aaxis": {
            "gridcolor": "white",
            "linecolor": "white",
            "ticks": ""
           },
           "baxis": {
            "gridcolor": "white",
            "linecolor": "white",
            "ticks": ""
           },
           "bgcolor": "#E5ECF6",
           "caxis": {
            "gridcolor": "white",
            "linecolor": "white",
            "ticks": ""
           }
          },
          "title": {
           "x": 0.05
          },
          "xaxis": {
           "automargin": true,
           "gridcolor": "white",
           "linecolor": "white",
           "ticks": "",
           "title": {
            "standoff": 15
           },
           "zerolinecolor": "white",
           "zerolinewidth": 2
          },
          "yaxis": {
           "automargin": true,
           "gridcolor": "white",
           "linecolor": "white",
           "ticks": "",
           "title": {
            "standoff": 15
           },
           "zerolinecolor": "white",
           "zerolinewidth": 2
          }
         }
        },
        "title": {
         "text": "Location"
        },
        "xaxis": {
         "anchor": "y",
         "domain": [
          0,
          1
         ],
         "title": {
          "text": "pitch_x"
         }
        },
        "yaxis": {
         "anchor": "x",
         "domain": [
          0,
          1
         ],
         "title": {
          "text": "pitch_y"
         }
        }
       }
      }
     },
     "metadata": {},
     "output_type": "display_data"
    }
   ],
   "source": [
    "\n",
    "pitch_data.show_scatter(\"pitch_x\", \"pitch_y\", \"Location\", color='hitability')"
   ]
  },
  {
   "cell_type": "code",
   "execution_count": 16,
   "metadata": {},
   "outputs": [
    {
     "data": {
      "application/vnd.plotly.v1+json": {
       "config": {
        "plotlyServerURL": "https://plot.ly"
       },
       "data": [
        {
         "alignmentgroup": "True",
         "bingroup": "x",
         "hovertemplate": "variable=pitch_x<br>value=%{x}<br>count=%{y}<extra></extra>",
         "legendgroup": "pitch_x",
         "marker": {
          "color": "#636efa",
          "pattern": {
           "shape": ""
          }
         },
         "name": "pitch_x",
         "offsetgroup": "pitch_x",
         "orientation": "v",
         "showlegend": true,
         "type": "histogram",
         "x": [
          -1.2789807512293463,
          1.7361967374055753,
          -0.11051309566337664,
          1.8069808894682104,
          0.37286681314558884,
          -0.6753844143192194,
          0.7870849487065771,
          0.9272858324981145,
          0.7066517293107165,
          0.5870676004716153,
          0.6701299254466245,
          -1.332496131799647,
          0.11099680322842598,
          0.23478002816392696,
          -1.2650233542347642,
          -0.2741299305064559,
          -0.28773501103919635,
          0.8722947056330554,
          -0.30496631425473775,
          1.3734498945339773,
          0.8439341069845011,
          0.2939956051811673,
          0.14289265616706726,
          0.6329502096013866,
          -0.20402687478452192,
          1.4948570430185295,
          -0.4217543114291665,
          0.8554806569179692,
          -0.23515585854558219,
          -0.2979630727272288,
          0.10019701675140319,
          1.0126932698777982,
          -0.45664889878306375,
          -0.16705185640714942,
          -0.764125426800213,
          -0.6227266375863034,
          -0.9718085520469303,
          -0.07455041533724927,
          0.2730498938078846,
          0.2582478733708692,
          -0.06944849608335285,
          0.2220852503640012,
          0.09470023189389598,
          0.10395573307561334,
          1.2092555191069967,
          0.6910775589749266,
          0.4317893847683103,
          -0.61117330352847,
          0.14987976826662255,
          -0.0370280461809685,
          -1.4134069228836879,
          1.2810834342316928,
          -0.2254064893258169,
          -0.1518768684892409,
          0.1951217093619707,
          0.41219484017512675,
          1.1876570883804114,
          -0.03732163281288135,
          -0.21894358713186285,
          0.3232001148740761,
          1.9874422214480327,
          -1.3794046288325836,
          0.04312310380766895,
          -0.07838258835796871,
          0.144522951817716,
          -0.40752488108613155,
          -1.1978326655403189,
          0.4253674272167981,
          2.5716462315766573,
          -1.0788569237403138,
          -1.4339649360607882,
          -0.09947691333907209,
          0.5351018479558042,
          0.8823954951352465,
          1.6625366212293997,
          0.05505217480223933,
          0.5849599981792162,
          0.4201923635491847,
          0.08846559993604325,
          -0.35414662540812925,
          0.2942208769730311,
          -0.0958295931641791,
          0.09653271086202832,
          1.0797566055685728,
          1.3360465654498168,
          0.02947275242658878,
          0.2562778643075526,
          0.025999731273627504,
          1.0192396531734946,
          -0.09798888864263916,
          0.6656254979444699,
          0.2435029218220202,
          -0.17085943945872323,
          -0.8879733317502886,
          0.5739482847003006,
          -0.17826377848330374,
          -0.4142099742394262,
          0.344997406905831,
          0.4458878523930912,
          -0.8304328550289074,
          -0.8254792137126418,
          -0.74515843068001,
          0.23579990063574513,
          -0.7367925889351903,
          -0.5087962513223874,
          -0.013401065361917807,
          0.10099724717212508,
          -0.40082155759066873,
          0.6368660861038032,
          -1.0568473752108944,
          1.190263189512462,
          -0.6905071614435433,
          -0.48229532218104954,
          -1.292981762207023,
          -0.796021239046306,
          -0.9595234688927246,
          -0.23152653876878324,
          0.6440488870490859,
          0.2730593098372995,
          -0.9433415832380415,
          -0.43686376353627077,
          0.5252128041339683,
          -0.020820941678289896,
          0.22167757081460948,
          -1.2857084170016728,
          -2.099321149161111,
          0.47378012163476013,
          -1.9211357429446865,
          0.9305438699379509,
          -2.7998054494831544,
          0.41574978638778265,
          -0.048155710031335175,
          -1.7155550820568557,
          0.35293995271799056,
          1.7501855484844104,
          -0.4984264188730389,
          -2.0848861312976137,
          1.1251984666886807,
          0.1989564757836512,
          -0.8045817726689315,
          -0.9678144072210405,
          -0.9238993834846718,
          -0.34441403668764387,
          0.11882085303585962,
          0.9866632285929411,
          -1.135057133034252,
          0.6021704083520097,
          0.7116395102387743,
          0.47245523063603745,
          0.9364672016752207,
          -0.13319551687212478,
          0.45745943809605133,
          -0.1613291293797246,
          -0.710358651719629,
          -0.5351014433658211,
          0.8441420495485036,
          -0.8267654919841373,
          0.796660857142781,
          -0.12221349447757467,
          0.4322921265896028,
          0.49990259967134526,
          -0.12571390297477342,
          -0.6821186803011431,
          -0.14128302750871724,
          0.318675136666762,
          0.8386130536596779,
          0.4241518540604207,
          -0.39060319117207937,
          0.6040669274866887,
          3.303367494451122,
          -0.09845066613638932,
          -0.6206360651914302,
          -0.6662801886319188,
          0.8659405145668513,
          -0.9411567159961881,
          0.6609721561021005,
          -0.6580117390517995,
          1.9259177018051343,
          -1.3283453862145533,
          0.4643535465428754,
          -0.8725387518587976,
          -0.6118940741403424,
          2.0160468807692355,
          -0.9858180721156122,
          0.40007847605032276,
          -0.24910214156273275,
          -0.01547439146619132,
          -0.682909886397479,
          0.32316871589895413,
          1.4161802536901436,
          1.2323074555665905,
          0.9069021266513871,
          0.820539390801031,
          -0.46255626294239205,
          0.05005302306564125,
          -0.005331235628088866,
          0.4465647445056686,
          -0.11629824299858368,
          1.1199641494529602,
          -0.050292658270261845,
          -0.577310822196247,
          -0.7427181380406448,
          -0.2589162716253075,
          -1.5991671735033752,
          -2.203939938136715,
          -1.0859210933478511,
          -0.07651484945819832,
          0.8969899567856434,
          -0.7717849247227079,
          -1.01503042761424,
          -0.6348659628520067,
          0.6222934730602105,
          0.6706790287998424,
          -1.1694834090446078,
          -0.4390011999073628,
          0.4616851251290086,
          0.45650878999149347,
          1.709090197985375,
          -0.9248636000020892,
          0.24234552273057555,
          1.200591364997023,
          -0.19675696835069897,
          -0.7173644185779977,
          1.2962387067013375,
          -0.38774739206266523,
          -0.014926456478831349,
          -0.11330395843476648,
          0.7756824196276809,
          0.8700058096368978,
          1.0110873930080242,
          -1.0906998123676699,
          -1.8755230728236034,
          -0.22454488560164643,
          0.1060256855262373,
          -0.9245534249490038,
          0.47928062144668593,
          0.94412097003445,
          -0.07108733016687223,
          -0.5108795851157547,
          -0.33867334482709566,
          -0.6593478242050981,
          0.48222929247685026,
          0.8972343847480481,
          -1.1070512092903557,
          0.8995883577767289,
          -0.8665341431208945,
          1.2995187448904344,
          0.2049108039779639,
          -1.9601372345203414,
          -0.6998275520197235,
          0.12393177342191193,
          0.9976754761035502,
          -0.10032008792164843,
          0.15422286771757523,
          0.13845977137051488,
          0.6919594811521615,
          0.7819893694608782,
          -0.8319580792817154,
          -0.4047862998883889,
          0.2079367710868611,
          -0.8190573224740848,
          -0.7825122781195367,
          -1.7066132821746367,
          0.48249965951731777,
          0.35306101611803736,
          0.8388039672777046,
          0.13553979664028673,
          0.18023433727051513,
          -0.7798152072726179,
          0.021019384826107806,
          1.1374646516228704,
          0.5911387269967213,
          -0.3410372874244235,
          0.35476742571327985,
          0.1075680303783679,
          -0.6404449237890683,
          1.0340432624817915,
          -0.007495058915120717,
          2.431312082741131,
          -0.2575910619753052,
          1.3515292069121705,
          -0.3559630129311595,
          -1.8764293762222715,
          -1.2957558631871253,
          -1.109417415428132,
          -1.031716381269898,
          -0.25494930071075744,
          -0.6685317243628569,
          1.3519366495925296,
          1.3324267161886054,
          0.4096736303016546,
          0.3757622515849827,
          -0.5431390849905398,
          -0.4746931590583144,
          -0.6495238695134895,
          0.5818964716615619,
          0.37473366190273305,
          -0.7774387152300288,
          1.457905952714723,
          -0.35717377218233554,
          -0.3966446737967032,
          0.44419121638247994,
          -0.21865455235726028,
          1.8778067146377513,
          -0.4583232102958017,
          -0.5759884515811775,
          1.312388524830812,
          0.7711033195977745,
          0.8895274640303644,
          -0.7557423056479234,
          -0.0006579731575755707,
          1.2279958289685327,
          0.9935111963471797,
          0.28943660583606573,
          -1.286666863592573,
          -0.9162831143487702,
          0.325693804667896,
          0.2994451373101293,
          -0.3270557586178824,
          -0.5789069389325683,
          0.3573221865270936,
          0.2406280533474445,
          0.20873352635593156,
          0.22540105780563685,
          -2.5415063006289604,
          -1.2584344154879628,
          0.4393444816255362,
          1.220175830058574,
          0.6484875702572526,
          0.5148731562226248,
          1.3433258067615892,
          0.07621815487413845,
          -0.7401043002809624,
          -0.2659926074221807,
          -0.07983532202961136,
          0.4857028501895418,
          0.4620189638730516,
          -0.1259367411735758,
          -0.2884723439005721,
          -0.08728181623725075,
          -0.8504575545937132,
          -0.2678620348793831,
          -0.7320320666737259,
          -0.615384180802114,
          0.9676495022330734,
          0.5985351785623938,
          1.9893990012800362,
          1.1186074827689227,
          -0.1139000316596568,
          -0.7874979473787271,
          0.6496747101966451,
          0.41739844101970286,
          0.3774682942218778,
          -1.3401447223043061,
          -0.35034663591552495,
          0.4645983296217004,
          0.05114058374313392,
          0.2443930327558801,
          0.19791882532714525,
          0.7552609822880006,
          -0.13809430359839323,
          0.955638607195501,
          0.14371053647827584,
          -0.67411505993715,
          -0.637862072499181,
          -0.08975855320110536,
          0.870252645886783,
          0.4081131877481212,
          -0.25093743660032797,
          0.9479440445300824,
          -0.9451530761377613,
          1.7014487980912192,
          0.046022666015771374,
          0.24832161597740002,
          1.2456993843703368,
          -0.8094753360508855,
          -0.3023821791700719,
          1.2741812696044126,
          0.037444377264564954,
          0.7213839511932155,
          -0.8085371759546511,
          -0.25829971422295095,
          0.868793986749616,
          -0.5967972376739763,
          1.0841412825495642,
          -0.07974851355117836,
          -0.0021449356540953453,
          -0.7109953738848744,
          -0.821094055769224,
          0.6757970972483693,
          -0.8178139298729484,
          -0.2302152764964773,
          -0.23307784014892707,
          -0.2133163845747941,
          -2.687522982303862,
          -0.1736625002900736,
          -0.035408885275587505,
          -0.6542124758401455,
          -0.19393824751635724,
          -0.819342707712849,
          1.1417931581708503,
          0.13552380812076237,
          1.0767764157147013,
          0.9288028647336857,
          -1.1093235706070474,
          0.33862812898450617,
          0.9136205896756999,
          0.317531598697071,
          -0.496870110970157,
          -0.9697185758937356,
          0.020750162120069145,
          1.2695313086058404,
          1.3911498470774535,
          1.2323062575952566,
          3.128643238066715,
          1.5941261176463135,
          -0.9835275907449138,
          -0.7073052819065679,
          -1.6020437843267161,
          0.8598272298480963,
          0.25403781976836387,
          0.8301462594655206,
          -2.0119015869918857,
          -0.9018156496157097,
          1.2030380623394523,
          -1.8626861344058032,
          -0.253459611788018,
          0.776073500601958,
          1.3434772498108138,
          1.3481746614174215,
          0.08993218476336715,
          -0.4426737816571337,
          0.6346797864626083,
          -0.08754751235153704,
          -1.0846283469102165,
          0.04582437453465937,
          1.6821225617007898,
          -0.8017301243334898,
          1.3973523219468085,
          -0.15574158362734677,
          0.7520730276181499,
          0.8836426290373032,
          1.2892874201576874,
          0.20892132184405054,
          0.19763524841229863,
          -0.2368935067368787,
          0.38665315558155466,
          0.04593740615850563,
          -1.6333331836816491,
          0.83124246763508,
          0.419766214684028,
          0.17771578224758441,
          1.487589636054903,
          0.38971156950906877,
          0.5556820413296444,
          -2.141986616783258,
          0.055599412334504036,
          1.1009585887532918,
          -0.018805865034690752,
          -1.1827532945059867,
          -0.8305996715608509,
          -0.17352832519417447,
          2.2133714046609914,
          -0.7641596064864282,
          0.2447489445983202,
          0.08176955794192466,
          0.9020367794656271,
          -0.3667950684153137,
          -1.0263761615305351,
          0.6722518266376103,
          1.7222637181500937,
          -0.732090409532987,
          -2.3363891280317475,
          -0.4042963474227496,
          0.8451152049252438,
          2.1517774931211298,
          0.24684009386644706,
          0.2780122205196332,
          -1.0639533854876075,
          1.1692681172007382,
          2.411273129255829,
          -1.212221682942273,
          -0.050784570487730864,
          0.36544433805801196,
          -0.5885619642069805,
          0.7666656942036236,
          -0.5594044708386874,
          -0.02623476077041917,
          0.36615141279462154,
          -0.023192004251376283,
          1.2873089822061912,
          0.17851491457368235,
          -0.15514195033139958,
          1.102607560004193,
          0.6141275662757003,
          0.6402969316395943,
          -0.36845095274238543,
          0.5175011521419061,
          0.6713423992648297,
          -0.3861703837121351,
          0.5106404226617931,
          1.6227837371817906,
          -0.8110198178239438,
          0.1322904243962859,
          -1.2874918414361756,
          -1.3155575520855964,
          -0.9851786483588779,
          1.4980490169412926,
          0.6057337429046046,
          -0.7936256121449276,
          0.5256770638744566,
          0.4175870993193855,
          1.276232597385252,
          0.01790223712389392,
          0.43925490714118115,
          -0.7098681545555294,
          1.563367168177966,
          -0.6090086113869032,
          -1.0477048627063572,
          0.6711374969304609,
          -0.25864967846022696,
          0.39897414581331203,
          1.2040166644578056,
          -0.8965668486283113,
          -0.4106224258168291,
          0.665188981972332,
          -0.7656913313057984,
          0.5902736724697304,
          -0.32375183946240704,
          -1.791500550153348,
          0.6709623061796458,
          -0.3082191448549374,
          0.3366792504451775,
          -0.2370725602729613,
          -0.47900109924833106,
          0.8870581314585331,
          -0.169592777569134,
          0.4936358555234033,
          -2.3195043705872256,
          -0.39146804113612976,
          -0.4782710307621768,
          -0.6436475115140051,
          -0.9045501655856883,
          -0.4762520255974443,
          -0.05841055642576676,
          -0.20847792261170145,
          -0.49741617306484825,
          -0.105990907500548,
          -1.128718132988246,
          0.31445663020411474,
          -1.3601560774766603,
          0.6406455949179982,
          1.1395563246291747,
          -0.692061914340717,
          0.6316233056044619,
          1.5392510312322207,
          -0.367349238105609,
          -0.7991540437535175,
          0.7148439547069031,
          2.449361334861028,
          0.05987604191420997,
          0.20770209367537032,
          -2.5635367845814248,
          0.24107313874021968,
          -0.17552052753185082,
          1.5267323459099387,
          -0.16034600429689394,
          0.35667278978560596,
          1.252164157401114,
          0.005567626087514158,
          -0.8355194744600034,
          -1.6829763247746297,
          -0.12465944746363071,
          0.5043251948198961,
          0.053939145655181375,
          0.2863306586764366,
          0.4633055054652083,
          -1.0573763106998522,
          0.9120070666995755,
          -0.7912178684309374,
          -0.7713165266042097,
          1.1233889023163515,
          1.467135286474647,
          -1.5883897425095121,
          1.8350788894557355,
          -0.0509230401599401,
          -0.6056177893901192,
          -0.17147415811971514,
          -1.0889895592577632,
          -0.11513551155453251,
          -0.40914072267189017,
          0.4036322590702728,
          0.5247544745877926,
          1.8875051508982228,
          0.7861089562286283,
          0.022398805346436016,
          0.6419761544956986,
          -0.20954758143052374,
          -1.3713601431032991,
          0.39227332994755615,
          -0.9866153699700242,
          -1.0378981516194739,
          0.4741685987369631,
          -0.8807093488053042,
          -0.022625396955336413,
          0.3940261447720775,
          0.18244528241158361,
          0.6425497842438113,
          0.44607476572076354,
          -0.054524510260505366,
          -0.2253595898218316,
          1.2304072211879329,
          -0.865164968525319,
          0.4793957777071464,
          -0.19646442018196664,
          -0.38091687318485856,
          0.7348882176496644,
          -0.3364906872090327,
          -0.20524464030371078,
          0.036562511810222575,
          -0.3523400813043103,
          -0.8597770481414719,
          -0.3119868478970179,
          -2.076767001116293,
          -0.8931168577637744,
          -2.028210923317638,
          0.27538918176701477,
          0.13907443928358335,
          1.4842802929967154,
          1.0751991867469908,
          -1.9244995512521437,
          -0.5843807714821332,
          0.37995433722927885,
          0.6203275778024828,
          0.9550186279020306,
          -1.3619201614194998,
          -0.5011507230752807,
          -0.8372480752971027,
          -0.26748931288559874,
          0.07687193144975779,
          0.523773346327765,
          0.3579662647776383,
          -0.0709262655373559,
          -0.5826588231479674,
          -0.30882907617552324,
          0.2121675637037768,
          -0.5555999768603533,
          -0.609910738453988,
          0.7499033780941949,
          -0.2243517943392383,
          0.8667042277728984,
          -0.8072974217500254,
          -0.04877770092820249,
          0.25704398710489373,
          0.9336611734278342,
          0.6888860360568555,
          -0.2108437251431367,
          -0.06992161421299785,
          0.8485609034540218,
          -0.8122727824096335,
          -0.2023254910501712,
          0.1635532080104141,
          0.7388491782284753,
          0.6631943712299234,
          0.9879093977500147,
          -0.13235648059095664,
          -0.14593627094097716,
          -0.1497801714935602,
          -1.4158796631278328,
          -0.9577033430589523,
          0.12757188408558168,
          -0.32517737396518964,
          -1.0105072576848266,
          0.6464903191722218,
          0.5366186093825945,
          0.28091446423834615,
          0.33939288086945013,
          0.09650910191076996,
          0.6274123231484267,
          0.2907244192009012,
          0.17922778387608812,
          0.7540773730482986,
          -0.6897423396692457,
          -1.226426610975251,
          -0.8164059908047778,
          -1.391352097777029,
          -0.13107276606150497,
          -0.5934840151787177,
          0.19982510934858047,
          2.4731526552906065,
          -0.04311726681614992,
          0.7355061117996692,
          0.3976422082977998,
          1.4505946104735359,
          -1.0717452856401528,
          -0.49938160875603305,
          -0.5316336389523586,
          1.6780734447721035,
          0.8324959979150092,
          1.2743742458245932,
          -0.549027725998868,
          0.0884796187454592,
          -0.6648887381606224,
          -0.24248450970320615,
          0.507016921514302,
          0.20392609075460408,
          1.117384954322821,
          0.9830334787452337,
          -1.8917324879816202,
          -1.283618277267178,
          0.06818052682795289,
          0.3195186051662751,
          1.500583971698569,
          -0.3248059607987212,
          1.16881003864309,
          1.2248484016133754,
          -1.0757462550642864,
          1.930190260748275,
          0.5407666490070332,
          -0.6783298331727983,
          0.39947580474617495,
          0.8212352959100266,
          1.5090166560139493,
          -2.6299141433178437,
          0.24833861966387477,
          -0.28674035444860513,
          1.732151606597495,
          0.4107653828119768,
          0.2540874116718358,
          -1.3361249458035604,
          -1.1226249838696554,
          -1.633252748154161,
          0.03741628632191946,
          0.3102600335070781,
          0.9844592281743623,
          -0.21117574652064258,
          0.994345320284939,
          0.7856893942780871,
          -0.47036243165505065,
          0.13901382387515923,
          -0.6004310648078632,
          0.5303545151316036,
          -0.21720418892128343,
          0.33173256857141303,
          -0.7333043389568508,
          -0.5269933693352719,
          0.9509910910700328,
          -0.8106568308973168,
          0.334624732046157,
          -0.6270183256933685,
          -1.5248161386562682,
          0.38568270850807596,
          -1.004740064335483,
          0.6789205164758099,
          -0.31841979631645223,
          1.1060822149502207,
          -0.6956523423020728,
          0.1322233436365961,
          0.8193245998178216,
          0.9769303199185106,
          0.0756009783512861,
          -1.5655836383848212,
          0.251245275243499,
          0.8653545138180914,
          0.5512205983192076,
          0.47921696642635275,
          0.6971233338314089,
          0.20837949431163458,
          0.14366074675270774,
          -0.9057006895122285,
          -1.3356049600291995,
          1.930086660558264,
          0.7779924436584753,
          -0.16060498301736514,
          0.4021164598110018,
          -0.8801228258363715,
          -0.9322034061758937,
          -0.8908893555727762,
          0.7768216340770253,
          0.7615510686469529,
          -0.19997608614064183,
          0.5594304479823461,
          -0.4146787242572505,
          0.5197331359466638,
          -0.6873107181283743,
          -0.512593218528308,
          -0.8574337345353041,
          -0.7573203273966442,
          -0.6737610152106315,
          -1.7976008321374857,
          -0.41270899048456333,
          -0.5891631582914147,
          0.5667397612324329,
          0.08570758538836552,
          -0.5810078803008257,
          -1.3616412920294156,
          1.0050158078418112,
          -1.2062804621457466,
          -0.5280705880316511,
          0.4295129213698193,
          -0.40281337546972895,
          0.2816577641832872,
          -0.17973289882630164,
          0.08433539163882188,
          -0.8438931934718027,
          1.8226131640199987,
          1.578015743318079,
          -0.10278799368785986,
          -1.6568985925676836,
          1.0730812327254706,
          -0.09468210728592383,
          0.9849716654444882,
          0.6205642407214358,
          -0.12235690324846299,
          -0.4622198400794093,
          0.7949476700929378,
          1.8383455892136038,
          0.24871351264791977,
          -2.068889318170268,
          -0.3884494040092552,
          0.4814105881152861,
          0.40951080006745105,
          1.8189788881871771,
          0.234669989349547,
          -0.0846171360676178,
          0.10544028916557878,
          0.05272555227151905,
          -1.542914585256927,
          0.3929802809926625,
          0.643762822699811,
          1.9513320705032953,
          0.760032619988376,
          -1.1016760166555775,
          0.8022588472499885,
          0.547832058434315,
          -0.19396126290062946,
          1.0510965325156707,
          -0.7493976975960125,
          -0.07825271464988105,
          -0.9408641417425228,
          0.5180112928428479,
          -0.8386924570311307,
          0.9207262282891461,
          0.2507418507457452,
          -0.6366559083277716,
          -0.4613802790809626,
          0.3677706250071247,
          -0.16162984709275177,
          0.5546636512410603,
          1.4354063890911242,
          -0.9196580809262603,
          0.2907546909530202,
          -0.7369721518387289,
          -0.3579016868233085,
          0.02471998944331548,
          -2.2092271827091547,
          -0.1180769444039218,
          0.0021958646903063933,
          -0.02519733159577499,
          -1.206429072066325,
          0.2827362885978867,
          -2.410195735169461,
          1.4526086631851827,
          -0.11838748226200069,
          -0.03857974751742165,
          -0.6850647962619619,
          0.7128377480578945,
          -0.5344843990924358,
          0.6764003223914471,
          -0.6109494796307715,
          -0.9526588930320609,
          -0.5723123583351667,
          1.1089887362882016,
          0.2648720401005781,
          0.17893658311064786,
          1.0814506566495048,
          1.3129219121384954,
          -0.30206811717904847,
          1.1479282601876521,
          0.7879308772556574,
          0.5650848228187626,
          -0.44426647854604423,
          0.651937293992866,
          0.04037257904321513,
          0.4313773287864796,
          0.8708439290860521,
          -0.9369219182210742,
          -0.7335110809114512,
          -0.6456477977034446,
          -0.09798474517827199,
          -0.9533715419427439,
          -0.521745761298889,
          0.8572996798305033,
          1.1439343505797295,
          -0.5311622820479063,
          1.4435343754257757,
          0.9933325271871202,
          -1.1271408122788689,
          -1.416729736136105,
          1.5521709134791157,
          -0.01789294158849402,
          0.4881048368994227,
          1.8639721452780709,
          -0.7667570093808295,
          -0.4893529746408067,
          -0.8389818292188762,
          -0.876787348192026,
          0.26642600745660533,
          -0.08546166928295792,
          -0.26466385773134615,
          -0.6409024967204868,
          0.7381492502260375,
          0.1671232481218248,
          -0.5690726288968817,
          0.6069394920140009,
          0.13983472345469505,
          -0.3943445481200264,
          0.45188112040067746,
          -0.4456573167336027,
          0.5440974356914285,
          0.006883950588729321,
          2.4829307907530267,
          0.9716661323009715,
          0.17570573821002486,
          0.48380110521706565,
          0.15896741076707382,
          -0.3101688903442153,
          -0.029306960875077673,
          -0.3349497498279041,
          -0.11556674309762648,
          -0.8532068818782119,
          -0.14737912510634246,
          -0.17983150783660856,
          -1.3195865497156716,
          1.1263670456874495,
          0.34008949873067906,
          -1.0875683257409514,
          -0.5206549580209856,
          1.4092626623737972,
          -1.731916837402642,
          -0.28876886278613845,
          -1.1721845857955204,
          0.7915945073973096,
          1.874811847192593,
          -0.34859611731861034,
          -0.13175010973269544,
          0.2899532099854235,
          -0.3390202359946595,
          0.1049431362845375,
          0.8168063033374124,
          0.2550416538450668,
          -0.6175576192209493,
          -0.5854777865171555,
          -0.8463746084434264,
          -1.8381214081964559,
          1.2308504322537095,
          -0.8427786112240131,
          -0.10779533618060387,
          1.2675516387599193,
          -1.0445113565710928,
          -0.6602053322657601,
          1.1331134715494915,
          0.11152592156003116,
          0.9990123491501597,
          0.054171235579910076,
          0.5225778405721987,
          0.07687197181165867,
          -0.19213269481847609,
          -0.9183899237935844,
          0.005598966957674623,
          0.43862880494138295,
          0.6697309910008532,
          -1.0887578023405369,
          -1.169038139057121,
          2.0487253560704066,
          1.4266471255106685,
          -0.21787675761988456,
          0.18442747310197827,
          -1.5960899519141911,
          -0.25595360355045355,
          0.6431075912639557,
          -1.9254662550570134,
          0.03544527919244008,
          -0.222108144113329,
          -0.6943756279943268,
          2.2804993652934042,
          1.2372102199104082,
          1.9730611599511405,
          1.824368174436886,
          -0.5250180557035725,
          -0.025021781050396874,
          -0.317250885029101,
          0.43917432206915996,
          -0.864501965657357,
          -0.12826189246060513,
          -0.47839242916163766,
          0.10585264738751857,
          0.6693658708335865,
          -0.6339657887665209,
          -0.5860597130526157
         ],
         "xaxis": "x",
         "yaxis": "y"
        }
       ],
       "layout": {
        "barmode": "relative",
        "legend": {
         "title": {
          "text": "variable"
         },
         "tracegroupgap": 0
        },
        "template": {
         "data": {
          "bar": [
           {
            "error_x": {
             "color": "#2a3f5f"
            },
            "error_y": {
             "color": "#2a3f5f"
            },
            "marker": {
             "line": {
              "color": "#E5ECF6",
              "width": 0.5
             },
             "pattern": {
              "fillmode": "overlay",
              "size": 10,
              "solidity": 0.2
             }
            },
            "type": "bar"
           }
          ],
          "barpolar": [
           {
            "marker": {
             "line": {
              "color": "#E5ECF6",
              "width": 0.5
             },
             "pattern": {
              "fillmode": "overlay",
              "size": 10,
              "solidity": 0.2
             }
            },
            "type": "barpolar"
           }
          ],
          "carpet": [
           {
            "aaxis": {
             "endlinecolor": "#2a3f5f",
             "gridcolor": "white",
             "linecolor": "white",
             "minorgridcolor": "white",
             "startlinecolor": "#2a3f5f"
            },
            "baxis": {
             "endlinecolor": "#2a3f5f",
             "gridcolor": "white",
             "linecolor": "white",
             "minorgridcolor": "white",
             "startlinecolor": "#2a3f5f"
            },
            "type": "carpet"
           }
          ],
          "choropleth": [
           {
            "colorbar": {
             "outlinewidth": 0,
             "ticks": ""
            },
            "type": "choropleth"
           }
          ],
          "contour": [
           {
            "colorbar": {
             "outlinewidth": 0,
             "ticks": ""
            },
            "colorscale": [
             [
              0,
              "#0d0887"
             ],
             [
              0.1111111111111111,
              "#46039f"
             ],
             [
              0.2222222222222222,
              "#7201a8"
             ],
             [
              0.3333333333333333,
              "#9c179e"
             ],
             [
              0.4444444444444444,
              "#bd3786"
             ],
             [
              0.5555555555555556,
              "#d8576b"
             ],
             [
              0.6666666666666666,
              "#ed7953"
             ],
             [
              0.7777777777777778,
              "#fb9f3a"
             ],
             [
              0.8888888888888888,
              "#fdca26"
             ],
             [
              1,
              "#f0f921"
             ]
            ],
            "type": "contour"
           }
          ],
          "contourcarpet": [
           {
            "colorbar": {
             "outlinewidth": 0,
             "ticks": ""
            },
            "type": "contourcarpet"
           }
          ],
          "heatmap": [
           {
            "colorbar": {
             "outlinewidth": 0,
             "ticks": ""
            },
            "colorscale": [
             [
              0,
              "#0d0887"
             ],
             [
              0.1111111111111111,
              "#46039f"
             ],
             [
              0.2222222222222222,
              "#7201a8"
             ],
             [
              0.3333333333333333,
              "#9c179e"
             ],
             [
              0.4444444444444444,
              "#bd3786"
             ],
             [
              0.5555555555555556,
              "#d8576b"
             ],
             [
              0.6666666666666666,
              "#ed7953"
             ],
             [
              0.7777777777777778,
              "#fb9f3a"
             ],
             [
              0.8888888888888888,
              "#fdca26"
             ],
             [
              1,
              "#f0f921"
             ]
            ],
            "type": "heatmap"
           }
          ],
          "heatmapgl": [
           {
            "colorbar": {
             "outlinewidth": 0,
             "ticks": ""
            },
            "colorscale": [
             [
              0,
              "#0d0887"
             ],
             [
              0.1111111111111111,
              "#46039f"
             ],
             [
              0.2222222222222222,
              "#7201a8"
             ],
             [
              0.3333333333333333,
              "#9c179e"
             ],
             [
              0.4444444444444444,
              "#bd3786"
             ],
             [
              0.5555555555555556,
              "#d8576b"
             ],
             [
              0.6666666666666666,
              "#ed7953"
             ],
             [
              0.7777777777777778,
              "#fb9f3a"
             ],
             [
              0.8888888888888888,
              "#fdca26"
             ],
             [
              1,
              "#f0f921"
             ]
            ],
            "type": "heatmapgl"
           }
          ],
          "histogram": [
           {
            "marker": {
             "pattern": {
              "fillmode": "overlay",
              "size": 10,
              "solidity": 0.2
             }
            },
            "type": "histogram"
           }
          ],
          "histogram2d": [
           {
            "colorbar": {
             "outlinewidth": 0,
             "ticks": ""
            },
            "colorscale": [
             [
              0,
              "#0d0887"
             ],
             [
              0.1111111111111111,
              "#46039f"
             ],
             [
              0.2222222222222222,
              "#7201a8"
             ],
             [
              0.3333333333333333,
              "#9c179e"
             ],
             [
              0.4444444444444444,
              "#bd3786"
             ],
             [
              0.5555555555555556,
              "#d8576b"
             ],
             [
              0.6666666666666666,
              "#ed7953"
             ],
             [
              0.7777777777777778,
              "#fb9f3a"
             ],
             [
              0.8888888888888888,
              "#fdca26"
             ],
             [
              1,
              "#f0f921"
             ]
            ],
            "type": "histogram2d"
           }
          ],
          "histogram2dcontour": [
           {
            "colorbar": {
             "outlinewidth": 0,
             "ticks": ""
            },
            "colorscale": [
             [
              0,
              "#0d0887"
             ],
             [
              0.1111111111111111,
              "#46039f"
             ],
             [
              0.2222222222222222,
              "#7201a8"
             ],
             [
              0.3333333333333333,
              "#9c179e"
             ],
             [
              0.4444444444444444,
              "#bd3786"
             ],
             [
              0.5555555555555556,
              "#d8576b"
             ],
             [
              0.6666666666666666,
              "#ed7953"
             ],
             [
              0.7777777777777778,
              "#fb9f3a"
             ],
             [
              0.8888888888888888,
              "#fdca26"
             ],
             [
              1,
              "#f0f921"
             ]
            ],
            "type": "histogram2dcontour"
           }
          ],
          "mesh3d": [
           {
            "colorbar": {
             "outlinewidth": 0,
             "ticks": ""
            },
            "type": "mesh3d"
           }
          ],
          "parcoords": [
           {
            "line": {
             "colorbar": {
              "outlinewidth": 0,
              "ticks": ""
             }
            },
            "type": "parcoords"
           }
          ],
          "pie": [
           {
            "automargin": true,
            "type": "pie"
           }
          ],
          "scatter": [
           {
            "fillpattern": {
             "fillmode": "overlay",
             "size": 10,
             "solidity": 0.2
            },
            "type": "scatter"
           }
          ],
          "scatter3d": [
           {
            "line": {
             "colorbar": {
              "outlinewidth": 0,
              "ticks": ""
             }
            },
            "marker": {
             "colorbar": {
              "outlinewidth": 0,
              "ticks": ""
             }
            },
            "type": "scatter3d"
           }
          ],
          "scattercarpet": [
           {
            "marker": {
             "colorbar": {
              "outlinewidth": 0,
              "ticks": ""
             }
            },
            "type": "scattercarpet"
           }
          ],
          "scattergeo": [
           {
            "marker": {
             "colorbar": {
              "outlinewidth": 0,
              "ticks": ""
             }
            },
            "type": "scattergeo"
           }
          ],
          "scattergl": [
           {
            "marker": {
             "colorbar": {
              "outlinewidth": 0,
              "ticks": ""
             }
            },
            "type": "scattergl"
           }
          ],
          "scattermapbox": [
           {
            "marker": {
             "colorbar": {
              "outlinewidth": 0,
              "ticks": ""
             }
            },
            "type": "scattermapbox"
           }
          ],
          "scatterpolar": [
           {
            "marker": {
             "colorbar": {
              "outlinewidth": 0,
              "ticks": ""
             }
            },
            "type": "scatterpolar"
           }
          ],
          "scatterpolargl": [
           {
            "marker": {
             "colorbar": {
              "outlinewidth": 0,
              "ticks": ""
             }
            },
            "type": "scatterpolargl"
           }
          ],
          "scatterternary": [
           {
            "marker": {
             "colorbar": {
              "outlinewidth": 0,
              "ticks": ""
             }
            },
            "type": "scatterternary"
           }
          ],
          "surface": [
           {
            "colorbar": {
             "outlinewidth": 0,
             "ticks": ""
            },
            "colorscale": [
             [
              0,
              "#0d0887"
             ],
             [
              0.1111111111111111,
              "#46039f"
             ],
             [
              0.2222222222222222,
              "#7201a8"
             ],
             [
              0.3333333333333333,
              "#9c179e"
             ],
             [
              0.4444444444444444,
              "#bd3786"
             ],
             [
              0.5555555555555556,
              "#d8576b"
             ],
             [
              0.6666666666666666,
              "#ed7953"
             ],
             [
              0.7777777777777778,
              "#fb9f3a"
             ],
             [
              0.8888888888888888,
              "#fdca26"
             ],
             [
              1,
              "#f0f921"
             ]
            ],
            "type": "surface"
           }
          ],
          "table": [
           {
            "cells": {
             "fill": {
              "color": "#EBF0F8"
             },
             "line": {
              "color": "white"
             }
            },
            "header": {
             "fill": {
              "color": "#C8D4E3"
             },
             "line": {
              "color": "white"
             }
            },
            "type": "table"
           }
          ]
         },
         "layout": {
          "annotationdefaults": {
           "arrowcolor": "#2a3f5f",
           "arrowhead": 0,
           "arrowwidth": 1
          },
          "autotypenumbers": "strict",
          "coloraxis": {
           "colorbar": {
            "outlinewidth": 0,
            "ticks": ""
           }
          },
          "colorscale": {
           "diverging": [
            [
             0,
             "#8e0152"
            ],
            [
             0.1,
             "#c51b7d"
            ],
            [
             0.2,
             "#de77ae"
            ],
            [
             0.3,
             "#f1b6da"
            ],
            [
             0.4,
             "#fde0ef"
            ],
            [
             0.5,
             "#f7f7f7"
            ],
            [
             0.6,
             "#e6f5d0"
            ],
            [
             0.7,
             "#b8e186"
            ],
            [
             0.8,
             "#7fbc41"
            ],
            [
             0.9,
             "#4d9221"
            ],
            [
             1,
             "#276419"
            ]
           ],
           "sequential": [
            [
             0,
             "#0d0887"
            ],
            [
             0.1111111111111111,
             "#46039f"
            ],
            [
             0.2222222222222222,
             "#7201a8"
            ],
            [
             0.3333333333333333,
             "#9c179e"
            ],
            [
             0.4444444444444444,
             "#bd3786"
            ],
            [
             0.5555555555555556,
             "#d8576b"
            ],
            [
             0.6666666666666666,
             "#ed7953"
            ],
            [
             0.7777777777777778,
             "#fb9f3a"
            ],
            [
             0.8888888888888888,
             "#fdca26"
            ],
            [
             1,
             "#f0f921"
            ]
           ],
           "sequentialminus": [
            [
             0,
             "#0d0887"
            ],
            [
             0.1111111111111111,
             "#46039f"
            ],
            [
             0.2222222222222222,
             "#7201a8"
            ],
            [
             0.3333333333333333,
             "#9c179e"
            ],
            [
             0.4444444444444444,
             "#bd3786"
            ],
            [
             0.5555555555555556,
             "#d8576b"
            ],
            [
             0.6666666666666666,
             "#ed7953"
            ],
            [
             0.7777777777777778,
             "#fb9f3a"
            ],
            [
             0.8888888888888888,
             "#fdca26"
            ],
            [
             1,
             "#f0f921"
            ]
           ]
          },
          "colorway": [
           "#636efa",
           "#EF553B",
           "#00cc96",
           "#ab63fa",
           "#FFA15A",
           "#19d3f3",
           "#FF6692",
           "#B6E880",
           "#FF97FF",
           "#FECB52"
          ],
          "font": {
           "color": "#2a3f5f"
          },
          "geo": {
           "bgcolor": "white",
           "lakecolor": "white",
           "landcolor": "#E5ECF6",
           "showlakes": true,
           "showland": true,
           "subunitcolor": "white"
          },
          "hoverlabel": {
           "align": "left"
          },
          "hovermode": "closest",
          "mapbox": {
           "style": "light"
          },
          "paper_bgcolor": "white",
          "plot_bgcolor": "#E5ECF6",
          "polar": {
           "angularaxis": {
            "gridcolor": "white",
            "linecolor": "white",
            "ticks": ""
           },
           "bgcolor": "#E5ECF6",
           "radialaxis": {
            "gridcolor": "white",
            "linecolor": "white",
            "ticks": ""
           }
          },
          "scene": {
           "xaxis": {
            "backgroundcolor": "#E5ECF6",
            "gridcolor": "white",
            "gridwidth": 2,
            "linecolor": "white",
            "showbackground": true,
            "ticks": "",
            "zerolinecolor": "white"
           },
           "yaxis": {
            "backgroundcolor": "#E5ECF6",
            "gridcolor": "white",
            "gridwidth": 2,
            "linecolor": "white",
            "showbackground": true,
            "ticks": "",
            "zerolinecolor": "white"
           },
           "zaxis": {
            "backgroundcolor": "#E5ECF6",
            "gridcolor": "white",
            "gridwidth": 2,
            "linecolor": "white",
            "showbackground": true,
            "ticks": "",
            "zerolinecolor": "white"
           }
          },
          "shapedefaults": {
           "line": {
            "color": "#2a3f5f"
           }
          },
          "ternary": {
           "aaxis": {
            "gridcolor": "white",
            "linecolor": "white",
            "ticks": ""
           },
           "baxis": {
            "gridcolor": "white",
            "linecolor": "white",
            "ticks": ""
           },
           "bgcolor": "#E5ECF6",
           "caxis": {
            "gridcolor": "white",
            "linecolor": "white",
            "ticks": ""
           }
          },
          "title": {
           "x": 0.05
          },
          "xaxis": {
           "automargin": true,
           "gridcolor": "white",
           "linecolor": "white",
           "ticks": "",
           "title": {
            "standoff": 15
           },
           "zerolinecolor": "white",
           "zerolinewidth": 2
          },
          "yaxis": {
           "automargin": true,
           "gridcolor": "white",
           "linecolor": "white",
           "ticks": "",
           "title": {
            "standoff": 15
           },
           "zerolinecolor": "white",
           "zerolinewidth": 2
          }
         }
        },
        "title": {
         "text": "Histogram of pitch_x"
        },
        "xaxis": {
         "anchor": "y",
         "domain": [
          0,
          1
         ],
         "title": {
          "text": "value"
         }
        },
        "yaxis": {
         "anchor": "x",
         "domain": [
          0,
          1
         ],
         "title": {
          "text": "count"
         }
        }
       }
      }
     },
     "metadata": {},
     "output_type": "display_data"
    }
   ],
   "source": [
    "pitch_data.show_x_location_hist('pitch_x')"
   ]
  },
  {
   "cell_type": "code",
   "execution_count": 17,
   "metadata": {},
   "outputs": [
    {
     "data": {
      "application/vnd.plotly.v1+json": {
       "config": {
        "plotlyServerURL": "https://plot.ly"
       },
       "data": [
        {
         "alignmentgroup": "True",
         "bingroup": "x",
         "hovertemplate": "variable=pitch_y<br>value=%{x}<br>count=%{y}<extra></extra>",
         "legendgroup": "pitch_y",
         "marker": {
          "color": "#636efa",
          "pattern": {
           "shape": ""
          }
         },
         "name": "pitch_y",
         "offsetgroup": "pitch_y",
         "orientation": "v",
         "showlegend": true,
         "type": "histogram",
         "x": [
          -0.2333119917223724,
          -0.5649618105861883,
          0.266130729058286,
          -0.12413707478808682,
          0.29046031340326295,
          1.3939102545931419,
          -0.5170412590580113,
          0.8544399752985824,
          0.8986466835792122,
          0.2543778992530417,
          1.2777693723055354,
          -0.5601700005065194,
          1.4187547759752797,
          0.20307676862216856,
          -0.5601814354218116,
          -0.9763500965337331,
          1.0876178883452445,
          0.0734024333876893,
          -1.0046357075623076,
          -1.476406970705078,
          -0.9072465157881863,
          0.051496131855885315,
          -0.2355742996729903,
          -0.15406946396952195,
          -0.9110940341474689,
          0.6631144741662879,
          -0.01267415366032682,
          1.041400494289545,
          0.37040507245344984,
          -0.01965811965959439,
          0.8191474161188783,
          0.29073661665351946,
          -0.08290186964441786,
          1.1961525397545614,
          0.19730906033354223,
          1.534273003774395,
          -0.6796240704068812,
          -0.689871700241239,
          -1.2623947473929193,
          -0.055309059674650475,
          0.47946219134663404,
          0.3353243632440965,
          0.11139674453151298,
          -1.005426725490802,
          -0.280405376290708,
          1.6934766073879655,
          0.19874162092452077,
          0.012853323093736331,
          0.23726476670799726,
          -0.6446795668041744,
          0.8976897649818445,
          -0.5213561804607332,
          -0.05768641298672542,
          -0.545000891849191,
          -0.7476939404359224,
          -0.7467479669751622,
          1.6803221063536018,
          0.29373850908864624,
          -0.04430816817837219,
          -0.7623982431449162,
          1.2465506917689113,
          0.34057491920816074,
          -0.3607330111391879,
          -0.3144495950598181,
          0.892425391819002,
          -0.8917323331263165,
          0.28401702112174687,
          0.10146849477822961,
          -0.49890072558617266,
          1.3566393245288177,
          -2.9729142288856414,
          -0.278951337878788,
          0.5172327469055318,
          0.40719776841651634,
          0.5530060861625637,
          -1.0648048129297019,
          0.4864095364760806,
          -0.5862007173908346,
          0.4540099929285216,
          0.1630817383022811,
          -0.21914604971250903,
          -0.3305231334136408,
          1.0848725351254387,
          -2.1329125355877476,
          0.8722709086570305,
          -0.27316889477972683,
          0.33187121989454477,
          2.233669999476768,
          -1.3483474189543254,
          0.9594448071072534,
          0.5506593400210223,
          0.04156455186629938,
          -0.38112408722172103,
          0.5431727412748101,
          0.6500879017869793,
          0.2796966024838516,
          -1.3046590156826954,
          0.8590148572895405,
          -0.6152124058134715,
          0.38262440481252274,
          -0.16938962216346723,
          0.8533235957808651,
          0.6126828409020301,
          -0.15464384532981043,
          -2.3787481647870212,
          0.9285168402383953,
          0.7045407193944397,
          0.7697605476390719,
          0.48065618968071355,
          0.021101270172252582,
          1.4019695814432531,
          0.6517257938349095,
          0.5578753306011378,
          -0.5317876847300325,
          0.37917360163387864,
          1.3960580500737456,
          -1.8336237724237585,
          -3.2547694804359586,
          -1.991188042930331,
          0.6296659565008736,
          2.027832274606016,
          0.9043674310818756,
          0.9213547531661401,
          -0.5405886655953256,
          0.09454091176277599,
          1.1238137923206846,
          -2.1927523519857814,
          -1.2076021968362163,
          -0.8247285764453501,
          0.45601672573393426,
          -1.7246323059660889,
          -0.7194350052591258,
          0.7921817825072571,
          0.06604795537898418,
          0.12549310594685423,
          1.250082762200963,
          -0.2443556651677273,
          0.21169514292372393,
          1.0262219611007308,
          0.9458837682264115,
          -0.47311527559770006,
          1.0492063401265195,
          0.2977758852248384,
          -1.8241330498150425,
          0.480081571723147,
          -0.6067645086966459,
          -0.9546054468540078,
          -0.5331119321212322,
          1.4303940050340829,
          0.7899073520237946,
          -1.655024863204735,
          -1.6708042908103977,
          0.05271509657040265,
          0.7240070858714778,
          0.09359787365746743,
          0.2426981213913199,
          -0.572011660592569,
          0.9084431942876728,
          -0.2086834903303462,
          0.4774734193992787,
          -0.16411128493936214,
          -0.6310388642829325,
          1.252394370158644,
          1.298840875034485,
          0.10961848900932585,
          0.9547104629613198,
          -0.20209683693928787,
          0.9337091459227886,
          -0.6596528395089006,
          -0.5912540675056948,
          0.39461722864260085,
          -0.10242628705802162,
          0.4267238516706124,
          0.39360620371633065,
          -2.3628165727949093,
          1.3366505432450295,
          0.3831487986650203,
          1.6325247347237095,
          0.12156601935687611,
          0.9794165017212793,
          -0.03189275071480222,
          0.8216606545023418,
          1.5026209434397142,
          0.44362015532650645,
          0.6311020642207301,
          0.06292437429653465,
          0.16499660334153596,
          0.4187374557247933,
          -0.17346257459221368,
          0.11367439587304748,
          -1.4626356002241052,
          -0.3814349499385528,
          -0.24007889883915856,
          1.105396126077159,
          -0.059368531191608176,
          -0.8445687490690978,
          0.1851457535487888,
          0.5282508162272387,
          0.375663865690056,
          0.13865491991571569,
          -0.4007698455451983,
          0.7590089429256697,
          -1.0191586472139655,
          -1.2250153308515572,
          -0.9881068450156812,
          -0.647675322361095,
          -0.712189154609588,
          -0.6497792684662481,
          -2.609510849849024,
          -0.7296671858371273,
          -0.7395569423268205,
          -0.7628752037013781,
          0.39544471005077353,
          -0.20670715911447188,
          1.867670491836323,
          1.2104444578568065,
          -1.1930817139683012,
          0.5041066296753384,
          -0.17186524637351366,
          0.09949064328014556,
          -0.9078020294478426,
          1.4573057303527344,
          0.11594173980336601,
          -0.3777068095803577,
          -0.6176157459715738,
          -0.7832864705210577,
          -0.533910516021136,
          0.3364108214899616,
          1.3311312720498534,
          1.0892022464740156,
          -0.43623364165763245,
          0.06744560574387587,
          1.1137588079298266,
          -0.40498202372243636,
          -0.4726486310721164,
          0.05151444191994539,
          1.0279682384788678,
          -1.239717155620412,
          -0.2542002232073376,
          -0.4680459918095605,
          0.6193357072999274,
          -1.3162692309445627,
          -0.6811835080352605,
          -0.050405919913028646,
          1.2227568909046158,
          0.837687399544511,
          -0.48081146874465275,
          0.7525878041866749,
          0.7873471006500132,
          -0.6555425754022552,
          0.8488880470288197,
          -0.21402509974529488,
          -0.3825069515243987,
          -0.3380138047350915,
          0.20378281464682613,
          -0.5855657319971944,
          -1.432090022986863,
          0.35674734468713054,
          -1.1019397288254766,
          0.3363110309271805,
          -0.5003345582417486,
          0.42822686637696716,
          -0.44939213658628396,
          -0.3648559023150625,
          -1.4709589753911827,
          1.2396981494637043,
          -1.024405435987566,
          -0.8996619449152208,
          1.0305333222197395,
          -0.28711070650658965,
          0.9815783048369994,
          0.04155648707112448,
          -0.8137101097922841,
          -1.0530309780392157,
          -0.7694458227776498,
          0.6094371563405786,
          -0.45895087220895486,
          1.327633004651617,
          -1.1358482028651737,
          -0.34542387894562715,
          2.1420170433109362,
          -0.28024499216201615,
          -0.6545677390710117,
          -1.7309702195719325,
          1.6685931608654019,
          -1.4393052640552646,
          0.19357372558170327,
          -0.7650630604785719,
          0.4783490786453689,
          -0.6819551347561758,
          1.2581969103638913,
          0.9055764923940914,
          0.04831109892375746,
          -0.8299422012424514,
          1.3969880034632054,
          -0.5228430766708422,
          -1.834172798982475,
          -0.31774420552120675,
          -0.6904674817160182,
          0.31824621845324347,
          -0.19839105661765943,
          0.6185971792958448,
          1.497909681674592,
          -1.592607139689492,
          0.6656241338196092,
          0.12446943248511237,
          0.018971583708963978,
          -0.35993909992930667,
          -1.6727390423041988,
          1.0297142363310963,
          -0.8274024920909601,
          0.2660421359846695,
          1.069874507883123,
          -0.5921404035262433,
          -0.21136009174117387,
          -0.00036151607604122127,
          -0.11114894672069311,
          0.17947725107862517,
          -1.0530560158617484,
          0.17280096701086228,
          0.8897184933000454,
          -1.317784687460322,
          -1.145815623036003,
          -1.6109851864730447,
          -0.048640346555099974,
          1.9539056196782418,
          0.5768731025597695,
          0.6676399837586683,
          -0.12507003326432392,
          -0.12014216834779885,
          -0.7427435077386363,
          0.39136217001919954,
          2.397852320408661,
          0.060234031060541246,
          -0.42735919923760723,
          1.6842756507593761,
          0.09201385026991525,
          -0.9917888661097554,
          -1.824160729866744,
          -0.12919635900837406,
          -0.22324224037413876,
          0.3129622532208776,
          0.6797487477274753,
          1.6814734689143056,
          0.6660577509664442,
          -1.4644056423826095,
          0.3173391156210439,
          -0.31380021242798795,
          0.08836563132619281,
          1.4979818519522314,
          -0.7806423632610275,
          0.061789151395237524,
          0.5114744996926984,
          0.4028607856402558,
          0.33883481407280797,
          0.6580563822668679,
          2.1521452765274023,
          0.6827411731228131,
          -1.0438621485646018,
          -0.21304588937609353,
          0.7168128434780491,
          1.1671442262065905,
          1.1698578695173762,
          -0.7364703733139182,
          0.3245056150142566,
          0.6832016833097373,
          0.14558211417714437,
          0.48730320917628095,
          0.9077763603258417,
          0.19984039966810413,
          0.26491799700019747,
          0.15416148996608137,
          -1.2348189751155962,
          0.8062023748452678,
          -0.5306547508823776,
          0.25469021599784913,
          0.45763426736582224,
          1.1845156797400829,
          0.27037318767862095,
          -0.4658555171874834,
          -1.6072201514550446,
          1.8583749773502525,
          0.9936877836661208,
          -0.20217896281486225,
          -0.917274757557751,
          -0.3383959217075834,
          -0.24820256008369282,
          -1.4783737844981162,
          0.4123373567348318,
          -0.08438531255180672,
          -1.3218282103205308,
          -0.4918097130072278,
          0.48492975384778225,
          0.7848240164207329,
          0.10850800171088514,
          0.6676579530396327,
          -1.614032573995286,
          -0.6225605820240183,
          -0.7890188706787943,
          -0.2556907028173095,
          -0.7954802461578686,
          -0.18048857703961604,
          -0.3763255941134634,
          -0.2534258530313882,
          0.7164060281661025,
          -0.9039226987560668,
          -0.37933168924325594,
          -0.21828773633052576,
          0.02439766577374498,
          1.6980837491474192,
          0.7310156129398503,
          1.4290089511455182,
          0.4267187766532473,
          -0.6213337045072562,
          -0.7842953997411078,
          -0.9721144116717789,
          -0.38757890483050744,
          0.9588409661322598,
          -1.3345147894405744,
          0.2533053489906964,
          0.9973475641142036,
          -0.6866992002784481,
          -0.7503714762731544,
          -0.033595779622322984,
          0.35702571130227245,
          -0.5661618765676548,
          0.8330942855925025,
          -0.28982250005237914,
          0.31907668625034386,
          -1.102915425948524,
          -0.15938284839966002,
          0.4786985051690986,
          -0.4503873244684704,
          0.05834361985585871,
          0.9453559544820679,
          -0.25682408958413816,
          -0.13114235753176115,
          1.7175181779790487,
          -0.2581286987693239,
          0.6601896098926261,
          0.34273271294765173,
          -1.1374447937649186,
          -0.6823587558509753,
          0.16984755500386717,
          -0.6575758717401319,
          -0.3740025916700153,
          0.732284202208702,
          -1.26566323700661,
          0.6365966768106283,
          0.4503154662586653,
          -0.44505633560216057,
          -0.16248609656779345,
          0.5888910344096089,
          -0.23332733633556532,
          -0.7248015400202231,
          -0.46815459856749675,
          -1.7472966662166893,
          -1.13774377271883,
          -0.24901248939070253,
          0.26507818255959736,
          1.7092554769547503,
          0.7945556994157664,
          0.570193223799307,
          -0.37166432492160967,
          1.0611143015836808,
          0.16988959874318468,
          0.41035250474387963,
          -0.5183693183608913,
          0.7539896208757232,
          -0.43428862874683094,
          0.10802945967519209,
          -0.20912005744354967,
          0.24559271607308872,
          -0.7057941660539845,
          0.44855287834364893,
          1.7303069868783207,
          0.6646358727594744,
          -0.060818080681181934,
          0.32154599170053144,
          0.5923765241555581,
          0.9524393963316792,
          0.27179644129046177,
          -0.03406437615440357,
          -0.4154835382442256,
          -0.6497920826612567,
          -0.4452490197930937,
          -0.4214194924783851,
          -0.004581427975442171,
          0.01602446802060596,
          -2.1568820851485033,
          -0.18158651453619745,
          -1.7082738900055092,
          -0.34232342167374535,
          0.89243817722647,
          -0.7710863743641035,
          -1.017542976622353,
          0.10371896697202514,
          -0.07052370705568288,
          -1.085047807090155,
          1.2681816045959011,
          0.08830743591815117,
          -0.660474518531979,
          -0.6173140976530432,
          -0.018404356426102022,
          -0.32936699663085417,
          -0.6492018971416867,
          -0.0969557450715096,
          -0.13822714082547446,
          -0.18305745546962027,
          1.5250808911530302,
          -0.07708999136249466,
          0.6907852194195245,
          -0.17909394485194996,
          1.2128279278310397,
          -1.3611999126571528,
          0.24600789862958253,
          -0.9790077913665853,
          0.49280055506030407,
          0.25751630854585084,
          -0.5909094528139471,
          -0.23548356381746416,
          0.2534013265076671,
          -0.9206959232441418,
          0.9008639808486352,
          -0.14630615073007686,
          -1.3796203734612826,
          0.4481556662659136,
          0.2210381397347678,
          -0.29960427901061465,
          1.246243722818554,
          -1.2105423154753618,
          -0.08059239477687187,
          -0.4983452614493674,
          -0.3836988116816125,
          -0.9777385348513457,
          0.1783895446236525,
          0.5032751924606461,
          1.4503737048314742,
          -0.9382741621088819,
          -0.4492955558682624,
          0.10174360786994852,
          0.10779895859317878,
          1.6128992994657212,
          -0.11441724889733518,
          -0.9977241528062571,
          1.0381878223040206,
          -1.4074527139592088,
          -0.22566277174219251,
          0.749092620634205,
          0.1259989132521923,
          -2.0240395049109208,
          0.7274224343647416,
          -0.7639959948883536,
          0.35465030919658763,
          -0.05112764467298913,
          0.3402858536943627,
          1.098380765433114,
          -0.060790563626672234,
          0.20593697449313791,
          -1.250726447391216,
          -1.3272381937139832,
          0.9274549901143856,
          0.7763583855499806,
          -0.5004254175275347,
          0.2704863722883994,
          1.497558130282213,
          -1.9182505155145737,
          0.5069873758304444,
          -1.2510848962545345,
          -1.0854124493997865,
          0.08666727825975007,
          0.5279745613447638,
          -0.1459600692021441,
          -0.5256564966819132,
          0.043227386800726415,
          -0.03555634539740484,
          -0.3067880571568443,
          -0.8824579761667724,
          0.5639021356003834,
          -0.6951638702524884,
          1.0681712007779172,
          0.6642430114900699,
          -1.7100618941260197,
          1.3710356599837192,
          -0.056443762863501584,
          0.5244328739288078,
          -0.8346091611063678,
          0.7627207533327834,
          -0.21788968615664905,
          0.14700754890320042,
          -0.3203550056595184,
          -0.3946978777282377,
          -0.013553497813663218,
          -0.0423650501126553,
          0.09021494680295418,
          0.48122779808662086,
          -0.2720501114197448,
          1.0481901174143737,
          -0.43326204148083414,
          -0.008410761045485018,
          1.6050639378576936,
          0.6209311804412476,
          0.8024422085489247,
          -2.4303686569823957,
          0.17420047948429332,
          -0.7546403624035816,
          -0.052599097134652426,
          1.5382556630876445,
          0.010900367546146138,
          1.136542109050237,
          0.6524097208689473,
          0.5755944573966024,
          0.17259906145600304,
          0.660445948619766,
          0.5513997105735273,
          -0.5678814304455502,
          -1.1131705443304531,
          0.3022165759396411,
          -1.6405496375193473,
          -0.12165426378548708,
          -0.7571990341991771,
          -0.7092179189098771,
          0.7397650177748781,
          -0.1674958614989444,
          0.31778446842614627,
          0.7165411505828281,
          0.6096452538190981,
          0.4141757810959919,
          0.5673568857002058,
          0.409600287147815,
          1.0965112790118372,
          -0.3218429733078093,
          0.08289178022456221,
          -0.896926363650595,
          -0.8214990778016057,
          -0.4558526459585339,
          -0.13822145239232103,
          -0.8136246196174451,
          -0.814099802927321,
          1.5439435634563738,
          1.5380763469605425,
          -0.2122169159875117,
          0.27092249338283503,
          0.2932807299185757,
          -1.3402028834087423,
          0.49725576603812005,
          1.6140798500761344,
          -0.2889245170353209,
          0.1467668784379845,
          -0.43939442099105175,
          -0.09183767327930001,
          0.8921524662356053,
          1.6076759509063157,
          0.5662565679950968,
          0.3217363015775206,
          0.10366724243980244,
          -0.47437055201846223,
          2.9070186988530056,
          -0.8253615344745547,
          0.10587858902074421,
          0.8841023435509601,
          -1.3431083170326243,
          1.0194275960268073,
          -0.7441483954556977,
          -1.0650241835730403,
          -0.03033732183020421,
          -0.29701567174358884,
          -0.6656467330510581,
          0.890551171785564,
          -0.6270510544726693,
          0.8390431010604206,
          0.47115994394111615,
          -0.0498361433770494,
          0.5634039763899048,
          -0.636209388259709,
          -1.48724709342868,
          -0.6695976000999219,
          1.207470146515272,
          0.17666345247424878,
          0.5899390417941093,
          0.5143084842140652,
          -0.4170503775419458,
          -0.3170258639824623,
          1.5016233142077424,
          -1.1211263024938083,
          1.3926454105969432,
          -0.2143805972832071,
          1.127178295455395,
          -0.3535709074759905,
          -0.08679839687144023,
          1.3254875978278025,
          0.48804946761904733,
          -1.0447873854755265,
          0.08403368208653522,
          -0.5949270379082353,
          -0.4116095785401556,
          1.077581257447193,
          -1.4580046845821357,
          0.0780883367349913,
          -0.5084143173604802,
          -0.4888194371678719,
          0.05896948041056434,
          -0.6089828887101206,
          -0.013040149179326093,
          0.5014427046602961,
          0.7814878386828048,
          1.3501393854886827,
          -0.267127749267207,
          0.6181503655331525,
          -0.3259774263751168,
          0.6627990882925322,
          -0.5699858528443189,
          -1.7364017909484977,
          0.6225256871473968,
          -2.158143156336918,
          -1.403308815461089,
          -0.9409591365193937,
          0.35429204208646303,
          0.1378682075272939,
          0.3439801252505404,
          0.594380985500653,
          -0.9001527859806683,
          0.3290490109127989,
          -0.27617503289837075,
          0.22231248241487328,
          -0.6196302812851472,
          -0.20955691035105736,
          1.0608934343253065,
          0.2007560621087518,
          -0.09529333804482425,
          1.3020388254645956,
          -1.145322675792862,
          0.1344963114280372,
          0.1249758821247789,
          0.5630749104111732,
          -0.36108737520522577,
          0.40027615185574217,
          0.5157533793225617,
          0.15637930593244545,
          -0.7224731271301945,
          -0.03706180871761528,
          -1.7611728588287838,
          -0.4336943223410752,
          -0.4462835647887784,
          1.424361874040121,
          -0.9319644771876958,
          0.8320418181008651,
          -0.3133309289794022,
          1.0780836207416156,
          0.5330828752755163,
          0.05104393012878303,
          1.635903496241591,
          -0.235058315204186,
          -0.12740626194039117,
          0.5905898630897168,
          0.675389294506878,
          0.5847448689249144,
          0.9601619463885761,
          -1.0042900763026117,
          1.0332833294598247,
          -0.8131168254152641,
          0.8734399067793943,
          0.7104986259632182,
          -0.09957115944301287,
          1.3277354894790458,
          0.16997474208037786,
          -0.25835971354173476,
          -0.3816294410513178,
          -0.4176566758362287,
          0.7984486789235179,
          2.0673689808405755,
          -1.495442785414664,
          0.31553486070548603,
          1.986838167304792,
          -0.6245634300565243,
          0.5771304881237515,
          -1.4189687859679767,
          -0.4644200778331179,
          -0.6905454426943409,
          0.8548246081182622,
          0.17183571008804432,
          1.84742623889582,
          -0.6413084713696762,
          -1.6650973264878939,
          -0.004958790088267778,
          0.06862835861940171,
          -0.7702031353451543,
          1.5436387232709103,
          -1.7393821090431747,
          -0.04641773367159902,
          0.9716050078336403,
          1.0901250944066085,
          0.16335674576269857,
          -0.493912043147528,
          -0.2154442580243819,
          -0.7180260627153768,
          0.928671749394187,
          -0.5151565118320539,
          -0.553978122991568,
          1.1838617189963556,
          -0.9944742787472134,
          -1.3183649708173786,
          -1.6658240639288362,
          0.9602305466126348,
          -0.03709155625475871,
          0.4529857243145465,
          1.7115927295841369,
          -0.8905825068845282,
          0.4149472018210977,
          -0.4302708052988802,
          1.7075748828068626,
          -0.7944017675794589,
          -1.3512348482033774,
          0.11753604493512933,
          0.37147192528430895,
          0.587869255681696,
          0.748060696420325,
          -0.9491635847187976,
          0.25571335777323484,
          -0.16393868476278403,
          -0.451900247614598,
          -1.1585577759496473,
          -0.9468918325595056,
          -0.4133945975693165,
          2.121326953895104,
          -0.915235894759891,
          -2.03993357794802,
          1.7095384777100289,
          0.0052577682994272255,
          -0.023114230366894622,
          -0.5576349412194663,
          0.0026375111884702537,
          -0.18352447204620995,
          -1.339502039438617,
          -0.08473843550792604,
          -0.7240041714173313,
          -0.8576649657356806,
          0.05963651535224111,
          1.2583539487765376,
          1.8494869950111632,
          -0.3666805467375192,
          0.9535895466501725,
          1.420804740681109,
          1.2092076464959842,
          0.7720779286069608,
          -1.369229286543048,
          -0.8082255244238241,
          0.15984975951460323,
          0.8597609632483856,
          0.0720511519694184,
          0.7070665203546374,
          1.580202811782689,
          1.443448802747218,
          -0.3408962210160847,
          -0.8854564358149815,
          -0.25337291349608526,
          0.3066176831487844,
          0.28901846994802416,
          0.8982021626885657,
          -0.14545002016663483,
          -0.4990654078549236,
          -0.8077004517390491,
          -0.6763503935540198,
          0.29030678653577835,
          -1.9009629495809162,
          0.9269878525566422,
          0.6361634516599773,
          -0.6028205552265397,
          1.5322830228636515,
          0.4379234925169088,
          -0.7440113870983855,
          -0.2762710461899352,
          -0.42677620968774715,
          -0.2217470205148948,
          -1.0766931939784452,
          0.6905826215060471,
          -0.8502992509295724,
          0.13642644560294248,
          0.8604428734879827,
          -0.21397256948965537,
          -0.7112255080307888,
          0.29705267808886765,
          0.1850640904882868,
          -0.7812355504955475,
          -0.29151866768867524,
          0.9738840102641162,
          -2.5067974811194267,
          0.9017447090457654,
          1.064149871637261,
          0.15279821667104745,
          0.39162455628507287,
          -1.5624020599437223,
          1.830059757210197,
          0.5816450361477996,
          0.17107680390517624,
          -0.7995044038241421,
          0.02550457310859197,
          -0.5696294515921833,
          -0.8779221029239642,
          -0.3528307438876587,
          0.6213037515752442,
          0.42980976067045035,
          -1.8156491231662453,
          -0.6095632445005775,
          1.0937024619418512,
          -0.03059474406563342,
          0.6650447739979641,
          -0.5632617059690439,
          -1.5605493655004523,
          0.2702970568263284,
          -1.4069440959843351,
          0.7168966683720165,
          -1.3663008916531216,
          1.0074621615101884,
          -0.8365448312691236,
          -0.42381695766077127,
          2.2356617221926736,
          -0.40929943363709675,
          -0.28665398133069464,
          0.7750988837708302,
          0.782421541152851,
          0.8485878437215782,
          -0.2654423616056231,
          0.09928917111133004,
          2.0059588930912198,
          -0.6876136123775747,
          -0.1868026289285809,
          -0.2566920113648264,
          2.4192179860217307,
          -0.1629953970435974,
          -0.04437032267298659,
          -1.0340266466300916,
          0.211383703318395,
          0.857366443988479,
          -0.5097413679579818,
          1.133622481965233,
          -0.8107248399043778,
          0.5156344461434952,
          1.9640204715954723,
          0.4914663810688316,
          -0.09819073819555357,
          1.2192545143277587,
          1.4237487824690758,
          -0.35562906485063106,
          -1.4877285927570851,
          -0.8351106935494662,
          -0.40081873078736824,
          0.33073001188035867,
          -0.9105915385020581,
          -1.0181924062533754,
          0.1597112517457465,
          0.21065284899728898,
          0.09994235479228696,
          0.3201094740737104,
          -0.6353666750396749,
          -1.3319013130554345,
          -0.6540571553060585,
          0.11704836703000793,
          -0.5714973548666713,
          2.3798403667796153,
          -0.4862919819884806,
          1.685911247787664,
          -0.5313399411593347,
          0.7127660465228939,
          0.7026398596357492,
          -0.6826376595619178,
          1.2806482941792725,
          1.7095349508383868,
          0.894452880695789,
          -0.1262935832890982,
          -1.504176909636688,
          -0.9510031494389635,
          -0.6950476056314966,
          -0.7413966363199564,
          0.20122650100922626,
          -0.9137035257740237,
          0.5771040113668388,
          -1.2331892396432884,
          0.17416906535446208,
          0.2781356815241226,
          0.16765144255634057,
          -0.8502681380974733,
          -0.5984098584703634,
          0.8227159336369638,
          -0.9088044327132392,
          0.11050731934800914,
          -1.5349786170209714,
          -0.6769114196846997,
          1.0236438283106017,
          -1.0901436707456027,
          0.6490565537171658,
          0.3845545172757917,
          1.0455645341638065,
          -0.5635806682337253,
          -0.15881545616106812,
          -0.12002448818734374,
          0.356633656133643,
          -0.8794495390110102,
          1.790979886193496,
          -0.42153328354775416
         ],
         "xaxis": "x",
         "yaxis": "y"
        }
       ],
       "layout": {
        "barmode": "relative",
        "legend": {
         "title": {
          "text": "variable"
         },
         "tracegroupgap": 0
        },
        "template": {
         "data": {
          "bar": [
           {
            "error_x": {
             "color": "#2a3f5f"
            },
            "error_y": {
             "color": "#2a3f5f"
            },
            "marker": {
             "line": {
              "color": "#E5ECF6",
              "width": 0.5
             },
             "pattern": {
              "fillmode": "overlay",
              "size": 10,
              "solidity": 0.2
             }
            },
            "type": "bar"
           }
          ],
          "barpolar": [
           {
            "marker": {
             "line": {
              "color": "#E5ECF6",
              "width": 0.5
             },
             "pattern": {
              "fillmode": "overlay",
              "size": 10,
              "solidity": 0.2
             }
            },
            "type": "barpolar"
           }
          ],
          "carpet": [
           {
            "aaxis": {
             "endlinecolor": "#2a3f5f",
             "gridcolor": "white",
             "linecolor": "white",
             "minorgridcolor": "white",
             "startlinecolor": "#2a3f5f"
            },
            "baxis": {
             "endlinecolor": "#2a3f5f",
             "gridcolor": "white",
             "linecolor": "white",
             "minorgridcolor": "white",
             "startlinecolor": "#2a3f5f"
            },
            "type": "carpet"
           }
          ],
          "choropleth": [
           {
            "colorbar": {
             "outlinewidth": 0,
             "ticks": ""
            },
            "type": "choropleth"
           }
          ],
          "contour": [
           {
            "colorbar": {
             "outlinewidth": 0,
             "ticks": ""
            },
            "colorscale": [
             [
              0,
              "#0d0887"
             ],
             [
              0.1111111111111111,
              "#46039f"
             ],
             [
              0.2222222222222222,
              "#7201a8"
             ],
             [
              0.3333333333333333,
              "#9c179e"
             ],
             [
              0.4444444444444444,
              "#bd3786"
             ],
             [
              0.5555555555555556,
              "#d8576b"
             ],
             [
              0.6666666666666666,
              "#ed7953"
             ],
             [
              0.7777777777777778,
              "#fb9f3a"
             ],
             [
              0.8888888888888888,
              "#fdca26"
             ],
             [
              1,
              "#f0f921"
             ]
            ],
            "type": "contour"
           }
          ],
          "contourcarpet": [
           {
            "colorbar": {
             "outlinewidth": 0,
             "ticks": ""
            },
            "type": "contourcarpet"
           }
          ],
          "heatmap": [
           {
            "colorbar": {
             "outlinewidth": 0,
             "ticks": ""
            },
            "colorscale": [
             [
              0,
              "#0d0887"
             ],
             [
              0.1111111111111111,
              "#46039f"
             ],
             [
              0.2222222222222222,
              "#7201a8"
             ],
             [
              0.3333333333333333,
              "#9c179e"
             ],
             [
              0.4444444444444444,
              "#bd3786"
             ],
             [
              0.5555555555555556,
              "#d8576b"
             ],
             [
              0.6666666666666666,
              "#ed7953"
             ],
             [
              0.7777777777777778,
              "#fb9f3a"
             ],
             [
              0.8888888888888888,
              "#fdca26"
             ],
             [
              1,
              "#f0f921"
             ]
            ],
            "type": "heatmap"
           }
          ],
          "heatmapgl": [
           {
            "colorbar": {
             "outlinewidth": 0,
             "ticks": ""
            },
            "colorscale": [
             [
              0,
              "#0d0887"
             ],
             [
              0.1111111111111111,
              "#46039f"
             ],
             [
              0.2222222222222222,
              "#7201a8"
             ],
             [
              0.3333333333333333,
              "#9c179e"
             ],
             [
              0.4444444444444444,
              "#bd3786"
             ],
             [
              0.5555555555555556,
              "#d8576b"
             ],
             [
              0.6666666666666666,
              "#ed7953"
             ],
             [
              0.7777777777777778,
              "#fb9f3a"
             ],
             [
              0.8888888888888888,
              "#fdca26"
             ],
             [
              1,
              "#f0f921"
             ]
            ],
            "type": "heatmapgl"
           }
          ],
          "histogram": [
           {
            "marker": {
             "pattern": {
              "fillmode": "overlay",
              "size": 10,
              "solidity": 0.2
             }
            },
            "type": "histogram"
           }
          ],
          "histogram2d": [
           {
            "colorbar": {
             "outlinewidth": 0,
             "ticks": ""
            },
            "colorscale": [
             [
              0,
              "#0d0887"
             ],
             [
              0.1111111111111111,
              "#46039f"
             ],
             [
              0.2222222222222222,
              "#7201a8"
             ],
             [
              0.3333333333333333,
              "#9c179e"
             ],
             [
              0.4444444444444444,
              "#bd3786"
             ],
             [
              0.5555555555555556,
              "#d8576b"
             ],
             [
              0.6666666666666666,
              "#ed7953"
             ],
             [
              0.7777777777777778,
              "#fb9f3a"
             ],
             [
              0.8888888888888888,
              "#fdca26"
             ],
             [
              1,
              "#f0f921"
             ]
            ],
            "type": "histogram2d"
           }
          ],
          "histogram2dcontour": [
           {
            "colorbar": {
             "outlinewidth": 0,
             "ticks": ""
            },
            "colorscale": [
             [
              0,
              "#0d0887"
             ],
             [
              0.1111111111111111,
              "#46039f"
             ],
             [
              0.2222222222222222,
              "#7201a8"
             ],
             [
              0.3333333333333333,
              "#9c179e"
             ],
             [
              0.4444444444444444,
              "#bd3786"
             ],
             [
              0.5555555555555556,
              "#d8576b"
             ],
             [
              0.6666666666666666,
              "#ed7953"
             ],
             [
              0.7777777777777778,
              "#fb9f3a"
             ],
             [
              0.8888888888888888,
              "#fdca26"
             ],
             [
              1,
              "#f0f921"
             ]
            ],
            "type": "histogram2dcontour"
           }
          ],
          "mesh3d": [
           {
            "colorbar": {
             "outlinewidth": 0,
             "ticks": ""
            },
            "type": "mesh3d"
           }
          ],
          "parcoords": [
           {
            "line": {
             "colorbar": {
              "outlinewidth": 0,
              "ticks": ""
             }
            },
            "type": "parcoords"
           }
          ],
          "pie": [
           {
            "automargin": true,
            "type": "pie"
           }
          ],
          "scatter": [
           {
            "fillpattern": {
             "fillmode": "overlay",
             "size": 10,
             "solidity": 0.2
            },
            "type": "scatter"
           }
          ],
          "scatter3d": [
           {
            "line": {
             "colorbar": {
              "outlinewidth": 0,
              "ticks": ""
             }
            },
            "marker": {
             "colorbar": {
              "outlinewidth": 0,
              "ticks": ""
             }
            },
            "type": "scatter3d"
           }
          ],
          "scattercarpet": [
           {
            "marker": {
             "colorbar": {
              "outlinewidth": 0,
              "ticks": ""
             }
            },
            "type": "scattercarpet"
           }
          ],
          "scattergeo": [
           {
            "marker": {
             "colorbar": {
              "outlinewidth": 0,
              "ticks": ""
             }
            },
            "type": "scattergeo"
           }
          ],
          "scattergl": [
           {
            "marker": {
             "colorbar": {
              "outlinewidth": 0,
              "ticks": ""
             }
            },
            "type": "scattergl"
           }
          ],
          "scattermapbox": [
           {
            "marker": {
             "colorbar": {
              "outlinewidth": 0,
              "ticks": ""
             }
            },
            "type": "scattermapbox"
           }
          ],
          "scatterpolar": [
           {
            "marker": {
             "colorbar": {
              "outlinewidth": 0,
              "ticks": ""
             }
            },
            "type": "scatterpolar"
           }
          ],
          "scatterpolargl": [
           {
            "marker": {
             "colorbar": {
              "outlinewidth": 0,
              "ticks": ""
             }
            },
            "type": "scatterpolargl"
           }
          ],
          "scatterternary": [
           {
            "marker": {
             "colorbar": {
              "outlinewidth": 0,
              "ticks": ""
             }
            },
            "type": "scatterternary"
           }
          ],
          "surface": [
           {
            "colorbar": {
             "outlinewidth": 0,
             "ticks": ""
            },
            "colorscale": [
             [
              0,
              "#0d0887"
             ],
             [
              0.1111111111111111,
              "#46039f"
             ],
             [
              0.2222222222222222,
              "#7201a8"
             ],
             [
              0.3333333333333333,
              "#9c179e"
             ],
             [
              0.4444444444444444,
              "#bd3786"
             ],
             [
              0.5555555555555556,
              "#d8576b"
             ],
             [
              0.6666666666666666,
              "#ed7953"
             ],
             [
              0.7777777777777778,
              "#fb9f3a"
             ],
             [
              0.8888888888888888,
              "#fdca26"
             ],
             [
              1,
              "#f0f921"
             ]
            ],
            "type": "surface"
           }
          ],
          "table": [
           {
            "cells": {
             "fill": {
              "color": "#EBF0F8"
             },
             "line": {
              "color": "white"
             }
            },
            "header": {
             "fill": {
              "color": "#C8D4E3"
             },
             "line": {
              "color": "white"
             }
            },
            "type": "table"
           }
          ]
         },
         "layout": {
          "annotationdefaults": {
           "arrowcolor": "#2a3f5f",
           "arrowhead": 0,
           "arrowwidth": 1
          },
          "autotypenumbers": "strict",
          "coloraxis": {
           "colorbar": {
            "outlinewidth": 0,
            "ticks": ""
           }
          },
          "colorscale": {
           "diverging": [
            [
             0,
             "#8e0152"
            ],
            [
             0.1,
             "#c51b7d"
            ],
            [
             0.2,
             "#de77ae"
            ],
            [
             0.3,
             "#f1b6da"
            ],
            [
             0.4,
             "#fde0ef"
            ],
            [
             0.5,
             "#f7f7f7"
            ],
            [
             0.6,
             "#e6f5d0"
            ],
            [
             0.7,
             "#b8e186"
            ],
            [
             0.8,
             "#7fbc41"
            ],
            [
             0.9,
             "#4d9221"
            ],
            [
             1,
             "#276419"
            ]
           ],
           "sequential": [
            [
             0,
             "#0d0887"
            ],
            [
             0.1111111111111111,
             "#46039f"
            ],
            [
             0.2222222222222222,
             "#7201a8"
            ],
            [
             0.3333333333333333,
             "#9c179e"
            ],
            [
             0.4444444444444444,
             "#bd3786"
            ],
            [
             0.5555555555555556,
             "#d8576b"
            ],
            [
             0.6666666666666666,
             "#ed7953"
            ],
            [
             0.7777777777777778,
             "#fb9f3a"
            ],
            [
             0.8888888888888888,
             "#fdca26"
            ],
            [
             1,
             "#f0f921"
            ]
           ],
           "sequentialminus": [
            [
             0,
             "#0d0887"
            ],
            [
             0.1111111111111111,
             "#46039f"
            ],
            [
             0.2222222222222222,
             "#7201a8"
            ],
            [
             0.3333333333333333,
             "#9c179e"
            ],
            [
             0.4444444444444444,
             "#bd3786"
            ],
            [
             0.5555555555555556,
             "#d8576b"
            ],
            [
             0.6666666666666666,
             "#ed7953"
            ],
            [
             0.7777777777777778,
             "#fb9f3a"
            ],
            [
             0.8888888888888888,
             "#fdca26"
            ],
            [
             1,
             "#f0f921"
            ]
           ]
          },
          "colorway": [
           "#636efa",
           "#EF553B",
           "#00cc96",
           "#ab63fa",
           "#FFA15A",
           "#19d3f3",
           "#FF6692",
           "#B6E880",
           "#FF97FF",
           "#FECB52"
          ],
          "font": {
           "color": "#2a3f5f"
          },
          "geo": {
           "bgcolor": "white",
           "lakecolor": "white",
           "landcolor": "#E5ECF6",
           "showlakes": true,
           "showland": true,
           "subunitcolor": "white"
          },
          "hoverlabel": {
           "align": "left"
          },
          "hovermode": "closest",
          "mapbox": {
           "style": "light"
          },
          "paper_bgcolor": "white",
          "plot_bgcolor": "#E5ECF6",
          "polar": {
           "angularaxis": {
            "gridcolor": "white",
            "linecolor": "white",
            "ticks": ""
           },
           "bgcolor": "#E5ECF6",
           "radialaxis": {
            "gridcolor": "white",
            "linecolor": "white",
            "ticks": ""
           }
          },
          "scene": {
           "xaxis": {
            "backgroundcolor": "#E5ECF6",
            "gridcolor": "white",
            "gridwidth": 2,
            "linecolor": "white",
            "showbackground": true,
            "ticks": "",
            "zerolinecolor": "white"
           },
           "yaxis": {
            "backgroundcolor": "#E5ECF6",
            "gridcolor": "white",
            "gridwidth": 2,
            "linecolor": "white",
            "showbackground": true,
            "ticks": "",
            "zerolinecolor": "white"
           },
           "zaxis": {
            "backgroundcolor": "#E5ECF6",
            "gridcolor": "white",
            "gridwidth": 2,
            "linecolor": "white",
            "showbackground": true,
            "ticks": "",
            "zerolinecolor": "white"
           }
          },
          "shapedefaults": {
           "line": {
            "color": "#2a3f5f"
           }
          },
          "ternary": {
           "aaxis": {
            "gridcolor": "white",
            "linecolor": "white",
            "ticks": ""
           },
           "baxis": {
            "gridcolor": "white",
            "linecolor": "white",
            "ticks": ""
           },
           "bgcolor": "#E5ECF6",
           "caxis": {
            "gridcolor": "white",
            "linecolor": "white",
            "ticks": ""
           }
          },
          "title": {
           "x": 0.05
          },
          "xaxis": {
           "automargin": true,
           "gridcolor": "white",
           "linecolor": "white",
           "ticks": "",
           "title": {
            "standoff": 15
           },
           "zerolinecolor": "white",
           "zerolinewidth": 2
          },
          "yaxis": {
           "automargin": true,
           "gridcolor": "white",
           "linecolor": "white",
           "ticks": "",
           "title": {
            "standoff": 15
           },
           "zerolinecolor": "white",
           "zerolinewidth": 2
          }
         }
        },
        "title": {
         "text": "Histogram of pitch_y"
        },
        "xaxis": {
         "anchor": "y",
         "domain": [
          0,
          1
         ],
         "title": {
          "text": "value"
         }
        },
        "yaxis": {
         "anchor": "x",
         "domain": [
          0,
          1
         ],
         "title": {
          "text": "count"
         }
        }
       }
      }
     },
     "metadata": {},
     "output_type": "display_data"
    }
   ],
   "source": [
    "pitch_data.show_y_location_hist(\"pitch_y\")"
   ]
  },
  {
   "cell_type": "markdown",
   "metadata": {},
   "source": [
    "# Hitter"
   ]
  },
  {
   "cell_type": "code",
   "execution_count": null,
   "metadata": {},
   "outputs": [],
   "source": []
  },
  {
   "cell_type": "code",
   "execution_count": 18,
   "metadata": {},
   "outputs": [
    {
     "data": {
      "application/vnd.plotly.v1+json": {
       "config": {
        "plotlyServerURL": "https://plot.ly"
       },
       "data": [
        {
         "hovertemplate": "outcome=Strike<br>pitch_x=%{x}<br>pitch_y=%{y}<extra></extra>",
         "legendgroup": "Strike",
         "marker": {
          "color": "#636efa",
          "symbol": "circle"
         },
         "mode": "markers",
         "name": "Strike",
         "orientation": "v",
         "showlegend": true,
         "type": "scatter",
         "x": [
          -1.2789807512293463,
          1.7361967374055753,
          -0.11051309566337664,
          1.8069808894682104,
          0.37286681314558884,
          -0.6753844143192194,
          0.7870849487065771,
          0.9272858324981145,
          0.7066517293107165,
          0.5870676004716153,
          0.6701299254466245,
          -1.332496131799647,
          0.11099680322842598,
          -1.2650233542347642,
          -0.28773501103919635,
          0.8722947056330554,
          -0.30496631425473775,
          1.3734498945339773,
          0.8439341069845011,
          0.2939956051811673,
          0.14289265616706726,
          0.6329502096013866,
          -0.20402687478452192,
          1.4948570430185295,
          -0.4217543114291665,
          0.8554806569179692,
          -0.23515585854558219,
          -0.2979630727272288,
          0.10019701675140319,
          1.0126932698777982,
          -0.16705185640714942,
          -0.764125426800213,
          -0.6227266375863034,
          -0.9718085520469303,
          -0.07455041533724927,
          0.2730498938078846,
          0.2582478733708692,
          -0.06944849608335285,
          0.09470023189389598,
          0.10395573307561334,
          1.2092555191069967,
          0.6910775589749266,
          0.4317893847683103,
          0.14987976826662255,
          -0.0370280461809685,
          -1.4134069228836879,
          1.2810834342316928,
          -0.2254064893258169,
          -0.1518768684892409,
          0.1951217093619707,
          0.41219484017512675,
          1.1876570883804114,
          -0.03732163281288135,
          -0.21894358713186285,
          0.3232001148740761,
          1.9874422214480327,
          -1.3794046288325836,
          0.04312310380766895,
          -0.07838258835796871,
          0.144522951817716,
          -0.40752488108613155,
          -1.1978326655403189,
          2.5716462315766573,
          -1.0788569237403138,
          -1.4339649360607882,
          -0.09947691333907209,
          0.8823954951352465,
          1.6625366212293997,
          0.05505217480223933,
          0.5849599981792162,
          0.4201923635491847,
          -0.35414662540812925,
          0.2942208769730311,
          -0.0958295931641791,
          0.09653271086202832,
          1.3360465654498168,
          0.02947275242658878,
          0.2562778643075526,
          0.025999731273627504,
          1.0192396531734946,
          -0.09798888864263916,
          0.6656254979444699,
          0.2435029218220202,
          -0.8879733317502886,
          -0.17826377848330374,
          -0.4142099742394262,
          0.344997406905831,
          0.4458878523930912,
          -0.8304328550289074,
          -0.8254792137126418,
          -0.74515843068001,
          0.23579990063574513,
          -0.7367925889351903,
          -0.5087962513223874,
          -0.013401065361917807,
          0.10099724717212508,
          -0.40082155759066873,
          0.6368660861038032,
          -1.0568473752108944,
          1.190263189512462,
          -0.6905071614435433,
          -0.48229532218104954,
          -1.292981762207023,
          -0.796021239046306,
          -0.9595234688927246,
          -0.23152653876878324,
          0.6440488870490859,
          0.2730593098372995,
          -0.9433415832380415,
          -0.43686376353627077,
          0.5252128041339683,
          -0.020820941678289896,
          0.22167757081460948,
          -1.2857084170016728,
          -2.099321149161111,
          0.47378012163476013,
          -1.9211357429446865,
          0.9305438699379509,
          -2.7998054494831544,
          0.41574978638778265,
          0.35293995271799056,
          1.7501855484844104,
          -0.4984264188730389,
          -2.0848861312976137,
          1.1251984666886807,
          0.1989564757836512,
          -0.8045817726689315,
          -0.9678144072210405,
          -0.9238993834846718,
          -0.34441403668764387,
          0.11882085303585962,
          0.9866632285929411,
          -1.135057133034252,
          0.6021704083520097,
          0.7116395102387743,
          0.47245523063603745,
          0.9364672016752207,
          -0.13319551687212478,
          0.45745943809605133,
          -0.1613291293797246,
          -0.710358651719629,
          -0.5351014433658211,
          0.8441420495485036,
          -0.8267654919841373,
          0.796660857142781,
          -0.12221349447757467,
          0.4322921265896028,
          0.49990259967134526,
          -0.12571390297477342,
          -0.14128302750871724,
          0.318675136666762,
          0.8386130536596779,
          0.4241518540604207,
          0.6040669274866887,
          3.303367494451122,
          -0.09845066613638932,
          -0.6206360651914302,
          -0.6662801886319188,
          0.8659405145668513,
          -0.9411567159961881,
          0.6609721561021005,
          -0.6580117390517995,
          1.9259177018051343,
          -1.3283453862145533,
          0.4643535465428754,
          -0.8725387518587976,
          -0.6118940741403424,
          2.0160468807692355,
          -0.9858180721156122,
          0.40007847605032276,
          -0.24910214156273275,
          -0.01547439146619132,
          -0.682909886397479,
          0.32316871589895413,
          1.4161802536901436,
          0.9069021266513871,
          0.820539390801031,
          0.05005302306564125,
          -0.005331235628088866,
          0.4465647445056686,
          -0.11629824299858368,
          1.1199641494529602,
          -0.050292658270261845,
          -0.577310822196247,
          -0.7427181380406448,
          -0.2589162716253075,
          -1.5991671735033752,
          -2.203939938136715,
          -1.0859210933478511,
          -0.07651484945819832,
          0.8969899567856434,
          -0.7717849247227079,
          -1.01503042761424,
          -0.6348659628520067,
          0.6222934730602105,
          0.6706790287998424,
          -1.1694834090446078,
          -0.4390011999073628,
          0.4616851251290086,
          0.45650878999149347,
          1.709090197985375,
          -0.9248636000020892,
          0.24234552273057555,
          1.200591364997023,
          -0.7173644185779977,
          1.2962387067013375,
          -0.38774739206266523,
          -0.014926456478831349,
          -0.11330395843476648,
          0.8700058096368978,
          1.0110873930080242,
          -1.0906998123676699,
          -0.22454488560164643,
          0.1060256855262373,
          -0.9245534249490038,
          0.47928062144668593,
          0.94412097003445,
          -0.07108733016687223,
          -0.5108795851157547,
          -0.33867334482709566,
          -0.6593478242050981,
          0.48222929247685026,
          0.8972343847480481,
          -1.1070512092903557,
          0.8995883577767289,
          -0.8665341431208945,
          1.2995187448904344,
          0.2049108039779639,
          -1.9601372345203414,
          -0.6998275520197235,
          0.12393177342191193,
          0.9976754761035502,
          -0.10032008792164843,
          0.15422286771757523,
          0.13845977137051488,
          0.6919594811521615,
          0.7819893694608782,
          -0.8319580792817154,
          -0.4047862998883889,
          0.2079367710868611,
          -0.8190573224740848,
          -0.7825122781195367,
          -1.7066132821746367,
          0.48249965951731777,
          0.35306101611803736,
          0.8388039672777046,
          0.13553979664028673,
          0.18023433727051513,
          -0.7798152072726179,
          0.021019384826107806,
          0.5911387269967213,
          -0.3410372874244235,
          0.35476742571327985,
          0.1075680303783679,
          1.0340432624817915,
          -0.007495058915120717,
          2.431312082741131,
          -0.2575910619753052,
          1.3515292069121705,
          -0.3559630129311595,
          -1.8764293762222715,
          -1.2957558631871253,
          -1.109417415428132,
          -1.031716381269898,
          -0.25494930071075744,
          -0.6685317243628569,
          1.3519366495925296,
          1.3324267161886054,
          0.4096736303016546,
          0.3757622515849827,
          -0.5431390849905398,
          -0.4746931590583144,
          -0.6495238695134895,
          0.5818964716615619,
          0.37473366190273305,
          -0.7774387152300288,
          1.457905952714723,
          -0.35717377218233554,
          -0.3966446737967032,
          0.44419121638247994,
          -0.21865455235726028,
          1.8778067146377513,
          -0.4583232102958017,
          -0.5759884515811775,
          1.312388524830812,
          0.7711033195977745,
          0.8895274640303644,
          -0.0006579731575755707,
          1.2279958289685327,
          0.9935111963471797,
          0.28943660583606573,
          -1.286666863592573,
          -0.9162831143487702,
          0.325693804667896,
          0.2994451373101293,
          -0.3270557586178824,
          -0.5789069389325683,
          0.3573221865270936,
          0.2406280533474445,
          0.20873352635593156,
          -2.5415063006289604,
          -1.2584344154879628,
          0.4393444816255362,
          1.220175830058574,
          0.6484875702572526,
          0.5148731562226248,
          1.3433258067615892,
          0.07621815487413845,
          -0.7401043002809624,
          -0.2659926074221807,
          -0.07983532202961136,
          0.4857028501895418,
          0.4620189638730516,
          -0.1259367411735758,
          -0.2884723439005721,
          -0.08728181623725075,
          -0.8504575545937132,
          -0.2678620348793831,
          -0.7320320666737259,
          -0.615384180802114,
          0.9676495022330734,
          0.5985351785623938,
          1.9893990012800362,
          1.1186074827689227,
          -0.1139000316596568,
          -0.7874979473787271,
          0.6496747101966451,
          0.41739844101970286,
          0.3774682942218778,
          -1.3401447223043061,
          -0.35034663591552495,
          0.4645983296217004,
          0.2443930327558801,
          0.19791882532714525,
          0.7552609822880006,
          -0.13809430359839323,
          0.955638607195501,
          0.14371053647827584,
          -0.637862072499181,
          -0.08975855320110536,
          0.870252645886783,
          0.4081131877481212,
          -0.25093743660032797,
          0.9479440445300824,
          -0.9451530761377613,
          1.7014487980912192,
          0.046022666015771374,
          0.24832161597740002,
          1.2456993843703368,
          -0.3023821791700719,
          1.2741812696044126,
          0.037444377264564954,
          0.7213839511932155,
          -0.8085371759546511,
          0.868793986749616,
          -0.5967972376739763,
          -0.07974851355117836,
          -0.0021449356540953453,
          -0.7109953738848744,
          -0.821094055769224,
          0.6757970972483693,
          -0.8178139298729484,
          -0.23307784014892707,
          -0.2133163845747941,
          -2.687522982303862,
          -0.1736625002900736,
          -0.035408885275587505,
          -0.6542124758401455,
          -0.19393824751635724,
          -0.819342707712849,
          1.1417931581708503,
          0.13552380812076237,
          1.0767764157147013,
          0.9288028647336857,
          -1.1093235706070474,
          0.33862812898450617,
          0.9136205896756999,
          0.317531598697071,
          -0.496870110970157,
          -0.9697185758937356,
          0.020750162120069145,
          1.2695313086058404,
          1.3911498470774535,
          1.2323062575952566,
          3.128643238066715,
          1.5941261176463135,
          -0.9835275907449138,
          -0.7073052819065679,
          -1.6020437843267161,
          0.8598272298480963,
          0.25403781976836387,
          0.8301462594655206,
          -2.0119015869918857,
          -0.9018156496157097,
          1.2030380623394523,
          -1.8626861344058032,
          -0.253459611788018,
          0.776073500601958,
          1.3434772498108138,
          1.3481746614174215,
          0.08993218476336715,
          -0.4426737816571337,
          0.6346797864626083,
          -0.08754751235153704,
          -1.0846283469102165,
          0.04582437453465937,
          1.6821225617007898,
          -0.8017301243334898,
          -0.15574158362734677,
          0.8836426290373032,
          1.2892874201576874,
          0.20892132184405054,
          0.19763524841229863,
          -0.2368935067368787,
          0.38665315558155466,
          0.04593740615850563,
          -1.6333331836816491,
          0.83124246763508,
          0.419766214684028,
          0.17771578224758441,
          1.487589636054903,
          0.38971156950906877,
          0.5556820413296444,
          -2.141986616783258,
          0.055599412334504036,
          1.1009585887532918,
          -0.018805865034690752,
          -1.1827532945059867,
          -0.8305996715608509,
          -0.17352832519417447,
          2.2133714046609914,
          -0.7641596064864282,
          0.2447489445983202,
          0.08176955794192466,
          0.9020367794656271,
          -0.3667950684153137,
          -1.0263761615305351,
          0.6722518266376103,
          1.7222637181500937,
          -0.732090409532987,
          -2.3363891280317475,
          -0.4042963474227496,
          0.8451152049252438,
          2.1517774931211298,
          0.24684009386644706,
          0.2780122205196332,
          -1.0639533854876075,
          1.1692681172007382,
          2.411273129255829,
          -1.212221682942273,
          -0.050784570487730864,
          0.36544433805801196,
          -0.5885619642069805,
          0.7666656942036236,
          -0.5594044708386874,
          -0.02623476077041917,
          0.36615141279462154,
          -0.023192004251376283,
          1.2873089822061912,
          0.17851491457368235,
          -0.15514195033139958,
          1.102607560004193,
          0.6141275662757003,
          0.6402969316395943,
          0.5175011521419061,
          0.6713423992648297,
          -0.3861703837121351,
          0.5106404226617931,
          1.6227837371817906,
          -0.8110198178239438,
          0.1322904243962859,
          -1.2874918414361756,
          -1.3155575520855964,
          -0.9851786483588779,
          1.4980490169412926,
          0.6057337429046046,
          -0.7936256121449276,
          0.5256770638744566,
          0.4175870993193855,
          1.276232597385252,
          0.01790223712389392,
          0.43925490714118115,
          -0.7098681545555294,
          1.563367168177966,
          -0.6090086113869032,
          -1.0477048627063572,
          0.6711374969304609,
          -0.25864967846022696,
          0.39897414581331203,
          1.2040166644578056,
          -0.8965668486283113,
          -0.4106224258168291,
          0.665188981972332,
          -0.7656913313057984,
          0.5902736724697304,
          -0.32375183946240704,
          0.6709623061796458,
          0.3366792504451775,
          -0.2370725602729613,
          -0.47900109924833106,
          0.8870581314585331,
          -0.169592777569134,
          0.4936358555234033,
          -2.3195043705872256,
          -0.39146804113612976,
          -0.4782710307621768,
          -0.6436475115140051,
          -0.9045501655856883,
          -0.4762520255974443,
          -0.20847792261170145,
          -0.49741617306484825,
          -0.105990907500548,
          -1.128718132988246,
          0.31445663020411474,
          -1.3601560774766603,
          0.6406455949179982,
          1.1395563246291747,
          -0.692061914340717,
          0.6316233056044619,
          1.5392510312322207,
          -0.367349238105609,
          -0.7991540437535175,
          0.7148439547069031,
          2.449361334861028,
          0.05987604191420997,
          0.20770209367537032,
          0.24107313874021968,
          -0.17552052753185082,
          1.5267323459099387,
          -0.16034600429689394,
          0.35667278978560596,
          1.252164157401114,
          0.005567626087514158,
          -0.8355194744600034,
          -1.6829763247746297,
          -0.12465944746363071,
          0.5043251948198961,
          0.053939145655181375,
          0.2863306586764366,
          0.4633055054652083,
          -1.0573763106998522,
          0.9120070666995755,
          -0.7912178684309374,
          -0.7713165266042097,
          1.1233889023163515,
          1.467135286474647,
          -1.5883897425095121,
          1.8350788894557355,
          -0.0509230401599401,
          -0.6056177893901192,
          -1.0889895592577632,
          -0.11513551155453251,
          -0.40914072267189017,
          0.4036322590702728,
          0.5247544745877926,
          1.8875051508982228,
          0.7861089562286283,
          0.022398805346436016,
          -0.20954758143052374,
          -1.3713601431032991,
          0.39227332994755615,
          -0.9866153699700242,
          -1.0378981516194739,
          0.4741685987369631,
          -0.8807093488053042,
          -0.022625396955336413,
          0.3940261447720775,
          0.18244528241158361,
          0.6425497842438113,
          0.44607476572076354,
          -0.054524510260505366,
          -0.2253595898218316,
          1.2304072211879329,
          -0.865164968525319,
          0.4793957777071464,
          -0.19646442018196664,
          -0.38091687318485856,
          0.7348882176496644,
          -0.3364906872090327,
          -0.20524464030371078,
          0.036562511810222575,
          -0.3523400813043103,
          -0.8597770481414719,
          -0.3119868478970179,
          -2.076767001116293,
          -0.8931168577637744,
          0.27538918176701477,
          0.13907443928358335,
          1.4842802929967154,
          1.0751991867469908,
          -1.9244995512521437,
          -0.5843807714821332,
          0.37995433722927885,
          0.6203275778024828,
          0.9550186279020306,
          -1.3619201614194998,
          -0.5011507230752807,
          -0.8372480752971027,
          -0.26748931288559874,
          0.07687193144975779,
          0.523773346327765,
          0.3579662647776383,
          -0.0709262655373559,
          -0.5826588231479674,
          -0.30882907617552324,
          -0.5555999768603533,
          -0.609910738453988,
          0.7499033780941949,
          -0.2243517943392383,
          0.8667042277728984,
          -0.8072974217500254,
          -0.04877770092820249,
          0.25704398710489373,
          0.9336611734278342,
          0.6888860360568555,
          -0.2108437251431367,
          -0.06992161421299785,
          0.8485609034540218,
          -0.8122727824096335,
          -0.2023254910501712,
          0.1635532080104141,
          0.7388491782284753,
          0.6631943712299234,
          0.9879093977500147,
          -0.13235648059095664,
          -0.14593627094097716,
          -1.4158796631278328,
          -0.9577033430589523,
          0.12757188408558168,
          -0.32517737396518964,
          -1.0105072576848266,
          0.6464903191722218,
          0.5366186093825945,
          0.33939288086945013,
          0.09650910191076996,
          0.6274123231484267,
          0.2907244192009012,
          0.17922778387608812,
          0.7540773730482986,
          -0.6897423396692457,
          -1.226426610975251,
          -0.8164059908047778,
          -1.391352097777029,
          -0.13107276606150497,
          -0.5934840151787177,
          0.19982510934858047,
          2.4731526552906065,
          -0.04311726681614992,
          0.7355061117996692,
          1.4505946104735359,
          -1.0717452856401528,
          -0.49938160875603305,
          -0.5316336389523586,
          1.6780734447721035,
          0.8324959979150092,
          1.2743742458245932,
          -0.549027725998868,
          0.0884796187454592,
          -0.6648887381606224,
          -0.24248450970320615,
          0.507016921514302,
          0.20392609075460408,
          1.117384954322821,
          0.9830334787452337,
          -1.8917324879816202,
          -1.283618277267178,
          0.06818052682795289,
          0.3195186051662751,
          1.500583971698569,
          -0.3248059607987212,
          1.16881003864309,
          1.2248484016133754,
          -1.0757462550642864,
          1.930190260748275,
          0.5407666490070332,
          -0.6783298331727983,
          0.39947580474617495,
          0.8212352959100266,
          1.5090166560139493,
          -2.6299141433178437,
          0.24833861966387477,
          -0.28674035444860513,
          0.4107653828119768,
          0.2540874116718358,
          -1.3361249458035604,
          -1.1226249838696554,
          -1.633252748154161,
          0.03741628632191946,
          0.3102600335070781,
          -0.21117574652064258,
          0.994345320284939,
          0.7856893942780871,
          -0.47036243165505065,
          0.13901382387515923,
          -0.6004310648078632,
          0.5303545151316036,
          -0.21720418892128343,
          0.33173256857141303,
          -0.7333043389568508,
          -0.5269933693352719,
          0.9509910910700328,
          -0.8106568308973168,
          0.334624732046157,
          -0.6270183256933685,
          -1.5248161386562682,
          0.38568270850807596,
          -1.004740064335483,
          0.6789205164758099,
          -0.31841979631645223,
          1.1060822149502207,
          -0.6956523423020728,
          0.1322233436365961,
          0.8193245998178216,
          0.9769303199185106,
          0.0756009783512861,
          -1.5655836383848212,
          0.251245275243499,
          0.8653545138180914,
          0.5512205983192076,
          0.47921696642635275,
          0.6971233338314089,
          0.20837949431163458,
          0.14366074675270774,
          -0.9057006895122285,
          -1.3356049600291995,
          1.930086660558264,
          0.7779924436584753,
          -0.16060498301736514,
          0.4021164598110018,
          -0.8801228258363715,
          -0.9322034061758937,
          -0.8908893555727762,
          0.7768216340770253,
          0.7615510686469529,
          -0.19997608614064183,
          0.5594304479823461,
          -0.4146787242572505,
          0.5197331359466638,
          -0.6873107181283743,
          -0.512593218528308,
          -0.8574337345353041,
          -0.7573203273966442,
          -0.6737610152106315,
          -1.7976008321374857,
          -0.5891631582914147,
          0.5667397612324329,
          0.08570758538836552,
          -0.5810078803008257,
          -1.3616412920294156,
          1.0050158078418112,
          -0.5280705880316511,
          0.4295129213698193,
          -0.40281337546972895,
          0.2816577641832872,
          -0.17973289882630164,
          0.08433539163882188,
          -0.8438931934718027,
          1.8226131640199987,
          1.578015743318079,
          -0.10278799368785986,
          -1.6568985925676836,
          1.0730812327254706,
          0.9849716654444882,
          -0.12235690324846299,
          -0.4622198400794093,
          0.7949476700929378,
          1.8383455892136038,
          0.24871351264791977,
          -2.068889318170268,
          -0.3884494040092552,
          0.4814105881152861,
          0.40951080006745105,
          1.8189788881871771,
          0.234669989349547,
          0.10544028916557878,
          -1.542914585256927,
          0.3929802809926625,
          0.643762822699811,
          1.9513320705032953,
          0.760032619988376,
          -1.1016760166555775,
          0.8022588472499885,
          0.547832058434315,
          -0.19396126290062946,
          1.0510965325156707,
          -0.7493976975960125,
          -0.9408641417425228,
          0.5180112928428479,
          0.9207262282891461,
          0.2507418507457452,
          -0.4613802790809626,
          0.3677706250071247,
          -0.16162984709275177,
          0.5546636512410603,
          1.4354063890911242,
          -0.9196580809262603,
          0.2907546909530202,
          -0.7369721518387289,
          0.02471998944331548,
          -2.2092271827091547,
          -0.1180769444039218,
          0.0021958646903063933,
          -0.02519733159577499,
          -1.206429072066325,
          0.2827362885978867,
          -2.410195735169461,
          1.4526086631851827,
          -0.03857974751742165,
          -0.6850647962619619,
          0.7128377480578945,
          -0.5344843990924358,
          0.6764003223914471,
          -0.6109494796307715,
          -0.9526588930320609,
          -0.5723123583351667,
          1.1089887362882016,
          0.2648720401005781,
          0.17893658311064786,
          1.0814506566495048,
          -0.30206811717904847,
          1.1479282601876521,
          0.7879308772556574,
          0.5650848228187626,
          -0.44426647854604423,
          0.651937293992866,
          0.4313773287864796,
          0.8708439290860521,
          -0.9369219182210742,
          -0.7335110809114512,
          -0.6456477977034446,
          -0.09798474517827199,
          -0.9533715419427439,
          -0.521745761298889,
          0.8572996798305033,
          1.1439343505797295,
          -0.5311622820479063,
          1.4435343754257757,
          0.9933325271871202,
          -1.1271408122788689,
          -1.416729736136105,
          1.5521709134791157,
          -0.01789294158849402,
          0.4881048368994227,
          1.8639721452780709,
          -0.7667570093808295,
          -0.4893529746408067,
          -0.8389818292188762,
          -0.876787348192026,
          0.26642600745660533,
          -0.08546166928295792,
          -0.26466385773134615,
          -0.6409024967204868,
          0.7381492502260375,
          0.1671232481218248,
          -0.5690726288968817,
          0.6069394920140009,
          0.13983472345469505,
          -0.3943445481200264,
          0.45188112040067746,
          -0.4456573167336027,
          0.5440974356914285,
          0.006883950588729321,
          2.4829307907530267,
          0.9716661323009715,
          0.17570573821002486,
          0.48380110521706565,
          0.15896741076707382,
          -0.3101688903442153,
          -0.029306960875077673,
          -0.3349497498279041,
          -0.11556674309762648,
          -0.8532068818782119,
          -0.14737912510634246,
          -0.17983150783660856,
          -1.3195865497156716,
          1.1263670456874495,
          0.34008949873067906,
          -1.0875683257409514,
          -0.5206549580209856,
          1.4092626623737972,
          -1.731916837402642,
          -0.28876886278613845,
          -1.1721845857955204,
          0.7915945073973096,
          1.874811847192593,
          -0.34859611731861034,
          -0.13175010973269544,
          0.2899532099854235,
          -0.3390202359946595,
          0.1049431362845375,
          0.8168063033374124,
          0.2550416538450668,
          -0.6175576192209493,
          -0.5854777865171555,
          -0.8463746084434264,
          -1.8381214081964559,
          1.2308504322537095,
          -0.8427786112240131,
          -0.10779533618060387,
          1.2675516387599193,
          -1.0445113565710928,
          -0.6602053322657601,
          0.11152592156003116,
          0.9990123491501597,
          0.054171235579910076,
          0.5225778405721987,
          0.07687197181165867,
          -0.19213269481847609,
          -0.9183899237935844,
          0.005598966957674623,
          0.43862880494138295,
          0.6697309910008532,
          -1.0887578023405369,
          -1.169038139057121,
          2.0487253560704066,
          1.4266471255106685,
          -0.21787675761988456,
          0.18442747310197827,
          -1.5960899519141911,
          -0.25595360355045355,
          0.6431075912639557,
          -1.9254662550570134,
          0.03544527919244008,
          -0.222108144113329,
          -0.6943756279943268,
          2.2804993652934042,
          1.9730611599511405,
          1.824368174436886,
          -0.5250180557035725,
          -0.025021781050396874,
          -0.317250885029101,
          0.43917432206915996,
          -0.864501965657357,
          -0.12826189246060513,
          -0.47839242916163766,
          0.10585264738751857,
          0.6693658708335865,
          -0.5860597130526157
         ],
         "xaxis": "x",
         "y": [
          -0.2333119917223724,
          -0.5649618105861883,
          0.266130729058286,
          -0.12413707478808682,
          0.29046031340326295,
          1.3939102545931419,
          -0.5170412590580113,
          0.8544399752985824,
          0.8986466835792122,
          0.2543778992530417,
          1.2777693723055354,
          -0.5601700005065194,
          1.4187547759752797,
          -0.5601814354218116,
          1.0876178883452445,
          0.0734024333876893,
          -1.0046357075623076,
          -1.476406970705078,
          -0.9072465157881863,
          0.051496131855885315,
          -0.2355742996729903,
          -0.15406946396952195,
          -0.9110940341474689,
          0.6631144741662879,
          -0.01267415366032682,
          1.041400494289545,
          0.37040507245344984,
          -0.01965811965959439,
          0.8191474161188783,
          0.29073661665351946,
          1.1961525397545614,
          0.19730906033354223,
          1.534273003774395,
          -0.6796240704068812,
          -0.689871700241239,
          -1.2623947473929193,
          -0.055309059674650475,
          0.47946219134663404,
          0.11139674453151298,
          -1.005426725490802,
          -0.280405376290708,
          1.6934766073879655,
          0.19874162092452077,
          0.23726476670799726,
          -0.6446795668041744,
          0.8976897649818445,
          -0.5213561804607332,
          -0.05768641298672542,
          -0.545000891849191,
          -0.7476939404359224,
          -0.7467479669751622,
          1.6803221063536018,
          0.29373850908864624,
          -0.04430816817837219,
          -0.7623982431449162,
          1.2465506917689113,
          0.34057491920816074,
          -0.3607330111391879,
          -0.3144495950598181,
          0.892425391819002,
          -0.8917323331263165,
          0.28401702112174687,
          -0.49890072558617266,
          1.3566393245288177,
          -2.9729142288856414,
          -0.278951337878788,
          0.40719776841651634,
          0.5530060861625637,
          -1.0648048129297019,
          0.4864095364760806,
          -0.5862007173908346,
          0.1630817383022811,
          -0.21914604971250903,
          -0.3305231334136408,
          1.0848725351254387,
          0.8722709086570305,
          -0.27316889477972683,
          0.33187121989454477,
          2.233669999476768,
          -1.3483474189543254,
          0.9594448071072534,
          0.5506593400210223,
          0.04156455186629938,
          0.5431727412748101,
          0.2796966024838516,
          -1.3046590156826954,
          0.8590148572895405,
          -0.6152124058134715,
          0.38262440481252274,
          -0.16938962216346723,
          0.8533235957808651,
          0.6126828409020301,
          -0.15464384532981043,
          -2.3787481647870212,
          0.9285168402383953,
          0.7045407193944397,
          0.7697605476390719,
          0.48065618968071355,
          0.021101270172252582,
          1.4019695814432531,
          0.6517257938349095,
          0.5578753306011378,
          -0.5317876847300325,
          0.37917360163387864,
          1.3960580500737456,
          -1.8336237724237585,
          -3.2547694804359586,
          -1.991188042930331,
          0.6296659565008736,
          2.027832274606016,
          0.9043674310818756,
          0.9213547531661401,
          -0.5405886655953256,
          0.09454091176277599,
          1.1238137923206846,
          -2.1927523519857814,
          -1.2076021968362163,
          -0.8247285764453501,
          0.45601672573393426,
          -1.7246323059660889,
          0.06604795537898418,
          0.12549310594685423,
          1.250082762200963,
          -0.2443556651677273,
          0.21169514292372393,
          1.0262219611007308,
          0.9458837682264115,
          -0.47311527559770006,
          1.0492063401265195,
          0.2977758852248384,
          -1.8241330498150425,
          0.480081571723147,
          -0.6067645086966459,
          -0.9546054468540078,
          -0.5331119321212322,
          1.4303940050340829,
          0.7899073520237946,
          -1.655024863204735,
          -1.6708042908103977,
          0.05271509657040265,
          0.7240070858714778,
          0.09359787365746743,
          0.2426981213913199,
          -0.572011660592569,
          0.9084431942876728,
          -0.2086834903303462,
          0.4774734193992787,
          -0.16411128493936214,
          -0.6310388642829325,
          1.298840875034485,
          0.10961848900932585,
          0.9547104629613198,
          -0.20209683693928787,
          -0.6596528395089006,
          -0.5912540675056948,
          0.39461722864260085,
          -0.10242628705802162,
          0.4267238516706124,
          0.39360620371633065,
          -2.3628165727949093,
          1.3366505432450295,
          0.3831487986650203,
          1.6325247347237095,
          0.12156601935687611,
          0.9794165017212793,
          -0.03189275071480222,
          0.8216606545023418,
          1.5026209434397142,
          0.44362015532650645,
          0.6311020642207301,
          0.06292437429653465,
          0.16499660334153596,
          0.4187374557247933,
          -0.17346257459221368,
          0.11367439587304748,
          -0.3814349499385528,
          -0.24007889883915856,
          -0.059368531191608176,
          -0.8445687490690978,
          0.1851457535487888,
          0.5282508162272387,
          0.375663865690056,
          0.13865491991571569,
          -0.4007698455451983,
          0.7590089429256697,
          -1.0191586472139655,
          -1.2250153308515572,
          -0.9881068450156812,
          -0.647675322361095,
          -0.712189154609588,
          -0.6497792684662481,
          -2.609510849849024,
          -0.7296671858371273,
          -0.7395569423268205,
          -0.7628752037013781,
          0.39544471005077353,
          -0.20670715911447188,
          1.867670491836323,
          1.2104444578568065,
          -1.1930817139683012,
          0.5041066296753384,
          -0.17186524637351366,
          0.09949064328014556,
          -0.9078020294478426,
          0.11594173980336601,
          -0.3777068095803577,
          -0.6176157459715738,
          -0.7832864705210577,
          -0.533910516021136,
          1.3311312720498534,
          1.0892022464740156,
          -0.43623364165763245,
          1.1137588079298266,
          -0.40498202372243636,
          -0.4726486310721164,
          0.05151444191994539,
          1.0279682384788678,
          -1.239717155620412,
          -0.2542002232073376,
          -0.4680459918095605,
          0.6193357072999274,
          -1.3162692309445627,
          -0.6811835080352605,
          -0.050405919913028646,
          1.2227568909046158,
          0.837687399544511,
          -0.48081146874465275,
          0.7525878041866749,
          0.7873471006500132,
          -0.6555425754022552,
          0.8488880470288197,
          -0.21402509974529488,
          -0.3825069515243987,
          -0.3380138047350915,
          0.20378281464682613,
          -0.5855657319971944,
          -1.432090022986863,
          0.35674734468713054,
          -1.1019397288254766,
          0.3363110309271805,
          -0.5003345582417486,
          0.42822686637696716,
          -0.44939213658628396,
          -0.3648559023150625,
          -1.4709589753911827,
          1.2396981494637043,
          -1.024405435987566,
          -0.8996619449152208,
          1.0305333222197395,
          -0.28711070650658965,
          0.04155648707112448,
          -0.8137101097922841,
          -1.0530309780392157,
          -0.7694458227776498,
          -0.45895087220895486,
          1.327633004651617,
          -1.1358482028651737,
          -0.34542387894562715,
          2.1420170433109362,
          -0.28024499216201615,
          -0.6545677390710117,
          -1.7309702195719325,
          1.6685931608654019,
          -1.4393052640552646,
          0.19357372558170327,
          -0.7650630604785719,
          0.4783490786453689,
          -0.6819551347561758,
          1.2581969103638913,
          0.9055764923940914,
          0.04831109892375746,
          -0.8299422012424514,
          1.3969880034632054,
          -0.5228430766708422,
          -1.834172798982475,
          -0.31774420552120675,
          -0.6904674817160182,
          0.31824621845324347,
          -0.19839105661765943,
          0.6185971792958448,
          1.497909681674592,
          -1.592607139689492,
          0.6656241338196092,
          0.12446943248511237,
          0.018971583708963978,
          -0.35993909992930667,
          -1.6727390423041988,
          -0.8274024920909601,
          0.2660421359846695,
          1.069874507883123,
          -0.5921404035262433,
          -0.21136009174117387,
          -0.00036151607604122127,
          -0.11114894672069311,
          0.17947725107862517,
          -1.0530560158617484,
          0.17280096701086228,
          0.8897184933000454,
          -1.317784687460322,
          -1.145815623036003,
          -0.048640346555099974,
          1.9539056196782418,
          0.5768731025597695,
          0.6676399837586683,
          -0.12507003326432392,
          -0.12014216834779885,
          -0.7427435077386363,
          0.39136217001919954,
          2.397852320408661,
          0.060234031060541246,
          -0.42735919923760723,
          1.6842756507593761,
          0.09201385026991525,
          -0.9917888661097554,
          -1.824160729866744,
          -0.12919635900837406,
          -0.22324224037413876,
          0.3129622532208776,
          0.6797487477274753,
          1.6814734689143056,
          0.6660577509664442,
          -1.4644056423826095,
          0.3173391156210439,
          -0.31380021242798795,
          0.08836563132619281,
          1.4979818519522314,
          -0.7806423632610275,
          0.061789151395237524,
          0.5114744996926984,
          0.4028607856402558,
          0.33883481407280797,
          0.6580563822668679,
          0.6827411731228131,
          -1.0438621485646018,
          -0.21304588937609353,
          0.7168128434780491,
          1.1671442262065905,
          1.1698578695173762,
          0.3245056150142566,
          0.6832016833097373,
          0.14558211417714437,
          0.48730320917628095,
          0.9077763603258417,
          0.19984039966810413,
          0.26491799700019747,
          0.15416148996608137,
          -1.2348189751155962,
          0.8062023748452678,
          -0.5306547508823776,
          0.45763426736582224,
          1.1845156797400829,
          0.27037318767862095,
          -0.4658555171874834,
          -1.6072201514550446,
          0.9936877836661208,
          -0.20217896281486225,
          -0.3383959217075834,
          -0.24820256008369282,
          -1.4783737844981162,
          0.4123373567348318,
          -0.08438531255180672,
          -1.3218282103205308,
          0.48492975384778225,
          0.7848240164207329,
          0.10850800171088514,
          0.6676579530396327,
          -1.614032573995286,
          -0.6225605820240183,
          -0.7890188706787943,
          -0.2556907028173095,
          -0.7954802461578686,
          -0.18048857703961604,
          -0.3763255941134634,
          -0.2534258530313882,
          0.7164060281661025,
          -0.9039226987560668,
          -0.37933168924325594,
          -0.21828773633052576,
          0.02439766577374498,
          1.6980837491474192,
          0.7310156129398503,
          1.4290089511455182,
          0.4267187766532473,
          -0.6213337045072562,
          -0.7842953997411078,
          -0.9721144116717789,
          -0.38757890483050744,
          0.9588409661322598,
          -1.3345147894405744,
          0.2533053489906964,
          0.9973475641142036,
          -0.6866992002784481,
          -0.7503714762731544,
          -0.033595779622322984,
          0.35702571130227245,
          -0.5661618765676548,
          0.8330942855925025,
          -0.28982250005237914,
          0.31907668625034386,
          -1.102915425948524,
          -0.15938284839966002,
          0.4786985051690986,
          -0.4503873244684704,
          0.05834361985585871,
          0.9453559544820679,
          -0.25682408958413816,
          -0.13114235753176115,
          1.7175181779790487,
          0.6601896098926261,
          -1.1374447937649186,
          -0.6823587558509753,
          0.16984755500386717,
          -0.6575758717401319,
          -0.3740025916700153,
          0.732284202208702,
          -1.26566323700661,
          0.6365966768106283,
          0.4503154662586653,
          -0.44505633560216057,
          -0.16248609656779345,
          0.5888910344096089,
          -0.23332733633556532,
          -0.7248015400202231,
          -0.46815459856749675,
          -1.7472966662166893,
          -1.13774377271883,
          -0.24901248939070253,
          0.26507818255959736,
          1.7092554769547503,
          0.7945556994157664,
          0.570193223799307,
          -0.37166432492160967,
          1.0611143015836808,
          0.16988959874318468,
          0.41035250474387963,
          -0.5183693183608913,
          0.7539896208757232,
          -0.43428862874683094,
          0.10802945967519209,
          -0.20912005744354967,
          0.24559271607308872,
          -0.7057941660539845,
          0.44855287834364893,
          1.7303069868783207,
          0.6646358727594744,
          -0.060818080681181934,
          0.32154599170053144,
          0.5923765241555581,
          0.9524393963316792,
          0.27179644129046177,
          -0.03406437615440357,
          -0.4154835382442256,
          -0.6497920826612567,
          -0.4452490197930937,
          -0.4214194924783851,
          -0.004581427975442171,
          0.01602446802060596,
          -2.1568820851485033,
          -0.18158651453619745,
          -1.7082738900055092,
          -0.34232342167374535,
          0.89243817722647,
          -0.7710863743641035,
          -1.017542976622353,
          -0.07052370705568288,
          -1.085047807090155,
          1.2681816045959011,
          0.08830743591815117,
          -0.660474518531979,
          -0.6173140976530432,
          -0.018404356426102022,
          -0.32936699663085417,
          -0.6492018971416867,
          -0.0969557450715096,
          -0.13822714082547446,
          -0.18305745546962027,
          1.5250808911530302,
          -0.07708999136249466,
          0.6907852194195245,
          -0.17909394485194996,
          1.2128279278310397,
          -1.3611999126571528,
          0.24600789862958253,
          -0.9790077913665853,
          0.49280055506030407,
          0.25751630854585084,
          -0.5909094528139471,
          -0.23548356381746416,
          0.2534013265076671,
          -0.9206959232441418,
          0.9008639808486352,
          -0.14630615073007686,
          -1.3796203734612826,
          0.4481556662659136,
          0.2210381397347678,
          -0.29960427901061465,
          -1.2105423154753618,
          -0.4983452614493674,
          -0.3836988116816125,
          -0.9777385348513457,
          0.1783895446236525,
          0.5032751924606461,
          1.4503737048314742,
          -0.9382741621088819,
          -0.4492955558682624,
          0.10174360786994852,
          0.10779895859317878,
          1.6128992994657212,
          -0.11441724889733518,
          1.0381878223040206,
          -1.4074527139592088,
          -0.22566277174219251,
          0.749092620634205,
          0.1259989132521923,
          -2.0240395049109208,
          0.7274224343647416,
          -0.7639959948883536,
          0.35465030919658763,
          -0.05112764467298913,
          0.3402858536943627,
          1.098380765433114,
          -0.060790563626672234,
          0.20593697449313791,
          -1.250726447391216,
          -1.3272381937139832,
          0.9274549901143856,
          -0.5004254175275347,
          0.2704863722883994,
          1.497558130282213,
          -1.9182505155145737,
          0.5069873758304444,
          -1.2510848962545345,
          -1.0854124493997865,
          0.08666727825975007,
          0.5279745613447638,
          -0.1459600692021441,
          -0.5256564966819132,
          0.043227386800726415,
          -0.03555634539740484,
          -0.3067880571568443,
          -0.8824579761667724,
          0.5639021356003834,
          -0.6951638702524884,
          1.0681712007779172,
          0.6642430114900699,
          -1.7100618941260197,
          1.3710356599837192,
          -0.056443762863501584,
          0.5244328739288078,
          -0.8346091611063678,
          -0.21788968615664905,
          0.14700754890320042,
          -0.3203550056595184,
          -0.3946978777282377,
          -0.013553497813663218,
          -0.0423650501126553,
          0.09021494680295418,
          0.48122779808662086,
          1.0481901174143737,
          -0.43326204148083414,
          -0.008410761045485018,
          1.6050639378576936,
          0.6209311804412476,
          0.8024422085489247,
          -2.4303686569823957,
          0.17420047948429332,
          -0.7546403624035816,
          -0.052599097134652426,
          1.5382556630876445,
          0.010900367546146138,
          1.136542109050237,
          0.6524097208689473,
          0.5755944573966024,
          0.17259906145600304,
          0.660445948619766,
          0.5513997105735273,
          -0.5678814304455502,
          -1.1131705443304531,
          0.3022165759396411,
          -1.6405496375193473,
          -0.12165426378548708,
          -0.7571990341991771,
          -0.7092179189098771,
          0.7397650177748781,
          -0.1674958614989444,
          0.31778446842614627,
          0.6096452538190981,
          0.4141757810959919,
          0.5673568857002058,
          0.409600287147815,
          1.0965112790118372,
          -0.3218429733078093,
          0.08289178022456221,
          -0.896926363650595,
          -0.8214990778016057,
          -0.4558526459585339,
          -0.13822145239232103,
          -0.8136246196174451,
          -0.814099802927321,
          1.5439435634563738,
          1.5380763469605425,
          -0.2122169159875117,
          0.27092249338283503,
          0.2932807299185757,
          -1.3402028834087423,
          1.6140798500761344,
          -0.2889245170353209,
          0.1467668784379845,
          -0.43939442099105175,
          -0.09183767327930001,
          0.8921524662356053,
          1.6076759509063157,
          0.5662565679950968,
          0.3217363015775206,
          0.10366724243980244,
          -0.47437055201846223,
          2.9070186988530056,
          -0.8253615344745547,
          0.10587858902074421,
          0.8841023435509601,
          -1.3431083170326243,
          1.0194275960268073,
          -0.7441483954556977,
          -1.0650241835730403,
          -0.03033732183020421,
          -0.29701567174358884,
          0.890551171785564,
          -0.6270510544726693,
          0.8390431010604206,
          0.47115994394111615,
          -0.0498361433770494,
          0.5634039763899048,
          -0.636209388259709,
          -0.6695976000999219,
          1.207470146515272,
          0.17666345247424878,
          0.5899390417941093,
          0.5143084842140652,
          -0.4170503775419458,
          -0.3170258639824623,
          1.5016233142077424,
          -1.1211263024938083,
          1.3926454105969432,
          -0.2143805972832071,
          1.127178295455395,
          -0.3535709074759905,
          -0.08679839687144023,
          1.3254875978278025,
          0.48804946761904733,
          0.08403368208653522,
          -0.5949270379082353,
          -0.4116095785401556,
          1.077581257447193,
          -1.4580046845821357,
          0.0780883367349913,
          -0.5084143173604802,
          -0.4888194371678719,
          0.05896948041056434,
          -0.6089828887101206,
          -0.013040149179326093,
          0.5014427046602961,
          0.7814878386828048,
          1.3501393854886827,
          -0.267127749267207,
          0.6181503655331525,
          -0.3259774263751168,
          0.6627990882925322,
          -0.5699858528443189,
          -1.7364017909484977,
          0.6225256871473968,
          -2.158143156336918,
          -1.403308815461089,
          -0.9409591365193937,
          0.35429204208646303,
          0.1378682075272939,
          0.3439801252505404,
          0.594380985500653,
          -0.9001527859806683,
          0.3290490109127989,
          -0.27617503289837075,
          0.22231248241487328,
          -0.6196302812851472,
          1.0608934343253065,
          0.2007560621087518,
          -0.09529333804482425,
          1.3020388254645956,
          -1.145322675792862,
          0.1344963114280372,
          0.1249758821247789,
          -0.36108737520522577,
          0.40027615185574217,
          0.5157533793225617,
          0.15637930593244545,
          -0.7224731271301945,
          -0.03706180871761528,
          -1.7611728588287838,
          -0.4336943223410752,
          -0.4462835647887784,
          1.424361874040121,
          -0.9319644771876958,
          0.8320418181008651,
          -0.3133309289794022,
          1.0780836207416156,
          0.5330828752755163,
          0.05104393012878303,
          1.635903496241591,
          -0.235058315204186,
          -0.12740626194039117,
          0.5905898630897168,
          0.675389294506878,
          0.5847448689249144,
          0.9601619463885761,
          -1.0042900763026117,
          1.0332833294598247,
          -0.8131168254152641,
          0.8734399067793943,
          0.7104986259632182,
          -0.09957115944301287,
          1.3277354894790458,
          0.16997474208037786,
          -0.25835971354173476,
          -0.3816294410513178,
          -0.4176566758362287,
          0.7984486789235179,
          2.0673689808405755,
          -1.495442785414664,
          0.31553486070548603,
          1.986838167304792,
          -0.6245634300565243,
          0.5771304881237515,
          -1.4189687859679767,
          -0.4644200778331179,
          -0.6905454426943409,
          0.8548246081182622,
          0.17183571008804432,
          1.84742623889582,
          -0.6413084713696762,
          -1.6650973264878939,
          -0.004958790088267778,
          0.06862835861940171,
          -0.7702031353451543,
          1.5436387232709103,
          -1.7393821090431747,
          -0.04641773367159902,
          1.0901250944066085,
          0.16335674576269857,
          -0.493912043147528,
          -0.2154442580243819,
          -0.7180260627153768,
          0.928671749394187,
          -0.553978122991568,
          1.1838617189963556,
          -0.9944742787472134,
          -1.3183649708173786,
          -1.6658240639288362,
          0.9602305466126348,
          -0.03709155625475871,
          0.4529857243145465,
          1.7115927295841369,
          -0.8905825068845282,
          0.4149472018210977,
          -0.4302708052988802,
          -0.7944017675794589,
          0.11753604493512933,
          0.37147192528430895,
          0.587869255681696,
          0.748060696420325,
          -0.9491635847187976,
          0.25571335777323484,
          -0.16393868476278403,
          -0.451900247614598,
          -1.1585577759496473,
          -0.9468918325595056,
          -0.4133945975693165,
          -0.915235894759891,
          1.7095384777100289,
          0.0052577682994272255,
          -0.023114230366894622,
          -0.5576349412194663,
          0.0026375111884702537,
          -0.18352447204620995,
          -1.339502039438617,
          -0.08473843550792604,
          -0.7240041714173313,
          -0.8576649657356806,
          0.05963651535224111,
          1.8494869950111632,
          -0.3666805467375192,
          1.420804740681109,
          1.2092076464959842,
          -1.369229286543048,
          -0.8082255244238241,
          0.15984975951460323,
          0.8597609632483856,
          0.0720511519694184,
          0.7070665203546374,
          1.580202811782689,
          1.443448802747218,
          -0.8854564358149815,
          -0.25337291349608526,
          0.3066176831487844,
          0.28901846994802416,
          0.8982021626885657,
          -0.14545002016663483,
          -0.4990654078549236,
          -0.8077004517390491,
          -0.6763503935540198,
          -1.9009629495809162,
          0.9269878525566422,
          0.6361634516599773,
          -0.6028205552265397,
          1.5322830228636515,
          0.4379234925169088,
          -0.7440113870983855,
          -0.2762710461899352,
          -0.42677620968774715,
          -0.2217470205148948,
          -1.0766931939784452,
          0.6905826215060471,
          0.13642644560294248,
          0.8604428734879827,
          -0.21397256948965537,
          -0.7112255080307888,
          0.29705267808886765,
          0.1850640904882868,
          -0.29151866768867524,
          0.9738840102641162,
          -2.5067974811194267,
          0.9017447090457654,
          1.064149871637261,
          0.15279821667104745,
          0.39162455628507287,
          -1.5624020599437223,
          1.830059757210197,
          0.5816450361477996,
          0.17107680390517624,
          -0.7995044038241421,
          0.02550457310859197,
          -0.5696294515921833,
          -0.8779221029239642,
          -0.3528307438876587,
          0.6213037515752442,
          0.42980976067045035,
          -1.8156491231662453,
          -0.6095632445005775,
          1.0937024619418512,
          -0.03059474406563342,
          0.6650447739979641,
          -0.5632617059690439,
          -1.5605493655004523,
          0.2702970568263284,
          -1.4069440959843351,
          0.7168966683720165,
          -1.3663008916531216,
          1.0074621615101884,
          -0.8365448312691236,
          -0.42381695766077127,
          2.2356617221926736,
          -0.40929943363709675,
          -0.28665398133069464,
          0.7750988837708302,
          0.782421541152851,
          0.8485878437215782,
          -0.2654423616056231,
          0.09928917111133004,
          2.0059588930912198,
          -0.6876136123775747,
          -0.1868026289285809,
          -0.2566920113648264,
          2.4192179860217307,
          -0.1629953970435974,
          -0.04437032267298659,
          -1.0340266466300916,
          0.211383703318395,
          0.857366443988479,
          -0.5097413679579818,
          1.133622481965233,
          -0.8107248399043778,
          0.5156344461434952,
          1.9640204715954723,
          0.4914663810688316,
          -0.09819073819555357,
          1.2192545143277587,
          1.4237487824690758,
          -0.35562906485063106,
          -1.4877285927570851,
          -0.8351106935494662,
          -0.40081873078736824,
          0.33073001188035867,
          -0.9105915385020581,
          -1.0181924062533754,
          0.1597112517457465,
          0.21065284899728898,
          0.09994235479228696,
          0.3201094740737104,
          -0.6353666750396749,
          -1.3319013130554345,
          -0.6540571553060585,
          0.11704836703000793,
          -0.5714973548666713,
          2.3798403667796153,
          -0.4862919819884806,
          -0.5313399411593347,
          0.7127660465228939,
          0.7026398596357492,
          -0.6826376595619178,
          1.2806482941792725,
          1.7095349508383868,
          0.894452880695789,
          -0.1262935832890982,
          -1.504176909636688,
          -0.9510031494389635,
          -0.6950476056314966,
          -0.7413966363199564,
          0.20122650100922626,
          -0.9137035257740237,
          0.5771040113668388,
          -1.2331892396432884,
          0.17416906535446208,
          0.2781356815241226,
          0.16765144255634057,
          -0.8502681380974733,
          -0.5984098584703634,
          0.8227159336369638,
          -0.9088044327132392,
          0.11050731934800914,
          -0.6769114196846997,
          1.0236438283106017,
          -1.0901436707456027,
          0.6490565537171658,
          0.3845545172757917,
          1.0455645341638065,
          -0.5635806682337253,
          -0.15881545616106812,
          -0.12002448818734374,
          0.356633656133643,
          -0.8794495390110102,
          -0.42153328354775416
         ],
         "yaxis": "y"
        },
        {
         "hovertemplate": "outcome=Ball<br>pitch_x=%{x}<br>pitch_y=%{y}<extra></extra>",
         "legendgroup": "Ball",
         "marker": {
          "color": "#EF553B",
          "symbol": "circle"
         },
         "mode": "markers",
         "name": "Ball",
         "orientation": "v",
         "showlegend": true,
         "type": "scatter",
         "x": [
          0.23478002816392696,
          -0.2741299305064559,
          -0.45664889878306375,
          0.2220852503640012,
          -0.61117330352847,
          0.4253674272167981,
          0.5351018479558042,
          0.08846559993604325,
          1.0797566055685728,
          -0.17085943945872323,
          0.5739482847003006,
          -0.048155710031335175,
          -1.7155550820568557,
          -0.6821186803011431,
          -0.39060319117207937,
          1.2323074555665905,
          -0.46255626294239205,
          -0.19675696835069897,
          0.7756824196276809,
          -1.8755230728236034,
          1.1374646516228704,
          -0.6404449237890683,
          -0.7557423056479234,
          0.22540105780563685,
          0.05114058374313392,
          -0.67411505993715,
          -0.8094753360508855,
          -0.25829971422295095,
          1.0841412825495642,
          -0.2302152764964773,
          1.3973523219468085,
          0.7520730276181499,
          -0.36845095274238543,
          -1.791500550153348,
          -0.3082191448549374,
          -0.05841055642576676,
          -2.5635367845814248,
          -0.17147415811971514,
          0.6419761544956986,
          -2.028210923317638,
          0.2121675637037768,
          -0.1497801714935602,
          0.28091446423834615,
          0.3976422082977998,
          1.732151606597495,
          0.9844592281743623,
          -0.41270899048456333,
          -1.2062804621457466,
          -0.09468210728592383,
          0.6205642407214358,
          -0.0846171360676178,
          0.05272555227151905,
          -0.07825271464988105,
          -0.8386924570311307,
          -0.6366559083277716,
          -0.3579016868233085,
          -0.11838748226200069,
          1.3129219121384954,
          0.04037257904321513,
          1.1331134715494915,
          1.2372102199104082,
          -0.6339657887665209
         ],
         "xaxis": "x",
         "y": [
          0.20307676862216856,
          -0.9763500965337331,
          -0.08290186964441786,
          0.3353243632440965,
          0.012853323093736331,
          0.10146849477822961,
          0.5172327469055318,
          0.4540099929285216,
          -2.1329125355877476,
          -0.38112408722172103,
          0.6500879017869793,
          -0.7194350052591258,
          0.7921817825072571,
          1.252394370158644,
          0.9337091459227886,
          -1.4626356002241052,
          1.105396126077159,
          1.4573057303527344,
          0.3364108214899616,
          0.06744560574387587,
          0.9815783048369994,
          0.6094371563405786,
          1.0297142363310963,
          -1.6109851864730447,
          2.1521452765274023,
          -0.7364703733139182,
          0.25469021599784913,
          1.8583749773502525,
          -0.917274757557751,
          -0.4918097130072278,
          -0.2581286987693239,
          0.34273271294765173,
          0.10371896697202514,
          1.246243722818554,
          -0.08059239477687187,
          -0.9977241528062571,
          0.7763583855499806,
          0.7627207533327834,
          -0.2720501114197448,
          0.7165411505828281,
          0.49725576603812005,
          -0.6656467330510581,
          -1.48724709342868,
          -1.0447873854755265,
          -0.20955691035105736,
          0.5630749104111732,
          0.9716050078336403,
          -0.5151565118320539,
          1.7075748828068626,
          -1.3512348482033774,
          2.121326953895104,
          -2.03993357794802,
          1.2583539487765376,
          0.9535895466501725,
          0.7720779286069608,
          -0.3408962210160847,
          0.29030678653577835,
          -0.8502992509295724,
          -0.7812355504955475,
          1.685911247787664,
          -1.5349786170209714,
          1.790979886193496
         ],
         "yaxis": "y"
        }
       ],
       "layout": {
        "legend": {
         "title": {
          "text": "outcome"
         },
         "tracegroupgap": 0
        },
        "template": {
         "data": {
          "bar": [
           {
            "error_x": {
             "color": "#2a3f5f"
            },
            "error_y": {
             "color": "#2a3f5f"
            },
            "marker": {
             "line": {
              "color": "#E5ECF6",
              "width": 0.5
             },
             "pattern": {
              "fillmode": "overlay",
              "size": 10,
              "solidity": 0.2
             }
            },
            "type": "bar"
           }
          ],
          "barpolar": [
           {
            "marker": {
             "line": {
              "color": "#E5ECF6",
              "width": 0.5
             },
             "pattern": {
              "fillmode": "overlay",
              "size": 10,
              "solidity": 0.2
             }
            },
            "type": "barpolar"
           }
          ],
          "carpet": [
           {
            "aaxis": {
             "endlinecolor": "#2a3f5f",
             "gridcolor": "white",
             "linecolor": "white",
             "minorgridcolor": "white",
             "startlinecolor": "#2a3f5f"
            },
            "baxis": {
             "endlinecolor": "#2a3f5f",
             "gridcolor": "white",
             "linecolor": "white",
             "minorgridcolor": "white",
             "startlinecolor": "#2a3f5f"
            },
            "type": "carpet"
           }
          ],
          "choropleth": [
           {
            "colorbar": {
             "outlinewidth": 0,
             "ticks": ""
            },
            "type": "choropleth"
           }
          ],
          "contour": [
           {
            "colorbar": {
             "outlinewidth": 0,
             "ticks": ""
            },
            "colorscale": [
             [
              0,
              "#0d0887"
             ],
             [
              0.1111111111111111,
              "#46039f"
             ],
             [
              0.2222222222222222,
              "#7201a8"
             ],
             [
              0.3333333333333333,
              "#9c179e"
             ],
             [
              0.4444444444444444,
              "#bd3786"
             ],
             [
              0.5555555555555556,
              "#d8576b"
             ],
             [
              0.6666666666666666,
              "#ed7953"
             ],
             [
              0.7777777777777778,
              "#fb9f3a"
             ],
             [
              0.8888888888888888,
              "#fdca26"
             ],
             [
              1,
              "#f0f921"
             ]
            ],
            "type": "contour"
           }
          ],
          "contourcarpet": [
           {
            "colorbar": {
             "outlinewidth": 0,
             "ticks": ""
            },
            "type": "contourcarpet"
           }
          ],
          "heatmap": [
           {
            "colorbar": {
             "outlinewidth": 0,
             "ticks": ""
            },
            "colorscale": [
             [
              0,
              "#0d0887"
             ],
             [
              0.1111111111111111,
              "#46039f"
             ],
             [
              0.2222222222222222,
              "#7201a8"
             ],
             [
              0.3333333333333333,
              "#9c179e"
             ],
             [
              0.4444444444444444,
              "#bd3786"
             ],
             [
              0.5555555555555556,
              "#d8576b"
             ],
             [
              0.6666666666666666,
              "#ed7953"
             ],
             [
              0.7777777777777778,
              "#fb9f3a"
             ],
             [
              0.8888888888888888,
              "#fdca26"
             ],
             [
              1,
              "#f0f921"
             ]
            ],
            "type": "heatmap"
           }
          ],
          "heatmapgl": [
           {
            "colorbar": {
             "outlinewidth": 0,
             "ticks": ""
            },
            "colorscale": [
             [
              0,
              "#0d0887"
             ],
             [
              0.1111111111111111,
              "#46039f"
             ],
             [
              0.2222222222222222,
              "#7201a8"
             ],
             [
              0.3333333333333333,
              "#9c179e"
             ],
             [
              0.4444444444444444,
              "#bd3786"
             ],
             [
              0.5555555555555556,
              "#d8576b"
             ],
             [
              0.6666666666666666,
              "#ed7953"
             ],
             [
              0.7777777777777778,
              "#fb9f3a"
             ],
             [
              0.8888888888888888,
              "#fdca26"
             ],
             [
              1,
              "#f0f921"
             ]
            ],
            "type": "heatmapgl"
           }
          ],
          "histogram": [
           {
            "marker": {
             "pattern": {
              "fillmode": "overlay",
              "size": 10,
              "solidity": 0.2
             }
            },
            "type": "histogram"
           }
          ],
          "histogram2d": [
           {
            "colorbar": {
             "outlinewidth": 0,
             "ticks": ""
            },
            "colorscale": [
             [
              0,
              "#0d0887"
             ],
             [
              0.1111111111111111,
              "#46039f"
             ],
             [
              0.2222222222222222,
              "#7201a8"
             ],
             [
              0.3333333333333333,
              "#9c179e"
             ],
             [
              0.4444444444444444,
              "#bd3786"
             ],
             [
              0.5555555555555556,
              "#d8576b"
             ],
             [
              0.6666666666666666,
              "#ed7953"
             ],
             [
              0.7777777777777778,
              "#fb9f3a"
             ],
             [
              0.8888888888888888,
              "#fdca26"
             ],
             [
              1,
              "#f0f921"
             ]
            ],
            "type": "histogram2d"
           }
          ],
          "histogram2dcontour": [
           {
            "colorbar": {
             "outlinewidth": 0,
             "ticks": ""
            },
            "colorscale": [
             [
              0,
              "#0d0887"
             ],
             [
              0.1111111111111111,
              "#46039f"
             ],
             [
              0.2222222222222222,
              "#7201a8"
             ],
             [
              0.3333333333333333,
              "#9c179e"
             ],
             [
              0.4444444444444444,
              "#bd3786"
             ],
             [
              0.5555555555555556,
              "#d8576b"
             ],
             [
              0.6666666666666666,
              "#ed7953"
             ],
             [
              0.7777777777777778,
              "#fb9f3a"
             ],
             [
              0.8888888888888888,
              "#fdca26"
             ],
             [
              1,
              "#f0f921"
             ]
            ],
            "type": "histogram2dcontour"
           }
          ],
          "mesh3d": [
           {
            "colorbar": {
             "outlinewidth": 0,
             "ticks": ""
            },
            "type": "mesh3d"
           }
          ],
          "parcoords": [
           {
            "line": {
             "colorbar": {
              "outlinewidth": 0,
              "ticks": ""
             }
            },
            "type": "parcoords"
           }
          ],
          "pie": [
           {
            "automargin": true,
            "type": "pie"
           }
          ],
          "scatter": [
           {
            "fillpattern": {
             "fillmode": "overlay",
             "size": 10,
             "solidity": 0.2
            },
            "type": "scatter"
           }
          ],
          "scatter3d": [
           {
            "line": {
             "colorbar": {
              "outlinewidth": 0,
              "ticks": ""
             }
            },
            "marker": {
             "colorbar": {
              "outlinewidth": 0,
              "ticks": ""
             }
            },
            "type": "scatter3d"
           }
          ],
          "scattercarpet": [
           {
            "marker": {
             "colorbar": {
              "outlinewidth": 0,
              "ticks": ""
             }
            },
            "type": "scattercarpet"
           }
          ],
          "scattergeo": [
           {
            "marker": {
             "colorbar": {
              "outlinewidth": 0,
              "ticks": ""
             }
            },
            "type": "scattergeo"
           }
          ],
          "scattergl": [
           {
            "marker": {
             "colorbar": {
              "outlinewidth": 0,
              "ticks": ""
             }
            },
            "type": "scattergl"
           }
          ],
          "scattermapbox": [
           {
            "marker": {
             "colorbar": {
              "outlinewidth": 0,
              "ticks": ""
             }
            },
            "type": "scattermapbox"
           }
          ],
          "scatterpolar": [
           {
            "marker": {
             "colorbar": {
              "outlinewidth": 0,
              "ticks": ""
             }
            },
            "type": "scatterpolar"
           }
          ],
          "scatterpolargl": [
           {
            "marker": {
             "colorbar": {
              "outlinewidth": 0,
              "ticks": ""
             }
            },
            "type": "scatterpolargl"
           }
          ],
          "scatterternary": [
           {
            "marker": {
             "colorbar": {
              "outlinewidth": 0,
              "ticks": ""
             }
            },
            "type": "scatterternary"
           }
          ],
          "surface": [
           {
            "colorbar": {
             "outlinewidth": 0,
             "ticks": ""
            },
            "colorscale": [
             [
              0,
              "#0d0887"
             ],
             [
              0.1111111111111111,
              "#46039f"
             ],
             [
              0.2222222222222222,
              "#7201a8"
             ],
             [
              0.3333333333333333,
              "#9c179e"
             ],
             [
              0.4444444444444444,
              "#bd3786"
             ],
             [
              0.5555555555555556,
              "#d8576b"
             ],
             [
              0.6666666666666666,
              "#ed7953"
             ],
             [
              0.7777777777777778,
              "#fb9f3a"
             ],
             [
              0.8888888888888888,
              "#fdca26"
             ],
             [
              1,
              "#f0f921"
             ]
            ],
            "type": "surface"
           }
          ],
          "table": [
           {
            "cells": {
             "fill": {
              "color": "#EBF0F8"
             },
             "line": {
              "color": "white"
             }
            },
            "header": {
             "fill": {
              "color": "#C8D4E3"
             },
             "line": {
              "color": "white"
             }
            },
            "type": "table"
           }
          ]
         },
         "layout": {
          "annotationdefaults": {
           "arrowcolor": "#2a3f5f",
           "arrowhead": 0,
           "arrowwidth": 1
          },
          "autotypenumbers": "strict",
          "coloraxis": {
           "colorbar": {
            "outlinewidth": 0,
            "ticks": ""
           }
          },
          "colorscale": {
           "diverging": [
            [
             0,
             "#8e0152"
            ],
            [
             0.1,
             "#c51b7d"
            ],
            [
             0.2,
             "#de77ae"
            ],
            [
             0.3,
             "#f1b6da"
            ],
            [
             0.4,
             "#fde0ef"
            ],
            [
             0.5,
             "#f7f7f7"
            ],
            [
             0.6,
             "#e6f5d0"
            ],
            [
             0.7,
             "#b8e186"
            ],
            [
             0.8,
             "#7fbc41"
            ],
            [
             0.9,
             "#4d9221"
            ],
            [
             1,
             "#276419"
            ]
           ],
           "sequential": [
            [
             0,
             "#0d0887"
            ],
            [
             0.1111111111111111,
             "#46039f"
            ],
            [
             0.2222222222222222,
             "#7201a8"
            ],
            [
             0.3333333333333333,
             "#9c179e"
            ],
            [
             0.4444444444444444,
             "#bd3786"
            ],
            [
             0.5555555555555556,
             "#d8576b"
            ],
            [
             0.6666666666666666,
             "#ed7953"
            ],
            [
             0.7777777777777778,
             "#fb9f3a"
            ],
            [
             0.8888888888888888,
             "#fdca26"
            ],
            [
             1,
             "#f0f921"
            ]
           ],
           "sequentialminus": [
            [
             0,
             "#0d0887"
            ],
            [
             0.1111111111111111,
             "#46039f"
            ],
            [
             0.2222222222222222,
             "#7201a8"
            ],
            [
             0.3333333333333333,
             "#9c179e"
            ],
            [
             0.4444444444444444,
             "#bd3786"
            ],
            [
             0.5555555555555556,
             "#d8576b"
            ],
            [
             0.6666666666666666,
             "#ed7953"
            ],
            [
             0.7777777777777778,
             "#fb9f3a"
            ],
            [
             0.8888888888888888,
             "#fdca26"
            ],
            [
             1,
             "#f0f921"
            ]
           ]
          },
          "colorway": [
           "#636efa",
           "#EF553B",
           "#00cc96",
           "#ab63fa",
           "#FFA15A",
           "#19d3f3",
           "#FF6692",
           "#B6E880",
           "#FF97FF",
           "#FECB52"
          ],
          "font": {
           "color": "#2a3f5f"
          },
          "geo": {
           "bgcolor": "white",
           "lakecolor": "white",
           "landcolor": "#E5ECF6",
           "showlakes": true,
           "showland": true,
           "subunitcolor": "white"
          },
          "hoverlabel": {
           "align": "left"
          },
          "hovermode": "closest",
          "mapbox": {
           "style": "light"
          },
          "paper_bgcolor": "white",
          "plot_bgcolor": "#E5ECF6",
          "polar": {
           "angularaxis": {
            "gridcolor": "white",
            "linecolor": "white",
            "ticks": ""
           },
           "bgcolor": "#E5ECF6",
           "radialaxis": {
            "gridcolor": "white",
            "linecolor": "white",
            "ticks": ""
           }
          },
          "scene": {
           "xaxis": {
            "backgroundcolor": "#E5ECF6",
            "gridcolor": "white",
            "gridwidth": 2,
            "linecolor": "white",
            "showbackground": true,
            "ticks": "",
            "zerolinecolor": "white"
           },
           "yaxis": {
            "backgroundcolor": "#E5ECF6",
            "gridcolor": "white",
            "gridwidth": 2,
            "linecolor": "white",
            "showbackground": true,
            "ticks": "",
            "zerolinecolor": "white"
           },
           "zaxis": {
            "backgroundcolor": "#E5ECF6",
            "gridcolor": "white",
            "gridwidth": 2,
            "linecolor": "white",
            "showbackground": true,
            "ticks": "",
            "zerolinecolor": "white"
           }
          },
          "shapedefaults": {
           "line": {
            "color": "#2a3f5f"
           }
          },
          "ternary": {
           "aaxis": {
            "gridcolor": "white",
            "linecolor": "white",
            "ticks": ""
           },
           "baxis": {
            "gridcolor": "white",
            "linecolor": "white",
            "ticks": ""
           },
           "bgcolor": "#E5ECF6",
           "caxis": {
            "gridcolor": "white",
            "linecolor": "white",
            "ticks": ""
           }
          },
          "title": {
           "x": 0.05
          },
          "xaxis": {
           "automargin": true,
           "gridcolor": "white",
           "linecolor": "white",
           "ticks": "",
           "title": {
            "standoff": 15
           },
           "zerolinecolor": "white",
           "zerolinewidth": 2
          },
          "yaxis": {
           "automargin": true,
           "gridcolor": "white",
           "linecolor": "white",
           "ticks": "",
           "title": {
            "standoff": 15
           },
           "zerolinecolor": "white",
           "zerolinewidth": 2
          }
         }
        },
        "title": {
         "text": "Hitter outcome"
        },
        "xaxis": {
         "anchor": "y",
         "domain": [
          0,
          1
         ],
         "title": {
          "text": "pitch_x"
         }
        },
        "yaxis": {
         "anchor": "x",
         "domain": [
          0,
          1
         ],
         "title": {
          "text": "pitch_y"
         }
        }
       }
      }
     },
     "metadata": {},
     "output_type": "display_data"
    }
   ],
   "source": [
    "\n",
    "pitch_data.show_scatter(\"pitch_x\", \"pitch_y\", \"Hitter outcome\", color='outcome')"
   ]
  }
 ],
 "metadata": {
  "kernelspec": {
   "display_name": "Python 3",
   "language": "python",
   "name": "python3"
  },
  "language_info": {
   "codemirror_mode": {
    "name": "ipython",
    "version": 3
   },
   "file_extension": ".py",
   "mimetype": "text/x-python",
   "name": "python",
   "nbconvert_exporter": "python",
   "pygments_lexer": "ipython3",
   "version": "3.11.7"
  }
 },
 "nbformat": 4,
 "nbformat_minor": 2
}
