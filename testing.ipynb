{
 "cells": [
  {
   "cell_type": "code",
   "execution_count": 1,
   "metadata": {},
   "outputs": [],
   "source": [
    "%load_ext autoreload\n",
    "%reload_ext autoreload"
   ]
  },
  {
   "cell_type": "code",
   "execution_count": 2,
   "metadata": {},
   "outputs": [
    {
     "name": "stdout",
     "output_type": "stream",
     "text": [
      "Team #21 (0-0) \n",
      " Lineup: \n",
      "\t 17 39 (#52)\n",
      "\t35 6 (#79)\n",
      "\t49 20 (#69)\n",
      "\t18 3 (#22)\n",
      "\t14 7 (#0)\n",
      "\t43 17 (#89)\n",
      "\t38 4 (#46)\n",
      "\t1 8 (#31)\n",
      "\t25 40 (#18)\n"
     ]
    }
   ],
   "source": [
    "from src.util.generation import generate_team, generate_league, generate_pitch\n",
    "import plotly.express as px\n",
    "import pandas as pd\n",
    "from src.analysis.pitch_data import Pitch_Data\n",
    "from src.util.logic.pitch_logic import Pitch_Logic\n",
    "\n",
    "\n",
    "a = generate_team()\n",
    "\n",
    "print(str(a))"
   ]
  },
  {
   "cell_type": "code",
   "execution_count": 3,
   "metadata": {},
   "outputs": [],
   "source": [
    "pitch_dict = []\n",
    "pitch_hitability_dict = []\n",
    "for i in range(0, 1000):\n",
    "    pitch = generate_pitch()\n",
    "    hitability_obj = Pitch_Logic(pitch[\"x\"], pitch[\"y\"], pitch['pitch_type'])\n",
    "    hitability = hitability_obj.calculate_hitability()\n",
    "    pitch[\"hitability\"] = hitability\n",
    "    pitch_dict.append(pitch)\n",
    "\n",
    "df = pd.DataFrame(pitch_dict)\n",
    "\n",
    "\n"
   ]
  },
  {
   "cell_type": "code",
   "execution_count": 4,
   "metadata": {},
   "outputs": [],
   "source": [
    "pitch_data = Pitch_Data(df)"
   ]
  },
  {
   "cell_type": "code",
   "execution_count": 5,
   "metadata": {},
   "outputs": [
    {
     "data": {
      "application/vnd.plotly.v1+json": {
       "config": {
        "plotlyServerURL": "https://plot.ly"
       },
       "data": [
        {
         "alignmentgroup": "True",
         "bingroup": "x",
         "hovertemplate": "variable=outcome<br>value=%{x}<br>count=%{y}<extra></extra>",
         "legendgroup": "outcome",
         "marker": {
          "color": "#636efa",
          "pattern": {
           "shape": ""
          }
         },
         "name": "outcome",
         "offsetgroup": "outcome",
         "orientation": "v",
         "showlegend": true,
         "type": "histogram",
         "x": [
          "Strike",
          "Strike",
          "Ball",
          "Strike",
          "Ball",
          "Ball",
          "Ball",
          "Strike",
          "Strike",
          "Ball",
          "Strike",
          "Ball",
          "Strike",
          "Ball",
          "Ball",
          "Ball",
          "Strike",
          "Strike",
          "Strike",
          "Ball",
          "Ball",
          "Ball",
          "Strike",
          "Ball",
          "Ball",
          "Ball",
          "Ball",
          "Ball",
          "Strike",
          "Ball",
          "Ball",
          "Ball",
          "Ball",
          "Ball",
          "Ball",
          "Ball",
          "Strike",
          "Strike",
          "Ball",
          "Ball",
          "Ball",
          "Strike",
          "Strike",
          "Strike",
          "Ball",
          "Strike",
          "Ball",
          "Ball",
          "Ball",
          "Strike",
          "Strike",
          "Strike",
          "Strike",
          "Strike",
          "Ball",
          "Ball",
          "Ball",
          "Ball",
          "Ball",
          "Strike",
          "Ball",
          "Ball",
          "Ball",
          "Strike",
          "Ball",
          "Strike",
          "Strike",
          "Strike",
          "Strike",
          "Ball",
          "Strike",
          "Ball",
          "Strike",
          "Strike",
          "Ball",
          "Ball",
          "Strike",
          "Ball",
          "Strike",
          "Ball",
          "Ball",
          "Strike",
          "Strike",
          "Strike",
          "Ball",
          "Ball",
          "Ball",
          "Strike",
          "Ball",
          "Ball",
          "Ball",
          "Strike",
          "Ball",
          "Strike",
          "Ball",
          "Strike",
          "Ball",
          "Strike",
          "Ball",
          "Strike",
          "Ball",
          "Strike",
          "Strike",
          "Ball",
          "Strike",
          "Ball",
          "Ball",
          "Ball",
          "Strike",
          "Strike",
          "Ball",
          "Strike",
          "Ball",
          "Ball",
          "Strike",
          "Strike",
          "Strike",
          "Ball",
          "Ball",
          "Ball",
          "Strike",
          "Ball",
          "Strike",
          "Ball",
          "Strike",
          "Ball",
          "Ball",
          "Strike",
          "Ball",
          "Ball",
          "Ball",
          "Ball",
          "Ball",
          "Ball",
          "Ball",
          "Ball",
          "Ball",
          "Ball",
          "Ball",
          "Ball",
          "Ball",
          "Ball",
          "Ball",
          "Strike",
          "Strike",
          "Ball",
          "Strike",
          "Ball",
          "Ball",
          "Strike",
          "Ball",
          "Ball",
          "Ball",
          "Strike",
          "Ball",
          "Strike",
          "Strike",
          "Strike",
          "Ball",
          "Strike",
          "Strike",
          "Ball",
          "Strike",
          "Strike",
          "Strike",
          "Strike",
          "Strike",
          "Strike",
          "Ball",
          "Strike",
          "Ball",
          "Strike",
          "Strike",
          "Ball",
          "Ball",
          "Ball",
          "Ball",
          "Ball",
          "Ball",
          "Ball",
          "Ball",
          "Ball",
          "Ball",
          "Strike",
          "Ball",
          "Ball",
          "Strike",
          "Strike",
          "Strike",
          "Ball",
          "Strike",
          "Strike",
          "Ball",
          "Ball",
          "Ball",
          "Ball",
          "Ball",
          "Ball",
          "Ball",
          "Strike",
          "Ball",
          "Strike",
          "Ball",
          "Strike",
          "Ball",
          "Strike",
          "Ball",
          "Strike",
          "Ball",
          "Ball",
          "Strike",
          "Strike",
          "Ball",
          "Strike",
          "Strike",
          "Strike",
          "Ball",
          "Ball",
          "Strike",
          "Ball",
          "Ball",
          "Ball",
          "Strike",
          "Strike",
          "Ball",
          "Strike",
          "Strike",
          "Strike",
          "Ball",
          "Ball",
          "Strike",
          "Ball",
          "Ball",
          "Ball",
          "Strike",
          "Ball",
          "Ball",
          "Ball",
          "Strike",
          "Ball",
          "Strike",
          "Ball",
          "Strike",
          "Ball",
          "Ball",
          "Strike",
          "Ball",
          "Strike",
          "Ball",
          "Strike",
          "Ball",
          "Ball",
          "Ball",
          "Ball",
          "Ball",
          "Ball",
          "Strike",
          "Strike",
          "Strike",
          "Ball",
          "Strike",
          "Ball",
          "Strike",
          "Ball",
          "Ball",
          "Ball",
          "Ball",
          "Ball",
          "Ball",
          "Ball",
          "Strike",
          "Ball",
          "Ball",
          "Ball",
          "Ball",
          "Strike",
          "Ball",
          "Strike",
          "Ball",
          "Strike",
          "Strike",
          "Strike",
          "Ball",
          "Strike",
          "Ball",
          "Ball",
          "Ball",
          "Ball",
          "Strike",
          "Strike",
          "Strike",
          "Strike",
          "Ball",
          "Strike",
          "Strike",
          "Strike",
          "Ball",
          "Ball",
          "Ball",
          "Ball",
          "Strike",
          "Ball",
          "Ball",
          "Ball",
          "Ball",
          "Strike",
          "Strike",
          "Ball",
          "Ball",
          "Ball",
          "Ball",
          "Strike",
          "Strike",
          "Strike",
          "Strike",
          "Ball",
          "Ball",
          "Ball",
          "Ball",
          "Ball",
          "Ball",
          "Strike",
          "Ball",
          "Strike",
          "Strike",
          "Ball",
          "Strike",
          "Ball",
          "Strike",
          "Ball",
          "Strike",
          "Ball",
          "Strike",
          "Ball",
          "Ball",
          "Strike",
          "Strike",
          "Ball",
          "Strike",
          "Ball",
          "Ball",
          "Ball",
          "Ball",
          "Strike",
          "Strike",
          "Strike",
          "Ball",
          "Strike",
          "Ball",
          "Strike",
          "Strike",
          "Ball",
          "Strike",
          "Ball",
          "Ball",
          "Strike",
          "Strike",
          "Ball",
          "Strike",
          "Ball",
          "Strike",
          "Strike",
          "Strike",
          "Strike",
          "Strike",
          "Ball",
          "Strike",
          "Strike",
          "Strike",
          "Ball",
          "Strike",
          "Ball",
          "Ball",
          "Ball",
          "Ball",
          "Strike",
          "Strike",
          "Strike",
          "Strike",
          "Strike",
          "Strike",
          "Ball",
          "Strike",
          "Strike",
          "Ball",
          "Ball",
          "Ball",
          "Ball",
          "Ball",
          "Ball",
          "Strike",
          "Strike",
          "Ball",
          "Strike",
          "Strike",
          "Ball",
          "Ball",
          "Ball",
          "Ball",
          "Ball",
          "Ball",
          "Ball",
          "Strike",
          "Ball",
          "Ball",
          "Strike",
          "Ball",
          "Ball",
          "Strike",
          "Ball",
          "Ball",
          "Strike",
          "Ball",
          "Ball",
          "Strike",
          "Ball",
          "Ball",
          "Ball",
          "Strike",
          "Strike",
          "Strike",
          "Ball",
          "Ball",
          "Ball",
          "Ball",
          "Ball",
          "Ball",
          "Strike",
          "Strike",
          "Strike",
          "Ball",
          "Ball",
          "Strike",
          "Strike",
          "Ball",
          "Ball",
          "Strike",
          "Strike",
          "Strike",
          "Strike",
          "Strike",
          "Ball",
          "Ball",
          "Strike",
          "Strike",
          "Strike",
          "Ball",
          "Ball",
          "Ball",
          "Strike",
          "Ball",
          "Ball",
          "Strike",
          "Ball",
          "Strike",
          "Strike",
          "Ball",
          "Ball",
          "Ball",
          "Ball",
          "Ball",
          "Strike",
          "Ball",
          "Ball",
          "Ball",
          "Ball",
          "Ball",
          "Strike",
          "Ball",
          "Strike",
          "Ball",
          "Strike",
          "Ball",
          "Ball",
          "Strike",
          "Strike",
          "Ball",
          "Ball",
          "Strike",
          "Strike",
          "Ball",
          "Strike",
          "Ball",
          "Ball",
          "Strike",
          "Ball",
          "Ball",
          "Strike",
          "Ball",
          "Ball",
          "Ball",
          "Strike",
          "Ball",
          "Ball",
          "Strike",
          "Ball",
          "Ball",
          "Ball",
          "Strike",
          "Ball",
          "Ball",
          "Ball",
          "Ball",
          "Ball",
          "Strike",
          "Strike",
          "Strike",
          "Strike",
          "Ball",
          "Strike",
          "Ball",
          "Ball",
          "Ball",
          "Strike",
          "Strike",
          "Ball",
          "Ball",
          "Ball",
          "Ball",
          "Strike",
          "Ball",
          "Ball",
          "Ball",
          "Strike",
          "Ball",
          "Ball",
          "Ball",
          "Strike",
          "Ball",
          "Ball",
          "Ball",
          "Ball",
          "Ball",
          "Ball",
          "Ball",
          "Ball",
          "Ball",
          "Ball",
          "Ball",
          "Strike",
          "Strike",
          "Strike",
          "Strike",
          "Ball",
          "Ball",
          "Ball",
          "Ball",
          "Ball",
          "Strike",
          "Strike",
          "Ball",
          "Ball",
          "Ball",
          "Ball",
          "Ball",
          "Ball",
          "Strike",
          "Ball",
          "Ball",
          "Ball",
          "Ball",
          "Strike",
          "Ball",
          "Strike",
          "Strike",
          "Strike",
          "Strike",
          "Ball",
          "Strike",
          "Ball",
          "Ball",
          "Ball",
          "Ball",
          "Strike",
          "Strike",
          "Ball",
          "Ball",
          "Ball",
          "Ball",
          "Strike",
          "Ball",
          "Strike",
          "Strike",
          "Ball",
          "Ball",
          "Ball",
          "Strike",
          "Ball",
          "Ball",
          "Strike",
          "Ball",
          "Ball",
          "Ball",
          "Strike",
          "Strike",
          "Strike",
          "Strike",
          "Ball",
          "Ball",
          "Strike",
          "Ball",
          "Ball",
          "Strike",
          "Strike",
          "Strike",
          "Ball",
          "Ball",
          "Ball",
          "Strike",
          "Ball",
          "Ball",
          "Strike",
          "Strike",
          "Ball",
          "Strike",
          "Strike",
          "Strike",
          "Ball",
          "Ball",
          "Strike",
          "Ball",
          "Strike",
          "Ball",
          "Strike",
          "Ball",
          "Ball",
          "Strike",
          "Ball",
          "Ball",
          "Ball",
          "Ball",
          "Ball",
          "Ball",
          "Ball",
          "Strike",
          "Strike",
          "Ball",
          "Ball",
          "Ball",
          "Ball",
          "Strike",
          "Ball",
          "Strike",
          "Strike",
          "Ball",
          "Ball",
          "Ball",
          "Strike",
          "Strike",
          "Ball",
          "Strike",
          "Ball",
          "Ball",
          "Strike",
          "Ball",
          "Ball",
          "Ball",
          "Ball",
          "Strike",
          "Ball",
          "Strike",
          "Ball",
          "Strike",
          "Strike",
          "Ball",
          "Strike",
          "Strike",
          "Ball",
          "Ball",
          "Strike",
          "Strike",
          "Ball",
          "Ball",
          "Ball",
          "Ball",
          "Ball",
          "Strike",
          "Strike",
          "Ball",
          "Strike",
          "Ball",
          "Ball",
          "Strike",
          "Ball",
          "Strike",
          "Ball",
          "Strike",
          "Strike",
          "Strike",
          "Strike",
          "Strike",
          "Strike",
          "Strike",
          "Ball",
          "Strike",
          "Ball",
          "Strike",
          "Strike",
          "Strike",
          "Ball",
          "Strike",
          "Ball",
          "Ball",
          "Ball",
          "Strike",
          "Ball",
          "Ball",
          "Ball",
          "Ball",
          "Strike",
          "Ball",
          "Strike",
          "Strike",
          "Ball",
          "Ball",
          "Ball",
          "Ball",
          "Strike",
          "Strike",
          "Ball",
          "Ball",
          "Ball",
          "Strike",
          "Ball",
          "Ball",
          "Ball",
          "Ball",
          "Strike",
          "Ball",
          "Ball",
          "Ball",
          "Strike",
          "Strike",
          "Strike",
          "Strike",
          "Ball",
          "Strike",
          "Ball",
          "Ball",
          "Strike",
          "Strike",
          "Ball",
          "Strike",
          "Strike",
          "Ball",
          "Ball",
          "Strike",
          "Ball",
          "Ball",
          "Ball",
          "Strike",
          "Ball",
          "Ball",
          "Strike",
          "Ball",
          "Ball",
          "Ball",
          "Ball",
          "Ball",
          "Ball",
          "Ball",
          "Ball",
          "Strike",
          "Ball",
          "Ball",
          "Strike",
          "Ball",
          "Ball",
          "Ball",
          "Ball",
          "Strike",
          "Ball",
          "Ball",
          "Ball",
          "Ball",
          "Strike",
          "Ball",
          "Ball",
          "Ball",
          "Ball",
          "Ball",
          "Ball",
          "Ball",
          "Strike",
          "Strike",
          "Strike",
          "Strike",
          "Ball",
          "Ball",
          "Ball",
          "Ball",
          "Ball",
          "Ball",
          "Ball",
          "Ball",
          "Strike",
          "Strike",
          "Ball",
          "Ball",
          "Ball",
          "Ball",
          "Ball",
          "Ball",
          "Ball",
          "Strike",
          "Ball",
          "Ball",
          "Ball",
          "Ball",
          "Ball",
          "Ball",
          "Strike",
          "Strike",
          "Strike",
          "Strike",
          "Strike",
          "Ball",
          "Ball",
          "Strike",
          "Ball",
          "Strike",
          "Ball",
          "Ball",
          "Ball",
          "Ball",
          "Strike",
          "Ball",
          "Strike",
          "Ball",
          "Strike",
          "Strike",
          "Ball",
          "Ball",
          "Strike",
          "Strike",
          "Strike",
          "Ball",
          "Ball",
          "Ball",
          "Ball",
          "Ball",
          "Strike",
          "Ball",
          "Ball",
          "Ball",
          "Strike",
          "Ball",
          "Strike",
          "Strike",
          "Ball",
          "Ball",
          "Strike",
          "Strike",
          "Ball",
          "Ball",
          "Ball",
          "Ball",
          "Strike",
          "Ball",
          "Ball",
          "Ball",
          "Strike",
          "Ball",
          "Ball",
          "Ball",
          "Ball",
          "Strike",
          "Ball",
          "Ball",
          "Ball",
          "Ball",
          "Ball",
          "Strike",
          "Strike",
          "Ball",
          "Ball",
          "Ball",
          "Ball",
          "Ball",
          "Ball",
          "Ball",
          "Ball",
          "Strike",
          "Ball",
          "Ball",
          "Ball",
          "Ball",
          "Ball",
          "Ball",
          "Ball",
          "Ball",
          "Ball",
          "Ball",
          "Strike",
          "Strike",
          "Strike",
          "Ball",
          "Strike",
          "Ball",
          "Ball",
          "Strike",
          "Ball",
          "Ball",
          "Strike",
          "Strike",
          "Ball",
          "Ball",
          "Ball",
          "Strike",
          "Strike",
          "Ball",
          "Ball",
          "Ball",
          "Strike",
          "Ball",
          "Ball",
          "Ball",
          "Strike",
          "Ball",
          "Ball",
          "Strike",
          "Ball",
          "Ball",
          "Strike",
          "Ball",
          "Ball",
          "Strike",
          "Ball",
          "Strike",
          "Ball",
          "Strike",
          "Ball",
          "Ball",
          "Ball",
          "Ball",
          "Ball",
          "Strike",
          "Ball",
          "Ball",
          "Ball",
          "Strike",
          "Ball",
          "Strike",
          "Ball",
          "Ball",
          "Strike",
          "Strike",
          "Strike",
          "Strike",
          "Ball",
          "Ball",
          "Ball",
          "Ball",
          "Ball",
          "Ball",
          "Strike",
          "Ball",
          "Ball",
          "Ball",
          "Ball",
          "Ball",
          "Ball",
          "Ball",
          "Ball",
          "Ball",
          "Ball",
          "Ball",
          "Strike",
          "Strike",
          "Ball",
          "Ball",
          "Strike",
          "Ball",
          "Ball",
          "Ball",
          "Ball",
          "Strike",
          "Strike",
          "Ball",
          "Ball",
          "Strike",
          "Ball",
          "Strike",
          "Ball",
          "Strike",
          "Ball",
          "Ball",
          "Strike",
          "Strike",
          "Ball",
          "Ball",
          "Strike",
          "Strike",
          "Strike",
          "Ball",
          "Ball",
          "Ball",
          "Ball",
          "Strike",
          "Ball"
         ],
         "xaxis": "x",
         "yaxis": "y"
        }
       ],
       "layout": {
        "barmode": "relative",
        "legend": {
         "title": {
          "text": "variable"
         },
         "tracegroupgap": 0
        },
        "template": {
         "data": {
          "bar": [
           {
            "error_x": {
             "color": "#2a3f5f"
            },
            "error_y": {
             "color": "#2a3f5f"
            },
            "marker": {
             "line": {
              "color": "#E5ECF6",
              "width": 0.5
             },
             "pattern": {
              "fillmode": "overlay",
              "size": 10,
              "solidity": 0.2
             }
            },
            "type": "bar"
           }
          ],
          "barpolar": [
           {
            "marker": {
             "line": {
              "color": "#E5ECF6",
              "width": 0.5
             },
             "pattern": {
              "fillmode": "overlay",
              "size": 10,
              "solidity": 0.2
             }
            },
            "type": "barpolar"
           }
          ],
          "carpet": [
           {
            "aaxis": {
             "endlinecolor": "#2a3f5f",
             "gridcolor": "white",
             "linecolor": "white",
             "minorgridcolor": "white",
             "startlinecolor": "#2a3f5f"
            },
            "baxis": {
             "endlinecolor": "#2a3f5f",
             "gridcolor": "white",
             "linecolor": "white",
             "minorgridcolor": "white",
             "startlinecolor": "#2a3f5f"
            },
            "type": "carpet"
           }
          ],
          "choropleth": [
           {
            "colorbar": {
             "outlinewidth": 0,
             "ticks": ""
            },
            "type": "choropleth"
           }
          ],
          "contour": [
           {
            "colorbar": {
             "outlinewidth": 0,
             "ticks": ""
            },
            "colorscale": [
             [
              0,
              "#0d0887"
             ],
             [
              0.1111111111111111,
              "#46039f"
             ],
             [
              0.2222222222222222,
              "#7201a8"
             ],
             [
              0.3333333333333333,
              "#9c179e"
             ],
             [
              0.4444444444444444,
              "#bd3786"
             ],
             [
              0.5555555555555556,
              "#d8576b"
             ],
             [
              0.6666666666666666,
              "#ed7953"
             ],
             [
              0.7777777777777778,
              "#fb9f3a"
             ],
             [
              0.8888888888888888,
              "#fdca26"
             ],
             [
              1,
              "#f0f921"
             ]
            ],
            "type": "contour"
           }
          ],
          "contourcarpet": [
           {
            "colorbar": {
             "outlinewidth": 0,
             "ticks": ""
            },
            "type": "contourcarpet"
           }
          ],
          "heatmap": [
           {
            "colorbar": {
             "outlinewidth": 0,
             "ticks": ""
            },
            "colorscale": [
             [
              0,
              "#0d0887"
             ],
             [
              0.1111111111111111,
              "#46039f"
             ],
             [
              0.2222222222222222,
              "#7201a8"
             ],
             [
              0.3333333333333333,
              "#9c179e"
             ],
             [
              0.4444444444444444,
              "#bd3786"
             ],
             [
              0.5555555555555556,
              "#d8576b"
             ],
             [
              0.6666666666666666,
              "#ed7953"
             ],
             [
              0.7777777777777778,
              "#fb9f3a"
             ],
             [
              0.8888888888888888,
              "#fdca26"
             ],
             [
              1,
              "#f0f921"
             ]
            ],
            "type": "heatmap"
           }
          ],
          "heatmapgl": [
           {
            "colorbar": {
             "outlinewidth": 0,
             "ticks": ""
            },
            "colorscale": [
             [
              0,
              "#0d0887"
             ],
             [
              0.1111111111111111,
              "#46039f"
             ],
             [
              0.2222222222222222,
              "#7201a8"
             ],
             [
              0.3333333333333333,
              "#9c179e"
             ],
             [
              0.4444444444444444,
              "#bd3786"
             ],
             [
              0.5555555555555556,
              "#d8576b"
             ],
             [
              0.6666666666666666,
              "#ed7953"
             ],
             [
              0.7777777777777778,
              "#fb9f3a"
             ],
             [
              0.8888888888888888,
              "#fdca26"
             ],
             [
              1,
              "#f0f921"
             ]
            ],
            "type": "heatmapgl"
           }
          ],
          "histogram": [
           {
            "marker": {
             "pattern": {
              "fillmode": "overlay",
              "size": 10,
              "solidity": 0.2
             }
            },
            "type": "histogram"
           }
          ],
          "histogram2d": [
           {
            "colorbar": {
             "outlinewidth": 0,
             "ticks": ""
            },
            "colorscale": [
             [
              0,
              "#0d0887"
             ],
             [
              0.1111111111111111,
              "#46039f"
             ],
             [
              0.2222222222222222,
              "#7201a8"
             ],
             [
              0.3333333333333333,
              "#9c179e"
             ],
             [
              0.4444444444444444,
              "#bd3786"
             ],
             [
              0.5555555555555556,
              "#d8576b"
             ],
             [
              0.6666666666666666,
              "#ed7953"
             ],
             [
              0.7777777777777778,
              "#fb9f3a"
             ],
             [
              0.8888888888888888,
              "#fdca26"
             ],
             [
              1,
              "#f0f921"
             ]
            ],
            "type": "histogram2d"
           }
          ],
          "histogram2dcontour": [
           {
            "colorbar": {
             "outlinewidth": 0,
             "ticks": ""
            },
            "colorscale": [
             [
              0,
              "#0d0887"
             ],
             [
              0.1111111111111111,
              "#46039f"
             ],
             [
              0.2222222222222222,
              "#7201a8"
             ],
             [
              0.3333333333333333,
              "#9c179e"
             ],
             [
              0.4444444444444444,
              "#bd3786"
             ],
             [
              0.5555555555555556,
              "#d8576b"
             ],
             [
              0.6666666666666666,
              "#ed7953"
             ],
             [
              0.7777777777777778,
              "#fb9f3a"
             ],
             [
              0.8888888888888888,
              "#fdca26"
             ],
             [
              1,
              "#f0f921"
             ]
            ],
            "type": "histogram2dcontour"
           }
          ],
          "mesh3d": [
           {
            "colorbar": {
             "outlinewidth": 0,
             "ticks": ""
            },
            "type": "mesh3d"
           }
          ],
          "parcoords": [
           {
            "line": {
             "colorbar": {
              "outlinewidth": 0,
              "ticks": ""
             }
            },
            "type": "parcoords"
           }
          ],
          "pie": [
           {
            "automargin": true,
            "type": "pie"
           }
          ],
          "scatter": [
           {
            "fillpattern": {
             "fillmode": "overlay",
             "size": 10,
             "solidity": 0.2
            },
            "type": "scatter"
           }
          ],
          "scatter3d": [
           {
            "line": {
             "colorbar": {
              "outlinewidth": 0,
              "ticks": ""
             }
            },
            "marker": {
             "colorbar": {
              "outlinewidth": 0,
              "ticks": ""
             }
            },
            "type": "scatter3d"
           }
          ],
          "scattercarpet": [
           {
            "marker": {
             "colorbar": {
              "outlinewidth": 0,
              "ticks": ""
             }
            },
            "type": "scattercarpet"
           }
          ],
          "scattergeo": [
           {
            "marker": {
             "colorbar": {
              "outlinewidth": 0,
              "ticks": ""
             }
            },
            "type": "scattergeo"
           }
          ],
          "scattergl": [
           {
            "marker": {
             "colorbar": {
              "outlinewidth": 0,
              "ticks": ""
             }
            },
            "type": "scattergl"
           }
          ],
          "scattermapbox": [
           {
            "marker": {
             "colorbar": {
              "outlinewidth": 0,
              "ticks": ""
             }
            },
            "type": "scattermapbox"
           }
          ],
          "scatterpolar": [
           {
            "marker": {
             "colorbar": {
              "outlinewidth": 0,
              "ticks": ""
             }
            },
            "type": "scatterpolar"
           }
          ],
          "scatterpolargl": [
           {
            "marker": {
             "colorbar": {
              "outlinewidth": 0,
              "ticks": ""
             }
            },
            "type": "scatterpolargl"
           }
          ],
          "scatterternary": [
           {
            "marker": {
             "colorbar": {
              "outlinewidth": 0,
              "ticks": ""
             }
            },
            "type": "scatterternary"
           }
          ],
          "surface": [
           {
            "colorbar": {
             "outlinewidth": 0,
             "ticks": ""
            },
            "colorscale": [
             [
              0,
              "#0d0887"
             ],
             [
              0.1111111111111111,
              "#46039f"
             ],
             [
              0.2222222222222222,
              "#7201a8"
             ],
             [
              0.3333333333333333,
              "#9c179e"
             ],
             [
              0.4444444444444444,
              "#bd3786"
             ],
             [
              0.5555555555555556,
              "#d8576b"
             ],
             [
              0.6666666666666666,
              "#ed7953"
             ],
             [
              0.7777777777777778,
              "#fb9f3a"
             ],
             [
              0.8888888888888888,
              "#fdca26"
             ],
             [
              1,
              "#f0f921"
             ]
            ],
            "type": "surface"
           }
          ],
          "table": [
           {
            "cells": {
             "fill": {
              "color": "#EBF0F8"
             },
             "line": {
              "color": "white"
             }
            },
            "header": {
             "fill": {
              "color": "#C8D4E3"
             },
             "line": {
              "color": "white"
             }
            },
            "type": "table"
           }
          ]
         },
         "layout": {
          "annotationdefaults": {
           "arrowcolor": "#2a3f5f",
           "arrowhead": 0,
           "arrowwidth": 1
          },
          "autotypenumbers": "strict",
          "coloraxis": {
           "colorbar": {
            "outlinewidth": 0,
            "ticks": ""
           }
          },
          "colorscale": {
           "diverging": [
            [
             0,
             "#8e0152"
            ],
            [
             0.1,
             "#c51b7d"
            ],
            [
             0.2,
             "#de77ae"
            ],
            [
             0.3,
             "#f1b6da"
            ],
            [
             0.4,
             "#fde0ef"
            ],
            [
             0.5,
             "#f7f7f7"
            ],
            [
             0.6,
             "#e6f5d0"
            ],
            [
             0.7,
             "#b8e186"
            ],
            [
             0.8,
             "#7fbc41"
            ],
            [
             0.9,
             "#4d9221"
            ],
            [
             1,
             "#276419"
            ]
           ],
           "sequential": [
            [
             0,
             "#0d0887"
            ],
            [
             0.1111111111111111,
             "#46039f"
            ],
            [
             0.2222222222222222,
             "#7201a8"
            ],
            [
             0.3333333333333333,
             "#9c179e"
            ],
            [
             0.4444444444444444,
             "#bd3786"
            ],
            [
             0.5555555555555556,
             "#d8576b"
            ],
            [
             0.6666666666666666,
             "#ed7953"
            ],
            [
             0.7777777777777778,
             "#fb9f3a"
            ],
            [
             0.8888888888888888,
             "#fdca26"
            ],
            [
             1,
             "#f0f921"
            ]
           ],
           "sequentialminus": [
            [
             0,
             "#0d0887"
            ],
            [
             0.1111111111111111,
             "#46039f"
            ],
            [
             0.2222222222222222,
             "#7201a8"
            ],
            [
             0.3333333333333333,
             "#9c179e"
            ],
            [
             0.4444444444444444,
             "#bd3786"
            ],
            [
             0.5555555555555556,
             "#d8576b"
            ],
            [
             0.6666666666666666,
             "#ed7953"
            ],
            [
             0.7777777777777778,
             "#fb9f3a"
            ],
            [
             0.8888888888888888,
             "#fdca26"
            ],
            [
             1,
             "#f0f921"
            ]
           ]
          },
          "colorway": [
           "#636efa",
           "#EF553B",
           "#00cc96",
           "#ab63fa",
           "#FFA15A",
           "#19d3f3",
           "#FF6692",
           "#B6E880",
           "#FF97FF",
           "#FECB52"
          ],
          "font": {
           "color": "#2a3f5f"
          },
          "geo": {
           "bgcolor": "white",
           "lakecolor": "white",
           "landcolor": "#E5ECF6",
           "showlakes": true,
           "showland": true,
           "subunitcolor": "white"
          },
          "hoverlabel": {
           "align": "left"
          },
          "hovermode": "closest",
          "mapbox": {
           "style": "light"
          },
          "paper_bgcolor": "white",
          "plot_bgcolor": "#E5ECF6",
          "polar": {
           "angularaxis": {
            "gridcolor": "white",
            "linecolor": "white",
            "ticks": ""
           },
           "bgcolor": "#E5ECF6",
           "radialaxis": {
            "gridcolor": "white",
            "linecolor": "white",
            "ticks": ""
           }
          },
          "scene": {
           "xaxis": {
            "backgroundcolor": "#E5ECF6",
            "gridcolor": "white",
            "gridwidth": 2,
            "linecolor": "white",
            "showbackground": true,
            "ticks": "",
            "zerolinecolor": "white"
           },
           "yaxis": {
            "backgroundcolor": "#E5ECF6",
            "gridcolor": "white",
            "gridwidth": 2,
            "linecolor": "white",
            "showbackground": true,
            "ticks": "",
            "zerolinecolor": "white"
           },
           "zaxis": {
            "backgroundcolor": "#E5ECF6",
            "gridcolor": "white",
            "gridwidth": 2,
            "linecolor": "white",
            "showbackground": true,
            "ticks": "",
            "zerolinecolor": "white"
           }
          },
          "shapedefaults": {
           "line": {
            "color": "#2a3f5f"
           }
          },
          "ternary": {
           "aaxis": {
            "gridcolor": "white",
            "linecolor": "white",
            "ticks": ""
           },
           "baxis": {
            "gridcolor": "white",
            "linecolor": "white",
            "ticks": ""
           },
           "bgcolor": "#E5ECF6",
           "caxis": {
            "gridcolor": "white",
            "linecolor": "white",
            "ticks": ""
           }
          },
          "title": {
           "x": 0.05
          },
          "xaxis": {
           "automargin": true,
           "gridcolor": "white",
           "linecolor": "white",
           "ticks": "",
           "title": {
            "standoff": 15
           },
           "zerolinecolor": "white",
           "zerolinewidth": 2
          },
          "yaxis": {
           "automargin": true,
           "gridcolor": "white",
           "linecolor": "white",
           "ticks": "",
           "title": {
            "standoff": 15
           },
           "zerolinecolor": "white",
           "zerolinewidth": 2
          }
         }
        },
        "title": {
         "text": "Histogram of outcome"
        },
        "xaxis": {
         "anchor": "y",
         "domain": [
          0,
          1
         ],
         "title": {
          "text": "value"
         }
        },
        "yaxis": {
         "anchor": "x",
         "domain": [
          0,
          1
         ],
         "title": {
          "text": "count"
         }
        }
       }
      }
     },
     "metadata": {},
     "output_type": "display_data"
    }
   ],
   "source": [
    "pitch_data.show_histogram(\"outcome\")"
   ]
  },
  {
   "cell_type": "code",
   "execution_count": 6,
   "metadata": {},
   "outputs": [
    {
     "data": {
      "application/vnd.plotly.v1+json": {
       "config": {
        "plotlyServerURL": "https://plot.ly"
       },
       "data": [
        {
         "hovertemplate": "x=%{x}<br>y=%{y}<br>hitability=%{marker.color}<extra></extra>",
         "legendgroup": "",
         "marker": {
          "color": [
           0.24962273500517174,
           0.04914780899724588,
           0.12820046153113965,
           -0.2172344042834922,
           0.3959199471798746,
           0.869279781458227,
           0.7420585611005258,
           0.23322634641628795,
           0.03064257429435939,
           1.3728003341712074,
           0.17841915273004771,
           -0.3315593712580639,
           0.23311625504585387,
           0.07205943617826592,
           0.10313543425290937,
           0.6747716642900972,
           0.008746333927398112,
           -0.059222786102175545,
           0.3385518878528845,
           -0.2955132227194494,
           1.8640885712265023,
           0.8763150565210003,
           0.02196172380015984,
           0.2720396554701239,
           0.5017471881933427,
           0.8018760466685537,
           -0.2346368320092489,
           0.6723508889085471,
           -0.02122465467130154,
           0.09306333169622713,
           0.007383201390283301,
           1.637826596260217,
           -0.005212800516316687,
           0.32975845582207386,
           1.7409212601301864,
           1.623578279136598,
           -0.08035574723163229,
           0.5626382769599122,
           0.7612153626217539,
           0.6150226206558161,
           0.9846628041311307,
           0.2964454122850741,
           -0.08156754539941607,
           0.0056229081898355225,
           0.20359741668258635,
           0.034740317795987255,
           1.041693829636698,
           -3.5627851386671967,
           0.23214513800003767,
           0.09128122302327517,
           -0.0005880198975557263,
           0.11557911660755074,
           0.10123389067433046,
           0.4256193202639233,
           0.30132809509467834,
           0.531779726257989,
           0.14234856255194625,
           -0.1905667796756118,
           0.07601813998902424,
           0.07978877494082301,
           0.29153708813743096,
           0.4893693144353776,
           0.4923676684004529,
           -0.23360470837918257,
           0.2811085221874863,
           0.13748915421886967,
           0.11033455824209852,
           -0.7757788160159077,
           -0.5426923489291939,
           -0.7488516207702929,
           -0.1348266327872272,
           -0.38971308419876044,
           -0.10366347526833608,
           0.1294097290416321,
           -0.025639047092223765,
           -0.31238578564744524,
           -0.4873184731691632,
           -0.06010354787074254,
           0.15490259028759532,
           -0.06633158909124001,
           1.4563096261926114,
           -0.18225299942337508,
           0.2939551390225755,
           0.07484246177964113,
           0.625223787496309,
           0.6210582037075831,
           0.12096170971726619,
           -0.6284555565872944,
           0.02749382191760641,
           0.06401384357738343,
           0.05590188880423303,
           0.061111683320186676,
           -0.4099058307891348,
           0.270177817699749,
           0.26445144915073665,
           -0.3381967161512558,
           -0.5421913327050074,
           0.33879075396883507,
           1.3926017332296796,
           0.305259864770016,
           0.8984528487275042,
           -0.178301072102362,
           0.036031629998942445,
           1.9794838482709693,
           0.17225589038854122,
           0.4880184071042526,
           0.21719274901248595,
           0.3001340989531109,
           0.1635890034728213,
           0.36395038881309,
           -0.036399359291117366,
           0.07038458804606088,
           2.8711317085775243,
           0.6608697319298649,
           -0.07271750429556091,
           0.12377126303368527,
           -0.35530008685592473,
           0.6876091322414943,
           -0.47699132742395534,
           0.9162166903425623,
           -0.011684741096615865,
           0.03705335902123973,
           0.12026269489653914,
           0.2547816764375909,
           0.22448920471334483,
           0.8419367971984238,
           0.5996279941541087,
           0.06442089189458258,
           -1.8454109461014954,
           -2.3480297744580985,
           -0.10768784063188429,
           0.8304367556902134,
           -1.3222519778576873,
           1.7255886219631071,
           0.9490306511538147,
           1.8247550715365461,
           0.012407233376210969,
           0.683120969457834,
           0.07172700528651661,
           1.2653613261691454,
           0.20538925381594522,
           0.12581131066850518,
           0.3522951642856471,
           -0.08049025486166611,
           0.022614474303592744,
           -0.0970321709146184,
           -0.003092040134095122,
           1.0356020475167638,
           1.9462365650993745,
           0.13859920091454214,
           0.9409135179302277,
           -0.03530612963620936,
           0.36649833424536377,
           0.000407308675068837,
           0.29951239084116227,
           -0.058929213488445445,
           -0.12472343244929193,
           0.09317309158261233,
           0.48630482527445446,
           0.12711285858799237,
           0.199191902125279,
           1.0081888339995233,
           0.06921275373611724,
           -0.0216943056938771,
           0.025256669273541383,
           -0.11251965885396968,
           -0.28645347080524824,
           -0.16789612005536259,
           -0.9636899535735275,
           -0.11324254016015646,
           1.1978484278301675,
           -0.004069115644312207,
           0.007832501876033493,
           0.573333339137303,
           0.3608442210497255,
           -0.20236749334206752,
           2.163708360072337,
           0.22636650442578213,
           0.24420684382764826,
           -1.085484624898661,
           1.2661876380882684,
           0.9249828561895381,
           0.37718706678453146,
           0.16410433335850963,
           1.609228970019647,
           1.0118289750916947,
           0.172471673161238,
           -0.014876508643681978,
           -0.0008414435984436777,
           1.262870140329829,
           -1.636029874727392,
           -1.6541411604089844,
           -0.8487326570574083,
           0.42789060142171287,
           0.44332491710526817,
           0.6733541892241166,
           0.7246329612823172,
           0.08731387835272306,
           -0.7626887103104196,
           0.2181198746677491,
           -1.3199430000316057,
           -0.021228594190458715,
           1.5925704640013383,
           -0.040911268532068924,
           -0.36629186165540045,
           0.026452174043805933,
           0.4814025935882936,
           -0.037258244921221484,
           -0.27446223281085774,
           0.860693090942876,
           0.034914249876875046,
           -0.010052719439536437,
           2.003186083646536,
           -0.08991554124863671,
           0.18528396053350246,
           0.022088033950039915,
           0.4838753301993201,
           0.25726114115148174,
           -0.010218939210929548,
           0.33890871106694426,
           0.13562350615327567,
           0.7086676237981013,
           -0.2914710502251379,
           0.13304009541312103,
           0.5560615606875946,
           -0.3228550049443791,
           0.11158135262153336,
           -0.0831796600513146,
           -0.5221841468032329,
           0.3944632758212365,
           -0.17684819776700833,
           0.9885228963022706,
           -0.38845550067597645,
           0.39568443011676496,
           0.3852761476655383,
           -0.7219173967840243,
           -1.5846639959510298,
           0.028451155864934782,
           0.060088721131948214,
           0.1613034023439965,
           -0.03582932798791,
           1.4098544615566257,
           -0.1646395879618926,
           0.026006956829565546,
           0.7126337414950703,
           -0.3570882443390849,
           -0.5909925275085766,
           -0.21354962369113217,
           0.49998232366654655,
           0.16501830130863143,
           -0.20724356998023358,
           0.04038028029376111,
           0.1449468207753571,
           2.4924200378613444,
           0.2675292547061546,
           0.12916811422822866,
           0.07898095917809723,
           -0.5788180124377201,
           -0.5119951088245247,
           -0.2647516379784589,
           -0.02521158154904929,
           1.3324922808244923,
           -2.139447063405634,
           -0.465610030517093,
           -10.21237096730089,
           -0.1295478161629825,
           -1.3053152962730958,
           0.13706458080487036,
           -0.2374166867750687,
           -0.07889082361074405,
           0.10841552822413576,
           0.6975057188810634,
           -1.108377484336223,
           0.23238529740120836,
           0.6304333129717198,
           0.0773810594408929,
           0.46433691602669525,
           -0.004150542067042509,
           0.1287671523163119,
           -0.10666242058946618,
           -0.0037946114325196536,
           0.17497269868382823,
           0.10906150320864326,
           0.298265866807577,
           -1.7431952643579396,
           0.8617904619590382,
           0.43804043074596544,
           0.6178569643590653,
           0.05616871441708674,
           -0.016016356508745503,
           -0.010729416548366327,
           0.032849988455793865,
           0.7297323824181908,
           -0.01885553364142322,
           0.44517624965048175,
           0.05099142583939441,
           -0.1522406374434921,
           1.4344859463471253,
           -2.3382521038722595,
           0.4288058698913707,
           0.08033736956610552,
           0.40731970013910435,
           1.7500063030228776,
           -0.7456221711416987,
           0.056341810081585314,
           -0.07306804116404474,
           -0.014175337070809936,
           0.44563273665890113,
           -0.20750106449020628,
           0.5012369200183728,
           0.24251284727476616,
           0.11573386595251145,
           0.2856644927716918,
           0.09484204533031904,
           0.3393232175876199,
           0.15162240826113116,
           0.6589698708057808,
           0.24260679977410213,
           0.1784499473080639,
           0.3745843858173523,
           0.49590874293908976,
           0.0358697348183693,
           -0.26260605712058416,
           0.35541035373174623,
           0.18152152064602753,
           0.4434717424193808,
           -0.10985865681031595,
           0.2719066773987773,
           -0.008817851959086914,
           0.5457631793517875,
           0.05930909160398334,
           -0.029093807935057468,
           -0.17499008461881263,
           0.3428168077802875,
           0.24700038069968822,
           -0.08467849847041876,
           0.2405656284837102,
           0.654805576493178,
           0.07981106756731612,
           -0.3023055753779619,
           1.0173851480494778,
           0.609558685843718,
           0.7635411506903019,
           -0.020034073632571738,
           -0.07293543702743213,
           -0.28089725298972473,
           0.10427326453701394,
           0.08849645048758811,
           0.8685883673757734,
           0.061283833962650934,
           -1.176310795917125,
           -2.1417307238252383,
           0.08916917154227685,
           -1.139750840287408,
           0.5447739277036269,
           -0.010577775357972295,
           0.09274022568403299,
           0.2179440496231046,
           -0.6803449145974804,
           1.7925065935662654,
           0.47821019045964375,
           -0.0020595451453092203,
           0.022167295998056166,
           0.000501894517054579,
           0.1215287792023958,
           0.37403660344388984,
           -0.11120721455161071,
           0.0540392523385154,
           -0.15430230189281624,
           0.15771579031244115,
           -1.071921266785734,
           2.789079237538665,
           -0.492210962523234,
           0.7960871230847315,
           0.3157164032877391,
           0.04076396581657555,
           -0.08026153515527165,
           0.08965653416333057,
           -0.0046571848517895165,
           0.33451653217342603,
           -0.0067898816306574215,
           -0.1346726330541957,
           0.07731085390445855,
           0.05702487665606535,
           0.40572064409840675,
           0.03873091105622507,
           0.15169101787348738,
           0.574766243443237,
           1.9032634743835113,
           1.2106239945401671,
           0.21703926620421665,
           -0.010879152575629452,
           -0.18404803901999653,
           0.07958844600923072,
           0.047725546431183506,
           0.9769974870444692,
           0.5656937483231387,
           -0.29974245618179257,
           -3.6507244272133916,
           -3.0261291395489844,
           2.4194055270713664,
           2.397185166106191,
           -0.05915784299692802,
           -1.6459970357634328,
           -0.14623404798957837,
           0.2835996678652654,
           0.3052626719142597,
           0.24340587662245247,
           -0.005009218300985932,
           0.5661529992708055,
           2.598415919269708,
           0.207288923510842,
           0.09583116055158601,
           -0.48336073491118675,
           -0.06717051897528194,
           -2.879930261938436,
           1.1413019883248754,
           0.4893747337527524,
           0.04920012268433109,
           0.10966605863081473,
           0.0671336826657134,
           0.2193952759422913,
           0.5408250682601407,
           1.4379268686477842,
           0.05448227229783011,
           0.6822014244679433,
           0.8599295969633212,
           -0.10027062604915003,
           0.06125458082612737,
           0.016056404163605296,
           1.0111176701351272,
           0.8910864381964435,
           -2.3492894537589772,
           -0.03801612335020437,
           -0.017765668290548427,
           -1.1515342542094213,
           0.8944492210246748,
           -0.08497525502994469,
           -0.019327997172396166,
           -0.043050221753947834,
           0.07950562783651549,
           0.6718815632424504,
           -0.20641689660252022,
           0.010721164448068407,
           0.42039232968373524,
           0.13126969015789852,
           0.39278805374376535,
           0.900087442006877,
           1.635886589561612,
           -0.07375535679312888,
           -0.6457641915551816,
           -2.7528993797786026,
           -0.08471411491558545,
           0.33352909744586184,
           -0.07856446813852622,
           -0.26550810765557303,
           0.3380860288062625,
           0.7105198396152874,
           0.56521784574092,
           0.4178573234017003,
           0.22008577014409356,
           -0.976143674840948,
           0.5088754841194842,
           0.338078117040452,
           0.9455845437402033,
           1.6159958658506421,
           0.4562359281975362,
           0.012675238248958776,
           0.39742408330144396,
           -0.22679361386956354,
           1.0918703103597371,
           -0.108455637922346,
           0.1789722783345008,
           -0.3901866224212708,
           0.0879949360324322,
           -0.008911217314741694,
           0.3919164531498719,
           0.45464029687622237,
           -0.054408724400550716,
           -0.18373335575146463,
           0.8097824507876756,
           -0.11589864657555278,
           0.15859602601377215,
           -0.08799105977054908,
           0.022709107784689386,
           1.0617236559143124,
           1.6557592823239136,
           0.4085969575894124,
           0.5394711325095503,
           2.023875037526396,
           0.6935868462446735,
           -0.03817339234724014,
           -0.5097119900098234,
           0.48870419119495523,
           -0.38611674870029883,
           -0.4588564879918622,
           0.8072123287886256,
           0.6581206033583934,
           -0.2818829401303447,
           1.7820614653885445,
           0.02188782985495522,
           -0.04190004717524296,
           1.2805831145526465,
           0.2178268262803919,
           0.005779372752501414,
           -0.11251992137575291,
           -0.11533408271370292,
           -0.43128450683283226,
           0.4479204303487207,
           -0.007888701396493468,
           0.17438141729469517,
           0.34529349266582404,
           -0.28882956946622107,
           0.09602198726746938,
           -0.06574607651803994,
           0.08299846433435681,
           1.308061241146584,
           -0.1015315626664991,
           0.6246196487847933,
           0.07814012925310679,
           -0.16913080078872997,
           0.15574813789745792,
           0.11918146593771463,
           0.02972567463566824,
           -0.028286185036965224,
           0.3809082429690165,
           -0.069107388739233,
           -0.025985081134070893,
           0.7427679377727466,
           1.8783925429908093,
           0.5576784071747154,
           0.4226342271791105,
           1.1953324672980543,
           0.42364122470804044,
           1.5214749197660418,
           0.4171882072580946,
           0.06987812983666347,
           0.9293842441633356,
           0.9177553362454332,
           0.03449892177409555,
           -0.048609888528977796,
           0.2114104592599656,
           -0.0347434896971075,
           1.3765643232520879,
           -0.4545321648503676,
           0.7368056741421805,
           -0.14606727515985815,
           -0.1514222456145636,
           -0.020370421368379917,
           -1.198298683582395,
           0.7818386723947551,
           0.30284722708364975,
           0.527927730228524,
           -0.11608548344575922,
           0.10013698643261296,
           -0.3997221008670231,
           0.11587364011476502,
           1.9514552737499606,
           0.7879531632221454,
           0.4917829297443706,
           0.31973550958808716,
           -0.2067007348514091,
           -0.5103740649243708,
           -0.13820839400947976,
           0.2058294159087692,
           -0.02959465677892458,
           -0.0031194230818245034,
           0.6214177013063621,
           -0.015925461767182555,
           1.339405015391568,
           -0.20048396009038022,
           0.013629278563390142,
           -0.2912000924371366,
           0.7048163284418374,
           -0.053263300239772056,
           0.12181597571135874,
           0.43342980040933166,
           0.8609868367160568,
           -0.23606130313991544,
           0.01962899777536239,
           0.7308712067337951,
           0.2548596913496932,
           -0.05932550401621576,
           0.23139760475756363,
           0.03242395909696685,
           0.3808082652038817,
           -0.006554585318710313,
           0.4608750236668013,
           -0.0005565789757477613,
           -0.019617271486042406,
           -0.1582410354600416,
           0.17245328325245388,
           1.2696398203740935,
           0.09858655050819987,
           -0.21948231909381644,
           0.12761372265232948,
           -0.0546866162023139,
           0.8759499747460078,
           1.0295393297788493,
           0.3603944986371878,
           0.40372959819242665,
           -0.7350882152135758,
           0.13901728988399775,
           0.05740206890068328,
           0.013604675330404903,
           0.25314160046310674,
           0.8985114677072296,
           0.2033029148134797,
           -0.1652612021839412,
           0.026817007134759166,
           0.7810949850126293,
           0.03736329041373421,
           -1.2960282975691093,
           0.07579176015361529,
           -0.25161098894718065,
           0.01857824938990483,
           0.11036391386371429,
           -0.0938876445471838,
           -0.08830192783902562,
           -0.04089435931174392,
           1.172034656663501,
           0.035278519932840105,
           -1.7940414658533586,
           0.10397153040889835,
           -0.0036122115886371466,
           0.6021786891962807,
           -0.10978089789319889,
           -0.006886556820065593,
           1.428896758616769,
           -0.5446652782860306,
           0.12930476891334333,
           -0.18172867643710716,
           -0.17922624779768828,
           -0.06957937325849753,
           -0.014037473249452325,
           -0.0018083677948012122,
           -0.25668919688823333,
           -0.1169112410132365,
           0.22228786466796507,
           0.4245291510621557,
           0.11137975943822502,
           0.3524734687854592,
           0.003715882556736003,
           -0.04768332530001012,
           0.32319802025236916,
           0.9714601318289893,
           -1.189061530877832,
           0.007697260523767674,
           -0.445343956035991,
           0.5917843065887958,
           -0.3141253554132402,
           -6.192555256135516,
           0.3528864579918797,
           0.09430561466656318,
           0.3346269942299775,
           0.7655763376209338,
           -1.5697846947084364,
           0.08553166170100386,
           -0.023802049598607707,
           0.6249276437522435,
           0.20658081999458677,
           0.2349497042657867,
           0.17174072352713393,
           -0.05985427246610272,
           -0.1988939975462228,
           -0.04441595137213987,
           -0.02503245684926637,
           1.1015953603061113,
           0.5381426237487967,
           -0.14949717029035595,
           -0.02640525552813267,
           1.28901849188908,
           0.038775802878897536,
           0.9244034710207787,
           0.19477792739111363,
           0.3204543798323484,
           -0.09949382015752362,
           0.13122404489976386,
           -0.5137732166432424,
           0.03290238996057011,
           1.1076444159368366,
           0.47150463639714496,
           0.012029060907788389,
           0.2228591238785814,
           -0.16419818996198834,
           0.09625353130901551,
           0.0013793744702550884,
           0.041966431932686156,
           -0.033288778588124075,
           -0.019337672517488722,
           -0.016436625098661922,
           -0.02157900811608489,
           0.14955936258601346,
           0.3361421310687622,
           0.03812165654174533,
           0.5062533296656971,
           -0.5167765648353078,
           -0.015617146544602743,
           -0.11774815537865238,
           2.6514396895020256,
           0.06396733002738267,
           0.1540513312305274,
           0.11234802516100446,
           0.5694947549948628,
           0.13197333778292578,
           0.42221542652032235,
           0.37674412247216515,
           0.7255150872182137,
           0.2319502148823267,
           -0.11616440302537183,
           -0.004535834971997158,
           0.12851022961314865,
           -0.5108436330570709,
           0.6216747996851879,
           0.4198805664714144,
           0.5170750299233081,
           0.4697629435728542,
           -0.587579324747435,
           -0.010511611086570671,
           -0.06811053065342915,
           -0.011637411454289426,
           0.43689444462348165,
           0.11361923193313896,
           0.16469335262251195,
           0.5928650632257244,
           1.2348364650083974,
           -0.41075233638658715,
           0.09846781870381086,
           0.9290148517897894,
           0.01851550058954177,
           -0.014943566997409416,
           0.22759908834527598,
           0.016558454777781256,
           -0.07731900140825473,
           0.0891934337425691,
           0.3384127730670962,
           0.2652778970075725,
           0.419772589745583,
           0.6750662928213227,
           0.07026856648621585,
           0.0707373262197306,
           1.1745764437911066,
           0.21040433191417557,
           -0.015909748581218547,
           0.44226898384786156,
           0.8005424566367747,
           0.16030080451373804,
           0.3447696726191125,
           -0.22106926027191925,
           -0.3137769264406364,
           0.18082129170837444,
           0.8966897654293203,
           0.15617150137491637,
           -1.2846056474379155,
           0.4735017555321615,
           1.197086247738037,
           0.5869245977811542,
           -0.13522787196976174,
           0.4330908347954646,
           0.2537613243877053,
           1.081318794649493,
           1.3926361053413403,
           0.05337894452015229,
           0.10985083973506947,
           -0.13493007240493382,
           0.0373956332461299,
           0.3283355301959449,
           -0.3797899726654161,
           3.5536915850851236,
           0.37529409348802867,
           0.135717737992821,
           0.21709238835942318,
           -2.03735097253416,
           0.34330308290437495,
           0.3460104899775654,
           0.10849987138847556,
           0.04857254851884656,
           0.4901104021717289,
           2.023277961786514,
           0.9037097286402029,
           0.9898457139483938,
           0.4780111494265235,
           -0.19912313131187165,
           -0.23355706773742177,
           0.015088791825402846,
           0.08073924453757589,
           0.1060948759512974,
           0.31585931863106975,
           0.6034549678061938,
           1.3250853890154701,
           0.7473186068546442,
           2.278313601978518,
           2.3777255839067877,
           -0.4978739200740455,
           0.24839115534000572,
           -0.15346479697959575,
           -0.05960741106045752,
           -0.14813033829433858,
           -0.7549952541170689,
           1.5250083935006833,
           1.5735433079597954,
           0.043201283411417275,
           0.14214413855679678,
           0.6316849139598086,
           0.3430201563522009,
           0.37539210685039914,
           0.23735883312345565,
           1.2948644193049146,
           0.7353239125077057,
           1.0064223893085846,
           0.598909183205104,
           0.025534789997662868,
           0.28969887528918664,
           -0.007862312957358038,
           0.07674238421385822,
           -0.03142426928663854,
           0.798846326747194,
           0.20895659815513903,
           -0.015563365176079187,
           -0.1344596292098995,
           -0.0598324862429202,
           0.7043323769451251,
           0.6527414188846051,
           0.14117838349835804,
           0.1379237973993641,
           0.06266524604450338,
           -0.007626569050167943,
           -0.02426801340215112,
           0.9842156456171021,
           -0.029941597446335802,
           0.16535757202754922,
           -0.12159256163448663,
           0.4312989930392571,
           -0.1054428916393036,
           0.06504712904220139,
           -0.18724443178976063,
           0.14616538396121917,
           -6.479645792070031,
           0.7780833160171178,
           -0.5626744738976315,
           0.5288069591556827,
           0.06785261977226358,
           0.5150221374551889,
           0.7920179167339653,
           0.7384157062090192,
           0.41945739564133633,
           0.04719684107683168,
           0.01893580395215002,
           0.0014415708382638029,
           1.1662479694076202,
           1.0837621946579419,
           0.10279226109005293,
           -0.03198421123853446,
           0.39997719819274036,
           0.4330216854655677,
           0.5867215363518477,
           -2.681969216414492,
           -0.3657537898773057,
           -0.06732253624096811,
           0.16654735146670321,
           0.5660834228622142,
           -0.22293661402877787,
           -0.377527618963609,
           0.0748131179484443,
           0.2820295705233343,
           1.4824528909949448,
           -0.030014759738546615,
           0.40145193851869154,
           0.33033851973309775,
           -0.38070026425553977,
           -0.03509962914951889,
           0.08578828175099912,
           -0.03935142068340109,
           -0.12968955346311858,
           1.0825239023198425,
           0.6109781718411583,
           0.7429457438558447,
           0.3977627635857065,
           -0.061259561425273654,
           0.26151118632941184,
           -0.003367428418639762,
           -0.11619429832577775,
           -0.2507009140148488,
           0.12489046235652448,
           0.026391102817203763,
           0.4046668203066147,
           0.04932107001429943,
           0.016617984697323302,
           -0.29743279164638975,
           0.5117026291995593,
           0.3303127860970505,
           -0.4283180250469525,
           -0.09114751433967226,
           -0.05169989184796109,
           -0.027111415718662282,
           0.1177836723102679,
           0.04338882612347824,
           -0.07196218270961736,
           0.3408648222632791,
           0.18416754515579412,
           -0.012995600282214826,
           0.22629627141706574,
           0.42884436144561855,
           0.004035535235005073,
           0.09352461267343756,
           -0.5265956301964553,
           -1.126360695517569,
           -0.41980189758134195,
           -0.16191719736912835,
           0.021060923332838228,
           0.5465348293125523,
           0.28325933816238874,
           0.11094341839607595,
           0.15796856485989,
           -0.1848852566063202,
           0.12774871728462028,
           1.8826179667678729,
           -0.006260244699747541,
           0.10464995806330549,
           -1.6790865261279324,
           -0.8985979085064391,
           0.5844178085864833,
           0.402112877768365,
           -0.00492936756044329,
           -1.706856311456805,
           0.06313641428413826,
           -0.14779819093486846,
           -0.6082297834901425,
           0.2407897475838544,
           0.07325984459885598,
           -0.0039097975584710684,
           0.12960687855046202,
           -0.18799629586655747,
           0.3938395655152595,
           -0.00195763580958367,
           0.49793357127968135,
           -0.23332556120654113,
           0.6065939285119694,
           0.07808097067557114,
           0.24053505686557072,
           0.022747069351624207,
           0.7917714509454855,
           0.04525631282591602,
           1.5027896382897339,
           -0.40077653879366043,
           0.1103629649539632,
           0.12476425396439178,
           0.09669844350257643,
           0.01942027659716904,
           0.040361028748510754,
           0.31181309943780966,
           -0.13419743497121783,
           0.03683187214365442,
           0.012138006438601821,
           0.3002736361380648,
           -0.05186595381101191,
           2.0293558843103807,
           0.3596619038243256,
           0.5633224108228456,
           2.375717444220274,
           0.23934966275104552,
           -0.013807186745314412,
           0.7843585018925658,
           2.7436255536693164,
           0.11913362615446024,
           1.3347565237138164,
           -1.150076038912159,
           0.12562351321379986,
           -0.5282259223960872,
           0.921039845707878,
           1.0548719735203345,
           0.12372464960577448,
           0.16651748195338079,
           1.1439209928950924,
           1.9416222937492384,
           -0.11978709733290199,
           0.1072807791631139,
           0.04225104054723777,
           0.18348844655233337,
           0.029299812116074568,
           -0.07559435602318826,
           0.2690906635748225,
           -0.26455453185380645,
           1.4589129736738662,
           -0.05328965925172413,
           -0.6110360229567369,
           -0.027306105049616194,
           0.07879199282337618,
           -0.30701270848940493,
           -0.1422361426184403,
           0.12045635144137636,
           0.09688487035000166,
           0.06512270474885784,
           -0.09666594579781171,
           0.2796321084977869,
           0.47803523543424803,
           1.6324775885248897,
           0.2952360675744186,
           0.016652144620815247,
           2.177972896383664
          ],
          "coloraxis": "coloraxis",
          "symbol": "circle"
         },
         "mode": "markers",
         "name": "",
         "orientation": "v",
         "showlegend": false,
         "type": "scatter",
         "x": [
          -0.9527346051817253,
          -0.42430391201455553,
          -0.45779802769998196,
          0.63370621968125,
          -0.6262003058653757,
          1.1811591042018303,
          1.0379779011553218,
          0.7999902376012149,
          -0.17428268268479047,
          -1.639214854449552,
          0.6404378570720147,
          -2.3381963086523396,
          -0.8304971773305784,
          -1.3075044832882767,
          -0.40530603842856733,
          -0.5714649814252618,
          0.3215838087687964,
          -0.17403684269950903,
          -0.8754136509403465,
          -0.2051562984919132,
          1.8504394925359366,
          -1.1097143592080674,
          0.3852197255066012,
          0.7155119060571759,
          1.049909987187487,
          -1.9067757190842423,
          -2.624257770573004,
          1.4025629737390073,
          0.35035993039273655,
          1.8790280531136965,
          1.6727097063205336,
          1.8290617339112898,
          -0.3054471399860434,
          1.282561899360339,
          2.482342798631144,
          1.4017212861360637,
          0.5781500252080359,
          -0.215839833107774,
          1.1653011686246941,
          -0.7807773112135913,
          -1.0727569165798696,
          -0.8674246418111002,
          0.12060826966581394,
          -0.30593706022991474,
          1.0019112453745689,
          -0.48429905958375424,
          -0.9500160187451205,
          -2.904446268585782,
          0.5337741463851926,
          0.568711390713007,
          -0.3424046710161815,
          0.10847201743661795,
          0.7001354401481047,
          0.12077514200542055,
          -1.284076601879164,
          -3.058350535625094,
          1.314554895420928,
          0.17510165597395907,
          0.3491903670346612,
          -0.8855045030281743,
          -0.5746822427927556,
          0.969915314576806,
          1.1609775348462765,
          0.10397339053916853,
          0.7040366647711983,
          0.5851489508023202,
          0.46758255217613126,
          0.034059222313233356,
          0.9609756775035475,
          -0.06594254455571948,
          -0.7451492868699705,
          -0.12526834381112598,
          -0.1963274070672083,
          -0.5129996470585417,
          -0.3003013276330945,
          1.0801500015816239,
          -0.6313894799302806,
          0.25340172995512095,
          0.762218088388006,
          -1.290609919044225,
          1.4254891242816103,
          0.08799416053764984,
          -0.8923142256783205,
          0.564028303635112,
          0.9418162901439622,
          -1.378085007455478,
          -1.0515694643677702,
          0.6194184537642838,
          -0.3356188757130845,
          -0.37217005305569234,
          -2.297053328599779,
          0.7576145889457437,
          -0.13728072392922333,
          -0.9651957997698527,
          1.4212715430169658,
          0.9238476321633753,
          -1.6718343842303154,
          0.8697719047890371,
          -1.1935556885257819,
          0.9370953605832034,
          -1.7850960241295553,
          -0.11034353439068595,
          0.4144775840233317,
          -2.5724473489775463,
          -0.9671042329939968,
          -1.0584418772395914,
          -0.6348136485251022,
          -0.7098660570458736,
          0.02530811380816905,
          -0.9413625781620067,
          0.295423687026851,
          0.4488211587336266,
          1.9918765489592902,
          1.0403689342594915,
          0.8422140710133572,
          -0.4962128193058515,
          0.8603319269752503,
          -0.8704244406067229,
          0.08491841357040944,
          1.6764937245083447,
          0.39209681227980403,
          1.1167804104458792,
          -0.9201526603005039,
          2.1392507747328557,
          -0.6782468002158769,
          0.8724075401146071,
          0.724425713479084,
          -0.6555031993053371,
          2.1832122338250177,
          -1.5052203524712133,
          -0.2522516667093363,
          1.149805128595537,
          -1.7567827381250727,
          1.9762521021192765,
          -1.30621649076292,
          -1.7758379360479801,
          -0.3226295401267388,
          2.30417644423458,
          0.36856430291069303,
          1.5599681446442357,
          1.527789287719452,
          -0.45527777149856913,
          -0.5616735008350683,
          0.9656456043293191,
          -0.36339832614856865,
          0.22336166264674798,
          -0.28792664249337346,
          -2.102274123441803,
          1.8513151099951057,
          0.5483600850900414,
          2.3078219581272044,
          2.6280284231463824,
          1.5624279403485521,
          -0.3179353597778994,
          0.546130357101952,
          0.765991111522536,
          0.17788058997781914,
          0.5166139452356892,
          -0.9202889489248203,
          -0.615006401760844,
          -0.8966893496479498,
          -1.2709518391393093,
          -0.23516220821565142,
          -0.9694025413040114,
          -0.3447044532222516,
          -0.6831187958146163,
          -0.06460302316886762,
          -0.8416977218560896,
          0.08900816667190775,
          0.4365482542817154,
          1.4826585538390489,
          -0.30244929570671103,
          0.35542913564555473,
          -1.2242645544572437,
          -1.460461623077557,
          -2.237535703326319,
          -2.602113530134006,
          0.4873890651208985,
          2.636242849061707,
          1.127723089167248,
          -1.8551774453420615,
          -0.8734022104105825,
          0.5167626492787486,
          -0.5796314631959915,
          1.6743481309309205,
          1.5547020113132475,
          0.6024043586803199,
          -0.241569769488439,
          0.46893637830720775,
          -1.2335675547381602,
          0.9405397600608068,
          0.9057032890617995,
          -0.10331020243488698,
          1.2800508377903672,
          -1.4160423318073623,
          -1.1888200028942284,
          -0.9072352912372442,
          -0.38258308910679445,
          -0.10170872384109253,
          -0.6500501561153512,
          0.055422022375522045,
          -0.39895086598313645,
          1.730735353252388,
          -0.5077688672587747,
          1.2647219969263137,
          0.7056885673478634,
          0.9701379998861661,
          -0.20676563332661924,
          1.6210400117532089,
          -1.4332447220956677,
          -0.11517894293842758,
          0.3268467008822554,
          2.9299272976898703,
          -0.09869797695302769,
          0.8274084401541164,
          -0.4033872726369992,
          1.3821280148936381,
          1.6381899158375077,
          -0.5325900565882611,
          -1.1495563447757942,
          -1.0920063452515045,
          -1.0675425110932881,
          -0.5841055361595532,
          0.4952040295623883,
          1.1590308084916878,
          -0.9758865064143396,
          0.7175886528928578,
          -0.8928007139095938,
          -0.07468283463931336,
          -1.173670882917788,
          -0.05451536883503424,
          -1.3434586468835936,
          -0.09910844449893916,
          1.2656540874659479,
          -0.10376009109822014,
          0.07688704054852034,
          -0.05255262179556786,
          -0.3296280737595709,
          0.8946571229436799,
          1.0884446247955415,
          0.23584279470809116,
          -0.798486994635665,
          0.16711187249927795,
          0.33648045199828047,
          -1.2231987257523378,
          -0.09635643940119178,
          1.4325045552316518,
          -0.09328228609873944,
          -1.0805251278021313,
          0.640866733078638,
          -0.24384347767104664,
          -0.35625884536785546,
          -0.41017432762936146,
          -1.8744997404103516,
          0.5118521923940679,
          -0.42441394525946785,
          0.6577683981672284,
          -0.019757292358270718,
          -0.034359735610555706,
          1.9299402502369563,
          -0.3546011129813657,
          -0.9071090235293368,
          -0.005307537488824729,
          -0.16179839453245712,
          0.004545911337064177,
          1.1948414504351432,
          0.032788586364669914,
          0.39433150869215444,
          1.0865376394228805,
          -0.2398647242829774,
          -0.6930274280647998,
          -2.678463197874344,
          -2.0046804163177874,
          0.42443598981655145,
          1.4181354268329753,
          0.5747189388030561,
          1.2088646059259331,
          -0.2620122687518876,
          1.282428459059917,
          -0.7105455631000775,
          -0.4061084475237451,
          0.6004185648939577,
          1.308639255249159,
          0.10534752112859486,
          0.04636031532035708,
          -1.1032592601965008,
          0.8984915365278957,
          0.630049650048786,
          0.4643599790270042,
          0.4099962070943876,
          -0.720550398794897,
          0.2913565580299106,
          1.1074629091494093,
          -0.38600893914432316,
          -0.17522130874546216,
          -0.169154816409545,
          -0.21904684178630365,
          -2.0024682100032716,
          -1.7039514375368068,
          -1.17404404870372,
          0.4167957545679905,
          0.8901083637283185,
          1.6732664435978981,
          -0.057110809799351195,
          -1.0721464537481935,
          0.19827469231576053,
          -0.6805354037376785,
          1.3886377941811263,
          0.18244601835729052,
          -1.1468492895409086,
          -1.7899713746120172,
          0.48104394577457427,
          -0.7903718589350187,
          0.7363527898088265,
          0.9344304474882414,
          0.4634310277530061,
          -0.5823672523529367,
          0.4853224508637767,
          1.1148871270093597,
          -1.4404245561338431,
          1.0735163656145514,
          0.35671985085550234,
          -1.254093301322329,
          -0.9089643721440113,
          -0.9205592168409764,
          -0.9284398309071131,
          0.13406175933488135,
          2.018838078713019,
          0.06817784278549728,
          -0.7352775328049802,
          -0.438492720087094,
          1.358412220684393,
          -0.8814869461563394,
          1.3842510129125527,
          -0.6274456367301284,
          -0.21997882795366644,
          -0.8421463176333439,
          -1.258999507005336,
          0.5245585364448497,
          -0.18520213949254397,
          -1.7748619097315474,
          1.9572534368994048,
          0.9242050113048469,
          -0.23219857173957686,
          0.35022062645328433,
          0.5152769396950814,
          1.4365082238605094,
          -0.7840283821936632,
          -1.3037162042702024,
          0.4448422464619408,
          -0.013740276093841442,
          -1.3129842258122855,
          -0.022674222299455215,
          0.065496087503588,
          3.138248687690739,
          0.5615224878807326,
          -0.7256600726601231,
          -2.1176705567862673,
          0.8946143011002425,
          -1.2888916883383277,
          0.029336790131041967,
          0.3393148921855227,
          -0.3375744677045743,
          0.20316358417895009,
          -0.248647807857917,
          -1.2299670392073045,
          -0.843398948197014,
          -0.4135067165918658,
          0.03456971065886922,
          -1.0665498213957352,
          0.025282654595241552,
          1.5727725533931922,
          -1.1114522057881155,
          -2.8199672797933752,
          -0.5826569488026904,
          0.37008821708641837,
          -0.10628284510922371,
          -0.4362753657793808,
          0.30069902612287647,
          0.02218067965989032,
          0.26538084503780285,
          -0.2249090569722881,
          -0.8850927775668236,
          -0.5873263040651974,
          0.5316963477155124,
          -0.35052146630844755,
          0.4350429005232264,
          -1.2970267675355156,
          -1.9204676057651955,
          -2.959785541573621,
          0.05887444643157811,
          0.6285457799228742,
          -0.24896220574264502,
          0.08827200061302498,
          0.47631894595354457,
          1.1318385351410707,
          -0.7446000475494197,
          -2.0130526319331046,
          -1.2463996001449438,
          1.9918226014022533,
          2.7072787828158327,
          -2.6630393958284486,
          -0.10248909804986983,
          -2.03703142348711,
          1.8665357148105728,
          -0.942281654773475,
          1.28208751056246,
          1.145855326234719,
          -0.5763941380296752,
          -1.2556660881719064,
          -2.292935445081278,
          -0.9678394600828943,
          -1.2884122888713916,
          -2.5979385145428133,
          0.17213678546738787,
          0.00695469742283692,
          0.9117440278871572,
          -0.6484278060889522,
          0.748000195382342,
          0.17953920914746918,
          0.2136989093126047,
          -0.5825410669894675,
          -0.5209356110156379,
          -1.6058967826194566,
          -1.3351286904380215,
          0.8868457193976955,
          0.7468474496745002,
          0.6502426231281213,
          -0.4485362803156679,
          -0.3449959594735182,
          0.8042385742584772,
          -0.925223488999166,
          -0.9874998844984595,
          0.06070738574328465,
          -1.1067288403750368,
          0.08830724932736411,
          -0.22040075831522402,
          -0.17660543291079758,
          -0.4480682553380968,
          -0.2382629865307815,
          -0.4259721347567801,
          1.8058526107358415,
          -0.22929621122564567,
          -0.39545898025913306,
          0.21727822676106853,
          0.7705158866591029,
          0.8681355516541206,
          -1.4800575873846757,
          1.7332916235358278,
          -0.2282910210654157,
          0.061595302818057064,
          0.02047874026790929,
          0.3636758797548459,
          1.2536943423620674,
          -0.3737842261756687,
          0.06708469770479904,
          -1.5320474216665505,
          -2.3649734046487096,
          1.2663420817073507,
          -1.0154001991861143,
          1.3585877976012268,
          0.7316932412963674,
          1.0189949586311835,
          0.6813398297879087,
          1.4999693224357087,
          -1.543711551977818,
          -1.3001358988773242,
          0.8883521850812875,
          0.9232719277904272,
          -0.08568507375477241,
          -1.0576875334689502,
          0.1750523169261422,
          1.360592907962189,
          -3.5330953535965883,
          0.4716207994561533,
          -0.4824421099195801,
          0.8475586735900058,
          -0.8904335265162032,
          0.9491514652110138,
          0.5706206935720282,
          1.6425567236237633,
          0.11046700956063152,
          -1.2449776218898203,
          -0.23571551005825914,
          0.8838223870553773,
          2.6156184805945197,
          -3.3125684230441252,
          0.11170531204918682,
          -1.196182052775056,
          2.162390551142545,
          2.461708489177513,
          -0.5611818628741962,
          -1.364903505185659,
          1.7095414492766958,
          0.09201828410256464,
          0.15189504617735347,
          -0.9578243597302639,
          -1.2323782547006863,
          0.7184376007091462,
          -3.091805177135403,
          0.33178151805970274,
          1.1818891994336158,
          1.3389361380780342,
          0.410169688829391,
          -0.3315561169857367,
          0.9439401527105219,
          0.1327890438976772,
          -0.5731779955677141,
          -0.7795692386541435,
          0.3829995245446966,
          -1.2820192689340872,
          -0.5587395486074013,
          2.3993471710887646,
          0.46461341366020553,
          -0.8849095506652053,
          -1.3204914708812325,
          -1.5571056903081317,
          0.23605577389489157,
          1.794564893196472,
          0.5023611235394331,
          -1.9093004618948128,
          -1.334589156129076,
          -0.44412482125830643,
          -0.36152347635993104,
          0.2848183315004294,
          0.783894832939753,
          -0.25360117897556433,
          -0.26079826540564927,
          -1.4741415607670336,
          -2.962645490892422,
          1.1212807530299598,
          1.228810774472885,
          -1.175183695466283,
          -1.055679227619839,
          -3.159847476131928,
          -0.8513495380478725,
          0.3728721952707531,
          -1.739164188265435,
          1.3164942195002807,
          -0.6860089519712375,
          -0.6399881771021203,
          0.6314476097366803,
          -0.36722403527299113,
          -1.4212222050093595,
          -1.3435716454947204,
          -1.533634481205228,
          -1.2622068626906786,
          2.4764222820626367,
          -0.36075884530536473,
          -0.7615643861614233,
          -0.873801771981997,
          0.6939813479421879,
          -1.4273423188597585,
          1.6964832071994043,
          -1.3074117448519462,
          -1.6556688335706402,
          0.9011631190492576,
          2.517724725542491,
          -1.2607893110809243,
          2.6044328280579254,
          -1.076016872597194,
          -0.03061209799761327,
          -0.09080950033744283,
          0.45293575357148824,
          -0.8062194726138868,
          -0.7368262298803275,
          0.5045582655416916,
          -1.4703803257793053,
          -0.2553365470852657,
          1.5737190171988187,
          1.2365334521555216,
          2.179414271694758,
          -0.15944113951063146,
          0.11543320051221592,
          -0.47716996261735833,
          0.4101225046115921,
          -0.9869045855897212,
          -1.2530206714537537,
          1.0035522785643085,
          -0.3666006900808239,
          1.1744771747779825,
          0.9337902510386114,
          -0.8513305630782385,
          1.0211853423003556,
          1.5996309519086722,
          -1.1356620744794006,
          0.5583532635123674,
          0.9675854320606709,
          0.3109476304005403,
          -0.2804580103810948,
          0.22262303606801792,
          1.304900348935416,
          1.4054331829175715,
          -0.48515712514617765,
          -0.11551407184382882,
          -0.5464596884769103,
          -0.96620475093339,
          -2.750557721361524,
          -1.422516611900405,
          0.9571419525668934,
          2.491349794861712,
          -1.076923376449086,
          -0.6165560709199404,
          0.5900369059969952,
          0.12538076728513212,
          -1.3818225496147367,
          1.684993603209634,
          0.5803465009156016,
          0.1345763573295224,
          1.275427067498682,
          -1.4812117018058986,
          -0.6921373177841867,
          -0.6284716078404256,
          0.39167280518962416,
          -0.7338636948336029,
          -0.3980680564965706,
          0.5929305581656494,
          0.25722229944652863,
          -1.5630969072854064,
          -0.3325748367085833,
          1.4229454075187173,
          0.03875178438033277,
          1.7801625782248207,
          0.4559879878879892,
          -0.30838138803818593,
          2.0609158589155365,
          -0.5617231337581307,
          0.3076493413867064,
          2.5430977578895706,
          0.12755137715117437,
          1.4988924691802148,
          -0.18954530397271088,
          1.2672371407868759,
          1.4319072055471451,
          -0.3446858958683482,
          0.44074375977008,
          1.605762591529151,
          0.25862373913684183,
          -1.7391921920185347,
          0.7139302195390983,
          0.47479170442193297,
          0.5757849554239667,
          -0.32421791954875673,
          -0.2226384085915526,
          -1.4512793656310001,
          1.7338382275135518,
          1.699254655472273,
          0.37114865696638294,
          -0.9547486305133971,
          0.7582780721196204,
          -0.0757661899278121,
          -0.0076280080984365084,
          -0.608645755648493,
          -0.5172156375516972,
          0.5920835683453199,
          1.3050232627033955,
          -0.03554913372477423,
          -1.2928056731926683,
          -0.14864842962653874,
          0.8749711983482057,
          0.6506535673324289,
          0.5933206682342921,
          0.5616889850477027,
          0.23761398506701506,
          1.0009507295143307,
          -0.0493782853298804,
          -0.6181049146174098,
          -1.406578198118764,
          1.7195788524999494,
          -0.8270252896488571,
          -0.251036862746632,
          -1.121202867274423,
          0.33782973414216894,
          -0.8611978143579152,
          -2.310530107187663,
          1.8552460144241185,
          0.1572734705567852,
          -0.6780945769125037,
          -1.3381785826231716,
          -0.5348405841607828,
          0.9888280302380736,
          -1.4532974478193275,
          0.32994878989003357,
          -1.0336005565369004,
          0.6715345566731461,
          0.4236693309270017,
          -0.3219461402582221,
          0.7956981102115869,
          -0.04879855816578637,
          -0.26334738996484713,
          0.39450938710363415,
          -0.35101242612189854,
          0.6273155400301542,
          -0.8376323377681192,
          0.36922394930850394,
          0.7105128459635139,
          0.032865933460429035,
          -0.22537403294340655,
          0.48572855475440485,
          -2.5409942663193816,
          -0.1614010293143727,
          0.46850171042609196,
          -0.4288984645312519,
          -1.6918133350004043,
          -0.5599608697662684,
          -0.9179216869208628,
          1.0991626115939777,
          0.6707646627075464,
          -0.6480293975965489,
          -0.48146140496600587,
          0.309217971610531,
          -0.5343681650330468,
          0.6764185757607774,
          -1.6003954931033066,
          -2.832929939441963,
          2.745726406599911,
          0.6596409374185327,
          0.014793834748496631,
          -0.3794116713256845,
          0.2828941221866792,
          1.4890549585579584,
          1.1489381940298582,
          0.5371118215569027,
          0.5241880703948413,
          -0.9845822889527285,
          -2.008211806704087,
          0.16556137364932413,
          -0.859824805240273,
          1.0550989061127827,
          0.3292431616727435,
          0.2956077125578313,
          0.7577177051369425,
          -0.3327876372869648,
          0.6298870104638453,
          -0.22779235266691614,
          -0.684291479592208,
          0.7579018934210195,
          1.0150488936086877,
          -1.310494790350958,
          -0.542667238024576,
          -0.5080099945318037,
          -1.3209345055477046,
          0.6462823597268628,
          0.45156786132491517,
          -1.5734863969141808,
          -0.9839359235705746,
          0.6668842459301821,
          -1.8673839317362584,
          0.20961031636187233,
          -1.7669613226768022,
          0.7296234694850492,
          -1.5340203777888624,
          0.41649938216919336,
          0.926811846521047,
          1.8331345159630474,
          2.537748110772502,
          0.8133583320266976,
          0.2306362488535219,
          0.7248405196930201,
          0.6419582690620799,
          1.1950465014688443,
          -1.4948672275177073,
          0.3814942148588905,
          -1.758123100230491,
          -1.2526194805049282,
          -0.4340194239400642,
          -0.7577143363551657,
          2.1034655125784787,
          3.4693988342198465,
          -0.4983603892671994,
          0.15531261266626836,
          -2.4916792768655194,
          -0.04719466274927056,
          0.8581215854318249,
          1.391547324759695,
          0.6894206233678841,
          -0.3396937080045508,
          -1.0833522625386134,
          2.5147726633108913,
          -1.1898362019617417,
          1.8787449253577366,
          1.124537557163545,
          1.6698731958432416,
          0.765178185962998,
          -0.38176976690861564,
          -0.5286914768962246,
          -0.6423334642747062,
          0.5997323831890798,
          -0.9899237815602495,
          -1.4528937034621414,
          3.1273313041572353,
          2.341822087635744,
          -2.397427645097233,
          1.584613600717283,
          -1.0592967555468369,
          -0.7470978318447281,
          -0.2190139689012686,
          0.2340223203629721,
          1.225026102923016,
          1.5481736506496788,
          -1.8529038840782166,
          -1.501321155018797,
          -1.746153308650683,
          -2.872438269626793,
          -0.9695934225671206,
          1.157182570900515,
          -1.020681799431981,
          -2.3466673937939793,
          1.2402068599751286,
          -2.2386107634049086,
          -0.9844413569254826,
          0.3542731417344975,
          0.9287964738489897,
          -0.28584654356930017,
          0.4953979607998973,
          0.3481543933832365,
          -1.0715975227234924,
          -1.8782833274000243,
          -0.3561461636246586,
          1.3053021103159756,
          0.8062746257549227,
          -1.9744673377122224,
          1.868674446339891,
          -1.3714566808045092,
          1.3568025344246117,
          0.45562321867457684,
          -1.0317681600268473,
          -0.4995780839256584,
          1.3958108026150358,
          -0.2407390398598523,
          0.7360207494793791,
          -0.20761819132730125,
          -0.6795686774320043,
          0.44591976000925243,
          -0.5753649452095948,
          0.5391167775346561,
          1.679704667622263,
          0.003880338490981123,
          1.430725975139782,
          2.516804430232836,
          0.7069264969035713,
          -0.8906447624844458,
          2.2975804114403475,
          -1.1309244298144203,
          -1.0265975190284111,
          0.02895292586628301,
          0.354561087179197,
          -0.40367712241210657,
          0.3805129614279186,
          1.099596150273936,
          -2.2112481109991347,
          0.6207650627039158,
          -0.33316599911211187,
          0.6249922314927037,
          -0.8234288130088234,
          -1.5577486268929475,
          -0.008722040277976618,
          -0.06864597819677958,
          0.2496422728012561,
          0.5206893584080402,
          -1.3748672689848294,
          -0.08525157415930393,
          0.11441426881866844,
          -0.3865727377477221,
          -1.3368817130062332,
          -2.0465715115064294,
          0.9280169404503048,
          -0.7234297236741062,
          -0.6260656220160902,
          1.1891252610130765,
          -1.4003281254297562,
          -0.4057981677588691,
          0.24818130104970837,
          0.8672330064562129,
          2.106907047118123,
          2.366617015448474,
          -1.6512708517632035,
          -0.505012595373767,
          -1.3219426206360965,
          -2.1179232685949145,
          -1.3907167171992174,
          -0.25769903918916315,
          -0.37019182064742484,
          -0.4564349796489221,
          1.4195938857014228,
          1.2363016785589047,
          2.1612803692981335,
          1.1362998368098522,
          -0.17330152363451368,
          0.5100784615507925,
          0.6229055343240566,
          -0.15879299739413164,
          0.24166442407251687,
          0.8962933168918529,
          -0.8454125486747877,
          -0.727924508783928,
          0.33983843614414194,
          -0.19071269447140093,
          0.6139310515399449,
          -1.2641961726962785,
          0.2848181553677424,
          0.4011718978181888,
          -1.9503808124330728,
          -0.3312795500555981,
          -0.641118422127951,
          -0.17265631883469015,
          0.03571474728733703,
          0.15008190407925773,
          -0.6976404604341178,
          -0.24099753491947978,
          1.503896733386657,
          -0.7461118346404801,
          0.3924405864914063,
          0.5952900918820526,
          2.215631439473273,
          -0.42710420014457534,
          1.3790248280788813,
          -0.48257997938209046,
          0.44693621032759706,
          -1.0964808984554384,
          0.7218077076743532,
          -0.9417015352560344,
          -1.4603392769534036,
          0.30160015174126287,
          1.8416029518781627,
          -1.579140097004906,
          0.8146939259358806,
          2.151643432079498,
          0.702541227038171,
          0.3932489656207259,
          -0.3057985803357712,
          1.6598819128181586,
          -0.17073506039177147,
          -0.8687857322915851,
          -1.214074014624748,
          -0.9955720008764432,
          -0.6506029405319235,
          -1.9913717743705777,
          0.34849615416247054,
          0.5142260955484153,
          -0.24568550860401572,
          -1.3681160325955561,
          0.4801670892445573,
          -1.541300436732186,
          1.9632917771907303,
          -0.6366149111327253,
          0.17352927936129228,
          -0.4941039959272593,
          -0.7920600550638366,
          0.3519647716720764,
          -0.654219449809587,
          -0.2558779546669845,
          -1.9489411029064696,
          -1.2136906489827495,
          1.0423122154022304,
          -0.9203245057698668,
          1.8626715080711085,
          -0.8386040614168188,
          1.087230925596466,
          2.2648199107748854,
          1.3172306319607066,
          -1.4396860051998472,
          -1.7230786702172542,
          -2.21481053440875,
          1.2540410186074629,
          -1.778062440915879,
          -0.030306497015421836,
          0.9799038192309262,
          -0.9163067518261183,
          2.28533349580158,
          2.3344112977634173,
          0.9264914082464065,
          -0.5471514232072829,
          -2.4093196805591477,
          1.912875264128492,
          -0.2542345676034459,
          0.529211048401512,
          0.8147343289885898,
          -1.225533685387588,
          -1.0296084505740526,
          0.4945062927977444,
          -0.6069007177455032,
          -0.10249800397878907,
          1.6219726409259982,
          -0.23226877525784762,
          1.9200567652914042,
          0.2912625843600353,
          0.9724541985706712,
          0.041291481569173505,
          -1.3921612835272938,
          -0.42763208998254104,
          0.571741180925653,
          -0.617940198359247,
          -0.7671984148584816,
          1.3694233880004232,
          0.7013341076330948,
          -1.8972073934783087,
          -1.6894824263139219,
          0.34135493043421605,
          1.6316128378782195
         ],
         "xaxis": "x",
         "y": [
          0.7243150837866048,
          -0.65656885111363,
          1.1378139924945465,
          -0.09015891934523396,
          -1.7452677713447622,
          1.644956146336456,
          -1.6353440150880292,
          0.8112428704466296,
          -0.2375639383428762,
          -1.7946961517515716,
          0.8495290817796867,
          -0.1961708425161873,
          -0.7815906335453983,
          0.37605064424174384,
          1.3284869560725194,
          3.407464328404264,
          -0.9760114747346811,
          -0.5121993702337421,
          -0.988216159862025,
          -2.3194166200834765,
          -2.1219325056758556,
          1.7736463014107196,
          0.5206930761756344,
          -1.0373198767307974,
          1.1373206550971044,
          -0.967085784849482,
          -0.23191763182523462,
          1.0998155332891428,
          -0.13027376158912496,
          0.3671046631734121,
          0.31594924915718287,
          -1.8981709551855974,
          -1.0005739467873642,
          0.6900705920848639,
          -1.4922541829249998,
          -2.4800067039621143,
          -0.16800434064049782,
          0.010127428536150928,
          -1.4766411569057132,
          -1.9313942270369702,
          -2.0570734546151206,
          0.8971337318537554,
          0.46391515736552147,
          -0.07768485518494299,
          -0.6117323778026501,
          -0.45942050345807905,
          -2.502861968758062,
          0.029801590651848613,
          1.3980410194053288,
          0.6198777507642773,
          0.3012401033710852,
          -0.18879364095869802,
          0.5428664628599706,
          -0.062241109735034154,
          -0.6507306620743126,
          0.5349909176385784,
          0.44807425452738114,
          -1.1314065811068175,
          -2.1932041482928843,
          -0.4323047863428765,
          1.5102844686805497,
          1.2097383761994036,
          1.0132662077691126,
          0.7378038806219108,
          -1.0879399007835542,
          0.7850093901606972,
          -0.9579706989545694,
          -0.8152013734515549,
          0.06517593122445633,
          1.2751665870418523,
          0.15737441525325055,
          -1.3433105516674857,
          -0.8370896844054905,
          0.912679377708179,
          2.37632861479988,
          0.12251874155394031,
          0.03789950775297918,
          -1.0467881673485917,
          -0.6428208634617503,
          0.2604506018251383,
          -2.193604428488707,
          -0.5648577810056715,
          0.8663991508911892,
          0.5595584670866822,
          -1.5581714058861986,
          -1.045770549566274,
          0.4637692438550156,
          0.026291145817837022,
          1.266422724588109,
          -1.2386412238308904,
          0.3374335967912919,
          0.42481208549692134,
          -1.5764536471703863,
          -0.756800674638804,
          0.5652196477287887,
          -0.09797781230221538,
          0.11670396745787183,
          0.9955901815388448,
          2.547238275437556,
          0.8504491044984158,
          -1.1269923054848077,
          0.6470550845140417,
          0.5740461874805667,
          1.6237192377828382,
          -0.5706194394856382,
          1.1015604462369162,
          -1.0040895814119404,
          -1.1384233162586583,
          0.25740401025411597,
          0.9722421158076365,
          -2.3185911789939775,
          -0.7426023362007458,
          -2.9903275663378457,
          1.4661660368876215,
          -0.2249632393505185,
          -0.9346792883688284,
          -0.08620251180098432,
          1.8702309222237397,
          -1.0768956908790113,
          1.2147407052623678,
          0.23886222113312,
          -0.34992311801485204,
          -0.49428109939136955,
          0.4574291500744033,
          -0.9469396828992533,
          2.2623129312489683,
          2.0863348660748327,
          -0.46537209422852843,
          0.046401352280246874,
          0.020456523741421668,
          -1.726375245739548,
          -1.622825780337943,
          0.052203487528985036,
          1.8458593256088047,
          1.6047652944049586,
          -2.1679187756841447,
          -1.2101545207974644,
          -0.7379692702326538,
          -1.4428026505585219,
          1.7482268303242048,
          0.48347047178111874,
          -1.134281507418801,
          -1.8748845478781906,
          -0.2300595883902578,
          -0.6295310779933919,
          1.0410687316061409,
          -0.3836233794378436,
          1.0981584643597737,
          2.2104211964695204,
          -0.8649676649656884,
          0.936589280154377,
          0.29771445990664935,
          -0.6423396245560938,
          -0.3446468996582492,
          1.6939531338369853,
          -0.2306155568548626,
          -0.8238389569677992,
          -0.7093635072834508,
          1.2744756594507187,
          -0.6996437439188581,
          0.6566066215631233,
          1.747244445810975,
          -0.10083648122201719,
          -0.28684682370838577,
          0.9129608236780004,
          0.16240284194327936,
          -0.610268611118579,
          0.15234673844095173,
          2.1392105513110367,
          0.07750624899388688,
          1.7491243378239403,
          0.6208472850672002,
          -0.42267497381918506,
          1.093605362914278,
          -0.6661752895061227,
          -0.23077368361218856,
          -1.744856426789132,
          -1.6416526996893739,
          -0.4203384594256709,
          0.03706155206981284,
          1.4730815617073227,
          -2.473775131994486,
          2.349867306630497,
          0.909229343412663,
          -2.0416222990457773,
          -1.4270262404768965,
          0.8959287087653446,
          -0.42218646985525715,
          -0.3079981188227042,
          -2.2348359532035262,
          -0.015429208978717062,
          -0.013995016406970543,
          2.2231870540671075,
          0.830609269019332,
          0.7846163779283218,
          1.294927114053944,
          1.8688639843700976,
          1.4349789449747266,
          -1.9728306554699466,
          0.9764017324773147,
          1.8459245800399893,
          0.20038276417481446,
          1.954427249159546,
          0.20501858584730964,
          0.12472151371736545,
          0.36217064241713864,
          -1.192256929414294,
          0.4919480184461633,
          0.17851790274295856,
          -1.3363296802044988,
          0.263497475454053,
          -0.11695531039701877,
          -1.4518632853721845,
          0.4407943944385262,
          0.6703827355768157,
          -0.47833970225079525,
          -0.8542778670929567,
          -0.5162009756869563,
          0.2828227233222753,
          -0.7662761080049435,
          -0.4764682036559636,
          1.5194497854283269,
          -0.058469858342874034,
          -0.9946352688906933,
          1.1241594908025896,
          -0.10812764289023814,
          0.5600791354949642,
          -0.22071285213626957,
          -1.0394018808648804,
          0.8417331246060048,
          0.4526518915765666,
          -1.6186519649227398,
          -1.0452203742079027,
          0.7913399356708987,
          -0.08287044803475781,
          -1.41451141798873,
          -2.097336922352452,
          -1.6763773648771432,
          -0.3982265213911623,
          0.5142091236325698,
          0.5868077766432533,
          4.202329642307846,
          -0.934270823169143,
          -1.1713535579433758,
          -1.3229478836076345,
          -0.9504236082766468,
          0.09404488311847325,
          0.6416132937399394,
          1.1012528474341292,
          -0.8007258966458981,
          -2.797030223883492,
          -1.0635070803379325,
          1.7408035938573512,
          -2.7727011994063133,
          -1.728396572598219,
          1.4010018039513452,
          -0.5050825694532057,
          0.5312693130055618,
          -0.6200001096280732,
          -0.1982652257331888,
          -0.12317602883786143,
          3.368879275566786,
          0.7818176158477795,
          2.259774815155237,
          -3.006086236557483,
          0.21379831453930329,
          -1.2146058411380045,
          -1.916605932812283,
          -0.149581868361369,
          1.0760484976725206,
          0.5669894586318511,
          -0.6742955812107109,
          0.0728684095467833,
          2.4335351558295266,
          -1.0313143439717465,
          -0.5590835687176584,
          -0.9304822237626658,
          -0.3536129257303071,
          0.43728353847869944,
          0.17308713762907807,
          -0.2888447809287619,
          -0.9102021529906558,
          0.4132175807159943,
          -0.10285210366915211,
          2.0658331914883856,
          1.7573179909151169,
          -1.1942277185504258,
          -2.645682187946533,
          0.6055225466246128,
          0.230117115728471,
          -0.2931280575882889,
          0.049774745687172404,
          1.4999233715243045,
          0.19808061253337475,
          0.03045372168784195,
          -0.20435773712490443,
          1.467314244162012,
          -1.5339438358760504,
          0.024883377015837673,
          0.8973130109213237,
          -0.9813249430016675,
          1.133208993828391,
          2.2136940419940063,
          1.1285068980290076,
          0.3748533355248364,
          -0.6663270735429374,
          -0.28549478140516227,
          -0.8001077719939195,
          1.3067468706202299,
          -1.0405543524606304,
          -0.4826371661495215,
          -0.9397238815256566,
          -0.961517946047934,
          -0.5079618303695993,
          0.9259266413137238,
          1.2798906549031033,
          -3.2178501432061286,
          1.7681500150339076,
          0.5322694398936745,
          0.6892575451267066,
          1.1008195440242576,
          0.9571150631332482,
          0.15587369344198834,
          -0.9885124812853188,
          -0.6082428872851022,
          1.1643199009277663,
          0.5659261812963821,
          0.4801357423172275,
          -0.31874789820663846,
          1.8691004586275524,
          0.692683548636967,
          -0.2890839210469666,
          0.15417640451327824,
          0.6695357073216779,
          -1.1369789407498583,
          -0.8983672615487391,
          -0.788976600814183,
          1.1927941933525512,
          0.6293738987192926,
          1.9008041060203449,
          -1.262399371447759,
          -0.7680122492806193,
          1.9205613512615523,
          0.4426682761082393,
          -0.03883488773903753,
          0.0463238096351633,
          0.39775883588516076,
          -0.47509518826294017,
          -1.4821228953427503,
          0.6880382064692239,
          0.7009947211267161,
          0.018732313694725982,
          -0.2828112908016971,
          1.8638230134405482,
          -0.5344163027774587,
          0.2846531340418956,
          0.5076860565590074,
          0.435149417553083,
          -0.046130902771453146,
          -2.991485322870881,
          -0.17121456420673178,
          -0.2742023050335493,
          -0.9891532757993313,
          0.3093559796203178,
          -0.0453432029629521,
          0.7778165632054076,
          0.19107180583086705,
          0.7422324055145055,
          0.3898133077848466,
          -0.5145897891118388,
          0.8760705438719026,
          -3.721938146925846,
          0.0853877385830172,
          0.7105541188887478,
          1.5880515667408235,
          0.8749990062838361,
          -0.4367979267438649,
          -0.9492710951715321,
          0.6033205888539029,
          -0.21928714004451963,
          0.38933561789665955,
          -1.4117781912103224,
          0.4281592539953398,
          0.4769589924641871,
          2.3796804928205786,
          1.145549404270024,
          -1.508172365680689,
          1.037322048065351,
          -2.0847663366580402,
          -0.933455544149264,
          0.18954229837329978,
          -0.2886906137771607,
          -2.7196576244799155,
          -0.23570591602609053,
          0.5358264765515718,
          1.9229112686270577,
          -1.900767217982432,
          -0.19135063812119196,
          0.005965267694178045,
          0.02186153186151814,
          -1.8652899841826347,
          1.8789294316029261,
          0.3964615736383128,
          -0.04866986894498628,
          -0.2395024111864344,
          0.8007769013934362,
          0.6567665296960006,
          -0.6186211315379013,
          0.2989707701863292,
          -1.0561073701555315,
          -2.3525309642803367,
          -0.6341956985363968,
          0.40132999259479685,
          0.17194156226171056,
          0.5386885223770718,
          1.070287730927867,
          2.8763421624264836,
          2.020348704630662,
          -0.4022768816806048,
          -0.12280733925857418,
          0.13146252751547782,
          -1.1468918301027866,
          -3.282585289363398,
          -1.9145458377505762,
          0.35809491815052513,
          1.814547231717494,
          2.832965401989752,
          0.1660285771446307,
          0.6771373615674893,
          -0.6571759175541534,
          3.0008718940322807,
          -2.222693183216443,
          0.008851841795148214,
          -0.3410396561762822,
          -0.29400778309396425,
          -2.518862473626742,
          0.0019389750107937545,
          -0.6294171284388591,
          -0.2368535380143897,
          0.6702896564761689,
          0.9167153126145762,
          -0.8798945135170867,
          2.2335580504808554,
          -0.39251531099845577,
          0.01637409492547667,
          -0.5785866081763817,
          1.1292954071313872,
          -1.3477111010604763,
          2.0019186156831426,
          0.8828408137130679,
          -1.0607268784816148,
          -1.7455986388412785,
          -0.04527988286840574,
          -0.7073274904504857,
          0.059112417927425984,
          -0.5965270557980777,
          0.6196720865588546,
          -0.7443290655176009,
          -1.046227252446417,
          -1.0086549070105737,
          0.5282089031513933,
          -0.020383341521915486,
          -1.187577502864849,
          -1.3342473131325205,
          -1.3904491301034523,
          -2.229393339248558,
          0.8604797207514883,
          -0.328257391196468,
          1.0668006942901218,
          -0.6292183246166149,
          -2.308361168071646,
          0.7290421557209202,
          0.481461481715857,
          -0.21729772478640272,
          0.7914335700523206,
          0.28047234497292944,
          1.1579689855243644,
          1.2462780391035206,
          0.2523605116999997,
          0.08888626296925393,
          1.1127810100762507,
          -0.5132257275258673,
          -0.4773783517165307,
          1.1163591981778478,
          -0.34251337973929513,
          -0.9301909624335847,
          -1.099019008991454,
          0.07177729841081823,
          1.062407971758328,
          -1.9632785779644317,
          0.7115136969110629,
          0.2259977311533756,
          -0.10221590660096959,
          0.7274701129061287,
          0.9713397984650352,
          2.019505991071812,
          1.9405878200400541,
          -1.2237366841530508,
          -0.0847981958063359,
          1.2446169229322586,
          -1.1994924009470573,
          0.2748009615502651,
          2.072960249648621,
          -2.569132920960769,
          -0.4957841099656507,
          -0.20246891777650206,
          -0.5768367772665383,
          0.035806774761668714,
          -1.4409765366771943,
          0.25484384924936476,
          0.48965777336018707,
          -1.8570726741193964,
          -0.20985350373727327,
          0.8699701236793761,
          0.23616384073628396,
          0.38589049848274987,
          -1.8069513762111789,
          1.2701100466089075,
          0.83644564454838,
          0.6583661115347154,
          -0.23166334719025777,
          -0.4599605263692249,
          1.1506537746918666,
          -0.7716205220743019,
          1.1282892773669035,
          1.2380196642974954,
          -1.1828693493786984,
          -0.6342853124226481,
          1.1427455924976953,
          -1.3558301359166054,
          1.1649553132949224,
          -0.8522197189962519,
          -2.236165090079627,
          0.9817293031939128,
          -1.0656810517972968,
          -1.2163581677203417,
          -1.3261467526091228,
          1.1885334524715834,
          1.5433083197798203,
          -0.3821976769787212,
          -0.22519525023458123,
          0.9891994767957787,
          -0.11562695698385915,
          2.085046089700662,
          -0.11093292495347838,
          1.0938333582206883,
          -0.20926051307872964,
          0.25419635766175575,
          -0.15576551290078267,
          -0.01625639877370725,
          -2.10302608225169,
          -1.1813461518991701,
          0.8888882469836777,
          -0.2471410275224608,
          0.40410815022369345,
          -0.1448337767847111,
          0.49202170384023547,
          1.6356854996961447,
          1.4038712799758204,
          -0.5590202743184728,
          0.7769786092491779,
          0.4087885377955059,
          1.2143781447078112,
          0.07080793313943344,
          0.7361269324313856,
          0.2652008724646944,
          -0.30121255407524294,
          0.9863181617961536,
          0.4702702218456049,
          -1.8277827194300724,
          0.17988096207036244,
          -0.31782024110299084,
          -1.4219451300556303,
          0.03750570646623222,
          -0.16848602470805757,
          1.4826633301095964,
          1.0703074815697888,
          -1.531809829002351,
          -0.14090821960561759,
          0.5629644914061633,
          -1.4113405472705256,
          0.7477038680439742,
          -0.23947023164976078,
          -0.6518407863556998,
          -0.3333907816541927,
          -0.8436205490889795,
          -0.29432035475468626,
          1.1513531307155254,
          -1.8223842992729866,
          -0.746840779823205,
          -1.5895217103535513,
          -0.4833644271760964,
          1.953324746862123,
          0.8171301318943699,
          -0.772229877189778,
          -0.8168530757795207,
          0.25324735684623195,
          0.773119907915681,
          -1.5848887798422342,
          0.9485879073605031,
          -0.5185777377223931,
          -0.054628147555948026,
          0.741516957634928,
          -0.4766480032568521,
          -0.28951070561029574,
          0.5614704735174725,
          -1.1886124535509306,
          -1.0810712654133006,
          -0.7286698177920846,
          0.3348035791274696,
          1.1881454212532707,
          -0.3875056765881812,
          -0.008176543939037644,
          -1.148470005471346,
          -0.09680301172730942,
          0.45697833797637166,
          -0.6649881932413825,
          -1.664658558449196,
          0.25689966778188067,
          -0.03878230881223867,
          -1.7879139846168048,
          -0.29394582273718833,
          0.03721206884993981,
          0.9640986087884248,
          -1.3398960517521064,
          -0.7329914302099795,
          -0.13277682043774688,
          -1.973180917280652,
          1.2224618208404252,
          1.8703978402874344,
          0.41552118626630596,
          1.246059266442768,
          -0.19245313467677777,
          0.2634999773214679,
          -0.15577852246995055,
          0.3029829818263396,
          -0.18370976814678328,
          -2.1047825318424356,
          0.47184553383287725,
          -1.5391355713737955,
          0.9353689772611582,
          -1.7956734080871144,
          -0.49510667673005193,
          -0.6191731432077995,
          0.6249352364697812,
          1.238984151294919,
          -0.05640893512453468,
          0.39093301160548577,
          0.07885893090228763,
          -1.9357079142606821,
          0.7143322047141821,
          -2.2308146045942614,
          1.6395254819726601,
          -0.7139693411058817,
          -1.631945467307439,
          -1.3210049691616352,
          -1.5189863602933087,
          -0.3904133905217728,
          -0.36529041164991477,
          1.6988081107149327,
          0.933490539529352,
          1.1828307173635981,
          0.9882545869296437,
          0.8380152731466898,
          -0.15717729608520772,
          0.34002995024331434,
          0.26053681585290167,
          -1.7073421950678072,
          0.7750567313823653,
          0.16127661783131805,
          0.5718047155908913,
          -2.5354453298372643,
          1.6027829003019511,
          2.516501574424899,
          -0.409936032619239,
          0.538164518477848,
          0.6123590342846507,
          -0.6452321189475086,
          -0.09958705809135489,
          0.4199193299886861,
          2.532038153211022,
          -0.8037772094597976,
          0.7962870647936914,
          0.6312395808333169,
          0.12347225483086316,
          -1.088104372571508,
          0.3859064503494029,
          0.38083817644675627,
          -0.3323779429810351,
          -0.5545110703157763,
          0.21711939682976142,
          0.13019308291151063,
          -0.7649176236758147,
          -1.0302997538320129,
          -0.8401264956787653,
          -1.8254570735834097,
          -0.61052655321941,
          -0.40030085567002566,
          -0.09786737238399693,
          -2.165595251322147,
          0.19197261963222267,
          1.2656137427369332,
          -1.2002132011280744,
          -0.8182036877530928,
          0.8086076750448284,
          1.1300263644730442,
          -0.8615076852814777,
          -2.805342974780693,
          -1.0312110576942597,
          -0.09718768290196964,
          -2.2848235836287913,
          -0.8493150428867646,
          0.04086703658975812,
          -0.916227497220783,
          0.49728370522606835,
          0.5578020198420963,
          -1.893629935797411,
          0.4917442681181202,
          -0.23564048147628905,
          2.369548277074446,
          -0.30306193190529185,
          0.9287915809181263,
          0.7695851456595199,
          1.0700329525556818,
          1.4116094797411052,
          1.3352338436602356,
          2.081048974171849,
          0.47190354000828283,
          -1.9831804467799108,
          1.1598013925170485,
          -1.0406962744516604,
          -0.8427303101984385,
          0.9146609735816037,
          -0.18536164445135686,
          0.08860710983679586,
          1.3275420285322597,
          0.9494908577957817,
          1.0128126431640165,
          -1.1776333654814897,
          -0.5630288940541198,
          -0.6103716010586052,
          -1.9370196870499174,
          0.9555630035062996,
          -0.24966317763897286,
          -0.7222266845807763,
          1.8658728990565665,
          -0.749259990540003,
          0.5565904516445219,
          -1.8528805390689553,
          -0.17466821178443673,
          0.7414688973208717,
          -1.2971098494213413,
          1.7719816739277323,
          0.021699452262392428,
          0.6777593681899088,
          -1.052373643791217,
          1.7532610273074265,
          1.5275258340703972,
          1.5358926458224282,
          1.126752974954451,
          1.9945946784456459,
          -1.999662057759285,
          0.9509299561102145,
          0.38334627146005723,
          0.21482088799117297,
          -0.540005225276403,
          1.1339731767394408,
          0.17401509791287587,
          2.1128118217462126,
          2.527684837813549,
          -0.1268741444989426,
          0.41332183807961914,
          2.436046589514293,
          1.0211642206419775,
          -0.6710186930090306,
          -0.569634254542199,
          1.8614848661140797,
          -1.079979784369906,
          -1.6935634921615494,
          1.6922158705378487,
          1.1690978926043785,
          1.0195762601173677,
          0.20910248042645133,
          -0.10863908296264614,
          0.4540284302022302,
          -0.6275545949312712,
          -0.598288230369631,
          1.5153651324455402,
          1.4258514270445442,
          1.9647609609187184,
          -0.6373294704866268,
          -2.0307454962172837,
          2.0666909452804663,
          -0.11927377182566824,
          -0.6629790079187212,
          -0.14521342534809753,
          0.6905125951473298,
          -1.742503172616468,
          0.062348160627675404,
          2.1026078454847426,
          1.8042543458514304,
          0.3432722199683225,
          0.40770177487315684,
          -0.6072190073811488,
          -0.9006293795162243,
          0.8210158350823317,
          0.6626248606810864,
          1.2061280041536704,
          -1.3415485472903943,
          1.0149401426520166,
          1.4248711260268332,
          -0.7687506899551749,
          -0.8244633914126871,
          -0.4982030512143178,
          -0.6641836290489036,
          -0.08985724144754474,
          1.6905328350104574,
          -0.4475216363864236,
          0.17264130318809334,
          -0.2186283672513494,
          -0.23430909747656037,
          0.8485947124109813,
          0.8371418055905212,
          0.4397157826360993,
          0.43807293363643346,
          0.6678721050645954,
          -0.30309347318152374,
          0.23999739062301148,
          1.5500699200790808,
          -0.5556109731299776,
          0.691860800067572,
          1.0589451062715043,
          1.673102600100176,
          0.08814792332766769,
          -0.5128514427521412,
          -0.07867997372561156,
          0.4154423540576023,
          1.8534274500000956,
          1.2241603303594553,
          0.15431389466258275,
          -1.9157544454432267,
          -0.41138184514920945,
          0.6165416772340175,
          1.5811749827596822,
          1.6480827492451615,
          -0.18426127926659838,
          -1.2551600822441202,
          -0.4508489237189965,
          0.32324686355641735,
          -2.3529273209423294,
          -1.0913924394938932,
          0.6068762606286694,
          -0.05309780206801598,
          1.7673590854262142,
          1.307075859844039,
          0.8958501721230134,
          1.0962747217188666,
          -0.7412450880270103,
          1.084993172352856,
          -1.0931741827201316,
          -0.9710518464658862,
          0.6207722890311388,
          1.179388329598292,
          -1.196101282220744,
          0.6084308973358558,
          1.5481547480218067,
          -0.2762562272980632,
          -1.436734448600736,
          1.4764219682610278,
          -0.11451586658357477,
          -0.2855490231493264,
          1.1260172443260164,
          -0.7054048758690314,
          -0.18052192982742146,
          1.1382522097439212,
          -0.672250306104884,
          -1.030041026526755,
          2.597604636975636,
          -0.26516134585576673,
          0.463671315409414,
          0.3086848502442961,
          -2.054303492941361,
          -0.011321820212737177,
          -1.1204317354173003,
          -0.3317337321391502,
          0.8204878318812449,
          0.33581026942922715,
          -0.32775456543673726,
          1.657989469552964,
          -3.250948995056028,
          -1.4877596869669887,
          2.0245655853422053,
          1.2502341399711856,
          0.25123600258723455,
          -0.2756495448535676,
          0.570043697412849,
          1.6668609328618913,
          -0.625407844786173,
          1.5661869544954432,
          0.5048682321794706,
          -0.6334260607896234,
          -2.899521344563567,
          0.6122673915168187,
          -0.4354299116479183,
          0.5593124434984033,
          -2.844886789909484,
          -1.1343079038592443,
          -1.823619872243142,
          0.1303597987577234,
          0.20265553096921116,
          -0.8734127707704444,
          -1.0199746619608245,
          -1.6033279361924664,
          0.8507751139713265,
          -0.23605953356498896,
          -1.361200113144493,
          2.9149416701000073,
          0.2893130802879081,
          -1.0151751158796996,
          0.0197833422640551,
          -0.022324639333806563,
          -1.4648835873138315,
          0.7154566024763671,
          -0.6595386609863253,
          0.04125774175519032,
          -0.3562896839555642,
          0.16043987007416138,
          -0.13107205002125763,
          -0.9597227645021783,
          -1.0988344687819656,
          0.8380265363768346,
          0.4037188803292698,
          -1.074996574355453,
          -1.130941128356883,
          -0.3095159046147428,
          1.1943357690879364,
          0.08779526849305981,
          -0.7555300954638652,
          -2.2887203661933055,
          1.5512733156179912,
          -0.18918904509960385,
          1.2987024715602105,
          -0.5173776417803476,
          -2.082924364749686,
          0.16207030107837742,
          -0.6173684059061465,
          0.11678352397432913,
          -0.7804669545117268,
          -0.3421601638115442,
          -1.1524408256261867,
          1.3137169938147584,
          2.2760068165378766,
          -0.33157494830938034,
          0.322341295906108,
          0.7632861502388052,
          -0.2528408960860475,
          2.286823037789134,
          -1.0889948193327135,
          -1.2128413195480525,
          2.185014597838118,
          -0.5606885601876286,
          -0.3011954044669195,
          1.0374303330255508,
          2.56764207921598,
          -0.4300431969089774,
          -1.6117781698107838,
          1.0343309743201594,
          -0.4870553781154603,
          0.06299701958390545,
          -0.928286160836311,
          1.0178681315024984,
          0.49852241462355734,
          1.0043876086613162,
          1.0596443231620174,
          2.1334439316370384,
          1.9789517139764246,
          -0.7549053045975735,
          0.3789524833716277,
          0.5121372184762015,
          0.3447044464685732,
          -0.1430619892312766,
          -1.2870385294234463,
          -0.7967697509994964,
          1.9213432466779201,
          -0.7262954864440749,
          0.11929524134071952,
          -1.4129649046015802,
          -0.4158283810666334,
          -0.5129720440432316,
          0.2197962732983367,
          -1.2869333447540103,
          0.6387553510081727,
          0.48569015669089877,
          0.19207928808438832,
          0.5961873219994626,
          1.7614271865487958,
          -1.8243546003275024,
          -0.5429564993769477,
          -0.7233064879016218,
          2.8087332722019664
         ],
         "yaxis": "y"
        }
       ],
       "layout": {
        "coloraxis": {
         "colorbar": {
          "title": {
           "text": "hitability"
          }
         },
         "colorscale": [
          [
           0,
           "#0d0887"
          ],
          [
           0.1111111111111111,
           "#46039f"
          ],
          [
           0.2222222222222222,
           "#7201a8"
          ],
          [
           0.3333333333333333,
           "#9c179e"
          ],
          [
           0.4444444444444444,
           "#bd3786"
          ],
          [
           0.5555555555555556,
           "#d8576b"
          ],
          [
           0.6666666666666666,
           "#ed7953"
          ],
          [
           0.7777777777777778,
           "#fb9f3a"
          ],
          [
           0.8888888888888888,
           "#fdca26"
          ],
          [
           1,
           "#f0f921"
          ]
         ]
        },
        "legend": {
         "tracegroupgap": 0
        },
        "template": {
         "data": {
          "bar": [
           {
            "error_x": {
             "color": "#2a3f5f"
            },
            "error_y": {
             "color": "#2a3f5f"
            },
            "marker": {
             "line": {
              "color": "#E5ECF6",
              "width": 0.5
             },
             "pattern": {
              "fillmode": "overlay",
              "size": 10,
              "solidity": 0.2
             }
            },
            "type": "bar"
           }
          ],
          "barpolar": [
           {
            "marker": {
             "line": {
              "color": "#E5ECF6",
              "width": 0.5
             },
             "pattern": {
              "fillmode": "overlay",
              "size": 10,
              "solidity": 0.2
             }
            },
            "type": "barpolar"
           }
          ],
          "carpet": [
           {
            "aaxis": {
             "endlinecolor": "#2a3f5f",
             "gridcolor": "white",
             "linecolor": "white",
             "minorgridcolor": "white",
             "startlinecolor": "#2a3f5f"
            },
            "baxis": {
             "endlinecolor": "#2a3f5f",
             "gridcolor": "white",
             "linecolor": "white",
             "minorgridcolor": "white",
             "startlinecolor": "#2a3f5f"
            },
            "type": "carpet"
           }
          ],
          "choropleth": [
           {
            "colorbar": {
             "outlinewidth": 0,
             "ticks": ""
            },
            "type": "choropleth"
           }
          ],
          "contour": [
           {
            "colorbar": {
             "outlinewidth": 0,
             "ticks": ""
            },
            "colorscale": [
             [
              0,
              "#0d0887"
             ],
             [
              0.1111111111111111,
              "#46039f"
             ],
             [
              0.2222222222222222,
              "#7201a8"
             ],
             [
              0.3333333333333333,
              "#9c179e"
             ],
             [
              0.4444444444444444,
              "#bd3786"
             ],
             [
              0.5555555555555556,
              "#d8576b"
             ],
             [
              0.6666666666666666,
              "#ed7953"
             ],
             [
              0.7777777777777778,
              "#fb9f3a"
             ],
             [
              0.8888888888888888,
              "#fdca26"
             ],
             [
              1,
              "#f0f921"
             ]
            ],
            "type": "contour"
           }
          ],
          "contourcarpet": [
           {
            "colorbar": {
             "outlinewidth": 0,
             "ticks": ""
            },
            "type": "contourcarpet"
           }
          ],
          "heatmap": [
           {
            "colorbar": {
             "outlinewidth": 0,
             "ticks": ""
            },
            "colorscale": [
             [
              0,
              "#0d0887"
             ],
             [
              0.1111111111111111,
              "#46039f"
             ],
             [
              0.2222222222222222,
              "#7201a8"
             ],
             [
              0.3333333333333333,
              "#9c179e"
             ],
             [
              0.4444444444444444,
              "#bd3786"
             ],
             [
              0.5555555555555556,
              "#d8576b"
             ],
             [
              0.6666666666666666,
              "#ed7953"
             ],
             [
              0.7777777777777778,
              "#fb9f3a"
             ],
             [
              0.8888888888888888,
              "#fdca26"
             ],
             [
              1,
              "#f0f921"
             ]
            ],
            "type": "heatmap"
           }
          ],
          "heatmapgl": [
           {
            "colorbar": {
             "outlinewidth": 0,
             "ticks": ""
            },
            "colorscale": [
             [
              0,
              "#0d0887"
             ],
             [
              0.1111111111111111,
              "#46039f"
             ],
             [
              0.2222222222222222,
              "#7201a8"
             ],
             [
              0.3333333333333333,
              "#9c179e"
             ],
             [
              0.4444444444444444,
              "#bd3786"
             ],
             [
              0.5555555555555556,
              "#d8576b"
             ],
             [
              0.6666666666666666,
              "#ed7953"
             ],
             [
              0.7777777777777778,
              "#fb9f3a"
             ],
             [
              0.8888888888888888,
              "#fdca26"
             ],
             [
              1,
              "#f0f921"
             ]
            ],
            "type": "heatmapgl"
           }
          ],
          "histogram": [
           {
            "marker": {
             "pattern": {
              "fillmode": "overlay",
              "size": 10,
              "solidity": 0.2
             }
            },
            "type": "histogram"
           }
          ],
          "histogram2d": [
           {
            "colorbar": {
             "outlinewidth": 0,
             "ticks": ""
            },
            "colorscale": [
             [
              0,
              "#0d0887"
             ],
             [
              0.1111111111111111,
              "#46039f"
             ],
             [
              0.2222222222222222,
              "#7201a8"
             ],
             [
              0.3333333333333333,
              "#9c179e"
             ],
             [
              0.4444444444444444,
              "#bd3786"
             ],
             [
              0.5555555555555556,
              "#d8576b"
             ],
             [
              0.6666666666666666,
              "#ed7953"
             ],
             [
              0.7777777777777778,
              "#fb9f3a"
             ],
             [
              0.8888888888888888,
              "#fdca26"
             ],
             [
              1,
              "#f0f921"
             ]
            ],
            "type": "histogram2d"
           }
          ],
          "histogram2dcontour": [
           {
            "colorbar": {
             "outlinewidth": 0,
             "ticks": ""
            },
            "colorscale": [
             [
              0,
              "#0d0887"
             ],
             [
              0.1111111111111111,
              "#46039f"
             ],
             [
              0.2222222222222222,
              "#7201a8"
             ],
             [
              0.3333333333333333,
              "#9c179e"
             ],
             [
              0.4444444444444444,
              "#bd3786"
             ],
             [
              0.5555555555555556,
              "#d8576b"
             ],
             [
              0.6666666666666666,
              "#ed7953"
             ],
             [
              0.7777777777777778,
              "#fb9f3a"
             ],
             [
              0.8888888888888888,
              "#fdca26"
             ],
             [
              1,
              "#f0f921"
             ]
            ],
            "type": "histogram2dcontour"
           }
          ],
          "mesh3d": [
           {
            "colorbar": {
             "outlinewidth": 0,
             "ticks": ""
            },
            "type": "mesh3d"
           }
          ],
          "parcoords": [
           {
            "line": {
             "colorbar": {
              "outlinewidth": 0,
              "ticks": ""
             }
            },
            "type": "parcoords"
           }
          ],
          "pie": [
           {
            "automargin": true,
            "type": "pie"
           }
          ],
          "scatter": [
           {
            "fillpattern": {
             "fillmode": "overlay",
             "size": 10,
             "solidity": 0.2
            },
            "type": "scatter"
           }
          ],
          "scatter3d": [
           {
            "line": {
             "colorbar": {
              "outlinewidth": 0,
              "ticks": ""
             }
            },
            "marker": {
             "colorbar": {
              "outlinewidth": 0,
              "ticks": ""
             }
            },
            "type": "scatter3d"
           }
          ],
          "scattercarpet": [
           {
            "marker": {
             "colorbar": {
              "outlinewidth": 0,
              "ticks": ""
             }
            },
            "type": "scattercarpet"
           }
          ],
          "scattergeo": [
           {
            "marker": {
             "colorbar": {
              "outlinewidth": 0,
              "ticks": ""
             }
            },
            "type": "scattergeo"
           }
          ],
          "scattergl": [
           {
            "marker": {
             "colorbar": {
              "outlinewidth": 0,
              "ticks": ""
             }
            },
            "type": "scattergl"
           }
          ],
          "scattermapbox": [
           {
            "marker": {
             "colorbar": {
              "outlinewidth": 0,
              "ticks": ""
             }
            },
            "type": "scattermapbox"
           }
          ],
          "scatterpolar": [
           {
            "marker": {
             "colorbar": {
              "outlinewidth": 0,
              "ticks": ""
             }
            },
            "type": "scatterpolar"
           }
          ],
          "scatterpolargl": [
           {
            "marker": {
             "colorbar": {
              "outlinewidth": 0,
              "ticks": ""
             }
            },
            "type": "scatterpolargl"
           }
          ],
          "scatterternary": [
           {
            "marker": {
             "colorbar": {
              "outlinewidth": 0,
              "ticks": ""
             }
            },
            "type": "scatterternary"
           }
          ],
          "surface": [
           {
            "colorbar": {
             "outlinewidth": 0,
             "ticks": ""
            },
            "colorscale": [
             [
              0,
              "#0d0887"
             ],
             [
              0.1111111111111111,
              "#46039f"
             ],
             [
              0.2222222222222222,
              "#7201a8"
             ],
             [
              0.3333333333333333,
              "#9c179e"
             ],
             [
              0.4444444444444444,
              "#bd3786"
             ],
             [
              0.5555555555555556,
              "#d8576b"
             ],
             [
              0.6666666666666666,
              "#ed7953"
             ],
             [
              0.7777777777777778,
              "#fb9f3a"
             ],
             [
              0.8888888888888888,
              "#fdca26"
             ],
             [
              1,
              "#f0f921"
             ]
            ],
            "type": "surface"
           }
          ],
          "table": [
           {
            "cells": {
             "fill": {
              "color": "#EBF0F8"
             },
             "line": {
              "color": "white"
             }
            },
            "header": {
             "fill": {
              "color": "#C8D4E3"
             },
             "line": {
              "color": "white"
             }
            },
            "type": "table"
           }
          ]
         },
         "layout": {
          "annotationdefaults": {
           "arrowcolor": "#2a3f5f",
           "arrowhead": 0,
           "arrowwidth": 1
          },
          "autotypenumbers": "strict",
          "coloraxis": {
           "colorbar": {
            "outlinewidth": 0,
            "ticks": ""
           }
          },
          "colorscale": {
           "diverging": [
            [
             0,
             "#8e0152"
            ],
            [
             0.1,
             "#c51b7d"
            ],
            [
             0.2,
             "#de77ae"
            ],
            [
             0.3,
             "#f1b6da"
            ],
            [
             0.4,
             "#fde0ef"
            ],
            [
             0.5,
             "#f7f7f7"
            ],
            [
             0.6,
             "#e6f5d0"
            ],
            [
             0.7,
             "#b8e186"
            ],
            [
             0.8,
             "#7fbc41"
            ],
            [
             0.9,
             "#4d9221"
            ],
            [
             1,
             "#276419"
            ]
           ],
           "sequential": [
            [
             0,
             "#0d0887"
            ],
            [
             0.1111111111111111,
             "#46039f"
            ],
            [
             0.2222222222222222,
             "#7201a8"
            ],
            [
             0.3333333333333333,
             "#9c179e"
            ],
            [
             0.4444444444444444,
             "#bd3786"
            ],
            [
             0.5555555555555556,
             "#d8576b"
            ],
            [
             0.6666666666666666,
             "#ed7953"
            ],
            [
             0.7777777777777778,
             "#fb9f3a"
            ],
            [
             0.8888888888888888,
             "#fdca26"
            ],
            [
             1,
             "#f0f921"
            ]
           ],
           "sequentialminus": [
            [
             0,
             "#0d0887"
            ],
            [
             0.1111111111111111,
             "#46039f"
            ],
            [
             0.2222222222222222,
             "#7201a8"
            ],
            [
             0.3333333333333333,
             "#9c179e"
            ],
            [
             0.4444444444444444,
             "#bd3786"
            ],
            [
             0.5555555555555556,
             "#d8576b"
            ],
            [
             0.6666666666666666,
             "#ed7953"
            ],
            [
             0.7777777777777778,
             "#fb9f3a"
            ],
            [
             0.8888888888888888,
             "#fdca26"
            ],
            [
             1,
             "#f0f921"
            ]
           ]
          },
          "colorway": [
           "#636efa",
           "#EF553B",
           "#00cc96",
           "#ab63fa",
           "#FFA15A",
           "#19d3f3",
           "#FF6692",
           "#B6E880",
           "#FF97FF",
           "#FECB52"
          ],
          "font": {
           "color": "#2a3f5f"
          },
          "geo": {
           "bgcolor": "white",
           "lakecolor": "white",
           "landcolor": "#E5ECF6",
           "showlakes": true,
           "showland": true,
           "subunitcolor": "white"
          },
          "hoverlabel": {
           "align": "left"
          },
          "hovermode": "closest",
          "mapbox": {
           "style": "light"
          },
          "paper_bgcolor": "white",
          "plot_bgcolor": "#E5ECF6",
          "polar": {
           "angularaxis": {
            "gridcolor": "white",
            "linecolor": "white",
            "ticks": ""
           },
           "bgcolor": "#E5ECF6",
           "radialaxis": {
            "gridcolor": "white",
            "linecolor": "white",
            "ticks": ""
           }
          },
          "scene": {
           "xaxis": {
            "backgroundcolor": "#E5ECF6",
            "gridcolor": "white",
            "gridwidth": 2,
            "linecolor": "white",
            "showbackground": true,
            "ticks": "",
            "zerolinecolor": "white"
           },
           "yaxis": {
            "backgroundcolor": "#E5ECF6",
            "gridcolor": "white",
            "gridwidth": 2,
            "linecolor": "white",
            "showbackground": true,
            "ticks": "",
            "zerolinecolor": "white"
           },
           "zaxis": {
            "backgroundcolor": "#E5ECF6",
            "gridcolor": "white",
            "gridwidth": 2,
            "linecolor": "white",
            "showbackground": true,
            "ticks": "",
            "zerolinecolor": "white"
           }
          },
          "shapedefaults": {
           "line": {
            "color": "#2a3f5f"
           }
          },
          "ternary": {
           "aaxis": {
            "gridcolor": "white",
            "linecolor": "white",
            "ticks": ""
           },
           "baxis": {
            "gridcolor": "white",
            "linecolor": "white",
            "ticks": ""
           },
           "bgcolor": "#E5ECF6",
           "caxis": {
            "gridcolor": "white",
            "linecolor": "white",
            "ticks": ""
           }
          },
          "title": {
           "x": 0.05
          },
          "xaxis": {
           "automargin": true,
           "gridcolor": "white",
           "linecolor": "white",
           "ticks": "",
           "title": {
            "standoff": 15
           },
           "zerolinecolor": "white",
           "zerolinewidth": 2
          },
          "yaxis": {
           "automargin": true,
           "gridcolor": "white",
           "linecolor": "white",
           "ticks": "",
           "title": {
            "standoff": 15
           },
           "zerolinecolor": "white",
           "zerolinewidth": 2
          }
         }
        },
        "title": {
         "text": "Location"
        },
        "xaxis": {
         "anchor": "y",
         "domain": [
          0,
          1
         ],
         "title": {
          "text": "x"
         }
        },
        "yaxis": {
         "anchor": "x",
         "domain": [
          0,
          1
         ],
         "title": {
          "text": "y"
         }
        }
       }
      }
     },
     "metadata": {},
     "output_type": "display_data"
    },
    {
     "ename": "AttributeError",
     "evalue": "'NoneType' object has no attribute 'show'",
     "output_type": "error",
     "traceback": [
      "\u001b[1;31m---------------------------------------------------------------------------\u001b[0m",
      "\u001b[1;31mAttributeError\u001b[0m                            Traceback (most recent call last)",
      "Cell \u001b[1;32mIn[6], line 1\u001b[0m\n\u001b[1;32m----> 1\u001b[0m \u001b[43mpitch_data\u001b[49m\u001b[38;5;241;43m.\u001b[39;49m\u001b[43mshow_scatter\u001b[49m\u001b[43m(\u001b[49m\u001b[38;5;124;43m\"\u001b[39;49m\u001b[38;5;124;43mx\u001b[39;49m\u001b[38;5;124;43m\"\u001b[39;49m\u001b[43m,\u001b[49m\u001b[43m \u001b[49m\u001b[38;5;124;43m\"\u001b[39;49m\u001b[38;5;124;43my\u001b[39;49m\u001b[38;5;124;43m\"\u001b[39;49m\u001b[43m,\u001b[49m\u001b[43m \u001b[49m\u001b[38;5;124;43m\"\u001b[39;49m\u001b[38;5;124;43mLocation\u001b[39;49m\u001b[38;5;124;43m\"\u001b[39;49m\u001b[43m,\u001b[49m\u001b[43m \u001b[49m\u001b[43mcolor\u001b[49m\u001b[38;5;241;43m=\u001b[39;49m\u001b[38;5;124;43m'\u001b[39;49m\u001b[38;5;124;43mhitability\u001b[39;49m\u001b[38;5;124;43m'\u001b[39;49m\u001b[43m)\u001b[49m\n",
      "File \u001b[1;32mc:\\Users\\blair.kiel\\source\\repos\\baseball_sim\\src\\analysis\\generic_data.py:39\u001b[0m, in \u001b[0;36mGeneric_Data.show_scatter\u001b[1;34m(self, x, y, title, color)\u001b[0m\n\u001b[0;32m     35\u001b[0m \u001b[38;5;28;01mdef\u001b[39;00m \u001b[38;5;21mshow_scatter\u001b[39m(\u001b[38;5;28mself\u001b[39m, x, y, title, color\u001b[38;5;241m=\u001b[39m\u001b[38;5;28;01mNone\u001b[39;00m):\n\u001b[0;32m     37\u001b[0m     scatt \u001b[38;5;241m=\u001b[39m \u001b[38;5;28mself\u001b[39m\u001b[38;5;241m.\u001b[39mget_scatter(x, y, title, color\u001b[38;5;241m=\u001b[39mcolor)\n\u001b[1;32m---> 39\u001b[0m     \u001b[43mscatt\u001b[49m\u001b[38;5;241;43m.\u001b[39;49m\u001b[43mshow\u001b[49m()\n",
      "\u001b[1;31mAttributeError\u001b[0m: 'NoneType' object has no attribute 'show'"
     ]
    }
   ],
   "source": [
    "\n",
    "pitch_data.show_scatter(\"x\", \"y\", \"Location\", color='hitability')"
   ]
  },
  {
   "cell_type": "code",
   "execution_count": null,
   "metadata": {},
   "outputs": [
    {
     "data": {
      "application/vnd.plotly.v1+json": {
       "config": {
        "plotlyServerURL": "https://plot.ly"
       },
       "data": [
        {
         "alignmentgroup": "True",
         "bingroup": "x",
         "hovertemplate": "variable=x<br>value=%{x}<br>count=%{y}<extra></extra>",
         "legendgroup": "x",
         "marker": {
          "color": "#636efa",
          "pattern": {
           "shape": ""
          }
         },
         "name": "x",
         "offsetgroup": "x",
         "orientation": "v",
         "showlegend": true,
         "type": "histogram",
         "x": [
          0.8950987259551119,
          -1.6578741903727523,
          -1.4299518265986604,
          1.4148559813480965,
          1.0135324866527478,
          0.24377773923844615,
          -0.3781306902553634,
          -0.16794207737470934,
          -0.2148609262570373,
          1.4285800894324168,
          1.4056407251896321,
          -0.01265793673602401,
          1.1976156281657324,
          0.5625735182223675,
          1.8848430225437147,
          1.1758308482518771,
          -1.8421700934199368,
          -1.4935951013566482,
          -0.6565241850138467,
          -1.7479656786391033,
          0.7451583640584296,
          -1.9815930743199182,
          -0.3645842661636827,
          2.290698958434877,
          1.5341298457318528,
          -0.9948013365244192,
          2.262300914356474,
          1.709388292421967,
          0.8472270085108624,
          1.037344727070531,
          0.32187967994839095,
          0.24108788194010947,
          -0.45071555851792555,
          -2.6909803205476686,
          -0.27822300711049747,
          -0.9830640490324963,
          -0.9022296793556375,
          -0.42629821953183833,
          -3.39945696938963,
          -1.2703375450324172,
          -2.2259979909630974,
          0.1474351944559876,
          1.1610935089984031,
          0.7657039615757171,
          -0.555319489360063,
          -0.4008645421829398,
          -0.32250648465588805,
          -1.11110571514618,
          1.7026997630482636,
          1.0025017667508007,
          1.3567737083329352,
          0.9327157596941951,
          -1.0236203540238922,
          -0.8956866453550929,
          -0.8514318017515908,
          1.7231485140990497,
          0.8902419912315966,
          -0.4925767764780957,
          0.4728265403228792,
          -1.3699494007602735,
          -0.5961479953255745,
          -0.4729023792848758,
          -0.19308684307408674,
          0.9588918481006694,
          0.19095343068629422,
          -0.20628977471904883,
          0.8883674204686387,
          -1.4784821593988828,
          0.22809170098522796,
          0.6045425262268841,
          -0.18134372908872504,
          0.12309714886060415,
          0.07333403121483248,
          -0.08625845802090845,
          0.9457460744117911,
          -1.0310364320792933,
          -2.429338554280325,
          -2.030869954880135,
          -0.4275616598773426,
          3.157337381019184,
          -0.7440316818465453,
          1.8070280917609458,
          -0.6903207652599052,
          -0.5142853022361912,
          -0.23524207339579561,
          -0.30412193459281683,
          -2.2038854528337413,
          -0.4624789476676945,
          -0.8994511614606112,
          0.11758040840709871,
          0.930085305738072,
          1.3704882867716257,
          -0.08115516676471353,
          -0.5586917370509729,
          -0.09158005948420639,
          1.2810643424199297,
          -1.6419734367627032,
          1.0133515200790844,
          -0.08084367766102661,
          -0.7118500882330764,
          -0.5923816186463982,
          0.27301224278350006,
          -0.8525694017004977,
          0.2850720338903803,
          -0.35486697458576805,
          1.3878690116301682,
          -0.0008854315692490049,
          0.20586623742770685,
          -0.01364757041032784,
          0.1435432597795861,
          1.2774664552312835,
          0.1415789751297876,
          1.7219918577729558,
          1.108909094831713,
          1.327586922737206,
          -0.6256759203686169,
          0.7183363187823192,
          1.626710786678938,
          -0.30784468750150196,
          1.0826736895458196,
          1.308777171188734,
          -0.4824614047814862,
          -1.2914455691068654,
          -0.20239797550330557,
          1.6951841513850487,
          0.6079171451692215,
          3.172318622721134,
          3.30078844846237,
          -0.1484434889343599,
          -0.3602367824682389,
          -0.37831193046124517,
          1.1134775706791542,
          -0.3318498975295919,
          2.0238483840217065,
          1.7005495405512745,
          -0.8342817081207479,
          0.1993313092294704,
          -0.42443386389083304,
          -1.2611637907119513,
          -0.6674463201494755,
          2.189716297612139,
          0.9392642571405576,
          -0.8057132924112663,
          -0.24266404158583635,
          0.5546637592219783,
          -0.08684630150821328,
          1.592023660485154,
          1.0444211813719602,
          0.37783256293599915,
          2.0445436929296155,
          0.5661841141874622,
          0.6077690568394332,
          -0.5267218724026794,
          -0.31024117283241326,
          -0.5344860212977275,
          1.0098788993188617,
          -0.2765091338357961,
          0.6165606907973539,
          0.6981250282836224,
          0.9906200915841467,
          0.07599423689632151,
          -0.47036674958132946,
          0.8668424522239496,
          1.5422904936867095,
          -2.3220960795428276,
          -1.472540345817004,
          3.412410601161369,
          1.737001020119597,
          -0.12874418406572444,
          -1.8569409542757087,
          1.4446527470033685,
          1.0957212845825013,
          0.8119895000538934,
          -0.2987789250468213,
          0.3873709862417955,
          -0.44526449840205035,
          -0.9289393320246303,
          -0.976938190251564,
          1.7918783693590639,
          0.021342620593034666,
          -0.7746818399519141,
          0.7652279870477661,
          -0.10026576880586892,
          0.28783214261332973,
          -0.0639869923034716,
          0.17530922614212946,
          -0.3714041234578709,
          -2.370673176726925,
          -2.431158782335586,
          0.1457421569228288,
          0.024770082633658586,
          1.2469356409702572,
          -1.7341554847136795,
          -0.6864521621318579,
          1.034413965209136,
          -0.5862550364827945,
          0.8543654058773701,
          -0.23987674201012488,
          1.5773946493670217,
          -0.35223845759994665,
          0.8796392076905065,
          0.06753962530301552,
          -0.23928442264475228,
          0.25729746237999307,
          1.0140116678588327,
          -0.16142929460842256,
          -1.4869004486122253,
          -1.5811212452266918,
          0.17997334966191716,
          0.08784161565637116,
          -0.25216005236583283,
          -2.440335240942444,
          0.05842711711757095,
          1.229547009512051,
          -1.008532372715879,
          1.5071998510421478,
          -0.5504426404080006,
          0.5827139301408497,
          -2.500972063594844,
          0.24117128773368068,
          1.6249420691234846,
          0.10784398319853135,
          -0.8465775645266127,
          -1.6664434053727297,
          0.04454409354323955,
          -0.18774378495890434,
          0.7820513039608262,
          0.045060445501158904,
          -1.8833887357996708,
          1.7409279516793867,
          0.14619257773701963,
          0.7320040966593468,
          0.26500644433930126,
          1.677706342885171,
          -1.2194801830477155,
          -1.148563191143339,
          0.6426236471210819,
          0.2328859439001523,
          -0.26736586220146735,
          0.36185056632972873,
          -0.39599712363201023,
          -1.2397395687410573,
          0.15794522947558254,
          -2.2366808948326393,
          0.14217190349567643,
          -1.3306205124675485,
          -0.7656951214388404,
          0.8403617572909415,
          1.4404368651171968,
          0.03960532748295958,
          0.042584805325459885,
          -1.763513578912633,
          0.14170721952931556,
          -1.5914599285920759,
          -0.6527262384220079,
          3.3502576563271598,
          -1.4574715209685603,
          -1.0509835732771862,
          -0.1114119474067117,
          0.016821464618732303,
          -1.1018046905147,
          -0.22362418380432797,
          1.852117625060788,
          1.7905215159084218,
          -0.004046705580458574,
          2.3485312652132704,
          -0.5287586641980012,
          -2.3526406853030957,
          -0.6830810283263411,
          -0.6688556555700885,
          0.6651087802571198,
          -0.3368111985813327,
          1.350828988630918,
          0.5418455238586117,
          0.12419865539191327,
          0.10930239689331492,
          0.5376023801201046,
          0.34244586479989486,
          1.5453576807712541,
          0.8413727658677951,
          1.501422888436336,
          -1.5453253864832561,
          -1.6428905135049174,
          -0.25091768061914077,
          -0.1512840221081106,
          0.0966274572480465,
          -2.092166388936431,
          0.5326877884890516,
          -1.1075366140241771,
          1.5809439673889192,
          -0.09812954204883771,
          -0.7861080324880387,
          0.17154292845418656,
          -1.0297063951954997,
          0.1999541590974793,
          1.88137652819844,
          0.42326965258245525,
          -0.05397635501559852,
          -0.6348894753983225,
          -1.875921524092848,
          -2.13995541928084,
          0.3530816390323924,
          1.4830148149912747,
          -0.07858272607925278,
          0.8223930615607856,
          0.34196187618084567,
          1.7273624999337631,
          -0.19950519377196088,
          1.3048079033268074,
          1.1842777856536846,
          -0.08310327527886781,
          2.1294548187782696,
          -0.8961053703064792,
          -0.5934527643350739,
          0.36030133092102173,
          0.8599267726481593,
          1.1036641163122611,
          0.03307556099043914,
          -0.5423934986979175,
          -0.45545669331718375,
          0.1420328896629224,
          2.390603486851855,
          -1.316206491689997,
          -1.3136662517781907,
          -1.2975471747282998,
          0.9651863772166479,
          1.719283401732186,
          -0.28765378611336817,
          0.17655007673529172,
          -0.470206376620102,
          0.3165957317007869,
          -0.7151378024570683,
          0.2581701955664238,
          -0.6023907021231107,
          1.4888320392935082,
          -0.4464864989193538,
          -0.8698181230527143,
          0.9160506297128874,
          -0.24394780376922653,
          1.0723029389140804,
          1.361820857190269,
          -0.07318004977534696,
          -0.6914251654686852,
          1.0987485119629155,
          0.0973487634835834,
          -0.7820797935996338,
          -0.14703515553285923,
          -0.2593141611950415,
          0.6382683552494416,
          -0.5758352088546105,
          0.5861029943302756,
          0.1968016345314009,
          0.013493601339512863,
          -2.0556213016801563,
          -1.022209049396115,
          -1.7611881187592509,
          -0.4766447492645902,
          0.6421864382158523,
          -0.6095194102413738,
          -0.7935826481612603,
          -1.231608440388099,
          -0.35844544502058145,
          0.6154193984662242,
          -1.1309253647222413,
          -2.5553937143496004,
          -1.9221589599876596,
          0.20852665209836796,
          0.49416673776761677,
          1.9822820037040625,
          1.2378081124182758,
          0.7718869692143094,
          -1.3244527301696853,
          -0.7756935004687622,
          -0.43260122826258834,
          1.1478645908701146,
          -0.29324296939848304,
          -1.0597910015887262,
          -0.42720793298870374,
          0.7961475452653497,
          0.20189540494526553,
          -0.12228289138981269,
          1.8072124298260543,
          -0.8418899667216507,
          1.8720935949316961,
          -0.707643860232365,
          -1.471698809616434,
          0.9389140860635146,
          -0.9501719343593612,
          -0.2376268269363881,
          0.26656559173334204,
          1.5743929884520078,
          -0.8362353676725215,
          1.660910686975243,
          1.0793134404304405,
          -0.029136967390371502,
          1.4447835413778563,
          -1.468366792957877,
          0.04626343757244579,
          -1.5776047461292058,
          0.13269501738833023,
          -0.9803815687193355,
          -0.5061380279345739,
          -0.3360670247362722,
          1.4945583055279958,
          -0.31437217476014767,
          0.08741156911633448,
          0.7365348607763155,
          0.587057444211433,
          2.7952310629645547,
          1.5430663999535594,
          -1.2667531234493246,
          -1.1659823847703075,
          0.28824448496474286,
          -1.771170270399372,
          1.5799699791638417,
          0.33368792037815886,
          -0.564809461014242,
          0.32896690590218536,
          -1.2379408199409527,
          1.4542751829516134,
          1.8939732159720601,
          -0.0691954681365015,
          -0.40007808727153754,
          2.629445486056311,
          -1.0288155700367647,
          0.41588897862895835,
          -1.8980244013478935,
          -0.7800664745594433,
          0.9831251333367678,
          -1.671344133327755,
          -3.26414507867708,
          -0.4242841576956845,
          0.8534315000683362,
          0.9639902122103466,
          -0.7411448839401742,
          -0.9571365972137982,
          -1.2305581640168788,
          -1.9228267115995987,
          -1.4307267849393557,
          -1.7782979009501836,
          1.4298235492526692,
          0.15061512921203832,
          0.29586697303255893,
          -2.4203662567125486,
          -1.5837703583967895,
          -0.3315425545416339,
          0.8611340583098559,
          1.6637615434122468,
          0.388700993392567,
          -0.7396709016594255,
          -0.8454254334044136,
          0.4298749005533407,
          1.0195415716850045,
          1.2307578329128965,
          0.6895329453008255,
          -1.406326719271667,
          -0.814533012479986,
          1.632531053607792,
          -0.17015014105143622,
          1.5771629237112454,
          1.2882117068178915,
          0.14679362322345818,
          -0.7721170456938703,
          -1.7854737734074135,
          0.3751724892474101,
          -0.2458417985647566,
          -1.4130029598137854,
          0.7808783990206543,
          0.7795276735003325,
          0.397252250154342,
          -2.4469933928294423,
          -1.341889783143798,
          1.49647878885789,
          0.4185767223543493,
          0.8361656752061789,
          -2.7130309138067017,
          0.7242220317649087,
          1.0862373673894201,
          -0.7698527665801193,
          -1.9149204515024132,
          -0.4020466368323941,
          1.8508511376018166,
          -0.37421087015493254,
          -0.8830483814231422,
          0.4306563019547728,
          0.9673810790716367,
          -0.13095687751312982,
          -1.9251001326949166,
          1.2805104781830563,
          -0.5790593859482702,
          -2.0474210273291753,
          -0.21940621762231813,
          -0.5699591802484878,
          1.0244318395564003,
          -0.5179142863895655,
          -0.2754511311756293,
          1.8805262660501691,
          -1.6013701056314917,
          -1.2465354512312041,
          -1.277935853237548,
          0.35105245155237197,
          0.3739875218508274,
          0.801241331467146,
          0.02202353109241838,
          0.8478622612735665,
          1.1917924933073807,
          -0.4927750599464701,
          0.8605945612044561,
          0.023450613155573882,
          -1.094032734586287,
          0.04629387242985386,
          0.9630957693267023,
          0.7174371483096584,
          -1.5546196621750032,
          -0.4376386476768348,
          -0.23675148264436838,
          -1.0730075292360255,
          0.3047986835875493,
          1.0446530351526209,
          -0.2992600369858208,
          -0.059161868554122844,
          -0.22348453052629352,
          0.2965767798936534,
          0.9095645074701754,
          -0.94205578589354,
          -0.08266375400233007,
          -0.3794251822989533,
          -1.5983163217533083,
          -0.6086296626946842,
          -1.9428978834464647,
          -1.1444886297513732,
          -0.40693935769208356,
          -0.37521178990234183,
          -0.4760584705520126,
          0.9361591166299961,
          -1.2366876997002338,
          -0.31919123942188465,
          -0.46844646925682065,
          0.6961992002926036,
          -1.6683727476160921,
          1.6886111325208017,
          -1.4335668659847771,
          1.2416529251427963,
          -1.4214132194583142,
          -0.23200617954384953,
          -0.16081809714496115,
          1.1540716904067534,
          0.8931456479689986,
          -1.0405096360308015,
          1.1330435411249866,
          -1.7076913038926347,
          -0.95704393126718,
          -1.0727884374505012,
          0.9988402466135474,
          0.6682562060929773,
          -0.9354055282210046,
          2.336815949821165,
          -0.4529328929275719,
          0.23583474034740554,
          -1.1966642744748108,
          -0.8231984518596085,
          -1.8325963753434968,
          -0.09072469427516477,
          -0.43359257804030943,
          -2.763754596563277,
          0.7431272097295099,
          -0.8481034010251753,
          -0.7936286448274105,
          0.5549735800189265,
          0.4353436845240704,
          0.804331709771788,
          -0.23565268266720021,
          1.9934734109456849,
          -0.7275952756184879,
          0.5887490276548076,
          -0.30145508873985416,
          0.8560183969842439,
          -1.233767606373942,
          -0.21692325903839305,
          0.7642123047423184,
          -0.8460800081647223,
          0.7556833532504954,
          -0.9888947369146609,
          0.46990082528421234,
          0.5235310881055384,
          -1.4783686472863036,
          0.6829964014977137,
          2.8068347083203378,
          -0.13975795543440003,
          -1.5487657493638403,
          -0.301892195402553,
          -0.9705201844202109,
          0.819541829393804,
          -1.5070281801774186,
          0.6789262437804611,
          -1.9228641841144218,
          -0.76818319953442,
          -0.7946071563375803,
          1.5621980160029147,
          0.866162840554099,
          0.8048393875948288,
          0.35642348735235235,
          0.17781901502429806,
          -0.7000519865543509,
          -0.33644840387004166,
          -1.0516834743019183,
          -2.3240056447976953,
          -1.8759513747202994,
          -0.64858286388592,
          -0.6434955345134113,
          0.09330799909157057,
          -1.2512621080204929,
          0.500799434292227,
          -1.3257188640461195,
          0.9047714706771967,
          1.8408514891537855,
          0.0412465309092474,
          -1.0931063065349658,
          0.8657754647962196,
          -0.8118957845522514,
          -0.7875027587715203,
          -2.0316092193646784,
          -1.0787778055648216,
          0.837000498044466,
          -0.8254576490150274,
          -0.1178970951973054,
          0.5848197311582584,
          0.06607030954471955,
          -1.3001776047452098,
          0.6351036578201943,
          0.05413174314852888,
          0.44751433363605764,
          -1.091861982289583,
          -0.04728472445365622,
          -0.00925335155789756,
          -0.7434370343316856,
          -1.2645640361832111,
          -0.09934744660000158,
          -0.11833777276206223,
          -0.04156380957060845,
          1.4620760020402421,
          -0.27342438652899836,
          -0.31572522906377426,
          0.21069324722118143,
          1.1293840148609353,
          1.9220855050199261,
          -0.23404418829159535,
          0.3398538269689735,
          -2.4054936173214587,
          0.12093235421470322,
          0.39472228308336815,
          -0.3814551393676024,
          0.02493403822297485,
          -0.8041165031564766,
          2.205463763588121,
          -1.5110559072566359,
          -1.2523192888281147,
          -2.848419834908485,
          0.25098192410720105,
          -0.5117303343433339,
          2.4863475740218095,
          1.1862449732115485,
          -0.19301243164455026,
          -0.15590923658683994,
          -1.622602687905542,
          -0.05610886083538633,
          -2.1172155435653783,
          -0.8939172533149874,
          0.5144800567788262,
          1.6498757434169338,
          0.1243469105709155,
          -0.19367155190981536,
          1.151931821238609,
          -0.4610573296720643,
          2.3395549030717047,
          -1.0602126738447182,
          1.10858431557565,
          0.42959909985866473,
          0.7370836641971316,
          1.0503120866908722,
          -0.20498814417384656,
          1.1592694677231727,
          -1.0829638141299207,
          1.502765056588304,
          -1.448770227922526,
          -1.069321244551738,
          0.25596961398692814,
          -0.536094784289042,
          1.0029413243361978,
          0.16632570570430139,
          -1.0177662800405767,
          -0.2368253681837196,
          0.4284336139847669,
          0.33221737043117805,
          0.8778298981697684,
          -0.17211419142574108,
          -0.1325412791278133,
          -0.15406188884908636,
          0.6810137529899295,
          1.7530937637277682,
          -0.862294894516719,
          -1.979514322919454,
          -0.5728202491853708,
          -0.09103290102430814,
          1.3918201999549118,
          -1.689008711504934,
          1.5729234559532772,
          1.7351974936804435,
          0.4603057812086346,
          0.5313946389813964,
          0.6092247914177588,
          -0.10554833875612336,
          1.0490850415295687,
          0.5270851306904731,
          -0.7737137320765252,
          -1.107895119891262,
          -1.0321434514414798,
          -1.182352853315076,
          -1.9588425150811588,
          -1.240213681590302,
          -0.4147616015902883,
          -1.1712026899507577,
          0.8169061428773023,
          -1.2673666285110001,
          0.3830588237223709,
          0.8166479247004209,
          -0.10352850936257853,
          0.4896887579876451,
          1.4198297267964253,
          -0.0926077279776955,
          -0.019067154434591574,
          0.5674443374846706,
          2.330487495407441,
          -0.19058319892450448,
          -2.6783679536156386,
          -0.06124103422818777,
          1.2494038912386798,
          0.8213659479360986,
          1.2635095496506148,
          2.42127344366393,
          0.38501023317605887,
          0.262391456346093,
          -0.9306789775785714,
          0.6687149654919669,
          2.553088683690364,
          -0.09049237750432394,
          -0.621174016637743,
          0.5053974090811139,
          -0.2015551110686308,
          1.8173248231918913,
          0.1743760441878394,
          1.1882923809843102,
          -2.0411169127463715,
          -0.7751745252884732,
          1.8032813981877007,
          -0.5961259279493205,
          0.8433277286190974,
          -0.5451050275887788,
          -0.00936610187967579,
          1.3020058909255168,
          1.805463931331532,
          -1.3248557116506583,
          -1.386136012631648,
          0.35102844288239426,
          -3.8746979695673214,
          1.4187094783041183,
          0.9123405025126543,
          0.15953796424781538,
          1.1590884061372608,
          -0.3749959179676549,
          1.619203523458447,
          1.441237352535869,
          -0.16692879801091204,
          -2.9017754795320387,
          0.19582839172119432,
          -1.0532904131944116,
          -0.5930346172974916,
          -0.1435483419469975,
          -0.6481810277639223,
          0.5863211751093638,
          -1.9148650502007856,
          1.0209894364547054,
          -0.6009770111846465,
          -0.4361443939601507,
          -0.1475799480547975,
          -0.384137781856921,
          -1.5264140157522355,
          -1.7177776625794003,
          -0.7277043486438108,
          -1.2560099448181985,
          -1.0656297679848876,
          -0.03710541578176502,
          -0.39023734370565616,
          0.3020670269178035,
          -1.7146324543784301,
          0.5780238448939798,
          -1.0466412640689364,
          0.7574033935245551,
          1.1197095294858357,
          0.018201430300386665,
          0.6074385380603656,
          -1.5773401579838986,
          0.050761962901417594,
          0.18719442279238063,
          -0.10063312200399145,
          0.06062912908372514,
          -0.2834365782246261,
          -3.269213021312409,
          1.2432010751954248,
          -0.8357030902251323,
          1.2522245556716416,
          -1.0886637893917437,
          1.6065542936694293,
          -1.960893742156836,
          -0.017284177480993902,
          1.6210453629335437,
          0.1433685701719091,
          2.057693940761578,
          1.0257223760209684,
          0.735079308625885,
          0.7841778317641916,
          -0.3078092339730568,
          0.5891632000046797,
          0.1302969128244912,
          -0.4946188034256521,
          -0.6752224287434813,
          1.6876326084179256,
          -1.3674843192978972,
          -0.6298773506508982,
          2.273800812266285,
          0.4089610471640012,
          -0.34004012666272576,
          0.2737929819665445,
          0.12643697199822923,
          0.6349663258493191,
          -1.0105355427429044,
          1.216699190729718,
          1.6668748125807495,
          -0.3903116090847439,
          -2.4994448906096065,
          -0.7205351450419024,
          -0.04661591712932503,
          -1.590324435630685,
          -0.18995200690214767,
          0.9115780091825251,
          -0.20889443492000126,
          1.4462453111952869,
          1.4988836720428358,
          -0.8215057254486626,
          0.9651581089334383,
          1.2041331842624436,
          1.0974149876512969,
          2.069938981329565,
          -1.4290434031391313,
          0.539623452460922,
          1.071781396251278,
          0.039885127552007564,
          0.16418222237346927,
          -0.1750592723875651,
          0.5707197635487202,
          -1.019793060208162,
          2.387023879204928,
          -0.6424713612267374,
          -0.4216508155466394,
          -0.5874048293259673,
          0.206634827380842,
          -0.42709872860986947,
          0.557120107185037,
          1.0334688715320117,
          -0.47464264927014194,
          -0.9653851056363689,
          -0.800985098940578,
          0.2893704978408575,
          0.19420712158969006,
          0.17571421363700845,
          -1.5733207211161544,
          -0.27408366834187264,
          1.0096391463259782,
          -0.29854989191916037,
          0.3627280039014052,
          -0.392854619360943,
          0.9013231249403353,
          -1.3984659545484233,
          -1.0505744273337547,
          -2.390182138430994,
          -1.8107112068690092,
          0.8868632140215943,
          -0.7780868768680581,
          -0.4275808969713574,
          0.428686786611549,
          -1.383893325956425,
          0.27036998182337796,
          -1.0406663197201733,
          -0.9416456343507329,
          0.7855755085785853,
          0.6825908477208119,
          -1.140956867230995,
          -0.5739780017655292,
          0.5313604773623982,
          0.14339198581323057,
          1.2129272487601703,
          -0.04349890948330248,
          -0.2115053942492239,
          0.8751337984232387,
          1.5090777585360722,
          -1.397371881043541,
          0.3333290446575538,
          1.4683614850030486,
          -1.9254628218791912,
          -0.5639325163962822,
          -0.5370067353233225,
          -2.3610341631372225,
          0.7275993313927296,
          -0.11286380947751805,
          1.434854635098373,
          0.6555075564369038,
          1.029648267746935,
          -1.4391002596094855,
          0.13270266870637137,
          0.42889649806639585,
          2.7961931980354287,
          1.2461361433031557,
          -1.921758789648173,
          0.9165043920125484,
          1.2726369039056356,
          -0.8512173533142101,
          1.7440905931512267,
          0.4464830176614604,
          -1.4672992196517582,
          -0.13298316534702487,
          0.5318889654539593,
          0.38935036600896944,
          1.3440978851549934,
          -1.9487583859678617,
          2.7835077735620586,
          -0.15045118571807342,
          0.13784401117945413,
          0.47584766505880793,
          -1.038458669097165,
          0.1072965832594461,
          -0.7041438554139994,
          0.05292036352580584,
          -0.426756223105004,
          1.9531917796882456,
          0.6173385821235742,
          2.3760793275199976,
          2.14283010643496,
          0.5641050131232728,
          0.6951276375004296,
          -1.9307883922841522,
          -0.6826761381824709,
          1.1719728197974721,
          2.730596308002852,
          1.8459148980178919,
          0.7974296242849097,
          -0.2867392425376076,
          -0.24129787926139057,
          -0.824369720142802,
          1.8528718886150775,
          -1.400997333294745,
          0.35194558489877853,
          -0.2793768151888578,
          -0.1193997372990938,
          -0.3961466086528942,
          0.3826759722544703,
          1.112634597927099,
          2.3800589207702334,
          -1.788500159256543,
          -0.6935115618127934,
          -0.09743260697656116,
          -1.959313846448758,
          0.9048445205301004,
          2.514560130546051,
          -0.22228517084370686,
          -0.5885954264549089,
          0.633766469419432,
          0.6226141119629862,
          -0.860285974895821,
          -0.20207994108885813,
          3.107982646839194,
          -1.0350719275303424,
          -0.8565337566881901,
          0.6083589688541294,
          1.4855338142933565,
          1.217915106545102,
          -0.1989313277879189,
          -0.40519724926689604,
          0.569023081206147,
          0.5236542867529415,
          0.3558513284647185,
          -0.6362793100955086,
          -0.05551460164055526,
          0.6406798418222552,
          -2.533273802610359,
          1.615967788841642,
          1.4943807609206088,
          0.9745227949712733,
          -0.47300246010454483,
          -0.5699068463620047,
          0.07087213116699656
         ],
         "xaxis": "x",
         "yaxis": "y"
        }
       ],
       "layout": {
        "barmode": "relative",
        "legend": {
         "title": {
          "text": "variable"
         },
         "tracegroupgap": 0
        },
        "template": {
         "data": {
          "bar": [
           {
            "error_x": {
             "color": "#2a3f5f"
            },
            "error_y": {
             "color": "#2a3f5f"
            },
            "marker": {
             "line": {
              "color": "#E5ECF6",
              "width": 0.5
             },
             "pattern": {
              "fillmode": "overlay",
              "size": 10,
              "solidity": 0.2
             }
            },
            "type": "bar"
           }
          ],
          "barpolar": [
           {
            "marker": {
             "line": {
              "color": "#E5ECF6",
              "width": 0.5
             },
             "pattern": {
              "fillmode": "overlay",
              "size": 10,
              "solidity": 0.2
             }
            },
            "type": "barpolar"
           }
          ],
          "carpet": [
           {
            "aaxis": {
             "endlinecolor": "#2a3f5f",
             "gridcolor": "white",
             "linecolor": "white",
             "minorgridcolor": "white",
             "startlinecolor": "#2a3f5f"
            },
            "baxis": {
             "endlinecolor": "#2a3f5f",
             "gridcolor": "white",
             "linecolor": "white",
             "minorgridcolor": "white",
             "startlinecolor": "#2a3f5f"
            },
            "type": "carpet"
           }
          ],
          "choropleth": [
           {
            "colorbar": {
             "outlinewidth": 0,
             "ticks": ""
            },
            "type": "choropleth"
           }
          ],
          "contour": [
           {
            "colorbar": {
             "outlinewidth": 0,
             "ticks": ""
            },
            "colorscale": [
             [
              0,
              "#0d0887"
             ],
             [
              0.1111111111111111,
              "#46039f"
             ],
             [
              0.2222222222222222,
              "#7201a8"
             ],
             [
              0.3333333333333333,
              "#9c179e"
             ],
             [
              0.4444444444444444,
              "#bd3786"
             ],
             [
              0.5555555555555556,
              "#d8576b"
             ],
             [
              0.6666666666666666,
              "#ed7953"
             ],
             [
              0.7777777777777778,
              "#fb9f3a"
             ],
             [
              0.8888888888888888,
              "#fdca26"
             ],
             [
              1,
              "#f0f921"
             ]
            ],
            "type": "contour"
           }
          ],
          "contourcarpet": [
           {
            "colorbar": {
             "outlinewidth": 0,
             "ticks": ""
            },
            "type": "contourcarpet"
           }
          ],
          "heatmap": [
           {
            "colorbar": {
             "outlinewidth": 0,
             "ticks": ""
            },
            "colorscale": [
             [
              0,
              "#0d0887"
             ],
             [
              0.1111111111111111,
              "#46039f"
             ],
             [
              0.2222222222222222,
              "#7201a8"
             ],
             [
              0.3333333333333333,
              "#9c179e"
             ],
             [
              0.4444444444444444,
              "#bd3786"
             ],
             [
              0.5555555555555556,
              "#d8576b"
             ],
             [
              0.6666666666666666,
              "#ed7953"
             ],
             [
              0.7777777777777778,
              "#fb9f3a"
             ],
             [
              0.8888888888888888,
              "#fdca26"
             ],
             [
              1,
              "#f0f921"
             ]
            ],
            "type": "heatmap"
           }
          ],
          "heatmapgl": [
           {
            "colorbar": {
             "outlinewidth": 0,
             "ticks": ""
            },
            "colorscale": [
             [
              0,
              "#0d0887"
             ],
             [
              0.1111111111111111,
              "#46039f"
             ],
             [
              0.2222222222222222,
              "#7201a8"
             ],
             [
              0.3333333333333333,
              "#9c179e"
             ],
             [
              0.4444444444444444,
              "#bd3786"
             ],
             [
              0.5555555555555556,
              "#d8576b"
             ],
             [
              0.6666666666666666,
              "#ed7953"
             ],
             [
              0.7777777777777778,
              "#fb9f3a"
             ],
             [
              0.8888888888888888,
              "#fdca26"
             ],
             [
              1,
              "#f0f921"
             ]
            ],
            "type": "heatmapgl"
           }
          ],
          "histogram": [
           {
            "marker": {
             "pattern": {
              "fillmode": "overlay",
              "size": 10,
              "solidity": 0.2
             }
            },
            "type": "histogram"
           }
          ],
          "histogram2d": [
           {
            "colorbar": {
             "outlinewidth": 0,
             "ticks": ""
            },
            "colorscale": [
             [
              0,
              "#0d0887"
             ],
             [
              0.1111111111111111,
              "#46039f"
             ],
             [
              0.2222222222222222,
              "#7201a8"
             ],
             [
              0.3333333333333333,
              "#9c179e"
             ],
             [
              0.4444444444444444,
              "#bd3786"
             ],
             [
              0.5555555555555556,
              "#d8576b"
             ],
             [
              0.6666666666666666,
              "#ed7953"
             ],
             [
              0.7777777777777778,
              "#fb9f3a"
             ],
             [
              0.8888888888888888,
              "#fdca26"
             ],
             [
              1,
              "#f0f921"
             ]
            ],
            "type": "histogram2d"
           }
          ],
          "histogram2dcontour": [
           {
            "colorbar": {
             "outlinewidth": 0,
             "ticks": ""
            },
            "colorscale": [
             [
              0,
              "#0d0887"
             ],
             [
              0.1111111111111111,
              "#46039f"
             ],
             [
              0.2222222222222222,
              "#7201a8"
             ],
             [
              0.3333333333333333,
              "#9c179e"
             ],
             [
              0.4444444444444444,
              "#bd3786"
             ],
             [
              0.5555555555555556,
              "#d8576b"
             ],
             [
              0.6666666666666666,
              "#ed7953"
             ],
             [
              0.7777777777777778,
              "#fb9f3a"
             ],
             [
              0.8888888888888888,
              "#fdca26"
             ],
             [
              1,
              "#f0f921"
             ]
            ],
            "type": "histogram2dcontour"
           }
          ],
          "mesh3d": [
           {
            "colorbar": {
             "outlinewidth": 0,
             "ticks": ""
            },
            "type": "mesh3d"
           }
          ],
          "parcoords": [
           {
            "line": {
             "colorbar": {
              "outlinewidth": 0,
              "ticks": ""
             }
            },
            "type": "parcoords"
           }
          ],
          "pie": [
           {
            "automargin": true,
            "type": "pie"
           }
          ],
          "scatter": [
           {
            "fillpattern": {
             "fillmode": "overlay",
             "size": 10,
             "solidity": 0.2
            },
            "type": "scatter"
           }
          ],
          "scatter3d": [
           {
            "line": {
             "colorbar": {
              "outlinewidth": 0,
              "ticks": ""
             }
            },
            "marker": {
             "colorbar": {
              "outlinewidth": 0,
              "ticks": ""
             }
            },
            "type": "scatter3d"
           }
          ],
          "scattercarpet": [
           {
            "marker": {
             "colorbar": {
              "outlinewidth": 0,
              "ticks": ""
             }
            },
            "type": "scattercarpet"
           }
          ],
          "scattergeo": [
           {
            "marker": {
             "colorbar": {
              "outlinewidth": 0,
              "ticks": ""
             }
            },
            "type": "scattergeo"
           }
          ],
          "scattergl": [
           {
            "marker": {
             "colorbar": {
              "outlinewidth": 0,
              "ticks": ""
             }
            },
            "type": "scattergl"
           }
          ],
          "scattermapbox": [
           {
            "marker": {
             "colorbar": {
              "outlinewidth": 0,
              "ticks": ""
             }
            },
            "type": "scattermapbox"
           }
          ],
          "scatterpolar": [
           {
            "marker": {
             "colorbar": {
              "outlinewidth": 0,
              "ticks": ""
             }
            },
            "type": "scatterpolar"
           }
          ],
          "scatterpolargl": [
           {
            "marker": {
             "colorbar": {
              "outlinewidth": 0,
              "ticks": ""
             }
            },
            "type": "scatterpolargl"
           }
          ],
          "scatterternary": [
           {
            "marker": {
             "colorbar": {
              "outlinewidth": 0,
              "ticks": ""
             }
            },
            "type": "scatterternary"
           }
          ],
          "surface": [
           {
            "colorbar": {
             "outlinewidth": 0,
             "ticks": ""
            },
            "colorscale": [
             [
              0,
              "#0d0887"
             ],
             [
              0.1111111111111111,
              "#46039f"
             ],
             [
              0.2222222222222222,
              "#7201a8"
             ],
             [
              0.3333333333333333,
              "#9c179e"
             ],
             [
              0.4444444444444444,
              "#bd3786"
             ],
             [
              0.5555555555555556,
              "#d8576b"
             ],
             [
              0.6666666666666666,
              "#ed7953"
             ],
             [
              0.7777777777777778,
              "#fb9f3a"
             ],
             [
              0.8888888888888888,
              "#fdca26"
             ],
             [
              1,
              "#f0f921"
             ]
            ],
            "type": "surface"
           }
          ],
          "table": [
           {
            "cells": {
             "fill": {
              "color": "#EBF0F8"
             },
             "line": {
              "color": "white"
             }
            },
            "header": {
             "fill": {
              "color": "#C8D4E3"
             },
             "line": {
              "color": "white"
             }
            },
            "type": "table"
           }
          ]
         },
         "layout": {
          "annotationdefaults": {
           "arrowcolor": "#2a3f5f",
           "arrowhead": 0,
           "arrowwidth": 1
          },
          "autotypenumbers": "strict",
          "coloraxis": {
           "colorbar": {
            "outlinewidth": 0,
            "ticks": ""
           }
          },
          "colorscale": {
           "diverging": [
            [
             0,
             "#8e0152"
            ],
            [
             0.1,
             "#c51b7d"
            ],
            [
             0.2,
             "#de77ae"
            ],
            [
             0.3,
             "#f1b6da"
            ],
            [
             0.4,
             "#fde0ef"
            ],
            [
             0.5,
             "#f7f7f7"
            ],
            [
             0.6,
             "#e6f5d0"
            ],
            [
             0.7,
             "#b8e186"
            ],
            [
             0.8,
             "#7fbc41"
            ],
            [
             0.9,
             "#4d9221"
            ],
            [
             1,
             "#276419"
            ]
           ],
           "sequential": [
            [
             0,
             "#0d0887"
            ],
            [
             0.1111111111111111,
             "#46039f"
            ],
            [
             0.2222222222222222,
             "#7201a8"
            ],
            [
             0.3333333333333333,
             "#9c179e"
            ],
            [
             0.4444444444444444,
             "#bd3786"
            ],
            [
             0.5555555555555556,
             "#d8576b"
            ],
            [
             0.6666666666666666,
             "#ed7953"
            ],
            [
             0.7777777777777778,
             "#fb9f3a"
            ],
            [
             0.8888888888888888,
             "#fdca26"
            ],
            [
             1,
             "#f0f921"
            ]
           ],
           "sequentialminus": [
            [
             0,
             "#0d0887"
            ],
            [
             0.1111111111111111,
             "#46039f"
            ],
            [
             0.2222222222222222,
             "#7201a8"
            ],
            [
             0.3333333333333333,
             "#9c179e"
            ],
            [
             0.4444444444444444,
             "#bd3786"
            ],
            [
             0.5555555555555556,
             "#d8576b"
            ],
            [
             0.6666666666666666,
             "#ed7953"
            ],
            [
             0.7777777777777778,
             "#fb9f3a"
            ],
            [
             0.8888888888888888,
             "#fdca26"
            ],
            [
             1,
             "#f0f921"
            ]
           ]
          },
          "colorway": [
           "#636efa",
           "#EF553B",
           "#00cc96",
           "#ab63fa",
           "#FFA15A",
           "#19d3f3",
           "#FF6692",
           "#B6E880",
           "#FF97FF",
           "#FECB52"
          ],
          "font": {
           "color": "#2a3f5f"
          },
          "geo": {
           "bgcolor": "white",
           "lakecolor": "white",
           "landcolor": "#E5ECF6",
           "showlakes": true,
           "showland": true,
           "subunitcolor": "white"
          },
          "hoverlabel": {
           "align": "left"
          },
          "hovermode": "closest",
          "mapbox": {
           "style": "light"
          },
          "paper_bgcolor": "white",
          "plot_bgcolor": "#E5ECF6",
          "polar": {
           "angularaxis": {
            "gridcolor": "white",
            "linecolor": "white",
            "ticks": ""
           },
           "bgcolor": "#E5ECF6",
           "radialaxis": {
            "gridcolor": "white",
            "linecolor": "white",
            "ticks": ""
           }
          },
          "scene": {
           "xaxis": {
            "backgroundcolor": "#E5ECF6",
            "gridcolor": "white",
            "gridwidth": 2,
            "linecolor": "white",
            "showbackground": true,
            "ticks": "",
            "zerolinecolor": "white"
           },
           "yaxis": {
            "backgroundcolor": "#E5ECF6",
            "gridcolor": "white",
            "gridwidth": 2,
            "linecolor": "white",
            "showbackground": true,
            "ticks": "",
            "zerolinecolor": "white"
           },
           "zaxis": {
            "backgroundcolor": "#E5ECF6",
            "gridcolor": "white",
            "gridwidth": 2,
            "linecolor": "white",
            "showbackground": true,
            "ticks": "",
            "zerolinecolor": "white"
           }
          },
          "shapedefaults": {
           "line": {
            "color": "#2a3f5f"
           }
          },
          "ternary": {
           "aaxis": {
            "gridcolor": "white",
            "linecolor": "white",
            "ticks": ""
           },
           "baxis": {
            "gridcolor": "white",
            "linecolor": "white",
            "ticks": ""
           },
           "bgcolor": "#E5ECF6",
           "caxis": {
            "gridcolor": "white",
            "linecolor": "white",
            "ticks": ""
           }
          },
          "title": {
           "x": 0.05
          },
          "xaxis": {
           "automargin": true,
           "gridcolor": "white",
           "linecolor": "white",
           "ticks": "",
           "title": {
            "standoff": 15
           },
           "zerolinecolor": "white",
           "zerolinewidth": 2
          },
          "yaxis": {
           "automargin": true,
           "gridcolor": "white",
           "linecolor": "white",
           "ticks": "",
           "title": {
            "standoff": 15
           },
           "zerolinecolor": "white",
           "zerolinewidth": 2
          }
         }
        },
        "title": {
         "text": "X Loc Hist"
        },
        "xaxis": {
         "anchor": "y",
         "domain": [
          0,
          1
         ],
         "title": {
          "text": "value"
         }
        },
        "yaxis": {
         "anchor": "x",
         "domain": [
          0,
          1
         ],
         "title": {
          "text": "count"
         }
        }
       }
      }
     },
     "metadata": {},
     "output_type": "display_data"
    }
   ],
   "source": [
    "pitch_data.show_x_location_hist()"
   ]
  },
  {
   "cell_type": "code",
   "execution_count": null,
   "metadata": {},
   "outputs": [
    {
     "data": {
      "application/vnd.plotly.v1+json": {
       "config": {
        "plotlyServerURL": "https://plot.ly"
       },
       "data": [
        {
         "alignmentgroup": "True",
         "bingroup": "x",
         "hovertemplate": "variable=y<br>value=%{x}<br>count=%{y}<extra></extra>",
         "legendgroup": "y",
         "marker": {
          "color": "#636efa",
          "pattern": {
           "shape": ""
          }
         },
         "name": "y",
         "offsetgroup": "y",
         "orientation": "v",
         "showlegend": true,
         "type": "histogram",
         "x": [
          -1.4619559369535813,
          0.1008264133828774,
          2.1157409433915855,
          -1.3610303775719685,
          1.0381664183517043,
          0.009975923614760764,
          -0.2972145160218756,
          -0.014279030173273647,
          0.7037862621088493,
          -1.55337176477843,
          0.21360871989011018,
          0.8264875132660354,
          -1.571751540487099,
          1.7309493978584276,
          -0.570270738009421,
          0.6517922011424425,
          0.05010013995335971,
          -0.23890485804320527,
          1.6698361069153658,
          -0.5173870537439966,
          0.7586031742944312,
          -1.5847336490158777,
          0.8300437472005229,
          -2.5986903420778864,
          -1.9927710321740644,
          0.8419156394856999,
          -0.5492067378746726,
          1.344175810030798,
          1.6173165846306088,
          0.6582065559003969,
          1.9080245589349607,
          -0.4089488936879996,
          -0.020969728597091692,
          -0.6686786949392427,
          0.6014728768826901,
          -1.061029430865161,
          -0.14493289007157903,
          1.8766536874118551,
          -0.5564451770823168,
          -1.2141718060528963,
          0.9221401693195905,
          1.1135988501446037,
          -0.6435925652311341,
          1.360102200907894,
          0.3563319426732603,
          0.1167269317160185,
          0.8447556247678747,
          -0.14659053752481643,
          0.14814192627509487,
          0.2428835243669328,
          0.8696041083799085,
          -0.0040092596147324275,
          0.19853401915448654,
          -1.035725980545835,
          -1.2113299102848458,
          -0.205864518234392,
          -1.3387652010891065,
          -2.953328975991184,
          -0.10559683668426317,
          0.2064348299101139,
          -0.7574556492347901,
          -1.1815113404568978,
          -0.5407697507684148,
          1.030491121360282,
          -0.7651878908772998,
          -1.7211449380180914,
          0.9592204526620323,
          1.7753486269403986,
          -0.7992443529404508,
          -0.0584086600348921,
          1.9788903922434233,
          -0.24589061445785784,
          -2.3228406405531183,
          -0.6740393989637373,
          1.0214913765687061,
          0.24555674430602367,
          -0.16309948176010786,
          1.18874136698147,
          -0.8056854515679295,
          0.4580733700460979,
          -1.159045071401332,
          1.0221022175465744,
          2.0640015080182277,
          1.220234913824929,
          0.4566718376567333,
          0.1958617242003262,
          -0.3267326656005092,
          1.831970640372633,
          -1.6182060237753149,
          -1.175289032557459,
          1.3822140820600664,
          -1.6150206595719685,
          2.23648855197985,
          0.05469523471198431,
          1.4542762827167937,
          -0.02172637564023656,
          -0.7995767886271318,
          -2.1287153312635283,
          0.27681053051412136,
          -1.4623700661603172,
          -1.9242288175490945,
          -0.4584080787970608,
          1.0611921760995453,
          0.5710609576888971,
          -0.49231845338041463,
          -0.3238551964906045,
          -0.5234807639761304,
          1.1271294999050019,
          1.5756819540689146,
          -1.483301656383091,
          -0.2534873969341473,
          1.0172126630572567,
          -2.201352545082074,
          0.025548599988201012,
          -1.2773606548533922,
          0.2063307925145303,
          0.2746290151225869,
          1.9466708668509998,
          -0.08410240596769133,
          -1.496737743473522,
          -1.1211101418003337,
          1.008403300960142,
          -0.36449258793050493,
          -0.5553308097827021,
          -1.8807895659889922,
          0.1610686122683929,
          1.478383941791381,
          -0.6064754734627529,
          -2.5095880849813446,
          -0.9622955425002674,
          -0.4822794923828066,
          -0.5173275126950955,
          -2.5908521242312057,
          0.14951483006401345,
          2.1930037491308982,
          -0.6963583246424085,
          0.15009369362630245,
          -0.29053396110068247,
          0.5635334997926635,
          -1.1441040269884433,
          -1.3656395990263486,
          -1.0397133081577639,
          -0.9354765491170021,
          -0.7573616126067729,
          -1.0012233831161443,
          -3.0170534190513334,
          0.054698253581496256,
          1.3341346406848016,
          -0.5773980232865625,
          0.15935726873223385,
          -1.015642306854519,
          -0.7617625800327065,
          1.116281377943765,
          0.41071757017458527,
          -1.7744225830603317,
          -0.21031118811203917,
          -0.8525089410269869,
          0.23359704462532263,
          0.03822065849317946,
          -1.0106919734746955,
          1.6666972787442556,
          -0.041931823551064985,
          -0.5961608187168137,
          1.2446282606251582,
          -0.4810083664710012,
          0.9576436288625626,
          -1.414277482955954,
          0.8358814259283148,
          0.1239380116064668,
          0.47708363287584926,
          -1.7134448009230938,
          -0.48527445246439266,
          1.4512866256450512,
          1.5475320442399023,
          -0.48213073066362605,
          1.4119874801534682,
          -0.2804815167678061,
          0.3356741215635352,
          0.17983399113694454,
          1.164362784094048,
          1.5076332994976356,
          -0.12940777141864557,
          -0.29663423621635515,
          0.4289171820752563,
          -0.45719997557248526,
          0.725914653170318,
          0.03215321100141399,
          0.2446425143820649,
          0.5550864589650187,
          -1.1100422029681036,
          0.20337460734265392,
          -2.5766824257935035,
          0.18791346411217538,
          -1.8100951097821483,
          0.4253713029315363,
          -1.2656883589398553,
          -1.8881249067517687,
          0.11366616745809385,
          -0.6864379092296434,
          -0.16881987299629006,
          -0.8221975051591263,
          0.7773352068692465,
          -0.6962355607413191,
          -1.005696672488003,
          0.5404410604935243,
          -0.6342086811151596,
          -0.7398157963476902,
          -1.2862855115220229,
          -2.310598358292446,
          -0.2735592801586012,
          1.7960357253948969,
          -0.08599174217225378,
          0.8518464338916452,
          1.3384349478852842,
          0.43587043544641263,
          -0.6908707776769148,
          -1.6435304073316441,
          -1.3352667147181767,
          -0.06405529952806541,
          0.7590180576032765,
          0.9225724789161036,
          0.782109118519372,
          1.1340454550694847,
          0.769010368158112,
          -0.06482550038646262,
          1.4750279262575547,
          1.3522974913552688,
          -0.7089379528667467,
          -0.2489197940840676,
          -0.6361667816780078,
          -0.19261475641774253,
          -0.393323003296783,
          0.2751889576132925,
          1.427027845250691,
          -1.008346828672105,
          -1.762893673241136,
          -0.72342771040559,
          -0.9110807184072908,
          -0.20205291207371964,
          0.17277891048633304,
          -0.16164642890877937,
          -0.6473495209278263,
          -1.3857363268801164,
          -0.18813088527814179,
          -1.080363458253731,
          1.2258640673318826,
          -0.025865656755350352,
          -0.6624774983735242,
          1.727508194293685,
          0.07327814655040546,
          -0.9084290538862722,
          -0.9065234034794586,
          0.8008058490853308,
          0.18434817177852336,
          -0.6699151783537103,
          1.3818833637269192,
          -1.0296002576293835,
          0.7512195492880183,
          -1.4482887344772748,
          -0.028999831941459043,
          -1.070644653639172,
          0.5294070680461865,
          0.5823778507629787,
          -1.0186986826385245,
          -0.09612047613997517,
          2.099379142991545,
          -0.5361943825185985,
          0.28656947297248264,
          -0.703007959679095,
          -0.046675625210996975,
          -1.0670037438293873,
          0.6482629503363578,
          -0.7610100803324291,
          0.6592679475745012,
          0.9587058738794532,
          0.7129754735999978,
          0.6978723392835123,
          -2.1993041007546883,
          -1.7943576960397767,
          0.9341095145069549,
          0.5757361550818003,
          -2.871348029505154,
          -0.616810696291109,
          1.3733946662068608,
          1.8539394236022435,
          0.49608434058417794,
          1.8029277278868967,
          -1.778726142082842,
          1.04356492648384,
          0.22995514103959885,
          1.5719412230993088,
          0.13341966328601795,
          -0.48871446482507025,
          1.0159089523929934,
          0.5301992395393421,
          1.3614118703778788,
          -1.5175508011828238,
          0.5821318383618287,
          -1.3358189706822523,
          0.24638603883330007,
          -1.5940344043151888,
          -0.3515381487318445,
          -0.13951175739948726,
          1.7745890938726945,
          -0.9405318391449092,
          -1.4502323763342477,
          -1.7339198437386472,
          1.0230138457402702,
          -0.841018347860393,
          0.37579775108404184,
          -0.7102297111543666,
          0.2569141809729714,
          0.40853771892417995,
          -0.5300635544774941,
          -1.0427891685404804,
          0.3387817117298632,
          0.3847120384269619,
          0.7765498674063382,
          0.25400976486640775,
          -1.1824418628730118,
          0.14004779578169244,
          -1.4221214046910202,
          -1.7592982599185478,
          0.8796940745945542,
          0.9200476874586649,
          -0.4302489394890729,
          -0.3860106161353053,
          0.6016296970797851,
          -1.228206582713009,
          1.6679842822936208,
          0.9681250234010208,
          0.5723554016220088,
          0.32142082249442694,
          1.0983969288109892,
          -0.18500900041136964,
          0.9572129284469484,
          1.3641466535035947,
          1.312725740450939,
          -1.1455019150093788,
          1.7145877179294944,
          -0.2031951181502712,
          -2.259811672359945,
          1.6443711798713243,
          -0.4545062643293789,
          -0.7965080732289761,
          0.26865903188465906,
          -0.39426315129592143,
          0.7113291260072464,
          0.7825694936278833,
          1.7833719215850403,
          -0.3304755833742228,
          -1.9539400616909286,
          0.4310134202300991,
          0.24877327792669773,
          -0.7978274013197625,
          -0.5392366366722375,
          0.8644055294390011,
          -0.5768636839156147,
          -0.9109435943512791,
          -0.21250497196675336,
          -0.2634604084476076,
          0.1862009067488638,
          -2.3855978688484165,
          -0.9805075919826187,
          -0.12091532790056436,
          -2.7407554820283724,
          1.4248730494396764,
          -0.5836342272542059,
          2.511614522360188,
          -2.9162362497470613,
          0.7906641704118191,
          1.0637131938646909,
          -1.492052845617486,
          -1.3973309337105222,
          0.30136546066872755,
          -0.699744827021877,
          -1.657268707503053,
          0.11783690464995208,
          -1.869539159365869,
          -1.2040816792907398,
          1.4095696832884255,
          -0.9754188216620547,
          -0.4510894297883886,
          -1.2772126143805822,
          -0.6655830550467524,
          -1.4136489961343142,
          0.22790098623532212,
          -0.771860465933935,
          -2.3741015987923646,
          0.9342530600547736,
          -1.1561780079147554,
          -0.051018956613701566,
          -1.6224227210716804,
          0.8568887068156813,
          1.5358001393294345,
          -0.0025961869755417484,
          0.8527341367248952,
          2.0581225638541105,
          1.9607138697627982,
          -0.9186653566258338,
          0.15480885857423712,
          -0.42686702644039864,
          0.20744885230526505,
          0.5161077280011824,
          0.23616352821136993,
          2.0187264851166176,
          0.4248117801248173,
          -0.6893740407656531,
          0.17421197159064636,
          -1.3203527330717937,
          1.2222994284283284,
          -0.3650365707679395,
          2.3607149365505857,
          -0.6915677205110825,
          -1.2416433081684664,
          -2.227744010281314,
          -0.5472256480146864,
          -0.03583357974661963,
          1.4250001787620465,
          0.6900633027423315,
          0.5435616278563006,
          0.19508199907901783,
          -2.2938813277436862,
          0.15830675335623198,
          1.652765542212612,
          -1.1207253962962027,
          1.3485512500724313,
          1.7611622672125997,
          -0.4526554395160954,
          0.37383743246625056,
          1.1286812053424051,
          2.1649722623168084,
          -1.5529226591386875,
          -1.6179405291177573,
          -0.3707922181435692,
          1.4476247904913588,
          -0.23638525887161124,
          -0.17784753934183992,
          0.05711212377121567,
          -0.06865687678014495,
          -1.5329644012647714,
          0.07421676894487017,
          -0.3497317786883717,
          -0.5449101327068687,
          1.2269415751690598,
          2.212998039872124,
          -2.1078218590240816,
          1.0867834951592352,
          0.16880418462511684,
          2.3658219942940755,
          2.1732783289513025,
          -0.9026717168885324,
          0.6547667932400274,
          1.0873214327042398,
          0.19907024196222964,
          0.16857780333115635,
          0.047497881054990594,
          0.972417461773171,
          -0.6976398272977452,
          2.2623914370234615,
          0.33169334641035025,
          -1.9223208006049117,
          1.255825360803395,
          0.9605818502475869,
          -1.0902135776769453,
          0.16697064963893624,
          -0.7072687166105611,
          -0.30632924571598136,
          -1.6765423036433713,
          -1.4230191491216773,
          2.7735295789422483,
          -1.1046078405281141,
          0.5147357407041661,
          0.5621876357860105,
          1.349981397036153,
          1.66890287920534,
          0.6279611483150446,
          1.120168918268544,
          0.6469464412668336,
          0.9497164643431311,
          -0.19506766083501034,
          1.947854088364492,
          1.570382022825687,
          1.8824494911086163,
          0.7889231820507909,
          0.9464139121791668,
          0.5541024872887278,
          0.03196877095925404,
          -0.9490491869407784,
          -2.8893321441916506,
          0.5359100904178474,
          1.8424882053201077,
          0.7327046674926658,
          0.017402637853515483,
          -0.9128769248192888,
          -0.803517037472867,
          0.5305832712473736,
          -0.34817068778546306,
          -0.2138786715750177,
          0.6921099374867342,
          0.2653667388932672,
          0.29735670104936124,
          -1.434108966771054,
          -1.484453895038736,
          -1.2098129974737324,
          0.39373231408680315,
          0.17502144790880406,
          -0.5155675824021132,
          -0.6871961082143752,
          1.0379700045411215,
          1.1122375765000074,
          -0.09268459553319888,
          -1.2033037618225402,
          -1.721899998720155,
          1.193826330525417,
          1.1670541060516717,
          1.0727201045219323,
          -0.9328588611263331,
          3.5084110109594158,
          0.23954927011722782,
          0.08979344116017629,
          -0.5930935107862564,
          -0.340537199803342,
          -1.9420264505596938,
          -2.1205022607127835,
          -0.3919022780972607,
          0.39393789221584724,
          -0.4496937895921394,
          -0.2930931682951444,
          0.8539466426084769,
          1.0884053390435189,
          -0.35141653492018404,
          -1.4577131428452215,
          0.8969285476506215,
          1.012612175457528,
          -3.483668942270298,
          -1.1256312795499241,
          1.0106352053215197,
          -0.32384772508951565,
          -0.8658586172361301,
          -0.3130632834689293,
          -2.015638366640782,
          -0.656880633715272,
          -0.5759883421204188,
          -0.7056705209786526,
          -0.9822633318001754,
          1.0768609923376988,
          0.2383465076315354,
          -1.4546707191437218,
          -2.42647735712636,
          0.5288456620432935,
          -1.9511961172144605,
          0.6453616117160801,
          -0.039052207073194165,
          0.8435828115283246,
          1.5791768648140116,
          1.715675040182451,
          2.3630774127917245,
          0.90336311023996,
          -2.9373828267641957,
          0.2404103153543154,
          0.3542148716163661,
          1.7946245858607026,
          -0.39088775229961265,
          -2.2542698266214933,
          -0.09386961708228403,
          -0.6730581386348108,
          1.9292997830741154,
          -0.8762001107032876,
          0.7834072931175043,
          1.4496437515611587,
          -0.6950796157205206,
          -1.5961154806544753,
          -2.5440628155396516,
          -0.01794928638516946,
          -0.6180993932968357,
          -0.04756585397319227,
          -1.896671630273555,
          0.335446677640843,
          1.0953440346654197,
          1.9103997945980355,
          0.5754297886265393,
          1.3574458112448917,
          0.2955085107027277,
          -0.8643629359429215,
          -0.14870204158595784,
          -1.0140089003483725,
          1.734534323526151,
          -0.4003743185251322,
          -2.580293901243138,
          -1.5817183688473297,
          -0.1560412748596191,
          -0.6793086397560824,
          -1.932465249174374,
          -0.9256267691689611,
          -1.3785120259875066,
          0.23889179447627226,
          -1.1439364713015039,
          0.33098467696672834,
          -1.2175667693094023,
          1.1039599784019187,
          1.1817389082535028,
          -1.7419358206244533,
          -1.5937999915426173,
          2.0119503553843883,
          -0.4963871644798621,
          1.7319008225082118,
          -1.3555778356922654,
          -0.015513231326401712,
          -0.62734091324949,
          -1.9559943066563752,
          -0.41554486749832137,
          1.1213121306562654,
          0.8825959146226152,
          0.3995201478739027,
          -0.09293094761852953,
          0.06211269030656825,
          -1.0680307743276982,
          0.7313857217880518,
          0.52450668111136,
          0.6496223864173821,
          -1.2841567138853445,
          0.45171296613226686,
          -1.4737984107486537,
          1.853484334507615,
          -2.1849162931462325,
          -0.08695607564400482,
          1.2275718792589227,
          0.8512910202218733,
          -1.666355646488333,
          0.6839990146063366,
          -1.867383043361142,
          1.6071528145388105,
          2.198897980307439,
          2.391187304920101,
          2.5427592243380723,
          0.19995931689916313,
          0.7219089657309254,
          -0.5121433667432729,
          -1.9459434789682446,
          0.845949340380999,
          -1.980768014104767,
          -1.4815345358899337,
          0.24146068458438133,
          -1.14715346916876,
          -0.688624321466784,
          1.8885203275362836,
          -1.2745189055164818,
          1.890272714568267,
          -1.9070235782905045,
          -0.24918824736287423,
          -0.9638837616849354,
          1.4483013432476122,
          0.06206042895036873,
          -1.5766150499180547,
          0.9835235899431273,
          -0.39974994474674336,
          -1.8844058481580732,
          -0.04301592045601387,
          -1.6203486357258672,
          1.6761248292489814,
          -0.43261085850833675,
          0.20736401579858152,
          -0.4853799370720822,
          1.4893366871392475,
          0.08914422560603326,
          0.3342090004843919,
          -0.6056011084874273,
          -1.511547831213204,
          0.49541245005885065,
          1.1339742830901394,
          1.4188505412972354,
          0.136836985597687,
          2.428092974275056,
          0.554438441692706,
          -0.2461428814385899,
          1.2676957781476907,
          0.07826437963474354,
          -0.6119560863966779,
          0.8930355450415349,
          1.0030931267899397,
          0.03641035649289292,
          -0.45720585856234564,
          2.6082128205917514,
          0.180476289047285,
          0.9761647814641391,
          -0.6358360244701412,
          0.4632835868205905,
          -1.3891830956662319,
          -2.521150165988499,
          -2.4077738232994603,
          0.26490813611096187,
          1.5550352842604298,
          1.3600315068293403,
          -0.2538789698250772,
          0.044817260201051826,
          -0.10862470509978543,
          0.9163481680739154,
          1.0542651931870686,
          1.2780075296745916,
          0.21569468420580815,
          0.49926054893883826,
          -1.5288995688206086,
          -0.1545251912111624,
          2.2164376330231232,
          1.9977111134033967,
          -0.1588736316701932,
          -0.8088379449847507,
          1.2073372600664027,
          3.0026171706128766,
          -0.1380049556403991,
          1.7732991330463979,
          1.0252056110921623,
          1.8836241447764765,
          -0.4682075623916032,
          -0.030563754228700307,
          -0.7567680737569239,
          0.3352010168257917,
          -2.726259517739403,
          -0.08470424018569564,
          -0.7753870508394061,
          -1.2554420416545777,
          -0.933165910131607,
          1.0923876136405568,
          0.9569458439722004,
          0.36128874135508793,
          0.6483070990079136,
          1.1219012988809756,
          0.6531534745074944,
          0.05799428652086518,
          -1.6884073315738,
          1.902016866666397,
          1.143370243075811,
          0.241743630196375,
          -0.16005869511562687,
          2.432769975701647,
          -1.0393521617108212,
          0.1522027404809134,
          -2.43769882656142,
          0.0525411476447553,
          -0.23211131339224667,
          -0.0316000714248865,
          -1.2615873098158763,
          0.87991741686179,
          -1.8196519230726762,
          0.18168837093410775,
          1.5524582461708154,
          -0.8864448287716986,
          0.13739786924995065,
          -2.0176093890638755,
          -0.8861873972925914,
          -0.5149962555370344,
          -0.8852731861751532,
          -2.2574625587831743,
          1.170010507349796,
          -1.955349126421254,
          0.47045616393097084,
          -0.8117107240706302,
          0.8810808997856764,
          -0.4640872153399484,
          -1.471040352529619,
          -0.8763551965194197,
          -0.2235853944485647,
          -0.3168994893471933,
          -0.8870203240801063,
          -0.3766381966405929,
          1.4420122970670028,
          -0.004158579976362754,
          -0.006059511535256977,
          1.3823921406800608,
          -1.8116284646348808,
          1.0590442408025522,
          1.7209569915503773,
          -0.39370404844031187,
          0.8489453292507604,
          0.8435824618556337,
          2.4048352612859416,
          1.076228387927923,
          -0.4166604425012604,
          -0.31625142563542097,
          -1.7699728914349822,
          0.055104472295936284,
          -0.12822440387133754,
          0.6779752717593488,
          -1.9643458112780712,
          0.6505338169132789,
          0.8194890834311911,
          -1.436345352697541,
          -0.3246025448669389,
          -2.2635573521236916,
          1.3913302463399253,
          2.385529126851433,
          -1.3181431856982246,
          2.5909152069244747,
          -3.317972033674416,
          2.416216482839701,
          -0.6641687353999486,
          1.9103681506914316,
          -0.2965946618703548,
          1.3089330704291413,
          0.10173616925109272,
          -0.9969046468414371,
          -1.4904036052902405,
          2.771447024936917,
          -0.9493236279717456,
          0.7154877346966239,
          -1.2497685643293177,
          -1.5947667584245604,
          -0.14174786245633403,
          -0.30362534893924437,
          1.8196524695300718,
          0.9765448049962843,
          -1.838898164421539,
          -0.9296024489063935,
          1.2580660799858603,
          1.0556898408434015,
          -0.0042879916909939215,
          -0.36409588324381686,
          -2.3806676042212294,
          1.4418412656863924,
          1.4527384358628284,
          -1.586770908322966,
          -1.6696872114795236,
          -2.9917027891944667,
          1.2290367304779084,
          1.4079579041513652,
          -1.2218518078567733,
          0.10095562792509678,
          -0.7714497829663457,
          0.05127970212150397,
          1.773393013819702,
          -0.9740444640835508,
          0.9662829320847532,
          -0.49730147778694966,
          0.9015707998332727,
          0.3204037402279447,
          1.0392247032948658,
          0.9418109574717123,
          -0.8984577755509188,
          0.2817295388990724,
          -2.161626964247817,
          -3.090107105665527,
          -1.2037000694292177,
          -1.7780094573134901,
          0.3371291963581896,
          1.6716575375898874,
          -2.2291635345811747,
          -1.8199702454902353,
          -0.44929024269677603,
          -0.11692850537569559,
          0.22906611890870962,
          -1.549405024666957,
          -0.7606425345506068,
          0.6557059005150759,
          0.6355177120007955,
          -1.65697544944933,
          1.8934328020730748,
          0.8930089234838682,
          1.6406559456715413,
          0.9630891708035334,
          0.6097695259693311,
          -0.1529551139888943,
          -1.9073863412112013,
          -0.7364265126196833,
          -0.8733914392999756,
          2.7012634482162583,
          2.1534689748027223,
          0.3853269900757597,
          -0.024773499966165503,
          1.0357221954975404,
          0.05292933773165101,
          -0.8563899810444021,
          0.34720700289105194,
          0.3992638833430345,
          1.7997394662008728,
          1.4025097985737285,
          -2.084531494122943,
          3.187287581036819,
          -1.7917055157798674,
          0.3826314613119289,
          -1.043186701935017,
          0.7288441185847672,
          -0.17798337652420573,
          -0.017514877960590692,
          0.1609562690870647,
          -0.5375795989475259,
          1.086977209147517,
          0.3323909816908083,
          -0.9180363168987264,
          -0.5117847706805808,
          -1.9238374595344103,
          -0.15442949676029116,
          -0.23160804369757443,
          -0.3934302608857804,
          1.1565961162174891,
          -0.6474929274704823,
          0.16129597704006113,
          1.7434118506913745,
          -0.2728433116688801,
          0.6917261198534023,
          -2.0936566679779665,
          0.9918199054389161,
          -0.6043379317210202,
          0.481298344332156,
          -0.1346441317801937,
          -0.10919224869802353,
          -0.4488545352495477,
          -3.6081346169528183,
          2.142145669678201,
          -1.3625894866772899,
          -0.43369078431873215,
          -1.343080914957289,
          -0.805426414038041,
          0.053856760710979244,
          0.14585224732383742,
          0.9270914542320907,
          -1.232274096725016,
          -0.9369754078038356,
          1.474230558722148,
          -1.6262823773346315,
          -0.9277541434792227,
          0.042743422594872696,
          0.45289060020127914,
          -1.4756459664748989,
          0.612711883971388,
          -0.09539963598676021,
          1.5087250612232632,
          0.0745427425281569,
          -1.6358374779434544,
          1.8832279954133362,
          -0.008206690105717505,
          0.13075213537045258,
          -0.4729080888985421,
          0.51152062486472,
          0.09700583865686023,
          1.4642099062900427,
          0.8565359071337112,
          1.1354914967265848,
          -0.3705760729942339,
          -1.913679668780743,
          0.4052407871409735,
          0.37076694627072526,
          -0.7967689876345627,
          -0.7918746663239834,
          -0.8351037851880713,
          -2.2713349317286275,
          -0.40641390445233233,
          -1.002559932992303,
          -0.1656198940390046,
          2.248933407901992,
          -0.8752790692251927,
          0.6817762061999731,
          -0.43378648209129017,
          1.4605504391394402,
          2.407179511235714,
          0.8177058521653368,
          -0.46354570575058524,
          1.515826452913322,
          0.46232307958311103,
          1.2505557371114888,
          -2.2517274089431503,
          -1.210279477582706,
          0.9062846862353218,
          1.1354195880363378,
          1.0989783590693603,
          0.776565498210631,
          -1.2014460778974185,
          -0.6550303849274709,
          2.88073352837985,
          -0.3603505914179698,
          -0.28314794045141456,
          -1.3766041341578568,
          1.8767592472287038,
          0.82632902231587,
          -0.5023553847195665,
          -1.499017970784047,
          -0.3360618497573218,
          0.30827261730589495,
          0.6563244778604903,
          2.4121165608316972,
          1.1324049286874531,
          1.4947889625500932,
          -1.8619301391943905,
          1.4072942547590948,
          0.5809626182917415,
          1.0375971406158095,
          -0.8535421566060467,
          -1.4223105985352138,
          1.4278538876037852,
          1.2076637136789383,
          -1.1712722721855309,
          0.8200562499166684,
          -1.3598042868941562,
          0.7149046117673878,
          0.23059795004996975,
          -1.9233247998924325,
          1.714132147403319,
          -1.6793397330621398,
          0.012856742230458103,
          2.0095745704536645
         ],
         "xaxis": "x",
         "yaxis": "y"
        }
       ],
       "layout": {
        "barmode": "relative",
        "legend": {
         "title": {
          "text": "variable"
         },
         "tracegroupgap": 0
        },
        "template": {
         "data": {
          "bar": [
           {
            "error_x": {
             "color": "#2a3f5f"
            },
            "error_y": {
             "color": "#2a3f5f"
            },
            "marker": {
             "line": {
              "color": "#E5ECF6",
              "width": 0.5
             },
             "pattern": {
              "fillmode": "overlay",
              "size": 10,
              "solidity": 0.2
             }
            },
            "type": "bar"
           }
          ],
          "barpolar": [
           {
            "marker": {
             "line": {
              "color": "#E5ECF6",
              "width": 0.5
             },
             "pattern": {
              "fillmode": "overlay",
              "size": 10,
              "solidity": 0.2
             }
            },
            "type": "barpolar"
           }
          ],
          "carpet": [
           {
            "aaxis": {
             "endlinecolor": "#2a3f5f",
             "gridcolor": "white",
             "linecolor": "white",
             "minorgridcolor": "white",
             "startlinecolor": "#2a3f5f"
            },
            "baxis": {
             "endlinecolor": "#2a3f5f",
             "gridcolor": "white",
             "linecolor": "white",
             "minorgridcolor": "white",
             "startlinecolor": "#2a3f5f"
            },
            "type": "carpet"
           }
          ],
          "choropleth": [
           {
            "colorbar": {
             "outlinewidth": 0,
             "ticks": ""
            },
            "type": "choropleth"
           }
          ],
          "contour": [
           {
            "colorbar": {
             "outlinewidth": 0,
             "ticks": ""
            },
            "colorscale": [
             [
              0,
              "#0d0887"
             ],
             [
              0.1111111111111111,
              "#46039f"
             ],
             [
              0.2222222222222222,
              "#7201a8"
             ],
             [
              0.3333333333333333,
              "#9c179e"
             ],
             [
              0.4444444444444444,
              "#bd3786"
             ],
             [
              0.5555555555555556,
              "#d8576b"
             ],
             [
              0.6666666666666666,
              "#ed7953"
             ],
             [
              0.7777777777777778,
              "#fb9f3a"
             ],
             [
              0.8888888888888888,
              "#fdca26"
             ],
             [
              1,
              "#f0f921"
             ]
            ],
            "type": "contour"
           }
          ],
          "contourcarpet": [
           {
            "colorbar": {
             "outlinewidth": 0,
             "ticks": ""
            },
            "type": "contourcarpet"
           }
          ],
          "heatmap": [
           {
            "colorbar": {
             "outlinewidth": 0,
             "ticks": ""
            },
            "colorscale": [
             [
              0,
              "#0d0887"
             ],
             [
              0.1111111111111111,
              "#46039f"
             ],
             [
              0.2222222222222222,
              "#7201a8"
             ],
             [
              0.3333333333333333,
              "#9c179e"
             ],
             [
              0.4444444444444444,
              "#bd3786"
             ],
             [
              0.5555555555555556,
              "#d8576b"
             ],
             [
              0.6666666666666666,
              "#ed7953"
             ],
             [
              0.7777777777777778,
              "#fb9f3a"
             ],
             [
              0.8888888888888888,
              "#fdca26"
             ],
             [
              1,
              "#f0f921"
             ]
            ],
            "type": "heatmap"
           }
          ],
          "heatmapgl": [
           {
            "colorbar": {
             "outlinewidth": 0,
             "ticks": ""
            },
            "colorscale": [
             [
              0,
              "#0d0887"
             ],
             [
              0.1111111111111111,
              "#46039f"
             ],
             [
              0.2222222222222222,
              "#7201a8"
             ],
             [
              0.3333333333333333,
              "#9c179e"
             ],
             [
              0.4444444444444444,
              "#bd3786"
             ],
             [
              0.5555555555555556,
              "#d8576b"
             ],
             [
              0.6666666666666666,
              "#ed7953"
             ],
             [
              0.7777777777777778,
              "#fb9f3a"
             ],
             [
              0.8888888888888888,
              "#fdca26"
             ],
             [
              1,
              "#f0f921"
             ]
            ],
            "type": "heatmapgl"
           }
          ],
          "histogram": [
           {
            "marker": {
             "pattern": {
              "fillmode": "overlay",
              "size": 10,
              "solidity": 0.2
             }
            },
            "type": "histogram"
           }
          ],
          "histogram2d": [
           {
            "colorbar": {
             "outlinewidth": 0,
             "ticks": ""
            },
            "colorscale": [
             [
              0,
              "#0d0887"
             ],
             [
              0.1111111111111111,
              "#46039f"
             ],
             [
              0.2222222222222222,
              "#7201a8"
             ],
             [
              0.3333333333333333,
              "#9c179e"
             ],
             [
              0.4444444444444444,
              "#bd3786"
             ],
             [
              0.5555555555555556,
              "#d8576b"
             ],
             [
              0.6666666666666666,
              "#ed7953"
             ],
             [
              0.7777777777777778,
              "#fb9f3a"
             ],
             [
              0.8888888888888888,
              "#fdca26"
             ],
             [
              1,
              "#f0f921"
             ]
            ],
            "type": "histogram2d"
           }
          ],
          "histogram2dcontour": [
           {
            "colorbar": {
             "outlinewidth": 0,
             "ticks": ""
            },
            "colorscale": [
             [
              0,
              "#0d0887"
             ],
             [
              0.1111111111111111,
              "#46039f"
             ],
             [
              0.2222222222222222,
              "#7201a8"
             ],
             [
              0.3333333333333333,
              "#9c179e"
             ],
             [
              0.4444444444444444,
              "#bd3786"
             ],
             [
              0.5555555555555556,
              "#d8576b"
             ],
             [
              0.6666666666666666,
              "#ed7953"
             ],
             [
              0.7777777777777778,
              "#fb9f3a"
             ],
             [
              0.8888888888888888,
              "#fdca26"
             ],
             [
              1,
              "#f0f921"
             ]
            ],
            "type": "histogram2dcontour"
           }
          ],
          "mesh3d": [
           {
            "colorbar": {
             "outlinewidth": 0,
             "ticks": ""
            },
            "type": "mesh3d"
           }
          ],
          "parcoords": [
           {
            "line": {
             "colorbar": {
              "outlinewidth": 0,
              "ticks": ""
             }
            },
            "type": "parcoords"
           }
          ],
          "pie": [
           {
            "automargin": true,
            "type": "pie"
           }
          ],
          "scatter": [
           {
            "fillpattern": {
             "fillmode": "overlay",
             "size": 10,
             "solidity": 0.2
            },
            "type": "scatter"
           }
          ],
          "scatter3d": [
           {
            "line": {
             "colorbar": {
              "outlinewidth": 0,
              "ticks": ""
             }
            },
            "marker": {
             "colorbar": {
              "outlinewidth": 0,
              "ticks": ""
             }
            },
            "type": "scatter3d"
           }
          ],
          "scattercarpet": [
           {
            "marker": {
             "colorbar": {
              "outlinewidth": 0,
              "ticks": ""
             }
            },
            "type": "scattercarpet"
           }
          ],
          "scattergeo": [
           {
            "marker": {
             "colorbar": {
              "outlinewidth": 0,
              "ticks": ""
             }
            },
            "type": "scattergeo"
           }
          ],
          "scattergl": [
           {
            "marker": {
             "colorbar": {
              "outlinewidth": 0,
              "ticks": ""
             }
            },
            "type": "scattergl"
           }
          ],
          "scattermapbox": [
           {
            "marker": {
             "colorbar": {
              "outlinewidth": 0,
              "ticks": ""
             }
            },
            "type": "scattermapbox"
           }
          ],
          "scatterpolar": [
           {
            "marker": {
             "colorbar": {
              "outlinewidth": 0,
              "ticks": ""
             }
            },
            "type": "scatterpolar"
           }
          ],
          "scatterpolargl": [
           {
            "marker": {
             "colorbar": {
              "outlinewidth": 0,
              "ticks": ""
             }
            },
            "type": "scatterpolargl"
           }
          ],
          "scatterternary": [
           {
            "marker": {
             "colorbar": {
              "outlinewidth": 0,
              "ticks": ""
             }
            },
            "type": "scatterternary"
           }
          ],
          "surface": [
           {
            "colorbar": {
             "outlinewidth": 0,
             "ticks": ""
            },
            "colorscale": [
             [
              0,
              "#0d0887"
             ],
             [
              0.1111111111111111,
              "#46039f"
             ],
             [
              0.2222222222222222,
              "#7201a8"
             ],
             [
              0.3333333333333333,
              "#9c179e"
             ],
             [
              0.4444444444444444,
              "#bd3786"
             ],
             [
              0.5555555555555556,
              "#d8576b"
             ],
             [
              0.6666666666666666,
              "#ed7953"
             ],
             [
              0.7777777777777778,
              "#fb9f3a"
             ],
             [
              0.8888888888888888,
              "#fdca26"
             ],
             [
              1,
              "#f0f921"
             ]
            ],
            "type": "surface"
           }
          ],
          "table": [
           {
            "cells": {
             "fill": {
              "color": "#EBF0F8"
             },
             "line": {
              "color": "white"
             }
            },
            "header": {
             "fill": {
              "color": "#C8D4E3"
             },
             "line": {
              "color": "white"
             }
            },
            "type": "table"
           }
          ]
         },
         "layout": {
          "annotationdefaults": {
           "arrowcolor": "#2a3f5f",
           "arrowhead": 0,
           "arrowwidth": 1
          },
          "autotypenumbers": "strict",
          "coloraxis": {
           "colorbar": {
            "outlinewidth": 0,
            "ticks": ""
           }
          },
          "colorscale": {
           "diverging": [
            [
             0,
             "#8e0152"
            ],
            [
             0.1,
             "#c51b7d"
            ],
            [
             0.2,
             "#de77ae"
            ],
            [
             0.3,
             "#f1b6da"
            ],
            [
             0.4,
             "#fde0ef"
            ],
            [
             0.5,
             "#f7f7f7"
            ],
            [
             0.6,
             "#e6f5d0"
            ],
            [
             0.7,
             "#b8e186"
            ],
            [
             0.8,
             "#7fbc41"
            ],
            [
             0.9,
             "#4d9221"
            ],
            [
             1,
             "#276419"
            ]
           ],
           "sequential": [
            [
             0,
             "#0d0887"
            ],
            [
             0.1111111111111111,
             "#46039f"
            ],
            [
             0.2222222222222222,
             "#7201a8"
            ],
            [
             0.3333333333333333,
             "#9c179e"
            ],
            [
             0.4444444444444444,
             "#bd3786"
            ],
            [
             0.5555555555555556,
             "#d8576b"
            ],
            [
             0.6666666666666666,
             "#ed7953"
            ],
            [
             0.7777777777777778,
             "#fb9f3a"
            ],
            [
             0.8888888888888888,
             "#fdca26"
            ],
            [
             1,
             "#f0f921"
            ]
           ],
           "sequentialminus": [
            [
             0,
             "#0d0887"
            ],
            [
             0.1111111111111111,
             "#46039f"
            ],
            [
             0.2222222222222222,
             "#7201a8"
            ],
            [
             0.3333333333333333,
             "#9c179e"
            ],
            [
             0.4444444444444444,
             "#bd3786"
            ],
            [
             0.5555555555555556,
             "#d8576b"
            ],
            [
             0.6666666666666666,
             "#ed7953"
            ],
            [
             0.7777777777777778,
             "#fb9f3a"
            ],
            [
             0.8888888888888888,
             "#fdca26"
            ],
            [
             1,
             "#f0f921"
            ]
           ]
          },
          "colorway": [
           "#636efa",
           "#EF553B",
           "#00cc96",
           "#ab63fa",
           "#FFA15A",
           "#19d3f3",
           "#FF6692",
           "#B6E880",
           "#FF97FF",
           "#FECB52"
          ],
          "font": {
           "color": "#2a3f5f"
          },
          "geo": {
           "bgcolor": "white",
           "lakecolor": "white",
           "landcolor": "#E5ECF6",
           "showlakes": true,
           "showland": true,
           "subunitcolor": "white"
          },
          "hoverlabel": {
           "align": "left"
          },
          "hovermode": "closest",
          "mapbox": {
           "style": "light"
          },
          "paper_bgcolor": "white",
          "plot_bgcolor": "#E5ECF6",
          "polar": {
           "angularaxis": {
            "gridcolor": "white",
            "linecolor": "white",
            "ticks": ""
           },
           "bgcolor": "#E5ECF6",
           "radialaxis": {
            "gridcolor": "white",
            "linecolor": "white",
            "ticks": ""
           }
          },
          "scene": {
           "xaxis": {
            "backgroundcolor": "#E5ECF6",
            "gridcolor": "white",
            "gridwidth": 2,
            "linecolor": "white",
            "showbackground": true,
            "ticks": "",
            "zerolinecolor": "white"
           },
           "yaxis": {
            "backgroundcolor": "#E5ECF6",
            "gridcolor": "white",
            "gridwidth": 2,
            "linecolor": "white",
            "showbackground": true,
            "ticks": "",
            "zerolinecolor": "white"
           },
           "zaxis": {
            "backgroundcolor": "#E5ECF6",
            "gridcolor": "white",
            "gridwidth": 2,
            "linecolor": "white",
            "showbackground": true,
            "ticks": "",
            "zerolinecolor": "white"
           }
          },
          "shapedefaults": {
           "line": {
            "color": "#2a3f5f"
           }
          },
          "ternary": {
           "aaxis": {
            "gridcolor": "white",
            "linecolor": "white",
            "ticks": ""
           },
           "baxis": {
            "gridcolor": "white",
            "linecolor": "white",
            "ticks": ""
           },
           "bgcolor": "#E5ECF6",
           "caxis": {
            "gridcolor": "white",
            "linecolor": "white",
            "ticks": ""
           }
          },
          "title": {
           "x": 0.05
          },
          "xaxis": {
           "automargin": true,
           "gridcolor": "white",
           "linecolor": "white",
           "ticks": "",
           "title": {
            "standoff": 15
           },
           "zerolinecolor": "white",
           "zerolinewidth": 2
          },
          "yaxis": {
           "automargin": true,
           "gridcolor": "white",
           "linecolor": "white",
           "ticks": "",
           "title": {
            "standoff": 15
           },
           "zerolinecolor": "white",
           "zerolinewidth": 2
          }
         }
        },
        "title": {
         "text": "Y Loc Hist"
        },
        "xaxis": {
         "anchor": "y",
         "domain": [
          0,
          1
         ],
         "title": {
          "text": "value"
         }
        },
        "yaxis": {
         "anchor": "x",
         "domain": [
          0,
          1
         ],
         "title": {
          "text": "count"
         }
        }
       }
      }
     },
     "metadata": {},
     "output_type": "display_data"
    }
   ],
   "source": [
    "pitch_data.show_y_location_hist()"
   ]
  }
 ],
 "metadata": {
  "kernelspec": {
   "display_name": "Python 3",
   "language": "python",
   "name": "python3"
  },
  "language_info": {
   "codemirror_mode": {
    "name": "ipython",
    "version": 3
   },
   "file_extension": ".py",
   "mimetype": "text/x-python",
   "name": "python",
   "nbconvert_exporter": "python",
   "pygments_lexer": "ipython3",
   "version": "3.11.7"
  }
 },
 "nbformat": 4,
 "nbformat_minor": 2
}
