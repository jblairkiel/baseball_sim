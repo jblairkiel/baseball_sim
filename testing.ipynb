{
 "cells": [
  {
   "cell_type": "code",
   "execution_count": 1,
   "metadata": {},
   "outputs": [],
   "source": [
    "%load_ext autoreload\n",
    "%reload_ext autoreload"
   ]
  },
  {
   "cell_type": "code",
   "execution_count": 2,
   "metadata": {},
   "outputs": [
    {
     "name": "stdout",
     "output_type": "stream",
     "text": [
      "Team #4 (0-0) \n",
      " Lineup: \n",
      "\t 1 4 (#66)\n",
      "\t50 35 (#13)\n",
      "\t6 24 (#19)\n",
      "\t6 21 (#35)\n",
      "\t30 33 (#35)\n",
      "\t46 34 (#75)\n",
      "\t35 30 (#61)\n",
      "\t7 8 (#67)\n",
      "\t7 24 (#25)\n"
     ]
    }
   ],
   "source": [
    "from src.util.generation import generate_team, generate_league, generate_pitch\n",
    "import plotly.express as px\n",
    "import pandas as pd\n",
    "\n",
    "\n",
    "a = generate_team()\n",
    "\n",
    "print(str(a))"
   ]
  },
  {
   "cell_type": "code",
   "execution_count": 3,
   "metadata": {},
   "outputs": [],
   "source": [
    "pitch_dict = []\n",
    "for i in range(0, 1000):\n",
    "    pitch = generate_pitch()\n",
    "    pitch_dict.append(pitch)\n",
    "\n",
    "df = pd.DataFrame(pitch_dict)\n",
    "\n",
    "\n"
   ]
  },
  {
   "cell_type": "code",
   "execution_count": 4,
   "metadata": {},
   "outputs": [
    {
     "data": {
      "text/html": [
       "<div>\n",
       "<style scoped>\n",
       "    .dataframe tbody tr th:only-of-type {\n",
       "        vertical-align: middle;\n",
       "    }\n",
       "\n",
       "    .dataframe tbody tr th {\n",
       "        vertical-align: top;\n",
       "    }\n",
       "\n",
       "    .dataframe thead th {\n",
       "        text-align: right;\n",
       "    }\n",
       "</style>\n",
       "<table border=\"1\" class=\"dataframe\">\n",
       "  <thead>\n",
       "    <tr style=\"text-align: right;\">\n",
       "      <th></th>\n",
       "      <th>x</th>\n",
       "      <th>y</th>\n",
       "    </tr>\n",
       "  </thead>\n",
       "  <tbody>\n",
       "    <tr>\n",
       "      <th>count</th>\n",
       "      <td>1000.000000</td>\n",
       "      <td>1000.000000</td>\n",
       "    </tr>\n",
       "    <tr>\n",
       "      <th>mean</th>\n",
       "      <td>-0.953520</td>\n",
       "      <td>-1.001527</td>\n",
       "    </tr>\n",
       "    <tr>\n",
       "      <th>std</th>\n",
       "      <td>1.905578</td>\n",
       "      <td>1.947820</td>\n",
       "    </tr>\n",
       "    <tr>\n",
       "      <th>min</th>\n",
       "      <td>-6.162140</td>\n",
       "      <td>-6.561745</td>\n",
       "    </tr>\n",
       "    <tr>\n",
       "      <th>25%</th>\n",
       "      <td>-2.258760</td>\n",
       "      <td>-2.335384</td>\n",
       "    </tr>\n",
       "    <tr>\n",
       "      <th>50%</th>\n",
       "      <td>-0.919394</td>\n",
       "      <td>-0.983706</td>\n",
       "    </tr>\n",
       "    <tr>\n",
       "      <th>75%</th>\n",
       "      <td>0.281270</td>\n",
       "      <td>0.284273</td>\n",
       "    </tr>\n",
       "    <tr>\n",
       "      <th>max</th>\n",
       "      <td>5.805235</td>\n",
       "      <td>4.884669</td>\n",
       "    </tr>\n",
       "  </tbody>\n",
       "</table>\n",
       "</div>"
      ],
      "text/plain": [
       "                 x            y\n",
       "count  1000.000000  1000.000000\n",
       "mean     -0.953520    -1.001527\n",
       "std       1.905578     1.947820\n",
       "min      -6.162140    -6.561745\n",
       "25%      -2.258760    -2.335384\n",
       "50%      -0.919394    -0.983706\n",
       "75%       0.281270     0.284273\n",
       "max       5.805235     4.884669"
      ]
     },
     "execution_count": 4,
     "metadata": {},
     "output_type": "execute_result"
    }
   ],
   "source": [
    "df.describe()"
   ]
  },
  {
   "cell_type": "code",
   "execution_count": 5,
   "metadata": {},
   "outputs": [
    {
     "data": {
      "application/vnd.plotly.v1+json": {
       "config": {
        "plotlyServerURL": "https://plot.ly"
       },
       "data": [
        {
         "alignmentgroup": "True",
         "bingroup": "x",
         "hovertemplate": "variable=outcome<br>value=%{x}<br>count=%{y}<extra></extra>",
         "legendgroup": "outcome",
         "marker": {
          "color": "#636efa",
          "pattern": {
           "shape": ""
          }
         },
         "name": "outcome",
         "offsetgroup": "outcome",
         "orientation": "v",
         "showlegend": true,
         "type": "histogram",
         "x": [
          "Ball",
          "Ball",
          "Ball",
          "Ball",
          "Ball",
          "Ball",
          "Ball",
          "Ball",
          "Ball",
          "Ball",
          "Ball",
          "Ball",
          "Ball",
          "Ball",
          "Ball",
          "Ball",
          "Ball",
          "Ball",
          "Ball",
          "Ball",
          "Ball",
          "Ball",
          "Ball",
          "Ball",
          "Ball",
          "Ball",
          "Ball",
          "Ball",
          "Ball",
          "Ball",
          "Ball",
          "Ball",
          "Ball",
          "Ball",
          "Ball",
          "Ball",
          "Ball",
          "Ball",
          "Ball",
          "Ball",
          "Ball",
          "Ball",
          "Ball",
          "Ball",
          "Ball",
          "Ball",
          "Ball",
          "Ball",
          "Ball",
          "Ball",
          "Ball",
          "Ball",
          "Ball",
          "Ball",
          "Ball",
          "Ball",
          "Ball",
          "Ball",
          "Ball",
          "Ball",
          "Ball",
          "Ball",
          "Ball",
          "Ball",
          "Ball",
          "Ball",
          "Ball",
          "Ball",
          "Ball",
          "Ball",
          "Ball",
          "Ball",
          "Ball",
          "Ball",
          "Ball",
          "Ball",
          "Ball",
          "Ball",
          "Ball",
          "Ball",
          "Ball",
          "Ball",
          "Ball",
          "Ball",
          "Ball",
          "Ball",
          "Strike",
          "Ball",
          "Ball",
          "Ball",
          "Ball",
          "Ball",
          "Ball",
          "Ball",
          "Ball",
          "Ball",
          "Ball",
          "Ball",
          "Ball",
          "Ball",
          "Ball",
          "Ball",
          "Ball",
          "Ball",
          "Ball",
          "Ball",
          "Ball",
          "Ball",
          "Ball",
          "Ball",
          "Ball",
          "Ball",
          "Ball",
          "Ball",
          "Ball",
          "Ball",
          "Ball",
          "Ball",
          "Ball",
          "Ball",
          "Ball",
          "Ball",
          "Ball",
          "Ball",
          "Ball",
          "Ball",
          "Ball",
          "Ball",
          "Ball",
          "Ball",
          "Ball",
          "Ball",
          "Ball",
          "Ball",
          "Ball",
          "Ball",
          "Strike",
          "Ball",
          "Ball",
          "Ball",
          "Ball",
          "Ball",
          "Ball",
          "Ball",
          "Ball",
          "Ball",
          "Ball",
          "Ball",
          "Ball",
          "Ball",
          "Ball",
          "Ball",
          "Ball",
          "Ball",
          "Ball",
          "Ball",
          "Ball",
          "Ball",
          "Ball",
          "Ball",
          "Ball",
          "Ball",
          "Ball",
          "Ball",
          "Ball",
          "Ball",
          "Strike",
          "Ball",
          "Ball",
          "Ball",
          "Ball",
          "Ball",
          "Ball",
          "Ball",
          "Ball",
          "Strike",
          "Ball",
          "Ball",
          "Ball",
          "Ball",
          "Ball",
          "Ball",
          "Ball",
          "Ball",
          "Ball",
          "Ball",
          "Ball",
          "Ball",
          "Ball",
          "Strike",
          "Ball",
          "Ball",
          "Ball",
          "Ball",
          "Ball",
          "Ball",
          "Ball",
          "Ball",
          "Ball",
          "Ball",
          "Ball",
          "Strike",
          "Ball",
          "Ball",
          "Ball",
          "Strike",
          "Ball",
          "Ball",
          "Ball",
          "Ball",
          "Ball",
          "Ball",
          "Ball",
          "Ball",
          "Ball",
          "Strike",
          "Ball",
          "Ball",
          "Ball",
          "Ball",
          "Ball",
          "Ball",
          "Ball",
          "Ball",
          "Ball",
          "Ball",
          "Ball",
          "Ball",
          "Ball",
          "Strike",
          "Ball",
          "Ball",
          "Ball",
          "Ball",
          "Ball",
          "Ball",
          "Ball",
          "Ball",
          "Ball",
          "Ball",
          "Ball",
          "Ball",
          "Ball",
          "Ball",
          "Ball",
          "Ball",
          "Ball",
          "Ball",
          "Ball",
          "Ball",
          "Ball",
          "Ball",
          "Ball",
          "Ball",
          "Ball",
          "Ball",
          "Ball",
          "Ball",
          "Ball",
          "Ball",
          "Ball",
          "Ball",
          "Ball",
          "Ball",
          "Strike",
          "Ball",
          "Ball",
          "Ball",
          "Ball",
          "Ball",
          "Ball",
          "Ball",
          "Ball",
          "Ball",
          "Ball",
          "Ball",
          "Ball",
          "Ball",
          "Ball",
          "Ball",
          "Ball",
          "Ball",
          "Ball",
          "Strike",
          "Ball",
          "Ball",
          "Strike",
          "Ball",
          "Ball",
          "Ball",
          "Ball",
          "Ball",
          "Ball",
          "Ball",
          "Ball",
          "Ball",
          "Ball",
          "Ball",
          "Ball",
          "Ball",
          "Ball",
          "Ball",
          "Ball",
          "Ball",
          "Ball",
          "Ball",
          "Ball",
          "Ball",
          "Ball",
          "Ball",
          "Ball",
          "Ball",
          "Ball",
          "Ball",
          "Ball",
          "Ball",
          "Ball",
          "Ball",
          "Ball",
          "Ball",
          "Ball",
          "Ball",
          "Ball",
          "Ball",
          "Ball",
          "Ball",
          "Ball",
          "Ball",
          "Ball",
          "Ball",
          "Ball",
          "Ball",
          "Ball",
          "Ball",
          "Ball",
          "Ball",
          "Ball",
          "Ball",
          "Ball",
          "Ball",
          "Ball",
          "Ball",
          "Ball",
          "Strike",
          "Ball",
          "Ball",
          "Strike",
          "Ball",
          "Ball",
          "Ball",
          "Ball",
          "Ball",
          "Ball",
          "Ball",
          "Ball",
          "Ball",
          "Ball",
          "Ball",
          "Ball",
          "Ball",
          "Ball",
          "Ball",
          "Ball",
          "Ball",
          "Ball",
          "Ball",
          "Ball",
          "Ball",
          "Ball",
          "Ball",
          "Ball",
          "Ball",
          "Ball",
          "Ball",
          "Ball",
          "Ball",
          "Ball",
          "Ball",
          "Ball",
          "Ball",
          "Ball",
          "Ball",
          "Ball",
          "Ball",
          "Ball",
          "Ball",
          "Ball",
          "Ball",
          "Ball",
          "Ball",
          "Ball",
          "Ball",
          "Ball",
          "Ball",
          "Strike",
          "Ball",
          "Ball",
          "Ball",
          "Ball",
          "Ball",
          "Ball",
          "Ball",
          "Ball",
          "Ball",
          "Ball",
          "Ball",
          "Ball",
          "Ball",
          "Ball",
          "Ball",
          "Ball",
          "Ball",
          "Ball",
          "Ball",
          "Ball",
          "Ball",
          "Ball",
          "Ball",
          "Ball",
          "Ball",
          "Ball",
          "Ball",
          "Ball",
          "Ball",
          "Ball",
          "Ball",
          "Ball",
          "Ball",
          "Ball",
          "Ball",
          "Ball",
          "Strike",
          "Ball",
          "Ball",
          "Ball",
          "Ball",
          "Ball",
          "Ball",
          "Ball",
          "Ball",
          "Strike",
          "Ball",
          "Ball",
          "Ball",
          "Ball",
          "Ball",
          "Ball",
          "Ball",
          "Ball",
          "Ball",
          "Ball",
          "Ball",
          "Ball",
          "Ball",
          "Ball",
          "Ball",
          "Ball",
          "Ball",
          "Ball",
          "Ball",
          "Ball",
          "Ball",
          "Ball",
          "Ball",
          "Ball",
          "Ball",
          "Ball",
          "Ball",
          "Ball",
          "Ball",
          "Ball",
          "Ball",
          "Ball",
          "Ball",
          "Ball",
          "Strike",
          "Ball",
          "Ball",
          "Ball",
          "Ball",
          "Ball",
          "Ball",
          "Ball",
          "Ball",
          "Ball",
          "Ball",
          "Ball",
          "Ball",
          "Ball",
          "Ball",
          "Ball",
          "Ball",
          "Ball",
          "Strike",
          "Ball",
          "Ball",
          "Ball",
          "Ball",
          "Ball",
          "Ball",
          "Ball",
          "Ball",
          "Ball",
          "Ball",
          "Ball",
          "Ball",
          "Ball",
          "Ball",
          "Ball",
          "Ball",
          "Ball",
          "Ball",
          "Ball",
          "Ball",
          "Ball",
          "Ball",
          "Ball",
          "Ball",
          "Ball",
          "Ball",
          "Ball",
          "Ball",
          "Ball",
          "Ball",
          "Ball",
          "Ball",
          "Ball",
          "Ball",
          "Ball",
          "Ball",
          "Ball",
          "Ball",
          "Ball",
          "Ball",
          "Ball",
          "Ball",
          "Ball",
          "Ball",
          "Ball",
          "Ball",
          "Ball",
          "Ball",
          "Ball",
          "Strike",
          "Ball",
          "Ball",
          "Ball",
          "Ball",
          "Ball",
          "Ball",
          "Ball",
          "Ball",
          "Ball",
          "Ball",
          "Ball",
          "Ball",
          "Ball",
          "Ball",
          "Ball",
          "Ball",
          "Ball",
          "Ball",
          "Ball",
          "Ball",
          "Ball",
          "Ball",
          "Ball",
          "Ball",
          "Ball",
          "Ball",
          "Ball",
          "Ball",
          "Ball",
          "Ball",
          "Ball",
          "Ball",
          "Ball",
          "Ball",
          "Ball",
          "Ball",
          "Ball",
          "Ball",
          "Ball",
          "Ball",
          "Ball",
          "Ball",
          "Ball",
          "Ball",
          "Ball",
          "Ball",
          "Ball",
          "Ball",
          "Ball",
          "Ball",
          "Ball",
          "Ball",
          "Ball",
          "Ball",
          "Ball",
          "Ball",
          "Ball",
          "Ball",
          "Ball",
          "Ball",
          "Ball",
          "Ball",
          "Ball",
          "Ball",
          "Ball",
          "Ball",
          "Ball",
          "Ball",
          "Ball",
          "Ball",
          "Ball",
          "Ball",
          "Ball",
          "Ball",
          "Ball",
          "Ball",
          "Ball",
          "Ball",
          "Ball",
          "Ball",
          "Ball",
          "Ball",
          "Ball",
          "Ball",
          "Ball",
          "Ball",
          "Ball",
          "Ball",
          "Ball",
          "Ball",
          "Ball",
          "Ball",
          "Ball",
          "Ball",
          "Ball",
          "Ball",
          "Ball",
          "Ball",
          "Ball",
          "Strike",
          "Ball",
          "Ball",
          "Ball",
          "Ball",
          "Ball",
          "Ball",
          "Ball",
          "Ball",
          "Ball",
          "Ball",
          "Ball",
          "Ball",
          "Ball",
          "Ball",
          "Ball",
          "Ball",
          "Ball",
          "Ball",
          "Ball",
          "Ball",
          "Ball",
          "Ball",
          "Ball",
          "Ball",
          "Ball",
          "Ball",
          "Ball",
          "Ball",
          "Ball",
          "Ball",
          "Ball",
          "Ball",
          "Ball",
          "Ball",
          "Ball",
          "Ball",
          "Ball",
          "Ball",
          "Ball",
          "Ball",
          "Ball",
          "Strike",
          "Ball",
          "Ball",
          "Ball",
          "Ball",
          "Ball",
          "Ball",
          "Ball",
          "Ball",
          "Ball",
          "Ball",
          "Ball",
          "Ball",
          "Ball",
          "Ball",
          "Ball",
          "Ball",
          "Ball",
          "Ball",
          "Ball",
          "Ball",
          "Ball",
          "Ball",
          "Ball",
          "Ball",
          "Ball",
          "Ball",
          "Ball",
          "Ball",
          "Strike",
          "Ball",
          "Ball",
          "Ball",
          "Ball",
          "Ball",
          "Ball",
          "Ball",
          "Ball",
          "Ball",
          "Ball",
          "Ball",
          "Ball",
          "Ball",
          "Ball",
          "Ball",
          "Ball",
          "Ball",
          "Ball",
          "Ball",
          "Ball",
          "Ball",
          "Ball",
          "Ball",
          "Ball",
          "Ball",
          "Ball",
          "Ball",
          "Ball",
          "Ball",
          "Ball",
          "Ball",
          "Ball",
          "Ball",
          "Ball",
          "Ball",
          "Ball",
          "Ball",
          "Ball",
          "Ball",
          "Ball",
          "Ball",
          "Ball",
          "Ball",
          "Ball",
          "Ball",
          "Ball",
          "Ball",
          "Ball",
          "Ball",
          "Ball",
          "Ball",
          "Ball",
          "Ball",
          "Ball",
          "Ball",
          "Ball",
          "Ball",
          "Ball",
          "Ball",
          "Ball",
          "Ball",
          "Ball",
          "Ball",
          "Ball",
          "Ball",
          "Ball",
          "Ball",
          "Ball",
          "Ball",
          "Ball",
          "Ball",
          "Ball",
          "Ball",
          "Ball",
          "Ball",
          "Ball",
          "Ball",
          "Ball",
          "Strike",
          "Ball",
          "Ball",
          "Ball",
          "Ball",
          "Ball",
          "Ball",
          "Ball",
          "Ball",
          "Ball",
          "Ball",
          "Ball",
          "Ball",
          "Ball",
          "Ball",
          "Ball",
          "Ball",
          "Ball",
          "Ball",
          "Ball",
          "Ball",
          "Ball",
          "Ball",
          "Ball",
          "Ball",
          "Ball",
          "Ball",
          "Ball",
          "Ball",
          "Ball",
          "Ball",
          "Ball",
          "Ball",
          "Ball",
          "Ball",
          "Ball",
          "Ball",
          "Ball",
          "Ball",
          "Ball",
          "Ball",
          "Ball",
          "Ball",
          "Ball",
          "Ball",
          "Ball",
          "Ball",
          "Ball",
          "Ball",
          "Ball",
          "Ball",
          "Ball",
          "Ball",
          "Ball",
          "Ball",
          "Ball",
          "Ball",
          "Ball",
          "Ball",
          "Ball",
          "Ball",
          "Ball",
          "Ball",
          "Strike",
          "Ball",
          "Ball",
          "Ball",
          "Ball",
          "Ball",
          "Ball",
          "Ball",
          "Ball",
          "Ball",
          "Ball",
          "Ball",
          "Ball",
          "Ball",
          "Ball",
          "Ball",
          "Ball",
          "Ball",
          "Ball",
          "Ball",
          "Ball",
          "Ball",
          "Ball",
          "Ball",
          "Ball",
          "Ball",
          "Ball",
          "Ball",
          "Ball",
          "Ball",
          "Ball",
          "Ball",
          "Ball",
          "Ball",
          "Ball",
          "Ball",
          "Ball",
          "Ball",
          "Ball",
          "Ball",
          "Ball",
          "Ball",
          "Ball",
          "Ball",
          "Ball",
          "Ball",
          "Ball",
          "Ball",
          "Ball",
          "Ball",
          "Ball",
          "Ball",
          "Ball",
          "Ball",
          "Ball",
          "Ball",
          "Ball",
          "Ball",
          "Ball",
          "Ball",
          "Ball",
          "Ball",
          "Ball",
          "Ball",
          "Ball",
          "Ball",
          "Ball",
          "Ball",
          "Ball",
          "Ball",
          "Ball",
          "Ball",
          "Ball",
          "Ball",
          "Ball",
          "Ball",
          "Ball",
          "Ball",
          "Ball",
          "Ball",
          "Ball",
          "Ball",
          "Ball",
          "Ball",
          "Ball",
          "Ball",
          "Ball",
          "Ball",
          "Ball",
          "Ball",
          "Ball",
          "Ball",
          "Ball",
          "Ball",
          "Ball",
          "Ball",
          "Ball",
          "Ball",
          "Ball",
          "Ball",
          "Ball",
          "Ball",
          "Ball",
          "Ball",
          "Ball",
          "Ball",
          "Ball",
          "Ball",
          "Ball",
          "Ball",
          "Ball",
          "Strike",
          "Ball",
          "Ball",
          "Ball",
          "Ball",
          "Ball",
          "Ball",
          "Ball",
          "Ball",
          "Ball",
          "Ball",
          "Ball",
          "Ball",
          "Ball",
          "Ball",
          "Ball",
          "Ball",
          "Ball",
          "Strike",
          "Ball",
          "Ball",
          "Ball",
          "Ball",
          "Ball",
          "Ball",
          "Ball",
          "Ball",
          "Ball",
          "Ball",
          "Ball",
          "Ball",
          "Ball",
          "Ball"
         ],
         "xaxis": "x",
         "yaxis": "y"
        }
       ],
       "layout": {
        "barmode": "relative",
        "legend": {
         "title": {
          "text": "variable"
         },
         "tracegroupgap": 0
        },
        "template": {
         "data": {
          "bar": [
           {
            "error_x": {
             "color": "#2a3f5f"
            },
            "error_y": {
             "color": "#2a3f5f"
            },
            "marker": {
             "line": {
              "color": "#E5ECF6",
              "width": 0.5
             },
             "pattern": {
              "fillmode": "overlay",
              "size": 10,
              "solidity": 0.2
             }
            },
            "type": "bar"
           }
          ],
          "barpolar": [
           {
            "marker": {
             "line": {
              "color": "#E5ECF6",
              "width": 0.5
             },
             "pattern": {
              "fillmode": "overlay",
              "size": 10,
              "solidity": 0.2
             }
            },
            "type": "barpolar"
           }
          ],
          "carpet": [
           {
            "aaxis": {
             "endlinecolor": "#2a3f5f",
             "gridcolor": "white",
             "linecolor": "white",
             "minorgridcolor": "white",
             "startlinecolor": "#2a3f5f"
            },
            "baxis": {
             "endlinecolor": "#2a3f5f",
             "gridcolor": "white",
             "linecolor": "white",
             "minorgridcolor": "white",
             "startlinecolor": "#2a3f5f"
            },
            "type": "carpet"
           }
          ],
          "choropleth": [
           {
            "colorbar": {
             "outlinewidth": 0,
             "ticks": ""
            },
            "type": "choropleth"
           }
          ],
          "contour": [
           {
            "colorbar": {
             "outlinewidth": 0,
             "ticks": ""
            },
            "colorscale": [
             [
              0,
              "#0d0887"
             ],
             [
              0.1111111111111111,
              "#46039f"
             ],
             [
              0.2222222222222222,
              "#7201a8"
             ],
             [
              0.3333333333333333,
              "#9c179e"
             ],
             [
              0.4444444444444444,
              "#bd3786"
             ],
             [
              0.5555555555555556,
              "#d8576b"
             ],
             [
              0.6666666666666666,
              "#ed7953"
             ],
             [
              0.7777777777777778,
              "#fb9f3a"
             ],
             [
              0.8888888888888888,
              "#fdca26"
             ],
             [
              1,
              "#f0f921"
             ]
            ],
            "type": "contour"
           }
          ],
          "contourcarpet": [
           {
            "colorbar": {
             "outlinewidth": 0,
             "ticks": ""
            },
            "type": "contourcarpet"
           }
          ],
          "heatmap": [
           {
            "colorbar": {
             "outlinewidth": 0,
             "ticks": ""
            },
            "colorscale": [
             [
              0,
              "#0d0887"
             ],
             [
              0.1111111111111111,
              "#46039f"
             ],
             [
              0.2222222222222222,
              "#7201a8"
             ],
             [
              0.3333333333333333,
              "#9c179e"
             ],
             [
              0.4444444444444444,
              "#bd3786"
             ],
             [
              0.5555555555555556,
              "#d8576b"
             ],
             [
              0.6666666666666666,
              "#ed7953"
             ],
             [
              0.7777777777777778,
              "#fb9f3a"
             ],
             [
              0.8888888888888888,
              "#fdca26"
             ],
             [
              1,
              "#f0f921"
             ]
            ],
            "type": "heatmap"
           }
          ],
          "heatmapgl": [
           {
            "colorbar": {
             "outlinewidth": 0,
             "ticks": ""
            },
            "colorscale": [
             [
              0,
              "#0d0887"
             ],
             [
              0.1111111111111111,
              "#46039f"
             ],
             [
              0.2222222222222222,
              "#7201a8"
             ],
             [
              0.3333333333333333,
              "#9c179e"
             ],
             [
              0.4444444444444444,
              "#bd3786"
             ],
             [
              0.5555555555555556,
              "#d8576b"
             ],
             [
              0.6666666666666666,
              "#ed7953"
             ],
             [
              0.7777777777777778,
              "#fb9f3a"
             ],
             [
              0.8888888888888888,
              "#fdca26"
             ],
             [
              1,
              "#f0f921"
             ]
            ],
            "type": "heatmapgl"
           }
          ],
          "histogram": [
           {
            "marker": {
             "pattern": {
              "fillmode": "overlay",
              "size": 10,
              "solidity": 0.2
             }
            },
            "type": "histogram"
           }
          ],
          "histogram2d": [
           {
            "colorbar": {
             "outlinewidth": 0,
             "ticks": ""
            },
            "colorscale": [
             [
              0,
              "#0d0887"
             ],
             [
              0.1111111111111111,
              "#46039f"
             ],
             [
              0.2222222222222222,
              "#7201a8"
             ],
             [
              0.3333333333333333,
              "#9c179e"
             ],
             [
              0.4444444444444444,
              "#bd3786"
             ],
             [
              0.5555555555555556,
              "#d8576b"
             ],
             [
              0.6666666666666666,
              "#ed7953"
             ],
             [
              0.7777777777777778,
              "#fb9f3a"
             ],
             [
              0.8888888888888888,
              "#fdca26"
             ],
             [
              1,
              "#f0f921"
             ]
            ],
            "type": "histogram2d"
           }
          ],
          "histogram2dcontour": [
           {
            "colorbar": {
             "outlinewidth": 0,
             "ticks": ""
            },
            "colorscale": [
             [
              0,
              "#0d0887"
             ],
             [
              0.1111111111111111,
              "#46039f"
             ],
             [
              0.2222222222222222,
              "#7201a8"
             ],
             [
              0.3333333333333333,
              "#9c179e"
             ],
             [
              0.4444444444444444,
              "#bd3786"
             ],
             [
              0.5555555555555556,
              "#d8576b"
             ],
             [
              0.6666666666666666,
              "#ed7953"
             ],
             [
              0.7777777777777778,
              "#fb9f3a"
             ],
             [
              0.8888888888888888,
              "#fdca26"
             ],
             [
              1,
              "#f0f921"
             ]
            ],
            "type": "histogram2dcontour"
           }
          ],
          "mesh3d": [
           {
            "colorbar": {
             "outlinewidth": 0,
             "ticks": ""
            },
            "type": "mesh3d"
           }
          ],
          "parcoords": [
           {
            "line": {
             "colorbar": {
              "outlinewidth": 0,
              "ticks": ""
             }
            },
            "type": "parcoords"
           }
          ],
          "pie": [
           {
            "automargin": true,
            "type": "pie"
           }
          ],
          "scatter": [
           {
            "fillpattern": {
             "fillmode": "overlay",
             "size": 10,
             "solidity": 0.2
            },
            "type": "scatter"
           }
          ],
          "scatter3d": [
           {
            "line": {
             "colorbar": {
              "outlinewidth": 0,
              "ticks": ""
             }
            },
            "marker": {
             "colorbar": {
              "outlinewidth": 0,
              "ticks": ""
             }
            },
            "type": "scatter3d"
           }
          ],
          "scattercarpet": [
           {
            "marker": {
             "colorbar": {
              "outlinewidth": 0,
              "ticks": ""
             }
            },
            "type": "scattercarpet"
           }
          ],
          "scattergeo": [
           {
            "marker": {
             "colorbar": {
              "outlinewidth": 0,
              "ticks": ""
             }
            },
            "type": "scattergeo"
           }
          ],
          "scattergl": [
           {
            "marker": {
             "colorbar": {
              "outlinewidth": 0,
              "ticks": ""
             }
            },
            "type": "scattergl"
           }
          ],
          "scattermapbox": [
           {
            "marker": {
             "colorbar": {
              "outlinewidth": 0,
              "ticks": ""
             }
            },
            "type": "scattermapbox"
           }
          ],
          "scatterpolar": [
           {
            "marker": {
             "colorbar": {
              "outlinewidth": 0,
              "ticks": ""
             }
            },
            "type": "scatterpolar"
           }
          ],
          "scatterpolargl": [
           {
            "marker": {
             "colorbar": {
              "outlinewidth": 0,
              "ticks": ""
             }
            },
            "type": "scatterpolargl"
           }
          ],
          "scatterternary": [
           {
            "marker": {
             "colorbar": {
              "outlinewidth": 0,
              "ticks": ""
             }
            },
            "type": "scatterternary"
           }
          ],
          "surface": [
           {
            "colorbar": {
             "outlinewidth": 0,
             "ticks": ""
            },
            "colorscale": [
             [
              0,
              "#0d0887"
             ],
             [
              0.1111111111111111,
              "#46039f"
             ],
             [
              0.2222222222222222,
              "#7201a8"
             ],
             [
              0.3333333333333333,
              "#9c179e"
             ],
             [
              0.4444444444444444,
              "#bd3786"
             ],
             [
              0.5555555555555556,
              "#d8576b"
             ],
             [
              0.6666666666666666,
              "#ed7953"
             ],
             [
              0.7777777777777778,
              "#fb9f3a"
             ],
             [
              0.8888888888888888,
              "#fdca26"
             ],
             [
              1,
              "#f0f921"
             ]
            ],
            "type": "surface"
           }
          ],
          "table": [
           {
            "cells": {
             "fill": {
              "color": "#EBF0F8"
             },
             "line": {
              "color": "white"
             }
            },
            "header": {
             "fill": {
              "color": "#C8D4E3"
             },
             "line": {
              "color": "white"
             }
            },
            "type": "table"
           }
          ]
         },
         "layout": {
          "annotationdefaults": {
           "arrowcolor": "#2a3f5f",
           "arrowhead": 0,
           "arrowwidth": 1
          },
          "autotypenumbers": "strict",
          "coloraxis": {
           "colorbar": {
            "outlinewidth": 0,
            "ticks": ""
           }
          },
          "colorscale": {
           "diverging": [
            [
             0,
             "#8e0152"
            ],
            [
             0.1,
             "#c51b7d"
            ],
            [
             0.2,
             "#de77ae"
            ],
            [
             0.3,
             "#f1b6da"
            ],
            [
             0.4,
             "#fde0ef"
            ],
            [
             0.5,
             "#f7f7f7"
            ],
            [
             0.6,
             "#e6f5d0"
            ],
            [
             0.7,
             "#b8e186"
            ],
            [
             0.8,
             "#7fbc41"
            ],
            [
             0.9,
             "#4d9221"
            ],
            [
             1,
             "#276419"
            ]
           ],
           "sequential": [
            [
             0,
             "#0d0887"
            ],
            [
             0.1111111111111111,
             "#46039f"
            ],
            [
             0.2222222222222222,
             "#7201a8"
            ],
            [
             0.3333333333333333,
             "#9c179e"
            ],
            [
             0.4444444444444444,
             "#bd3786"
            ],
            [
             0.5555555555555556,
             "#d8576b"
            ],
            [
             0.6666666666666666,
             "#ed7953"
            ],
            [
             0.7777777777777778,
             "#fb9f3a"
            ],
            [
             0.8888888888888888,
             "#fdca26"
            ],
            [
             1,
             "#f0f921"
            ]
           ],
           "sequentialminus": [
            [
             0,
             "#0d0887"
            ],
            [
             0.1111111111111111,
             "#46039f"
            ],
            [
             0.2222222222222222,
             "#7201a8"
            ],
            [
             0.3333333333333333,
             "#9c179e"
            ],
            [
             0.4444444444444444,
             "#bd3786"
            ],
            [
             0.5555555555555556,
             "#d8576b"
            ],
            [
             0.6666666666666666,
             "#ed7953"
            ],
            [
             0.7777777777777778,
             "#fb9f3a"
            ],
            [
             0.8888888888888888,
             "#fdca26"
            ],
            [
             1,
             "#f0f921"
            ]
           ]
          },
          "colorway": [
           "#636efa",
           "#EF553B",
           "#00cc96",
           "#ab63fa",
           "#FFA15A",
           "#19d3f3",
           "#FF6692",
           "#B6E880",
           "#FF97FF",
           "#FECB52"
          ],
          "font": {
           "color": "#2a3f5f"
          },
          "geo": {
           "bgcolor": "white",
           "lakecolor": "white",
           "landcolor": "#E5ECF6",
           "showlakes": true,
           "showland": true,
           "subunitcolor": "white"
          },
          "hoverlabel": {
           "align": "left"
          },
          "hovermode": "closest",
          "mapbox": {
           "style": "light"
          },
          "paper_bgcolor": "white",
          "plot_bgcolor": "#E5ECF6",
          "polar": {
           "angularaxis": {
            "gridcolor": "white",
            "linecolor": "white",
            "ticks": ""
           },
           "bgcolor": "#E5ECF6",
           "radialaxis": {
            "gridcolor": "white",
            "linecolor": "white",
            "ticks": ""
           }
          },
          "scene": {
           "xaxis": {
            "backgroundcolor": "#E5ECF6",
            "gridcolor": "white",
            "gridwidth": 2,
            "linecolor": "white",
            "showbackground": true,
            "ticks": "",
            "zerolinecolor": "white"
           },
           "yaxis": {
            "backgroundcolor": "#E5ECF6",
            "gridcolor": "white",
            "gridwidth": 2,
            "linecolor": "white",
            "showbackground": true,
            "ticks": "",
            "zerolinecolor": "white"
           },
           "zaxis": {
            "backgroundcolor": "#E5ECF6",
            "gridcolor": "white",
            "gridwidth": 2,
            "linecolor": "white",
            "showbackground": true,
            "ticks": "",
            "zerolinecolor": "white"
           }
          },
          "shapedefaults": {
           "line": {
            "color": "#2a3f5f"
           }
          },
          "ternary": {
           "aaxis": {
            "gridcolor": "white",
            "linecolor": "white",
            "ticks": ""
           },
           "baxis": {
            "gridcolor": "white",
            "linecolor": "white",
            "ticks": ""
           },
           "bgcolor": "#E5ECF6",
           "caxis": {
            "gridcolor": "white",
            "linecolor": "white",
            "ticks": ""
           }
          },
          "title": {
           "x": 0.05
          },
          "xaxis": {
           "automargin": true,
           "gridcolor": "white",
           "linecolor": "white",
           "ticks": "",
           "title": {
            "standoff": 15
           },
           "zerolinecolor": "white",
           "zerolinewidth": 2
          },
          "yaxis": {
           "automargin": true,
           "gridcolor": "white",
           "linecolor": "white",
           "ticks": "",
           "title": {
            "standoff": 15
           },
           "zerolinecolor": "white",
           "zerolinewidth": 2
          }
         }
        },
        "title": {
         "text": "Call"
        },
        "xaxis": {
         "anchor": "y",
         "domain": [
          0,
          1
         ],
         "title": {
          "text": "value"
         }
        },
        "yaxis": {
         "anchor": "x",
         "domain": [
          0,
          1
         ],
         "title": {
          "text": "count"
         }
        }
       }
      }
     },
     "metadata": {},
     "output_type": "display_data"
    }
   ],
   "source": [
    "his = px.histogram(df['outcome'], title='Call')\n",
    "\n",
    "his.show()"
   ]
  },
  {
   "cell_type": "code",
   "execution_count": 7,
   "metadata": {},
   "outputs": [
    {
     "data": {
      "application/vnd.plotly.v1+json": {
       "config": {
        "plotlyServerURL": "https://plot.ly"
       },
       "data": [
        {
         "hovertemplate": "x=%{x}<br>y=%{y}<extra></extra>",
         "legendgroup": "",
         "marker": {
          "color": "#636efa",
          "symbol": "circle"
         },
         "mode": "markers",
         "name": "",
         "orientation": "v",
         "showlegend": false,
         "type": "scatter",
         "x": [
          1.4669050628997238,
          -1.3334517449651684,
          2.36679706210824,
          -0.5274494971940469,
          1.3598262695007124,
          2.251514032214533,
          -1.9802164264078082,
          -3.36897626329595,
          0.9116739888802312,
          -3.253928428003371,
          1.6117517166781172,
          -0.587743355979027,
          0.09337601828993525,
          -2.4897338025633875,
          0.5704287756062689,
          1.7939679302641625,
          0.2841166770606376,
          -2.852332174895359,
          -3.232052343145626,
          5.249967650224511,
          1.530844673344172,
          -3.1783198901981415,
          -1.3922168169460742,
          3.6685346983805545,
          0.5468566448444323,
          -1.655017294416147,
          0.32298252230996294,
          -0.5849796131617644,
          2.663041430236569,
          -0.8358948461133747,
          -1.0886069912472258,
          -0.9953044381996816,
          -0.37375565119399345,
          -0.3348275234989616,
          -1.638801636856506,
          -1.2049586269874706,
          -0.896823720545999,
          -4.451435847635581,
          -3.465393340530977,
          2.2253371698204876,
          -5.588542765327813,
          -2.045878022302856,
          -1.5895028125659239,
          -0.10357467416561561,
          -2.3783258187579364,
          -1.6084488929629224,
          2.1214096654840944,
          -3.290476686748453,
          3.299441521955491,
          -3.822269860726804,
          -1.0968160160212352,
          -2.8482833762250976,
          -1.8297162074816562,
          -1.1364709846791827,
          -1.453648967880836,
          0.7913627494738851,
          1.6554089242528884,
          -3.489420037353582,
          2.3476563704804114,
          -0.23987814016019127,
          -1.9593819583078993,
          -3.4811906386397005,
          -1.370655296127254,
          -0.3511711120071168,
          -2.854734858846549,
          1.8346413472946481,
          -1.6038719245408448,
          -2.6189888653805493,
          -1.4975694397997628,
          -2.0381423258091225,
          0.799060549909135,
          -1.6906511495608214,
          0.3444570372844482,
          -4.8015255249113915,
          2.5760761812829096,
          -1.6598853907551407,
          -0.34275471143128866,
          -4.8362644006965585,
          -0.7862889239049413,
          -0.4171224732270654,
          1.9654677309047477,
          -3.3780143103709275,
          -1.2600556908107934,
          0.5361853093482221,
          -0.013270221229664259,
          -0.9198835377765241,
          0.3464839427352866,
          -5.292672061181733,
          -1.5317048678858736,
          -2.0459659576298552,
          0.08859447977362778,
          -2.7354916348307086,
          -0.07782877177115044,
          -2.8754820885662844,
          -0.2055370656313309,
          -0.3331032256913026,
          -3.7640790875411616,
          -0.16294765663148525,
          -5.194715922139095,
          -0.7049698055936262,
          -2.9460751520685333,
          -1.355442870637476,
          -3.2614009212558255,
          -0.7032679145555019,
          -0.28049482399099057,
          -4.002768270952126,
          -0.4551974149123974,
          0.636582572813019,
          -1.6602572044347108,
          -5.373685589958095,
          -2.5882533490911945,
          1.6265040607653947,
          -1.1840906664165844,
          -5.347233271175412,
          -0.9156945055304103,
          -0.6667992453781864,
          -1.8442798036698014,
          -2.616006788394443,
          -0.06426171342149645,
          -0.376853811273668,
          -0.08215701283723831,
          0.35086420915342686,
          -0.2746570553431621,
          0.5488048266642218,
          -0.40745332791705646,
          -2.378213373469891,
          -4.103043557453921,
          -1.547767350711843,
          3.2925073851711515,
          -3.7347822474404118,
          -1.4482473042006065,
          -0.24310883582658027,
          -0.5844324558917369,
          -2.2629682210124864,
          -2.952475858291275,
          5.80523507707801,
          0.8121287146979934,
          -1.4755847666360125,
          -1.5731280753529218,
          -2.377946975915553,
          1.4946489309160738,
          1.0805413700058648,
          -0.3406944636862347,
          -0.3150152675313227,
          -0.8604344965071238,
          -0.22117353650187366,
          1.684095325546827,
          -2.1871116167981226,
          -1.2291631833070635,
          -1.5285877049086096,
          1.0235542025682505,
          1.7059126846832298,
          -5.727421214232481,
          -2.476988461261329,
          -1.6880080437391611,
          -2.2628032282891875,
          -4.245574724649132,
          -2.531827638131875,
          0.08753727955326407,
          -3.9466620768445275,
          -2.0715158560171574,
          1.0734841099641406,
          -1.90762196947827,
          1.5989316602238741,
          0.22041421913972847,
          0.5698318624280567,
          0.49307472381643747,
          -3.8324833950645973,
          -0.5014574562791004,
          -2.6540429181105325,
          -1.46229778384272,
          2.1721668100417664,
          -3.4575590925103956,
          1.3338480763983291,
          -1.1082913316642264,
          0.522371779862496,
          -2.976940396751756,
          1.0288747654070116,
          1.5619954046031688,
          0.1451077878584055,
          -1.7862823606872533,
          0.6173574579316508,
          -0.6187263374691259,
          -1.277535282265879,
          0.05148939650692985,
          -0.6144452146193173,
          -1.4802251972970497,
          1.5035177473458803,
          -0.11806738762541558,
          0.29067733836024545,
          1.1762226675374738,
          -1.8537907986895483,
          0.6319143205093272,
          -1.7223628724581492,
          0.34778266108711486,
          0.9194790032689497,
          -3.270082205150762,
          1.0128412355820058,
          -0.4441677864655662,
          -2.1750218258512923,
          -2.573798064174872,
          0.03376342954150302,
          0.42083258512758626,
          -0.6293392830122728,
          -1.1120923955153663,
          0.2167576348093283,
          -1.7826978099713648,
          -4.488796728739055,
          -1.4514997379970138,
          -4.190796601984136,
          2.50434080557209,
          -2.2166590597623173,
          -2.2994137881571834,
          1.5476543558448284,
          -1.2931697717040271,
          0.8660243478347733,
          1.8358454929799848,
          -3.8108999476708405,
          -1.3758379060876247,
          -1.590713470001297,
          0.2795750018424119,
          1.2499201482078948,
          2.7940400574206654,
          -2.251176049263055,
          0.6286939582202387,
          -2.0966743961512124,
          0.4551589043452702,
          -3.3441746499896583,
          -2.016527416165807,
          0.44833526034581683,
          2.58146676301194,
          -0.08838377429248157,
          -0.3688170064721301,
          1.0892715548590592,
          0.7092311716561162,
          -3.982320901212118,
          -1.1394501057300426,
          -0.9156170732867388,
          -3.0752378317410405,
          -2.6983931900884377,
          -1.8694879840307137,
          2.5312429715581852,
          -1.0459834960243781,
          -3.435817674718288,
          -1.778883228610475,
          -3.803419557919512,
          -2.150230631864538,
          0.11819555032743634,
          -2.5777016264707786,
          -1.175776142943427,
          -0.12585466328521067,
          -0.7157325399319319,
          -1.5339435825236247,
          1.5056890889939551,
          -0.4509338824051584,
          -2.7337469139876314,
          -3.8590373394626996,
          -4.794401940488379,
          -3.1959443930784,
          -0.2630144953297122,
          -1.173386925402041,
          -3.5180901861057494,
          1.3322496474638954,
          -3.1634004002187104,
          0.6258633820955373,
          -2.511052611547985,
          -2.7707405291036595,
          -2.4074833626236805,
          -2.088309508767641,
          -2.422512551653666,
          -4.415900660215725,
          -0.7087188006449716,
          -0.20492126029001334,
          -3.6855410649515266,
          -0.4484823499719681,
          -3.3228409667321683,
          -0.2313642084474925,
          -0.12011508446406804,
          -4.100131477006833,
          -1.9276849710525132,
          -4.945306469884079,
          -0.39830051131740174,
          -1.8701547198280264,
          0.009511890352125407,
          1.2105076950472902,
          -4.606482535337825,
          0.48091005334202497,
          -2.257183463142601,
          -0.6048419199473367,
          -4.357106514002486,
          -0.9347743618445112,
          -3.4591511861844326,
          -1.5443212896672667,
          1.8088447297395263,
          -0.7018502727371452,
          -2.990259080891689,
          -4.448780788246138,
          3.399082914998502,
          -0.3761697331849365,
          -0.30321001180841933,
          -2.1511148015399724,
          1.6365976329858483,
          -3.002804240517543,
          -0.3122704883789098,
          2.93391121532065,
          0.1549404321856951,
          -3.8250715081890925,
          -0.569634969703931,
          -2.837720452282727,
          -3.4985795530546433,
          0.04939425215284188,
          -0.8573915745960405,
          -0.9738358816144389,
          1.4997904655134646,
          -3.004409059346261,
          1.1359803159267692,
          1.1114815225921935,
          -2.189895652359708,
          -0.47569424959391704,
          -1.710237440426182,
          -0.4537902419401264,
          0.5382940958443592,
          -3.300551182155553,
          -2.221522830144213,
          -1.4212845059925474,
          -0.055537738765368494,
          -0.9286266488508018,
          0.33307443691079186,
          -1.100358702695594,
          -1.9365885740520479,
          1.0364176487785244,
          -0.07232961961932549,
          -2.3789318002853093,
          0.7972163155150873,
          -2.010702381322564,
          -0.3842090726745686,
          -0.850846406845887,
          3.2074651007892028,
          -1.6446922598360345,
          5.008074762007071,
          1.2898003212973164,
          -1.6346212703969905,
          -0.7033489881224649,
          0.2808198571417413,
          -2.9347717959246946,
          3.547193130095118,
          0.46334672177792346,
          1.2320969342104662,
          -1.1111351099270692,
          -0.2557712212796187,
          1.0204409112330883,
          0.8084710004022198,
          -2.3141357952385166,
          -2.5787324614535736,
          -0.18391864105773825,
          -0.8798772983195611,
          -3.098668120985523,
          -1.398731449376998,
          -0.1531780317310405,
          0.8423776485535619,
          -3.7046302888678015,
          1.2411201046071594,
          -1.0606397044606484,
          -2.637101606781955,
          -1.2970853905333346,
          -0.8374692700399028,
          -1.214485338169031,
          0.8399182615904419,
          1.1083190838963906,
          -1.3466079429405353,
          -0.5176721902143699,
          -2.1368047042233282,
          -0.7948062584838246,
          -1.7417528769615038,
          -1.4491020405964075,
          -0.3174165863168579,
          -2.518960866550354,
          -1.3914954003022455,
          -0.9332473381269526,
          2.0372736988300852,
          -1.068313469073781,
          -0.5035371785019238,
          2.9374135900347285,
          -1.336509528901102,
          -1.4597911679778188,
          -1.0389218163204081,
          0.15076377353487747,
          -0.6881519380512308,
          0.731770421087184,
          1.1878468301955798,
          -0.9761009288982477,
          0.5929830441796722,
          -3.6944025305627823,
          1.3195866443444042,
          0.17871265392263513,
          -2.530483461416215,
          0.6242742074263856,
          -2.6783800101915274,
          -0.9189045722280783,
          -1.9879117045382013,
          -4.003480202001612,
          1.2472297147426028,
          -3.410485561313665,
          -1.3691840059095668,
          -2.807595532222324,
          -0.5908932537557592,
          -0.9997050467519394,
          1.1834650668149722,
          2.1206780949191884,
          -1.1762800673566887,
          -0.8114826052866877,
          -1.1211746283493702,
          -3.1173700158371247,
          3.2592167187037173,
          0.01589481640624446,
          -0.8097824510169646,
          0.7546196786738439,
          -1.4814633919409987,
          -0.004499258878146173,
          0.5703454092795794,
          -0.7525199283370575,
          -0.36200312497113385,
          -0.6720064317300338,
          -1.6591362814652106,
          -4.138817731542523,
          -3.196509943046139,
          0.04696438741968012,
          -1.6695146453662708,
          -1.2111424597402891,
          -2.1892705600305082,
          -0.30903425799272766,
          0.6423081122618668,
          -0.3248032953653497,
          -0.4572261946397762,
          -1.1617463364074987,
          1.884272389256905,
          -2.265294956936393,
          -0.7365349209033609,
          1.7875606980158376,
          -2.591967555782335,
          0.2672834454367752,
          -3.0844161146026403,
          -4.671919705125764,
          3.2299979137445334,
          -1.7187491251152336,
          -0.3666333906104534,
          -2.4882171897684677,
          -0.58525333646145,
          -1.308990872328996,
          0.23599595472528212,
          -0.17772322483195813,
          0.1448108051887984,
          1.2099251168863279,
          -1.4995093721968256,
          -1.3937832499023386,
          -2.3546544337695927,
          1.149261996507704,
          -0.8949206801346125,
          -0.7765024373426317,
          -1.348476446801754,
          0.0637611216085967,
          -2.4720062765735284,
          1.7642763919095388,
          -0.3752683149858411,
          -1.91445866816158,
          -0.5886079011003913,
          1.3835399244090731,
          1.9408985277881832,
          -0.022918664750471662,
          -3.5506432978283367,
          -0.7110647183089212,
          -2.6631463559045074,
          -0.18938791560172297,
          -4.706618138482996,
          -4.435870731934489,
          0.6400266725611259,
          -1.5829149898883965,
          -0.8639520695520191,
          -1.7935981590274697,
          -0.9363973525211413,
          0.6036158171071022,
          1.517511423617527,
          -0.5257881168246012,
          -2.6203668082589515,
          -2.495568579011667,
          -0.3170612905285034,
          -0.9907259790212808,
          0.1966124661129247,
          -3.719032150491276,
          -5.235919960261205,
          -2.591269303540675,
          -4.188260198690459,
          -2.0109096478141844,
          0.5008432532715559,
          -0.9564190309845318,
          -0.051654538547899254,
          3.20313943484767,
          -0.7878524683567297,
          -1.1466380072612379,
          1.0474063199557557,
          -1.1826668301528975,
          0.09278516016937366,
          -1.5964434153849465,
          1.4675020416548508,
          -4.44232268377681,
          1.9058579222048553,
          -0.163541313569747,
          -0.6949013573934704,
          -1.7570753217462507,
          -1.887323599916544,
          0.4758501025488364,
          -2.8769292199432774,
          -1.8867316113922878,
          -1.3061882939967573,
          -0.0993788457357847,
          -0.7402683766651834,
          -2.6354268703550083,
          0.28055479051734156,
          1.7448343024988362,
          -1.3066586180658553,
          -2.1265023463141466,
          1.6264177599409848,
          -2.4542922176096686,
          1.2992898415553609,
          0.9507065277635824,
          -3.4914825856302962,
          -0.5734749530030465,
          -0.35564522976754775,
          -0.6261881472526667,
          -1.4828823323956506,
          1.3790518632632,
          -0.2862499257695631,
          -0.203560306257352,
          -1.5122792849207052,
          -0.33855122884221134,
          0.4331158224639735,
          0.2005895894013361,
          -0.929827625129728,
          -3.1404862009393453,
          -1.053595183077224,
          -1.7359965158192057,
          0.1653139797730312,
          -3.667336500558086,
          0.16982414939978274,
          -0.5298084861345433,
          0.7765941040992383,
          -2.7005688766080542,
          1.709512424899764,
          -0.7652301193921994,
          -1.5261976498197374,
          -1.7009993783685569,
          -2.8846608439034713,
          -4.050049115327448,
          -3.147848080420974,
          -0.9978047563887903,
          1.0741378706148832,
          -2.6242033417439465,
          -2.631627317459982,
          -2.553812129354368,
          -3.669226864017428,
          -4.719738295528579,
          2.5070855734847166,
          -0.4049787972358433,
          -3.7071061008148347,
          -0.06878708504148612,
          -0.7903793046462042,
          -2.1696282893991663,
          -3.6501139274670487,
          -2.4273033317030217,
          -2.2588606105956544,
          -1.676774703236792,
          -1.9300011295906985,
          -3.8356383357132025,
          0.3453027626576257,
          -3.852902306811871,
          -2.02974977915121,
          -2.099255858569958,
          -1.4755021269014472,
          -1.4057994095319106,
          -3.520556472877054,
          2.47057781051684,
          0.035353578634037985,
          -3.2582904693712065,
          -0.809995054496609,
          -3.388909785384825,
          -1.6541390102822962,
          -2.2587259795724517,
          4.678001344154698,
          1.1295248917658784,
          -4.506497268280125,
          0.7696176623931061,
          -0.7059188686689208,
          -0.6095504338725349,
          -1.1457367163731225,
          1.5884605378942123,
          -2.3548654690835193,
          -4.433094672534738,
          -4.499112595442695,
          0.2541195091855881,
          -2.565389150127235,
          1.9644868719570598,
          -1.322343209970304,
          -1.733983088538163,
          -3.6804955726392214,
          -0.42550682634874004,
          -3.002567884369474,
          -1.2200139120726317,
          -1.8220450342128038,
          -2.679071653082935,
          2.235166121510357,
          -1.4426825693454575,
          -0.40534647975799,
          -2.41048350135194,
          0.9423312091375056,
          -1.7168634007818098,
          1.8432538782535302,
          1.6949170811219134,
          -1.3913788312204836,
          -1.1253031881099032,
          -3.906120146488518,
          -2.2520200005625295,
          -4.624264234771605,
          -0.6613123150967462,
          -2.365271088945639,
          -0.26000349405161205,
          1.809713865072816,
          -1.2791157081894151,
          -3.462082267856847,
          -0.2106538764868806,
          -1.5308855756861357,
          -1.825741012318295,
          0.33905962669325707,
          -3.5047695905446683,
          -3.3175386032054788,
          1.2103194258591157,
          -1.5398467057877228,
          -2.474419156202199,
          -1.395535100415723,
          -3.1316062362199877,
          -2.404820213991676,
          -1.958486695566359,
          -3.1541131840454146,
          -1.7195417117253684,
          0.38356329277812184,
          -0.4766375247252157,
          1.7074377530784037,
          -0.9084650924692752,
          -1.9304551810018733,
          -5.161167350203859,
          2.147863273370517,
          1.9552245783350233,
          -2.710367886183256,
          -3.5003963720452744,
          0.1631069880523468,
          -2.3798556743533843,
          -1.4878188295112844,
          -3.1115450269345963,
          -0.5042646509415598,
          -2.332528215334288,
          -2.8243561841523226,
          -2.824191445214625,
          1.0223253475965914,
          -2.0725571227494877,
          -1.4133535922198421,
          -2.13634250054874,
          -1.0423192751464445,
          0.3956773383377672,
          -1.3082652864935536,
          -0.8653192378920709,
          -2.6123572131766677,
          2.354150212399802,
          -3.306561192289231,
          -0.9058790921725202,
          -5.076947203644877,
          1.7742050719772764,
          1.95484457214675,
          -3.640654624106011,
          0.24604243597225461,
          0.6291065827920526,
          -1.1237188998185215,
          -2.3774395390675425,
          -3.0231752812755204,
          -3.524310446499466,
          -2.3996958704456928,
          1.242341657923848,
          0.2346782959075815,
          0.1270146905818592,
          -1.940298320910082,
          -2.3857764195659774,
          1.2496570440414523,
          0.2826221080752429,
          -1.8880400875950372,
          -0.7766424636963187,
          -1.0061255807031932,
          -3.171526365921095,
          0.8032934177909505,
          -0.8720684924364029,
          -3.387576898097601,
          -1.3166105759841327,
          1.1055185518855462,
          -0.3270977397260827,
          -0.17160674900671413,
          0.5309574089739331,
          -4.980047808181123,
          2.0089864317348147,
          1.0726850372599408,
          -0.6956785743691548,
          0.7444956292945313,
          -1.3709870757403297,
          1.3052050538372133,
          -1.1759621489645227,
          0.0267367409996504,
          0.3730886838983567,
          0.34503886200011835,
          0.6332518605613362,
          3.3044247272041742,
          2.169709500560864,
          -0.24160294292344298,
          -1.2923255297220284,
          -4.328160722635605,
          -3.4215238599343913,
          -2.008597178789282,
          1.1105293897832706,
          -1.3184119077354244,
          -0.16535744426623689,
          1.3727520843989405,
          -1.5531105266545029,
          -2.6687279951283145,
          -1.624592147406752,
          1.4565717425531939,
          -3.1417799269697824,
          -0.8242648530406842,
          -1.6808033091347534,
          2.1450588171246854,
          -3.383046239714073,
          -0.9951602461462473,
          -0.5130157810669755,
          0.04104599643189033,
          1.0750053345941786,
          1.6896894217272038,
          -2.231384640011175,
          -2.3314837878479526,
          -0.021043263994564243,
          -3.197776543470516,
          0.5766985561165745,
          1.5106245656708333,
          -6.162139523422918,
          -2.503086775684693,
          2.1322095664317584,
          -0.3656270235379552,
          -0.8539298533572566,
          -3.6404579067996967,
          -1.6067245991056007,
          -2.757423215680128,
          -1.7565387618102664,
          1.3916482279001996,
          -4.120659022295843,
          -0.6116583022683665,
          -3.9155424275953714,
          -1.1711716122832199,
          -0.5376383841013055,
          -1.4966736641203315,
          -1.905930686489087,
          -3.16752655766137,
          -3.442745269751764,
          -0.44869918511495643,
          -0.6729996378360867,
          0.0902079003298879,
          2.00699455271067,
          -2.364170286603758,
          -3.818318286601682,
          0.2278510357656165,
          -0.5115104017274509,
          -1.6895374160069576,
          -3.589997435707022,
          2.770918071683261,
          -2.9459922042814384,
          -2.3532359833707748,
          -5.026091171287448,
          -0.7404761428354119,
          -2.635938522625789,
          -2.229305033809057,
          1.0042116986749061,
          -0.42795269964342275,
          -1.371057581412774,
          -0.9606228124455856,
          -1.228938131569822,
          -5.080780733925799,
          -0.8465410805468052,
          -5.652601253940922,
          -2.088359885324989,
          0.33021278588524705,
          -1.160184079194932,
          0.1711489291508912,
          1.719591133648216,
          2.900990473658442,
          1.688064385197193,
          -1.941059370219469,
          -0.40273269304911186,
          -2.521785365065598,
          -0.6596895984011466,
          -3.1178753811192523,
          -2.2138932530017885,
          -0.48828651101202647,
          -1.6569802840859489,
          0.5334515304132272,
          -1.1773560480411502,
          -3.031757388885123,
          -0.014572323422100575,
          0.7058650351506717,
          -4.018219552632024,
          0.9001967290830224,
          2.680983550645582,
          -2.5073925528745424,
          -0.3527233637068866,
          -0.5102676150531363,
          3.5589537911948623,
          -4.855867100054913,
          0.6938948758708696,
          -2.8345013424861216,
          2.3784755666543216,
          3.602266870172353,
          -1.0081566394965003,
          -1.79844016015997,
          -2.212596906197264,
          0.1487419740803,
          0.4497668167290685,
          -1.6702639255457408,
          0.24995349770377429,
          -0.42926155551989775,
          -0.5800085398117925,
          -2.393068340549821,
          -3.584734007038939,
          0.175245392650887,
          1.7596716022892238,
          2.17088256539371,
          -0.9904917965602372,
          2.0042421500224026,
          0.06052138010695929,
          1.3677843610386535,
          -2.663176293324333,
          -0.4378736629445035,
          -1.8720085593107731,
          -1.033495433328843,
          -1.0679673687356739,
          0.5103237415604365,
          3.0065169712356186,
          -2.580620565627017,
          -1.142701819672573,
          -1.915764696069393,
          1.7615718414987116,
          -2.5998308840839637,
          -2.2128746667317145,
          -0.22940996598471963,
          0.1716704562743947,
          -4.351638237369499,
          0.3912660513090507,
          -4.449511160560707,
          -4.0764822850235305,
          -0.8258185845679876,
          -0.9198985604775506,
          -1.4121678604820687,
          -1.8894521000534228,
          4.968260668054907,
          -1.5086970952848389,
          1.6973750679117185,
          -0.4223628823765515,
          -2.7258201969827844,
          -2.325890468817727,
          -3.3830784878166558,
          -2.023890754330547,
          0.32764809292148933,
          -1.4455271608323013,
          1.6692291561018027,
          0.846865920325633,
          -2.164313974041081,
          1.6060677436151716,
          -0.5537733365096995,
          2.827724460480088,
          -0.4619309039086035,
          -2.836560925759561,
          -1.5894936506194366,
          -3.9398482897024283,
          -0.670279641548766,
          -0.8919681374103592,
          -1.0827875425393414,
          4.612608955837399,
          1.6103413974456093,
          1.6123737576687436,
          0.06717722832234063,
          0.8431528656667999,
          -5.745733564930734,
          -1.5213717999335068,
          0.6210948495577286,
          -1.0413359948740017,
          -1.3757366628696408,
          -2.453750640889715,
          -0.8425919039736113,
          -0.814679397555371,
          -1.3169044721041776,
          1.0256041624783045,
          -0.4058733667901955,
          -1.8902323961617422,
          2.6716986442856014,
          -4.280023844959579,
          0.40429166490736956,
          -4.334397579469701,
          -3.03219717981926,
          -2.070728366390144,
          -0.8031133596534812,
          -2.420393025769947,
          -0.8148279463609013,
          0.11224200870839018,
          -2.3445193622189135,
          -0.4641345894890663,
          1.5214720241008628,
          -1.6450625955266425,
          -2.232254234848847,
          -0.14188373264552945,
          3.9813472222613715,
          -2.572824085146852,
          -0.08872951220028691,
          1.6951072806300989,
          -0.7285856353778023,
          1.6901188916958705,
          -0.03739882124976657,
          0.43601258600165194,
          -4.149133734974409,
          -1.0977841864919227,
          0.03332336544850856,
          -0.861364021239182,
          -0.8517184717539021,
          -2.166032689472016,
          2.2792454633505064,
          -3.9048286093833773,
          -1.7589338586942929,
          -3.23452529690955,
          0.4556939524064656,
          0.7132952832411517,
          1.6766373905196543,
          -2.5149162429630074,
          -3.667953376931721,
          -0.3576383208024906,
          -0.05952503349375382,
          -0.2614765007332831,
          -5.3460311956353825,
          -1.7859402484371012,
          -5.167624094360968,
          -2.2101943467183576,
          -3.173827273761164,
          0.0047629419699875,
          -1.911239693327024,
          -0.12160792780486507,
          -2.6423901697875145,
          -0.7262124641669792,
          -1.7775009395809982,
          -3.34186626495596,
          -0.684830718969673,
          0.0883106153953328,
          0.17044502737036882,
          2.969324344522665,
          1.700293981830019,
          -0.7464753813095881,
          -0.41951645931021553,
          -0.8791443657089173,
          -1.624236366799479,
          -2.1990645242226745,
          0.534428182090932,
          -4.0700660532274995,
          -2.0639212132975366,
          -0.6839326097386228,
          0.34870618270176346,
          1.2555779287658364,
          -1.404192656083,
          -0.21405791852374467,
          1.585187850844763,
          0.5612536209753205,
          -1.555160733917187,
          -0.43551539604309664,
          -0.12013924681767896,
          -0.9480854050528179,
          -1.3040297870665412,
          1.0686542519573328,
          -1.0668781471434243,
          -3.4644669681397646,
          0.2994059529611206,
          -0.847441949764223,
          -2.2845301430362386,
          0.6267925151732219,
          -1.0325214093684592,
          -0.5961435646958885,
          -0.826665155630088,
          0.7634725184861484,
          1.3799246025039347,
          1.0550524864888176,
          -2.054090512221851,
          0.21292598741647217,
          -0.9290816922573587,
          -0.4982336048051348,
          -0.5646477825713051
         ],
         "xaxis": "x",
         "y": [
          -1.8037628071505745,
          2.4810231576107773,
          -0.16539385198676948,
          -1.163362276158823,
          -4.40004312002498,
          0.013344047027283201,
          -1.8867877837201834,
          -3.2492450851732237,
          1.4702919574210207,
          -2.8728777022826644,
          1.3384858720469985,
          -0.41432875712546036,
          -4.113499527705658,
          -2.5994248440706373,
          -3.2648687496392843,
          0.6101889028377816,
          1.3905498080458338,
          -3.383472839483713,
          -1.0668435725978211,
          -1.360466436686716,
          2.6041900616121283,
          -4.702030265674946,
          -4.902595391518263,
          -2.0182884574460265,
          2.350889809557827,
          1.7022674820364387,
          1.6091422898887857,
          0.2693972644210354,
          -1.2785729361241727,
          0.33384303162755513,
          -0.8978962706649078,
          -0.3034529796344161,
          0.9325806437245783,
          1.4506145766581588,
          0.4837895817032096,
          0.6112458035634776,
          -2.8198055110843603,
          -3.674144252646083,
          -0.40752505544511297,
          -1.1909701126582468,
          1.5738313490628566,
          -2.9421770012398234,
          0.32219540745685427,
          -0.44298019631665353,
          -1.2608250691136362,
          0.40608492226137716,
          -5.8022814158631775,
          0.6510732094109317,
          -3.840480163693261,
          -3.3083325669020507,
          0.9593577791189167,
          0.4116115525858741,
          0.5042370957053361,
          -4.041415068503053,
          -1.72327465454397,
          -3.0840757789719144,
          -0.5634469825658064,
          1.7772067612777818,
          0.46400836259504885,
          -1.1411180244441719,
          -3.8047434604546426,
          1.6127803500410907,
          -0.07494092516025519,
          0.17391023622646173,
          -2.9024909982895477,
          -0.6529968435275326,
          -3.8234650026192254,
          0.26642881865605506,
          2.462779899932682,
          -3.000406286722769,
          -2.260708399232834,
          0.4964467920252431,
          -1.095951306287569,
          -1.0130766913217917,
          -3.5487178829706534,
          0.4069218617100667,
          -1.1799815923748214,
          -2.451171837399267,
          -0.3196239892415168,
          -1.7050550343853286,
          -2.020916309037254,
          -2.068313420213551,
          -1.4111591529375207,
          -1.1395293444490568,
          -1.075418334523436,
          -0.669558634751122,
          0.9418332082405108,
          0.0027926886709934706,
          -3.0314692148659876,
          0.8472985786354006,
          -3.267901294428237,
          -0.3066628145755046,
          -3.1814745357121548,
          -2.949070420732289,
          0.8228687715295131,
          -1.3648715781767657,
          -1.5997903520034273,
          -2.4740357154313317,
          0.18199658989567036,
          -1.972490728965377,
          0.8881657229800239,
          -2.9651707312583886,
          1.8665464605834519,
          3.3279488221875457,
          0.5207277630602902,
          -0.5502926786623219,
          -3.3521630041699297,
          -0.6244963685633004,
          -1.6705669943523977,
          0.9354455342404131,
          -1.3795497325443344,
          -1.4578087006530085,
          -4.8513109754696515,
          -0.21696011765499257,
          0.5641932913137857,
          -0.020483696301217602,
          1.7615886693587686,
          -3.964636253511118,
          1.8490824061958944,
          -4.489532535709761,
          -1.0910348482998027,
          -1.9477222198577748,
          -4.872283817285214,
          -1.5473424105388514,
          -4.091765700612829,
          -4.201321940334102,
          -0.43773898539508327,
          -1.6155395079755714,
          -2.400026214634868,
          -1.2954150819781307,
          -0.30781470562735347,
          -2.039154504152897,
          -1.437811500078675,
          0.1555394596481603,
          -2.537560146507018,
          0.8235934751123601,
          0.17812569537327727,
          -2.2941088551539446,
          -2.2365166801740632,
          -3.970596248922132,
          -0.4672901662978747,
          -0.24161520921261392,
          -0.7185927890618429,
          -2.807173958932015,
          -2.2824298095222018,
          -1.7601818580213981,
          -0.26276015452767665,
          -1.168486878480767,
          0.2461112704521511,
          -0.9787045650609064,
          3.7393406548091566,
          1.9892045696578404,
          -0.20109039433733866,
          -0.5051998468080142,
          -3.610481984209715,
          -0.8040146920057647,
          0.059057373692010584,
          -2.4034637494104043,
          1.6844425152692941,
          -4.029725262529066,
          -0.9347631134801871,
          1.359669722325493,
          0.16172375733616606,
          -1.3982394702106506,
          -1.4281080484228685,
          -1.8501888429106366,
          0.3206356961449355,
          -0.5501746339721466,
          -5.184277973519261,
          -2.2495925847912024,
          -5.003926069299873,
          0.688187619574641,
          0.6462293871081737,
          0.3613077439619392,
          -1.0557081855578405,
          0.46046552471491453,
          -2.712684819476218,
          -2.7677914026655728,
          -2.5713410583331138,
          1.7304298292771811,
          -0.9955377527445934,
          -2.837024115171455,
          2.988434441730393,
          -2.076592703464595,
          -3.969435512486727,
          2.1608000809634142,
          -1.368784224179764,
          2.433432052716479,
          0.18671308053637348,
          0.8146844953996175,
          -0.12459553528413103,
          0.2347212826953995,
          -3.2954052910239304,
          -1.3176146500824908,
          -0.40046377020912804,
          -6.1851755229021546,
          -0.7644570535048891,
          -4.17032117038888,
          -0.07835967365833207,
          -0.4306098896637841,
          -4.851843133278644,
          0.4917672312248902,
          -1.7814189093580282,
          0.11112806410765308,
          2.368485822020957,
          0.6117141911343338,
          -0.21850265059802454,
          -4.719174499625316,
          -3.7292080360581537,
          -2.4125388188162815,
          -4.830044626814962,
          -2.6713671804299652,
          1.022781141848811,
          -2.4927129818641545,
          -0.9650197332111667,
          0.6431225105611287,
          -0.10701642890817165,
          -0.7643672074749295,
          -1.7336126837557098,
          -0.8608244535282401,
          2.404406991762497,
          2.013079447414954,
          2.5668366529640534,
          -2.992750067989614,
          -0.212979631141338,
          -2.4634436974958653,
          -0.28861534090405294,
          2.2550877021601003,
          -2.4864239136166653,
          0.8873200456351487,
          -5.330389623614086,
          -1.8014720062112333,
          -1.9971574727565062,
          0.6165119875151845,
          1.5947102528078778,
          -1.3650983207007963,
          -3.149513530835498,
          0.9040698452174125,
          1.5680467441505899,
          -3.6121455923860477,
          -0.41243270286767997,
          -5.086345551732116,
          -1.8108153147660875,
          -1.016832032466085,
          -0.8243322396157834,
          0.7870698948198076,
          -2.1031739074835603,
          -5.2790026614289145,
          -1.5672459255150284,
          2.1477584981189795,
          0.42384453208213624,
          0.3425712088012318,
          -1.5937073143311813,
          -3.8699278088246714,
          -1.4608395158497807,
          -3.8982584019318827,
          0.3371469931812474,
          -4.024246599115603,
          0.005011513558607517,
          -1.49689305154724,
          -3.5770857073511864,
          -2.067308665224907,
          -0.5649039150026048,
          0.7169670621821551,
          0.4776415161744656,
          3.3242183540148407,
          2.6110875361333674,
          -3.435217071324503,
          -2.8741571512439044,
          -1.8571909650133165,
          -0.00012992807276934748,
          0.2337571683673061,
          -0.5941205567093639,
          -1.4022298548512084,
          -1.1148231406303548,
          -1.9097744822244618,
          -3.3774190866112566,
          -1.8985702518822802,
          -3.9369981084525785,
          -0.616255695543706,
          -0.45704917603879325,
          0.45398537482259727,
          -1.7611126064480183,
          0.3419992533822942,
          -3.7327579698637954,
          0.5943414125073239,
          0.1610155905311832,
          -0.84734188336498,
          -2.22028885502018,
          -2.041729231222293,
          0.41651340926253577,
          -2.6234137409205185,
          -3.0626345692448687,
          -2.544296564530741,
          -0.48618425836416723,
          -1.4870020903957522,
          -3.9293517652524756,
          -4.993360808010442,
          -1.6808205844966215,
          -4.101146215879391,
          -0.27550084148363474,
          -5.065344784460833,
          -1.1640834575352497,
          -1.2062057213634085,
          -2.643355195740969,
          -1.0535067248365237,
          -2.0286817800323114,
          -2.6218934553673297,
          -2.2339735611989022,
          -1.566822107708079,
          -1.7538093810578366,
          -3.259094663722142,
          -2.6612288469845,
          -1.041782396925549,
          -1.8792887217227312,
          -3.1065142454228676,
          -4.611381276006773,
          0.8231376028836641,
          0.770772066551503,
          0.829703624894927,
          -1.1083213440413924,
          -0.051421143996056906,
          -0.4364813527246725,
          1.6822804189620602,
          1.2809452491891196,
          -0.271663325677983,
          2.452987722930287,
          -1.7456740590883184,
          0.8072902636792423,
          -5.863131582433637,
          -0.871385745045701,
          0.47538569561197064,
          -0.7991886598459652,
          -3.1136368010189366,
          4.280097230671111,
          -2.2329177286313326,
          -2.901219861538038,
          0.3553371740081004,
          -4.122364658316009,
          2.7854521714632168,
          -0.10834058536884694,
          1.2332790128263382,
          -3.4761751959972855,
          0.1217233651001679,
          -2.8049806752434714,
          0.32051210188242507,
          0.01141964029931497,
          -0.39528507524726963,
          -2.8651896742215777,
          -2.91568888257151,
          -0.3261796983917935,
          -0.6630372158168629,
          -2.745741120814427,
          -3.768535031330166,
          -3.5730154782575436,
          -1.7796731729447859,
          -3.789641782022735,
          -0.529161496475628,
          -3.4950048239956653,
          -2.832473597960842,
          -1.9136747264092246,
          -0.3631467922761251,
          3.2443516549324727,
          0.9012383230131245,
          -2.3354746328596825,
          -0.8750732740337573,
          0.04264849247730407,
          -2.1686123609635564,
          1.3387503675807966,
          -1.095115041531059,
          -1.9144310596107506,
          2.06796046874805,
          -0.7643237758028031,
          1.1635753164029308,
          0.4087667275799627,
          -2.2691715332036857,
          1.8904421820877535,
          -3.647000791238032,
          -1.8293536036355849,
          -0.3210489625389412,
          -0.835543300662031,
          0.5657699936871976,
          -1.7877274632286797,
          -1.060143027257802,
          -1.5602347397810683,
          0.8049494784319506,
          -2.3441972120017356,
          1.0755887394119545,
          -3.449106069186795,
          1.3141575011470445,
          -0.6798140419092816,
          -2.377411136961434,
          0.09927736553608724,
          -1.444549462938384,
          0.17047459922541108,
          1.346776229124985,
          -0.22267614763486154,
          1.3754861881901737,
          1.6090425111847568,
          -0.10335012651284659,
          -0.22937846852252886,
          -0.9563386083935819,
          2.1514355615631064,
          3.7823116856008214,
          -0.5384927981738519,
          -3.974786713358296,
          -2.277119777580795,
          -3.09792967671455,
          2.199337563836358,
          -3.6370967364117597,
          -3.606402336600977,
          -5.505185658124819,
          2.125405343591409,
          0.02353609097795184,
          -0.6709572974173688,
          0.43825664848902823,
          -1.9502984503220087,
          -1.072901939449867,
          -3.0317382412179894,
          -4.511389897356596,
          -1.0931607335458495,
          -3.412445521841857,
          -1.424690762265949,
          -1.8077571231455967,
          -1.2012861321028943,
          -1.5097386950552538,
          -0.35344063253958746,
          -1.2113885039626846,
          -1.4958822544229995,
          3.285977988162518,
          -0.0345878356486049,
          0.9961346196783138,
          -0.5191622053163919,
          2.677321266971592,
          -0.5908965546529323,
          0.6377526217697496,
          -1.5469628101868864,
          0.6560702518971566,
          -1.0226436933189833,
          -0.4422711566749098,
          0.22585786194075985,
          -2.687171229049164,
          -2.349313268565641,
          -3.6246077075530687,
          1.3952945535385628,
          0.0011640763402016585,
          -0.4533830859557326,
          -0.9926372979369869,
          -0.9753138925099332,
          -0.8511996230280084,
          -0.20794933691564144,
          -5.265255712707554,
          0.059515070142341475,
          -4.594414646956874,
          -0.28699443173531447,
          -0.737092912280611,
          0.07927930764952973,
          0.633713413361217,
          0.838524346408821,
          1.2035514718221232,
          -2.683476304466951,
          0.9415478795341885,
          1.8000692026379737,
          -0.3073196096940132,
          -2.094946511250277,
          -3.0792046532895108,
          -0.4675143014309373,
          -0.7953894960884647,
          -0.7510529400849862,
          -1.8814051583595044,
          -0.6553979949622133,
          -1.5524912157117339,
          -0.9152242594304042,
          -0.13987738209725042,
          3.2399153846828774,
          0.020915917166746123,
          0.2489844841873241,
          2.367556991326913,
          0.959142828634153,
          2.3097111328100297,
          -1.7508713713793032,
          -1.0535537874271281,
          -0.1539172782545618,
          1.1921335946849276,
          -0.37620396432689696,
          1.2875448961653935,
          -4.564938717936414,
          -1.077894082205498,
          -3.760705112792133,
          1.7314156890656505,
          -1.8168489198963023,
          1.340265339437133,
          -5.373353614422934,
          0.17160826783747152,
          2.4118243157709496,
          -1.277414424674858,
          -0.9203512523297691,
          -3.423418377850765,
          -0.9639726409127571,
          2.0735863063605953,
          -0.5970552552577708,
          -2.857884451109892,
          -2.51375899346463,
          -2.577418868864451,
          -2.7023470769174054,
          2.023422322623627,
          -2.2416174731139415,
          3.804357152976353,
          -0.4101067103416456,
          -3.465396552979221,
          1.1728095404119023,
          -2.6692687936215407,
          -4.403332169922269,
          1.5670154525649678,
          -1.1847343639444339,
          -0.36622141675518827,
          -1.1512756743267574,
          -1.8760505536861851,
          -2.802218086235993,
          2.2512515209395,
          1.7763353066590408,
          -1.6663011863210748,
          2.3547055301593414,
          -1.444394558257561,
          -1.2100232561410305,
          -2.589789004525124,
          -0.12741757042568824,
          -0.07226046341108439,
          1.087592923284729,
          0.7633539133977052,
          -1.5125048325827135,
          -2.1307423521413797,
          -0.5917976063603094,
          -4.399578625915339,
          -1.086404310216734,
          -1.299151457760376,
          -1.4942748142708706,
          -1.5037425214541127,
          -4.372292057198003,
          0.16548696075047675,
          1.2214811164347754,
          2.7037248835183734,
          -2.282254006809313,
          0.013252601184302604,
          -0.2135640957496816,
          -3.1212525286344683,
          -2.260882835143016,
          2.0333177334070616,
          0.37782724314651484,
          0.12495481118966745,
          -0.762318032616931,
          2.5274115227431166,
          -3.08431357609145,
          -0.1221030683640183,
          1.041121506346407,
          -1.1042660480350501,
          -5.251712050255377,
          -2.9075032541230676,
          2.6714167328296528,
          0.2700149675510293,
          -2.5730939033665465,
          -1.0264446359677861,
          -1.0775569444118864,
          1.3662738484363461,
          -1.1729430548009872,
          -1.8227412340156226,
          -1.1014602448337543,
          1.6063555661813407,
          -2.156437104193534,
          -0.8666002610961997,
          -2.060766396359857,
          -3.8002053225803785,
          -0.7737433013782746,
          -3.008761793455116,
          -0.8741951463036203,
          -1.4403726939612678,
          -0.29389482532253863,
          -1.4765888016404,
          -2.239783881415444,
          0.00980383863069334,
          0.2795624603611264,
          -0.13095804258715815,
          1.7171910498057912,
          -0.4745558235724905,
          0.25094013959590966,
          -1.2993392616892407,
          -0.8548585100689814,
          -2.1110784902728805,
          -2.208640063515522,
          -3.084835134111268,
          -0.8417448320558896,
          0.5393381369547083,
          -0.18661989484108277,
          0.6596599346350289,
          -0.5349211480572619,
          -0.29568159002889116,
          0.1739246862443271,
          -1.309075183301583,
          -3.146804328761163,
          1.2983862325724056,
          -3.1757034806257542,
          0.3577744321898657,
          -0.1770210291419133,
          -1.280015858827592,
          0.17242529097363213,
          -3.094562866861237,
          -0.0979431614689642,
          0.6805070562461566,
          -2.6391985420520054,
          -0.04263068236609935,
          1.7448507645729938,
          1.7870228497994463,
          -0.6011760745558208,
          1.1191171593093645,
          3.3895041770326335,
          0.35895919143967503,
          -1.723403804722396,
          -3.3534116764347677,
          -1.5378140098568518,
          -3.4612890621702377,
          -2.0452925704720117,
          -0.6819317585122849,
          -0.7640473341213302,
          -3.1209993149309363,
          -0.3665026435956581,
          -0.42214070443778395,
          -2.0675602628446708,
          2.2585340811046932,
          1.8581959760888527,
          -1.6670740490086615,
          -1.6296772719863966,
          2.031750546601222,
          -2.1787365159137275,
          0.3586517393478019,
          -1.7244849877212203,
          -5.618323420656679,
          -3.2731031358247034,
          0.08701433765558719,
          -0.41176360025273473,
          -2.3510737966181465,
          -1.1308153660695073,
          -2.6654545157612213,
          0.983107089718837,
          0.9427986064677962,
          4.210158829521412,
          -2.30416906524622,
          -0.7602622958788686,
          -1.1592057058790544,
          -2.5993470997048145,
          2.1527579757716793,
          -2.5419259055749572,
          -0.936699025340256,
          -1.628069291246108,
          -2.2380690283880877,
          -0.5606929521961153,
          -1.7117879687472253,
          -0.9406170905910602,
          -0.46893431024963306,
          2.3819071896131594,
          -1.8656563348751583,
          -4.029429944436329,
          3.7014025570131315,
          0.3021494922395973,
          -0.6470345240133003,
          3.672196489854737,
          -0.30835312348523636,
          3.279321457281209,
          -4.040129449693877,
          -2.4898032701810213,
          0.3431446285733344,
          -0.17032514173495938,
          1.3630162301302198,
          1.4605938866761843,
          -6.56174485001249,
          0.6536238911472521,
          -2.199079229940458,
          2.685703011360415,
          -3.3861840492954185,
          -1.1722703133972658,
          -0.9887077872734369,
          -1.2477472985770057,
          -1.3500922886016582,
          -0.21343546093152854,
          -2.4774455947596534,
          -0.2221594012517405,
          0.3632463036593656,
          -4.702617723816225,
          -1.6658298021057871,
          -1.3119209250577064,
          -4.039247630971044,
          -0.5355745062990336,
          -0.2082766737052728,
          -2.3050339095480004,
          2.3087949558182714,
          -1.0034095380119505,
          -2.7548647380347377,
          -1.0495953073226956,
          3.042738691850664,
          -3.912844380818017,
          1.2073567781539691,
          -1.6774573307171483,
          -0.4651446489186719,
          -5.058275750611024,
          -4.112961383500837,
          1.3475085669637274,
          -2.5762447001687967,
          -3.940357653463266,
          -2.637716107473685,
          -2.8833438047265685,
          2.7398126822472673,
          -1.3233655452635418,
          -4.352413319758494,
          -5.4959061855890665,
          -1.6112075032129571,
          0.5599001183468277,
          -1.469023262550985,
          0.4975733829157887,
          -0.052802377074821494,
          -1.7618376386458694,
          1.8034121739531819,
          -3.5493319171552216,
          -4.122982854505696,
          -0.6501597784281319,
          -1.9430202803784558,
          3.618823964737521,
          -2.5557372014003295,
          -2.6418419106269964,
          -1.6125081020909127,
          -2.2864037674444955,
          -3.1048192771742116,
          -1.3125111658603763,
          1.5191239609908975,
          0.4602818396051629,
          1.4421437630822163,
          -3.302498997855759,
          -2.53197178624168,
          0.8910725655652108,
          -4.401618019701187,
          -1.9078728679846249,
          2.2160605000632128,
          -2.9929632619917075,
          -0.20820484314231014,
          -0.5374801237508102,
          -2.0556253179760002,
          1.8028996398291088,
          -1.6818607202255889,
          -3.3939893325418584,
          -0.46280370599509235,
          -0.692981446949602,
          -2.2985055636064073,
          1.1293637977127915,
          -0.3842566400082502,
          -2.9919605204622193,
          -0.5680463838216212,
          -0.9050954616141895,
          -1.4181093281239554,
          -3.3109240433414246,
          -2.432385117117215,
          0.04361202245333562,
          0.729397630368233,
          2.413648601561859,
          -4.152965319591361,
          -2.7145899783513334,
          3.585141661069919,
          0.3774147695930221,
          -0.9893610693386446,
          -0.40960252093690563,
          -3.3922888436240806,
          -1.54714638253103,
          2.5693181046438824,
          1.595940438470182,
          -0.44136950876473924,
          -1.900238454246197,
          -4.057432333351278,
          -2.238106324543904,
          -0.15579408586947108,
          0.22676816869859695,
          1.9216091068796022,
          -1.8223726008729513,
          -2.494851968973379,
          0.014661901822347723,
          -2.836605464681644,
          -2.725864769777655,
          -0.6616055413397609,
          -1.951998591937469,
          -3.4048175073106286,
          -2.9345273808734333,
          -2.4156642612986836,
          0.34776128142397855,
          -0.8441008874770732,
          -2.3353543264718777,
          -2.287112631904546,
          -2.7246391167378343,
          0.12983539837428437,
          1.290589722003236,
          0.284129298942132,
          -1.7947749916814,
          -0.9897960386398941,
          0.028758249113920442,
          -0.419851690002896,
          -2.7459044161970003,
          -1.4377271577365665,
          -2.2996271244306494,
          -0.45174450500490093,
          -1.0886871459586684,
          -1.7692065144639066,
          -1.408760445088985,
          0.2789461678191374,
          -1.933630731091283,
          -0.7338273835780803,
          -1.5120415181316142,
          1.3753031135213334,
          1.8343613515256934,
          -2.7881300230853157,
          -3.498720421748964,
          -3.155927253760679,
          -0.7428212435634769,
          -1.3132363320950806,
          -4.351995969673956,
          0.4852426078528742,
          -1.100399715780434,
          -1.7360613908504163,
          -2.292927414464462,
          0.8548792420053797,
          -0.8504257154994088,
          -5.502857056867911,
          -0.6422625779648512,
          -0.7151892610755295,
          2.0524239948117637,
          -0.3155984525559694,
          -2.471380047474278,
          0.113727634753503,
          -1.376880149512847,
          -1.9847552218664166,
          1.0376783670111602,
          -3.2280981673325435,
          -0.7025220056625736,
          0.37292895237582346,
          -1.2788693540713425,
          -1.4004009923112926,
          0.38691685973050594,
          -3.4057995511669628,
          -0.7064948463319416,
          -3.4646519249980448,
          -2.511742811632132,
          -1.6062816035286498,
          -1.0833619923170996,
          1.4672535901746935,
          -0.3847125490570531,
          -0.9896870684293071,
          -0.853957430081546,
          3.4136882055798923,
          -1.79622333684019,
          -1.1030463390659022,
          -3.347060265804553,
          -0.9529844205958357,
          0.3072516903135112,
          -1.2599952478220844,
          -2.7374410269123155,
          3.2313916725154135,
          -0.5221738484310372,
          -0.2991417978317953,
          -5.208571465788653,
          -3.941088486000978,
          -4.108863660963605,
          0.5671631210113866,
          -1.9795393732049218,
          -0.9970502125927173,
          0.11534550613827244,
          -1.9379162573393554,
          -3.1336203218461245,
          -3.295856754994422,
          2.5956422417455416,
          -0.03205693219315908,
          -1.690044618959544,
          -2.2094191101187888,
          -1.0199209930714348,
          -0.8011411967786217,
          0.4604501055284531,
          -4.046690345694513,
          -2.2462098708895244,
          0.6028609695548943,
          0.5992057805175486,
          -2.855246718716102,
          0.22104262489154491,
          -0.058795149510767586,
          -4.617062369975597,
          -1.327802242678251,
          -0.9581274449878459,
          -1.8340392752635064,
          -0.7017024328172748,
          -4.703452094286032,
          -1.5883413702675322,
          -3.595581835442417,
          0.5525635140877725,
          -4.875057931448977,
          -3.425821223128803,
          0.47040189860272674,
          1.3227469946596502,
          1.7131330537436487,
          -0.21668996115957562,
          -0.14240209670083182,
          0.5082273570164424,
          -0.4085799156199156,
          1.6043353268116713,
          2.0783043596337634,
          -0.7708944348527547,
          1.2656070098806955,
          1.2883085465881314,
          1.456884949009773,
          -4.661426556918881,
          2.498617106755675,
          1.1608739620785422,
          -2.8934870764828515,
          -3.9638256806671253,
          -0.39832286822834273,
          -0.281870673663689,
          -1.1045483864239656,
          -1.2264977922141767,
          -1.349852702125944,
          -4.885137325750339,
          -0.3478386409113978,
          -0.26414730124256636,
          0.2096409059302764,
          -0.7388484395917512,
          1.7582807719271538,
          -1.3778187122288543,
          -4.170568464860509,
          -0.808883547428641,
          -0.9419803182627208,
          -3.1208462560814376,
          -0.17854631744077065,
          -1.644915247097995,
          -3.105568694063242,
          -1.9399314587481655,
          1.9738259399022593,
          1.469067606075038,
          -3.8839673334031493,
          -0.32640554646567843,
          1.74851543802663,
          -3.5787672890190785,
          0.09229067796814006,
          -2.8545731571760853,
          4.884668641260885,
          -2.1678902141626892,
          -2.5876123000236326,
          -1.6699373238258253,
          0.022000459517146798,
          -4.123802714057034,
          -3.6126323922103123,
          -0.7420408711245458,
          0.4677923022453625,
          -1.0802650301082874,
          -4.81097441556983,
          -2.607915275673923,
          -2.7276285406750533,
          0.38935294110399066,
          -1.127712165301387,
          1.8753244004286493,
          -0.6945120947785628,
          -0.24925943717788057,
          -0.1986175070947379,
          -0.7814018046471801,
          -2.2231297561457555,
          -0.5777530614096159,
          -1.1091342038906051,
          -2.2337623651685283,
          0.09862031577284314,
          1.0757712556883616,
          -1.8887678617474117,
          -1.952781448767214,
          -3.619132572066585,
          0.8622427447361616,
          -2.055253491301324,
          1.1601691662262348,
          0.0674614112330294,
          -1.6192010736878413,
          -1.0444141883200693,
          -2.886025179907752,
          -1.6257442777821196,
          -1.8036609295362251,
          1.7697036873666625,
          -0.7602681695167416,
          0.28470278544782013,
          -0.24665344552893553,
          0.2505604379469788,
          -0.5852432777921033,
          -2.753073269842882,
          -3.003694626060395,
          -2.392088976990228,
          1.2610074078764986,
          -1.6508190902321833,
          -2.08689958393075,
          -0.8729135330136379,
          -3.6470730217311047,
          -0.18545162850741392,
          -1.3860438489730438,
          3.84215207293392,
          -1.5642531352089473,
          -3.6838436169634177
         ],
         "yaxis": "y"
        }
       ],
       "layout": {
        "legend": {
         "tracegroupgap": 0
        },
        "template": {
         "data": {
          "bar": [
           {
            "error_x": {
             "color": "#2a3f5f"
            },
            "error_y": {
             "color": "#2a3f5f"
            },
            "marker": {
             "line": {
              "color": "#E5ECF6",
              "width": 0.5
             },
             "pattern": {
              "fillmode": "overlay",
              "size": 10,
              "solidity": 0.2
             }
            },
            "type": "bar"
           }
          ],
          "barpolar": [
           {
            "marker": {
             "line": {
              "color": "#E5ECF6",
              "width": 0.5
             },
             "pattern": {
              "fillmode": "overlay",
              "size": 10,
              "solidity": 0.2
             }
            },
            "type": "barpolar"
           }
          ],
          "carpet": [
           {
            "aaxis": {
             "endlinecolor": "#2a3f5f",
             "gridcolor": "white",
             "linecolor": "white",
             "minorgridcolor": "white",
             "startlinecolor": "#2a3f5f"
            },
            "baxis": {
             "endlinecolor": "#2a3f5f",
             "gridcolor": "white",
             "linecolor": "white",
             "minorgridcolor": "white",
             "startlinecolor": "#2a3f5f"
            },
            "type": "carpet"
           }
          ],
          "choropleth": [
           {
            "colorbar": {
             "outlinewidth": 0,
             "ticks": ""
            },
            "type": "choropleth"
           }
          ],
          "contour": [
           {
            "colorbar": {
             "outlinewidth": 0,
             "ticks": ""
            },
            "colorscale": [
             [
              0,
              "#0d0887"
             ],
             [
              0.1111111111111111,
              "#46039f"
             ],
             [
              0.2222222222222222,
              "#7201a8"
             ],
             [
              0.3333333333333333,
              "#9c179e"
             ],
             [
              0.4444444444444444,
              "#bd3786"
             ],
             [
              0.5555555555555556,
              "#d8576b"
             ],
             [
              0.6666666666666666,
              "#ed7953"
             ],
             [
              0.7777777777777778,
              "#fb9f3a"
             ],
             [
              0.8888888888888888,
              "#fdca26"
             ],
             [
              1,
              "#f0f921"
             ]
            ],
            "type": "contour"
           }
          ],
          "contourcarpet": [
           {
            "colorbar": {
             "outlinewidth": 0,
             "ticks": ""
            },
            "type": "contourcarpet"
           }
          ],
          "heatmap": [
           {
            "colorbar": {
             "outlinewidth": 0,
             "ticks": ""
            },
            "colorscale": [
             [
              0,
              "#0d0887"
             ],
             [
              0.1111111111111111,
              "#46039f"
             ],
             [
              0.2222222222222222,
              "#7201a8"
             ],
             [
              0.3333333333333333,
              "#9c179e"
             ],
             [
              0.4444444444444444,
              "#bd3786"
             ],
             [
              0.5555555555555556,
              "#d8576b"
             ],
             [
              0.6666666666666666,
              "#ed7953"
             ],
             [
              0.7777777777777778,
              "#fb9f3a"
             ],
             [
              0.8888888888888888,
              "#fdca26"
             ],
             [
              1,
              "#f0f921"
             ]
            ],
            "type": "heatmap"
           }
          ],
          "heatmapgl": [
           {
            "colorbar": {
             "outlinewidth": 0,
             "ticks": ""
            },
            "colorscale": [
             [
              0,
              "#0d0887"
             ],
             [
              0.1111111111111111,
              "#46039f"
             ],
             [
              0.2222222222222222,
              "#7201a8"
             ],
             [
              0.3333333333333333,
              "#9c179e"
             ],
             [
              0.4444444444444444,
              "#bd3786"
             ],
             [
              0.5555555555555556,
              "#d8576b"
             ],
             [
              0.6666666666666666,
              "#ed7953"
             ],
             [
              0.7777777777777778,
              "#fb9f3a"
             ],
             [
              0.8888888888888888,
              "#fdca26"
             ],
             [
              1,
              "#f0f921"
             ]
            ],
            "type": "heatmapgl"
           }
          ],
          "histogram": [
           {
            "marker": {
             "pattern": {
              "fillmode": "overlay",
              "size": 10,
              "solidity": 0.2
             }
            },
            "type": "histogram"
           }
          ],
          "histogram2d": [
           {
            "colorbar": {
             "outlinewidth": 0,
             "ticks": ""
            },
            "colorscale": [
             [
              0,
              "#0d0887"
             ],
             [
              0.1111111111111111,
              "#46039f"
             ],
             [
              0.2222222222222222,
              "#7201a8"
             ],
             [
              0.3333333333333333,
              "#9c179e"
             ],
             [
              0.4444444444444444,
              "#bd3786"
             ],
             [
              0.5555555555555556,
              "#d8576b"
             ],
             [
              0.6666666666666666,
              "#ed7953"
             ],
             [
              0.7777777777777778,
              "#fb9f3a"
             ],
             [
              0.8888888888888888,
              "#fdca26"
             ],
             [
              1,
              "#f0f921"
             ]
            ],
            "type": "histogram2d"
           }
          ],
          "histogram2dcontour": [
           {
            "colorbar": {
             "outlinewidth": 0,
             "ticks": ""
            },
            "colorscale": [
             [
              0,
              "#0d0887"
             ],
             [
              0.1111111111111111,
              "#46039f"
             ],
             [
              0.2222222222222222,
              "#7201a8"
             ],
             [
              0.3333333333333333,
              "#9c179e"
             ],
             [
              0.4444444444444444,
              "#bd3786"
             ],
             [
              0.5555555555555556,
              "#d8576b"
             ],
             [
              0.6666666666666666,
              "#ed7953"
             ],
             [
              0.7777777777777778,
              "#fb9f3a"
             ],
             [
              0.8888888888888888,
              "#fdca26"
             ],
             [
              1,
              "#f0f921"
             ]
            ],
            "type": "histogram2dcontour"
           }
          ],
          "mesh3d": [
           {
            "colorbar": {
             "outlinewidth": 0,
             "ticks": ""
            },
            "type": "mesh3d"
           }
          ],
          "parcoords": [
           {
            "line": {
             "colorbar": {
              "outlinewidth": 0,
              "ticks": ""
             }
            },
            "type": "parcoords"
           }
          ],
          "pie": [
           {
            "automargin": true,
            "type": "pie"
           }
          ],
          "scatter": [
           {
            "fillpattern": {
             "fillmode": "overlay",
             "size": 10,
             "solidity": 0.2
            },
            "type": "scatter"
           }
          ],
          "scatter3d": [
           {
            "line": {
             "colorbar": {
              "outlinewidth": 0,
              "ticks": ""
             }
            },
            "marker": {
             "colorbar": {
              "outlinewidth": 0,
              "ticks": ""
             }
            },
            "type": "scatter3d"
           }
          ],
          "scattercarpet": [
           {
            "marker": {
             "colorbar": {
              "outlinewidth": 0,
              "ticks": ""
             }
            },
            "type": "scattercarpet"
           }
          ],
          "scattergeo": [
           {
            "marker": {
             "colorbar": {
              "outlinewidth": 0,
              "ticks": ""
             }
            },
            "type": "scattergeo"
           }
          ],
          "scattergl": [
           {
            "marker": {
             "colorbar": {
              "outlinewidth": 0,
              "ticks": ""
             }
            },
            "type": "scattergl"
           }
          ],
          "scattermapbox": [
           {
            "marker": {
             "colorbar": {
              "outlinewidth": 0,
              "ticks": ""
             }
            },
            "type": "scattermapbox"
           }
          ],
          "scatterpolar": [
           {
            "marker": {
             "colorbar": {
              "outlinewidth": 0,
              "ticks": ""
             }
            },
            "type": "scatterpolar"
           }
          ],
          "scatterpolargl": [
           {
            "marker": {
             "colorbar": {
              "outlinewidth": 0,
              "ticks": ""
             }
            },
            "type": "scatterpolargl"
           }
          ],
          "scatterternary": [
           {
            "marker": {
             "colorbar": {
              "outlinewidth": 0,
              "ticks": ""
             }
            },
            "type": "scatterternary"
           }
          ],
          "surface": [
           {
            "colorbar": {
             "outlinewidth": 0,
             "ticks": ""
            },
            "colorscale": [
             [
              0,
              "#0d0887"
             ],
             [
              0.1111111111111111,
              "#46039f"
             ],
             [
              0.2222222222222222,
              "#7201a8"
             ],
             [
              0.3333333333333333,
              "#9c179e"
             ],
             [
              0.4444444444444444,
              "#bd3786"
             ],
             [
              0.5555555555555556,
              "#d8576b"
             ],
             [
              0.6666666666666666,
              "#ed7953"
             ],
             [
              0.7777777777777778,
              "#fb9f3a"
             ],
             [
              0.8888888888888888,
              "#fdca26"
             ],
             [
              1,
              "#f0f921"
             ]
            ],
            "type": "surface"
           }
          ],
          "table": [
           {
            "cells": {
             "fill": {
              "color": "#EBF0F8"
             },
             "line": {
              "color": "white"
             }
            },
            "header": {
             "fill": {
              "color": "#C8D4E3"
             },
             "line": {
              "color": "white"
             }
            },
            "type": "table"
           }
          ]
         },
         "layout": {
          "annotationdefaults": {
           "arrowcolor": "#2a3f5f",
           "arrowhead": 0,
           "arrowwidth": 1
          },
          "autotypenumbers": "strict",
          "coloraxis": {
           "colorbar": {
            "outlinewidth": 0,
            "ticks": ""
           }
          },
          "colorscale": {
           "diverging": [
            [
             0,
             "#8e0152"
            ],
            [
             0.1,
             "#c51b7d"
            ],
            [
             0.2,
             "#de77ae"
            ],
            [
             0.3,
             "#f1b6da"
            ],
            [
             0.4,
             "#fde0ef"
            ],
            [
             0.5,
             "#f7f7f7"
            ],
            [
             0.6,
             "#e6f5d0"
            ],
            [
             0.7,
             "#b8e186"
            ],
            [
             0.8,
             "#7fbc41"
            ],
            [
             0.9,
             "#4d9221"
            ],
            [
             1,
             "#276419"
            ]
           ],
           "sequential": [
            [
             0,
             "#0d0887"
            ],
            [
             0.1111111111111111,
             "#46039f"
            ],
            [
             0.2222222222222222,
             "#7201a8"
            ],
            [
             0.3333333333333333,
             "#9c179e"
            ],
            [
             0.4444444444444444,
             "#bd3786"
            ],
            [
             0.5555555555555556,
             "#d8576b"
            ],
            [
             0.6666666666666666,
             "#ed7953"
            ],
            [
             0.7777777777777778,
             "#fb9f3a"
            ],
            [
             0.8888888888888888,
             "#fdca26"
            ],
            [
             1,
             "#f0f921"
            ]
           ],
           "sequentialminus": [
            [
             0,
             "#0d0887"
            ],
            [
             0.1111111111111111,
             "#46039f"
            ],
            [
             0.2222222222222222,
             "#7201a8"
            ],
            [
             0.3333333333333333,
             "#9c179e"
            ],
            [
             0.4444444444444444,
             "#bd3786"
            ],
            [
             0.5555555555555556,
             "#d8576b"
            ],
            [
             0.6666666666666666,
             "#ed7953"
            ],
            [
             0.7777777777777778,
             "#fb9f3a"
            ],
            [
             0.8888888888888888,
             "#fdca26"
            ],
            [
             1,
             "#f0f921"
            ]
           ]
          },
          "colorway": [
           "#636efa",
           "#EF553B",
           "#00cc96",
           "#ab63fa",
           "#FFA15A",
           "#19d3f3",
           "#FF6692",
           "#B6E880",
           "#FF97FF",
           "#FECB52"
          ],
          "font": {
           "color": "#2a3f5f"
          },
          "geo": {
           "bgcolor": "white",
           "lakecolor": "white",
           "landcolor": "#E5ECF6",
           "showlakes": true,
           "showland": true,
           "subunitcolor": "white"
          },
          "hoverlabel": {
           "align": "left"
          },
          "hovermode": "closest",
          "mapbox": {
           "style": "light"
          },
          "paper_bgcolor": "white",
          "plot_bgcolor": "#E5ECF6",
          "polar": {
           "angularaxis": {
            "gridcolor": "white",
            "linecolor": "white",
            "ticks": ""
           },
           "bgcolor": "#E5ECF6",
           "radialaxis": {
            "gridcolor": "white",
            "linecolor": "white",
            "ticks": ""
           }
          },
          "scene": {
           "xaxis": {
            "backgroundcolor": "#E5ECF6",
            "gridcolor": "white",
            "gridwidth": 2,
            "linecolor": "white",
            "showbackground": true,
            "ticks": "",
            "zerolinecolor": "white"
           },
           "yaxis": {
            "backgroundcolor": "#E5ECF6",
            "gridcolor": "white",
            "gridwidth": 2,
            "linecolor": "white",
            "showbackground": true,
            "ticks": "",
            "zerolinecolor": "white"
           },
           "zaxis": {
            "backgroundcolor": "#E5ECF6",
            "gridcolor": "white",
            "gridwidth": 2,
            "linecolor": "white",
            "showbackground": true,
            "ticks": "",
            "zerolinecolor": "white"
           }
          },
          "shapedefaults": {
           "line": {
            "color": "#2a3f5f"
           }
          },
          "ternary": {
           "aaxis": {
            "gridcolor": "white",
            "linecolor": "white",
            "ticks": ""
           },
           "baxis": {
            "gridcolor": "white",
            "linecolor": "white",
            "ticks": ""
           },
           "bgcolor": "#E5ECF6",
           "caxis": {
            "gridcolor": "white",
            "linecolor": "white",
            "ticks": ""
           }
          },
          "title": {
           "x": 0.05
          },
          "xaxis": {
           "automargin": true,
           "gridcolor": "white",
           "linecolor": "white",
           "ticks": "",
           "title": {
            "standoff": 15
           },
           "zerolinecolor": "white",
           "zerolinewidth": 2
          },
          "yaxis": {
           "automargin": true,
           "gridcolor": "white",
           "linecolor": "white",
           "ticks": "",
           "title": {
            "standoff": 15
           },
           "zerolinecolor": "white",
           "zerolinewidth": 2
          }
         }
        },
        "title": {
         "text": "Call"
        },
        "xaxis": {
         "anchor": "y",
         "domain": [
          0,
          1
         ],
         "title": {
          "text": "x"
         }
        },
        "yaxis": {
         "anchor": "x",
         "domain": [
          0,
          1
         ],
         "title": {
          "text": "y"
         }
        }
       }
      }
     },
     "metadata": {},
     "output_type": "display_data"
    }
   ],
   "source": [
    "loc = px.scatter(df, x=\"x\", y=\"y\",title='Location')\n",
    "\n",
    "loc.show()"
   ]
  }
 ],
 "metadata": {
  "kernelspec": {
   "display_name": "Python 3",
   "language": "python",
   "name": "python3"
  },
  "language_info": {
   "codemirror_mode": {
    "name": "ipython",
    "version": 3
   },
   "file_extension": ".py",
   "mimetype": "text/x-python",
   "name": "python",
   "nbconvert_exporter": "python",
   "pygments_lexer": "ipython3",
   "version": "3.11.7"
  }
 },
 "nbformat": 4,
 "nbformat_minor": 2
}
